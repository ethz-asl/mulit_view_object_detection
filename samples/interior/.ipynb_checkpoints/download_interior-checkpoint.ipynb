{
 "cells": [
  {
   "cell_type": "code",
   "execution_count": null,
   "metadata": {
    "scrolled": true
   },
   "outputs": [
    {
     "name": "stdout",
     "output_type": "stream",
     "text": [
      "Number of Living_rooms: 250\n",
      "Number of Bedrooms: 75\n",
      "Number of Dining_rooms: 125\n",
      "Number of Guest_rooms: 50\n",
      "3FO4MMTWI01K_Guest_room.zip\n",
      "3FO4MMTVR3VT_Guest_room.zip\n",
      "3FO4MMN8Q7SM_Guest_room.zip\n",
      "3FO4MMLDUKDJ_Living_room.zip\n",
      "3FO4MMLDUKDJ_Dining_room.zip\n",
      "3FO4MMLD2AN3_Living_room.zip\n",
      "3FO4MMLCRTM9_Living_room.zip\n",
      "3FO4MMKKYVFQ_Living_room.zip\n",
      "3FO4MMJXJS4X_Living_room.zip\n",
      "3FO4MMJVI5DI_Living_room.zip\n",
      "3FO4MMJSDU7T_Bedroom.zip\n",
      "3FO4MMJO698O_Bedroom.zip\n",
      "3FO4MMJNW9X0_Bedroom.zip\n",
      "3FO4MMJNTEM5_Bedroom.zip\n",
      "3FO4MMJNGLKB_Bedroom.zip\n",
      "3FO4MMJNA0UC_Bedroom.zip\n",
      "3FO4MMJN6UIE_Bedroom.zip\n",
      "3FO4MMJN3SIH_Guest_room.zip\n",
      "3FO4MMJN3SIH_Bedroom.zip\n",
      "3FO4MMJMU7KW_Bedroom.zip\n",
      "3FO4MMIHCUU1_Bedroom.zip\n",
      "3FO4MMIH71VA_Bedroom.zip\n",
      "3FO4MMIH02S7_Bedroom.zip\n",
      "3FO4MMIGW45B_Living_room.zip\n",
      "3FO4MMIGW45B_Bedroom.zip\n",
      "3FO4MMIGQXKR_Bedroom.zip\n",
      "3FO4MMIGOGN1_Bedroom.zip\n",
      "3FO4MMIGJEFI_Bedroom.zip\n",
      "3FO4MMIGEFK1_Bedroom.zip\n",
      "3FO4MMHX2CQ0_Bedroom.zip\n",
      "3FO4MMHM6D62_Bedroom.zip\n",
      "3FO4MMHKTD30_Bedroom.zip\n",
      "3FO4MMHCG9OC_Bedroom.zip\n",
      "3FO4MMH005SW_Bedroom.zip\n",
      "3FO4MMGF0A2L_Bedroom.zip\n",
      "3FO4MMDBVKJ0_Bedroom.zip\n",
      "3FO4MMCED0MH_Bedroom.zip\n",
      "3FO4MMBV17TJ_Bedroom.zip\n",
      "3FO4MMAXJQHN_Bedroom.zip\n",
      "3FO4MMA2FUB0_Living_room.zip\n",
      "3FO4MMA2FUB0_Dining_room.zip\n",
      "3FO4MMA2FUB0_Bedroom.zip\n",
      "3FO4MM9YHE42_Living_room.zip\n",
      "3FO4MM9YHE42_Bedroom.zip\n",
      "3FO4MM9365G7_Living_room.zip\n",
      "3FO4MM906PSY_Bedroom.zip\n",
      "3FO4MM5X4576_Bedroom.zip\n",
      "3FO4MM4CS5N6_Bedroom.zip\n",
      "3FO4MM1YJXNW_Bedroom.zip\n",
      "3FO4MM1VT8BA_Dining_room.zip\n",
      "3FO4MM1VT8BA_Bedroom.zip\n",
      "3FO4MM1VAYNT_Bedroom.zip\n",
      "3FO4MM1V9G6D_Bedroom.zip\n",
      "3FO4MM1V5WGB_Bedroom.zip\n",
      "3FO4MM1V06TL_Living_room.zip\n",
      "3FO4MM1V06TL_Bedroom.zip\n",
      "3FO4MM1UYLRF_Living_room.zip\n",
      "3FO4MM1UYLRF_Dining_room.zip\n",
      "3FO4MM1UYLRF_Bedroom.zip\n",
      "3FO4MM1UORDH_Bedroom.zip\n",
      "3FO4MM1UKXMC_Bedroom.zip\n",
      "3FO4MM1UKDK6_Bedroom.zip\n",
      "3FO4MM1U828H_Bedroom.zip\n",
      "3FO4MM1U1TVM_Bedroom.zip\n",
      "3FO4MM1U0825_Bedroom.zip\n",
      "3FO4MM1TYTO1_Bedroom.zip\n",
      "3FO4MM1TXYKR_Living_room.zip\n",
      "3FO4MM1TXYKR_Dining_room.zip\n",
      "3FO4MM1TXYKR_Bedroom.zip\n",
      "3FO4MM1TPKC9_Bedroom.zip\n",
      "3FO4MM1TPH08_Bedroom.zip\n",
      "3FO4MM1TP3M4_Bedroom.zip\n",
      "3FO4MM1TNU5Q_Bedroom.zip\n",
      "3FO4MM1TN02H_Bedroom.zip\n",
      "3FO4MM1TFFW8_Living_room.zip\n",
      "3FO4MM1TFFW8_Bedroom.zip\n",
      "3FO4MM1T66KG_Bedroom.zip\n",
      "3FO4MM1T1RR5_Bedroom.zip\n",
      "3FO4MM1I5I64_Bedroom.zip\n",
      "3FO4MM0YEXV2_Bedroom.zip\n",
      "3FO4MM01U8U7_Bedroom.zip\n",
      "3FO4MLYKS1C2_Bedroom.zip\n",
      "3FO4MLYBKLFM_Living_room.zip\n",
      "3FO4MLYAX90X_Bedroom.zip\n",
      "3FO4MLXXUOXK_Bedroom.zip\n",
      "3FO4MLXUMV2T_Living_room.zip\n",
      "3FO4MLXUGXR2_Bedroom.zip\n",
      "3FO4MLXU5ATK_Living_room.zip\n",
      "3FO4MLXU5ATK_Bedroom.zip\n",
      "3FO4MLXTVLJY_Bedroom.zip\n",
      "3FO4MLXTILT3_Dining_room.zip\n",
      "3FO4MLXTILT3_Bedroom.zip\n",
      "3FO4MLXTIIH2_Living_room.zip\n",
      "3FO4MLXTIIH2_Bedroom.zip\n",
      "3FO4MLXTI1QW_Living_room.zip\n",
      "3FO4MLXTGBKE_Bedroom.zip\n",
      "3FO4MLXTBTF2_Living_room.zip\n",
      "3FO4MLXTBTF2_Bedroom.zip\n",
      "3FO4MLXT9MIE_Living_room.zip\n",
      "3FO4MLXT9MIE_Bedroom.zip\n",
      "3FO4MLXT60GB_Bedroom.zip\n",
      "3FO4MLXSPC3M_Living_room.zip\n",
      "3FO4MLXSPC3M_Bedroom.zip\n",
      "3FO4MLXSOXPI_Bedroom.zip\n",
      "3FO4MLXRN6EI_Bedroom.zip\n",
      "3FO4MLXQWQYW_Living_room.zip\n",
      "3FO4MLXQWQYW_Bedroom.zip\n",
      "3FO4MLXQVP7L_Living_room.zip\n",
      "3FO4MLXQVP7L_Bedroom.zip\n",
      "3FO4MLXQTVO2_Living_room.zip\n",
      "3FO4MLXQTVO2_Bedroom.zip\n"
     ]
    },
    {
     "name": "stderr",
     "output_type": "stream",
     "text": [
      "Downloading...\n",
      "From: https://drive.google.com/uc?id=1IdKf7szT4DK38sYl9B3HPmFevh0_20zR&export=download\n",
      "To: /media/scratch1/erbachj/Mask_RCNN/data/InteriorNet/data/HD7/train/3FO4MLXQTVO2_Bedroom.zip\n",
      "35.7MB [00:00, 50.1MB/s]\n"
     ]
    },
    {
     "name": "stdout",
     "output_type": "stream",
     "text": [
      "3FO4MLXQJ0HS_Bedroom.zip\n"
     ]
    },
    {
     "name": "stderr",
     "output_type": "stream",
     "text": [
      "Downloading...\n",
      "From: https://drive.google.com/uc?id=1JriWDPpeZ3yYPNxlCL1uVAB9zsjTZQQJ&export=download\n",
      "To: /media/scratch1/erbachj/Mask_RCNN/data/InteriorNet/data/HD7/train/3FO4MLXQJ0HS_Bedroom.zip\n",
      "60.8MB [00:01, 49.8MB/s]\n"
     ]
    },
    {
     "name": "stdout",
     "output_type": "stream",
     "text": [
      "3FO4MLXOM1KR_Bedroom.zip\n"
     ]
    },
    {
     "name": "stderr",
     "output_type": "stream",
     "text": [
      "Downloading...\n",
      "From: https://drive.google.com/uc?id=1ciho9Rnq0pJebyb-4Q_-1XtJpxZEuH28&export=download\n",
      "To: /media/scratch1/erbachj/Mask_RCNN/data/InteriorNet/data/HD7/train/3FO4MLXOM1KR_Bedroom.zip\n",
      "55.1MB [00:00, 78.8MB/s]\n"
     ]
    },
    {
     "name": "stdout",
     "output_type": "stream",
     "text": [
      "3FO4MLXLWQDK_Bedroom.zip\n"
     ]
    },
    {
     "name": "stderr",
     "output_type": "stream",
     "text": [
      "Downloading...\n",
      "From: https://drive.google.com/uc?id=1Cuq0f8P4g0BpZmDKvLxIVWdVfwFXsIlV&export=download\n",
      "To: /media/scratch1/erbachj/Mask_RCNN/data/InteriorNet/data/HD7/train/3FO4MLXLWQDK_Bedroom.zip\n",
      "50.9MB [00:01, 35.3MB/s]\n"
     ]
    },
    {
     "name": "stdout",
     "output_type": "stream",
     "text": [
      "3FO4MLXL3VKX_Bedroom.zip\n"
     ]
    },
    {
     "name": "stderr",
     "output_type": "stream",
     "text": [
      "Downloading...\n",
      "From: https://drive.google.com/uc?id=1P5jUW01biCB0wEutfwQm2pzTjkrsfsvR&export=download\n",
      "To: /media/scratch1/erbachj/Mask_RCNN/data/InteriorNet/data/HD7/train/3FO4MLXL3VKX_Bedroom.zip\n",
      "48.3MB [00:01, 31.9MB/s]\n"
     ]
    },
    {
     "name": "stdout",
     "output_type": "stream",
     "text": [
      "3FO4MLXKX9B9_Bedroom.zip\n"
     ]
    },
    {
     "name": "stderr",
     "output_type": "stream",
     "text": [
      "Downloading...\n",
      "From: https://drive.google.com/uc?id=1DjYU7PG5GM_bkcFSamEWNQAEZSltVEQE&export=download\n",
      "To: /media/scratch1/erbachj/Mask_RCNN/data/InteriorNet/data/HD7/train/3FO4MLXKX9B9_Bedroom.zip\n",
      "58.7MB [00:01, 51.1MB/s]\n"
     ]
    },
    {
     "name": "stdout",
     "output_type": "stream",
     "text": [
      "3FO4MLX54JDN_Bedroom.zip\n"
     ]
    },
    {
     "name": "stderr",
     "output_type": "stream",
     "text": [
      "Downloading...\n",
      "From: https://drive.google.com/uc?id=1v7E6Yb_jwavGrimK7o-77uEDEmu9lWBk&export=download\n",
      "To: /media/scratch1/erbachj/Mask_RCNN/data/InteriorNet/data/HD7/train/3FO4MLX54JDN_Bedroom.zip\n",
      "42.0MB [00:01, 33.3MB/s]\n"
     ]
    },
    {
     "name": "stdout",
     "output_type": "stream",
     "text": [
      "3FO4MLWVD681_Bedroom.zip\n"
     ]
    },
    {
     "name": "stderr",
     "output_type": "stream",
     "text": [
      "Downloading...\n",
      "From: https://drive.google.com/uc?id=1Isynqojv118X_S9yP9UAME-DNN914oyo&export=download\n",
      "To: /media/scratch1/erbachj/Mask_RCNN/data/InteriorNet/data/HD7/train/3FO4MLWVD681_Bedroom.zip\n",
      "57.8MB [00:01, 33.7MB/s]\n"
     ]
    },
    {
     "name": "stdout",
     "output_type": "stream",
     "text": [
      "3FO4MLTARDRD_Living_room.zip\n",
      "3FO4MLTARDRD_Bedroom.zip\n"
     ]
    },
    {
     "name": "stderr",
     "output_type": "stream",
     "text": [
      "Downloading...\n",
      "From: https://drive.google.com/uc?id=1YdpvD9pZpbdxcbZWd6bHh3t8sI3By9PH&export=download\n",
      "To: /media/scratch1/erbachj/Mask_RCNN/data/InteriorNet/data/HD7/train/3FO4MLTARDRD_Bedroom.zip\n",
      "60.5MB [00:01, 32.7MB/s]\n"
     ]
    },
    {
     "name": "stdout",
     "output_type": "stream",
     "text": [
      "3FO4MLT7XS3V_Bedroom.zip\n"
     ]
    },
    {
     "name": "stderr",
     "output_type": "stream",
     "text": [
      "Downloading...\n",
      "From: https://drive.google.com/uc?id=1dzYFhU-Me0PpkNpoVTB-GoIWzR0j0uOF&export=download\n",
      "To: /media/scratch1/erbachj/Mask_RCNN/data/InteriorNet/data/HD7/train/3FO4MLT7XS3V_Bedroom.zip\n",
      "41.5MB [00:00, 44.2MB/s]\n"
     ]
    },
    {
     "name": "stdout",
     "output_type": "stream",
     "text": [
      "3FO4MLT7ARA0_Bedroom.zip\n"
     ]
    },
    {
     "name": "stderr",
     "output_type": "stream",
     "text": [
      "Downloading...\n",
      "From: https://drive.google.com/uc?id=1wtbXm_C-QzsJYd417IWxCsAnRR5ozAg2&export=download\n",
      "To: /media/scratch1/erbachj/Mask_RCNN/data/InteriorNet/data/HD7/train/3FO4MLT7ARA0_Bedroom.zip\n",
      "52.3MB [00:01, 33.1MB/s]\n"
     ]
    },
    {
     "name": "stdout",
     "output_type": "stream",
     "text": [
      "3FO4MLT702RS_Bedroom.zip\n"
     ]
    },
    {
     "name": "stderr",
     "output_type": "stream",
     "text": [
      "Downloading...\n",
      "From: https://drive.google.com/uc?id=1PkNg-2j-bpfhWwjGQl3puEhjM8brtKfG&export=download\n",
      "To: /media/scratch1/erbachj/Mask_RCNN/data/InteriorNet/data/HD7/train/3FO4MLT702RS_Bedroom.zip\n",
      "58.6MB [00:01, 57.9MB/s]\n"
     ]
    },
    {
     "name": "stdout",
     "output_type": "stream",
     "text": [
      "3FO4MLT6S71Q_Bedroom.zip\n"
     ]
    },
    {
     "name": "stderr",
     "output_type": "stream",
     "text": [
      "Downloading...\n",
      "From: https://drive.google.com/uc?id=140v4EuCJ-ilAZF4BQHeGokuCzWqnagtP&export=download\n",
      "To: /media/scratch1/erbachj/Mask_RCNN/data/InteriorNet/data/HD7/train/3FO4MLT6S71Q_Bedroom.zip\n",
      "59.4MB [00:02, 27.2MB/s]\n"
     ]
    },
    {
     "name": "stdout",
     "output_type": "stream",
     "text": [
      "3FO4MLT5HIR3_Bedroom.zip\n"
     ]
    },
    {
     "name": "stderr",
     "output_type": "stream",
     "text": [
      "Downloading...\n",
      "From: https://drive.google.com/uc?id=1entRABo57xZmt332QkiE2D7N3tQq71SJ&export=download\n",
      "To: /media/scratch1/erbachj/Mask_RCNN/data/InteriorNet/data/HD7/train/3FO4MLT5HIR3_Bedroom.zip\n",
      "55.6MB [00:00, 58.3MB/s]\n"
     ]
    },
    {
     "name": "stdout",
     "output_type": "stream",
     "text": [
      "3FO4MLT2TAC7_Living_room.zip\n",
      "3FO4MLT2TAC7_Bedroom.zip\n"
     ]
    },
    {
     "name": "stderr",
     "output_type": "stream",
     "text": [
      "Downloading...\n",
      "From: https://drive.google.com/uc?id=1TeUcP9NkBuGgS4QLgZYMAKH8gXMfLM14&export=download\n",
      "To: /media/scratch1/erbachj/Mask_RCNN/data/InteriorNet/data/HD7/train/3FO4MLT2TAC7_Bedroom.zip\n",
      "49.0MB [00:01, 26.7MB/s]\n"
     ]
    },
    {
     "name": "stdout",
     "output_type": "stream",
     "text": [
      "3FO4MLT143T7_Bedroom.zip\n"
     ]
    },
    {
     "name": "stderr",
     "output_type": "stream",
     "text": [
      "Downloading...\n",
      "From: https://drive.google.com/uc?id=19II7BfbCvivbjMhLgGOWJ8JIAhT6h3zA&export=download\n",
      "To: /media/scratch1/erbachj/Mask_RCNN/data/InteriorNet/data/HD7/train/3FO4MLT143T7_Bedroom.zip\n",
      "47.6MB [00:01, 34.6MB/s]\n"
     ]
    },
    {
     "name": "stdout",
     "output_type": "stream",
     "text": [
      "3FO4MLT126XM_Bedroom.zip\n"
     ]
    },
    {
     "name": "stderr",
     "output_type": "stream",
     "text": [
      "Downloading...\n",
      "From: https://drive.google.com/uc?id=1wCmfakjY2Td9CuZPuiiK9i0koDfaRBgb&export=download\n",
      "To: /media/scratch1/erbachj/Mask_RCNN/data/InteriorNet/data/HD7/train/3FO4MLT126XM_Bedroom.zip\n",
      "56.8MB [00:01, 31.7MB/s]\n"
     ]
    },
    {
     "name": "stdout",
     "output_type": "stream",
     "text": [
      "3FO4MLT0E9GR_Bedroom.zip\n"
     ]
    },
    {
     "name": "stderr",
     "output_type": "stream",
     "text": [
      "Downloading...\n",
      "From: https://drive.google.com/uc?id=1-FKwqmvlaSBliR4uZgQkqkPVmFA-3LoH&export=download\n",
      "To: /media/scratch1/erbachj/Mask_RCNN/data/InteriorNet/data/HD7/train/3FO4MLT0E9GR_Bedroom.zip\n",
      "60.3MB [00:01, 30.5MB/s]\n"
     ]
    },
    {
     "name": "stdout",
     "output_type": "stream",
     "text": [
      "3FO4MLSYGRM2_Bedroom.zip\n"
     ]
    },
    {
     "name": "stderr",
     "output_type": "stream",
     "text": [
      "Downloading...\n",
      "From: https://drive.google.com/uc?id=12oM0YXrBfawiBuT6IGqwyxG5323iluFJ&export=download\n",
      "To: /media/scratch1/erbachj/Mask_RCNN/data/InteriorNet/data/HD7/train/3FO4MLSYGRM2_Bedroom.zip\n",
      "54.9MB [00:01, 29.4MB/s]\n"
     ]
    },
    {
     "name": "stdout",
     "output_type": "stream",
     "text": [
      "3FO4MLSYC3RN_Bedroom.zip\n"
     ]
    },
    {
     "name": "stderr",
     "output_type": "stream",
     "text": [
      "Downloading...\n",
      "From: https://drive.google.com/uc?id=1bn4mHIAn4xbXLFPxBk9xRlp-8kYvGEve&export=download\n",
      "To: /media/scratch1/erbachj/Mask_RCNN/data/InteriorNet/data/HD7/train/3FO4MLSYC3RN_Bedroom.zip\n",
      "72.0MB [00:03, 19.7MB/s]\n"
     ]
    },
    {
     "name": "stdout",
     "output_type": "stream",
     "text": [
      "3FO4MLSSCYH4_Bedroom.zip\n"
     ]
    },
    {
     "name": "stderr",
     "output_type": "stream",
     "text": [
      "Downloading...\n",
      "From: https://drive.google.com/uc?id=1d1mMUHYNHODQFZEs1iSaOu4m78FNw0MR&export=download\n",
      "To: /media/scratch1/erbachj/Mask_RCNN/data/InteriorNet/data/HD7/train/3FO4MLSSCYH4_Bedroom.zip\n",
      "50.6MB [00:00, 57.8MB/s]\n"
     ]
    },
    {
     "name": "stdout",
     "output_type": "stream",
     "text": [
      "3FO4MLSSB9AL_Bedroom.zip\n"
     ]
    },
    {
     "name": "stderr",
     "output_type": "stream",
     "text": [
      "Downloading...\n",
      "From: https://drive.google.com/uc?id=1wxvOC58AbH0tfFM9wPlSbjPsJmTCeYhS&export=download\n",
      "To: /media/scratch1/erbachj/Mask_RCNN/data/InteriorNet/data/HD7/train/3FO4MLSSB9AL_Bedroom.zip\n",
      "59.6MB [00:00, 63.9MB/s]\n"
     ]
    },
    {
     "name": "stdout",
     "output_type": "stream",
     "text": [
      "3FO4MLSS1EVN_Bedroom.zip\n"
     ]
    },
    {
     "name": "stderr",
     "output_type": "stream",
     "text": [
      "Downloading...\n",
      "From: https://drive.google.com/uc?id=15tEGl_oXcyHBoNx8WkWGTuB_8s8Ml6xB&export=download\n",
      "To: /media/scratch1/erbachj/Mask_RCNN/data/InteriorNet/data/HD7/train/3FO4MLSS1EVN_Bedroom.zip\n",
      "58.5MB [00:01, 51.8MB/s]\n"
     ]
    },
    {
     "name": "stdout",
     "output_type": "stream",
     "text": [
      "3FO4MLSRONM5_Living_room.zip\n",
      "3FO4MLSROA91_Bedroom.zip\n"
     ]
    },
    {
     "name": "stderr",
     "output_type": "stream",
     "text": [
      "Downloading...\n",
      "From: https://drive.google.com/uc?id=11fPfX8h3rGgMtEAj7RFrvJZg9psMfjQ2&export=download\n",
      "To: /media/scratch1/erbachj/Mask_RCNN/data/InteriorNet/data/HD7/train/3FO4MLSROA91_Bedroom.zip\n",
      "59.2MB [00:01, 30.3MB/s]\n"
     ]
    },
    {
     "name": "stdout",
     "output_type": "stream",
     "text": [
      "3FO4MLSRFHME_Bedroom.zip\n"
     ]
    },
    {
     "name": "stderr",
     "output_type": "stream",
     "text": [
      "Downloading...\n",
      "From: https://drive.google.com/uc?id=1ProJovwinmpxFgqTaKoj1y98cEvbb20E&export=download\n",
      "To: /media/scratch1/erbachj/Mask_RCNN/data/InteriorNet/data/HD7/train/3FO4MLSRFHME_Bedroom.zip\n",
      "51.7MB [00:00, 98.6MB/s]\n"
     ]
    },
    {
     "name": "stdout",
     "output_type": "stream",
     "text": [
      "3FO4MLSR4VH8_Bedroom.zip\n"
     ]
    },
    {
     "name": "stderr",
     "output_type": "stream",
     "text": [
      "Downloading...\n",
      "From: https://drive.google.com/uc?id=1wBJME_6eRrv6yZ-kEZHLjagYaFi7w3bq&export=download\n",
      "To: /media/scratch1/erbachj/Mask_RCNN/data/InteriorNet/data/HD7/train/3FO4MLSR4VH8_Bedroom.zip\n",
      "48.9MB [00:00, 69.0MB/s]\n"
     ]
    },
    {
     "name": "stdout",
     "output_type": "stream",
     "text": [
      "3FO4MLSC83C6_Bedroom.zip\n"
     ]
    },
    {
     "name": "stderr",
     "output_type": "stream",
     "text": [
      "Downloading...\n",
      "From: https://drive.google.com/uc?id=1QacSz1j_JlfAqwGwCxge503trOLv0xK7&export=download\n",
      "To: /media/scratch1/erbachj/Mask_RCNN/data/InteriorNet/data/HD7/train/3FO4MLSC83C6_Bedroom.zip\n",
      "62.3MB [00:01, 39.8MB/s]\n"
     ]
    },
    {
     "name": "stdout",
     "output_type": "stream",
     "text": [
      "3FO4MLS2PJ0P_Living_room.zip\n",
      "3FO4MLQPD4M1_Bedroom.zip\n"
     ]
    },
    {
     "name": "stderr",
     "output_type": "stream",
     "text": [
      "Downloading...\n",
      "From: https://drive.google.com/uc?id=1IZRyeF27kaHLgj9MYXaJNASQlL-S8g_d&export=download\n",
      "To: /media/scratch1/erbachj/Mask_RCNN/data/InteriorNet/data/HD7/train/3FO4MLQPD4M1_Bedroom.zip\n",
      "70.6MB [00:04, 14.7MB/s]\n"
     ]
    },
    {
     "name": "stdout",
     "output_type": "stream",
     "text": [
      "3FO4MLP2BEPE_Bedroom.zip\n"
     ]
    },
    {
     "name": "stderr",
     "output_type": "stream",
     "text": [
      "Downloading...\n",
      "From: https://drive.google.com/uc?id=1UyNYlwyeRsAT1f-g3ZpCh6QAbCH1Hwuf&export=download\n",
      "To: /media/scratch1/erbachj/Mask_RCNN/data/InteriorNet/data/HD7/train/3FO4MLP2BEPE_Bedroom.zip\n",
      "55.9MB [00:01, 31.6MB/s]\n"
     ]
    },
    {
     "name": "stdout",
     "output_type": "stream",
     "text": [
      "3FO4MLP0MQOU_Bedroom.zip\n"
     ]
    },
    {
     "name": "stderr",
     "output_type": "stream",
     "text": [
      "Downloading...\n",
      "From: https://drive.google.com/uc?id=14OQ_Y1R6MEWxZb8gLQblO9jv8gyFrkmD&export=download\n",
      "To: /media/scratch1/erbachj/Mask_RCNN/data/InteriorNet/data/HD7/train/3FO4MLP0MQOU_Bedroom.zip\n",
      "61.0MB [00:00, 65.6MB/s]\n"
     ]
    },
    {
     "name": "stdout",
     "output_type": "stream",
     "text": [
      "3FO4MLNMEHAX_Bedroom.zip\n"
     ]
    },
    {
     "name": "stderr",
     "output_type": "stream",
     "text": [
      "Downloading...\n",
      "From: https://drive.google.com/uc?id=1MieSgYPrgPjAAbvQOIWC6idOFIRTHOHE&export=download\n",
      "To: /media/scratch1/erbachj/Mask_RCNN/data/InteriorNet/data/HD7/train/3FO4MLNMEHAX_Bedroom.zip\n",
      "57.6MB [00:01, 29.4MB/s]\n"
     ]
    },
    {
     "name": "stdout",
     "output_type": "stream",
     "text": [
      "3FO4MLNMEALV_Bedroom.zip\n"
     ]
    },
    {
     "name": "stderr",
     "output_type": "stream",
     "text": [
      "Downloading...\n",
      "From: https://drive.google.com/uc?id=1AnJRSiGKPSSd3WK_z2RgQV6WXPQ6aq6X&export=download\n",
      "To: /media/scratch1/erbachj/Mask_RCNN/data/InteriorNet/data/HD7/train/3FO4MLNMEALV_Bedroom.zip\n",
      "59.7MB [00:00, 84.6MB/s]\n"
     ]
    },
    {
     "name": "stdout",
     "output_type": "stream",
     "text": [
      "3FO4MLNM9SGJ_Living_room.zip\n",
      "3FO4MLNM9SGJ_Bedroom.zip\n"
     ]
    },
    {
     "name": "stderr",
     "output_type": "stream",
     "text": [
      "Downloading...\n",
      "From: https://drive.google.com/uc?id=15uA48IMlXMElgiPu5FamlOKzY0lOCmGE&export=download\n",
      "To: /media/scratch1/erbachj/Mask_RCNN/data/InteriorNet/data/HD7/train/3FO4MLNM9SGJ_Bedroom.zip\n",
      "62.8MB [00:02, 25.9MB/s]\n"
     ]
    },
    {
     "name": "stdout",
     "output_type": "stream",
     "text": [
      "3FO4MLNM9LRH_Bedroom.zip\n"
     ]
    },
    {
     "name": "stderr",
     "output_type": "stream",
     "text": [
      "Downloading...\n",
      "From: https://drive.google.com/uc?id=1I1-1J4YvD4Qsf1ulA3sCAmeHs-msiihw&export=download\n",
      "To: /media/scratch1/erbachj/Mask_RCNN/data/InteriorNet/data/HD7/train/3FO4MLNM9LRH_Bedroom.zip\n",
      "64.2MB [00:01, 38.7MB/s]\n"
     ]
    },
    {
     "name": "stdout",
     "output_type": "stream",
     "text": [
      "3FO4MLNM786R_Bedroom.zip\n"
     ]
    },
    {
     "name": "stderr",
     "output_type": "stream",
     "text": [
      "Downloading...\n",
      "From: https://drive.google.com/uc?id=1oxiDHLZ87efDixo1N97T0Mf0TaFvrxKV&export=download\n",
      "To: /media/scratch1/erbachj/Mask_RCNN/data/InteriorNet/data/HD7/train/3FO4MLNM786R_Bedroom.zip\n",
      "62.5MB [00:01, 39.5MB/s]\n"
     ]
    },
    {
     "name": "stdout",
     "output_type": "stream",
     "text": [
      "3FO4MLNM6N4L_Bedroom.zip\n"
     ]
    },
    {
     "name": "stderr",
     "output_type": "stream",
     "text": [
      "Downloading...\n",
      "From: https://drive.google.com/uc?id=1cEhEJbDt9iewQv708rjHCiL18Zqxz_YS&export=download\n",
      "To: /media/scratch1/erbachj/Mask_RCNN/data/InteriorNet/data/HD7/train/3FO4MLNM6N4L_Bedroom.zip\n",
      "81.8MB [00:02, 29.2MB/s]\n"
     ]
    },
    {
     "name": "stdout",
     "output_type": "stream",
     "text": [
      "3FO4MLNM5OOB_Bedroom.zip\n"
     ]
    },
    {
     "name": "stderr",
     "output_type": "stream",
     "text": [
      "Downloading...\n",
      "From: https://drive.google.com/uc?id=1Ln4I8w4FxDLXoDCJsl_EcVBtRwRpKuzw&export=download\n",
      "To: /media/scratch1/erbachj/Mask_RCNN/data/InteriorNet/data/HD7/train/3FO4MLNM5OOB_Bedroom.zip\n",
      "49.3MB [00:01, 35.3MB/s]\n"
     ]
    },
    {
     "name": "stdout",
     "output_type": "stream",
     "text": [
      "3FO4MLNM22M8_Bedroom.zip\n"
     ]
    },
    {
     "name": "stderr",
     "output_type": "stream",
     "text": [
      "Downloading...\n",
      "From: https://drive.google.com/uc?id=1tyiBxTEWsGGpT0XeVXAO69g4Cj_nQNKQ&export=download\n",
      "To: /media/scratch1/erbachj/Mask_RCNN/data/InteriorNet/data/HD7/train/3FO4MLNM22M8_Bedroom.zip\n",
      "69.5MB [00:02, 33.4MB/s]\n"
     ]
    },
    {
     "name": "stdout",
     "output_type": "stream",
     "text": [
      "3FO4MLNLYKOH_Living_room.zip\n",
      "3FO4MLNLYKOH_Bedroom.zip\n"
     ]
    }
   ],
   "source": [
    "import os\n",
    "import glob\n",
    "import csv\n",
    "import gdown\n",
    "from zipfile import ZipFile\n",
    "import numpy as np\n",
    "import re\n",
    "\n",
    "ROOT_DIR = os.path.abspath('../../')\n",
    "\n",
    "list_csv = os.path.join(ROOT_DIR, 'data/InteriorNet', 'list_of_files_inHD7.csv')\n",
    "\n",
    "\n",
    "subsets = ['train', 'val', 'test']\n",
    "size_of = {'train': 1000, 'val': 120, 'test': 120 }\n",
    "room_distribution = {'Living_room':0.5, 'Bedroom':0.15, 'Dining_room':0.25, 'Guest_room':0.1}\n",
    "dataset = 'data/InteriorNet/data/HD7'\n",
    "downloaded_scenes = []\n",
    "\n",
    "is_living_room = lambda x: bool(re.search('Living_room' ,x))\n",
    "is_bedroom = lambda x: bool(re.search('Bedroom' ,x))\n",
    "is_diningroom = lambda x: bool(re.search('Dining_room' ,x))\n",
    "is_guestroom = lambda x: bool(re.search('Guest_room' ,x))\n",
    "\n",
    "\n",
    "for subset in subsets:\n",
    "    downloaded_scenes = downloaded_scenes + os.listdir(os.path.join(ROOT_DIR, dataset, subset))\n",
    "with open(list_csv, 'r') as csvfile:\n",
    "    scene_reader = csv.reader(csvfile, delimiter=',')\n",
    "    for subset in subsets:\n",
    "        downloaded_files = os.listdir(os.path.join(ROOT_DIR, 'data/InteriorNet/data/HD7', subset))\n",
    "        n_liv = np.array(list(map(is_living_room, downloaded_files))).sum()\n",
    "        n_bed = np.array(list(map(is_bedroom, downloaded_files))).sum()\n",
    "        n_dining = np.array(list(map(is_diningroom, downloaded_files))).sum()\n",
    "        n_guest = np.array(list(map(is_guestroom, downloaded_files))).sum()\n",
    "        n_ges = len(downloaded_files)\n",
    "        print(\"Number of Living_rooms: {}\".format(n_liv))\n",
    "        print(\"Number of Bedrooms: {}\".format(n_bed))\n",
    "        print(\"Number of Dining_rooms: {}\".format(n_dining))\n",
    "        print(\"Number of Guest_rooms: {}\".format(n_guest))\n",
    "        \n",
    "        for scene in scene_reader:\n",
    "            name = scene[0][:-4] # cut out .zip\n",
    "            url = scene[1]\n",
    "            print(name+'.zip')\n",
    "            if name in downloaded_scenes:\n",
    "                continue\n",
    "            if is_living_room(name):\n",
    "                if n_liv+1 > room_distribution['Living_room']*size_of[subset]:\n",
    "                    continue\n",
    "                else:\n",
    "                    n_liv+=1\n",
    "            elif is_bedroom(name):\n",
    "                if n_bed+1 > room_distribution['Bedroom']*size_of[subset]:\n",
    "                    continue\n",
    "                else:\n",
    "                    n_bed+=1\n",
    "            elif is_diningroom(name):\n",
    "                if n_dining+1 > room_distribution['Dining_room']*size_of[subset]:\n",
    "                    continue\n",
    "                else:\n",
    "                    n_dining+=1\n",
    "            elif is_guestroom(name):\n",
    "                if n_guest+1 > room_distribution['Guest_room']*size_of[subset]:\n",
    "                    continue\n",
    "                else:\n",
    "                    n_guest+=1\n",
    "            else:\n",
    "                continue\n",
    "            output = os.path.join(ROOT_DIR, 'data/InteriorNet/data/HD7', subset, name+'.zip')\n",
    "            gdown.download(url, output, quiet=False) \n",
    "            with ZipFile(output, 'r') as zipObj:\n",
    "               # Extract all the contents of zip file in different directory\n",
    "               zipObj.extractall(os.path.join(ROOT_DIR, dataset, subset))\n",
    "            os.remove(output)\n",
    "            downloaded_files = os.listdir(os.path.join(ROOT_DIR, 'data/InteriorNet/data/HD7', subset))\n",
    "            if len(downloaded_files) > size_of[subset]:\n",
    "                break"
   ]
  },
  {
   "cell_type": "code",
   "execution_count": null,
   "metadata": {},
   "outputs": [],
   "source": []
  },
  {
   "cell_type": "code",
   "execution_count": null,
   "metadata": {},
   "outputs": [],
   "source": []
  }
 ],
 "metadata": {
  "kernelspec": {
   "display_name": "Python 3",
   "language": "python",
   "name": "python3"
  },
  "language_info": {
   "codemirror_mode": {
    "name": "ipython",
    "version": 3
   },
   "file_extension": ".py",
   "mimetype": "text/x-python",
   "name": "python",
   "nbconvert_exporter": "python",
   "pygments_lexer": "ipython3",
   "version": "3.6.9"
  }
 },
 "nbformat": 4,
 "nbformat_minor": 4
}
