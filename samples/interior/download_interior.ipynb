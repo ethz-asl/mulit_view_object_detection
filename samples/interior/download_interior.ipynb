{
 "cells": [
  {
   "cell_type": "code",
   "execution_count": 4,
   "metadata": {
    "scrolled": true
   },
   "outputs": [
    {
     "name": "stdout",
     "output_type": "stream",
     "text": [
      "Number of Living_rooms: 0.0\n",
      "Number of Bedrooms: 0.0\n",
      "Number of Dining_rooms: 0.0\n",
      "Number of Guest_rooms: 0.0\n",
      "3FO4MMTWI01K_Guest_room.zip\n"
     ]
    },
    {
     "name": "stderr",
     "output_type": "stream",
     "text": [
      "Downloading...\n",
      "From: https://drive.google.com/uc?id=1FYiAvuqW2BwlcWmJanxWqfl-FhiLj2om&export=download\n",
      "To: /media/scratch1/erbachj/Mask_RCNN/data/InteriorNet/data/HD7/train/3FO4MMTWI01K_Guest_room.zip\n",
      "29.5MB [00:00, 41.7MB/s]\n"
     ]
    },
    {
     "name": "stdout",
     "output_type": "stream",
     "text": [
      "3FO4MMTVR3VT_Guest_room.zip\n"
     ]
    },
    {
     "name": "stderr",
     "output_type": "stream",
     "text": [
      "Downloading...\n",
      "From: https://drive.google.com/uc?id=1OKabst84M46VO4YSieTWDQidUUqG1Xkl&export=download\n",
      "To: /media/scratch1/erbachj/Mask_RCNN/data/InteriorNet/data/HD7/train/3FO4MMTVR3VT_Guest_room.zip\n",
      "33.5MB [00:00, 58.1MB/s]\n"
     ]
    },
    {
     "name": "stdout",
     "output_type": "stream",
     "text": [
      "3FO4MMN8Q7SM_Guest_room.zip\n"
     ]
    },
    {
     "name": "stderr",
     "output_type": "stream",
     "text": [
      "Downloading...\n",
      "From: https://drive.google.com/uc?id=1m2tei_coUUiDYECmxgL53B20JhfvtRFb&export=download\n",
      "To: /media/scratch1/erbachj/Mask_RCNN/data/InteriorNet/data/HD7/train/3FO4MMN8Q7SM_Guest_room.zip\n",
      "74.8MB [00:01, 57.8MB/s]\n"
     ]
    },
    {
     "name": "stdout",
     "output_type": "stream",
     "text": [
      "3FO4MMLDUKDJ_Living_room.zip\n"
     ]
    },
    {
     "name": "stderr",
     "output_type": "stream",
     "text": [
      "Downloading...\n",
      "From: https://drive.google.com/uc?id=1mwy2BV4UV78Nw9bzm0EBjQjTagJwKk5F&export=download\n",
      "To: /media/scratch1/erbachj/Mask_RCNN/data/InteriorNet/data/HD7/train/3FO4MMLDUKDJ_Living_room.zip\n",
      "53.9MB [00:01, 42.7MB/s]\n"
     ]
    },
    {
     "name": "stdout",
     "output_type": "stream",
     "text": [
      "3FO4MMLDUKDJ_Dining_room.zip\n"
     ]
    },
    {
     "name": "stderr",
     "output_type": "stream",
     "text": [
      "Downloading...\n",
      "From: https://drive.google.com/uc?id=1dRF0zuCZBdF1HOz3XHSnYlaKoS_SplgI&export=download\n",
      "To: /media/scratch1/erbachj/Mask_RCNN/data/InteriorNet/data/HD7/train/3FO4MMLDUKDJ_Dining_room.zip\n",
      "61.6MB [00:06, 9.51MB/s]\n"
     ]
    },
    {
     "name": "stdout",
     "output_type": "stream",
     "text": [
      "3FO4MMLD2AN3_Living_room.zip\n"
     ]
    },
    {
     "name": "stderr",
     "output_type": "stream",
     "text": [
      "Downloading...\n",
      "From: https://drive.google.com/uc?id=18mvQAQVRWl7KGwiPNka59KsroQOohlFX&export=download\n",
      "To: /media/scratch1/erbachj/Mask_RCNN/data/InteriorNet/data/HD7/train/3FO4MMLD2AN3_Living_room.zip\n",
      "56.7MB [00:02, 23.9MB/s]\n"
     ]
    },
    {
     "name": "stdout",
     "output_type": "stream",
     "text": [
      "3FO4MMLCRTM9_Living_room.zip\n"
     ]
    },
    {
     "name": "stderr",
     "output_type": "stream",
     "text": [
      "Downloading...\n",
      "From: https://drive.google.com/uc?id=1A5mkE0mI_kn0oQDbflRO7ZZMUAdRGxlS&export=download\n",
      "To: /media/scratch1/erbachj/Mask_RCNN/data/InteriorNet/data/HD7/train/3FO4MMLCRTM9_Living_room.zip\n",
      "58.6MB [00:00, 71.5MB/s]\n"
     ]
    },
    {
     "name": "stdout",
     "output_type": "stream",
     "text": [
      "3FO4MMKKYVFQ_Living_room.zip\n"
     ]
    },
    {
     "name": "stderr",
     "output_type": "stream",
     "text": [
      "Downloading...\n",
      "From: https://drive.google.com/uc?id=1UIsLlUc9qGI54eLYHAzJe3GvE4zRreOM&export=download\n",
      "To: /media/scratch1/erbachj/Mask_RCNN/data/InteriorNet/data/HD7/train/3FO4MMKKYVFQ_Living_room.zip\n",
      "68.5MB [00:02, 24.9MB/s]\n"
     ]
    },
    {
     "name": "stdout",
     "output_type": "stream",
     "text": [
      "3FO4MMJXJS4X_Living_room.zip\n"
     ]
    },
    {
     "name": "stderr",
     "output_type": "stream",
     "text": [
      "Downloading...\n",
      "From: https://drive.google.com/uc?id=1r6jhV2gC1f7yp6LognUA9xDASrXlpv-z&export=download\n",
      "To: /media/scratch1/erbachj/Mask_RCNN/data/InteriorNet/data/HD7/train/3FO4MMJXJS4X_Living_room.zip\n",
      "68.3MB [00:00, 75.1MB/s]\n"
     ]
    },
    {
     "name": "stdout",
     "output_type": "stream",
     "text": [
      "3FO4MMJVI5DI_Living_room.zip\n"
     ]
    },
    {
     "name": "stderr",
     "output_type": "stream",
     "text": [
      "Downloading...\n",
      "From: https://drive.google.com/uc?id=11-tCFdalpPAlvbV491ya4zuoTx1oRX_V&export=download\n",
      "To: /media/scratch1/erbachj/Mask_RCNN/data/InteriorNet/data/HD7/train/3FO4MMJVI5DI_Living_room.zip\n",
      "65.8MB [00:00, 79.8MB/s]\n"
     ]
    },
    {
     "name": "stdout",
     "output_type": "stream",
     "text": [
      "3FO4MMJSDU7T_Bedroom.zip\n"
     ]
    },
    {
     "name": "stderr",
     "output_type": "stream",
     "text": [
      "Downloading...\n",
      "From: https://drive.google.com/uc?id=1h66Y37W9IlM9L8TEWmy1JJL-RoCD3b8d&export=download\n",
      "To: /media/scratch1/erbachj/Mask_RCNN/data/InteriorNet/data/HD7/train/3FO4MMJSDU7T_Bedroom.zip\n",
      "63.3MB [00:01, 53.8MB/s]\n"
     ]
    },
    {
     "name": "stdout",
     "output_type": "stream",
     "text": [
      "3FO4MMJO698O_Bedroom.zip\n"
     ]
    },
    {
     "name": "stderr",
     "output_type": "stream",
     "text": [
      "Downloading...\n",
      "From: https://drive.google.com/uc?id=1WoZVZ7NG1X_Mv6kWDN3KBYFVAG2MXIxj&export=download\n",
      "To: /media/scratch1/erbachj/Mask_RCNN/data/InteriorNet/data/HD7/train/3FO4MMJO698O_Bedroom.zip\n",
      "56.2MB [00:01, 29.2MB/s]\n"
     ]
    },
    {
     "name": "stdout",
     "output_type": "stream",
     "text": [
      "3FO4MMJNW9X0_Bedroom.zip\n"
     ]
    },
    {
     "name": "stderr",
     "output_type": "stream",
     "text": [
      "Downloading...\n",
      "From: https://drive.google.com/uc?id=1aB71wdoBkC1ZcpdvdBxqxEfQqAjSXf-D&export=download\n",
      "To: /media/scratch1/erbachj/Mask_RCNN/data/InteriorNet/data/HD7/train/3FO4MMJNW9X0_Bedroom.zip\n",
      "60.8MB [00:01, 60.5MB/s]\n"
     ]
    },
    {
     "name": "stdout",
     "output_type": "stream",
     "text": [
      "3FO4MMJNTEM5_Bedroom.zip\n"
     ]
    },
    {
     "name": "stderr",
     "output_type": "stream",
     "text": [
      "Downloading...\n",
      "From: https://drive.google.com/uc?id=1hQ4I1HC3kLWmrqdgyZ5HBD8NB7o9WxUc&export=download\n",
      "To: /media/scratch1/erbachj/Mask_RCNN/data/InteriorNet/data/HD7/train/3FO4MMJNTEM5_Bedroom.zip\n",
      "61.7MB [00:00, 62.1MB/s]\n"
     ]
    },
    {
     "name": "stdout",
     "output_type": "stream",
     "text": [
      "3FO4MMJNGLKB_Bedroom.zip\n"
     ]
    },
    {
     "name": "stderr",
     "output_type": "stream",
     "text": [
      "Downloading...\n",
      "From: https://drive.google.com/uc?id=1oz1MWF0K93PgExfzqHtUo1fl1VjLpoTW&export=download\n",
      "To: /media/scratch1/erbachj/Mask_RCNN/data/InteriorNet/data/HD7/train/3FO4MMJNGLKB_Bedroom.zip\n",
      "44.0MB [00:00, 72.1MB/s]\n"
     ]
    },
    {
     "name": "stdout",
     "output_type": "stream",
     "text": [
      "3FO4MMJNA0UC_Bedroom.zip\n"
     ]
    },
    {
     "name": "stderr",
     "output_type": "stream",
     "text": [
      "Downloading...\n",
      "From: https://drive.google.com/uc?id=1XLbJfrN3Z1S4_8jMQVL24YCCuYT00-n8&export=download\n",
      "To: /media/scratch1/erbachj/Mask_RCNN/data/InteriorNet/data/HD7/train/3FO4MMJNA0UC_Bedroom.zip\n",
      "59.3MB [00:00, 64.5MB/s]\n"
     ]
    },
    {
     "name": "stdout",
     "output_type": "stream",
     "text": [
      "3FO4MMJN6UIE_Bedroom.zip\n"
     ]
    },
    {
     "name": "stderr",
     "output_type": "stream",
     "text": [
      "Downloading...\n",
      "From: https://drive.google.com/uc?id=125sg7QlQuPn97a9c5VzszZJp3xrZ0o_a&export=download\n",
      "To: /media/scratch1/erbachj/Mask_RCNN/data/InteriorNet/data/HD7/train/3FO4MMJN6UIE_Bedroom.zip\n",
      "57.6MB [00:01, 30.8MB/s]\n"
     ]
    },
    {
     "name": "stdout",
     "output_type": "stream",
     "text": [
      "3FO4MMJN3SIH_Guest_room.zip\n"
     ]
    },
    {
     "name": "stderr",
     "output_type": "stream",
     "text": [
      "Downloading...\n",
      "From: https://drive.google.com/uc?id=1hBamlstBVDEymOqQjHDrrWnw-igHt2Bs&export=download\n",
      "To: /media/scratch1/erbachj/Mask_RCNN/data/InteriorNet/data/HD7/train/3FO4MMJN3SIH_Guest_room.zip\n",
      "45.9MB [00:00, 93.6MB/s]\n"
     ]
    },
    {
     "name": "stdout",
     "output_type": "stream",
     "text": [
      "3FO4MMJN3SIH_Bedroom.zip\n"
     ]
    },
    {
     "name": "stderr",
     "output_type": "stream",
     "text": [
      "Downloading...\n",
      "From: https://drive.google.com/uc?id=1mS5-FL_yZc0i8XaNrEyM9j38jn8bXx5F&export=download\n",
      "To: /media/scratch1/erbachj/Mask_RCNN/data/InteriorNet/data/HD7/train/3FO4MMJN3SIH_Bedroom.zip\n",
      "75.4MB [00:03, 19.8MB/s]\n"
     ]
    },
    {
     "name": "stdout",
     "output_type": "stream",
     "text": [
      "3FO4MMJMU7KW_Bedroom.zip\n"
     ]
    },
    {
     "name": "stderr",
     "output_type": "stream",
     "text": [
      "Downloading...\n",
      "From: https://drive.google.com/uc?id=1VnC4yPxAkeQZXjoD7aDO39YGtiUXjCBn&export=download\n",
      "To: /media/scratch1/erbachj/Mask_RCNN/data/InteriorNet/data/HD7/train/3FO4MMJMU7KW_Bedroom.zip\n",
      "50.6MB [00:00, 57.7MB/s]\n"
     ]
    },
    {
     "name": "stdout",
     "output_type": "stream",
     "text": [
      "3FO4MMIHCUU1_Bedroom.zip\n"
     ]
    },
    {
     "name": "stderr",
     "output_type": "stream",
     "text": [
      "Downloading...\n",
      "From: https://drive.google.com/uc?id=1D3Fl1NjxKtiJ1s97vj4wF7hQCoqd-22L&export=download\n",
      "To: /media/scratch1/erbachj/Mask_RCNN/data/InteriorNet/data/HD7/train/3FO4MMIHCUU1_Bedroom.zip\n",
      "56.0MB [00:01, 44.4MB/s]\n"
     ]
    },
    {
     "name": "stdout",
     "output_type": "stream",
     "text": [
      "3FO4MMIH71VA_Bedroom.zip\n"
     ]
    },
    {
     "name": "stderr",
     "output_type": "stream",
     "text": [
      "Downloading...\n",
      "From: https://drive.google.com/uc?id=1OP_OEnISXO1GAnUA3ZwBF4zHAEZPSEjn&export=download\n",
      "To: /media/scratch1/erbachj/Mask_RCNN/data/InteriorNet/data/HD7/train/3FO4MMIH71VA_Bedroom.zip\n",
      "55.6MB [00:00, 67.5MB/s]\n"
     ]
    },
    {
     "name": "stdout",
     "output_type": "stream",
     "text": [
      "3FO4MMIH02S7_Bedroom.zip\n"
     ]
    },
    {
     "name": "stderr",
     "output_type": "stream",
     "text": [
      "Downloading...\n",
      "From: https://drive.google.com/uc?id=1NTLnn54uTvweo8G3aNc86VKBSqAIpSL_&export=download\n",
      "To: /media/scratch1/erbachj/Mask_RCNN/data/InteriorNet/data/HD7/train/3FO4MMIH02S7_Bedroom.zip\n",
      "66.8MB [00:04, 14.6MB/s]\n"
     ]
    },
    {
     "name": "stdout",
     "output_type": "stream",
     "text": [
      "3FO4MMIGW45B_Living_room.zip\n"
     ]
    },
    {
     "name": "stderr",
     "output_type": "stream",
     "text": [
      "Downloading...\n",
      "From: https://drive.google.com/uc?id=1yhsLGfU9vZ8lR9yE1vlOzucIuC81q09w&export=download\n",
      "To: /media/scratch1/erbachj/Mask_RCNN/data/InteriorNet/data/HD7/train/3FO4MMIGW45B_Living_room.zip\n",
      "60.5MB [00:05, 11.8MB/s]\n"
     ]
    },
    {
     "name": "stdout",
     "output_type": "stream",
     "text": [
      "3FO4MMIGW45B_Bedroom.zip\n"
     ]
    },
    {
     "name": "stderr",
     "output_type": "stream",
     "text": [
      "Downloading...\n",
      "From: https://drive.google.com/uc?id=1W76tsn9MjU9FrwlmZlIT03fMwzZHZo7V&export=download\n",
      "To: /media/scratch1/erbachj/Mask_RCNN/data/InteriorNet/data/HD7/train/3FO4MMIGW45B_Bedroom.zip\n",
      "59.8MB [00:00, 72.8MB/s]\n"
     ]
    },
    {
     "name": "stdout",
     "output_type": "stream",
     "text": [
      "3FO4MMIGQXKR_Bedroom.zip\n"
     ]
    },
    {
     "name": "stderr",
     "output_type": "stream",
     "text": [
      "Downloading...\n",
      "From: https://drive.google.com/uc?id=1WSFV4DONxm6wfxvuxHjFExkVXeZtLV-y&export=download\n",
      "To: /media/scratch1/erbachj/Mask_RCNN/data/InteriorNet/data/HD7/train/3FO4MMIGQXKR_Bedroom.zip\n",
      "66.4MB [00:00, 81.6MB/s]\n"
     ]
    },
    {
     "name": "stdout",
     "output_type": "stream",
     "text": [
      "3FO4MMIGOGN1_Bedroom.zip\n"
     ]
    },
    {
     "name": "stderr",
     "output_type": "stream",
     "text": [
      "Downloading...\n",
      "From: https://drive.google.com/uc?id=1OW6VqE-Nmk_zUKvzjYuJktdKQAu_DKyZ&export=download\n",
      "To: /media/scratch1/erbachj/Mask_RCNN/data/InteriorNet/data/HD7/train/3FO4MMIGOGN1_Bedroom.zip\n",
      "50.5MB [00:00, 65.9MB/s]\n"
     ]
    },
    {
     "name": "stdout",
     "output_type": "stream",
     "text": [
      "3FO4MMIGJEFI_Bedroom.zip\n"
     ]
    },
    {
     "name": "stderr",
     "output_type": "stream",
     "text": [
      "Downloading...\n",
      "From: https://drive.google.com/uc?id=11Pcpxvx4DAALFtVMa06DaGHEB6aSO8KZ&export=download\n",
      "To: /media/scratch1/erbachj/Mask_RCNN/data/InteriorNet/data/HD7/train/3FO4MMIGJEFI_Bedroom.zip\n",
      "64.9MB [00:02, 26.6MB/s]\n"
     ]
    },
    {
     "name": "stdout",
     "output_type": "stream",
     "text": [
      "3FO4MMIGEFK1_Bedroom.zip\n"
     ]
    },
    {
     "name": "stderr",
     "output_type": "stream",
     "text": [
      "Downloading...\n",
      "From: https://drive.google.com/uc?id=1f7n_iwT5XJ2h5QGIctOkPXUfrZ0qj05n&export=download\n",
      "To: /media/scratch1/erbachj/Mask_RCNN/data/InteriorNet/data/HD7/train/3FO4MMIGEFK1_Bedroom.zip\n",
      "57.3MB [00:00, 82.9MB/s]\n"
     ]
    },
    {
     "name": "stdout",
     "output_type": "stream",
     "text": [
      "3FO4MMHX2CQ0_Bedroom.zip\n"
     ]
    },
    {
     "name": "stderr",
     "output_type": "stream",
     "text": [
      "Downloading...\n",
      "From: https://drive.google.com/uc?id=1Lh3pZXzuVDXqplt5FZV19X4H0HPNYJeI&export=download\n",
      "To: /media/scratch1/erbachj/Mask_RCNN/data/InteriorNet/data/HD7/train/3FO4MMHX2CQ0_Bedroom.zip\n",
      "54.5MB [00:02, 26.1MB/s]\n"
     ]
    },
    {
     "name": "stdout",
     "output_type": "stream",
     "text": [
      "3FO4MMHM6D62_Bedroom.zip\n"
     ]
    },
    {
     "name": "stderr",
     "output_type": "stream",
     "text": [
      "Downloading...\n",
      "From: https://drive.google.com/uc?id=1WvFpe-PYdYfBT4Cc1hMsYjqoPKWf04h4&export=download\n",
      "To: /media/scratch1/erbachj/Mask_RCNN/data/InteriorNet/data/HD7/train/3FO4MMHM6D62_Bedroom.zip\n",
      "52.9MB [00:02, 17.9MB/s]\n"
     ]
    },
    {
     "name": "stdout",
     "output_type": "stream",
     "text": [
      "3FO4MMHKTD30_Bedroom.zip\n"
     ]
    },
    {
     "name": "stderr",
     "output_type": "stream",
     "text": [
      "Downloading...\n",
      "From: https://drive.google.com/uc?id=1gSRaJTVgr-7XzPIbFAY5m-H_bslb6ydp&export=download\n",
      "To: /media/scratch1/erbachj/Mask_RCNN/data/InteriorNet/data/HD7/train/3FO4MMHKTD30_Bedroom.zip\n",
      "52.2MB [00:03, 17.3MB/s]\n"
     ]
    },
    {
     "name": "stdout",
     "output_type": "stream",
     "text": [
      "3FO4MMHCG9OC_Bedroom.zip\n"
     ]
    },
    {
     "name": "stderr",
     "output_type": "stream",
     "text": [
      "Downloading...\n",
      "From: https://drive.google.com/uc?id=1sDYhd2ZTdyzSjovbdJ1K6xm4nriHR8CN&export=download\n",
      "To: /media/scratch1/erbachj/Mask_RCNN/data/InteriorNet/data/HD7/train/3FO4MMHCG9OC_Bedroom.zip\n",
      "57.0MB [00:02, 25.2MB/s]\n"
     ]
    },
    {
     "name": "stdout",
     "output_type": "stream",
     "text": [
      "3FO4MMH005SW_Bedroom.zip\n"
     ]
    },
    {
     "name": "stderr",
     "output_type": "stream",
     "text": [
      "Downloading...\n",
      "From: https://drive.google.com/uc?id=1hTIclM6hi3PMfIio09XB7etleNJQe-Ej&export=download\n",
      "To: /media/scratch1/erbachj/Mask_RCNN/data/InteriorNet/data/HD7/train/3FO4MMH005SW_Bedroom.zip\n",
      "60.4MB [00:00, 69.5MB/s]\n"
     ]
    },
    {
     "name": "stdout",
     "output_type": "stream",
     "text": [
      "3FO4MMGF0A2L_Bedroom.zip\n"
     ]
    },
    {
     "name": "stderr",
     "output_type": "stream",
     "text": [
      "Downloading...\n",
      "From: https://drive.google.com/uc?id=15eao_KKl9t68kdTl1MV_k3x6jwvLlLD-&export=download\n",
      "To: /media/scratch1/erbachj/Mask_RCNN/data/InteriorNet/data/HD7/train/3FO4MMGF0A2L_Bedroom.zip\n",
      "60.7MB [00:01, 48.4MB/s]\n"
     ]
    },
    {
     "name": "stdout",
     "output_type": "stream",
     "text": [
      "3FO4MMDBVKJ0_Bedroom.zip\n"
     ]
    },
    {
     "name": "stderr",
     "output_type": "stream",
     "text": [
      "Downloading...\n",
      "From: https://drive.google.com/uc?id=12kvbVifV2ZGbPBP-zcOkot8Eq0LIwoAN&export=download\n",
      "To: /media/scratch1/erbachj/Mask_RCNN/data/InteriorNet/data/HD7/train/3FO4MMDBVKJ0_Bedroom.zip\n",
      "58.0MB [00:01, 45.9MB/s]\n"
     ]
    },
    {
     "name": "stdout",
     "output_type": "stream",
     "text": [
      "3FO4MMCED0MH_Bedroom.zip\n"
     ]
    },
    {
     "name": "stderr",
     "output_type": "stream",
     "text": [
      "Downloading...\n",
      "From: https://drive.google.com/uc?id=1443b337Iohdf33Icrgaa0BOpBRIZ5oqT&export=download\n",
      "To: /media/scratch1/erbachj/Mask_RCNN/data/InteriorNet/data/HD7/train/3FO4MMCED0MH_Bedroom.zip\n",
      "84.8MB [00:01, 64.6MB/s]\n"
     ]
    },
    {
     "name": "stdout",
     "output_type": "stream",
     "text": [
      "3FO4MMBV17TJ_Bedroom.zip\n"
     ]
    },
    {
     "name": "stderr",
     "output_type": "stream",
     "text": [
      "Downloading...\n",
      "From: https://drive.google.com/uc?id=1hcu1hpb5_WMxk6sQVH5nV3dIXW6IaWZ3&export=download\n",
      "To: /media/scratch1/erbachj/Mask_RCNN/data/InteriorNet/data/HD7/train/3FO4MMBV17TJ_Bedroom.zip\n",
      "45.2MB [00:00, 46.5MB/s]\n"
     ]
    },
    {
     "name": "stdout",
     "output_type": "stream",
     "text": [
      "3FO4MMAXJQHN_Bedroom.zip\n"
     ]
    },
    {
     "name": "stderr",
     "output_type": "stream",
     "text": [
      "Downloading...\n",
      "From: https://drive.google.com/uc?id=1eRlkxcEuceFf4CrTE9L6BXotAIUbexDD&export=download\n",
      "To: /media/scratch1/erbachj/Mask_RCNN/data/InteriorNet/data/HD7/train/3FO4MMAXJQHN_Bedroom.zip\n",
      "69.7MB [00:01, 58.6MB/s]\n"
     ]
    },
    {
     "name": "stdout",
     "output_type": "stream",
     "text": [
      "3FO4MMA2FUB0_Living_room.zip\n"
     ]
    },
    {
     "name": "stderr",
     "output_type": "stream",
     "text": [
      "Downloading...\n",
      "From: https://drive.google.com/uc?id=1IxTBnEgeTH_sGofpWJmI4Xyl0ghkOaC8&export=download\n",
      "To: /media/scratch1/erbachj/Mask_RCNN/data/InteriorNet/data/HD7/train/3FO4MMA2FUB0_Living_room.zip\n",
      "61.5MB [00:00, 73.7MB/s]\n"
     ]
    },
    {
     "name": "stdout",
     "output_type": "stream",
     "text": [
      "3FO4MMA2FUB0_Dining_room.zip\n"
     ]
    },
    {
     "name": "stderr",
     "output_type": "stream",
     "text": [
      "Downloading...\n",
      "From: https://drive.google.com/uc?id=1TMpUni2eYHUz5XapJ-mdZJu7CW8WgWKH&export=download\n",
      "To: /media/scratch1/erbachj/Mask_RCNN/data/InteriorNet/data/HD7/train/3FO4MMA2FUB0_Dining_room.zip\n",
      "66.0MB [00:00, 78.6MB/s]\n"
     ]
    },
    {
     "name": "stdout",
     "output_type": "stream",
     "text": [
      "3FO4MMA2FUB0_Bedroom.zip\n"
     ]
    },
    {
     "name": "stderr",
     "output_type": "stream",
     "text": [
      "Downloading...\n",
      "From: https://drive.google.com/uc?id=1gCRFo4MKibkDpBxl51wsPC9Q0_GcALRL&export=download\n",
      "To: /media/scratch1/erbachj/Mask_RCNN/data/InteriorNet/data/HD7/train/3FO4MMA2FUB0_Bedroom.zip\n",
      "51.9MB [00:00, 78.4MB/s]\n"
     ]
    },
    {
     "name": "stdout",
     "output_type": "stream",
     "text": [
      "3FO4MM9YHE42_Living_room.zip\n"
     ]
    },
    {
     "name": "stderr",
     "output_type": "stream",
     "text": [
      "Downloading...\n",
      "From: https://drive.google.com/uc?id=1NttZIOtqfm0khUGbkWjfmJvhVAHz8cGk&export=download\n",
      "To: /media/scratch1/erbachj/Mask_RCNN/data/InteriorNet/data/HD7/train/3FO4MM9YHE42_Living_room.zip\n",
      "62.9MB [00:01, 52.2MB/s]\n"
     ]
    },
    {
     "name": "stdout",
     "output_type": "stream",
     "text": [
      "3FO4MM9YHE42_Bedroom.zip\n"
     ]
    },
    {
     "name": "stderr",
     "output_type": "stream",
     "text": [
      "Downloading...\n",
      "From: https://drive.google.com/uc?id=1P2kWbbiqqHop1agqnyZCryn99MFej7pM&export=download\n",
      "To: /media/scratch1/erbachj/Mask_RCNN/data/InteriorNet/data/HD7/train/3FO4MM9YHE42_Bedroom.zip\n",
      "47.2MB [00:01, 29.5MB/s]\n"
     ]
    },
    {
     "name": "stdout",
     "output_type": "stream",
     "text": [
      "3FO4MM9365G7_Living_room.zip\n"
     ]
    },
    {
     "name": "stderr",
     "output_type": "stream",
     "text": [
      "Downloading...\n",
      "From: https://drive.google.com/uc?id=1MZ0NjbZQ6bmFLU9KLUgbXffUbRnvI3B2&export=download\n",
      "To: /media/scratch1/erbachj/Mask_RCNN/data/InteriorNet/data/HD7/train/3FO4MM9365G7_Living_room.zip\n",
      "69.7MB [00:01, 38.0MB/s]\n"
     ]
    },
    {
     "name": "stdout",
     "output_type": "stream",
     "text": [
      "3FO4MM906PSY_Bedroom.zip\n"
     ]
    },
    {
     "name": "stderr",
     "output_type": "stream",
     "text": [
      "Downloading...\n",
      "From: https://drive.google.com/uc?id=1EZ9wXHOw61sKKPMOhrFZSeaOKvz4aKf3&export=download\n",
      "To: /media/scratch1/erbachj/Mask_RCNN/data/InteriorNet/data/HD7/train/3FO4MM906PSY_Bedroom.zip\n",
      "33.6MB [00:00, 56.6MB/s]\n"
     ]
    },
    {
     "name": "stdout",
     "output_type": "stream",
     "text": [
      "3FO4MM5X4576_Bedroom.zip\n"
     ]
    },
    {
     "name": "stderr",
     "output_type": "stream",
     "text": [
      "Downloading...\n",
      "From: https://drive.google.com/uc?id=1MMQLSQkyH5HBaF0xRKh_iZBlyBvKRBHi&export=download\n",
      "To: /media/scratch1/erbachj/Mask_RCNN/data/InteriorNet/data/HD7/train/3FO4MM5X4576_Bedroom.zip\n",
      "64.5MB [00:02, 31.5MB/s]\n"
     ]
    },
    {
     "name": "stdout",
     "output_type": "stream",
     "text": [
      "3FO4MM4CS5N6_Bedroom.zip\n"
     ]
    },
    {
     "name": "stderr",
     "output_type": "stream",
     "text": [
      "Downloading...\n",
      "From: https://drive.google.com/uc?id=12XaWeYyZyH2vtiV1iFBMJPdfVAInCq1v&export=download\n",
      "To: /media/scratch1/erbachj/Mask_RCNN/data/InteriorNet/data/HD7/train/3FO4MM4CS5N6_Bedroom.zip\n",
      "60.3MB [00:02, 21.6MB/s]\n"
     ]
    },
    {
     "name": "stdout",
     "output_type": "stream",
     "text": [
      "3FO4MM1YJXNW_Bedroom.zip\n"
     ]
    },
    {
     "name": "stderr",
     "output_type": "stream",
     "text": [
      "Downloading...\n",
      "From: https://drive.google.com/uc?id=15sXNHmJeWpLghyndzn0J_KZaOkwxZup7&export=download\n",
      "To: /media/scratch1/erbachj/Mask_RCNN/data/InteriorNet/data/HD7/train/3FO4MM1YJXNW_Bedroom.zip\n",
      "75.3MB [00:02, 32.0MB/s]\n"
     ]
    },
    {
     "name": "stdout",
     "output_type": "stream",
     "text": [
      "3FO4MM1VT8BA_Dining_room.zip\n"
     ]
    },
    {
     "name": "stderr",
     "output_type": "stream",
     "text": [
      "Downloading...\n",
      "From: https://drive.google.com/uc?id=1FuPF8pJkJocEShx136WLmOH_YFBE0jZA&export=download\n",
      "To: /media/scratch1/erbachj/Mask_RCNN/data/InteriorNet/data/HD7/train/3FO4MM1VT8BA_Dining_room.zip\n",
      "52.4MB [00:01, 42.3MB/s]\n"
     ]
    },
    {
     "name": "stdout",
     "output_type": "stream",
     "text": [
      "3FO4MM1VT8BA_Bedroom.zip\n"
     ]
    },
    {
     "name": "stderr",
     "output_type": "stream",
     "text": [
      "Downloading...\n",
      "From: https://drive.google.com/uc?id=1TAQKrT_JQEHDyRxCwMcvUGDep3mEe-F8&export=download\n",
      "To: /media/scratch1/erbachj/Mask_RCNN/data/InteriorNet/data/HD7/train/3FO4MM1VT8BA_Bedroom.zip\n",
      "70.4MB [00:03, 19.1MB/s]\n"
     ]
    },
    {
     "name": "stdout",
     "output_type": "stream",
     "text": [
      "3FO4MM1VAYNT_Bedroom.zip\n"
     ]
    },
    {
     "name": "stderr",
     "output_type": "stream",
     "text": [
      "Downloading...\n",
      "From: https://drive.google.com/uc?id=1w-Lx8-5Lmf37_3YpD7F9AdsiznbOs6I7&export=download\n",
      "To: /media/scratch1/erbachj/Mask_RCNN/data/InteriorNet/data/HD7/train/3FO4MM1VAYNT_Bedroom.zip\n",
      "45.7MB [00:00, 77.8MB/s]\n"
     ]
    },
    {
     "name": "stdout",
     "output_type": "stream",
     "text": [
      "3FO4MM1V9G6D_Bedroom.zip\n"
     ]
    },
    {
     "name": "stderr",
     "output_type": "stream",
     "text": [
      "Downloading...\n",
      "From: https://drive.google.com/uc?id=1pAdCYpEVMJUotWT6555YXlz2iqANUNEC&export=download\n",
      "To: /media/scratch1/erbachj/Mask_RCNN/data/InteriorNet/data/HD7/train/3FO4MM1V9G6D_Bedroom.zip\n",
      "49.4MB [00:01, 27.9MB/s]\n"
     ]
    },
    {
     "name": "stdout",
     "output_type": "stream",
     "text": [
      "3FO4MM1V5WGB_Bedroom.zip\n"
     ]
    },
    {
     "name": "stderr",
     "output_type": "stream",
     "text": [
      "Downloading...\n",
      "From: https://drive.google.com/uc?id=1D79Xpza7zParc0xHe3I5g60UHXRXzJFR&export=download\n",
      "To: /media/scratch1/erbachj/Mask_RCNN/data/InteriorNet/data/HD7/train/3FO4MM1V5WGB_Bedroom.zip\n",
      "49.8MB [00:01, 47.4MB/s]\n"
     ]
    },
    {
     "name": "stdout",
     "output_type": "stream",
     "text": [
      "3FO4MM1V06TL_Living_room.zip\n"
     ]
    },
    {
     "name": "stderr",
     "output_type": "stream",
     "text": [
      "Downloading...\n",
      "From: https://drive.google.com/uc?id=1rxWmnVge_n4ZxlWyRXr-VakHrer-yySf&export=download\n",
      "To: /media/scratch1/erbachj/Mask_RCNN/data/InteriorNet/data/HD7/train/3FO4MM1V06TL_Living_room.zip\n",
      "50.0MB [00:00, 56.7MB/s]\n"
     ]
    },
    {
     "name": "stdout",
     "output_type": "stream",
     "text": [
      "3FO4MM1V06TL_Bedroom.zip\n"
     ]
    },
    {
     "name": "stderr",
     "output_type": "stream",
     "text": [
      "Downloading...\n",
      "From: https://drive.google.com/uc?id=1msCFZpsOgWqRmd5QF0zPI1Xt_p2eSUIE&export=download\n",
      "To: /media/scratch1/erbachj/Mask_RCNN/data/InteriorNet/data/HD7/train/3FO4MM1V06TL_Bedroom.zip\n",
      "61.9MB [00:01, 53.4MB/s]\n"
     ]
    },
    {
     "name": "stdout",
     "output_type": "stream",
     "text": [
      "3FO4MM1UYLRF_Living_room.zip\n"
     ]
    },
    {
     "name": "stderr",
     "output_type": "stream",
     "text": [
      "Downloading...\n",
      "From: https://drive.google.com/uc?id=1_aTRpf72Or8hs4puIolRZj-2ndSQ0vkK&export=download\n",
      "To: /media/scratch1/erbachj/Mask_RCNN/data/InteriorNet/data/HD7/train/3FO4MM1UYLRF_Living_room.zip\n",
      "59.5MB [00:01, 45.9MB/s]\n"
     ]
    },
    {
     "name": "stdout",
     "output_type": "stream",
     "text": [
      "3FO4MM1UYLRF_Dining_room.zip\n"
     ]
    },
    {
     "name": "stderr",
     "output_type": "stream",
     "text": [
      "Downloading...\n",
      "From: https://drive.google.com/uc?id=1dkXujG9x1fOOT_GuucFQdf91I13bafxM&export=download\n",
      "To: /media/scratch1/erbachj/Mask_RCNN/data/InteriorNet/data/HD7/train/3FO4MM1UYLRF_Dining_room.zip\n",
      "54.4MB [00:00, 73.6MB/s]\n"
     ]
    },
    {
     "name": "stdout",
     "output_type": "stream",
     "text": [
      "3FO4MM1UYLRF_Bedroom.zip\n"
     ]
    },
    {
     "name": "stderr",
     "output_type": "stream",
     "text": [
      "Downloading...\n",
      "From: https://drive.google.com/uc?id=1d1rzn_PPIXQQX6jB_X-vDqm4NQyVm-NF&export=download\n",
      "To: /media/scratch1/erbachj/Mask_RCNN/data/InteriorNet/data/HD7/train/3FO4MM1UYLRF_Bedroom.zip\n",
      "76.1MB [00:01, 75.1MB/s]\n"
     ]
    },
    {
     "name": "stdout",
     "output_type": "stream",
     "text": [
      "3FO4MM1UORDH_Bedroom.zip\n"
     ]
    },
    {
     "name": "stderr",
     "output_type": "stream",
     "text": [
      "Downloading...\n",
      "From: https://drive.google.com/uc?id=1pFGmUo5c-6gGL-J43lhJdbLj9H-6hNq5&export=download\n",
      "To: /media/scratch1/erbachj/Mask_RCNN/data/InteriorNet/data/HD7/train/3FO4MM1UORDH_Bedroom.zip\n",
      "52.6MB [00:00, 62.3MB/s]\n"
     ]
    },
    {
     "name": "stdout",
     "output_type": "stream",
     "text": [
      "3FO4MM1UKXMC_Bedroom.zip\n"
     ]
    },
    {
     "name": "stderr",
     "output_type": "stream",
     "text": [
      "Downloading...\n",
      "From: https://drive.google.com/uc?id=1IDbsycJ4rM9LT9BwtL8U72xteOI7FnLM&export=download\n",
      "To: /media/scratch1/erbachj/Mask_RCNN/data/InteriorNet/data/HD7/train/3FO4MM1UKXMC_Bedroom.zip\n",
      "51.9MB [00:00, 69.3MB/s]\n"
     ]
    },
    {
     "name": "stdout",
     "output_type": "stream",
     "text": [
      "3FO4MM1UKDK6_Bedroom.zip\n"
     ]
    },
    {
     "name": "stderr",
     "output_type": "stream",
     "text": [
      "Downloading...\n",
      "From: https://drive.google.com/uc?id=1ogmpbHnVQBvS6GECG6fT3YgekN6OA4NN&export=download\n",
      "To: /media/scratch1/erbachj/Mask_RCNN/data/InteriorNet/data/HD7/train/3FO4MM1UKDK6_Bedroom.zip\n",
      "73.8MB [00:01, 59.1MB/s]\n"
     ]
    },
    {
     "name": "stdout",
     "output_type": "stream",
     "text": [
      "3FO4MM1U828H_Bedroom.zip\n"
     ]
    },
    {
     "name": "stderr",
     "output_type": "stream",
     "text": [
      "Downloading...\n",
      "From: https://drive.google.com/uc?id=1jy8PvpnHpcPRC6_oVVv8ggXwxLhK-Kfy&export=download\n",
      "To: /media/scratch1/erbachj/Mask_RCNN/data/InteriorNet/data/HD7/train/3FO4MM1U828H_Bedroom.zip\n",
      "53.6MB [00:05, 9.20MB/s]\n"
     ]
    },
    {
     "name": "stdout",
     "output_type": "stream",
     "text": [
      "3FO4MM1U1TVM_Bedroom.zip\n"
     ]
    },
    {
     "name": "stderr",
     "output_type": "stream",
     "text": [
      "Downloading...\n",
      "From: https://drive.google.com/uc?id=1Hq-gH2fsNcZf9whlKVcx6rMHEcWB8AKr&export=download\n",
      "To: /media/scratch1/erbachj/Mask_RCNN/data/InteriorNet/data/HD7/train/3FO4MM1U1TVM_Bedroom.zip\n",
      "63.0MB [00:00, 86.6MB/s]\n"
     ]
    },
    {
     "name": "stdout",
     "output_type": "stream",
     "text": [
      "3FO4MM1U0825_Bedroom.zip\n"
     ]
    },
    {
     "name": "stderr",
     "output_type": "stream",
     "text": [
      "Downloading...\n",
      "From: https://drive.google.com/uc?id=1wV756Wk7998jhhH1OQ00e6G30xH_3PPA&export=download\n",
      "To: /media/scratch1/erbachj/Mask_RCNN/data/InteriorNet/data/HD7/train/3FO4MM1U0825_Bedroom.zip\n",
      "60.3MB [00:01, 53.3MB/s]\n"
     ]
    },
    {
     "name": "stdout",
     "output_type": "stream",
     "text": [
      "3FO4MM1TYTO1_Bedroom.zip\n"
     ]
    },
    {
     "name": "stderr",
     "output_type": "stream",
     "text": [
      "Downloading...\n",
      "From: https://drive.google.com/uc?id=1aB8zNiOOK3yAUPiNh0JYG_D2FFSGHVQR&export=download\n",
      "To: /media/scratch1/erbachj/Mask_RCNN/data/InteriorNet/data/HD7/train/3FO4MM1TYTO1_Bedroom.zip\n",
      "59.8MB [00:00, 72.8MB/s]\n"
     ]
    },
    {
     "name": "stdout",
     "output_type": "stream",
     "text": [
      "3FO4MM1TXYKR_Living_room.zip\n"
     ]
    },
    {
     "name": "stderr",
     "output_type": "stream",
     "text": [
      "Downloading...\n",
      "From: https://drive.google.com/uc?id=1NU3K3OoJ6--zNuVxenUE-OIosFHfeJ93&export=download\n",
      "To: /media/scratch1/erbachj/Mask_RCNN/data/InteriorNet/data/HD7/train/3FO4MM1TXYKR_Living_room.zip\n",
      "56.0MB [00:02, 27.8MB/s]\n"
     ]
    },
    {
     "name": "stdout",
     "output_type": "stream",
     "text": [
      "3FO4MM1TXYKR_Dining_room.zip\n"
     ]
    },
    {
     "name": "stderr",
     "output_type": "stream",
     "text": [
      "Downloading...\n",
      "From: https://drive.google.com/uc?id=1QXu0T7l2WpzCrnFviJ-_R4JEjbbc0qnu&export=download\n",
      "To: /media/scratch1/erbachj/Mask_RCNN/data/InteriorNet/data/HD7/train/3FO4MM1TXYKR_Dining_room.zip\n",
      "56.8MB [00:00, 57.8MB/s]\n"
     ]
    },
    {
     "name": "stdout",
     "output_type": "stream",
     "text": [
      "3FO4MM1TXYKR_Bedroom.zip\n"
     ]
    },
    {
     "name": "stderr",
     "output_type": "stream",
     "text": [
      "Downloading...\n",
      "From: https://drive.google.com/uc?id=1MHVocFj7cAL5rnTo6kVpbCofcsPtU9vN&export=download\n",
      "To: /media/scratch1/erbachj/Mask_RCNN/data/InteriorNet/data/HD7/train/3FO4MM1TXYKR_Bedroom.zip\n",
      "48.6MB [00:00, 87.1MB/s]\n"
     ]
    },
    {
     "name": "stdout",
     "output_type": "stream",
     "text": [
      "3FO4MM1TPKC9_Bedroom.zip\n"
     ]
    },
    {
     "name": "stderr",
     "output_type": "stream",
     "text": [
      "Downloading...\n",
      "From: https://drive.google.com/uc?id=1BdgoGc8iwGZfyQckdXwYm9hy8YrGc5rY&export=download\n",
      "To: /media/scratch1/erbachj/Mask_RCNN/data/InteriorNet/data/HD7/train/3FO4MM1TPKC9_Bedroom.zip\n",
      "57.7MB [00:03, 17.6MB/s]\n"
     ]
    },
    {
     "name": "stdout",
     "output_type": "stream",
     "text": [
      "3FO4MM1TPH08_Bedroom.zip\n"
     ]
    },
    {
     "name": "stderr",
     "output_type": "stream",
     "text": [
      "Downloading...\n",
      "From: https://drive.google.com/uc?id=1ahKEb3n6F6AyAsTKJnjDMPMs590FoDFe&export=download\n",
      "To: /media/scratch1/erbachj/Mask_RCNN/data/InteriorNet/data/HD7/train/3FO4MM1TPH08_Bedroom.zip\n",
      "40.9MB [00:00, 53.4MB/s]\n"
     ]
    },
    {
     "name": "stdout",
     "output_type": "stream",
     "text": [
      "3FO4MM1TP3M4_Bedroom.zip\n"
     ]
    },
    {
     "name": "stderr",
     "output_type": "stream",
     "text": [
      "Downloading...\n",
      "From: https://drive.google.com/uc?id=1CCSJXkqZFwnXdFltsnfcLf5INamOYP7f&export=download\n",
      "To: /media/scratch1/erbachj/Mask_RCNN/data/InteriorNet/data/HD7/train/3FO4MM1TP3M4_Bedroom.zip\n",
      "61.0MB [00:02, 25.0MB/s]\n"
     ]
    },
    {
     "name": "stdout",
     "output_type": "stream",
     "text": [
      "3FO4MM1TNU5Q_Bedroom.zip\n"
     ]
    },
    {
     "name": "stderr",
     "output_type": "stream",
     "text": [
      "Downloading...\n",
      "From: https://drive.google.com/uc?id=16wNzmP7qAF9Hvj0D268HsOKoJLVw9gS0&export=download\n",
      "To: /media/scratch1/erbachj/Mask_RCNN/data/InteriorNet/data/HD7/train/3FO4MM1TNU5Q_Bedroom.zip\n",
      "64.3MB [00:00, 65.7MB/s]\n"
     ]
    },
    {
     "name": "stdout",
     "output_type": "stream",
     "text": [
      "3FO4MM1TN02H_Bedroom.zip\n"
     ]
    },
    {
     "name": "stderr",
     "output_type": "stream",
     "text": [
      "Downloading...\n",
      "From: https://drive.google.com/uc?id=1xSXTgh65R5sY0L-YgUFTMhis9PlNFohL&export=download\n",
      "To: /media/scratch1/erbachj/Mask_RCNN/data/InteriorNet/data/HD7/train/3FO4MM1TN02H_Bedroom.zip\n",
      "58.2MB [00:00, 86.7MB/s]\n"
     ]
    },
    {
     "name": "stdout",
     "output_type": "stream",
     "text": [
      "3FO4MM1TFFW8_Living_room.zip\n"
     ]
    },
    {
     "name": "stderr",
     "output_type": "stream",
     "text": [
      "Downloading...\n",
      "From: https://drive.google.com/uc?id=12dHcPlaCf9VjJn5T4PHFnu9jIpOSVMqb&export=download\n",
      "To: /media/scratch1/erbachj/Mask_RCNN/data/InteriorNet/data/HD7/train/3FO4MM1TFFW8_Living_room.zip\n",
      "71.1MB [00:02, 25.6MB/s]\n"
     ]
    },
    {
     "name": "stdout",
     "output_type": "stream",
     "text": [
      "3FO4MM1TFFW8_Bedroom.zip\n"
     ]
    },
    {
     "name": "stderr",
     "output_type": "stream",
     "text": [
      "Downloading...\n",
      "From: https://drive.google.com/uc?id=1to-CcfGlEZQ1sP-X3QQ-ogTs60LgyKaA&export=download\n",
      "To: /media/scratch1/erbachj/Mask_RCNN/data/InteriorNet/data/HD7/train/3FO4MM1TFFW8_Bedroom.zip\n",
      "65.1MB [00:00, 77.3MB/s]\n"
     ]
    },
    {
     "name": "stdout",
     "output_type": "stream",
     "text": [
      "3FO4MM1T66KG_Bedroom.zip\n"
     ]
    },
    {
     "name": "stderr",
     "output_type": "stream",
     "text": [
      "Downloading...\n",
      "From: https://drive.google.com/uc?id=1guWxYdJkl7x_xKjcHTpyPQXzULRQQckC&export=download\n",
      "To: /media/scratch1/erbachj/Mask_RCNN/data/InteriorNet/data/HD7/train/3FO4MM1T66KG_Bedroom.zip\n",
      "51.3MB [00:01, 48.5MB/s]\n"
     ]
    },
    {
     "name": "stdout",
     "output_type": "stream",
     "text": [
      "3FO4MM1T1RR5_Bedroom.zip\n"
     ]
    },
    {
     "name": "stderr",
     "output_type": "stream",
     "text": [
      "Downloading...\n",
      "From: https://drive.google.com/uc?id=1JSVbtqB3gPyIxn6KQHZOZI1o2rQv06dV&export=download\n",
      "To: /media/scratch1/erbachj/Mask_RCNN/data/InteriorNet/data/HD7/train/3FO4MM1T1RR5_Bedroom.zip\n",
      "57.7MB [00:02, 24.3MB/s]\n"
     ]
    },
    {
     "name": "stdout",
     "output_type": "stream",
     "text": [
      "3FO4MM1I5I64_Bedroom.zip\n"
     ]
    },
    {
     "name": "stderr",
     "output_type": "stream",
     "text": [
      "Downloading...\n",
      "From: https://drive.google.com/uc?id=1oUNbb6_WU1VEL6wjb8L_IUMJ46ODP60q&export=download\n",
      "To: /media/scratch1/erbachj/Mask_RCNN/data/InteriorNet/data/HD7/train/3FO4MM1I5I64_Bedroom.zip\n",
      "68.2MB [00:01, 48.5MB/s]\n"
     ]
    },
    {
     "name": "stdout",
     "output_type": "stream",
     "text": [
      "3FO4MM0YEXV2_Bedroom.zip\n"
     ]
    },
    {
     "name": "stderr",
     "output_type": "stream",
     "text": [
      "Downloading...\n",
      "From: https://drive.google.com/uc?id=18DKLJkBRHZxa0IB6Ylpn_cqtBnSsqpXq&export=download\n",
      "To: /media/scratch1/erbachj/Mask_RCNN/data/InteriorNet/data/HD7/train/3FO4MM0YEXV2_Bedroom.zip\n",
      "72.1MB [00:00, 85.1MB/s]\n"
     ]
    },
    {
     "name": "stdout",
     "output_type": "stream",
     "text": [
      "3FO4MM01U8U7_Bedroom.zip\n"
     ]
    },
    {
     "name": "stderr",
     "output_type": "stream",
     "text": [
      "Downloading...\n",
      "From: https://drive.google.com/uc?id=14m-uS4Pk2uLA10tNRW75tfM4OoidxYeU&export=download\n",
      "To: /media/scratch1/erbachj/Mask_RCNN/data/InteriorNet/data/HD7/train/3FO4MM01U8U7_Bedroom.zip\n",
      "47.9MB [00:01, 34.5MB/s]\n"
     ]
    },
    {
     "name": "stdout",
     "output_type": "stream",
     "text": [
      "3FO4MLYKS1C2_Bedroom.zip\n"
     ]
    },
    {
     "name": "stderr",
     "output_type": "stream",
     "text": [
      "Downloading...\n",
      "From: https://drive.google.com/uc?id=1go87QgtQDfpZy_IxxYBbBkP7p42MVGAL&export=download\n",
      "To: /media/scratch1/erbachj/Mask_RCNN/data/InteriorNet/data/HD7/train/3FO4MLYKS1C2_Bedroom.zip\n",
      "50.9MB [00:02, 23.6MB/s]\n"
     ]
    },
    {
     "name": "stdout",
     "output_type": "stream",
     "text": [
      "3FO4MLYBKLFM_Living_room.zip\n"
     ]
    },
    {
     "name": "stderr",
     "output_type": "stream",
     "text": [
      "Downloading...\n",
      "From: https://drive.google.com/uc?id=1SdLg_011ywqHspr7sitaeIWnjOxhLDwm&export=download\n",
      "To: /media/scratch1/erbachj/Mask_RCNN/data/InteriorNet/data/HD7/train/3FO4MLYBKLFM_Living_room.zip\n",
      "60.3MB [00:01, 57.5MB/s]\n"
     ]
    },
    {
     "name": "stdout",
     "output_type": "stream",
     "text": [
      "3FO4MLYAX90X_Bedroom.zip\n"
     ]
    },
    {
     "name": "stderr",
     "output_type": "stream",
     "text": [
      "Downloading...\n",
      "From: https://drive.google.com/uc?id=1ZUZ0fouu1bxn5Qna1CHiVJnM-1usTipa&export=download\n",
      "To: /media/scratch1/erbachj/Mask_RCNN/data/InteriorNet/data/HD7/train/3FO4MLYAX90X_Bedroom.zip\n",
      "64.5MB [00:02, 24.4MB/s]\n"
     ]
    },
    {
     "name": "stdout",
     "output_type": "stream",
     "text": [
      "3FO4MLXXUOXK_Bedroom.zip\n"
     ]
    },
    {
     "name": "stderr",
     "output_type": "stream",
     "text": [
      "Downloading...\n",
      "From: https://drive.google.com/uc?id=1jbrZQzxEGMe2ZmzhZINv_5fUco87VEZc&export=download\n",
      "To: /media/scratch1/erbachj/Mask_RCNN/data/InteriorNet/data/HD7/train/3FO4MLXXUOXK_Bedroom.zip\n",
      "40.0MB [00:00, 42.9MB/s]\n"
     ]
    },
    {
     "name": "stdout",
     "output_type": "stream",
     "text": [
      "3FO4MLXUMV2T_Living_room.zip\n"
     ]
    },
    {
     "name": "stderr",
     "output_type": "stream",
     "text": [
      "Downloading...\n",
      "From: https://drive.google.com/uc?id=1IW6io_a8SUkAm6EhwREa0VcqIGgnnxY3&export=download\n",
      "To: /media/scratch1/erbachj/Mask_RCNN/data/InteriorNet/data/HD7/train/3FO4MLXUMV2T_Living_room.zip\n",
      "62.1MB [00:00, 83.6MB/s]\n"
     ]
    },
    {
     "name": "stdout",
     "output_type": "stream",
     "text": [
      "3FO4MLXUGXR2_Bedroom.zip\n"
     ]
    },
    {
     "name": "stderr",
     "output_type": "stream",
     "text": [
      "Downloading...\n",
      "From: https://drive.google.com/uc?id=1EbI2w55HwImuAwwoNbo339uTrdkKzoZa&export=download\n",
      "To: /media/scratch1/erbachj/Mask_RCNN/data/InteriorNet/data/HD7/train/3FO4MLXUGXR2_Bedroom.zip\n",
      "74.6MB [00:04, 15.7MB/s]\n"
     ]
    },
    {
     "name": "stdout",
     "output_type": "stream",
     "text": [
      "3FO4MLXU5ATK_Living_room.zip\n"
     ]
    },
    {
     "name": "stderr",
     "output_type": "stream",
     "text": [
      "Downloading...\n",
      "From: https://drive.google.com/uc?id=1dBFg56ZGlRtSx8LJO7zgSWCnzZT1vXPE&export=download\n",
      "To: /media/scratch1/erbachj/Mask_RCNN/data/InteriorNet/data/HD7/train/3FO4MLXU5ATK_Living_room.zip\n",
      "56.6MB [00:02, 25.1MB/s]\n"
     ]
    },
    {
     "name": "stdout",
     "output_type": "stream",
     "text": [
      "3FO4MLXU5ATK_Bedroom.zip\n"
     ]
    },
    {
     "name": "stderr",
     "output_type": "stream",
     "text": [
      "Downloading...\n",
      "From: https://drive.google.com/uc?id=1ZLOiKJw4AaY5k0VEYQec10eXT53eBPan&export=download\n",
      "To: /media/scratch1/erbachj/Mask_RCNN/data/InteriorNet/data/HD7/train/3FO4MLXU5ATK_Bedroom.zip\n",
      "46.0MB [00:00, 66.8MB/s]\n"
     ]
    },
    {
     "name": "stdout",
     "output_type": "stream",
     "text": [
      "3FO4MLXTVLJY_Bedroom.zip\n"
     ]
    },
    {
     "name": "stderr",
     "output_type": "stream",
     "text": [
      "Downloading...\n",
      "From: https://drive.google.com/uc?id=1sEN1Z24RjwMnfRIcQ0TGmgFOALmgaKmv&export=download\n",
      "To: /media/scratch1/erbachj/Mask_RCNN/data/InteriorNet/data/HD7/train/3FO4MLXTVLJY_Bedroom.zip\n",
      "50.8MB [00:01, 25.4MB/s]\n"
     ]
    },
    {
     "name": "stdout",
     "output_type": "stream",
     "text": [
      "3FO4MLXTILT3_Dining_room.zip\n"
     ]
    },
    {
     "name": "stderr",
     "output_type": "stream",
     "text": [
      "Downloading...\n",
      "From: https://drive.google.com/uc?id=1TtNguzTSX3XxjCp37nXJCTaxOSUGoLMF&export=download\n",
      "To: /media/scratch1/erbachj/Mask_RCNN/data/InteriorNet/data/HD7/train/3FO4MLXTILT3_Dining_room.zip\n",
      "62.4MB [00:00, 62.5MB/s]\n"
     ]
    },
    {
     "name": "stdout",
     "output_type": "stream",
     "text": [
      "3FO4MLXTILT3_Bedroom.zip\n"
     ]
    },
    {
     "name": "stderr",
     "output_type": "stream",
     "text": [
      "Downloading...\n",
      "From: https://drive.google.com/uc?id=1zIxxmoxO98UepuoYAry3cpUGTE9jcfFB&export=download\n",
      "To: /media/scratch1/erbachj/Mask_RCNN/data/InteriorNet/data/HD7/train/3FO4MLXTILT3_Bedroom.zip\n",
      "73.3MB [00:01, 36.9MB/s]\n"
     ]
    },
    {
     "name": "stdout",
     "output_type": "stream",
     "text": [
      "3FO4MLXTIIH2_Living_room.zip\n"
     ]
    },
    {
     "name": "stderr",
     "output_type": "stream",
     "text": [
      "Downloading...\n",
      "From: https://drive.google.com/uc?id=1nziVC2-pbAR_2b7SoQNf0vsclwFc8vL9&export=download\n",
      "To: /media/scratch1/erbachj/Mask_RCNN/data/InteriorNet/data/HD7/train/3FO4MLXTIIH2_Living_room.zip\n",
      "54.9MB [00:02, 22.3MB/s]\n"
     ]
    },
    {
     "name": "stdout",
     "output_type": "stream",
     "text": [
      "3FO4MLXTIIH2_Bedroom.zip\n"
     ]
    },
    {
     "name": "stderr",
     "output_type": "stream",
     "text": [
      "Downloading...\n",
      "From: https://drive.google.com/uc?id=1kxH-v-EN06q1qlmrUIj_4dEWyzCIJB76&export=download\n",
      "To: /media/scratch1/erbachj/Mask_RCNN/data/InteriorNet/data/HD7/train/3FO4MLXTIIH2_Bedroom.zip\n",
      "53.5MB [00:05, 10.6MB/s]\n"
     ]
    },
    {
     "name": "stdout",
     "output_type": "stream",
     "text": [
      "3FO4MLXTI1QW_Living_room.zip\n"
     ]
    },
    {
     "name": "stderr",
     "output_type": "stream",
     "text": [
      "Downloading...\n",
      "From: https://drive.google.com/uc?id=1XHPjYnOBI5M9jZp_fvEiDq7b8IduLplM&export=download\n",
      "To: /media/scratch1/erbachj/Mask_RCNN/data/InteriorNet/data/HD7/train/3FO4MLXTI1QW_Living_room.zip\n",
      "53.0MB [00:01, 27.9MB/s]\n"
     ]
    },
    {
     "name": "stdout",
     "output_type": "stream",
     "text": [
      "3FO4MLXTGBKE_Bedroom.zip\n"
     ]
    },
    {
     "name": "stderr",
     "output_type": "stream",
     "text": [
      "Downloading...\n",
      "From: https://drive.google.com/uc?id=1Q4Q2TIO1Y0NVT2nSL-J1TN1gdm-PBkSz&export=download\n",
      "To: /media/scratch1/erbachj/Mask_RCNN/data/InteriorNet/data/HD7/train/3FO4MLXTGBKE_Bedroom.zip\n",
      "46.5MB [00:00, 66.1MB/s]\n"
     ]
    },
    {
     "name": "stdout",
     "output_type": "stream",
     "text": [
      "3FO4MLXTBTF2_Living_room.zip\n"
     ]
    },
    {
     "name": "stderr",
     "output_type": "stream",
     "text": [
      "Downloading...\n",
      "From: https://drive.google.com/uc?id=1QtWcJ6rstqSA-rL24jb2pTbBYEn2c0nF&export=download\n",
      "To: /media/scratch1/erbachj/Mask_RCNN/data/InteriorNet/data/HD7/train/3FO4MLXTBTF2_Living_room.zip\n",
      "63.7MB [00:02, 24.8MB/s]\n"
     ]
    },
    {
     "name": "stdout",
     "output_type": "stream",
     "text": [
      "3FO4MLXTBTF2_Bedroom.zip\n"
     ]
    },
    {
     "name": "stderr",
     "output_type": "stream",
     "text": [
      "Downloading...\n",
      "From: https://drive.google.com/uc?id=1uBmrwSRhU3Wjg027FYjtsBeupNHmi7Wp&export=download\n",
      "To: /media/scratch1/erbachj/Mask_RCNN/data/InteriorNet/data/HD7/train/3FO4MLXTBTF2_Bedroom.zip\n",
      "58.1MB [00:01, 34.9MB/s]\n"
     ]
    },
    {
     "name": "stdout",
     "output_type": "stream",
     "text": [
      "3FO4MLXT9MIE_Living_room.zip\n"
     ]
    },
    {
     "name": "stderr",
     "output_type": "stream",
     "text": [
      "Downloading...\n",
      "From: https://drive.google.com/uc?id=16TdCCXY6Xbz0VX4lGQArqUKuGxYMm6lD&export=download\n",
      "To: /media/scratch1/erbachj/Mask_RCNN/data/InteriorNet/data/HD7/train/3FO4MLXT9MIE_Living_room.zip\n",
      "56.9MB [00:00, 91.4MB/s]\n"
     ]
    },
    {
     "name": "stdout",
     "output_type": "stream",
     "text": [
      "3FO4MLXT9MIE_Bedroom.zip\n"
     ]
    },
    {
     "name": "stderr",
     "output_type": "stream",
     "text": [
      "Downloading...\n",
      "From: https://drive.google.com/uc?id=1RjN7GY17H1lvsjsKQArrgP_jxyfCkh56&export=download\n",
      "To: /media/scratch1/erbachj/Mask_RCNN/data/InteriorNet/data/HD7/train/3FO4MLXT9MIE_Bedroom.zip\n",
      "58.7MB [00:01, 52.3MB/s]\n"
     ]
    },
    {
     "name": "stdout",
     "output_type": "stream",
     "text": [
      "3FO4MLXT60GB_Bedroom.zip\n"
     ]
    },
    {
     "name": "stderr",
     "output_type": "stream",
     "text": [
      "Downloading...\n",
      "From: https://drive.google.com/uc?id=1pKGTM4o6HN1KzZ445ejfjb-YpwUbk9j-&export=download\n",
      "To: /media/scratch1/erbachj/Mask_RCNN/data/InteriorNet/data/HD7/train/3FO4MLXT60GB_Bedroom.zip\n",
      "41.6MB [00:00, 65.0MB/s]\n"
     ]
    },
    {
     "name": "stdout",
     "output_type": "stream",
     "text": [
      "3FO4MLXSPC3M_Living_room.zip\n"
     ]
    },
    {
     "name": "stderr",
     "output_type": "stream",
     "text": [
      "Downloading...\n",
      "From: https://drive.google.com/uc?id=19i4jqxLW57ndQ36HlKnEj_IprkKLRtfc&export=download\n",
      "To: /media/scratch1/erbachj/Mask_RCNN/data/InteriorNet/data/HD7/train/3FO4MLXSPC3M_Living_room.zip\n",
      "54.8MB [00:03, 14.9MB/s]\n"
     ]
    },
    {
     "name": "stdout",
     "output_type": "stream",
     "text": [
      "3FO4MLXSPC3M_Bedroom.zip\n"
     ]
    },
    {
     "name": "stderr",
     "output_type": "stream",
     "text": [
      "Downloading...\n",
      "From: https://drive.google.com/uc?id=1GjSGObAnCdxnvClm6G9bHuQhNQcRMu3q&export=download\n",
      "To: /media/scratch1/erbachj/Mask_RCNN/data/InteriorNet/data/HD7/train/3FO4MLXSPC3M_Bedroom.zip\n",
      "55.5MB [00:01, 31.0MB/s]\n"
     ]
    },
    {
     "name": "stdout",
     "output_type": "stream",
     "text": [
      "3FO4MLXSOXPI_Bedroom.zip\n"
     ]
    },
    {
     "name": "stderr",
     "output_type": "stream",
     "text": [
      "Downloading...\n",
      "From: https://drive.google.com/uc?id=1E_2jgtZn9U3EMBfxM9EPfCMxwjGDSjxG&export=download\n",
      "To: /media/scratch1/erbachj/Mask_RCNN/data/InteriorNet/data/HD7/train/3FO4MLXSOXPI_Bedroom.zip\n",
      "46.2MB [00:04, 10.4MB/s]\n"
     ]
    },
    {
     "name": "stdout",
     "output_type": "stream",
     "text": [
      "3FO4MLXRN6EI_Bedroom.zip\n"
     ]
    },
    {
     "name": "stderr",
     "output_type": "stream",
     "text": [
      "Downloading...\n",
      "From: https://drive.google.com/uc?id=1o0L01dn27lSNMQr-SBQdoACvsSueEcpC&export=download\n",
      "To: /media/scratch1/erbachj/Mask_RCNN/data/InteriorNet/data/HD7/train/3FO4MLXRN6EI_Bedroom.zip\n",
      "49.8MB [00:00, 68.4MB/s]\n"
     ]
    },
    {
     "name": "stdout",
     "output_type": "stream",
     "text": [
      "3FO4MLXQWQYW_Living_room.zip\n"
     ]
    },
    {
     "name": "stderr",
     "output_type": "stream",
     "text": [
      "Downloading...\n",
      "From: https://drive.google.com/uc?id=11C39AXr6J0thfTfIDcw6G3xN-hGMQaX2&export=download\n",
      "To: /media/scratch1/erbachj/Mask_RCNN/data/InteriorNet/data/HD7/train/3FO4MLXQWQYW_Living_room.zip\n",
      "64.7MB [00:01, 52.4MB/s]\n"
     ]
    },
    {
     "name": "stdout",
     "output_type": "stream",
     "text": [
      "3FO4MLXQWQYW_Bedroom.zip\n"
     ]
    },
    {
     "name": "stderr",
     "output_type": "stream",
     "text": [
      "Downloading...\n",
      "From: https://drive.google.com/uc?id=1qzLyo8L7v_0vU7STukb7SWwA34aFhRKP&export=download\n",
      "To: /media/scratch1/erbachj/Mask_RCNN/data/InteriorNet/data/HD7/train/3FO4MLXQWQYW_Bedroom.zip\n",
      "74.4MB [00:00, 75.7MB/s]\n"
     ]
    },
    {
     "name": "stdout",
     "output_type": "stream",
     "text": [
      "3FO4MLXQVP7L_Living_room.zip\n"
     ]
    },
    {
     "name": "stderr",
     "output_type": "stream",
     "text": [
      "Downloading...\n",
      "From: https://drive.google.com/uc?id=1LpabbtY9ZICtUFXIeLn8dh5-ku2ZFyGc&export=download\n",
      "To: /media/scratch1/erbachj/Mask_RCNN/data/InteriorNet/data/HD7/train/3FO4MLXQVP7L_Living_room.zip\n",
      "58.9MB [00:02, 26.9MB/s]\n"
     ]
    },
    {
     "name": "stdout",
     "output_type": "stream",
     "text": [
      "3FO4MLXQVP7L_Bedroom.zip\n"
     ]
    },
    {
     "name": "stderr",
     "output_type": "stream",
     "text": [
      "Downloading...\n",
      "From: https://drive.google.com/uc?id=1MEpLj1yKm4IbNIzS_hHrTKW_dC1dsEdV&export=download\n",
      "To: /media/scratch1/erbachj/Mask_RCNN/data/InteriorNet/data/HD7/train/3FO4MLXQVP7L_Bedroom.zip\n",
      "59.9MB [00:02, 29.4MB/s]\n"
     ]
    },
    {
     "name": "stdout",
     "output_type": "stream",
     "text": [
      "3FO4MLXQTVO2_Living_room.zip\n"
     ]
    },
    {
     "name": "stderr",
     "output_type": "stream",
     "text": [
      "Downloading...\n",
      "From: https://drive.google.com/uc?id=1T6XdI_DoindH0CvY5fOr4UVFICsvXGDA&export=download\n",
      "To: /media/scratch1/erbachj/Mask_RCNN/data/InteriorNet/data/HD7/train/3FO4MLXQTVO2_Living_room.zip\n",
      "59.6MB [00:03, 19.3MB/s]\n"
     ]
    },
    {
     "name": "stdout",
     "output_type": "stream",
     "text": [
      "3FO4MLXQTVO2_Bedroom.zip\n",
      "3FO4MLXQJ0HS_Bedroom.zip\n",
      "3FO4MLXOM1KR_Bedroom.zip\n",
      "3FO4MLXLWQDK_Bedroom.zip\n",
      "3FO4MLXL3VKX_Bedroom.zip\n",
      "3FO4MLXKX9B9_Bedroom.zip\n",
      "3FO4MLX54JDN_Bedroom.zip\n",
      "3FO4MLWVD681_Bedroom.zip\n",
      "3FO4MLTARDRD_Living_room.zip\n"
     ]
    },
    {
     "name": "stderr",
     "output_type": "stream",
     "text": [
      "Downloading...\n",
      "From: https://drive.google.com/uc?id=1myG4In_fVjwXpSlYwDgVn7_ZvASU0RWz&export=download\n",
      "To: /media/scratch1/erbachj/Mask_RCNN/data/InteriorNet/data/HD7/train/3FO4MLTARDRD_Living_room.zip\n",
      "58.4MB [00:01, 50.2MB/s]\n"
     ]
    },
    {
     "name": "stdout",
     "output_type": "stream",
     "text": [
      "3FO4MLTARDRD_Bedroom.zip\n",
      "3FO4MLT7XS3V_Bedroom.zip\n",
      "3FO4MLT7ARA0_Bedroom.zip\n",
      "3FO4MLT702RS_Bedroom.zip\n",
      "3FO4MLT6S71Q_Bedroom.zip\n",
      "3FO4MLT5HIR3_Bedroom.zip\n",
      "3FO4MLT2TAC7_Living_room.zip\n"
     ]
    },
    {
     "name": "stderr",
     "output_type": "stream",
     "text": [
      "Downloading...\n",
      "From: https://drive.google.com/uc?id=1KEwR7umTI8r0llQ9-fq_VD0997mmhwdE&export=download\n",
      "To: /media/scratch1/erbachj/Mask_RCNN/data/InteriorNet/data/HD7/train/3FO4MLT2TAC7_Living_room.zip\n",
      "48.8MB [00:01, 29.8MB/s]\n"
     ]
    },
    {
     "name": "stdout",
     "output_type": "stream",
     "text": [
      "3FO4MLT2TAC7_Bedroom.zip\n",
      "3FO4MLT143T7_Bedroom.zip\n",
      "3FO4MLT126XM_Bedroom.zip\n",
      "3FO4MLT0E9GR_Bedroom.zip\n",
      "3FO4MLSYGRM2_Bedroom.zip\n",
      "3FO4MLSYC3RN_Bedroom.zip\n",
      "3FO4MLSSCYH4_Bedroom.zip\n",
      "3FO4MLSSB9AL_Bedroom.zip\n",
      "3FO4MLSS1EVN_Bedroom.zip\n",
      "3FO4MLSRONM5_Living_room.zip\n"
     ]
    },
    {
     "name": "stderr",
     "output_type": "stream",
     "text": [
      "Downloading...\n",
      "From: https://drive.google.com/uc?id=1C9kd9FrNrzjuAeMIA1X8Yq8p6rkybBa9&export=download\n",
      "To: /media/scratch1/erbachj/Mask_RCNN/data/InteriorNet/data/HD7/train/3FO4MLSRONM5_Living_room.zip\n",
      "66.3MB [00:00, 81.0MB/s]\n"
     ]
    },
    {
     "name": "stdout",
     "output_type": "stream",
     "text": [
      "3FO4MLSROA91_Bedroom.zip\n",
      "3FO4MLSRFHME_Bedroom.zip\n",
      "3FO4MLSR4VH8_Bedroom.zip\n",
      "3FO4MLSC83C6_Bedroom.zip\n",
      "3FO4MLS2PJ0P_Living_room.zip\n"
     ]
    },
    {
     "name": "stderr",
     "output_type": "stream",
     "text": [
      "Downloading...\n",
      "From: https://drive.google.com/uc?id=1EW_Jfrlpmui0m_Gdyd9yqW-f0D7TGlyz&export=download\n",
      "To: /media/scratch1/erbachj/Mask_RCNN/data/InteriorNet/data/HD7/train/3FO4MLS2PJ0P_Living_room.zip\n",
      "73.0MB [00:00, 89.8MB/s]\n"
     ]
    },
    {
     "name": "stdout",
     "output_type": "stream",
     "text": [
      "3FO4MLQPD4M1_Bedroom.zip\n",
      "3FO4MLP2BEPE_Bedroom.zip\n",
      "3FO4MLP0MQOU_Bedroom.zip\n",
      "3FO4MLNMEHAX_Bedroom.zip\n",
      "3FO4MLNMEALV_Bedroom.zip\n",
      "3FO4MLNM9SGJ_Living_room.zip\n"
     ]
    },
    {
     "name": "stderr",
     "output_type": "stream",
     "text": [
      "Downloading...\n",
      "From: https://drive.google.com/uc?id=1y1TYfF6JDHTVtJk3vp0D27Q66X3MEJ7N&export=download\n",
      "To: /media/scratch1/erbachj/Mask_RCNN/data/InteriorNet/data/HD7/train/3FO4MLNM9SGJ_Living_room.zip\n",
      "71.7MB [00:01, 52.0MB/s]\n"
     ]
    },
    {
     "name": "stdout",
     "output_type": "stream",
     "text": [
      "3FO4MLNM9SGJ_Bedroom.zip\n",
      "3FO4MLNM9LRH_Bedroom.zip\n",
      "3FO4MLNM786R_Bedroom.zip\n",
      "3FO4MLNM6N4L_Bedroom.zip\n",
      "3FO4MLNM5OOB_Bedroom.zip\n",
      "3FO4MLNM22M8_Bedroom.zip\n",
      "3FO4MLNLYKOH_Living_room.zip\n"
     ]
    },
    {
     "name": "stderr",
     "output_type": "stream",
     "text": [
      "Downloading...\n",
      "From: https://drive.google.com/uc?id=1Zvff9uAUUEdvxEFduGRFZw6SjQZT4puL&export=download\n",
      "To: /media/scratch1/erbachj/Mask_RCNN/data/InteriorNet/data/HD7/train/3FO4MLNLYKOH_Living_room.zip\n",
      "61.2MB [00:01, 52.9MB/s]\n"
     ]
    },
    {
     "name": "stdout",
     "output_type": "stream",
     "text": [
      "3FO4MLNLYKOH_Bedroom.zip\n",
      "3FO4MLNLVW2O_Living_room.zip\n"
     ]
    },
    {
     "name": "stderr",
     "output_type": "stream",
     "text": [
      "Downloading...\n",
      "From: https://drive.google.com/uc?id=1G0gNsrTYWkMW1jwgBnwQwVpG_U3BnfL8&export=download\n",
      "To: /media/scratch1/erbachj/Mask_RCNN/data/InteriorNet/data/HD7/train/3FO4MLNLVW2O_Living_room.zip\n",
      "60.6MB [00:01, 60.4MB/s]\n"
     ]
    },
    {
     "name": "stdout",
     "output_type": "stream",
     "text": [
      "3FO4MLNLVW2O_Bedroom.zip\n",
      "3FO4MLNLVPDM_Bedroom.zip\n",
      "3FO4MLNLVIOK_Living_room.zip\n"
     ]
    },
    {
     "name": "stderr",
     "output_type": "stream",
     "text": [
      "Downloading...\n",
      "From: https://drive.google.com/uc?id=1DPrifAzMbL6aIKIkSn0qhbqerbvwoeWI&export=download\n",
      "To: /media/scratch1/erbachj/Mask_RCNN/data/InteriorNet/data/HD7/train/3FO4MLNLVIOK_Living_room.zip\n",
      "51.7MB [00:01, 32.9MB/s]\n"
     ]
    },
    {
     "name": "stdout",
     "output_type": "stream",
     "text": [
      "3FO4MLNLVIOK_Bedroom.zip\n",
      "3FO4MLNLVC0I_Bedroom.zip\n",
      "3FO4MLNLUNLB_Living_room.zip\n"
     ]
    },
    {
     "name": "stderr",
     "output_type": "stream",
     "text": [
      "Downloading...\n",
      "From: https://drive.google.com/uc?id=1lyq0FDeyPAYJli7W9ndK_vTtLe9SEnsO&export=download\n",
      "To: /media/scratch1/erbachj/Mask_RCNN/data/InteriorNet/data/HD7/train/3FO4MLNLUNLB_Living_room.zip\n",
      "59.4MB [00:01, 38.0MB/s]\n"
     ]
    },
    {
     "name": "stdout",
     "output_type": "stream",
     "text": [
      "3FO4MLNLUNLB_Bedroom.zip\n",
      "3FO4MLNLU3J5_Bedroom.zip\n",
      "3FO4MLNLS6NK_Bedroom.zip\n",
      "3FO4MLNLRVMH_Living_room.zip\n"
     ]
    },
    {
     "name": "stderr",
     "output_type": "stream",
     "text": [
      "Downloading...\n",
      "From: https://drive.google.com/uc?id=1WqXVbnXKb_cWiq-iBxebMhkAil_Qq8eO&export=download\n",
      "To: /media/scratch1/erbachj/Mask_RCNN/data/InteriorNet/data/HD7/train/3FO4MLNLRVMH_Living_room.zip\n",
      "55.1MB [00:01, 48.6MB/s]\n"
     ]
    },
    {
     "name": "stdout",
     "output_type": "stream",
     "text": [
      "3FO4MLNLRVMH_Bedroom.zip\n",
      "3FO4MLNLQQI5_Bedroom.zip\n",
      "3FO4MLNLLKXL_Bedroom.zip\n",
      "3FO4MLNLKT7D_Bedroom.zip\n",
      "3FO4MLNLIWBS_Living_room.zip\n"
     ]
    },
    {
     "name": "stderr",
     "output_type": "stream",
     "text": [
      "Downloading...\n",
      "From: https://drive.google.com/uc?id=1ZnM6pUiFoInldrf8h1A6Zu4JWtQqAmiP&export=download\n",
      "To: /media/scratch1/erbachj/Mask_RCNN/data/InteriorNet/data/HD7/train/3FO4MLNLIWBS_Living_room.zip\n",
      "77.0MB [00:00, 92.3MB/s]\n"
     ]
    },
    {
     "name": "stdout",
     "output_type": "stream",
     "text": [
      "3FO4MLNLIWBS_Dining_room.zip\n"
     ]
    },
    {
     "name": "stderr",
     "output_type": "stream",
     "text": [
      "Downloading...\n",
      "From: https://drive.google.com/uc?id=10qUK4PGF8Dl1Aa4PG2jTLMJTevNyZe3T&export=download\n",
      "To: /media/scratch1/erbachj/Mask_RCNN/data/InteriorNet/data/HD7/train/3FO4MLNLIWBS_Dining_room.zip\n",
      "78.7MB [00:03, 23.1MB/s]\n"
     ]
    },
    {
     "name": "stdout",
     "output_type": "stream",
     "text": [
      "3FO4MLNLIWBS_Bedroom.zip\n",
      "3FO4MLNLG5CY_Bedroom.zip\n",
      "3FO4MLNLCOYX_Living_room.zip\n"
     ]
    },
    {
     "name": "stderr",
     "output_type": "stream",
     "text": [
      "Downloading...\n",
      "From: https://drive.google.com/uc?id=1Rm5X_o9k9yC8ZBXOjHkHpJnjEmT3Yktz&export=download\n",
      "To: /media/scratch1/erbachj/Mask_RCNN/data/InteriorNet/data/HD7/train/3FO4MLNLCOYX_Living_room.zip\n",
      "47.0MB [00:01, 32.2MB/s]\n"
     ]
    },
    {
     "name": "stdout",
     "output_type": "stream",
     "text": [
      "3FO4MLNLCOYX_Bedroom.zip\n",
      "3FO4MLNL9N01_Living_room.zip\n"
     ]
    },
    {
     "name": "stderr",
     "output_type": "stream",
     "text": [
      "Downloading...\n",
      "From: https://drive.google.com/uc?id=11RdZ3XAVDM-T1apb9NW2TURu8BlEwfVb&export=download\n",
      "To: /media/scratch1/erbachj/Mask_RCNN/data/InteriorNet/data/HD7/train/3FO4MLNL9N01_Living_room.zip\n",
      "75.7MB [00:01, 65.6MB/s]\n"
     ]
    },
    {
     "name": "stdout",
     "output_type": "stream",
     "text": [
      "3FO4MLNL9N01_Bedroom.zip\n",
      "3FO4MLNL7WSI_Bedroom.zip\n",
      "3FO4MLNL7MRF_Bedroom.zip\n",
      "3FO4MLNL40PC_Bedroom.zip\n",
      "3FO4MLNL3WDB_Bedroom.zip\n",
      "3FO4MLNL3FN6_Bedroom.zip\n",
      "3FO4MLNL38Y4_Bedroom.zip\n",
      "3FO4MLNKPPXD_Bedroom.zip\n",
      "3FO4MLNB7I7P_Bedroom.zip\n",
      "3FO4MLKJS9NK_Bedroom.zip\n",
      "3FO4MLKFPT8Y_Bedroom.zip\n",
      "3FO4MMIHCUU1_Living_room.zip\n"
     ]
    },
    {
     "name": "stderr",
     "output_type": "stream",
     "text": [
      "Downloading...\n",
      "From: https://drive.google.com/uc?id=1HF7sy5cUCsSQwkJvYrIG-uqfFnsZoKeF&export=download\n",
      "To: /media/scratch1/erbachj/Mask_RCNN/data/InteriorNet/data/HD7/train/3FO4MMIHCUU1_Living_room.zip\n",
      "58.5MB [00:00, 59.8MB/s]\n"
     ]
    },
    {
     "name": "stdout",
     "output_type": "stream",
     "text": [
      "3FO4MMGIB9AA_Bedroom.zip\n",
      "3FO4MM3KAGG9_Bedroom.zip\n",
      "3FO4MM1UB7KF_Bedroom.zip\n",
      "3FO4MM1TA0BL_Bedroom.zip\n",
      "3FO4MLXTILT3_Living_room.zip\n"
     ]
    },
    {
     "name": "stderr",
     "output_type": "stream",
     "text": [
      "Downloading...\n",
      "From: https://drive.google.com/uc?id=165iGl1rvKZiYzov7FN4j5Y8FN8U97a-S&export=download\n",
      "To: /media/scratch1/erbachj/Mask_RCNN/data/InteriorNet/data/HD7/train/3FO4MLXTILT3_Living_room.zip\n",
      "63.1MB [00:00, 89.4MB/s]\n"
     ]
    },
    {
     "name": "stdout",
     "output_type": "stream",
     "text": [
      "3FO4MLXS9NPX_Bedroom.zip\n",
      "3FO4MLU4U3WQ_Bedroom.zip\n",
      "3FO4MLSWL26E_Bedroom.zip\n",
      "3FO4MLNMCAEA_Bedroom.zip\n",
      "3FO4MLNLVC0I_Living_room.zip\n"
     ]
    },
    {
     "name": "stderr",
     "output_type": "stream",
     "text": [
      "Downloading...\n",
      "From: https://drive.google.com/uc?id=1IV2rBnJ-L2b7iaPG1fOGyIMMXyOlvKoi&export=download\n",
      "To: /media/scratch1/erbachj/Mask_RCNN/data/InteriorNet/data/HD7/train/3FO4MLNLVC0I_Living_room.zip\n",
      "60.7MB [00:01, 44.1MB/s]\n"
     ]
    },
    {
     "name": "stdout",
     "output_type": "stream",
     "text": [
      "3FO4MLNLF6WO_Bedroom.zip\n",
      "3FO4MLJKWYP3_Bedroom.zip\n",
      "3FO4ML06XMJT_Bedroom.zip\n",
      "3FO4MKV6CI92_Living_room.zip\n"
     ]
    },
    {
     "name": "stderr",
     "output_type": "stream",
     "text": [
      "Downloading...\n",
      "From: https://drive.google.com/uc?id=1j-6JWAUwg52g1FZ7TbO_vBgKVGjEm-ZD&export=download\n",
      "To: /media/scratch1/erbachj/Mask_RCNN/data/InteriorNet/data/HD7/train/3FO4MKV6CI92_Living_room.zip\n",
      "54.2MB [00:02, 24.8MB/s]\n"
     ]
    },
    {
     "name": "stdout",
     "output_type": "stream",
     "text": [
      "3FO4MKUV34CK_Bedroom.zip\n",
      "3FO4MKUOI2RR_Bedroom.zip\n",
      "3FO4MKR99WB8_Bedroom.zip\n",
      "3FO4MKR8J4II_Bedroom.zip\n",
      "3FO4MKR7NQ8F_Living_room.zip\n"
     ]
    },
    {
     "name": "stderr",
     "output_type": "stream",
     "text": [
      "Downloading...\n",
      "From: https://drive.google.com/uc?id=1GSxwAga1PCKTHCE7rBacXko4PyA6psb7&export=download\n",
      "To: /media/scratch1/erbachj/Mask_RCNN/data/InteriorNet/data/HD7/train/3FO4MKR7NQ8F_Living_room.zip\n",
      "67.6MB [00:02, 24.6MB/s]\n"
     ]
    },
    {
     "name": "stdout",
     "output_type": "stream",
     "text": [
      "3FO4MKOUMUHT_Bedroom.zip\n",
      "3FO4MKOTSPO4_Bedroom.zip\n",
      "3FO4MKMJMILU_Dining_room.zip\n"
     ]
    },
    {
     "name": "stderr",
     "output_type": "stream",
     "text": [
      "Downloading...\n",
      "From: https://drive.google.com/uc?id=1q0FKtYv27hATD3zo5DpfbBj2ZEC4jSf4&export=download\n",
      "To: /media/scratch1/erbachj/Mask_RCNN/data/InteriorNet/data/HD7/train/3FO4MKMJMILU_Dining_room.zip\n",
      "44.8MB [00:01, 37.6MB/s]\n"
     ]
    },
    {
     "name": "stdout",
     "output_type": "stream",
     "text": [
      "3FO4MKJ3VV93_Bedroom.zip\n",
      "3FO4MKGAX3GM_Bedroom.zip\n",
      "3FO4MKG86S1T_Bedroom.zip\n",
      "3FO4MKG1AK9O_Bedroom.zip\n",
      "3FO4MLHXUGTO_Bedroom.zip\n",
      "3FO4MLH9SFOU_Bedroom.zip\n",
      "3FO4MLGO4KOD_Bedroom.zip\n",
      "3FO4MLCFHV0O_Bedroom.zip\n",
      "3FO4ML4UQLEE_Bedroom.zip\n",
      "3FO4ML4U8CQX_Living_room.zip\n"
     ]
    },
    {
     "name": "stderr",
     "output_type": "stream",
     "text": [
      "Downloading...\n",
      "From: https://drive.google.com/uc?id=1HSFbxLtuqBYIWqgQi-cUHcqyY6b-tp66&export=download\n",
      "To: /media/scratch1/erbachj/Mask_RCNN/data/InteriorNet/data/HD7/train/3FO4ML4U8CQX_Living_room.zip\n",
      "28.7MB [00:00, 61.4MB/s]\n"
     ]
    },
    {
     "name": "stdout",
     "output_type": "stream",
     "text": [
      "3FO4ML47NKLQ_Bedroom.zip\n",
      "3FO4ML3MH45G_Bedroom.zip\n",
      "3FO4ML3KQPXE_Bedroom.zip\n",
      "3FO4ML3K80KS_Bedroom.zip\n",
      "3FO4ML24EQFY_Bedroom.zip\n",
      "3FO4ML1WSD2R_Bedroom.zip\n",
      "3FO4ML1VJLNO_Living_room.zip\n"
     ]
    },
    {
     "name": "stderr",
     "output_type": "stream",
     "text": [
      "Downloading...\n",
      "From: https://drive.google.com/uc?id=1qTCiKsvwtnMgS1B76If4-5ggqXjqnYX8&export=download\n",
      "To: /media/scratch1/erbachj/Mask_RCNN/data/InteriorNet/data/HD7/train/3FO4ML1VJLNO_Living_room.zip\n",
      "69.3MB [00:02, 25.5MB/s]\n"
     ]
    },
    {
     "name": "stdout",
     "output_type": "stream",
     "text": [
      "3FO4ML1O6NQJ_Bedroom.zip\n",
      "3FO4MKYUVJ02_Bedroom.zip\n",
      "3FO4MKYQIUSE_Bedroom.zip\n",
      "3FO4MKYQF5EA_Bedroom.zip\n",
      "3FO4MKYKDJ60_Bedroom.zip\n",
      "3FO4MKYB8155_Bedroom.zip\n",
      "3FO4MKY71NMD_Bedroom.zip\n",
      "3FO4MKXVN9AO_Living_room.zip\n"
     ]
    },
    {
     "name": "stderr",
     "output_type": "stream",
     "text": [
      "Downloading...\n",
      "From: https://drive.google.com/uc?id=1JxIsN4MQWVX3_XBFxBslGCTaSdTjX-76&export=download\n",
      "To: /media/scratch1/erbachj/Mask_RCNN/data/InteriorNet/data/HD7/train/3FO4MKXVN9AO_Living_room.zip\n",
      "47.2MB [00:01, 25.6MB/s]\n"
     ]
    },
    {
     "name": "stdout",
     "output_type": "stream",
     "text": [
      "3FO4MKW3RCQG_Bedroom.zip\n",
      "3FO4MKVFTATA_Bedroom.zip\n",
      "3FO4MKVCV4NF_Bedroom.zip\n",
      "3FO4MKV6IW9Y_Bedroom.zip\n",
      "3FO4MKV6GSPC_Bedroom.zip\n",
      "3FO4MKV6EIGN_Bedroom.zip\n",
      "3FO4MKV6D6N9_Bedroom.zip\n",
      "3FO4MKV6CBK0_Living_room.zip\n"
     ]
    },
    {
     "name": "stderr",
     "output_type": "stream",
     "text": [
      "Downloading...\n",
      "From: https://drive.google.com/uc?id=1SS2jixHcOioYRmfytR5WbqipbAdUXm9x&export=download\n",
      "To: /media/scratch1/erbachj/Mask_RCNN/data/InteriorNet/data/HD7/train/3FO4MKV6CBK0_Living_room.zip\n",
      "69.6MB [00:02, 24.7MB/s]\n"
     ]
    },
    {
     "name": "stdout",
     "output_type": "stream",
     "text": [
      "3FO4MKV6BTTU_Living_room.zip\n"
     ]
    },
    {
     "name": "stderr",
     "output_type": "stream",
     "text": [
      "Downloading...\n",
      "From: https://drive.google.com/uc?id=1kMjvqjSBEaVOcfEcuOHm4X6Azt_J4-zA&export=download\n",
      "To: /media/scratch1/erbachj/Mask_RCNN/data/InteriorNet/data/HD7/train/3FO4MKV6BTTU_Living_room.zip\n",
      "53.3MB [00:00, 80.2MB/s]\n"
     ]
    },
    {
     "name": "stdout",
     "output_type": "stream",
     "text": [
      "3FO4MKV6BTTU_Bedroom.zip\n",
      "3FO4MKV6BJSR_Living_room.zip\n"
     ]
    },
    {
     "name": "stderr",
     "output_type": "stream",
     "text": [
      "Downloading...\n",
      "From: https://drive.google.com/uc?id=1PpXyOSpXCrGBTJB7XPivvMgHUWCxaPBa&export=download\n",
      "To: /media/scratch1/erbachj/Mask_RCNN/data/InteriorNet/data/HD7/train/3FO4MKV6BJSR_Living_room.zip\n",
      "77.0MB [00:01, 76.6MB/s]\n"
     ]
    },
    {
     "name": "stdout",
     "output_type": "stream",
     "text": [
      "3FO4MKV6BJSR_Bedroom.zip\n",
      "3FO4MKV679CH_Living_room.zip\n"
     ]
    },
    {
     "name": "stderr",
     "output_type": "stream",
     "text": [
      "Downloading...\n",
      "From: https://drive.google.com/uc?id=1BQ5lHdu3FsO-Uj_cf9vbNL_mYuf4Avmn&export=download\n",
      "To: /media/scratch1/erbachj/Mask_RCNN/data/InteriorNet/data/HD7/train/3FO4MKV679CH_Living_room.zip\n",
      "71.9MB [00:01, 36.4MB/s]\n"
     ]
    },
    {
     "name": "stdout",
     "output_type": "stream",
     "text": [
      "3FO4MKV679CH_Bedroom.zip\n",
      "3FO4MKV6760G_Bedroom.zip\n",
      "3FO4MKV65PU1_Bedroom.zip\n",
      "3FO4MKV6594V_Bedroom.zip\n",
      "3FO4MKV5YVVA_Bedroom.zip\n",
      "3FO4MKV5YII6_Bedroom.zip\n",
      "3FO4MKV5WBLI_Bedroom.zip\n",
      "3FO4MKUV4TJ3_Bedroom.zip\n",
      "3FO4MKUV2MMF_Bedroom.zip\n",
      "3FO4MKUV2CLC_Living_room.zip\n"
     ]
    },
    {
     "name": "stderr",
     "output_type": "stream",
     "text": [
      "Downloading...\n",
      "From: https://drive.google.com/uc?id=1BdW0HNEHykgntGWaOWZIuj05-3zrm2Hq&export=download\n",
      "To: /media/scratch1/erbachj/Mask_RCNN/data/InteriorNet/data/HD7/train/3FO4MKUV2CLC_Living_room.zip\n",
      "63.0MB [00:01, 59.5MB/s]\n"
     ]
    },
    {
     "name": "stdout",
     "output_type": "stream",
     "text": [
      "3FO4MKUV2CLC_Dining_room.zip\n"
     ]
    },
    {
     "name": "stderr",
     "output_type": "stream",
     "text": [
      "Downloading...\n",
      "From: https://drive.google.com/uc?id=1vXodVCJSMN86Xp-99Q3GCrXEdWekUkmK&export=download\n",
      "To: /media/scratch1/erbachj/Mask_RCNN/data/InteriorNet/data/HD7/train/3FO4MKUV2CLC_Dining_room.zip\n",
      "62.4MB [00:03, 20.5MB/s]\n"
     ]
    },
    {
     "name": "stdout",
     "output_type": "stream",
     "text": [
      "3FO4MKUV2CLC_Bedroom.zip\n",
      "3FO4MKUV144Y_Living_room.zip\n"
     ]
    },
    {
     "name": "stderr",
     "output_type": "stream",
     "text": [
      "Downloading...\n",
      "From: https://drive.google.com/uc?id=19FuuRYIqhYufjRXAEANwIfXBBXlvoXbf&export=download\n",
      "To: /media/scratch1/erbachj/Mask_RCNN/data/InteriorNet/data/HD7/train/3FO4MKUV144Y_Living_room.zip\n",
      "64.5MB [00:00, 73.7MB/s]\n"
     ]
    },
    {
     "name": "stdout",
     "output_type": "stream",
     "text": [
      "3FO4MKUV144Y_Bedroom.zip\n",
      "3FO4MKUV0PQU_Living_room.zip\n"
     ]
    },
    {
     "name": "stderr",
     "output_type": "stream",
     "text": [
      "Downloading...\n",
      "From: https://drive.google.com/uc?id=1jeac3Dr7z6vQFqCSG37Rjc-R2-etNPOB&export=download\n",
      "To: /media/scratch1/erbachj/Mask_RCNN/data/InteriorNet/data/HD7/train/3FO4MKUV0PQU_Living_room.zip\n",
      "60.2MB [00:01, 51.3MB/s]\n"
     ]
    },
    {
     "name": "stdout",
     "output_type": "stream",
     "text": [
      "3FO4MKUV0PQU_Guest_room.zip\n"
     ]
    },
    {
     "name": "stderr",
     "output_type": "stream",
     "text": [
      "Downloading...\n",
      "From: https://drive.google.com/uc?id=1nQrBGr1IENowwL-UzBbNziKdGgJPe6Fz&export=download\n",
      "To: /media/scratch1/erbachj/Mask_RCNN/data/InteriorNet/data/HD7/train/3FO4MKUV0PQU_Guest_room.zip\n",
      "62.0MB [00:01, 31.0MB/s]\n"
     ]
    },
    {
     "name": "stdout",
     "output_type": "stream",
     "text": [
      "3FO4MKUV0PQU_Bedroom.zip\n",
      "3FO4MKUV0MET_Bedroom.zip\n",
      "3FO4MKUUV8LI_Bedroom.zip\n",
      "3FO4MKUUOTKL_Bedroom.zip\n",
      "3FO4MKUUOCUG_Bedroom.zip\n",
      "3FO4MKUOI2RR_Living_room.zip\n"
     ]
    },
    {
     "name": "stderr",
     "output_type": "stream",
     "text": [
      "Downloading...\n",
      "From: https://drive.google.com/uc?id=1FdUltHz4W-oTL698hEJDo-qjd_Wx1Gl8&export=download\n",
      "To: /media/scratch1/erbachj/Mask_RCNN/data/InteriorNet/data/HD7/train/3FO4MKUOI2RR_Living_room.zip\n",
      "70.2MB [00:01, 50.8MB/s]\n"
     ]
    },
    {
     "name": "stdout",
     "output_type": "stream",
     "text": [
      "3FO4MKU93V3I_Bedroom.zip\n",
      "3FO4MKU0P0XM_Living_room.zip\n"
     ]
    },
    {
     "name": "stderr",
     "output_type": "stream",
     "text": [
      "Downloading...\n",
      "From: https://drive.google.com/uc?id=1oXx0O73llfX5lpWtO-7WUVQj32JF9e_3&export=download\n",
      "To: /media/scratch1/erbachj/Mask_RCNN/data/InteriorNet/data/HD7/train/3FO4MKU0P0XM_Living_room.zip\n",
      "63.7MB [00:01, 52.2MB/s]\n"
     ]
    },
    {
     "name": "stdout",
     "output_type": "stream",
     "text": [
      "3FO4MKU0P0XM_Bedroom.zip\n",
      "3FO4MKTR2QK8_Living_room.zip\n"
     ]
    },
    {
     "name": "stderr",
     "output_type": "stream",
     "text": [
      "Downloading...\n",
      "From: https://drive.google.com/uc?id=10-ihsyW93FhwAtbYxnzWME1w1oFH5VZw&export=download\n",
      "To: /media/scratch1/erbachj/Mask_RCNN/data/InteriorNet/data/HD7/train/3FO4MKTR2QK8_Living_room.zip\n",
      "52.6MB [00:00, 88.2MB/s]\n"
     ]
    },
    {
     "name": "stdout",
     "output_type": "stream",
     "text": [
      "3FO4MKTR2QK8_Bedroom.zip\n",
      "3FO4MKSB56Y4_Bedroom.zip\n",
      "3FO4MKS71BE3_Bedroom.zip\n",
      "3FO4MKS6T8XY_Bedroom.zip\n",
      "3FO4MKS6LS5Q_Bedroom.zip\n",
      "3FO4MKS6HYEL_Bedroom.zip\n",
      "3FO4MKS6GCK4_Bedroom.zip\n",
      "3FO4MKS624CU_Bedroom.zip\n",
      "3FO4MKRH9J8U_Bedroom.zip\n",
      "3FO4MKR9AY3J_Bedroom.zip\n",
      "3FO4MKR9720D_Bedroom.zip\n",
      "3FO4MKR8X9DQ_Living_room.zip\n"
     ]
    },
    {
     "name": "stderr",
     "output_type": "stream",
     "text": [
      "Downloading...\n",
      "From: https://drive.google.com/uc?id=1nDNAFNe4PTap7eifC1aXXbMeu6mTrTfA&export=download\n",
      "To: /media/scratch1/erbachj/Mask_RCNN/data/InteriorNet/data/HD7/train/3FO4MKR8X9DQ_Living_room.zip\n",
      "67.5MB [00:02, 24.8MB/s]\n"
     ]
    },
    {
     "name": "stdout",
     "output_type": "stream",
     "text": [
      "3FO4MKR8X9DQ_Bedroom.zip\n",
      "3FO4MKR8WOBK_Bedroom.zip\n",
      "3FO4MKR8W49E_Bedroom.zip\n",
      "3FO4MKR8SXWG_Bedroom.zip\n",
      "3FO4MKR8RSS4_Bedroom.zip\n",
      "3FO4MKR8MTWM_Living_room.zip\n"
     ]
    },
    {
     "name": "stderr",
     "output_type": "stream",
     "text": [
      "Downloading...\n",
      "From: https://drive.google.com/uc?id=1ZI8Vq8cdBMgytQmiAAFXwRlm2DU5Wt74&export=download\n",
      "To: /media/scratch1/erbachj/Mask_RCNN/data/InteriorNet/data/HD7/train/3FO4MKR8MTWM_Living_room.zip\n",
      "57.6MB [00:02, 20.6MB/s]\n"
     ]
    },
    {
     "name": "stdout",
     "output_type": "stream",
     "text": [
      "3FO4MKR8MTWM_Dining_room.zip\n"
     ]
    },
    {
     "name": "stderr",
     "output_type": "stream",
     "text": [
      "Downloading...\n",
      "From: https://drive.google.com/uc?id=1ttjdIfkhejSXUR2snchv9YnAMrCM6ORy&export=download\n",
      "To: /media/scratch1/erbachj/Mask_RCNN/data/InteriorNet/data/HD7/train/3FO4MKR8MTWM_Dining_room.zip\n",
      "53.1MB [00:00, 59.0MB/s]\n"
     ]
    },
    {
     "name": "stdout",
     "output_type": "stream",
     "text": [
      "3FO4MKR8MTWM_Bedroom.zip\n",
      "3FO4MKR8KTP1_Living_room.zip\n"
     ]
    },
    {
     "name": "stderr",
     "output_type": "stream",
     "text": [
      "Downloading...\n",
      "From: https://drive.google.com/uc?id=1GreP57i9GpyeBAbABSZ9wcSgWAvthG5D&export=download\n",
      "To: /media/scratch1/erbachj/Mask_RCNN/data/InteriorNet/data/HD7/train/3FO4MKR8KTP1_Living_room.zip\n",
      "57.3MB [00:01, 30.5MB/s]\n"
     ]
    },
    {
     "name": "stdout",
     "output_type": "stream",
     "text": [
      "3FO4MKR8JB7K_Living_room.zip\n"
     ]
    },
    {
     "name": "stderr",
     "output_type": "stream",
     "text": [
      "Downloading...\n",
      "From: https://drive.google.com/uc?id=1Qg49phlG6eQPn536K_J2m4bfADBb3Wll&export=download\n",
      "To: /media/scratch1/erbachj/Mask_RCNN/data/InteriorNet/data/HD7/train/3FO4MKR8JB7K_Living_room.zip\n",
      "60.0MB [00:00, 92.1MB/s]\n"
     ]
    },
    {
     "name": "stdout",
     "output_type": "stream",
     "text": [
      "3FO4MKR8JB7K_Dining_room.zip\n"
     ]
    },
    {
     "name": "stderr",
     "output_type": "stream",
     "text": [
      "Downloading...\n",
      "From: https://drive.google.com/uc?id=1b02K4nJ5u7L0s03KgpTwSrwwBkkGmzCw&export=download\n",
      "To: /media/scratch1/erbachj/Mask_RCNN/data/InteriorNet/data/HD7/train/3FO4MKR8JB7K_Dining_room.zip\n",
      "74.9MB [00:02, 36.9MB/s]\n"
     ]
    },
    {
     "name": "stdout",
     "output_type": "stream",
     "text": [
      "3FO4MKR8JB7K_Bedroom.zip\n",
      "3FO4MKR8GCJO_Bedroom.zip\n",
      "3FO4MKR8ECC3_Bedroom.zip\n",
      "3FO4MKR8DAJR_Living_room.zip\n"
     ]
    },
    {
     "name": "stderr",
     "output_type": "stream",
     "text": [
      "Downloading...\n",
      "From: https://drive.google.com/uc?id=1uZ9t7NcXvcrnWpeTpJ7J3mi-BbnxgJad&export=download\n",
      "To: /media/scratch1/erbachj/Mask_RCNN/data/InteriorNet/data/HD7/train/3FO4MKR8DAJR_Living_room.zip\n",
      "81.2MB [00:03, 24.8MB/s]\n"
     ]
    },
    {
     "name": "stdout",
     "output_type": "stream",
     "text": [
      "3FO4MKR8DAJR_Dining_room.zip\n"
     ]
    },
    {
     "name": "stderr",
     "output_type": "stream",
     "text": [
      "Downloading...\n",
      "From: https://drive.google.com/uc?id=1pZs2F2fvvYKNhqLZ6zFCRlGzb4-Z9chU&export=download\n",
      "To: /media/scratch1/erbachj/Mask_RCNN/data/InteriorNet/data/HD7/train/3FO4MKR8DAJR_Dining_room.zip\n",
      "84.1MB [00:03, 27.3MB/s]\n"
     ]
    },
    {
     "name": "stdout",
     "output_type": "stream",
     "text": [
      "3FO4MKR8ASM1_Bedroom.zip\n",
      "3FO4MKR85N2H_Bedroom.zip\n",
      "3FO4MKR84B93_Bedroom.zip\n",
      "3FO4MKR84180_Bedroom.zip\n",
      "3FO4MKR82B1H_Bedroom.zip\n",
      "3FO4MKR81JA9_Living_room.zip\n"
     ]
    },
    {
     "name": "stderr",
     "output_type": "stream",
     "text": [
      "Downloading...\n",
      "From: https://drive.google.com/uc?id=1TH-nX4-pW1I29LdqWtHj6vUP_C1-NE1J&export=download\n",
      "To: /media/scratch1/erbachj/Mask_RCNN/data/InteriorNet/data/HD7/train/3FO4MKR81JA9_Living_room.zip\n",
      "57.2MB [00:01, 54.8MB/s]\n"
     ]
    },
    {
     "name": "stdout",
     "output_type": "stream",
     "text": [
      "3FO4MKR81JA9_Bedroom.zip\n",
      "3FO4MKR812K4_Bedroom.zip\n",
      "3FO4MKR80E5W_Bedroom.zip\n",
      "3FO4MKR7NTKG_Bedroom.zip\n",
      "3FO4MKR7NQ8F_Bedroom.zip\n",
      "3FO4MKR7LFYQ_Bedroom.zip\n",
      "3FO4MKR7K0TB_Living_room.zip\n"
     ]
    },
    {
     "name": "stderr",
     "output_type": "stream",
     "text": [
      "Downloading...\n",
      "From: https://drive.google.com/uc?id=1tWFDkfKvTKsw3fany613pq9D-Qk5CfSX&export=download\n",
      "To: /media/scratch1/erbachj/Mask_RCNN/data/InteriorNet/data/HD7/train/3FO4MKR7K0TB_Living_room.zip\n",
      "59.3MB [00:01, 54.8MB/s]\n"
     ]
    },
    {
     "name": "stdout",
     "output_type": "stream",
     "text": [
      "3FO4MKR7K0TB_Dining_room.zip\n"
     ]
    },
    {
     "name": "stderr",
     "output_type": "stream",
     "text": [
      "Downloading...\n",
      "From: https://drive.google.com/uc?id=11YncYqNHRzUBIMmdi73ycX1PI50TNdJI&export=download\n",
      "To: /media/scratch1/erbachj/Mask_RCNN/data/InteriorNet/data/HD7/train/3FO4MKR7K0TB_Dining_room.zip\n",
      "57.9MB [00:01, 48.9MB/s]\n"
     ]
    },
    {
     "name": "stdout",
     "output_type": "stream",
     "text": [
      "3FO4MKR7K0TB_Bedroom.zip\n",
      "3FO4MKQLTCAA_Bedroom.zip\n",
      "3FO4MKQCYIQM_Bedroom.zip\n",
      "3FO4MKQ5TVPY_Bedroom.zip\n",
      "3FO4MKPMTNIH_Bedroom.zip\n",
      "3FO4MKOURMO9_Bedroom.zip\n",
      "3FO4MKOUP93J_Bedroom.zip\n",
      "3FO4MKOUNFK0_Bedroom.zip\n",
      "3FO4MKOUMXTU_Bedroom.zip\n",
      "3FO4MKOUMUHT_Living_room.zip\n"
     ]
    },
    {
     "name": "stderr",
     "output_type": "stream",
     "text": [
      "Downloading...\n",
      "From: https://drive.google.com/uc?id=1TgkwE6gntlYWKBxR4AgL1Z4gMtuidFlI&export=download\n",
      "To: /media/scratch1/erbachj/Mask_RCNN/data/InteriorNet/data/HD7/train/3FO4MKOUMUHT_Living_room.zip\n",
      "66.8MB [00:01, 64.6MB/s]\n"
     ]
    },
    {
     "name": "stdout",
     "output_type": "stream",
     "text": [
      "3FO4MKOUK6V1_Living_room.zip\n"
     ]
    },
    {
     "name": "stderr",
     "output_type": "stream",
     "text": [
      "Downloading...\n",
      "From: https://drive.google.com/uc?id=1sZThAwRjaaDqTDDjT39uxSfbIfvYAR18&export=download\n",
      "To: /media/scratch1/erbachj/Mask_RCNN/data/InteriorNet/data/HD7/train/3FO4MKOUK6V1_Living_room.zip\n",
      "67.9MB [00:00, 80.4MB/s]\n"
     ]
    },
    {
     "name": "stdout",
     "output_type": "stream",
     "text": [
      "3FO4MKOUK6V1_Bedroom.zip\n",
      "3FO4MKOUI6NF_Living_room.zip\n"
     ]
    },
    {
     "name": "stderr",
     "output_type": "stream",
     "text": [
      "Downloading...\n",
      "From: https://drive.google.com/uc?id=1yu0FAMcqWJSnC50wW6VFKx3a79zK47OR&export=download\n",
      "To: /media/scratch1/erbachj/Mask_RCNN/data/InteriorNet/data/HD7/train/3FO4MKOUI6NF_Living_room.zip\n",
      "65.9MB [00:02, 31.3MB/s]\n"
     ]
    },
    {
     "name": "stdout",
     "output_type": "stream",
     "text": [
      "3FO4MKOUI6NF_Bedroom.zip\n",
      "3FO4MKOUI3BE_Living_room.zip\n"
     ]
    },
    {
     "name": "stderr",
     "output_type": "stream",
     "text": [
      "Downloading...\n",
      "From: https://drive.google.com/uc?id=1XkzXR_zfPlZVoxvlQC9CgsN7xYupvcxA&export=download\n",
      "To: /media/scratch1/erbachj/Mask_RCNN/data/InteriorNet/data/HD7/train/3FO4MKOUI3BE_Living_room.zip\n",
      "57.6MB [00:00, 78.6MB/s]\n"
     ]
    },
    {
     "name": "stdout",
     "output_type": "stream",
     "text": [
      "3FO4MKOUI3BE_Dining_room.zip\n"
     ]
    },
    {
     "name": "stderr",
     "output_type": "stream",
     "text": [
      "Downloading...\n",
      "From: https://drive.google.com/uc?id=1Rwjw8BzhS4sNnHoPT3Fu74BGEOKhGg3K&export=download\n",
      "To: /media/scratch1/erbachj/Mask_RCNN/data/InteriorNet/data/HD7/train/3FO4MKOUI3BE_Dining_room.zip\n",
      "60.8MB [00:01, 50.4MB/s]\n"
     ]
    },
    {
     "name": "stdout",
     "output_type": "stream",
     "text": [
      "3FO4MKOUI3BE_Bedroom.zip\n",
      "3FO4MKOUG6FT_Bedroom.zip\n",
      "3FO4MKOU5NMO_Bedroom.zip\n",
      "3FO4MKOU5GXM_Bedroom.zip\n",
      "3FO4MKOU4BTA_Bedroom.zip\n",
      "3FO4MKOU04P1_Bedroom.zip\n",
      "3FO4MKOTXEII_Bedroom.zip\n",
      "3FO4MKOTX4HF_Bedroom.zip\n",
      "3FO4MKOTRDUP_Bedroom.zip\n",
      "3FO4MKOTQ8QD_Bedroom.zip\n",
      "3FO4MKOTNXHO_Bedroom.zip\n",
      "3FO4MKOTJN1E_Bedroom.zip\n",
      "3FO4MKOTGB0E_Bedroom.zip\n",
      "3FO4MKOTF983_Bedroom.zip\n",
      "3FO4MKOT8DH1_Bedroom.zip\n",
      "3FO4MKOT3RYN_Living_room.zip\n"
     ]
    },
    {
     "name": "stderr",
     "output_type": "stream",
     "text": [
      "Downloading...\n",
      "From: https://drive.google.com/uc?id=1OARoEuJqgP0UJNl6mmxdOkazbeRczOka&export=download\n",
      "To: /media/scratch1/erbachj/Mask_RCNN/data/InteriorNet/data/HD7/train/3FO4MKOT3RYN_Living_room.zip\n",
      "73.5MB [00:02, 33.1MB/s]\n"
     ]
    },
    {
     "name": "stdout",
     "output_type": "stream",
     "text": [
      "3FO4MKOT3RYN_Bedroom.zip\n",
      "3FO4MKOT37WH_Bedroom.zip\n",
      "3FO4MKOD69AW_Bedroom.zip\n",
      "3FO4MKO51K5R_Bedroom.zip\n",
      "3FO4MKMSP2YT_Bedroom.zip\n",
      "3FO4MKMJMILU_Living_room.zip\n"
     ]
    },
    {
     "name": "stderr",
     "output_type": "stream",
     "text": [
      "Downloading...\n",
      "From: https://drive.google.com/uc?id=1dkovlqQkuF3QtVMeuW1lYLTUDN80aC79&export=download\n",
      "To: /media/scratch1/erbachj/Mask_RCNN/data/InteriorNet/data/HD7/train/3FO4MKMJMILU_Living_room.zip\n",
      "56.2MB [00:01, 51.8MB/s]\n"
     ]
    },
    {
     "name": "stdout",
     "output_type": "stream",
     "text": [
      "3FO4MKMG4UC6_Living_room.zip\n"
     ]
    },
    {
     "name": "stderr",
     "output_type": "stream",
     "text": [
      "Downloading...\n",
      "From: https://drive.google.com/uc?id=1QoP33IJ0eY4WkBbSb_ME5wq-uPhVDHLh&export=download\n",
      "To: /media/scratch1/erbachj/Mask_RCNN/data/InteriorNet/data/HD7/train/3FO4MKMG4UC6_Living_room.zip\n",
      "75.2MB [00:04, 15.5MB/s]\n"
     ]
    },
    {
     "name": "stdout",
     "output_type": "stream",
     "text": [
      "3FO4MKMG4UC6_Guest_room.zip\n"
     ]
    },
    {
     "name": "stderr",
     "output_type": "stream",
     "text": [
      "Downloading...\n",
      "From: https://drive.google.com/uc?id=12_wqr4kjmgSe_zE--q5qQfhcaxga9bzr&export=download\n",
      "To: /media/scratch1/erbachj/Mask_RCNN/data/InteriorNet/data/HD7/train/3FO4MKMG4UC6_Guest_room.zip\n",
      "32.3MB [00:02, 16.0MB/s]\n"
     ]
    },
    {
     "name": "stdout",
     "output_type": "stream",
     "text": [
      "3FO4MKMG4UC6_Bedroom.zip\n",
      "3FO4MKM7BNN0_Bedroom.zip\n",
      "3FO4MKM1SB26_Bedroom.zip\n",
      "3FO4MKLXMAOY_Bedroom.zip\n",
      "3FO4MKLS7K68_Bedroom.zip\n",
      "3FO4MKLOR0G6_Bedroom.zip\n",
      "3FO4MKLGYMMP_Bedroom.zip\n",
      "3FO4MKK6J762_Bedroom.zip\n",
      "3FO4MKJXU6DL_Bedroom.zip\n",
      "3FO4MKJWJEQW_Bedroom.zip\n",
      "3FO4MKJRSNHC_Bedroom.zip\n",
      "3FO4MKJP6DHQ_Bedroom.zip\n",
      "3FO4MKIWVSI9_Living_room.zip\n"
     ]
    },
    {
     "name": "stderr",
     "output_type": "stream",
     "text": [
      "Downloading...\n",
      "From: https://drive.google.com/uc?id=1EPQ54xCJwEVBosmWxxPK0OXWTSNixqnc&export=download\n",
      "To: /media/scratch1/erbachj/Mask_RCNN/data/InteriorNet/data/HD7/train/3FO4MKIWVSI9_Living_room.zip\n",
      "65.0MB [00:01, 48.5MB/s]\n"
     ]
    },
    {
     "name": "stdout",
     "output_type": "stream",
     "text": [
      "3FO4MKIWVSI9_Bedroom.zip\n",
      "3FO4MKIU69TO_Bedroom.zip\n",
      "3FO4MKIE9OL8_Bedroom.zip\n",
      "3FO4MKI21I96_Bedroom.zip\n",
      "3FO4MKHWXB3C_Bedroom.zip\n",
      "3FO4MKHTN3LV_Bedroom.zip\n",
      "3FO4MKH5YMA4_Living_room.zip\n"
     ]
    },
    {
     "name": "stderr",
     "output_type": "stream",
     "text": [
      "Downloading...\n",
      "From: https://drive.google.com/uc?id=1xAq21K30SnZTxqdDJ5UJs5z1RmT70om7&export=download\n",
      "To: /media/scratch1/erbachj/Mask_RCNN/data/InteriorNet/data/HD7/train/3FO4MKH5YMA4_Living_room.zip\n",
      "64.6MB [00:00, 85.9MB/s]\n"
     ]
    },
    {
     "name": "stdout",
     "output_type": "stream",
     "text": [
      "3FO4MKH5YMA4_Dining_room.zip\n"
     ]
    },
    {
     "name": "stderr",
     "output_type": "stream",
     "text": [
      "Downloading...\n",
      "From: https://drive.google.com/uc?id=1mtowdOLdPmqNOr5yPySwHcA5_kb4WWAA&export=download\n",
      "To: /media/scratch1/erbachj/Mask_RCNN/data/InteriorNet/data/HD7/train/3FO4MKH5YMA4_Dining_room.zip\n",
      "57.5MB [00:02, 25.1MB/s]\n"
     ]
    },
    {
     "name": "stdout",
     "output_type": "stream",
     "text": [
      "3FO4MKH5YMA4_Bedroom.zip\n",
      "3FO4MKGEE4VT_Bedroom.zip\n",
      "3FO4MKGDFVAV_Bedroom.zip\n",
      "3FO4MKGBI8YN_Bedroom.zip\n",
      "3FO4MKGBE1UE_Bedroom.zip\n",
      "3FO4MKGAVGM5_Bedroom.zip\n",
      "3FO4MKGAQB2L_Bedroom.zip\n",
      "3FO4MKGAI064_Bedroom.zip\n",
      "3FO4MKGADLCS_Bedroom.zip\n",
      "3FO4MKGACTLK_Bedroom.zip\n",
      "3FO4MKGA8WIE_Bedroom.zip\n",
      "3FO4MKG9G7U4_Bedroom.zip\n",
      "3FO4MKG9DCJ9_Bedroom.zip\n",
      "3FO4MKG93VIF_Bedroom.zip\n",
      "3FO4MKG90WUJ_Living_room.zip\n"
     ]
    },
    {
     "name": "stderr",
     "output_type": "stream",
     "text": [
      "Downloading...\n",
      "From: https://drive.google.com/uc?id=1GBaooIrWrdEeYs9dLb74zRUmALPpXaXQ&export=download\n",
      "To: /media/scratch1/erbachj/Mask_RCNN/data/InteriorNet/data/HD7/train/3FO4MKG90WUJ_Living_room.zip\n",
      "61.2MB [00:04, 14.4MB/s]\n"
     ]
    },
    {
     "name": "stdout",
     "output_type": "stream",
     "text": [
      "3FO4MKG90WUJ_Bedroom.zip\n",
      "3FO4MKG8KMUY_Bedroom.zip\n",
      "3FO4MKG8KCTV_Bedroom.zip\n",
      "3FO4MKG8EPK7_Bedroom.zip\n",
      "3FO4MKG7D8AA_Bedroom.zip\n",
      "3FO4MKG2W82M_Living_room.zip\n"
     ]
    },
    {
     "name": "stderr",
     "output_type": "stream",
     "text": [
      "Downloading...\n",
      "From: https://drive.google.com/uc?id=1XRG41dRTyRzx163dePjqXY9yrwblPXaD&export=download\n",
      "To: /media/scratch1/erbachj/Mask_RCNN/data/InteriorNet/data/HD7/train/3FO4MKG2W82M_Living_room.zip\n",
      "52.2MB [00:01, 31.5MB/s]\n"
     ]
    },
    {
     "name": "stdout",
     "output_type": "stream",
     "text": [
      "3FO4MKG2MABN_Bedroom.zip\n",
      "3FO4MKG2M3ML_Bedroom.zip\n",
      "3FO4MKG25K6N_Living_room.zip\n"
     ]
    },
    {
     "name": "stderr",
     "output_type": "stream",
     "text": [
      "Downloading...\n",
      "From: https://drive.google.com/uc?id=1qSlkvSArvL-PV6IzRgChmFKZjlHO-zgt&export=download\n",
      "To: /media/scratch1/erbachj/Mask_RCNN/data/InteriorNet/data/HD7/train/3FO4MKG25K6N_Living_room.zip\n",
      "46.0MB [00:00, 59.4MB/s]\n"
     ]
    },
    {
     "name": "stdout",
     "output_type": "stream",
     "text": [
      "3FO4MKG25K6N_Bedroom.zip\n",
      "3FO4MKG1XL3K_Living_room.zip\n"
     ]
    },
    {
     "name": "stderr",
     "output_type": "stream",
     "text": [
      "Downloading...\n",
      "From: https://drive.google.com/uc?id=1_ckhjrt9qYw72nwsPZrcXwUriJ_B0nUk&export=download\n",
      "To: /media/scratch1/erbachj/Mask_RCNN/data/InteriorNet/data/HD7/train/3FO4MKG1XL3K_Living_room.zip\n",
      "55.2MB [00:00, 56.1MB/s]\n"
     ]
    },
    {
     "name": "stdout",
     "output_type": "stream",
     "text": [
      "3FO4MKG1XL3K_Bedroom.zip\n",
      "3FO4MKG1TUOG_Bedroom.zip\n",
      "3FO4MKG1SC70_Bedroom.zip\n",
      "3FO4MKG1PGV5_Bedroom.zip\n",
      "3FO4MKG1GKWH_Bedroom.zip\n",
      "3FO4MKG1DIWK_Bedroom.zip\n",
      "3FO4MKG1AK9O_Living_room.zip\n"
     ]
    },
    {
     "name": "stderr",
     "output_type": "stream",
     "text": [
      "Downloading...\n",
      "From: https://drive.google.com/uc?id=1fkUpLy2mnT7mbhMF5gN6iNFoRvntbtJ0&export=download\n",
      "To: /media/scratch1/erbachj/Mask_RCNN/data/InteriorNet/data/HD7/train/3FO4MKG1AK9O_Living_room.zip\n",
      "51.4MB [00:01, 29.0MB/s]\n"
     ]
    },
    {
     "name": "stdout",
     "output_type": "stream",
     "text": [
      "3FO4MKFDAERV_Bedroom.zip\n",
      "3FO4MK0IPYWF_Guest_room.zip\n"
     ]
    },
    {
     "name": "stderr",
     "output_type": "stream",
     "text": [
      "Downloading...\n",
      "From: https://drive.google.com/uc?id=1PrxeGrCiU8viT2OgKROG6EmatmiYGMGd&export=download\n",
      "To: /media/scratch1/erbachj/Mask_RCNN/data/InteriorNet/data/HD7/train/3FO4MK0IPYWF_Guest_room.zip\n",
      "62.2MB [00:01, 32.1MB/s]\n"
     ]
    },
    {
     "name": "stdout",
     "output_type": "stream",
     "text": [
      "3FO4MJ98KARL_Living_room.zip\n"
     ]
    },
    {
     "name": "stderr",
     "output_type": "stream",
     "text": [
      "Downloading...\n",
      "From: https://drive.google.com/uc?id=1nSHDBhAeTDQT8zBHgllJeiRHq1-9cv-F&export=download\n",
      "To: /media/scratch1/erbachj/Mask_RCNN/data/InteriorNet/data/HD7/train/3FO4MJ98KARL_Living_room.zip\n",
      "65.4MB [00:01, 44.1MB/s]\n"
     ]
    },
    {
     "name": "stdout",
     "output_type": "stream",
     "text": [
      "3FO4MJ4CDIWM_Bedroom.zip\n",
      "3FO4MJ0IUES1_Bedroom.zip\n",
      "3FO4MIW0MGB5_Bedroom.zip\n",
      "3FO4MIVYHSOA_Bedroom.zip\n",
      "3FO4MIVP5SAH_Bedroom.zip\n",
      "3FO4MIN18PB8_Bedroom.zip\n",
      "3FO4MIHPW389_Bedroom.zip\n",
      "3FO4MIHP8AN5_Bedroom.zip\n",
      "3FO4MIHOH4HB_Living_room.zip\n"
     ]
    },
    {
     "name": "stderr",
     "output_type": "stream",
     "text": [
      "Downloading...\n",
      "From: https://drive.google.com/uc?id=10wR5XOJoKKxhaKob7u-lWBPz1_mikfGo&export=download\n",
      "To: /media/scratch1/erbachj/Mask_RCNN/data/InteriorNet/data/HD7/train/3FO4MIHOH4HB_Living_room.zip\n",
      "67.9MB [00:00, 80.5MB/s]\n"
     ]
    },
    {
     "name": "stdout",
     "output_type": "stream",
     "text": [
      "3FO4MIHNOBH0_Bedroom.zip\n",
      "3FO4MKG13RUN_Bedroom.zip\n",
      "3FO4MKFXW68Q_Bedroom.zip\n",
      "3FO4MKFOBXAH_Bedroom.zip\n",
      "3FO4MKFO5FWJ_Bedroom.zip\n",
      "3FO4MKFO4KTA_Bedroom.zip\n",
      "3FO4MKFO3ME0_Bedroom.zip\n",
      "3FO4MKFO2DWM_Bedroom.zip\n",
      "3FO4MKFO18SA_Bedroom.zip\n",
      "3FO4MKFE6QI9_Living_room.zip\n"
     ]
    },
    {
     "name": "stderr",
     "output_type": "stream",
     "text": [
      "Downloading...\n",
      "From: https://drive.google.com/uc?id=1oeF_yuk0M7ZVGWb_bM_lCiMmFtpThAqr&export=download\n",
      "To: /media/scratch1/erbachj/Mask_RCNN/data/InteriorNet/data/HD7/train/3FO4MKFE6QI9_Living_room.zip\n",
      "54.8MB [00:00, 70.3MB/s]\n"
     ]
    },
    {
     "name": "stdout",
     "output_type": "stream",
     "text": [
      "3FO4MKFE6QI9_Bedroom.zip\n",
      "3FO4MKFDTSJO_Living_room.zip\n"
     ]
    },
    {
     "name": "stderr",
     "output_type": "stream",
     "text": [
      "Downloading...\n",
      "From: https://drive.google.com/uc?id=1Bp2_xUAeD-eBMQrB_aqK8Fq42wsAXsQA&export=download\n",
      "To: /media/scratch1/erbachj/Mask_RCNN/data/InteriorNet/data/HD7/train/3FO4MKFDTSJO_Living_room.zip\n",
      "56.4MB [00:01, 54.4MB/s]\n"
     ]
    },
    {
     "name": "stdout",
     "output_type": "stream",
     "text": [
      "3FO4MKFDTSJO_Bedroom.zip\n",
      "3FO4MKFDRSC3_Bedroom.zip\n",
      "3FO4MKFDPORG_Bedroom.zip\n",
      "3FO4MKFDP82B_Dining_room.zip\n"
     ]
    },
    {
     "name": "stderr",
     "output_type": "stream",
     "text": [
      "Downloading...\n",
      "From: https://drive.google.com/uc?id=1zLewMja2X0CrZsEKez3BoRerwfLhbehe&export=download\n",
      "To: /media/scratch1/erbachj/Mask_RCNN/data/InteriorNet/data/HD7/train/3FO4MKFDP82B_Dining_room.zip\n",
      "53.4MB [00:01, 49.2MB/s]\n"
     ]
    },
    {
     "name": "stdout",
     "output_type": "stream",
     "text": [
      "3FO4MKFDP82B_Bedroom.zip\n",
      "3FO4MKFDMJFI_Living_room.zip\n"
     ]
    },
    {
     "name": "stderr",
     "output_type": "stream",
     "text": [
      "Downloading...\n",
      "From: https://drive.google.com/uc?id=1PIORHRFMr93XTkialt9Q5C77lQRLJS9q&export=download\n",
      "To: /media/scratch1/erbachj/Mask_RCNN/data/InteriorNet/data/HD7/train/3FO4MKFDMJFI_Living_room.zip\n",
      "39.7MB [00:00, 56.9MB/s]\n"
     ]
    },
    {
     "name": "stdout",
     "output_type": "stream",
     "text": [
      "3FO4MKFDLOC9_Bedroom.zip\n",
      "3FO4MKFDI8Y8_Living_room.zip\n"
     ]
    },
    {
     "name": "stderr",
     "output_type": "stream",
     "text": [
      "Downloading...\n",
      "From: https://drive.google.com/uc?id=1bGQKXUuaLMfMbefn8BbsbczWW3tOqQej&export=download\n",
      "To: /media/scratch1/erbachj/Mask_RCNN/data/InteriorNet/data/HD7/train/3FO4MKFDI8Y8_Living_room.zip\n",
      "64.8MB [00:00, 77.0MB/s]\n"
     ]
    },
    {
     "name": "stdout",
     "output_type": "stream",
     "text": [
      "3FO4MKFDI8Y8_Bedroom.zip\n",
      "3FO4MKFDI2A6_Living_room.zip\n"
     ]
    },
    {
     "name": "stderr",
     "output_type": "stream",
     "text": [
      "Downloading...\n",
      "From: https://drive.google.com/uc?id=1hPmUt6YlgTImlY_givTKBh2jPfijw2T-&export=download\n",
      "To: /media/scratch1/erbachj/Mask_RCNN/data/InteriorNet/data/HD7/train/3FO4MKFDI2A6_Living_room.zip\n",
      "55.6MB [00:00, 56.8MB/s]\n"
     ]
    },
    {
     "name": "stdout",
     "output_type": "stream",
     "text": [
      "3FO4MKFDI2A6_Bedroom.zip\n",
      "3FO4MKFDGSSS_Bedroom.zip\n",
      "3FO4MKFDFXPJ_Bedroom.zip\n",
      "3FO4MKFDFUDI_Living_room.zip\n"
     ]
    },
    {
     "name": "stderr",
     "output_type": "stream",
     "text": [
      "Downloading...\n",
      "From: https://drive.google.com/uc?id=1nnPNLBaUkTfca8zaezPzLTIYGL-PXI3x&export=download\n",
      "To: /media/scratch1/erbachj/Mask_RCNN/data/InteriorNet/data/HD7/train/3FO4MKFDFUDI_Living_room.zip\n",
      "64.9MB [00:00, 95.6MB/s]\n"
     ]
    },
    {
     "name": "stdout",
     "output_type": "stream",
     "text": [
      "3FO4MKFDFUDI_Bedroom.zip\n",
      "3FO4MKFDC8BF_Living_room.zip\n"
     ]
    },
    {
     "name": "stderr",
     "output_type": "stream",
     "text": [
      "Downloading...\n",
      "From: https://drive.google.com/uc?id=1HioyU29F9g_ZetQJBOG-7zWCwvemo-BI&export=download\n",
      "To: /media/scratch1/erbachj/Mask_RCNN/data/InteriorNet/data/HD7/train/3FO4MKFDC8BF_Living_room.zip\n",
      "61.8MB [00:00, 67.5MB/s]\n"
     ]
    },
    {
     "name": "stdout",
     "output_type": "stream",
     "text": [
      "3FO4MKFDC8BF_Bedroom.zip\n",
      "3FO4MKFD8RXE_Living_room.zip\n"
     ]
    },
    {
     "name": "stderr",
     "output_type": "stream",
     "text": [
      "Downloading...\n",
      "From: https://drive.google.com/uc?id=12IyFB14hzpJztu8dlum1BHpyL31NA86H&export=download\n",
      "To: /media/scratch1/erbachj/Mask_RCNN/data/InteriorNet/data/HD7/train/3FO4MKFD8RXE_Living_room.zip\n",
      "59.7MB [00:01, 57.4MB/s]\n"
     ]
    },
    {
     "name": "stdout",
     "output_type": "stream",
     "text": [
      "3FO4MKBI2RJH_Bedroom.zip\n",
      "3FO4MKABH8C6_Bedroom.zip\n",
      "3FO4MK8FINGQ_Living_room.zip\n"
     ]
    },
    {
     "name": "stderr",
     "output_type": "stream",
     "text": [
      "Downloading...\n",
      "From: https://drive.google.com/uc?id=1WgcRsMHW5uoSaZ8ah2VGDcaAZL1ukURi&export=download\n",
      "To: /media/scratch1/erbachj/Mask_RCNN/data/InteriorNet/data/HD7/train/3FO4MK8FINGQ_Living_room.zip\n",
      "77.7MB [00:00, 81.6MB/s]\n"
     ]
    },
    {
     "name": "stdout",
     "output_type": "stream",
     "text": [
      "3FO4MK8FINGQ_Dining_room.zip\n"
     ]
    },
    {
     "name": "stderr",
     "output_type": "stream",
     "text": [
      "Downloading...\n",
      "From: https://drive.google.com/uc?id=1hXpIuWrVR0D8o64jBkaTbT_4M66-C3O3&export=download\n",
      "To: /media/scratch1/erbachj/Mask_RCNN/data/InteriorNet/data/HD7/train/3FO4MK8FINGQ_Dining_room.zip\n",
      "80.1MB [00:00, 81.8MB/s]\n"
     ]
    },
    {
     "name": "stdout",
     "output_type": "stream",
     "text": [
      "3FO4MK7EKRBJ_Bedroom.zip\n",
      "3FO4MK6E81OD_Bedroom.zip\n",
      "3FO4MK5FHIWB_Living_room.zip\n"
     ]
    },
    {
     "name": "stderr",
     "output_type": "stream",
     "text": [
      "Downloading...\n",
      "From: https://drive.google.com/uc?id=1oJFzHrF-_7LXINsj3stUSqp8BprJHDhp&export=download\n",
      "To: /media/scratch1/erbachj/Mask_RCNN/data/InteriorNet/data/HD7/train/3FO4MK5FHIWB_Living_room.zip\n",
      "62.2MB [00:01, 52.2MB/s]\n"
     ]
    },
    {
     "name": "stdout",
     "output_type": "stream",
     "text": [
      "3FO4MK5FHIWB_Bedroom.zip\n",
      "3FO4MK584YDA_Bedroom.zip\n",
      "3FO4MK29NKQ8_Bedroom.zip\n",
      "3FO4MK20FAQJ_Bedroom.zip\n",
      "3FO4MK0QXCOD_Living_room.zip\n"
     ]
    },
    {
     "name": "stderr",
     "output_type": "stream",
     "text": [
      "Downloading...\n",
      "From: https://drive.google.com/uc?id=1vb30xWvvwncJk2paAEdOEtZ2gaxYff5R&export=download\n",
      "To: /media/scratch1/erbachj/Mask_RCNN/data/InteriorNet/data/HD7/train/3FO4MK0QXCOD_Living_room.zip\n",
      "85.0MB [00:00, 97.3MB/s]\n"
     ]
    },
    {
     "name": "stdout",
     "output_type": "stream",
     "text": [
      "3FO4MK0QXCOD_Bedroom.zip\n",
      "3FO4MK0IPYWF_Bedroom.zip\n",
      "3FO4MJXW9OCD_Living_room.zip\n"
     ]
    },
    {
     "name": "stderr",
     "output_type": "stream",
     "text": [
      "Downloading...\n",
      "From: https://drive.google.com/uc?id=1nTUxKMl0Nlc8uH8KmcUj_f_zT3o9_N0e&export=download\n",
      "To: /media/scratch1/erbachj/Mask_RCNN/data/InteriorNet/data/HD7/train/3FO4MJXW9OCD_Living_room.zip\n",
      "55.4MB [00:00, 74.7MB/s]\n"
     ]
    },
    {
     "name": "stdout",
     "output_type": "stream",
     "text": [
      "3FO4MJXW9OCD_Dining_room.zip\n"
     ]
    },
    {
     "name": "stderr",
     "output_type": "stream",
     "text": [
      "Downloading...\n",
      "From: https://drive.google.com/uc?id=1qjL-jvIgLUjymumiGr5-M2U5VvqDjUus&export=download\n",
      "To: /media/scratch1/erbachj/Mask_RCNN/data/InteriorNet/data/HD7/train/3FO4MJXW9OCD_Dining_room.zip\n",
      "59.5MB [00:00, 74.7MB/s]\n"
     ]
    },
    {
     "name": "stdout",
     "output_type": "stream",
     "text": [
      "3FO4MJXW9OCD_Bedroom.zip\n",
      "3FO4MJTCR03Q_Bedroom.zip\n",
      "3FO4MJT6THMO_Bedroom.zip\n",
      "3FO4MJT4UP74_Bedroom.zip\n",
      "3FO4MJSVK738_Bedroom.zip\n",
      "3FO4MJO1D7BN_Living_room.zip\n"
     ]
    },
    {
     "name": "stderr",
     "output_type": "stream",
     "text": [
      "Downloading...\n",
      "From: https://drive.google.com/uc?id=1-8xCjmpLzpkXymzaQ-FdjIfBot8YQr5V&export=download\n",
      "To: /media/scratch1/erbachj/Mask_RCNN/data/InteriorNet/data/HD7/train/3FO4MJO1D7BN_Living_room.zip\n",
      "68.0MB [00:01, 40.1MB/s]\n"
     ]
    },
    {
     "name": "stdout",
     "output_type": "stream",
     "text": [
      "3FO4MJO1D7BN_Bedroom.zip\n",
      "3FO4MJKHR2ET_Bedroom.zip\n",
      "3FO4MJJYJK36_Bedroom.zip\n",
      "3FO4MJJ3F0HB_Living_room.zip\n"
     ]
    },
    {
     "name": "stderr",
     "output_type": "stream",
     "text": [
      "Downloading...\n",
      "From: https://drive.google.com/uc?id=1ob0e0dlMMDbp_i4b4hHT2DLOrmZCqrSE&export=download\n",
      "To: /media/scratch1/erbachj/Mask_RCNN/data/InteriorNet/data/HD7/train/3FO4MJJ3F0HB_Living_room.zip\n",
      "65.1MB [00:00, 90.3MB/s]\n"
     ]
    },
    {
     "name": "stdout",
     "output_type": "stream",
     "text": [
      "3FO4MJJ3F0HB_Bedroom.zip\n",
      "3FO4MJ98KARL_Dining_room.zip\n"
     ]
    },
    {
     "name": "stderr",
     "output_type": "stream",
     "text": [
      "Downloading...\n",
      "From: https://drive.google.com/uc?id=1uYjJLHetIsLjHQhisdR9gp0-WTka0eVx&export=download\n",
      "To: /media/scratch1/erbachj/Mask_RCNN/data/InteriorNet/data/HD7/train/3FO4MJ98KARL_Dining_room.zip\n",
      "64.4MB [00:03, 19.9MB/s]\n"
     ]
    },
    {
     "name": "stdout",
     "output_type": "stream",
     "text": [
      "3FO4MJ8XSUHH_Bedroom.zip\n",
      "3FO4MJ4CTRCH_Bedroom.zip\n",
      "3FO4MJ4CR0DN_Bedroom.zip\n",
      "3FO4MJ4CQ5AE_Bedroom.zip\n",
      "3FO4MJ4CL6EW_Bedroom.zip\n",
      "3FO4MJ4CIEG3_Bedroom.zip\n",
      "3FO4MJ4CHG0S_Bedroom.zip\n",
      "3FO4MJ4CGO9K_Bedroom.zip\n",
      "3FO4MJ4CF2F3_Living_room.zip\n"
     ]
    },
    {
     "name": "stderr",
     "output_type": "stream",
     "text": [
      "Downloading...\n",
      "From: https://drive.google.com/uc?id=1a1UmcsQkIGm76rGm4e4BD96-ZOs_W9FJ&export=download\n",
      "To: /media/scratch1/erbachj/Mask_RCNN/data/InteriorNet/data/HD7/train/3FO4MJ4CF2F3_Living_room.zip\n",
      "71.3MB [00:01, 64.5MB/s]\n"
     ]
    },
    {
     "name": "stdout",
     "output_type": "stream",
     "text": [
      "3FO4MJ4CF2F3_Bedroom.zip\n",
      "3FO4MJ4CEANU_Bedroom.zip\n",
      "3FO4MJ4CDWAQ_Living_room.zip\n"
     ]
    },
    {
     "name": "stderr",
     "output_type": "stream",
     "text": [
      "Downloading...\n",
      "From: https://drive.google.com/uc?id=1ZduJeJZQGCND6uZFUIj5RQ-NaPggldtY&export=download\n",
      "To: /media/scratch1/erbachj/Mask_RCNN/data/InteriorNet/data/HD7/train/3FO4MJ4CDWAQ_Living_room.zip\n",
      "51.8MB [00:01, 44.1MB/s]\n"
     ]
    },
    {
     "name": "stdout",
     "output_type": "stream",
     "text": [
      "3FO4MJ4CDWAQ_Bedroom.zip\n",
      "3FO4MJ4CD5JI_Living_room.zip\n"
     ]
    },
    {
     "name": "stderr",
     "output_type": "stream",
     "text": [
      "Downloading...\n",
      "From: https://drive.google.com/uc?id=1NIy5H3HKdgOKsvwpXnvqSrnIy6DJjBVF&export=download\n",
      "To: /media/scratch1/erbachj/Mask_RCNN/data/InteriorNet/data/HD7/train/3FO4MJ4CD5JI_Living_room.zip\n",
      "60.0MB [00:01, 42.5MB/s]\n"
     ]
    },
    {
     "name": "stdout",
     "output_type": "stream",
     "text": [
      "3FO4MJ4CD5JI_Bedroom.zip\n",
      "3FO4MJ4CAK9Q_Bedroom.zip\n",
      "3FO4MJ4CA07K_Bedroom.zip\n",
      "3FO4MJ4C7I9T_Bedroom.zip\n",
      "3FO4MJ4C6TUM_Bedroom.zip\n",
      "3FO4MJ4C0WJU_Living_room.zip\n"
     ]
    },
    {
     "name": "stderr",
     "output_type": "stream",
     "text": [
      "Downloading...\n",
      "From: https://drive.google.com/uc?id=1EHgSM8lfoxfXMIktBsfkZv0VvWe-QKVT&export=download\n",
      "To: /media/scratch1/erbachj/Mask_RCNN/data/InteriorNet/data/HD7/train/3FO4MJ4C0WJU_Living_room.zip\n",
      "58.7MB [00:00, 99.7MB/s]\n"
     ]
    },
    {
     "name": "stdout",
     "output_type": "stream",
     "text": [
      "3FO4MJ4C0WJU_Bedroom.zip\n",
      "3FO4MJ4C0T7T_Bedroom.zip\n",
      "3FO4MJ4C0J6Q_Bedroom.zip\n",
      "3FO4MJ4BX8X2_Bedroom.zip\n",
      "3FO4MJ3TK346_Bedroom.zip\n",
      "3FO4MJ2CT23J_Bedroom.zip\n",
      "3FO4MJ28V3TA_Living_room.zip\n"
     ]
    },
    {
     "name": "stderr",
     "output_type": "stream",
     "text": [
      "Downloading...\n",
      "From: https://drive.google.com/uc?id=1UpNFCVsBQ2CTbDQtYtIYaNyl_-GRj6zm&export=download\n",
      "To: /media/scratch1/erbachj/Mask_RCNN/data/InteriorNet/data/HD7/train/3FO4MJ28V3TA_Living_room.zip\n",
      "63.1MB [00:01, 47.5MB/s]\n"
     ]
    },
    {
     "name": "stdout",
     "output_type": "stream",
     "text": [
      "3FO4MJ06S93R_Bedroom.zip\n",
      "3FO4MJ06HQAM_Living_room.zip\n"
     ]
    },
    {
     "name": "stderr",
     "output_type": "stream",
     "text": [
      "Downloading...\n",
      "From: https://drive.google.com/uc?id=1tnOm14ttrzbEq6iApLShdW-I9sNdHSqU&export=download\n",
      "To: /media/scratch1/erbachj/Mask_RCNN/data/InteriorNet/data/HD7/train/3FO4MJ06HQAM_Living_room.zip\n",
      "73.6MB [00:00, 101MB/s] \n"
     ]
    },
    {
     "name": "stdout",
     "output_type": "stream",
     "text": [
      "3FO4MJ06HQAM_Bedroom.zip\n",
      "3FO4MIYO2K95_Bedroom.zip\n",
      "3FO4MIXXUS5F_Bedroom.zip\n",
      "3FO4MIWFKB8I_Living_room.zip\n"
     ]
    },
    {
     "name": "stderr",
     "output_type": "stream",
     "text": [
      "Downloading...\n",
      "From: https://drive.google.com/uc?id=1e6xrpc-0bdhC4JttfIMCwf1kKmgRS_bm&export=download\n",
      "To: /media/scratch1/erbachj/Mask_RCNN/data/InteriorNet/data/HD7/train/3FO4MIWFKB8I_Living_room.zip\n",
      "55.7MB [00:02, 18.7MB/s]\n"
     ]
    },
    {
     "name": "stdout",
     "output_type": "stream",
     "text": [
      "3FO4MIW3FNLI_Living_room.zip\n"
     ]
    },
    {
     "name": "stderr",
     "output_type": "stream",
     "text": [
      "Downloading...\n",
      "From: https://drive.google.com/uc?id=1fvE1oVD-ZMKhUMafWYg2u9QTp6y2OUTl&export=download\n",
      "To: /media/scratch1/erbachj/Mask_RCNN/data/InteriorNet/data/HD7/train/3FO4MIW3FNLI_Living_room.zip\n",
      "73.7MB [00:01, 73.2MB/s]\n"
     ]
    },
    {
     "name": "stdout",
     "output_type": "stream",
     "text": [
      "3FO4MIW3FNLI_Bedroom.zip\n",
      "3FO4MIW122VI_Bedroom.zip\n",
      "3FO4MIW0YRMT_Living_room.zip\n"
     ]
    },
    {
     "name": "stderr",
     "output_type": "stream",
     "text": [
      "Downloading...\n",
      "From: https://drive.google.com/uc?id=1USmG6xFbutOONFL21Boqsb6wt6Ps_3sH&export=download\n",
      "To: /media/scratch1/erbachj/Mask_RCNN/data/InteriorNet/data/HD7/train/3FO4MIW0YRMT_Living_room.zip\n",
      "59.3MB [00:00, 66.8MB/s]\n"
     ]
    },
    {
     "name": "stdout",
     "output_type": "stream",
     "text": [
      "3FO4MIW0YRMT_Bedroom.zip\n",
      "3FO4MIW0XPUI_Bedroom.zip\n",
      "3FO4MIW0XJ6G_Bedroom.zip\n",
      "3FO4MIW0RP7P_Bedroom.zip\n",
      "3FO4MIW0HO4P_Bedroom.zip\n",
      "3FO4MIW0DR1J_Bedroom.zip\n",
      "3FO4MIW0DNOI_Bedroom.zip\n",
      "3FO4MIW0DH0G_Bedroom.zip\n",
      "3FO4MIW0BA3S_Bedroom.zip\n",
      "3FO4MIW0ABNI_Bedroom.zip\n",
      "3FO4MIW044BN_Guest_room.zip\n"
     ]
    },
    {
     "name": "stderr",
     "output_type": "stream",
     "text": [
      "Downloading...\n",
      "From: https://drive.google.com/uc?id=1IdxPA0sGYzspt5fUQ0puvzz8dUd_SkUI&export=download\n",
      "To: /media/scratch1/erbachj/Mask_RCNN/data/InteriorNet/data/HD7/train/3FO4MIW044BN_Guest_room.zip\n",
      "60.6MB [00:00, 63.7MB/s]\n"
     ]
    },
    {
     "name": "stdout",
     "output_type": "stream",
     "text": [
      "3FO4MIW044BN_Bedroom.zip\n",
      "3FO4MIVYX3NU_Bedroom.zip\n",
      "3FO4MIVYR9P4_Bedroom.zip\n",
      "3FO4MIVYQELU_Bedroom.zip\n",
      "3FO4MIVYOHQA_Living_room.zip\n"
     ]
    },
    {
     "name": "stderr",
     "output_type": "stream",
     "text": [
      "Downloading...\n",
      "From: https://drive.google.com/uc?id=1d1cdsM0anhU4f2R4IH3VMx54-uddPH1l&export=download\n",
      "To: /media/scratch1/erbachj/Mask_RCNN/data/InteriorNet/data/HD7/train/3FO4MIVYOHQA_Living_room.zip\n",
      "65.4MB [00:01, 64.5MB/s]\n"
     ]
    },
    {
     "name": "stdout",
     "output_type": "stream",
     "text": [
      "3FO4MIVYOHQA_Bedroom.zip\n",
      "3FO4MIVYKUO7_Bedroom.zip\n",
      "3FO4MIVYH8M4_Bedroom.zip\n",
      "3FO4MIVYH1X2_Bedroom.zip\n",
      "3FO4MIVYGU90_Bedroom.zip\n",
      "3FO4MIVY33QV_Living_room.zip\n"
     ]
    },
    {
     "name": "stderr",
     "output_type": "stream",
     "text": [
      "Downloading...\n",
      "From: https://drive.google.com/uc?id=1tnudvp0cnSdDc4QvibJsFQHzVEJDPF7i&export=download\n",
      "To: /media/scratch1/erbachj/Mask_RCNN/data/InteriorNet/data/HD7/train/3FO4MIVY33QV_Living_room.zip\n",
      "54.4MB [00:02, 26.2MB/s]\n"
     ]
    },
    {
     "name": "stdout",
     "output_type": "stream",
     "text": [
      "3FO4MIVY33QV_Dining_room.zip\n"
     ]
    },
    {
     "name": "stderr",
     "output_type": "stream",
     "text": [
      "Downloading...\n",
      "From: https://drive.google.com/uc?id=1EFme5CgULxmdGdrFezsCeL9TyBeqMoTN&export=download\n",
      "To: /media/scratch1/erbachj/Mask_RCNN/data/InteriorNet/data/HD7/train/3FO4MIVY33QV_Dining_room.zip\n",
      "59.5MB [00:01, 58.1MB/s]\n"
     ]
    },
    {
     "name": "stdout",
     "output_type": "stream",
     "text": [
      "3FO4MIVY33QV_Bedroom.zip\n",
      "3FO4MIVY25BL_Bedroom.zip\n",
      "3FO4MIVRU6TP_Bedroom.zip\n",
      "3FO4MIVP8A88_Bedroom.zip\n",
      "3FO4MIVP8075_Living_room.zip\n"
     ]
    },
    {
     "name": "stderr",
     "output_type": "stream",
     "text": [
      "Downloading...\n",
      "From: https://drive.google.com/uc?id=1B6CIrAY3MrlaoA5jpkUbeeTP04XTM_Ok&export=download\n",
      "To: /media/scratch1/erbachj/Mask_RCNN/data/InteriorNet/data/HD7/train/3FO4MIVP8075_Living_room.zip\n",
      "48.4MB [00:00, 71.2MB/s]\n"
     ]
    },
    {
     "name": "stdout",
     "output_type": "stream",
     "text": [
      "3FO4MIVP8075_Bedroom.zip\n",
      "3FO4MIVP7SI3_Living_room.zip\n"
     ]
    },
    {
     "name": "stderr",
     "output_type": "stream",
     "text": [
      "Downloading...\n",
      "From: https://drive.google.com/uc?id=1i-jyZ3fpadIJJ-R4yimADpJpQ4oElRjg&export=download\n",
      "To: /media/scratch1/erbachj/Mask_RCNN/data/InteriorNet/data/HD7/train/3FO4MIVP7SI3_Living_room.zip\n",
      "53.8MB [00:03, 17.2MB/s]\n"
     ]
    },
    {
     "name": "stdout",
     "output_type": "stream",
     "text": [
      "3FO4MIVP7SI3_Bedroom.zip\n",
      "3FO4MIVP6QPR_Bedroom.zip\n",
      "3FO4MIVP1B55_Bedroom.zip\n",
      "3FO4MIVOXFTA_Bedroom.zip\n",
      "3FO4MITE1TCF_Bedroom.zip\n",
      "3FO4MIS4GUHV_Bedroom.zip\n",
      "3FO4MIQC96GL_Bedroom.zip\n",
      "3FO4MIOWAIUM_Bedroom.zip\n",
      "3FO4MIO9RNL0_Bedroom.zip\n",
      "3FO4MINYK9W4_Living_room.zip\n"
     ]
    },
    {
     "name": "stderr",
     "output_type": "stream",
     "text": [
      "Downloading...\n",
      "From: https://drive.google.com/uc?id=1JEKBkzdajFrSAatZh_MxrIFyEVE5cMHN&export=download\n",
      "To: /media/scratch1/erbachj/Mask_RCNN/data/InteriorNet/data/HD7/train/3FO4MINYK9W4_Living_room.zip\n",
      "64.9MB [00:00, 87.2MB/s]\n"
     ]
    },
    {
     "name": "stdout",
     "output_type": "stream",
     "text": [
      "3FO4MINYK9W4_Bedroom.zip\n",
      "3FO4MIN4MGHQ_Living_room.zip\n"
     ]
    },
    {
     "name": "stderr",
     "output_type": "stream",
     "text": [
      "Downloading...\n",
      "From: https://drive.google.com/uc?id=12yDpgkrMgGWiflFaaJNUqASYnh7RK6BF&export=download\n",
      "To: /media/scratch1/erbachj/Mask_RCNN/data/InteriorNet/data/HD7/train/3FO4MIN4MGHQ_Living_room.zip\n",
      "65.5MB [00:01, 49.2MB/s]\n"
     ]
    },
    {
     "name": "stdout",
     "output_type": "stream",
     "text": [
      "3FO4MIN4MGHQ_Bedroom.zip\n",
      "3FO4MIN24DME_Bedroom.zip\n",
      "3FO4MIN18PB8_Living_room.zip\n"
     ]
    },
    {
     "name": "stderr",
     "output_type": "stream",
     "text": [
      "Downloading...\n",
      "From: https://drive.google.com/uc?id=1-7-P6tAHpEkx7fkCj7e7r52naDS9UAyM&export=download\n",
      "To: /media/scratch1/erbachj/Mask_RCNN/data/InteriorNet/data/HD7/train/3FO4MIN18PB8_Living_room.zip\n",
      "62.9MB [00:03, 20.7MB/s]\n"
     ]
    },
    {
     "name": "stdout",
     "output_type": "stream",
     "text": [
      "3FO4MIN18PB8_Dining_room.zip\n"
     ]
    },
    {
     "name": "stderr",
     "output_type": "stream",
     "text": [
      "Downloading...\n",
      "From: https://drive.google.com/uc?id=18FDos5Bmbjwo2oiMKCQTuTVjnwCSrRt3&export=download\n",
      "To: /media/scratch1/erbachj/Mask_RCNN/data/InteriorNet/data/HD7/train/3FO4MIN18PB8_Dining_room.zip\n",
      "68.9MB [00:02, 24.0MB/s]\n"
     ]
    },
    {
     "name": "stdout",
     "output_type": "stream",
     "text": [
      "3FO4MIN0295T_Living_room.zip\n"
     ]
    },
    {
     "name": "stderr",
     "output_type": "stream",
     "text": [
      "Downloading...\n",
      "From: https://drive.google.com/uc?id=1jT8uT1k_qWkBX0Z6X4p_x857YJCqrrsq&export=download\n",
      "To: /media/scratch1/erbachj/Mask_RCNN/data/InteriorNet/data/HD7/train/3FO4MIN0295T_Living_room.zip\n",
      "69.2MB [00:02, 24.1MB/s]\n"
     ]
    },
    {
     "name": "stdout",
     "output_type": "stream",
     "text": [
      "3FO4MIN0295T_Guest_room.zip\n"
     ]
    },
    {
     "name": "stderr",
     "output_type": "stream",
     "text": [
      "Downloading...\n",
      "From: https://drive.google.com/uc?id=1SVI0_L2UTNlVS-wnDwHPJGA8bciVqFkx&export=download\n",
      "To: /media/scratch1/erbachj/Mask_RCNN/data/InteriorNet/data/HD7/train/3FO4MIN0295T_Guest_room.zip\n",
      "66.5MB [00:00, 67.9MB/s]\n"
     ]
    },
    {
     "name": "stdout",
     "output_type": "stream",
     "text": [
      "3FO4MIN0295T_Bedroom.zip\n",
      "3FO4MIMQYK8A_Living_room.zip\n"
     ]
    },
    {
     "name": "stderr",
     "output_type": "stream",
     "text": [
      "Downloading...\n",
      "From: https://drive.google.com/uc?id=13LCPOIHjUWAS0zboss9pRT34DZVFoEaW&export=download\n",
      "To: /media/scratch1/erbachj/Mask_RCNN/data/InteriorNet/data/HD7/train/3FO4MIMQYK8A_Living_room.zip\n",
      "78.7MB [00:01, 68.7MB/s]\n"
     ]
    },
    {
     "name": "stdout",
     "output_type": "stream",
     "text": [
      "3FO4MIME704F_Living_room.zip\n"
     ]
    },
    {
     "name": "stderr",
     "output_type": "stream",
     "text": [
      "Downloading...\n",
      "From: https://drive.google.com/uc?id=1jnGlBzegm7LCPXKNAImjNm2L2kexeAUT&export=download\n",
      "To: /media/scratch1/erbachj/Mask_RCNN/data/InteriorNet/data/HD7/train/3FO4MIME704F_Living_room.zip\n",
      "62.5MB [00:02, 23.8MB/s]\n"
     ]
    },
    {
     "name": "stdout",
     "output_type": "stream",
     "text": [
      "3FO4MILKI858_Living_room.zip\n"
     ]
    },
    {
     "name": "stderr",
     "output_type": "stream",
     "text": [
      "Downloading...\n",
      "From: https://drive.google.com/uc?id=1LKZ51vegj8CUAtzoIs3M-Bn1ScyWzM4S&export=download\n",
      "To: /media/scratch1/erbachj/Mask_RCNN/data/InteriorNet/data/HD7/train/3FO4MILKI858_Living_room.zip\n",
      "62.7MB [00:01, 31.6MB/s]\n"
     ]
    },
    {
     "name": "stdout",
     "output_type": "stream",
     "text": [
      "3FO4MILKI858_Bedroom.zip\n",
      "3FO4MIJGQM25_Bedroom.zip\n",
      "3FO4MIJ4RBNQ_Bedroom.zip\n",
      "3FO4MIIOSBM1_Living_room.zip\n"
     ]
    },
    {
     "name": "stderr",
     "output_type": "stream",
     "text": [
      "Downloading...\n",
      "From: https://drive.google.com/uc?id=1GtW_widLMzl52pUzv9CTfPw7VU6ftW1a&export=download\n",
      "To: /media/scratch1/erbachj/Mask_RCNN/data/InteriorNet/data/HD7/train/3FO4MIIOSBM1_Living_room.zip\n",
      "63.0MB [00:07, 8.61MB/s]\n"
     ]
    },
    {
     "name": "stdout",
     "output_type": "stream",
     "text": [
      "3FO4MIID3AKE_Guest_room.zip\n"
     ]
    },
    {
     "name": "stderr",
     "output_type": "stream",
     "text": [
      "Downloading...\n",
      "From: https://drive.google.com/uc?id=1zUjrmo2GWv2LbolHZxvR9VdHacEuBE0Y&export=download\n",
      "To: /media/scratch1/erbachj/Mask_RCNN/data/InteriorNet/data/HD7/train/3FO4MIID3AKE_Guest_room.zip\n",
      "69.0MB [00:00, 103MB/s] \n"
     ]
    },
    {
     "name": "stdout",
     "output_type": "stream",
     "text": [
      "3FO4MIID3AKE_Bedroom.zip\n",
      "3FO4MIHQ3XYB_Living_room.zip\n"
     ]
    },
    {
     "name": "stderr",
     "output_type": "stream",
     "text": [
      "Downloading...\n",
      "From: https://drive.google.com/uc?id=1HUidI3nk3GWz63i-e3H1K0_TfQ1Rp6pO&export=download\n",
      "To: /media/scratch1/erbachj/Mask_RCNN/data/InteriorNet/data/HD7/train/3FO4MIHQ3XYB_Living_room.zip\n",
      "46.1MB [00:01, 34.6MB/s]\n"
     ]
    },
    {
     "name": "stdout",
     "output_type": "stream",
     "text": [
      "3FO4MIHQ3XYB_Bedroom.zip\n",
      "3FO4MIHPUD1Q_Bedroom.zip\n",
      "3FO4MIHPS9H4_Bedroom.zip\n",
      "3FO4MIHPQWNP_Bedroom.zip\n",
      "3FO4MIHPQFXK_Bedroom.zip\n",
      "3FO4MIHPP7H7_Bedroom.zip\n",
      "3FO4MIHPOFPY_Bedroom.zip\n",
      "3FO4MIHPNY0T_Bedroom.zip\n",
      "3FO4MIHPK8LP_Living_room.zip\n"
     ]
    },
    {
     "name": "stderr",
     "output_type": "stream",
     "text": [
      "Downloading...\n",
      "From: https://drive.google.com/uc?id=10vJq6aQPUgdhgNe_aLNDwq0cGsypflQW&export=download\n",
      "To: /media/scratch1/erbachj/Mask_RCNN/data/InteriorNet/data/HD7/train/3FO4MIHPK8LP_Living_room.zip\n",
      "61.9MB [00:02, 23.2MB/s]\n"
     ]
    },
    {
     "name": "stdout",
     "output_type": "stream",
     "text": [
      "3FO4MIHPK8LP_Bedroom.zip\n",
      "3FO4MIHPIIF7_Bedroom.zip\n",
      "3FO4MIHPHJYW_Bedroom.zip\n",
      "3FO4MIHPGI7L_Bedroom.zip\n",
      "3FO4MIHPEVD4_Bedroom.zip\n",
      "3FO4MIHPEEMY_Bedroom.zip\n",
      "3FO4MIHP726R_Bedroom.zip\n",
      "3FO4MIHP353L_Bedroom.zip\n",
      "3FO4MIHP2QPH_Bedroom.zip\n",
      "3FO4MIHP2DCD_Bedroom.zip\n",
      "3FO4MIHP1YY9_Bedroom.zip\n",
      "3FO4MIHP14V0_Bedroom.zip\n",
      "3FO4MIHOU0V6_Bedroom.zip\n",
      "3FO4MIHOOUBM_Living_room.zip\n"
     ]
    },
    {
     "name": "stderr",
     "output_type": "stream",
     "text": [
      "Downloading...\n",
      "From: https://drive.google.com/uc?id=1Jyx__7lM4jAA0sjDM9YfwiOVePqndfsG&export=download\n",
      "To: /media/scratch1/erbachj/Mask_RCNN/data/InteriorNet/data/HD7/train/3FO4MIHOOUBM_Living_room.zip\n",
      "60.1MB [00:01, 30.9MB/s]\n"
     ]
    },
    {
     "name": "stdout",
     "output_type": "stream",
     "text": [
      "3FO4MIHOOUBM_Bedroom.zip\n",
      "3FO4MIHON8H5_Bedroom.zip\n",
      "3FO4MIHOJOR3_Bedroom.zip\n",
      "3FO4MIHOIJMQ_Living_room.zip\n"
     ]
    },
    {
     "name": "stderr",
     "output_type": "stream",
     "text": [
      "Downloading...\n",
      "From: https://drive.google.com/uc?id=1-xaIr-Q5SszVkw-g0huRz8kVIUc0x6TA&export=download\n",
      "To: /media/scratch1/erbachj/Mask_RCNN/data/InteriorNet/data/HD7/train/3FO4MIHOIJMQ_Living_room.zip\n",
      "41.8MB [00:01, 23.2MB/s]\n"
     ]
    },
    {
     "name": "stdout",
     "output_type": "stream",
     "text": [
      "3FO4MIHOIJMQ_Guest_room.zip\n"
     ]
    },
    {
     "name": "stderr",
     "output_type": "stream",
     "text": [
      "Downloading...\n",
      "From: https://drive.google.com/uc?id=1h8hS8Nxka_KUwDEkTsVSfVSdpbyjaPEU&export=download\n",
      "To: /media/scratch1/erbachj/Mask_RCNN/data/InteriorNet/data/HD7/train/3FO4MIHOIJMQ_Guest_room.zip\n",
      "54.3MB [00:00, 62.5MB/s]\n"
     ]
    },
    {
     "name": "stdout",
     "output_type": "stream",
     "text": [
      "3FO4MIHOIJMQ_Bedroom.zip\n",
      "3FO4MIHOH4HB_Bedroom.zip\n",
      "3FO4MIHOFEAS_Bedroom.zip\n",
      "3FO4MIHOA5E8_Bedroom.zip\n",
      "3FO4MIHO56IQ_Living_room.zip\n"
     ]
    },
    {
     "name": "stderr",
     "output_type": "stream",
     "text": [
      "Downloading...\n",
      "From: https://drive.google.com/uc?id=18x9YhRzUWf2mtV9cv3NSZluiLjG3ES5u&export=download\n",
      "To: /media/scratch1/erbachj/Mask_RCNN/data/InteriorNet/data/HD7/train/3FO4MIHO56IQ_Living_room.zip\n",
      "55.9MB [00:01, 34.6MB/s]\n"
     ]
    },
    {
     "name": "stdout",
     "output_type": "stream",
     "text": [
      "3FO4MIHO56IQ_Bedroom.zip\n",
      "3FO4MIHO536P_Living_room.zip\n"
     ]
    },
    {
     "name": "stderr",
     "output_type": "stream",
     "text": [
      "Downloading...\n",
      "From: https://drive.google.com/uc?id=1XxzebYupdA6fFgY0_yB3DX4b-jATxrLQ&export=download\n",
      "To: /media/scratch1/erbachj/Mask_RCNN/data/InteriorNet/data/HD7/train/3FO4MIHO536P_Living_room.zip\n",
      "63.2MB [00:00, 73.8MB/s]\n"
     ]
    },
    {
     "name": "stdout",
     "output_type": "stream",
     "text": [
      "3FO4MIHO536P_Bedroom.zip\n",
      "3FO4MIHO4S5M_Bedroom.zip\n",
      "3FO4MIHO4ERI_Bedroom.zip\n",
      "3FO4MIHO41EE_Bedroom.zip\n",
      "3FO4MIHO27UU_Bedroom.zip\n",
      "3FO4MIHO24IT_Bedroom.zip\n",
      "3FO4MIHNT3NF_Bedroom.zip\n",
      "3FO4MIHNRQU1_Bedroom.zip\n",
      "3FO4MIBXTTF5_Living_room.zip\n"
     ]
    },
    {
     "name": "stderr",
     "output_type": "stream",
     "text": [
      "Downloading...\n",
      "From: https://drive.google.com/uc?id=1WfQQmCz5m6iJqMasqBX7xD7YjLiIbbHQ&export=download\n",
      "To: /media/scratch1/erbachj/Mask_RCNN/data/InteriorNet/data/HD7/train/3FO4MIBXTTF5_Living_room.zip\n",
      "58.5MB [00:00, 66.2MB/s]\n"
     ]
    },
    {
     "name": "stdout",
     "output_type": "stream",
     "text": [
      "3FO4MIBVXC89_Bedroom.zip\n",
      "3FO4MHYJJ7I2_Bedroom.zip\n",
      "3FO4MHPXVK91_Dining_room.zip\n"
     ]
    },
    {
     "name": "stderr",
     "output_type": "stream",
     "text": [
      "Downloading...\n",
      "From: https://drive.google.com/uc?id=11kZoHC2eEyOocgdMmfQaCfWi2wkl4aZt&export=download\n",
      "To: /media/scratch1/erbachj/Mask_RCNN/data/InteriorNet/data/HD7/train/3FO4MHPXVK91_Dining_room.zip\n",
      "68.9MB [00:01, 50.1MB/s]\n"
     ]
    },
    {
     "name": "stdout",
     "output_type": "stream",
     "text": [
      "3FO4MHNWFV95_Bedroom.zip\n",
      "3FO4MHGEXSJJ_Bedroom.zip\n",
      "3FO4MH7W80MY_Living_room.zip\n"
     ]
    },
    {
     "name": "stderr",
     "output_type": "stream",
     "text": [
      "Downloading...\n",
      "From: https://drive.google.com/uc?id=114CqlJ21LfPLbLxwGwqXW8YD-w-7ngFI&export=download\n",
      "To: /media/scratch1/erbachj/Mask_RCNN/data/InteriorNet/data/HD7/train/3FO4MH7W80MY_Living_room.zip\n",
      "60.7MB [00:01, 52.6MB/s]\n"
     ]
    },
    {
     "name": "stdout",
     "output_type": "stream",
     "text": [
      "3FO4MGWUMC2O_Bedroom.zip\n",
      "3FO4MGTVDM5G_Guest_room.zip\n"
     ]
    },
    {
     "name": "stderr",
     "output_type": "stream",
     "text": [
      "Downloading...\n",
      "From: https://drive.google.com/uc?id=1qqo-W6ah1YDFaz25hh0LYr36czY3rdXt&export=download\n",
      "To: /media/scratch1/erbachj/Mask_RCNN/data/InteriorNet/data/HD7/train/3FO4MGTVDM5G_Guest_room.zip\n",
      "58.1MB [00:00, 63.0MB/s]\n"
     ]
    },
    {
     "name": "stdout",
     "output_type": "stream",
     "text": [
      "3FO4MGTHIEMC_Bedroom.zip\n",
      "3FO4MGOUGRF4_Bedroom.zip\n",
      "3FO4MGLXTKQ9_Bedroom.zip\n",
      "3FO4MGLX66J9_Living_room.zip\n"
     ]
    },
    {
     "name": "stderr",
     "output_type": "stream",
     "text": [
      "Downloading...\n",
      "From: https://drive.google.com/uc?id=1tU6-0DcA2UwoPCn1Iw24s2gYQTlXz8Vz&export=download\n",
      "To: /media/scratch1/erbachj/Mask_RCNN/data/InteriorNet/data/HD7/train/3FO4MGLX66J9_Living_room.zip\n",
      "60.5MB [00:00, 84.5MB/s]\n"
     ]
    },
    {
     "name": "stdout",
     "output_type": "stream",
     "text": [
      "3FO4MIHCQ50E_Bedroom.zip\n",
      "3FO4MIGH6CJG_Bedroom.zip\n",
      "3FO4MIGG06F5_Bedroom.zip\n",
      "3FO4MIGFM007_Bedroom.zip\n",
      "3FO4MIFUUP6G_Bedroom.zip\n",
      "3FO4MIEOMDXS_Bedroom.zip\n",
      "3FO4MIE5MGYX_Bedroom.zip\n",
      "3FO4MIC7MWRA_Bedroom.zip\n",
      "3FO4MIC7IMB0_Bedroom.zip\n",
      "3FO4MIC7GPFF_Bedroom.zip\n",
      "3FO4MIC7G218_Bedroom.zip\n",
      "3FO4MIC7FGY2_Bedroom.zip\n",
      "3FO4MIC7EBTP_Bedroom.zip\n",
      "3FO4MIC7B9TS_Bedroom.zip\n",
      "3FO4MIC7ABEI_Bedroom.zip\n",
      "3FO4MIC79X1E_Bedroom.zip\n",
      "3FO4MIC799M7_Bedroom.zip\n",
      "3FO4MIC6YIKA_Bedroom.zip\n",
      "3FO4MIC5MLT9_Living_room.zip\n"
     ]
    },
    {
     "name": "stderr",
     "output_type": "stream",
     "text": [
      "Downloading...\n",
      "From: https://drive.google.com/uc?id=1jJDy3Y_VyWBw36VzygINUbdn-6bt6T73&export=download\n",
      "To: /media/scratch1/erbachj/Mask_RCNN/data/InteriorNet/data/HD7/train/3FO4MIC5MLT9_Living_room.zip\n",
      "76.5MB [00:01, 74.9MB/s]\n"
     ]
    },
    {
     "name": "stdout",
     "output_type": "stream",
     "text": [
      "3FO4MIC5MLT9_Bedroom.zip\n",
      "3FO4MIC5GHTF_Guest_room.zip\n"
     ]
    },
    {
     "name": "stderr",
     "output_type": "stream",
     "text": [
      "Downloading...\n",
      "From: https://drive.google.com/uc?id=14Q_whY8CCOskywfewNuHtAXZDAoycUqH&export=download\n",
      "To: /media/scratch1/erbachj/Mask_RCNN/data/InteriorNet/data/HD7/train/3FO4MIC5GHTF_Guest_room.zip\n",
      "31.7MB [00:01, 31.3MB/s]\n"
     ]
    },
    {
     "name": "stdout",
     "output_type": "stream",
     "text": [
      "3FO4MIC5GHTF_Bedroom.zip\n",
      "3FO4MIC5EHLT_Bedroom.zip\n",
      "3FO4MIC52JN9_Bedroom.zip\n",
      "3FO4MIC50Q4P_Living_room.zip\n"
     ]
    },
    {
     "name": "stderr",
     "output_type": "stream",
     "text": [
      "Downloading...\n",
      "From: https://drive.google.com/uc?id=1Y1486rUK6JwQW2ADiAnQgymFhZDPTNTs&export=download\n",
      "To: /media/scratch1/erbachj/Mask_RCNN/data/InteriorNet/data/HD7/train/3FO4MIC50Q4P_Living_room.zip\n",
      "45.6MB [00:00, 70.1MB/s]\n"
     ]
    },
    {
     "name": "stdout",
     "output_type": "stream",
     "text": [
      "3FO4MIC50Q4P_Bedroom.zip\n",
      "3FO4MIC4TW5Y_Bedroom.zip\n",
      "3FO4MIC0UPFC_Bedroom.zip\n",
      "3FO4MIBXTTF5_Bedroom.zip\n",
      "3FO4MIBXSOAS_Bedroom.zip\n",
      "3FO4MIBXN8P6_Bedroom.zip\n",
      "3FO4MIBXMUC2_Bedroom.zip\n",
      "3FO4MIBXMGXX_Living_room.zip\n"
     ]
    },
    {
     "name": "stderr",
     "output_type": "stream",
     "text": [
      "Downloading...\n",
      "From: https://drive.google.com/uc?id=1uUkQD5kpcnkUP0Wmvu6OAzLsBZw1SKqs&export=download\n",
      "To: /media/scratch1/erbachj/Mask_RCNN/data/InteriorNet/data/HD7/train/3FO4MIBXMGXX_Living_room.zip\n",
      "69.3MB [00:02, 25.1MB/s]\n"
     ]
    },
    {
     "name": "stdout",
     "output_type": "stream",
     "text": [
      "3FO4MIBXCFUX_Bedroom.zip\n",
      "3FO4MIBXBO4P_Living_room.zip\n"
     ]
    },
    {
     "name": "stderr",
     "output_type": "stream",
     "text": [
      "Downloading...\n",
      "From: https://drive.google.com/uc?id=1wlRiYBNkLYUQVkODNxvtiCkzwTdxmN1z&export=download\n",
      "To: /media/scratch1/erbachj/Mask_RCNN/data/InteriorNet/data/HD7/train/3FO4MIBXBO4P_Living_room.zip\n",
      "62.5MB [00:02, 24.7MB/s]\n"
     ]
    },
    {
     "name": "stdout",
     "output_type": "stream",
     "text": [
      "3FO4MIBXBO4P_Bedroom.zip\n",
      "3FO4MIBX9DV1_Bedroom.zip\n",
      "3FO4MIBX7R1J_Living_room.zip\n"
     ]
    },
    {
     "name": "stderr",
     "output_type": "stream",
     "text": [
      "Downloading...\n",
      "From: https://drive.google.com/uc?id=1vb_s1VgYPQfSUQmquqiFUqTqK7tSxJw5&export=download\n",
      "To: /media/scratch1/erbachj/Mask_RCNN/data/InteriorNet/data/HD7/train/3FO4MIBX7R1J_Living_room.zip\n",
      "46.1MB [00:01, 24.6MB/s]\n"
     ]
    },
    {
     "name": "stdout",
     "output_type": "stream",
     "text": [
      "3FO4MIBX7R1J_Bedroom.zip\n",
      "3FO4MIBWVRI9_Bedroom.zip\n",
      "3FO4MIBWUCCT_Bedroom.zip\n",
      "3FO4MIBWOLQ4_Bedroom.zip\n",
      "3FO4MIB87ALP_Bedroom.zip\n",
      "3FO4MIB4BWM8_Bedroom.zip\n",
      "3FO4MIAUXJ7H_Bedroom.zip\n",
      "3FO4MI9EPNHA_Living_room.zip\n"
     ]
    },
    {
     "name": "stderr",
     "output_type": "stream",
     "text": [
      "Downloading...\n",
      "From: https://drive.google.com/uc?id=198hNXAxlYx2f5OMmO6Ne18HZ2xtuVfEN&export=download\n",
      "To: /media/scratch1/erbachj/Mask_RCNN/data/InteriorNet/data/HD7/train/3FO4MI9EPNHA_Living_room.zip\n",
      "54.7MB [00:01, 28.7MB/s]\n"
     ]
    },
    {
     "name": "stdout",
     "output_type": "stream",
     "text": [
      "3FO4MI9EPNHA_Dining_room.zip\n"
     ]
    },
    {
     "name": "stderr",
     "output_type": "stream",
     "text": [
      "Downloading...\n",
      "From: https://drive.google.com/uc?id=1NuT7G4FnVV5wSndFzeycesHND4Y9nsbO&export=download\n",
      "To: /media/scratch1/erbachj/Mask_RCNN/data/InteriorNet/data/HD7/train/3FO4MI9EPNHA_Dining_room.zip\n",
      "59.0MB [00:01, 51.2MB/s]\n"
     ]
    },
    {
     "name": "stdout",
     "output_type": "stream",
     "text": [
      "3FO4MI9EPNHA_Bedroom.zip\n",
      "3FO4MI6FV6RB_Bedroom.zip\n",
      "3FO4MI5IDXO7_Bedroom.zip\n",
      "3FO4MI3SB2QA_Bedroom.zip\n",
      "3FO4MHYLBE8N_Bedroom.zip\n",
      "3FO4MHYL6SQA_Bedroom.zip\n",
      "3FO4MHYKOIJ4_Bedroom.zip\n",
      "3FO4MHYKIHVB_Bedroom.zip\n",
      "3FO4MHYKDJ0T_Living_room.zip\n"
     ]
    },
    {
     "name": "stderr",
     "output_type": "stream",
     "text": [
      "Downloading...\n",
      "From: https://drive.google.com/uc?id=13C8icB5Zt-Nbh3KwFVTpvhzEnw38eIMC&export=download\n",
      "To: /media/scratch1/erbachj/Mask_RCNN/data/InteriorNet/data/HD7/train/3FO4MHYKDJ0T_Living_room.zip\n",
      "66.6MB [00:01, 61.5MB/s]\n"
     ]
    },
    {
     "name": "stdout",
     "output_type": "stream",
     "text": [
      "3FO4MHYJ3PTF_Bedroom.zip\n",
      "3FO4MHYIK0GT_Living_room.zip\n"
     ]
    },
    {
     "name": "stderr",
     "output_type": "stream",
     "text": [
      "Downloading...\n",
      "From: https://drive.google.com/uc?id=1ZPc6tHIPm6ozRhip8wtHzZgcw72Q5GqY&export=download\n",
      "To: /media/scratch1/erbachj/Mask_RCNN/data/InteriorNet/data/HD7/train/3FO4MHYIK0GT_Living_room.zip\n",
      "63.2MB [00:02, 24.7MB/s]\n"
     ]
    },
    {
     "name": "stdout",
     "output_type": "stream",
     "text": [
      "3FO4MHYIK0GT_Bedroom.zip\n",
      "3FO4MHYIGDEQ_Bedroom.zip\n",
      "3FO4MHYHSFWV_Bedroom.zip\n",
      "3FO4MHYHOFHO_Bedroom.zip\n",
      "3FO4MHYHD5XB_Bedroom.zip\n",
      "3FO4MHYG9GQQ_Bedroom.zip\n",
      "3FO4MHYAHBJA_Bedroom.zip\n",
      "3FO4MHWN7G7O_Living_room.zip\n"
     ]
    },
    {
     "name": "stderr",
     "output_type": "stream",
     "text": [
      "Downloading...\n",
      "From: https://drive.google.com/uc?id=18duMqVh5G6xfJ0F8XLy51GoefF1acy9z&export=download\n",
      "To: /media/scratch1/erbachj/Mask_RCNN/data/InteriorNet/data/HD7/train/3FO4MHWN7G7O_Living_room.zip\n",
      "66.7MB [00:00, 80.9MB/s]\n"
     ]
    },
    {
     "name": "stdout",
     "output_type": "stream",
     "text": [
      "3FO4MHUFQRT0_Bedroom.zip\n",
      "3FO4MHUBDTL9_Bedroom.zip\n",
      "3FO4MHTA3C3A_Bedroom.zip\n",
      "3FO4MHPXVK91_Living_room.zip\n"
     ]
    },
    {
     "name": "stderr",
     "output_type": "stream",
     "text": [
      "Downloading...\n",
      "From: https://drive.google.com/uc?id=1Sw9_3LhEshc0YvyF-sjI-U-G7CpfFYKL&export=download\n",
      "To: /media/scratch1/erbachj/Mask_RCNN/data/InteriorNet/data/HD7/train/3FO4MHPXVK91_Living_room.zip\n",
      "79.7MB [00:03, 25.5MB/s]\n"
     ]
    },
    {
     "name": "stdout",
     "output_type": "stream",
     "text": [
      "3FO4MHPXVK91_Bedroom.zip\n",
      "3FO4MHNXR7X0_Living_room.zip\n"
     ]
    },
    {
     "name": "stderr",
     "output_type": "stream",
     "text": [
      "Downloading...\n",
      "From: https://drive.google.com/uc?id=1T1To8CNb6a2iXJNay49m_Q7unTyoNgjg&export=download\n",
      "To: /media/scratch1/erbachj/Mask_RCNN/data/InteriorNet/data/HD7/train/3FO4MHNXR7X0_Living_room.zip\n",
      "66.2MB [00:01, 60.4MB/s]\n"
     ]
    },
    {
     "name": "stdout",
     "output_type": "stream",
     "text": [
      "3FO4MHNXR7X0_Bedroom.zip\n",
      "3FO4MHNXE874_Bedroom.zip\n",
      "3FO4MHNX80U9_Living_room.zip\n"
     ]
    },
    {
     "name": "stderr",
     "output_type": "stream",
     "text": [
      "Downloading...\n",
      "From: https://drive.google.com/uc?id=12cpzFiLmeE__dVtVy0-_gnwKdL7eQh6i&export=download\n",
      "To: /media/scratch1/erbachj/Mask_RCNN/data/InteriorNet/data/HD7/train/3FO4MHNX80U9_Living_room.zip\n",
      "58.7MB [00:02, 22.7MB/s]\n"
     ]
    },
    {
     "name": "stdout",
     "output_type": "stream",
     "text": [
      "3FO4MHNX80U9_Bedroom.zip\n",
      "3FO4MHNWW1BY_Bedroom.zip\n",
      "3FO4MHNWTCP6_Bedroom.zip\n",
      "3FO4MHNWSE9V_Bedroom.zip\n",
      "3FO4MHNWNFEE_Bedroom.zip\n",
      "3FO4MHNWLP7V_Living_room.zip\n"
     ]
    },
    {
     "name": "stderr",
     "output_type": "stream",
     "text": [
      "Downloading...\n",
      "From: https://drive.google.com/uc?id=1Uj2fF-mpjn_sCPpcBb84HqAAs9sVgd_m&export=download\n",
      "To: /media/scratch1/erbachj/Mask_RCNN/data/InteriorNet/data/HD7/train/3FO4MHNWLP7V_Living_room.zip\n",
      "69.3MB [00:01, 67.3MB/s]\n"
     ]
    },
    {
     "name": "stdout",
     "output_type": "stream",
     "text": [
      "3FO4MHNWLP7V_Bedroom.zip\n",
      "3FO4MHNWGQCE_Bedroom.zip\n",
      "3FO4MHNWFV95_Living_room.zip\n"
     ]
    },
    {
     "name": "stderr",
     "output_type": "stream",
     "text": [
      "Downloading...\n",
      "From: https://drive.google.com/uc?id=1BuGk0P0w68Hz5apKxUbQC2yfbaPDKVR0&export=download\n",
      "To: /media/scratch1/erbachj/Mask_RCNN/data/InteriorNet/data/HD7/train/3FO4MHNWFV95_Living_room.zip\n",
      "61.2MB [00:00, 97.6MB/s]\n"
     ]
    },
    {
     "name": "stdout",
     "output_type": "stream",
     "text": [
      "3FO4MHNW16BQ_Bedroom.zip\n",
      "3FO4MHNVYWUD_Bedroom.zip\n",
      "3FO4MHJSLGCH_Bedroom.zip\n",
      "3FO4MHGP6XYN_Living_room.zip\n"
     ]
    },
    {
     "name": "stderr",
     "output_type": "stream",
     "text": [
      "Downloading...\n",
      "From: https://drive.google.com/uc?id=15oZN4Ow0dNpCjGm1OZXYqgyE3o35eog0&export=download\n",
      "To: /media/scratch1/erbachj/Mask_RCNN/data/InteriorNet/data/HD7/train/3FO4MHGP6XYN_Living_room.zip\n",
      "54.4MB [00:01, 36.1MB/s]\n"
     ]
    },
    {
     "name": "stdout",
     "output_type": "stream",
     "text": [
      "3FO4MHGP6XYN_Bedroom.zip\n",
      "3FO4MHGOWHXT_Bedroom.zip\n",
      "3FO4MHGOJEUW_Bedroom.zip\n",
      "3FO4MHGFR3A0_Bedroom.zip\n",
      "3FO4MHGFD53T_Bedroom.zip\n",
      "3FO4MHGFBYYH_Bedroom.zip\n",
      "3FO4MHGFBVMG_Bedroom.zip\n",
      "3FO4MHGFA33W_Bedroom.zip\n",
      "3FO4MHGEYUBU_Bedroom.zip\n",
      "3FO4MHGEY3KM_Bedroom.zip\n",
      "3FO4MHGEV1KP_Bedroom.zip\n",
      "3FO4MHGEL0HP_Guest_room.zip\n"
     ]
    },
    {
     "name": "stderr",
     "output_type": "stream",
     "text": [
      "Downloading...\n",
      "From: https://drive.google.com/uc?id=16jL16poV5j8Xp6H4HjygE0LxeOn8Wano&export=download\n",
      "To: /media/scratch1/erbachj/Mask_RCNN/data/InteriorNet/data/HD7/train/3FO4MHGEL0HP_Guest_room.zip\n",
      "73.5MB [00:02, 32.1MB/s]\n"
     ]
    },
    {
     "name": "stdout",
     "output_type": "stream",
     "text": [
      "3FO4MHGEL0HP_Bedroom.zip\n",
      "3FO4MHGEK8QH_Living_room.zip\n"
     ]
    },
    {
     "name": "stderr",
     "output_type": "stream",
     "text": [
      "Downloading...\n",
      "From: https://drive.google.com/uc?id=1x4Bvuo_cQG6JyI2xajh0ZtB4LDOVJbMX&export=download\n",
      "To: /media/scratch1/erbachj/Mask_RCNN/data/InteriorNet/data/HD7/train/3FO4MHGEK8QH_Living_room.zip\n",
      "66.4MB [00:00, 91.0MB/s]\n"
     ]
    },
    {
     "name": "stdout",
     "output_type": "stream",
     "text": [
      "3FO4MHGEIF7X_Living_room.zip\n"
     ]
    },
    {
     "name": "stderr",
     "output_type": "stream",
     "text": [
      "Downloading...\n",
      "From: https://drive.google.com/uc?id=1OIgdbGVWZibOY1usocKBWDq-_zMeuAqh&export=download\n",
      "To: /media/scratch1/erbachj/Mask_RCNN/data/InteriorNet/data/HD7/train/3FO4MHGEIF7X_Living_room.zip\n",
      "60.0MB [00:01, 57.3MB/s]\n"
     ]
    },
    {
     "name": "stdout",
     "output_type": "stream",
     "text": [
      "3FO4MHGEIF7X_Bedroom.zip\n",
      "3FO4MHGEA0YF_Bedroom.zip\n",
      "3FO4MHGE9987_Bedroom.zip\n",
      "3FO4MHGE6RAG_Bedroom.zip\n",
      "3FO4MHGE5W77_Bedroom.zip\n",
      "3FO4MH7WO2DR_Bedroom.zip\n",
      "3FO4MH7WN0LG_Living_room.zip\n"
     ]
    },
    {
     "name": "stderr",
     "output_type": "stream",
     "text": [
      "Downloading...\n",
      "From: https://drive.google.com/uc?id=1ME54S6tNnoHMRcGE5o_pi0voVGOnowl-&export=download\n",
      "To: /media/scratch1/erbachj/Mask_RCNN/data/InteriorNet/data/HD7/train/3FO4MH7WN0LG_Living_room.zip\n",
      "71.0MB [00:01, 40.4MB/s]\n"
     ]
    },
    {
     "name": "stdout",
     "output_type": "stream",
     "text": [
      "3FO4MH7WN0LG_Bedroom.zip\n",
      "3FO4MH7WKFBO_Bedroom.zip\n",
      "3FO4MH7W80MY_Bedroom.zip\n",
      "3FO4MH7VUHM8_Bedroom.zip\n",
      "3FO4MH7VIX1R_Bedroom.zip\n",
      "3FO4MH7V4S6J_Bedroom.zip\n",
      "3FO4MH7V2B8S_Bedroom.zip\n",
      "3FO4MH2JDHDP_Living_room.zip\n"
     ]
    },
    {
     "name": "stderr",
     "output_type": "stream",
     "text": [
      "Downloading...\n",
      "From: https://drive.google.com/uc?id=10J6zavIAqkA1nXaux-hGpXCjvkYqvDnG&export=download\n",
      "To: /media/scratch1/erbachj/Mask_RCNN/data/InteriorNet/data/HD7/train/3FO4MH2JDHDP_Living_room.zip\n",
      "61.1MB [00:00, 64.7MB/s]\n"
     ]
    },
    {
     "name": "stdout",
     "output_type": "stream",
     "text": [
      "3FO4MH2JDHDP_Bedroom.zip\n",
      "3FO4MH0MG0I5_Bedroom.zip\n",
      "3FO4MGYWE0KU_Living_room.zip\n"
     ]
    },
    {
     "name": "stderr",
     "output_type": "stream",
     "text": [
      "Downloading...\n",
      "From: https://drive.google.com/uc?id=1XmHdyo2nvNMJOa4lcFEP0IWtXE8PyB6s&export=download\n",
      "To: /media/scratch1/erbachj/Mask_RCNN/data/InteriorNet/data/HD7/train/3FO4MGYWE0KU_Living_room.zip\n",
      "60.1MB [00:00, 84.4MB/s]\n"
     ]
    },
    {
     "name": "stdout",
     "output_type": "stream",
     "text": [
      "3FO4MGYW05QP_Bedroom.zip\n",
      "3FO4MGXS2NA8_Living_room.zip\n"
     ]
    },
    {
     "name": "stderr",
     "output_type": "stream",
     "text": [
      "Downloading...\n",
      "From: https://drive.google.com/uc?id=1hH8Bsz_OZZTJc9hp-8awCGYN-CohFaNo&export=download\n",
      "To: /media/scratch1/erbachj/Mask_RCNN/data/InteriorNet/data/HD7/train/3FO4MGXS2NA8_Living_room.zip\n",
      "63.0MB [00:01, 49.8MB/s]\n"
     ]
    },
    {
     "name": "stdout",
     "output_type": "stream",
     "text": [
      "3FO4MGXP8HJK_Bedroom.zip\n",
      "3FO4MGXKY9PX_Bedroom.zip\n",
      "3FO4MGXARTHC_Bedroom.zip\n",
      "3FO4MGWDOTLH_Bedroom.zip\n",
      "3FO4MGUTXEAS_Bedroom.zip\n",
      "3FO4MGUASLSH_Bedroom.zip\n",
      "3FO4MGUAQI8U_Bedroom.zip\n",
      "3FO4MGU83N73_Bedroom.zip\n",
      "3FO4MGU78D91_Bedroom.zip\n",
      "3FO4MGU5RJET_Bedroom.zip\n",
      "3FO4MGTWKU23_Bedroom.zip\n",
      "3FO4MGTVQ567_Bedroom.zip\n",
      "3FO4MGTVOIBP_Bedroom.zip\n",
      "3FO4MGTVM4Q0_Bedroom.zip\n",
      "3FO4MGTVKV9M_Living_room.zip\n"
     ]
    },
    {
     "name": "stderr",
     "output_type": "stream",
     "text": [
      "Downloading...\n",
      "From: https://drive.google.com/uc?id=1yp5hKqs0dHERIClnygM1p5dDhYs7KnZo&export=download\n",
      "To: /media/scratch1/erbachj/Mask_RCNN/data/InteriorNet/data/HD7/train/3FO4MGTVKV9M_Living_room.zip\n",
      "52.3MB [00:02, 21.8MB/s]\n"
     ]
    },
    {
     "name": "stdout",
     "output_type": "stream",
     "text": [
      "3FO4MGTVKV9M_Bedroom.zip\n",
      "3FO4MGTVGKSC_Bedroom.zip\n",
      "3FO4MGTVDM5G_Bedroom.zip\n",
      "3FO4MGTVDISF_Living_room.zip\n"
     ]
    },
    {
     "name": "stderr",
     "output_type": "stream",
     "text": [
      "Downloading...\n",
      "From: https://drive.google.com/uc?id=1tbcE-JLbg5fd2hkF4bI5APYyeKjW1u9L&export=download\n",
      "To: /media/scratch1/erbachj/Mask_RCNN/data/InteriorNet/data/HD7/train/3FO4MGTVDISF_Living_room.zip\n",
      "70.1MB [00:03, 22.5MB/s]\n"
     ]
    },
    {
     "name": "stdout",
     "output_type": "stream",
     "text": [
      "3FO4MGTVDISF_Bedroom.zip\n",
      "3FO4MGTV8TY1_Bedroom.zip\n",
      "3FO4MGTV7I5M_Bedroom.zip\n",
      "3FO4MGTV6TQF_Bedroom.zip\n",
      "3FO4MGTV3OEH_Living_room.zip\n"
     ]
    },
    {
     "name": "stderr",
     "output_type": "stream",
     "text": [
      "Downloading...\n",
      "From: https://drive.google.com/uc?id=1K-ePHjJXc_jAZQQIunMy_Hfx5b_gyGLE&export=download\n",
      "To: /media/scratch1/erbachj/Mask_RCNN/data/InteriorNet/data/HD7/train/3FO4MGTV3OEH_Living_room.zip\n",
      "58.1MB [00:00, 74.4MB/s]\n"
     ]
    },
    {
     "name": "stdout",
     "output_type": "stream",
     "text": [
      "3FO4MGTV3OEH_Bedroom.zip\n",
      "3FO4MGTUKCF0_Living_room.zip\n"
     ]
    },
    {
     "name": "stderr",
     "output_type": "stream",
     "text": [
      "Downloading...\n",
      "From: https://drive.google.com/uc?id=1898A6uFucy4pYliE6rC-SjRdMAVEMcik&export=download\n",
      "To: /media/scratch1/erbachj/Mask_RCNN/data/InteriorNet/data/HD7/train/3FO4MGTUKCF0_Living_room.zip\n",
      "66.5MB [00:03, 18.6MB/s]\n"
     ]
    },
    {
     "name": "stdout",
     "output_type": "stream",
     "text": [
      "3FO4MGTUH0E0_Bedroom.zip\n",
      "3FO4MGTUGBYS_Bedroom.zip\n",
      "3FO4MGTUFXLO_Bedroom.zip\n",
      "3FO4MGTTMR89_Bedroom.zip\n",
      "3FO4MGTHIEMC_Living_room.zip\n"
     ]
    },
    {
     "name": "stderr",
     "output_type": "stream",
     "text": [
      "Downloading...\n",
      "From: https://drive.google.com/uc?id=1svuqVbhr4l6sOVF1nh47xcMFtyNJdG-F&export=download\n",
      "To: /media/scratch1/erbachj/Mask_RCNN/data/InteriorNet/data/HD7/train/3FO4MGTHIEMC_Living_room.zip\n",
      "62.8MB [00:00, 88.3MB/s]\n"
     ]
    },
    {
     "name": "stdout",
     "output_type": "stream",
     "text": [
      "3FO4MGSY9UID_Bedroom.zip\n",
      "3FO4MGRFFGJS_Bedroom.zip\n",
      "3FO4MGOYKJN4_Bedroom.zip\n",
      "3FO4MGOV1CUY_Living_room.zip\n"
     ]
    },
    {
     "name": "stderr",
     "output_type": "stream",
     "text": [
      "Downloading...\n",
      "From: https://drive.google.com/uc?id=1b-gmjFbPHtQrxxjU1-3zpBQ6inIJhMzW&export=download\n",
      "To: /media/scratch1/erbachj/Mask_RCNN/data/InteriorNet/data/HD7/train/3FO4MGOV1CUY_Living_room.zip\n",
      "56.7MB [00:01, 50.3MB/s]\n"
     ]
    },
    {
     "name": "stdout",
     "output_type": "stream",
     "text": [
      "3FO4MGOV1CUY_Bedroom.zip\n",
      "3FO4MGOUYCND_Living_room.zip\n"
     ]
    },
    {
     "name": "stderr",
     "output_type": "stream",
     "text": [
      "Downloading...\n",
      "From: https://drive.google.com/uc?id=1m4yrvtrMQfVuPdAptWW0v6lOGx9HEzJY&export=download\n",
      "To: /media/scratch1/erbachj/Mask_RCNN/data/InteriorNet/data/HD7/train/3FO4MGOUYCND_Living_room.zip\n",
      "59.5MB [00:03, 15.9MB/s]\n"
     ]
    },
    {
     "name": "stdout",
     "output_type": "stream",
     "text": [
      "3FO4MGOUYCND_Bedroom.zip\n",
      "3FO4MGOUN340_Living_room.zip\n"
     ]
    },
    {
     "name": "stderr",
     "output_type": "stream",
     "text": [
      "Downloading...\n",
      "From: https://drive.google.com/uc?id=1AIl_lpfEmAhfsSGkU3N933JqVJlIP8m8&export=download\n",
      "To: /media/scratch1/erbachj/Mask_RCNN/data/InteriorNet/data/HD7/train/3FO4MGOUN340_Living_room.zip\n",
      "55.3MB [00:01, 31.2MB/s]\n"
     ]
    },
    {
     "name": "stdout",
     "output_type": "stream",
     "text": [
      "3FO4MGOUN340_Bedroom.zip\n",
      "3FO4MGOULJLJ_Living_room.zip\n"
     ]
    },
    {
     "name": "stderr",
     "output_type": "stream",
     "text": [
      "Downloading...\n",
      "From: https://drive.google.com/uc?id=16trmx7qWJW_qKS7OYgZXLpgljm6N6w0s&export=download\n",
      "To: /media/scratch1/erbachj/Mask_RCNN/data/InteriorNet/data/HD7/train/3FO4MGOULJLJ_Living_room.zip\n",
      "60.4MB [00:00, 89.1MB/s]\n"
     ]
    },
    {
     "name": "stdout",
     "output_type": "stream",
     "text": [
      "3FO4MGOULJLJ_Dining_room.zip\n"
     ]
    },
    {
     "name": "stderr",
     "output_type": "stream",
     "text": [
      "Downloading...\n",
      "From: https://drive.google.com/uc?id=1u6RvuwBZ9Bw24KTnxz5_BSN_xPQTGDLZ&export=download\n",
      "To: /media/scratch1/erbachj/Mask_RCNN/data/InteriorNet/data/HD7/train/3FO4MGOULJLJ_Dining_room.zip\n",
      "64.7MB [00:03, 21.3MB/s]\n"
     ]
    },
    {
     "name": "stdout",
     "output_type": "stream",
     "text": [
      "3FO4MGOULJLJ_Bedroom.zip\n",
      "3FO4MGOUH5S8_Living_room.zip\n"
     ]
    },
    {
     "name": "stderr",
     "output_type": "stream",
     "text": [
      "Downloading...\n",
      "From: https://drive.google.com/uc?id=12mnzaxAVks6QTVqyu_P3PZBHlTwAD2TF&export=download\n",
      "To: /media/scratch1/erbachj/Mask_RCNN/data/InteriorNet/data/HD7/train/3FO4MGOUH5S8_Living_room.zip\n",
      "63.7MB [00:03, 16.1MB/s]\n"
     ]
    },
    {
     "name": "stdout",
     "output_type": "stream",
     "text": [
      "3FO4MGOUH5S8_Bedroom.zip\n",
      "3FO4MGOUER7I_Bedroom.zip\n",
      "3FO4MGOUENUH_Bedroom.zip\n",
      "3FO4MGOUDW49_Bedroom.zip\n",
      "3FO4MGOUAQRB_Living_room.zip\n"
     ]
    },
    {
     "name": "stderr",
     "output_type": "stream",
     "text": [
      "Downloading...\n",
      "From: https://drive.google.com/uc?id=1dFZ1ntobREcMG4Q4o1b6wcCPnUqwkvEW&export=download\n",
      "To: /media/scratch1/erbachj/Mask_RCNN/data/InteriorNet/data/HD7/train/3FO4MGOUAQRB_Living_room.zip\n",
      "63.6MB [00:02, 29.2MB/s]\n"
     ]
    },
    {
     "name": "stdout",
     "output_type": "stream",
     "text": [
      "3FO4MGOUAQRB_Bedroom.zip\n",
      "3FO4MGOUADE7_Bedroom.zip\n",
      "3FO4MGOU9IAX_Bedroom.zip\n",
      "3FO4MGOU37M2_Bedroom.zip\n",
      "3FO4MGOU0MCA_Bedroom.zip\n",
      "3FO4MGOTWR1F_Bedroom.zip\n",
      "3FO4MGOTW6Y9_Bedroom.zip\n",
      "3FO4MGOTRVHY_Bedroom.zip\n",
      "3FO4MGLYAWI5_Bedroom.zip\n",
      "3FO4MGLY0I21_Living_room.zip\n"
     ]
    },
    {
     "name": "stderr",
     "output_type": "stream",
     "text": [
      "Downloading...\n",
      "From: https://drive.google.com/uc?id=1fQms0qgmfJ9Jux4VNVOl4m0uXjpWrPwZ&export=download\n",
      "To: /media/scratch1/erbachj/Mask_RCNN/data/InteriorNet/data/HD7/train/3FO4MGLY0I21_Living_room.zip\n",
      "67.5MB [00:00, 90.1MB/s]\n"
     ]
    },
    {
     "name": "stdout",
     "output_type": "stream",
     "text": [
      "3FO4MGLXOF6P_Bedroom.zip\n",
      "3FO4MGLXM8A2_Bedroom.zip\n",
      "3FO4MGLXLTVX_Bedroom.zip\n",
      "3FO4MGLXL6HQ_Bedroom.zip\n",
      "3FO4MGLXKYSO_Bedroom.zip\n",
      "3FO4MGLXKS4M_Living_room.zip\n"
     ]
    },
    {
     "name": "stderr",
     "output_type": "stream",
     "text": [
      "Downloading...\n",
      "From: https://drive.google.com/uc?id=1WaGAblJMgco9YogiV_5zC1-OpwuGmE20&export=download\n",
      "To: /media/scratch1/erbachj/Mask_RCNN/data/InteriorNet/data/HD7/train/3FO4MGLXKS4M_Living_room.zip\n",
      "61.6MB [00:00, 78.4MB/s]\n"
     ]
    },
    {
     "name": "stdout",
     "output_type": "stream",
     "text": [
      "3FO4MGLXKS4M_Dining_room.zip\n"
     ]
    },
    {
     "name": "stderr",
     "output_type": "stream",
     "text": [
      "Downloading...\n",
      "From: https://drive.google.com/uc?id=1ALSlZwYRwOX2u_9oqaa2Dxtfvx446tnQ&export=download\n",
      "To: /media/scratch1/erbachj/Mask_RCNN/data/InteriorNet/data/HD7/train/3FO4MGLXKS4M_Dining_room.zip\n",
      "53.9MB [00:01, 34.2MB/s]\n"
     ]
    },
    {
     "name": "stdout",
     "output_type": "stream",
     "text": [
      "3FO4MGLXIL7Y_Bedroom.zip\n",
      "3FO4MGLXIHUX_Living_room.zip\n"
     ]
    },
    {
     "name": "stderr",
     "output_type": "stream",
     "text": [
      "Downloading...\n",
      "From: https://drive.google.com/uc?id=1BuIO9Lv7jqVze3pOySxHoXWLss2kRcnz&export=download\n",
      "To: /media/scratch1/erbachj/Mask_RCNN/data/InteriorNet/data/HD7/train/3FO4MGLXIHUX_Living_room.zip\n",
      "79.4MB [00:01, 53.7MB/s]\n"
     ]
    },
    {
     "name": "stdout",
     "output_type": "stream",
     "text": [
      "3FO4MGLXIHUX_Dining_room.zip\n"
     ]
    },
    {
     "name": "stderr",
     "output_type": "stream",
     "text": [
      "Downloading...\n",
      "From: https://drive.google.com/uc?id=1WYiwTpm-JrnBM8kRTWxvDbXrfMWVA4ph&export=download\n",
      "To: /media/scratch1/erbachj/Mask_RCNN/data/InteriorNet/data/HD7/train/3FO4MGLXIHUX_Dining_room.zip\n",
      "71.4MB [00:00, 88.7MB/s]\n"
     ]
    },
    {
     "name": "stdout",
     "output_type": "stream",
     "text": [
      "3FO4MGLXH9EK_Living_room.zip\n"
     ]
    },
    {
     "name": "stderr",
     "output_type": "stream",
     "text": [
      "Downloading...\n",
      "From: https://drive.google.com/uc?id=1c2RVvO7bWmiHK8YgfL_ik9lJqf3IICjG&export=download\n",
      "To: /media/scratch1/erbachj/Mask_RCNN/data/InteriorNet/data/HD7/train/3FO4MGLXH9EK_Living_room.zip\n",
      "65.8MB [00:01, 48.9MB/s]\n"
     ]
    },
    {
     "name": "stdout",
     "output_type": "stream",
     "text": [
      "3FO4MGLXH9EK_Dining_room.zip\n"
     ]
    },
    {
     "name": "stderr",
     "output_type": "stream",
     "text": [
      "Downloading...\n",
      "From: https://drive.google.com/uc?id=1w8iAhM2ZDXLpgtyjzoyzye3uDRPlKybQ&export=download\n",
      "To: /media/scratch1/erbachj/Mask_RCNN/data/InteriorNet/data/HD7/train/3FO4MGLXH9EK_Dining_room.zip\n",
      "52.6MB [00:02, 19.2MB/s]\n"
     ]
    },
    {
     "name": "stdout",
     "output_type": "stream",
     "text": [
      "3FO4MGLXH9EK_Bedroom.zip\n",
      "3FO4MGLXEKRR_Bedroom.zip\n",
      "3FO4MG7OI2HI_Bedroom.zip\n",
      "3FO4MG653YQ2_Bedroom.zip\n",
      "3FO4MG54LXML_Bedroom.zip\n",
      "3FO4MG542JUS_Bedroom.zip\n",
      "3FO4MFWC5VHM_Bedroom.zip\n",
      "3FO4MFUY8EWX_Bedroom.zip\n",
      "3FO4MFTI7VNX_Living_room.zip\n"
     ]
    },
    {
     "name": "stderr",
     "output_type": "stream",
     "text": [
      "Downloading...\n",
      "From: https://drive.google.com/uc?id=19WVuR1QgCl01gg1JuSEXUCFQUL1QxbeM&export=download\n",
      "To: /media/scratch1/erbachj/Mask_RCNN/data/InteriorNet/data/HD7/train/3FO4MFTI7VNX_Living_room.zip\n",
      "61.4MB [00:01, 35.8MB/s]\n"
     ]
    },
    {
     "name": "stdout",
     "output_type": "stream",
     "text": [
      "3FO4MFRBAA8N_Bedroom.zip\n",
      "3FO4MFR4SHCT_Bedroom.zip\n",
      "3FO4MFPNTOAC_Bedroom.zip\n",
      "3FO4MFPND2HD_Living_room.zip\n"
     ]
    },
    {
     "name": "stderr",
     "output_type": "stream",
     "text": [
      "Downloading...\n",
      "From: https://drive.google.com/uc?id=1KH7ANX-htV7bu213ID9aStJLHsts4esA&export=download\n",
      "To: /media/scratch1/erbachj/Mask_RCNN/data/InteriorNet/data/HD7/train/3FO4MFPND2HD_Living_room.zip\n",
      "65.5MB [00:00, 80.8MB/s]\n"
     ]
    },
    {
     "name": "stdout",
     "output_type": "stream",
     "text": [
      "3FO4MFLDHOQM_Bedroom.zip\n",
      "3FO4MFI6BJSF_Living_room.zip\n"
     ]
    },
    {
     "name": "stderr",
     "output_type": "stream",
     "text": [
      "Downloading...\n",
      "From: https://drive.google.com/uc?id=1Awmg212VnXjnbDMtpfxDgpAcfORMNmen&export=download\n",
      "To: /media/scratch1/erbachj/Mask_RCNN/data/InteriorNet/data/HD7/train/3FO4MFI6BJSF_Living_room.zip\n",
      "78.6MB [00:00, 80.9MB/s]\n"
     ]
    },
    {
     "name": "stdout",
     "output_type": "stream",
     "text": [
      "3FO4MGLX66J9_Dining_room.zip\n"
     ]
    },
    {
     "name": "stderr",
     "output_type": "stream",
     "text": [
      "Downloading...\n",
      "From: https://drive.google.com/uc?id=1uvRY2yQhT7cVQvCfw9uiIBYnOGqWBWFl&export=download\n",
      "To: /media/scratch1/erbachj/Mask_RCNN/data/InteriorNet/data/HD7/train/3FO4MGLX66J9_Dining_room.zip\n",
      "62.5MB [00:00, 78.7MB/s]\n"
     ]
    },
    {
     "name": "stdout",
     "output_type": "stream",
     "text": [
      "3FO4MGLX583Y_Bedroom.zip\n",
      "3FO4MGLX1RPX_Bedroom.zip\n",
      "3FO4MGLUMLXR_Bedroom.zip\n",
      "3FO4MGLN53J9_Living_room.zip\n"
     ]
    },
    {
     "name": "stderr",
     "output_type": "stream",
     "text": [
      "Downloading...\n",
      "From: https://drive.google.com/uc?id=1koDKVOB5qrOBjQG5vv15IaawNeYeHkZp&export=download\n",
      "To: /media/scratch1/erbachj/Mask_RCNN/data/InteriorNet/data/HD7/train/3FO4MGLN53J9_Living_room.zip\n",
      "54.2MB [00:03, 16.4MB/s]\n"
     ]
    },
    {
     "name": "stdout",
     "output_type": "stream",
     "text": [
      "3FO4MGLN53J9_Bedroom.zip\n",
      "3FO4MGKHBKL1_Bedroom.zip\n",
      "3FO4MGJPMMTP_Living_room.zip\n"
     ]
    },
    {
     "name": "stderr",
     "output_type": "stream",
     "text": [
      "Downloading...\n",
      "From: https://drive.google.com/uc?id=1uBumrX7C5DhMsnk00nnFvlHwvYcQBM93&export=download\n",
      "To: /media/scratch1/erbachj/Mask_RCNN/data/InteriorNet/data/HD7/train/3FO4MGJPMMTP_Living_room.zip\n",
      "59.2MB [00:03, 18.0MB/s]\n"
     ]
    },
    {
     "name": "stdout",
     "output_type": "stream",
     "text": [
      "3FO4MGJPMMTP_Bedroom.zip\n",
      "3FO4MGJ2TTT4_Bedroom.zip\n",
      "3FO4MGIVWWF8_Bedroom.zip\n",
      "3FO4MGGC0A2U_Bedroom.zip\n",
      "3FO4MGG8V6L8_Bedroom.zip\n",
      "3FO4MGG71OLX_Bedroom.zip\n",
      "3FO4MGG3N8GI_Bedroom.zip\n",
      "3FO4MGF6JA5D_Bedroom.zip\n",
      "3FO4MGEJP43T_Bedroom.zip\n",
      "3FO4MGDGCAF8_Bedroom.zip\n",
      "3FO4MGC1LNON_Dining_room.zip\n"
     ]
    },
    {
     "name": "stderr",
     "output_type": "stream",
     "text": [
      "Downloading...\n",
      "From: https://drive.google.com/uc?id=1_7AcFzyPlEMpc6PqqnP3z-3t7PUhyD6S&export=download\n",
      "To: /media/scratch1/erbachj/Mask_RCNN/data/InteriorNet/data/HD7/train/3FO4MGC1LNON_Dining_room.zip\n",
      "82.8MB [00:01, 69.2MB/s]\n"
     ]
    },
    {
     "name": "stdout",
     "output_type": "stream",
     "text": [
      "3FO4MGBYB1MJ_Bedroom.zip\n",
      "3FO4MGBW5XI3_Bedroom.zip\n",
      "3FO4MGBDDY2L_Bedroom.zip\n",
      "3FO4MGAI7D1L_Living_room.zip\n"
     ]
    },
    {
     "name": "stderr",
     "output_type": "stream",
     "text": [
      "Downloading...\n",
      "From: https://drive.google.com/uc?id=1VPGUZqAkjLJlW9SYpX6_uRAkGILM7sEO&export=download\n",
      "To: /media/scratch1/erbachj/Mask_RCNN/data/InteriorNet/data/HD7/train/3FO4MGAI7D1L_Living_room.zip\n",
      "69.0MB [00:00, 99.3MB/s]\n"
     ]
    },
    {
     "name": "stdout",
     "output_type": "stream",
     "text": [
      "3FO4MGAI7D1L_Dining_room.zip\n"
     ]
    },
    {
     "name": "stderr",
     "output_type": "stream",
     "text": [
      "Downloading...\n",
      "From: https://drive.google.com/uc?id=151DlNuXRSUlFA6pM-zfIwGJRXxMnqCAb&export=download\n",
      "To: /media/scratch1/erbachj/Mask_RCNN/data/InteriorNet/data/HD7/train/3FO4MGAI7D1L_Dining_room.zip\n",
      "68.9MB [00:01, 50.0MB/s]\n"
     ]
    },
    {
     "name": "stdout",
     "output_type": "stream",
     "text": [
      "3FO4MGAI7D1L_Bedroom.zip\n",
      "3FO4MG9MGN9V_Bedroom.zip\n",
      "3FO4MG96GCMB_Bedroom.zip\n",
      "3FO4MG90TGBF_Bedroom.zip\n",
      "3FO4MG7IR5QF_Bedroom.zip\n",
      "3FO4MG7HLN1B_Bedroom.zip\n",
      "3FO4MG7FCCRL_Bedroom.zip\n",
      "3FO4MG7FBHOC_Living_room.zip\n"
     ]
    },
    {
     "name": "stderr",
     "output_type": "stream",
     "text": [
      "Downloading...\n",
      "From: https://drive.google.com/uc?id=1dKe2IE7onDS8rJ0xosOaEufC9o0qIoEb&export=download\n",
      "To: /media/scratch1/erbachj/Mask_RCNN/data/InteriorNet/data/HD7/train/3FO4MG7FBHOC_Living_room.zip\n",
      "61.7MB [00:00, 72.7MB/s]\n"
     ]
    },
    {
     "name": "stdout",
     "output_type": "stream",
     "text": [
      "3FO4MG7FBHOC_Bedroom.zip\n",
      "3FO4MG7FAWM6_Bedroom.zip\n",
      "3FO4MG7EVEDT_Bedroom.zip\n",
      "3FO4MG7ETAT7_Bedroom.zip\n",
      "3FO4MG7ELNBW_Bedroom.zip\n",
      "3FO4MG7EIYP4_Bedroom.zip\n",
      "3FO4MG7ED93E_Guest_room.zip\n"
     ]
    },
    {
     "name": "stderr",
     "output_type": "stream",
     "text": [
      "Downloading...\n",
      "From: https://drive.google.com/uc?id=16PLawqO-k71HrFMm6LE-_CpXV0wtzJXQ&export=download\n",
      "To: /media/scratch1/erbachj/Mask_RCNN/data/InteriorNet/data/HD7/train/3FO4MG7ED93E_Guest_room.zip\n",
      "53.4MB [00:00, 86.0MB/s]\n"
     ]
    },
    {
     "name": "stdout",
     "output_type": "stream",
     "text": [
      "3FO4MG7ED93E_Bedroom.zip\n",
      "3FO4MG7E5OX5_Bedroom.zip\n",
      "3FO4MG7DSDLG_Bedroom.zip\n",
      "3FO4MG6196SQ_Bedroom.zip\n",
      "3FO4MG5FU677_Living_room.zip\n"
     ]
    },
    {
     "name": "stderr",
     "output_type": "stream",
     "text": [
      "Downloading...\n",
      "From: https://drive.google.com/uc?id=1KvUliuBiCNPgIxPI5Xp0PAq8GYHWIwk5&export=download\n",
      "To: /media/scratch1/erbachj/Mask_RCNN/data/InteriorNet/data/HD7/train/3FO4MG5FU677_Living_room.zip\n",
      "63.1MB [00:02, 30.6MB/s]\n"
     ]
    },
    {
     "name": "stdout",
     "output_type": "stream",
     "text": [
      "3FO4MG5FU677_Bedroom.zip\n",
      "3FO4MG5C8447_Bedroom.zip\n",
      "3FO4MG5BU4DB_Bedroom.zip\n",
      "3FO4MG5BHYPO_Living_room.zip\n"
     ]
    },
    {
     "name": "stderr",
     "output_type": "stream",
     "text": [
      "Downloading...\n",
      "From: https://drive.google.com/uc?id=1JbL8C5gWCgb-Exe4PeKX0BDeih0olmlX&export=download\n",
      "To: /media/scratch1/erbachj/Mask_RCNN/data/InteriorNet/data/HD7/train/3FO4MG5BHYPO_Living_room.zip\n",
      "60.7MB [00:01, 52.0MB/s]\n"
     ]
    },
    {
     "name": "stdout",
     "output_type": "stream",
     "text": [
      "3FO4MG5BHYPO_Bedroom.zip\n",
      "3FO4MG5B9R68_Guest_room.zip\n"
     ]
    },
    {
     "name": "stderr",
     "output_type": "stream",
     "text": [
      "Downloading...\n",
      "From: https://drive.google.com/uc?id=1GGFa87rlFLZhpIHkyzr4HqmFnJiRCPa5&export=download\n",
      "To: /media/scratch1/erbachj/Mask_RCNN/data/InteriorNet/data/HD7/train/3FO4MG5B9R68_Guest_room.zip\n",
      "47.0MB [00:00, 62.0MB/s]\n"
     ]
    },
    {
     "name": "stdout",
     "output_type": "stream",
     "text": [
      "3FO4MG5B9R68_Bedroom.zip\n",
      "3FO4MG555UO9_Bedroom.zip\n",
      "3FO4MG555O07_Bedroom.zip\n",
      "3FO4MG54RHK9_Bedroom.zip\n",
      "3FO4MG54NR65_Bedroom.zip\n",
      "3FO4MG54MC0P_Bedroom.zip\n",
      "3FO4MG54KSI9_Bedroom.zip\n",
      "3FO4MG54H345_Bedroom.zip\n",
      "3FO4MG54EYJI_Living_room.zip\n"
     ]
    },
    {
     "name": "stderr",
     "output_type": "stream",
     "text": [
      "Downloading...\n",
      "From: https://drive.google.com/uc?id=1AhH0BK_cVUKmoSolGkEwhfxXF78kmwtJ&export=download\n",
      "To: /media/scratch1/erbachj/Mask_RCNN/data/InteriorNet/data/HD7/train/3FO4MG54EYJI_Living_room.zip\n",
      "56.1MB [00:01, 34.8MB/s]\n"
     ]
    },
    {
     "name": "stdout",
     "output_type": "stream",
     "text": [
      "3FO4MG54EYJI_Dining_room.zip\n"
     ]
    },
    {
     "name": "stderr",
     "output_type": "stream",
     "text": [
      "Downloading...\n",
      "From: https://drive.google.com/uc?id=1Sms9MZRbG2BrsmD8aAMXl_CWg24L-f1h&export=download\n",
      "To: /media/scratch1/erbachj/Mask_RCNN/data/InteriorNet/data/HD7/train/3FO4MG54EYJI_Dining_room.zip\n",
      "42.9MB [00:01, 24.7MB/s]\n"
     ]
    },
    {
     "name": "stdout",
     "output_type": "stream",
     "text": [
      "3FO4MG54EYJI_Bedroom.zip\n",
      "3FO4MG54D60Y_Bedroom.zip\n",
      "3FO4MG54C7KO_Bedroom.zip\n",
      "3FO4MG54A0O1_Bedroom.zip\n",
      "3FO4MG545F6N_Living_room.zip\n"
     ]
    },
    {
     "name": "stderr",
     "output_type": "stream",
     "text": [
      "Downloading...\n",
      "From: https://drive.google.com/uc?id=1QFadFM7PfzWeRoSgL-X62H5CjvE84lbU&export=download\n",
      "To: /media/scratch1/erbachj/Mask_RCNN/data/InteriorNet/data/HD7/train/3FO4MG545F6N_Living_room.zip\n",
      "58.1MB [00:01, 57.8MB/s]\n"
     ]
    },
    {
     "name": "stdout",
     "output_type": "stream",
     "text": [
      "3FO4MG545F6N_Dining_room.zip\n"
     ]
    },
    {
     "name": "stderr",
     "output_type": "stream",
     "text": [
      "Downloading...\n",
      "From: https://drive.google.com/uc?id=11AEnu4mltAjqJWZaURGUdbyy4SNhYpjd&export=download\n",
      "To: /media/scratch1/erbachj/Mask_RCNN/data/InteriorNet/data/HD7/train/3FO4MG545F6N_Dining_room.zip\n",
      "55.9MB [00:02, 19.1MB/s]\n"
     ]
    },
    {
     "name": "stdout",
     "output_type": "stream",
     "text": [
      "3FO4MG545F6N_Bedroom.zip\n",
      "3FO4MG5446PA_Living_room.zip\n"
     ]
    },
    {
     "name": "stderr",
     "output_type": "stream",
     "text": [
      "Downloading...\n",
      "From: https://drive.google.com/uc?id=1ItsOVAPYd4oWIUGDcSSzm_rNjJbJv6A0&export=download\n",
      "To: /media/scratch1/erbachj/Mask_RCNN/data/InteriorNet/data/HD7/train/3FO4MG5446PA_Living_room.zip\n",
      "57.8MB [00:00, 64.9MB/s]\n"
     ]
    },
    {
     "name": "stdout",
     "output_type": "stream",
     "text": [
      "3FO4MG5446PA_Bedroom.zip\n",
      "3FO4MG5438A0_Bedroom.zip\n",
      "3FO4MG541YSM_Bedroom.zip\n",
      "3FO4MG5406A3_Living_room.zip\n"
     ]
    },
    {
     "name": "stderr",
     "output_type": "stream",
     "text": [
      "Downloading...\n",
      "From: https://drive.google.com/uc?id=15KJHzWRMLnmE_NyhFinG_5fBxpMWLs72&export=download\n",
      "To: /media/scratch1/erbachj/Mask_RCNN/data/InteriorNet/data/HD7/train/3FO4MG5406A3_Living_room.zip\n",
      "69.6MB [00:02, 28.0MB/s]\n"
     ]
    },
    {
     "name": "stdout",
     "output_type": "stream",
     "text": [
      "3FO4MG5406A3_Bedroom.zip\n",
      "3FO4MG4TTTXA_Living_room.zip\n"
     ]
    },
    {
     "name": "stderr",
     "output_type": "stream",
     "text": [
      "Downloading...\n",
      "From: https://drive.google.com/uc?id=1iUdR3IOYrHbU43GvKVl9EOu26nvVdAuN&export=download\n",
      "To: /media/scratch1/erbachj/Mask_RCNN/data/InteriorNet/data/HD7/train/3FO4MG4TTTXA_Living_room.zip\n",
      "70.1MB [00:01, 45.5MB/s]\n"
     ]
    },
    {
     "name": "stdout",
     "output_type": "stream",
     "text": [
      "3FO4MG4TTTXA_Guest_room.zip\n"
     ]
    },
    {
     "name": "stderr",
     "output_type": "stream",
     "text": [
      "Downloading...\n",
      "From: https://drive.google.com/uc?id=1tx_f3DYDI48me5oujQAuSLQAt6PKnTW0&export=download\n",
      "To: /media/scratch1/erbachj/Mask_RCNN/data/InteriorNet/data/HD7/train/3FO4MG4TTTXA_Guest_room.zip\n",
      "65.1MB [00:00, 101MB/s] \n"
     ]
    },
    {
     "name": "stdout",
     "output_type": "stream",
     "text": [
      "3FO4MG4TTTXA_Bedroom.zip\n",
      "3FO4MG3VOHO9_Bedroom.zip\n",
      "3FO4MG3ILER9_Bedroom.zip\n",
      "3FO4MG2QFNIW_Bedroom.zip\n",
      "3FO4MG2OGED7_Bedroom.zip\n",
      "3FO4MG0HK4QB_Bedroom.zip\n",
      "3FO4MFY97KHG_Bedroom.zip\n",
      "3FO4MFX9C8EH_Bedroom.zip\n",
      "3FO4MFX743A4_Bedroom.zip\n",
      "3FO4MFW7MRPC_Guest_room.zip\n"
     ]
    },
    {
     "name": "stderr",
     "output_type": "stream",
     "text": [
      "Downloading...\n",
      "From: https://drive.google.com/uc?id=14BMCdK1FkY3qZWt0KWhG4iTiJaGM2VxH&export=download\n",
      "To: /media/scratch1/erbachj/Mask_RCNN/data/InteriorNet/data/HD7/train/3FO4MFW7MRPC_Guest_room.zip\n",
      "73.7MB [00:02, 33.8MB/s]\n"
     ]
    },
    {
     "name": "stdout",
     "output_type": "stream",
     "text": [
      "3FO4MFW7MRPC_Bedroom.zip\n",
      "3FO4MFVSQLQX_Bedroom.zip\n",
      "3FO4MFVPVHL0_Bedroom.zip\n",
      "3FO4MFVPV0UU_Bedroom.zip\n",
      "3FO4MFVPLGI0_Living_room.zip\n"
     ]
    },
    {
     "name": "stderr",
     "output_type": "stream",
     "text": [
      "Downloading...\n",
      "From: https://drive.google.com/uc?id=11CA7c2oAZdv6srcLrscb6HCRr3C4xKGz&export=download\n",
      "To: /media/scratch1/erbachj/Mask_RCNN/data/InteriorNet/data/HD7/train/3FO4MFVPLGI0_Living_room.zip\n",
      "59.4MB [00:02, 26.7MB/s]\n"
     ]
    },
    {
     "name": "stdout",
     "output_type": "stream",
     "text": [
      "3FO4MFVPLGI0_Bedroom.zip\n",
      "3FO4MFVOUH18_Bedroom.zip\n",
      "3FO4MFVNI081_Bedroom.zip\n",
      "3FO4MFVM7W0J_Guest_room.zip\n"
     ]
    },
    {
     "name": "stderr",
     "output_type": "stream",
     "text": [
      "Downloading...\n",
      "From: https://drive.google.com/uc?id=1VHDTmWOltyl_oN-ZgWavVOcyJ4CPPBFZ&export=download\n",
      "To: /media/scratch1/erbachj/Mask_RCNN/data/InteriorNet/data/HD7/train/3FO4MFVM7W0J_Guest_room.zip\n",
      "41.7MB [00:00, 67.9MB/s]\n"
     ]
    },
    {
     "name": "stdout",
     "output_type": "stream",
     "text": [
      "3FO4MFVM7W0J_Bedroom.zip\n",
      "3FO4MFVJ87C8_Bedroom.zip\n",
      "3FO4MFVGAV9M_Bedroom.zip\n",
      "3FO4MFV4D4DO_Bedroom.zip\n",
      "3FO4MFUXY5L6_Bedroom.zip\n",
      "3FO4MFUXJPOU_Bedroom.zip\n",
      "3FO4MFUXGKCW_Bedroom.zip\n",
      "3FO4MFUX50RG_Dining_room.zip\n"
     ]
    },
    {
     "name": "stderr",
     "output_type": "stream",
     "text": [
      "Downloading...\n",
      "From: https://drive.google.com/uc?id=1XOrSCiA4t1Rxk1YPrjO4p4TofqyThYVK&export=download\n",
      "To: /media/scratch1/erbachj/Mask_RCNN/data/InteriorNet/data/HD7/train/3FO4MFUX50RG_Dining_room.zip\n",
      "54.9MB [00:01, 47.1MB/s]\n"
     ]
    },
    {
     "name": "stdout",
     "output_type": "stream",
     "text": [
      "3FO4MFUX50RG_Bedroom.zip\n",
      "3FO4MFUX42C6_Bedroom.zip\n",
      "3FO4MFUWYK6T_Bedroom.zip\n",
      "3FO4MFUTNOB6_Bedroom.zip\n",
      "3FO4MFUN0O3H_Bedroom.zip\n",
      "3FO4MFUMMROM_Bedroom.zip\n",
      "3FO4MFUKMDEK_Bedroom.zip\n",
      "3FO4MFUJGUOG_Bedroom.zip\n",
      "3FO4MFUJ8D3W_Bedroom.zip\n",
      "3FO4MFTOFBUY_Bedroom.zip\n",
      "3FO4MFTI7VNX_Bedroom.zip\n",
      "3FO4MFTABBQ8_Living_room.zip\n"
     ]
    },
    {
     "name": "stderr",
     "output_type": "stream",
     "text": [
      "Downloading...\n",
      "From: https://drive.google.com/uc?id=146bcz-K6uMbmXn0Zhre2wKkZNi56ZXtT&export=download\n",
      "To: /media/scratch1/erbachj/Mask_RCNN/data/InteriorNet/data/HD7/train/3FO4MFTABBQ8_Living_room.zip\n",
      "60.3MB [00:01, 50.6MB/s]\n"
     ]
    },
    {
     "name": "stdout",
     "output_type": "stream",
     "text": [
      "3FO4MFTABBQ8_Bedroom.zip\n",
      "3FO4MFT9V53O_Bedroom.zip\n",
      "3FO4MFT8GQEW_Bedroom.zip\n",
      "3FO4MFT36BCG_Bedroom.zip\n",
      "3FO4MFSJSA35_Bedroom.zip\n",
      "3FO4MFSGIJBT_Bedroom.zip\n",
      "3FO4MFRQ1MS3_Bedroom.zip\n",
      "3FO4MFRDTLKD_Bedroom.zip\n",
      "3FO4MFRDS32W_Bedroom.zip\n",
      "3FO4MFRDFGP5_Bedroom.zip\n",
      "3FO4MFRDBX03_Bedroom.zip\n",
      "3FO4MFRD8HM2_Bedroom.zip\n",
      "3FO4MFRB6JTJ_Living_room.zip\n"
     ]
    },
    {
     "name": "stderr",
     "output_type": "stream",
     "text": [
      "Downloading...\n",
      "From: https://drive.google.com/uc?id=1O0nmEpJDng4KviKrYWCiV5P9PIxugptD&export=download\n",
      "To: /media/scratch1/erbachj/Mask_RCNN/data/InteriorNet/data/HD7/train/3FO4MFRB6JTJ_Living_room.zip\n",
      "66.8MB [00:01, 52.0MB/s]\n"
     ]
    },
    {
     "name": "stdout",
     "output_type": "stream",
     "text": [
      "3FO4MFRB6JTJ_Bedroom.zip\n",
      "3FO4MFRAQ6HX_Living_room.zip\n"
     ]
    },
    {
     "name": "stderr",
     "output_type": "stream",
     "text": [
      "Downloading...\n",
      "From: https://drive.google.com/uc?id=1-zMogP7vfu_KAkm4Y5UuU2bqF0wZkVXK&export=download\n",
      "To: /media/scratch1/erbachj/Mask_RCNN/data/InteriorNet/data/HD7/train/3FO4MFRAQ6HX_Living_room.zip\n",
      "67.5MB [00:00, 81.5MB/s]\n"
     ]
    },
    {
     "name": "stdout",
     "output_type": "stream",
     "text": [
      "3FO4MFRAQ6HX_Bedroom.zip\n",
      "3FO4MFR98MH8_Living_room.zip\n"
     ]
    },
    {
     "name": "stderr",
     "output_type": "stream",
     "text": [
      "Downloading...\n",
      "From: https://drive.google.com/uc?id=1n2V7pPZZP2s5gV0K9NVRp91Q4J-v5eFN&export=download\n",
      "To: /media/scratch1/erbachj/Mask_RCNN/data/InteriorNet/data/HD7/train/3FO4MFR98MH8_Living_room.zip\n",
      "64.6MB [00:01, 48.8MB/s]\n"
     ]
    },
    {
     "name": "stdout",
     "output_type": "stream",
     "text": [
      "3FO4MFR98MH8_Dining_room.zip\n"
     ]
    },
    {
     "name": "stderr",
     "output_type": "stream",
     "text": [
      "Downloading...\n",
      "From: https://drive.google.com/uc?id=1CSmQKmjw8ZwQMC3KR-KW9PHlvVBD4Sv5&export=download\n",
      "To: /media/scratch1/erbachj/Mask_RCNN/data/InteriorNet/data/HD7/train/3FO4MFR98MH8_Dining_room.zip\n",
      "76.6MB [00:02, 31.1MB/s]\n"
     ]
    },
    {
     "name": "stdout",
     "output_type": "stream",
     "text": [
      "3FO4MFR98MH8_Bedroom.zip\n",
      "3FO4MFR4Y1AH_Bedroom.zip\n",
      "3FO4MFR4XJKC_Living_room.zip\n"
     ]
    },
    {
     "name": "stderr",
     "output_type": "stream",
     "text": [
      "Downloading...\n",
      "From: https://drive.google.com/uc?id=1POibJeK-mKSWXvpa0DgGVa8JCS2YfbyW&export=download\n",
      "To: /media/scratch1/erbachj/Mask_RCNN/data/InteriorNet/data/HD7/train/3FO4MFR4XJKC_Living_room.zip\n",
      "64.1MB [00:00, 76.8MB/s]\n"
     ]
    },
    {
     "name": "stdout",
     "output_type": "stream",
     "text": [
      "3FO4MFR4XJKC_Bedroom.zip\n",
      "3FO4MFR4VG0P_Living_room.zip\n"
     ]
    },
    {
     "name": "stderr",
     "output_type": "stream",
     "text": [
      "Downloading...\n",
      "From: https://drive.google.com/uc?id=1_i3kj-DmXoSAJmk-Y_yIdzOIwaYq-y3I&export=download\n",
      "To: /media/scratch1/erbachj/Mask_RCNN/data/InteriorNet/data/HD7/train/3FO4MFR4VG0P_Living_room.zip\n",
      "60.8MB [00:03, 15.6MB/s]\n"
     ]
    },
    {
     "name": "stdout",
     "output_type": "stream",
     "text": [
      "3FO4MFR4VG0P_Bedroom.zip\n",
      "3FO4MFR4UE8E_Bedroom.zip\n",
      "3FO4MFR4T2F0_Bedroom.zip\n",
      "3FO4MFR4R8VG_Bedroom.zip\n",
      "3FO4MFR4OXMR_Bedroom.zip\n",
      "3FO4MFR4K9SD_Bedroom.zip\n",
      "3FO4MFR49DM4_Bedroom.zip\n",
      "3FO4MFR48F6T_Bedroom.zip\n",
      "3FO4MFQTAATP_Bedroom.zip\n",
      "3FO4MFQT5SOD_Bedroom.zip\n",
      "3FO4MFPOGXD0_Bedroom.zip\n",
      "3FO4MFPOFVKO_Living_room.zip\n"
     ]
    },
    {
     "name": "stderr",
     "output_type": "stream",
     "text": [
      "Downloading...\n",
      "From: https://drive.google.com/uc?id=1g2ZSNeEfk7WP48RCeGghROzd_uDUyxWf&export=download\n",
      "To: /media/scratch1/erbachj/Mask_RCNN/data/InteriorNet/data/HD7/train/3FO4MFPOFVKO_Living_room.zip\n",
      "59.7MB [00:02, 27.5MB/s]\n"
     ]
    },
    {
     "name": "stdout",
     "output_type": "stream",
     "text": [
      "3FO4MFPOFVKO_Bedroom.zip\n",
      "3FO4MFPOFS8N_Bedroom.zip\n",
      "3FO4MFPO3XM4_Bedroom.zip\n",
      "3FO4MFPNW9K4_Bedroom.zip\n",
      "3FO4MFPNTOAC_Living_room.zip\n"
     ]
    },
    {
     "name": "stderr",
     "output_type": "stream",
     "text": [
      "Downloading...\n",
      "From: https://drive.google.com/uc?id=1AwCp2FtJ4Mb9OtqwV5hcnqTDRHL3RjA7&export=download\n",
      "To: /media/scratch1/erbachj/Mask_RCNN/data/InteriorNet/data/HD7/train/3FO4MFPNTOAC_Living_room.zip\n",
      "59.2MB [00:00, 75.3MB/s]\n"
     ]
    },
    {
     "name": "stdout",
     "output_type": "stream",
     "text": [
      "3FO4MFPNT0V5_Bedroom.zip\n",
      "3FO4MFPNSFSY_Bedroom.zip\n",
      "3FO4MFPNRKPP_Bedroom.zip\n",
      "3FO4MFPNRE1N_Bedroom.zip\n",
      "3FO4MFPNO20N_Bedroom.zip\n",
      "3FO4MFPNMBT5_Bedroom.zip\n",
      "3FO4MFPNLA1T_Bedroom.zip\n",
      "3FO4MFPNIEPY_Living_room.zip\n"
     ]
    },
    {
     "name": "stderr",
     "output_type": "stream",
     "text": [
      "Downloading...\n",
      "From: https://drive.google.com/uc?id=15use5ii7D8VziVM97z78bdZhL28U2Eg7&export=download\n",
      "To: /media/scratch1/erbachj/Mask_RCNN/data/InteriorNet/data/HD7/train/3FO4MFPNIEPY_Living_room.zip\n",
      "61.0MB [00:01, 40.6MB/s]\n"
     ]
    },
    {
     "name": "stdout",
     "output_type": "stream",
     "text": [
      "3FO4MFPNIEPY_Dining_room.zip\n"
     ]
    },
    {
     "name": "stderr",
     "output_type": "stream",
     "text": [
      "Downloading...\n",
      "From: https://drive.google.com/uc?id=1HL3IZBpPWSEbnJ8dl3DGJxQ-wDqwvHRh&export=download\n",
      "To: /media/scratch1/erbachj/Mask_RCNN/data/InteriorNet/data/HD7/train/3FO4MFPNIEPY_Dining_room.zip\n",
      "63.9MB [00:01, 54.3MB/s]\n"
     ]
    },
    {
     "name": "stdout",
     "output_type": "stream",
     "text": [
      "3FO4MFPNIEPY_Bedroom.zip\n",
      "3FO4MFPNFJF4_Bedroom.zip\n",
      "3FO4MFPNEAXQ_Bedroom.zip\n",
      "3FO4MFPNE49O_Bedroom.zip\n",
      "3FO4MFPND5TE_Bedroom.zip\n",
      "3FO4MFPND2HD_Bedroom.zip\n",
      "3FO4MFPNC423_Bedroom.zip\n",
      "3FO4MFPNB29R_Bedroom.zip\n",
      "3FO4MFPNAR8O_Bedroom.zip\n",
      "3FO4MFPN5VP8_Bedroom.zip\n",
      "3FO4MFPN5P16_Bedroom.zip\n",
      "3FO4MFPMRIL8_Bedroom.zip\n",
      "3FO4MFPMR1V3_Bedroom.zip\n",
      "3FO4MFNMKHNE_Living_room.zip\n"
     ]
    },
    {
     "name": "stderr",
     "output_type": "stream",
     "text": [
      "Downloading...\n",
      "From: https://drive.google.com/uc?id=1hlant-Yy8XZRATPc_Sz-0vGOHx8FhhD9&export=download\n",
      "To: /media/scratch1/erbachj/Mask_RCNN/data/InteriorNet/data/HD7/train/3FO4MFNMKHNE_Living_room.zip\n",
      "58.2MB [00:02, 22.7MB/s]\n"
     ]
    },
    {
     "name": "stdout",
     "output_type": "stream",
     "text": [
      "3FO4MFNMKHNE_Bedroom.zip\n",
      "3FO4MFN1FO95_Guest_room.zip\n"
     ]
    },
    {
     "name": "stderr",
     "output_type": "stream",
     "text": [
      "Downloading...\n",
      "From: https://drive.google.com/uc?id=1_7SDfNl3OMHcsbfNQmEm3o8rOJcsGorN&export=download\n",
      "To: /media/scratch1/erbachj/Mask_RCNN/data/InteriorNet/data/HD7/train/3FO4MFN1FO95_Guest_room.zip\n",
      "31.8MB [00:00, 50.2MB/s]\n"
     ]
    },
    {
     "name": "stdout",
     "output_type": "stream",
     "text": [
      "3FO4MFN1FO95_Bedroom.zip\n",
      "3FO4MFM138N2_Bedroom.zip\n",
      "3FO4MFLYMBGT_Bedroom.zip\n",
      "3FO4MFL23GJ8_Bedroom.zip\n",
      "3FO4MFK5WDFW_Bedroom.zip\n",
      "3FO4MFJT0XDD_Bedroom.zip\n",
      "3FO4MFJPS15L_Bedroom.zip\n",
      "3FO4MFIUQ3Y0_Living_room.zip\n"
     ]
    },
    {
     "name": "stderr",
     "output_type": "stream",
     "text": [
      "Downloading...\n",
      "From: https://drive.google.com/uc?id=1HMkQPmTgEAre7pRYZZu5bdrXcWT0Fas1&export=download\n",
      "To: /media/scratch1/erbachj/Mask_RCNN/data/InteriorNet/data/HD7/train/3FO4MFIUQ3Y0_Living_room.zip\n",
      "63.1MB [00:03, 17.0MB/s]\n"
     ]
    },
    {
     "name": "stdout",
     "output_type": "stream",
     "text": [
      "3FO4MFIUQ3Y0_Bedroom.zip\n",
      "3FO4MFI72MM8_Bedroom.zip\n",
      "3FO4MFI71E5U_Bedroom.zip\n",
      "3FO4MFI70FPK_Living_room.zip\n"
     ]
    },
    {
     "name": "stderr",
     "output_type": "stream",
     "text": [
      "Downloading...\n",
      "From: https://drive.google.com/uc?id=1DGnUm8xIGCgtc5rdbnuyUZccCAt_itid&export=download\n",
      "To: /media/scratch1/erbachj/Mask_RCNN/data/InteriorNet/data/HD7/train/3FO4MFI70FPK_Living_room.zip\n",
      "67.5MB [00:04, 16.6MB/s]\n"
     ]
    },
    {
     "name": "stdout",
     "output_type": "stream",
     "text": [
      "3FO4MFI70FPK_Bedroom.zip\n",
      "3FO4MFI7091I_Bedroom.zip\n",
      "3FO4MFI6YRBD_Bedroom.zip\n",
      "3FO4MFI6XM71_Bedroom.zip\n",
      "3FO4MFI6H3Q3_Bedroom.zip\n",
      "3FO4MFDMKLRS_Bedroom.zip\n",
      "3FO4MFDM71YQ_Bedroom.zip\n",
      "3FO4MFB49PKE_Dining_room.zip\n"
     ]
    },
    {
     "name": "stderr",
     "output_type": "stream",
     "text": [
      "Downloading...\n",
      "From: https://drive.google.com/uc?id=1jJKiUfi2BymZKWuLeiL1pPu-YF0127fi&export=download\n",
      "To: /media/scratch1/erbachj/Mask_RCNN/data/InteriorNet/data/HD7/train/3FO4MFB49PKE_Dining_room.zip\n",
      "81.4MB [00:01, 46.1MB/s]\n"
     ]
    },
    {
     "name": "stdout",
     "output_type": "stream",
     "text": [
      "3FO4MF6QUVL7_Bedroom.zip\n",
      "3FO4MF2VJFLN_Bedroom.zip\n",
      "3FO4MF1B30H1_Bedroom.zip\n",
      "3FO4MEYK1KW3_Bedroom.zip\n",
      "3FO4MEYJAYSF_Bedroom.zip\n",
      "3FO4MEX62FDF_Bedroom.zip\n",
      "3FO4MEV76WSI_Living_room.zip\n"
     ]
    },
    {
     "name": "stderr",
     "output_type": "stream",
     "text": [
      "Downloading...\n",
      "From: https://drive.google.com/uc?id=1CgXrFhYnIxHW7qP0XUKlj04XYr4TUTJK&export=download\n",
      "To: /media/scratch1/erbachj/Mask_RCNN/data/InteriorNet/data/HD7/train/3FO4MEV76WSI_Living_room.zip\n",
      "74.2MB [00:00, 88.8MB/s]\n"
     ]
    },
    {
     "name": "stdout",
     "output_type": "stream",
     "text": [
      "3FO4MEQRIF7H_Bedroom.zip\n",
      "3FO4MEOCLQVQ_Bedroom.zip\n",
      "3FO4MEL7LK69_Bedroom.zip\n",
      "3FO4MFI6BJSF_Bedroom.zip\n",
      "3FO4MFI6AEO3_Bedroom.zip\n",
      "3FO4MFI67Q2A_Living_room.zip\n"
     ]
    },
    {
     "name": "stderr",
     "output_type": "stream",
     "text": [
      "Downloading...\n",
      "From: https://drive.google.com/uc?id=1Zc2DLCG7RlC9SLB9tJizVcW-Uifhmf6R&export=download\n",
      "To: /media/scratch1/erbachj/Mask_RCNN/data/InteriorNet/data/HD7/train/3FO4MFI67Q2A_Living_room.zip\n",
      "54.5MB [00:01, 44.2MB/s]\n"
     ]
    },
    {
     "name": "stdout",
     "output_type": "stream",
     "text": [
      "3FO4MFI67Q2A_Bedroom.zip\n",
      "3FO4MFI67MP9_Living_room.zip\n"
     ]
    },
    {
     "name": "stderr",
     "output_type": "stream",
     "text": [
      "Downloading...\n",
      "From: https://drive.google.com/uc?id=1vxN9WN2AivKU58uF9nVn4tvt9-_2ZrBp&export=download\n",
      "To: /media/scratch1/erbachj/Mask_RCNN/data/InteriorNet/data/HD7/train/3FO4MFI67MP9_Living_room.zip\n",
      "56.3MB [00:00, 74.5MB/s]\n"
     ]
    },
    {
     "name": "stdout",
     "output_type": "stream",
     "text": [
      "3FO4MFI655RI_Bedroom.zip\n",
      "3FO4MFI652FH_Living_room.zip\n"
     ]
    },
    {
     "name": "stderr",
     "output_type": "stream",
     "text": [
      "Downloading...\n",
      "From: https://drive.google.com/uc?id=1pVcep0w06R445e4KVRGI7iyVzbvD6JCO&export=download\n",
      "To: /media/scratch1/erbachj/Mask_RCNN/data/InteriorNet/data/HD7/train/3FO4MFI652FH_Living_room.zip\n",
      "68.3MB [00:01, 47.8MB/s]\n"
     ]
    },
    {
     "name": "stdout",
     "output_type": "stream",
     "text": [
      "3FO4MFI652FH_Dining_room.zip\n"
     ]
    },
    {
     "name": "stderr",
     "output_type": "stream",
     "text": [
      "Downloading...\n",
      "From: https://drive.google.com/uc?id=1FCBWcTjq_5Zz7noytwHyvbStU5yZXAwq&export=download\n",
      "To: /media/scratch1/erbachj/Mask_RCNN/data/InteriorNet/data/HD7/train/3FO4MFI652FH_Dining_room.zip\n",
      "48.3MB [00:01, 46.6MB/s]\n"
     ]
    },
    {
     "name": "stdout",
     "output_type": "stream",
     "text": [
      "3FO4MFI652FH_Bedroom.zip\n",
      "3FO4MFI64O2D_Bedroom.zip\n",
      "3FO4MFI5YVUX_Bedroom.zip\n",
      "3FO4MFI5PT88_Bedroom.zip\n",
      "3FO4MFHW93RH_Bedroom.zip\n",
      "3FO4MFHJMFYE_Guest_room.zip\n"
     ]
    },
    {
     "name": "stderr",
     "output_type": "stream",
     "text": [
      "Downloading...\n",
      "From: https://drive.google.com/uc?id=15eT_pYSSuwbht8e-Jpv3nCsnIVMbWqBS&export=download\n",
      "To: /media/scratch1/erbachj/Mask_RCNN/data/InteriorNet/data/HD7/train/3FO4MFHJMFYE_Guest_room.zip\n",
      "57.2MB [00:01, 45.7MB/s]\n"
     ]
    },
    {
     "name": "stdout",
     "output_type": "stream",
     "text": [
      "3FO4MFHHKOUX_Bedroom.zip\n",
      "3FO4MFFPHBAX_Bedroom.zip\n",
      "3FO4MFFK6L7E_Bedroom.zip\n",
      "3FO4MFFJKH93_Living_room.zip\n"
     ]
    },
    {
     "name": "stderr",
     "output_type": "stream",
     "text": [
      "Downloading...\n",
      "From: https://drive.google.com/uc?id=12mahcZG11NMvo4VUyaaB_NhDiLFLIavT&export=download\n",
      "To: /media/scratch1/erbachj/Mask_RCNN/data/InteriorNet/data/HD7/train/3FO4MFFJKH93_Living_room.zip\n",
      "42.6MB [00:01, 34.9MB/s]\n"
     ]
    },
    {
     "name": "stdout",
     "output_type": "stream",
     "text": [
      "3FO4MFFIXYWN_Living_room.zip\n"
     ]
    },
    {
     "name": "stderr",
     "output_type": "stream",
     "text": [
      "Downloading...\n",
      "From: https://drive.google.com/uc?id=13di6C5Wsg03z1gpWdY-6tgJbhqKWBD_D&export=download\n",
      "To: /media/scratch1/erbachj/Mask_RCNN/data/InteriorNet/data/HD7/train/3FO4MFFIXYWN_Living_room.zip\n",
      "36.8MB [00:01, 22.9MB/s]\n"
     ]
    },
    {
     "name": "stdout",
     "output_type": "stream",
     "text": [
      "3FO4MFFB4VWO_Bedroom.zip\n",
      "3FO4MFEKBJ5I_Bedroom.zip\n",
      "3FO4MFDMR0SP_Bedroom.zip\n",
      "3FO4MFDMNAEL_Living_room.zip\n"
     ]
    },
    {
     "name": "stderr",
     "output_type": "stream",
     "text": [
      "Downloading...\n",
      "From: https://drive.google.com/uc?id=1Ul9MhvrD-nUATctUcCnR_gj8CLnuXZqX&export=download\n",
      "To: /media/scratch1/erbachj/Mask_RCNN/data/InteriorNet/data/HD7/train/3FO4MFDMNAEL_Living_room.zip\n",
      "56.7MB [00:01, 41.6MB/s]\n"
     ]
    },
    {
     "name": "stdout",
     "output_type": "stream",
     "text": [
      "3FO4MFDMNAEL_Bedroom.zip\n",
      "3FO4MFDMN0DI_Bedroom.zip\n",
      "3FO4MFDMM1X8_Bedroom.zip\n",
      "3FO4MFDML05W_Bedroom.zip\n",
      "3FO4MFDMKLRS_Living_room.zip\n"
     ]
    },
    {
     "name": "stderr",
     "output_type": "stream",
     "text": [
      "Downloading...\n",
      "From: https://drive.google.com/uc?id=1NnMkQW4LjWON2HC8ZpenLFadMl7F6bnW&export=download\n",
      "To: /media/scratch1/erbachj/Mask_RCNN/data/InteriorNet/data/HD7/train/3FO4MFDMKLRS_Living_room.zip\n",
      "64.3MB [00:00, 73.5MB/s]\n"
     ]
    },
    {
     "name": "stdout",
     "output_type": "stream",
     "text": [
      "3FO4MFDMJK0H_Bedroom.zip\n",
      "3FO4MFDMIBJ4_Living_room.zip\n"
     ]
    },
    {
     "name": "stderr",
     "output_type": "stream",
     "text": [
      "Downloading...\n",
      "From: https://drive.google.com/uc?id=1H1K_9MibDyCvVRdaCLVKmMHXqIfjlpVU&export=download\n",
      "To: /media/scratch1/erbachj/Mask_RCNN/data/InteriorNet/data/HD7/train/3FO4MFDMIBJ4_Living_room.zip\n",
      "59.2MB [00:02, 28.8MB/s]\n"
     ]
    },
    {
     "name": "stdout",
     "output_type": "stream",
     "text": [
      "3FO4MFDMIBJ4_Dining_room.zip\n"
     ]
    },
    {
     "name": "stderr",
     "output_type": "stream",
     "text": [
      "Downloading...\n",
      "From: https://drive.google.com/uc?id=1IeKjCUUo_nrEbBb1ydKlKlNLnudYZ0cp&export=download\n",
      "To: /media/scratch1/erbachj/Mask_RCNN/data/InteriorNet/data/HD7/train/3FO4MFDMIBJ4_Dining_room.zip\n",
      "51.0MB [00:00, 58.4MB/s]\n"
     ]
    },
    {
     "name": "stdout",
     "output_type": "stream",
     "text": [
      "3FO4MFDMIBJ4_Bedroom.zip\n",
      "3FO4MFDMHD3T_Bedroom.zip\n",
      "3FO4MFDMH32Q_Bedroom.zip\n",
      "3FO4MFDMGVDO_Bedroom.zip\n",
      "3FO4MFDMGOOM_Bedroom.zip\n",
      "3FO4MFDMG1AF_Bedroom.zip\n",
      "3FO4MFDMFTLD_Living_room.zip\n"
     ]
    },
    {
     "name": "stderr",
     "output_type": "stream",
     "text": [
      "Downloading...\n",
      "From: https://drive.google.com/uc?id=11Xz3AxRYbfguUY7GR_HAgET8LVDej0nN&export=download\n",
      "To: /media/scratch1/erbachj/Mask_RCNN/data/InteriorNet/data/HD7/train/3FO4MFDMFTLD_Living_room.zip\n",
      "63.1MB [00:02, 25.1MB/s]\n"
     ]
    },
    {
     "name": "stdout",
     "output_type": "stream",
     "text": [
      "3FO4MFDMFTLD_Dining_room.zip\n"
     ]
    },
    {
     "name": "stderr",
     "output_type": "stream",
     "text": [
      "Downloading...\n",
      "From: https://drive.google.com/uc?id=1oYKH4MABhZYFLZNkQ48B2BHqmiMiFlaN&export=download\n",
      "To: /media/scratch1/erbachj/Mask_RCNN/data/InteriorNet/data/HD7/train/3FO4MFDMFTLD_Dining_room.zip\n",
      "70.9MB [00:03, 21.3MB/s]\n"
     ]
    },
    {
     "name": "stdout",
     "output_type": "stream",
     "text": [
      "3FO4MFDMFJKA_Bedroom.zip\n",
      "3FO4MFDMEL50_Bedroom.zip\n",
      "3FO4MFDMB2EX_Bedroom.zip\n",
      "3FO4MFDM43BU_Bedroom.zip\n",
      "3FO4MFDLY7SE_Bedroom.zip\n",
      "3FO4MFDLWKXW_Bedroom.zip\n",
      "3FO4MFDLTMB1_Bedroom.zip\n",
      "3FO4MFDLT8WW_Bedroom.zip\n",
      "3FO4MFCNIJFA_Bedroom.zip\n",
      "3FO4MFCK4LJP_Bedroom.zip\n",
      "3FO4MFCGT0P5_Bedroom.zip\n",
      "3FO4MFCFSK7J_Bedroom.zip\n",
      "3FO4MFCBUSMC_Bedroom.zip\n",
      "3FO4MFBX4I7E_Living_room.zip\n"
     ]
    },
    {
     "name": "stderr",
     "output_type": "stream",
     "text": [
      "Downloading...\n",
      "From: https://drive.google.com/uc?id=1t_FatP5hfRsnD4OrY8owFXSUI_lXKGze&export=download\n",
      "To: /media/scratch1/erbachj/Mask_RCNN/data/InteriorNet/data/HD7/train/3FO4MFBX4I7E_Living_room.zip\n",
      "70.3MB [00:01, 51.5MB/s]\n"
     ]
    },
    {
     "name": "stdout",
     "output_type": "stream",
     "text": [
      "3FO4MFBX4I7E_Bedroom.zip\n",
      "3FO4MFBFMW0H_Bedroom.zip\n",
      "3FO4MFB49PKE_Living_room.zip\n"
     ]
    },
    {
     "name": "stderr",
     "output_type": "stream",
     "text": [
      "Downloading...\n",
      "From: https://drive.google.com/uc?id=1kzQGiTMZIjX8qbdFmazA_oZM6QKS3Sf_&export=download\n",
      "To: /media/scratch1/erbachj/Mask_RCNN/data/InteriorNet/data/HD7/train/3FO4MFB49PKE_Living_room.zip\n",
      "76.2MB [00:02, 34.0MB/s]\n"
     ]
    },
    {
     "name": "stdout",
     "output_type": "stream",
     "text": [
      "3FO4MFAWN264_Living_room.zip\n"
     ]
    },
    {
     "name": "stderr",
     "output_type": "stream",
     "text": [
      "Downloading...\n",
      "From: https://drive.google.com/uc?id=15uLDWuXCElFppIrZkKx5Zlod1FavtHpf&export=download\n",
      "To: /media/scratch1/erbachj/Mask_RCNN/data/InteriorNet/data/HD7/train/3FO4MFAWN264_Living_room.zip\n",
      "58.6MB [00:01, 45.0MB/s]\n"
     ]
    },
    {
     "name": "stdout",
     "output_type": "stream",
     "text": [
      "3FO4MFAWN264_Bedroom.zip\n",
      "3FO4MF6RQ9VA_Guest_room.zip\n"
     ]
    },
    {
     "name": "stderr",
     "output_type": "stream",
     "text": [
      "Downloading...\n",
      "From: https://drive.google.com/uc?id=1u7x06hpAaM3Ar197TBFZ4sFsmogwILKj&export=download\n",
      "To: /media/scratch1/erbachj/Mask_RCNN/data/InteriorNet/data/HD7/train/3FO4MF6RQ9VA_Guest_room.zip\n",
      "51.9MB [00:00, 55.2MB/s]\n"
     ]
    },
    {
     "name": "stdout",
     "output_type": "stream",
     "text": [
      "3FO4MF6RQ9VA_Bedroom.zip\n",
      "3FO4MF6RO9NO_Living_room.zip\n"
     ]
    },
    {
     "name": "stderr",
     "output_type": "stream",
     "text": [
      "Downloading...\n",
      "From: https://drive.google.com/uc?id=1b1IlXBlgHTnoskjVQ9JXkT66mGFP-R90&export=download\n",
      "To: /media/scratch1/erbachj/Mask_RCNN/data/InteriorNet/data/HD7/train/3FO4MF6RO9NO_Living_room.zip\n",
      "54.9MB [00:00, 70.3MB/s]\n"
     ]
    },
    {
     "name": "stdout",
     "output_type": "stream",
     "text": [
      "3FO4MF6RO9NO_Dining_room.zip\n"
     ]
    },
    {
     "name": "stderr",
     "output_type": "stream",
     "text": [
      "Downloading...\n",
      "From: https://drive.google.com/uc?id=1wB1sHvGpbrpFe8NxJn3bCPzxpBVRHGBY&export=download\n",
      "To: /media/scratch1/erbachj/Mask_RCNN/data/InteriorNet/data/HD7/train/3FO4MF6RO9NO_Dining_room.zip\n",
      "42.5MB [00:02, 15.8MB/s]\n"
     ]
    },
    {
     "name": "stdout",
     "output_type": "stream",
     "text": [
      "3FO4MF6RO9NO_Bedroom.zip\n",
      "3FO4MF6RNYML_Bedroom.zip\n",
      "3FO4MF6RKJ9K_Living_room.zip\n"
     ]
    },
    {
     "name": "stderr",
     "output_type": "stream",
     "text": [
      "Downloading...\n",
      "From: https://drive.google.com/uc?id=1oh7_MrNHHs6XdmpKCKxKrl6oTWm1jrc5&export=download\n",
      "To: /media/scratch1/erbachj/Mask_RCNN/data/InteriorNet/data/HD7/train/3FO4MF6RKJ9K_Living_room.zip\n",
      "59.9MB [00:03, 17.2MB/s]\n"
     ]
    },
    {
     "name": "stdout",
     "output_type": "stream",
     "text": [
      "3FO4MF6RI5NU_Bedroom.zip\n",
      "3FO4MF6RDXJL_Bedroom.zip\n",
      "3FO4MF6RDNII_Bedroom.zip\n",
      "3FO4MF6R6L3E_Bedroom.zip\n",
      "3FO4MF6QVU1H_Bedroom.zip\n",
      "3FO4MF6QTD3Q_Bedroom.zip\n",
      "3FO4MF6QRTLA_Bedroom.zip\n",
      "3FO4MF6QQB3T_Bedroom.zip\n",
      "3FO4MF6QLFKD_Bedroom.zip\n",
      "3FO4MF6QI3JD_Living_room.zip\n"
     ]
    },
    {
     "name": "stderr",
     "output_type": "stream",
     "text": [
      "Downloading...\n",
      "From: https://drive.google.com/uc?id=1UfBCLfXFaBU8fS33EOreRPuGLWS41K2-&export=download\n",
      "To: /media/scratch1/erbachj/Mask_RCNN/data/InteriorNet/data/HD7/train/3FO4MF6QI3JD_Living_room.zip\n",
      "61.0MB [00:00, 80.8MB/s]\n"
     ]
    },
    {
     "name": "stdout",
     "output_type": "stream",
     "text": [
      "3FO4MF6QCWYT_Bedroom.zip\n",
      "3FO4MF675DIO_Living_room.zip\n"
     ]
    },
    {
     "name": "stderr",
     "output_type": "stream",
     "text": [
      "Downloading...\n",
      "From: https://drive.google.com/uc?id=1DxrfbpGcNZgdOS8D0AAkapBuD2kg8tt2&export=download\n",
      "To: /media/scratch1/erbachj/Mask_RCNN/data/InteriorNet/data/HD7/train/3FO4MF675DIO_Living_room.zip\n",
      "72.1MB [00:02, 24.9MB/s]\n"
     ]
    },
    {
     "name": "stdout",
     "output_type": "stream",
     "text": [
      "3FO4MF675DIO_Bedroom.zip\n",
      "3FO4MF5IBD99_Living_room.zip\n"
     ]
    },
    {
     "name": "stderr",
     "output_type": "stream",
     "text": [
      "Downloading...\n",
      "From: https://drive.google.com/uc?id=1BcOiPGWy-6mVeRZSDWQCi4Yl5wvMOfBo&export=download\n",
      "To: /media/scratch1/erbachj/Mask_RCNN/data/InteriorNet/data/HD7/train/3FO4MF5IBD99_Living_room.zip\n",
      "64.8MB [00:02, 24.3MB/s]\n"
     ]
    },
    {
     "name": "stdout",
     "output_type": "stream",
     "text": [
      "3FO4MF5IBD99_Bedroom.zip\n",
      "3FO4MF48RG71_Bedroom.zip\n",
      "3FO4MF3QKECY_Bedroom.zip\n",
      "3FO4MF3FNN1S_Bedroom.zip\n",
      "3FO4MF2W52TT_Bedroom.zip\n",
      "3FO4MF2VA69V_Dining_room.zip\n"
     ]
    },
    {
     "name": "stderr",
     "output_type": "stream",
     "text": [
      "Downloading...\n",
      "From: https://drive.google.com/uc?id=17-wyh3aYTnGPhqEslJaHc6MBXB6HUx9r&export=download\n",
      "To: /media/scratch1/erbachj/Mask_RCNN/data/InteriorNet/data/HD7/train/3FO4MF2VA69V_Dining_room.zip\n",
      "57.3MB [00:00, 94.4MB/s]\n"
     ]
    },
    {
     "name": "stdout",
     "output_type": "stream",
     "text": [
      "3FO4MF2QKU5Q_Bedroom.zip\n",
      "3FO4MF2Q2YVE_Bedroom.zip\n",
      "3FO4MF2PM86O_Living_room.zip\n"
     ]
    },
    {
     "name": "stderr",
     "output_type": "stream",
     "text": [
      "Downloading...\n",
      "From: https://drive.google.com/uc?id=1DW89EZO_NDsXlrde3P90StP3F0NQMw7o&export=download\n",
      "To: /media/scratch1/erbachj/Mask_RCNN/data/InteriorNet/data/HD7/train/3FO4MF2PM86O_Living_room.zip\n",
      "63.3MB [00:01, 58.8MB/s]\n"
     ]
    },
    {
     "name": "stdout",
     "output_type": "stream",
     "text": [
      "3FO4MF2PM86O_Bedroom.zip\n",
      "3FO4MF2IHB4X_Bedroom.zip\n",
      "3FO4MF2I00WR_Bedroom.zip\n",
      "3FO4MF2HO4QI_Bedroom.zip\n",
      "3FO4MF1DNUB7_Bedroom.zip\n",
      "3FO4MF1C3MNO_Living_room.zip\n"
     ]
    },
    {
     "name": "stderr",
     "output_type": "stream",
     "text": [
      "Downloading...\n",
      "From: https://drive.google.com/uc?id=1EbR1UbEakyiyYCYwuZDur2jHE4YC_5hV&export=download\n",
      "To: /media/scratch1/erbachj/Mask_RCNN/data/InteriorNet/data/HD7/train/3FO4MF1C3MNO_Living_room.zip\n",
      "70.7MB [00:02, 33.2MB/s]\n"
     ]
    },
    {
     "name": "stdout",
     "output_type": "stream",
     "text": [
      "3FO4MF1C3MNO_Dining_room.zip\n"
     ]
    },
    {
     "name": "stderr",
     "output_type": "stream",
     "text": [
      "Downloading...\n",
      "From: https://drive.google.com/uc?id=18T-OCvTSqUCyFjcjHd-qF-1ILdBjSiVT&export=download\n",
      "To: /media/scratch1/erbachj/Mask_RCNN/data/InteriorNet/data/HD7/train/3FO4MF1C3MNO_Dining_room.zip\n",
      "67.4MB [00:02, 29.3MB/s]\n"
     ]
    },
    {
     "name": "stdout",
     "output_type": "stream",
     "text": [
      "3FO4MF1C3MNO_Bedroom.zip\n",
      "3FO4MF1B8Q3Q_Bedroom.zip\n",
      "3FO4MF1B30H1_Living_room.zip\n"
     ]
    },
    {
     "name": "stderr",
     "output_type": "stream",
     "text": [
      "Downloading...\n",
      "From: https://drive.google.com/uc?id=1sqigAjJEbPX-_2-0P1IJzFNeGTUxb4yh&export=download\n",
      "To: /media/scratch1/erbachj/Mask_RCNN/data/InteriorNet/data/HD7/train/3FO4MF1B30H1_Living_room.zip\n",
      "63.7MB [00:00, 87.9MB/s]\n"
     ]
    },
    {
     "name": "stdout",
     "output_type": "stream",
     "text": [
      "3FO4MF1AYQS2_Bedroom.zip\n",
      "3FO4MF1ARAYT_Dining_room.zip\n"
     ]
    },
    {
     "name": "stderr",
     "output_type": "stream",
     "text": [
      "Downloading...\n",
      "From: https://drive.google.com/uc?id=14DwmAJGGX_GD_dtW_pc1a9GxygGyhHoH&export=download\n",
      "To: /media/scratch1/erbachj/Mask_RCNN/data/InteriorNet/data/HD7/train/3FO4MF1ARAYT_Dining_room.zip\n",
      "71.7MB [00:04, 17.3MB/s]\n"
     ]
    },
    {
     "name": "stdout",
     "output_type": "stream",
     "text": [
      "3FO4MF1ARAYT_Bedroom.zip\n",
      "3FO4MEYXS6D4_Bedroom.zip\n",
      "3FO4MEYUWDRY_Bedroom.zip\n",
      "3FO4MEYUPOPY_Living_room.zip\n"
     ]
    },
    {
     "name": "stderr",
     "output_type": "stream",
     "text": [
      "Downloading...\n",
      "From: https://drive.google.com/uc?id=16JthSJxTGREiSXvo37YafAJ7LwxG-raU&export=download\n",
      "To: /media/scratch1/erbachj/Mask_RCNN/data/InteriorNet/data/HD7/train/3FO4MEYUPOPY_Living_room.zip\n",
      "59.5MB [00:00, 95.6MB/s]\n"
     ]
    },
    {
     "name": "stdout",
     "output_type": "stream",
     "text": [
      "3FO4MEYKG45F_Bedroom.zip\n",
      "3FO4MEYKDW8R_Bedroom.zip\n",
      "3FO4MEYKDIUN_Bedroom.zip\n",
      "3FO4MEYK5BB7_Living_room.zip\n"
     ]
    },
    {
     "name": "stderr",
     "output_type": "stream",
     "text": [
      "Downloading...\n",
      "From: https://drive.google.com/uc?id=1OSghpCzi1OSvfYg-hJOU5dhk4IqqzYen&export=download\n",
      "To: /media/scratch1/erbachj/Mask_RCNN/data/InteriorNet/data/HD7/train/3FO4MEYK5BB7_Living_room.zip\n",
      "58.9MB [00:01, 54.6MB/s]\n"
     ]
    },
    {
     "name": "stdout",
     "output_type": "stream",
     "text": [
      "3FO4MEYK5BB7_Bedroom.zip\n",
      "3FO4MEYK51A4_Living_room.zip\n"
     ]
    },
    {
     "name": "stderr",
     "output_type": "stream",
     "text": [
      "Downloading...\n",
      "From: https://drive.google.com/uc?id=1N280N8_C9lAV9HQLF8FobbQg9MJMzjTv&export=download\n",
      "To: /media/scratch1/erbachj/Mask_RCNN/data/InteriorNet/data/HD7/train/3FO4MEYK51A4_Living_room.zip\n",
      "82.0MB [00:01, 75.9MB/s]\n"
     ]
    },
    {
     "name": "stdout",
     "output_type": "stream",
     "text": [
      "3FO4MEYK51A4_Bedroom.zip\n",
      "3FO4MEYK4WX3_Bedroom.zip\n",
      "3FO4MEYK0WHV_Living_room.zip\n"
     ]
    },
    {
     "name": "stderr",
     "output_type": "stream",
     "text": [
      "Downloading...\n",
      "From: https://drive.google.com/uc?id=1vH2LCDT4ugQAYJFS1IL_HmPalKLNUoB4&export=download\n",
      "To: /media/scratch1/erbachj/Mask_RCNN/data/InteriorNet/data/HD7/train/3FO4MEYK0WHV_Living_room.zip\n",
      "57.0MB [00:01, 42.7MB/s]\n"
     ]
    },
    {
     "name": "stdout",
     "output_type": "stream",
     "text": [
      "3FO4MEYK0WHV_Bedroom.zip\n",
      "3FO4MEYJXFK5_Bedroom.zip\n",
      "3FO4MEYJX271_Living_room.zip\n"
     ]
    },
    {
     "name": "stderr",
     "output_type": "stream",
     "text": [
      "Downloading...\n",
      "From: https://drive.google.com/uc?id=1O88qXcokKIRLv0vB_5G8bS22wflaOWNi&export=download\n",
      "To: /media/scratch1/erbachj/Mask_RCNN/data/InteriorNet/data/HD7/train/3FO4MEYJX271_Living_room.zip\n",
      "58.3MB [00:04, 14.0MB/s]\n"
     ]
    },
    {
     "name": "stdout",
     "output_type": "stream",
     "text": [
      "3FO4MEYJX271_Bedroom.zip\n",
      "3FO4MEYJR88A_Bedroom.zip\n",
      "3FO4MEYJQD51_Bedroom.zip\n",
      "3FO4MEYJOQAJ_Bedroom.zip\n",
      "3FO4MEYJN7S3_Living_room.zip\n"
     ]
    },
    {
     "name": "stderr",
     "output_type": "stream",
     "text": [
      "Downloading...\n",
      "From: https://drive.google.com/uc?id=1n35lR_zQJ7Ii3MmEGWUGueEpEUKsUj4Q&export=download\n",
      "To: /media/scratch1/erbachj/Mask_RCNN/data/InteriorNet/data/HD7/train/3FO4MEYJN7S3_Living_room.zip\n",
      "69.3MB [00:02, 33.4MB/s]\n"
     ]
    },
    {
     "name": "stdout",
     "output_type": "stream",
     "text": [
      "3FO4MEYJN7S3_Bedroom.zip\n",
      "3FO4MEYJLKXL_Bedroom.zip\n",
      "3FO4MEYJLAWI_Bedroom.zip\n",
      "3FO4MEYJKWJE_Bedroom.zip\n",
      "3FO4MEYJEBTF_Bedroom.zip\n",
      "3FO4MEYJA827_Living_room.zip\n"
     ]
    },
    {
     "name": "stderr",
     "output_type": "stream",
     "text": [
      "Downloading...\n",
      "From: https://drive.google.com/uc?id=1poWWpxM6N4vo3o_9OvtGR3Q9-d3fBsWQ&export=download\n",
      "To: /media/scratch1/erbachj/Mask_RCNN/data/InteriorNet/data/HD7/train/3FO4MEYJA827_Living_room.zip\n",
      "54.7MB [00:00, 61.6MB/s]\n"
     ]
    },
    {
     "name": "stdout",
     "output_type": "stream",
     "text": [
      "3FO4MEYJ8V8S_Bedroom.zip\n",
      "3FO4MEYJ7MRF_Bedroom.zip\n",
      "3FO4MEYJ79EB_Bedroom.zip\n",
      "3FO4MEYJ5J7S_Bedroom.zip\n",
      "3FO4MEYJ55TO_Bedroom.zip\n",
      "3FO4MEYIXNGQ_Bedroom.zip\n",
      "3FO4MEYIRQ5Y_Bedroom.zip\n",
      "3FO4MEXET084_Bedroom.zip\n",
      "3FO4MEXCUOHO_Bedroom.zip\n",
      "3FO4MEXATBRC_Bedroom.zip\n",
      "3FO4MEX7JV24_Living_room.zip\n"
     ]
    },
    {
     "name": "stderr",
     "output_type": "stream",
     "text": [
      "Downloading...\n",
      "From: https://drive.google.com/uc?id=1DpYEBjTuhUhKf7XkGPgC5afGF6gVGfBW&export=download\n",
      "To: /media/scratch1/erbachj/Mask_RCNN/data/InteriorNet/data/HD7/train/3FO4MEX7JV24_Living_room.zip\n",
      "73.4MB [00:03, 22.2MB/s]\n"
     ]
    },
    {
     "name": "stdout",
     "output_type": "stream",
     "text": [
      "3FO4MEX7JV24_Bedroom.zip\n",
      "3FO4MEX62FDF_Living_room.zip\n"
     ]
    },
    {
     "name": "stderr",
     "output_type": "stream",
     "text": [
      "Downloading...\n",
      "From: https://drive.google.com/uc?id=1dJX5ZQtSF6gzpcb5ZI4T4SInUjOW-bKm&export=download\n",
      "To: /media/scratch1/erbachj/Mask_RCNN/data/InteriorNet/data/HD7/train/3FO4MEX62FDF_Living_room.zip\n",
      "67.0MB [00:00, 81.9MB/s]\n"
     ]
    },
    {
     "name": "stdout",
     "output_type": "stream",
     "text": [
      "3FO4MEX5HJVH_Living_room.zip\n"
     ]
    },
    {
     "name": "stderr",
     "output_type": "stream",
     "text": [
      "Downloading...\n",
      "From: https://drive.google.com/uc?id=1VeChkIdLOHZmgSGt2SDIRfSK-CBowVsZ&export=download\n",
      "To: /media/scratch1/erbachj/Mask_RCNN/data/InteriorNet/data/HD7/train/3FO4MEX5HJVH_Living_room.zip\n",
      "59.7MB [00:02, 26.2MB/s]\n"
     ]
    },
    {
     "name": "stdout",
     "output_type": "stream",
     "text": [
      "3FO4MEX5HJVH_Dining_room.zip\n"
     ]
    },
    {
     "name": "stderr",
     "output_type": "stream",
     "text": [
      "Downloading...\n",
      "From: https://drive.google.com/uc?id=12wewJXPe39Vw75bxxUs89qu9a3HonNQO&export=download\n",
      "To: /media/scratch1/erbachj/Mask_RCNN/data/InteriorNet/data/HD7/train/3FO4MEX5HJVH_Dining_room.zip\n",
      "56.5MB [00:00, 80.5MB/s]\n"
     ]
    },
    {
     "name": "stdout",
     "output_type": "stream",
     "text": [
      "3FO4MEX4XJHS_Living_room.zip\n"
     ]
    },
    {
     "name": "stderr",
     "output_type": "stream",
     "text": [
      "Downloading...\n",
      "From: https://drive.google.com/uc?id=1V6qSQzkovS1dfMs3NODOz2BgJAeDAPjM&export=download\n",
      "To: /media/scratch1/erbachj/Mask_RCNN/data/InteriorNet/data/HD7/train/3FO4MEX4XJHS_Living_room.zip\n",
      "65.8MB [00:00, 82.0MB/s]\n"
     ]
    },
    {
     "name": "stdout",
     "output_type": "stream",
     "text": [
      "3FO4MEX4XJHS_Bedroom.zip\n",
      "3FO4MEX3VNTR_Living_room.zip\n"
     ]
    },
    {
     "name": "stderr",
     "output_type": "stream",
     "text": [
      "Downloading...\n",
      "From: https://drive.google.com/uc?id=1etvUj2Z2u0Gd8zqWeLyPLH1N97lFtM9J&export=download\n",
      "To: /media/scratch1/erbachj/Mask_RCNN/data/InteriorNet/data/HD7/train/3FO4MEX3VNTR_Living_room.zip\n",
      "51.5MB [00:01, 49.1MB/s]\n"
     ]
    },
    {
     "name": "stdout",
     "output_type": "stream",
     "text": [
      "3FO4MEX3VNTR_Dining_room.zip\n"
     ]
    },
    {
     "name": "stderr",
     "output_type": "stream",
     "text": [
      "Downloading...\n",
      "From: https://drive.google.com/uc?id=1jnwccqP1zt3sL0PycvAPTiMt9RoGkHtv&export=download\n",
      "To: /media/scratch1/erbachj/Mask_RCNN/data/InteriorNet/data/HD7/train/3FO4MEX3VNTR_Dining_room.zip\n",
      "48.5MB [00:00, 64.4MB/s]\n"
     ]
    },
    {
     "name": "stdout",
     "output_type": "stream",
     "text": [
      "3FO4MEX3VNTR_Bedroom.zip\n",
      "3FO4MEX3IKQU_Living_room.zip\n"
     ]
    },
    {
     "name": "stderr",
     "output_type": "stream",
     "text": [
      "Downloading...\n",
      "From: https://drive.google.com/uc?id=1oHybMPzQiFIVuklF-S0OJmiy_MA2MEa_&export=download\n",
      "To: /media/scratch1/erbachj/Mask_RCNN/data/InteriorNet/data/HD7/train/3FO4MEX3IKQU_Living_room.zip\n",
      "66.0MB [00:00, 79.2MB/s]\n"
     ]
    },
    {
     "name": "stdout",
     "output_type": "stream",
     "text": [
      "3FO4MEX3IKQU_Bedroom.zip\n",
      "3FO4MEX3CU55_Bedroom.zip\n",
      "3FO4MEW6JHY6_Bedroom.zip\n",
      "3FO4MEVMKG3K_Dining_room.zip\n"
     ]
    },
    {
     "name": "stderr",
     "output_type": "stream",
     "text": [
      "Downloading...\n",
      "From: https://drive.google.com/uc?id=1sAr-lzjxI_OavfsURtG2AsC1wm118h6P&export=download\n",
      "To: /media/scratch1/erbachj/Mask_RCNN/data/InteriorNet/data/HD7/train/3FO4MEVMKG3K_Dining_room.zip\n",
      "69.6MB [00:01, 55.1MB/s]\n"
     ]
    },
    {
     "name": "stdout",
     "output_type": "stream",
     "text": [
      "3FO4MEVAB1A5_Living_room.zip\n"
     ]
    },
    {
     "name": "stderr",
     "output_type": "stream",
     "text": [
      "Downloading...\n",
      "From: https://drive.google.com/uc?id=1byPlcIvNtAC6Ng8F76I0DnBocBgssTVz&export=download\n",
      "To: /media/scratch1/erbachj/Mask_RCNN/data/InteriorNet/data/HD7/train/3FO4MEVAB1A5_Living_room.zip\n",
      "59.7MB [00:00, 71.7MB/s]\n"
     ]
    },
    {
     "name": "stdout",
     "output_type": "stream",
     "text": [
      "3FO4MEVAB1A5_Bedroom.zip\n",
      "3FO4MEV76WSI_Dining_room.zip\n"
     ]
    },
    {
     "name": "stderr",
     "output_type": "stream",
     "text": [
      "Downloading...\n",
      "From: https://drive.google.com/uc?id=1zzKEKO3dFl3YAgAmBGQNrapEwPPJyhzV&export=download\n",
      "To: /media/scratch1/erbachj/Mask_RCNN/data/InteriorNet/data/HD7/train/3FO4MEV76WSI_Dining_room.zip\n",
      "78.2MB [00:02, 32.8MB/s]\n"
     ]
    },
    {
     "name": "stdout",
     "output_type": "stream",
     "text": [
      "3FO4MEV76WSI_Bedroom.zip\n",
      "3FO4METT15CC_Bedroom.zip\n",
      "3FO4METG9FBQ_Bedroom.zip\n",
      "3FO4METFW402_Living_room.zip\n"
     ]
    },
    {
     "name": "stderr",
     "output_type": "stream",
     "text": [
      "Downloading...\n",
      "From: https://drive.google.com/uc?id=1PhuvC13ga99GRHEk_9gH_AE7p5tJ7AZ5&export=download\n",
      "To: /media/scratch1/erbachj/Mask_RCNN/data/InteriorNet/data/HD7/train/3FO4METFW402_Living_room.zip\n",
      "72.6MB [00:01, 60.6MB/s]\n"
     ]
    },
    {
     "name": "stdout",
     "output_type": "stream",
     "text": [
      "3FO4METFW402_Bedroom.zip\n",
      "3FO4METFL4GR_Living_room.zip\n"
     ]
    },
    {
     "name": "stderr",
     "output_type": "stream",
     "text": [
      "Downloading...\n",
      "From: https://drive.google.com/uc?id=1VrdnwFc3TNrV1hbO81CahNKDs4_ZKD9f&export=download\n",
      "To: /media/scratch1/erbachj/Mask_RCNN/data/InteriorNet/data/HD7/train/3FO4METFL4GR_Living_room.zip\n",
      "65.0MB [00:02, 25.4MB/s]\n"
     ]
    },
    {
     "name": "stdout",
     "output_type": "stream",
     "text": [
      "3FO4METFL4GR_Dining_room.zip\n"
     ]
    },
    {
     "name": "stderr",
     "output_type": "stream",
     "text": [
      "Downloading...\n",
      "From: https://drive.google.com/uc?id=11_E-18MLdNYbSDKkq1p8WYV31ibaJ3s3&export=download\n",
      "To: /media/scratch1/erbachj/Mask_RCNN/data/InteriorNet/data/HD7/train/3FO4METFL4GR_Dining_room.zip\n",
      "64.7MB [00:01, 47.0MB/s]\n"
     ]
    },
    {
     "name": "stdout",
     "output_type": "stream",
     "text": [
      "3FO4METFL4GR_Bedroom.zip\n",
      "3FO4METC8IEL_Living_room.zip\n"
     ]
    },
    {
     "name": "stderr",
     "output_type": "stream",
     "text": [
      "Downloading...\n",
      "From: https://drive.google.com/uc?id=1Erprlj7QzwUXtnWNrpZsOVeQ3Xp0p4QR&export=download\n",
      "To: /media/scratch1/erbachj/Mask_RCNN/data/InteriorNet/data/HD7/train/3FO4METC8IEL_Living_room.zip\n",
      "62.3MB [00:01, 57.9MB/s]\n"
     ]
    },
    {
     "name": "stdout",
     "output_type": "stream",
     "text": [
      "3FO4METC8IEL_Bedroom.zip\n",
      "3FO4MET8BLWN_Bedroom.zip\n",
      "3FO4MES0UOF9_Bedroom.zip\n",
      "3FO4MERKTRHY_Bedroom.zip\n",
      "3FO4MEQMO1UT_Bedroom.zip\n",
      "3FO4MEQCO0N5_Living_room.zip\n"
     ]
    },
    {
     "name": "stderr",
     "output_type": "stream",
     "text": [
      "Downloading...\n",
      "From: https://drive.google.com/uc?id=1pZ5F3_r_DMBJZ5Ht3ZuWkXK1wcNYlsk-&export=download\n",
      "To: /media/scratch1/erbachj/Mask_RCNN/data/InteriorNet/data/HD7/train/3FO4MEQCO0N5_Living_room.zip\n",
      "58.0MB [00:01, 30.0MB/s]\n"
     ]
    },
    {
     "name": "stdout",
     "output_type": "stream",
     "text": [
      "3FO4MEQCAFU3_Bedroom.zip\n",
      "3FO4MEQ1XK0U_Living_room.zip\n"
     ]
    },
    {
     "name": "stderr",
     "output_type": "stream",
     "text": [
      "Downloading...\n",
      "From: https://drive.google.com/uc?id=1yVUDPS6IYTdqlvpn2xuooc5Th1qsmCiw&export=download\n",
      "To: /media/scratch1/erbachj/Mask_RCNN/data/InteriorNet/data/HD7/train/3FO4MEQ1XK0U_Living_room.zip\n",
      "62.2MB [00:01, 31.8MB/s]\n"
     ]
    },
    {
     "name": "stdout",
     "output_type": "stream",
     "text": [
      "3FO4MEQ1XK0U_Bedroom.zip\n",
      "3FO4MEQ1U1AS_Living_room.zip\n"
     ]
    },
    {
     "name": "stderr",
     "output_type": "stream",
     "text": [
      "Downloading...\n",
      "From: https://drive.google.com/uc?id=1OKy0A_DAuD3eH2T16EFfL6aosZEYK1k0&export=download\n",
      "To: /media/scratch1/erbachj/Mask_RCNN/data/InteriorNet/data/HD7/train/3FO4MEQ1U1AS_Living_room.zip\n",
      "57.9MB [00:03, 16.0MB/s]\n"
     ]
    },
    {
     "name": "stdout",
     "output_type": "stream",
     "text": [
      "3FO4MEQ1U1AS_Bedroom.zip\n",
      "3FO4MEPX7UUR_Bedroom.zip\n",
      "3FO4MEPX1U7Y_Bedroom.zip\n",
      "3FO4MEOI6X14_Living_room.zip\n"
     ]
    },
    {
     "name": "stderr",
     "output_type": "stream",
     "text": [
      "Downloading...\n",
      "From: https://drive.google.com/uc?id=16ansxHgj3n9KtgGMWf_ft_2fAPfiXGpo&export=download\n",
      "To: /media/scratch1/erbachj/Mask_RCNN/data/InteriorNet/data/HD7/train/3FO4MEOI6X14_Living_room.zip\n",
      "63.1MB [00:03, 16.2MB/s]\n"
     ]
    },
    {
     "name": "stdout",
     "output_type": "stream",
     "text": [
      "3FO4MEOI6X14_Dining_room.zip\n"
     ]
    },
    {
     "name": "stderr",
     "output_type": "stream",
     "text": [
      "Downloading...\n",
      "From: https://drive.google.com/uc?id=1f5B_r6S3elsG4vCvnqrMwruNbz4IIG4H&export=download\n",
      "To: /media/scratch1/erbachj/Mask_RCNN/data/InteriorNet/data/HD7/train/3FO4MEOI6X14_Dining_room.zip\n",
      "64.9MB [00:01, 61.3MB/s]\n"
     ]
    },
    {
     "name": "stdout",
     "output_type": "stream",
     "text": [
      "3FO4MEOI6X14_Bedroom.zip\n",
      "3FO4MEOE8EOO_Bedroom.zip\n",
      "3FO4MEOCPALS_Bedroom.zip\n",
      "3FO4MEOCKP4F_Bedroom.zip\n",
      "3FO4MEOALTBT_Bedroom.zip\n",
      "3FO4MENNV3NB_Bedroom.zip\n",
      "3FO4MELENLW5_Living_room.zip\n"
     ]
    },
    {
     "name": "stderr",
     "output_type": "stream",
     "text": [
      "Downloading...\n",
      "From: https://drive.google.com/uc?id=1M56rNdNPEubKzVqRN2JpuzqTQy1jKlR0&export=download\n",
      "To: /media/scratch1/erbachj/Mask_RCNN/data/InteriorNet/data/HD7/train/3FO4MELENLW5_Living_room.zip\n",
      "70.6MB [00:06, 11.6MB/s]\n"
     ]
    },
    {
     "name": "stdout",
     "output_type": "stream",
     "text": [
      "3FO4MELENLW5_Bedroom.zip\n",
      "3FO4MELEH4J7_Bedroom.zip\n",
      "3FO4MELE68CX_Living_room.zip\n"
     ]
    },
    {
     "name": "stderr",
     "output_type": "stream",
     "text": [
      "Downloading...\n",
      "From: https://drive.google.com/uc?id=1xjfwBSy5hUkXw2sx6EH1elfTvICjT_Oy&export=download\n",
      "To: /media/scratch1/erbachj/Mask_RCNN/data/InteriorNet/data/HD7/train/3FO4MELE68CX_Living_room.zip\n",
      "56.8MB [00:02, 19.7MB/s]\n"
     ]
    },
    {
     "name": "stdout",
     "output_type": "stream",
     "text": [
      "3FO4MELDX0SH_Bedroom.zip\n",
      "3FO4MELDGUPN_Bedroom.zip\n",
      "3FO4MELDCQXF_Bedroom.zip\n",
      "3FO4MELD2MIE_Bedroom.zip\n",
      "3FO4MELCR82A_Bedroom.zip\n",
      "3FO4MELARXVK_Bedroom.zip\n",
      "3FO4MEL7LK69_Living_room.zip\n"
     ]
    },
    {
     "name": "stderr",
     "output_type": "stream",
     "text": [
      "Downloading...\n",
      "From: https://drive.google.com/uc?id=1s_Nuh_tOJnCVgT27TvuD4CLnuR3saDGx&export=download\n",
      "To: /media/scratch1/erbachj/Mask_RCNN/data/InteriorNet/data/HD7/train/3FO4MEL7LK69_Living_room.zip\n",
      "59.0MB [00:01, 47.4MB/s]\n"
     ]
    },
    {
     "name": "stdout",
     "output_type": "stream",
     "text": [
      "3FO4MEFRFJQM_Bedroom.zip\n",
      "3FO4MEFGGBHP_Bedroom.zip\n",
      "3FO4MEF7HY90_Bedroom.zip\n",
      "3FO4MECU5PM0_Bedroom.zip\n",
      "3FO4MEA359RI_Bedroom.zip\n",
      "3FO4ME6VN43H_Bedroom.zip\n",
      "3FO4ME45VEN3_Bedroom.zip\n",
      "3FO4ME3UA652_Bedroom.zip\n",
      "3FO4ME3TS5XY_Bedroom.zip\n",
      "3FO4MDQSI1O4_Bedroom.zip\n",
      "3FO4MDQMDGRX_Bedroom.zip\n",
      "3FO4MDQGHV7G_Living_room.zip\n"
     ]
    },
    {
     "name": "stderr",
     "output_type": "stream",
     "text": [
      "Downloading...\n",
      "From: https://drive.google.com/uc?id=1r1xOcXRX1VI3stHGmglCgDUYLth2Q2sJ&export=download\n",
      "To: /media/scratch1/erbachj/Mask_RCNN/data/InteriorNet/data/HD7/train/3FO4MDQGHV7G_Living_room.zip\n",
      "57.1MB [00:02, 20.6MB/s]\n"
     ]
    },
    {
     "name": "stdout",
     "output_type": "stream",
     "text": [
      "3FO4MDOYBQVB_Bedroom.zip\n",
      "3FO4MEL7L3G4_Bedroom.zip\n",
      "3FO4MEL75P4I_Bedroom.zip\n",
      "3FO4MEL6W0TW_Bedroom.zip\n",
      "3FO4MEL6O3BJ_Bedroom.zip\n",
      "3FO4MEL6J7S3_Living_room.zip\n"
     ]
    },
    {
     "name": "stderr",
     "output_type": "stream",
     "text": [
      "Downloading...\n",
      "From: https://drive.google.com/uc?id=1XiUIkZe3xico_EMvxu2UPsWtyGpmJF5u&export=download\n",
      "To: /media/scratch1/erbachj/Mask_RCNN/data/InteriorNet/data/HD7/train/3FO4MEL6J7S3_Living_room.zip\n",
      "63.4MB [00:02, 28.2MB/s]\n"
     ]
    },
    {
     "name": "stdout",
     "output_type": "stream",
     "text": [
      "3FO4MEL6J7S3_Bedroom.zip\n",
      "3FO4MEL6I60R_Bedroom.zip\n",
      "3FO4MEL6HKXL_Bedroom.zip\n",
      "3FO4MEL62EB2_Bedroom.zip\n",
      "3FO4MEL5DBOU_Living_room.zip\n"
     ]
    },
    {
     "name": "stderr",
     "output_type": "stream",
     "text": [
      "Downloading...\n",
      "From: https://drive.google.com/uc?id=1n2yFjPr4fxWitkqqsOITR3IO4ZteKufN&export=download\n",
      "To: /media/scratch1/erbachj/Mask_RCNN/data/InteriorNet/data/HD7/train/3FO4MEL5DBOU_Living_room.zip\n",
      "59.9MB [00:01, 34.4MB/s]\n"
     ]
    },
    {
     "name": "stdout",
     "output_type": "stream",
     "text": [
      "3FO4MEL5DBOU_Bedroom.zip\n",
      "3FO4MEL47MAO_Bedroom.zip\n",
      "3FO4MEL42GQ5_Living_room.zip\n"
     ]
    },
    {
     "name": "stderr",
     "output_type": "stream",
     "text": [
      "Downloading...\n",
      "From: https://drive.google.com/uc?id=1Y2QWkUaMnRcXXgJe_YkMh4xWJbTy2DTl&export=download\n",
      "To: /media/scratch1/erbachj/Mask_RCNN/data/InteriorNet/data/HD7/train/3FO4MEL42GQ5_Living_room.zip\n",
      "63.8MB [00:00, 101MB/s] \n"
     ]
    },
    {
     "name": "stdout",
     "output_type": "stream",
     "text": [
      "3FO4MEL42GQ5_Bedroom.zip\n",
      "3FO4MEIVTT7U_Bedroom.zip\n",
      "3FO4MEIK3D0S_Bedroom.zip\n",
      "3FO4MEHW3RL6_Living_room.zip\n"
     ]
    },
    {
     "name": "stderr",
     "output_type": "stream",
     "text": [
      "Downloading...\n",
      "From: https://drive.google.com/uc?id=1_wM5VNAJBlenZhSeZL2LdLi_cMUO9tJk&export=download\n",
      "To: /media/scratch1/erbachj/Mask_RCNN/data/InteriorNet/data/HD7/train/3FO4MEHW3RL6_Living_room.zip\n",
      "72.2MB [00:01, 42.8MB/s]\n"
     ]
    },
    {
     "name": "stdout",
     "output_type": "stream",
     "text": [
      "3FO4MEHW3RL6_Dining_room.zip\n"
     ]
    },
    {
     "name": "stderr",
     "output_type": "stream",
     "text": [
      "Downloading...\n",
      "From: https://drive.google.com/uc?id=1QhLFXv5bA2beuv9hMT1cmP8-QbrOYsMD&export=download\n",
      "To: /media/scratch1/erbachj/Mask_RCNN/data/InteriorNet/data/HD7/train/3FO4MEHW3RL6_Dining_room.zip\n",
      "76.8MB [00:03, 22.4MB/s]\n"
     ]
    },
    {
     "name": "stdout",
     "output_type": "stream",
     "text": [
      "3FO4MEHW3RL6_Bedroom.zip\n",
      "3FO4MEHPQA6M_Bedroom.zip\n",
      "3FO4MEHOSIAT_Bedroom.zip\n",
      "3FO4MEHKQTMG_Bedroom.zip\n",
      "3FO4MEGTJW28_Bedroom.zip\n",
      "3FO4MEGLN5FG_Bedroom.zip\n",
      "3FO4MEGCJMM7_Living_room.zip\n"
     ]
    },
    {
     "name": "stderr",
     "output_type": "stream",
     "text": [
      "Downloading...\n",
      "From: https://drive.google.com/uc?id=1DjjAo6oljHAP8QllHshRKNRpCO1-xqkK&export=download\n",
      "To: /media/scratch1/erbachj/Mask_RCNN/data/InteriorNet/data/HD7/train/3FO4MEGCJMM7_Living_room.zip\n",
      "61.2MB [00:01, 32.2MB/s]\n"
     ]
    },
    {
     "name": "stdout",
     "output_type": "stream",
     "text": [
      "3FO4MEGCJMM7_Bedroom.zip\n",
      "3FO4MEG4K0OK_Bedroom.zip\n",
      "3FO4MEFUKLNJ_Living_room.zip\n"
     ]
    },
    {
     "name": "stderr",
     "output_type": "stream",
     "text": [
      "Downloading...\n",
      "From: https://drive.google.com/uc?id=1oyunGAE5FQtjx4DZlxUIB01EQy6l0PM6&export=download\n",
      "To: /media/scratch1/erbachj/Mask_RCNN/data/InteriorNet/data/HD7/train/3FO4MEFUKLNJ_Living_room.zip\n",
      "65.7MB [00:00, 96.4MB/s]\n"
     ]
    },
    {
     "name": "stdout",
     "output_type": "stream",
     "text": [
      "3FO4MEFOAOIR_Living_room.zip\n"
     ]
    },
    {
     "name": "stderr",
     "output_type": "stream",
     "text": [
      "Downloading...\n",
      "From: https://drive.google.com/uc?id=1-vU7eJjEWjGY6_7Kpo-ScbsI-BEtlRA3&export=download\n",
      "To: /media/scratch1/erbachj/Mask_RCNN/data/InteriorNet/data/HD7/train/3FO4MEFOAOIR_Living_room.zip\n",
      "53.8MB [00:02, 26.4MB/s]\n"
     ]
    },
    {
     "name": "stdout",
     "output_type": "stream",
     "text": [
      "3FO4MEFOAOIR_Bedroom.zip\n",
      "3FO4MEFN5XJV_Bedroom.zip\n",
      "3FO4MEFMXB2L_Bedroom.zip\n",
      "3FO4MEFMIOH8_Bedroom.zip\n",
      "3FO4MEFM1OB5_Living_room.zip\n"
     ]
    },
    {
     "name": "stderr",
     "output_type": "stream",
     "text": [
      "Downloading...\n",
      "From: https://drive.google.com/uc?id=1rpTRjLZl8heD_NIG5HkdGV0rW9EUsdra&export=download\n",
      "To: /media/scratch1/erbachj/Mask_RCNN/data/InteriorNet/data/HD7/train/3FO4MEFM1OB5_Living_room.zip\n",
      "63.1MB [00:03, 17.1MB/s]\n"
     ]
    },
    {
     "name": "stdout",
     "output_type": "stream",
     "text": [
      "3FO4MEFM1OB5_Bedroom.zip\n",
      "3FO4MEFLJO52_Bedroom.zip\n",
      "3FO4MEFLDK58_Bedroom.zip\n",
      "3FO4MEFLDDG6_Bedroom.zip\n",
      "3FO4MEFHGDM7_Bedroom.zip\n",
      "3FO4MEFGKF9X_Bedroom.zip\n",
      "3FO4MEFGGBHP_Living_room.zip\n"
     ]
    },
    {
     "name": "stderr",
     "output_type": "stream",
     "text": [
      "Downloading...\n",
      "From: https://drive.google.com/uc?id=1OjrtcB0QgyJbFBKWFMso_ZHTtuUVVT8_&export=download\n",
      "To: /media/scratch1/erbachj/Mask_RCNN/data/InteriorNet/data/HD7/train/3FO4MEFGGBHP_Living_room.zip\n",
      "55.8MB [00:00, 82.4MB/s]\n"
     ]
    },
    {
     "name": "stdout",
     "output_type": "stream",
     "text": [
      "3FO4MEFGGBHP_Guest_room.zip\n"
     ]
    },
    {
     "name": "stderr",
     "output_type": "stream",
     "text": [
      "Downloading...\n",
      "From: https://drive.google.com/uc?id=1EacXPfu6sg-7CFOJ6uDf3rCXsTTLrRhM&export=download\n",
      "To: /media/scratch1/erbachj/Mask_RCNN/data/InteriorNet/data/HD7/train/3FO4MEFGGBHP_Guest_room.zip\n",
      "67.7MB [00:01, 46.1MB/s]\n"
     ]
    },
    {
     "name": "stdout",
     "output_type": "stream",
     "text": [
      "3FO4MEFFVG0R_Bedroom.zip\n",
      "3FO4MEFFLBKQ_Living_room.zip\n"
     ]
    },
    {
     "name": "stderr",
     "output_type": "stream",
     "text": [
      "Downloading...\n",
      "From: https://drive.google.com/uc?id=10tZ5DCeixXGrAWM-d88Ye9iCLxDQ8WQV&export=download\n",
      "To: /media/scratch1/erbachj/Mask_RCNN/data/InteriorNet/data/HD7/train/3FO4MEFFLBKQ_Living_room.zip\n",
      "51.2MB [00:01, 48.4MB/s]\n"
     ]
    },
    {
     "name": "stdout",
     "output_type": "stream",
     "text": [
      "3FO4MEFFLBKQ_Bedroom.zip\n",
      "3FO4MEFF215Y_Living_room.zip\n"
     ]
    },
    {
     "name": "stderr",
     "output_type": "stream",
     "text": [
      "Downloading...\n",
      "From: https://drive.google.com/uc?id=1M204bS-Zxp3thwdzGMwXatrSIGzX8Q8-&export=download\n",
      "To: /media/scratch1/erbachj/Mask_RCNN/data/InteriorNet/data/HD7/train/3FO4MEFF215Y_Living_room.zip\n",
      "58.6MB [00:03, 18.0MB/s]\n"
     ]
    },
    {
     "name": "stdout",
     "output_type": "stream",
     "text": [
      "3FO4MEFF215Y_Bedroom.zip\n",
      "3FO4MEFEUC3Y_Living_room.zip\n"
     ]
    },
    {
     "name": "stderr",
     "output_type": "stream",
     "text": [
      "Downloading...\n",
      "From: https://drive.google.com/uc?id=1B5hid4iaJgChNDBCUojkuTqjWGBrrwUY&export=download\n",
      "To: /media/scratch1/erbachj/Mask_RCNN/data/InteriorNet/data/HD7/train/3FO4MEFEUC3Y_Living_room.zip\n",
      "80.3MB [00:03, 24.5MB/s]\n"
     ]
    },
    {
     "name": "stdout",
     "output_type": "stream",
     "text": [
      "3FO4MEFEUC3Y_Dining_room.zip\n"
     ]
    },
    {
     "name": "stderr",
     "output_type": "stream",
     "text": [
      "Downloading...\n",
      "From: https://drive.google.com/uc?id=1pl-iDberMkQBs5gUmK7GKZHs9hxVG7Hp&export=download\n",
      "To: /media/scratch1/erbachj/Mask_RCNN/data/InteriorNet/data/HD7/train/3FO4MEFEUC3Y_Dining_room.zip\n",
      "79.0MB [00:02, 38.1MB/s]\n"
     ]
    },
    {
     "name": "stdout",
     "output_type": "stream",
     "text": [
      "3FO4MEFEUC3Y_Bedroom.zip\n",
      "3FO4MEFEEH28_Bedroom.zip\n",
      "3FO4MEFE69HR_Bedroom.zip\n",
      "3FO4MEFE5V4N_Bedroom.zip\n",
      "3FO4MEFCUL84_Bedroom.zip\n",
      "3FO4MEF86K52_Bedroom.zip\n",
      "3FO4MEF7YB0V_Bedroom.zip\n",
      "3FO4MEF7AF3Q_Bedroom.zip\n",
      "3FO4MEEODSXC_Bedroom.zip\n",
      "3FO4MEEME6EI_Living_room.zip\n"
     ]
    },
    {
     "name": "stderr",
     "output_type": "stream",
     "text": [
      "Downloading...\n",
      "From: https://drive.google.com/uc?id=12wF6EQVJV3rJc5Z1niknBCQ7aTxZnk6s&export=download\n",
      "To: /media/scratch1/erbachj/Mask_RCNN/data/InteriorNet/data/HD7/train/3FO4MEEME6EI_Living_room.zip\n",
      "72.8MB [00:00, 81.4MB/s]\n"
     ]
    },
    {
     "name": "stdout",
     "output_type": "stream",
     "text": [
      "3FO4MEEME6EI_Bedroom.zip\n",
      "3FO4MEEHVMOE_Bedroom.zip\n",
      "3FO4MEDW7KYU_Bedroom.zip\n",
      "3FO4MEDOBOGC_Bedroom.zip\n",
      "3FO4MEDN3LGG_Bedroom.zip\n",
      "3FO4MED06ONM_Guest_room.zip\n"
     ]
    },
    {
     "name": "stderr",
     "output_type": "stream",
     "text": [
      "Downloading...\n",
      "From: https://drive.google.com/uc?id=17teK0iHwTEwVgKi3JSg_-H_YOO2b40NL&export=download\n",
      "To: /media/scratch1/erbachj/Mask_RCNN/data/InteriorNet/data/HD7/train/3FO4MED06ONM_Guest_room.zip\n",
      "71.1MB [00:03, 22.2MB/s]\n"
     ]
    },
    {
     "name": "stdout",
     "output_type": "stream",
     "text": [
      "3FO4MED06ONM_Bedroom.zip\n",
      "3FO4MECXV4Q0_Dining_room.zip\n"
     ]
    },
    {
     "name": "stderr",
     "output_type": "stream",
     "text": [
      "Downloading...\n",
      "From: https://drive.google.com/uc?id=1k_n1KAfymZKf--j7kuZ8_td0Ywwhjguc&export=download\n",
      "To: /media/scratch1/erbachj/Mask_RCNN/data/InteriorNet/data/HD7/train/3FO4MECXV4Q0_Dining_room.zip\n",
      "57.4MB [00:00, 69.7MB/s]\n"
     ]
    },
    {
     "name": "stdout",
     "output_type": "stream",
     "text": [
      "3FO4MECWMK0Y_Bedroom.zip\n",
      "3FO4MECUV51L_Living_room.zip\n"
     ]
    },
    {
     "name": "stderr",
     "output_type": "stream",
     "text": [
      "Downloading...\n",
      "From: https://drive.google.com/uc?id=1vEGfO6iv7BRrf3_oaFmYos59Eaq1-gec&export=download\n",
      "To: /media/scratch1/erbachj/Mask_RCNN/data/InteriorNet/data/HD7/train/3FO4MECUV51L_Living_room.zip\n",
      "76.6MB [00:01, 68.4MB/s]\n"
     ]
    },
    {
     "name": "stdout",
     "output_type": "stream",
     "text": [
      "3FO4MECUV51L_Dining_room.zip\n"
     ]
    },
    {
     "name": "stderr",
     "output_type": "stream",
     "text": [
      "Downloading...\n",
      "From: https://drive.google.com/uc?id=1Mq81a1oBtvOZDz1RIUUFefW4bD4dJzDe&export=download\n",
      "To: /media/scratch1/erbachj/Mask_RCNN/data/InteriorNet/data/HD7/train/3FO4MECUV51L_Dining_room.zip\n",
      "75.1MB [00:01, 52.0MB/s]\n"
     ]
    },
    {
     "name": "stdout",
     "output_type": "stream",
     "text": [
      "3FO4MECSCH43_Bedroom.zip\n",
      "3FO4MECS4G8O_Bedroom.zip\n",
      "3FO4MECS2JD4_Bedroom.zip\n",
      "3FO4MECRUKA1_Bedroom.zip\n",
      "3FO4MEBTJ7D7_Living_room.zip\n"
     ]
    },
    {
     "name": "stderr",
     "output_type": "stream",
     "text": [
      "Downloading...\n",
      "From: https://drive.google.com/uc?id=1OLO9kQiXSscrThNPGUS1Fv0fUlpqJckA&export=download\n",
      "To: /media/scratch1/erbachj/Mask_RCNN/data/InteriorNet/data/HD7/train/3FO4MEBTJ7D7_Living_room.zip\n",
      "57.9MB [00:00, 94.4MB/s]\n"
     ]
    },
    {
     "name": "stdout",
     "output_type": "stream",
     "text": [
      "3FO4MEBTJ7D7_Bedroom.zip\n",
      "3FO4MEAAOSEM_Bedroom.zip\n",
      "3FO4MEAAJQ74_Bedroom.zip\n",
      "3FO4MEAA66E2_Bedroom.zip\n",
      "3FO4MEA4BT9X_Bedroom.zip\n",
      "3FO4MEA47ISN_Bedroom.zip\n",
      "3FO4MEA3Q71R_Bedroom.zip\n",
      "3FO4MEA3CPKQ_Bedroom.zip\n",
      "3FO4MEA39NKT_Bedroom.zip\n",
      "3FO4MEA2XUQL_Bedroom.zip\n",
      "3FO4MEA2TKAB_Bedroom.zip\n",
      "3FO4ME9WPCJP_Bedroom.zip\n",
      "3FO4ME8UY6O2_Living_room.zip\n"
     ]
    },
    {
     "name": "stderr",
     "output_type": "stream",
     "text": [
      "Downloading...\n",
      "From: https://drive.google.com/uc?id=1PfNn_TrD-JCHxS4itxMZAMqSf8TnXtnL&export=download\n",
      "To: /media/scratch1/erbachj/Mask_RCNN/data/InteriorNet/data/HD7/train/3FO4ME8UY6O2_Living_room.zip\n",
      "59.3MB [00:01, 55.4MB/s]\n"
     ]
    },
    {
     "name": "stdout",
     "output_type": "stream",
     "text": [
      "3FO4ME8UY6O2_Bedroom.zip\n",
      "3FO4ME8TU7GE_Bedroom.zip\n",
      "3FO4ME87FY8U_Bedroom.zip\n",
      "3FO4ME7RFWET_Bedroom.zip\n",
      "3FO4ME7GYTGC_Bedroom.zip\n",
      "3FO4ME6WVKGH_Bedroom.zip\n",
      "3FO4ME6WV0EB_Bedroom.zip\n",
      "3FO4ME6WRK1A_Bedroom.zip\n",
      "3FO4ME6VN43H_Living_room.zip\n"
     ]
    },
    {
     "name": "stderr",
     "output_type": "stream",
     "text": [
      "Downloading...\n",
      "From: https://drive.google.com/uc?id=1RC6SSo9BW3tzTPeyP-fTbLH6a8gVLVd-&export=download\n",
      "To: /media/scratch1/erbachj/Mask_RCNN/data/InteriorNet/data/HD7/train/3FO4ME6VN43H_Living_room.zip\n",
      "59.5MB [00:03, 19.6MB/s]\n"
     ]
    },
    {
     "name": "stdout",
     "output_type": "stream",
     "text": [
      "3FO4ME6VN43H_Dining_room.zip\n"
     ]
    },
    {
     "name": "stderr",
     "output_type": "stream",
     "text": [
      "Downloading...\n",
      "From: https://drive.google.com/uc?id=19dE5npZoQLCwq2j5anzx8Ug0h3ZPgIZm&export=download\n",
      "To: /media/scratch1/erbachj/Mask_RCNN/data/InteriorNet/data/HD7/train/3FO4ME6VN43H_Dining_room.zip\n",
      "68.3MB [00:00, 81.3MB/s]\n"
     ]
    },
    {
     "name": "stdout",
     "output_type": "stream",
     "text": [
      "3FO4ME6VIF93_Bedroom.zip\n",
      "3FO4ME5XT1DT_Living_room.zip\n"
     ]
    },
    {
     "name": "stderr",
     "output_type": "stream",
     "text": [
      "Downloading...\n",
      "From: https://drive.google.com/uc?id=1Fyv8daQq3cUuq2B5eJZ0GPvkiPdgpHoZ&export=download\n",
      "To: /media/scratch1/erbachj/Mask_RCNN/data/InteriorNet/data/HD7/train/3FO4ME5XT1DT_Living_room.zip\n",
      "30.7MB [00:00, 63.5MB/s]\n"
     ]
    },
    {
     "name": "stdout",
     "output_type": "stream",
     "text": [
      "3FO4ME5XT1DT_Bedroom.zip\n",
      "3FO4ME53182H_Bedroom.zip\n",
      "3FO4ME52VWL7_Living_room.zip\n",
      "3FO4ME52VWL7_Bedroom.zip\n",
      "3FO4ME4T7N07_Living_room.zip\n",
      "3FO4ME4T7N07_Dining_room.zip\n"
     ]
    },
    {
     "name": "stderr",
     "output_type": "stream",
     "text": [
      "Downloading...\n",
      "From: https://drive.google.com/uc?id=1eWV9VvqlwG-3MoCcLWi5lBuO-StULCZH&export=download\n",
      "To: /media/scratch1/erbachj/Mask_RCNN/data/InteriorNet/data/HD7/train/3FO4ME4T7N07_Dining_room.zip\n",
      "69.1MB [00:03, 21.0MB/s]\n"
     ]
    },
    {
     "name": "stdout",
     "output_type": "stream",
     "text": [
      "3FO4ME4T7N07_Bedroom.zip\n",
      "3FO4ME4SWVXA_Bedroom.zip\n",
      "3FO4ME4SWBV4_Bedroom.zip\n",
      "3FO4ME4SINQ1_Bedroom.zip\n",
      "3FO4ME4QK9NK_Bedroom.zip\n",
      "3FO4ME4OROJU_Bedroom.zip\n",
      "3FO4ME45SG07_Bedroom.zip\n",
      "3FO4ME45QPSO_Bedroom.zip\n",
      "3FO4ME45QFRL_Bedroom.zip\n",
      "3FO4ME45OPL3_Bedroom.zip\n",
      "3FO4ME45MSPI_Bedroom.zip\n",
      "3FO4ME45M8NC_Bedroom.zip\n",
      "3FO4ME45M5BB_Bedroom.zip\n",
      "3FO4ME45M1YA_Bedroom.zip\n",
      "3FO4ME45LGW4_Bedroom.zip\n",
      "3FO4ME42203V_Bedroom.zip\n",
      "3FO4ME3URTPC_Bedroom.zip\n",
      "3FO4ME3URGC8_Bedroom.zip\n",
      "3FO4ME3UR2Y4_Bedroom.zip\n",
      "3FO4ME3UOODE_Bedroom.zip\n",
      "3FO4ME3U8FXJ_Bedroom.zip\n",
      "3FO4ME3U7Y8E_Living_room.zip\n",
      "3FO4ME3U7Y8E_Dining_room.zip\n"
     ]
    },
    {
     "name": "stderr",
     "output_type": "stream",
     "text": [
      "Downloading...\n",
      "From: https://drive.google.com/uc?id=1BsutUZ7yrEsVwsupLwRcWhLinqA26ceh&export=download\n",
      "To: /media/scratch1/erbachj/Mask_RCNN/data/InteriorNet/data/HD7/train/3FO4ME3U7Y8E_Dining_room.zip\n",
      "70.9MB [00:00, 97.4MB/s]\n"
     ]
    },
    {
     "name": "stdout",
     "output_type": "stream",
     "text": [
      "3FO4ME3U7Y8E_Bedroom.zip\n",
      "3FO4ME3U6J2Y_Bedroom.zip\n",
      "3FO4ME3U3AE0_Bedroom.zip\n",
      "3FO4ME3U33OX_Living_room.zip\n",
      "3FO4ME3U33OX_Bedroom.zip\n",
      "3FO4ME3U1U8K_Living_room.zip\n",
      "3FO4ME3U1U8K_Bedroom.zip\n",
      "3FO4ME3U0522_Bedroom.zip\n",
      "3FO4ME3TXVKO_Bedroom.zip\n",
      "3FO4ME3TVVD3_Bedroom.zip\n",
      "3FO4ME3TS5XY_Living_room.zip\n",
      "3FO4ME3TRKVS_Bedroom.zip\n",
      "3FO4ME3PGG7L_Bedroom.zip\n",
      "3FO4ME2J0ASL_Bedroom.zip\n",
      "3FO4ME1VTU7O_Dining_room.zip\n"
     ]
    },
    {
     "name": "stderr",
     "output_type": "stream",
     "text": [
      "Downloading...\n",
      "From: https://drive.google.com/uc?id=1qsLI-04Ze_Fqemec9Y73JnDZVt4jimsn&export=download\n",
      "To: /media/scratch1/erbachj/Mask_RCNN/data/InteriorNet/data/HD7/train/3FO4ME1VTU7O_Dining_room.zip\n",
      "69.8MB [00:00, 83.9MB/s]\n"
     ]
    },
    {
     "name": "stdout",
     "output_type": "stream",
     "text": [
      "3FO4ME1VTU7O_Bedroom.zip\n",
      "3FO4ME1MD2MG_Bedroom.zip\n",
      "3FO4ME15HUEX_Bedroom.zip\n",
      "3FO4ME14JSI2_Bedroom.zip\n",
      "3FO4MDYIQSRY_Bedroom.zip\n",
      "3FO4MDXV78BT_Bedroom.zip\n",
      "3FO4MDT1BVHQ_Living_room.zip\n",
      "3FO4MDSF76FI_Living_room.zip\n",
      "3FO4MDSF76FI_Bedroom.zip\n",
      "3FO4MDSE8Q5I_Bedroom.zip\n",
      "3FO4MDQN6347_Living_room.zip\n",
      "3FO4MDQN6347_Dining_room.zip\n"
     ]
    },
    {
     "name": "stderr",
     "output_type": "stream",
     "text": [
      "Downloading...\n",
      "From: https://drive.google.com/uc?id=1vgHeFgnutuhAJUZaNHplgtcnVxGix9IB&export=download\n",
      "To: /media/scratch1/erbachj/Mask_RCNN/data/InteriorNet/data/HD7/train/3FO4MDQN6347_Dining_room.zip\n",
      "72.4MB [00:00, 77.1MB/s]\n"
     ]
    },
    {
     "name": "stdout",
     "output_type": "stream",
     "text": [
      "3FO4MDQN6347_Bedroom.zip\n",
      "3FO4MDQN5BCY_Bedroom.zip\n",
      "3FO4MDQN51BV_Bedroom.zip\n",
      "3FO4MDQMPYSO_Bedroom.zip\n",
      "3FO4MDQMLYDH_Bedroom.zip\n",
      "3FO4MDQML0X7_Living_room.zip\n",
      "3FO4MDQML0X7_Dining_room.zip\n"
     ]
    },
    {
     "name": "stderr",
     "output_type": "stream",
     "text": [
      "Downloading...\n",
      "From: https://drive.google.com/uc?id=1x-6YEnXNHdbIKL21-LjL6MPbfJrHJqYf&export=download\n",
      "To: /media/scratch1/erbachj/Mask_RCNN/data/InteriorNet/data/HD7/train/3FO4MDQML0X7_Dining_room.zip\n",
      "64.5MB [00:00, 83.6MB/s]\n"
     ]
    },
    {
     "name": "stdout",
     "output_type": "stream",
     "text": [
      "3FO4MDQML0X7_Bedroom.zip\n",
      "3FO4MDQMJUSU_Bedroom.zip\n",
      "3FO4MDQMI8YD_Bedroom.zip\n",
      "3FO4MDQMFR1M_Living_room.zip\n",
      "3FO4MDQMFR1M_Bedroom.zip\n",
      "3FO4MDQM9QDT_Bedroom.zip\n",
      "3FO4MDQM9N1S_Bedroom.zip\n",
      "3FO4MDQM7Q68_Bedroom.zip\n",
      "3FO4MDQM3T32_Guest_room.zip\n"
     ]
    },
    {
     "name": "stderr",
     "output_type": "stream",
     "text": [
      "Downloading...\n",
      "From: https://drive.google.com/uc?id=1NK8iqg3-wbw2rGs0fix3OMC_Txod-PyB&export=download\n",
      "To: /media/scratch1/erbachj/Mask_RCNN/data/InteriorNet/data/HD7/train/3FO4MDQM3T32_Guest_room.zip\n",
      "69.8MB [00:03, 20.6MB/s]\n"
     ]
    },
    {
     "name": "stdout",
     "output_type": "stream",
     "text": [
      "3FO4MDQM3T32_Bedroom.zip\n",
      "3FO4MDQM0AD0_Bedroom.zip\n",
      "3FO4MDQLYILR_Bedroom.zip\n",
      "3FO4MDQLT6D6_Bedroom.zip\n",
      "3FO4MDQLQHQD_Bedroom.zip\n",
      "3FO4MDQLNJ3H_Bedroom.zip\n",
      "3FO4MDQLMAM4_Living_room.zip\n",
      "3FO4MDQLMAM4_Bedroom.zip\n",
      "3FO4MDQLM0L1_Bedroom.zip\n",
      "3FO4MDQLLFIU_Bedroom.zip\n",
      "3FO4MDQGHV7G_Dining_room.zip\n"
     ]
    },
    {
     "name": "stderr",
     "output_type": "stream",
     "text": [
      "Downloading...\n",
      "From: https://drive.google.com/uc?id=1G2a1qgI4TwTieVaEV1JBY0pu3BkKv9Df&export=download\n",
      "To: /media/scratch1/erbachj/Mask_RCNN/data/InteriorNet/data/HD7/train/3FO4MDQGHV7G_Dining_room.zip\n",
      "60.4MB [00:03, 17.5MB/s]\n"
     ]
    },
    {
     "name": "stdout",
     "output_type": "stream",
     "text": [
      "3FO4MDQGHV7G_Bedroom.zip\n",
      "3FO4MDPX31EL_Bedroom.zip\n",
      "3FO4MDP8YDFA_Bedroom.zip\n",
      "3FO4MDP0XYQF_Bedroom.zip\n",
      "3FO4MDP0HJMI_Dining_room.zip\n"
     ]
    },
    {
     "name": "stderr",
     "output_type": "stream",
     "text": [
      "Downloading...\n",
      "From: https://drive.google.com/uc?id=18mVlpCtxuHzsjANIvJ1FRc4lhrm2PsQh&export=download\n",
      "To: /media/scratch1/erbachj/Mask_RCNN/data/InteriorNet/data/HD7/train/3FO4MDP0HJMI_Dining_room.zip\n",
      "75.4MB [00:01, 53.0MB/s]\n"
     ]
    },
    {
     "name": "stdout",
     "output_type": "stream",
     "text": [
      "3FO4MDOYS3N7_Living_room.zip\n",
      "3FO4MDOYS3N7_Bedroom.zip\n",
      "3FO4MDOYRSM4_Bedroom.zip\n",
      "3FO4MDOYO6K1_Bedroom.zip\n",
      "3FO4MDOYO380_Bedroom.zip\n",
      "3FO4MDOYN1FO_Bedroom.zip\n",
      "3FO4MDOYLLA9_Bedroom.zip\n",
      "3FO4MDOYIJAC_Bedroom.zip\n",
      "3FO4MDKEFYJR_Bedroom.zip\n",
      "3FO4MDIN7RKS_Bedroom.zip\n",
      "3FO4MDHOQ5RE_Bedroom.zip\n",
      "3FO4MDFFVR45_Bedroom.zip\n",
      "3FO4MDBP9M8Q_Bedroom.zip\n",
      "3FO4MD7OX8YV_Bedroom.zip\n",
      "3FO4MD4WX9UJ_Bedroom.zip\n",
      "3FO4MD4K7BL6_Bedroom.zip\n",
      "3FO4MD3J6GS3_Bedroom.zip\n",
      "3FO4MD24VLR8_Bedroom.zip\n",
      "3FO4MD007C5D_Bedroom.zip\n",
      "3FO4MCY41922_Bedroom.zip\n",
      "3FO4MCUGNN8W_Bedroom.zip\n",
      "3FO4MDOYBK79_Bedroom.zip\n",
      "3FO4MDOY4V59_Bedroom.zip\n",
      "3FO4MDOY1WHD_Living_room.zip\n",
      "3FO4MDOY1WHD_Bedroom.zip\n",
      "3FO4MDOXVK8R_Bedroom.zip\n",
      "3FO4MDOXVA7O_Bedroom.zip\n",
      "3FO4MDOXV06L_Bedroom.zip\n",
      "3FO4MDOXT3B1_Bedroom.zip\n",
      "3FO4MDOXS4UQ_Living_room.zip\n",
      "3FO4MDOXS4UQ_Bedroom.zip\n",
      "3FO4MDOXJC94_Living_room.zip\n",
      "3FO4MDOXGA97_Bedroom.zip\n",
      "3FO4MDOW8ALC_Bedroom.zip\n",
      "3FO4MDODWMWQ_Bedroom.zip\n",
      "3FO4MDMT945G_Bedroom.zip\n",
      "3FO4MDMSQ8V4_Bedroom.zip\n",
      "3FO4MDMQUP4I_Bedroom.zip\n",
      "3FO4MDMQQEN8_Bedroom.zip\n",
      "3FO4MDMKRNPS_Bedroom.zip\n",
      "3FO4MDLUQ26M_Living_room.zip\n",
      "3FO4MDLUQ26M_Bedroom.zip\n",
      "3FO4MDLJH9JU_Bedroom.zip\n",
      "3FO4MDLEC01X_Bedroom.zip\n",
      "3FO4MDLAUQWO_Bedroom.zip\n",
      "3FO4MDLABX82_Bedroom.zip\n",
      "3FO4MDKK3TAX_Living_room.zip\n",
      "3FO4MDKK3TAX_Dining_room.zip\n"
     ]
    },
    {
     "name": "stderr",
     "output_type": "stream",
     "text": [
      "Downloading...\n",
      "From: https://drive.google.com/uc?id=12cJq70ptjJV0Fw6dvxdxrOJSXxLMB7xv&export=download\n",
      "To: /media/scratch1/erbachj/Mask_RCNN/data/InteriorNet/data/HD7/train/3FO4MDKK3TAX_Dining_room.zip\n",
      "72.9MB [00:00, 96.3MB/s]\n"
     ]
    },
    {
     "name": "stdout",
     "output_type": "stream",
     "text": [
      "3FO4MDKJF8EV_Bedroom.zip\n",
      "3FO4MDJIT6V8_Bedroom.zip\n",
      "3FO4MDJ5708I_Bedroom.zip\n",
      "3FO4MDISYQ47_Bedroom.zip\n",
      "3FO4MDINSOU2_Living_room.zip\n",
      "3FO4MDINSOU2_Bedroom.zip\n",
      "3FO4MDINS4RV_Bedroom.zip\n",
      "3FO4MDINRN2Q_Living_room.zip\n",
      "3FO4MDINRN2Q_Dining_room.zip\n"
     ]
    },
    {
     "name": "stderr",
     "output_type": "stream",
     "text": [
      "Downloading...\n",
      "From: https://drive.google.com/uc?id=1SmPA1wkQcVQrspqqCU5bG_w1hWu9x7pv&export=download\n",
      "To: /media/scratch1/erbachj/Mask_RCNN/data/InteriorNet/data/HD7/train/3FO4MDINRN2Q_Dining_room.zip\n",
      "57.9MB [00:02, 22.1MB/s]\n"
     ]
    },
    {
     "name": "stdout",
     "output_type": "stream",
     "text": [
      "3FO4MDINRN2Q_Bedroom.zip\n",
      "3FO4MDINMUVB_Bedroom.zip\n",
      "3FO4MDINKRBO_Living_room.zip\n",
      "3FO4MDINKRBO_Bedroom.zip\n",
      "3FO4MDINKALJ_Bedroom.zip\n",
      "3FO4MDINBS10_Bedroom.zip\n",
      "3FO4MDIN0LSN_Bedroom.zip\n",
      "3FO4MDIMWJSQ_Bedroom.zip\n",
      "3FO4MDIMIEXI_Living_room.zip\n",
      "3FO4MDIMIEXI_Bedroom.zip\n",
      "3FO4MDIMAHF5_Bedroom.zip\n",
      "3FO4MDIMA0P0_Bedroom.zip\n",
      "3FO4MDILWODB_Living_room.zip\n",
      "3FO4MDILWODB_Bedroom.zip\n",
      "3FO4MDIGUDIA_Bedroom.zip\n",
      "3FO4MDI945T6_Bedroom.zip\n",
      "3FO4MDI2J49D_Bedroom.zip\n",
      "3FO4MDI1E9XG_Bedroom.zip\n",
      "3FO4MDHUNX9J_Bedroom.zip\n",
      "3FO4MDHQTSQF_Bedroom.zip\n",
      "3FO4MDHOIOY6_Bedroom.zip\n",
      "3FO4MDHCHV3B_Bedroom.zip\n",
      "3FO4MDHBP6F1_Bedroom.zip\n",
      "3FO4MDH2S9BQ_Bedroom.zip\n",
      "3FO4MDH1TCBL_Bedroom.zip\n",
      "3FO4MDGXTCM7_Living_room.zip\n",
      "3FO4MDGXTCM7_Dining_room.zip\n"
     ]
    },
    {
     "name": "stderr",
     "output_type": "stream",
     "text": [
      "Downloading...\n",
      "From: https://drive.google.com/uc?id=1J5h1qaDtBAcepz-SxFrzKO8AV1AM0ZXg&export=download\n",
      "To: /media/scratch1/erbachj/Mask_RCNN/data/InteriorNet/data/HD7/train/3FO4MDGXTCM7_Dining_room.zip\n",
      "77.3MB [00:01, 66.8MB/s]\n"
     ]
    },
    {
     "name": "stdout",
     "output_type": "stream",
     "text": [
      "3FO4MDGXTCM7_Bedroom.zip\n",
      "3FO4MDGVHUGT_Bedroom.zip\n",
      "3FO4MDGUULE6_Living_room.zip\n",
      "3FO4MDGUULE6_Dining_room.zip\n"
     ]
    },
    {
     "name": "stderr",
     "output_type": "stream",
     "text": [
      "Downloading...\n",
      "From: https://drive.google.com/uc?id=1RgPGuKqBfoqwbzXOZMNrH7e_-hiiMyNm&export=download\n",
      "To: /media/scratch1/erbachj/Mask_RCNN/data/InteriorNet/data/HD7/train/3FO4MDGUULE6_Dining_room.zip\n",
      "76.4MB [00:00, 100MB/s] \n"
     ]
    },
    {
     "name": "stdout",
     "output_type": "stream",
     "text": [
      "3FO4MDGUULE6_Bedroom.zip\n",
      "3FO4MDGEA58K_Bedroom.zip\n",
      "3FO4MDFVV0YE_Bedroom.zip\n",
      "3FO4MDF1PGPP_Bedroom.zip\n",
      "3FO4MDEDDGMD_Bedroom.zip\n",
      "3FO4MDD6JLIK_Bedroom.zip\n",
      "3FO4MDD4YAJ1_Living_room.zip\n",
      "3FO4MDD4YAJ1_Dining_room.zip\n"
     ]
    },
    {
     "name": "stderr",
     "output_type": "stream",
     "text": [
      "Downloading...\n",
      "From: https://drive.google.com/uc?id=1P537qiAbC9BykW8lRXcjy4YlckSRXAOM&export=download\n",
      "To: /media/scratch1/erbachj/Mask_RCNN/data/InteriorNet/data/HD7/train/3FO4MDD4YAJ1_Dining_room.zip\n",
      "64.5MB [00:01, 32.6MB/s]\n"
     ]
    },
    {
     "name": "stdout",
     "output_type": "stream",
     "text": [
      "3FO4MDD4YAJ1_Bedroom.zip\n",
      "3FO4MDD4WH0H_Bedroom.zip\n",
      "3FO4MDD4UQSY_Bedroom.zip\n",
      "3FO4MDD4TICL_Bedroom.zip\n",
      "3FO4MDCW1NT0_Bedroom.zip\n",
      "3FO4MDCV18BE_Bedroom.zip\n",
      "3FO4MDCCIOVQ_Bedroom.zip\n",
      "3FO4MDC9Y06W_Bedroom.zip\n",
      "3FO4MDBP9M8Q_Living_room.zip\n",
      "3FO4MDBFIR0S_Bedroom.zip\n",
      "3FO4MDAV3NEE_Living_room.zip\n",
      "3FO4MDAV3NEE_Bedroom.zip\n",
      "3FO4MDAC1CTT_Bedroom.zip\n",
      "3FO4MDA2D9KP_Bedroom.zip\n",
      "3FO4MDA0L2U4_Living_room.zip\n",
      "3FO4MD8KCHI6_Bedroom.zip\n",
      "3FO4MD8FEXTK_Bedroom.zip\n",
      "3FO4MD8C0PWW_Bedroom.zip\n",
      "3FO4MD7SWPQL_Bedroom.zip\n",
      "3FO4MD7SOLJ6_Bedroom.zip\n",
      "3FO4MD7SBBR7_Bedroom.zip\n",
      "3FO4MD7RN499_Bedroom.zip\n",
      "3FO4MD7PTY3D_Living_room.zip\n",
      "3FO4MD7NHLTQ_Bedroom.zip\n",
      "3FO4MD6K19G3_Guest_room.zip\n"
     ]
    },
    {
     "name": "stderr",
     "output_type": "stream",
     "text": [
      "Downloading...\n",
      "From: https://drive.google.com/uc?id=11eBa-kF7GDg9j3KUyfqNdo5XmvDsgRGY&export=download\n",
      "To: /media/scratch1/erbachj/Mask_RCNN/data/InteriorNet/data/HD7/train/3FO4MD6K19G3_Guest_room.zip\n",
      "59.2MB [00:01, 41.9MB/s]\n"
     ]
    },
    {
     "name": "stdout",
     "output_type": "stream",
     "text": [
      "3FO4MD6K19G3_Bedroom.zip\n",
      "3FO4MD5VJNUD_Bedroom.zip\n",
      "3FO4MD553KAE_Bedroom.zip\n",
      "3FO4MD55100M_Living_room.zip\n",
      "3FO4MD55100M_Bedroom.zip\n",
      "3FO4MD52Y8W6_Bedroom.zip\n",
      "3FO4MD52FLVL_Bedroom.zip\n",
      "3FO4MD4YMHX9_Living_room.zip\n",
      "3FO4MD4YMHX9_Dining_room.zip\n"
     ]
    },
    {
     "name": "stderr",
     "output_type": "stream",
     "text": [
      "Downloading...\n",
      "From: https://drive.google.com/uc?id=1iopptPvdJOrZTVNRbNkrEoKXJD1VdrqP&export=download\n",
      "To: /media/scratch1/erbachj/Mask_RCNN/data/InteriorNet/data/HD7/train/3FO4MD4YMHX9_Dining_room.zip\n",
      "72.6MB [00:04, 17.1MB/s]\n"
     ]
    },
    {
     "name": "stdout",
     "output_type": "stream",
     "text": [
      "3FO4MD4XIFDK_Bedroom.zip\n",
      "3FO4MD4XGSJ3_Bedroom.zip\n",
      "3FO4MD4XFXFT_Bedroom.zip\n",
      "3FO4MD4WSHO4_Bedroom.zip\n",
      "3FO4MD4WQO5K_Bedroom.zip\n",
      "3FO4MD4WLPA3_Bedroom.zip\n",
      "3FO4MD4WL8JX_Bedroom.zip\n",
      "3FO4MD4WID93_Bedroom.zip\n",
      "3FO4MD4W9DXE_Dining_room.zip\n"
     ]
    },
    {
     "name": "stderr",
     "output_type": "stream",
     "text": [
      "Downloading...\n",
      "From: https://drive.google.com/uc?id=1K0TKIsar2faz_3SMM8kY5sNh-fo5s9tm&export=download\n",
      "To: /media/scratch1/erbachj/Mask_RCNN/data/InteriorNet/data/HD7/train/3FO4MD4W9DXE_Dining_room.zip\n",
      "60.5MB [00:01, 57.5MB/s]\n"
     ]
    },
    {
     "name": "stdout",
     "output_type": "stream",
     "text": [
      "3FO4MD4W8W89_Bedroom.zip\n",
      "3FO4MD4W4LQY_Bedroom.zip\n",
      "3FO4MD4VKOPB_Living_room.zip\n",
      "3FO4MD4VKOPB_Bedroom.zip\n",
      "3FO4MD4V9LU0_Bedroom.zip\n",
      "3FO4MD4UVW57_Bedroom.zip\n",
      "3FO4MD4Q4FO4_Bedroom.zip\n",
      "3FO4MD4K8K2J_Bedroom.zip\n",
      "3FO4MD4K6N6Y_Bedroom.zip\n",
      "3FO4MD4K5EPL_Bedroom.zip\n",
      "3FO4MD4JYURX_Living_room.zip\n",
      "3FO4MD4JYURX_Bedroom.zip\n",
      "3FO4MD4JTBUA_Bedroom.zip\n",
      "3FO4MD4JPYTA_Bedroom.zip\n",
      "3FO4MD4JMG48_Bedroom.zip\n",
      "3FO4MD4JJ0Q7_Living_room.zip\n",
      "3FO4MD4JJ0Q7_Bedroom.zip\n",
      "3FO4MD4JFXQA_Bedroom.zip\n",
      "3FO4MD4J4UUY_Bedroom.zip\n",
      "3FO4MD4IYBXB_Living_room.zip\n",
      "3FO4MD4IYBXB_Bedroom.zip\n",
      "3FO4MD3JB5MH_Bedroom.zip\n",
      "3FO4MD3IXMLQ_Bedroom.zip\n",
      "3FO4MD3IUUMW_Bedroom.zip\n",
      "3FO4MD3IM31A_Living_room.zip\n",
      "3FO4MD3IM31A_Bedroom.zip\n",
      "3FO4MD2YGPGS_Bedroom.zip\n",
      "3FO4MD2Y2RAM_Bedroom.zip\n",
      "3FO4MD2V6I0C_Bedroom.zip\n",
      "3FO4MD2U2C3M_Bedroom.zip\n",
      "3FO4MD2TQ5VA_Bedroom.zip\n",
      "3FO4MD2RDLXL_Living_room.zip\n",
      "3FO4MD2IPY73_Bedroom.zip\n",
      "3FO4MD2E53FY_Bedroom.zip\n",
      "3FO4MD2BTD1T_Bedroom.zip\n",
      "3FO4MD2BDS16_Living_room.zip\n",
      "3FO4MD1W3AIH_Bedroom.zip\n",
      "3FO4MD1B4EF0_Bedroom.zip\n",
      "3FO4MD1ATND3_Bedroom.zip\n",
      "3FO4MD1A3R8C_Bedroom.zip\n",
      "3FO4MD17N2XP_Living_room.zip\n",
      "3FO4MD17N2XP_Bedroom.zip\n",
      "3FO4MD13FUCO_Bedroom.zip\n",
      "3FO4MD10HE5Q_Bedroom.zip\n",
      "3FO4MD0VFM5C_Dining_room.zip\n"
     ]
    },
    {
     "name": "stderr",
     "output_type": "stream",
     "text": [
      "Downloading...\n",
      "From: https://drive.google.com/uc?id=1hYwlda9OQA_Bm_l1lNddH3l8Ljo50xW0&export=download\n",
      "To: /media/scratch1/erbachj/Mask_RCNN/data/InteriorNet/data/HD7/train/3FO4MD0VFM5C_Dining_room.zip\n",
      "75.8MB [00:03, 24.5MB/s]\n"
     ]
    },
    {
     "name": "stdout",
     "output_type": "stream",
     "text": [
      "3FO4MD0VFM5C_Bedroom.zip\n",
      "3FO4MD0PJ6GL_Bedroom.zip\n",
      "3FO4MD0EVOH7_Bedroom.zip\n",
      "3FO4MD0C01SS_Bedroom.zip\n",
      "3FO4MD0ARW97_Bedroom.zip\n",
      "3FO4MCYXVH6N_Bedroom.zip\n",
      "3FO4MCYWKFIV_Living_room.zip\n",
      "3FO4MCYWKFIV_Dining_room.zip\n"
     ]
    },
    {
     "name": "stderr",
     "output_type": "stream",
     "text": [
      "Downloading...\n",
      "From: https://drive.google.com/uc?id=1KJLvT3SnkzS-N5_-WzO-bCJ0OUoYwlz2&export=download\n",
      "To: /media/scratch1/erbachj/Mask_RCNN/data/InteriorNet/data/HD7/train/3FO4MCYWKFIV_Dining_room.zip\n",
      "54.5MB [00:00, 64.9MB/s]\n"
     ]
    },
    {
     "name": "stdout",
     "output_type": "stream",
     "text": [
      "3FO4MCYWKFIV_Bedroom.zip\n",
      "3FO4MCYVNSRF_Living_room.zip\n",
      "3FO4MCYVNSRF_Dining_room.zip\n"
     ]
    },
    {
     "name": "stderr",
     "output_type": "stream",
     "text": [
      "Downloading...\n",
      "From: https://drive.google.com/uc?id=1VtsSI0MW5JigZhj7ygKwBj2du3aWlT7f&export=download\n",
      "To: /media/scratch1/erbachj/Mask_RCNN/data/InteriorNet/data/HD7/train/3FO4MCYVNSRF_Dining_room.zip\n",
      "62.6MB [00:00, 84.0MB/s]\n"
     ]
    },
    {
     "name": "stdout",
     "output_type": "stream",
     "text": [
      "3FO4MCYOAY7B_Living_room.zip\n",
      "3FO4MCYG9M36_Living_room.zip\n",
      "3FO4MCYG9M36_Dining_room.zip\n"
     ]
    },
    {
     "name": "stderr",
     "output_type": "stream",
     "text": [
      "Downloading...\n",
      "From: https://drive.google.com/uc?id=18AL9lL6GK6kWytQdeJJwkJym0C4SrGWH&export=download\n",
      "To: /media/scratch1/erbachj/Mask_RCNN/data/InteriorNet/data/HD7/train/3FO4MCYG9M36_Dining_room.zip\n",
      "74.1MB [00:04, 17.9MB/s]\n"
     ]
    },
    {
     "name": "stdout",
     "output_type": "stream",
     "text": [
      "3FO4MCYG9M36_Bedroom.zip\n",
      "3FO4MCYDFN1K_Bedroom.zip\n",
      "3FO4MCY79TO1_Bedroom.zip\n",
      "3FO4MCY4R8IT_Living_room.zip\n",
      "3FO4MCY41922_Dining_room.zip\n"
     ]
    },
    {
     "name": "stderr",
     "output_type": "stream",
     "text": [
      "Downloading...\n",
      "From: https://drive.google.com/uc?id=1t96DaMQc0d5i7yAHsS4g_CZNp98Kt53z&export=download\n",
      "To: /media/scratch1/erbachj/Mask_RCNN/data/InteriorNet/data/HD7/train/3FO4MCY41922_Dining_room.zip\n",
      "67.0MB [00:00, 79.4MB/s]\n"
     ]
    },
    {
     "name": "stdout",
     "output_type": "stream",
     "text": [
      "3FO4MCY1BNSR_Living_room.zip\n",
      "3FO4MCY1BNSR_Dining_room.zip\n"
     ]
    },
    {
     "name": "stderr",
     "output_type": "stream",
     "text": [
      "Downloading...\n",
      "From: https://drive.google.com/uc?id=1IoNrjbCLpjNqpVDYGKSaqdMzZIvOcG87&export=download\n",
      "To: /media/scratch1/erbachj/Mask_RCNN/data/InteriorNet/data/HD7/train/3FO4MCY1BNSR_Dining_room.zip\n",
      "69.2MB [00:01, 47.0MB/s]\n"
     ]
    },
    {
     "name": "stdout",
     "output_type": "stream",
     "text": [
      "3FO4MCY1BNSR_Bedroom.zip\n",
      "3FO4MCXL519R_Bedroom.zip\n",
      "3FO4MCWWX3DX_Bedroom.zip\n",
      "3FO4MCWGS3VY_Bedroom.zip\n",
      "3FO4MCVYFVID_Bedroom.zip\n",
      "3FO4MCVUPRFG_Living_room.zip\n",
      "3FO4MCVUPRFG_Bedroom.zip\n",
      "3FO4MCVOFK9L_Bedroom.zip\n",
      "3FO4MCUMD1HJ_Living_room.zip\n",
      "3FO4MCUMD1HJ_Bedroom.zip\n",
      "3FO4MCUGO4Y2_Living_room.zip\n",
      "3FO4MCUGO4Y2_Bedroom.zip\n",
      "3FO4MCQ28N8F_Bedroom.zip\n",
      "3FO4MCKTDNUD_Bedroom.zip\n",
      "3FO4MCGTQGJQ_Bedroom.zip\n",
      "3FO4MCFQ14UE_Dining_room.zip\n"
     ]
    },
    {
     "name": "stderr",
     "output_type": "stream",
     "text": [
      "Downloading...\n",
      "From: https://drive.google.com/uc?id=1YVSFjKJ_3vdyQLZIr3HZiLDqv_8-sE5C&export=download\n",
      "To: /media/scratch1/erbachj/Mask_RCNN/data/InteriorNet/data/HD7/train/3FO4MCFQ14UE_Dining_room.zip\n",
      "64.5MB [00:01, 33.4MB/s]\n"
     ]
    },
    {
     "name": "stdout",
     "output_type": "stream",
     "text": [
      "3FO4MCD1WLPE_Bedroom.zip\n",
      "3FO4MC97YHMB_Bedroom.zip\n",
      "3FO4MC978VIN_Bedroom.zip\n",
      "3FO4MC7EGC0F_Living_room.zip\n",
      "3FO4MC55KI6Q_Bedroom.zip\n",
      "3FO4MC4UQYC0_Bedroom.zip\n",
      "3FO4MC4PYEIV_Bedroom.zip\n",
      "3FO4MC0QT0PA_Bedroom.zip\n",
      "3FO4MC0EWNYR_Bedroom.zip\n",
      "3FO4MCUGNJVV_Living_room.zip\n",
      "3FO4MCUGNJVV_Dining_room.zip\n"
     ]
    },
    {
     "name": "stderr",
     "output_type": "stream",
     "text": [
      "Downloading...\n",
      "From: https://drive.google.com/uc?id=1H_kRuX9vL7UVCNKmbPXcP6S-iH-mTjEW&export=download\n",
      "To: /media/scratch1/erbachj/Mask_RCNN/data/InteriorNet/data/HD7/train/3FO4MCUGNJVV_Dining_room.zip\n",
      "60.7MB [00:01, 39.7MB/s]\n"
     ]
    },
    {
     "name": "stdout",
     "output_type": "stream",
     "text": [
      "3FO4MCUGNJVV_Bedroom.zip\n",
      "3FO4MCUGMOSM_Bedroom.zip\n",
      "3FO4MCUGMBFI_Bedroom.zip\n",
      "3FO4MCUGLX2E_Bedroom.zip\n",
      "3FO4MCUG4MU8_Living_room.zip\n",
      "3FO4MCUG4MU8_Bedroom.zip\n",
      "3FO4MCUG4JI7_Bedroom.zip\n",
      "3FO4MCUG3RQY_Bedroom.zip\n",
      "3FO4MCUG299I_Bedroom.zip\n",
      "3FO4MCUG1E69_Bedroom.zip\n",
      "3FO4MCU07HJL_Bedroom.zip\n",
      "3FO4MCTNS606_Dining_room.zip\n"
     ]
    },
    {
     "name": "stderr",
     "output_type": "stream",
     "text": [
      "Downloading...\n",
      "From: https://drive.google.com/uc?id=1InXTQBLEE0XG2uKzZd6OLMhc5gWWCqKM&export=download\n",
      "To: /media/scratch1/erbachj/Mask_RCNN/data/InteriorNet/data/HD7/train/3FO4MCTNS606_Dining_room.zip\n",
      "67.1MB [00:02, 27.7MB/s]\n"
     ]
    },
    {
     "name": "stdout",
     "output_type": "stream",
     "text": [
      "3FO4MCT06S81_Bedroom.zip\n",
      "3FO4MCSPTHS5_Bedroom.zip\n",
      "3FO4MCS9HPW5_Bedroom.zip\n",
      "3FO4MCS2BNQ2_Bedroom.zip\n",
      "3FO4MCRHMKSY_Bedroom.zip\n",
      "3FO4MCRERU15_Bedroom.zip\n",
      "3FO4MCRE13S5_Living_room.zip\n",
      "3FO4MCRE13S5_Bedroom.zip\n",
      "3FO4MCR4ABW8_Living_room.zip\n",
      "3FO4MCR4ABW8_Dining_room.zip\n"
     ]
    },
    {
     "name": "stderr",
     "output_type": "stream",
     "text": [
      "Downloading...\n",
      "From: https://drive.google.com/uc?id=1BvLXTPQ_6KBsBiBAcDwKkqR4bUjXsnFS&export=download\n",
      "To: /media/scratch1/erbachj/Mask_RCNN/data/InteriorNet/data/HD7/train/3FO4MCR4ABW8_Dining_room.zip\n",
      "62.7MB [00:00, 86.9MB/s]\n"
     ]
    },
    {
     "name": "stdout",
     "output_type": "stream",
     "text": [
      "3FO4MCR4ABW8_Bedroom.zip\n",
      "3FO4MCQYCS8M_Bedroom.zip\n",
      "3FO4MCQYBTSC_Bedroom.zip\n",
      "3FO4MCQTN73E_Bedroom.zip\n",
      "3FO4MCPS6KKL_Bedroom.zip\n",
      "3FO4MCPK5IHJ_Bedroom.zip\n",
      "3FO4MCPJGFVC_Bedroom.zip\n",
      "3FO4MCPDVN53_Bedroom.zip\n",
      "3FO4MCPC29HT_Living_room.zip\n",
      "3FO4MCOO9JT9_Bedroom.zip\n",
      "3FO4MCNNVPU2_Bedroom.zip\n",
      "3FO4MCNCL81R_Bedroom.zip\n",
      "3FO4MCN9XJO2_Bedroom.zip\n",
      "3FO4MCMXKJX1_Living_room.zip\n",
      "3FO4MCMXKJX1_Bedroom.zip\n",
      "3FO4MCLWMUGV_Bedroom.zip\n",
      "3FO4MCL3HU2T_Bedroom.zip\n",
      "3FO4MCKTRSPL_Bedroom.zip\n",
      "3FO4MCKSUIJX_Bedroom.zip\n",
      "3FO4MCKANOMH_Bedroom.zip\n",
      "3FO4MCJW02TC_Bedroom.zip\n",
      "3FO4MCJ69KD1_Bedroom.zip\n",
      "3FO4MCIXMGG5_Bedroom.zip\n",
      "3FO4MCIBUUOD_Bedroom.zip\n",
      "3FO4MCHWWHTB_Living_room.zip\n",
      "3FO4MCHWWHTB_Bedroom.zip\n",
      "3FO4MCHN42BL_Bedroom.zip\n",
      "3FO4MCGYEJ7I_Bedroom.zip\n",
      "3FO4MCGXO4RW_Living_room.zip\n",
      "3FO4MCGXO4RW_Bedroom.zip\n",
      "3FO4MCGUYWWQ_Bedroom.zip\n",
      "3FO4MCGUE7CJ_Bedroom.zip\n",
      "3FO4MCGSRQ8N_Bedroom.zip\n",
      "3FO4MCGRFMSK_Bedroom.zip\n",
      "3FO4MCGOQJAF_Bedroom.zip\n",
      "3FO4MCGNQ3RT_Living_room.zip\n",
      "3FO4MCGNQ3RT_Bedroom.zip\n",
      "3FO4MCGHH53C_Bedroom.zip\n",
      "3FO4MCGH5DST_Bedroom.zip\n",
      "3FO4MCGH0SBG_Bedroom.zip\n",
      "3FO4MCGGY9T0_Living_room.zip\n",
      "3FO4MCGGY9T0_Bedroom.zip\n",
      "3FO4MCGGXI2R_Bedroom.zip\n",
      "3FO4MCGGVV8A_Bedroom.zip\n",
      "3FO4MCGFALSG_Bedroom.zip\n",
      "3FO4MCFQ14UE_Living_room.zip\n",
      "3FO4MCFQ14UE_Bedroom.zip\n",
      "3FO4MCFM73OB_Bedroom.zip\n",
      "3FO4MCFBSEBJ_Bedroom.zip\n",
      "3FO4MCFBJBNT_Bedroom.zip\n",
      "3FO4MCF9OQCI_Bedroom.zip\n",
      "3FO4MCF4AATU_Living_room.zip\n",
      "3FO4MCET8G3M_Living_room.zip\n",
      "3FO4MCER0OCD_Living_room.zip\n",
      "3FO4MCEJ00MF_Bedroom.zip\n",
      "3FO4MCDYLM7J_Bedroom.zip\n",
      "3FO4MCD8XIBX_Living_room.zip\n",
      "3FO4MCD8XIBX_Dining_room.zip\n"
     ]
    },
    {
     "name": "stderr",
     "output_type": "stream",
     "text": [
      "Downloading...\n",
      "From: https://drive.google.com/uc?id=1kUgaiirmMI7cytg7Hp-E98hVpVcUQGW3&export=download\n",
      "To: /media/scratch1/erbachj/Mask_RCNN/data/InteriorNet/data/HD7/train/3FO4MCD8XIBX_Dining_room.zip\n",
      "60.6MB [00:01, 58.2MB/s]\n"
     ]
    },
    {
     "name": "stdout",
     "output_type": "stream",
     "text": [
      "3FO4MCD8XIBX_Bedroom.zip\n",
      "3FO4MCD1WLPE_Living_room.zip\n",
      "3FO4MCCGG464_Bedroom.zip\n",
      "3FO4MCC1KG5E_Bedroom.zip\n",
      "3FO4MCBBNBQK_Bedroom.zip\n",
      "3FO4MCAVCXSG_Living_room.zip\n",
      "3FO4MCAVCXSG_Bedroom.zip\n",
      "3FO4MC9I1PQN_Bedroom.zip\n",
      "3FO4MC986DDD_Bedroom.zip\n",
      "3FO4MC984D5R_Bedroom.zip\n",
      "3FO4MC9849SQ_Bedroom.zip\n",
      "3FO4MC98381F_Living_room.zip\n",
      "3FO4MC98381F_Bedroom.zip\n",
      "3FO4MC980MQN_Bedroom.zip\n",
      "3FO4MC97YOBD_Living_room.zip\n",
      "3FO4MC97YOBD_Bedroom.zip\n",
      "3FO4MC97WY4U_Living_room.zip\n",
      "3FO4MC97VMBG_Bedroom.zip\n",
      "3FO4MC97UXW9_Living_room.zip\n",
      "3FO4MC97UXW9_Bedroom.zip\n",
      "3FO4MC97UH74_Bedroom.zip\n",
      "3FO4MC97UDU3_Living_room.zip\n",
      "3FO4MC97UDU3_Dining_room.zip\n"
     ]
    },
    {
     "name": "stderr",
     "output_type": "stream",
     "text": [
      "Downloading...\n",
      "From: https://drive.google.com/uc?id=1pZq1RNoB-uom9Wd4XiIkOKjB-g63-nuT&export=download\n",
      "To: /media/scratch1/erbachj/Mask_RCNN/data/InteriorNet/data/HD7/train/3FO4MC97UDU3_Dining_room.zip\n",
      "71.1MB [00:01, 50.5MB/s]\n"
     ]
    },
    {
     "name": "stdout",
     "output_type": "stream",
     "text": [
      "3FO4MC97UDU3_Bedroom.zip\n",
      "3FO4MC97T8PQ_Bedroom.zip\n",
      "3FO4MC97SR0L_Bedroom.zip\n",
      "3FO4MC97QK3X_Bedroom.zip\n",
      "3FO4MC97DUE5_Bedroom.zip\n",
      "3FO4MC97DDO0_Bedroom.zip\n",
      "3FO4MC97D3MW_Bedroom.zip\n",
      "3FO4MC976YN3_Living_room.zip\n",
      "3FO4MC976YN3_Bedroom.zip\n",
      "3FO4MC976VB2_Bedroom.zip\n",
      "3FO4MC96YPIW_Living_room.zip\n",
      "3FO4MC96YPIW_Bedroom.zip\n",
      "3FO4MC96XUFN_Living_room.zip\n",
      "3FO4MC96XUFN_Bedroom.zip\n",
      "3FO4MC96QHYG_Living_room.zip\n",
      "3FO4MC96QHYG_Bedroom.zip\n",
      "3FO4MC969RTG_Bedroom.zip\n",
      "3FO4MC966MHI_Living_room.zip\n",
      "3FO4MC966MHI_Bedroom.zip\n",
      "3FO4MC8MN5MK_Bedroom.zip\n",
      "3FO4MC86532O_Bedroom.zip\n",
      "3FO4MC7DNCB2_Living_room.zip\n",
      "3FO4MC7DNCB2_Bedroom.zip\n",
      "3FO4MC6S1O78_Dining_room.zip\n"
     ]
    },
    {
     "name": "stderr",
     "output_type": "stream",
     "text": [
      "Downloading...\n",
      "From: https://drive.google.com/uc?id=1AhzYClJSFlzfo-AgbhnZNtAzMmJOBUPf&export=download\n",
      "To: /media/scratch1/erbachj/Mask_RCNN/data/InteriorNet/data/HD7/train/3FO4MC6S1O78_Dining_room.zip\n",
      "75.5MB [00:00, 92.4MB/s]\n"
     ]
    },
    {
     "name": "stdout",
     "output_type": "stream",
     "text": [
      "3FO4MC6S1O78_Bedroom.zip\n",
      "3FO4MC6CQB94_Bedroom.zip\n",
      "3FO4MC5W3PBC_Bedroom.zip\n",
      "3FO4MC5891MP_Bedroom.zip\n",
      "3FO4MC55RKLU_Bedroom.zip\n",
      "3FO4MC55RH9T_Living_room.zip\n",
      "3FO4MC55RH9T_Bedroom.zip\n",
      "3FO4MC55O58T_Bedroom.zip\n",
      "3FO4MC55O1VS_Living_room.zip\n",
      "3FO4MC55O1VS_Bedroom.zip\n",
      "3FO4MC55KVJU_Bedroom.zip\n",
      "3FO4MC55GOFL_Bedroom.zip\n",
      "3FO4MC55FMNA_Bedroom.zip\n",
      "3FO4MC4V84ET_Living_room.zip\n",
      "3FO4MC4V84ET_Bedroom.zip\n",
      "3FO4MC4V7TDQ_Living_room.zip\n",
      "3FO4MC4V7TDQ_Bedroom.zip\n",
      "3FO4MC4V6478_Living_room.zip\n",
      "3FO4MC4V6478_Bedroom.zip\n",
      "3FO4MC4V5CG0_Bedroom.zip\n",
      "3FO4MC4V4Y2V_Living_room.zip\n",
      "3FO4MC4V4Y2V_Bedroom.zip\n",
      "3FO4MC4V2XUA_Bedroom.zip\n",
      "3FO4MC4V1W2Y_Bedroom.zip\n",
      "3FO4MC4UUEP1_Bedroom.zip\n",
      "3FO4MC4UQ7KR_Bedroom.zip\n",
      "3FO4MC4UQ48Q_Bedroom.zip\n",
      "3FO4MC4UPWJO_Bedroom.zip\n",
      "3FO4MC4UP2GF_Bedroom.zip\n",
      "3FO4MC4UO7D6_Living_room.zip\n",
      "3FO4MC4UO7D6_Bedroom.zip\n",
      "3FO4MC4UKKB3_Bedroom.zip\n",
      "3FO4MC4UBAYB_Bedroom.zip\n",
      "3FO4MC4U7XXB_Bedroom.zip\n",
      "3FO4MC4U2LOP_Bedroom.zip\n",
      "3FO4MC4U28BL_Bedroom.zip\n",
      "3FO4MC4TXEKG_Living_room.zip\n",
      "3FO4MC4TXEKG_Bedroom.zip\n",
      "3FO4MC4PYEIV_Living_room.zip\n",
      "3FO4MC3URVTW_Bedroom.zip\n",
      "3FO4MC3MLE68_Bedroom.zip\n",
      "3FO4MC3KL9W9_Bedroom.zip\n",
      "3FO4MC3B1M16_Living_room.zip\n",
      "3FO4MC3B1M16_Bedroom.zip\n",
      "3FO4MC36LA7P_Bedroom.zip\n",
      "3FO4MC344CGP_Bedroom.zip\n",
      "3FO4MC2UD2N4_Living_room.zip\n",
      "3FO4MC2UD2N4_Bedroom.zip\n",
      "3FO4MC2N3K40_Bedroom.zip\n",
      "3FO4MC25QTFJ_Bedroom.zip\n",
      "3FO4MC1WVYOC_Bedroom.zip\n",
      "3FO4MC0TEUJG_Bedroom.zip\n",
      "3FO4MC0QVOC3_Bedroom.zip\n",
      "3FO4MC0QRKJU_Bedroom.zip\n",
      "3FO4MC0QPR1B_Living_room.zip\n",
      "3FO4MC0QPR1B_Dining_room.zip\n"
     ]
    },
    {
     "name": "stderr",
     "output_type": "stream",
     "text": [
      "Downloading...\n",
      "From: https://drive.google.com/uc?id=1-NkRuaaAGjvtk5GpFyORbREEZVMhH8Hh&export=download\n",
      "To: /media/scratch1/erbachj/Mask_RCNN/data/InteriorNet/data/HD7/train/3FO4MC0QPR1B_Dining_room.zip\n",
      "60.3MB [00:03, 18.4MB/s]\n"
     ]
    },
    {
     "name": "stdout",
     "output_type": "stream",
     "text": [
      "3FO4MC0FPNO5_Bedroom.zip\n",
      "3FO4MC0FNA3F_Bedroom.zip\n",
      "3FO4MC0FN3ED_Bedroom.zip\n",
      "3FO4MC0FMVPB_Bedroom.zip\n",
      "3FO4MC0FMBN5_Bedroom.zip\n",
      "3FO4MC0FDCCG_Bedroom.zip\n",
      "3FO4MC0FD5NE_Bedroom.zip\n",
      "3FO4MC0FCKL8_Bedroom.zip\n",
      "3FO4MC0F1OEY_Dining_room.zip\n"
     ]
    },
    {
     "name": "stderr",
     "output_type": "stream",
     "text": [
      "Downloading...\n",
      "From: https://drive.google.com/uc?id=1aejk70_44OM95-ZJJmM1C7PkQm1WqlSa&export=download\n",
      "To: /media/scratch1/erbachj/Mask_RCNN/data/InteriorNet/data/HD7/train/3FO4MC0F1OEY_Dining_room.zip\n",
      "64.4MB [00:04, 13.4MB/s]\n"
     ]
    },
    {
     "name": "stdout",
     "output_type": "stream",
     "text": [
      "3FO4MC0F1OEY_Bedroom.zip\n",
      "3FO4MC0EYRJE_Bedroom.zip\n",
      "3FO4MBYC2PKI_Bedroom.zip\n",
      "3FO4MBY5SXK3_Bedroom.zip\n",
      "3FO4MBXXUSWD_Bedroom.zip\n",
      "3FO4MBVUBKAH_Bedroom.zip\n",
      "3FO4MBUPLJTR_Living_room.zip\n",
      "3FO4MBUOO9O4_Bedroom.zip\n",
      "3FO4MBSJYSD7_Bedroom.zip\n",
      "3FO4MBMDBWMD_Bedroom.zip\n",
      "3FO4MBKAE9NX_Living_room.zip\n",
      "3FO4MBKA3GTP_Bedroom.zip\n",
      "3FO4MBK95BKS_Living_room.zip\n",
      "3FO4MBK7YC5J_Living_room.zip\n",
      "3FO4MBI25VLY_Bedroom.zip\n",
      "3FO4MC0EVM7G_Living_room.zip\n",
      "3FO4MC0EVM7G_Bedroom.zip\n",
      "3FO4MC0EUAE2_Bedroom.zip\n",
      "3FO4MC0ETIMT_Bedroom.zip\n",
      "3FO4MC0ET59P_Living_room.zip\n",
      "3FO4MC0ET59P_Bedroom.zip\n",
      "3FO4MC0ES3HE_Bedroom.zip\n",
      "3FO4MC0ENOO3_Bedroom.zip\n",
      "3FO4MC0ELYHK_Bedroom.zip\n",
      "3FO4MC0EKJC5_Bedroom.zip\n",
      "3FO4MC0EHHC8_Bedroom.zip\n",
      "3FO4MC0EFXTR_Bedroom.zip\n",
      "3FO4MC0EFH4M_Living_room.zip\n",
      "3FO4MC0EEW2G_Bedroom.zip\n",
      "3FO4MC0E7G98_Bedroom.zip\n",
      "3FO4MC0DOV0Y_Bedroom.zip\n",
      "3FO4MC0DOAXS_Bedroom.zip\n",
      "3FO4MC0DBOL1_Bedroom.zip\n",
      "3FO4MC0A9OO1_Bedroom.zip\n",
      "3FO4MBYHHWTE_Bedroom.zip\n",
      "3FO4MBYG7JKT_Bedroom.zip\n",
      "3FO4MBYFHSKF_Bedroom.zip\n",
      "3FO4MBYEGLBL_Bedroom.zip\n",
      "3FO4MBYC8JJ9_Living_room.zip\n",
      "3FO4MBYC8JJ9_Dining_room.zip\n"
     ]
    },
    {
     "name": "stderr",
     "output_type": "stream",
     "text": [
      "Downloading...\n",
      "From: https://drive.google.com/uc?id=1zIZDRcUXNCrUXs7H_LAwsrRwBBTL8RsO&export=download\n",
      "To: /media/scratch1/erbachj/Mask_RCNN/data/InteriorNet/data/HD7/train/3FO4MBYC8JJ9_Dining_room.zip\n",
      "60.7MB [00:00, 66.0MB/s]\n"
     ]
    },
    {
     "name": "stdout",
     "output_type": "stream",
     "text": [
      "3FO4MBYC8JJ9_Bedroom.zip\n",
      "3FO4MBYC57I9_Bedroom.zip\n",
      "3FO4MBYC3O0S_Bedroom.zip\n",
      "3FO4MBYA56LB_Bedroom.zip\n",
      "3FO4MBYA4VK8_Bedroom.zip\n",
      "3FO4MBYA3TRW_Bedroom.zip\n",
      "3FO4MBYA219D_Bedroom.zip\n",
      "3FO4MBY9XAU9_Bedroom.zip\n",
      "3FO4MBY9GE17_Bedroom.zip\n",
      "3FO4MBY9EXUR_Bedroom.zip\n",
      "3FO4MBY7KU9L_Bedroom.zip\n",
      "3FO4MBY7IK0W_Bedroom.zip\n",
      "3FO4MBY7I6MS_Living_room.zip\n",
      "3FO4MBY7I6MS_Dining_room.zip\n"
     ]
    },
    {
     "name": "stderr",
     "output_type": "stream",
     "text": [
      "Downloading...\n",
      "From: https://drive.google.com/uc?id=1EWdSLqUxxLDbXQiERcg5TSv2Qrm3gB-8&export=download\n",
      "To: /media/scratch1/erbachj/Mask_RCNN/data/InteriorNet/data/HD7/train/3FO4MBY7I6MS_Dining_room.zip\n",
      "52.6MB [00:01, 30.4MB/s]\n"
     ]
    },
    {
     "name": "stdout",
     "output_type": "stream",
     "text": [
      "3FO4MBY7I6MS_Bedroom.zip\n",
      "3FO4MBY5TLYA_Bedroom.zip\n",
      "3FO4MBY5SXK3_Living_room.zip\n",
      "3FO4MBY5QNBE_Bedroom.zip\n",
      "3FO4MBY3XBGG_Bedroom.zip\n",
      "3FO4MBY3RY7U_Bedroom.zip\n",
      "3FO4MBY3RE5O_Living_room.zip\n",
      "3FO4MBY3RE5O_Dining_room.zip\n"
     ]
    },
    {
     "name": "stderr",
     "output_type": "stream",
     "text": [
      "Downloading...\n",
      "From: https://drive.google.com/uc?id=1vPABw0Q6N9P6YisBbIMlr6vbOvDhySmf&export=download\n",
      "To: /media/scratch1/erbachj/Mask_RCNN/data/InteriorNet/data/HD7/train/3FO4MBY3RE5O_Dining_room.zip\n",
      "37.3MB [00:00, 38.7MB/s]\n"
     ]
    },
    {
     "name": "stdout",
     "output_type": "stream",
     "text": [
      "3FO4MBY3RE5O_Bedroom.zip\n",
      "3FO4MBY3OSUW_Bedroom.zip\n",
      "3FO4MBY0QG10_Bedroom.zip\n",
      "3FO4MBY0P47L_Bedroom.zip\n",
      "3FO4MBY0NRE7_Bedroom.zip\n",
      "3FO4MBY0L74F_Bedroom.zip\n",
      "3FO4MBY0KM29_Bedroom.zip\n",
      "3FO4MBXXYJBH_Living_room.zip\n",
      "3FO4MBXXYJBH_Bedroom.zip\n",
      "3FO4MBXXT72V_Bedroom.zip\n",
      "3FO4MBXTUDPD_Bedroom.zip\n",
      "3FO4MBXTL4DL_Living_room.zip\n",
      "3FO4MBXTL4DL_Bedroom.zip\n",
      "3FO4MBXT4UXQ_Bedroom.zip\n",
      "3FO4MBXQ362T_Bedroom.zip\n",
      "3FO4MBXNG2RA_Bedroom.zip\n",
      "3FO4MBXN39PG_Bedroom.zip\n",
      "3FO4MBXAO62M_Bedroom.zip\n",
      "3FO4MBWT78M3_Bedroom.zip\n",
      "3FO4MBWR8MUK_Living_room.zip\n",
      "3FO4MBWR8MUK_Dining_room.zip\n"
     ]
    },
    {
     "name": "stderr",
     "output_type": "stream",
     "text": [
      "Downloading...\n",
      "From: https://drive.google.com/uc?id=1D-uFL_osDt7ddbUtmHD_gtxy26RsKDOF&export=download\n",
      "To: /media/scratch1/erbachj/Mask_RCNN/data/InteriorNet/data/HD7/train/3FO4MBWR8MUK_Dining_room.zip\n",
      "74.2MB [00:04, 15.8MB/s]\n"
     ]
    },
    {
     "name": "stdout",
     "output_type": "stream",
     "text": [
      "3FO4MBWR8MUK_Bedroom.zip\n",
      "3FO4MBVWRWYB_Bedroom.zip\n",
      "3FO4MBVOWBGV_Bedroom.zip\n",
      "3FO4MBV51G5R_Bedroom.zip\n",
      "3FO4MBURDX9F_Dining_room.zip\n"
     ]
    },
    {
     "name": "stderr",
     "output_type": "stream",
     "text": [
      "Downloading...\n",
      "From: https://drive.google.com/uc?id=171TGkLnfnMBtoYa2yEanWCpWMDWaPXNz&export=download\n",
      "To: /media/scratch1/erbachj/Mask_RCNN/data/InteriorNet/data/HD7/train/3FO4MBURDX9F_Dining_room.zip\n",
      "72.0MB [00:00, 90.9MB/s]\n"
     ]
    },
    {
     "name": "stdout",
     "output_type": "stream",
     "text": [
      "3FO4MBUQ48F2_Bedroom.zip\n",
      "3FO4MBUQ3GNT_Bedroom.zip\n",
      "3FO4MBUPYQ9P_Living_room.zip\n",
      "3FO4MBUPYQ9P_Bedroom.zip\n",
      "3FO4MBUPY2UI_Bedroom.zip\n",
      "3FO4MBUPWJD2_Living_room.zip\n",
      "3FO4MBUPWJD2_Bedroom.zip\n",
      "3FO4MBUPUJ5G_Bedroom.zip\n",
      "3FO4MBUPRH5J_Bedroom.zip\n",
      "3FO4MBUPLTUU_Bedroom.zip\n",
      "3FO4MBUPLN6S_Bedroom.zip\n",
      "3FO4MBUPLJTR_Bedroom.zip\n",
      "3FO4MBUPJMY7_Bedroom.zip\n",
      "3FO4MBUPIYK0_Living_room.zip\n",
      "3FO4MBUPIYK0_Bedroom.zip\n",
      "3FO4MBUPHTFN_Bedroom.zip\n",
      "3FO4MBUPH61G_Bedroom.zip\n",
      "3FO4MBUPF5SU_Bedroom.zip\n",
      "3FO4MBUPE41J_Bedroom.zip\n",
      "3FO4MBUPDCAB_Living_room.zip\n",
      "3FO4MBUPDCAB_Bedroom.zip\n",
      "3FO4MBUP9LV7_Bedroom.zip\n",
      "3FO4MBUP7VOO_Bedroom.zip\n",
      "3FO4MBUP69U7_Bedroom.zip\n",
      "3FO4MBUOVC48_Bedroom.zip\n",
      "3FO4MBUO5JBI_Bedroom.zip\n",
      "3FO4MBUO4HJ7_Bedroom.zip\n",
      "3FO4MBTNYOFE_Bedroom.zip\n",
      "3FO4MBTNL7YD_Bedroom.zip\n",
      "3FO4MBTK1WU7_Living_room.zip\n",
      "3FO4MBTFPS60_Living_room.zip\n",
      "3FO4MBTFPS60_Bedroom.zip\n",
      "3FO4MBTF3PRE_Living_room.zip\n",
      "3FO4MBTF3PRE_Guest_room.zip\n"
     ]
    },
    {
     "name": "stderr",
     "output_type": "stream",
     "text": [
      "Downloading...\n",
      "From: https://drive.google.com/uc?id=1txlBLG7ShgzPQJgOuvNH0YaAKfPErtTN&export=download\n",
      "To: /media/scratch1/erbachj/Mask_RCNN/data/InteriorNet/data/HD7/train/3FO4MBTF3PRE_Guest_room.zip\n",
      "56.1MB [00:04, 13.9MB/s]\n"
     ]
    },
    {
     "name": "stdout",
     "output_type": "stream",
     "text": [
      "3FO4MBTF3PRE_Bedroom.zip\n",
      "3FO4MBT5K1BL_Living_room.zip\n",
      "3FO4MBT5K1BL_Bedroom.zip\n",
      "3FO4MBT05O5Y_Bedroom.zip\n",
      "3FO4MBSS0DQ4_Bedroom.zip\n",
      "3FO4MBS8HVJ0_Bedroom.zip\n",
      "3FO4MBS3U0KA_Bedroom.zip\n",
      "3FO4MBRULEBY_Bedroom.zip\n",
      "3FO4MBQM6TUI_Bedroom.zip\n",
      "3FO4MBQJ6NH2_Bedroom.zip\n",
      "3FO4MBQCXD6R_Living_room.zip\n",
      "3FO4MBQ5LUF2_Bedroom.zip\n",
      "3FO4MBPLA76O_Dining_room.zip\n"
     ]
    },
    {
     "name": "stderr",
     "output_type": "stream",
     "text": [
      "Downloading...\n",
      "From: https://drive.google.com/uc?id=1VJ0TkieOUDXo9XgotBFrWCMQ1PBhTBHT&export=download\n",
      "To: /media/scratch1/erbachj/Mask_RCNN/data/InteriorNet/data/HD7/train/3FO4MBPLA76O_Dining_room.zip\n",
      "61.4MB [00:01, 50.2MB/s]\n"
     ]
    },
    {
     "name": "stdout",
     "output_type": "stream",
     "text": [
      "3FO4MBNHXED1_Bedroom.zip\n",
      "3FO4MBNH49JB_Bedroom.zip\n",
      "3FO4MBN5SXF3_Bedroom.zip\n",
      "3FO4MBN4IXJM_Bedroom.zip\n",
      "3FO4MBN3PUI8_Bedroom.zip\n",
      "3FO4MBMU6QGR_Bedroom.zip\n",
      "3FO4MBM0B1M1_Living_room.zip\n",
      "3FO4MBM0B1M1_Dining_room.zip\n"
     ]
    },
    {
     "name": "stderr",
     "output_type": "stream",
     "text": [
      "Downloading...\n",
      "From: https://drive.google.com/uc?id=1ZFA2utNImtzNimOize8BT_j8twwrMkOf&export=download\n",
      "To: /media/scratch1/erbachj/Mask_RCNN/data/InteriorNet/data/HD7/train/3FO4MBM0B1M1_Dining_room.zip\n",
      "53.8MB [00:01, 27.5MB/s]\n"
     ]
    },
    {
     "name": "stdout",
     "output_type": "stream",
     "text": [
      "3FO4MBM0B1M1_Bedroom.zip\n",
      "3FO4MBLNOWNK_Bedroom.zip\n",
      "3FO4MBKUD3MX_Bedroom.zip\n",
      "3FO4MBKU81FF_Bedroom.zip\n",
      "3FO4MBKNTKKL_Bedroom.zip\n",
      "3FO4MBKNK4JR_Dining_room.zip\n"
     ]
    },
    {
     "name": "stderr",
     "output_type": "stream",
     "text": [
      "Downloading...\n",
      "From: https://drive.google.com/uc?id=10XOWG67g7fgt9c8CvhBCxZ901p--fMz3&export=download\n",
      "To: /media/scratch1/erbachj/Mask_RCNN/data/InteriorNet/data/HD7/train/3FO4MBKNK4JR_Dining_room.zip\n",
      "61.2MB [00:00, 68.4MB/s]\n"
     ]
    },
    {
     "name": "stdout",
     "output_type": "stream",
     "text": [
      "3FO4MBKNK4JR_Bedroom.zip\n",
      "3FO4MBKB2AHT_Living_room.zip\n",
      "3FO4MBKB2AHT_Bedroom.zip\n",
      "3FO4MBKB1M3M_Bedroom.zip\n",
      "3FO4MBKAKABQ_Bedroom.zip\n",
      "3FO4MBKAIGS7_Bedroom.zip\n",
      "3FO4MBKAE9NX_Bedroom.zip\n",
      "3FO4MBKAD7VM_Living_room.zip\n",
      "3FO4MBKAD7VM_Bedroom.zip\n",
      "3FO4MBKACTII_Living_room.zip\n",
      "3FO4MBKACTII_Bedroom.zip\n",
      "3FO4MBKABL25_Bedroom.zip\n",
      "3FO4MBKAB0YY_Living_room.zip\n",
      "3FO4MBKAB0YY_Bedroom.zip\n",
      "3FO4MBKA9UUM_Bedroom.zip\n",
      "3FO4MBKA8WFC_Bedroom.zip\n",
      "3FO4MBKA5XRG_Bedroom.zip\n",
      "3FO4MBKA48KX_Bedroom.zip\n",
      "3FO4MBKA3U7T_Living_room.zip\n",
      "3FO4MBKA3U7T_Bedroom.zip\n",
      "3FO4MBKA2P3H_Living_room.zip\n",
      "3FO4MBKA2P3H_Dining_room.zip\n"
     ]
    },
    {
     "name": "stderr",
     "output_type": "stream",
     "text": [
      "Downloading...\n",
      "From: https://drive.google.com/uc?id=1usXZJt1gjfqlXyHO9fr0_Fj_h8k9afEx&export=download\n",
      "To: /media/scratch1/erbachj/Mask_RCNN/data/InteriorNet/data/HD7/train/3FO4MBKA2P3H_Dining_room.zip\n",
      "56.1MB [00:02, 22.1MB/s]\n"
     ]
    },
    {
     "name": "stdout",
     "output_type": "stream",
     "text": [
      "3FO4MBKA2P3H_Bedroom.zip\n",
      "3FO4MBKA2BPD_Bedroom.zip\n",
      "3FO4MBKA0VJX_Bedroom.zip\n",
      "3FO4MBKA0LIU_Living_room.zip\n",
      "3FO4MBKA0LIU_Bedroom.zip\n",
      "3FO4MBK9V11H_Bedroom.zip\n",
      "3FO4MBK9UMND_Bedroom.zip\n",
      "3FO4MBK9PAER_Bedroom.zip\n",
      "3FO4MBK9JN53_Bedroom.zip\n",
      "3FO4MBK9J6EX_Bedroom.zip\n",
      "3FO4MBK9G7R2_Living_room.zip\n",
      "3FO4MBK9BPLP_Bedroom.zip\n",
      "3FO4MBK95BKS_Bedroom.zip\n",
      "3FO4MBK92MY0_Living_room.zip\n",
      "3FO4MBK92MY0_Bedroom.zip\n",
      "3FO4MBK8YAX0_Bedroom.zip\n",
      "3FO4MBK8WKQH_Dining_room.zip\n"
     ]
    },
    {
     "name": "stderr",
     "output_type": "stream",
     "text": [
      "Downloading...\n",
      "From: https://drive.google.com/uc?id=1iPNE29ZSctLvZ07kFLBxGxEHKlcluh8c&export=download\n",
      "To: /media/scratch1/erbachj/Mask_RCNN/data/InteriorNet/data/HD7/train/3FO4MBK8WKQH_Dining_room.zip\n",
      "48.0MB [00:01, 25.6MB/s]\n"
     ]
    },
    {
     "name": "stdout",
     "output_type": "stream",
     "text": [
      "3FO4MBK8WKQH_Bedroom.zip\n",
      "3FO4MBK8PP0F_Bedroom.zip\n",
      "3FO4MBK8OTW6_Living_room.zip\n",
      "3FO4MBK8OTW6_Bedroom.zip\n",
      "3FO4MBK8KMRW_Bedroom.zip\n",
      "3FO4MBK8GPOQ_Bedroom.zip\n",
      "3FO4MBK8DR1U_Living_room.zip\n",
      "3FO4MBK8DR1U_Bedroom.zip\n",
      "3FO4MBK83CKQ_Bedroom.zip\n",
      "3FO4MBK7YC5J_Bedroom.zip\n",
      "3FO4MBJYQEBF_Bedroom.zip\n",
      "3FO4MBJUBCJ2_Living_room.zip\n",
      "3FO4MBJUBCJ2_Dining_room.zip\n"
     ]
    },
    {
     "name": "stderr",
     "output_type": "stream",
     "text": [
      "Downloading...\n",
      "From: https://drive.google.com/uc?id=1GVf3qTIoezlg9h6osQvpBIPfNCcTavTl&export=download\n",
      "To: /media/scratch1/erbachj/Mask_RCNN/data/InteriorNet/data/HD7/train/3FO4MBJUBCJ2_Dining_room.zip\n",
      "85.1MB [00:01, 46.3MB/s]\n"
     ]
    },
    {
     "name": "stdout",
     "output_type": "stream",
     "text": [
      "3FO4MBJUBCJ2_Bedroom.zip\n",
      "3FO4MBJTKGEB_Bedroom.zip\n",
      "3FO4MBJTJB9Y_Bedroom.zip\n",
      "3FO4MBJS94PG_Bedroom.zip\n",
      "3FO4MBJRO5VH_Bedroom.zip\n",
      "3FO4MBJRMME1_Bedroom.zip\n",
      "3FO4MBJF07TP_Bedroom.zip\n",
      "3FO4MBI7R4IN_Bedroom.zip\n",
      "3FO4MBI3IU5B_Bedroom.zip\n",
      "3FO4MBI25VLY_Living_room.zip\n",
      "3FO4MKFDP82B_Living_room.zip\n",
      "3FO4MIC7ABEI_Living_room.zip\n",
      "3FO4MGG3SO25_Bedroom.zip\n",
      "3FO4MFHJMFYE_Bedroom.zip\n",
      "3FO4MEJSBLSD_Bedroom.zip\n",
      "3FO4MDNLC6R0_Bedroom.zip\n",
      "3FO4MCTNS606_Bedroom.zip\n",
      "3FO4MC0EAI95_Bedroom.zip\n",
      "3FO4MBERP31X_Bedroom.zip\n",
      "3FO4MB0EULHF_Living_room.zip\n",
      "3FO4MA9IEE90_Dining_room.zip\n"
     ]
    },
    {
     "name": "stderr",
     "output_type": "stream",
     "text": [
      "Downloading...\n",
      "From: https://drive.google.com/uc?id=1hliKLloqJsp2Dy0AbgjVckanAcyUZ2P6&export=download\n",
      "To: /media/scratch1/erbachj/Mask_RCNN/data/InteriorNet/data/HD7/train/3FO4MA9IEE90_Dining_room.zip\n",
      "47.6MB [00:00, 61.7MB/s]\n"
     ]
    },
    {
     "name": "stdout",
     "output_type": "stream",
     "text": [
      "3FO4M9TW8WUG_Bedroom.zip\n",
      "3FO4M97HPAUC_Bedroom.zip\n",
      "3FO4M7M8S30Y_Bedroom.zip\n",
      "3FO4M6QP7TYL_Bedroom.zip\n",
      "3FO4M5NF017R_Dining_room.zip\n"
     ]
    },
    {
     "name": "stderr",
     "output_type": "stream",
     "text": [
      "Downloading...\n",
      "From: https://drive.google.com/uc?id=1Amo-Sca0ifLc2xVo_3fxNBUO4_jpoF3m&export=download\n",
      "To: /media/scratch1/erbachj/Mask_RCNN/data/InteriorNet/data/HD7/train/3FO4M5NF017R_Dining_room.zip\n",
      "72.2MB [00:02, 35.1MB/s]\n"
     ]
    },
    {
     "name": "stdout",
     "output_type": "stream",
     "text": [
      "3FO4M4UMCVMP_Bedroom.zip\n",
      "3FO4M3RU62TL_Bedroom.zip\n",
      "3FO4M1WKV62S_Bedroom.zip\n",
      "3FO4LYSQD1XA_Bedroom.zip\n",
      "3FO4LWHI6RX8_Bedroom.zip\n",
      "3FO4LUA5W23P_Bedroom.zip\n",
      "3FO4LPLXB6CX_Bedroom.zip\n",
      "3FO4MBE2JQ3N_Living_room.zip\n",
      "3FO4MBE2CXOM_Bedroom.zip\n",
      "3FO4MBE1Q9O5_Bedroom.zip\n",
      "3FO4MBDBC548_Bedroom.zip\n",
      "3FO4MBCXP3X1_Bedroom.zip\n",
      "3FO4MBCW8SDO_Bedroom.zip\n",
      "3FO4MBBGTUS5_Dining_room.zip\n"
     ]
    },
    {
     "name": "stderr",
     "output_type": "stream",
     "text": [
      "Downloading...\n",
      "From: https://drive.google.com/uc?id=1MsBrfyyWp0DigHXPaJ6EHSImTJf47OyP&export=download\n",
      "To: /media/scratch1/erbachj/Mask_RCNN/data/InteriorNet/data/HD7/train/3FO4MBBGTUS5_Dining_room.zip\n",
      "68.4MB [00:01, 51.8MB/s]\n"
     ]
    },
    {
     "name": "stdout",
     "output_type": "stream",
     "text": [
      "3FO4MB9XBX30_Living_room.zip\n",
      "3FO4MB8UG4KH_Bedroom.zip\n",
      "3FO4MB553T41_Bedroom.zip\n",
      "3FO4MB508KO4_Bedroom.zip\n",
      "3FO4MB19XUHF_Bedroom.zip\n",
      "3FO4MB0FAORX_Bedroom.zip\n",
      "3FO4MBI1XJ5R_Living_room.zip\n",
      "3FO4MBI1XJ5R_Bedroom.zip\n",
      "3FO4MBHPSKA5_Bedroom.zip\n",
      "3FO4MBHB1Q0K_Bedroom.zip\n",
      "3FO4MBGWIGG1_Bedroom.zip\n",
      "3FO4MBGFA9HM_Bedroom.zip\n",
      "3FO4MBG9P018_Bedroom.zip\n",
      "3FO4MBG1OENB_Bedroom.zip\n",
      "3FO4MBFOLDUS_Bedroom.zip\n",
      "3FO4MBFM4G4S_Bedroom.zip\n",
      "3FO4MBFJOBWC_Bedroom.zip\n",
      "3FO4MBFIS3J0_Living_room.zip\n",
      "3FO4MBFIS3J0_Dining_room.zip\n"
     ]
    },
    {
     "name": "stderr",
     "output_type": "stream",
     "text": [
      "Downloading...\n",
      "From: https://drive.google.com/uc?id=1-29pcZ039pfAcRGEJtikF7uxugYnbkyN&export=download\n",
      "To: /media/scratch1/erbachj/Mask_RCNN/data/InteriorNet/data/HD7/train/3FO4MBFIS3J0_Dining_room.zip\n",
      "59.8MB [00:00, 68.7MB/s]\n"
     ]
    },
    {
     "name": "stdout",
     "output_type": "stream",
     "text": [
      "3FO4MBFIS3J0_Bedroom.zip\n",
      "3FO4MBEQKPG6_Guest_room.zip\n"
     ]
    },
    {
     "name": "stderr",
     "output_type": "stream",
     "text": [
      "Downloading...\n",
      "From: https://drive.google.com/uc?id=1B1p-pCtlB09jZWBKBFKtgBIp49vtvF4N&export=download\n",
      "To: /media/scratch1/erbachj/Mask_RCNN/data/InteriorNet/data/HD7/train/3FO4MBEQKPG6_Guest_room.zip\n",
      "54.3MB [00:00, 90.7MB/s]\n"
     ]
    },
    {
     "name": "stdout",
     "output_type": "stream",
     "text": [
      "3FO4MBEQKPG6_Bedroom.zip\n",
      "3FO4MBEAADPL_Bedroom.zip\n",
      "3FO4MBE32LD0_Bedroom.zip\n",
      "3FO4MBE321AT_Living_room.zip\n",
      "3FO4MBE321AT_Bedroom.zip\n",
      "3FO4MBE319JL_Bedroom.zip\n",
      "3FO4MBE30HSD_Living_room.zip\n",
      "3FO4MBE30HSD_Dining_room.zip\n"
     ]
    },
    {
     "name": "stderr",
     "output_type": "stream",
     "text": [
      "Downloading...\n",
      "From: https://drive.google.com/uc?id=1GQ6sVqX-lDt9_lLXzHCx2QiJ4CKnz1DM&export=download\n",
      "To: /media/scratch1/erbachj/Mask_RCNN/data/InteriorNet/data/HD7/train/3FO4MBE30HSD_Dining_room.zip\n",
      "66.8MB [00:01, 41.0MB/s]\n"
     ]
    },
    {
     "name": "stdout",
     "output_type": "stream",
     "text": [
      "3FO4MBE30HSD_Bedroom.zip\n",
      "3FO4MBE2QF5N_Living_room.zip\n",
      "3FO4MBE2QF5N_Bedroom.zip\n",
      "3FO4MBE2NN6T_Bedroom.zip\n",
      "3FO4MBE2MI2H_Bedroom.zip\n",
      "3FO4MBE2JQ3N_Bedroom.zip\n",
      "3FO4MBE2IRND_Bedroom.zip\n",
      "3FO4MBE2H2GU_Living_room.zip\n",
      "3FO4MBE2H2GU_Dining_room.zip\n"
     ]
    },
    {
     "name": "stderr",
     "output_type": "stream",
     "text": [
      "Downloading...\n",
      "From: https://drive.google.com/uc?id=1tETzlkkVlaiyeLtDZB6QpWNTO3Fhlacn&export=download\n",
      "To: /media/scratch1/erbachj/Mask_RCNN/data/InteriorNet/data/HD7/train/3FO4MBE2H2GU_Dining_room.zip\n",
      "66.4MB [00:00, 73.2MB/s]\n"
     ]
    },
    {
     "name": "stdout",
     "output_type": "stream",
     "text": [
      "3FO4MBE2H2GU_Bedroom.zip\n",
      "3FO4MBE2GY4T_Living_room.zip\n",
      "3FO4MBE2GY4T_Bedroom.zip\n",
      "3FO4MBE2GE2N_Bedroom.zip\n",
      "3FO4MBE2GAPM_Bedroom.zip\n",
      "3FO4MBE2FCAC_Bedroom.zip\n",
      "3FO4MBE2EXW8_Guest_room.zip\n"
     ]
    },
    {
     "name": "stderr",
     "output_type": "stream",
     "text": [
      "Downloading...\n",
      "From: https://drive.google.com/uc?id=1JfUu-Umu2hhXLP35wu6lKxdwlFbawzfo&export=download\n",
      "To: /media/scratch1/erbachj/Mask_RCNN/data/InteriorNet/data/HD7/train/3FO4MBE2EXW8_Guest_room.zip\n",
      "65.9MB [00:02, 24.7MB/s]\n"
     ]
    },
    {
     "name": "stdout",
     "output_type": "stream",
     "text": [
      "3FO4MBE2EXW8_Bedroom.zip\n",
      "3FO4MBE2E0GX_Bedroom.zip\n",
      "3FO4MBE2CXOM_Living_room.zip\n",
      "3FO4MBE2CNNJ_Bedroom.zip\n",
      "3FO4MBE29VOP_Bedroom.zip\n",
      "3FO4MBE29LNM_Living_room.zip\n",
      "3FO4MBE29LNM_Bedroom.zip\n",
      "3FO4MBE266AL_Bedroom.zip\n",
      "3FO4MBE249F1_Bedroom.zip\n",
      "3FO4MBE23HNS_Bedroom.zip\n",
      "3FO4MBE22FVH_Living_room.zip\n",
      "3FO4MBE22FVH_Bedroom.zip\n",
      "3FO4MBE1T500_Living_room.zip\n",
      "3FO4MBE1T500_Dining_room.zip\n"
     ]
    },
    {
     "name": "stderr",
     "output_type": "stream",
     "text": [
      "Downloading...\n",
      "From: https://drive.google.com/uc?id=1fsLav9WBNQdQJ78gjlmCPhA_ntGlzAFs&export=download\n",
      "To: /media/scratch1/erbachj/Mask_RCNN/data/InteriorNet/data/HD7/train/3FO4MBE1T500_Dining_room.zip\n",
      "39.3MB [00:00, 88.5MB/s]\n"
     ]
    },
    {
     "name": "stdout",
     "output_type": "stream",
     "text": [
      "3FO4MBE1T500_Bedroom.zip\n",
      "3FO4MBE1Q9O5_Living_room.zip\n",
      "3FO4MBE1Q9O5_Dining_room.zip\n"
     ]
    },
    {
     "name": "stderr",
     "output_type": "stream",
     "text": [
      "Downloading...\n",
      "From: https://drive.google.com/uc?id=1g6BHgSsYSQ1uZe1ZpKCAgEInXhKwhEIe&export=download\n",
      "To: /media/scratch1/erbachj/Mask_RCNN/data/InteriorNet/data/HD7/train/3FO4MBE1Q9O5_Dining_room.zip\n",
      "72.8MB [00:01, 70.9MB/s]\n"
     ]
    },
    {
     "name": "stdout",
     "output_type": "stream",
     "text": [
      "3FO4MBE1OG5L_Bedroom.zip\n",
      "3FO4MBE1MCKY_Living_room.zip\n",
      "3FO4MBE1MCKY_Bedroom.zip\n",
      "3FO4MBE1GSNB_Bedroom.zip\n",
      "3FO4MBE1C85X_Bedroom.zip\n",
      "3FO4MBE12NS3_Living_room.zip\n",
      "3FO4MBE12NS3_Bedroom.zip\n",
      "3FO4MBE10U9J_Bedroom.zip\n",
      "3FO4MBDS6KKI_Guest_room.zip\n"
     ]
    },
    {
     "name": "stderr",
     "output_type": "stream",
     "text": [
      "Downloading...\n",
      "From: https://drive.google.com/uc?id=1KnOi5qSF4Cq9m_hz_xXJB7QQGjMv3mEI&export=download\n",
      "To: /media/scratch1/erbachj/Mask_RCNN/data/InteriorNet/data/HD7/train/3FO4MBDS6KKI_Guest_room.zip\n",
      "53.2MB [00:01, 44.0MB/s]\n"
     ]
    },
    {
     "name": "stdout",
     "output_type": "stream",
     "text": [
      "3FO4MBDS6KKI_Bedroom.zip\n",
      "3FO4MBDPX5F2_Bedroom.zip\n",
      "3FO4MBDNOSLM_Living_room.zip\n",
      "3FO4MBDNOSLM_Bedroom.zip\n",
      "3FO4MBDBC548_Living_room.zip\n",
      "3FO4MBD7NQ7T_Bedroom.zip\n",
      "3FO4MBCYAG54_Bedroom.zip\n",
      "3FO4MBCYA9G2_Bedroom.zip\n",
      "3FO4MBCY4M6D_Bedroom.zip\n",
      "3FO4MBCY2VYU_Bedroom.zip\n",
      "3FO4MBCY2LXR_Bedroom.zip\n",
      "3FO4MBCY1A5D_Bedroom.zip\n",
      "3FO4MBCXYJXU_Bedroom.zip\n",
      "3FO4MBCXWX4D_Living_room.zip\n",
      "3FO4MBCXWX4D_Bedroom.zip\n",
      "3FO4MBCXWD27_Living_room.zip\n",
      "3FO4MBCXWD27_Bedroom.zip\n",
      "3FO4MBCXUMUO_Bedroom.zip\n",
      "3FO4MBCXU2SI_Bedroom.zip\n",
      "3FO4MBCXOPJW_Bedroom.zip\n",
      "3FO4MBCXL05S_Bedroom.zip\n",
      "3FO4MBCXAO1P_Bedroom.zip\n",
      "3FO4MBCX4NDW_Bedroom.zip\n",
      "3FO4MBCX3BKI_Bedroom.zip\n",
      "3FO4MBCX2TUD_Bedroom.zip\n",
      "3FO4MBCX0QAQ_Bedroom.zip\n",
      "3FO4MBCWX9D0_Living_room.zip\n",
      "3FO4MBCWX9D0_Bedroom.zip\n",
      "3FO4MBCWVJ6H_Bedroom.zip\n",
      "3FO4MBCWM35N_Bedroom.zip\n",
      "3FO4MBCWKN08_Bedroom.zip\n",
      "3FO4MBCWC22N_Bedroom.zip\n",
      "3FO4MBCW9GRV_Bedroom.zip\n",
      "3FO4MBCW3CS2_Bedroom.zip\n",
      "3FO4MBCW0Y7C_Living_room.zip\n",
      "3FO4MBCW0Y7C_Bedroom.zip\n",
      "3FO4MBCW0AS5_Living_room.zip\n",
      "3FO4MBCW0AS5_Bedroom.zip\n",
      "3FO4MBCVV70W_Living_room.zip\n",
      "3FO4MBCVV70W_Bedroom.zip\n",
      "3FO4MBCFETMJ_Bedroom.zip\n",
      "3FO4MBC2Q6LU_Guest_room.zip\n"
     ]
    },
    {
     "name": "stderr",
     "output_type": "stream",
     "text": [
      "Downloading...\n",
      "From: https://drive.google.com/uc?id=147XpTh2u8rYObFa25b35f-i0IXJ2KM6k&export=download\n",
      "To: /media/scratch1/erbachj/Mask_RCNN/data/InteriorNet/data/HD7/train/3FO4MBC2Q6LU_Guest_room.zip\n",
      "31.6MB [00:00, 71.5MB/s]\n"
     ]
    },
    {
     "name": "stdout",
     "output_type": "stream",
     "text": [
      "3FO4MBC2Q6LU_Bedroom.zip\n",
      "3FO4MBBNTC99_Bedroom.zip\n",
      "3FO4MBBMSVQN_Bedroom.zip\n",
      "3FO4MBBLXBRI_Bedroom.zip\n",
      "3FO4MBBGTUS5_Living_room.zip\n",
      "3FO4MBB6QKVH_Living_room.zip\n",
      "3FO4MBB6QKVH_Dining_room.zip\n"
     ]
    },
    {
     "name": "stderr",
     "output_type": "stream",
     "text": [
      "Downloading...\n",
      "From: https://drive.google.com/uc?id=1Fk5JbUDo_FMMMbhU-wrLW1bNWxQ9ZmGR&export=download\n",
      "To: /media/scratch1/erbachj/Mask_RCNN/data/InteriorNet/data/HD7/train/3FO4MBB6QKVH_Dining_room.zip\n",
      "69.6MB [00:02, 23.2MB/s]\n"
     ]
    },
    {
     "name": "stdout",
     "output_type": "stream",
     "text": [
      "3FO4MBB6QKVH_Bedroom.zip\n",
      "3FO4MBAYC14U_Bedroom.zip\n",
      "3FO4MBAX4S88_Bedroom.zip\n",
      "3FO4MBAURWOQ_Bedroom.zip\n",
      "3FO4MBAOJJ2F_Bedroom.zip\n",
      "3FO4MBANPHKQ_Bedroom.zip\n",
      "3FO4MBANCL6V_Bedroom.zip\n",
      "3FO4MBADM7O3_Bedroom.zip\n",
      "3FO4MBA3JYJQ_Living_room.zip\n",
      "3FO4MBA3JYJQ_Dining_room.zip\n"
     ]
    },
    {
     "name": "stderr",
     "output_type": "stream",
     "text": [
      "Downloading...\n",
      "From: https://drive.google.com/uc?id=1BaTvujAaZBeiNCYzhsPVLnuWRlLQ_eXl&export=download\n",
      "To: /media/scratch1/erbachj/Mask_RCNN/data/InteriorNet/data/HD7/train/3FO4MBA3JYJQ_Dining_room.zip\n",
      "62.9MB [00:02, 22.2MB/s]\n"
     ]
    },
    {
     "name": "stdout",
     "output_type": "stream",
     "text": [
      "3FO4MBA3JYJQ_Bedroom.zip\n",
      "3FO4MB9XSX93_Bedroom.zip\n",
      "3FO4MB9XBX30_Bedroom.zip\n",
      "3FO4MB9LVTRC_Bedroom.zip\n",
      "3FO4MB9KKBEF_Living_room.zip\n",
      "3FO4MB9KKBEF_Bedroom.zip\n",
      "3FO4MB9KG4A6_Living_room.zip\n",
      "3FO4MB9KG4A6_Bedroom.zip\n",
      "3FO4MB9IXQXI_Bedroom.zip\n",
      "3FO4MB9IJFE8_Bedroom.zip\n",
      "3FO4MB9I65M9_Bedroom.zip\n",
      "3FO4MB9HVVAH_Bedroom.zip\n",
      "3FO4MB9AA5QP_Bedroom.zip\n",
      "3FO4MB98KCLT_Living_room.zip\n",
      "3FO4MB97U4VA_Living_room.zip\n",
      "3FO4MB97U4VA_Bedroom.zip\n",
      "3FO4MB8RJK94_Bedroom.zip\n",
      "3FO4MB8MWJDN_Bedroom.zip\n",
      "3FO4MB8EUIUB_Living_room.zip\n",
      "3FO4MB8EUIUB_Bedroom.zip\n",
      "3FO4MB7A98SP_Living_room.zip\n",
      "3FO4MB7A98SP_Bedroom.zip\n",
      "3FO4MB6W4915_Living_room.zip\n",
      "3FO4MB6W4915_Dining_room.zip\n"
     ]
    },
    {
     "name": "stderr",
     "output_type": "stream",
     "text": [
      "Downloading...\n",
      "From: https://drive.google.com/uc?id=1xtrUd7OyXQWGZW9_zvWuDUvliI6m07-n&export=download\n",
      "To: /media/scratch1/erbachj/Mask_RCNN/data/InteriorNet/data/HD7/train/3FO4MB6W4915_Dining_room.zip\n",
      "54.2MB [00:00, 93.2MB/s]\n"
     ]
    },
    {
     "name": "stdout",
     "output_type": "stream",
     "text": [
      "3FO4MB6W4915_Bedroom.zip\n",
      "3FO4MB609A0O_Bedroom.zip\n",
      "3FO4MB5KNJPX_Bedroom.zip\n",
      "3FO4MB5KN30S_Bedroom.zip\n",
      "3FO4MB55VW5F_Living_room.zip\n",
      "3FO4MB55VW5F_Dining_room.zip\n"
     ]
    },
    {
     "name": "stderr",
     "output_type": "stream",
     "text": [
      "Downloading...\n",
      "From: https://drive.google.com/uc?id=14e04AcoRCzCsy0DtT4wj2rLGtovFXamD&export=download\n",
      "To: /media/scratch1/erbachj/Mask_RCNN/data/InteriorNet/data/HD7/train/3FO4MB55VW5F_Dining_room.zip\n",
      "58.0MB [00:01, 46.3MB/s]\n"
     ]
    },
    {
     "name": "stdout",
     "output_type": "stream",
     "text": [
      "3FO4MB531189_Living_room.zip\n",
      "3FO4MB531189_Dining_room.zip\n"
     ]
    },
    {
     "name": "stderr",
     "output_type": "stream",
     "text": [
      "Downloading...\n",
      "From: https://drive.google.com/uc?id=1ZFizthnbcDUypCGl9LP_DGhiMSN7Uaug&export=download\n",
      "To: /media/scratch1/erbachj/Mask_RCNN/data/InteriorNet/data/HD7/train/3FO4MB531189_Dining_room.zip\n",
      "73.7MB [00:00, 86.1MB/s]\n"
     ]
    },
    {
     "name": "stdout",
     "output_type": "stream",
     "text": [
      "3FO4MB50U30J_Bedroom.zip\n",
      "3FO4MB50RB1P_Bedroom.zip\n",
      "3FO4MB50MSVD_Bedroom.zip\n",
      "3FO4MB50M5H6_Bedroom.zip\n",
      "3FO4MB50LADW_Bedroom.zip\n",
      "3FO4MB50HXCW_Living_room.zip\n",
      "3FO4MB50HXCW_Bedroom.zip\n",
      "3FO4MB50FJR7_Bedroom.zip\n",
      "3FO4MB50DJJL_Bedroom.zip\n",
      "3FO4MB50CV5E_Bedroom.zip\n",
      "3FO4MB50BFYY_Bedroom.zip\n",
      "3FO4MB50AHJO_Bedroom.zip\n",
      "3FO4MB5051Y2_Bedroom.zip\n",
      "3FO4MB4YTCGU_Bedroom.zip\n",
      "3FO4MB4YLVNM_Bedroom.zip\n",
      "3FO4MB4Y7026_Living_room.zip\n",
      "3FO4MB4Y7026_Bedroom.zip\n",
      "3FO4MB4SQEF6_Bedroom.zip\n",
      "3FO4MB4S21RV_Bedroom.zip\n",
      "3FO4MB4KT2Q8_Bedroom.zip\n",
      "3FO4MB3TKVOM_Bedroom.zip\n",
      "3FO4MB27IR7C_Guest_room.zip\n"
     ]
    },
    {
     "name": "stderr",
     "output_type": "stream",
     "text": [
      "Downloading...\n",
      "From: https://drive.google.com/uc?id=1ekvf-6jVRcXcyQzZS2eCeH0YfcnzxoAV&export=download\n",
      "To: /media/scratch1/erbachj/Mask_RCNN/data/InteriorNet/data/HD7/train/3FO4MB27IR7C_Guest_room.zip\n",
      "45.3MB [00:00, 78.2MB/s]\n"
     ]
    },
    {
     "name": "stdout",
     "output_type": "stream",
     "text": [
      "3FO4MB27IR7C_Bedroom.zip\n",
      "3FO4MB1V8G34_Bedroom.zip\n",
      "3FO4MB1HC03M_Bedroom.zip\n",
      "3FO4MB1EMS8G_Bedroom.zip\n",
      "3FO4MB0FS004_Bedroom.zip\n",
      "3FO4MB0FRBKW_Bedroom.zip\n",
      "3FO4MB0FR1JT_Bedroom.zip\n",
      "3FO4MB0FHKJ0_Bedroom.zip\n",
      "3FO4MB0FGW4S_Bedroom.zip\n",
      "3FO4MB0FGPFQ_Living_room.zip\n",
      "3FO4MB0FGPFQ_Bedroom.zip\n",
      "3FO4MB0FGC2M_Bedroom.zip\n",
      "3FO4MB0FEVW7_Bedroom.zip\n",
      "3FO4MB0FESK6_Bedroom.zip\n",
      "3FO4MB0FDU4V_Bedroom.zip\n",
      "3FO4MB0FDGQR_Bedroom.zip\n",
      "3FO4MB0FCP0J_Living_room.zip\n",
      "3FO4MB0FCP0J_Bedroom.zip\n",
      "3FO4MB0ECTK4_Bedroom.zip\n",
      "3FO4MAWU46GW_Bedroom.zip\n",
      "3FO4MAVC1W4G_Living_room.zip\n",
      "3FO4MAV0O7EI_Bedroom.zip\n",
      "3FO4MAV07DWH_Bedroom.zip\n",
      "3FO4MAUYT45I_Bedroom.zip\n",
      "3FO4MASMSP52_Bedroom.zip\n",
      "3FO4MAO35A9P_Bedroom.zip\n",
      "3FO4MAMAS7F4_Bedroom.zip\n",
      "3FO4MAKQBJDV_Bedroom.zip\n",
      "3FO4MAKPWOJQ_Living_room.zip\n",
      "3FO4MAKP8SML_Bedroom.zip\n",
      "3FO4MAGP8VM6_Bedroom.zip\n",
      "3FO4MB0F87U7_Bedroom.zip\n",
      "3FO4MB0F5MKF_Bedroom.zip\n",
      "3FO4MB0F5J8E_Bedroom.zip\n",
      "3FO4MB0F4UT7_Bedroom.zip\n",
      "3FO4MB0F4RH6_Bedroom.zip\n",
      "3FO4MB0F4AR1_Bedroom.zip\n",
      "3FO4MB0F442Y_Living_room.zip\n",
      "3FO4MB0F442Y_Bedroom.zip\n",
      "3FO4MB0F3WDW_Bedroom.zip\n",
      "3FO4MB0F3FNR_Living_room.zip\n",
      "3FO4MB0F3FNR_Bedroom.zip\n",
      "3FO4MB0EXU6E_Bedroom.zip\n",
      "3FO4MB0EVGKO_Living_room.zip\n",
      "3FO4MB0EVGKO_Bedroom.zip\n",
      "3FO4MB0EULHF_Bedroom.zip\n",
      "3FO4MB0EU84B_Bedroom.zip\n",
      "3FO4MB0ETD12_Bedroom.zip\n",
      "3FO4MB0ESRXV_Bedroom.zip\n",
      "3FO4MB0ESHWS_Bedroom.zip\n",
      "3FO4MB0ESB8Q_Bedroom.zip\n",
      "3FO4MB0ERTIL_Bedroom.zip\n",
      "3FO4MB0ERJHI_Bedroom.zip\n",
      "3FO4MB0EIXJX_Bedroom.zip\n",
      "3FO4MB0EHLQJ_Living_room.zip\n",
      "3FO4MB0EHLQJ_Bedroom.zip\n",
      "3FO4MB0EGNB9_Bedroom.zip\n",
      "3FO4MB0EGDA6_Bedroom.zip\n",
      "3FO4MB0ED4L7_Bedroom.zip\n",
      "3FO4MB0EB11K_Living_room.zip\n",
      "3FO4MB0EB11K_Bedroom.zip\n",
      "3FO4MB0EAWOJ_Bedroom.zip\n",
      "3FO4MB0EA2LA_Bedroom.zip\n",
      "3FO4MB0E6IV8_Bedroom.zip\n",
      "3FO4MB0E4BYK_Bedroom.zip\n",
      "3FO4MAYK6ANL_Living_room.zip\n",
      "3FO4MAYK6ANL_Dining_room.zip\n"
     ]
    },
    {
     "name": "stderr",
     "output_type": "stream",
     "text": [
      "Downloading...\n",
      "From: https://drive.google.com/uc?id=11WagxBb6mr3iijIPPTLv6x4a2Gufobj3&export=download\n",
      "To: /media/scratch1/erbachj/Mask_RCNN/data/InteriorNet/data/HD7/train/3FO4MAYK6ANL_Dining_room.zip\n",
      "64.3MB [00:00, 90.3MB/s]\n"
     ]
    },
    {
     "name": "stdout",
     "output_type": "stream",
     "text": [
      "3FO4MAYK6ANL_Bedroom.zip\n",
      "3FO4MAXXPRR5_Bedroom.zip\n",
      "3FO4MAXP6UEQ_Guest_room.zip\n"
     ]
    },
    {
     "name": "stderr",
     "output_type": "stream",
     "text": [
      "Downloading...\n",
      "From: https://drive.google.com/uc?id=1KrcaLeCv7Qj9hfAGg622_MrTonbF-bVv&export=download\n",
      "To: /media/scratch1/erbachj/Mask_RCNN/data/InteriorNet/data/HD7/train/3FO4MAXP6UEQ_Guest_room.zip\n",
      "69.6MB [00:00, 96.8MB/s]\n"
     ]
    },
    {
     "name": "stdout",
     "output_type": "stream",
     "text": [
      "3FO4MAXP6UEQ_Bedroom.zip\n",
      "3FO4MAX4GU9W_Living_room.zip\n",
      "3FO4MAX4GU9W_Bedroom.zip\n",
      "3FO4MAWH1XN6_Living_room.zip\n",
      "3FO4MAWH1XN6_Dining_room.zip\n"
     ]
    },
    {
     "name": "stderr",
     "output_type": "stream",
     "text": [
      "Downloading...\n",
      "From: https://drive.google.com/uc?id=1kabDHV1vBGUYCW7KmVfMvs-0TvGTnmYD&export=download\n",
      "To: /media/scratch1/erbachj/Mask_RCNN/data/InteriorNet/data/HD7/train/3FO4MAWH1XN6_Dining_room.zip\n",
      "76.9MB [00:01, 50.9MB/s]\n"
     ]
    },
    {
     "name": "stdout",
     "output_type": "stream",
     "text": [
      "3FO4MAWH1XN6_Bedroom.zip\n",
      "3FO4MAVWWQ81_Bedroom.zip\n",
      "3FO4MAVR982N_Bedroom.zip\n",
      "3FO4MAVJ6T67_Bedroom.zip\n",
      "3FO4MAVD98D4_Bedroom.zip\n",
      "3FO4MAVD7YVQ_Bedroom.zip\n",
      "3FO4MAVD71GG_Bedroom.zip\n",
      "3FO4MAVD69P8_Bedroom.zip\n",
      "3FO4MAVD4MUQ_Bedroom.zip\n",
      "3FO4MAVD37PB_Bedroom.zip\n",
      "3FO4MAVCNOGY_Bedroom.zip\n",
      "3FO4MAVC3C9V_Bedroom.zip\n",
      "3FO4MAVC1W4G_Bedroom.zip\n",
      "3FO4MAVC1217_Bedroom.zip\n",
      "3FO4MAVBXNFH_Bedroom.zip\n",
      "3FO4MAVBGN9E_Bedroom.zip\n",
      "3FO4MAVBFI52_Bedroom.zip\n",
      "3FO4MAVAAH53_Living_room.zip\n",
      "3FO4MAVAAH53_Bedroom.zip\n",
      "3FO4MAVAA0EX_Bedroom.zip\n",
      "3FO4MAVA9C0Q_Bedroom.zip\n",
      "3FO4MAV9P8A1_Bedroom.zip\n",
      "3FO4MAV96EKE_Bedroom.zip\n",
      "3FO4MAV8RTRC_Bedroom.zip\n",
      "3FO4MAV0WBLX_Bedroom.zip\n",
      "3FO4MAV0O7EI_Dining_room.zip\n"
     ]
    },
    {
     "name": "stderr",
     "output_type": "stream",
     "text": [
      "Downloading...\n",
      "From: https://drive.google.com/uc?id=1HkVAYpGg9ohp3GiZbMs4WUExuema8-aM&export=download\n",
      "To: /media/scratch1/erbachj/Mask_RCNN/data/InteriorNet/data/HD7/train/3FO4MAV0O7EI_Dining_room.zip\n",
      "60.5MB [00:01, 54.0MB/s]\n"
     ]
    },
    {
     "name": "stdout",
     "output_type": "stream",
     "text": [
      "3FO4MAV0MR93_Living_room.zip\n",
      "3FO4MAV0MR93_Bedroom.zip\n",
      "3FO4MAV0MAIX_Bedroom.zip\n",
      "3FO4MAV0M76W_Bedroom.zip\n",
      "3FO4MAV0LM4Q_Bedroom.zip\n",
      "3FO4MAV0KKCF_Bedroom.zip\n",
      "3FO4MAV0K0A9_Living_room.zip\n",
      "3FO4MAV0K0A9_Bedroom.zip\n",
      "3FO4MAV0IQSV_Bedroom.zip\n",
      "3FO4MAV0FOSY_Bedroom.zip\n",
      "3FO4MAV0DVAF_Bedroom.zip\n",
      "3FO4MAV0CMT2_Bedroom.zip\n",
      "3FO4MAV0AWMJ_Bedroom.zip\n",
      "3FO4MAV07XYN_Bedroom.zip\n",
      "3FO4MAV06W7C_Bedroom.zip\n",
      "3FO4MAV05DOV_Bedroom.zip\n",
      "3FO4MAV03046_Bedroom.zip\n",
      "3FO4MAV021NV_Living_room.zip\n",
      "3FO4MAV021NV_Bedroom.zip\n",
      "3FO4MAV00OUH_Bedroom.zip\n",
      "3FO4MAUYYN36_Living_room.zip\n",
      "3FO4MAUYYN36_Bedroom.zip\n",
      "3FO4MAUYXYNY_Bedroom.zip\n",
      "3FO4MAUYVB26_Bedroom.zip\n",
      "3FO4MAUYUFXW_Bedroom.zip\n",
      "3FO4MAUYUCLV_Living_room.zip\n",
      "3FO4MAUYUCLV_Bedroom.zip\n",
      "3FO4MAUYTATK_Bedroom.zip\n",
      "3FO4MAUYR79X_Living_room.zip\n",
      "3FO4MAUYR79X_Bedroom.zip\n",
      "3FO4MAUYQPJS_Bedroom.zip\n",
      "3FO4MAUYQC6O_Bedroom.zip\n",
      "3FO4MAUYPKFG_Bedroom.zip\n",
      "3FO4MAUYOPC7_Bedroom.zip\n",
      "3FO4MAUYHCV0_Bedroom.zip\n",
      "3FO4MAUYFG0F_Bedroom.zip\n",
      "3FO4MAUYEYAA_Bedroom.zip\n",
      "3FO4MAUYE7J2_Bedroom.zip\n",
      "3FO4MAUY6U2U_Bedroom.zip\n",
      "3FO4MAUY2CWI_Bedroom.zip\n",
      "3FO4MAUECVMB_Bedroom.zip\n",
      "3FO4MASYSNWN_Dining_room.zip\n"
     ]
    },
    {
     "name": "stderr",
     "output_type": "stream",
     "text": [
      "Downloading...\n",
      "From: https://drive.google.com/uc?id=1b7Se9HyUIOxee2s5zdKNJ6G5qEejyn6v&export=download\n",
      "To: /media/scratch1/erbachj/Mask_RCNN/data/InteriorNet/data/HD7/train/3FO4MASYSNWN_Dining_room.zip\n",
      "61.5MB [00:00, 67.6MB/s]\n"
     ]
    },
    {
     "name": "stdout",
     "output_type": "stream",
     "text": [
      "3FO4MAQYTXVB_Bedroom.zip\n",
      "3FO4MAQGO3E5_Bedroom.zip\n",
      "3FO4MAQDYOTW_Living_room.zip\n",
      "3FO4MAQDYOTW_Dining_room.zip\n"
     ]
    },
    {
     "name": "stderr",
     "output_type": "stream",
     "text": [
      "Downloading...\n",
      "From: https://drive.google.com/uc?id=1x0uG9DgdhUuELnUosI7xYdC2bHXSS77W&export=download\n",
      "To: /media/scratch1/erbachj/Mask_RCNN/data/InteriorNet/data/HD7/train/3FO4MAQDYOTW_Dining_room.zip\n",
      "53.7MB [00:02, 22.4MB/s]\n"
     ]
    },
    {
     "name": "stdout",
     "output_type": "stream",
     "text": [
      "3FO4MAQA6C31_Living_room.zip\n",
      "3FO4MAPRQCPL_Guest_room.zip\n"
     ]
    },
    {
     "name": "stderr",
     "output_type": "stream",
     "text": [
      "Downloading...\n",
      "From: https://drive.google.com/uc?id=1e4BRX68c1gLBVd1U7B-HUXkOArmM8-6u&export=download\n",
      "To: /media/scratch1/erbachj/Mask_RCNN/data/InteriorNet/data/HD7/train/3FO4MAPRQCPL_Guest_room.zip\n",
      "69.1MB [00:01, 36.7MB/s]\n"
     ]
    },
    {
     "name": "stdout",
     "output_type": "stream",
     "text": [
      "3FO4MAPRQCPL_Bedroom.zip\n",
      "3FO4MAPRJ09E_Bedroom.zip\n",
      "3FO4MAPNXNCW_Bedroom.zip\n",
      "3FO4MAPA4OB6_Bedroom.zip\n",
      "3FO4MAP4PITL_Bedroom.zip\n",
      "3FO4MAP1VGFY_Living_room.zip\n",
      "3FO4MAP1VGFY_Bedroom.zip\n",
      "3FO4MAO4RS5W_Bedroom.zip\n",
      "3FO4MANP2HDS_Living_room.zip\n",
      "3FO4MANP2HDS_Dining_room.zip\n"
     ]
    },
    {
     "name": "stderr",
     "output_type": "stream",
     "text": [
      "Downloading...\n",
      "From: https://drive.google.com/uc?id=1DNlxksLpUQ5_rdFxipskMPBzEEBvhTZv&export=download\n",
      "To: /media/scratch1/erbachj/Mask_RCNN/data/InteriorNet/data/HD7/train/3FO4MANP2HDS_Dining_room.zip\n",
      "38.2MB [00:00, 72.9MB/s]\n"
     ]
    },
    {
     "name": "stdout",
     "output_type": "stream",
     "text": [
      "3FO4MANIFPMH_Bedroom.zip\n",
      "3FO4MANI5EIE_Bedroom.zip\n",
      "3FO4MANH1LYS_Bedroom.zip\n",
      "3FO4MANBOGPT_Bedroom.zip\n",
      "3FO4MAMMPAVU_Bedroom.zip\n",
      "3FO4MAMINIVG_Living_room.zip\n",
      "3FO4MAMINIVG_Dining_room.zip\n"
     ]
    },
    {
     "name": "stderr",
     "output_type": "stream",
     "text": [
      "Downloading...\n",
      "From: https://drive.google.com/uc?id=1cJX1-k-lIznTH0bADSIMt5AQhm5khwiO&export=download\n",
      "To: /media/scratch1/erbachj/Mask_RCNN/data/InteriorNet/data/HD7/train/3FO4MAMINIVG_Dining_room.zip\n",
      "59.2MB [00:00, 75.0MB/s]\n"
     ]
    },
    {
     "name": "stdout",
     "output_type": "stream",
     "text": [
      "3FO4MAMINIVG_Bedroom.zip\n",
      "3FO4MAMBXSH9_Bedroom.zip\n",
      "3FO4MAMAYBEX_Bedroom.zip\n",
      "3FO4MAMAV9F1_Bedroom.zip\n",
      "3FO4MAMAGJHM_Bedroom.zip\n",
      "3FO4MALWUK3Q_Bedroom.zip\n",
      "3FO4MALS28JE_Bedroom.zip\n",
      "3FO4MALM8QIJ_Bedroom.zip\n",
      "3FO4MAL7HAM3_Bedroom.zip\n",
      "3FO4MAKQR4EJ_Bedroom.zip\n",
      "3FO4MAKQPAV0_Bedroom.zip\n",
      "3FO4MAKQOCFP_Bedroom.zip\n",
      "3FO4MAKQKIOK_Bedroom.zip\n",
      "3FO4MAKQK8NH_Bedroom.zip\n",
      "3FO4MAKQGBKB_Bedroom.zip\n",
      "3FO4MAKQE1BM_Living_room.zip\n",
      "3FO4MAKQE1BM_Bedroom.zip\n",
      "3FO4MAKQDG9G_Bedroom.zip\n",
      "3FO4MAKQ6XVI_Living_room.zip\n",
      "3FO4MAKQ6XVI_Dining_room.zip\n"
     ]
    },
    {
     "name": "stderr",
     "output_type": "stream",
     "text": [
      "Downloading...\n",
      "From: https://drive.google.com/uc?id=1oQ6d1iYz69OrPw0gLgJ3q-9TWKg2kiZn&export=download\n",
      "To: /media/scratch1/erbachj/Mask_RCNN/data/InteriorNet/data/HD7/train/3FO4MAKQ6XVI_Dining_room.zip\n",
      "71.9MB [00:00, 73.9MB/s]\n"
     ]
    },
    {
     "name": "stdout",
     "output_type": "stream",
     "text": [
      "3FO4MAKQ6XVI_Bedroom.zip\n",
      "3FO4MAKQ4DLQ_Bedroom.zip\n",
      "3FO4MAKQ38HE_Living_room.zip\n",
      "3FO4MAKQ38HE_Bedroom.zip\n",
      "3FO4MAKQ1SBY_Bedroom.zip\n",
      "3FO4MAKQ1BLT_Bedroom.zip\n",
      "3FO4MAKQ06HH_Bedroom.zip\n",
      "3FO4MAKPYLFB_Bedroom.zip\n",
      "3FO4MAKPY4P6_Bedroom.zip\n",
      "3FO4MAKPY1D5_Bedroom.zip\n",
      "3FO4MAKPXQC2_Living_room.zip\n",
      "3FO4MAKPXQC2_Bedroom.zip\n",
      "3FO4MAKPWOJQ_Bedroom.zip\n",
      "3FO4MAKPWHUO_Living_room.zip\n",
      "3FO4MAKPWHUO_Bedroom.zip\n",
      "3FO4MAKPWEIN_Bedroom.zip\n",
      "3FO4MAKPT96P_Bedroom.zip\n",
      "3FO4MAKPN1TU_Bedroom.zip\n",
      "3FO4MAKPMK4P_Living_room.zip\n",
      "3FO4MAKPMK4P_Dining_room.zip\n"
     ]
    },
    {
     "name": "stderr",
     "output_type": "stream",
     "text": [
      "Downloading...\n",
      "From: https://drive.google.com/uc?id=1wVaKLlPT-WjFNEa3Sc7vA7bVcxZ_QY0U&export=download\n",
      "To: /media/scratch1/erbachj/Mask_RCNN/data/InteriorNet/data/HD7/train/3FO4MAKPMK4P_Dining_room.zip\n",
      "52.0MB [00:01, 48.9MB/s]\n"
     ]
    },
    {
     "name": "stdout",
     "output_type": "stream",
     "text": [
      "3FO4MAKPMK4P_Bedroom.zip\n",
      "3FO4MAKPG63S_Living_room.zip\n",
      "3FO4MAKPG63S_Bedroom.zip\n",
      "3FO4MAKPF4BH_Bedroom.zip\n",
      "3FO4MAKPDO62_Bedroom.zip\n",
      "3FO4MAKP8SML_Living_room.zip\n",
      "3FO4MAKP2RYS_Living_room.zip\n",
      "3FO4MAKP2RYS_Bedroom.zip\n",
      "3FO4MAKOY99Q_Bedroom.zip\n",
      "3FO4MAKOV0KR_Bedroom.zip\n",
      "3FO4MAKOUC6K_Bedroom.zip\n",
      "3FO4MAKOTXSG_Bedroom.zip\n",
      "3FO4MAKHLVER_Bedroom.zip\n",
      "3FO4MAKD7EOK_Bedroom.zip\n",
      "3FO4MAKCHR17_Bedroom.zip\n",
      "3FO4MAK98YP6_Bedroom.zip\n",
      "3FO4MAK940TO_Bedroom.zip\n",
      "3FO4MAJ9HN2E_Bedroom.zip\n",
      "3FO4MAIQGX4R_Bedroom.zip\n",
      "3FO4MAHDPUL0_Bedroom.zip\n",
      "3FO4MA9I2MYH_Bedroom.zip\n",
      "3FO4MA9GQ19J_Bedroom.zip\n",
      "3FO4MA6OM521_Bedroom.zip\n",
      "3FO4MA6NQNEW_Bedroom.zip\n",
      "3FO4MA6N4EC9_Bedroom.zip\n",
      "3FO4MA4W9NTB_Dining_room.zip\n"
     ]
    },
    {
     "name": "stderr",
     "output_type": "stream",
     "text": [
      "Downloading...\n",
      "From: https://drive.google.com/uc?id=1jp18wxy81y-KpQlf6BX8cCOLBZhgqPI2&export=download\n",
      "To: /media/scratch1/erbachj/Mask_RCNN/data/InteriorNet/data/HD7/train/3FO4MA4W9NTB_Dining_room.zip\n",
      "67.4MB [00:02, 25.4MB/s]\n"
     ]
    },
    {
     "name": "stdout",
     "output_type": "stream",
     "text": [
      "3FO4MA34QKBW_Bedroom.zip\n",
      "3FO4M9YX919R_Bedroom.zip\n",
      "3FO4M9U8C37J_Bedroom.zip\n",
      "3FO4M9TXNBJ8_Bedroom.zip\n",
      "3FO4M9TX9GP3_Bedroom.zip\n",
      "3FO4M9TX12GK_Bedroom.zip\n",
      "3FO4M9TWNCQR_Bedroom.zip\n",
      "3FO4MAGNFX5C_Bedroom.zip\n",
      "3FO4MAFYF8SW_Bedroom.zip\n",
      "3FO4MAF7947G_Bedroom.zip\n",
      "3FO4MADQX1WR_Bedroom.zip\n",
      "3FO4MADK8VKQ_Bedroom.zip\n",
      "3FO4MAD7RYED_Bedroom.zip\n",
      "3FO4MAD164B1_Bedroom.zip\n",
      "3FO4MACPV20C_Bedroom.zip\n",
      "3FO4MAAAGF38_Bedroom.zip\n",
      "3FO4MAA97R16_Bedroom.zip\n",
      "3FO4MAA63QVK_Bedroom.zip\n",
      "3FO4MAA0GAII_Bedroom.zip\n",
      "3FO4MA9IFG1B_Living_room.zip\n",
      "3FO4MA9IFG1B_Bedroom.zip\n",
      "3FO4MA9IEE90_Bedroom.zip\n",
      "3FO4MA9IEAVY_Bedroom.zip\n",
      "3FO4MA9IE7JX_Bedroom.zip\n",
      "3FO4MA9IDWIU_Living_room.zip\n",
      "3FO4MA9IDWIU_Bedroom.zip\n",
      "3FO4MA9IDFSP_Bedroom.zip\n",
      "3FO4MA9IBWB9_Bedroom.zip\n",
      "3FO4MA9IBIX5_Bedroom.zip\n",
      "3FO4MA9I9M2K_Bedroom.zip\n",
      "3FO4MA9I86W5_Bedroom.zip\n",
      "3FO4MA9I8083_Dining_room.zip\n"
     ]
    },
    {
     "name": "stderr",
     "output_type": "stream",
     "text": [
      "Downloading...\n",
      "From: https://drive.google.com/uc?id=1x8fHOCSUOeuOlmuhol0SPVpASgr43c6K&export=download\n",
      "To: /media/scratch1/erbachj/Mask_RCNN/data/InteriorNet/data/HD7/train/3FO4MA9I8083_Dining_room.zip\n",
      "63.4MB [00:00, 98.7MB/s]\n"
     ]
    },
    {
     "name": "stdout",
     "output_type": "stream",
     "text": [
      "3FO4MA9I8083_Bedroom.zip\n",
      "3FO4MA9I7LTY_Bedroom.zip\n",
      "3FO4MA9I2MYH_Living_room.zip\n",
      "3FO4MA9HYEAI_Living_room.zip\n",
      "3FO4MA9HYEAI_Bedroom.zip\n",
      "3FO4MA9HUUKG_Bedroom.zip\n",
      "3FO4MA9HSAAO_Bedroom.zip\n",
      "3FO4MA9HMN10_Bedroom.zip\n",
      "3FO4MA9HKMSE_Living_room.zip\n",
      "3FO4MA9HKMSE_Bedroom.zip\n",
      "3FO4MA9HJV26_Guest_room.zip\n"
     ]
    },
    {
     "name": "stderr",
     "output_type": "stream",
     "text": [
      "Downloading...\n",
      "From: https://drive.google.com/uc?id=17uHG_CrlOtbacKLf46Y1TDxERS_s56xb&export=download\n",
      "To: /media/scratch1/erbachj/Mask_RCNN/data/InteriorNet/data/HD7/train/3FO4MA9HJV26_Guest_room.zip\n",
      "52.9MB [00:02, 20.2MB/s]\n"
     ]
    },
    {
     "name": "stdout",
     "output_type": "stream",
     "text": [
      "3FO4MA9HJV26_Bedroom.zip\n",
      "3FO4MA9HBGSN_Bedroom.zip\n",
      "3FO4MA9H2E5X_Dining_room.zip\n"
     ]
    },
    {
     "name": "stderr",
     "output_type": "stream",
     "text": [
      "Downloading...\n",
      "From: https://drive.google.com/uc?id=16OJICWmEfm57iB8zyFUjDlkVhRXzxE_k&export=download\n",
      "To: /media/scratch1/erbachj/Mask_RCNN/data/InteriorNet/data/HD7/train/3FO4MA9H2E5X_Dining_room.zip\n",
      "71.4MB [00:02, 34.2MB/s]\n"
     ]
    },
    {
     "name": "stdout",
     "output_type": "stream",
     "text": [
      "3FO4MA9H2E5X_Bedroom.zip\n",
      "3FO4MA9GWIMH_Bedroom.zip\n",
      "3FO4MA9GULQW_Bedroom.zip\n",
      "3FO4MA9GP9IB_Bedroom.zip\n",
      "3FO4MA9GN5XO_Bedroom.zip\n",
      "3FO4MA9GJSWO_Bedroom.zip\n",
      "3FO4MA8VM8F2_Bedroom.zip\n",
      "3FO4MA8JJHNM_Bedroom.zip\n",
      "3FO4MA7L15NP_Bedroom.zip\n",
      "3FO4MA7KLMFD_Bedroom.zip\n",
      "3FO4MA7K57BG_Bedroom.zip\n",
      "3FO4MA7JSQ31_Bedroom.zip\n",
      "3FO4MA7J5IK3_Living_room.zip\n",
      "3FO4MA7E6TR5_Bedroom.zip\n",
      "3FO4MA7BDT5T_Bedroom.zip\n",
      "3FO4MA706XEM_Bedroom.zip\n",
      "3FO4MA6TW02B_Bedroom.zip\n",
      "3FO4MA6OM1P0_Living_room.zip\n",
      "3FO4MA6OM1P0_Bedroom.zip\n",
      "3FO4MA6OJN4A_Bedroom.zip\n",
      "3FO4MA6O8DJW_Guest_room.zip\n"
     ]
    },
    {
     "name": "stderr",
     "output_type": "stream",
     "text": [
      "Downloading...\n",
      "From: https://drive.google.com/uc?id=1a54cw1-aPMuV5bKKgXNCtuooxpFTFOPy&export=download\n",
      "To: /media/scratch1/erbachj/Mask_RCNN/data/InteriorNet/data/HD7/train/3FO4MA6O8DJW_Guest_room.zip\n",
      "25.1MB [00:00, 80.9MB/s]\n"
     ]
    },
    {
     "name": "stdout",
     "output_type": "stream",
     "text": [
      "3FO4MA6O8DJW_Bedroom.zip\n",
      "3FO4MA6O6XEH_Bedroom.zip\n",
      "3FO4MA6O3BCE_Bedroom.zip\n",
      "3FO4MA6O2682_Living_room.zip\n",
      "3FO4MA6O2682_Bedroom.zip\n",
      "3FO4MA6O113P_Bedroom.zip\n",
      "3FO4MA6NYRMC_Living_room.zip\n",
      "3FO4MA6NYRMC_Dining_room.zip\n"
     ]
    },
    {
     "name": "stderr",
     "output_type": "stream",
     "text": [
      "Downloading...\n",
      "From: https://drive.google.com/uc?id=1TtSVs0c3mnuokcqsr9jkcUv66rIuVHwM&export=download\n",
      "To: /media/scratch1/erbachj/Mask_RCNN/data/InteriorNet/data/HD7/train/3FO4MA6NYRMC_Dining_room.zip\n",
      "67.5MB [00:00, 74.3MB/s]\n"
     ]
    },
    {
     "name": "stdout",
     "output_type": "stream",
     "text": [
      "3FO4MA6NYRMC_Bedroom.zip\n",
      "3FO4MA6NQXG0_Bedroom.zip\n",
      "3FO4MA6NLOJF_Living_room.zip\n",
      "3FO4MA6NLOJF_Bedroom.zip\n",
      "3FO4MA6NJ7LO_Bedroom.zip\n",
      "3FO4MA6NJ49N_Bedroom.zip\n",
      "3FO4MA6NIPVJ_Living_room.zip\n",
      "3FO4MA6NIPVJ_Bedroom.zip\n",
      "3FO4MA6NICIF_Bedroom.zip\n",
      "3FO4MA6NH422_Bedroom.zip\n",
      "3FO4MA6NFXWP_Bedroom.zip\n",
      "3FO4MA6NFR8N_Living_room.zip\n",
      "3FO4MA6NFR8N_Bedroom.zip\n",
      "3FO4MA6NBA3B_Bedroom.zip\n",
      "3FO4MA6N9X9W_Bedroom.zip\n",
      "3FO4MA6N4EC9_Living_room.zip\n",
      "3FO4MA6N2HGO_Living_room.zip\n",
      "3FO4MA6N2HGO_Dining_room.zip\n"
     ]
    },
    {
     "name": "stderr",
     "output_type": "stream",
     "text": [
      "Downloading...\n",
      "From: https://drive.google.com/uc?id=1gtXH1-morLmLZaTEZUuhXB6JXrwS_ePh&export=download\n",
      "To: /media/scratch1/erbachj/Mask_RCNN/data/InteriorNet/data/HD7/train/3FO4MA6N2HGO_Dining_room.zip\n",
      "64.2MB [00:00, 80.5MB/s]\n"
     ]
    },
    {
     "name": "stdout",
     "output_type": "stream",
     "text": [
      "3FO4MA6N2HGO_Bedroom.zip\n",
      "3FO4MA5T3HPF_Living_room.zip\n",
      "3FO4MA5T3HPF_Bedroom.zip\n",
      "3FO4MA5SBTTG_Living_room.zip\n",
      "3FO4MA5SBTTG_Bedroom.zip\n",
      "3FO4MA5OKY0B_Bedroom.zip\n",
      "3FO4MA57KRWB_Living_room.zip\n",
      "3FO4MA57KRWB_Bedroom.zip\n",
      "3FO4MA56WADA_Living_room.zip\n",
      "3FO4MA56WADA_Dining_room.zip\n"
     ]
    },
    {
     "name": "stderr",
     "output_type": "stream",
     "text": [
      "Downloading...\n",
      "From: https://drive.google.com/uc?id=1LRhtjcHNvpLmzlAjxFxoc6ksIK-NytTq&export=download\n",
      "To: /media/scratch1/erbachj/Mask_RCNN/data/InteriorNet/data/HD7/train/3FO4MA56WADA_Dining_room.zip\n",
      "65.4MB [00:01, 44.3MB/s]\n"
     ]
    },
    {
     "name": "stdout",
     "output_type": "stream",
     "text": [
      "3FO4MA56WADA_Bedroom.zip\n",
      "3FO4MA4W9NTB_Living_room.zip\n",
      "3FO4MA4W9NTB_Bedroom.zip\n",
      "3FO4MA4KWJ6J_Bedroom.zip\n",
      "3FO4MA47V341_Bedroom.zip\n",
      "3FO4MA47RJDY_Bedroom.zip\n",
      "3FO4MA3K21M2_Bedroom.zip\n",
      "3FO4MA3JXB7X_Bedroom.zip\n",
      "3FO4MA3FDAK3_Bedroom.zip\n",
      "3FO4MA3DSTNS_Bedroom.zip\n",
      "3FO4MA3CN1WL_Bedroom.zip\n",
      "3FO4MA3BCUD3_Bedroom.zip\n",
      "3FO4MA3B8N8T_Bedroom.zip\n",
      "3FO4MA3B783E_Bedroom.zip\n",
      "3FO4MA35HJSO_Bedroom.zip\n",
      "3FO4MA34SAIF_Bedroom.zip\n",
      "3FO4MA34JEJR_Bedroom.zip\n",
      "3FO4MA34903N_Bedroom.zip\n",
      "3FO4MA1Y2TK4_Bedroom.zip\n",
      "3FO4MA1XA88U_Bedroom.zip\n",
      "3FO4MA1QX0UE_Bedroom.zip\n",
      "3FO4MA1OT67B_Living_room.zip\n",
      "3FO4MA1OT67B_Bedroom.zip\n",
      "3FO4MA1IEGV4_Living_room.zip\n",
      "3FO4MA1IEGV4_Dining_room.zip\n"
     ]
    },
    {
     "name": "stderr",
     "output_type": "stream",
     "text": [
      "Downloading...\n",
      "From: https://drive.google.com/uc?id=15Bxbu2J8ch4Ekma1e_KIv_41vvEaDNrv&export=download\n",
      "To: /media/scratch1/erbachj/Mask_RCNN/data/InteriorNet/data/HD7/train/3FO4MA1IEGV4_Dining_room.zip\n",
      "64.8MB [00:01, 61.0MB/s]\n"
     ]
    },
    {
     "name": "stdout",
     "output_type": "stream",
     "text": [
      "3FO4MA1IEGV4_Bedroom.zip\n",
      "3FO4MA155XDH_Bedroom.zip\n",
      "3FO4M9YXC6LP_Living_room.zip\n",
      "3FO4M9YXC6LP_Bedroom.zip\n",
      "3FO4M9YXAN49_Bedroom.zip\n",
      "3FO4M9YX8Q8O_Bedroom.zip\n",
      "3FO4M9YQ15K5_Bedroom.zip\n",
      "3FO4M9YM7L47_Bedroom.zip\n",
      "3FO4M9Y42HD9_Bedroom.zip\n",
      "3FO4M9X2SICQ_Bedroom.zip\n",
      "3FO4M9WYVHB8_Bedroom.zip\n",
      "3FO4M9VFMNGC_Bedroom.zip\n",
      "3FO4M9UV9K2J_Bedroom.zip\n",
      "3FO4M9UV361M_Bedroom.zip\n",
      "3FO4M9UODWCK_Dining_room.zip\n"
     ]
    },
    {
     "name": "stderr",
     "output_type": "stream",
     "text": [
      "Downloading...\n",
      "From: https://drive.google.com/uc?id=1ewMRIsFViC4cQ3ObKQoqEcwGKb2AgLM9&export=download\n",
      "To: /media/scratch1/erbachj/Mask_RCNN/data/InteriorNet/data/HD7/train/3FO4M9UODWCK_Dining_room.zip\n",
      "67.7MB [00:00, 83.9MB/s]\n"
     ]
    },
    {
     "name": "stdout",
     "output_type": "stream",
     "text": [
      "3FO4M9UMQHSE_Living_room.zip\n",
      "3FO4M9UMQHSE_Bedroom.zip\n",
      "3FO4M9UAW2XG_Bedroom.zip\n",
      "3FO4M9U8OB77_Bedroom.zip\n",
      "3FO4M9U7KBYJ_Bedroom.zip\n",
      "3FO4M9U4UA14_Bedroom.zip\n",
      "3FO4M9U3NSUP_Living_room.zip\n",
      "3FO4M9U3NSUP_Dining_room.zip\n"
     ]
    },
    {
     "name": "stderr",
     "output_type": "stream",
     "text": [
      "Downloading...\n",
      "From: https://drive.google.com/uc?id=1O7Y_QUbutVQigrhLAXt2ZkM7ewz78aHJ&export=download\n",
      "To: /media/scratch1/erbachj/Mask_RCNN/data/InteriorNet/data/HD7/train/3FO4M9U3NSUP_Dining_room.zip\n",
      "55.2MB [00:00, 63.6MB/s]\n"
     ]
    },
    {
     "name": "stdout",
     "output_type": "stream",
     "text": [
      "3FO4M9U3NSUP_Bedroom.zip\n",
      "3FO4M9U3CWOG_Bedroom.zip\n",
      "3FO4M9U1YE3X_Bedroom.zip\n",
      "3FO4M9U1S6R3_Bedroom.zip\n",
      "3FO4M9TXQ6U3_Bedroom.zip\n",
      "3FO4M9TXPLRW_Living_room.zip\n",
      "3FO4M9TXPLRW_Bedroom.zip\n",
      "3FO4M9TXOXDP_Bedroom.zip\n",
      "3FO4M9TXOU1O_Bedroom.zip\n",
      "3FO4M9TXOK0L_Bedroom.zip\n",
      "3FO4M9TXMGFY_Living_room.zip\n",
      "3FO4M9TXMGFY_Bedroom.zip\n",
      "3FO4M9TXLI0O_Bedroom.zip\n",
      "3FO4M9TXLBBM_Living_room.zip\n",
      "3FO4M9TXLBBM_Bedroom.zip\n",
      "3FO4M9TXEFKK_Living_room.zip\n",
      "3FO4M9TXEFKK_Bedroom.zip\n",
      "3FO4M9TXE5JH_Living_room.zip\n",
      "3FO4M9TXE5JH_Bedroom.zip\n",
      "3FO4M9TXDXUF_Bedroom.zip\n",
      "3FO4M9TXDH5A_Bedroom.zip\n",
      "3FO4M9TXD0F5_Bedroom.zip\n",
      "3FO4M9TXAF5D_Bedroom.zip\n",
      "3FO4M9TX9U37_Bedroom.zip\n",
      "3FO4M9TX9A11_Bedroom.zip\n",
      "3FO4M9TX6VFB_Bedroom.zip\n",
      "3FO4M9TX6S3A_Bedroom.zip\n",
      "3FO4M9TX59KT_Bedroom.zip\n",
      "3FO4M9TX52VR_Bedroom.zip\n",
      "3FO4M9TX3TFE_Bedroom.zip\n",
      "3FO4M9TX3MQC_Bedroom.zip\n",
      "3FO4M9TX3CP9_Bedroom.zip\n",
      "3FO4M9TX32O6_Bedroom.zip\n",
      "3FO4M9TX2HM0_Bedroom.zip\n",
      "3FO4M9TX248V_Bedroom.zip\n",
      "3FO4M9TX1CHN_Bedroom.zip\n",
      "3FO4M9TX195M_Living_room.zip\n",
      "3FO4M9TX195M_Bedroom.zip\n",
      "3FO4M9TX0E2D_Bedroom.zip\n",
      "3FO4M9TWWM3J_Living_room.zip\n",
      "3FO4M9TWWM3J_Bedroom.zip\n",
      "3FO4M9TWWFEH_Bedroom.zip\n",
      "3FO4M9TWTK3M_Bedroom.zip\n",
      "3FO4M9TWRTW4_Bedroom.zip\n",
      "3FO4M9TWRQK3_Bedroom.zip\n",
      "3FO4M9TWRJV1_Living_room.zip\n",
      "3FO4M9TWRJV1_Bedroom.zip\n",
      "3FO4M9TWQORR_Bedroom.zip\n",
      "3FO4M9TWP9MC_Bedroom.zip\n",
      "3FO4M9TWNJFT_Living_room.zip\n",
      "3FO4M9TWNJFT_Bedroom.zip\n",
      "3FO4M9TWNCQR_Guest_room.zip\n"
     ]
    },
    {
     "name": "stderr",
     "output_type": "stream",
     "text": [
      "Downloading...\n",
      "From: https://drive.google.com/uc?id=1g7Dy73Xyj0TTwc0a9eLmjKVFiR2xGUpr&export=download\n",
      "To: /media/scratch1/erbachj/Mask_RCNN/data/InteriorNet/data/HD7/train/3FO4M9TWNCQR_Guest_room.zip\n",
      "56.6MB [00:00, 77.4MB/s]\n"
     ]
    },
    {
     "name": "stdout",
     "output_type": "stream",
     "text": [
      "3FO4M9T7YFWE_Bedroom.zip\n",
      "3FO4M9Q8YILS_Bedroom.zip\n",
      "3FO4M9MY5F9S_Bedroom.zip\n",
      "3FO4M9LPD63J_Bedroom.zip\n",
      "3FO4M9HBERV1_Bedroom.zip\n",
      "3FO4M9DXNK5H_Bedroom.zip\n",
      "3FO4M9DX9W0E_Bedroom.zip\n",
      "3FO4M9DWNI10_Bedroom.zip\n",
      "3FO4M9C7P0VE_Bedroom.zip\n",
      "3FO4M98BQY8E_Living_room.zip\n",
      "3FO4M97IIXXW_Living_room.zip\n",
      "3FO4M97I5RIY_Bedroom.zip\n",
      "3FO4M97I0W0I_Bedroom.zip\n",
      "3FO4M9TWMOCK_Bedroom.zip\n",
      "3FO4M9TWLJ88_Living_room.zip\n",
      "3FO4M9TWLJ88_Bedroom.zip\n",
      "3FO4M9TWKKRX_Bedroom.zip\n",
      "3FO4M9TWJ2AH_Bedroom.zip\n",
      "3FO4M9TWIXXG_Bedroom.zip\n",
      "3FO4M9TWH22V_Bedroom.zip\n",
      "3FO4M9TWGH0P_Bedroom.zip\n",
      "3FO4M9TWG3ML_Bedroom.zip\n",
      "3FO4M9TWFBVD_Bedroom.zip\n",
      "3FO4M9TWEA42_Bedroom.zip\n",
      "3FO4M9TWDBNR_Bedroom.zip\n",
      "3FO4M9TW9L9N_Bedroom.zip\n",
      "3FO4M9TW8WUG_Living_room.zip\n",
      "3FO4M9TW82R7_Living_room.zip\n",
      "3FO4M9TW82R7_Bedroom.zip\n",
      "3FO4M9TW7V35_Living_room.zip\n",
      "3FO4M9TW7V35_Bedroom.zip\n",
      "3FO4M9TW65VM_Bedroom.zip\n",
      "3FO4M9TW5KTG_Bedroom.zip\n",
      "3FO4M9TW42C0_Bedroom.zip\n",
      "3FO4M9TW3AKR_Living_room.zip\n",
      "3FO4M9TW3AKR_Dining_room.zip\n",
      "3FO4M9TW3AKR_Bedroom.zip\n",
      "3FO4M9TW2C5H_Bedroom.zip\n",
      "3FO4M9TW25GF_Bedroom.zip\n",
      "3FO4M9TAO15O_Bedroom.zip\n",
      "3FO4M9T9OT4G_Bedroom.zip\n",
      "3FO4M9SPAXYF_Living_room.zip\n",
      "3FO4M9SPAXYF_Dining_room.zip\n",
      "3FO4M9SPAXYF_Bedroom.zip\n",
      "3FO4M9SEQPO0_Bedroom.zip\n",
      "3FO4M9SC6CJY_Bedroom.zip\n",
      "3FO4M9RKPWE7_Bedroom.zip\n",
      "3FO4M9QTJGJ4_Bedroom.zip\n",
      "3FO4M9QMHVID_Living_room.zip\n",
      "3FO4M9QMHVID_Bedroom.zip\n",
      "3FO4M9QFXP1T_Bedroom.zip\n",
      "3FO4M9Q920JJ_Bedroom.zip\n",
      "3FO4M9Q91SUH_Bedroom.zip\n",
      "3FO4M9Q90AD1_Bedroom.zip\n",
      "3FO4M9Q8YILS_Living_room.zip\n",
      "3FO4M9Q8Y58O_Living_room.zip\n",
      "3FO4M9Q8Y58O_Guest_room.zip\n"
     ]
    },
    {
     "name": "stderr",
     "output_type": "stream",
     "text": [
      "Downloading...\n",
      "From: https://drive.google.com/uc?id=13HCD9yYAYLop-EmgHZVKVuk3N86bM9qC&export=download\n",
      "To: /media/scratch1/erbachj/Mask_RCNN/data/InteriorNet/data/HD7/train/3FO4M9Q8Y58O_Guest_room.zip\n",
      "48.1MB [00:00, 51.7MB/s]\n"
     ]
    },
    {
     "name": "stdout",
     "output_type": "stream",
     "text": [
      "3FO4M9Q6PLQ7_Bedroom.zip\n",
      "3FO4M9Q1OQ1L_Bedroom.zip\n",
      "3FO4M9P49850_Bedroom.zip\n",
      "3FO4M9OP71IS_Bedroom.zip\n",
      "3FO4M9OO2UM3_Bedroom.zip\n",
      "3FO4M9ONKDPU_Bedroom.zip\n",
      "3FO4M9ONHP42_Bedroom.zip\n",
      "3FO4M9O7YLBM_Bedroom.zip\n",
      "3FO4M9O4T9DM_Living_room.zip\n",
      "3FO4M9O2T8GO_Bedroom.zip\n",
      "3FO4M9NUU5DO_Living_room.zip\n",
      "3FO4M9NUU5DO_Bedroom.zip\n",
      "3FO4M9MX32VM_Bedroom.zip\n",
      "3FO4M9MRWSDP_Bedroom.zip\n",
      "3FO4M9MQFG22_Bedroom.zip\n",
      "3FO4M9MPLEKD_Bedroom.zip\n",
      "3FO4M9MKSX4A_Bedroom.zip\n",
      "3FO4M9MJUEH9_Bedroom.zip\n",
      "3FO4M9MJFYKX_Bedroom.zip\n",
      "3FO4M9MIOVR5_Bedroom.zip\n",
      "3FO4M9MIF5P8_Living_room.zip\n",
      "3FO4M9MIF5P8_Bedroom.zip\n",
      "3FO4M9MHO68G_Living_room.zip\n",
      "3FO4M9MHO68G_Dining_room.zip\n",
      "3FO4M9MHO68G_Bedroom.zip\n",
      "3FO4M9MB64V9_Bedroom.zip\n",
      "3FO4M9LELXP1_Living_room.zip\n",
      "3FO4M9LELXP1_Bedroom.zip\n",
      "3FO4M9LELNNX_Living_room.zip\n",
      "3FO4M9LELNNX_Bedroom.zip\n",
      "3FO4M9KSPG79_Living_room.zip\n",
      "3FO4M9KSPG79_Bedroom.zip\n",
      "3FO4M9IUGCLQ_Bedroom.zip\n",
      "3FO4M9HV77T4_Bedroom.zip\n",
      "3FO4M9HUQCRD_Living_room.zip\n",
      "3FO4M9HUQCRD_Dining_room.zip\n",
      "3FO4M9HT4IAD_Bedroom.zip\n",
      "3FO4M9HRUDI6_Bedroom.zip\n",
      "3FO4M9HOEPG3_Bedroom.zip\n",
      "3FO4M9HMSWQE_Bedroom.zip\n",
      "3FO4M9HATPP1_Bedroom.zip\n",
      "3FO4M9G57P4Q_Bedroom.zip\n",
      "3FO4M9FMPFIM_Living_room.zip\n",
      "3FO4M9FMPFIM_Dining_room.zip\n",
      "3FO4M9FMPFIM_Bedroom.zip\n",
      "3FO4M9FL8D82_Living_room.zip\n",
      "3FO4M9FL8D82_Bedroom.zip\n",
      "3FO4M9FGCN30_Living_room.zip\n",
      "3FO4M9FGCN30_Bedroom.zip\n",
      "3FO4M9EBC4T5_Bedroom.zip\n",
      "3FO4M9E69FL0_Bedroom.zip\n",
      "3FO4M9DXOP9T_Bedroom.zip\n",
      "3FO4M9DXNK5H_Living_room.zip\n",
      "3FO4M9DXNK5H_Dining_room.zip\n",
      "3FO4M9DXNA4E_Bedroom.zip\n",
      "3FO4M9DXMLP7_Living_room.zip\n",
      "3FO4M9DXMLP7_Bedroom.zip\n",
      "3FO4M9DXMID6_Bedroom.zip\n",
      "3FO4M9DXKOTM_Bedroom.zip\n",
      "3FO4M9DXJN2B_Bedroom.zip\n",
      "3FO4M9DXHCSM_Bedroom.zip\n",
      "3FO4M9DXGYFI_Bedroom.zip\n",
      "3FO4M9DXGB1B_Living_room.zip\n",
      "3FO4M9DXGB1B_Dining_room.zip\n",
      "3FO4M9DXGB1B_Bedroom.zip\n",
      "3FO4M9DXAUFO_Bedroom.zip\n",
      "3FO4M9DXAR3N_Living_room.zip\n",
      "3FO4M9DXAR3N_Bedroom.zip\n",
      "3FO4M9DX7LQP_Bedroom.zip\n",
      "3FO4M9DX7BPM_Living_room.zip\n",
      "3FO4M9DX7BPM_Bedroom.zip\n",
      "3FO4M9DX49PP_Bedroom.zip\n",
      "3FO4M9DX2MV8_Bedroom.zip\n",
      "3FO4M9DX22T2_Bedroom.zip\n",
      "3FO4M9DX05XH_Bedroom.zip\n",
      "3FO4M9DWVSWH_Living_room.zip\n",
      "3FO4M9DWV269_Bedroom.zip\n",
      "3FO4M9DWQ6MS_Bedroom.zip\n",
      "3FO4M9DWPLKM_Bedroom.zip\n",
      "3FO4M9DWPI8L_Bedroom.zip\n",
      "3FO4M9DWP1IG_Bedroom.zip\n",
      "3FO4M9DWON5C_Bedroom.zip\n",
      "3FO4M9DWNBBX_Bedroom.zip\n",
      "3FO4M9DWMWXT_Living_room.zip\n",
      "3FO4M9DWMWXT_Bedroom.zip\n",
      "3FO4M9DWGM9X_Dining_room.zip\n",
      "3FO4M9DWGM9X_Bedroom.zip\n",
      "3FO4M9DWDGX0_Bedroom.zip\n",
      "3FO4M9DWB6OB_Bedroom.zip\n",
      "3FO4M9DP6GBM_Bedroom.zip\n",
      "3FO4M9DFYESB_Bedroom.zip\n",
      "3FO4M9D7JOK6_Bedroom.zip\n",
      "3FO4M9D7CPH3_Bedroom.zip\n",
      "3FO4M9CV7JWE_Living_room.zip\n",
      "3FO4M9CV7JWE_Bedroom.zip\n",
      "3FO4M9CKY4G7_Bedroom.zip\n",
      "3FO4M9C3G9RW_Bedroom.zip\n",
      "3FO4M9BFOF7L_Bedroom.zip\n",
      "3FO4M9BFF97U_Bedroom.zip\n",
      "3FO4M9B95W59_Living_room.zip\n",
      "3FO4M9B95W59_Dining_room.zip\n",
      "3FO4M9B95W59_Bedroom.zip\n",
      "3FO4M9B8YYTH_Bedroom.zip\n",
      "3FO4M9B5R5XQ_Bedroom.zip\n",
      "3FO4M9A9HJ5D_Bedroom.zip\n",
      "3FO4M99JQFEC_Bedroom.zip\n",
      "3FO4M993L98B_Bedroom.zip\n",
      "3FO4M99308M1_Bedroom.zip\n",
      "3FO4M98VH0KR_Bedroom.zip\n",
      "3FO4M98UAJFD_Living_room.zip\n",
      "3FO4M98BQY8E_Bedroom.zip\n",
      "3FO4M9896EFB_Living_room.zip\n",
      "3FO4M9896EFB_Bedroom.zip\n",
      "3FO4M985TK4D_Bedroom.zip\n",
      "3FO4M97YRXV3_Bedroom.zip\n",
      "3FO4M97INCR8_Living_room.zip\n",
      "3FO4M97INCR8_Bedroom.zip\n",
      "3FO4M97IMV23_Bedroom.zip\n",
      "3FO4M97ILMKP_Bedroom.zip\n",
      "3FO4M97ILCJM_Bedroom.zip\n",
      "3FO4M97IKY6I_Bedroom.zip\n",
      "3FO4M97IJMD4_Bedroom.zip\n",
      "3FO4M97IJFO2_Living_room.zip\n",
      "3FO4M97IJFO2_Bedroom.zip\n",
      "3FO4M97IIXXW_Dining_room.zip\n",
      "3FO4M97IIXXW_Bedroom.zip\n",
      "3FO4M97II77O_Bedroom.zip\n",
      "3FO4M97IFBVT_Bedroom.zip\n",
      "3FO4M97IF1UQ_Living_room.zip\n",
      "3FO4M97IF1UQ_Bedroom.zip\n",
      "3FO4M97IEA4I_Living_room.zip\n",
      "3FO4M97IEA4I_Bedroom.zip\n",
      "3FO4M97ID1N5_Living_room.zip\n",
      "3FO4M97ID1N5_Guest_room.zip\n"
     ]
    },
    {
     "name": "stderr",
     "output_type": "stream",
     "text": [
      "Downloading...\n",
      "From: https://drive.google.com/uc?id=1hg85er8qrAseX9hlsEhV-2ESXWkEYuQm&export=download\n",
      "To: /media/scratch1/erbachj/Mask_RCNN/data/InteriorNet/data/HD7/train/3FO4M97ID1N5_Guest_room.zip\n",
      "65.3MB [00:01, 58.1MB/s]\n"
     ]
    },
    {
     "name": "stdout",
     "output_type": "stream",
     "text": [
      "3FO4M97ID1N5_Bedroom.zip\n",
      "3FO4M97IB84L_Bedroom.zip\n",
      "3FO4M97I82RN_Bedroom.zip\n",
      "3FO4M97I6JA7_Bedroom.zip\n",
      "3FO4M97I4WFP_Living_room.zip\n",
      "3FO4M97I4WFP_Bedroom.zip\n",
      "3FO4M97I4CDJ_Bedroom.zip\n",
      "3FO4M97I3NYC_Guest_room.zip\n"
     ]
    },
    {
     "name": "stderr",
     "output_type": "stream",
     "text": [
      "Downloading...\n",
      "From: https://drive.google.com/uc?id=1BYzJWuK9iKH1y_rLdj7T1jmk9Z3MmbHO&export=download\n",
      "To: /media/scratch1/erbachj/Mask_RCNN/data/InteriorNet/data/HD7/train/3FO4M97I3NYC_Guest_room.zip\n",
      "39.9MB [00:00, 45.9MB/s]\n"
     ]
    },
    {
     "name": "stdout",
     "output_type": "stream",
     "text": [
      "3FO4M97I3NYC_Bedroom.zip\n",
      "3FO4M97I3KMB_Living_room.zip\n",
      "3FO4M97I3KMB_Bedroom.zip\n",
      "3FO4M97I3HAA_Bedroom.zip\n",
      "3FO4M97I2FHY_Bedroom.zip\n",
      "3FO4M97I28SW_Bedroom.zip\n",
      "3FO4M97I1XRT_Bedroom.zip\n",
      "3FO4M97I1ADM_Living_room.zip\n",
      "3FO4M97I1ADM_Bedroom.zip\n",
      "3FO4M97I0W0I_Living_room.zip\n",
      "3FO4M97H55CB_Living_room.zip\n",
      "3FO4M94U1N49_Bedroom.zip\n",
      "3FO4M94TCH61_Living_room.zip\n",
      "3FO4M94STF7M_Bedroom.zip\n",
      "3FO4M94SGFGQ_Bedroom.zip\n",
      "3FO4M8YNX72L_Bedroom.zip\n",
      "3FO4M8T7844S_Living_room.zip\n",
      "3FO4M8KO5JXP_Bedroom.zip\n",
      "3FO4M847PVC1_Dining_room.zip\n",
      "3FO4M83EAILC_Living_room.zip\n",
      "3FO4M83CU6HA_Bedroom.zip\n",
      "3FO4M7TNSYPS_Bedroom.zip\n",
      "3FO4M7OIO5N7_Bedroom.zip\n",
      "3FO4M97I0PBG_Living_room.zip\n",
      "3FO4M97I0PBG_Bedroom.zip\n",
      "3FO4M97I059A_Bedroom.zip\n",
      "3FO4M97HYU87_Bedroom.zip\n",
      "3FO4M97HXP3U_Living_room.zip\n",
      "3FO4M97HX1ON_Living_room.zip\n",
      "3FO4M97HX1ON_Bedroom.zip\n",
      "3FO4M97HVOV9_Bedroom.zip\n",
      "3FO4M97HVLJ8_Bedroom.zip\n",
      "3FO4M97HUX51_Bedroom.zip\n",
      "3FO4M97HTYOQ_Bedroom.zip\n",
      "3FO4M97HRB2X_Bedroom.zip\n",
      "3FO4M97HQ9AM_Bedroom.zip\n",
      "3FO4M97HPUWI_Bedroom.zip\n",
      "3FO4M97HLXTC_Living_room.zip\n",
      "3FO4M97HLXTC_Bedroom.zip\n",
      "3FO4M97HLUHB_Bedroom.zip\n",
      "3FO4M97HKINW_Bedroom.zip\n",
      "3FO4M97HHQP3_Living_room.zip\n",
      "3FO4M97HHQP3_Bedroom.zip\n",
      "3FO4M97HHGO0_Bedroom.zip\n",
      "3FO4M97HDCVR_Bedroom.zip\n",
      "3FO4M97HCV6M_Bedroom.zip\n",
      "3FO4M97HB9C5_Bedroom.zip\n",
      "3FO4M97H7WB5_Living_room.zip\n",
      "3FO4M97H7WB5_Bedroom.zip\n",
      "3FO4M97H7MA2_Bedroom.zip\n",
      "3FO4M97H5C1D_Bedroom.zip\n",
      "3FO4M97H55CB_Bedroom.zip\n",
      "3FO4M97H4GX4_Bedroom.zip\n",
      "3FO4M97H26OF_Bedroom.zip\n",
      "3FO4M97H0QJ0_Living_room.zip\n",
      "3FO4M97H0QJ0_Bedroom.zip\n",
      "3FO4M97H06GT_Bedroom.zip\n",
      "3FO4M97GO3LI_Bedroom.zip\n",
      "3FO4M97GMXH6_Bedroom.zip\n",
      "3FO4M97GMU55_Bedroom.zip\n",
      "3FO4M959L89N_Bedroom.zip\n",
      "3FO4M959FYD3_Bedroom.zip\n",
      "3FO4M950MAXR_Bedroom.zip\n",
      "3FO4M94UE9H1_Living_room.zip\n",
      "3FO4M94UE9H1_Bedroom.zip\n",
      "3FO4M94U0VD1_Bedroom.zip\n",
      "3FO4M94U0LBX_Bedroom.zip\n",
      "3FO4M94U04LS_Bedroom.zip\n",
      "3FO4M94TSSWW_Bedroom.zip\n",
      "3FO4M94TQPDA_Living_room.zip\n",
      "3FO4M94TQPDA_Dining_room.zip\n",
      "3FO4M94TQPDA_Bedroom.zip\n",
      "3FO4M94TQM19_Bedroom.zip\n",
      "3FO4M94TLX6U_Bedroom.zip\n",
      "3FO4M94TJJL5_Bedroom.zip\n",
      "3FO4M94TIYIY_Bedroom.zip\n",
      "3FO4M94TF5RT_Living_room.zip\n",
      "3FO4M94TF5RT_Bedroom.zip\n",
      "3FO4M94TCXV6_Bedroom.zip\n",
      "3FO4M94TCH61_Bedroom.zip\n",
      "3FO4M94T7VNN_Bedroom.zip\n",
      "3FO4M94T71KE_Bedroom.zip\n",
      "3FO4M94T6TVC_Bedroom.zip\n",
      "3FO4M94T6QJB_Bedroom.zip\n",
      "3FO4M94T6N7A_Bedroom.zip\n",
      "3FO4M94T6JU9_Living_room.zip\n",
      "3FO4M94T6JU9_Dining_room.zip\n",
      "3FO4M94T6JU9_Bedroom.zip\n",
      "3FO4M94T6D67_Living_room.zip\n",
      "3FO4M94T4CXL_Bedroom.zip\n",
      "3FO4M94T3157_Bedroom.zip\n",
      "3FO4M94T1YCV_Bedroom.zip\n",
      "3FO4M94T1OBS_Bedroom.zip\n",
      "3FO4M94ST56J_Living_room.zip\n",
      "3FO4M94ST56J_Bedroom.zip\n",
      "3FO4M94SQD7P_Bedroom.zip\n",
      "3FO4M94SPVHK_Living_room.zip\n",
      "3FO4M94SPVHK_Bedroom.zip\n",
      "3FO4M94SP1EB_Bedroom.zip\n",
      "3FO4M94SOTP9_Bedroom.zip\n",
      "3FO4M94SNOKW_Bedroom.zip\n",
      "3FO4M94SN4IQ_Bedroom.zip\n",
      "3FO4M94SK2IT_Bedroom.zip\n",
      "3FO4M94SIMDE_Bedroom.zip\n",
      "3FO4M94SH3UX_Bedroom.zip\n",
      "3FO4M94SH0IW_Living_room.zip\n",
      "3FO4M94SH0IW_Bedroom.zip\n",
      "3FO4M94SF3NC_Bedroom.zip\n",
      "3FO4M94SCLPL_Bedroom.zip\n",
      "3FO4M94SCIDK_Bedroom.zip\n",
      "3FO4M94S15H6_Bedroom.zip\n",
      "3FO4M94KR4N7_Bedroom.zip\n",
      "3FO4M949CEPN_Bedroom.zip\n",
      "3FO4M93N9S82_Bedroom.zip\n",
      "3FO4M91WL6OX_Living_room.zip\n",
      "3FO4M91WL6OX_Bedroom.zip\n",
      "3FO4M91VONAI_Bedroom.zip\n",
      "3FO4M91V52TN_Living_room.zip\n",
      "3FO4M91G4WNL_Bedroom.zip\n",
      "3FO4M90Y34Q4_Bedroom.zip\n",
      "3FO4M90FCUH5_Bedroom.zip\n",
      "3FO4M8Y3BSYU_Bedroom.zip\n",
      "3FO4M8Y2VJ0A_Bedroom.zip\n",
      "3FO4M8Y2E8S4_Bedroom.zip\n",
      "3FO4M8WYXSM7_Bedroom.zip\n",
      "3FO4M8WWJQ72_Bedroom.zip\n",
      "3FO4M8WPV2K6_Living_room.zip\n",
      "3FO4M8WDW27U_Living_room.zip\n",
      "3FO4M8WDW27U_Bedroom.zip\n",
      "3FO4M8WB7UCO_Bedroom.zip\n",
      "3FO4M8WARXQ8_Bedroom.zip\n",
      "3FO4M8WA2Q0O_Bedroom.zip\n",
      "3FO4M8VWV6I4_Living_room.zip\n",
      "3FO4M8VWV6I4_Bedroom.zip\n",
      "3FO4M8VG2YI7_Bedroom.zip\n",
      "3FO4M8SHSQNA_Bedroom.zip\n",
      "3FO4M8P2LCWY_Living_room.zip\n",
      "3FO4M8P2LCWY_Bedroom.zip\n",
      "3FO4M8ONL9VE_Bedroom.zip\n",
      "3FO4M8OMO6ES_Bedroom.zip\n",
      "3FO4M8NHAK31_Bedroom.zip\n",
      "3FO4M8MGV49C_Bedroom.zip\n",
      "3FO4M8MG4N2F_Bedroom.zip\n",
      "3FO4M8MAOT6N_Bedroom.zip\n",
      "3FO4M8M61JTT_Bedroom.zip\n",
      "3FO4M8M3A9F1_Living_room.zip\n",
      "3FO4M8M3A9F1_Bedroom.zip\n",
      "3FO4M8LLN6EX_Bedroom.zip\n",
      "3FO4M8LANX61_Bedroom.zip\n",
      "3FO4M8IM421L_Bedroom.zip\n",
      "3FO4M8GF3UBJ_Bedroom.zip\n",
      "3FO4M8CJXEYS_Bedroom.zip\n",
      "3FO4M8BJC6R3_Bedroom.zip\n",
      "3FO4M8BFWH5A_Living_room.zip\n",
      "3FO4M8BFWH5A_Bedroom.zip\n",
      "3FO4M8B6OAHM_Living_room.zip\n",
      "3FO4M8B6OAHM_Bedroom.zip\n",
      "3FO4M8A9PHQ1_Bedroom.zip\n",
      "3FO4M89XFXD1_Bedroom.zip\n",
      "3FO4M87S8SGT_Bedroom.zip\n",
      "3FO4M86R7DLK_Bedroom.zip\n",
      "3FO4M85SIEBY_Bedroom.zip\n",
      "3FO4M847PVC1_Living_room.zip\n",
      "3FO4M847PVC1_Bedroom.zip\n",
      "3FO4M847K2DA_Bedroom.zip\n",
      "3FO4M83FCAWC_Living_room.zip\n",
      "3FO4M83FCAWC_Bedroom.zip\n",
      "3FO4M83F9WBM_Bedroom.zip\n",
      "3FO4M83F9C9G_Living_room.zip\n",
      "3FO4M83F9C9G_Bedroom.zip\n",
      "3FO4M83F2X8J_Living_room.zip\n",
      "3FO4M83F2X8J_Bedroom.zip\n",
      "3FO4M83EURGE_Living_room.zip\n",
      "3FO4M83EURGE_Bedroom.zip\n",
      "3FO4M83EQUD8_Bedroom.zip\n",
      "3FO4M83ENSDB_Living_room.zip\n",
      "3FO4M83ENSDB_Bedroom.zip\n",
      "3FO4M83EAILC_Bedroom.zip\n",
      "3FO4M83EA588_Bedroom.zip\n",
      "3FO4M83E738B_Living_room.zip\n",
      "3FO4M83E738B_Bedroom.zip\n",
      "3FO4M83DYT45_Bedroom.zip\n",
      "3FO4M83DY5OX_Bedroom.zip\n",
      "3FO4M83DXRBT_Bedroom.zip\n",
      "3FO4M83DVNR7_Bedroom.zip\n",
      "3FO4M83DU1WP_Bedroom.zip\n",
      "3FO4M83DIE08_Bedroom.zip\n",
      "3FO4M83DH8UV_Bedroom.zip\n",
      "3FO4M83D9EOJ_Bedroom.zip\n",
      "3FO4M83D4FT2_Bedroom.zip\n",
      "3FO4M83CU6HA_Living_room.zip\n",
      "3FO4M83CRYKM_Bedroom.zip\n",
      "3FO4M7UHL731_Bedroom.zip\n",
      "3FO4M7UHJK8J_Bedroom.zip\n",
      "3FO4M7UHGOWO_Bedroom.zip\n",
      "3FO4M7UH23CB_Bedroom.zip\n",
      "3FO4M7UD5K8H_Bedroom.zip\n",
      "3FO4M7U8TPKD_Bedroom.zip\n",
      "3FO4M7U8S3PV_Bedroom.zip\n",
      "3FO4M7TR4R9F_Bedroom.zip\n",
      "3FO4M7TR1SLJ_Bedroom.zip\n",
      "3FO4M7TOF0C3_Bedroom.zip\n",
      "3FO4M7TO9X4K_Living_room.zip\n",
      "3FO4M7TO9X4K_Dining_room.zip\n",
      "3FO4M7TO9X4K_Bedroom.zip\n",
      "3FO4M7TIYEP3_Living_room.zip\n",
      "3FO4M7TIYEP3_Bedroom.zip\n",
      "3FO4M7TEN3BT_Living_room.zip\n",
      "3FO4M7TEN3BT_Bedroom.zip\n",
      "3FO4M7S6ECT4_Bedroom.zip\n",
      "3FO4M7Q7TN3F_Bedroom.zip\n",
      "3FO4M7Q10IUW_Bedroom.zip\n",
      "3FO4M7PFS0MB_Living_room.zip\n",
      "3FO4M7PFS0MB_Bedroom.zip\n",
      "3FO4M7PETH0A_Bedroom.zip\n",
      "3FO4M7PAKWKU_Dining_room.zip\n",
      "3FO4M7PAKWKU_Bedroom.zip\n",
      "3FO4M7P0SSVJ_Bedroom.zip\n",
      "3FO4M7OO580C_Bedroom.zip\n",
      "3FO4M7M83W2Q_Bedroom.zip\n",
      "3FO4M7L0RK2P_Guest_room.zip\n"
     ]
    },
    {
     "name": "stderr",
     "output_type": "stream",
     "text": [
      "Downloading...\n",
      "From: https://drive.google.com/uc?id=1yQS7NkF4BcAC9X-DhB2SHqeYH_8oZ4ld&export=download\n",
      "To: /media/scratch1/erbachj/Mask_RCNN/data/InteriorNet/data/HD7/train/3FO4M7L0RK2P_Guest_room.zip\n",
      "49.0MB [00:00, 56.0MB/s]\n"
     ]
    },
    {
     "name": "stdout",
     "output_type": "stream",
     "text": [
      "3FO4M7DKGWAY_Dining_room.zip\n",
      "3FO4M7DFPYCC_Living_room.zip\n",
      "3FO4M7C66H7X_Bedroom.zip\n",
      "3FO4M78G7QJJ_Bedroom.zip\n",
      "3FO4M755SODK_Bedroom.zip\n",
      "3FO4M6XKI8LW_Bedroom.zip\n",
      "3FO4M6UYP4MF_Bedroom.zip\n",
      "3FO4M6UOQ1U1_Bedroom.zip\n",
      "3FO4M6RRWJHA_Living_room.zip\n",
      "3FO4M6RRAXST_Living_room.zip\n",
      "3FO4M6RQJV01_Bedroom.zip\n",
      "3FO4M7OE3NA7_Bedroom.zip\n",
      "3FO4M7MXYNFM_Bedroom.zip\n",
      "3FO4M7MXY01F_Bedroom.zip\n",
      "3FO4M7MX3BP9_Bedroom.zip\n",
      "3FO4M7MWPM0G_Living_room.zip\n",
      "3FO4M7MWPM0G_Dining_room.zip\n",
      "3FO4M7MWPM0G_Bedroom.zip\n",
      "3FO4M7MWMU1M_Bedroom.zip\n",
      "3FO4M7ML9A8F_Bedroom.zip\n",
      "3FO4M7M8XLXM_Bedroom.zip\n",
      "3FO4M7M8VVR4_Living_room.zip\n",
      "3FO4M7M8VVR4_Dining_room.zip\n",
      "3FO4M7M8VVR4_Bedroom.zip\n",
      "3FO4M7M8T85B_Bedroom.zip\n",
      "3FO4M7M8RB9Q_Bedroom.zip\n",
      "3FO4M7M8QMUJ_Living_room.zip\n",
      "3FO4M7M8QMUJ_Bedroom.zip\n",
      "3FO4M7M8PB25_Bedroom.zip\n",
      "3FO4M7M8FK08_Living_room.zip\n",
      "3FO4M7M8FK08_Bedroom.zip\n",
      "3FO4M7M8EVL1_Bedroom.zip\n",
      "3FO4M7M8DD3K_Bedroom.zip\n",
      "3FO4M7M892MA_Bedroom.zip\n",
      "3FO4M7M85PLA_Bedroom.zip\n",
      "3FO4M7M85C86_Living_room.zip\n",
      "3FO4M7M85C86_Bedroom.zip\n",
      "3FO4M7M83W2Q_Living_room.zip\n",
      "3FO4M7M83W2Q_Dining_room.zip\n",
      "3FO4M7M818FX_Bedroom.zip\n",
      "3FO4M7M7WI1T_Bedroom.zip\n",
      "3FO4M7M7T60T_Bedroom.zip\n",
      "3FO4M7M7S7KJ_Bedroom.zip\n",
      "3FO4M7M7ODTE_Living_room.zip\n",
      "3FO4M7M7ODTE_Bedroom.zip\n",
      "3FO4M7M7LF6I_Bedroom.zip\n",
      "3FO4M7M7KA26_Bedroom.zip\n",
      "3FO4M7M7FV8U_Bedroom.zip\n",
      "3FO4M7M0FQDJ_Bedroom.zip\n",
      "3FO4M7LTWXTV_Bedroom.zip\n",
      "3FO4M7LOYU44_Bedroom.zip\n",
      "3FO4M7L7YO14_Bedroom.zip\n",
      "3FO4M7L0RK2P_Living_room.zip\n",
      "3FO4M7L0RK2P_Bedroom.zip\n",
      "3FO4M7KY5FJM_Bedroom.zip\n",
      "3FO4M7HQDK18_Bedroom.zip\n",
      "3FO4M7HHOXTF_Guest_room.zip\n"
     ]
    },
    {
     "name": "stderr",
     "output_type": "stream",
     "text": [
      "Downloading...\n",
      "From: https://drive.google.com/uc?id=1qqVEspWKmPYpavN1z19orMkhu2Fdlswv&export=download\n",
      "To: /media/scratch1/erbachj/Mask_RCNN/data/InteriorNet/data/HD7/train/3FO4M7HHOXTF_Guest_room.zip\n",
      "47.5MB [00:00, 61.4MB/s]\n"
     ]
    },
    {
     "name": "stdout",
     "output_type": "stream",
     "text": [
      "3FO4M7HHOXTF_Bedroom.zip\n",
      "3FO4M7G1RRLF_Bedroom.zip\n",
      "3FO4M7FIAPVW_Bedroom.zip\n",
      "3FO4M7F0AL1G_Bedroom.zip\n",
      "3FO4M7E3RGMJ_Bedroom.zip\n",
      "3FO4M7DW98LA_Bedroom.zip\n",
      "3FO4M7DPSUUV_Bedroom.zip\n",
      "3FO4M7DNW3MW_Living_room.zip\n",
      "3FO4M7DNW3MW_Dining_room.zip\n",
      "3FO4M7DKGWAY_Living_room.zip\n",
      "3FO4M7DKGWAY_Bedroom.zip\n",
      "3FO4M7DJOROU_Living_room.zip\n",
      "3FO4M7DJOROU_Bedroom.zip\n",
      "3FO4M7DJDESG_Bedroom.zip\n",
      "3FO4M7DIHQHA_Bedroom.zip\n",
      "3FO4M7DI6GWW_Guest_room.zip\n"
     ]
    },
    {
     "name": "stderr",
     "output_type": "stream",
     "text": [
      "Downloading...\n",
      "From: https://drive.google.com/uc?id=1dv2ggr9bJW3BIauqorhBKRg-xZLhsWE9&export=download\n",
      "To: /media/scratch1/erbachj/Mask_RCNN/data/InteriorNet/data/HD7/train/3FO4M7DI6GWW_Guest_room.zip\n",
      "52.1MB [00:01, 41.7MB/s]\n"
     ]
    },
    {
     "name": "stdout",
     "output_type": "stream",
     "text": [
      "3FO4M7DI6GWW_Bedroom.zip\n",
      "3FO4M7DI0QB7_Bedroom.zip\n",
      "3FO4M7DHY4GP_Living_room.zip\n",
      "3FO4M7DHY4GP_Bedroom.zip\n",
      "3FO4M7DHFE44_Living_room.zip\n",
      "3FO4M7DHFE44_Bedroom.zip\n",
      "3FO4M7DGY91A_Living_room.zip\n",
      "3FO4M7DGY91A_Bedroom.zip\n",
      "3FO4M7DFPYCC_Bedroom.zip\n",
      "3FO4M7DDHPUX_Bedroom.zip\n",
      "3FO4M7D6SKIW_Bedroom.zip\n",
      "3FO4M7D60UUM_Bedroom.zip\n",
      "3FO4M7D3IGEH_Bedroom.zip\n",
      "3FO4M7CXXPRP_Bedroom.zip\n",
      "3FO4M7CXKCNP_Bedroom.zip\n",
      "3FO4M7CVYD9Y_Bedroom.zip\n",
      "3FO4M7CT10F2_Living_room.zip\n",
      "3FO4M7CT10F2_Bedroom.zip\n",
      "3FO4M7CF8D6P_Bedroom.zip\n",
      "3FO4M7CETSDN_Bedroom.zip\n",
      "3FO4M7C6HA26_Living_room.zip\n",
      "3FO4M7C6HA26_Bedroom.zip\n",
      "3FO4M7C3PYMD_Bedroom.zip\n",
      "3FO4M7BG6Y8E_Bedroom.zip\n",
      "3FO4M7BEGYEG_Living_room.zip\n",
      "3FO4M7BEGYEG_Bedroom.zip\n",
      "3FO4M7APH56A_Bedroom.zip\n",
      "3FO4M7ABRTXX_Bedroom.zip\n",
      "3FO4M7AACV80_Bedroom.zip\n",
      "3FO4M79YA0W0_Bedroom.zip\n",
      "3FO4M79O8TJY_Bedroom.zip\n",
      "3FO4M78GJHT2_Bedroom.zip\n",
      "3FO4M78GJ7RY_Bedroom.zip\n",
      "3FO4M78GGMI7_Bedroom.zip\n",
      "3FO4M78GEC9I_Bedroom.zip\n",
      "3FO4M78GBQYQ_Bedroom.zip\n",
      "3FO4M78G6YSB_Bedroom.zip\n",
      "3FO4M77SW5E3_Living_room.zip\n",
      "3FO4M77SW5E3_Bedroom.zip\n",
      "3FO4M77PXUV7_Bedroom.zip\n",
      "3FO4M773EXT9_Bedroom.zip\n",
      "3FO4M76WDMM2_Bedroom.zip\n",
      "3FO4M76W1EME_Living_room.zip\n",
      "3FO4M76W1EME_Bedroom.zip\n",
      "3FO4M76VUUOQ_Bedroom.zip\n",
      "3FO4M76VM334_Bedroom.zip\n",
      "3FO4M76V9K2D_Bedroom.zip\n",
      "3FO4M76O9VW7_Bedroom.zip\n",
      "3FO4M76JKO53_Living_room.zip\n",
      "3FO4M76JKO53_Bedroom.zip\n",
      "3FO4M74P9FGS_Bedroom.zip\n",
      "3FO4M73LTYXP_Bedroom.zip\n",
      "3FO4M73GF62X_Living_room.zip\n",
      "3FO4M73GF62X_Bedroom.zip\n",
      "3FO4M6YTL7AD_Bedroom.zip\n",
      "3FO4M6YJAJWI_Bedroom.zip\n",
      "3FO4M6YJ6JHB_Bedroom.zip\n",
      "3FO4M6YIQWVX_Bedroom.zip\n",
      "3FO4M6YINUW1_Bedroom.zip\n",
      "3FO4M6YBU52M_Bedroom.zip\n",
      "3FO4M6XX73BN_Guest_room.zip\n"
     ]
    },
    {
     "name": "stderr",
     "output_type": "stream",
     "text": [
      "Downloading...\n",
      "From: https://drive.google.com/uc?id=1WBLztOvWvbA9swSAHB2Aq2TCcPW4PTaD&export=download\n",
      "To: /media/scratch1/erbachj/Mask_RCNN/data/InteriorNet/data/HD7/train/3FO4M6XX73BN_Guest_room.zip\n",
      "61.3MB [00:03, 18.0MB/s]\n"
     ]
    },
    {
     "name": "stdout",
     "output_type": "stream",
     "text": [
      "3FO4M6XX73BN_Bedroom.zip\n",
      "3FO4M6XWKL08_Bedroom.zip\n",
      "3FO4M6XWCNGU_Bedroom.zip\n",
      "3FO4M6X5L5FR_Bedroom.zip\n",
      "3FO4M6WNOYRY_Living_room.zip\n",
      "3FO4M6WNOYRY_Bedroom.zip\n",
      "3FO4M6WMGP41_Bedroom.zip\n",
      "3FO4M6WGSDMP_Bedroom.zip\n",
      "3FO4M6WGGT29_Bedroom.zip\n",
      "3FO4M6VULQOW_Bedroom.zip\n",
      "3FO4M6VDCLB8_Bedroom.zip\n",
      "3FO4M6V09BP6_Bedroom.zip\n",
      "3FO4M6V022L0_Living_room.zip\n",
      "3FO4M6UYXC6V_Bedroom.zip\n",
      "3FO4M6UYWKFN_Bedroom.zip\n",
      "3FO4M6UYSQOI_Bedroom.zip\n",
      "3FO4M6UYP4MF_Living_room.zip\n",
      "3FO4M6UYM2MI_Living_room.zip\n",
      "3FO4M6UYM2MI_Bedroom.zip\n",
      "3FO4M6UYJ0ML_Bedroom.zip\n",
      "3FO4M6UYBN6E_Bedroom.zip\n",
      "3FO4M6UY1FEC_Bedroom.zip\n",
      "3FO4M6UY0DM1_Bedroom.zip\n",
      "3FO4M6UXWP08_Bedroom.zip\n",
      "3FO4M6UP68HK_Bedroom.zip\n",
      "3FO4M6UP655J_Bedroom.zip\n",
      "3FO4M6UP4IB2_Bedroom.zip\n",
      "3FO4M6UP3JUR_Living_room.zip\n",
      "3FO4M6UP3JUR_Bedroom.zip\n",
      "3FO4M6UP2I3G_Bedroom.zip\n",
      "3FO4M6UOQ1U1_Living_room.zip\n",
      "3FO4M6UOO8BH_Living_room.zip\n",
      "3FO4M6UOO8BH_Bedroom.zip\n",
      "3FO4M6UOK4J9_Living_room.zip\n",
      "3FO4M6UOK4J9_Bedroom.zip\n",
      "3FO4M6UJWPAO_Bedroom.zip\n",
      "3FO4M6U6FHIG_Bedroom.zip\n",
      "3FO4M6TQ6D1P_Bedroom.zip\n",
      "3FO4M6T3T51R_Bedroom.zip\n",
      "3FO4M6RSSV7N_Bedroom.zip\n",
      "3FO4M6RSD7TY_Bedroom.zip\n",
      "3FO4M6RSCQ4T_Bedroom.zip\n",
      "3FO4M6RS68QV_Bedroom.zip\n",
      "3FO4M6RS0BG4_Bedroom.zip\n",
      "3FO4M6RRWMTB_Bedroom.zip\n",
      "3FO4M6RRWJHA_Bedroom.zip\n",
      "3FO4M6RRT449_Living_room.zip\n",
      "3FO4M6RRT449_Bedroom.zip\n",
      "3FO4M6RRQITH_Bedroom.zip\n",
      "3FO4M6RRQ24C_Living_room.zip\n",
      "3FO4M6RRQ24C_Bedroom.zip\n",
      "3FO4M6RROF9U_Bedroom.zip\n",
      "3FO4M6RRNGTK_Bedroom.zip\n",
      "3FO4M6RRKOUQ_Bedroom.zip\n",
      "3FO4M6RRIHY3_Living_room.zip\n",
      "3FO4M6RRIHY3_Bedroom.zip\n",
      "3FO4M6RRIBA1_Bedroom.zip\n",
      "3FO4M6RRGL3I_Bedroom.zip\n",
      "3FO4M6RRBM81_Bedroom.zip\n",
      "3FO4M6RRAXST_Bedroom.zip\n",
      "3FO4M6RRADQN_Bedroom.zip\n",
      "3FO4M6RR8A71_Living_room.zip\n",
      "3FO4M6RR8A71_Bedroom.zip\n",
      "3FO4M6RR7BQQ_Bedroom.zip\n",
      "3FO4M6RR63AD_Dining_room.zip\n",
      "3FO4M6RR63AD_Bedroom.zip\n",
      "3FO4M6RR4JRW_Living_room.zip\n",
      "3FO4M6RR4JRW_Bedroom.zip\n",
      "3FO4M6RR34MH_Bedroom.zip\n",
      "3FO4M6RQX941_Bedroom.zip\n",
      "3FO4M6RQWHCS_Bedroom.zip\n",
      "3FO4M6RQOQIH_Bedroom.zip\n",
      "3FO4M6RQLEHH_Bedroom.zip\n",
      "3FO4M6P6H334_Bedroom.zip\n",
      "3FO4M6P60TN9_Bedroom.zip\n",
      "3FO4M6P5F7F3_Living_room.zip\n",
      "3FO4M6K8FMJS_Living_room.zip\n",
      "3FO4M6FA1UOS_Bedroom.zip\n",
      "3FO4M6F8DRQF_Bedroom.zip\n",
      "3FO4M6DQGTF1_Bedroom.zip\n",
      "3FO4M69EXH2X_Living_room.zip\n",
      "3FO4M653Q0W4_Living_room.zip\n",
      "3FO4M616QAA5_Bedroom.zip\n",
      "3FO4M5VJQJXH_Bedroom.zip\n",
      "3FO4M5VIIGXL_Living_room.zip\n",
      "3FO4M5SWGXPL_Bedroom.zip\n",
      "3FO4M6RQIFTL_Bedroom.zip\n",
      "3FO4M6RQGIY1_Bedroom.zip\n",
      "3FO4M6R0RK06_Living_room.zip\n",
      "3FO4M6R0RK06_Bedroom.zip\n",
      "3FO4M6R0MYHS_Bedroom.zip\n",
      "3FO4M6R0MB3L_Bedroom.zip\n",
      "3FO4M6R0L2M8_Bedroom.zip\n",
      "3FO4M6R01XVI_Bedroom.zip\n",
      "3FO4M6QPQKC7_Living_room.zip\n",
      "3FO4M6QPQKC7_Bedroom.zip\n",
      "3FO4M6QPPBUT_Bedroom.zip\n",
      "3FO4M6QPCW74_Bedroom.zip\n",
      "3FO4M6QPBXQT_Bedroom.zip\n",
      "3FO4M6QP903X_Bedroom.zip\n",
      "3FO4M6QP5JPW_Living_room.zip\n",
      "3FO4M6QP5JPW_Dining_room.zip\n",
      "3FO4M6QP5JPW_Bedroom.zip\n",
      "3FO4M6QOXY0X_Bedroom.zip\n",
      "3FO4M6QOX3WO_Bedroom.zip\n",
      "3FO4M6QOWW8M_Bedroom.zip\n",
      "3FO4M6QOT6TI_Living_room.zip\n",
      "3FO4M6QOT6TI_Dining_room.zip\n",
      "3FO4M6QOT6TI_Bedroom.zip\n",
      "3FO4M6PQ4T6S_Bedroom.zip\n",
      "3FO4M6P6KIG5_Bedroom.zip\n",
      "3FO4M6P6K531_Bedroom.zip\n",
      "3FO4M6P6IOWL_Bedroom.zip\n",
      "3FO4M6P6IBJH_Bedroom.zip\n",
      "3FO4M6P6GI0X_Bedroom.zip\n",
      "3FO4M6P6FMWO_Living_room.zip\n",
      "3FO4M6P6FMWO_Bedroom.zip\n",
      "3FO4M6P6DTE5_Bedroom.zip\n",
      "3FO4M6P6BPTI_Bedroom.zip\n",
      "3FO4M6P6A401_Dining_room.zip\n",
      "3FO4M6P6A401_Bedroom.zip\n",
      "3FO4M6P68DSI_Bedroom.zip\n",
      "3FO4M6P66QY1_Bedroom.zip\n",
      "3FO4M6P65SIQ_Bedroom.zip\n",
      "3FO4M6P65IHN_Bedroom.zip\n",
      "3FO4M6P64NEE_Bedroom.zip\n",
      "3FO4M6P63LM3_Bedroom.zip\n",
      "3FO4M6P60TN9_Living_room.zip\n",
      "3FO4M6P5XJEK_Bedroom.zip\n",
      "3FO4M6P5T5L9_Bedroom.zip\n",
      "3FO4M6P5SXW7_Bedroom.zip\n",
      "3FO4M6P5S0GW_Bedroom.zip\n",
      "3FO4M6P5RW4V_Bedroom.zip\n",
      "3FO4M6P5OGQU_Bedroom.zip\n",
      "3FO4M6P5O01P_Bedroom.zip\n",
      "3FO4M6P5M6I6_Bedroom.zip\n",
      "3FO4M6P5KGBN_Bedroom.zip\n",
      "3FO4M6P5K2XJ_Bedroom.zip\n",
      "3FO4M6P5JOKF_Bedroom.zip\n",
      "3FO4M6P5IMS4_Living_room.zip\n",
      "3FO4M6P5IMS4_Bedroom.zip\n",
      "3FO4M6P5H7MO_Bedroom.zip\n",
      "3FO4M6P5CPHC_Bedroom.zip\n",
      "3FO4M6P5A8JL_Bedroom.zip\n",
      "3FO4M6P59U6H_Living_room.zip\n",
      "3FO4M6P59U6H_Dining_room.zip\n",
      "3FO4M6P59U6H_Bedroom.zip\n",
      "3FO4M6P51MM1_Bedroom.zip\n",
      "3FO4M6P50RIR_Bedroom.zip\n",
      "3FO4M6N5YTD8_Bedroom.zip\n",
      "3FO4M6MVGSBM_Living_room.zip\n",
      "3FO4M6MVGSBM_Bedroom.zip\n",
      "3FO4M6M25R9R_Living_room.zip\n",
      "3FO4M6M25R9R_Bedroom.zip\n",
      "3FO4M6LLW4I6_Bedroom.zip\n",
      "3FO4M6L20E3S_Bedroom.zip\n",
      "3FO4M6K8FMJS_Bedroom.zip\n",
      "3FO4M6JP36CN_Bedroom.zip\n",
      "3FO4M6JBP5OO_Bedroom.zip\n",
      "3FO4M6JB4SHL_Bedroom.zip\n",
      "3FO4M6JB04N7_Bedroom.zip\n",
      "3FO4M6JAEO43_Bedroom.zip\n",
      "3FO4M6JA8DF7_Bedroom.zip\n",
      "3FO4M6J947IH_Bedroom.zip\n",
      "3FO4M6J8SOPC_Bedroom.zip\n",
      "3FO4M6I6YK6S_Living_room.zip\n",
      "3FO4M6I6YK6S_Dining_room.zip\n",
      "3FO4M6I60X7Q_Living_room.zip\n",
      "3FO4M6I60X7Q_Bedroom.zip\n",
      "3FO4M6FIFPTO_Bedroom.zip\n",
      "3FO4M6F9KM9X_Bedroom.zip\n",
      "3FO4M6F9AYK2_Living_room.zip\n",
      "3FO4M6F9AYK2_Dining_room.zip\n",
      "3FO4M6F9AYK2_Bedroom.zip\n",
      "3FO4M6F9ARV0_Bedroom.zip\n",
      "3FO4M6F93W4X_Bedroom.zip\n",
      "3FO4M6F92XON_Bedroom.zip\n",
      "3FO4M6F8YLNN_Bedroom.zip\n",
      "3FO4M6F8Q434_Living_room.zip\n",
      "3FO4M6F8Q434_Dining_room.zip\n",
      "3FO4M6F8Q434_Bedroom.zip\n",
      "3FO4M6F8O3UI_Bedroom.zip\n",
      "3FO4M6F8JP27_Bedroom.zip\n",
      "3FO4M6F8FB8V_Bedroom.zip\n",
      "3FO4M6F8B7GN_Bedroom.zip\n",
      "3FO4M6F88PIW_Living_room.zip\n",
      "3FO4M6F88PIW_Bedroom.zip\n",
      "3FO4M6F885GQ_Bedroom.zip\n",
      "3FO4M6F839XA_Bedroom.zip\n",
      "3FO4M6F8131M_Bedroom.zip\n",
      "3FO4M6F7YJJ6_Living_room.zip\n",
      "3FO4M6F7YJJ6_Bedroom.zip\n",
      "3FO4M6F7Y662_Bedroom.zip\n",
      "3FO4M6F7QINR_Bedroom.zip\n",
      "3FO4M6F5RWW9_Living_room.zip\n",
      "3FO4M6F5RWW9_Bedroom.zip\n",
      "3FO4M6F4AXXP_Living_room.zip\n",
      "3FO4M6F4AXXP_Bedroom.zip\n",
      "3FO4M6D1JVP9_Living_room.zip\n",
      "3FO4M6D1JVP9_Dining_room.zip\n",
      "3FO4M6D1JVP9_Bedroom.zip\n",
      "3FO4M6B7U21D_Bedroom.zip\n",
      "3FO4M6B6NHIX_Living_room.zip\n",
      "3FO4M6B6NHIX_Dining_room.zip\n",
      "3FO4M6AY9OIJ_Dining_room.zip\n",
      "3FO4M6AY9OIJ_Bedroom.zip\n",
      "3FO4M6AWLLK6_Bedroom.zip\n",
      "3FO4M6A3UCN8_Bedroom.zip\n",
      "3FO4M6A3O5BD_Bedroom.zip\n",
      "3FO4M6A1XUGC_Bedroom.zip\n",
      "3FO4M69NWYG0_Bedroom.zip\n",
      "3FO4M69HB10M_Bedroom.zip\n",
      "3FO4M69EXH2X_Dining_room.zip\n",
      "3FO4M68GY8SQ_Living_room.zip\n",
      "3FO4M68GY8SQ_Bedroom.zip\n",
      "3FO4M686HRH5_Living_room.zip\n",
      "3FO4M686HRH5_Bedroom.zip\n",
      "3FO4M67RJYO9_Bedroom.zip\n",
      "3FO4M67CGKT8_Bedroom.zip\n",
      "3FO4M67A5DOX_Bedroom.zip\n",
      "3FO4M678KMRK_Bedroom.zip\n",
      "3FO4M66IMQMI_Bedroom.zip\n",
      "3FO4M66C6STX_Bedroom.zip\n",
      "3FO4M66BRY0S_Bedroom.zip\n",
      "3FO4M669C6E5_Bedroom.zip\n",
      "3FO4M6583KQQ_Bedroom.zip\n",
      "3FO4M653Q0W4_Bedroom.zip\n",
      "3FO4M652OSNA_Living_room.zip\n",
      "3FO4M652OSNA_Dining_room.zip\n",
      "3FO4M652OSNA_Bedroom.zip\n",
      "3FO4M627614W_Bedroom.zip\n",
      "3FO4M61PNW0B_Bedroom.zip\n",
      "3FO4M61PMK6W_Living_room.zip\n",
      "3FO4M61PMK6W_Dining_room.zip\n",
      "3FO4M61PMK6W_Bedroom.zip\n",
      "3FO4M61PLF2K_Bedroom.zip\n",
      "3FO4M61LQ5F4_Bedroom.zip\n",
      "3FO4M61C0NKA_Living_room.zip\n",
      "3FO4M61C0NKA_Bedroom.zip\n",
      "3FO4M61BVD40_Bedroom.zip\n",
      "3FO4M60MJ7J5_Bedroom.zip\n",
      "3FO4M60KV4KR_Living_room.zip\n",
      "3FO4M60KV4KR_Bedroom.zip\n",
      "3FO4M5YJEEPX_Bedroom.zip\n",
      "3FO4M5YGDNAB_Bedroom.zip\n",
      "3FO4M5WVUQRP_Bedroom.zip\n",
      "3FO4M5W4GHXT_Bedroom.zip\n",
      "3FO4M5VK71M4_Bedroom.zip\n",
      "3FO4M5VK4D0B_Bedroom.zip\n",
      "3FO4M5VJXJ1K_Living_room.zip\n",
      "3FO4M5VJX5NG_Bedroom.zip\n",
      "3FO4M5VJV5FU_Bedroom.zip\n",
      "3FO4M5VJQJXH_Living_room.zip\n",
      "3FO4M5VJQJXH_Dining_room.zip\n",
      "3FO4M5VJP4S2_Bedroom.zip\n",
      "3FO4M5VJO9OS_Bedroom.zip\n",
      "3FO4M5VJNRYN_Bedroom.zip\n",
      "3FO4M5VJB6LV_Bedroom.zip\n",
      "3FO4M5VJAI7O_Bedroom.zip\n",
      "3FO4M5VJA1HJ_Living_room.zip\n",
      "3FO4M5VJA1HJ_Bedroom.zip\n",
      "3FO4M5VJ7WWW_Bedroom.zip\n",
      "3FO4M5VJ4KVW_Bedroom.zip\n",
      "3FO4M5VJ2AN8_Bedroom.zip\n",
      "3FO4M5VJ126U_Bedroom.zip\n",
      "3FO4M5VIWSHV_Bedroom.zip\n",
      "3FO4M5VIME1R_Bedroom.zip\n",
      "3FO4M5VIM40O_Bedroom.zip\n",
      "3FO4M5VIIGXL_Bedroom.zip\n",
      "3FO4M5VIHBT9_Bedroom.zip\n",
      "3FO4M5VID1CY_Bedroom.zip\n",
      "3FO4M5VIBRVL_Bedroom.zip\n",
      "3FO4M5VFJMDJ_Guest_room.zip\n"
     ]
    },
    {
     "name": "stderr",
     "output_type": "stream",
     "text": [
      "Downloading...\n",
      "From: https://drive.google.com/uc?id=1noyNjS7Bo8luJvIgvUVuHHXh3dDE2Jvr&export=download\n",
      "To: /media/scratch1/erbachj/Mask_RCNN/data/InteriorNet/data/HD7/train/3FO4M5VFJMDJ_Guest_room.zip\n",
      "52.5MB [00:02, 25.4MB/s]\n"
     ]
    },
    {
     "name": "stdout",
     "output_type": "stream",
     "text": [
      "3FO4M5V8I91U_Bedroom.zip\n",
      "3FO4M5UJMLWX_Bedroom.zip\n",
      "3FO4M5UJLA4J_Bedroom.zip\n",
      "3FO4M5UJGOM6_Bedroom.zip\n",
      "3FO4M5UJG7W1_Bedroom.zip\n",
      "3FO4M5UJFCSR_Bedroom.zip\n",
      "3FO4M5UJ0Q8E_Living_room.zip\n",
      "3FO4M5UJ0Q8E_Bedroom.zip\n",
      "3FO4M5TT5200_Bedroom.zip\n",
      "3FO4M5MBJ278_Bedroom.zip\n",
      "3FO4M5MAIVPP_Living_room.zip\n",
      "3FO4M5D7RN0N_Living_room.zip\n",
      "3FO4M5C0JN1M_Dining_room.zip\n",
      "3FO4M57YLRGC_Bedroom.zip\n",
      "3FO4M56IRQKA_Bedroom.zip\n",
      "3FO4M560I2BY_Bedroom.zip\n",
      "3FO4M55HCNJX_Bedroom.zip\n",
      "3FO4M53N51XQ_Bedroom.zip\n",
      "3FO4M4YKBJ9T_Bedroom.zip\n",
      "3FO4M4VJNFNT_Living_room.zip\n",
      "3FO4M4UPF38R_Bedroom.zip\n",
      "3FO4M4UOTMON_Living_room.zip\n",
      "3FO4M5STQBP0_Bedroom.zip\n",
      "3FO4M5RD0KPG_Bedroom.zip\n",
      "3FO4M5QSP2LF_Bedroom.zip\n",
      "3FO4M5QHMY1N_Bedroom.zip\n",
      "3FO4M5QHKNRY_Bedroom.zip\n",
      "3FO4M5PMJP1N_Bedroom.zip\n",
      "3FO4M5PIUWR5_Living_room.zip\n",
      "3FO4M5PIUWR5_Bedroom.zip\n",
      "3FO4M5PAXEE5_Bedroom.zip\n",
      "3FO4M5OT3R8S_Living_room.zip\n",
      "3FO4M5OFAQMC_Bedroom.zip\n",
      "3FO4M5NSYFU5_Bedroom.zip\n",
      "3FO4M5NKHPEE_Bedroom.zip\n",
      "3FO4M5NF017R_Living_room.zip\n",
      "3FO4M5NF017R_Bedroom.zip\n",
      "3FO4M5MC7JQ9_Living_room.zip\n",
      "3FO4M5MC7JQ9_Bedroom.zip\n",
      "3FO4M5MC1J3G_Bedroom.zip\n",
      "3FO4M5MC1FQF_Bedroom.zip\n",
      "3FO4M5MBXXSO_Living_room.zip\n",
      "3FO4M5MBU52J_Living_room.zip\n",
      "3FO4M5MBU52J_Bedroom.zip\n",
      "3FO4M5MBRTSU_Living_room.zip\n",
      "3FO4M5MBRTSU_Bedroom.zip\n",
      "3FO4M5MBQ4MC_Bedroom.zip\n",
      "3FO4M5MBOYI0_Bedroom.zip\n",
      "3FO4M5MBL2ET_Bedroom.zip\n",
      "3FO4M5MBKHCN_Bedroom.zip\n",
      "3FO4M5MBIAG0_Living_room.zip\n",
      "3FO4M5MBIAG0_Bedroom.zip\n",
      "3FO4M5MBD1JF_Bedroom.zip\n",
      "3FO4M5MB48WS_Bedroom.zip\n",
      "3FO4M5MB3KIL_Bedroom.zip\n",
      "3FO4M5MB1NN1_Bedroom.zip\n",
      "3FO4M5MB16WV_Bedroom.zip\n",
      "3FO4M5MB0SJR_Bedroom.zip\n",
      "3FO4M5MAY3D9_Bedroom.zip\n",
      "3FO4M5MAW35N_Bedroom.zip\n",
      "3FO4M5MAT4HR_Bedroom.zip\n",
      "3FO4M5MAS62H_Living_room.zip\n",
      "3FO4M5MAS62H_Bedroom.zip\n",
      "3FO4M5MAJ6QS_Bedroom.zip\n",
      "3FO4M5MAG1EU_Bedroom.zip\n",
      "3FO4M5MAF6BL_Bedroom.zip\n",
      "3FO4M5MA06D4_Bedroom.zip\n",
      "3FO4M5LXKX5P_Bedroom.zip\n",
      "3FO4M5KASUXY_Bedroom.zip\n",
      "3FO4M5JQVMLW_Dining_room.zip\n",
      "3FO4M5JQVMLW_Bedroom.zip\n",
      "3FO4M5GX6XOP_Bedroom.zip\n",
      "3FO4M5GNJM6T_Bedroom.zip\n",
      "3FO4M5FOV7YE_Bedroom.zip\n",
      "3FO4M5FORO9C_Bedroom.zip\n",
      "3FO4M5E1T1CM_Bedroom.zip\n",
      "3FO4M5DFD1Q1_Living_room.zip\n",
      "3FO4M5DFD1Q1_Bedroom.zip\n",
      "3FO4M5D7RN0N_Bedroom.zip\n",
      "3FO4M5CVBL9P_Bedroom.zip\n",
      "3FO4M5CS3Y31_Bedroom.zip\n",
      "3FO4M5CS0FCY_Living_room.zip\n",
      "3FO4M5CRY6VL_Bedroom.zip\n",
      "3FO4M5CRN41A_Bedroom.zip\n",
      "3FO4M5CRM5L0_Bedroom.zip\n",
      "3FO4M5CRKPFK_Living_room.zip\n",
      "3FO4M5CRKPFK_Bedroom.zip\n",
      "3FO4M5CRFTW4_Bedroom.zip\n",
      "3FO4M5CRDCYD_Living_room.zip\n",
      "3FO4M5CRDCYD_Bedroom.zip\n",
      "3FO4M5CA9X7E_Bedroom.zip\n",
      "3FO4M5C0JN1M_Living_room.zip\n",
      "3FO4M5C0JN1M_Bedroom.zip\n",
      "3FO4M5BNP1HM_Guest_room.zip\n"
     ]
    },
    {
     "name": "stderr",
     "output_type": "stream",
     "text": [
      "Downloading...\n",
      "From: https://drive.google.com/uc?id=1EWDO1_F5NzLLqBctPoyF7lKo5VG5mZkC&export=download\n",
      "To: /media/scratch1/erbachj/Mask_RCNN/data/InteriorNet/data/HD7/train/3FO4M5BNP1HM_Guest_room.zip\n",
      "65.7MB [00:01, 51.5MB/s]\n"
     ]
    },
    {
     "name": "stdout",
     "output_type": "stream",
     "text": [
      "3FO4M5BNP1HM_Bedroom.zip\n",
      "3FO4M5BN4KXI_Bedroom.zip\n",
      "3FO4M5BILAH6_Bedroom.zip\n",
      "3FO4M5BH2I03_Living_room.zip\n",
      "3FO4M5BH2I03_Bedroom.zip\n",
      "3FO4M5BB050K_Bedroom.zip\n",
      "3FO4M5AOD837_Bedroom.zip\n",
      "3FO4M5AMWUY5_Bedroom.zip\n",
      "3FO4M5AJ3N40_Living_room.zip\n",
      "3FO4M5AJ3N40_Bedroom.zip\n",
      "3FO4M58YBKLN_Bedroom.zip\n",
      "3FO4M58H65M3_Bedroom.zip\n",
      "3FO4M57PYYS3_Bedroom.zip\n",
      "3FO4M56KF64G_Bedroom.zip\n",
      "3FO4M56JTFJ9_Bedroom.zip\n",
      "3FO4M56JSR52_Bedroom.zip\n",
      "3FO4M56JQA7B_Bedroom.zip\n",
      "3FO4M56JLENU_Bedroom.zip\n",
      "3FO4M56JJRTD_Bedroom.zip\n",
      "3FO4M56JDR6K_Bedroom.zip\n",
      "3FO4M56JC5C3_Bedroom.zip\n",
      "3FO4M56J7D5N_Living_room.zip\n",
      "3FO4M56J7D5N_Bedroom.zip\n",
      "3FO4M56J5GA3_Bedroom.zip\n",
      "3FO4M56J0RFO_Bedroom.zip\n",
      "3FO4M56IUIJ4_Bedroom.zip\n",
      "3FO4M56IQVH1_Bedroom.zip\n",
      "3FO4M56IPGBL_Living_room.zip\n",
      "3FO4M56IORWE_Bedroom.zip\n",
      "3FO4M56IOOKD_Bedroom.zip\n",
      "3FO4M56IO7U8_Bedroom.zip\n",
      "3FO4M56IFF8L_Bedroom.zip\n",
      "3FO4M56IAX39_Bedroom.zip\n",
      "3FO4M56IATQ8_Bedroom.zip\n",
      "3FO4M56I9YMY_Bedroom.zip\n",
      "3FO4M56I0LY6_Bedroom.zip\n",
      "3FO4M56HSCU0_Bedroom.zip\n",
      "3FO4M56HRYGV_Bedroom.zip\n",
      "3FO4M56HLUH2_Bedroom.zip\n",
      "3FO4M561MOXT_Living_room.zip\n",
      "3FO4M55Y04X5_Bedroom.zip\n",
      "3FO4M55S2WI6_Living_room.zip\n",
      "3FO4M55S2WI6_Bedroom.zip\n",
      "3FO4M55RL7D6_Bedroom.zip\n",
      "3FO4M55RGP7T_Bedroom.zip\n",
      "3FO4M55R8YDI_Bedroom.zip\n",
      "3FO4M55R5CBF_Bedroom.zip\n",
      "3FO4M55Q6M0C_Living_room.zip\n",
      "3FO4M55LR1X4_Bedroom.zip\n",
      "3FO4M55JISGP_Bedroom.zip\n",
      "3FO4M55IDY5S_Bedroom.zip\n",
      "3FO4M55I2RXG_Living_room.zip\n",
      "3FO4M55I2RXG_Bedroom.zip\n",
      "3FO4M55HPQMU_Bedroom.zip\n",
      "3FO4M5567VDD_Bedroom.zip\n",
      "3FO4M554JSF0_Living_room.zip\n",
      "3FO4M554JSF0_Bedroom.zip\n",
      "3FO4M5536JUK_Bedroom.zip\n",
      "3FO4M54XYC9J_Living_room.zip\n",
      "3FO4M54XYC9J_Bedroom.zip\n",
      "3FO4M54XCXA5_Bedroom.zip\n",
      "3FO4M54WJNJO_Living_room.zip\n",
      "3FO4M54WJNJO_Bedroom.zip\n",
      "3FO4M54VUE9F_Living_room.zip\n",
      "3FO4M54VUE9F_Bedroom.zip\n",
      "3FO4M54VAFFG_Living_room.zip\n",
      "3FO4M54A60EB_Bedroom.zip\n",
      "3FO4M542EOD6_Bedroom.zip\n",
      "3FO4M53FXVFM_Bedroom.zip\n",
      "3FO4M53FNDMH_Bedroom.zip\n",
      "3FO4M532G6X9_Bedroom.zip\n",
      "3FO4M52DPFCS_Bedroom.zip\n",
      "3FO4M52CHME0_Bedroom.zip\n",
      "3FO4M51DVVSD_Bedroom.zip\n",
      "3FO4M50WXI1D_Bedroom.zip\n",
      "3FO4M50UHFDM_Bedroom.zip\n",
      "3FO4M50IMM5K_Dining_room.zip\n",
      "3FO4M50IMM5K_Bedroom.zip\n",
      "3FO4M4YUVJBH_Living_room.zip\n",
      "3FO4M4YUVJBH_Dining_room.zip\n",
      "3FO4M4YUVJBH_Bedroom.zip\n",
      "3FO4M4YUQ72V_Bedroom.zip\n",
      "3FO4M4Y0L7VD_Guest_room.zip\n"
     ]
    },
    {
     "name": "stderr",
     "output_type": "stream",
     "text": [
      "Downloading...\n",
      "From: https://drive.google.com/uc?id=1lSI9uBp_kaIkEORY0GTkv5W2M1b4EFoK&export=download\n",
      "To: /media/scratch1/erbachj/Mask_RCNN/data/InteriorNet/data/HD7/train/3FO4M4Y0L7VD_Guest_room.zip\n",
      "46.7MB [00:01, 40.7MB/s]\n"
     ]
    },
    {
     "name": "stdout",
     "output_type": "stream",
     "text": [
      "3FO4M4Y0L7VD_Bedroom.zip\n",
      "3FO4M4XX1VJN_Bedroom.zip\n",
      "3FO4M4XRC1KV_Bedroom.zip\n",
      "3FO4M4XGRSAG_Bedroom.zip\n",
      "3FO4M4WW0GOE_Living_room.zip\n",
      "3FO4M4WW0GOE_Dining_room.zip\n",
      "3FO4M4WW0GOE_Bedroom.zip\n",
      "3FO4M4WPIDRH_Bedroom.zip\n",
      "3FO4M4W3DOWS_Bedroom.zip\n",
      "3FO4M4VT2QBB_Bedroom.zip\n",
      "3FO4M4VST5DQ_Bedroom.zip\n",
      "3FO4M4VS5JHO_Bedroom.zip\n",
      "3FO4M4VJY1T0_Bedroom.zip\n",
      "3FO4M4VJNFNT_Guest_room.zip\n"
     ]
    },
    {
     "name": "stderr",
     "output_type": "stream",
     "text": [
      "Downloading...\n",
      "From: https://drive.google.com/uc?id=1MqZCoE9cmPQD7i8OWtQ00fgMZViWoYQ7&export=download\n",
      "To: /media/scratch1/erbachj/Mask_RCNN/data/InteriorNet/data/HD7/train/3FO4M4VJNFNT_Guest_room.zip\n",
      "70.6MB [00:01, 61.9MB/s]\n"
     ]
    },
    {
     "name": "stdout",
     "output_type": "stream",
     "text": [
      "3FO4M4VJNFNT_Bedroom.zip\n",
      "3FO4M4V9GFD2_Bedroom.zip\n",
      "3FO4M4V3D0L8_Bedroom.zip\n",
      "3FO4M4UUYHLW_Bedroom.zip\n",
      "3FO4M4URS0JK_Bedroom.zip\n",
      "3FO4M4UR32U4_Bedroom.zip\n",
      "3FO4M4UPY0AF_Living_room.zip\n",
      "3FO4M4UPWNH1_Bedroom.zip\n",
      "3FO4M4UPU6JA_Bedroom.zip\n",
      "3FO4M4UPS6BO_Bedroom.zip\n",
      "3FO4M4UPRRXK_Bedroom.zip\n",
      "3FO4M4UPFGLV_Living_room.zip\n",
      "3FO4M4UPFGLV_Bedroom.zip\n",
      "3FO4M4UPCON2_Bedroom.zip\n",
      "3FO4M4UPC4KV_Living_room.zip\n",
      "3FO4M4UPARRH_Bedroom.zip\n",
      "3FO4M4UPA119_Living_room.zip\n",
      "3FO4M4UPA119_Bedroom.zip\n",
      "3FO4M4UP8HIS_Living_room.zip\n",
      "3FO4M4UP7T4L_Bedroom.zip\n",
      "3FO4M4UP6Y1C_Bedroom.zip\n",
      "3FO4M4UP472I_Bedroom.zip\n",
      "3FO4M4UP3W1F_Bedroom.zip\n",
      "3FO4M4UP38M8_Living_room.zip\n",
      "3FO4M4UP38M8_Bedroom.zip\n",
      "3FO4M4UOXJRT_Bedroom.zip\n",
      "3FO4M4UOWVDM_Bedroom.zip\n",
      "3FO4M4R6P4KS_Living_room.zip\n",
      "3FO4M4R62R64_Bedroom.zip\n",
      "3FO4M4R52P1M_Dining_room.zip\n",
      "3FO4M4QWBUPM_Bedroom.zip\n",
      "3FO4M4JSNUES_Bedroom.zip\n",
      "3FO4M4FOPP41_Living_room.zip\n",
      "3FO4M4FND1LR_Bedroom.zip\n",
      "3FO4M4E275HT_Living_room.zip\n",
      "3FO4M4B0EYC5_Bedroom.zip\n",
      "3FO4M4AYI5VM_Bedroom.zip\n",
      "3FO4M46IOIXL_Bedroom.zip\n",
      "3FO4M44SAU6G_Dining_room.zip\n",
      "3FO4M41QBVLQ_Bedroom.zip\n",
      "3FO4M4UOTMON_Dining_room.zip\n",
      "3FO4M4UOTMON_Bedroom.zip\n",
      "3FO4M4UOP27A_Bedroom.zip\n",
      "3FO4M4UON5BP_Bedroom.zip\n",
      "3FO4M4UOD48P_Bedroom.zip\n",
      "3FO4M4UOCWJN_Living_room.zip\n",
      "3FO4M4UOCWJN_Bedroom.zip\n",
      "3FO4M4UOCCHH_Bedroom.zip\n",
      "3FO4M4UOBY4D_Bedroom.zip\n",
      "3FO4M4UNXV1G_Bedroom.zip\n",
      "3FO4M4UN7OUM_Bedroom.zip\n",
      "3FO4M4UN17HO_Bedroom.zip\n",
      "3FO4M4UMKPT2_Dining_room.zip\n",
      "3FO4M4UMCVMP_Living_room.zip\n",
      "3FO4M4UM60VN_Bedroom.zip\n",
      "3FO4M4TRT1EI_Bedroom.zip\n",
      "3FO4M4TQS46R_Living_room.zip\n",
      "3FO4M4TO4Y3W_Bedroom.zip\n",
      "3FO4M4R791MG_Bedroom.zip\n",
      "3FO4M4R766BL_Bedroom.zip\n",
      "3FO4M4R75L9F_Bedroom.zip\n",
      "3FO4M4R75B8C_Bedroom.zip\n",
      "3FO4M4R722JD_Bedroom.zip\n",
      "3FO4M4R702BR_Living_room.zip\n",
      "3FO4M4R702BR_Bedroom.zip\n",
      "3FO4M4R6WXR5_Bedroom.zip\n",
      "3FO4M4R6QD26_Living_room.zip\n",
      "3FO4M4R6QD26_Bedroom.zip\n",
      "3FO4M4R6P4KS_Guest_room.zip\n"
     ]
    },
    {
     "name": "stderr",
     "output_type": "stream",
     "text": [
      "Downloading...\n",
      "From: https://drive.google.com/uc?id=1FSOYGXhWr5DpiGNsADE-dv6om92pNhyw&export=download\n",
      "To: /media/scratch1/erbachj/Mask_RCNN/data/InteriorNet/data/HD7/train/3FO4M4R6P4KS_Guest_room.zip\n",
      "50.0MB [00:02, 18.5MB/s]\n"
     ]
    },
    {
     "name": "stdout",
     "output_type": "stream",
     "text": [
      "3FO4M4R6P4KS_Bedroom.zip\n",
      "3FO4M4R6NV4F_Bedroom.zip\n",
      "3FO4M4R6LUVT_Bedroom.zip\n",
      "3FO4M4R6LRJS_Living_room.zip\n",
      "3FO4M4R6LRJS_Bedroom.zip\n",
      "3FO4M4R6HUGM_Bedroom.zip\n",
      "3FO4M4R6HAEG_Bedroom.zip\n",
      "3FO4M4R6FDIV_Living_room.zip\n",
      "3FO4M4R6FDIV_Bedroom.zip\n",
      "3FO4M4R6ABBD_Bedroom.zip\n",
      "3FO4M4R69MW6_Bedroom.zip\n",
      "3FO4M4R655QT_Bedroom.zip\n",
      "3FO4M4R652ES_Bedroom.zip\n",
      "3FO4M4R5XA0R_Bedroom.zip\n",
      "3FO4M4R5V6G5_Bedroom.zip\n",
      "3FO4M4R5OO37_Bedroom.zip\n",
      "3FO4M4R5MDTI_Living_room.zip\n",
      "3FO4M4R5MDTI_Bedroom.zip\n",
      "3FO4M4R5JBTL_Living_room.zip\n",
      "3FO4M4R5JBTL_Bedroom.zip\n",
      "3FO4M4R5FORI_Living_room.zip\n",
      "3FO4M4R5FORI_Bedroom.zip\n",
      "3FO4M4R5EQC8_Dining_room.zip\n",
      "3FO4M4R5EQC8_Bedroom.zip\n",
      "3FO4M4R5EN07_Bedroom.zip\n",
      "3FO4M4R570HW_Bedroom.zip\n",
      "3FO4M4R52P1M_Living_room.zip\n",
      "3FO4M4R52P1M_Bedroom.zip\n",
      "3FO4M4R51XAE_Bedroom.zip\n",
      "3FO4M4R51QLC_Bedroom.zip\n",
      "3FO4M4R504QU_Bedroom.zip\n",
      "3FO4M4R1T12M_Living_room.zip\n",
      "3FO4M4R1T12M_Bedroom.zip\n",
      "3FO4M4R024D4_Living_room.zip\n",
      "3FO4M4R024D4_Dining_room.zip\n",
      "3FO4M4R024D4_Bedroom.zip\n",
      "3FO4M4QXRYKW_Bedroom.zip\n",
      "3FO4M4QXCL9B_Living_room.zip\n",
      "3FO4M4QXCL9B_Bedroom.zip\n",
      "3FO4M4QWNFB3_Bedroom.zip\n",
      "3FO4M4QWBUPM_Dining_room.zip\n",
      "3FO4M4QTVGH3_Bedroom.zip\n",
      "3FO4M4QS6K06_Bedroom.zip\n",
      "3FO4M4QOM6IY_Bedroom.zip\n",
      "3FO4M4QIY53Q_Bedroom.zip\n",
      "3FO4M4QII00W_Bedroom.zip\n",
      "3FO4M4QHDFQ3_Bedroom.zip\n",
      "3FO4M4Q97LGL_Bedroom.zip\n",
      "3FO4M4Q2V2HC_Bedroom.zip\n",
      "3FO4M4PYQNYM_Bedroom.zip\n",
      "3FO4M4NJ61EP_Bedroom.zip\n",
      "3FO4M4K46DIP_Bedroom.zip\n",
      "3FO4M4K3C5CY_Bedroom.zip\n",
      "3FO4M4K0SAQE_Bedroom.zip\n",
      "3FO4M4JYJWPF_Bedroom.zip\n",
      "3FO4M4JRQGW4_Bedroom.zip\n",
      "3FO4M4JQWPGI_Bedroom.zip\n",
      "3FO4M4HDF2GF_Bedroom.zip\n",
      "3FO4M4GSPOI9_Living_room.zip\n",
      "3FO4M4GSPOI9_Bedroom.zip\n",
      "3FO4M4GCXBE2_Bedroom.zip\n",
      "3FO4M4FOU79D_Dining_room.zip\n",
      "3FO4M4FOU79D_Bedroom.zip\n",
      "3FO4M4FOU0KB_Bedroom.zip\n",
      "3FO4M4FOSXS0_Living_room.zip\n",
      "3FO4M4FOSXS0_Bedroom.zip\n",
      "3FO4M4FOQNJB_Bedroom.zip\n",
      "3FO4M4FOQGU9_Bedroom.zip\n",
      "3FO4M4FOQA67_Bedroom.zip\n",
      "3FO4M4FOPP41_Bedroom.zip\n",
      "3FO4M4FOOJYO_Bedroom.zip\n",
      "3FO4M4FOLS0U_Bedroom.zip\n",
      "3FO4M4FOHKVL_Bedroom.zip\n",
      "3FO4M4FOFHBY_Living_room.zip\n",
      "3FO4M4FOESWR_Bedroom.zip\n",
      "3FO4M4FOC5AY_Bedroom.zip\n",
      "3FO4M4FOBDJQ_Bedroom.zip\n",
      "3FO4M4FO6EO9_Bedroom.zip\n",
      "3FO4M4FO59JW_Bedroom.zip\n",
      "3FO4M4FO0O2J_Bedroom.zip\n",
      "3FO4M4FNKRG3_Bedroom.zip\n",
      "3FO4M4FNFF7H_Bedroom.zip\n",
      "3FO4M4FND1LR_Living_room.zip\n",
      "3FO4M4FNAQD3_Living_room.zip\n",
      "3FO4M4FNAQD3_Dining_room.zip\n",
      "3FO4M4FNAQD3_Bedroom.zip\n",
      "3FO4M4FN8Q5H_Living_room.zip\n",
      "3FO4M4FN8Q5H_Bedroom.zip\n",
      "3FO4M4FN8JGF_Bedroom.zip\n",
      "3FO4M4FN7RP7_Bedroom.zip\n",
      "3FO4M4FN6MKU_Bedroom.zip\n",
      "3FO4M4FMXF1E_Bedroom.zip\n",
      "3FO4M4FMWD93_Bedroom.zip\n",
      "3FO4M4FMRHPM_Bedroom.zip\n",
      "3FO4M4FMGOVE_Bedroom.zip\n",
      "3FO4M4EYMK2E_Living_room.zip\n",
      "3FO4M4EYMK2E_Bedroom.zip\n",
      "3FO4M4E275HT_Bedroom.zip\n",
      "3FO4M4DJBRSS_Bedroom.zip\n",
      "3FO4M4C9C7DV_Bedroom.zip\n",
      "3FO4M4C56LMC_Bedroom.zip\n",
      "3FO4M4C41HAC_Bedroom.zip\n",
      "3FO4M4B0M8GB_Living_room.zip\n",
      "3FO4M4B0M8GB_Bedroom.zip\n",
      "3FO4M4B0LXF8_Living_room.zip\n",
      "3FO4M4B0LXF8_Bedroom.zip\n",
      "3FO4M4B0JX7M_Bedroom.zip\n",
      "3FO4M4B0JQIK_Living_room.zip\n",
      "3FO4M4B0JQIK_Bedroom.zip\n",
      "3FO4M4B0IOQ9_Bedroom.zip\n",
      "3FO4M4B0GOIN_Bedroom.zip\n",
      "3FO4M4B0CY4J_Bedroom.zip\n",
      "3FO4M4B0C7DB_Bedroom.zip\n",
      "3FO4M4B0C41A_Bedroom.zip\n",
      "3FO4M4B0BT07_Living_room.zip\n",
      "3FO4M4B0BT07_Bedroom.zip\n",
      "3FO4M4B09M3J_Bedroom.zip\n",
      "3FO4M4B03I3P_Bedroom.zip\n",
      "3FO4M4B014I0_Living_room.zip\n",
      "3FO4M4B00TGW_Bedroom.zip\n",
      "3FO4M4AYXFV7_Bedroom.zip\n",
      "3FO4M4AYWY62_Bedroom.zip\n",
      "3FO4M4AYWHFW_Bedroom.zip\n",
      "3FO4M4AYU3U7_Bedroom.zip\n",
      "3FO4M4AYPF0S_Bedroom.zip\n",
      "3FO4M4AYGPQ7_Living_room.zip\n",
      "3FO4M4AYCW02_Bedroom.zip\n",
      "3FO4M4AY7N3H_Bedroom.zip\n",
      "3FO4M4AY6LB6_Bedroom.zip\n",
      "3FO4M4AY0KND_Bedroom.zip\n",
      "3FO4M4AXY8TY_Living_room.zip\n",
      "3FO4M4AXWFBF_Bedroom.zip\n",
      "3FO4M4AVODJ3_Bedroom.zip\n",
      "3FO4M4A385P5_Bedroom.zip\n",
      "3FO4M48N9S59_Bedroom.zip\n",
      "3FO4M481JPUX_Bedroom.zip\n",
      "3FO4M47WTSH3_Bedroom.zip\n",
      "3FO4M46MPPVT_Bedroom.zip\n",
      "3FO4M46MNT19_Bedroom.zip\n",
      "3FO4M45FD23E_Bedroom.zip\n",
      "3FO4M450YE8R_Living_room.zip\n",
      "3FO4M450YE8R_Bedroom.zip\n",
      "3FO4M450XT6L_Bedroom.zip\n",
      "3FO4M450WY3C_Bedroom.zip\n",
      "3FO4M450W7C4_Bedroom.zip\n",
      "3FO4M450C1T3_Guest_room.zip\n"
     ]
    },
    {
     "name": "stderr",
     "output_type": "stream",
     "text": [
      "Downloading...\n",
      "From: https://drive.google.com/uc?id=1bPayXUXtLTquFMd-8A1HgpZnIJULoZp-&export=download\n",
      "To: /media/scratch1/erbachj/Mask_RCNN/data/InteriorNet/data/HD7/train/3FO4M450C1T3_Guest_room.zip\n",
      "69.7MB [00:02, 30.1MB/s]\n"
     ]
    },
    {
     "name": "stdout",
     "output_type": "stream",
     "text": [
      "3FO4M450C1T3_Bedroom.zip\n",
      "3FO4M4508I41_Bedroom.zip\n",
      "3FO4M4504AYR_Bedroom.zip\n",
      "3FO4M44TQ0LG_Living_room.zip\n",
      "3FO4M44TQ0LG_Dining_room.zip\n",
      "3FO4M44TQ0LG_Bedroom.zip\n",
      "3FO4M44SAU6G_Living_room.zip\n",
      "3FO4M4347X10_Bedroom.zip\n",
      "3FO4M421AV24_Bedroom.zip\n",
      "3FO4M41R32RK_Guest_room.zip\n",
      "3FO4M41R32RK_Bedroom.zip\n",
      "3FO4M41R0UUW_Bedroom.zip\n",
      "3FO4M41QYMEJ_Bedroom.zip\n",
      "3FO4M41QPQFV_Living_room.zip\n",
      "3FO4M41QPQFV_Bedroom.zip\n",
      "3FO4M41QL5XI_Bedroom.zip\n",
      "3FO4M41QK467_Bedroom.zip\n",
      "3FO4M41QJCEY_Living_room.zip\n",
      "3FO4M41QJCEY_Bedroom.zip\n",
      "3FO4M41QJ92X_Bedroom.zip\n",
      "3FO4M41QJ5PW_Bedroom.zip\n",
      "3FO4M3MR0RXS_Bedroom.zip\n",
      "3FO4M3D1BRCN_Bedroom.zip\n",
      "3FO4M39S97C2_Bedroom.zip\n",
      "3FO4M2XOU9BH_Dining_room.zip\n",
      "3FO4M2XO5IB3_Living_room.zip\n",
      "3FO4M2R7WEM0_Living_room.zip\n",
      "3FO4M2NUOC6V_Bedroom.zip\n",
      "3FO4M2KYJPQA_Bedroom.zip\n",
      "3FO4M2CFPM19_Bedroom.zip\n",
      "3FO4M2843FX1_Bedroom.zip\n",
      "3FO4M2596PS9_Bedroom.zip\n",
      "3FO4M2589WCQ_Living_room.zip\n",
      "3FO4M1YNSFN4_Bedroom.zip\n",
      "3FO4M3WTS4DJ_Bedroom.zip\n",
      "3FO4M3UGN2Q8_Bedroom.zip\n",
      "3FO4M3UGMOD4_Bedroom.zip\n",
      "3FO4M3UGMEC1_Bedroom.zip\n",
      "3FO4M3UGIULY_Bedroom.zip\n",
      "3FO4M3UGI0IP_Living_room.zip\n",
      "3FO4M3UGGAC7_Bedroom.zip\n",
      "3FO4M3UGF1UT_Bedroom.zip\n",
      "3FO4M3UGBOTT_Bedroom.zip\n",
      "3FO4M3UG82RQ_Living_room.zip\n",
      "3FO4M3UG6MMB_Bedroom.zip\n",
      "3FO4M3UFTHYO_Bedroom.zip\n",
      "3FO4M3UFOMG8_Bedroom.zip\n",
      "3FO4M3RU62TL_Living_room.zip\n",
      "3FO4M3RTV1QL_Dining_room.zip\n",
      "3FO4M3RTV1QL_Bedroom.zip\n",
      "3FO4M3RTMMI3_Bedroom.zip\n",
      "3FO4M3Q9DD5L_Bedroom.zip\n",
      "3FO4M3Q8HVIH_Bedroom.zip\n",
      "3FO4M3PCQBNI_Bedroom.zip\n",
      "3FO4M3P6U2NT_Bedroom.zip\n",
      "3FO4M3OBX10O_Bedroom.zip\n",
      "3FO4M3N9OD8S_Bedroom.zip\n",
      "3FO4M3N8INTM_Bedroom.zip\n",
      "3FO4M3N2MOV1_Bedroom.zip\n",
      "3FO4M3N29SH6_Bedroom.zip\n",
      "3FO4M3MR76YP_Bedroom.zip\n",
      "3FO4M3MR53F3_Bedroom.zip\n",
      "3FO4M3MQKS0B_Bedroom.zip\n",
      "3FO4M3MQIRRP_Bedroom.zip\n",
      "3FO4M3MPU3JM_Bedroom.zip\n",
      "3FO4M3MGFYL7_Bedroom.zip\n",
      "3FO4M3L9W28D_Bedroom.zip\n",
      "3FO4M3IWUVGO_Bedroom.zip\n",
      "3FO4M3IG3CUY_Guest_room.zip\n",
      "3FO4M3IG3CUY_Bedroom.zip\n",
      "3FO4M3HT2EFE_Bedroom.zip\n",
      "3FO4M3GS334R_Bedroom.zip\n",
      "3FO4M3ETM0G6_Bedroom.zip\n",
      "3FO4M3DY3D4K_Bedroom.zip\n",
      "3FO4M3DFRW51_Bedroom.zip\n",
      "3FO4M3D7MQ9Q_Bedroom.zip\n",
      "3FO4M3BQEAHD_Bedroom.zip\n",
      "3FO4M3BQE75C_Living_room.zip\n",
      "3FO4M3BQE75C_Bedroom.zip\n",
      "3FO4M3BQE3SB_Bedroom.zip\n",
      "3FO4M3BQ74P8_Bedroom.zip\n",
      "3FO4M3BQ2PVW_Bedroom.zip\n",
      "3FO4M3A60WCN_Bedroom.zip\n",
      "3FO4M3A60PNL_Bedroom.zip\n",
      "3FO4M3A5YXWD_Bedroom.zip\n",
      "3FO4M3A5YUKC_Bedroom.zip\n",
      "3FO4M3A5Y765_Bedroom.zip\n",
      "3FO4M3A5XSS1_Living_room.zip\n",
      "3FO4M3A5XSS1_Bedroom.zip\n",
      "3FO4M3A5WR0P_Bedroom.zip\n",
      "3FO4M36B2CQY_Bedroom.zip\n",
      "3FO4M367JV6C_Dining_room.zip\n",
      "3FO4M35TVI6Q_Bedroom.zip\n",
      "3FO4M351NYME_Bedroom.zip\n",
      "3FO4M351LYES_Bedroom.zip\n",
      "3FO4M3515CLT_Bedroom.zip\n",
      "3FO4M34QEY41_Guest_room.zip\n",
      "3FO4M34QEY41_Bedroom.zip\n",
      "3FO4M34PXPO6_Bedroom.zip\n",
      "3FO4M34PX5M0_Bedroom.zip\n",
      "3FO4M2XOWWXA_Bedroom.zip\n",
      "3FO4M2XOVRSX_Bedroom.zip\n",
      "3FO4M2XOUMOL_Bedroom.zip\n",
      "3FO4M2XOU9BH_Living_room.zip\n",
      "3FO4M2XOU9BH_Bedroom.zip\n",
      "3FO4M2XOTYAE_Bedroom.zip\n",
      "3FO4M2XOSWI3_Bedroom.zip\n",
      "3FO4M2XOSFRX_Bedroom.zip\n",
      "3FO4M2XORKOO_Bedroom.zip\n",
      "3FO4M2XOQ8VA_Bedroom.zip\n",
      "3FO4M2XOHQAQ_Living_room.zip\n",
      "3FO4M2XOHQAQ_Bedroom.zip\n",
      "3FO4M2XOCKQ7_Bedroom.zip\n",
      "3FO4M2XOC412_Living_room.zip\n",
      "3FO4M2XOC412_Bedroom.zip\n",
      "3FO4M2XOB5KR_Bedroom.zip\n",
      "3FO4M2XOAKIL_Bedroom.zip\n",
      "3FO4M2XO9M3B_Bedroom.zip\n",
      "3FO4M2XO5IB3_Bedroom.zip\n",
      "3FO4M2XO46HO_Bedroom.zip\n",
      "3FO4M2XIA4EN_Bedroom.zip\n",
      "3FO4M2XG5VDG_Bedroom.zip\n",
      "3FO4M2W3Q6Q3_Bedroom.zip\n",
      "3FO4M2W1EV9R_Bedroom.zip\n",
      "3FO4M2VUYDYS_Bedroom.zip\n",
      "3FO4M2V4KDYG_Bedroom.zip\n",
      "3FO4M2U0HWMH_Bedroom.zip\n",
      "3FO4M2R8I8J8_Bedroom.zip\n",
      "3FO4M2R86NXR_Bedroom.zip\n",
      "3FO4M2R84UF8_Bedroom.zip\n",
      "3FO4M2R80NAY_Bedroom.zip\n",
      "3FO4M2R7WYO6_Bedroom.zip\n",
      "3FO4M2R7WEM0_Bedroom.zip\n",
      "3FO4M2R7WB9Y_Bedroom.zip\n",
      "3FO4M2R7TWO9_Bedroom.zip\n",
      "3FO4M2R7OR4P_Bedroom.zip\n",
      "3FO4M2R7O72J_Bedroom.zip\n",
      "3FO4M2R7M05V_Bedroom.zip\n",
      "3FO4M2R75XF3_Living_room.zip\n",
      "3FO4M2R75XF3_Bedroom.zip\n",
      "3FO4M2QFVSX7_Bedroom.zip\n",
      "3FO4M2QANKRE_Guest_room.zip\n",
      "3FO4M2QANKRE_Bedroom.zip\n",
      "3FO4M2OQQ85X_Living_room.zip\n",
      "3FO4M2OQQ85X_Bedroom.zip\n",
      "3FO4M2OGDKKH_Bedroom.zip\n",
      "3FO4M2MMGQSI_Living_room.zip\n",
      "3FO4M2MMGQSI_Bedroom.zip\n",
      "3FO4M2MMGK4G_Bedroom.zip\n",
      "3FO4M2MM3H1J_Bedroom.zip\n",
      "3FO4M2MM1U72_Bedroom.zip\n",
      "3FO4M2MLYTYG_Bedroom.zip\n",
      "3FO4M2MBLPNU_Bedroom.zip\n",
      "3FO4M2MBLIYS_Living_room.zip\n",
      "3FO4M2MBLIYS_Bedroom.zip\n",
      "3FO4M2MBKNVJ_Living_room.zip\n",
      "3FO4M2MBKNVJ_Guest_room.zip\n",
      "3FO4M2MBKNVJ_Bedroom.zip\n",
      "3FO4M2L7C3JQ_Bedroom.zip\n",
      "3FO4M2KYJPQA_Guest_room.zip\n",
      "3FO4M2KW2YOC_Bedroom.zip\n",
      "3FO4M2I8OKWU_Bedroom.zip\n",
      "3FO4M2I79SUY_Bedroom.zip\n",
      "3FO4M2HRIQCM_Bedroom.zip\n",
      "3FO4M2GGTSAF_Bedroom.zip\n",
      "3FO4M2G2K5V0_Bedroom.zip\n",
      "3FO4M2G1R9IN_Bedroom.zip\n",
      "3FO4M2G18CH0_Bedroom.zip\n",
      "3FO4M2FY9U2I_Living_room.zip\n",
      "3FO4M2FY9U2I_Bedroom.zip\n",
      "3FO4M2EKD9SM_Living_room.zip\n",
      "3FO4M2EKD9SM_Dining_room.zip\n",
      "3FO4M2EKD9SM_Bedroom.zip\n",
      "3FO4M2D5MX45_Bedroom.zip\n",
      "3FO4M2BJK404_Bedroom.zip\n",
      "3FO4M2AYBIY7_Bedroom.zip\n",
      "3FO4M2AXQK58_Living_room.zip\n",
      "3FO4M2AXQK58_Dining_room.zip\n",
      "3FO4M2AXQK58_Bedroom.zip\n",
      "3FO4M2ADL248_Bedroom.zip\n",
      "3FO4M29MH6IW_Bedroom.zip\n",
      "3FO4M29GFQYO_Bedroom.zip\n",
      "3FO4M2963OGE_Bedroom.zip\n",
      "3FO4M29453OV_Bedroom.zip\n",
      "3FO4M28VBHF2_Bedroom.zip\n",
      "3FO4M28CVMM7_Bedroom.zip\n",
      "3FO4M286DYN4_Bedroom.zip\n",
      "3FO4M284UKJ5_Bedroom.zip\n",
      "3FO4M26SDTGM_Bedroom.zip\n",
      "3FO4M26RWRPT_Bedroom.zip\n",
      "3FO4M26LO42F_Bedroom.zip\n",
      "3FO4M26LJVX6_Bedroom.zip\n",
      "3FO4M26LH8BD_Living_room.zip\n",
      "3FO4M26LH8BD_Bedroom.zip\n",
      "3FO4M26LGQL8_Bedroom.zip\n",
      "3FO4M26LFI4U_Bedroom.zip\n",
      "3FO4M26L9AS0_Bedroom.zip\n",
      "3FO4M26L6241_Living_room.zip\n",
      "3FO4M26L6241_Bedroom.zip\n",
      "3FO4M26L36S6_Bedroom.zip\n",
      "3FO4M25K85XT_Bedroom.zip\n",
      "3FO4M259JSV6_Bedroom.zip\n",
      "3FO4M25965Q3_Bedroom.zip\n",
      "3FO4M2594FJK_Living_room.zip\n",
      "3FO4M2594FJK_Bedroom.zip\n",
      "3FO4M2590LSF_Bedroom.zip\n",
      "3FO4M258XVLW_Living_room.zip\n",
      "3FO4M258XEVR_Bedroom.zip\n",
      "3FO4M258WJSI_Living_room.zip\n",
      "3FO4M258V804_Living_room.zip\n",
      "3FO4M258V804_Bedroom.zip\n",
      "3FO4M258T13G_Bedroom.zip\n",
      "3FO4M258OFL3_Bedroom.zip\n",
      "3FO4M258LGX7_Bedroom.zip\n",
      "3FO4M258JU3P_Bedroom.zip\n",
      "3FO4M258A0OR_Bedroom.zip\n",
      "3FO4M252JY1X_Bedroom.zip\n",
      "3FO4M24SITTE_Bedroom.zip\n",
      "3FO4M232XKCA_Bedroom.zip\n",
      "3FO4M222LVHF_Bedroom.zip\n",
      "3FO4M221SLQY_Bedroom.zip\n",
      "3FO4M2177JM4_Bedroom.zip\n",
      "3FO4M20XAT7V_Bedroom.zip\n",
      "3FO4M200N8V6_Bedroom.zip\n",
      "3FO4M1YW50JB_Bedroom.zip\n",
      "3FO4M1YO508K_Bedroom.zip\n",
      "3FO4M1YNV49W_Living_room.zip\n",
      "3FO4M1YNV49W_Bedroom.zip\n",
      "3FO4M1YNTUSJ_Bedroom.zip\n",
      "3FO4M1YNSFN4_Living_room.zip\n",
      "3FO4M1PU5OQB_Dining_room.zip\n",
      "3FO4M1LNHY79_Dining_room.zip\n",
      "3FO4M1C884O1_Bedroom.zip\n",
      "3FO4M1AQQD06_Living_room.zip\n",
      "3FO4M186CH7X_Guest_room.zip\n",
      "3FO4M14IH4HH_Bedroom.zip\n",
      "3FO4M0XM6B9X_Living_room.zip\n",
      "3FO4M0QOQB8B_Bedroom.zip\n",
      "3FO4M0MDQO8T_Bedroom.zip\n",
      "3FO4M0J2SIC5_Living_room.zip\n",
      "3FO4M0965K4I_Bedroom.zip\n",
      "3FO4M043VBX0_Guest_room.zip\n",
      "3FO4LYU720LT_Living_room.zip\n",
      "3FO4M1YNQPGL_Bedroom.zip\n",
      "3FO4M1YNPR1B_Bedroom.zip\n",
      "3FO4M1YNMF0B_Bedroom.zip\n",
      "3FO4M1YNKVHU_Bedroom.zip\n",
      "3FO4M1YNCDWB_Living_room.zip\n",
      "3FO4M1YNCDWB_Bedroom.zip\n",
      "3FO4M1YNC789_Living_room.zip\n",
      "3FO4M1YNC789_Bedroom.zip\n",
      "3FO4M1YNBIT2_Bedroom.zip\n",
      "3FO4M1YNAUEU_Bedroom.zip\n",
      "3FO4M1XAFKQT_Bedroom.zip\n",
      "3FO4M1X1CJNP_Bedroom.zip\n",
      "3FO4M1WV0YGW_Bedroom.zip\n",
      "3FO4M1WKV62S_Dining_room.zip\n",
      "3FO4M1WJWMFR_Bedroom.zip\n",
      "3FO4M1W4PVJQ_Guest_room.zip\n",
      "3FO4M1W4PVJQ_Bedroom.zip\n",
      "3FO4M1VRFP03_Bedroom.zip\n",
      "3FO4M1TTN1IH_Living_room.zip\n",
      "3FO4M1TTN1IH_Dining_room.zip\n",
      "3FO4M1TTN1IH_Bedroom.zip\n",
      "3FO4M1SOEAP6_Living_room.zip\n",
      "3FO4M1SOEAP6_Bedroom.zip\n",
      "3FO4M1SDXB3P_Bedroom.zip\n",
      "3FO4M1SDRUI3_Bedroom.zip\n",
      "3FO4M1S77SXA_Living_room.zip\n",
      "3FO4M1S77SXA_Dining_room.zip\n",
      "3FO4M1PU5OQB_Living_room.zip\n",
      "3FO4M1PPKE2D_Bedroom.zip\n",
      "3FO4M1OSP8CU_Bedroom.zip\n",
      "3FO4M1ORVA87_Bedroom.zip\n",
      "3FO4M1ORE6P3_Bedroom.zip\n",
      "3FO4M1OR6WKW_Living_room.zip\n",
      "3FO4M1OR6WKW_Bedroom.zip\n",
      "3FO4M1OGQLDN_Guest_room.zip\n",
      "3FO4M1OGQLDN_Bedroom.zip\n",
      "3FO4M1OGAQBW_Bedroom.zip\n",
      "3FO4M1OG65TJ_Bedroom.zip\n",
      "3FO4M1O5B4OV_Bedroom.zip\n",
      "3FO4M1O4HGLB_Dining_room.zip\n",
      "3FO4M1O4HGLB_Bedroom.zip\n",
      "3FO4M1MNQ101_Bedroom.zip\n",
      "3FO4M1J1C01G_Living_room.zip\n",
      "3FO4M1J1C01G_Guest_room.zip\n",
      "3FO4M1J1C01G_Bedroom.zip\n",
      "3FO4M1D6P87K_Bedroom.zip\n",
      "3FO4M1CYKHTV_Bedroom.zip\n",
      "3FO4M1CFDP4Y_Bedroom.zip\n",
      "3FO4M1C8EM1Y_Bedroom.zip\n",
      "3FO4M1C8DQXP_Bedroom.zip\n",
      "3FO4M1C8D6VJ_Living_room.zip\n",
      "3FO4M1C8D6VJ_Guest_room.zip\n",
      "3FO4M1C8D6VJ_Bedroom.zip\n",
      "3FO4M1C8AOXS_Bedroom.zip\n",
      "3FO4M1C8A1JL_Bedroom.zip\n",
      "3FO4M1C89TUJ_Bedroom.zip\n",
      "3FO4M1C87TMX_Bedroom.zip\n",
      "3FO4M1C7VNFL_Bedroom.zip\n",
      "3FO4M1C7UVOD_Bedroom.zip\n",
      "3FO4M1C2N58P_Bedroom.zip\n",
      "3FO4M1C2C92G_Bedroom.zip\n",
      "3FO4M1BPBBTK_Bedroom.zip\n",
      "3FO4M1BAQ6M0_Bedroom.zip\n",
      "3FO4M1B5LDT8_Living_room.zip\n",
      "3FO4M1B5LDT8_Guest_room.zip\n",
      "3FO4M1B5LDT8_Bedroom.zip\n",
      "3FO4M1B3PGOI_Bedroom.zip\n",
      "3FO4M1B1ETME_Living_room.zip\n",
      "3FO4M1B1ETME_Dining_room.zip\n",
      "3FO4M1B1ETME_Bedroom.zip\n",
      "3FO4M1AQQD06_Bedroom.zip\n",
      "3FO4M1AQ7MMK_Bedroom.zip\n",
      "3FO4M1AQ1W0U_Living_room.zip\n",
      "3FO4M1APS127_Bedroom.zip\n",
      "3FO4M19KQ2MW_Bedroom.zip\n",
      "3FO4M187BE83_Bedroom.zip\n",
      "3FO4M186TAOY_Living_room.zip\n",
      "3FO4M186TAOY_Bedroom.zip\n",
      "3FO4M186QIQ5_Bedroom.zip\n",
      "3FO4M186NNFA_Living_room.zip\n",
      "3FO4M186NNFA_Bedroom.zip\n",
      "3FO4M186LGIM_Bedroom.zip\n",
      "3FO4M186H2PB_Bedroom.zip\n",
      "3FO4M186EUSN_Bedroom.zip\n",
      "3FO4M186CH7X_Bedroom.zip\n",
      "3FO4M186BSSQ_Bedroom.zip\n",
      "3FO4M1869BV0_Living_room.zip\n",
      "3FO4M1869BV0_Bedroom.zip\n",
      "3FO4M18683EM_Bedroom.zip\n",
      "3FO4M1864JOK_Bedroom.zip\n",
      "3FO4M1860FWC_Bedroom.zip\n",
      "3FO4M185YY77_Bedroom.zip\n",
      "3FO4M185LRR9_Bedroom.zip\n",
      "3FO4M1764M48_Guest_room.zip\n",
      "3FO4M1764M48_Bedroom.zip\n",
      "3FO4M16FP0T6_Bedroom.zip\n",
      "3FO4M1629BJE_Bedroom.zip\n",
      "3FO4M15MO9NU_Bedroom.zip\n",
      "3FO4M1434TNS_Bedroom.zip\n",
      "3FO4M13H979A_Bedroom.zip\n",
      "3FO4M13CEC7H_Guest_room.zip\n",
      "3FO4M13CEC7H_Bedroom.zip\n",
      "3FO4M12OE6PO_Bedroom.zip\n",
      "3FO4M12O9YLF_Guest_room.zip\n",
      "3FO4M12O9YLF_Bedroom.zip\n",
      "3FO4M12NSG5H_Bedroom.zip\n",
      "3FO4M11K1YBS_Bedroom.zip\n",
      "3FO4M115U788_Bedroom.zip\n",
      "3FO4M112SRDE_Bedroom.zip\n",
      "3FO4M0YUMRLY_Bedroom.zip\n",
      "3FO4M0YBWBNX_Bedroom.zip\n",
      "3FO4M0XUURK0_Bedroom.zip\n",
      "3FO4M0XM6B9X_Dining_room.zip\n",
      "3FO4M0XDCJIL_Bedroom.zip\n",
      "3FO4M0VVSRM5_Living_room.zip\n",
      "3FO4M0VVSRM5_Dining_room.zip\n",
      "3FO4M0VVSRM5_Bedroom.zip\n",
      "3FO4M0U684QW_Bedroom.zip\n",
      "3FO4M0U4STF6_Bedroom.zip\n",
      "3FO4M0TYWFUW_Bedroom.zip\n",
      "3FO4M0RBDETQ_Bedroom.zip\n",
      "3FO4M0QYDCP4_Bedroom.zip\n",
      "3FO4M0QQ8GUW_Bedroom.zip\n",
      "3FO4M0QORJOO_Bedroom.zip\n",
      "3FO4M0QOQYMI_Living_room.zip\n",
      "3FO4M0QOQYMI_Bedroom.zip\n",
      "3FO4M0QOGDHC_Bedroom.zip\n",
      "3FO4M0QOACTJ_Bedroom.zip\n",
      "3FO4M0QNXLK1_Bedroom.zip\n",
      "3FO4M0QNXBIX_Bedroom.zip\n",
      "3FO4M0QNVLCF_Bedroom.zip\n",
      "3FO4M0QNVI0E_Bedroom.zip\n",
      "3FO4M0QNT7QP_Living_room.zip\n",
      "3FO4M0QNT7QP_Bedroom.zip\n",
      "3FO4M0QNT4EO_Bedroom.zip\n",
      "3FO4M0Q0WAXV_Bedroom.zip\n",
      "3FO4M0O4JEJ6_Bedroom.zip\n",
      "3FO4M0ME5J2Y_Bedroom.zip\n",
      "3FO4M0ME20CW_Living_room.zip\n",
      "3FO4M0ME20CW_Bedroom.zip\n",
      "3FO4M0LTXN11_Bedroom.zip\n",
      "3FO4M0LJNE1A_Bedroom.zip\n",
      "3FO4M0J3WRKV_Bedroom.zip\n",
      "3FO4M0J3GWJ5_Bedroom.zip\n",
      "3FO4M0J3FAON_Bedroom.zip\n",
      "3FO4M0J3EFLE_Bedroom.zip\n",
      "3FO4M0J3CPEV_Living_room.zip\n",
      "3FO4M0J3CPEV_Bedroom.zip\n",
      "3FO4M0J3BGXI_Bedroom.zip\n",
      "3FO4M0J39DDV_Living_room.zip\n",
      "3FO4M0J39DDV_Bedroom.zip\n",
      "3FO4M0J38IAM_Bedroom.zip\n",
      "3FO4M0J33TG8_Bedroom.zip\n",
      "3FO4M0J31CIH_Bedroom.zip\n",
      "3FO4M0J2SIC5_Bedroom.zip\n",
      "3FO4M0J2K7FN_Bedroom.zip\n",
      "3FO4M0J29RYJ_Living_room.zip\n",
      "3FO4M0J29LAH_Living_room.zip\n",
      "3FO4M0J29LAH_Bedroom.zip\n",
      "3FO4M0HEVY02_Living_room.zip\n",
      "3FO4M0HEVY02_Bedroom.zip\n",
      "3FO4M0E7GTQ6_Bedroom.zip\n",
      "3FO4M0CUCJJW_Bedroom.zip\n",
      "3FO4M0CQM5FW_Bedroom.zip\n",
      "3FO4M0CFGS76_Bedroom.zip\n",
      "3FO4M0A8T7TV_Bedroom.zip\n",
      "3FO4M09837FQ_Bedroom.zip\n",
      "3FO4M0965K4I_Living_room.zip\n",
      "3FO4M091D3NF_Living_room.zip\n",
      "3FO4M091D3NF_Bedroom.zip\n",
      "3FO4M091CIL9_Bedroom.zip\n",
      "3FO4M090WW0V_Bedroom.zip\n",
      "3FO4M090P2TJ_Bedroom.zip\n",
      "3FO4M090IKGL_Living_room.zip\n",
      "3FO4M090IKGL_Bedroom.zip\n",
      "3FO4M090IAFI_Bedroom.zip\n",
      "3FO4M090HFC9_Bedroom.zip\n",
      "3FO4M090HC08_Bedroom.zip\n",
      "3FO4M0904FLD_Living_room.zip\n",
      "3FO4M07TJ1UK_Bedroom.zip\n",
      "3FO4M074IXSU_Bedroom.zip\n",
      "3FO4M06A6UYO_Bedroom.zip\n",
      "3FO4M043VBX0_Bedroom.zip\n",
      "3FO4M02WKC3J_Bedroom.zip\n",
      "3FO4M02IIC6E_Bedroom.zip\n",
      "3FO4LYYVJW5U_Bedroom.zip\n",
      "3FO4LYVJ3244_Bedroom.zip\n",
      "3FO4LYU7HNYI_Bedroom.zip\n",
      "3FO4LYU7FKEV_Guest_room.zip\n",
      "3FO4LYU7FKEV_Bedroom.zip\n",
      "3FO4LYU7CLR0_Bedroom.zip\n",
      "3FO4LYU79N44_Bedroom.zip\n",
      "3FO4LYU7766D_Bedroom.zip\n",
      "3FO4LYU74UWO_Living_room.zip\n",
      "3FO4LYU74UWO_Dining_room.zip\n",
      "3FO4LYU74UWO_Bedroom.zip\n",
      "3FO4LYNR11HC_Bedroom.zip\n",
      "3FO4LYAEHDOF_Bedroom.zip\n",
      "3FO4LY0L0J61_Bedroom.zip\n",
      "3FO4LY0813B4_Dining_room.zip\n",
      "3FO4LXPKDHJS_Bedroom.zip\n",
      "3FO4LXL7V87K_Bedroom.zip\n",
      "3FO4LXBFE2FJ_Bedroom.zip\n",
      "3FO4LXAMJBX1_Living_room.zip\n",
      "3FO4LX76RG3V_Guest_room.zip\n",
      "3FO4LX2EXFRL_Bedroom.zip\n",
      "3FO4LWY5W23V_Living_room.zip\n",
      "3FO4LWW4KK89_Bedroom.zip\n",
      "3FO4LWPG7TII_Bedroom.zip\n",
      "3FO4LYU71C7M_Living_room.zip\n",
      "3FO4LYU70UHH_Bedroom.zip\n",
      "3FO4LYU6V3B2_Bedroom.zip\n",
      "3FO4LYU6PG1D_Bedroom.zip\n",
      "3FO4LYU6OHL3_Bedroom.zip\n",
      "3FO4LYU6IA98_Bedroom.zip\n",
      "3FO4LYTVOGDE_Guest_room.zip\n",
      "3FO4LYTVOGDE_Bedroom.zip\n",
      "3FO4LYTVNEL3_Bedroom.zip\n",
      "3FO4LYTVL10D_Living_room.zip\n",
      "3FO4LYTVL10D_Dining_room.zip\n",
      "3FO4LYTO2T6N_Bedroom.zip\n",
      "3FO4LYT6X9AC_Bedroom.zip\n",
      "3FO4LYSQHWGQ_Bedroom.zip\n",
      "3FO4LYSQA9YG_Bedroom.zip\n",
      "3FO4LYOYTH0H_Bedroom.zip\n",
      "3FO4LYO9S8TF_Bedroom.zip\n",
      "3FO4LYNRTRWX_Bedroom.zip\n",
      "3FO4LYNRQWM3_Bedroom.zip\n",
      "3FO4LYNRPKSO_Bedroom.zip\n",
      "3FO4LYNROFOC_Bedroom.zip\n",
      "3FO4LYNRDQ75_Bedroom.zip\n",
      "3FO4LYNR6UG3_Bedroom.zip\n",
      "3FO4LYNR6ADW_Bedroom.zip\n",
      "3FO4LYNR4XKI_Living_room.zip\n",
      "3FO4LYNR4XKI_Dining_room.zip\n",
      "3FO4LYNR4XKI_Bedroom.zip\n",
      "3FO4LYNR43H9_Bedroom.zip\n",
      "3FO4LYNR0N48_Bedroom.zip\n",
      "3FO4LYNQWV5E_Bedroom.zip\n",
      "3FO4LYNQVWP4_Bedroom.zip\n",
      "3FO4LYJSP2IJ_Bedroom.zip\n",
      "3FO4LYIW89X1_Bedroom.zip\n",
      "3FO4LYIW4CTU_Bedroom.zip\n",
      "3FO4LYIVH748_Bedroom.zip\n",
      "3FO4LYIV3IY5_Bedroom.zip\n",
      "3FO4LYIV0XOD_Bedroom.zip\n",
      "3FO4LYIURTGX_Bedroom.zip\n",
      "3FO4LYIURCQS_Bedroom.zip\n",
      "3FO4LYE3QGOG_Bedroom.zip\n",
      "3FO4LYBVKWPS_Bedroom.zip\n",
      "3FO4LYAQND4T_Bedroom.zip\n",
      "3FO4LY8BEQUI_Bedroom.zip\n",
      "3FO4LY6U2DYY_Bedroom.zip\n",
      "3FO4LY6TY5B0_Bedroom.zip\n",
      "3FO4LY6L93XR_Guest_room.zip\n",
      "3FO4LY6L93XR_Bedroom.zip\n",
      "3FO4LY4TTRYY_Bedroom.zip\n",
      "3FO4LY3RRFVY_Bedroom.zip\n",
      "3FO4LY3H8EAL_Bedroom.zip\n",
      "3FO4LY24MO0F_Bedroom.zip\n",
      "3FO4LY23HGBE_Bedroom.zip\n",
      "3FO4LY21SI9R_Bedroom.zip\n",
      "3FO4LY0LMBIJ_Dining_room.zip\n",
      "3FO4LY0L3YJ2_Living_room.zip\n",
      "3FO4LY0L3YJ2_Dining_room.zip\n",
      "3FO4LY0H9DAS_Bedroom.zip\n",
      "3FO4LY0GYM8V_Bedroom.zip\n",
      "3FO4LY0DJ97V_Living_room.zip\n",
      "3FO4LY0DJ97V_Dining_room.zip\n",
      "3FO4LY0DJ97V_Bedroom.zip\n",
      "3FO4LY0D664Y_Dining_room.zip\n",
      "3FO4LY0D57OO_Living_room.zip\n",
      "3FO4LY0D57OO_Dining_room.zip\n",
      "3FO4LY0D57OO_Bedroom.zip\n",
      "3FO4LY0D1ALI_Bedroom.zip\n",
      "3FO4LY0CTYWM_Bedroom.zip\n",
      "3FO4LY0A7SA2_Bedroom.zip\n",
      "3FO4LY08DBAR_Bedroom.zip\n",
      "3FO4LY0813B4_Living_room.zip\n",
      "3FO4LY0813B4_Bedroom.zip\n",
      "3FO4LY070THK_Bedroom.zip\n",
      "3FO4LY06T23J_Guest_room.zip\n",
      "3FO4LY06T23J_Bedroom.zip\n",
      "3FO4LY04KBW0_Bedroom.zip\n",
      "3FO4LXYVKEXA_Bedroom.zip\n",
      "3FO4LXYQC6RH_Dining_room.zip\n",
      "3FO4LXYQC6RH_Bedroom.zip\n",
      "3FO4LXXUVEQQ_Bedroom.zip\n",
      "3FO4LXVMF0TD_Bedroom.zip\n",
      "3FO4LXRV7M3W_Bedroom.zip\n",
      "3FO4LXR6ROK8_Bedroom.zip\n",
      "3FO4LXPRW9FO_Guest_room.zip\n",
      "3FO4LXPRW9FO_Bedroom.zip\n",
      "3FO4LXOW5HVN_Dining_room.zip\n",
      "3FO4LXOW5HVN_Bedroom.zip\n",
      "3FO4LXOJM74K_Bedroom.zip\n",
      "3FO4LXOHAEX4_Living_room.zip\n",
      "3FO4LXOHAEX4_Bedroom.zip\n",
      "3FO4LXOH4OBE_Living_room.zip\n",
      "3FO4LXOH4OBE_Bedroom.zip\n",
      "3FO4LXN9W9EJ_Bedroom.zip\n",
      "3FO4LXMYBKXO_Bedroom.zip\n",
      "3FO4LXM6MYG0_Bedroom.zip\n",
      "3FO4LXM4H7WC_Bedroom.zip\n",
      "3FO4LXL8FPBE_Bedroom.zip\n",
      "3FO4LXL8FIMC_Bedroom.zip\n",
      "3FO4LXL8CQNI_Bedroom.zip\n",
      "3FO4LXL7UD4B_Bedroom.zip\n",
      "3FO4LXH2DSOK_Living_room.zip\n",
      "3FO4LXH2DSOK_Guest_room.zip\n",
      "3FO4LXH2DSOK_Dining_room.zip\n",
      "3FO4LXH2DSOK_Bedroom.zip\n",
      "3FO4LXGQE3PI_Living_room.zip\n",
      "3FO4LXGQE3PI_Dining_room.zip\n",
      "3FO4LXGQE3PI_Bedroom.zip\n",
      "3FO4LXGN0PW4_Bedroom.zip\n",
      "3FO4LXD774VG_Bedroom.zip\n",
      "3FO4LXD15M07_Bedroom.zip\n",
      "3FO4LXCY6CTH_Living_room.zip\n",
      "3FO4LXCY6CTH_Dining_room.zip\n",
      "3FO4LXCM1P7H_Bedroom.zip\n",
      "3FO4LXBDFU25_Bedroom.zip\n",
      "3FO4LXBD1P6W_Living_room.zip\n",
      "3FO4LXANEVW6_Living_room.zip\n",
      "3FO4LXANEVW6_Bedroom.zip\n",
      "3FO4LXANE8HY_Bedroom.zip\n",
      "3FO4LXANCBME_Bedroom.zip\n",
      "3FO4LXAN4UT6_Bedroom.zip\n",
      "3FO4LXAN1ST9_Bedroom.zip\n",
      "3FO4LXAN0ABS_Bedroom.zip\n",
      "3FO4LXAMW8BV_Bedroom.zip\n",
      "3FO4LXAMVJWO_Bedroom.zip\n",
      "3FO4LXAMUI5D_Bedroom.zip\n",
      "3FO4LXAMQB14_Bedroom.zip\n",
      "3FO4LXAMKR3G_Bedroom.zip\n",
      "3FO4LXAMJBX1_Dining_room.zip\n",
      "3FO4LXAMJBX1_Bedroom.zip\n",
      "3FO4LXAM5DQU_Bedroom.zip\n",
      "3FO4LXADCUGV_Bedroom.zip\n",
      "3FO4LXAA6QRN_Bedroom.zip\n",
      "3FO4LXA4NO7W_Bedroom.zip\n",
      "3FO4LXA1AI3K_Bedroom.zip\n",
      "3FO4LX9Q5BBC_Bedroom.zip\n",
      "3FO4LX8RUXM4_Bedroom.zip\n",
      "3FO4LX791GBI_Living_room.zip\n",
      "3FO4LX791GBI_Dining_room.zip\n",
      "3FO4LX78E0JS_Living_room.zip\n",
      "3FO4LX78E0JS_Dining_room.zip\n",
      "3FO4LX78E0JS_Bedroom.zip\n",
      "3FO4LX76RG3V_Bedroom.zip\n",
      "3FO4LX54XKO2_Living_room.zip\n",
      "3FO4LX54XKO2_Dining_room.zip\n",
      "3FO4LX54XKO2_Bedroom.zip\n",
      "3FO4LX54VH4F_Bedroom.zip\n",
      "3FO4LX54UM16_Bedroom.zip\n",
      "3FO4LX54UIO5_Bedroom.zip\n",
      "3FO4LX54U8N2_Bedroom.zip\n",
      "3FO4LX54TXLY_Bedroom.zip\n",
      "3FO4LX54SP5L_Bedroom.zip\n",
      "3FO4LX54RQPB_Bedroom.zip\n",
      "3FO4LX53HGSR_Bedroom.zip\n",
      "3FO4LX53BJI0_Bedroom.zip\n",
      "3FO4LX32KOUJ_Bedroom.zip\n",
      "3FO4LX2EJOAH_Bedroom.zip\n",
      "3FO4LX2E0XWV_Dining_room.zip\n",
      "3FO4LX2E0XWV_Bedroom.zip\n",
      "3FO4LX2BAVYG_Bedroom.zip\n",
      "3FO4LX29BQ5R_Bedroom.zip\n",
      "3FO4LX1F1K76_Bedroom.zip\n",
      "3FO4LX00FC9W_Bedroom.zip\n",
      "3FO4LWYN1W1A_Bedroom.zip\n",
      "3FO4LWYH2ODP_Bedroom.zip\n",
      "3FO4LWYGQYVI_Bedroom.zip\n",
      "3FO4LWYGP30X_Bedroom.zip\n",
      "3FO4LWYGOVBV_Bedroom.zip\n",
      "3FO4LWYGEDIQ_Bedroom.zip\n",
      "3FO4LWYEAFIM_Bedroom.zip\n",
      "3FO4LWY5W23V_Bedroom.zip\n",
      "3FO4LWY40XA4_Bedroom.zip\n",
      "3FO4LWXLIUD2_Bedroom.zip\n",
      "3FO4LWXFHFST_Living_room.zip\n",
      "3FO4LWXFHFST_Dining_room.zip\n",
      "3FO4LWXFHFST_Bedroom.zip\n",
      "3FO4LWXDACGR_Bedroom.zip\n",
      "3FO4LWXABB7N_Bedroom.zip\n",
      "3FO4LWW4QUW5_Bedroom.zip\n",
      "3FO4LWW4OAMD_Bedroom.zip\n",
      "3FO4LWW4NC73_Bedroom.zip\n",
      "3FO4LWW4KU9C_Bedroom.zip\n",
      "3FO4LWW4KK89_Living_room.zip\n",
      "3FO4LWW4KK89_Dining_room.zip\n",
      "3FO4LWW4HS9F_Bedroom.zip\n",
      "3FO4LWW4H4U8_Living_room.zip\n",
      "3FO4LWW4G9QY_Bedroom.zip\n",
      "3FO4LWW4BE8I_Bedroom.zip\n",
      "3FO4LWW441RB_Bedroom.zip\n",
      "3FO4LWUQXS5R_Bedroom.zip\n",
      "3FO4LWUK43V3_Bedroom.zip\n",
      "3FO4LWT7MY3A_Bedroom.zip\n",
      "3FO4LWSW5JBE_Bedroom.zip\n",
      "3FO4LWSN5NK8_Bedroom.zip\n",
      "3FO4LWR1W0HG_Bedroom.zip\n",
      "3FO4LWQNIOSE_Bedroom.zip\n",
      "3FO4LWPGBQLO_Bedroom.zip\n",
      "3FO4LWPG9TQ4_Bedroom.zip\n",
      "3FO4LWFJAPB5_Bedroom.zip\n",
      "3FO4LW7S6JW7_Dining_room.zip\n",
      "3FO4LW5OS1W1_Bedroom.zip\n",
      "3FO4LVVY9B4T_Bedroom.zip\n",
      "3FO4LVP9AL1C_Bedroom.zip\n",
      "3FO4LVLNST0V_Dining_room.zip\n",
      "3FO4LVETRGSQ_Bedroom.zip\n",
      "3FO4LV4S9A67_Living_room.zip\n",
      "3FO4LV2QC9EF_Living_room.zip\n",
      "3FO4LURYWMOM_Bedroom.zip\n",
      "3FO4LUMHRTTF_Bedroom.zip\n",
      "3FO4LUHWU5MB_Living_room.zip\n",
      "3FO4LUE7Y3KP_Bedroom.zip\n",
      "3FO4LWPG0718_Bedroom.zip\n",
      "3FO4LWPFVJY5_Bedroom.zip\n",
      "3FO4LWPDD3PO_Bedroom.zip\n",
      "3FO4LWOX77WW_Bedroom.zip\n",
      "3FO4LWN2H2B0_Bedroom.zip\n",
      "3FO4LWMKK890_Bedroom.zip\n",
      "3FO4LWKPXA3I_Bedroom.zip\n",
      "3FO4LWJTJTJ0_Living_room.zip\n",
      "3FO4LWJTJTJ0_Bedroom.zip\n",
      "3FO4LWIVIV3A_Bedroom.zip\n",
      "3FO4LWHPFIQ4_Bedroom.zip\n",
      "3FO4LWHI9GK1_Bedroom.zip\n",
      "3FO4LWHI84QM_Bedroom.zip\n",
      "3FO4LWHI7D0E_Bedroom.zip\n",
      "3FO4LWHI6EK4_Bedroom.zip\n",
      "3FO4LWHI5MSV_Bedroom.zip\n",
      "3FO4LWHHS1G4_Bedroom.zip\n",
      "3FO4LWHHRD1W_Bedroom.zip\n",
      "3FO4LWHHQYNS_Bedroom.zip\n",
      "3FO4LWHHOEE1_Bedroom.zip\n",
      "3FO4LWHHN2KM_Bedroom.zip\n",
      "3FO4LWHHGNJP_Bedroom.zip\n",
      "3FO4LWHHBLC7_Bedroom.zip\n",
      "3FO4LWHH9YHP_Bedroom.zip\n",
      "3FO4LWH9TGAS_Living_room.zip\n",
      "3FO4LWH9TGAS_Dining_room.zip\n",
      "3FO4LWH9TGAS_Bedroom.zip\n",
      "3FO4LWGSMQMB_Bedroom.zip\n",
      "3FO4LWED3PVV_Bedroom.zip\n",
      "3FO4LWDSD4HC_Bedroom.zip\n",
      "3FO4LWDNI63I_Bedroom.zip\n",
      "3FO4LWC1GIBD_Bedroom.zip\n",
      "3FO4LWC0ECM9_Bedroom.zip\n",
      "3FO4LWC03QH3_Living_room.zip\n",
      "3FO4LWBYAGQM_Living_room.zip\n",
      "3FO4LWBLQE8B_Bedroom.zip\n",
      "3FO4LWBCHPUI_Bedroom.zip\n",
      "3FO4LWA0264V_Bedroom.zip\n",
      "3FO4LW9YVW8B_Bedroom.zip\n",
      "3FO4LW9WX84R_Bedroom.zip\n",
      "3FO4LW92CAJH_Bedroom.zip\n",
      "3FO4LW7S6JW7_Living_room.zip\n",
      "3FO4LW7HTRF0_Bedroom.zip\n",
      "3FO4LW60CGVI_Bedroom.zip\n",
      "3FO4LW60A3AS_Bedroom.zip\n",
      "3FO4LW6094UI_Bedroom.zip\n",
      "3FO4LW608QHE_Bedroom.zip\n",
      "3FO4LW6089R9_Bedroom.zip\n",
      "3FO4LW6086F8_Bedroom.zip\n",
      "3FO4LW5YRS3M_Bedroom.zip\n",
      "3FO4LW5YR81G_Bedroom.zip\n",
      "3FO4LW5YQGA8_Bedroom.zip\n",
      "3FO4LW5YELNO_Living_room.zip\n",
      "3FO4LW5YELNO_Dining_room.zip\n",
      "3FO4LW5YELNO_Bedroom.zip\n",
      "3FO4LW5YEBML_Bedroom.zip\n",
      "3FO4LW46HQO6_Bedroom.zip\n",
      "3FO4LW3JCOGD_Bedroom.zip\n",
      "3FO4LW3GFGPS_Guest_room.zip\n",
      "3FO4LW3GFGPS_Bedroom.zip\n",
      "3FO4LW2XUSIY_Bedroom.zip\n",
      "3FO4LW2FRP0M_Living_room.zip\n",
      "3FO4LW2FRP0M_Bedroom.zip\n",
      "3FO4LW0GQK61_Bedroom.zip\n",
      "3FO4LVYIVWE7_Bedroom.zip\n",
      "3FO4LVWS18FY_Bedroom.zip\n",
      "3FO4LVVYH1Y5_Bedroom.zip\n",
      "3FO4LVVYG06T_Bedroom.zip\n",
      "3FO4LVVYB80E_Bedroom.zip\n",
      "3FO4LVV3FJD7_Bedroom.zip\n",
      "3FO4LVQO6K0I_Bedroom.zip\n",
      "3FO4LVQARO9A_Living_room.zip\n",
      "3FO4LVQARO9A_Bedroom.zip\n",
      "3FO4LVPTIOC4_Bedroom.zip\n",
      "3FO4LVP9RRVH_Living_room.zip\n",
      "3FO4LVP9RRVH_Bedroom.zip\n",
      "3FO4LVP9QTG7_Bedroom.zip\n",
      "3FO4LVP9Q620_Bedroom.zip\n",
      "3FO4LVP9PYCX_Bedroom.zip\n",
      "3FO4LVP9PHMS_Bedroom.zip\n",
      "3FO4LVP9OJ7I_Living_room.zip\n",
      "3FO4LVP9OJ7I_Dining_room.zip\n",
      "3FO4LVP9OJ7I_Bedroom.zip\n",
      "3FO4LVP9A0Y6_Bedroom.zip\n",
      "3FO4LVP98ARN_Living_room.zip\n",
      "3FO4LVP98ARN_Bedroom.zip\n",
      "3FO4LVP9790C_Bedroom.zip\n",
      "3FO4LVP95M5U_Bedroom.zip\n",
      "3FO4LVP90TYF_Bedroom.zip\n",
      "3FO4LVP8YI61_Bedroom.zip\n",
      "3FO4LVP8UEDS_Bedroom.zip\n",
      "3FO4LVP8U4CP_Bedroom.zip\n",
      "3FO4LVP71O5Q_Bedroom.zip\n",
      "3FO4LVP221WI_Bedroom.zip\n",
      "3FO4LVLOCMPI_Bedroom.zip\n",
      "3FO4LVLO41RX_Bedroom.zip\n",
      "3FO4LVLNST0V_Living_room.zip\n",
      "3FO4LVLNST0V_Bedroom.zip\n",
      "3FO4LVLNQFF6_Bedroom.zip\n",
      "3FO4LVLNOVWP_Bedroom.zip\n",
      "3FO4LVLLN2H8_Bedroom.zip\n",
      "3FO4LVJOF9HK_Bedroom.zip\n",
      "3FO4LVJ5QPF4_Dining_room.zip\n",
      "3FO4LVJ5QPF4_Bedroom.zip\n",
      "3FO4LVIAKYHD_Bedroom.zip\n",
      "3FO4LVHT1K43_Bedroom.zip\n",
      "3FO4LVGNFBA1_Bedroom.zip\n",
      "3FO4LVGDVLT8_Guest_room.zip\n",
      "3FO4LVGDVLT8_Bedroom.zip\n",
      "3FO4LVETRGSQ_Living_room.zip\n",
      "3FO4LVETRGSQ_Dining_room.zip\n",
      "3FO4LVEQ3HU6_Dining_room.zip\n",
      "3FO4LVEMV2CJ_Guest_room.zip\n",
      "3FO4LVEMV2CJ_Bedroom.zip\n",
      "3FO4LVDNYPLQ_Bedroom.zip\n",
      "3FO4LV987W79_Bedroom.zip\n",
      "3FO4LV9863NP_Bedroom.zip\n",
      "3FO4LV9851VE_Bedroom.zip\n",
      "3FO4LV983P30_Guest_room.zip\n",
      "3FO4LV983P30_Bedroom.zip\n",
      "3FO4LV97PBY0_Bedroom.zip\n",
      "3FO4LV78F14N_Bedroom.zip\n",
      "3FO4LV6W1JNH_Bedroom.zip\n",
      "3FO4LV5Y7NMV_Bedroom.zip\n",
      "3FO4LV5JCAN9_Bedroom.zip\n",
      "3FO4LV4S9A67_Bedroom.zip\n",
      "3FO4LV472368_Bedroom.zip\n",
      "3FO4LV2RAYPI_Bedroom.zip\n",
      "3FO4LV2RAS1G_Bedroom.zip\n",
      "3FO4LV2RABBB_Bedroom.zip\n",
      "3FO4LV2R9CV1_Bedroom.zip\n",
      "3FO4LV2R966Y_Bedroom.zip\n",
      "3FO4LV2R79BE_Bedroom.zip\n",
      "3FO4LV2R6E85_Bedroom.zip\n",
      "3FO4LV2R4UPO_Living_room.zip\n",
      "3FO4LV2R40MF_Bedroom.zip\n",
      "3FO4LV2R3IWA_Bedroom.zip\n",
      "3FO4LV2QT68H_Bedroom.zip\n",
      "3FO4LV2QM3SD_Bedroom.zip\n",
      "3FO4LV2QC9EF_Bedroom.zip\n",
      "3FO4LV1O09LJ_Bedroom.zip\n",
      "3FO4LV1LLDUG_Bedroom.zip\n",
      "3FO4LV1EBLA9_Bedroom.zip\n",
      "3FO4LV0R7ASO_Bedroom.zip\n",
      "3FO4LUY9QW5R_Bedroom.zip\n",
      "3FO4LUXU0CWA_Bedroom.zip\n",
      "3FO4LUXNH1J0_Living_room.zip\n",
      "3FO4LUXNH1J0_Bedroom.zip\n",
      "3FO4LUX6AD32_Bedroom.zip\n",
      "3FO4LUVH8B0U_Bedroom.zip\n",
      "3FO4LUUSXHT6_Bedroom.zip\n",
      "3FO4LUUJY756_Bedroom.zip\n",
      "3FO4LUSDJ2L4_Bedroom.zip\n",
      "3FO4LUR7NCQ8_Bedroom.zip\n",
      "3FO4LUQG961T_Bedroom.zip\n",
      "3FO4LUQCY1WE_Bedroom.zip\n",
      "3FO4LUPGBPE8_Bedroom.zip\n",
      "3FO4LUNURSBU_Bedroom.zip\n",
      "3FO4LUMPTDMM_Bedroom.zip\n",
      "3FO4LUMJNA90_Living_room.zip\n",
      "3FO4LUMJNA90_Dining_room.zip\n",
      "3FO4LUMJNA90_Bedroom.zip\n",
      "3FO4LUMJJ34Q_Living_room.zip\n",
      "3FO4LUMJJ34Q_Bedroom.zip\n",
      "3FO4LUMJFCPM_Bedroom.zip\n",
      "3FO4LUMJ31DX_Living_room.zip\n",
      "3FO4LUMJ31DX_Bedroom.zip\n",
      "3FO4LUMDRVCK_Living_room.zip\n",
      "3FO4LUMDRVCK_Dining_room.zip\n",
      "3FO4LUMDRVCK_Bedroom.zip\n",
      "3FO4LUM6OB48_Bedroom.zip\n",
      "3FO4LUM5REBO_Bedroom.zip\n",
      "3FO4LUM23M26_Bedroom.zip\n",
      "3FO4LULYTSIL_Bedroom.zip\n",
      "3FO4LULUOL56_Bedroom.zip\n",
      "3FO4LULUM7JG_Bedroom.zip\n",
      "3FO4LUL0YBV2_Bedroom.zip\n",
      "3FO4LUKYYJRN_Bedroom.zip\n",
      "3FO4LUK6CVD3_Bedroom.zip\n",
      "3FO4LUHXQKOP_Bedroom.zip\n",
      "3FO4LUHX7A9X_Bedroom.zip\n",
      "3FO4LUHWU5MB_Dining_room.zip\n",
      "3FO4LUHWU5MB_Bedroom.zip\n",
      "3FO4LUHWSSSW_Living_room.zip\n",
      "3FO4LUHWSSSW_Dining_room.zip\n",
      "3FO4LUHWSSSW_Bedroom.zip\n",
      "3FO4LUHN3SO8_Bedroom.zip\n",
      "3FO4LUHD9LFA_Bedroom.zip\n",
      "3FO4LUH3UO5W_Bedroom.zip\n",
      "3FO4LUG8YHL1_Dining_room.zip\n",
      "3FO4LUG3SN0X_Bedroom.zip\n",
      "3FO4LUEU9811_Bedroom.zip\n",
      "3FO4LUE89VEX_Bedroom.zip\n",
      "3FO4LUE837CX_Bedroom.zip\n",
      "3FO4LUE813SB_Bedroom.zip\n",
      "3FO4LTR33N6Q_Living_room.zip\n",
      "3FO4LTJX27MF_Bedroom.zip\n",
      "3FO4LT6RUJBD_Guest_room.zip\n",
      "3FO4LSS8JUUK_Bedroom.zip\n",
      "3FO4LSD1CX3R_Bedroom.zip\n",
      "3FO4LS0HXMAP_Bedroom.zip\n",
      "3FO4LRICJL60_Bedroom.zip\n",
      "3FO4LQXQ42EM_Bedroom.zip\n",
      "3FO4LQPPCKHS_Bedroom.zip\n",
      "3FO4LQJOACLH_Bedroom.zip\n",
      "3FO4LQGGJSVH_Bedroom.zip\n",
      "3FO4LPVMSMGN_Bedroom.zip\n",
      "3FO4LPNK8SOV_Bedroom.zip\n",
      "3FO4LUE7V4WT_Guest_room.zip\n",
      "3FO4LUE7V4WT_Bedroom.zip\n",
      "3FO4LUE7LDUW_Bedroom.zip\n",
      "3FO4LUE7L76U_Bedroom.zip\n",
      "3FO4LUE7J6Y9_Bedroom.zip\n",
      "3FO4LUE7DQDM_Bedroom.zip\n",
      "3FO4LUDTMYSB_Bedroom.zip\n",
      "3FO4LUDOSBFK_Living_room.zip\n",
      "3FO4LUB3WSUD_Bedroom.zip\n",
      "3FO4LUAOPK1N_Bedroom.zip\n",
      "3FO4LUAOLJLG_Bedroom.zip\n",
      "3FO4LUAO6GAX_Living_room.zip\n",
      "3FO4LUAMSEFK_Bedroom.zip\n",
      "3FO4LUAHAF7U_Bedroom.zip\n",
      "3FO4LUA530M1_Bedroom.zip\n",
      "3FO4LU8RWAAC_Bedroom.zip\n",
      "3FO4LU8NEGJ5_Bedroom.zip\n",
      "3FO4LU882DEI_Bedroom.zip\n",
      "3FO4LU7L9FTC_Living_room.zip\n",
      "3FO4LU782MI8_Bedroom.zip\n",
      "3FO4LU5VKLEM_Bedroom.zip\n",
      "3FO4LTYHP1N8_Bedroom.zip\n",
      "3FO4LTXXJO3Q_Living_room.zip\n",
      "3FO4LTXBDQRO_Guest_room.zip\n",
      "3FO4LTXBDQRO_Bedroom.zip\n",
      "3FO4LTR3O0DT_Bedroom.zip\n",
      "3FO4LTR3GQ9N_Bedroom.zip\n",
      "3FO4LTR3A8VP_Bedroom.zip\n",
      "3FO4LTR33N6Q_Bedroom.zip\n",
      "3FO4LTR2U8X8_Bedroom.zip\n",
      "3FO4LTR2LGBL_Bedroom.zip\n",
      "3FO4LTR28N9R_Bedroom.zip\n",
      "3FO4LTR1YNY3_Living_room.zip\n",
      "3FO4LTR1FGVC_Bedroom.zip\n",
      "3FO4LTOT4HC2_Bedroom.zip\n",
      "3FO4LTOSL8OL_Bedroom.zip\n",
      "3FO4LTOS509Q_Living_room.zip\n",
      "3FO4LTOS509Q_Dining_room.zip\n",
      "3FO4LTOS509Q_Bedroom.zip\n",
      "3FO4LTOQDQYF_Bedroom.zip\n",
      "3FO4LTNXLVRR_Bedroom.zip\n",
      "3FO4LTL71PWU_Bedroom.zip\n",
      "3FO4LTJBSAFX_Bedroom.zip\n",
      "3FO4LTJ3R8CV_Bedroom.zip\n",
      "3FO4LTIGSNI1_Bedroom.zip\n",
      "3FO4LTG964DA_Bedroom.zip\n",
      "3FO4LTFBMTHU_Bedroom.zip\n",
      "3FO4LTEV223M_Bedroom.zip\n",
      "3FO4LTDCRBWX_Bedroom.zip\n",
      "3FO4LTAEAQLT_Living_room.zip\n",
      "3FO4LTAEAQLT_Bedroom.zip\n",
      "3FO4LTAAUDKT_Bedroom.zip\n",
      "3FO4LT7MTV87_Bedroom.zip\n",
      "3FO4LT7IITV1_Bedroom.zip\n",
      "3FO4LT7518PO_Bedroom.zip\n",
      "3FO4LT6SYP83_Bedroom.zip\n",
      "3FO4LT6RUJBD_Bedroom.zip\n",
      "3FO4LT6RC3YU_Dining_room.zip\n",
      "3FO4LT4YIYEG_Bedroom.zip\n",
      "3FO4LT4BFDJM_Bedroom.zip\n",
      "3FO4LT2E97EG_Bedroom.zip\n",
      "3FO4LT12W8ID_Bedroom.zip\n",
      "3FO4LT0QQEJH_Bedroom.zip\n",
      "3FO4LT0M8AR7_Bedroom.zip\n",
      "3FO4LSYBVANK_Bedroom.zip\n",
      "3FO4LSXAVEAR_Bedroom.zip\n",
      "3FO4LSU6B7IR_Bedroom.zip\n",
      "3FO4LSSJON25_Living_room.zip\n",
      "3FO4LSSJON25_Dining_room.zip\n",
      "3FO4LSSJON25_Bedroom.zip\n",
      "3FO4LSRVXA6Y_Living_room.zip\n",
      "3FO4LSRVXA6Y_Dining_room.zip\n",
      "3FO4LSP5J8BV_Bedroom.zip\n",
      "3FO4LSOOESW3_Bedroom.zip\n",
      "3FO4LSNSYF9G_Living_room.zip\n",
      "3FO4LSNSYF9G_Dining_room.zip\n",
      "3FO4LSNSYF9G_Bedroom.zip\n",
      "3FO4LSNQVPPP_Bedroom.zip\n",
      "3FO4LSI2UP3D_Bedroom.zip\n",
      "3FO4LSD3BM7B_Bedroom.zip\n",
      "3FO4LSD32TKO_Bedroom.zip\n",
      "3FO4LSD24RNS_Bedroom.zip\n",
      "3FO4LSD1TJVQ_Bedroom.zip\n",
      "3FO4LSD1RQD7_Bedroom.zip\n",
      "3FO4LSBF43BX_Bedroom.zip\n",
      "3FO4LS9RA7LN_Bedroom.zip\n",
      "3FO4LS7URWDM_Bedroom.zip\n",
      "3FO4LS2LRIMH_Bedroom.zip\n",
      "3FO4LS0JBHH1_Bedroom.zip\n",
      "3FO4LS0J5GT8_Living_room.zip\n",
      "3FO4LS0J2859_Bedroom.zip\n",
      "3FO4LS0J0LAR_Bedroom.zip\n",
      "3FO4LS0IPA6O_Bedroom.zip\n",
      "3FO4LS0IOSGJ_Living_room.zip\n",
      "3FO4LS0IOSGJ_Bedroom.zip\n",
      "3FO4LS0IMI7U_Bedroom.zip\n",
      "3FO4LS0HYY44_Living_room.zip\n",
      "3FO4LS0HY40U_Living_room.zip\n",
      "3FO4LS0HXFLN_Bedroom.zip\n",
      "3FO4LRXWW0FI_Bedroom.zip\n",
      "3FO4LRUKVXUS_Bedroom.zip\n",
      "3FO4LRRC4CSP_Bedroom.zip\n",
      "3FO4LROG16IJ_Living_room.zip\n",
      "3FO4LROG16IJ_Bedroom.zip\n",
      "3FO4LRKETVOQ_Bedroom.zip\n",
      "3FO4LRID9IUG_Living_room.zip\n",
      "3FO4LRID9IUG_Bedroom.zip\n",
      "3FO4LRID9FIF_Bedroom.zip\n",
      "3FO4LRICXMO7_Bedroom.zip\n",
      "3FO4LRICX2M1_Bedroom.zip\n",
      "3FO4LRICOGOG_Bedroom.zip\n",
      "3FO4LRICO3BC_Bedroom.zip\n",
      "3FO4LRF6Q823_Bedroom.zip\n",
      "3FO4LRDS6HEQ_Bedroom.zip\n",
      "3FO4LRCXKW01_Bedroom.zip\n",
      "3FO4LRBT72QN_Bedroom.zip\n",
      "3FO4LR8OYAND_Guest_room.zip\n",
      "3FO4LR8OYAND_Bedroom.zip\n",
      "3FO4LR7IHQV9_Living_room.zip\n",
      "3FO4LR7IHQV9_Bedroom.zip\n",
      "3FO4LR4W120P_Guest_room.zip\n",
      "3FO4LR4W120P_Bedroom.zip\n",
      "3FO4LR3M5UE4_Bedroom.zip\n",
      "3FO4LR3LGOFV_Living_room.zip\n",
      "3FO4LR3LGOFV_Dining_room.zip\n",
      "3FO4LR3LGOFV_Bedroom.zip\n",
      "3FO4LQWFLP2E_Living_room.zip\n",
      "3FO4LQWFLP2E_Bedroom.zip\n",
      "3FO4LQULVDND_Bedroom.zip\n",
      "3FO4LQUH1SMN_Bedroom.zip\n",
      "3FO4LQU8H170_Bedroom.zip\n",
      "3FO4LQU8DE4W_Living_room.zip\n",
      "3FO4LQU8DE4W_Bedroom.zip\n",
      "3FO4LQU6VP7G_Guest_room.zip\n",
      "3FO4LQU6VP7G_Bedroom.zip\n",
      "3FO4LQU6S35D_Bedroom.zip\n",
      "3FO4LQR9CSF4_Bedroom.zip\n",
      "3FO4LQQX3924_Bedroom.zip\n",
      "3FO4LQPVWIPK_Bedroom.zip\n",
      "3FO4LQPPSC7I_Bedroom.zip\n",
      "3FO4LQPMQ8XH_Bedroom.zip\n",
      "3FO4LQPMIYTB_Bedroom.zip\n",
      "3FO4LQPFQE49_Bedroom.zip\n",
      "3FO4LQOA09QQ_Bedroom.zip\n",
      "3FO4LQNLTXPE_Bedroom.zip\n",
      "3FO4LQN751BE_Bedroom.zip\n",
      "3FO4LQLSH203_Bedroom.zip\n",
      "3FO4LQL7BGTL_Bedroom.zip\n",
      "3FO4LQKXS7VE_Bedroom.zip\n",
      "3FO4LQKPU4G8_Bedroom.zip\n",
      "3FO4LQKH5D53_Living_room.zip\n",
      "3FO4LQKH5D53_Dining_room.zip\n",
      "3FO4LQKH5D53_Bedroom.zip\n",
      "3FO4LQKDSSU8_Bedroom.zip\n",
      "3FO4LQJ46D2X_Bedroom.zip\n",
      "3FO4LQITS7JS_Bedroom.zip\n",
      "3FO4LQI6MS6F_Bedroom.zip\n",
      "3FO4LQGHCLVS_Bedroom.zip\n",
      "3FO4LQGHB02B_Living_room.zip\n",
      "3FO4LQGH9TWY_Bedroom.zip\n",
      "3FO4LQGH8I4K_Bedroom.zip\n",
      "3FO4LQGH7GC9_Bedroom.zip\n",
      "3FO4LQGH4V2H_Bedroom.zip\n",
      "3FO4LQGH3TA6_Bedroom.zip\n",
      "3FO4LQGH2HGR_Bedroom.zip\n",
      "3FO4LQGH27FO_Bedroom.zip\n",
      "3FO4LQGGXACI_Bedroom.zip\n",
      "3FO4LQGGPQ79_Bedroom.zip\n",
      "3FO4LQGG1QX3_Bedroom.zip\n",
      "3FO4LQEUD61B_Living_room.zip\n",
      "3FO4LQEUD61B_Bedroom.zip\n",
      "3FO4LQESEXMW_Bedroom.zip\n",
      "3FO4LQBD0UUL_Living_room.zip\n",
      "3FO4LQ9E76T8_Bedroom.zip\n",
      "3FO4LQ7DWUMP_Bedroom.zip\n",
      "3FO4LQ78DMXM_Guest_room.zip\n",
      "3FO4LQ78DMXM_Bedroom.zip\n",
      "3FO4LQ5GO0UQ_Bedroom.zip\n",
      "3FO4LQ3MUJ4R_Bedroom.zip\n",
      "3FO4LQ035BN9_Living_room.zip\n",
      "3FO4LQ035BN9_Bedroom.zip\n",
      "3FO4LPWDJEY2_Bedroom.zip\n",
      "3FO4LPSQ1GWB_Bedroom.zip\n",
      "3FO4LPS29GUH_Bedroom.zip\n",
      "3FO4LPRNU4E4_Bedroom.zip\n",
      "3FO4LPRE42H4_Bedroom.zip\n",
      "3FO4LPR6OHPH_Living_room.zip\n",
      "3FO4LPR6OHPH_Bedroom.zip\n",
      "3FO4LPOSNGID_Bedroom.zip\n",
      "3FO4LPOIUEDR_Living_room.zip\n",
      "3FO4LPOIUEDR_Bedroom.zip\n",
      "3FO4LPNM57JQ_Bedroom.zip\n",
      "3FO4LPNM0SQF_Bedroom.zip\n",
      "3FO4LPNLI1T4_Bedroom.zip\n",
      "3FO4LPNKPW80_Bedroom.zip\n",
      "3FO4LPNKFHQV_Bedroom.zip\n",
      "3FO4KCAB76QQ_Bedroom.zip\n",
      "3FO4K9M5RAG5_Bedroom.zip\n",
      "3FO4JXI2ASME_Guest_room.zip\n",
      "3FO4JW2JSWY8_Guest_room.zip\n",
      "3FO4JUQQD8P3_Bedroom.zip\n",
      "3FO4JTDEHQ5D_Bedroom.zip\n",
      "3FO4JRNUE2OX_Guest_room.zip\n",
      "3FO4JQDBIBCY_Living_room.zip\n",
      "3FO4JPE4WQPN_Living_room.zip\n",
      "3FO4JMJY1D3X_Guest_room.zip\n",
      "3FO4JLDDJTEQ_Guest_room.zip\n",
      "3FO4JJHLYIRV_Bedroom.zip\n",
      "3FO4JHNQGBQI_Bedroom.zip\n",
      "3FO4LPFOXKT9_Bedroom.zip\n",
      "3FO4LP919AJ2_Bedroom.zip\n",
      "3FO4LOXAKCCK_Living_room.zip\n",
      "3FO4LORUSGS6_Bedroom.zip\n",
      "3FO4LOMDRRP7_Bedroom.zip\n",
      "3FO4LOKTB810_Living_room.zip\n",
      "3FO4LOG9E0J1_Guest_room.zip\n",
      "3FO4LOASQ6MD_Bedroom.zip\n",
      "3FO4LO5MK1XW_Bedroom.zip\n",
      "3FO4LO08YMJW_Living_room.zip\n",
      "3FO4LNQOL533_Bedroom.zip\n",
      "3FO4LNDXHSHK_Bedroom.zip\n",
      "3FO4LN67UTXR_Bedroom.zip\n",
      "3FO4LPN4M67E_Bedroom.zip\n",
      "3FO4LPN179VJ_Bedroom.zip\n",
      "3FO4LPMP6VIA_Bedroom.zip\n",
      "3FO4LPMOGUGS_Bedroom.zip\n",
      "3FO4LPM99G6K_Bedroom.zip\n",
      "3FO4LPM0ASVR_Bedroom.zip\n",
      "3FO4LPM08PC5_Bedroom.zip\n",
      "3FO4LPLYVO1J_Bedroom.zip\n",
      "3FO4LPLYNGH3_Bedroom.zip\n",
      "3FO4LPLYDFE3_Bedroom.zip\n",
      "3FO4LPLYD5D0_Living_room.zip\n",
      "3FO4LPLYD5D0_Dining_room.zip\n",
      "3FO4LPLYD5D0_Bedroom.zip\n",
      "3FO4LPLXLUU5_Bedroom.zip\n",
      "3FO4LPLX8OF7_Bedroom.zip\n",
      "3FO4LPJAXOT7_Bedroom.zip\n",
      "3FO4LPJAWD0S_Bedroom.zip\n",
      "3FO4LPJAE11B_Bedroom.zip\n",
      "3FO4LPJ4OCQL_Bedroom.zip\n",
      "3FO4LPJ4ESDQ_Bedroom.zip\n",
      "3FO4LPJ3T2SJ_Bedroom.zip\n",
      "3FO4LPJ3NSVY_Bedroom.zip\n",
      "3FO4LPH43KBN_Bedroom.zip\n",
      "3FO4LPGJ5VH0_Bedroom.zip\n",
      "3FO4LPG94P4Y_Dining_room.zip\n",
      "3FO4LPG94P4Y_Bedroom.zip\n",
      "3FO4LPG4BDKM_Bedroom.zip\n",
      "3FO4LPFQNKN7_Bedroom.zip\n",
      "3FO4LPFOVUMQ_Bedroom.zip\n",
      "3FO4LPFOVAKK_Bedroom.zip\n",
      "3FO4LPFOV0JH_Bedroom.zip\n",
      "3FO4LPEEU6N7_Bedroom.zip\n",
      "3FO4LPCW1VLF_Bedroom.zip\n",
      "3FO4LPCIR7YG_Bedroom.zip\n",
      "3FO4LPCHNC3T_Bedroom.zip\n",
      "3FO4LPBUP8Y4_Bedroom.zip\n",
      "3FO4LPB39XCW_Bedroom.zip\n",
      "3FO4LP91SAWQ_Bedroom.zip\n",
      "3FO4LP91RMIJ_Living_room.zip\n",
      "3FO4LP91RMIJ_Bedroom.zip\n",
      "3FO4LP91QE26_Living_room.zip\n",
      "3FO4LP91QE26_Bedroom.zip\n",
      "3FO4LP910YMK_Bedroom.zip\n",
      "3FO4LP90WPXL_Bedroom.zip\n",
      "3FO4LP90METI_Bedroom.zip\n",
      "3FO4LP90M1GE_Bedroom.zip\n",
      "3FO4LP90IYGH_Living_room.zip\n",
      "3FO4LP90IYGH_Bedroom.zip\n",
      "3FO4LP4731B6_Bedroom.zip\n",
      "3FO4LP3R6LJ8_Bedroom.zip\n",
      "3FO4LP2BE45M_Bedroom.zip\n",
      "3FO4LOYN08O0_Bedroom.zip\n",
      "3FO4LOXAQGCE_Living_room.zip\n",
      "3FO4LOXAQGCE_Bedroom.zip\n",
      "3FO4LOXANB0G_Bedroom.zip\n",
      "3FO4LOXAN0YD_Bedroom.zip\n",
      "3FO4LOXAKCCK_Bedroom.zip\n",
      "3FO4LOX0P3BB_Living_room.zip\n",
      "3FO4LOX0P3BB_Bedroom.zip\n",
      "3FO4LOX0IE9B_Bedroom.zip\n",
      "3FO4LOX0GAOO_Living_room.zip\n",
      "3FO4LOX0GAOO_Bedroom.zip\n",
      "3FO4LOX06JMR_Guest_room.zip\n",
      "3FO4LOX06JMR_Bedroom.zip\n",
      "3FO4LOX03KYV_Living_room.zip\n",
      "3FO4LOX03KYV_Dining_room.zip\n",
      "3FO4LOX03KYV_Bedroom.zip\n",
      "3FO4LOWYQ2Y5_Bedroom.zip\n",
      "3FO4LOWL7F1H_Living_room.zip\n",
      "3FO4LOWL7F1H_Bedroom.zip\n",
      "3FO4LOPNYKR0_Bedroom.zip\n",
      "3FO4LONS6N69_Bedroom.zip\n",
      "3FO4LOMEV06M_Bedroom.zip\n",
      "3FO4LOMEUF4G_Bedroom.zip\n",
      "3FO4LOMETU2A_Bedroom.zip\n",
      "3FO4LOMERQHN_Bedroom.zip\n",
      "3FO4LOMEMYB8_Living_room.zip\n",
      "3FO4LOMEMYB8_Bedroom.zip\n",
      "3FO4LOMEDSBH_Bedroom.zip\n",
      "3FO4LOMED1K9_Bedroom.zip\n",
      "3FO4LOMEAQBK_Bedroom.zip\n",
      "3FO4LOME89DT_Living_room.zip\n",
      "3FO4LOME89DT_Dining_room.zip\n",
      "3FO4LOMDRRP7_Living_room.zip\n",
      "3FO4LOLP73C9_Bedroom.zip\n",
      "3FO4LOLORQRY_Bedroom.zip\n",
      "3FO4LOLOOOS2_Bedroom.zip\n",
      "3FO4LOLOKV1W_Bedroom.zip\n",
      "3FO4LOLOHCBU_Living_room.zip\n",
      "3FO4LOLOHCBU_Dining_room.zip\n",
      "3FO4LOLODSLS_Guest_room.zip\n",
      "3FO4LOLODSLS_Bedroom.zip\n",
      "3FO4LOLO5RQE_Bedroom.zip\n",
      "3FO4LOLO2WFJ_Bedroom.zip\n",
      "3FO4LOLNYXRN_Bedroom.zip\n",
      "3FO4LOLNW04R_Bedroom.zip\n",
      "3FO4LOLCM2DN_Living_room.zip\n",
      "3FO4LOKXWKH9_Bedroom.zip\n",
      "3FO4LOKTB810_Guest_room.zip\n",
      "3FO4LOKTB810_Dining_room.zip\n",
      "3FO4LOKTB810_Bedroom.zip\n",
      "3FO4LOKRJYPO_Bedroom.zip\n",
      "3FO4LOKRH4ET_Bedroom.zip\n",
      "3FO4LOKRG2MI_Bedroom.zip\n",
      "3FO4LOJOOQAC_Bedroom.zip\n",
      "3FO4LOIEYVWC_Bedroom.zip\n",
      "3FO4LOG9HJ93_Bedroom.zip\n",
      "3FO4LOG9HCK1_Bedroom.zip\n",
      "3FO4LOG9GUTV_Bedroom.zip\n",
      "3FO4LOG9G0QM_Bedroom.zip\n",
      "3FO4LOG9FCCF_Living_room.zip\n",
      "3FO4LOG9FCCF_Bedroom.zip\n",
      "3FO4LOG9E0J1_Bedroom.zip\n",
      "3FO4LOG9CR2N_Guest_room.zip\n",
      "3FO4LOG9CR2N_Bedroom.zip\n",
      "3FO4LOG991NJ_Guest_room.zip\n",
      "3FO4LOG991NJ_Bedroom.zip\n",
      "3FO4LOG98GLD_Bedroom.zip\n",
      "3FO4LOG8W3OY_Bedroom.zip\n",
      "3FO4LOG8V1WN_Living_room.zip\n",
      "3FO4LOG8V1WN_Bedroom.zip\n",
      "3FO4LOG8K93F_Bedroom.zip\n",
      "3FO4LOET0CYK_Bedroom.zip\n",
      "3FO4LOCPPR2K_Living_room.zip\n",
      "3FO4LOCPPR2K_Bedroom.zip\n",
      "3FO4LOB6EMY0_Bedroom.zip\n",
      "3FO4LOA3HAY1_Living_room.zip\n",
      "3FO4LOA3HAY1_Bedroom.zip\n",
      "3FO4LOA0HHXO_Bedroom.zip\n",
      "3FO4LO9VGECH_Bedroom.zip\n",
      "3FO4LO9U84NJ_Dining_room.zip\n",
      "3FO4LO9U84NJ_Bedroom.zip\n",
      "3FO4LO81HS9I_Living_room.zip\n",
      "3FO4LO81HS9I_Bedroom.zip\n",
      "3FO4LO786Q04_Bedroom.zip\n",
      "3FO4LO780BY7_Bedroom.zip\n",
      "3FO4LO75PDBA_Bedroom.zip\n",
      "3FO4LO75GANK_Bedroom.zip\n",
      "3FO4LO6X1CIT_Bedroom.zip\n",
      "3FO4LO5S91TF_Bedroom.zip\n",
      "3FO4LO5MHDC4_Bedroom.zip\n",
      "3FO4LO5MFJSK_Living_room.zip\n",
      "3FO4LO5MFJSK_Bedroom.zip\n",
      "3FO4LO5MF33F_Bedroom.zip\n",
      "3FO4LO5M7WBA_Bedroom.zip\n",
      "3FO4LO5M43K5_Bedroom.zip\n",
      "3FO4LO5M3VV3_Bedroom.zip\n",
      "3FO4LO5JUU3Q_Bedroom.zip\n",
      "3FO4LO24S57T_Bedroom.zip\n",
      "3FO4LO121PIM_Guest_room.zip\n",
      "3FO4LO121PIM_Bedroom.zip\n",
      "3FO4LO0HGX2T_Bedroom.zip\n",
      "3FO4LO0FIPOF_Dining_room.zip\n",
      "3FO4LO0FIPOF_Bedroom.zip\n",
      "3FO4LNYETIST_Bedroom.zip\n",
      "3FO4LNY0QR5G_Bedroom.zip\n",
      "3FO4LNXN7LA4_Bedroom.zip\n",
      "3FO4LNXMLRCV_Bedroom.zip\n",
      "3FO4LNXC4MM3_Bedroom.zip\n",
      "3FO4LNWRE4JK_Bedroom.zip\n",
      "3FO4LNVPMQYU_Living_room.zip\n",
      "3FO4LNVPMQYU_Guest_room.zip\n",
      "3FO4LNVPMQYU_Bedroom.zip\n",
      "3FO4LNVIRV14_Bedroom.zip\n",
      "3FO4LNU0OD7A_Bedroom.zip\n",
      "3FO4LNS9V66S_Living_room.zip\n",
      "3FO4LNS9V66S_Bedroom.zip\n",
      "3FO4LNQORPS2_Bedroom.zip\n",
      "3FO4LNP2QN33_Bedroom.zip\n",
      "3FO4LNMOU7DC_Bedroom.zip\n",
      "3FO4LNLAQN1D_Living_room.zip\n",
      "3FO4LNLAQN1D_Dining_room.zip\n",
      "3FO4LNKXQ7IM_Living_room.zip\n",
      "3FO4LNKS4V9W_Bedroom.zip\n",
      "3FO4LNK66I44_Bedroom.zip\n",
      "3FO4LNJMYKTM_Bedroom.zip\n",
      "3FO4LNGM8P9S_Living_room.zip\n",
      "3FO4LNFRW7HS_Dining_room.zip\n",
      "3FO4LNFI8PUK_Bedroom.zip\n",
      "3FO4LNEP9I7P_Bedroom.zip\n",
      "3FO4LNDYB9W3_Bedroom.zip\n",
      "3FO4LNDXHSHK_Living_room.zip\n",
      "3FO4LNDXC67V_Bedroom.zip\n",
      "3FO4LNDWN3LO_Guest_room.zip\n",
      "3FO4LNDWN3LO_Bedroom.zip\n",
      "3FO4LNDOPXLS_Bedroom.zip\n",
      "3FO4LN9F878T_Bedroom.zip\n",
      "3FO4LN9BNSRM_Bedroom.zip\n",
      "3FO4LN683RH5_Bedroom.zip\n",
      "3FO4LN6808R3_Bedroom.zip\n",
      "3FO4LN67YNOW_Bedroom.zip\n",
      "3FO4LN67YH0U_Living_room.zip\n",
      "3FO4LN67YH0U_Bedroom.zip\n",
      "3FO4LN67WU6D_Bedroom.zip\n",
      "3FO4LN67VVQ3_Living_room.zip\n",
      "3FO4LN67VVQ3_Bedroom.zip\n",
      "3FO4LMI0P1LE_Living_room.zip\n",
      "3FO4LM3WA2DF_Guest_room.zip\n",
      "3FO4LLSSIPLI_Guest_room.zip\n",
      "3FO4LLHHJH7L_Bedroom.zip\n",
      "3FO4LLCKY8VL_Bedroom.zip\n",
      "3FO4LL9DD7BX_Bedroom.zip\n",
      "3FO4LL54CJH3_Bedroom.zip\n",
      "3FO4LKPMR0ED_Living_room.zip\n",
      "3FO4L7DCQNJT_Guest_room.zip\n",
      "3FO4KDDT1Q2C_Bedroom.zip\n",
      "3FO4KD16PW5G_Bedroom.zip\n",
      "3FO4KCT5H5XT_Bedroom.zip\n",
      "3FO4KCFRIBID_Bedroom.zip\n",
      "3FO4LN67TVIH_Bedroom.zip\n",
      "3FO4LN67T84A_Bedroom.zip\n",
      "3FO4LN67EOUX_Bedroom.zip\n",
      "3FO4LN67E4SR_Bedroom.zip\n",
      "3FO4LN67BG6Y_Bedroom.zip\n",
      "3FO4LN677T4V_Living_room.zip\n",
      "3FO4LN677T4V_Bedroom.zip\n",
      "3FO4LN67792P_Bedroom.zip\n",
      "3FO4LN66RWIF_Bedroom.zip\n",
      "3FO4LN4L93S3_Bedroom.zip\n",
      "3FO4LN4FSS76_Bedroom.zip\n",
      "3FO4LN4D6S8N_Bedroom.zip\n",
      "3FO4LN402055_Bedroom.zip\n",
      "3FO4LN3MTKJB_Bedroom.zip\n",
      "3FO4LN36UBO2_Bedroom.zip\n",
      "3FO4LN1N02M8_Bedroom.zip\n",
      "3FO4LN0M1YRY_Bedroom.zip\n",
      "3FO4LN090IPG_Bedroom.zip\n",
      "3FO4LMWCVAMY_Dining_room.zip\n",
      "3FO4LMW5IJEV_Bedroom.zip\n",
      "3FO4LMW27051_Bedroom.zip\n",
      "3FO4LMVR9T87_Bedroom.zip\n",
      "3FO4LMVQ4VK9_Bedroom.zip\n",
      "3FO4LMURG7BQ_Bedroom.zip\n",
      "3FO4LMSD2OBF_Bedroom.zip\n",
      "3FO4LMS500DV_Bedroom.zip\n",
      "3FO4LMKLL7KS_Bedroom.zip\n",
      "3FO4LMKGOWDK_Bedroom.zip\n",
      "3FO4LMI0P1LE_Bedroom.zip\n",
      "3FO4LMFUULF0_Bedroom.zip\n",
      "3FO4LMCUBI97_Bedroom.zip\n",
      "3FO4LMCT1IDQ_Bedroom.zip\n",
      "3FO4LMAJFU7M_Living_room.zip\n",
      "3FO4LMAJFU7M_Bedroom.zip\n",
      "3FO4LM9R5F4V_Living_room.zip\n",
      "3FO4LM9E8MVR_Bedroom.zip\n",
      "3FO4LM8LSWCQ_Bedroom.zip\n",
      "3FO4LM6OGC6N_Bedroom.zip\n",
      "3FO4LM6O0NSY_Bedroom.zip\n",
      "3FO4LM578V24_Bedroom.zip\n",
      "3FO4LM4VKMBH_Bedroom.zip\n",
      "3FO4LM3WQO6E_Bedroom.zip\n",
      "3FO4LM3WA2DF_Bedroom.zip\n",
      "3FO4LM3W73PJ_Bedroom.zip\n",
      "3FO4LM3HR0PH_Bedroom.zip\n",
      "3FO4LM2PA6LT_Bedroom.zip\n",
      "3FO4LLXQHUV5_Bedroom.zip\n",
      "3FO4LLWAM4SK_Bedroom.zip\n",
      "3FO4LLSYNXVV_Bedroom.zip\n",
      "3FO4LLSYKIIU_Bedroom.zip\n",
      "3FO4LLSY9T1N_Bedroom.zip\n",
      "3FO4LLSY7FFX_Bedroom.zip\n",
      "3FO4LLSY5BVB_Bedroom.zip\n",
      "3FO4LLST5S04_Living_room.zip\n",
      "3FO4LLST5S04_Guest_room.zip\n",
      "3FO4LLST5S04_Bedroom.zip\n",
      "3FO4LLSSIPLI_Bedroom.zip\n",
      "3FO4LLSL9ORJ_Bedroom.zip\n",
      "3FO4LLRUPVD8_Bedroom.zip\n",
      "3FO4LLQ2OMKE_Living_room.zip\n",
      "3FO4LLQ2B9GE_Bedroom.zip\n",
      "3FO4LLQ1RJ3S_Bedroom.zip\n",
      "3FO4LLL39QSL_Living_room.zip\n",
      "3FO4LLL39QSL_Bedroom.zip\n",
      "3FO4LLJFJ1F9_Living_room.zip\n",
      "3FO4LLJFJ1F9_Bedroom.zip\n",
      "3FO4LLJCFI0S_Bedroom.zip\n",
      "3FO4LLHHJH7L_Living_room.zip\n",
      "3FO4LLHHJH7L_Guest_room.zip\n",
      "3FO4LLHHJH7L_Dining_room.zip\n",
      "3FO4LLH8D7FI_Guest_room.zip\n",
      "3FO4LLH8D7FI_Bedroom.zip\n",
      "3FO4LLH4BC33_Bedroom.zip\n",
      "3FO4LLH2ME1G_Bedroom.zip\n",
      "3FO4LLH2JM2M_Bedroom.zip\n",
      "3FO4LLCWNI70_Living_room.zip\n",
      "3FO4LLCWNI70_Bedroom.zip\n",
      "3FO4LLCW8YXN_Bedroom.zip\n",
      "3FO4LLCSYWLJ_Bedroom.zip\n",
      "3FO4LLCSTUE1_Bedroom.zip\n",
      "3FO4LLCSPD8O_Bedroom.zip\n",
      "3FO4LLCSIHHM_Bedroom.zip\n",
      "3FO4LLCSEH2F_Bedroom.zip\n",
      "3FO4LLCS8TRQ_Bedroom.zip\n",
      "3FO4LLCJRB12_Bedroom.zip\n",
      "3FO4LLCIQR6F_Bedroom.zip\n",
      "3FO4LLCE7EWR_Bedroom.zip\n",
      "3FO4LLBXKHE7_Living_room.zip\n",
      "3FO4LLBXKHE7_Dining_room.zip\n",
      "3FO4LLBXKHE7_Bedroom.zip\n",
      "3FO4LLBT6E24_Living_room.zip\n",
      "3FO4LLBT6E24_Dining_room.zip\n",
      "3FO4LLBT6E24_Bedroom.zip\n",
      "3FO4LLBR4WYQ_Bedroom.zip\n",
      "3FO4LLB3BV5L_Guest_room.zip\n",
      "3FO4LLB3BV5L_Bedroom.zip\n",
      "3FO4LLATGRKU_Living_room.zip\n",
      "3FO4LLATGRKU_Dining_room.zip\n",
      "3FO4LL86SBIT_Bedroom.zip\n",
      "3FO4LL7GL620_Bedroom.zip\n",
      "3FO4LL7ATKVP_Bedroom.zip\n",
      "3FO4LL72E3WC_Living_room.zip\n",
      "3FO4LL72E3WC_Dining_room.zip\n",
      "3FO4LL72E3WC_Bedroom.zip\n",
      "3FO4LL712UKI_Bedroom.zip\n",
      "3FO4LL6J4I12_Bedroom.zip\n",
      "3FO4LL61OINM_Bedroom.zip\n",
      "3FO4LL5T5NFP_Bedroom.zip\n",
      "3FO4LL5S9SFH_Bedroom.zip\n",
      "3FO4LL5CSLIM_Bedroom.zip\n",
      "3FO4LL5BYQQ0_Bedroom.zip\n",
      "3FO4LL5BXYYR_Bedroom.zip\n",
      "3FO4LL520NXL_Bedroom.zip\n",
      "3FO4LL4OFCXW_Living_room.zip\n",
      "3FO4LL4OFCXW_Bedroom.zip\n",
      "3FO4LL21YJE6_Bedroom.zip\n",
      "3FO4LL1ODXDE_Bedroom.zip\n",
      "3FO4LL0VUY5E_Bedroom.zip\n",
      "3FO4LL0VP1TM_Bedroom.zip\n",
      "3FO4LL0VH4B9_Bedroom.zip\n",
      "3FO4LL07GLNV_Bedroom.zip\n",
      "3FO4LKY9JUCF_Bedroom.zip\n",
      "3FO4LKY9GBMD_Bedroom.zip\n",
      "3FO4LKRQK8BX_Bedroom.zip\n",
      "3FO4LKQ3U9OT_Bedroom.zip\n",
      "3FO4LKPNFVBI_Living_room.zip\n",
      "3FO4LKPMC0FV_Living_room.zip\n",
      "3FO4LKPLV224_Living_room.zip\n",
      "3FO4LKPLI5N9_Living_room.zip\n",
      "3FO4LKPKSVD0_Living_room.zip\n",
      "3FO4LKP9YBXH_Bedroom.zip\n",
      "3FO4LKP87F8Y_Guest_room.zip\n",
      "3FO4LKP87F8Y_Bedroom.zip\n",
      "3FO4LKN1I1D5_Bedroom.zip\n",
      "3FO4LKM835CL_Bedroom.zip\n",
      "3FO4LKJN6D3H_Bedroom.zip\n",
      "3FO4LKJFQ4WN_Bedroom.zip\n",
      "3FO4LKJCKYNP_Bedroom.zip\n",
      "3FO4L7L9TTWA_Bedroom.zip\n",
      "3FO4L7J0FHF2_Bedroom.zip\n",
      "3FO4L7DCQNJT_Bedroom.zip\n",
      "3FO4L7CLMVBJ_Bedroom.zip\n",
      "3FO4L7CFBWEG_Bedroom.zip\n",
      "3FO4L787GDVL_Bedroom.zip\n",
      "3FO4L77GB6HV_Bedroom.zip\n",
      "3FO4L76P28P2_Bedroom.zip\n",
      "3FO4L73PG7G5_Guest_room.zip\n",
      "3FO4L73PG7G5_Bedroom.zip\n",
      "3FO4KI3LMLST_Bedroom.zip\n",
      "3FO4KHH5DJ70_Bedroom.zip\n",
      "3FO4KHCUHOQ4_Bedroom.zip\n",
      "3FO4KHCIV42I_Bedroom.zip\n",
      "3FO4KHC98O7L_Living_room.zip\n",
      "3FO4KHC98O7L_Bedroom.zip\n",
      "3FO4KDDSLQ3U_Living_room.zip\n",
      "3FO4KDD97E8O_Living_room.zip\n",
      "3FO4KDD97E8O_Dining_room.zip\n",
      "3FO4KDD97E8O_Bedroom.zip\n",
      "3FO4KDD6X0MX_Bedroom.zip\n",
      "3FO4KDCSGTN1_Living_room.zip\n",
      "3FO4KD6OLYII_Bedroom.zip\n",
      "3FO4KD65XST6_Bedroom.zip\n",
      "3FO4KD5C1PXH_Bedroom.zip\n",
      "3FO4KD5BUPAO_Bedroom.zip\n",
      "3FO4KD5A4H0D_Bedroom.zip\n",
      "3FO4KD1SSKRJ_Living_room.zip\n",
      "3FO4KD1SSKRJ_Bedroom.zip\n",
      "3FO4KD172A1U_Bedroom.zip\n",
      "3FO4KD161Q78_Bedroom.zip\n",
      "3FO4KD0K5FDI_Bedroom.zip\n",
      "3FO4KD0F1OD2_Bedroom.zip\n",
      "3FO4KCX9XTX5_Bedroom.zip\n",
      "3FO4KCVAUOUX_Bedroom.zip\n",
      "3FO4KCV6ARK4_Living_room.zip\n",
      "3FO4KCV6ARK4_Dining_room.zip\n",
      "3FO4KCV6ARK4_Bedroom.zip\n",
      "3FO4KCV69T4T_Bedroom.zip\n",
      "3FO4KCURG546_Bedroom.zip\n",
      "3FO4KCTK2HUG_Bedroom.zip\n",
      "3FO4KCT5W99C_Bedroom.zip\n",
      "3FO4KCT5J2TE_Bedroom.zip\n",
      "3FO4KCT5HFYW_Bedroom.zip\n",
      "3FO4KCT5AA7R_Bedroom.zip\n",
      "3FO4KCT58U2C_Bedroom.zip\n",
      "3FO4KCT51OA7_Bedroom.zip\n",
      "3FO4KCT4XC97_Bedroom.zip\n",
      "3FO4KCT4UXNH_Bedroom.zip\n",
      "3FO4KCP3KNEH_Bedroom.zip\n",
      "3FO4KCNGHR5Y_Bedroom.zip\n",
      "3FO4KCLN9JA2_Bedroom.zip\n",
      "3FO4KCL5OL25_Bedroom.zip\n",
      "3FO4KCKQATUH_Bedroom.zip\n",
      "3FO4KCKM327A_Bedroom.zip\n",
      "3FO4KCJOYKLA_Bedroom.zip\n",
      "3FO4KCJNGQJH_Bedroom.zip\n",
      "3FO4KCIK27OD_Bedroom.zip\n",
      "3FO4KC1H8TOR_Living_room.zip\n",
      "3FO4KBLQI9BC_Bedroom.zip\n",
      "3FO4KBBOB3EM_Dining_room.zip\n",
      "3FO4KB6A4QQD_Guest_room.zip\n",
      "3FO4KB4H0MMO_Bedroom.zip\n",
      "3FO4KB23J83Y_Bedroom.zip\n",
      "3FO4KAULSJ6M_Guest_room.zip\n",
      "3FO4KATCN3KF_Living_room.zip\n",
      "3FO4KAJ19MVM_Guest_room.zip\n",
      "3FO4KAE0C844_Bedroom.zip\n",
      "3FO4KA8JYLYI_Guest_room.zip\n",
      "3FO4KA1AVYGY_Bedroom.zip\n",
      "3FO4K9TBUSCJ_Bedroom.zip\n",
      "3FO4KCE8TGHG_Bedroom.zip\n",
      "3FO4KCCBF2RT_Dining_room.zip\n",
      "3FO4KCCBF2RT_Bedroom.zip\n",
      "3FO4KCC9B4RP_Bedroom.zip\n",
      "3FO4KCC9379C_Dining_room.zip\n",
      "3FO4KCC9379C_Bedroom.zip\n",
      "3FO4KCB9WL6R_Bedroom.zip\n",
      "3FO4KCAD5E55_Living_room.zip\n",
      "3FO4KCACWXBW_Living_room.zip\n",
      "3FO4KCACWXBW_Dining_room.zip\n",
      "3FO4KCACUX4B_Bedroom.zip\n",
      "3FO4KCABWL6C_Bedroom.zip\n",
      "3FO4KCABTCHD_Bedroom.zip\n",
      "3FO4KCABSO36_Bedroom.zip\n",
      "3FO4KCAA6G82_Bedroom.zip\n",
      "3FO4KC8R9J47_Bedroom.zip\n",
      "3FO4KC8HEDEY_Bedroom.zip\n",
      "3FO4KC2AK3N8_Bedroom.zip\n",
      "3FO4KC1S8JNT_Bedroom.zip\n",
      "3FO4KC1S7B7G_Bedroom.zip\n",
      "3FO4KC1RUGKW_Bedroom.zip\n",
      "3FO4KC1QYS9Q_Bedroom.zip\n",
      "3FO4KC1MP3PY_Bedroom.zip\n",
      "3FO4KC1IDRCP_Living_room.zip\n",
      "3FO4KC1IDRCP_Dining_room.zip\n",
      "3FO4KC1IDRCP_Bedroom.zip\n",
      "3FO4KC1HF5DN_Bedroom.zip\n",
      "3FO4KC1HCDET_Bedroom.zip\n",
      "3FO4KC1H8TOR_Dining_room.zip\n",
      "3FO4KC1H8TOR_Bedroom.zip\n",
      "3FO4KC0X8G0R_Bedroom.zip\n",
      "3FO4KC0SF7SG_Bedroom.zip\n",
      "3FO4KBYFLQNY_Bedroom.zip\n",
      "3FO4KBXGB3DV_Bedroom.zip\n",
      "3FO4KBUJ5D1H_Bedroom.zip\n",
      "3FO4KBSLNE23_Bedroom.zip\n",
      "3FO4KBRD74E4_Bedroom.zip\n",
      "3FO4KBRCYXLY_Bedroom.zip\n",
      "3FO4KBN7G3XJ_Bedroom.zip\n",
      "3FO4KBM1PQC9_Bedroom.zip\n",
      "3FO4KBLU6QJR_Bedroom.zip\n",
      "3FO4KBLQI9BC_Living_room.zip\n",
      "3FO4KBKSGPSG_Bedroom.zip\n",
      "3FO4KBI5PYHQ_Living_room.zip\n",
      "3FO4KBI5PYHQ_Bedroom.zip\n",
      "3FO4KBGEEITS_Bedroom.zip\n",
      "3FO4KBF0OPYX_Guest_room.zip\n",
      "3FO4KBF0OPYX_Bedroom.zip\n",
      "3FO4KBC4WMK3_Bedroom.zip\n",
      "3FO4KBBQNCB8_Bedroom.zip\n",
      "3FO4KBBPANSY_Bedroom.zip\n",
      "3FO4KBBP4D53_Guest_room.zip\n",
      "3FO4KBBP4D53_Bedroom.zip\n",
      "3FO4KBBOSGXT_Guest_room.zip\n",
      "3FO4KBBOSGXT_Bedroom.zip\n",
      "3FO4KBBOB3EM_Guest_room.zip\n",
      "3FO4KBBOB3EM_Bedroom.zip\n",
      "3FO4KB96UH5A_Guest_room.zip\n",
      "3FO4KB96UH5A_Dining_room.zip\n",
      "3FO4KB96UH5A_Bedroom.zip\n",
      "3FO4KB93D3VO_Guest_room.zip\n",
      "3FO4KB93D3VO_Bedroom.zip\n",
      "3FO4KB93BUFB_Bedroom.zip\n",
      "3FO4KB800A83_Guest_room.zip\n",
      "3FO4KB800A83_Bedroom.zip\n",
      "3FO4KB6L3LM6_Guest_room.zip\n",
      "3FO4KB6L3LM6_Bedroom.zip\n",
      "3FO4KB6DEHHO_Bedroom.zip\n",
      "3FO4KB6A51RG_Guest_room.zip\n",
      "3FO4KB6A51RG_Bedroom.zip\n",
      "3FO4KB6A4QQD_Bedroom.zip\n",
      "3FO4KB5U1WXI_Guest_room.zip\n",
      "3FO4KB5U1WXI_Bedroom.zip\n",
      "3FO4KB54WJFI_Guest_room.zip\n",
      "3FO4KB54WJFI_Bedroom.zip\n",
      "3FO4KB54VROA_Guest_room.zip\n",
      "3FO4KB54VROA_Bedroom.zip\n",
      "3FO4KB54G7NM_Bedroom.zip\n",
      "3FO4KB54ERI7_Guest_room.zip\n",
      "3FO4KB54ERI7_Bedroom.zip\n",
      "3FO4KB54CXYN_Guest_room.zip\n",
      "3FO4KB54CXYN_Bedroom.zip\n",
      "3FO4KB4I2IAP_Bedroom.zip\n",
      "3FO4KB4H0MMO_Guest_room.zip\n",
      "3FO4KB44GGRC_Living_room.zip\n",
      "3FO4KB44GGRC_Guest_room.zip\n",
      "3FO4KB44GGRC_Bedroom.zip\n",
      "3FO4KB3WFU6V_Guest_room.zip\n",
      "3FO4KB3WFU6V_Bedroom.zip\n",
      "3FO4KB3Q9021_Bedroom.zip\n",
      "3FO4KB3OCRV8_Living_room.zip\n",
      "3FO4KB3MRK8P_Bedroom.zip\n",
      "3FO4KB3LHR2B_Living_room.zip\n",
      "3FO4KB3LHR2B_Guest_room.zip\n",
      "3FO4KB3LHR2B_Dining_room.zip\n",
      "3FO4KB3LHR2B_Bedroom.zip\n",
      "3FO4KB2NNOCN_Guest_room.zip\n",
      "3FO4KB2NNOCN_Bedroom.zip\n",
      "3FO4KB0P14B4_Guest_room.zip\n",
      "3FO4KB0P14B4_Bedroom.zip\n",
      "3FO4KB0OXT2F_Guest_room.zip\n",
      "3FO4KB0OXT2F_Bedroom.zip\n",
      "3FO4KB0OWH91_Bedroom.zip\n",
      "3FO4KAYYFE18_Bedroom.zip\n",
      "3FO4KAY5O8GB_Guest_room.zip\n",
      "3FO4KAY5O8GB_Bedroom.zip\n",
      "3FO4KAXVOJE7_Bedroom.zip\n",
      "3FO4KAW68DOB_Guest_room.zip\n",
      "3FO4KAW68DOB_Bedroom.zip\n",
      "3FO4KAV4M003_Bedroom.zip\n",
      "3FO4KAV4L4VT_Guest_room.zip\n",
      "3FO4KAV4L4VT_Bedroom.zip\n",
      "3FO4KAULSJ6M_Bedroom.zip\n",
      "3FO4KAU8CGIQ_Guest_room.zip\n",
      "3FO4KAU8CGIQ_Bedroom.zip\n",
      "3FO4KATYTE9L_Guest_room.zip\n",
      "3FO4KATYTE9L_Bedroom.zip\n",
      "3FO4KATY2N1L_Guest_room.zip\n",
      "3FO4KATY2N1L_Bedroom.zip\n",
      "3FO4KATXK65D_Guest_room.zip\n",
      "3FO4KATXK65D_Bedroom.zip\n",
      "3FO4KATXGPRC_Bedroom.zip\n",
      "3FO4KATWP9KF_Guest_room.zip\n",
      "3FO4KATWP9KF_Bedroom.zip\n",
      "3FO4KATWNQ2Y_Guest_room.zip\n",
      "3FO4KATWNQ2Y_Bedroom.zip\n",
      "3FO4KATCN3KF_Guest_room.zip\n",
      "3FO4KATCN3KF_Bedroom.zip\n",
      "3FO4KAT75L2U_Guest_room.zip\n",
      "3FO4KAT75L2U_Bedroom.zip\n",
      "3FO4KAS9OI43_Bedroom.zip\n",
      "3FO4KARH7RCG_Guest_room.zip\n",
      "3FO4KARH7RCG_Dining_room.zip\n",
      "3FO4KARH7RCG_Bedroom.zip\n",
      "3FO4KAP1VO5E_Bedroom.zip\n",
      "3FO4KAMFUFXH_Bedroom.zip\n",
      "3FO4KAJXCMRH_Guest_room.zip\n",
      "3FO4KAJXCMRH_Bedroom.zip\n",
      "3FO4KAJW3OOC_Guest_room.zip\n",
      "3FO4KAJW3OOC_Bedroom.zip\n",
      "3FO4KAJ19MVM_Bedroom.zip\n",
      "3FO4KAJ18YHF_Bedroom.zip\n",
      "3FO4KAIG2S28_Guest_room.zip\n",
      "3FO4KAIG2S28_Bedroom.zip\n",
      "3FO4KAHT8M0O_Bedroom.zip\n",
      "3FO4KAHGKJ26_Bedroom.zip\n",
      "3FO4KAF92XRW_Guest_room.zip\n",
      "3FO4KAF92XRW_Bedroom.zip\n",
      "3FO4KAF40JKU_Guest_room.zip\n",
      "3FO4KAF40JKU_Bedroom.zip\n",
      "3FO4KAEHRKTN_Guest_room.zip\n",
      "3FO4KAEHRKTN_Bedroom.zip\n",
      "3FO4KAE2JBG6_Bedroom.zip\n",
      "3FO4KAE0C844_Guest_room.zip\n",
      "3FO4KACCYY6S_Bedroom.zip\n",
      "3FO4KABVLDR9_Guest_room.zip\n",
      "3FO4KABVLDR9_Bedroom.zip\n",
      "3FO4KAAX6XUI_Guest_room.zip\n",
      "3FO4KAAX6XUI_Bedroom.zip\n",
      "3FO4KAAJW3JH_Bedroom.zip\n",
      "3FO4KAAJUXF5_Guest_room.zip\n",
      "3FO4KAAJUXF5_Bedroom.zip\n",
      "3FO4KAACOV92_Guest_room.zip\n",
      "3FO4KAACOV92_Bedroom.zip\n",
      "3FO4KAA67VO6_Guest_room.zip\n",
      "3FO4KAA67VO6_Bedroom.zip\n",
      "3FO4KA94JRSF_Guest_room.zip\n",
      "3FO4KA94JRSF_Bedroom.zip\n",
      "3FO4KA8JYLYI_Bedroom.zip\n",
      "3FO4KA7M7Q6I_Guest_room.zip\n",
      "3FO4KA7M7Q6I_Bedroom.zip\n",
      "3FO4KA7FMVAR_Bedroom.zip\n",
      "3FO4KA6S42KU_Living_room.zip\n",
      "3FO4KA6S42KU_Guest_room.zip\n",
      "3FO4KA6S42KU_Bedroom.zip\n",
      "3FO4KA1LKEVN_Guest_room.zip\n",
      "3FO4KA1LKEVN_Bedroom.zip\n",
      "3FO4KA1F5IVE_Guest_room.zip\n",
      "3FO4KA1F5IVE_Bedroom.zip\n",
      "3FO4KA1AWG74_Guest_room.zip\n",
      "3FO4KA1AWG74_Bedroom.zip\n",
      "3FO4KA1AVYGY_Guest_room.zip\n",
      "3FO4KA1A9M2A_Guest_room.zip\n",
      "3FO4KA1A9M2A_Bedroom.zip\n",
      "3FO4KA15XKP4_Guest_room.zip\n",
      "3FO4KA15XKP4_Bedroom.zip\n",
      "3FO4KA0BHY5V_Guest_room.zip\n",
      "3FO4KA0BHY5V_Bedroom.zip\n",
      "3FO4K9YC0BRP_Guest_room.zip\n",
      "3FO4K9YC0BRP_Bedroom.zip\n",
      "3FO4K9W11P39_Living_room.zip\n",
      "3FO4K9W11P39_Bedroom.zip\n",
      "3FO4K9VFO4M5_Living_room.zip\n",
      "3FO4K9VFO4M5_Guest_room.zip\n",
      "3FO4K9VFO4M5_Dining_room.zip\n",
      "3FO4K9VFO4M5_Bedroom.zip\n",
      "3FO4K9BL11ER_Bedroom.zip\n",
      "3FO4K90H7K5U_Guest_room.zip\n",
      "3FO4K8S8DIKV_Guest_room.zip\n",
      "3FO4JYCSILDF_Guest_room.zip\n",
      "3FO4JY97QS9Y_Bedroom.zip\n",
      "3FO4JY4GNY4I_Guest_room.zip\n",
      "3FO4JY37B624_Guest_room.zip\n",
      "3FO4JXX9Q2AO_Guest_room.zip\n",
      "3FO4JXV9GWS8_Guest_room.zip\n",
      "3FO4JXSBWTBT_Bedroom.zip\n",
      "3FO4JXPYP2U6_Guest_room.zip\n",
      "3FO4JXLPHPXB_Bedroom.zip\n",
      "3FO4JXIEM1YD_Guest_room.zip\n",
      "3FO4K9SH1PCA_Bedroom.zip\n",
      "3FO4K9S71USN_Guest_room.zip\n",
      "3FO4K9S71USN_Bedroom.zip\n",
      "3FO4K9PIFCTQ_Living_room.zip\n",
      "3FO4K9PIFCTQ_Dining_room.zip\n",
      "3FO4K9PIFCTQ_Bedroom.zip\n",
      "3FO4K9PIDTCA_Bedroom.zip\n",
      "3FO4K9P972U2_Guest_room.zip\n",
      "3FO4K9P972U2_Bedroom.zip\n",
      "3FO4K9OUHUYQ_Guest_room.zip\n",
      "3FO4K9OUHUYQ_Bedroom.zip\n",
      "3FO4K9OSX52D_Guest_room.zip\n",
      "3FO4K9OSX52D_Bedroom.zip\n",
      "3FO4K9M5RAG5_Guest_room.zip\n",
      "3FO4K9JMAXN4_Guest_room.zip\n",
      "3FO4K9JMAXN4_Bedroom.zip\n",
      "3FO4K9IRH5NX_Guest_room.zip\n",
      "3FO4K9IRH5NX_Bedroom.zip\n",
      "3FO4K9IJVA8F_Bedroom.zip\n",
      "3FO4K9HANMPK_Living_room.zip\n",
      "3FO4K9HANMPK_Guest_room.zip\n",
      "3FO4K9HANMPK_Bedroom.zip\n",
      "3FO4K9EX5GRS_Guest_room.zip\n",
      "3FO4K9EX5GRS_Bedroom.zip\n",
      "3FO4K9DBFQY8_Guest_room.zip\n",
      "3FO4K9DBFQY8_Bedroom.zip\n",
      "3FO4K9BL11ER_Living_room.zip\n",
      "3FO4K9BL11ER_Guest_room.zip\n",
      "3FO4K9BAEYKS_Guest_room.zip\n",
      "3FO4K9BAEYKS_Bedroom.zip\n",
      "3FO4K98YTFY9_Guest_room.zip\n",
      "3FO4K98YTFY9_Bedroom.zip\n",
      "3FO4K98JC0L1_Guest_room.zip\n",
      "3FO4K98JC0L1_Bedroom.zip\n",
      "3FO4K96FAU53_Guest_room.zip\n",
      "3FO4K96FAU53_Bedroom.zip\n",
      "3FO4K96ELUUW_Bedroom.zip\n",
      "3FO4K94YK9M2_Guest_room.zip\n",
      "3FO4K94YK9M2_Bedroom.zip\n",
      "3FO4K94UKL6A_Guest_room.zip\n",
      "3FO4K94UKL6A_Bedroom.zip\n",
      "3FO4K94TEBOX_Guest_room.zip\n",
      "3FO4K90H7K5U_Bedroom.zip\n",
      "3FO4K90BDLEU_Guest_room.zip\n",
      "3FO4K90BDLEU_Bedroom.zip\n",
      "3FO4K90BCGAI_Guest_room.zip\n",
      "3FO4K90BCGAI_Bedroom.zip\n",
      "3FO4K901819I_Guest_room.zip\n",
      "3FO4K901819I_Bedroom.zip\n",
      "3FO4K900LWB7_Guest_room.zip\n",
      "3FO4K900LWB7_Bedroom.zip\n",
      "3FO4K8W31NPG_Guest_room.zip\n",
      "3FO4K8W31NPG_Bedroom.zip\n",
      "3FO4K8VHE5ID_Living_room.zip\n",
      "3FO4K8VHE5ID_Guest_room.zip\n",
      "3FO4K8VHE5ID_Bedroom.zip\n",
      "3FO4K8S8DIKV_Bedroom.zip\n",
      "3FO4JYFUGBGR_Guest_room.zip\n",
      "3FO4JYFUGBGR_Bedroom.zip\n",
      "3FO4JYFPU5OK_Bedroom.zip\n",
      "3FO4JYFO3T28_Bedroom.zip\n",
      "3FO4JYFM63DY_Guest_room.zip\n",
      "3FO4JYFM63DY_Bedroom.zip\n",
      "3FO4JYEVTCER_Living_room.zip\n",
      "3FO4JYEVTCER_Guest_room.zip\n",
      "3FO4JYEVTCER_Bedroom.zip\n",
      "3FO4JYE0GXMK_Guest_room.zip\n",
      "3FO4JYE0GXMK_Bedroom.zip\n",
      "3FO4JYD4X4LW_Guest_room.zip\n",
      "3FO4JYD4X4LW_Bedroom.zip\n",
      "3FO4JYCSILDF_Bedroom.zip\n",
      "3FO4JYCRVFMS_Guest_room.zip\n",
      "3FO4JYCRVFMS_Bedroom.zip\n",
      "3FO4JYCRV29O_Living_room.zip\n",
      "3FO4JYCRV29O_Dining_room.zip\n",
      "3FO4JYCRV29O_Bedroom.zip\n",
      "3FO4JYCRUNVK_Bedroom.zip\n",
      "3FO4JYC8IMA3_Living_room.zip\n",
      "3FO4JYBNGX08_Living_room.zip\n",
      "3FO4JYB0TR9B_Living_room.zip\n",
      "3FO4JYB0TR9B_Guest_room.zip\n",
      "3FO4JYB0TR9B_Bedroom.zip\n",
      "3FO4JY97QS9Y_Living_room.zip\n",
      "3FO4JY97QS9Y_Guest_room.zip\n",
      "3FO4JY93QQG3_Guest_room.zip\n",
      "3FO4JY93QQG3_Bedroom.zip\n",
      "3FO4JY89HIWR_Guest_room.zip\n",
      "3FO4JY89HIWR_Bedroom.zip\n",
      "3FO4JY76T9KI_Guest_room.zip\n",
      "3FO4JY76T9KI_Bedroom.zip\n",
      "3FO4JY5FYMEL_Living_room.zip\n",
      "3FO4JY4RYQXV_Guest_room.zip\n",
      "3FO4JY4RYQXV_Bedroom.zip\n",
      "3FO4JY4RXF5H_Guest_room.zip\n",
      "3FO4JY4RXF5H_Bedroom.zip\n",
      "3FO4JY4RWU3B_Guest_room.zip\n",
      "3FO4JY4RWU3B_Bedroom.zip\n",
      "3FO4JY4GNY4I_Living_room.zip\n",
      "3FO4JY4GNY4I_Dining_room.zip\n",
      "3FO4JY4GNY4I_Bedroom.zip\n",
      "3FO4JY3M5DWE_Guest_room.zip\n",
      "3FO4JY3M5DWE_Bedroom.zip\n",
      "3FO4JY3HI30U_Guest_room.zip\n",
      "3FO4JY3HI30U_Bedroom.zip\n",
      "3FO4JY3FFK66_Guest_room.zip\n",
      "3FO4JY3FFK66_Bedroom.zip\n",
      "3FO4JY3CNVD9_Living_room.zip\n",
      "3FO4JY37CV8M_Living_room.zip\n",
      "3FO4JY37CV8M_Dining_room.zip\n",
      "3FO4JY37CV8M_Bedroom.zip\n",
      "3FO4JY37CEIH_Guest_room.zip\n",
      "3FO4JY37CEIH_Bedroom.zip\n",
      "3FO4JY37B624_Bedroom.zip\n",
      "3FO4JY378E3A_Guest_room.zip\n",
      "3FO4JY378E3A_Bedroom.zip\n",
      "3FO4JY27YWOU_Living_room.zip\n",
      "3FO4JY1HYGA1_Guest_room.zip\n",
      "3FO4JY1HYGA1_Bedroom.zip\n",
      "3FO4JY1FXA8Q_Guest_room.zip\n",
      "3FO4JY1FXA8Q_Bedroom.zip\n",
      "3FO4JY1FJ8PJ_Guest_room.zip\n",
      "3FO4JY1FJ8PJ_Bedroom.zip\n",
      "3FO4JY05UQ5X_Bedroom.zip\n",
      "3FO4JXYIV7US_Guest_room.zip\n",
      "3FO4JXYIV7US_Bedroom.zip\n",
      "3FO4JXY6SH4D_Dining_room.zip\n",
      "3FO4JXX9Q2AO_Bedroom.zip\n",
      "3FO4JXWL07D7_Guest_room.zip\n",
      "3FO4JXWL07D7_Bedroom.zip\n",
      "3FO4JXWKX3SK_Living_room.zip\n",
      "3FO4JXWKX3SK_Bedroom.zip\n",
      "3FO4JXWJQ9A2_Bedroom.zip\n",
      "3FO4JXWIB0I1_Living_room.zip\n",
      "3FO4JXWIB0I1_Guest_room.zip\n",
      "3FO4JXWIB0I1_Bedroom.zip\n",
      "3FO4JXW5VLT4_Guest_room.zip\n",
      "3FO4JXW5VLT4_Bedroom.zip\n",
      "3FO4JXVYD73S_Guest_room.zip\n",
      "3FO4JXVYD73S_Bedroom.zip\n",
      "3FO4JXV9GWS8_Living_room.zip\n",
      "3FO4JXV9GWS8_Dining_room.zip\n",
      "3FO4JXV9GWS8_Bedroom.zip\n",
      "3FO4JXV956IP_Guest_room.zip\n",
      "3FO4JXV956IP_Bedroom.zip\n",
      "3FO4JXT6XBD0_Guest_room.zip\n",
      "3FO4JXT6XBD0_Bedroom.zip\n",
      "3FO4JXSTQA5A_Living_room.zip\n",
      "3FO4JXSTQA5A_Guest_room.zip\n",
      "3FO4JXSTQA5A_Bedroom.zip\n",
      "3FO4JXSRKPAO_Guest_room.zip\n",
      "3FO4JXSRKPAO_Bedroom.zip\n",
      "3FO4JXSGR4BG_Bedroom.zip\n",
      "3FO4JXSFP5BE_Living_room.zip\n",
      "3FO4JXSFP5BE_Bedroom.zip\n",
      "3FO4JXS2TBIK_Guest_room.zip\n",
      "3FO4JXS2TBIK_Bedroom.zip\n",
      "3FO4JXRJW8N1_Living_room.zip\n",
      "3FO4JXRJW8N1_Guest_room.zip\n",
      "3FO4JXRJW8N1_Bedroom.zip\n",
      "3FO4JXQVE4JU_Guest_room.zip\n",
      "3FO4JXQVE4JU_Bedroom.zip\n",
      "3FO4JXQI8TQ7_Guest_room.zip\n",
      "3FO4JXQI8TQ7_Bedroom.zip\n",
      "3FO4JXQBHHHI_Guest_room.zip\n",
      "3FO4JXQBHHHI_Bedroom.zip\n",
      "3FO4JXPYQENK_Guest_room.zip\n",
      "3FO4JXPYQENK_Bedroom.zip\n",
      "3FO4JXPYP677_Bedroom.zip\n",
      "3FO4JXPYP2U6_Bedroom.zip\n",
      "3FO4JXP5VPDL_Living_room.zip\n",
      "3FO4JXP5VPDL_Bedroom.zip\n",
      "3FO4JXOPDYYA_Guest_room.zip\n",
      "3FO4JXOPDYYA_Bedroom.zip\n",
      "3FO4JXOJV7FM_Guest_room.zip\n",
      "3FO4JXOJV7FM_Bedroom.zip\n",
      "3FO4JXO2RRNN_Guest_room.zip\n",
      "3FO4JXO2RRNN_Bedroom.zip\n",
      "3FO4JXNPWL2H_Living_room.zip\n",
      "3FO4JXNPWL2H_Guest_room.zip\n",
      "3FO4JXNPWL2H_Bedroom.zip\n",
      "3FO4JXMRWYF6_Guest_room.zip\n",
      "3FO4JXMRWYF6_Bedroom.zip\n",
      "3FO4JXLPHCK7_Guest_room.zip\n",
      "3FO4JXLPHCK7_Bedroom.zip\n",
      "3FO4JXLPG0QS_Guest_room.zip\n",
      "3FO4JXLPG0QS_Bedroom.zip\n",
      "3FO4JXL2JE02_Bedroom.zip\n",
      "3FO4JXKO1V6Q_Bedroom.zip\n",
      "3FO4JXKKQKD9_Bedroom.zip\n",
      "3FO4JXKCVSY3_Guest_room.zip\n",
      "3FO4JXKCVSY3_Bedroom.zip\n",
      "3FO4JXJX64SU_Living_room.zip\n",
      "3FO4JXJX64SU_Bedroom.zip\n",
      "3FO4JXIEM5BE_Guest_room.zip\n",
      "3FO4JXIEM5BE_Bedroom.zip\n",
      "3FO4JXIEM1YD_Living_room.zip\n",
      "3FO4JXD4P4SS_Bedroom.zip\n",
      "3FO4JXAWEPBO_Bedroom.zip\n",
      "3FO4JX6L5WCG_Guest_room.zip\n",
      "3FO4JX26OXVO_Guest_room.zip\n",
      "3FO4JX0IBRQM_Guest_room.zip\n",
      "3FO4JWVISRK9_Bedroom.zip\n",
      "3FO4JWRAIWI4_Guest_room.zip\n",
      "3FO4JWP7O4UJ_Dining_room.zip\n",
      "3FO4JWMSYV5H_Bedroom.zip\n",
      "3FO4JWK8I52E_Guest_room.zip\n",
      "3FO4JWC6P2IM_Bedroom.zip\n",
      "3FO4JW8NYOA0_Guest_room.zip\n",
      "3FO4JW4VEFD8_Guest_room.zip\n",
      "3FO4JXIEM1YD_Bedroom.zip\n",
      "3FO4JXIELXMC_Dining_room.zip\n",
      "3FO4JXIELXMC_Bedroom.zip\n",
      "3FO4JXIELGW7_Guest_room.zip\n",
      "3FO4JXIELGW7_Bedroom.zip\n",
      "3FO4JXIEL3J3_Guest_room.zip\n",
      "3FO4JXIEL3J3_Bedroom.zip\n",
      "3FO4JXIEKVU1_Guest_room.zip\n",
      "3FO4JXIEKVU1_Bedroom.zip\n",
      "3FO4JXIDXQ4E_Bedroom.zip\n",
      "3FO4JXIAXTR1_Living_room.zip\n",
      "3FO4JXIAXTR1_Guest_room.zip\n",
      "3FO4JXIAXTR1_Dining_room.zip\n",
      "3FO4JXIAXTR1_Bedroom.zip\n",
      "3FO4JXI2ASME_Bedroom.zip\n",
      "3FO4JXHV9Y5C_Guest_room.zip\n",
      "3FO4JXHV9Y5C_Bedroom.zip\n",
      "3FO4JXG7388Q_Bedroom.zip\n",
      "3FO4JXF859NG_Guest_room.zip\n",
      "3FO4JXF859NG_Bedroom.zip\n",
      "3FO4JXF6CL7P_Bedroom.zip\n",
      "3FO4JXEN7Y6W_Guest_room.zip\n",
      "3FO4JXEN7Y6W_Bedroom.zip\n",
      "3FO4JXE70OG9_Guest_room.zip\n",
      "3FO4JXE70OG9_Bedroom.zip\n",
      "3FO4JXE337W5_Guest_room.zip\n",
      "3FO4JXE337W5_Bedroom.zip\n",
      "3FO4JXDJT3Q0_Bedroom.zip\n",
      "3FO4JXD29FJ6_Bedroom.zip\n",
      "3FO4JXCVX8PH_Living_room.zip\n",
      "3FO4JXCVX8PH_Dining_room.zip\n",
      "3FO4JXCOWW64_Guest_room.zip\n",
      "3FO4JXCOWW64_Bedroom.zip\n",
      "3FO4JXC4G4KQ_Guest_room.zip\n",
      "3FO4JXC4G4KQ_Bedroom.zip\n",
      "3FO4JXC4BT4G_Bedroom.zip\n",
      "3FO4JXC44U1D_Living_room.zip\n",
      "3FO4JXC44U1D_Bedroom.zip\n",
      "3FO4JXC43I7Y_Bedroom.zip\n",
      "3FO4JXAWHDXH_Guest_room.zip\n",
      "3FO4JXAWHDXH_Bedroom.zip\n",
      "3FO4JXAWEPBO_Guest_room.zip\n",
      "3FO4JXAS4WFV_Guest_room.zip\n",
      "3FO4JXAS4WFV_Bedroom.zip\n",
      "3FO4JXA628SS_Living_room.zip\n",
      "3FO4JXA628SS_Guest_room.zip\n",
      "3FO4JXA628SS_Bedroom.zip\n",
      "3FO4JX9H2YMS_Living_room.zip\n",
      "3FO4JX9H2YMS_Guest_room.zip\n",
      "3FO4JX9H2YMS_Dining_room.zip\n",
      "3FO4JX9H2YMS_Bedroom.zip\n",
      "3FO4JX95GUOC_Living_room.zip\n",
      "3FO4JX95GUOC_Guest_room.zip\n",
      "3FO4JX95GUOC_Bedroom.zip\n",
      "3FO4JX8A70YD_Living_room.zip\n",
      "3FO4JX8A70YD_Bedroom.zip\n",
      "3FO4JX6L5WCG_Bedroom.zip\n",
      "3FO4JX5M2ETI_Bedroom.zip\n",
      "3FO4JX4XR4WO_Living_room.zip\n",
      "3FO4JX4XR4WO_Guest_room.zip\n",
      "3FO4JX4XR4WO_Bedroom.zip\n",
      "3FO4JX4ME8IO_Bedroom.zip\n",
      "3FO4JX4MBN8W_Guest_room.zip\n",
      "3FO4JX4MBN8W_Bedroom.zip\n",
      "3FO4JX3VE00G_Living_room.zip\n",
      "3FO4JX3VE00G_Guest_room.zip\n",
      "3FO4JX3VE00G_Bedroom.zip\n",
      "3FO4JX3PSSV3_Bedroom.zip\n",
      "3FO4JX29TCEE_Guest_room.zip\n",
      "3FO4JX29TCEE_Bedroom.zip\n",
      "3FO4JX26OXVO_Bedroom.zip\n",
      "3FO4JX25RDOX_Guest_room.zip\n",
      "3FO4JX25RDOX_Bedroom.zip\n",
      "3FO4JX1RI042_Living_room.zip\n",
      "3FO4JX16RSA6_Guest_room.zip\n",
      "3FO4JX16RSA6_Bedroom.zip\n",
      "3FO4JX16HNU5_Guest_room.zip\n",
      "3FO4JX120LU6_Living_room.zip\n",
      "3FO4JX120LU6_Guest_room.zip\n",
      "3FO4JX120LU6_Dining_room.zip\n",
      "3FO4JX120LU6_Bedroom.zip\n",
      "3FO4JX0Y3E4L_Bedroom.zip\n",
      "3FO4JX0ICCSS_Guest_room.zip\n",
      "3FO4JX0ICCSS_Bedroom.zip\n",
      "3FO4JX0IBRQM_Bedroom.zip\n",
      "3FO4JWYIT8PH_Guest_room.zip\n",
      "3FO4JWYIT8PH_Bedroom.zip\n",
      "3FO4JWX2U29V_Living_room.zip\n",
      "3FO4JWX2U29V_Bedroom.zip\n",
      "3FO4JWX0SL7I_Guest_room.zip\n",
      "3FO4JWX0SL7I_Bedroom.zip\n",
      "3FO4JWWD0ESS_Guest_room.zip\n",
      "3FO4JWW268RE_Guest_room.zip\n",
      "3FO4JWW268RE_Bedroom.zip\n",
      "3FO4JWVPBM8E_Guest_room.zip\n",
      "3FO4JWVPBM8E_Bedroom.zip\n",
      "3FO4JWVLLBGF_Living_room.zip\n",
      "3FO4JWVISRK9_Guest_room.zip\n",
      "3FO4JWVIF7R7_Living_room.zip\n",
      "3FO4JWVIF7R7_Guest_room.zip\n",
      "3FO4JWVIF7R7_Dining_room.zip\n",
      "3FO4JWVIF7R7_Bedroom.zip\n",
      "3FO4JWVHGE43_Living_room.zip\n",
      "3FO4JWTOAJSV_Living_room.zip\n",
      "3FO4JWTOAJSV_Dining_room.zip\n",
      "3FO4JWTOAJSV_Bedroom.zip\n",
      "3FO4JWSE2QTI_Guest_room.zip\n",
      "3FO4JWSE2QTI_Bedroom.zip\n",
      "3FO4JWSD4LKL_Guest_room.zip\n",
      "3FO4JWSD4LKL_Bedroom.zip\n",
      "3FO4JWRBXEIW_Bedroom.zip\n",
      "3FO4JWRAQQOG_Bedroom.zip\n",
      "3FO4JWRAIWI4_Bedroom.zip\n",
      "3FO4JWRA00GG_Guest_room.zip\n",
      "3FO4JWRA00GG_Bedroom.zip\n",
      "3FO4JWQTKM35_Guest_room.zip\n",
      "3FO4JWQTKM35_Bedroom.zip\n",
      "3FO4JWQHWB81_Living_room.zip\n",
      "3FO4JWQHWB81_Dining_room.zip\n",
      "3FO4JWQHWB81_Bedroom.zip\n",
      "3FO4JWQ7AAXR_Guest_room.zip\n",
      "3FO4JWQ7AAXR_Bedroom.zip\n",
      "3FO4JWQ07E4M_Living_room.zip\n",
      "3FO4JWQ07E4M_Guest_room.zip\n",
      "3FO4JWQ07E4M_Bedroom.zip\n",
      "3FO4JWP7O4UJ_Guest_room.zip\n",
      "3FO4JWP7O4UJ_Bedroom.zip\n",
      "3FO4JWP1X1FE_Bedroom.zip\n",
      "3FO4JWOWPW6E_Living_room.zip\n",
      "3FO4JWOCS1MO_Living_room.zip\n",
      "3FO4JWOCS1MO_Guest_room.zip\n",
      "3FO4JWOCS1MO_Dining_room.zip\n",
      "3FO4JWOCS1MO_Bedroom.zip\n",
      "3FO4JWO77H57_Guest_room.zip\n",
      "3FO4JWO77H57_Bedroom.zip\n",
      "3FO4JWO73A0X_Guest_room.zip\n",
      "3FO4JWO73A0X_Bedroom.zip\n",
      "3FO4JWNRSTAK_Bedroom.zip\n",
      "3FO4JWNLS6HK_Bedroom.zip\n",
      "3FO4JWMSYV5H_Guest_room.zip\n",
      "3FO4JWMPUAXP_Guest_room.zip\n",
      "3FO4JWMPUAXP_Bedroom.zip\n",
      "3FO4JWMPTCIF_Guest_room.zip\n",
      "3FO4JWMBJLQY_Guest_room.zip\n",
      "3FO4JWMBJLQY_Bedroom.zip\n",
      "3FO4JWMB90LS_Guest_room.zip\n",
      "3FO4JWMB90LS_Bedroom.zip\n",
      "3FO4JWM94Y9N_Guest_room.zip\n",
      "3FO4JWM94Y9N_Bedroom.zip\n",
      "3FO4JWLHP0T1_Guest_room.zip\n",
      "3FO4JWLHP0T1_Bedroom.zip\n",
      "3FO4JWLEGP85_Bedroom.zip\n",
      "3FO4JWKSGHB9_Guest_room.zip\n",
      "3FO4JWK8ILRJ_Bedroom.zip\n",
      "3FO4JWK8I52E_Dining_room.zip\n",
      "3FO4JWK8I52E_Bedroom.zip\n",
      "3FO4JWK8HGN7_Guest_room.zip\n",
      "3FO4JWK8HGN7_Bedroom.zip\n",
      "3FO4JWIY1LKV_Guest_room.zip\n",
      "3FO4JWIY1LKV_Bedroom.zip\n",
      "3FO4JWF8TQP2_Living_room.zip\n",
      "3FO4JWF8TQP2_Guest_room.zip\n",
      "3FO4JWF8TQP2_Bedroom.zip\n",
      "3FO4JWCL9JC0_Guest_room.zip\n",
      "3FO4JWCL9JC0_Bedroom.zip\n",
      "3FO4JWCL9FYY_Guest_room.zip\n",
      "3FO4JWCL9FYY_Bedroom.zip\n",
      "3FO4JWC6P2IM_Living_room.zip\n",
      "3FO4JWC5FQ2D_Guest_room.zip\n",
      "3FO4JWC5FQ2D_Bedroom.zip\n",
      "3FO4JWB7LU1R_Bedroom.zip\n",
      "3FO4JWB7KYXI_Guest_room.zip\n",
      "3FO4JWB7KYXI_Bedroom.zip\n",
      "3FO4JWB7JN54_Bedroom.zip\n",
      "3FO4JWAP4UGQ_Guest_room.zip\n",
      "3FO4JWAP4UGQ_Bedroom.zip\n",
      "3FO4JW9AJ7LN_Bedroom.zip\n",
      "3FO4JW91JBUH_Bedroom.zip\n",
      "3FO4JW8YMJMI_Guest_room.zip\n",
      "3FO4JW8YMJMI_Bedroom.zip\n",
      "3FO4JW8RBPA0_Guest_room.zip\n",
      "3FO4JW8RBPA0_Bedroom.zip\n",
      "3FO4JW8NYOA0_Bedroom.zip\n",
      "3FO4JW8NCVWH_Guest_room.zip\n",
      "3FO4JW8NCVWH_Dining_room.zip\n",
      "3FO4JW88WFJB_Guest_room.zip\n",
      "3FO4JW88WFJB_Bedroom.zip\n",
      "3FO4JW87WNFW_Living_room.zip\n",
      "3FO4JW7PSXMU_Guest_room.zip\n",
      "3FO4JW7PSXMU_Bedroom.zip\n",
      "3FO4JW7PSK9Q_Guest_room.zip\n",
      "3FO4JW7PSK9Q_Bedroom.zip\n",
      "3FO4JW76NB2A_Guest_room.zip\n",
      "3FO4JW76NB2A_Bedroom.zip\n",
      "3FO4JW5B7LG7_Guest_room.zip\n",
      "3FO4JW5B7LG7_Bedroom.zip\n",
      "3FO4JVYVJ2WS_Guest_room.zip\n",
      "3FO4JVY9MVNN_Guest_room.zip\n",
      "3FO4JVWS5XAQ_Bedroom.zip\n",
      "3FO4JVSHEM7Q_Guest_room.zip\n",
      "3FO4JVORQ7NF_Bedroom.zip\n",
      "3FO4JVMPYT6C_Guest_room.zip\n",
      "3FO4JVGIBEKV_Guest_room.zip\n",
      "3FO4JVBWEICJ_Guest_room.zip\n",
      "3FO4JV6X9GYO_Guest_room.zip\n",
      "3FO4JV49LPJE_Guest_room.zip\n",
      "3FO4JUXF2J0A_Guest_room.zip\n",
      "3FO4JUVO6DBW_Bedroom.zip\n",
      "3FO4JUTYN2TU_Guest_room.zip\n",
      "3FO4JW4VEFD8_Bedroom.zip\n",
      "3FO4JW4TQCEU_Guest_room.zip\n",
      "3FO4JW4TQCEU_Bedroom.zip\n",
      "3FO4JW4ETWMW_Living_room.zip\n",
      "3FO4JW4ETWMW_Guest_room.zip\n",
      "3FO4JW4ETWMW_Bedroom.zip\n",
      "3FO4JW3J4RXD_Guest_room.zip\n",
      "3FO4JW3J4RXD_Bedroom.zip\n",
      "3FO4JW3HCB6O_Living_room.zip\n",
      "3FO4JW3HCB6O_Guest_room.zip\n",
      "3FO4JW3HCB6O_Dining_room.zip\n",
      "3FO4JW3HCB6O_Bedroom.zip\n",
      "3FO4JW2JT4NA_Guest_room.zip\n",
      "3FO4JW2JT4NA_Bedroom.zip\n",
      "3FO4JW2JSWY8_Bedroom.zip\n",
      "3FO4JW2JR7RP_Guest_room.zip\n",
      "3FO4JW2JR7RP_Bedroom.zip\n",
      "3FO4JW2JPKX8_Guest_room.zip\n",
      "3FO4JW2JPKX8_Bedroom.zip\n",
      "3FO4JW2JPAW5_Guest_room.zip\n",
      "3FO4JW2JPAW5_Bedroom.zip\n",
      "3FO4JW1440UE_Guest_room.zip\n",
      "3FO4JW1440UE_Bedroom.zip\n",
      "3FO4JW0FKSF7_Living_room.zip\n",
      "3FO4JW0FKSF7_Guest_room.zip\n",
      "3FO4JW0FKSF7_Bedroom.zip\n",
      "3FO4JW03T272_Guest_room.zip\n",
      "3FO4JW03T272_Bedroom.zip\n",
      "3FO4JVYVJ2WS_Bedroom.zip\n",
      "3FO4JVYCJ2LW_Guest_room.zip\n",
      "3FO4JVYCJ2LW_Bedroom.zip\n",
      "3FO4JVY9SC9A_Bedroom.zip\n",
      "3FO4JVY9S5K8_Bedroom.zip\n",
      "3FO4JVY9QPES_Living_room.zip\n",
      "3FO4JVY9QPES_Bedroom.zip\n",
      "3FO4JVY9PXNK_Bedroom.zip\n",
      "3FO4JVY9PNMH_Living_room.zip\n",
      "3FO4JVY9PNMH_Bedroom.zip\n",
      "3FO4JVY9P3KB_Guest_room.zip\n",
      "3FO4JVY9P3KB_Bedroom.zip\n",
      "3FO4JVY9OP77_Bedroom.zip\n",
      "3FO4JVY9NA1R_Bedroom.zip\n",
      "3FO4JVY9MVNN_Bedroom.zip\n",
      "3FO4JVY5XQ11_Guest_room.zip\n",
      "3FO4JVY5XQ11_Bedroom.zip\n",
      "3FO4JVY5XJBY_Living_room.zip\n",
      "3FO4JVY5XJBY_Guest_room.zip\n",
      "3FO4JVY5XJBY_Bedroom.zip\n",
      "3FO4JVY5WRKQ_Guest_room.zip\n",
      "3FO4JVXUP77S_Guest_room.zip\n",
      "3FO4JVX7K67J_Guest_room.zip\n",
      "3FO4JVX7K67J_Bedroom.zip\n",
      "3FO4JVWY392Q_Living_room.zip\n",
      "3FO4JVWY392Q_Guest_room.zip\n",
      "3FO4JVWY392Q_Bedroom.zip\n",
      "3FO4JVWS5XAQ_Guest_room.zip\n",
      "3FO4JVVTA3A3_Guest_room.zip\n",
      "3FO4JVVTA3A3_Bedroom.zip\n",
      "3FO4JVVI6CUT_Bedroom.zip\n",
      "3FO4JVV8F0WQ_Guest_room.zip\n",
      "3FO4JVV8F0WQ_Bedroom.zip\n",
      "3FO4JVUHRXTG_Guest_room.zip\n",
      "3FO4JVUHRXTG_Bedroom.zip\n",
      "3FO4JVU2YOEG_Bedroom.zip\n",
      "3FO4JVTO2QOT_Living_room.zip\n",
      "3FO4JVTJ1AX2_Guest_room.zip\n",
      "3FO4JVTJ1AX2_Bedroom.zip\n",
      "3FO4JVT5UJE9_Guest_room.zip\n",
      "3FO4JVT5UJE9_Bedroom.zip\n",
      "3FO4JVT4F0L5_Bedroom.zip\n",
      "3FO4JVSHEM7Q_Dining_room.zip\n",
      "3FO4JVSHEM7Q_Bedroom.zip\n",
      "3FO4JVSBBUU4_Bedroom.zip\n",
      "3FO4JVRRCC9D_Guest_room.zip\n",
      "3FO4JVRRCC9D_Bedroom.zip\n",
      "3FO4JVRLCQ8O_Guest_room.zip\n",
      "3FO4JVRJQ6RR_Guest_room.zip\n",
      "3FO4JVRJQ6RR_Bedroom.zip\n",
      "3FO4JVR5EFSP_Bedroom.zip\n",
      "3FO4JVPNESUI_Bedroom.zip\n",
      "3FO4JVORQHOI_Guest_room.zip\n",
      "3FO4JVORQHOI_Bedroom.zip\n",
      "3FO4JVORQ7NF_Living_room.zip\n",
      "3FO4JVORQ7NF_Guest_room.zip\n",
      "3FO4JVORQ4BE_Guest_room.zip\n",
      "3FO4JVORQ4BE_Bedroom.zip\n",
      "3FO4JVOROUU1_Guest_room.zip\n",
      "3FO4JVOROUU1_Bedroom.zip\n",
      "3FO4JVOROKSX_Guest_room.zip\n",
      "3FO4JVOROKSX_Bedroom.zip\n",
      "3FO4JVORO7FT_Bedroom.zip\n",
      "3FO4JVOP5657_Guest_room.zip\n",
      "3FO4JVOP5657_Bedroom.zip\n",
      "3FO4JVNG79O9_Guest_room.zip\n",
      "3FO4JVNG79O9_Bedroom.zip\n",
      "3FO4JVN6H9JK_Living_room.zip\n",
      "3FO4JVN6H9JK_Guest_room.zip\n",
      "3FO4JVN6H9JK_Bedroom.zip\n",
      "3FO4JVMPYT6C_Bedroom.zip\n",
      "3FO4JVMIQGQK_Guest_room.zip\n",
      "3FO4JVMIQGQK_Bedroom.zip\n",
      "3FO4JVLV5G50_Living_room.zip\n",
      "3FO4JVLV5G50_Bedroom.zip\n",
      "3FO4JVLBAWMA_Guest_room.zip\n",
      "3FO4JVLBAWMA_Bedroom.zip\n",
      "3FO4JVK372N1_Bedroom.zip\n",
      "3FO4JVJDJAX0_Guest_room.zip\n",
      "3FO4JVJDJAX0_Bedroom.zip\n",
      "3FO4JVIDRUX7_Guest_room.zip\n",
      "3FO4JVGT9YFL_Guest_room.zip\n",
      "3FO4JVGT9YFL_Bedroom.zip\n",
      "3FO4JVGIBEKV_Living_room.zip\n",
      "3FO4JVGIBEKV_Bedroom.zip\n",
      "3FO4JVGBHADD_Guest_room.zip\n",
      "3FO4JVGBHADD_Bedroom.zip\n",
      "3FO4JVFE6TOA_Bedroom.zip\n",
      "3FO4JVF5UQI8_Bedroom.zip\n",
      "3FO4JVCVY5XB_Guest_room.zip\n",
      "3FO4JVCOXWPY_Living_room.zip\n",
      "3FO4JVCOXWPY_Guest_room.zip\n",
      "3FO4JVCOXWPY_Bedroom.zip\n",
      "3FO4JVCDXJCP_Guest_room.zip\n",
      "3FO4JVCDXJCP_Bedroom.zip\n",
      "3FO4JVC6VRMW_Bedroom.zip\n",
      "3FO4JVBXQP4N_Guest_room.zip\n",
      "3FO4JVBXQP4N_Bedroom.zip\n",
      "3FO4JVBWEICJ_Bedroom.zip\n",
      "3FO4JVBE9B9K_Living_room.zip\n",
      "3FO4JVBE9B9K_Dining_room.zip\n",
      "3FO4JV9T65VW_Guest_room.zip\n",
      "3FO4JV9T65VW_Bedroom.zip\n",
      "3FO4JV9LHSIN_Guest_room.zip\n",
      "3FO4JV9LHSIN_Bedroom.zip\n",
      "3FO4JV98HE8G_Guest_room.zip\n",
      "3FO4JV98HE8G_Bedroom.zip\n",
      "3FO4JV8QKA5D_Guest_room.zip\n",
      "3FO4JV8QKA5D_Bedroom.zip\n",
      "3FO4JV8QK04A_Guest_room.zip\n",
      "3FO4JV8QK04A_Bedroom.zip\n",
      "3FO4JV7RQ5B8_Living_room.zip\n",
      "3FO4JV6X9GYO_Bedroom.zip\n",
      "3FO4JV6G2IHN_Guest_room.zip\n",
      "3FO4JV6G2IHN_Bedroom.zip\n",
      "3FO4JV5UEF8E_Bedroom.zip\n",
      "3FO4JV5NSSLF_Guest_room.zip\n",
      "3FO4JV5NSSLF_Bedroom.zip\n",
      "3FO4JV4KRTJD_Bedroom.zip\n",
      "3FO4JV4KCG7R_Guest_room.zip\n",
      "3FO4JV4KCG7R_Bedroom.zip\n",
      "3FO4JV4HYM90_Living_room.zip\n",
      "3FO4JV4HY8UV_Living_room.zip\n",
      "3FO4JV4HRTTY_Bedroom.zip\n",
      "3FO4JV4FXJJQ_Guest_room.zip\n",
      "3FO4JV4FXJJQ_Bedroom.zip\n",
      "3FO4JV49LPJE_Bedroom.zip\n",
      "3FO4JV47LRYH_Guest_room.zip\n",
      "3FO4JV47LRYH_Bedroom.zip\n",
      "3FO4JV47LOMG_Bedroom.zip\n",
      "3FO4JV471T5I_Guest_room.zip\n",
      "3FO4JV471T5I_Bedroom.zip\n",
      "3FO4JV42EYY4_Guest_room.zip\n",
      "3FO4JV42EYY4_Bedroom.zip\n",
      "3FO4JV3YCEYX_Guest_room.zip\n",
      "3FO4JV3YCEYX_Bedroom.zip\n",
      "3FO4JV3YC1LT_Bedroom.zip\n",
      "3FO4JV14MUMB_Guest_room.zip\n",
      "3FO4JV14MUMB_Bedroom.zip\n",
      "3FO4JV0G51K8_Bedroom.zip\n",
      "3FO4JUXF2J0A_Bedroom.zip\n",
      "3FO4JUX7W1VD_Living_room.zip\n",
      "3FO4JUX7W1VD_Guest_room.zip\n",
      "3FO4JUX7W1VD_Bedroom.zip\n",
      "3FO4JUX2D7KE_Guest_room.zip\n",
      "3FO4JUX2D7KE_Bedroom.zip\n",
      "3FO4JUWL8I4I_Guest_room.zip\n",
      "3FO4JUWL8I4I_Bedroom.zip\n",
      "3FO4JUWAY7K2_Bedroom.zip\n",
      "3FO4JUWASQYF_Guest_room.zip\n",
      "3FO4JUWASQYF_Bedroom.zip\n",
      "3FO4JUW99HR7_Guest_room.zip\n",
      "3FO4JUW99HR7_Bedroom.zip\n",
      "3FO4JUVO6DBW_Guest_room.zip\n",
      "3FO4JUVMLPQK_Living_room.zip\n",
      "3FO4JUVMLPQK_Bedroom.zip\n",
      "3FO4JUV6L1PV_Guest_room.zip\n",
      "3FO4JUV6L1PV_Bedroom.zip\n",
      "3FO4JUV02BYH_Bedroom.zip\n",
      "3FO4JUV01NKA_Living_room.zip\n",
      "3FO4JUV01NKA_Dining_room.zip\n",
      "3FO4JUU49SO8_Guest_room.zip\n",
      "3FO4JUU49SO8_Bedroom.zip\n",
      "3FO4JUU0LVHY_Guest_room.zip\n",
      "3FO4JUU0LVHY_Bedroom.zip\n",
      "3FO4JUU079WL_Living_room.zip\n",
      "3FO4JUU079WL_Dining_room.zip\n",
      "3FO4JUU079WL_Bedroom.zip\n",
      "3FO4JUO3C6AA_Bedroom.zip\n",
      "3FO4JUMO81V5_Guest_room.zip\n",
      "3FO4JUJCTOBW_Bedroom.zip\n",
      "3FO4JUE2F3L2_Guest_room.zip\n",
      "3FO4JU7DK9D7_Living_room.zip\n",
      "3FO4JU3DBX49_Guest_room.zip\n",
      "3FO4JU1JYOS5_Guest_room.zip\n",
      "3FO4JU062JH3_Bedroom.zip\n",
      "3FO4JTTT10W7_Bedroom.zip\n",
      "3FO4JTQEFYLK_Bedroom.zip\n",
      "3FO4JTN2DMS6_Bedroom.zip\n",
      "3FO4JTLFRA0L_Bedroom.zip\n",
      "3FO4JTIT10R7_Bedroom.zip\n",
      "3FO4JUTYN2TU_Bedroom.zip\n",
      "3FO4JUTYGH4V_Bedroom.zip\n",
      "3FO4JUTJNEDX_Bedroom.zip\n",
      "3FO4JUT3AHDL_Guest_room.zip\n",
      "3FO4JUT3AHDL_Bedroom.zip\n",
      "3FO4JUS7DA8X_Guest_room.zip\n",
      "3FO4JUS7DA8X_Bedroom.zip\n",
      "3FO4JURWFCKV_Guest_room.zip\n",
      "3FO4JURWFCKV_Bedroom.zip\n",
      "3FO4JUQR56M5_Bedroom.zip\n",
      "3FO4JUQQEH6G_Guest_room.zip\n",
      "3FO4JUQQEH6G_Bedroom.zip\n",
      "3FO4JUQQD8P3_Living_room.zip\n",
      "3FO4JUQQD8P3_Guest_room.zip\n",
      "3FO4JUQQBVVO_Bedroom.zip\n",
      "3FO4JUQHT1BL_Guest_room.zip\n",
      "3FO4JUQHT1BL_Bedroom.zip\n",
      "3FO4JUQ9U9H8_Guest_room.zip\n",
      "3FO4JUQ9U9H8_Bedroom.zip\n",
      "3FO4JUORADNY_Bedroom.zip\n",
      "3FO4JUONM6GM_Guest_room.zip\n",
      "3FO4JUONM6GM_Bedroom.zip\n",
      "3FO4JUOL6NV2_Guest_room.zip\n",
      "3FO4JUOL6NV2_Bedroom.zip\n",
      "3FO4JUO6APT9_Guest_room.zip\n",
      "3FO4JUO6APT9_Bedroom.zip\n",
      "3FO4JUO3C6AA_Living_room.zip\n",
      "3FO4JUO3C6AA_Guest_room.zip\n",
      "3FO4JUNXFV32_Guest_room.zip\n",
      "3FO4JUNXFV32_Bedroom.zip\n",
      "3FO4JUNU9E0P_Guest_room.zip\n",
      "3FO4JUNSMWVT_Guest_room.zip\n",
      "3FO4JUNSMWVT_Bedroom.zip\n",
      "3FO4JUNQHGE9_Guest_room.zip\n",
      "3FO4JUNQHGE9_Bedroom.zip\n",
      "3FO4JUNPJV7I_Guest_room.zip\n",
      "3FO4JUNPJV7I_Bedroom.zip\n",
      "3FO4JUNKFQSX_Guest_room.zip\n",
      "3FO4JUNKFQSX_Bedroom.zip\n",
      "3FO4JUN9AL99_Guest_room.zip\n",
      "3FO4JUN9AL99_Bedroom.zip\n",
      "3FO4JUN0QKJT_Living_room.zip\n",
      "3FO4JUMO81V5_Bedroom.zip\n",
      "3FO4JUMNDPDD_Guest_room.zip\n",
      "3FO4JUMNDPDD_Bedroom.zip\n",
      "3FO4JUM9PDLB_Bedroom.zip\n",
      "3FO4JULUUCR9_Guest_room.zip\n",
      "3FO4JULUUCR9_Bedroom.zip\n",
      "3FO4JUKL4QN1_Guest_room.zip\n",
      "3FO4JUKL4QN1_Bedroom.zip\n",
      "3FO4JUKDV7J7_Living_room.zip\n",
      "3FO4JUKAJJWB_Guest_room.zip\n",
      "3FO4JUKAJJWB_Bedroom.zip\n",
      "3FO4JUJQKLDQ_Guest_room.zip\n",
      "3FO4JUJQKLDQ_Bedroom.zip\n",
      "3FO4JUJCTOBW_Guest_room.zip\n",
      "3FO4JUJ9OJ2Y_Guest_room.zip\n",
      "3FO4JUJ9OJ2Y_Bedroom.zip\n",
      "3FO4JUI572RI_Guest_room.zip\n",
      "3FO4JUI572RI_Bedroom.zip\n",
      "3FO4JUHVKGSB_Guest_room.zip\n",
      "3FO4JUHVKGSB_Bedroom.zip\n",
      "3FO4JUHF0RDX_Living_room.zip\n",
      "3FO4JUHF0RDX_Guest_room.zip\n",
      "3FO4JUHF0RDX_Dining_room.zip\n",
      "3FO4JUHF0RDX_Bedroom.zip\n",
      "3FO4JUGBOH7S_Guest_room.zip\n",
      "3FO4JUGBOH7S_Bedroom.zip\n",
      "3FO4JUFDBHGH_Bedroom.zip\n",
      "3FO4JUF78WRW_Bedroom.zip\n",
      "3FO4JUE2F3L2_Bedroom.zip\n",
      "3FO4JUD9FYA8_Bedroom.zip\n",
      "3FO4JUD83E50_Guest_room.zip\n",
      "3FO4JUD83E50_Bedroom.zip\n",
      "3FO4JUCU41M4_Bedroom.zip\n",
      "3FO4JUCLDVWU_Guest_room.zip\n",
      "3FO4JUCLDVWU_Bedroom.zip\n",
      "3FO4JUBJH0FH_Bedroom.zip\n",
      "3FO4JUAS9OH5_Guest_room.zip\n",
      "3FO4JUAS9OH5_Bedroom.zip\n",
      "3FO4JU7YYW6E_Living_room.zip\n",
      "3FO4JU7G5PT9_Guest_room.zip\n",
      "3FO4JU7G5PT9_Bedroom.zip\n",
      "3FO4JU7DSUAR_Bedroom.zip\n",
      "3FO4JU79FIOW_Guest_room.zip\n",
      "3FO4JU79FIOW_Bedroom.zip\n",
      "3FO4JU6RSCCS_Guest_room.zip\n",
      "3FO4JU6RSCCS_Bedroom.zip\n",
      "3FO4JU690EH1_Guest_room.zip\n",
      "3FO4JU690EH1_Bedroom.zip\n",
      "3FO4JU5SD3KC_Guest_room.zip\n",
      "3FO4JU5SD3KC_Bedroom.zip\n",
      "3FO4JU5LQ54Y_Guest_room.zip\n",
      "3FO4JU5LQ54Y_Bedroom.zip\n",
      "3FO4JU45T290_Guest_room.zip\n",
      "3FO4JU45T290_Bedroom.zip\n",
      "3FO4JU3PM1BV_Guest_room.zip\n",
      "3FO4JU3PM1BV_Bedroom.zip\n",
      "3FO4JU3DBX49_Bedroom.zip\n",
      "3FO4JU3A27CX_Guest_room.zip\n",
      "3FO4JU3A27CX_Bedroom.zip\n",
      "3FO4JU2XL29Y_Living_room.zip\n",
      "3FO4JU2XL29Y_Guest_room.zip\n",
      "3FO4JU2XL29Y_Bedroom.zip\n",
      "3FO4JU29G96B_Bedroom.zip\n",
      "3FO4JU1RGN5H_Guest_room.zip\n",
      "3FO4JU1RGN5H_Bedroom.zip\n",
      "3FO4JU1RGD4E_Guest_room.zip\n",
      "3FO4JU1RGD4E_Bedroom.zip\n",
      "3FO4JU1M197J_Guest_room.zip\n",
      "3FO4JU1M197J_Bedroom.zip\n",
      "3FO4JU1KUD4B_Bedroom.zip\n",
      "3FO4JU1JYOS5_Bedroom.zip\n",
      "3FO4JU1JHYN5_Guest_room.zip\n",
      "3FO4JU1JHYN5_Bedroom.zip\n",
      "3FO4JU1JGQ6R_Living_room.zip\n",
      "3FO4JU1JGQ6R_Dining_room.zip\n",
      "3FO4JU1JGQ6R_Bedroom.zip\n",
      "3FO4JU1JFEDD_Guest_room.zip\n",
      "3FO4JU1JFEDD_Bedroom.zip\n",
      "3FO4JU11XYUI_Guest_room.zip\n",
      "3FO4JU11XYUI_Bedroom.zip\n",
      "3FO4JU0Q7E3V_Living_room.zip\n",
      "3FO4JU09TXSO_Guest_room.zip\n",
      "3FO4JU09TXSO_Bedroom.zip\n",
      "3FO4JU062JH3_Guest_room.zip\n",
      "3FO4JTY1FHO9_Guest_room.zip\n",
      "3FO4JTY1FHO9_Bedroom.zip\n",
      "3FO4JTXXSOES_Guest_room.zip\n",
      "3FO4JTXXSOES_Bedroom.zip\n",
      "3FO4JTXIFQ6W_Guest_room.zip\n",
      "3FO4JTXIFQ6W_Bedroom.zip\n",
      "3FO4JTWRE2I9_Living_room.zip\n",
      "3FO4JTWRE2I9_Dining_room.zip\n",
      "3FO4JTUX9L90_Bedroom.zip\n",
      "3FO4JTU2RURY_Bedroom.zip\n",
      "3FO4JTU1A537_Bedroom.zip\n",
      "3FO4JTTXJVFP_Guest_room.zip\n",
      "3FO4JTTXJVFP_Bedroom.zip\n",
      "3FO4JTTT10W7_Guest_room.zip\n",
      "3FO4JTS5HO7L_Guest_room.zip\n",
      "3FO4JTS5HO7L_Bedroom.zip\n",
      "3FO4JTRUGHUK_Guest_room.zip\n",
      "3FO4JTRUGHUK_Bedroom.zip\n",
      "3FO4JTRUGEIJ_Guest_room.zip\n",
      "3FO4JTRUGEIJ_Bedroom.zip\n",
      "3FO4JTRTS70L_Guest_room.zip\n",
      "3FO4JTRTS70L_Bedroom.zip\n",
      "3FO4JTROOTD9_Living_room.zip\n",
      "3FO4JTRKJW0W_Guest_room.zip\n",
      "3FO4JTRKJW0W_Bedroom.zip\n",
      "3FO4JTRDJ3QE_Bedroom.zip\n",
      "3FO4JTR4NIGI_Guest_room.zip\n",
      "3FO4JTR4NIGI_Bedroom.zip\n",
      "3FO4JTPVQ978_Guest_room.zip\n",
      "3FO4JTPVQ978_Bedroom.zip\n",
      "3FO4JTPG4SDS_Guest_room.zip\n",
      "3FO4JTPG4SDS_Bedroom.zip\n",
      "3FO4JTP2INIE_Guest_room.zip\n",
      "3FO4JTP2INIE_Bedroom.zip\n",
      "3FO4JTOMXIAT_Guest_room.zip\n",
      "3FO4JTOMXIAT_Bedroom.zip\n",
      "3FO4JTOF2IFA_Bedroom.zip\n",
      "3FO4JTNQ1CDP_Living_room.zip\n",
      "3FO4JTNQ1CDP_Guest_room.zip\n",
      "3FO4JTNQ1CDP_Bedroom.zip\n",
      "3FO4JTN6C2RK_Guest_room.zip\n",
      "3FO4JTN6C2RK_Bedroom.zip\n",
      "3FO4JTN1BDR1_Guest_room.zip\n",
      "3FO4JTN1BDR1_Bedroom.zip\n",
      "3FO4JTMROB2O_Guest_room.zip\n",
      "3FO4JTMROB2O_Bedroom.zip\n",
      "3FO4JTMQAE42_Guest_room.zip\n",
      "3FO4JTMQAE42_Bedroom.zip\n",
      "3FO4JTMLBIM2_Guest_room.zip\n",
      "3FO4JTMLBIM2_Bedroom.zip\n",
      "3FO4JTMFQT7T_Bedroom.zip\n",
      "3FO4JTMET913_Living_room.zip\n",
      "3FO4JTMET913_Bedroom.zip\n",
      "3FO4JTM4Y3BU_Guest_room.zip\n",
      "3FO4JTM4Y3BU_Bedroom.zip\n",
      "3FO4JTLFRA0L_Guest_room.zip\n",
      "3FO4JTKW563K_Guest_room.zip\n",
      "3FO4JTKW563K_Bedroom.zip\n",
      "3FO4JTKW4HOD_Bedroom.zip\n",
      "3FO4JTKVJIUE_Guest_room.zip\n",
      "3FO4JTKVJIUE_Bedroom.zip\n",
      "3FO4JTK4ID4F_Bedroom.zip\n",
      "3FO4JTJXCX50_Bedroom.zip\n",
      "3FO4JTJIM5MQ_Guest_room.zip\n",
      "3FO4JTJIM5MQ_Bedroom.zip\n",
      "3FO4JTJ891C5_Guest_room.zip\n",
      "3FO4JTJ891C5_Bedroom.zip\n",
      "3FO4JTIXXQ4U_Living_room.zip\n",
      "3FO4JTIXXQ4U_Bedroom.zip\n",
      "3FO4JTIT10R7_Guest_room.zip\n",
      "3FO4JTALYF1J_Bedroom.zip\n",
      "3FO4JT4KKWKU_Guest_room.zip\n",
      "3FO4JT2JD9GD_Guest_room.zip\n",
      "3FO4JSU5N4D8_Bedroom.zip\n",
      "3FO4JSSPNLO0_Guest_room.zip\n",
      "3FO4JSNP75A9_Guest_room.zip\n",
      "3FO4JSJLEPL7_Bedroom.zip\n",
      "3FO4JSF4R8UJ_Guest_room.zip\n",
      "3FO4JS5IAT8J_Bedroom.zip\n",
      "3FO4JS2W1NI9_Bedroom.zip\n",
      "3FO4JRUIT0BC_Guest_room.zip\n",
      "3FO4JRS3MYBS_Guest_room.zip\n",
      "3FO4JRR0MAAT_Bedroom.zip\n",
      "3FO4JTI0VMJS_Guest_room.zip\n",
      "3FO4JTI0VMJS_Bedroom.zip\n",
      "3FO4JTHUG8LU_Bedroom.zip\n",
      "3FO4JTHJ6Y9X_Guest_room.zip\n",
      "3FO4JTHJ6Y9X_Bedroom.zip\n",
      "3FO4JTH3Y39K_Guest_room.zip\n",
      "3FO4JTH3Y39K_Bedroom.zip\n",
      "3FO4JTG03OCP_Guest_room.zip\n",
      "3FO4JTG03OCP_Bedroom.zip\n",
      "3FO4JTEEHUER_Guest_room.zip\n",
      "3FO4JTEEHUER_Bedroom.zip\n",
      "3FO4JTDGDD90_Guest_room.zip\n",
      "3FO4JTDGDD90_Bedroom.zip\n",
      "3FO4JTDEHQ5D_Guest_room.zip\n",
      "3FO4JTCNVCGA_Guest_room.zip\n",
      "3FO4JTCNVCGA_Bedroom.zip\n",
      "3FO4JTBNF342_Guest_room.zip\n",
      "3FO4JTBNF342_Bedroom.zip\n",
      "3FO4JTBJVQF6_Guest_room.zip\n",
      "3FO4JTBJVQF6_Bedroom.zip\n",
      "3FO4JTBJUYNX_Guest_room.zip\n",
      "3FO4JTBJUYNX_Bedroom.zip\n",
      "3FO4JTBJUELR_Living_room.zip\n",
      "3FO4JTBJUELR_Guest_room.zip\n",
      "3FO4JTBJUELR_Bedroom.zip\n",
      "3FO4JTBA9OXD_Guest_room.zip\n",
      "3FO4JTBA9OXD_Bedroom.zip\n",
      "3FO4JTB60H4Q_Bedroom.zip\n",
      "3FO4JT7U96Y4_Guest_room.zip\n",
      "3FO4JT7U96Y4_Bedroom.zip\n",
      "3FO4JT7NX821_Guest_room.zip\n",
      "3FO4JT7NX821_Bedroom.zip\n",
      "3FO4JT7JPSQX_Guest_room.zip\n",
      "3FO4JT7JPSQX_Bedroom.zip\n",
      "3FO4JT635VQ5_Guest_room.zip\n",
      "3FO4JT635VQ5_Bedroom.zip\n",
      "3FO4JT5Q1CG6_Guest_room.zip\n",
      "3FO4JT5Q1CG6_Bedroom.zip\n",
      "3FO4JT5PMAWY_Living_room.zip\n",
      "3FO4JT5PMAWY_Guest_room.zip\n",
      "3FO4JT5PMAWY_Dining_room.zip\n",
      "3FO4JT5PMAWY_Bedroom.zip\n",
      "3FO4JT4KKWKU_Bedroom.zip\n",
      "3FO4JT4KKMJR_Guest_room.zip\n",
      "3FO4JT4KKMJR_Bedroom.zip\n",
      "3FO4JT4KJUSJ_Living_room.zip\n",
      "3FO4JT4KJUSJ_Bedroom.zip\n",
      "3FO4JT4KIT18_Living_room.zip\n",
      "3FO4JT4KIT18_Bedroom.zip\n",
      "3FO4JT3PSTS7_Living_room.zip\n",
      "3FO4JT3PSTS7_Bedroom.zip\n",
      "3FO4JT3IOB4K_Guest_room.zip\n",
      "3FO4JT3IOB4K_Bedroom.zip\n",
      "3FO4JT3AVJX0_Living_room.zip\n",
      "3FO4JT3AVJX0_Guest_room.zip\n",
      "3FO4JT3AVJX0_Bedroom.zip\n",
      "3FO4JT2JD9GD_Bedroom.zip\n",
      "3FO4JT23TKLR_Guest_room.zip\n",
      "3FO4JT23TKLR_Bedroom.zip\n",
      "3FO4JT22P1BX_Bedroom.zip\n",
      "3FO4JT1T5IWD_Guest_room.zip\n",
      "3FO4JT1T5IWD_Bedroom.zip\n",
      "3FO4JT0RA2KF_Guest_room.zip\n",
      "3FO4JT0CEL8R_Guest_room.zip\n",
      "3FO4JT0CEL8R_Bedroom.zip\n",
      "3FO4JSY2NBPC_Guest_room.zip\n",
      "3FO4JSY2NBPC_Bedroom.zip\n",
      "3FO4JSXELCP0_Bedroom.zip\n",
      "3FO4JSVTVH4B_Bedroom.zip\n",
      "3FO4JSUWAFA2_Bedroom.zip\n",
      "3FO4JSTU74QR_Guest_room.zip\n",
      "3FO4JSTU74QR_Bedroom.zip\n",
      "3FO4JSTU463V_Bedroom.zip\n",
      "3FO4JSTQWHCH_Guest_room.zip\n",
      "3FO4JSTQWHCH_Bedroom.zip\n",
      "3FO4JSTOU2TT_Guest_room.zip\n",
      "3FO4JSTOU2TT_Bedroom.zip\n",
      "3FO4JSTO7M34_Living_room.zip\n",
      "3FO4JSTO7M34_Guest_room.zip\n",
      "3FO4JSTO7M34_Dining_room.zip\n",
      "3FO4JSTO7M34_Bedroom.zip\n",
      "3FO4JSTMYJ38_Guest_room.zip\n",
      "3FO4JSTMYJ38_Bedroom.zip\n",
      "3FO4JSTBXUNV_Bedroom.zip\n",
      "3FO4JSSPNLO0_Bedroom.zip\n",
      "3FO4JSRYI0W6_Guest_room.zip\n",
      "3FO4JSRYI0W6_Bedroom.zip\n",
      "3FO4JSRB52DJ_Bedroom.zip\n",
      "3FO4JSRB0A74_Guest_room.zip\n",
      "3FO4JSRB0A74_Bedroom.zip\n",
      "3FO4JSR2VWUD_Guest_room.zip\n",
      "3FO4JSR2VWUD_Bedroom.zip\n",
      "3FO4JSQVSBEH_Guest_room.zip\n",
      "3FO4JSQVSBEH_Bedroom.zip\n",
      "3FO4JSPFARYE_Guest_room.zip\n",
      "3FO4JSPFARYE_Bedroom.zip\n",
      "3FO4JSOVG1K3_Guest_room.zip\n",
      "3FO4JSOVG1K3_Bedroom.zip\n",
      "3FO4JSNP75A9_Bedroom.zip\n",
      "3FO4JSN4BOJS_Guest_room.zip\n",
      "3FO4JSN4BOJS_Bedroom.zip\n",
      "3FO4JSLXT64U_Guest_room.zip\n",
      "3FO4JSLXT64U_Bedroom.zip\n",
      "3FO4JSL6I5YX_Living_room.zip\n",
      "3FO4JSKVUTH2_Guest_room.zip\n",
      "3FO4JSKVUTH2_Bedroom.zip\n",
      "3FO4JSK8R8M8_Guest_room.zip\n",
      "3FO4JSK8R8M8_Bedroom.zip\n",
      "3FO4JSK3YUI6_Guest_room.zip\n",
      "3FO4JSK3YUI6_Bedroom.zip\n",
      "3FO4JSJLNOVV_Guest_room.zip\n",
      "3FO4JSJLNOVV_Bedroom.zip\n",
      "3FO4JSJ89MGL_Guest_room.zip\n",
      "3FO4JSJ89MGL_Bedroom.zip\n",
      "3FO4JSISSL19_Living_room.zip\n",
      "3FO4JSISSL19_Guest_room.zip\n",
      "3FO4JSISSL19_Bedroom.zip\n",
      "3FO4JSGYER37_Guest_room.zip\n",
      "3FO4JSGYER37_Bedroom.zip\n",
      "3FO4JSGXHK9K_Guest_room.zip\n",
      "3FO4JSGXHK9K_Bedroom.zip\n",
      "3FO4JSGX2KB3_Bedroom.zip\n",
      "3FO4JSGQ9V90_Guest_room.zip\n",
      "3FO4JSGQ9V90_Bedroom.zip\n",
      "3FO4JSGEEHXR_Guest_room.zip\n",
      "3FO4JSGEEHXR_Bedroom.zip\n",
      "3FO4JSF4R8UJ_Bedroom.zip\n",
      "3FO4JSCVGR8X_Bedroom.zip\n",
      "3FO4JSCC694W_Guest_room.zip\n",
      "3FO4JSCC694W_Bedroom.zip\n",
      "3FO4JSBA5PKG_Living_room.zip\n",
      "3FO4JSBA5PKG_Bedroom.zip\n",
      "3FO4JSAWXOCQ_Bedroom.zip\n",
      "3FO4JS871TCS_Living_room.zip\n",
      "3FO4JS7RTKJ3_Guest_room.zip\n",
      "3FO4JS7RTKJ3_Bedroom.zip\n",
      "3FO4JS6BBH1T_Bedroom.zip\n",
      "3FO4JS61BPU8_Guest_room.zip\n",
      "3FO4JS61BPU8_Bedroom.zip\n",
      "3FO4JS619PMM_Bedroom.zip\n",
      "3FO4JS5CTNJD_Guest_room.zip\n",
      "3FO4JS5CTNJD_Bedroom.zip\n",
      "3FO4JS57CQ3Y_Guest_room.zip\n",
      "3FO4JS57CQ3Y_Bedroom.zip\n",
      "3FO4JS53I1IO_Guest_room.zip\n",
      "3FO4JS53I1IO_Bedroom.zip\n",
      "3FO4JS46MKS3_Guest_room.zip\n",
      "3FO4JS46MKS3_Bedroom.zip\n",
      "3FO4JS3HV95G_Guest_room.zip\n",
      "3FO4JS3HV95G_Bedroom.zip\n",
      "3FO4JS33BUO4_Living_room.zip\n",
      "3FO4JS33BUO4_Guest_room.zip\n",
      "3FO4JS33BUO4_Bedroom.zip\n",
      "3FO4JS2W1NI9_Guest_room.zip\n",
      "3FO4JS0W2K3S_Guest_room.zip\n",
      "3FO4JS0W2K3S_Bedroom.zip\n",
      "3FO4JRYMMQSS_Guest_room.zip\n",
      "3FO4JRYMMQSS_Bedroom.zip\n",
      "3FO4JRX8AI78_Guest_room.zip\n",
      "3FO4JRX8AI78_Bedroom.zip\n",
      "3FO4JRX1667N_Living_room.zip\n",
      "3FO4JRX01IKS_Living_room.zip\n",
      "3FO4JRVTQMN5_Guest_room.zip\n",
      "3FO4JRVTQMN5_Bedroom.zip\n",
      "3FO4JRV8O4HK_Living_room.zip\n",
      "3FO4JRV8O4HK_Dining_room.zip\n",
      "3FO4JRUK033M_Guest_room.zip\n",
      "3FO4JRUK033M_Bedroom.zip\n",
      "3FO4JRUIT0BC_Bedroom.zip\n",
      "3FO4JRUIS1V2_Living_room.zip\n",
      "3FO4JRUIS1V2_Guest_room.zip\n",
      "3FO4JRUIS1V2_Dining_room.zip\n",
      "3FO4JRUIS1V2_Bedroom.zip\n",
      "3FO4JRUIDW0T_Living_room.zip\n",
      "3FO4JRUIDW0T_Dining_room.zip\n",
      "3FO4JRUIBIF4_Living_room.zip\n",
      "3FO4JRTFOE77_Bedroom.zip\n",
      "3FO4JRTF5NTL_Guest_room.zip\n",
      "3FO4JRTF5NTL_Bedroom.zip\n",
      "3FO4JRT86O3M_Guest_room.zip\n",
      "3FO4JRS8FCFU_Guest_room.zip\n",
      "3FO4JRS8FCFU_Bedroom.zip\n",
      "3FO4JRS3MYBS_Bedroom.zip\n",
      "3FO4JRRYMPSU_Living_room.zip\n",
      "3FO4JRRYMPSU_Bedroom.zip\n",
      "3FO4JRRV278B_Guest_room.zip\n",
      "3FO4JRRV278B_Bedroom.zip\n",
      "3FO4JRRRY26Y_Guest_room.zip\n",
      "3FO4JRRRY26Y_Bedroom.zip\n",
      "3FO4JRRQ5IMY_Bedroom.zip\n",
      "3FO4JRR9TBT5_Guest_room.zip\n",
      "3FO4JRR9TBT5_Bedroom.zip\n",
      "3FO4JRR9OX0T_Guest_room.zip\n",
      "3FO4JRR9OX0T_Bedroom.zip\n",
      "3FO4JRR2V0HD_Guest_room.zip\n",
      "3FO4JRR2V0HD_Bedroom.zip\n",
      "3FO4JRL7XCH8_Bedroom.zip\n",
      "3FO4JRFWNIWS_Guest_room.zip\n",
      "3FO4JRBN25HQ_Bedroom.zip\n",
      "3FO4JR8GK9TS_Bedroom.zip\n",
      "3FO4JR3QD0NH_Bedroom.zip\n",
      "3FO4JR0S7S8R_Guest_room.zip\n",
      "3FO4JQY4SUCH_Guest_room.zip\n",
      "3FO4JQS72EYS_Guest_room.zip\n",
      "3FO4JQN3T343_Bedroom.zip\n",
      "3FO4JQJV4YJI_Bedroom.zip\n",
      "3FO4JQGWCI25_Living_room.zip\n",
      "3FO4JQFILNEY_Living_room.zip\n",
      "3FO4JQESSQ5E_Guest_room.zip\n",
      "3FO4JRQWDONU_Living_room.zip\n",
      "3FO4JRQWDONU_Guest_room.zip\n",
      "3FO4JRQWDONU_Bedroom.zip\n",
      "3FO4JRQAS4JV_Bedroom.zip\n",
      "3FO4JRPSM7U6_Bedroom.zip\n",
      "3FO4JRPH1NXV_Guest_room.zip\n",
      "3FO4JRPH1NXV_Bedroom.zip\n",
      "3FO4JRPFQURH_Guest_room.zip\n",
      "3FO4JRPFQURH_Bedroom.zip\n",
      "3FO4JROMORSR_Guest_room.zip\n",
      "3FO4JROMORSR_Bedroom.zip\n",
      "3FO4JROAH36U_Bedroom.zip\n",
      "3FO4JRO8DIJU_Guest_room.zip\n",
      "3FO4JRO8DIJU_Bedroom.zip\n",
      "3FO4JRNUE2OX_Bedroom.zip\n",
      "3FO4JRNNQ96B_Guest_room.zip\n",
      "3FO4JRNNQ96B_Bedroom.zip\n",
      "3FO4JRN3OTWJ_Guest_room.zip\n",
      "3FO4JRN3OTWJ_Bedroom.zip\n",
      "3FO4JRMWJ4W1_Guest_room.zip\n",
      "3FO4JRMWJ4W1_Bedroom.zip\n",
      "3FO4JRMU5WK5_Bedroom.zip\n",
      "3FO4JRMLW7YS_Living_room.zip\n",
      "3FO4JRMLW7YS_Guest_room.zip\n",
      "3FO4JRMLW7YS_Bedroom.zip\n",
      "3FO4JRLBPDFP_Guest_room.zip\n",
      "3FO4JRLBPDFP_Bedroom.zip\n",
      "3FO4JRL7XCH8_Guest_room.zip\n",
      "3FO4JRL33RGI_Bedroom.zip\n",
      "3FO4JRK9CP8M_Guest_room.zip\n",
      "3FO4JRK9CP8M_Bedroom.zip\n",
      "3FO4JRK0XK2N_Bedroom.zip\n",
      "3FO4JRJVQJ5O_Bedroom.zip\n",
      "3FO4JRI0QPSV_Guest_room.zip\n",
      "3FO4JRI0QPSV_Bedroom.zip\n",
      "3FO4JRHNEMDN_Guest_room.zip\n",
      "3FO4JRHNEMDN_Bedroom.zip\n",
      "3FO4JRHJ6X2H_Bedroom.zip\n",
      "3FO4JRHDM8N9_Bedroom.zip\n",
      "3FO4JRH16YV3_Living_room.zip\n",
      "3FO4JRGXR2CO_Guest_room.zip\n",
      "3FO4JRGXR2CO_Bedroom.zip\n",
      "3FO4JRFWNIWS_Bedroom.zip\n",
      "3FO4JRFKVRON_Guest_room.zip\n",
      "3FO4JRFKVRON_Bedroom.zip\n",
      "3FO4JRDJS50D_Living_room.zip\n",
      "3FO4JRDJS50D_Guest_room.zip\n",
      "3FO4JRDJS50D_Bedroom.zip\n",
      "3FO4JRDJI79E_Guest_room.zip\n",
      "3FO4JRDJI79E_Bedroom.zip\n",
      "3FO4JRD8DVRY_Bedroom.zip\n",
      "3FO4JRCCXOTE_Guest_room.zip\n",
      "3FO4JRCCXOTE_Bedroom.zip\n",
      "3FO4JRC0HHLX_Bedroom.zip\n",
      "3FO4JRBS4GCR_Guest_room.zip\n",
      "3FO4JRBS4GCR_Bedroom.zip\n",
      "3FO4JRBAF7NK_Bedroom.zip\n",
      "3FO4JRAXUPJL_Guest_room.zip\n",
      "3FO4JRAXUPJL_Bedroom.zip\n",
      "3FO4JRAVTJIB_Living_room.zip\n",
      "3FO4JRAVTJIB_Guest_room.zip\n",
      "3FO4JRAVTJIB_Dining_room.zip\n",
      "3FO4JRAVTJIB_Bedroom.zip\n",
      "3FO4JRAVHS8S_Guest_room.zip\n",
      "3FO4JRAVHS8S_Bedroom.zip\n",
      "3FO4JRAPKARQ_Living_room.zip\n",
      "3FO4JRAPKARQ_Bedroom.zip\n",
      "3FO4JR90X37I_Living_room.zip\n",
      "3FO4JR90X37I_Dining_room.zip\n",
      "3FO4JR8GK9TS_Guest_room.zip\n",
      "3FO4JR8EGSJT_Guest_room.zip\n",
      "3FO4JR8EGSJT_Bedroom.zip\n",
      "3FO4JR8CTO1Q_Living_room.zip\n",
      "3FO4JR8CTO1Q_Bedroom.zip\n",
      "3FO4JR7CTX5G_Guest_room.zip\n",
      "3FO4JR7CTX5G_Bedroom.zip\n",
      "3FO4JR646EDB_Guest_room.zip\n",
      "3FO4JR646EDB_Bedroom.zip\n",
      "3FO4JR5163PG_Living_room.zip\n",
      "3FO4JR5163PG_Guest_room.zip\n",
      "3FO4JR5163PG_Bedroom.zip\n",
      "3FO4JR4CB8CR_Guest_room.zip\n",
      "3FO4JR4CB8CR_Bedroom.zip\n",
      "3FO4JR3QD0NH_Guest_room.zip\n",
      "3FO4JR30VUUY_Bedroom.zip\n",
      "3FO4JR2X3U9N_Guest_room.zip\n",
      "3FO4JR2X3U9N_Bedroom.zip\n",
      "3FO4JR24OCM8_Guest_room.zip\n",
      "3FO4JR24OCM8_Bedroom.zip\n",
      "3FO4JR1PCEY4_Guest_room.zip\n",
      "3FO4JR1PCEY4_Bedroom.zip\n",
      "3FO4JR18WRR9_Guest_room.zip\n",
      "3FO4JR18WRR9_Bedroom.zip\n",
      "3FO4JR15Y1J8_Guest_room.zip\n",
      "3FO4JR15Y1J8_Bedroom.zip\n",
      "3FO4JR0UK25D_Living_room.zip\n",
      "3FO4JR0UK25D_Guest_room.zip\n",
      "3FO4JR0UK25D_Bedroom.zip\n",
      "3FO4JR0S7S8R_Bedroom.zip\n",
      "3FO4JR00E7UL_Living_room.zip\n",
      "3FO4JR00E7UL_Guest_room.zip\n",
      "3FO4JR00E7UL_Dining_room.zip\n",
      "3FO4JR00E7UL_Bedroom.zip\n",
      "3FO4JQYXIE2W_Guest_room.zip\n",
      "3FO4JQYXIE2W_Bedroom.zip\n",
      "3FO4JQYQD0B1_Bedroom.zip\n",
      "3FO4JQYQ3FX6_Guest_room.zip\n",
      "3FO4JQYQ3FX6_Bedroom.zip\n",
      "3FO4JQYJ2FYL_Bedroom.zip\n",
      "3FO4JQYCD3XI_Living_room.zip\n",
      "3FO4JQY8J64G_Dining_room.zip\n",
      "3FO4JQY8J64G_Bedroom.zip\n",
      "3FO4JQY4SUCH_Bedroom.zip\n",
      "3FO4JQXUVD71_Guest_room.zip\n",
      "3FO4JQXUVD71_Bedroom.zip\n",
      "3FO4JQXFQ5SG_Living_room.zip\n",
      "3FO4JQXFQ5SG_Guest_room.zip\n",
      "3FO4JQW7V03S_Guest_room.zip\n",
      "3FO4JQW7V03S_Bedroom.zip\n",
      "3FO4JQV9K795_Living_room.zip\n",
      "3FO4JQURBIKL_Bedroom.zip\n",
      "3FO4JQUM1K8A_Guest_room.zip\n",
      "3FO4JQUM1K8A_Bedroom.zip\n",
      "3FO4JQULJK27_Living_room.zip\n",
      "3FO4JQTRO410_Guest_room.zip\n",
      "3FO4JQTRO410_Bedroom.zip\n",
      "3FO4JQS72EYS_Bedroom.zip\n",
      "3FO4JQQ9KCND_Bedroom.zip\n",
      "3FO4JQQ64173_Guest_room.zip\n",
      "3FO4JQQ64173_Bedroom.zip\n",
      "3FO4JQOQD13E_Living_room.zip\n",
      "3FO4JQOQD13E_Guest_room.zip\n",
      "3FO4JQOQD13E_Bedroom.zip\n",
      "3FO4JQNU834F_Guest_room.zip\n",
      "3FO4JQNU834F_Bedroom.zip\n",
      "3FO4JQNMGUFB_Bedroom.zip\n",
      "3FO4JQNMEGTL_Living_room.zip\n",
      "3FO4JQNMEGTL_Bedroom.zip\n",
      "3FO4JQNME6SI_Bedroom.zip\n",
      "3FO4JQN3T343_Guest_room.zip\n",
      "3FO4JQMWBVU5_Bedroom.zip\n",
      "3FO4JQMVK5M5_Bedroom.zip\n",
      "3FO4JQL7A2OJ_Guest_room.zip\n",
      "3FO4JQL7A2OJ_Bedroom.zip\n",
      "3FO4JQL3TS0K_Living_room.zip\n",
      "3FO4JQL3TS0K_Guest_room.zip\n",
      "3FO4JQL3TS0K_Dining_room.zip\n",
      "3FO4JQL3TS0K_Bedroom.zip\n",
      "3FO4JQKE2WIB_Guest_room.zip\n",
      "3FO4JQKE2WIB_Bedroom.zip\n",
      "3FO4JQK4XMXT_Living_room.zip\n",
      "3FO4JQK4XMXT_Guest_room.zip\n",
      "3FO4JQK4XMXT_Dining_room.zip\n",
      "3FO4JQK4XMXT_Bedroom.zip\n",
      "3FO4JQJSBAJ0_Living_room.zip\n",
      "3FO4JQJSBAJ0_Bedroom.zip\n",
      "3FO4JQI6QQ9Y_Bedroom.zip\n",
      "3FO4JQHPXI2I_Guest_room.zip\n",
      "3FO4JQHPXI2I_Bedroom.zip\n",
      "3FO4JQHBOJ2A_Guest_room.zip\n",
      "3FO4JQHBOJ2A_Bedroom.zip\n",
      "3FO4JQH86Y4M_Guest_room.zip\n",
      "3FO4JQH86Y4M_Bedroom.zip\n",
      "3FO4JQH6PA76_Living_room.zip\n",
      "3FO4JQH6PA76_Guest_room.zip\n",
      "3FO4JQH6PA76_Bedroom.zip\n",
      "3FO4JQH12M52_Guest_room.zip\n",
      "3FO4JQH12M52_Bedroom.zip\n",
      "3FO4JQGN93KW_Guest_room.zip\n",
      "3FO4JQGN93KW_Bedroom.zip\n",
      "3FO4JQGA35D2_Guest_room.zip\n",
      "3FO4JQGA35D2_Bedroom.zip\n",
      "3FO4JQG22QO7_Guest_room.zip\n",
      "3FO4JQG22QO7_Bedroom.zip\n",
      "3FO4JQG16OYW_Guest_room.zip\n",
      "3FO4JQG16OYW_Bedroom.zip\n",
      "3FO4JQFVB9UX_Guest_room.zip\n",
      "3FO4JQFVB9UX_Bedroom.zip\n",
      "3FO4JQFVB36V_Guest_room.zip\n",
      "3FO4JQFVB36V_Bedroom.zip\n",
      "3FO4JQFJ21QK_Guest_room.zip\n",
      "3FO4JQFJ21QK_Bedroom.zip\n",
      "3FO4JQFILNEY_Dining_room.zip\n",
      "3FO4JQFILNEY_Bedroom.zip\n",
      "3FO4JQFC8OAA_Guest_room.zip\n",
      "3FO4JQFC8OAA_Bedroom.zip\n",
      "3FO4JQEUF79A_Living_room.zip\n",
      "3FO4JQEUF79A_Guest_room.zip\n",
      "3FO4JQEUF79A_Dining_room.zip\n",
      "3FO4JQEUF79A_Bedroom.zip\n",
      "3FO4JQETIDSR_Living_room.zip\n",
      "3FO4JQETIDSR_Guest_room.zip\n",
      "3FO4JQETIDSR_Bedroom.zip\n",
      "3FO4JQESYA32_Guest_room.zip\n",
      "3FO4JQESYA32_Bedroom.zip\n",
      "3FO4JQESSQ5E_Living_room.zip\n",
      "3FO4JQ914IAP_Bedroom.zip\n",
      "3FO4JQ7XM698_Bedroom.zip\n",
      "3FO4JQ5NRSSI_Living_room.zip\n",
      "3FO4JQ5LB2QK_Guest_room.zip\n",
      "3FO4JQ5484OQ_Living_room.zip\n",
      "3FO4JQ3UYKV3_Bedroom.zip\n",
      "3FO4JQ1HI30C_Bedroom.zip\n",
      "3FO4JPYELGT8_Bedroom.zip\n",
      "3FO4JPTVMU3R_Living_room.zip\n",
      "3FO4JPT56TUT_Bedroom.zip\n",
      "3FO4JPRA3JXG_Living_room.zip\n",
      "3FO4JPKQCXG7_Bedroom.zip\n",
      "3FO4JPHJ6LSX_Bedroom.zip\n",
      "3FO4JQESSQ5E_Bedroom.zip\n",
      "3FO4JQEKMBSQ_Guest_room.zip\n",
      "3FO4JQEKMBSQ_Bedroom.zip\n",
      "3FO4JQEIO4FC_Guest_room.zip\n",
      "3FO4JQEIO4FC_Bedroom.zip\n",
      "3FO4JQED4F14_Guest_room.zip\n",
      "3FO4JQED4F14_Bedroom.zip\n",
      "3FO4JQE7H203_Guest_room.zip\n",
      "3FO4JQE7H203_Bedroom.zip\n",
      "3FO4JQE1GUW8_Bedroom.zip\n",
      "3FO4JQDUOCBN_Guest_room.zip\n",
      "3FO4JQDUOCBN_Bedroom.zip\n",
      "3FO4JQDLFNXU_Guest_room.zip\n",
      "3FO4JQDLFNXU_Bedroom.zip\n",
      "3FO4JQDBIBCY_Bedroom.zip\n",
      "3FO4JQCAHN8X_Bedroom.zip\n",
      "3FO4JQB8R2FG_Bedroom.zip\n",
      "3FO4JQB0B3PX_Guest_room.zip\n",
      "3FO4JQB0B3PX_Bedroom.zip\n",
      "3FO4JQAFX717_Guest_room.zip\n",
      "3FO4JQAFX717_Bedroom.zip\n",
      "3FO4JQAE8DVB_Guest_room.zip\n",
      "3FO4JQAE8DVB_Bedroom.zip\n",
      "3FO4JQ9OUQLB_Guest_room.zip\n",
      "3FO4JQ9OUQLB_Bedroom.zip\n",
      "3FO4JQ9F2OGP_Bedroom.zip\n",
      "3FO4JQ9CQY2K_Guest_room.zip\n",
      "3FO4JQ9CQY2K_Bedroom.zip\n",
      "3FO4JQ8O86K7_Bedroom.zip\n",
      "3FO4JQ8EHI1B_Guest_room.zip\n",
      "3FO4JQ8EHI1B_Bedroom.zip\n",
      "3FO4JQ8EH4N7_Guest_room.zip\n",
      "3FO4JQ8EH4N7_Bedroom.zip\n",
      "3FO4JQ8EGQA3_Guest_room.zip\n",
      "3FO4JQ8EGQA3_Bedroom.zip\n",
      "3FO4JQ8EGG90_Living_room.zip\n",
      "3FO4JQ8EGG90_Guest_room.zip\n",
      "3FO4JQ8EGG90_Bedroom.zip\n",
      "3FO4JQ8EFB4N_Guest_room.zip\n",
      "3FO4JQ8EFB4N_Bedroom.zip\n",
      "3FO4JQ889L45_Living_room.zip\n",
      "3FO4JQ7XM698_Guest_room.zip\n",
      "3FO4JQ7WAG79_Guest_room.zip\n",
      "3FO4JQ7WAG79_Bedroom.zip\n",
      "3FO4JQ7PK92W_Guest_room.zip\n",
      "3FO4JQ7PK92W_Bedroom.zip\n",
      "3FO4JQ7M9N8C_Bedroom.zip\n",
      "3FO4JQ732NTD_Guest_room.zip\n",
      "3FO4JQ732NTD_Bedroom.zip\n",
      "3FO4JQ6GVF9O_Guest_room.zip\n",
      "3FO4JQ6GVF9O_Bedroom.zip\n",
      "3FO4JQ65C86S_Bedroom.zip\n",
      "3FO4JQ615UO1_Guest_room.zip\n",
      "3FO4JQ615UO1_Bedroom.zip\n",
      "3FO4JQ5SG6HD_Guest_room.zip\n",
      "3FO4JQ5SG6HD_Bedroom.zip\n",
      "3FO4JQ5NRSSI_Guest_room.zip\n",
      "3FO4JQ5NRSSI_Bedroom.zip\n",
      "3FO4JQ5MTDII_Bedroom.zip\n",
      "3FO4JQ5MIRDC_Bedroom.zip\n",
      "3FO4JQ5M7HSY_Guest_room.zip\n",
      "3FO4JQ5M7HSY_Bedroom.zip\n",
      "3FO4JQ5M6MPP_Guest_room.zip\n",
      "3FO4JQ5M6MPP_Bedroom.zip\n",
      "3FO4JQ5M3O2T_Guest_room.zip\n",
      "3FO4JQ5M3O2T_Bedroom.zip\n",
      "3FO4JQ5M2IXH_Living_room.zip\n",
      "3FO4JQ5M2IXH_Guest_room.zip\n",
      "3FO4JQ5M2IXH_Dining_room.zip\n",
      "3FO4JQ5M2IXH_Bedroom.zip\n",
      "3FO4JQ5LB2QK_Bedroom.zip\n",
      "3FO4JQ54DNME_Guest_room.zip\n",
      "3FO4JQ54DNME_Bedroom.zip\n",
      "3FO4JQ54DKAD_Guest_room.zip\n",
      "3FO4JQ54DKAD_Bedroom.zip\n",
      "3FO4JQ54B3CM_Guest_room.zip\n",
      "3FO4JQ54B3CM_Bedroom.zip\n",
      "3FO4JQ549X8A_Guest_room.zip\n",
      "3FO4JQ549X8A_Bedroom.zip\n",
      "3FO4JQ5496H2_Guest_room.zip\n",
      "3FO4JQ5496H2_Bedroom.zip\n",
      "3FO4JQ548BDS_Living_room.zip\n",
      "3FO4JQ548BDS_Guest_room.zip\n",
      "3FO4JQ548BDS_Bedroom.zip\n",
      "3FO4JQ5484OQ_Guest_room.zip\n",
      "3FO4JQ5484OQ_Bedroom.zip\n",
      "3FO4JQ546RVC_Bedroom.zip\n",
      "3FO4JQ545CPW_Guest_room.zip\n",
      "3FO4JQ545CPW_Bedroom.zip\n",
      "3FO4JQ544OBP_Guest_room.zip\n",
      "3FO4JQ544OBP_Bedroom.zip\n",
      "3FO4JQ4N6AJP_Guest_room.zip\n",
      "3FO4JQ4N6AJP_Bedroom.zip\n",
      "3FO4JQ4MV9GP_Bedroom.zip\n",
      "3FO4JQ47IL9W_Bedroom.zip\n",
      "3FO4JQ3Y8QK8_Guest_room.zip\n",
      "3FO4JQ3Y8QK8_Bedroom.zip\n",
      "3FO4JQ3UYKV3_Guest_room.zip\n",
      "3FO4JQ3U8OQC_Guest_room.zip\n",
      "3FO4JQ3U8OQC_Bedroom.zip\n",
      "3FO4JQ3NQBSC_Guest_room.zip\n",
      "3FO4JQ3NQBSC_Bedroom.zip\n",
      "3FO4JQ3NOBKQ_Guest_room.zip\n",
      "3FO4JQ3NOBKQ_Bedroom.zip\n",
      "3FO4JQ3LQAVE_Bedroom.zip\n",
      "3FO4JQ3I5UMV_Guest_room.zip\n",
      "3FO4JQ3I5UMV_Bedroom.zip\n",
      "3FO4JQ2EMBCK_Guest_room.zip\n",
      "3FO4JQ2EMBCK_Bedroom.zip\n",
      "3FO4JQ24R2BB_Bedroom.zip\n",
      "3FO4JQ1KYL5O_Bedroom.zip\n",
      "3FO4JQ1KEWCS_Bedroom.zip\n",
      "3FO4JQ0KPKWM_Guest_room.zip\n",
      "3FO4JQ0KPKWM_Bedroom.zip\n",
      "3FO4JQ0EJ0SU_Guest_room.zip\n",
      "3FO4JQ0EJ0SU_Bedroom.zip\n",
      "3FO4JQ0DRMXY_Living_room.zip\n",
      "3FO4JQ0DRMXY_Guest_room.zip\n",
      "3FO4JQ0DRMXY_Dining_room.zip\n",
      "3FO4JQ0DRMXY_Bedroom.zip\n",
      "3FO4JQ0AA31B_Bedroom.zip\n",
      "3FO4JPYL0OFA_Guest_room.zip\n",
      "3FO4JPYL0OFA_Bedroom.zip\n",
      "3FO4JPYJM96S_Guest_room.zip\n",
      "3FO4JPYJM96S_Bedroom.zip\n",
      "3FO4JPYELGT8_Guest_room.zip\n",
      "3FO4JPYAIGCG_Bedroom.zip\n",
      "3FO4JPY9LMVX_Guest_room.zip\n",
      "3FO4JPY9LMVX_Bedroom.zip\n",
      "3FO4JPVYDMB5_Bedroom.zip\n",
      "3FO4JPVJMD3Q_Guest_room.zip\n",
      "3FO4JPVJMD3Q_Bedroom.zip\n",
      "3FO4JPVG2YMJ_Guest_room.zip\n",
      "3FO4JPVG2YMJ_Bedroom.zip\n",
      "3FO4JPV2132F_Living_room.zip\n",
      "3FO4JPUORSDC_Guest_room.zip\n",
      "3FO4JPUORSDC_Bedroom.zip\n",
      "3FO4JPUM78K9_Guest_room.zip\n",
      "3FO4JPUM78K9_Bedroom.zip\n",
      "3FO4JPUD3PR0_Bedroom.zip\n",
      "3FO4JPTVMU3R_Guest_room.zip\n",
      "3FO4JPTVMU3R_Bedroom.zip\n",
      "3FO4JPTOSJ77_Guest_room.zip\n",
      "3FO4JPTOSJ77_Bedroom.zip\n",
      "3FO4JPTFBJWW_Guest_room.zip\n",
      "3FO4JPTFBJWW_Bedroom.zip\n",
      "3FO4JPT9F496_Guest_room.zip\n",
      "3FO4JPT9F496_Bedroom.zip\n",
      "3FO4JPT5B5C4_Guest_room.zip\n",
      "3FO4JPT5B5C4_Bedroom.zip\n",
      "3FO4JPT59LTN_Bedroom.zip\n",
      "3FO4JPT57IA1_Guest_room.zip\n",
      "3FO4JPT57IA1_Bedroom.zip\n",
      "3FO4JPT56TUT_Guest_room.zip\n",
      "3FO4JPSKP12W_Guest_room.zip\n",
      "3FO4JPSKP12W_Bedroom.zip\n",
      "3FO4JPSDTA0W_Guest_room.zip\n",
      "3FO4JPSDTA0W_Bedroom.zip\n",
      "3FO4JPS23UL6_Guest_room.zip\n",
      "3FO4JPS23UL6_Bedroom.zip\n",
      "3FO4JPRJK5TM_Guest_room.zip\n",
      "3FO4JPRJK5TM_Bedroom.zip\n",
      "3FO4JPRFMRMJ_Living_room.zip\n",
      "3FO4JPRFMRMJ_Bedroom.zip\n",
      "3FO4JPRFCJUH_Living_room.zip\n",
      "3FO4JPRFCJUH_Guest_room.zip\n",
      "3FO4JPRFCJUH_Dining_room.zip\n",
      "3FO4JPRFCJUH_Bedroom.zip\n",
      "3FO4JPRA3JXG_Guest_room.zip\n",
      "3FO4JPRA3JXG_Bedroom.zip\n",
      "3FO4JPQQMQPB_Bedroom.zip\n",
      "3FO4JPP3W4O0_Guest_room.zip\n",
      "3FO4JPP3W4O0_Bedroom.zip\n",
      "3FO4JPNFJPA6_Guest_room.zip\n",
      "3FO4JPNFJPA6_Bedroom.zip\n",
      "3FO4JPMQXFU2_Guest_room.zip\n",
      "3FO4JPMQXFU2_Bedroom.zip\n",
      "3FO4JPMP107V_Guest_room.zip\n",
      "3FO4JPMP107V_Bedroom.zip\n",
      "3FO4JPKS1LGQ_Guest_room.zip\n",
      "3FO4JPKS1LGQ_Bedroom.zip\n",
      "3FO4JPKQCXG7_Guest_room.zip\n",
      "3FO4JPK7V03P_Guest_room.zip\n",
      "3FO4JPK7V03P_Bedroom.zip\n",
      "3FO4JPJJY3AV_Living_room.zip\n",
      "3FO4JPIUYPRU_Guest_room.zip\n",
      "3FO4JPIUYPRU_Bedroom.zip\n",
      "3FO4JPINV27H_Guest_room.zip\n",
      "3FO4JPINV27H_Bedroom.zip\n",
      "3FO4JPI0JW7E_Guest_room.zip\n",
      "3FO4JPI0JW7E_Bedroom.zip\n",
      "3FO4JPHPBK38_Living_room.zip\n",
      "3FO4JPHPBK38_Guest_room.zip\n",
      "3FO4JPHPBK38_Dining_room.zip\n",
      "3FO4JPHPBK38_Bedroom.zip\n",
      "3FO4JPHJ6LSX_Guest_room.zip\n",
      "3FO4JPD2HBJQ_Guest_room.zip\n",
      "3FO4JPA0H16M_Bedroom.zip\n",
      "3FO4JP7HTCH6_Guest_room.zip\n",
      "3FO4JOXUTF40_Bedroom.zip\n",
      "3FO4JOQ5PVVP_Guest_room.zip\n",
      "3FO4JOH074AH_Bedroom.zip\n",
      "3FO4JOFU3WET_Bedroom.zip\n",
      "3FO4JOA8S22X_Bedroom.zip\n",
      "3FO4JO8P5SVI_Bedroom.zip\n",
      "3FO4JNYSRWO9_Bedroom.zip\n",
      "3FO4JNQIO5CJ_Guest_room.zip\n",
      "3FO4JNHQAT91_Guest_room.zip\n",
      "3FO4JMYDFR9V_Bedroom.zip\n",
      "3FO4JPH4JGDR_Living_room.zip\n",
      "3FO4JPH4JGDR_Guest_room.zip\n",
      "3FO4JPH4JGDR_Bedroom.zip\n",
      "3FO4JPGHR3UR_Bedroom.zip\n",
      "3FO4JPG57QBD_Bedroom.zip\n",
      "3FO4JPENX5EN_Guest_room.zip\n",
      "3FO4JPENX5EN_Bedroom.zip\n",
      "3FO4JPEHOK3A_Guest_room.zip\n",
      "3FO4JPEHOK3A_Bedroom.zip\n",
      "3FO4JPECA18L_Living_room.zip\n",
      "3FO4JPECA18L_Dining_room.zip\n",
      "3FO4JPECA18L_Bedroom.zip\n",
      "3FO4JPE4YDK5_Guest_room.zip\n",
      "3FO4JPE4YDK5_Bedroom.zip\n",
      "3FO4JPE4WQPN_Guest_room.zip\n",
      "3FO4JPE4WQPN_Bedroom.zip\n",
      "3FO4JPE08C9H_Living_room.zip\n",
      "3FO4JPDWIH04_Guest_room.zip\n",
      "3FO4JPDWIH04_Bedroom.zip\n",
      "3FO4JPDKHQGA_Guest_room.zip\n",
      "3FO4JPDK9FJS_Bedroom.zip\n",
      "3FO4JPDINMU4_Guest_room.zip\n",
      "3FO4JPDINMU4_Bedroom.zip\n",
      "3FO4JPDGHB9A_Bedroom.zip\n",
      "3FO4JPDAGDF7_Bedroom.zip\n",
      "3FO4JPDAA2QB_Bedroom.zip\n",
      "3FO4JPDA050C_Bedroom.zip\n",
      "3FO4JPD7DVS2_Bedroom.zip\n",
      "3FO4JPD2HBJQ_Bedroom.zip\n",
      "3FO4JPCF48GJ_Guest_room.zip\n",
      "3FO4JPCF48GJ_Bedroom.zip\n",
      "3FO4JPB7LAQJ_Living_room.zip\n",
      "3FO4JPB7LAQJ_Guest_room.zip\n",
      "3FO4JPB7LAQJ_Bedroom.zip\n",
      "3FO4JPAXUYD8_Bedroom.zip\n",
      "3FO4JPAX0OF6_Bedroom.zip\n",
      "3FO4JPAW5RU8_Bedroom.zip\n",
      "3FO4JPACGSA6_Bedroom.zip\n",
      "3FO4JPAAFC7S_Bedroom.zip\n",
      "3FO4JPAA25RU_Bedroom.zip\n",
      "3FO4JPA1VS8I_Bedroom.zip\n",
      "3FO4JPA14DLB_Bedroom.zip\n",
      "3FO4JP9X8YEA_Bedroom.zip\n",
      "3FO4JP9T68XL_Bedroom.zip\n",
      "3FO4JP9QRGJJ_Guest_room.zip\n",
      "3FO4JP9QRGJJ_Bedroom.zip\n",
      "3FO4JP9M1SM0_Living_room.zip\n",
      "3FO4JP9M1SM0_Guest_room.zip\n",
      "3FO4JP9M1SM0_Dining_room.zip\n",
      "3FO4JP9M1SM0_Bedroom.zip\n",
      "3FO4JP9M0A4J_Guest_room.zip\n",
      "3FO4JP9M0A4J_Bedroom.zip\n",
      "3FO4JP9LDOG3_Guest_room.zip\n",
      "3FO4JP9LDOG3_Bedroom.zip\n",
      "3FO4JP97XNKI_Bedroom.zip\n",
      "3FO4JP96OSTE_Bedroom.zip\n",
      "3FO4JP7HTCH6_Bedroom.zip\n",
      "3FO4JP548J55_Living_room.zip\n",
      "3FO4JP548J55_Guest_room.zip\n",
      "3FO4JP548J55_Bedroom.zip\n",
      "3FO4JP478171_Guest_room.zip\n",
      "3FO4JP478171_Bedroom.zip\n",
      "3FO4JP33R5II_Living_room.zip\n",
      "3FO4JP33R5II_Guest_room.zip\n",
      "3FO4JP33R5II_Bedroom.zip\n",
      "3FO4JP308C4H_Living_room.zip\n",
      "3FO4JP308C4H_Guest_room.zip\n",
      "3FO4JP308C4H_Bedroom.zip\n",
      "3FO4JOYANGA8_Guest_room.zip\n",
      "3FO4JOYANGA8_Bedroom.zip\n",
      "3FO4JOXKWPWB_Guest_room.zip\n",
      "3FO4JOXKWPWB_Bedroom.zip\n",
      "3FO4JOXKBBWW_Guest_room.zip\n",
      "3FO4JOXKBBWW_Bedroom.zip\n",
      "3FO4JOX2DDY4_Bedroom.zip\n",
      "3FO4JOWWWR4K_Bedroom.zip\n",
      "3FO4JOTGCEUW_Guest_room.zip\n",
      "3FO4JOTGCEUW_Bedroom.zip\n",
      "3FO4JOSO9C9D_Guest_room.zip\n",
      "3FO4JOSO9C9D_Bedroom.zip\n",
      "3FO4JOSI6Y9U_Guest_room.zip\n",
      "3FO4JOSI6Y9U_Bedroom.zip\n",
      "3FO4JORMX9O8_Guest_room.zip\n",
      "3FO4JORMX9O8_Bedroom.zip\n",
      "3FO4JOQ5PVVP_Bedroom.zip\n",
      "3FO4JOPLT8LT_Guest_room.zip\n",
      "3FO4JOPLT8LT_Bedroom.zip\n",
      "3FO4JOPL96FT_Living_room.zip\n",
      "3FO4JOPL96FT_Guest_room.zip\n",
      "3FO4JOPL96FT_Bedroom.zip\n",
      "3FO4JOOPIXE9_Living_room.zip\n",
      "3FO4JOOPIXE9_Bedroom.zip\n",
      "3FO4JONJLP1W_Guest_room.zip\n",
      "3FO4JONJLP1W_Bedroom.zip\n",
      "3FO4JOJKY9TO_Guest_room.zip\n",
      "3FO4JOJKY9TO_Bedroom.zip\n",
      "3FO4JOHLM24R_Bedroom.zip\n",
      "3FO4JOH074AH_Guest_room.zip\n",
      "3FO4JOH0542V_Guest_room.zip\n",
      "3FO4JOH0542V_Bedroom.zip\n",
      "3FO4JOFVM1HP_Guest_room.zip\n",
      "3FO4JOFVM1HP_Bedroom.zip\n",
      "3FO4JOFUVM34_Living_room.zip\n",
      "3FO4JOFUVM34_Guest_room.zip\n",
      "3FO4JOFUVM34_Dining_room.zip\n",
      "3FO4JOFUVM34_Bedroom.zip\n",
      "3FO4JOFUQD6J_Bedroom.zip\n",
      "3FO4JOFUBQL6_Guest_room.zip\n",
      "3FO4JOFUBQL6_Bedroom.zip\n",
      "3FO4JOFU92YD_Guest_room.zip\n",
      "3FO4JOFU92YD_Bedroom.zip\n",
      "3FO4JOFU3WET_Guest_room.zip\n",
      "3FO4JOFTVGLL_Guest_room.zip\n",
      "3FO4JOFTVGLL_Bedroom.zip\n",
      "3FO4JOBR4AQ3_Guest_room.zip\n",
      "3FO4JOBR4AQ3_Bedroom.zip\n",
      "3FO4JOBGUU9V_Guest_room.zip\n",
      "3FO4JOBGUU9V_Bedroom.zip\n",
      "3FO4JOB6SPHK_Guest_room.zip\n",
      "3FO4JOB6SPHK_Bedroom.zip\n",
      "3FO4JOB0QPV6_Guest_room.zip\n",
      "3FO4JOB0QPV6_Bedroom.zip\n",
      "3FO4JOAYO04V_Bedroom.zip\n",
      "3FO4JOAOOWCH_Guest_room.zip\n",
      "3FO4JOAOOWCH_Bedroom.zip\n",
      "3FO4JOA8S22X_Guest_room.zip\n",
      "3FO4JOA8QLWI_Guest_room.zip\n",
      "3FO4JOA8QLWI_Bedroom.zip\n",
      "3FO4JOA8OICV_Guest_room.zip\n",
      "3FO4JOA8OICV_Bedroom.zip\n",
      "3FO4JOA8NTXO_Guest_room.zip\n",
      "3FO4JOA8NTXO_Bedroom.zip\n",
      "3FO4JO9UMDV6_Guest_room.zip\n",
      "3FO4JO9UMDV6_Bedroom.zip\n",
      "3FO4JO9UJIKB_Bedroom.zip\n",
      "3FO4JO9UFBG2_Guest_room.zip\n",
      "3FO4JO9UFBG2_Bedroom.zip\n",
      "3FO4JO8PQMSQ_Guest_room.zip\n",
      "3FO4JO8PQMSQ_Bedroom.zip\n",
      "3FO4JO8P5SVI_Guest_room.zip\n",
      "3FO4JO8P359P_Bedroom.zip\n",
      "3FO4JO8D7NMG_Guest_room.zip\n",
      "3FO4JO8D7NMG_Bedroom.zip\n",
      "3FO4JO8B7WQL_Living_room.zip\n",
      "3FO4JO6F2XU9_Guest_room.zip\n",
      "3FO4JO6F2XU9_Bedroom.zip\n",
      "3FO4JO4D0HHU_Living_room.zip\n",
      "3FO4JO4D0HHU_Guest_room.zip\n",
      "3FO4JO4D0HHU_Bedroom.zip\n",
      "3FO4JO1VBCFF_Guest_room.zip\n",
      "3FO4JO1VBCFF_Bedroom.zip\n",
      "3FO4JO1ANJ79_Guest_room.zip\n",
      "3FO4JO1ANJ79_Bedroom.zip\n",
      "3FO4JNYSRWO9_Guest_room.zip\n",
      "3FO4JNYLUQGT_Guest_room.zip\n",
      "3FO4JNYLUQGT_Bedroom.zip\n",
      "3FO4JNSW6IBJ_Guest_room.zip\n",
      "3FO4JNSW6IBJ_Bedroom.zip\n",
      "3FO4JNSW5JV9_Guest_room.zip\n",
      "3FO4JNSW5JV9_Bedroom.zip\n",
      "3FO4JNSW24I8_Guest_room.zip\n",
      "3FO4JNSW24I8_Bedroom.zip\n",
      "3FO4JNSVWT1X_Guest_room.zip\n",
      "3FO4JNSVWT1X_Bedroom.zip\n",
      "3FO4JNS5X5KV_Bedroom.zip\n",
      "3FO4JNRGV4G2_Living_room.zip\n",
      "3FO4JNRGV4G2_Dining_room.zip\n",
      "3FO4JNQIO5CJ_Living_room.zip\n",
      "3FO4JNQIO5CJ_Bedroom.zip\n",
      "3FO4JNQ2DF8U_Guest_room.zip\n",
      "3FO4JNQ2DF8U_Bedroom.zip\n",
      "3FO4JNPSCRQG_Living_room.zip\n",
      "3FO4JNPSCRQG_Guest_room.zip\n",
      "3FO4JNPSCRQG_Bedroom.zip\n",
      "3FO4JNPPA138_Guest_room.zip\n",
      "3FO4JNPPA138_Bedroom.zip\n",
      "3FO4JNLTE6BV_Guest_room.zip\n",
      "3FO4JNLTE6BV_Bedroom.zip\n",
      "3FO4JNLIY8HQ_Guest_room.zip\n",
      "3FO4JNLIY8HQ_Bedroom.zip\n",
      "3FO4JNJ4BJHO_Guest_room.zip\n",
      "3FO4JNJ4BJHO_Bedroom.zip\n",
      "3FO4JNHQAT91_Bedroom.zip\n",
      "3FO4JNCQRLG8_Guest_room.zip\n",
      "3FO4JNCQRLG8_Bedroom.zip\n",
      "3FO4JNC0AWT3_Guest_room.zip\n",
      "3FO4JNC0AWT3_Bedroom.zip\n",
      "3FO4JN6Q0BAV_Bedroom.zip\n",
      "3FO4JN68NNYG_Guest_room.zip\n",
      "3FO4JN68NNYG_Bedroom.zip\n",
      "3FO4JN5THNM4_Guest_room.zip\n",
      "3FO4JN5THNM4_Bedroom.zip\n",
      "3FO4JN18D4VH_Living_room.zip\n",
      "3FO4JN18D4VH_Guest_room.zip\n",
      "3FO4JN18D4VH_Bedroom.zip\n",
      "3FO4JMYDFR9V_Guest_room.zip\n",
      "3FO4JM8U7LSX_Guest_room.zip\n",
      "3FO4JM2W4IIR_Bedroom.zip\n",
      "3FO4JM2UUXSQ_Bedroom.zip\n",
      "3FO4JM2SYTYY_Guest_room.zip\n",
      "3FO4JM2S7M1T_Bedroom.zip\n",
      "3FO4JM1W32FY_Bedroom.zip\n",
      "3FO4JM1TCW5I_Bedroom.zip\n",
      "3FO4JM1S7B3D_Guest_room.zip\n",
      "3FO4JM1PXUWW_Bedroom.zip\n",
      "3FO4JLVV0R50_Guest_room.zip\n",
      "3FO4JLFXP7LF_Guest_room.zip\n",
      "3FO4JLFIKUB4_Bedroom.zip\n",
      "3FO4JLFI9HEP_Guest_room.zip\n",
      "3FO4JMVJ7D03_Guest_room.zip\n",
      "3FO4JMVJ7D03_Bedroom.zip\n",
      "3FO4JMVISBGV_Guest_room.zip\n",
      "3FO4JMVISBGV_Bedroom.zip\n",
      "3FO4JMVHWTTR_Guest_room.zip\n",
      "3FO4JMVHWTTR_Bedroom.zip\n",
      "3FO4JMVB9MX1_Guest_room.zip\n",
      "3FO4JMVB9MX1_Bedroom.zip\n",
      "3FO4JMSGTJL8_Living_room.zip\n",
      "3FO4JMSGTJL8_Dining_room.zip\n",
      "3FO4JMSGTJL8_Bedroom.zip\n",
      "3FO4JMS717FJ_Bedroom.zip\n",
      "3FO4JMLAHWHE_Bedroom.zip\n",
      "3FO4JMJY1D3X_Living_room.zip\n",
      "3FO4JMJY1D3X_Dining_room.zip\n",
      "3FO4JMJY1D3X_Bedroom.zip\n",
      "3FO4JMIUNWSG_Guest_room.zip\n",
      "3FO4JMIUNWSG_Bedroom.zip\n",
      "3FO4JMHJYYQ9_Guest_room.zip\n",
      "3FO4JMHJYYQ9_Bedroom.zip\n",
      "3FO4JMF8FFRJ_Living_room.zip\n",
      "3FO4JMF8FFRJ_Guest_room.zip\n",
      "3FO4JMF8FFRJ_Dining_room.zip\n",
      "3FO4JMF8FFRJ_Bedroom.zip\n",
      "3FO4JMBW1S78_Living_room.zip\n",
      "3FO4JMBW1S78_Guest_room.zip\n",
      "3FO4JMBW1S78_Dining_room.zip\n",
      "3FO4JMBW1S78_Bedroom.zip\n",
      "3FO4JM8U7LSX_Bedroom.zip\n",
      "3FO4JM8U6QPO_Guest_room.zip\n",
      "3FO4JM8U6QPO_Bedroom.zip\n",
      "3FO4JM8IB02C_Bedroom.zip\n",
      "3FO4JM7RE3K4_Guest_room.zip\n",
      "3FO4JM7RE3K4_Bedroom.zip\n",
      "3FO4JM43R2XO_Living_room.zip\n",
      "3FO4JM43R2XO_Guest_room.zip\n",
      "3FO4JM43R2XO_Bedroom.zip\n",
      "3FO4JM2XP4JE_Bedroom.zip\n",
      "3FO4JM2WT675_Living_room.zip\n",
      "3FO4JM2WT675_Bedroom.zip\n",
      "3FO4JM2WG348_Guest_room.zip\n",
      "3FO4JM2WG348_Bedroom.zip\n",
      "3FO4JM2W36PD_Guest_room.zip\n",
      "3FO4JM2W36PD_Bedroom.zip\n",
      "3FO4JM2VK4QY_Bedroom.zip\n",
      "3FO4JM2VI4JD_Guest_room.zip\n",
      "3FO4JM2VI4JD_Bedroom.zip\n",
      "3FO4JM2VEO6C_Guest_room.zip\n",
      "3FO4JM2V585I_Guest_room.zip\n",
      "3FO4JM2V585I_Bedroom.zip\n",
      "3FO4JM2UYATQ_Guest_room.zip\n",
      "3FO4JM2UYATQ_Bedroom.zip\n",
      "3FO4JM2UX2DD_Bedroom.zip\n",
      "3FO4JM2UWUOB_Guest_room.zip\n",
      "3FO4JM2UWUOB_Bedroom.zip\n",
      "3FO4JM2UUXSQ_Guest_room.zip\n",
      "3FO4JM2ULEFV_Living_room.zip\n",
      "3FO4JM2ULEFV_Bedroom.zip\n",
      "3FO4JM2UCF57_Living_room.zip\n",
      "3FO4JM2UCF57_Guest_room.zip\n",
      "3FO4JM2UCF57_Bedroom.zip\n",
      "3FO4JM2TXUC5_Guest_room.zip\n",
      "3FO4JM2TXUC5_Bedroom.zip\n",
      "3FO4JM2TTQJW_Guest_room.zip\n",
      "3FO4JM2TTQJW_Bedroom.zip\n",
      "3FO4JM2TKKK6_Guest_room.zip\n",
      "3FO4JM2TKKK6_Dining_room.zip\n",
      "3FO4JM2TKKK6_Bedroom.zip\n",
      "3FO4JM2TDBG0_Guest_room.zip\n",
      "3FO4JM2TDBG0_Bedroom.zip\n",
      "3FO4JM2SYTYY_Bedroom.zip\n",
      "3FO4JM2SX1GF_Guest_room.zip\n",
      "3FO4JM2SX1GF_Bedroom.zip\n",
      "3FO4JM2SVLB0_Guest_room.zip\n",
      "3FO4JM2SVLB0_Bedroom.zip\n",
      "3FO4JM2SOFIU_Guest_room.zip\n",
      "3FO4JM2SOFIU_Bedroom.zip\n",
      "3FO4JM2SGBBF_Living_room.zip\n",
      "3FO4JM2SGBBF_Guest_room.zip\n",
      "3FO4JM2SGBBF_Bedroom.zip\n",
      "3FO4JM2SFG86_Guest_room.zip\n",
      "3FO4JM2SFG86_Bedroom.zip\n",
      "3FO4JM2SEB3T_Bedroom.zip\n",
      "3FO4JM2S7M1T_Guest_room.zip\n",
      "3FO4JM2S2D59_Guest_room.zip\n",
      "3FO4JM2S2D59_Bedroom.zip\n",
      "3FO4JM24L99O_Living_room.zip\n",
      "3FO4JM24L99O_Guest_room.zip\n",
      "3FO4JM24L99O_Bedroom.zip\n",
      "3FO4JM24KE6F_Guest_room.zip\n",
      "3FO4JM24KE6F_Bedroom.zip\n",
      "3FO4JM24H25F_Guest_room.zip\n",
      "3FO4JM24H25F_Bedroom.zip\n",
      "3FO4JM1W4KXF_Guest_room.zip\n",
      "3FO4JM1W4KXF_Bedroom.zip\n",
      "3FO4JM1W35S0_Guest_room.zip\n",
      "3FO4JM1W35S0_Bedroom.zip\n",
      "3FO4JM1W32FY_Guest_room.zip\n",
      "3FO4JM1VPWSC_Guest_room.zip\n",
      "3FO4JM1VPWSC_Bedroom.zip\n",
      "3FO4JM1V690G_Bedroom.zip\n",
      "3FO4JM1UX852_Living_room.zip\n",
      "3FO4JM1UX852_Guest_room.zip\n",
      "3FO4JM1UX852_Bedroom.zip\n",
      "3FO4JM1UC46Q_Guest_room.zip\n",
      "3FO4JM1UC46Q_Bedroom.zip\n",
      "3FO4JM1U8NSP_Guest_room.zip\n",
      "3FO4JM1U8NSP_Bedroom.zip\n",
      "3FO4JM1TUHDR_Bedroom.zip\n",
      "3FO4JM1TS753_Bedroom.zip\n",
      "3FO4JM1TPP7C_Guest_room.zip\n",
      "3FO4JM1TPP7C_Bedroom.zip\n",
      "3FO4JM1SY5NE_Guest_room.zip\n",
      "3FO4JM1SY5NE_Bedroom.zip\n",
      "3FO4JM1SY2BD_Guest_room.zip\n",
      "3FO4JM1SY2BD_Bedroom.zip\n",
      "3FO4JM1SV0BG_Guest_room.zip\n",
      "3FO4JM1SV0BG_Bedroom.zip\n",
      "3FO4JM1ST6RW_Bedroom.zip\n",
      "3FO4JM1SINYR_Guest_room.zip\n",
      "3FO4JM1SINYR_Dining_room.zip\n",
      "3FO4JM1SINYR_Bedroom.zip\n",
      "3FO4JM1S9I01_Bedroom.zip\n",
      "3FO4JM1S8Q8S_Living_room.zip\n",
      "3FO4JM1S8Q8S_Dining_room.zip\n",
      "3FO4JM1S8Q8S_Bedroom.zip\n",
      "3FO4JM1S7B3D_Bedroom.zip\n",
      "3FO4JM1RV882_Guest_room.zip\n",
      "3FO4JM1RV882_Bedroom.zip\n",
      "3FO4JM1RUJSU_Guest_room.zip\n",
      "3FO4JM1RUJSU_Bedroom.zip\n",
      "3FO4JM1RT1BE_Bedroom.zip\n",
      "3FO4JM1RR13S_Bedroom.zip\n",
      "3FO4JM1RPYBH_Bedroom.zip\n",
      "3FO4JM1QYBFI_Guest_room.zip\n",
      "3FO4JM1QYBFI_Bedroom.zip\n",
      "3FO4JM1QM6RV_Bedroom.zip\n",
      "3FO4JM1QLIDO_Living_room.zip\n",
      "3FO4JM1QLIDO_Guest_room.zip\n",
      "3FO4JM1QLIDO_Bedroom.zip\n",
      "3FO4JM1NIDCC_Living_room.zip\n",
      "3FO4JM0N7CVO_Guest_room.zip\n",
      "3FO4JM0N7CVO_Bedroom.zip\n",
      "3FO4JM0N5CO3_Guest_room.zip\n",
      "3FO4JM0N5CO3_Bedroom.zip\n",
      "3FO4JM0M8J8K_Guest_room.zip\n",
      "3FO4JM0M8J8K_Bedroom.zip\n",
      "3FO4JLYVIBSC_Guest_room.zip\n",
      "3FO4JLYVIBSC_Bedroom.zip\n",
      "3FO4JLYR56VJ_Guest_room.zip\n",
      "3FO4JLWSQL5O_Bedroom.zip\n",
      "3FO4JLVV0UH1_Guest_room.zip\n",
      "3FO4JLVV0UH1_Bedroom.zip\n",
      "3FO4JLVV0R50_Living_room.zip\n",
      "3FO4JLVV0R50_Bedroom.zip\n",
      "3FO4JLSV7QS0_Living_room.zip\n",
      "3FO4JLN9MC39_Guest_room.zip\n",
      "3FO4JLJOP5IN_Guest_room.zip\n",
      "3FO4JLJOP5IN_Bedroom.zip\n",
      "3FO4JLJDJ1IO_Bedroom.zip\n",
      "3FO4JLID5947_Guest_room.zip\n",
      "3FO4JLID5947_Bedroom.zip\n",
      "3FO4JLGV4H1N_Living_room.zip\n",
      "3FO4JLGV4H1N_Guest_room.zip\n",
      "3FO4JLGV4H1N_Dining_room.zip\n",
      "3FO4JLGV4H1N_Bedroom.zip\n",
      "3FO4JLGD7HI5_Guest_room.zip\n",
      "3FO4JLGD7HI5_Bedroom.zip\n",
      "3FO4JLFXP7LF_Bedroom.zip\n",
      "3FO4JLFN5O9W_Living_room.zip\n",
      "3FO4JLFN5O9W_Guest_room.zip\n",
      "3FO4JLFN5O9W_Dining_room.zip\n",
      "3FO4JLFN5O9W_Bedroom.zip\n",
      "3FO4JLFJ7CMJ_Bedroom.zip\n",
      "3FO4JLFIPFSH_Guest_room.zip\n",
      "3FO4JLFIPFSH_Bedroom.zip\n",
      "3FO4JLFIOY3C_Bedroom.zip\n",
      "3FO4JLFIM0FG_Bedroom.zip\n",
      "3FO4JLFILPED_Living_room.zip\n",
      "3FO4JLFILPED_Dining_room.zip\n",
      "3FO4JLFILPED_Bedroom.zip\n",
      "3FO4JLFIKUB4_Guest_room.zip\n",
      "3FO4JLFIJSIS_Guest_room.zip\n",
      "3FO4JLFIJSIS_Bedroom.zip\n",
      "3FO4JLFIGQIV_Guest_room.zip\n",
      "3FO4JLFIGQIV_Bedroom.zip\n",
      "3FO4JLFIFS3L_Bedroom.zip\n",
      "3FO4JLFIF1CD_Guest_room.zip\n",
      "3FO4JLFIF1CD_Bedroom.zip\n",
      "3FO4JLFIDHTW_Guest_room.zip\n",
      "3FO4JLFIDHTW_Bedroom.zip\n",
      "3FO4JLFICG2L_Bedroom.zip\n",
      "3FO4JLFIBEAA_Guest_room.zip\n",
      "3FO4JLFIBEAA_Bedroom.zip\n"
     ]
    },
    {
     "name": "stdout",
     "output_type": "stream",
     "text": [
      "3FO4JLFIAJ71_Guest_room.zip\n",
      "3FO4JLFIAJ71_Bedroom.zip\n",
      "3FO4JLDD5L7H_Bedroom.zip\n",
      "3FO4JL3IYO2V_Living_room.zip\n",
      "3FO4JKMXTIWJ_Bedroom.zip\n",
      "3FO4JKF9A7S0_Guest_room.zip\n",
      "3FO4JKC0NCCM_Guest_room.zip\n",
      "3FO4JK90CNFC_Guest_room.zip\n",
      "3FO4JK71CUE5_Bedroom.zip\n",
      "3FO4JK146DUF_Guest_room.zip\n",
      "3FO4JJW3QU9M_Bedroom.zip\n",
      "3FO4JJV0WNLL_Guest_room.zip\n",
      "3FO4JJS5JLOX_Bedroom.zip\n",
      "3FO4JJPL37RF_Guest_room.zip\n",
      "3FO4JJL8NW33_Bedroom.zip\n",
      "3FO4JLFI9HEP_Bedroom.zip\n",
      "3FO4JLFI70GY_Guest_room.zip\n",
      "3FO4JLFI70GY_Bedroom.zip\n",
      "3FO4JLFI68PQ_Guest_room.zip\n",
      "3FO4JLFI68PQ_Bedroom.zip\n",
      "3FO4JLFHTRHB_Bedroom.zip\n",
      "3FO4JLFHST21_Guest_room.zip\n",
      "3FO4JLFHST21_Bedroom.zip\n",
      "3FO4JLFHQM5D_Guest_room.zip\n",
      "3FO4JLFHQM5D_Bedroom.zip\n",
      "3FO4JLDDN33P_Guest_room.zip\n",
      "3FO4JLDDN33P_Bedroom.zip\n",
      "3FO4JLDDLQAB_Guest_room.zip\n",
      "3FO4JLDDLQAB_Bedroom.zip\n",
      "3FO4JLDDJTEQ_Bedroom.zip\n",
      "3FO4JLDDJQ2P_Guest_room.zip\n",
      "3FO4JLDDJQ2P_Bedroom.zip\n",
      "3FO4JLDDJ60J_Guest_room.zip\n",
      "3FO4JLDDJ60J_Bedroom.zip\n",
      "3FO4JLDDIKXD_Guest_room.zip\n",
      "3FO4JLDDIKXD_Bedroom.zip\n",
      "3FO4JLDDHT75_Guest_room.zip\n",
      "3FO4JLDDHT75_Bedroom.zip\n",
      "3FO4JLDDGUQU_Guest_room.zip\n",
      "3FO4JLDDGUQU_Bedroom.zip\n",
      "3FO4JLDDG40M_Guest_room.zip\n",
      "3FO4JLDDG40M_Bedroom.zip\n",
      "3FO4JLDDE0G0_Guest_room.zip\n",
      "3FO4JLDD4G35_Bedroom.zip\n",
      "3FO4JLDD2WKO_Guest_room.zip\n",
      "3FO4JLDD2WKO_Bedroom.zip\n",
      "3FO4JLAP5KK0_Living_room.zip\n",
      "3FO4JLAP5KK0_Guest_room.zip\n",
      "3FO4JLAP5KK0_Dining_room.zip\n",
      "3FO4JLAP5KK0_Bedroom.zip\n",
      "3FO4JLAIPRVR_Living_room.zip\n",
      "3FO4JLAIPRVR_Guest_room.zip\n",
      "3FO4JLAIPRVR_Bedroom.zip\n",
      "3FO4JL3JAQX7_Bedroom.zip\n",
      "3FO4JL3J91QO_Bedroom.zip\n",
      "3FO4JL3J2COO_Guest_room.zip\n",
      "3FO4JL3J2COO_Bedroom.zip\n",
      "3FO4JL3IYO2V_Guest_room.zip\n",
      "3FO4JL3IYO2V_Bedroom.zip\n",
      "3FO4JL3IW755_Guest_room.zip\n",
      "3FO4JL3IW755_Bedroom.zip\n",
      "3FO4JL3HB4ED_Guest_room.zip\n",
      "3FO4JL3HB4ED_Bedroom.zip\n",
      "3FO4JL3H6IW0_Bedroom.zip\n",
      "3FO4JKYRIV3W_Guest_room.zip\n",
      "3FO4JKYRIV3W_Bedroom.zip\n",
      "3FO4JKSTXJQ2_Bedroom.zip\n",
      "3FO4JKSBNR5P_Guest_room.zip\n",
      "3FO4JKSBNR5P_Bedroom.zip\n",
      "3FO4JKN9D3SR_Bedroom.zip\n",
      "3FO4JKMXTIWJ_Guest_room.zip\n",
      "3FO4JKMMF0O2_Guest_room.zip\n",
      "3FO4JKMMF0O2_Bedroom.zip\n",
      "3FO4JKMLS4YI_Guest_room.zip\n",
      "3FO4JKMLS4YI_Bedroom.zip\n",
      "3FO4JKLJ67FN_Guest_room.zip\n",
      "3FO4JKLJ67FN_Bedroom.zip\n",
      "3FO4JKHUF9Q2_Guest_room.zip\n",
      "3FO4JKHUF9Q2_Bedroom.zip\n",
      "3FO4JKHUEBAR_Guest_room.zip\n",
      "3FO4JKHUEBAR_Bedroom.zip\n",
      "3FO4JKGUNTQ9_Bedroom.zip\n",
      "3FO4JKFCU9NE_Living_room.zip\n",
      "3FO4JKFCU9NE_Guest_room.zip\n",
      "3FO4JKFCU9NE_Bedroom.zip\n",
      "3FO4JKF9A7S0_Bedroom.zip\n",
      "3FO4JKF3NLI7_Guest_room.zip\n",
      "3FO4JKF3NLI7_Bedroom.zip\n",
      "3FO4JKEN4TBK_Guest_room.zip\n",
      "3FO4JKE4UBRB_Guest_room.zip\n",
      "3FO4JKE4UBRB_Bedroom.zip\n",
      "3FO4JKDV4SOX_Guest_room.zip\n",
      "3FO4JKDPXO3R_Guest_room.zip\n",
      "3FO4JKDPXO3R_Bedroom.zip\n",
      "3FO4JKD2UU06_Living_room.zip\n",
      "3FO4JKD2UU06_Bedroom.zip\n",
      "3FO4JKCQTOUO_Guest_room.zip\n",
      "3FO4JKCQTOUO_Bedroom.zip\n",
      "3FO4JKC0NCCM_Living_room.zip\n",
      "3FO4JKC0NCCM_Bedroom.zip\n",
      "3FO4JKBXYV15_Living_room.zip\n",
      "3FO4JKBXYV15_Dining_room.zip\n",
      "3FO4JKBXYV15_Bedroom.zip\n",
      "3FO4JKBH8UWV_Bedroom.zip\n",
      "3FO4JKBH8HJR_Living_room.zip\n",
      "3FO4JKBH8HJR_Bedroom.zip\n",
      "3FO4JKB8BDRF_Guest_room.zip\n",
      "3FO4JKB8BDRF_Bedroom.zip\n",
      "3FO4JKAJ38MR_Living_room.zip\n",
      "3FO4JKAJ38MR_Guest_room.zip\n",
      "3FO4JKAJ38MR_Bedroom.zip\n",
      "3FO4JK9XPX7Q_Guest_room.zip\n",
      "3FO4JK9XPX7Q_Bedroom.zip\n",
      "3FO4JK90CNFC_Bedroom.zip\n",
      "3FO4JK8BCWJ7_Guest_room.zip\n",
      "3FO4JK8BCWJ7_Bedroom.zip\n",
      "3FO4JK89MTD8_Guest_room.zip\n",
      "3FO4JK89MTD8_Bedroom.zip\n",
      "3FO4JK86C56M_Bedroom.zip\n",
      "3FO4JK85HBXP_Living_room.zip\n",
      "3FO4JK85HBXP_Guest_room.zip\n",
      "3FO4JK85HBXP_Bedroom.zip\n",
      "3FO4JK7NLTP4_Guest_room.zip\n",
      "3FO4JK7NLTP4_Bedroom.zip\n",
      "3FO4JK78YHKV_Bedroom.zip\n",
      "3FO4JK71CUE5_Living_room.zip\n",
      "3FO4JK71CUE5_Guest_room.zip\n",
      "3FO4JK6N8WDV_Guest_room.zip\n",
      "3FO4JK6N8WDV_Bedroom.zip\n",
      "3FO4JK6083HV_Living_room.zip\n",
      "3FO4JK6083HV_Guest_room.zip\n",
      "3FO4JK6083HV_Bedroom.zip\n",
      "3FO4JK5FWXQY_Living_room.zip\n",
      "3FO4JK5FWXQY_Guest_room.zip\n",
      "3FO4JK5FWXQY_Dining_room.zip\n",
      "3FO4JK5FWXQY_Bedroom.zip\n",
      "3FO4JK518S47_Bedroom.zip\n",
      "3FO4JK3E9SXU_Living_room.zip\n",
      "3FO4JK31TQUQ_Living_room.zip\n",
      "3FO4JK31TQUQ_Bedroom.zip\n",
      "3FO4JK2S104E_Living_room.zip\n",
      "3FO4JK146DUF_Bedroom.zip\n",
      "3FO4JK0WW1RT_Guest_room.zip\n",
      "3FO4JK0WW1RT_Bedroom.zip\n",
      "3FO4JJYPNDEL_Guest_room.zip\n",
      "3FO4JJY31YEW_Living_room.zip\n",
      "3FO4JJY31YEW_Guest_room.zip\n",
      "3FO4JJY31YEW_Bedroom.zip\n",
      "3FO4JJWVG8IJ_Living_room.zip\n",
      "3FO4JJWVG8IJ_Guest_room.zip\n",
      "3FO4JJWVG8IJ_Bedroom.zip\n",
      "3FO4JJWVFNGD_Guest_room.zip\n",
      "3FO4JJWVFNGD_Bedroom.zip\n",
      "3FO4JJW3QU9M_Living_room.zip\n",
      "3FO4JJW3QU9M_Guest_room.zip\n",
      "3FO4JJVY4WQ7_Living_room.zip\n",
      "3FO4JJVY4WQ7_Guest_room.zip\n",
      "3FO4JJVY4WQ7_Bedroom.zip\n",
      "3FO4JJVXTOY5_Living_room.zip\n",
      "3FO4JJVXTOY5_Guest_room.zip\n",
      "3FO4JJVXTOY5_Bedroom.zip\n",
      "3FO4JJVLHLIW_Guest_room.zip\n",
      "3FO4JJVLHLIW_Bedroom.zip\n",
      "3FO4JJVIC9KW_Living_room.zip\n",
      "3FO4JJVIC9KW_Guest_room.zip\n",
      "3FO4JJVIC9KW_Bedroom.zip\n",
      "3FO4JJVEWGM3_Guest_room.zip\n",
      "3FO4JJVEWGM3_Bedroom.zip\n",
      "3FO4JJV0WNLL_Living_room.zip\n",
      "3FO4JJV0WNLL_Bedroom.zip\n",
      "3FO4JJUL6RRB_Guest_room.zip\n",
      "3FO4JJUL6RRB_Bedroom.zip\n",
      "3FO4JJUDFXGB_Bedroom.zip\n",
      "3FO4JJTT3IGP_Bedroom.zip\n",
      "3FO4JJTO2MR4_Guest_room.zip\n",
      "3FO4JJTO2MR4_Bedroom.zip\n",
      "3FO4JJTKCC05_Guest_room.zip\n",
      "3FO4JJTKCC05_Bedroom.zip\n",
      "3FO4JJT3CFX8_Bedroom.zip\n",
      "3FO4JJSGNW6D_Bedroom.zip\n",
      "3FO4JJS9Y6R6_Guest_room.zip\n",
      "3FO4JJS9Y6R6_Bedroom.zip\n",
      "3FO4JJS5JLOX_Guest_room.zip\n",
      "3FO4JJRR5FWM_Guest_room.zip\n",
      "3FO4JJRR5FWM_Bedroom.zip\n",
      "3FO4JJRES2GB_Guest_room.zip\n",
      "3FO4JJRES2GB_Bedroom.zip\n",
      "3FO4JJR80GQ9_Guest_room.zip\n",
      "3FO4JJR80GQ9_Bedroom.zip\n",
      "3FO4JJQS0BK7_Guest_room.zip\n",
      "3FO4JJQS0BK7_Bedroom.zip\n",
      "3FO4JJQEYIVV_Bedroom.zip\n",
      "3FO4JJQEF1S2_Living_room.zip\n",
      "3FO4JJQEF1S2_Guest_room.zip\n",
      "3FO4JJQEF1S2_Bedroom.zip\n",
      "3FO4JJPYIPD5_Guest_room.zip\n",
      "3FO4JJPYIPD5_Bedroom.zip\n",
      "3FO4JJPL37RF_Bedroom.zip\n",
      "3FO4JJPL1E8V_Bedroom.zip\n",
      "3FO4JJOO9DVB_Guest_room.zip\n",
      "3FO4JJOO9DVB_Bedroom.zip\n",
      "3FO4JJOCG7HQ_Guest_room.zip\n",
      "3FO4JJOCG7HQ_Bedroom.zip\n",
      "3FO4JJN4HS44_Guest_room.zip\n",
      "3FO4JJN4HS44_Bedroom.zip\n",
      "3FO4JJMTWXIY_Guest_room.zip\n",
      "3FO4JJMTWXIY_Bedroom.zip\n",
      "3FO4JJMBR31S_Bedroom.zip\n",
      "3FO4JJM2T467_Bedroom.zip\n",
      "3FO4JJLF3EP8_Bedroom.zip\n",
      "3FO4JJLAUC0X_Bedroom.zip\n",
      "3FO4JJDP7CB6_Bedroom.zip\n",
      "3FO4JJASU3DA_Bedroom.zip\n",
      "3FO4JJ6VCE4X_Bedroom.zip\n",
      "3FO4JJ23DTIT_Guest_room.zip\n",
      "3FO4JIX4G9VK_Bedroom.zip\n",
      "3FO4JITVLCD9_Guest_room.zip\n",
      "3FO4JIOF3SKP_Bedroom.zip\n",
      "3FO4JIHWFMSN_Bedroom.zip\n",
      "3FO4JIDX503H_Bedroom.zip\n",
      "3FO4JI9EOJV0_Living_room.zip\n",
      "3FO4JI6ITL5A_Bedroom.zip\n",
      "3FO4JHW96Q9Y_Dining_room.zip\n",
      "3FO4JHOYDROU_Bedroom.zip\n",
      "3FO4JJKY4T96_Living_room.zip\n",
      "3FO4JJKY4T96_Guest_room.zip\n",
      "3FO4JJKY4T96_Bedroom.zip\n",
      "3FO4JJKOWV2V_Guest_room.zip\n",
      "3FO4JJKOWV2V_Bedroom.zip\n",
      "3FO4JJKOGMN1_Guest_room.zip\n",
      "3FO4JJKOGMN1_Bedroom.zip\n",
      "3FO4JJKOCFIR_Guest_room.zip\n",
      "3FO4JJKOCFIR_Bedroom.zip\n",
      "3FO4JJJJWG62_Guest_room.zip\n",
      "3FO4JJJJWG62_Bedroom.zip\n",
      "3FO4JJHV4A2I_Guest_room.zip\n",
      "3FO4JJHV4A2I_Bedroom.zip\n",
      "3FO4JJHLYIRV_Guest_room.zip\n",
      "3FO4JJHENYGG_Living_room.zip\n",
      "3FO4JJHENYGG_Guest_room.zip\n",
      "3FO4JJHENYGG_Bedroom.zip\n",
      "3FO4JJGSF8Y1_Guest_room.zip\n",
      "3FO4JJGSF8Y1_Bedroom.zip\n",
      "3FO4JJF4U3PV_Guest_room.zip\n",
      "3FO4JJF4U3PV_Bedroom.zip\n",
      "3FO4JJEWDW4R_Guest_room.zip\n",
      "3FO4JJEWDW4R_Bedroom.zip\n",
      "3FO4JJEHSDJ3_Guest_room.zip\n",
      "3FO4JJEHSDJ3_Bedroom.zip\n",
      "3FO4JJEB0OH0_Guest_room.zip\n",
      "3FO4JJEB0OH0_Bedroom.zip\n",
      "3FO4JJDP7CB6_Guest_room.zip\n",
      "3FO4JJDOHLAR_Guest_room.zip\n",
      "3FO4JJDOHLAR_Bedroom.zip\n",
      "3FO4JJDHRRJJ_Guest_room.zip\n",
      "3FO4JJDHRRJJ_Bedroom.zip\n",
      "3FO4JJDE5M4I_Bedroom.zip\n",
      "3FO4JJD3WDCD_Guest_room.zip\n",
      "3FO4JJD3WDCD_Bedroom.zip\n",
      "3FO4JJCNT9IF_Living_room.zip\n",
      "3FO4JJCNT9IF_Bedroom.zip\n",
      "3FO4JJCLA4UR_Guest_room.zip\n",
      "3FO4JJCLA4UR_Bedroom.zip\n",
      "3FO4JJBKSXUK_Bedroom.zip\n",
      "3FO4JJB2PDM3_Living_room.zip\n",
      "3FO4JJASU3DA_Guest_room.zip\n",
      "3FO4JJABJEH5_Guest_room.zip\n",
      "3FO4JJABJEH5_Bedroom.zip\n",
      "3FO4JJA8WOJP_Living_room.zip\n",
      "3FO4JJA8WOJP_Guest_room.zip\n",
      "3FO4JJA8WOJP_Dining_room.zip\n",
      "3FO4JJA8WOJP_Bedroom.zip\n",
      "3FO4JJA05TNX_Guest_room.zip\n",
      "3FO4JJA05TNX_Bedroom.zip\n",
      "3FO4JJ9NRN8U_Guest_room.zip\n",
      "3FO4JJ9NRN8U_Bedroom.zip\n",
      "3FO4JJ9KANDD_Living_room.zip\n",
      "3FO4JJ9KANDD_Guest_room.zip\n",
      "3FO4JJ9KANDD_Dining_room.zip\n",
      "3FO4JJ7XBRK2_Bedroom.zip\n",
      "3FO4JJ6IQS46_Bedroom.zip\n",
      "3FO4JJ5VPGAH_Guest_room.zip\n",
      "3FO4JJ5VPGAH_Bedroom.zip\n",
      "3FO4JJ45SC6T_Guest_room.zip\n",
      "3FO4JJ45SC6T_Bedroom.zip\n",
      "3FO4JJ3PNOUF_Guest_room.zip\n",
      "3FO4JJ3PNOUF_Bedroom.zip\n",
      "3FO4JJ3LIHH0_Guest_room.zip\n",
      "3FO4JJ3LIHH0_Bedroom.zip\n",
      "3FO4JJ3CUD0C_Guest_room.zip\n",
      "3FO4JJ3CUD0C_Bedroom.zip\n",
      "3FO4JJ3BQXTU_Bedroom.zip\n",
      "3FO4JJ33SR2N_Guest_room.zip\n",
      "3FO4JJ33SR2N_Bedroom.zip\n",
      "3FO4JJ23DTIT_Bedroom.zip\n",
      "3FO4JJ0XFI6M_Guest_room.zip\n",
      "3FO4JJ0XFI6M_Bedroom.zip\n",
      "3FO4JJ0NA1DB_Guest_room.zip\n",
      "3FO4JJ0NA1DB_Bedroom.zip\n",
      "3FO4JJ0MBB28_Guest_room.zip\n",
      "3FO4JJ0MBB28_Bedroom.zip\n",
      "3FO4JJ0J2IQ7_Bedroom.zip\n",
      "3FO4JJ08SVKX_Guest_room.zip\n",
      "3FO4JJ08SVKX_Bedroom.zip\n",
      "3FO4JIYOW4Y1_Living_room.zip\n",
      "3FO4JIYOW4Y1_Guest_room.zip\n",
      "3FO4JIYOW4Y1_Bedroom.zip\n",
      "3FO4JIX4G9VK_Guest_room.zip\n",
      "3FO4JIW4I96S_Living_room.zip\n",
      "3FO4JIW4I96S_Guest_room.zip\n",
      "3FO4JIW4I96S_Bedroom.zip\n",
      "3FO4JIU98NKJ_Bedroom.zip\n",
      "3FO4JITX37YR_Guest_room.zip\n",
      "3FO4JITX37YR_Bedroom.zip\n",
      "3FO4JITWUAGE_Guest_room.zip\n",
      "3FO4JITWUAGE_Bedroom.zip\n",
      "3FO4JITWCF72_Bedroom.zip\n",
      "3FO4JITWASCK_Living_room.zip\n",
      "3FO4JITWASCK_Guest_room.zip\n",
      "3FO4JITWASCK_Dining_room.zip\n",
      "3FO4JITWASCK_Bedroom.zip\n",
      "3FO4JITVLCD9_Living_room.zip\n",
      "3FO4JITVLCD9_Bedroom.zip\n",
      "3FO4JIT9TJWF_Living_room.zip\n",
      "3FO4JIT9TJWF_Bedroom.zip\n",
      "3FO4JIT3JG3L_Guest_room.zip\n",
      "3FO4JIT3JG3L_Bedroom.zip\n",
      "3FO4JIRY5P79_Bedroom.zip\n",
      "3FO4JIRUWRYH_Guest_room.zip\n",
      "3FO4JIRUWRYH_Bedroom.zip\n",
      "3FO4JIQ6I7VJ_Guest_room.zip\n",
      "3FO4JIQ6I7VJ_Bedroom.zip\n",
      "3FO4JIPSNJ82_Guest_room.zip\n",
      "3FO4JIPSNJ82_Bedroom.zip\n",
      "3FO4JIPJK1ES_Guest_room.zip\n",
      "3FO4JIPJK1ES_Bedroom.zip\n",
      "3FO4JIO65QD3_Living_room.zip\n",
      "3FO4JINSPAVU_Bedroom.zip\n",
      "3FO4JINLP2OI_Guest_room.zip\n",
      "3FO4JINLP2OI_Bedroom.zip\n",
      "3FO4JILOW2YA_Bedroom.zip\n",
      "3FO4JILMSSDD_Living_room.zip\n",
      "3FO4JILMSSDD_Guest_room.zip\n",
      "3FO4JILMSSDD_Bedroom.zip\n",
      "3FO4JIL8MBAV_Guest_room.zip\n",
      "3FO4JIL8MBAV_Bedroom.zip\n",
      "3FO4JIKAWMEJ_Bedroom.zip\n",
      "3FO4JIIVW1PG_Bedroom.zip\n",
      "3FO4JII5CEFF_Bedroom.zip\n",
      "3FO4JIHWFMSN_Guest_room.zip\n",
      "3FO4JIH9BXLS_Living_room.zip\n",
      "3FO4JIH9BXLS_Guest_room.zip\n",
      "3FO4JIH9BXLS_Bedroom.zip\n",
      "3FO4JIFVE3O0_Living_room.zip\n",
      "3FO4JIFVE3O0_Guest_room.zip\n",
      "3FO4JIFVE3O0_Bedroom.zip\n",
      "3FO4JIF4G6M0_Guest_room.zip\n",
      "3FO4JIF4G6M0_Bedroom.zip\n",
      "3FO4JIF34GK1_Bedroom.zip\n",
      "3FO4JIF0W9UX_Guest_room.zip\n",
      "3FO4JIF0W9UX_Bedroom.zip\n",
      "3FO4JIEENCOG_Guest_room.zip\n",
      "3FO4JIEENCOG_Bedroom.zip\n",
      "3FO4JIDX503H_Guest_room.zip\n",
      "3FO4JIDH3JBK_Living_room.zip\n",
      "3FO4JIDH3JBK_Guest_room.zip\n",
      "3FO4JIDH3JBK_Bedroom.zip\n",
      "3FO4JIDE9XN3_Guest_room.zip\n",
      "3FO4JIDE9XN3_Bedroom.zip\n",
      "3FO4JICY467C_Bedroom.zip\n",
      "3FO4JIBDQ9RR_Bedroom.zip\n",
      "3FO4JIBACSMC_Living_room.zip\n",
      "3FO4JIBACSMC_Guest_room.zip\n",
      "3FO4JIBACSMC_Bedroom.zip\n",
      "3FO4JIADTAUB_Guest_room.zip\n",
      "3FO4JIADTAUB_Bedroom.zip\n",
      "3FO4JI9KN44D_Guest_room.zip\n",
      "3FO4JI9KN44D_Bedroom.zip\n",
      "3FO4JI9EOJV0_Dining_room.zip\n",
      "3FO4JI8Q25BJ_Guest_room.zip\n",
      "3FO4JI8Q25BJ_Bedroom.zip\n",
      "3FO4JI8OONIC_Guest_room.zip\n",
      "3FO4JI8OONIC_Bedroom.zip\n",
      "3FO4JI8NQVMJ_Guest_room.zip\n",
      "3FO4JI8NQVMJ_Bedroom.zip\n",
      "3FO4JI8LQANF_Living_room.zip\n",
      "3FO4JI8LQANF_Guest_room.zip\n",
      "3FO4JI8LQANF_Bedroom.zip\n",
      "3FO4JI815V0Y_Guest_room.zip\n",
      "3FO4JI815V0Y_Bedroom.zip\n",
      "3FO4JI6ITL5A_Living_room.zip\n",
      "3FO4JI6ITL5A_Guest_room.zip\n",
      "3FO4JI66A8KV_Guest_room.zip\n",
      "3FO4JI66A8KV_Bedroom.zip\n",
      "3FO4JI65U5AD_Guest_room.zip\n",
      "3FO4JI65U5AD_Bedroom.zip\n",
      "3FO4JI654PUR_Guest_room.zip\n",
      "3FO4JI654PUR_Bedroom.zip\n",
      "3FO4JI53TSEY_Guest_room.zip\n",
      "3FO4JI53TSEY_Bedroom.zip\n",
      "3FO4JI53NRR6_Guest_room.zip\n",
      "3FO4JI53NRR6_Bedroom.zip\n",
      "3FO4JI1KVYD4_Guest_room.zip\n",
      "3FO4JI1KVYD4_Bedroom.zip\n",
      "3FO4JI04K9VR_Bedroom.zip\n",
      "3FO4JHW96Q9Y_Guest_room.zip\n",
      "3FO4JHW96Q9Y_Bedroom.zip\n",
      "3FO4JHUVX5MF_Bedroom.zip\n",
      "3FO4JHSQITY3_Bedroom.zip\n",
      "3FO4JHSKMKYE_Living_room.zip\n",
      "3FO4JHSKMKYE_Guest_room.zip\n",
      "3FO4JHSKMKYE_Bedroom.zip\n",
      "3FO4JHSJUQED_Guest_room.zip\n",
      "3FO4JHSJUQED_Bedroom.zip\n",
      "3FO4JHQIBFCE_Guest_room.zip\n",
      "3FO4JHQIBFCE_Bedroom.zip\n",
      "3FO4JHPP06DX_Guest_room.zip\n",
      "3FO4JHPP06DX_Bedroom.zip\n",
      "3FO4JHOYDROU_Living_room.zip\n",
      "3FO4JHOYDROU_Guest_room.zip\n",
      "3FO4JEXDLC4E_Guest_room.zip\n",
      "3FO4JDCO78XY_Living_room.zip\n",
      "3FO4JC0AV56H_Guest_room.zip\n",
      "3FO4JAYLKMIE_Bedroom.zip\n",
      "3FO4J9RLOO8C_Bedroom.zip\n",
      "3FO4J8JJHHVM_Guest_room.zip\n",
      "3FO4J7RIFKNR_Bedroom.zip\n",
      "3FO4J70JRJ70_Guest_room.zip\n",
      "3FO4J67YJ4AB_Bedroom.zip\n",
      "3FO4J5D0EN9J_Living_room.zip\n",
      "3FO4J4BH9GBH_Guest_room.zip\n",
      "3FO4J3CBTEEA_Bathroom.zip\n"
     ]
    },
    {
     "name": "stderr",
     "output_type": "stream",
     "text": [
      "Downloading...\n",
      "From: https://drive.google.com/uc?id=1S_ix44GDFlogoZ3kifuL3lFWWTtVmcj7&export=download\n",
      "To: /media/scratch1/erbachj/Mask_RCNN/data/InteriorNet/data/HD7/train/3FO4J3CBTEEA_Bathroom.zip\n",
      "32.7MB [00:00, 42.7MB/s]\n"
     ]
    },
    {
     "name": "stdout",
     "output_type": "stream",
     "text": [
      "Number of Living_rooms: 0.0\n",
      "Number of Bedrooms: 0.0\n",
      "Number of Dining_rooms: 0.0\n",
      "Number of Guest_rooms: 0.0\n",
      "3FO4J265FCCD_Bedroom.zip\n"
     ]
    },
    {
     "name": "stderr",
     "output_type": "stream",
     "text": [
      "Downloading...\n",
      "From: https://drive.google.com/uc?id=1TyyKFqp8DGWOTdVRtRs0ASFe7WOGZrEz&export=download\n",
      "To: /media/scratch1/erbachj/Mask_RCNN/data/InteriorNet/data/HD7/val/3FO4J265FCCD_Bedroom.zip\n",
      "65.8MB [00:02, 26.6MB/s]\n"
     ]
    },
    {
     "name": "stdout",
     "output_type": "stream",
     "text": [
      "3FO4JHDL0K7T_Guest_room.zip\n"
     ]
    },
    {
     "name": "stderr",
     "output_type": "stream",
     "text": [
      "Downloading...\n",
      "From: https://drive.google.com/uc?id=18ni8zvderJ-_xyw8JsOU7snTnFepDHgr&export=download\n",
      "To: /media/scratch1/erbachj/Mask_RCNN/data/InteriorNet/data/HD7/val/3FO4JHDL0K7T_Guest_room.zip\n",
      "36.9MB [00:01, 27.4MB/s]\n"
     ]
    },
    {
     "name": "stdout",
     "output_type": "stream",
     "text": [
      "3FO4JH8T4X22_Bedroom.zip\n"
     ]
    },
    {
     "name": "stderr",
     "output_type": "stream",
     "text": [
      "Downloading...\n",
      "From: https://drive.google.com/uc?id=1HV9Y4mos6CwdOkeS3VRV-d19ud45pko7&export=download\n",
      "To: /media/scratch1/erbachj/Mask_RCNN/data/InteriorNet/data/HD7/val/3FO4JH8T4X22_Bedroom.zip\n",
      "52.5MB [00:02, 19.8MB/s]\n"
     ]
    },
    {
     "name": "stdout",
     "output_type": "stream",
     "text": [
      "3FO4JGVP1I4S_Bedroom.zip\n"
     ]
    },
    {
     "name": "stderr",
     "output_type": "stream",
     "text": [
      "Downloading...\n",
      "From: https://drive.google.com/uc?id=1zVlkku-o52Qs3Oy5rcp_89ZXyaQWlE4q&export=download\n",
      "To: /media/scratch1/erbachj/Mask_RCNN/data/InteriorNet/data/HD7/val/3FO4JGVP1I4S_Bedroom.zip\n",
      "67.6MB [00:02, 31.8MB/s]\n"
     ]
    },
    {
     "name": "stdout",
     "output_type": "stream",
     "text": [
      "3FO4JGRFJBT0_Bedroom.zip\n"
     ]
    },
    {
     "name": "stderr",
     "output_type": "stream",
     "text": [
      "Downloading...\n",
      "From: https://drive.google.com/uc?id=1aLiL4RLRo5YuAy3NOej7Erv3H2h4Dk0s&export=download\n",
      "To: /media/scratch1/erbachj/Mask_RCNN/data/InteriorNet/data/HD7/val/3FO4JGRFJBT0_Bedroom.zip\n",
      "55.0MB [00:00, 87.2MB/s]\n"
     ]
    },
    {
     "name": "stdout",
     "output_type": "stream",
     "text": [
      "3FO4JGPFFJK5_Bedroom.zip\n"
     ]
    },
    {
     "name": "stderr",
     "output_type": "stream",
     "text": [
      "Downloading...\n",
      "From: https://drive.google.com/uc?id=1czRFyew4PSrrEfoqNv9u4vqNdUPzTVDZ&export=download\n",
      "To: /media/scratch1/erbachj/Mask_RCNN/data/InteriorNet/data/HD7/val/3FO4JGPFFJK5_Bedroom.zip\n",
      "59.6MB [00:01, 31.5MB/s]\n"
     ]
    },
    {
     "name": "stdout",
     "output_type": "stream",
     "text": [
      "3FO4JGN6B85W_Bedroom.zip\n"
     ]
    },
    {
     "name": "stderr",
     "output_type": "stream",
     "text": [
      "Downloading...\n",
      "From: https://drive.google.com/uc?id=1vzuaMZ12Utoh082KGyU6jNS_BEDHcf07&export=download\n",
      "To: /media/scratch1/erbachj/Mask_RCNN/data/InteriorNet/data/HD7/val/3FO4JGN6B85W_Bedroom.zip\n",
      "56.6MB [00:01, 41.3MB/s]\n"
     ]
    },
    {
     "name": "stdout",
     "output_type": "stream",
     "text": [
      "3FO4JGMSGTII_Bedroom.zip\n"
     ]
    },
    {
     "name": "stderr",
     "output_type": "stream",
     "text": [
      "Downloading...\n",
      "From: https://drive.google.com/uc?id=1Syt63L-k5HiBkYF-OjVCD85b7We4KgQK&export=download\n",
      "To: /media/scratch1/erbachj/Mask_RCNN/data/InteriorNet/data/HD7/val/3FO4JGMSGTII_Bedroom.zip\n",
      "62.6MB [00:00, 88.3MB/s]\n"
     ]
    },
    {
     "name": "stdout",
     "output_type": "stream",
     "text": [
      "3FO4JGM6SO4R_Bedroom.zip\n"
     ]
    },
    {
     "name": "stderr",
     "output_type": "stream",
     "text": [
      "Downloading...\n",
      "From: https://drive.google.com/uc?id=1GCD15iT5kxmdBJiT0RJQnqxQKmpoBgQE&export=download\n",
      "To: /media/scratch1/erbachj/Mask_RCNN/data/InteriorNet/data/HD7/val/3FO4JGM6SO4R_Bedroom.zip\n",
      "60.0MB [00:02, 21.6MB/s]\n"
     ]
    },
    {
     "name": "stdout",
     "output_type": "stream",
     "text": [
      "3FO4JGGKVDKX_Bedroom.zip\n"
     ]
    },
    {
     "name": "stderr",
     "output_type": "stream",
     "text": [
      "Downloading...\n",
      "From: https://drive.google.com/uc?id=1gUtdGT2vqW96uKkHLu0WowzEwFrASsU-&export=download\n",
      "To: /media/scratch1/erbachj/Mask_RCNN/data/InteriorNet/data/HD7/val/3FO4JGGKVDKX_Bedroom.zip\n",
      "68.5MB [00:06, 10.7MB/s]\n"
     ]
    },
    {
     "name": "stdout",
     "output_type": "stream",
     "text": [
      "3FO4JGGJEONH_Guest_room.zip\n"
     ]
    },
    {
     "name": "stderr",
     "output_type": "stream",
     "text": [
      "Downloading...\n",
      "From: https://drive.google.com/uc?id=1VpEckI-GOKh0CB0bUfvUWkeVns4Gi96S&export=download\n",
      "To: /media/scratch1/erbachj/Mask_RCNN/data/InteriorNet/data/HD7/val/3FO4JGGJEONH_Guest_room.zip\n",
      "43.4MB [00:00, 55.1MB/s]\n"
     ]
    },
    {
     "name": "stdout",
     "output_type": "stream",
     "text": [
      "3FO4JGEVX59V_Guest_room.zip\n"
     ]
    },
    {
     "name": "stderr",
     "output_type": "stream",
     "text": [
      "Downloading...\n",
      "From: https://drive.google.com/uc?id=15QJJA5Fw3BxuAilW8-9TZN2W866IpfBI&export=download\n",
      "To: /media/scratch1/erbachj/Mask_RCNN/data/InteriorNet/data/HD7/val/3FO4JGEVX59V_Guest_room.zip\n",
      "56.7MB [00:00, 71.7MB/s]\n"
     ]
    },
    {
     "name": "stdout",
     "output_type": "stream",
     "text": [
      "3FO4JGCNC2I4_Bedroom.zip\n",
      "3FO4JG1O996Q_Guest_room.zip\n"
     ]
    },
    {
     "name": "stderr",
     "output_type": "stream",
     "text": [
      "Downloading...\n",
      "From: https://drive.google.com/uc?id=1jqQrvt7FKWBpXc6YyeFwwPdcANOEmmob&export=download\n",
      "To: /media/scratch1/erbachj/Mask_RCNN/data/InteriorNet/data/HD7/val/3FO4JG1O996Q_Guest_room.zip\n",
      "51.7MB [00:01, 30.3MB/s]\n"
     ]
    },
    {
     "name": "stdout",
     "output_type": "stream",
     "text": [
      "3FO4JHOQ4OQE_Guest_room.zip\n"
     ]
    },
    {
     "name": "stderr",
     "output_type": "stream",
     "text": [
      "Downloading...\n",
      "From: https://drive.google.com/uc?id=1Q2f1agH1QqCx3qgLBUZbFaGWrsGTJbxB&export=download\n",
      "To: /media/scratch1/erbachj/Mask_RCNN/data/InteriorNet/data/HD7/val/3FO4JHOQ4OQE_Guest_room.zip\n",
      "52.2MB [00:00, 55.6MB/s]\n"
     ]
    },
    {
     "name": "stdout",
     "output_type": "stream",
     "text": [
      "3FO4JHOQ4OQE_Bedroom.zip\n",
      "3FO4JHOQ27SN_Living_room.zip\n"
     ]
    },
    {
     "name": "stderr",
     "output_type": "stream",
     "text": [
      "Downloading...\n",
      "From: https://drive.google.com/uc?id=1Hgzg-8ut4pIPb8469n2hahCdtXInPtSb&export=download\n",
      "To: /media/scratch1/erbachj/Mask_RCNN/data/InteriorNet/data/HD7/val/3FO4JHOQ27SN_Living_room.zip\n",
      "65.5MB [00:00, 84.9MB/s]\n"
     ]
    },
    {
     "name": "stdout",
     "output_type": "stream",
     "text": [
      "3FO4JHOQ27SN_Dining_room.zip\n"
     ]
    },
    {
     "name": "stderr",
     "output_type": "stream",
     "text": [
      "Downloading...\n",
      "From: https://drive.google.com/uc?id=15CDNMOSJTENsa_wgn-ll6Npdc36fUXvK&export=download\n",
      "To: /media/scratch1/erbachj/Mask_RCNN/data/InteriorNet/data/HD7/val/3FO4JHOQ27SN_Dining_room.zip\n",
      "52.1MB [00:01, 28.7MB/s]\n"
     ]
    },
    {
     "name": "stdout",
     "output_type": "stream",
     "text": [
      "3FO4JHOQ27SN_Bedroom.zip\n",
      "3FO4JHO3O1DF_Living_room.zip\n"
     ]
    },
    {
     "name": "stderr",
     "output_type": "stream",
     "text": [
      "Downloading...\n",
      "From: https://drive.google.com/uc?id=1CESTvY8ZqjHP0_oWjPAORix5q8uFansH&export=download\n",
      "To: /media/scratch1/erbachj/Mask_RCNN/data/InteriorNet/data/HD7/val/3FO4JHO3O1DF_Living_room.zip\n",
      "60.2MB [00:00, 66.1MB/s]\n"
     ]
    },
    {
     "name": "stdout",
     "output_type": "stream",
     "text": [
      "3FO4JHO3O1DF_Guest_room.zip\n"
     ]
    },
    {
     "name": "stderr",
     "output_type": "stream",
     "text": [
      "Downloading...\n",
      "From: https://drive.google.com/uc?id=1yz3r9awnpDJIUpnmKiko0Did7Yg2j94A&export=download\n",
      "To: /media/scratch1/erbachj/Mask_RCNN/data/InteriorNet/data/HD7/val/3FO4JHO3O1DF_Guest_room.zip\n",
      "71.4MB [00:01, 65.5MB/s]\n"
     ]
    },
    {
     "name": "stdout",
     "output_type": "stream",
     "text": [
      "3FO4JHO3O1DF_Dining_room.zip\n"
     ]
    },
    {
     "name": "stderr",
     "output_type": "stream",
     "text": [
      "Downloading...\n",
      "From: https://drive.google.com/uc?id=13DCRvnssMVq1UKNBFEFv3o3w73hIbV1l&export=download\n",
      "To: /media/scratch1/erbachj/Mask_RCNN/data/InteriorNet/data/HD7/val/3FO4JHO3O1DF_Dining_room.zip\n",
      "66.4MB [00:02, 23.7MB/s]\n"
     ]
    },
    {
     "name": "stdout",
     "output_type": "stream",
     "text": [
      "3FO4JHO3O1DF_Bedroom.zip\n",
      "3FO4JHNRDLW6_Guest_room.zip\n",
      "3FO4JHNRDLW6_Bedroom.zip\n",
      "3FO4JHNRC02O_Guest_room.zip\n",
      "3FO4JHNRC02O_Bedroom.zip\n",
      "3FO4JHNQGBQI_Guest_room.zip\n",
      "3FO4JHN9EPI3_Bedroom.zip\n",
      "3FO4JHKL1F3M_Living_room.zip\n"
     ]
    },
    {
     "name": "stderr",
     "output_type": "stream",
     "text": [
      "Downloading...\n",
      "From: https://drive.google.com/uc?id=1LGkRY_uwW3w-peyqWtFN0IINvaz68i6k&export=download\n",
      "To: /media/scratch1/erbachj/Mask_RCNN/data/InteriorNet/data/HD7/val/3FO4JHKL1F3M_Living_room.zip\n",
      "51.7MB [00:01, 29.6MB/s]\n"
     ]
    },
    {
     "name": "stdout",
     "output_type": "stream",
     "text": [
      "3FO4JHKL1F3M_Bedroom.zip\n",
      "3FO4JHJN4721_Guest_room.zip\n",
      "3FO4JHJN4721_Bedroom.zip\n",
      "3FO4JHJILQNX_Living_room.zip\n"
     ]
    },
    {
     "name": "stderr",
     "output_type": "stream",
     "text": [
      "Downloading...\n",
      "From: https://drive.google.com/uc?id=1ZOWu2IwQCoXq_jvfHFx5f6xByvTSwMM2&export=download\n",
      "To: /media/scratch1/erbachj/Mask_RCNN/data/InteriorNet/data/HD7/val/3FO4JHJILQNX_Living_room.zip\n",
      "52.2MB [00:06, 8.51MB/s]\n"
     ]
    },
    {
     "name": "stdout",
     "output_type": "stream",
     "text": [
      "3FO4JHJILQNX_Guest_room.zip\n",
      "3FO4JHJILQNX_Bedroom.zip\n",
      "3FO4JHGY9TVR_Guest_room.zip\n",
      "3FO4JHGY9TVR_Bedroom.zip\n",
      "3FO4JHGV4OMT_Living_room.zip\n"
     ]
    },
    {
     "name": "stderr",
     "output_type": "stream",
     "text": [
      "Downloading...\n",
      "From: https://drive.google.com/uc?id=19wjTPkUG-pg6Pbd01CMuZQAexeDjQIs6&export=download\n",
      "To: /media/scratch1/erbachj/Mask_RCNN/data/InteriorNet/data/HD7/val/3FO4JHGV4OMT_Living_room.zip\n",
      "59.8MB [00:01, 54.4MB/s]\n"
     ]
    },
    {
     "name": "stdout",
     "output_type": "stream",
     "text": [
      "3FO4JHGV4OMT_Bedroom.zip\n",
      "3FO4JHF2ME47_Guest_room.zip\n",
      "3FO4JHF2ME47_Bedroom.zip\n",
      "3FO4JHDL0K7T_Bedroom.zip\n",
      "3FO4JHDKOY2N_Guest_room.zip\n",
      "3FO4JHDKOY2N_Bedroom.zip\n",
      "3FO4JHDJ1RR9_Guest_room.zip\n",
      "3FO4JHDJ1RR9_Bedroom.zip\n",
      "3FO4JHDHY8P1_Guest_room.zip\n",
      "3FO4JHDHY8P1_Bedroom.zip\n",
      "3FO4JHDH6MDR_Living_room.zip\n"
     ]
    },
    {
     "name": "stderr",
     "output_type": "stream",
     "text": [
      "Downloading...\n",
      "From: https://drive.google.com/uc?id=1yR-hQYyKvkYpM0XejuOIa-qNL-cERD2K&export=download\n",
      "To: /media/scratch1/erbachj/Mask_RCNN/data/InteriorNet/data/HD7/val/3FO4JHDH6MDR_Living_room.zip\n",
      "45.6MB [00:00, 49.1MB/s]\n"
     ]
    },
    {
     "name": "stdout",
     "output_type": "stream",
     "text": [
      "3FO4JHDH6MDR_Bedroom.zip\n",
      "3FO4JHDBHFT7_Guest_room.zip\n",
      "3FO4JHDBHFT7_Bedroom.zip\n",
      "3FO4JHAYJ8PE_Guest_room.zip\n",
      "3FO4JHAYJ8PE_Bedroom.zip\n",
      "3FO4JH8T4X22_Guest_room.zip\n",
      "3FO4JH7O5TXM_Guest_room.zip\n",
      "3FO4JH7O5TXM_Bedroom.zip\n",
      "3FO4JH56JEPJ_Guest_room.zip\n",
      "3FO4JH56JEPJ_Bedroom.zip\n",
      "3FO4JGYWN83N_Guest_room.zip\n",
      "3FO4JGYWN83N_Bedroom.zip\n",
      "3FO4JGYSA36U_Living_room.zip\n"
     ]
    },
    {
     "name": "stderr",
     "output_type": "stream",
     "text": [
      "Downloading...\n",
      "From: https://drive.google.com/uc?id=1Ti2_yzZoCupFGtot3oAiSqHuGzfnDiLo&export=download\n",
      "To: /media/scratch1/erbachj/Mask_RCNN/data/InteriorNet/data/HD7/val/3FO4JGYSA36U_Living_room.zip\n",
      "57.7MB [00:03, 17.0MB/s]\n"
     ]
    },
    {
     "name": "stdout",
     "output_type": "stream",
     "text": [
      "3FO4JGYSA36U_Guest_room.zip\n",
      "3FO4JGYSA36U_Bedroom.zip\n",
      "3FO4JGYI3G97_Guest_room.zip\n",
      "3FO4JGYI3G97_Bedroom.zip\n",
      "3FO4JGW2PCTJ_Guest_room.zip\n",
      "3FO4JGW2PCTJ_Bedroom.zip\n",
      "3FO4JGVP1I4S_Living_room.zip\n"
     ]
    },
    {
     "name": "stderr",
     "output_type": "stream",
     "text": [
      "Downloading...\n",
      "From: https://drive.google.com/uc?id=1BAJCq50D1ikiyINfvO8bE_0ZzSznV9md&export=download\n",
      "To: /media/scratch1/erbachj/Mask_RCNN/data/InteriorNet/data/HD7/val/3FO4JGVP1I4S_Living_room.zip\n",
      "50.0MB [00:00, 73.8MB/s]\n"
     ]
    },
    {
     "name": "stdout",
     "output_type": "stream",
     "text": [
      "3FO4JGV1O4NC_Guest_room.zip\n",
      "3FO4JGV1O4NC_Bedroom.zip\n",
      "3FO4JGUYLF4L_Guest_room.zip\n",
      "3FO4JGUYLF4L_Bedroom.zip\n",
      "3FO4JGUYI6FM_Living_room.zip\n"
     ]
    },
    {
     "name": "stderr",
     "output_type": "stream",
     "text": [
      "Downloading...\n",
      "From: https://drive.google.com/uc?id=10HWyLlGKs2E0HOcPKdOSn0fJltpsk4MC&export=download\n",
      "To: /media/scratch1/erbachj/Mask_RCNN/data/InteriorNet/data/HD7/val/3FO4JGUYI6FM_Living_room.zip\n",
      "57.7MB [00:01, 29.3MB/s]\n"
     ]
    },
    {
     "name": "stdout",
     "output_type": "stream",
     "text": [
      "3FO4JGUYI6FM_Guest_room.zip\n",
      "3FO4JGUYI6FM_Bedroom.zip\n",
      "3FO4JGUY5NEV_Guest_room.zip\n",
      "3FO4JGUY5NEV_Bedroom.zip\n",
      "3FO4JGU2UTWG_Guest_room.zip\n",
      "3FO4JGU2UTWG_Dining_room.zip\n"
     ]
    },
    {
     "name": "stderr",
     "output_type": "stream",
     "text": [
      "Downloading...\n",
      "From: https://drive.google.com/uc?id=1WK8GW8yYfqs0cGvt1uW112Fvwd4zlsBw&export=download\n",
      "To: /media/scratch1/erbachj/Mask_RCNN/data/InteriorNet/data/HD7/val/3FO4JGU2UTWG_Dining_room.zip\n",
      "66.5MB [00:00, 91.3MB/s]\n"
     ]
    },
    {
     "name": "stdout",
     "output_type": "stream",
     "text": [
      "3FO4JGU2UTWG_Bedroom.zip\n",
      "3FO4JGTNUA5Q_Bedroom.zip\n",
      "3FO4JGRFJBT0_Guest_room.zip\n",
      "3FO4JGRFH4WC_Guest_room.zip\n",
      "3FO4JGRFH4WC_Bedroom.zip\n",
      "3FO4JGRDJ7K1_Guest_room.zip\n",
      "3FO4JGRDJ7K1_Bedroom.zip\n",
      "3FO4JGR8KPG5_Bedroom.zip\n",
      "3FO4JGQTOWUU_Bedroom.zip\n",
      "3FO4JGQN96RC_Guest_room.zip\n",
      "3FO4JGQN96RC_Bedroom.zip\n",
      "3FO4JGPO8CV7_Guest_room.zip\n",
      "3FO4JGPO8CV7_Bedroom.zip\n",
      "3FO4JGPIM4YI_Guest_room.zip\n",
      "3FO4JGPIM4YI_Bedroom.zip\n",
      "3FO4JGPFQ5PB_Bedroom.zip\n",
      "3FO4JGPFFJK5_Guest_room.zip\n",
      "3FO4JGPAA015_Guest_room.zip\n",
      "3FO4JGPAA015_Bedroom.zip\n",
      "3FO4JGP8UENB_Guest_room.zip\n",
      "3FO4JGP8UENB_Bedroom.zip\n",
      "3FO4JGP3V2G6_Guest_room.zip\n",
      "3FO4JGP3V2G6_Bedroom.zip\n",
      "3FO4JGOD2VD2_Bedroom.zip\n",
      "3FO4JGNYCG1D_Guest_room.zip\n",
      "3FO4JGNYCG1D_Bedroom.zip\n",
      "3FO4JGNDRVH6_Guest_room.zip\n",
      "3FO4JGNDRVH6_Bedroom.zip\n",
      "3FO4JGN6EDHU_Guest_room.zip\n",
      "3FO4JGN6EDHU_Bedroom.zip\n",
      "3FO4JGN6B85W_Guest_room.zip\n",
      "3FO4JGN6AGEO_Guest_room.zip\n",
      "3FO4JGN6AGEO_Bedroom.zip\n",
      "3FO4JGN6A9PM_Guest_room.zip\n",
      "3FO4JGN6A9PM_Bedroom.zip\n",
      "3FO4JGN68WW8_Guest_room.zip\n",
      "3FO4JGN68WW8_Bedroom.zip\n",
      "3FO4JGMSWL88_Bedroom.zip\n",
      "3FO4JGMSJVIF_Guest_room.zip\n",
      "3FO4JGMSJVIF_Bedroom.zip\n",
      "3FO4JGMSJ848_Living_room.zip\n"
     ]
    },
    {
     "name": "stderr",
     "output_type": "stream",
     "text": [
      "Downloading...\n",
      "From: https://drive.google.com/uc?id=1FHhbTKpUs-xSInAVo_ahphs8Skekd75f&export=download\n",
      "To: /media/scratch1/erbachj/Mask_RCNN/data/InteriorNet/data/HD7/val/3FO4JGMSJ848_Living_room.zip\n",
      "65.4MB [00:00, 80.7MB/s]\n"
     ]
    },
    {
     "name": "stdout",
     "output_type": "stream",
     "text": [
      "3FO4JGMSJ848_Guest_room.zip\n",
      "3FO4JGMSJ848_Dining_room.zip\n"
     ]
    },
    {
     "name": "stderr",
     "output_type": "stream",
     "text": [
      "Downloading...\n",
      "From: https://drive.google.com/uc?id=1WO46awXf03g15NXinsc68oAT3Ugxz1aW&export=download\n",
      "To: /media/scratch1/erbachj/Mask_RCNN/data/InteriorNet/data/HD7/val/3FO4JGMSJ848_Dining_room.zip\n",
      "63.9MB [00:02, 27.6MB/s]\n"
     ]
    },
    {
     "name": "stdout",
     "output_type": "stream",
     "text": [
      "3FO4JGMSJ848_Bedroom.zip\n",
      "3FO4JGMSGTII_Guest_room.zip\n",
      "3FO4JGMSBKLX_Bedroom.zip\n",
      "3FO4JGMS9XRG_Living_room.zip\n"
     ]
    },
    {
     "name": "stderr",
     "output_type": "stream",
     "text": [
      "Downloading...\n",
      "From: https://drive.google.com/uc?id=1NSVV8rFNd5sqeyawWUgHWTOz0LD9lTEw&export=download\n",
      "To: /media/scratch1/erbachj/Mask_RCNN/data/InteriorNet/data/HD7/val/3FO4JGMS9XRG_Living_room.zip\n",
      "62.9MB [00:02, 22.3MB/s]\n"
     ]
    },
    {
     "name": "stdout",
     "output_type": "stream",
     "text": [
      "3FO4JGMS9XRG_Guest_room.zip\n",
      "3FO4JGMS9XRG_Bedroom.zip\n",
      "3FO4JGMS7GTP_Guest_room.zip\n",
      "3FO4JGMS7GTP_Bedroom.zip\n",
      "3FO4JGMS56L1_Guest_room.zip\n",
      "3FO4JGMRXO83_Guest_room.zip\n",
      "3FO4JGMRXO83_Bedroom.zip\n",
      "3FO4JGMR1APE_Guest_room.zip\n",
      "3FO4JGMR1APE_Bedroom.zip\n",
      "3FO4JGMQTIBD_Guest_room.zip\n",
      "3FO4JGMQTIBD_Bedroom.zip\n",
      "3FO4JGM6SO4R_Guest_room.zip\n",
      "3FO4JGJA0XI9_Guest_room.zip\n",
      "3FO4JGJA0XI9_Bedroom.zip\n",
      "3FO4JGJ9RTAT_Guest_room.zip\n",
      "3FO4JGJ9RTAT_Bedroom.zip\n",
      "3FO4JGJ6TQH0_Living_room.zip\n"
     ]
    },
    {
     "name": "stderr",
     "output_type": "stream",
     "text": [
      "Downloading...\n",
      "From: https://drive.google.com/uc?id=10mX9WoiYAMTxZ6OwYUKbaxKqCuc54fU0&export=download\n",
      "To: /media/scratch1/erbachj/Mask_RCNN/data/InteriorNet/data/HD7/val/3FO4JGJ6TQH0_Living_room.zip\n",
      "58.5MB [00:00, 76.1MB/s]\n"
     ]
    },
    {
     "name": "stdout",
     "output_type": "stream",
     "text": [
      "3FO4JGJ6TQH0_Guest_room.zip\n",
      "3FO4JGJ6TQH0_Bedroom.zip\n",
      "3FO4JGJ0X7G8_Guest_room.zip\n",
      "3FO4JGJ0X7G8_Bedroom.zip\n",
      "3FO4JGIQ1BKH_Bedroom.zip\n",
      "3FO4JGI9UUDD_Bedroom.zip\n",
      "3FO4JGHY1V11_Guest_room.zip\n",
      "3FO4JGHY1V11_Bedroom.zip\n",
      "3FO4JGGSU5FB_Bedroom.zip\n",
      "3FO4JGGKRX7W_Guest_room.zip\n",
      "3FO4JGGKRX7W_Bedroom.zip\n",
      "3FO4JGGKOL6W_Living_room.zip\n"
     ]
    },
    {
     "name": "stderr",
     "output_type": "stream",
     "text": [
      "Downloading...\n",
      "From: https://drive.google.com/uc?id=1VLcdob4rgHfnAMPJlzPzG7KvdM8VBc-t&export=download\n",
      "To: /media/scratch1/erbachj/Mask_RCNN/data/InteriorNet/data/HD7/val/3FO4JGGKOL6W_Living_room.zip\n",
      "68.3MB [00:02, 24.8MB/s]\n"
     ]
    },
    {
     "name": "stdout",
     "output_type": "stream",
     "text": [
      "3FO4JGGKOL6W_Guest_room.zip\n",
      "3FO4JGGKOL6W_Bedroom.zip\n",
      "3FO4JGGKGAAF_Guest_room.zip\n",
      "3FO4JGGKGAAF_Bedroom.zip\n",
      "3FO4JGGKFIJ7_Guest_room.zip\n",
      "3FO4JGGKFIJ7_Bedroom.zip\n",
      "3FO4JGGK7YDX_Guest_room.zip\n",
      "3FO4JGGK7YDX_Bedroom.zip\n",
      "3FO4JGGK74AO_Living_room.zip\n"
     ]
    },
    {
     "name": "stderr",
     "output_type": "stream",
     "text": [
      "Downloading...\n",
      "From: https://drive.google.com/uc?id=1ThDs1SJIvqK6sZLr8tx3GnREwndypHUm&export=download\n",
      "To: /media/scratch1/erbachj/Mask_RCNN/data/InteriorNet/data/HD7/val/3FO4JGGK74AO_Living_room.zip\n",
      "41.5MB [00:00, 53.0MB/s]\n"
     ]
    },
    {
     "name": "stdout",
     "output_type": "stream",
     "text": [
      "3FO4JGGK74AO_Guest_room.zip\n",
      "3FO4JGGK74AO_Bedroom.zip\n",
      "3FO4JGGJEONH_Bedroom.zip\n",
      "3FO4JGGJ26MQ_Bedroom.zip\n",
      "3FO4JGGIDY4S_Guest_room.zip\n",
      "3FO4JGGIDY4S_Bedroom.zip\n",
      "3FO4JGGI5TWD_Guest_room.zip\n",
      "3FO4JGGI5TWD_Bedroom.zip\n",
      "3FO4JGGHRA4B_Dining_room.zip\n"
     ]
    },
    {
     "name": "stderr",
     "output_type": "stream",
     "text": [
      "Downloading...\n",
      "From: https://drive.google.com/uc?id=1Mzaqipfe3EwMseUJAejBAgRSALyrlzgR&export=download\n",
      "To: /media/scratch1/erbachj/Mask_RCNN/data/InteriorNet/data/HD7/val/3FO4JGGHRA4B_Dining_room.zip\n",
      "64.8MB [00:00, 71.0MB/s]\n"
     ]
    },
    {
     "name": "stdout",
     "output_type": "stream",
     "text": [
      "3FO4JGGHRA4B_Bedroom.zip\n",
      "3FO4JGF31U2S_Guest_room.zip\n",
      "3FO4JGF31U2S_Bedroom.zip\n",
      "3FO4JGEW2J37_Living_room.zip\n"
     ]
    },
    {
     "name": "stderr",
     "output_type": "stream",
     "text": [
      "Downloading...\n",
      "From: https://drive.google.com/uc?id=14aOLUyym7Fce2FxLrQe8y6dSnykMWK39&export=download\n",
      "To: /media/scratch1/erbachj/Mask_RCNN/data/InteriorNet/data/HD7/val/3FO4JGEW2J37_Living_room.zip\n",
      "60.7MB [00:01, 32.3MB/s]\n"
     ]
    },
    {
     "name": "stdout",
     "output_type": "stream",
     "text": [
      "3FO4JGEW2J37_Guest_room.zip\n",
      "3FO4JGEW2J37_Dining_room.zip\n"
     ]
    },
    {
     "name": "stderr",
     "output_type": "stream",
     "text": [
      "Downloading...\n",
      "From: https://drive.google.com/uc?id=1yTWjK15-zXQIxIJQ2ePvLg183H5OIx6M&export=download\n",
      "To: /media/scratch1/erbachj/Mask_RCNN/data/InteriorNet/data/HD7/val/3FO4JGEW2J37_Dining_room.zip\n",
      "59.4MB [00:02, 25.8MB/s]\n"
     ]
    },
    {
     "name": "stdout",
     "output_type": "stream",
     "text": [
      "3FO4JGEW22D2_Bedroom.zip\n",
      "3FO4JGEVX59V_Bedroom.zip\n",
      "3FO4JGE4E0WJ_Guest_room.zip\n",
      "3FO4JGE4E0WJ_Bedroom.zip\n",
      "3FO4JGDHA0H2_Living_room.zip\n"
     ]
    },
    {
     "name": "stderr",
     "output_type": "stream",
     "text": [
      "Downloading...\n",
      "From: https://drive.google.com/uc?id=1qNDy4ITV-_UccPv2WnYYwNBOrJD3tyF2&export=download\n",
      "To: /media/scratch1/erbachj/Mask_RCNN/data/InteriorNet/data/HD7/val/3FO4JGDHA0H2_Living_room.zip\n",
      "49.6MB [00:00, 76.3MB/s]\n"
     ]
    },
    {
     "name": "stdout",
     "output_type": "stream",
     "text": [
      "3FO4JGDHA0H2_Bedroom.zip\n",
      "3FO4JGDA977J_Living_room.zip\n"
     ]
    },
    {
     "name": "stderr",
     "output_type": "stream",
     "text": [
      "Downloading...\n",
      "From: https://drive.google.com/uc?id=1g271lad-uZTx0S-_COwveNX1e74Y5Ah8&export=download\n",
      "To: /media/scratch1/erbachj/Mask_RCNN/data/InteriorNet/data/HD7/val/3FO4JGDA977J_Living_room.zip\n",
      "57.6MB [00:00, 74.3MB/s]\n"
     ]
    },
    {
     "name": "stdout",
     "output_type": "stream",
     "text": [
      "3FO4JGDA977J_Dining_room.zip\n"
     ]
    },
    {
     "name": "stderr",
     "output_type": "stream",
     "text": [
      "Downloading...\n",
      "From: https://drive.google.com/uc?id=1Nno_Qn90FFJsDlRaX45nXq2P4ty2Os6k&export=download\n",
      "To: /media/scratch1/erbachj/Mask_RCNN/data/InteriorNet/data/HD7/val/3FO4JGDA977J_Dining_room.zip\n",
      "50.1MB [00:01, 48.1MB/s]\n"
     ]
    },
    {
     "name": "stdout",
     "output_type": "stream",
     "text": [
      "3FO4JGDA977J_Bedroom.zip\n",
      "3FO4JGD00U3D_Guest_room.zip\n",
      "3FO4JGD00U3D_Bedroom.zip\n",
      "3FO4JGCTUULJ_Bedroom.zip\n",
      "3FO4JGCTLEKP_Bedroom.zip\n",
      "3FO4JGCNC2I4_Living_room.zip\n"
     ]
    },
    {
     "name": "stderr",
     "output_type": "stream",
     "text": [
      "Downloading...\n",
      "From: https://drive.google.com/uc?id=1Ee6wBX8GBciPVPO7xSLMettUi0XLp3dO&export=download\n",
      "To: /media/scratch1/erbachj/Mask_RCNN/data/InteriorNet/data/HD7/val/3FO4JGCNC2I4_Living_room.zip\n",
      "58.5MB [00:00, 85.7MB/s]\n"
     ]
    },
    {
     "name": "stdout",
     "output_type": "stream",
     "text": [
      "3FO4JGCNC2I4_Guest_room.zip\n",
      "3FO4JG6QKO9W_Guest_room.zip\n",
      "3FO4JG6QKO9W_Bedroom.zip\n",
      "3FO4JG64BOXX_Guest_room.zip\n",
      "3FO4JG64BOXX_Bedroom.zip\n",
      "3FO4JG64A34G_Guest_room.zip\n",
      "3FO4JG64A34G_Bedroom.zip\n",
      "3FO4JG63F9VJ_Guest_room.zip\n",
      "3FO4JG63F9VJ_Bedroom.zip\n",
      "3FO4JG63ELHC_Guest_room.zip\n",
      "3FO4JG63ELHC_Bedroom.zip\n",
      "3FO4JG6360JR_Guest_room.zip\n",
      "3FO4JG6360JR_Bedroom.zip\n",
      "3FO4JG4VS76R_Guest_room.zip\n",
      "3FO4JG4VS76R_Bedroom.zip\n",
      "3FO4JG0L7P2I_Guest_room.zip\n",
      "3FO4JFXPTURA_Dining_room.zip\n"
     ]
    },
    {
     "name": "stderr",
     "output_type": "stream",
     "text": [
      "Downloading...\n",
      "From: https://drive.google.com/uc?id=1cJ_qKdF5lBeDLLrzrA2lH2IhyqPIYH78&export=download\n",
      "To: /media/scratch1/erbachj/Mask_RCNN/data/InteriorNet/data/HD7/val/3FO4JFXPTURA_Dining_room.zip\n",
      "56.0MB [00:04, 12.6MB/s]\n"
     ]
    },
    {
     "name": "stdout",
     "output_type": "stream",
     "text": [
      "3FO4JFVIADMG_Bedroom.zip\n",
      "3FO4JFVFA0JX_Living_room.zip\n"
     ]
    },
    {
     "name": "stderr",
     "output_type": "stream",
     "text": [
      "Downloading...\n",
      "From: https://drive.google.com/uc?id=1Kyhppua0ZuN6ZYL6Z_AMfGiBOYhl63uI&export=download\n",
      "To: /media/scratch1/erbachj/Mask_RCNN/data/InteriorNet/data/HD7/val/3FO4JFVFA0JX_Living_room.zip\n",
      "64.9MB [00:00, 75.1MB/s]\n"
     ]
    },
    {
     "name": "stdout",
     "output_type": "stream",
     "text": [
      "3FO4JFTWRSDH_Bedroom.zip\n",
      "3FO4JFPS0YY5_Guest_room.zip\n",
      "3FO4JFLXDEVQ_Bedroom.zip\n",
      "3FO4JFIFEFPJ_Guest_room.zip\n",
      "3FO4JFEAWU39_Guest_room.zip\n",
      "3FO4JFBQ0V53_Bedroom.zip\n",
      "3FO4JF7A2R1P_Living_room.zip\n"
     ]
    },
    {
     "name": "stderr",
     "output_type": "stream",
     "text": [
      "Downloading...\n",
      "From: https://drive.google.com/uc?id=13kA9SOe3RYFFzPbPa9FkUYsIy984a2nf&export=download\n",
      "To: /media/scratch1/erbachj/Mask_RCNN/data/InteriorNet/data/HD7/val/3FO4JF7A2R1P_Living_room.zip\n",
      "49.8MB [00:00, 90.8MB/s]\n"
     ]
    },
    {
     "name": "stdout",
     "output_type": "stream",
     "text": [
      "3FO4JF3DFMRI_Bedroom.zip\n",
      "3FO4JF0UN07K_Bedroom.zip\n",
      "3FO4JG1O996Q_Bedroom.zip\n",
      "3FO4JG1O60HR_Guest_room.zip\n",
      "3FO4JG1O60HR_Bedroom.zip\n",
      "3FO4JG1O4UDF_Guest_room.zip\n",
      "3FO4JG1O4UDF_Bedroom.zip\n",
      "3FO4JG1O43M7_Bedroom.zip\n",
      "3FO4JG1O2QSS_Guest_room.zip\n",
      "3FO4JG1O2QSS_Bedroom.zip\n",
      "3FO4JG1O1ICF_Guest_room.zip\n",
      "3FO4JG1O1ICF_Bedroom.zip\n",
      "3FO4JG1O06J1_Guest_room.zip\n",
      "3FO4JG1O06J1_Bedroom.zip\n",
      "3FO4JG1NO0BO_Guest_room.zip\n",
      "3FO4JG1NO0BO_Bedroom.zip\n",
      "3FO4JG1K620W_Bedroom.zip\n",
      "3FO4JG0S3CRH_Guest_room.zip\n",
      "3FO4JG0S3CRH_Bedroom.zip\n",
      "3FO4JG0LVOBO_Living_room.zip\n"
     ]
    },
    {
     "name": "stderr",
     "output_type": "stream",
     "text": [
      "Downloading...\n",
      "From: https://drive.google.com/uc?id=19tx5NGjBYsjnGsbyjR4rDQtDuURAqXSx&export=download\n",
      "To: /media/scratch1/erbachj/Mask_RCNN/data/InteriorNet/data/HD7/val/3FO4JG0LVOBO_Living_room.zip\n",
      "64.2MB [00:02, 28.3MB/s]\n"
     ]
    },
    {
     "name": "stdout",
     "output_type": "stream",
     "text": [
      "3FO4JG0LVOBO_Guest_room.zip\n",
      "3FO4JG0LVOBO_Bedroom.zip\n",
      "3FO4JG0LUJ7C_Dining_room.zip\n"
     ]
    },
    {
     "name": "stderr",
     "output_type": "stream",
     "text": [
      "Downloading...\n",
      "From: https://drive.google.com/uc?id=1gzGY6l7olbM3sVD2nVyALgv2Hv0tjbCm&export=download\n",
      "To: /media/scratch1/erbachj/Mask_RCNN/data/InteriorNet/data/HD7/val/3FO4JG0LUJ7C_Dining_room.zip\n",
      "66.3MB [00:02, 31.7MB/s]\n"
     ]
    },
    {
     "name": "stdout",
     "output_type": "stream",
     "text": [
      "3FO4JG0LUJ7C_Bedroom.zip\n",
      "3FO4JG0LUCIA_Guest_room.zip\n",
      "3FO4JG0LUCIA_Bedroom.zip\n",
      "3FO4JG0LT7DX_Bedroom.zip\n",
      "3FO4JG0LRR8I_Bedroom.zip\n",
      "3FO4JG0L8NHS_Guest_room.zip\n",
      "3FO4JG0L8NHS_Bedroom.zip\n",
      "3FO4JG0L7P2I_Bedroom.zip\n",
      "3FO4JG0KP1H8_Guest_room.zip\n",
      "3FO4JG0KP1H8_Bedroom.zip\n",
      "3FO4JG0K613J_Guest_room.zip\n",
      "3FO4JG0K613J_Bedroom.zip\n",
      "3FO4JG04HDDG_Guest_room.zip\n",
      "3FO4JG04HDDG_Bedroom.zip\n",
      "3FO4JFYWBV9J_Guest_room.zip\n",
      "3FO4JFYWBV9J_Bedroom.zip\n",
      "3FO4JFXS2J6I_Living_room.zip\n"
     ]
    },
    {
     "name": "stderr",
     "output_type": "stream",
     "text": [
      "Downloading...\n",
      "From: https://drive.google.com/uc?id=1v3uXZkolRWpuZhb5zZyiTIYLE6KCxH2A&export=download\n",
      "To: /media/scratch1/erbachj/Mask_RCNN/data/InteriorNet/data/HD7/val/3FO4JFXS2J6I_Living_room.zip\n",
      "54.2MB [00:01, 51.3MB/s]\n"
     ]
    },
    {
     "name": "stdout",
     "output_type": "stream",
     "text": [
      "3FO4JFXS2J6I_Guest_room.zip\n",
      "3FO4JFXS2J6I_Bedroom.zip\n",
      "3FO4JFXPTURA_Living_room.zip\n"
     ]
    },
    {
     "name": "stderr",
     "output_type": "stream",
     "text": [
      "Downloading...\n",
      "From: https://drive.google.com/uc?id=12O1ykA9vbY1cJEhd786gExlZYuRZug8c&export=download\n",
      "To: /media/scratch1/erbachj/Mask_RCNN/data/InteriorNet/data/HD7/val/3FO4JFXPTURA_Living_room.zip\n",
      "57.5MB [00:02, 24.9MB/s]\n"
     ]
    },
    {
     "name": "stdout",
     "output_type": "stream",
     "text": [
      "3FO4JFXPTURA_Guest_room.zip\n",
      "3FO4JFXPTURA_Bedroom.zip\n",
      "3FO4JFXO2RDP_Guest_room.zip\n",
      "3FO4JFXO2RDP_Bedroom.zip\n",
      "3FO4JFXNSOQ0_Guest_room.zip\n",
      "3FO4JFXNSOQ0_Bedroom.zip\n",
      "3FO4JFXFEG80_Guest_room.zip\n",
      "3FO4JFXFEG80_Bedroom.zip\n",
      "3FO4JFX0W9NB_Bedroom.zip\n",
      "3FO4JFWKOXP4_Bedroom.zip\n",
      "3FO4JFVIXRTG_Guest_room.zip\n",
      "3FO4JFVIXRTG_Bedroom.zip\n",
      "3FO4JFVIVE8Q_Living_room.zip\n"
     ]
    },
    {
     "name": "stderr",
     "output_type": "stream",
     "text": [
      "Downloading...\n",
      "From: https://drive.google.com/uc?id=1HD-fdclYf4FyMnc80f35mLNJtqHNzcxX&export=download\n",
      "To: /media/scratch1/erbachj/Mask_RCNN/data/InteriorNet/data/HD7/val/3FO4JFVIVE8Q_Living_room.zip\n",
      "64.4MB [00:02, 31.2MB/s]\n"
     ]
    },
    {
     "name": "stdout",
     "output_type": "stream",
     "text": [
      "3FO4JFVIVE8Q_Guest_room.zip\n",
      "3FO4JFVIVE8Q_Bedroom.zip\n",
      "3FO4JFVI8U50_Guest_room.zip\n",
      "3FO4JFVI8U50_Bedroom.zip\n",
      "3FO4JFVI7VOP_Guest_room.zip\n",
      "3FO4JFVI7VOP_Bedroom.zip\n",
      "3FO4JFVI78AI_Guest_room.zip\n",
      "3FO4JFVI78AI_Bedroom.zip\n",
      "3FO4JFVI71LG_Guest_room.zip\n",
      "3FO4JFVI71LG_Bedroom.zip\n",
      "3FO4JFVGNMHH_Guest_room.zip\n",
      "3FO4JFVGNMHH_Bedroom.zip\n",
      "3FO4JFVGN94D_Guest_room.zip\n",
      "3FO4JFVGN94D_Bedroom.zip\n",
      "3FO4JFVGG3C8_Guest_room.zip\n",
      "3FO4JFVGG3C8_Bedroom.zip\n",
      "3FO4JFVFA0JX_Guest_room.zip\n",
      "3FO4JFVFA0JX_Dining_room.zip\n"
     ]
    },
    {
     "name": "stderr",
     "output_type": "stream",
     "text": [
      "Downloading...\n",
      "From: https://drive.google.com/uc?id=1JfFxKZCrxFf_ewTK4dzgU6ZrZnZ0oKw_&export=download\n",
      "To: /media/scratch1/erbachj/Mask_RCNN/data/InteriorNet/data/HD7/val/3FO4JFVFA0JX_Dining_room.zip\n",
      "61.4MB [00:00, 65.8MB/s]\n"
     ]
    },
    {
     "name": "stdout",
     "output_type": "stream",
     "text": [
      "3FO4JFVFA0JX_Bedroom.zip\n",
      "3FO4JFVF95GO_Guest_room.zip\n",
      "3FO4JFVF95GO_Bedroom.zip\n",
      "3FO4JFUGC1YN_Bedroom.zip\n",
      "3FO4JFUGBXMM_Guest_room.zip\n",
      "3FO4JFUGBXMM_Bedroom.zip\n",
      "3FO4JFTXHJDV_Guest_room.zip\n",
      "3FO4JFTXHJDV_Bedroom.zip\n",
      "3FO4JFTWUDN9_Guest_room.zip\n",
      "3FO4JFTWUDN9_Bedroom.zip\n",
      "3FO4JFTWSNGQ_Guest_room.zip\n",
      "3FO4JFTWSNGQ_Bedroom.zip\n",
      "3FO4JFSOGKX1_Bedroom.zip\n",
      "3FO4JFS152JT_Guest_room.zip\n",
      "3FO4JFS152JT_Bedroom.zip\n",
      "3FO4JFS04202_Guest_room.zip\n",
      "3FO4JFS04202_Bedroom.zip\n",
      "3FO4JFROL260_Guest_room.zip\n",
      "3FO4JFROL260_Bedroom.zip\n",
      "3FO4JFRI7190_Living_room.zip\n"
     ]
    },
    {
     "name": "stderr",
     "output_type": "stream",
     "text": [
      "Downloading...\n",
      "From: https://drive.google.com/uc?id=1yq1hldIujQUD2sG4tN3YDZ4HZjf75zsF&export=download\n",
      "To: /media/scratch1/erbachj/Mask_RCNN/data/InteriorNet/data/HD7/val/3FO4JFRI7190_Living_room.zip\n",
      "55.2MB [00:01, 34.9MB/s]\n"
     ]
    },
    {
     "name": "stdout",
     "output_type": "stream",
     "text": [
      "3FO4JFQMYDFO_Guest_room.zip\n",
      "3FO4JFQMYDFO_Bedroom.zip\n",
      "3FO4JFQH7EWA_Living_room.zip\n"
     ]
    },
    {
     "name": "stderr",
     "output_type": "stream",
     "text": [
      "Downloading...\n",
      "From: https://drive.google.com/uc?id=1ikUxKof8EjtvxKa5B-R1r0HdT0FuOEaV&export=download\n",
      "To: /media/scratch1/erbachj/Mask_RCNN/data/InteriorNet/data/HD7/val/3FO4JFQH7EWA_Living_room.zip\n",
      "62.3MB [00:00, 91.4MB/s]\n"
     ]
    },
    {
     "name": "stdout",
     "output_type": "stream",
     "text": [
      "3FO4JFQAONL6_Guest_room.zip\n",
      "3FO4JFQAONL6_Bedroom.zip\n",
      "3FO4JFPS0YY5_Living_room.zip\n"
     ]
    },
    {
     "name": "stderr",
     "output_type": "stream",
     "text": [
      "Downloading...\n",
      "From: https://drive.google.com/uc?id=1xAAvOJdQNIqiabHSaHbFpvYgVVKyItWH&export=download\n",
      "To: /media/scratch1/erbachj/Mask_RCNN/data/InteriorNet/data/HD7/val/3FO4JFPS0YY5_Living_room.zip\n",
      "55.4MB [00:05, 10.3MB/s]\n"
     ]
    },
    {
     "name": "stdout",
     "output_type": "stream",
     "text": [
      "3FO4JFPS0YY5_Bedroom.zip\n",
      "3FO4JFPP48XP_Living_room.zip\n"
     ]
    },
    {
     "name": "stderr",
     "output_type": "stream",
     "text": [
      "Downloading...\n",
      "From: https://drive.google.com/uc?id=1ppez0REeRmX2QNO4vFyCuL7wDilpvN4l&export=download\n",
      "To: /media/scratch1/erbachj/Mask_RCNN/data/InteriorNet/data/HD7/val/3FO4JFPP48XP_Living_room.zip\n",
      "60.4MB [00:02, 24.5MB/s]\n"
     ]
    },
    {
     "name": "stdout",
     "output_type": "stream",
     "text": [
      "3FO4JFPP48XP_Guest_room.zip\n",
      "3FO4JFPP48XP_Bedroom.zip\n",
      "3FO4JFP4VCC0_Bedroom.zip\n",
      "3FO4JFOMSOB9_Guest_room.zip\n",
      "3FO4JFOMSOB9_Bedroom.zip\n",
      "3FO4JFOKMCPF_Guest_room.zip\n",
      "3FO4JFOKMCPF_Bedroom.zip\n",
      "3FO4JFMNR9FK_Guest_room.zip\n",
      "3FO4JFMNR9FK_Bedroom.zip\n",
      "3FO4JFLXDEVQ_Living_room.zip\n"
     ]
    },
    {
     "name": "stderr",
     "output_type": "stream",
     "text": [
      "Downloading...\n",
      "From: https://drive.google.com/uc?id=1QUnIgDLx3yOl0X0MO0f8F5pVC6TMiGM_&export=download\n",
      "To: /media/scratch1/erbachj/Mask_RCNN/data/InteriorNet/data/HD7/val/3FO4JFLXDEVQ_Living_room.zip\n",
      "57.0MB [00:00, 76.5MB/s]\n"
     ]
    },
    {
     "name": "stdout",
     "output_type": "stream",
     "text": [
      "3FO4JFLXDEVQ_Guest_room.zip\n",
      "3FO4JFLXDEVQ_Dining_room.zip\n"
     ]
    },
    {
     "name": "stderr",
     "output_type": "stream",
     "text": [
      "Downloading...\n",
      "From: https://drive.google.com/uc?id=1R8A54coIJIAMEa0mtvJnOVsKfFB_uWZF&export=download\n",
      "To: /media/scratch1/erbachj/Mask_RCNN/data/InteriorNet/data/HD7/val/3FO4JFLXDEVQ_Dining_room.zip\n",
      "58.0MB [00:05, 10.0MB/s]\n"
     ]
    },
    {
     "name": "stdout",
     "output_type": "stream",
     "text": [
      "3FO4JFLVLBI6_Guest_room.zip\n",
      "3FO4JFLVLBI6_Bedroom.zip\n",
      "3FO4JFLQBN6X_Living_room.zip\n"
     ]
    },
    {
     "name": "stderr",
     "output_type": "stream",
     "text": [
      "Downloading...\n",
      "From: https://drive.google.com/uc?id=1aMYczeUT3lq_NzO-uVXPSB38H0Zoi8-U&export=download\n",
      "To: /media/scratch1/erbachj/Mask_RCNN/data/InteriorNet/data/HD7/val/3FO4JFLQBN6X_Living_room.zip\n",
      "52.9MB [00:00, 75.9MB/s]\n"
     ]
    },
    {
     "name": "stdout",
     "output_type": "stream",
     "text": [
      "3FO4JFLQBN6X_Bedroom.zip\n",
      "3FO4JFL70NCR_Guest_room.zip\n",
      "3FO4JFL70NCR_Bedroom.zip\n",
      "3FO4JFKXHYGQ_Guest_room.zip\n",
      "3FO4JFKXHYGQ_Bedroom.zip\n",
      "3FO4JFKX4BBN_Guest_room.zip\n",
      "3FO4JFKX4BBN_Bedroom.zip\n",
      "3FO4JFIGRO9Y_Living_room.zip\n",
      "3FO4JFIGRO9Y_Guest_room.zip\n",
      "3FO4JFIGRO9Y_Bedroom.zip\n",
      "3FO4JFIFEFPJ_Living_room.zip\n",
      "3FO4JFIFEFPJ_Bedroom.zip\n",
      "3FO4JFI7E21O_Living_room.zip\n",
      "3FO4JFI7E21O_Dining_room.zip\n"
     ]
    },
    {
     "name": "stderr",
     "output_type": "stream",
     "text": [
      "Downloading...\n",
      "From: https://drive.google.com/uc?id=1Jofly3YpLwNCJQOobgHpn3VpwFPQy2kW&export=download\n",
      "To: /media/scratch1/erbachj/Mask_RCNN/data/InteriorNet/data/HD7/val/3FO4JFI7E21O_Dining_room.zip\n",
      "69.4MB [00:01, 47.8MB/s]\n"
     ]
    },
    {
     "name": "stdout",
     "output_type": "stream",
     "text": [
      "3FO4JFI7E21O_Bedroom.zip\n",
      "3FO4JFHK8YSV_Guest_room.zip\n",
      "3FO4JFHK8YSV_Bedroom.zip\n",
      "3FO4JFFY7O7B_Bedroom.zip\n",
      "3FO4JFFWM36O_Guest_room.zip\n",
      "3FO4JFFWM36O_Bedroom.zip\n",
      "3FO4JFFECY0J_Living_room.zip\n",
      "3FO4JFFECY0J_Guest_room.zip\n",
      "3FO4JFFECY0J_Dining_room.zip\n"
     ]
    },
    {
     "name": "stderr",
     "output_type": "stream",
     "text": [
      "Downloading...\n",
      "From: https://drive.google.com/uc?id=1mCmpy2hjw8RgZ16njnVQi3UFRgbNnPt6&export=download\n",
      "To: /media/scratch1/erbachj/Mask_RCNN/data/InteriorNet/data/HD7/val/3FO4JFFECY0J_Dining_room.zip\n",
      "66.8MB [00:02, 26.5MB/s]\n"
     ]
    },
    {
     "name": "stdout",
     "output_type": "stream",
     "text": [
      "3FO4JFFECY0J_Bedroom.zip\n",
      "3FO4JFF7KJYJ_Bedroom.zip\n",
      "3FO4JFEAWU39_Bedroom.zip\n",
      "3FO4JFDOCU1G_Guest_room.zip\n",
      "3FO4JFDOCU1G_Bedroom.zip\n",
      "3FO4JFD2BI7R_Guest_room.zip\n",
      "3FO4JFD2BI7R_Bedroom.zip\n",
      "3FO4JFCTBB7Y_Living_room.zip\n",
      "3FO4JFCTBB7Y_Dining_room.zip\n"
     ]
    },
    {
     "name": "stderr",
     "output_type": "stream",
     "text": [
      "Downloading...\n",
      "From: https://drive.google.com/uc?id=12QML4BRy6iwtR_ZnP_EeeX3k2uWURLhw&export=download\n",
      "To: /media/scratch1/erbachj/Mask_RCNN/data/InteriorNet/data/HD7/val/3FO4JFCTBB7Y_Dining_room.zip\n",
      "69.2MB [00:00, 75.8MB/s]\n"
     ]
    },
    {
     "name": "stdout",
     "output_type": "stream",
     "text": [
      "3FO4JFCTBB7Y_Bedroom.zip\n",
      "3FO4JFCS4GOG_Bedroom.zip\n",
      "3FO4JFCPJGXJ_Guest_room.zip\n",
      "3FO4JFCPJGXJ_Bedroom.zip\n",
      "3FO4JFBUL3H0_Living_room.zip\n",
      "3FO4JFBUL3H0_Bedroom.zip\n",
      "3FO4JFBQ0V53_Guest_room.zip\n",
      "3FO4JFBOTIBP_Guest_room.zip\n",
      "3FO4JFBOTIBP_Bedroom.zip\n",
      "3FO4JFBMB8RB_Living_room.zip\n",
      "3FO4JFBMB8RB_Guest_room.zip\n",
      "3FO4JFBMB8RB_Bedroom.zip\n",
      "3FO4JFB4NLWL_Guest_room.zip\n",
      "3FO4JFB4NLWL_Bedroom.zip\n",
      "3FO4JFAUBS7U_Guest_room.zip\n",
      "3FO4JFAUBS7U_Bedroom.zip\n",
      "3FO4JFATR7R0_Bedroom.zip\n",
      "3FO4JF8WKD7M_Living_room.zip\n",
      "3FO4JF8WKD7M_Bedroom.zip\n",
      "3FO4JF826LEH_Guest_room.zip\n",
      "3FO4JF826LEH_Bedroom.zip\n",
      "3FO4JF7A2R1P_Guest_room.zip\n",
      "3FO4JF7A2R1P_Bedroom.zip\n",
      "3FO4JF7A11U7_Living_room.zip\n",
      "3FO4JF7A11U7_Bedroom.zip\n",
      "3FO4JF40UWRD_Guest_room.zip\n",
      "3FO4JF40UWRD_Bedroom.zip\n",
      "3FO4JF3S0VC4_Guest_room.zip\n",
      "3FO4JF3S0VC4_Bedroom.zip\n",
      "3FO4JF3QQD6S_Guest_room.zip\n",
      "3FO4JF3QQD6S_Bedroom.zip\n",
      "3FO4JF3DVEH8_Guest_room.zip\n",
      "3FO4JF3DVEH8_Bedroom.zip\n",
      "3FO4JF3DFMRI_Living_room.zip\n",
      "3FO4JF3DFMRI_Guest_room.zip\n",
      "3FO4JF3CIFXV_Living_room.zip\n",
      "3FO4JF3CIFXV_Dining_room.zip\n"
     ]
    },
    {
     "name": "stderr",
     "output_type": "stream",
     "text": [
      "Downloading...\n",
      "From: https://drive.google.com/uc?id=16cg3O62LVWPKA33xM0iwLQaiHU5aV1aT&export=download\n",
      "To: /media/scratch1/erbachj/Mask_RCNN/data/InteriorNet/data/HD7/val/3FO4JF3CIFXV_Dining_room.zip\n",
      "49.0MB [00:03, 13.0MB/s]\n"
     ]
    },
    {
     "name": "stdout",
     "output_type": "stream",
     "text": [
      "3FO4JF3CIFXV_Bedroom.zip\n",
      "3FO4JF26XFL7_Guest_room.zip\n",
      "3FO4JF26XFL7_Bedroom.zip\n",
      "3FO4JF1Y6CST_Guest_room.zip\n",
      "3FO4JF1Y6CST_Bedroom.zip\n",
      "3FO4JF1BHDJD_Living_room.zip\n",
      "3FO4JF1BHDJD_Guest_room.zip\n",
      "3FO4JF1BHDJD_Bedroom.zip\n",
      "3FO4JF12JVDW_Living_room.zip\n",
      "3FO4JF12JVDW_Guest_room.zip\n",
      "3FO4JF12JVDW_Dining_room.zip\n",
      "3FO4JF0UN07K_Guest_room.zip\n",
      "3FO4JETQHM9W_Dining_room.zip\n",
      "3FO4JEPBYA8F_Bedroom.zip\n",
      "3FO4JEKDBCDO_Guest_room.zip\n",
      "3FO4JEE5R4WH_Guest_room.zip\n",
      "3FO4JECTXENU_Bedroom.zip\n",
      "3FO4JE79DC4O_Living_room.zip\n",
      "3FO4JE56TMCF_Guest_room.zip\n",
      "3FO4JE23104D_Bedroom.zip\n",
      "3FO4JDW0LVEE_Bedroom.zip\n",
      "3FO4JDUF9NE1_Guest_room.zip\n",
      "3FO4JDT7VHUG_Guest_room.zip\n",
      "3FO4JDM4Q64W_Bedroom.zip\n",
      "3FO4JDG94C6J_Guest_room.zip\n",
      "3FO4JF0T6S09_Guest_room.zip\n",
      "3FO4JF0T6S09_Bedroom.zip\n",
      "3FO4JF0DO2KX_Living_room.zip\n",
      "3FO4JF0DO2KX_Bedroom.zip\n",
      "3FO4JF09T6BL_Living_room.zip\n",
      "3FO4JF09T6BL_Bedroom.zip\n",
      "3FO4JF09FVJM_Guest_room.zip\n",
      "3FO4JF09FVJM_Bedroom.zip\n",
      "3FO4JEYDA6TF_Guest_room.zip\n",
      "3FO4JEYDA6TF_Bedroom.zip\n",
      "3FO4JEY9HRHT_Guest_room.zip\n",
      "3FO4JEY9HRHT_Bedroom.zip\n",
      "3FO4JEY7IF03_Guest_room.zip\n",
      "3FO4JEY7IF03_Bedroom.zip\n",
      "3FO4JEXDLC4E_Bedroom.zip\n",
      "3FO4JEWXVOQH_Bedroom.zip\n",
      "3FO4JEWQWSCJ_Guest_room.zip\n",
      "3FO4JEWQWSCJ_Bedroom.zip\n",
      "3FO4JEWD9XAM_Guest_room.zip\n",
      "3FO4JEWD9XAM_Bedroom.zip\n",
      "3FO4JEVU25WV_Guest_room.zip\n",
      "3FO4JEVU25WV_Bedroom.zip\n",
      "3FO4JEV7V8LT_Living_room.zip\n",
      "3FO4JEV7V8LT_Guest_room.zip\n",
      "3FO4JEV7V8LT_Bedroom.zip\n",
      "3FO4JEUT46FN_Bedroom.zip\n",
      "3FO4JETW70IJ_Guest_room.zip\n",
      "3FO4JETW70IJ_Bedroom.zip\n",
      "3FO4JETQFPEC_Guest_room.zip\n",
      "3FO4JETQFPEC_Bedroom.zip\n",
      "3FO4JETE7T3D_Bedroom.zip\n",
      "3FO4JET56YVW_Guest_room.zip\n",
      "3FO4JET56YVW_Bedroom.zip\n",
      "3FO4JESL4YDF_Guest_room.zip\n",
      "3FO4JESL4YDF_Bedroom.zip\n",
      "3FO4JESAFAHD_Guest_room.zip\n",
      "3FO4JESAFAHD_Bedroom.zip\n",
      "3FO4JES0B25F_Guest_room.zip\n",
      "3FO4JES0B25F_Bedroom.zip\n",
      "3FO4JEPS4QFJ_Guest_room.zip\n",
      "3FO4JEPS4QFJ_Bedroom.zip\n",
      "3FO4JEPBYA8F_Guest_room.zip\n",
      "3FO4JEOIPLJQ_Guest_room.zip\n",
      "3FO4JEOIPLJQ_Bedroom.zip\n",
      "3FO4JEMRMK5B_Bedroom.zip\n",
      "3FO4JEMQ7EPB_Guest_room.zip\n",
      "3FO4JEMQ7EPB_Bedroom.zip\n",
      "3FO4JELUYK7X_Guest_room.zip\n",
      "3FO4JELUYK7X_Bedroom.zip\n",
      "3FO4JELN4PGQ_Guest_room.zip\n",
      "3FO4JELN4PGQ_Bedroom.zip\n",
      "3FO4JELKQS5X_Bedroom.zip\n",
      "3FO4JELAUE0C_Bedroom.zip\n",
      "3FO4JEKQNHXE_Guest_room.zip\n",
      "3FO4JEKQNHXE_Bedroom.zip\n",
      "3FO4JEKDBCDO_Living_room.zip\n",
      "3FO4JEKDBCDO_Bedroom.zip\n",
      "3FO4JEK6GX53_Guest_room.zip\n",
      "3FO4JEK6GX53_Bedroom.zip\n",
      "3FO4JEK2M8JS_Guest_room.zip\n",
      "3FO4JEK2M8JS_Bedroom.zip\n",
      "3FO4JEJN1IA2_Bedroom.zip\n",
      "3FO4JEJ923MO_Bedroom.zip\n",
      "3FO4JEIMOMQ5_Living_room.zip\n",
      "3FO4JEIMOMQ5_Bedroom.zip\n",
      "3FO4JEFUEPUT_Living_room.zip\n",
      "3FO4JEFUEPUT_Guest_room.zip\n",
      "3FO4JEFUEPUT_Bedroom.zip\n",
      "3FO4JEEDITBQ_Guest_room.zip\n",
      "3FO4JEEDITBQ_Bedroom.zip\n",
      "3FO4JEE5R4WH_Bedroom.zip\n",
      "3FO4JEDXXHF4_Guest_room.zip\n",
      "3FO4JEDXXHF4_Bedroom.zip\n",
      "3FO4JEDQHO74_Guest_room.zip\n",
      "3FO4JEDQHO74_Bedroom.zip\n",
      "3FO4JEDLL3XS_Guest_room.zip\n",
      "3FO4JEDLL3XS_Bedroom.zip\n",
      "3FO4JEDEKUQG_Bedroom.zip\n",
      "3FO4JED127SS_Guest_room.zip\n",
      "3FO4JED127SS_Bedroom.zip\n",
      "3FO4JECY26VU_Guest_room.zip\n",
      "3FO4JECY26VU_Bedroom.zip\n",
      "3FO4JECVGSRT_Bedroom.zip\n",
      "3FO4JECTXENU_Guest_room.zip\n",
      "3FO4JECT382T_Guest_room.zip\n",
      "3FO4JECT382T_Bedroom.zip\n",
      "3FO4JECR5HEK_Bedroom.zip\n",
      "3FO4JECMQY4N_Guest_room.zip\n",
      "3FO4JECMQY4N_Bedroom.zip\n",
      "3FO4JECB1X31_Living_room.zip\n",
      "3FO4JECB1X31_Guest_room.zip\n",
      "3FO4JECB1X31_Dining_room.zip\n",
      "3FO4JECB1X31_Bedroom.zip\n",
      "3FO4JEB0B6HA_Guest_room.zip\n",
      "3FO4JEB0B6HA_Bedroom.zip\n",
      "3FO4JE9B9EG6_Guest_room.zip\n",
      "3FO4JE9B9EG6_Bedroom.zip\n",
      "3FO4JE97AB2K_Bedroom.zip\n",
      "3FO4JE79DC4O_Guest_room.zip\n",
      "3FO4JE79DC4O_Bedroom.zip\n",
      "3FO4JE78XFI8_Bedroom.zip\n",
      "3FO4JE5WK4SQ_Guest_room.zip\n",
      "3FO4JE5WK4SQ_Bedroom.zip\n",
      "3FO4JE5SYEJ5_Guest_room.zip\n",
      "3FO4JE5SYEJ5_Bedroom.zip\n",
      "3FO4JE5IXS9A_Guest_room.zip\n",
      "3FO4JE5IXS9A_Bedroom.zip\n",
      "3FO4JE5EQAM6_Living_room.zip\n",
      "3FO4JE5EQAM6_Bedroom.zip\n",
      "3FO4JE5D7ES2_Guest_room.zip\n",
      "3FO4JE5D7ES2_Bedroom.zip\n",
      "3FO4JE56TMCF_Living_room.zip\n",
      "3FO4JE56TMCF_Bedroom.zip\n",
      "3FO4JE4VD60T_Bedroom.zip\n",
      "3FO4JE4P9TL1_Guest_room.zip\n",
      "3FO4JE4P9TL1_Bedroom.zip\n",
      "3FO4JE4FEXWV_Guest_room.zip\n",
      "3FO4JE4FEXWV_Bedroom.zip\n",
      "3FO4JE441UTT_Guest_room.zip\n",
      "3FO4JE441UTT_Bedroom.zip\n",
      "3FO4JE3QQKX5_Guest_room.zip\n",
      "3FO4JE3QQKX5_Bedroom.zip\n",
      "3FO4JE336NBF_Bedroom.zip\n",
      "3FO4JE2NH4AJ_Guest_room.zip\n",
      "3FO4JE2NH4AJ_Bedroom.zip\n",
      "3FO4JE245CP5_Bedroom.zip\n",
      "3FO4JE19I5FX_Guest_room.zip\n",
      "3FO4JE19I5FX_Bedroom.zip\n",
      "3FO4JE0P1LO4_Bedroom.zip\n",
      "3FO4JE0524AW_Guest_room.zip\n",
      "3FO4JE0524AW_Bedroom.zip\n",
      "3FO4JDY19ANT_Guest_room.zip\n",
      "3FO4JDY19ANT_Bedroom.zip\n",
      "3FO4JDXT2GQI_Living_room.zip\n",
      "3FO4JDXT2GQI_Guest_room.zip\n",
      "3FO4JDXT2GQI_Bedroom.zip\n",
      "3FO4JDXO74YK_Bedroom.zip\n",
      "3FO4JDX87B25_Guest_room.zip\n",
      "3FO4JDX87B25_Bedroom.zip\n",
      "3FO4JDW0LVEE_Guest_room.zip\n",
      "3FO4JDVLDHGC_Bedroom.zip\n",
      "3FO4JDVL73FF_Guest_room.zip\n",
      "3FO4JDVL73FF_Bedroom.zip\n",
      "3FO4JDVK5YIM_Guest_room.zip\n",
      "3FO4JDVK5YIM_Bedroom.zip\n",
      "3FO4JDVG1M8G_Bedroom.zip\n",
      "3FO4JDUXHCEQ_Guest_room.zip\n",
      "3FO4JDUXHCEQ_Bedroom.zip\n",
      "3FO4JDUUNGP6_Bedroom.zip\n",
      "3FO4JDUR3BHQ_Bedroom.zip\n",
      "3FO4JDUIPVIA_Guest_room.zip\n",
      "3FO4JDUIPVIA_Bedroom.zip\n",
      "3FO4JDUIN17F_Guest_room.zip\n",
      "3FO4JDUIN17F_Bedroom.zip\n",
      "3FO4JDUF9NE1_Bedroom.zip\n",
      "3FO4JDUCLSC9_Guest_room.zip\n",
      "3FO4JDUCLSC9_Dining_room.zip\n",
      "3FO4JDUCLSC9_Bedroom.zip\n",
      "3FO4JDU58UF4_Guest_room.zip\n",
      "3FO4JDU58UF4_Bedroom.zip\n",
      "3FO4JDU47344_Guest_room.zip\n",
      "3FO4JDU47344_Bedroom.zip\n",
      "3FO4JDU3I3TX_Guest_room.zip\n",
      "3FO4JDU3I3TX_Bedroom.zip\n",
      "3FO4JDTTI83R_Guest_room.zip\n",
      "3FO4JDTTI83R_Bedroom.zip\n",
      "3FO4JDTBW1EH_Living_room.zip\n",
      "3FO4JDTBW1EH_Bedroom.zip\n",
      "3FO4JDT7VHUG_Bedroom.zip\n",
      "3FO4JDSMMG4E_Guest_room.zip\n",
      "3FO4JDSMMG4E_Bedroom.zip\n",
      "3FO4JDR5DX7J_Bedroom.zip\n",
      "3FO4JDQ8N9ND_Bedroom.zip\n",
      "3FO4JDPTEHC7_Guest_room.zip\n",
      "3FO4JDPTEHC7_Bedroom.zip\n",
      "3FO4JDPB3JMI_Guest_room.zip\n",
      "3FO4JDPB3JMI_Bedroom.zip\n",
      "3FO4JDONATXX_Guest_room.zip\n",
      "3FO4JDONATXX_Bedroom.zip\n",
      "3FO4JDOL76YW_Bedroom.zip\n",
      "3FO4JDM7YU3W_Bedroom.zip\n",
      "3FO4JDM4Q64W_Guest_room.zip\n",
      "3FO4JDLCGRTH_Bedroom.zip\n",
      "3FO4JDJRC3YD_Bedroom.zip\n",
      "3FO4JDJQTPF6_Guest_room.zip\n",
      "3FO4JDJQTPF6_Bedroom.zip\n",
      "3FO4JDJ0JWJ3_Guest_room.zip\n",
      "3FO4JDJ0JWJ3_Bedroom.zip\n",
      "3FO4JDIP8IF0_Guest_room.zip\n",
      "3FO4JDIP8IF0_Bedroom.zip\n",
      "3FO4JDI1QCR4_Guest_room.zip\n",
      "3FO4JDI1QCR4_Bedroom.zip\n",
      "3FO4JDHCKRW8_Guest_room.zip\n",
      "3FO4JDHCKRW8_Bedroom.zip\n",
      "3FO4JDGE9VPJ_Guest_room.zip\n",
      "3FO4JDGE9VPJ_Bedroom.zip\n",
      "3FO4JD9S30VH_Guest_room.zip\n",
      "3FO4JD6KSIWA_Bedroom.zip\n",
      "3FO4JD3XK9HS_Bedroom.zip\n",
      "3FO4JD3LG08W_Bedroom.zip\n",
      "3FO4JCX6TNM6_Bedroom.zip\n",
      "3FO4JCT1WHY8_Bedroom.zip\n",
      "3FO4JCOV1PC8_Guest_room.zip\n",
      "3FO4JCHWG48G_Bedroom.zip\n",
      "3FO4JCERSIUQ_Bedroom.zip\n",
      "3FO4JCCL0RXW_Bedroom.zip\n",
      "3FO4JC9FVRHA_Bedroom.zip\n",
      "3FO4JC6466XE_Bedroom.zip\n",
      "3FO4JC50N7P9_Bedroom.zip\n",
      "3FO4JDG94C6J_Bedroom.zip\n",
      "3FO4JDFHL1OW_Bedroom.zip\n",
      "3FO4JDFB77GY_Living_room.zip\n",
      "3FO4JDFB77GY_Guest_room.zip\n",
      "3FO4JDFB77GY_Bedroom.zip\n",
      "3FO4JDF14YCM_Guest_room.zip\n",
      "3FO4JDF14YCM_Bedroom.zip\n",
      "3FO4JDEUJYWB_Guest_room.zip\n",
      "3FO4JDEUJYWB_Bedroom.zip\n",
      "3FO4JDELWM6V_Guest_room.zip\n",
      "3FO4JDELWM6V_Bedroom.zip\n",
      "3FO4JDDTHI9Q_Guest_room.zip\n",
      "3FO4JDDTHI9Q_Bedroom.zip\n",
      "3FO4JDDDQGXX_Bedroom.zip\n",
      "3FO4JDCO78XY_Guest_room.zip\n",
      "3FO4JDCO78XY_Bedroom.zip\n",
      "3FO4JDC407FI_Living_room.zip\n",
      "3FO4JDBU7O5J_Guest_room.zip\n",
      "3FO4JDBU7O5J_Bedroom.zip\n",
      "3FO4JDBAGOCV_Living_room.zip\n",
      "3FO4JDBAGOCV_Guest_room.zip\n",
      "3FO4JDBAGOCV_Bedroom.zip\n",
      "3FO4JDB4BWRN_Dining_room.zip\n",
      "3FO4JDAEEBNO_Living_room.zip\n",
      "3FO4JDAEEBNO_Guest_room.zip\n",
      "3FO4JDAEEBNO_Bedroom.zip\n",
      "3FO4JD9VULW5_Guest_room.zip\n",
      "3FO4JD9VULW5_Bedroom.zip\n",
      "3FO4JD9S30VH_Bedroom.zip\n",
      "3FO4JD9GS9TF_Guest_room.zip\n",
      "3FO4JD9GS9TF_Bedroom.zip\n",
      "3FO4JD8X171W_Guest_room.zip\n",
      "3FO4JD8X171W_Bedroom.zip\n",
      "3FO4JD7UUOLY_Guest_room.zip\n",
      "3FO4JD7UUOLY_Bedroom.zip\n",
      "3FO4JD7L05JM_Guest_room.zip\n",
      "3FO4JD7L05JM_Bedroom.zip\n",
      "3FO4JD7F17X5_Bedroom.zip\n",
      "3FO4JD6SA3VI_Guest_room.zip\n",
      "3FO4JD6SA3VI_Bedroom.zip\n",
      "3FO4JD6P7SXF_Guest_room.zip\n",
      "3FO4JD6P7SXF_Bedroom.zip\n",
      "3FO4JD6KCKII_Guest_room.zip\n",
      "3FO4JD6KCKII_Bedroom.zip\n",
      "3FO4JD6G9DCO_Guest_room.zip\n",
      "3FO4JD6G9DCO_Bedroom.zip\n",
      "3FO4JD5WDXJ6_Bedroom.zip\n",
      "3FO4JD5RL720_Bedroom.zip\n",
      "3FO4JD5JMLVO_Bedroom.zip\n",
      "3FO4JD4PLIKS_Bedroom.zip\n",
      "3FO4JD4KKTK9_Living_room.zip\n",
      "3FO4JD4KKTK9_Guest_room.zip\n",
      "3FO4JD4KKTK9_Bedroom.zip\n",
      "3FO4JD4H59U7_Guest_room.zip\n",
      "3FO4JD4H59U7_Bedroom.zip\n",
      "3FO4JD3XK9HS_Living_room.zip\n",
      "3FO4JD3WWW34_Living_room.zip\n",
      "3FO4JD3WWW34_Guest_room.zip\n",
      "3FO4JD3WWW34_Dining_room.zip\n",
      "3FO4JD3WWW34_Bedroom.zip\n",
      "3FO4JD3SEVMU_Guest_room.zip\n",
      "3FO4JD3SEVMU_Bedroom.zip\n",
      "3FO4JD3SCVF9_Guest_room.zip\n",
      "3FO4JD3SCVF9_Bedroom.zip\n",
      "3FO4JD3QYTJV_Bedroom.zip\n",
      "3FO4JD3PY0O6_Guest_room.zip\n",
      "3FO4JD3PY0O6_Bedroom.zip\n",
      "3FO4JD3ND2HY_Guest_room.zip\n",
      "3FO4JD3ND2HY_Bedroom.zip\n",
      "3FO4JD3LG08W_Guest_room.zip\n",
      "3FO4JD3II445_Guest_room.zip\n",
      "3FO4JD3II445_Bedroom.zip\n",
      "3FO4JD2G2783_Living_room.zip\n",
      "3FO4JD2G2783_Guest_room.zip\n",
      "3FO4JD2G2783_Bedroom.zip\n",
      "3FO4JD2D7QGC_Guest_room.zip\n",
      "3FO4JD2D7QGC_Bedroom.zip\n",
      "3FO4JD1YNIGI_Guest_room.zip\n",
      "3FO4JD1YNIGI_Bedroom.zip\n",
      "3FO4JD09YY2V_Guest_room.zip\n",
      "3FO4JD09YY2V_Bedroom.zip\n",
      "3FO4JCXFF4H1_Guest_room.zip\n",
      "3FO4JCXFF4H1_Bedroom.zip\n",
      "3FO4JCX6TNM6_Guest_room.zip\n",
      "3FO4JCWE9HHI_Guest_room.zip\n",
      "3FO4JCWE9HHI_Bedroom.zip\n",
      "3FO4JCW5L6BS_Guest_room.zip\n",
      "3FO4JCW5L6BS_Bedroom.zip\n",
      "3FO4JCVVNY7F_Guest_room.zip\n",
      "3FO4JCVVNY7F_Bedroom.zip\n",
      "3FO4JCVUQO1R_Bedroom.zip\n",
      "3FO4JCVNAY5S_Bedroom.zip\n",
      "3FO4JCU8R1H8_Guest_room.zip\n",
      "3FO4JCU8NHR6_Bedroom.zip\n",
      "3FO4JCTCBRE6_Guest_room.zip\n",
      "3FO4JCTCBRE6_Bedroom.zip\n",
      "3FO4JCT6GK6S_Bedroom.zip\n",
      "3FO4JCT1WHY8_Guest_room.zip\n",
      "3FO4JCS76UC0_Guest_room.zip\n",
      "3FO4JCS76UC0_Bedroom.zip\n",
      "3FO4JCQT9R5F_Bedroom.zip\n",
      "3FO4JCPJY2MN_Guest_room.zip\n",
      "3FO4JCPJY2MN_Bedroom.zip\n",
      "3FO4JCPH21L5_Guest_room.zip\n",
      "3FO4JCPH21L5_Bedroom.zip\n",
      "3FO4JCPEH1U8_Guest_room.zip\n",
      "3FO4JCPEH1U8_Bedroom.zip\n",
      "3FO4JCPE1K6L_Guest_room.zip\n",
      "3FO4JCPE1K6L_Bedroom.zip\n",
      "3FO4JCPDRKUW_Living_room.zip\n",
      "3FO4JCPDRKUW_Guest_room.zip\n",
      "3FO4JCPDRKUW_Bedroom.zip\n",
      "3FO4JCOV1PC8_Bedroom.zip\n",
      "3FO4JCN5LS3P_Guest_room.zip\n",
      "3FO4JCN5LS3P_Bedroom.zip\n",
      "3FO4JCMWQ399_Guest_room.zip\n",
      "3FO4JCMWQ399_Bedroom.zip\n",
      "3FO4JCKU2LAK_Guest_room.zip\n",
      "3FO4JCKU2LAK_Bedroom.zip\n",
      "3FO4JCKK5SQU_Guest_room.zip\n",
      "3FO4JCJS6N8H_Bedroom.zip\n",
      "3FO4JCJRQQM1_Bedroom.zip\n",
      "3FO4JCJI9DYM_Guest_room.zip\n",
      "3FO4JCJI9DYM_Bedroom.zip\n",
      "3FO4JCIF2UYW_Guest_room.zip\n",
      "3FO4JCIF2UYW_Bedroom.zip\n",
      "3FO4JCGTKAPX_Guest_room.zip\n",
      "3FO4JCGTKAPX_Bedroom.zip\n",
      "3FO4JCGPUA02_Guest_room.zip\n",
      "3FO4JCGPUA02_Bedroom.zip\n",
      "3FO4JCG8NOV5_Living_room.zip\n",
      "3FO4JCG8NOV5_Guest_room.zip\n",
      "3FO4JCG8NOV5_Bedroom.zip\n",
      "3FO4JCFRM948_Bedroom.zip\n",
      "3FO4JCFRLKP1_Bedroom.zip\n",
      "3FO4JCFHGXYY_Guest_room.zip\n",
      "3FO4JCFHGXYY_Bedroom.zip\n",
      "3FO4JCEUO4QT_Bedroom.zip\n",
      "3FO4JCERSIUQ_Living_room.zip\n",
      "3FO4JCERSIUQ_Guest_room.zip\n",
      "3FO4JCEP0OXH_Guest_room.zip\n",
      "3FO4JCEP0OXH_Bedroom.zip\n",
      "3FO4JCEM3DUV_Guest_room.zip\n",
      "3FO4JCEM3DUV_Bedroom.zip\n",
      "3FO4JCEG34G0_Guest_room.zip\n",
      "3FO4JCEG34G0_Bedroom.zip\n",
      "3FO4JCEA9FQ3_Guest_room.zip\n",
      "3FO4JCEA9FQ3_Bedroom.zip\n",
      "3FO4JCDGBRS8_Guest_room.zip\n",
      "3FO4JCDGBRS8_Bedroom.zip\n",
      "3FO4JCD97WIS_Living_room.zip\n",
      "3FO4JCD97WIS_Guest_room.zip\n",
      "3FO4JCD97WIS_Bedroom.zip\n",
      "3FO4JCCL0RXW_Guest_room.zip\n",
      "3FO4JCC3PHFV_Guest_room.zip\n",
      "3FO4JCC3PHFV_Bedroom.zip\n",
      "3FO4JCBP0247_Guest_room.zip\n",
      "3FO4JCBP0247_Bedroom.zip\n",
      "3FO4JCBILRXF_Guest_room.zip\n",
      "3FO4JCBILRXF_Bedroom.zip\n",
      "3FO4JCBE7EK9_Guest_room.zip\n",
      "3FO4JCBE7EK9_Bedroom.zip\n",
      "3FO4JCAOVARP_Bedroom.zip\n",
      "3FO4JCA21Y9N_Guest_room.zip\n",
      "3FO4JCA21Y9N_Bedroom.zip\n",
      "3FO4JCA1VM12_Guest_room.zip\n",
      "3FO4JCA1VM12_Bedroom.zip\n",
      "3FO4JC9FVRHA_Guest_room.zip\n",
      "3FO4JC8PQ25V_Living_room.zip\n",
      "3FO4JC8PQ25V_Dining_room.zip\n",
      "3FO4JC8PQ25V_Bedroom.zip\n",
      "3FO4JC7R060P_Guest_room.zip\n",
      "3FO4JC7R060P_Bedroom.zip\n",
      "3FO4JC7IUXKP_Bedroom.zip\n",
      "3FO4JC7B8GAP_Guest_room.zip\n",
      "3FO4JC7B8GAP_Bedroom.zip\n",
      "3FO4JC7B5V0X_Guest_room.zip\n",
      "3FO4JC7B5V0X_Bedroom.zip\n",
      "3FO4JC72Y3B6_Bedroom.zip\n",
      "3FO4JC72XSA3_Guest_room.zip\n",
      "3FO4JC72XSA3_Bedroom.zip\n",
      "3FO4JC6J1NA2_Bedroom.zip\n",
      "3FO4JC606LTN_Living_room.zip\n",
      "3FO4JC606LTN_Guest_room.zip\n",
      "3FO4JC606LTN_Bedroom.zip\n",
      "3FO4JC5XNV4V_Guest_room.zip\n",
      "3FO4JC5XNV4V_Bedroom.zip\n",
      "3FO4JC5JM2VS_Living_room.zip\n",
      "3FO4JC5JM2VS_Guest_room.zip\n",
      "3FO4JC5JM2VS_Bedroom.zip\n",
      "3FO4JC5IJPIM_Guest_room.zip\n",
      "3FO4JC5IJPIM_Bedroom.zip\n",
      "3FO4JC5FT6U2_Guest_room.zip\n",
      "3FO4JC5FT6U2_Bedroom.zip\n",
      "3FO4JC57ME5A_Bedroom.zip\n",
      "3FO4JC50N7P9_Living_room.zip\n",
      "3FO4JBWQN25G_Bedroom.zip\n",
      "3FO4JBVH7AF6_Guest_room.zip\n",
      "3FO4JBTKQIOL_Bedroom.zip\n",
      "3FO4JBQWFLUU_Guest_room.zip\n",
      "3FO4JBNXX9SI_Bedroom.zip\n",
      "3FO4JBIWE9CJ_Living_room.zip\n",
      "3FO4JBH09SDV_Bedroom.zip\n",
      "3FO4JBCIVEAX_Guest_room.zip\n",
      "3FO4JB7KR3GR_Bedroom.zip\n",
      "3FO4JB5WW2M5_Bedroom.zip\n",
      "3FO4JB3KJIY2_Bedroom.zip\n",
      "3FO4JB2GHTDB_Bedroom.zip\n",
      "3FO4JB06SJ54_Living_room.zip\n",
      "3FO4JC4XTE56_Living_room.zip\n",
      "3FO4JC4XTE56_Guest_room.zip\n",
      "3FO4JC4XTE56_Bedroom.zip\n",
      "3FO4JC4O8RSS_Guest_room.zip\n",
      "3FO4JC4O8RSS_Bedroom.zip\n",
      "3FO4JC4124Y2_Living_room.zip\n",
      "3FO4JC4124Y2_Bedroom.zip\n",
      "3FO4JC3SYLI1_Bedroom.zip\n",
      "3FO4JC3094CB_Living_room.zip\n",
      "3FO4JC3094CB_Guest_room.zip\n",
      "3FO4JC3094CB_Dining_room.zip\n",
      "3FO4JC28C2DK_Guest_room.zip\n",
      "3FO4JC28C2DK_Bedroom.zip\n",
      "3FO4JC0AV56H_Living_room.zip\n",
      "3FO4JC0AV56H_Bedroom.zip\n",
      "3FO4JBYO6697_Guest_room.zip\n",
      "3FO4JBYO6697_Bedroom.zip\n",
      "3FO4JBY68SCK_Bedroom.zip\n",
      "3FO4JBY06M24_Guest_room.zip\n",
      "3FO4JBY06M24_Bedroom.zip\n",
      "3FO4JBXQ9VMV_Bedroom.zip\n",
      "3FO4JBXHI545_Bedroom.zip\n",
      "3FO4JBX3EBNG_Guest_room.zip\n",
      "3FO4JBX3EBNG_Bedroom.zip\n",
      "3FO4JBX3BX2Q_Bedroom.zip\n",
      "3FO4JBWT59WJ_Guest_room.zip\n",
      "3FO4JBWT59WJ_Bedroom.zip\n",
      "3FO4JBWQN25G_Guest_room.zip\n",
      "3FO4JBWK97WI_Guest_room.zip\n",
      "3FO4JBWK97WI_Bedroom.zip\n",
      "3FO4JBWIS428_Guest_room.zip\n",
      "3FO4JBWIS428_Bedroom.zip\n",
      "3FO4JBWGO2P3_Guest_room.zip\n",
      "3FO4JBWGO2P3_Bedroom.zip\n",
      "3FO4JBVSWLHV_Guest_room.zip\n",
      "3FO4JBVSWLHV_Bedroom.zip\n",
      "3FO4JBVLUX54_Living_room.zip\n",
      "3FO4JBVLUX54_Guest_room.zip\n",
      "3FO4JBVLUX54_Bedroom.zip\n",
      "3FO4JBVL2GPL_Living_room.zip\n",
      "3FO4JBVL2GPL_Guest_room.zip\n",
      "3FO4JBVL2GPL_Bedroom.zip\n",
      "3FO4JBVH7AF6_Bedroom.zip\n",
      "3FO4JBV455XG_Living_room.zip\n",
      "3FO4JBV455XG_Guest_room.zip\n",
      "3FO4JBV455XG_Bedroom.zip\n",
      "3FO4JBUOV3L7_Living_room.zip\n",
      "3FO4JBUOV3L7_Guest_room.zip\n",
      "3FO4JBUOV3L7_Dining_room.zip\n",
      "3FO4JBUOV3L7_Bedroom.zip\n",
      "3FO4JBUFGVAQ_Guest_room.zip\n",
      "3FO4JBUFGVAQ_Bedroom.zip\n",
      "3FO4JBU7HMQ8_Living_room.zip\n",
      "3FO4JBU61C6V_Guest_room.zip\n",
      "3FO4JBU61C6V_Bedroom.zip\n",
      "3FO4JBTKQIOL_Guest_room.zip\n",
      "3FO4JBTFTA23_Bedroom.zip\n",
      "3FO4JBTF30J8_Guest_room.zip\n",
      "3FO4JBTF30J8_Bedroom.zip\n",
      "3FO4JBSS4MDF_Guest_room.zip\n",
      "3FO4JBSS4MDF_Bedroom.zip\n",
      "3FO4JBSQI69J_Living_room.zip\n",
      "3FO4JBRRBIEN_Guest_room.zip\n",
      "3FO4JBRRBIEN_Bedroom.zip\n",
      "3FO4JBRL7VXR_Living_room.zip\n",
      "3FO4JBRL7VXR_Dining_room.zip\n",
      "3FO4JBRL7VXR_Bedroom.zip\n",
      "3FO4JBR6L1JO_Guest_room.zip\n",
      "3FO4JBR6L1JO_Bedroom.zip\n",
      "3FO4JBQXYECX_Bedroom.zip\n",
      "3FO4JBQWFLUU_Bedroom.zip\n",
      "3FO4JBQAVA89_Bedroom.zip\n",
      "3FO4JBQ3YO30_Guest_room.zip\n",
      "3FO4JBQ3YO30_Bedroom.zip\n",
      "3FO4JBPYD4WO_Guest_room.zip\n",
      "3FO4JBPYD4WO_Bedroom.zip\n",
      "3FO4JBPICFW0_Guest_room.zip\n",
      "3FO4JBPICFW0_Bedroom.zip\n",
      "3FO4JBOLF3AT_Guest_room.zip\n",
      "3FO4JBOLF3AT_Bedroom.zip\n",
      "3FO4JBOG95DP_Guest_room.zip\n",
      "3FO4JBOG95DP_Bedroom.zip\n",
      "3FO4JBO5XENT_Guest_room.zip\n",
      "3FO4JBO5XENT_Bedroom.zip\n",
      "3FO4JBNQ7SUM_Living_room.zip\n",
      "3FO4JBNIC0O5_Living_room.zip\n",
      "3FO4JBNIC0O5_Guest_room.zip\n",
      "3FO4JBNIC0O5_Bedroom.zip\n",
      "3FO4JBMOP28H_Bedroom.zip\n",
      "3FO4JBMO5QSP_Bedroom.zip\n",
      "3FO4JBMD7AB1_Bedroom.zip\n",
      "3FO4JBM4JMJI_Guest_room.zip\n",
      "3FO4JBM4JMJI_Bedroom.zip\n",
      "3FO4JBKNO360_Guest_room.zip\n",
      "3FO4JBKNO360_Bedroom.zip\n",
      "3FO4JBJLL60T_Bedroom.zip\n",
      "3FO4JBJ6BGGW_Guest_room.zip\n",
      "3FO4JBJ6BGGW_Bedroom.zip\n",
      "3FO4JBIWE9CJ_Bedroom.zip\n",
      "3FO4JBIBBJHW_Guest_room.zip\n",
      "3FO4JBIBBJHW_Bedroom.zip\n",
      "3FO4JBI4OV3M_Guest_room.zip\n",
      "3FO4JBI4OV3M_Bedroom.zip\n",
      "3FO4JBHPM7RA_Guest_room.zip\n",
      "3FO4JBHPM7RA_Bedroom.zip\n",
      "3FO4JBHDTVGY_Guest_room.zip\n",
      "3FO4JBHDTVGY_Bedroom.zip\n",
      "3FO4JBHA38VL_Living_room.zip\n",
      "3FO4JBHA38VL_Guest_room.zip\n",
      "3FO4JBHA38VL_Bedroom.zip\n",
      "3FO4JBH1NM0H_Bedroom.zip\n",
      "3FO4JBH09SDV_Guest_room.zip\n",
      "3FO4JBG2X0VE_Living_room.zip\n",
      "3FO4JBG2X0VE_Guest_room.zip\n",
      "3FO4JBG2X0VE_Bedroom.zip\n",
      "3FO4JBFSC16W_Guest_room.zip\n",
      "3FO4JBFSC16W_Bedroom.zip\n",
      "3FO4JBFM59E3_Guest_room.zip\n",
      "3FO4JBFM59E3_Bedroom.zip\n",
      "3FO4JBFM4KYV_Bedroom.zip\n",
      "3FO4JBF3H3OQ_Guest_room.zip\n",
      "3FO4JBF3H3OQ_Bedroom.zip\n",
      "3FO4JBEIMGU0_Living_room.zip\n",
      "3FO4JBEIMGU0_Guest_room.zip\n",
      "3FO4JBCW989U_Guest_room.zip\n",
      "3FO4JBCW989U_Bedroom.zip\n",
      "3FO4JBCIVEAX_Bedroom.zip\n",
      "3FO4JBBX159J_Living_room.zip\n",
      "3FO4JBBX159J_Bedroom.zip\n",
      "3FO4JB8DK74S_Living_room.zip\n",
      "3FO4JB8DK74S_Dining_room.zip\n",
      "3FO4JB8DK74S_Bedroom.zip\n",
      "3FO4JB836EF0_Guest_room.zip\n",
      "3FO4JB836EF0_Bedroom.zip\n",
      "3FO4JB7XVS89_Guest_room.zip\n",
      "3FO4JB7XVS89_Bedroom.zip\n",
      "3FO4JB7S4N0S_Guest_room.zip\n",
      "3FO4JB7S4N0S_Bedroom.zip\n",
      "3FO4JB7KR3GR_Living_room.zip\n",
      "3FO4JB7KR3GR_Guest_room.zip\n",
      "3FO4JB7F7RFN_Living_room.zip\n",
      "3FO4JB6GRY5S_Guest_room.zip\n",
      "3FO4JB6GRY5S_Bedroom.zip\n",
      "3FO4JB6GP76Y_Guest_room.zip\n",
      "3FO4JB6GP76Y_Bedroom.zip\n",
      "3FO4JB6G9FH9_Dining_room.zip\n",
      "3FO4JB6G9FH9_Bedroom.zip\n",
      "3FO4JB6EGXPK_Guest_room.zip\n",
      "3FO4JB6EGXPK_Bedroom.zip\n",
      "3FO4JB656XJD_Guest_room.zip\n",
      "3FO4JB656XJD_Bedroom.zip\n",
      "3FO4JB638CRU_Guest_room.zip\n",
      "3FO4JB638CRU_Bedroom.zip\n",
      "3FO4JB5WW2M5_Guest_room.zip\n",
      "3FO4JB5INUD5_Living_room.zip\n",
      "3FO4JB5INUD5_Bedroom.zip\n",
      "3FO4JB5EIJMO_Living_room.zip\n",
      "3FO4JB5EIJMO_Guest_room.zip\n",
      "3FO4JB5EIJMO_Bedroom.zip\n",
      "3FO4JB4S5W23_Bedroom.zip\n",
      "3FO4JB4LNFR2_Living_room.zip\n",
      "3FO4JB4LNFR2_Guest_room.zip\n",
      "3FO4JB4LNFR2_Bedroom.zip\n",
      "3FO4JB3M8KCP_Living_room.zip\n",
      "3FO4JB3M8KCP_Guest_room.zip\n",
      "3FO4JB3M8KCP_Bedroom.zip\n",
      "3FO4JB3KJIY2_Living_room.zip\n",
      "3FO4JB3KJIY2_Guest_room.zip\n",
      "3FO4JB3CETSW_Living_room.zip\n",
      "3FO4JB3CETSW_Guest_room.zip\n",
      "3FO4JB3CETSW_Bedroom.zip\n",
      "3FO4JB34TCQI_Bedroom.zip\n",
      "3FO4JB2YJL39_Living_room.zip\n",
      "3FO4JB2YJL39_Guest_room.zip\n",
      "3FO4JB2YJL39_Bedroom.zip\n",
      "3FO4JB2N27IW_Living_room.zip\n",
      "3FO4JB2N27IW_Dining_room.zip\n",
      "3FO4JB2H6SMH_Living_room.zip\n",
      "3FO4JB2H6SMH_Guest_room.zip\n",
      "3FO4JB2H6SMH_Bedroom.zip\n",
      "3FO4JB2GHTDB_Living_room.zip\n",
      "3FO4JB2GHTDB_Guest_room.zip\n",
      "3FO4JB1U7R2H_Guest_room.zip\n",
      "3FO4JB1U7R2H_Bedroom.zip\n",
      "3FO4JB19GVTE_Living_room.zip\n",
      "3FO4JB19GVTE_Guest_room.zip\n",
      "3FO4JB19GVTE_Bedroom.zip\n",
      "3FO4JB0UBGJ8_Guest_room.zip\n",
      "3FO4JB0UBGJ8_Bedroom.zip\n",
      "3FO4JB0S1V9F_Guest_room.zip\n",
      "3FO4JB0S1V9F_Bedroom.zip\n",
      "3FO4JB0N5V3A_Guest_room.zip\n",
      "3FO4JB0N5V3A_Bedroom.zip\n",
      "3FO4JB0CB1MO_Bedroom.zip\n",
      "3FO4JB0AO0GM_Guest_room.zip\n",
      "3FO4JB0AO0GM_Bedroom.zip\n",
      "3FO4JAWF3L3R_Bedroom.zip\n",
      "3FO4JATGK0K2_Guest_room.zip\n",
      "3FO4JASDFHRX_Dining_room.zip\n",
      "3FO4JAMJW8GK_Guest_room.zip\n",
      "3FO4JAKHKYHJ_Guest_room.zip\n",
      "3FO4JAHYV3VF_Bedroom.zip\n",
      "3FO4JAEUFUYW_Guest_room.zip\n",
      "3FO4JADD9U0S_Guest_room.zip\n",
      "3FO4JAB3GG0D_Bedroom.zip\n",
      "3FO4JA9613UG_Bedroom.zip\n",
      "3FO4JA84LAV7_Guest_room.zip\n",
      "3FO4J9W9J4FV_Guest_room.zip\n",
      "3FO4J9TK56TR_Bedroom.zip\n",
      "3FO4JB06SJ54_Guest_room.zip\n",
      "3FO4JB06SJ54_Bedroom.zip\n",
      "3FO4JAYWA4PE_Living_room.zip\n",
      "3FO4JAYWA4PE_Bedroom.zip\n",
      "3FO4JAYNSHLO_Bedroom.zip\n",
      "3FO4JAYNOAHF_Living_room.zip\n",
      "3FO4JAYNOAHF_Guest_room.zip\n",
      "3FO4JAYNOAHF_Bedroom.zip\n",
      "3FO4JAYN3XAC_Living_room.zip\n",
      "3FO4JAYN3XAC_Guest_room.zip\n",
      "3FO4JAYN3XAC_Dining_room.zip\n",
      "3FO4JAYN3XAC_Bedroom.zip\n",
      "3FO4JAYLKMIE_Living_room.zip\n",
      "3FO4JAYLKMIE_Dining_room.zip\n",
      "3FO4JAYKED22_Guest_room.zip\n",
      "3FO4JAYKED22_Bedroom.zip\n",
      "3FO4JAYK73WV_Guest_room.zip\n",
      "3FO4JAYK73WV_Bedroom.zip\n",
      "3FO4JAYEBICE_Guest_room.zip\n",
      "3FO4JAYEBICE_Bedroom.zip\n",
      "3FO4JAXQN454_Guest_room.zip\n",
      "3FO4JAXQN454_Bedroom.zip\n",
      "3FO4JAXGC6Q6_Living_room.zip\n",
      "3FO4JAXGC6Q6_Guest_room.zip\n",
      "3FO4JAXGC6Q6_Bedroom.zip\n",
      "3FO4JAXFU6K3_Bedroom.zip\n",
      "3FO4JAX9Y0WF_Bedroom.zip\n",
      "3FO4JAWF3L3R_Guest_room.zip\n",
      "3FO4JAWEL47J_Living_room.zip\n",
      "3FO4JAWEL47J_Guest_room.zip\n",
      "3FO4JAWEL47J_Bedroom.zip\n",
      "3FO4JAVA0471_Bedroom.zip\n",
      "3FO4JAU54X6R_Guest_room.zip\n",
      "3FO4JAU54X6R_Bedroom.zip\n",
      "3FO4JAU46L8S_Guest_room.zip\n",
      "3FO4JAU46L8S_Bedroom.zip\n",
      "3FO4JATP1JBQ_Living_room.zip\n",
      "3FO4JATP1JBQ_Guest_room.zip\n",
      "3FO4JATP1JBQ_Dining_room.zip\n",
      "3FO4JATP1JBQ_Bedroom.zip\n",
      "3FO4JATGK794_Guest_room.zip\n",
      "3FO4JATGK794_Bedroom.zip\n",
      "3FO4JATGK0K2_Bedroom.zip\n",
      "3FO4JATCLULQ_Guest_room.zip\n",
      "3FO4JATCLULQ_Bedroom.zip\n",
      "3FO4JAST62DL_Guest_room.zip\n",
      "3FO4JAST62DL_Bedroom.zip\n",
      "3FO4JASSJU39_Guest_room.zip\n",
      "3FO4JASSJU39_Bedroom.zip\n",
      "3FO4JASMR4SM_Guest_room.zip\n",
      "3FO4JASMR4SM_Bedroom.zip\n",
      "3FO4JASI94DD_Guest_room.zip\n",
      "3FO4JASI94DD_Bedroom.zip\n",
      "3FO4JASHTL51_Bedroom.zip\n",
      "3FO4JASDFHRX_Living_room.zip\n",
      "3FO4JASDFHRX_Guest_room.zip\n",
      "3FO4JASDFHRX_Bedroom.zip\n",
      "3FO4JAS7F8D2_Guest_room.zip\n",
      "3FO4JAS7F8D2_Bedroom.zip\n",
      "3FO4JARDNV43_Guest_room.zip\n",
      "3FO4JARDNV43_Bedroom.zip\n",
      "3FO4JAQYHE1L_Dining_room.zip\n",
      "3FO4JAQYHE1L_Bedroom.zip\n",
      "3FO4JAQ5PU3K_Guest_room.zip\n",
      "3FO4JAQ5PU3K_Bedroom.zip\n",
      "3FO4JAO3FJJT_Bedroom.zip\n",
      "3FO4JANILHR9_Guest_room.zip\n",
      "3FO4JANILHR9_Bedroom.zip\n",
      "3FO4JANI7WY7_Living_room.zip\n",
      "3FO4JAMWP3LI_Bedroom.zip\n",
      "3FO4JAMJW8GK_Bedroom.zip\n",
      "3FO4JAMEEWN2_Living_room.zip\n",
      "3FO4JAMEEWN2_Guest_room.zip\n",
      "3FO4JAMEEWN2_Dining_room.zip\n",
      "3FO4JAMEEWN2_Bedroom.zip\n",
      "3FO4JAM5HC5K_Guest_room.zip\n",
      "3FO4JAM5HC5K_Bedroom.zip\n",
      "3FO4JAM5BOUV_Bedroom.zip\n",
      "3FO4JALOU7WX_Bedroom.zip\n",
      "3FO4JAKQ4IGT_Bedroom.zip\n",
      "3FO4JAKI7A4W_Living_room.zip\n",
      "3FO4JAKI7A4W_Guest_room.zip\n",
      "3FO4JAKI7A4W_Bedroom.zip\n",
      "3FO4JAKHKYHJ_Living_room.zip\n",
      "3FO4JAKHKYHJ_Dining_room.zip\n",
      "3FO4JAKHKYHJ_Bedroom.zip\n",
      "3FO4JAK6W5OQ_Guest_room.zip\n",
      "3FO4JAK6W5OQ_Bedroom.zip\n",
      "3FO4JAJG91T5_Guest_room.zip\n",
      "3FO4JAJG91T5_Bedroom.zip\n",
      "3FO4JAJG83DU_Living_room.zip\n",
      "3FO4JAJG83DU_Guest_room.zip\n",
      "3FO4JAJG83DU_Bedroom.zip\n",
      "3FO4JAJ7DN8B_Guest_room.zip\n",
      "3FO4JAJ7DN8B_Bedroom.zip\n",
      "3FO4JAIQ2TRL_Guest_room.zip\n",
      "3FO4JAIQ2TRL_Bedroom.zip\n",
      "3FO4JAHYV3VF_Guest_room.zip\n",
      "3FO4JAHP6UHY_Living_room.zip\n",
      "3FO4JAHP6UHY_Guest_room.zip\n",
      "3FO4JAHP6UHY_Bedroom.zip\n",
      "3FO4JAHLWERQ_Guest_room.zip\n",
      "3FO4JAHLWERQ_Bedroom.zip\n",
      "3FO4JAH3TELF_Bedroom.zip\n",
      "3FO4JAGQJEPT_Bedroom.zip\n",
      "3FO4JAGMQFC2_Living_room.zip\n",
      "3FO4JAGMQFC2_Guest_room.zip\n",
      "3FO4JAGMQFC2_Dining_room.zip\n",
      "3FO4JAGMQFC2_Bedroom.zip\n",
      "3FO4JAFX2P6Q_Living_room.zip\n",
      "3FO4JAFEV2XC_Guest_room.zip\n",
      "3FO4JAFEV2XC_Bedroom.zip\n",
      "3FO4JAEUFUYW_Dining_room.zip\n",
      "3FO4JAEUFUYW_Bedroom.zip\n",
      "3FO4JAET1KN6_Living_room.zip\n",
      "3FO4JAET1KN6_Guest_room.zip\n",
      "3FO4JAET1KN6_Bedroom.zip\n",
      "3FO4JAEDQOF7_Living_room.zip\n",
      "3FO4JAEDQOF7_Guest_room.zip\n",
      "3FO4JAEDQOF7_Bedroom.zip\n",
      "3FO4JAED4PDM_Bedroom.zip\n",
      "3FO4JAE7EKDR_Bedroom.zip\n",
      "3FO4JADWYBB0_Living_room.zip\n",
      "3FO4JADWYBB0_Guest_room.zip\n",
      "3FO4JADWYBB0_Bedroom.zip\n",
      "3FO4JADD9U0S_Living_room.zip\n",
      "3FO4JADD9U0S_Bedroom.zip\n",
      "3FO4JADAAPEN_Bedroom.zip\n",
      "3FO4JAD6G7IF_Guest_room.zip\n",
      "3FO4JAD6G7IF_Bedroom.zip\n",
      "3FO4JAD3JN72_Guest_room.zip\n",
      "3FO4JAD3JN72_Bedroom.zip\n",
      "3FO4JACAX8L1_Guest_room.zip\n",
      "3FO4JACAX8L1_Bedroom.zip\n",
      "3FO4JAC9KXGV_Guest_room.zip\n",
      "3FO4JAC9KXGV_Bedroom.zip\n",
      "3FO4JABKHH6M_Guest_room.zip\n",
      "3FO4JABKHH6M_Bedroom.zip\n",
      "3FO4JABD4J9H_Guest_room.zip\n",
      "3FO4JABD4J9H_Bedroom.zip\n",
      "3FO4JAALJILC_Guest_room.zip\n",
      "3FO4JAALJILC_Bedroom.zip\n",
      "3FO4JAAKHWYE_Living_room.zip\n",
      "3FO4JAA7ULR4_Guest_room.zip\n",
      "3FO4JAA7ULR4_Bedroom.zip\n",
      "3FO4JA9I2B4F_Bedroom.zip\n",
      "3FO4JA9GISNF_Living_room.zip\n",
      "3FO4JA9GISNF_Bedroom.zip\n",
      "3FO4JA9C3XK4_Guest_room.zip\n",
      "3FO4JA9C3XK4_Bedroom.zip\n",
      "3FO4JA98VLEI_Living_room.zip\n",
      "3FO4JA96S8GK_Guest_room.zip\n",
      "3FO4JA96S8GK_Bedroom.zip\n",
      "3FO4JA9613UG_Guest_room.zip\n",
      "3FO4JA95PB18_Guest_room.zip\n",
      "3FO4JA95PB18_Bedroom.zip\n",
      "3FO4JA928YJX_Guest_room.zip\n",
      "3FO4JA928YJX_Bedroom.zip\n",
      "3FO4JA8KUY7K_Guest_room.zip\n",
      "3FO4JA8KUY7K_Bedroom.zip\n",
      "3FO4JA8ATYJL_Bedroom.zip\n",
      "3FO4JA89RC5C_Bedroom.zip\n",
      "3FO4JA89PILS_Living_room.zip\n",
      "3FO4JA89PILS_Guest_room.zip\n",
      "3FO4JA89PILS_Dining_room.zip\n",
      "3FO4JA89PILS_Bedroom.zip\n",
      "3FO4JA84MTDN_Guest_room.zip\n",
      "3FO4JA84MTDN_Bedroom.zip\n",
      "3FO4JA84LAV7_Bedroom.zip\n",
      "3FO4JA84IPLF_Guest_room.zip\n",
      "3FO4JA84IPLF_Bedroom.zip\n",
      "3FO4JA7V9Q00_Guest_room.zip\n",
      "3FO4JA7V9Q00_Bedroom.zip\n",
      "3FO4JA7S9TMM_Living_room.zip\n",
      "3FO4JA7S9TMM_Guest_room.zip\n",
      "3FO4JA7S9TMM_Bedroom.zip\n",
      "3FO4J9WASWMA_Living_room.zip\n",
      "3FO4J9WASWMA_Guest_room.zip\n",
      "3FO4J9WASWMA_Dining_room.zip\n",
      "3FO4J9WASWMA_Bedroom.zip\n",
      "3FO4J9WAD99L_Guest_room.zip\n",
      "3FO4J9WAD99L_Bedroom.zip\n",
      "3FO4J9W9J4FV_Bedroom.zip\n",
      "3FO4J9VYXERH_Guest_room.zip\n",
      "3FO4J9VYXERH_Bedroom.zip\n",
      "3FO4J9VVLR5L_Guest_room.zip\n",
      "3FO4J9V66UTG_Guest_room.zip\n",
      "3FO4J9V66UTG_Bedroom.zip\n",
      "3FO4J9UKVNY2_Bedroom.zip\n",
      "3FO4J9UBCRT7_Living_room.zip\n",
      "3FO4J9UBCRT7_Guest_room.zip\n",
      "3FO4J9UBCRT7_Bedroom.zip\n",
      "3FO4J9TKUYMH_Living_room.zip\n",
      "3FO4J9TKUYMH_Guest_room.zip\n",
      "3FO4J9TKUYMH_Bedroom.zip\n",
      "3FO4J9TK56TR_Guest_room.zip\n",
      "3FO4J9NYAJWQ_Guest_room.zip\n",
      "3FO4J9LHUE60_Bedroom.zip\n",
      "3FO4J9GOH4MH_Guest_room.zip\n",
      "3FO4J9DF5BHN_Guest_room.zip\n",
      "3FO4J98NK3S0_Guest_room.zip\n",
      "3FO4J967W2MD_Living_room.zip\n",
      "3FO4J94Q4837_Guest_room.zip\n",
      "3FO4J93S6EYF_Guest_room.zip\n",
      "3FO4J90RDMJ1_Bedroom.zip\n",
      "3FO4J8YCLKN1_Bedroom.zip\n",
      "3FO4J8TWMDJS_Bedroom.zip\n",
      "3FO4J8Q16XCL_Guest_room.zip\n",
      "3FO4J8NXA8TG_Bedroom.zip\n",
      "3FO4J9THQ12L_Bedroom.zip\n",
      "3FO4J9T9SL1M_Living_room.zip\n",
      "3FO4J9T9SL1M_Guest_room.zip\n",
      "3FO4J9T9SL1M_Dining_room.zip\n",
      "3FO4J9SK40S2_Guest_room.zip\n",
      "3FO4J9SK40S2_Bedroom.zip\n",
      "3FO4J9SJ6SYF_Living_room.zip\n",
      "3FO4J9SJ6SYF_Guest_room.zip\n",
      "3FO4J9SJ6SYF_Dining_room.zip\n",
      "3FO4J9SJ6SYF_Bedroom.zip\n",
      "3FO4J9S6SR3W_Guest_room.zip\n",
      "3FO4J9S6SR3W_Bedroom.zip\n",
      "3FO4J9RVB5MY_Living_room.zip\n",
      "3FO4J9RLOO8C_Guest_room.zip\n",
      "3FO4J9RDU4I8_Bedroom.zip\n",
      "3FO4J9QUPASD_Bedroom.zip\n",
      "3FO4J9QPRXST_Bedroom.zip\n",
      "3FO4J9PYV2BL_Living_room.zip\n",
      "3FO4J9PYV2BL_Guest_room.zip\n",
      "3FO4J9PYV2BL_Bedroom.zip\n",
      "3FO4J9PR8QPN_Guest_room.zip\n",
      "3FO4J9PR8QPN_Bedroom.zip\n",
      "3FO4J9PQHDUR_Living_room.zip\n",
      "3FO4J9PQHDUR_Guest_room.zip\n",
      "3FO4J9PQHDUR_Dining_room.zip\n",
      "3FO4J9PQHDUR_Bedroom.zip\n",
      "3FO4J9O3SH0Y_Bedroom.zip\n",
      "3FO4J9NYAJWQ_Living_room.zip\n",
      "3FO4J9NYAJWQ_Bedroom.zip\n",
      "3FO4J9NM1VUJ_Guest_room.zip\n",
      "3FO4J9NM1VUJ_Bedroom.zip\n",
      "3FO4J9N4BLE1_Guest_room.zip\n",
      "3FO4J9N4BLE1_Bedroom.zip\n",
      "3FO4J9MQF7J1_Living_room.zip\n",
      "3FO4J9MQF7J1_Guest_room.zip\n",
      "3FO4J9MQF7J1_Bedroom.zip\n",
      "3FO4J9MF1TEV_Guest_room.zip\n",
      "3FO4J9MF1TEV_Bedroom.zip\n",
      "3FO4J9M75655_Guest_room.zip\n",
      "3FO4J9M75655_Bedroom.zip\n",
      "3FO4J9LMB10J_Guest_room.zip\n",
      "3FO4J9LMB10J_Bedroom.zip\n",
      "3FO4J9KUJBAE_Guest_room.zip\n",
      "3FO4J9KUJBAE_Bedroom.zip\n",
      "3FO4J9KOHP24_Bedroom.zip\n",
      "3FO4J9KM8I5F_Bedroom.zip\n",
      "3FO4J9JKP9S5_Guest_room.zip\n",
      "3FO4J9JKP9S5_Bedroom.zip\n",
      "3FO4J9IV39TC_Living_room.zip\n",
      "3FO4J9IV39TC_Bedroom.zip\n",
      "3FO4J9IN5QGC_Guest_room.zip\n",
      "3FO4J9IN5QGC_Bedroom.zip\n",
      "3FO4J9I8PK49_Living_room.zip\n",
      "3FO4J9I8PK49_Guest_room.zip\n",
      "3FO4J9HYGP2E_Guest_room.zip\n",
      "3FO4J9HYGP2E_Bedroom.zip\n",
      "3FO4J9GOH4MH_Bedroom.zip\n",
      "3FO4J9GLB7MB_Guest_room.zip\n",
      "3FO4J9GLB7MB_Bedroom.zip\n",
      "3FO4J9GIJSUH_Guest_room.zip\n",
      "3FO4J9GIJSUH_Bedroom.zip\n",
      "3FO4J9FY8MC9_Guest_room.zip\n",
      "3FO4J9FY8MC9_Bedroom.zip\n",
      "3FO4J9FY88Y5_Guest_room.zip\n",
      "3FO4J9FY88Y5_Bedroom.zip\n",
      "3FO4J9FWIMIB_Living_room.zip\n",
      "3FO4J9FWIMIB_Guest_room.zip\n",
      "3FO4J9FWIMIB_Bedroom.zip\n",
      "3FO4J9E2VROU_Bedroom.zip\n",
      "3FO4J9DNL6U5_Bedroom.zip\n",
      "3FO4J9DF5BHN_Bedroom.zip\n",
      "3FO4J9C8QJOD_Bedroom.zip\n",
      "3FO4J9C6P09Y_Bedroom.zip\n",
      "3FO4J9B61U6O_Guest_room.zip\n",
      "3FO4J9B61U6O_Bedroom.zip\n",
      "3FO4J9B3CJYH_Guest_room.zip\n",
      "3FO4J9B3CJYH_Bedroom.zip\n",
      "3FO4J99NG4A6_Guest_room.zip\n",
      "3FO4J99NG4A6_Bedroom.zip\n",
      "3FO4J98TBUMC_Guest_room.zip\n",
      "3FO4J98TBUMC_Bedroom.zip\n",
      "3FO4J98NVNDG_Living_room.zip\n",
      "3FO4J98NVNDG_Guest_room.zip\n",
      "3FO4J98NVNDG_Bedroom.zip\n",
      "3FO4J98NK3S0_Bedroom.zip\n",
      "3FO4J98C5AIF_Guest_room.zip\n",
      "3FO4J98C5AIF_Bedroom.zip\n",
      "3FO4J986LWWL_Bedroom.zip\n",
      "3FO4J980M57U_Guest_room.zip\n",
      "3FO4J980M57U_Bedroom.zip\n",
      "3FO4J97G6JVB_Guest_room.zip\n",
      "3FO4J97G6JVB_Bedroom.zip\n",
      "3FO4J97F59AG_Guest_room.zip\n",
      "3FO4J97F59AG_Bedroom.zip\n",
      "3FO4J96N727D_Guest_room.zip\n",
      "3FO4J96N727D_Bedroom.zip\n",
      "3FO4J969ELN3_Guest_room.zip\n",
      "3FO4J969ELN3_Bedroom.zip\n",
      "3FO4J967W2MD_Dining_room.zip\n",
      "3FO4J967W2MD_Bedroom.zip\n",
      "3FO4J966CP34_Guest_room.zip\n",
      "3FO4J966CP34_Bedroom.zip\n",
      "3FO4J9669QF8_Living_room.zip\n",
      "3FO4J9669QF8_Guest_room.zip\n",
      "3FO4J9669QF8_Dining_room.zip\n",
      "3FO4J9669QF8_Bedroom.zip\n",
      "3FO4J95IMHCA_Dining_room.zip\n",
      "3FO4J95IMHCA_Bedroom.zip\n",
      "3FO4J95ADV3Y_Guest_room.zip\n",
      "3FO4J95ADV3Y_Bedroom.zip\n",
      "3FO4J94U0MU0_Guest_room.zip\n",
      "3FO4J94U0MU0_Bedroom.zip\n",
      "3FO4J94Q4837_Bedroom.zip\n",
      "3FO4J94MOP5G_Bedroom.zip\n",
      "3FO4J94ET0B0_Guest_room.zip\n",
      "3FO4J94ET0B0_Bedroom.zip\n",
      "3FO4J94DHXN8_Guest_room.zip\n",
      "3FO4J94DHXN8_Bedroom.zip\n",
      "3FO4J94BRUH9_Guest_room.zip\n",
      "3FO4J94BRUH9_Bedroom.zip\n",
      "3FO4J9472O9U_Bedroom.zip\n",
      "3FO4J93YU09A_Living_room.zip\n",
      "3FO4J93YU09A_Guest_room.zip\n",
      "3FO4J93YU09A_Bedroom.zip\n",
      "3FO4J93XL5I6_Guest_room.zip\n",
      "3FO4J93XL5I6_Bedroom.zip\n",
      "3FO4J93S6EYF_Bedroom.zip\n",
      "3FO4J932TAM4_Bedroom.zip\n",
      "3FO4J92KPKT2_Living_room.zip\n",
      "3FO4J92KPKT2_Guest_room.zip\n",
      "3FO4J92KPKT2_Dining_room.zip\n",
      "3FO4J92KPKT2_Bedroom.zip\n",
      "3FO4J91VLTHP_Guest_room.zip\n",
      "3FO4J91VLTHP_Bedroom.zip\n",
      "3FO4J91RWKI2_Guest_room.zip\n",
      "3FO4J91RWKI2_Bedroom.zip\n",
      "3FO4J91P4X9U_Dining_room.zip\n",
      "3FO4J91E9IR3_Living_room.zip\n",
      "3FO4J91E9IR3_Dining_room.zip\n",
      "3FO4J90RDMJ1_Guest_room.zip\n",
      "3FO4J90JPGTT_Bedroom.zip\n",
      "3FO4J90ALRCI_Bedroom.zip\n",
      "3FO4J903JSXN_Bedroom.zip\n",
      "3FO4J8YUTD0R_Bedroom.zip\n",
      "3FO4J8YU70L3_Guest_room.zip\n",
      "3FO4J8YU70L3_Bedroom.zip\n",
      "3FO4J8YQNAJ3_Bedroom.zip\n",
      "3FO4J8YLLN39_Guest_room.zip\n",
      "3FO4J8YLLN39_Bedroom.zip\n",
      "3FO4J8YKMTF5_Guest_room.zip\n",
      "3FO4J8YKMTF5_Bedroom.zip\n",
      "3FO4J8YE2YJE_Guest_room.zip\n",
      "3FO4J8YE2YJE_Bedroom.zip\n",
      "3FO4J8YCLKN1_Guest_room.zip\n",
      "3FO4J8Y9I5KL_Guest_room.zip\n",
      "3FO4J8Y9I5KL_Bedroom.zip\n",
      "3FO4J8WJXEX4_Guest_room.zip\n",
      "3FO4J8WJXEX4_Bedroom.zip\n",
      "3FO4J8VY4HP4_Guest_room.zip\n",
      "3FO4J8VY4HP4_Bedroom.zip\n",
      "3FO4J8VJ0M4X_Bedroom.zip\n",
      "3FO4J8UYLDLS_Bedroom.zip\n",
      "3FO4J8UJLIGT_Guest_room.zip\n",
      "3FO4J8UJLIGT_Bedroom.zip\n",
      "3FO4J8UDJIUF_Bedroom.zip\n",
      "3FO4J8UD85Y1_Guest_room.zip\n",
      "3FO4J8UD85Y1_Bedroom.zip\n",
      "3FO4J8TWMDJS_Guest_room.zip\n",
      "3FO4J8T0998W_Bedroom.zip\n",
      "3FO4J8SX2J9Y_Guest_room.zip\n",
      "3FO4J8SX2J9Y_Bedroom.zip\n",
      "3FO4J8SM3B12_Guest_room.zip\n",
      "3FO4J8SM3B12_Bedroom.zip\n",
      "3FO4J8SCQHBB_Bedroom.zip\n",
      "3FO4J8RVKJE2_Guest_room.zip\n",
      "3FO4J8RVKJE2_Bedroom.zip\n",
      "3FO4J8RCMCLP_Living_room.zip\n",
      "3FO4J8RCMCLP_Guest_room.zip\n",
      "3FO4J8RCMCLP_Bedroom.zip\n",
      "3FO4J8RC1SPK_Bedroom.zip\n",
      "3FO4J8QOK089_Guest_room.zip\n",
      "3FO4J8QOK089_Bedroom.zip\n",
      "3FO4J8Q16XCL_Bedroom.zip\n",
      "3FO4J8PS5L8G_Living_room.zip\n",
      "3FO4J8PS5L8G_Guest_room.zip\n",
      "3FO4J8PS5L8G_Bedroom.zip\n",
      "3FO4J8P19B0X_Guest_room.zip\n",
      "3FO4J8P19B0X_Bedroom.zip\n",
      "3FO4J8OSTMWA_Guest_room.zip\n",
      "3FO4J8OSTMWA_Bedroom.zip\n",
      "3FO4J8O4JE80_Guest_room.zip\n",
      "3FO4J8O4JE80_Bedroom.zip\n",
      "3FO4J8O4G5J1_Guest_room.zip\n",
      "3FO4J8O4G5J1_Bedroom.zip\n",
      "3FO4J8NXA8TG_Living_room.zip\n",
      "3FO4J8NXA8TG_Guest_room.zip\n",
      "3FO4J8HT5MN1_Bedroom.zip\n",
      "3FO4J8FN314P_Bedroom.zip\n",
      "3FO4J8CMOA7I_Guest_room.zip\n",
      "3FO4J8C37JQM_Living_room.zip\n",
      "3FO4J8AUE7KI_Living_room.zip\n",
      "3FO4J87RG1YK_Bedroom.zip\n",
      "3FO4J84R0RJW_Guest_room.zip\n",
      "3FO4J83XPUEU_Bathroom.zip\n"
     ]
    },
    {
     "name": "stderr",
     "output_type": "stream",
     "text": [
      "Downloading...\n",
      "From: https://drive.google.com/uc?id=1xYCbvkxYlZPYegTMlTu6WNb2g0CM4s1w&export=download\n",
      "To: /media/scratch1/erbachj/Mask_RCNN/data/InteriorNet/data/HD7/val/3FO4J83XPUEU_Bathroom.zip\n",
      "52.3MB [00:04, 12.6MB/s]\n"
     ]
    },
    {
     "name": "stdout",
     "output_type": "stream",
     "text": [
      "Number of Living_rooms: 0.0\n",
      "Number of Bedrooms: 0.0\n",
      "Number of Dining_rooms: 0.0\n",
      "Number of Guest_rooms: 0.0\n",
      "3FO4J81SFA5M_Bathroom.zip\n"
     ]
    },
    {
     "name": "stderr",
     "output_type": "stream",
     "text": [
      "Downloading...\n",
      "From: https://drive.google.com/uc?id=1baMF2PTdTEA6Q1FoMS9-IgcmHVo7XvUI&export=download\n",
      "To: /media/scratch1/erbachj/Mask_RCNN/data/InteriorNet/data/HD7/test/3FO4J81SFA5M_Bathroom.zip\n",
      "48.2MB [00:01, 24.4MB/s]\n"
     ]
    },
    {
     "name": "stdout",
     "output_type": "stream",
     "text": [
      "3FO4J80PJ9Y2_Bathroom.zip\n"
     ]
    },
    {
     "name": "stderr",
     "output_type": "stream",
     "text": [
      "Downloading...\n",
      "From: https://drive.google.com/uc?id=1lhvZt7SRUYlhLBIfBNiyxnVclaCa4RD9&export=download\n",
      "To: /media/scratch1/erbachj/Mask_RCNN/data/InteriorNet/data/HD7/test/3FO4J80PJ9Y2_Bathroom.zip\n",
      "55.1MB [00:01, 47.4MB/s]\n"
     ]
    },
    {
     "name": "stdout",
     "output_type": "stream",
     "text": [
      "3FO4J7YY1JJL_Bathroom.zip\n"
     ]
    },
    {
     "name": "stderr",
     "output_type": "stream",
     "text": [
      "Downloading...\n",
      "From: https://drive.google.com/uc?id=1zshu4Ud8TAxsBXxSXwaKcolrEZ0SuOyy&export=download\n",
      "To: /media/scratch1/erbachj/Mask_RCNN/data/InteriorNet/data/HD7/test/3FO4J7YY1JJL_Bathroom.zip\n",
      "36.5MB [00:00, 66.0MB/s]\n"
     ]
    },
    {
     "name": "stdout",
     "output_type": "stream",
     "text": [
      "3FO4J7Y0SW1V_Bathroom.zip\n"
     ]
    },
    {
     "name": "stderr",
     "output_type": "stream",
     "text": [
      "Downloading...\n",
      "From: https://drive.google.com/uc?id=1TKJVcwMgDvgH38HvaYe3BOO2Tyt0uHH8&export=download\n",
      "To: /media/scratch1/erbachj/Mask_RCNN/data/InteriorNet/data/HD7/test/3FO4J7Y0SW1V_Bathroom.zip\n",
      "46.3MB [00:01, 34.2MB/s]\n"
     ]
    },
    {
     "name": "stdout",
     "output_type": "stream",
     "text": [
      "3FO4J7URXHSF_Bathroom.zip\n"
     ]
    },
    {
     "name": "stderr",
     "output_type": "stream",
     "text": [
      "Downloading...\n",
      "From: https://drive.google.com/uc?id=1snBQ6E3PH27byVKc2caIXKUt2piEv3zc&export=download\n",
      "To: /media/scratch1/erbachj/Mask_RCNN/data/InteriorNet/data/HD7/test/3FO4J7URXHSF_Bathroom.zip\n",
      "37.8MB [00:00, 70.2MB/s]\n"
     ]
    },
    {
     "name": "stdout",
     "output_type": "stream",
     "text": [
      "3FO4J8NUUI04_Living_room.zip\n"
     ]
    },
    {
     "name": "stderr",
     "output_type": "stream",
     "text": [
      "Downloading...\n",
      "From: https://drive.google.com/uc?id=1tck-aRtblkcbCmaIt69ShDwfd9y2GUN6&export=download\n",
      "To: /media/scratch1/erbachj/Mask_RCNN/data/InteriorNet/data/HD7/test/3FO4J8NUUI04_Living_room.zip\n",
      "64.9MB [00:01, 55.8MB/s]\n"
     ]
    },
    {
     "name": "stdout",
     "output_type": "stream",
     "text": [
      "3FO4J8NUUI04_Bedroom.zip\n"
     ]
    },
    {
     "name": "stderr",
     "output_type": "stream",
     "text": [
      "Downloading...\n",
      "From: https://drive.google.com/uc?id=1U8YytjHgrqzAsYjuXiLz4erMEiPkl0wG&export=download\n",
      "To: /media/scratch1/erbachj/Mask_RCNN/data/InteriorNet/data/HD7/test/3FO4J8NUUI04_Bedroom.zip\n",
      "83.9MB [00:00, 101MB/s] \n"
     ]
    },
    {
     "name": "stdout",
     "output_type": "stream",
     "text": [
      "3FO4J8NN729T_Guest_room.zip\n"
     ]
    },
    {
     "name": "stderr",
     "output_type": "stream",
     "text": [
      "Downloading...\n",
      "From: https://drive.google.com/uc?id=1t1G7rsZkflbv6R_HXvvFInkGWVCCTS9n&export=download\n",
      "To: /media/scratch1/erbachj/Mask_RCNN/data/InteriorNet/data/HD7/test/3FO4J8NN729T_Guest_room.zip\n",
      "66.5MB [00:03, 20.1MB/s]\n"
     ]
    },
    {
     "name": "stdout",
     "output_type": "stream",
     "text": [
      "3FO4J8NHVW8G_Living_room.zip\n"
     ]
    },
    {
     "name": "stderr",
     "output_type": "stream",
     "text": [
      "Downloading...\n",
      "From: https://drive.google.com/uc?id=1_xa6gx92_r_-zPP-KilwrCkRsfh1fZyt&export=download\n",
      "To: /media/scratch1/erbachj/Mask_RCNN/data/InteriorNet/data/HD7/test/3FO4J8NHVW8G_Living_room.zip\n",
      "76.9MB [00:02, 37.3MB/s]\n"
     ]
    },
    {
     "name": "stdout",
     "output_type": "stream",
     "text": [
      "3FO4J8NHVW8G_Guest_room.zip\n"
     ]
    },
    {
     "name": "stderr",
     "output_type": "stream",
     "text": [
      "Downloading...\n",
      "From: https://drive.google.com/uc?id=1A6M8O-W_j-gnheeSOpFCApoYMhfzAf6f&export=download\n",
      "To: /media/scratch1/erbachj/Mask_RCNN/data/InteriorNet/data/HD7/test/3FO4J8NHVW8G_Guest_room.zip\n",
      "59.1MB [00:02, 25.6MB/s]\n"
     ]
    },
    {
     "name": "stdout",
     "output_type": "stream",
     "text": [
      "3FO4J8NHVW8G_Bedroom.zip\n"
     ]
    },
    {
     "name": "stderr",
     "output_type": "stream",
     "text": [
      "Downloading...\n",
      "From: https://drive.google.com/uc?id=1QgiJ5ectNOG8ZSiy0FcFUd0L0lDWKW7f&export=download\n",
      "To: /media/scratch1/erbachj/Mask_RCNN/data/InteriorNet/data/HD7/test/3FO4J8NHVW8G_Bedroom.zip\n",
      "62.9MB [00:00, 71.3MB/s]\n"
     ]
    },
    {
     "name": "stdout",
     "output_type": "stream",
     "text": [
      "3FO4J8NHBNDE_Guest_room.zip\n"
     ]
    },
    {
     "name": "stderr",
     "output_type": "stream",
     "text": [
      "Downloading...\n",
      "From: https://drive.google.com/uc?id=188lKyVAFZ7HP-aFDdNOnzdRdyazNk-4H&export=download\n",
      "To: /media/scratch1/erbachj/Mask_RCNN/data/InteriorNet/data/HD7/test/3FO4J8NHBNDE_Guest_room.zip\n",
      "77.6MB [00:01, 72.4MB/s]\n"
     ]
    },
    {
     "name": "stdout",
     "output_type": "stream",
     "text": [
      "3FO4J8NHBNDE_Bedroom.zip\n"
     ]
    },
    {
     "name": "stderr",
     "output_type": "stream",
     "text": [
      "Downloading...\n",
      "From: https://drive.google.com/uc?id=11w8Mv-cyrUtK_PupNvr_a6Tapv_yaT5t&export=download\n",
      "To: /media/scratch1/erbachj/Mask_RCNN/data/InteriorNet/data/HD7/test/3FO4J8NHBNDE_Bedroom.zip\n",
      "57.8MB [00:00, 66.0MB/s]\n"
     ]
    },
    {
     "name": "stdout",
     "output_type": "stream",
     "text": [
      "3FO4J8NF7SPB_Living_room.zip\n"
     ]
    },
    {
     "name": "stderr",
     "output_type": "stream",
     "text": [
      "Downloading...\n",
      "From: https://drive.google.com/uc?id=1V-KUr-8-PlZBlvrYGntt4jW1YggP_zHr&export=download\n",
      "To: /media/scratch1/erbachj/Mask_RCNN/data/InteriorNet/data/HD7/test/3FO4J8NF7SPB_Living_room.zip\n",
      "77.9MB [00:03, 25.7MB/s]\n"
     ]
    },
    {
     "name": "stdout",
     "output_type": "stream",
     "text": [
      "3FO4J8NF7SPB_Guest_room.zip\n"
     ]
    },
    {
     "name": "stderr",
     "output_type": "stream",
     "text": [
      "Downloading...\n",
      "From: https://drive.google.com/uc?id=1M7MFyUtMdwQc8Gnm23ryRriiljfL3upF&export=download\n",
      "To: /media/scratch1/erbachj/Mask_RCNN/data/InteriorNet/data/HD7/test/3FO4J8NF7SPB_Guest_room.zip\n",
      "68.2MB [00:01, 65.5MB/s]\n"
     ]
    },
    {
     "name": "stdout",
     "output_type": "stream",
     "text": [
      "3FO4J8NF7SPB_Bedroom.zip\n"
     ]
    },
    {
     "name": "stderr",
     "output_type": "stream",
     "text": [
      "Downloading...\n",
      "From: https://drive.google.com/uc?id=1KVCvQpJdeA_I7qtaZxTSqq0UC8HgCE0o&export=download\n",
      "To: /media/scratch1/erbachj/Mask_RCNN/data/InteriorNet/data/HD7/test/3FO4J8NF7SPB_Bedroom.zip\n",
      "61.2MB [00:02, 30.4MB/s]\n"
     ]
    },
    {
     "name": "stdout",
     "output_type": "stream",
     "text": [
      "3FO4J8LXY68V_Living_room.zip\n"
     ]
    },
    {
     "name": "stderr",
     "output_type": "stream",
     "text": [
      "Downloading...\n",
      "From: https://drive.google.com/uc?id=1qOj4r1UA4tV5phceNwNDhsS7oYEfb0XO&export=download\n",
      "To: /media/scratch1/erbachj/Mask_RCNN/data/InteriorNet/data/HD7/test/3FO4J8LXY68V_Living_room.zip\n",
      "60.1MB [00:02, 21.8MB/s]\n"
     ]
    },
    {
     "name": "stdout",
     "output_type": "stream",
     "text": [
      "3FO4J8LXY68V_Bedroom.zip\n"
     ]
    },
    {
     "name": "stderr",
     "output_type": "stream",
     "text": [
      "Downloading...\n",
      "From: https://drive.google.com/uc?id=1SfzV2CdNIhaCro4f8ijy61iMgtRdd03l&export=download\n",
      "To: /media/scratch1/erbachj/Mask_RCNN/data/InteriorNet/data/HD7/test/3FO4J8LXY68V_Bedroom.zip\n",
      "45.9MB [00:02, 21.9MB/s]\n"
     ]
    },
    {
     "name": "stdout",
     "output_type": "stream",
     "text": [
      "3FO4J8JSX20H_Bedroom.zip\n"
     ]
    },
    {
     "name": "stderr",
     "output_type": "stream",
     "text": [
      "Downloading...\n",
      "From: https://drive.google.com/uc?id=1cZVqwuqvKFpWzQSmAzc8KYW8e2P1pJdc&export=download\n",
      "To: /media/scratch1/erbachj/Mask_RCNN/data/InteriorNet/data/HD7/test/3FO4J8JSX20H_Bedroom.zip\n",
      "76.4MB [00:01, 61.3MB/s]\n"
     ]
    },
    {
     "name": "stdout",
     "output_type": "stream",
     "text": [
      "3FO4J8JJHHVM_Bedroom.zip\n"
     ]
    },
    {
     "name": "stderr",
     "output_type": "stream",
     "text": [
      "Downloading...\n",
      "From: https://drive.google.com/uc?id=1_6hRzLbAby17msXXc7F0DFF07m4yo23R&export=download\n",
      "To: /media/scratch1/erbachj/Mask_RCNN/data/InteriorNet/data/HD7/test/3FO4J8JJHHVM_Bedroom.zip\n",
      "47.8MB [00:02, 22.0MB/s]\n"
     ]
    },
    {
     "name": "stdout",
     "output_type": "stream",
     "text": [
      "3FO4J8J7513A_Guest_room.zip\n"
     ]
    },
    {
     "name": "stderr",
     "output_type": "stream",
     "text": [
      "Downloading...\n",
      "From: https://drive.google.com/uc?id=1tRSGRinw-Nt67P4yNfZRDBXtfngieO6s&export=download\n",
      "To: /media/scratch1/erbachj/Mask_RCNN/data/InteriorNet/data/HD7/test/3FO4J8J7513A_Guest_room.zip\n",
      "50.8MB [00:01, 32.1MB/s]\n"
     ]
    },
    {
     "name": "stdout",
     "output_type": "stream",
     "text": [
      "3FO4J8J7513A_Bedroom.zip\n"
     ]
    },
    {
     "name": "stderr",
     "output_type": "stream",
     "text": [
      "Downloading...\n",
      "From: https://drive.google.com/uc?id=1gbMzI6lv3JSWV4oa-Y-ybRVGxw5cud8H&export=download\n",
      "To: /media/scratch1/erbachj/Mask_RCNN/data/InteriorNet/data/HD7/test/3FO4J8J7513A_Bedroom.zip\n",
      "61.7MB [00:01, 58.5MB/s]\n"
     ]
    },
    {
     "name": "stdout",
     "output_type": "stream",
     "text": [
      "3FO4J8J588UB_Guest_room.zip\n"
     ]
    },
    {
     "name": "stderr",
     "output_type": "stream",
     "text": [
      "Downloading...\n",
      "From: https://drive.google.com/uc?id=1o3XRb9qlKI4UAt62bmQUEgcG-S3dHpmq&export=download\n",
      "To: /media/scratch1/erbachj/Mask_RCNN/data/InteriorNet/data/HD7/test/3FO4J8J588UB_Guest_room.zip\n",
      "65.8MB [00:01, 61.6MB/s]\n"
     ]
    },
    {
     "name": "stdout",
     "output_type": "stream",
     "text": [
      "3FO4J8J588UB_Bedroom.zip\n"
     ]
    },
    {
     "name": "stderr",
     "output_type": "stream",
     "text": [
      "Downloading...\n",
      "From: https://drive.google.com/uc?id=1MRlSegOYzjBbD6W7895arcZjQO1ULw2x&export=download\n",
      "To: /media/scratch1/erbachj/Mask_RCNN/data/InteriorNet/data/HD7/test/3FO4J8J588UB_Bedroom.zip\n",
      "66.7MB [00:01, 52.1MB/s]\n"
     ]
    },
    {
     "name": "stdout",
     "output_type": "stream",
     "text": [
      "3FO4J8IKMVCC_Guest_room.zip\n",
      "3FO4J8IKMVCC_Bedroom.zip\n",
      "3FO4J8IBFD3V_Guest_room.zip\n",
      "3FO4J8IBFD3V_Bedroom.zip\n",
      "3FO4J8I9LWVW_Guest_room.zip\n",
      "3FO4J8I9LWVW_Bedroom.zip\n",
      "3FO4J8HVJSF7_Guest_room.zip\n",
      "3FO4J8HVJSF7_Bedroom.zip\n",
      "3FO4J8HT5MN1_Guest_room.zip\n",
      "3FO4J8GXGQEU_Living_room.zip\n"
     ]
    },
    {
     "name": "stderr",
     "output_type": "stream",
     "text": [
      "Downloading...\n",
      "From: https://drive.google.com/uc?id=1C3cCut34EvKj3D0t8kJz1AmygTejr7yt&export=download\n",
      "To: /media/scratch1/erbachj/Mask_RCNN/data/InteriorNet/data/HD7/test/3FO4J8GXGQEU_Living_room.zip\n",
      "57.0MB [00:00, 64.1MB/s]\n"
     ]
    },
    {
     "name": "stdout",
     "output_type": "stream",
     "text": [
      "3FO4J8GXGQEU_Guest_room.zip\n",
      "3FO4J8GXGQEU_Bedroom.zip\n",
      "3FO4J8GQTHXE_Bedroom.zip\n",
      "3FO4J8GM1D34_Guest_room.zip\n",
      "3FO4J8GLKBCB_Bedroom.zip\n",
      "3FO4J8GL6X8B_Guest_room.zip\n",
      "3FO4J8GL6X8B_Bedroom.zip\n",
      "3FO4J8G72D1E_Guest_room.zip\n",
      "3FO4J8G72D1E_Bedroom.zip\n",
      "3FO4J8FQ4JBK_Living_room.zip\n"
     ]
    },
    {
     "name": "stderr",
     "output_type": "stream",
     "text": [
      "Downloading...\n",
      "From: https://drive.google.com/uc?id=16-vjPdCRtLFh-DNUNzCg7qJBNJ4kmNI8&export=download\n",
      "To: /media/scratch1/erbachj/Mask_RCNN/data/InteriorNet/data/HD7/test/3FO4J8FQ4JBK_Living_room.zip\n",
      "70.2MB [00:01, 54.8MB/s]\n"
     ]
    },
    {
     "name": "stdout",
     "output_type": "stream",
     "text": [
      "3FO4J8FQ4JBK_Guest_room.zip\n",
      "3FO4J8FQ4JBK_Bedroom.zip\n",
      "3FO4J8FN314P_Guest_room.zip\n",
      "3FO4J8FLAQ23_Bedroom.zip\n",
      "3FO4J8EF2VJK_Bedroom.zip\n",
      "3FO4J8EATW7B_Guest_room.zip\n",
      "3FO4J8EATW7B_Bedroom.zip\n",
      "3FO4J8E55SYR_Dining_room.zip\n"
     ]
    },
    {
     "name": "stderr",
     "output_type": "stream",
     "text": [
      "Downloading...\n",
      "From: https://drive.google.com/uc?id=12hV_vqE3DjVY1s100AUFa-iLXYXGKNrs&export=download\n",
      "To: /media/scratch1/erbachj/Mask_RCNN/data/InteriorNet/data/HD7/test/3FO4J8E55SYR_Dining_room.zip\n",
      "65.4MB [00:03, 21.1MB/s]\n"
     ]
    },
    {
     "name": "stdout",
     "output_type": "stream",
     "text": [
      "3FO4J8E3R3P7_Living_room.zip\n"
     ]
    },
    {
     "name": "stderr",
     "output_type": "stream",
     "text": [
      "Downloading...\n",
      "From: https://drive.google.com/uc?id=1amFm0QtMruQPh7RjV0jo-EEsewMwgmFf&export=download\n",
      "To: /media/scratch1/erbachj/Mask_RCNN/data/InteriorNet/data/HD7/test/3FO4J8E3R3P7_Living_room.zip\n",
      "67.0MB [00:02, 23.6MB/s]\n"
     ]
    },
    {
     "name": "stdout",
     "output_type": "stream",
     "text": [
      "3FO4J8E3R3P7_Dining_room.zip\n"
     ]
    },
    {
     "name": "stderr",
     "output_type": "stream",
     "text": [
      "Downloading...\n",
      "From: https://drive.google.com/uc?id=1byonu2PJzPx4RsnXwQBQyFs8hrHUHKGX&export=download\n",
      "To: /media/scratch1/erbachj/Mask_RCNN/data/InteriorNet/data/HD7/test/3FO4J8E3R3P7_Dining_room.zip\n",
      "63.4MB [00:00, 81.7MB/s]\n"
     ]
    },
    {
     "name": "stdout",
     "output_type": "stream",
     "text": [
      "3FO4J8DYKJID_Living_room.zip\n"
     ]
    },
    {
     "name": "stderr",
     "output_type": "stream",
     "text": [
      "Downloading...\n",
      "From: https://drive.google.com/uc?id=1fNxdWzpeFe2vks_tE4AbtCRlfUiNJrWh&export=download\n",
      "To: /media/scratch1/erbachj/Mask_RCNN/data/InteriorNet/data/HD7/test/3FO4J8DYKJID_Living_room.zip\n",
      "55.7MB [00:02, 26.5MB/s]\n"
     ]
    },
    {
     "name": "stdout",
     "output_type": "stream",
     "text": [
      "3FO4J8DYKJID_Guest_room.zip\n",
      "3FO4J8DUGNXC_Living_room.zip\n"
     ]
    },
    {
     "name": "stderr",
     "output_type": "stream",
     "text": [
      "Downloading...\n",
      "From: https://drive.google.com/uc?id=1bpHijQ-n4ZVg0FeCF1TzAa6LEN8nY2Qr&export=download\n",
      "To: /media/scratch1/erbachj/Mask_RCNN/data/InteriorNet/data/HD7/test/3FO4J8DUGNXC_Living_room.zip\n",
      "67.3MB [00:01, 51.7MB/s]\n"
     ]
    },
    {
     "name": "stdout",
     "output_type": "stream",
     "text": [
      "3FO4J8DUGNXC_Dining_room.zip\n"
     ]
    },
    {
     "name": "stderr",
     "output_type": "stream",
     "text": [
      "Downloading...\n",
      "From: https://drive.google.com/uc?id=1PsxFbGveo2uTmLKQFq6LsS1Jq4bKn1Cc&export=download\n",
      "To: /media/scratch1/erbachj/Mask_RCNN/data/InteriorNet/data/HD7/test/3FO4J8DUGNXC_Dining_room.zip\n",
      "61.8MB [00:00, 62.6MB/s]\n"
     ]
    },
    {
     "name": "stdout",
     "output_type": "stream",
     "text": [
      "3FO4J8DTFK1J_Living_room.zip\n"
     ]
    },
    {
     "name": "stderr",
     "output_type": "stream",
     "text": [
      "Downloading...\n",
      "From: https://drive.google.com/uc?id=18lqiHJVMkm8zq6-5fba_cfLCK-nJbCnO&export=download\n",
      "To: /media/scratch1/erbachj/Mask_RCNN/data/InteriorNet/data/HD7/test/3FO4J8DTFK1J_Living_room.zip\n",
      "64.3MB [00:02, 25.0MB/s]\n"
     ]
    },
    {
     "name": "stdout",
     "output_type": "stream",
     "text": [
      "3FO4J8DTFK1J_Dining_room.zip\n"
     ]
    },
    {
     "name": "stderr",
     "output_type": "stream",
     "text": [
      "Downloading...\n",
      "From: https://drive.google.com/uc?id=1JjMamGvelJPSZ5qI-R1kTT9hM3pv8JD0&export=download\n",
      "To: /media/scratch1/erbachj/Mask_RCNN/data/InteriorNet/data/HD7/test/3FO4J8DTFK1J_Dining_room.zip\n",
      "78.0MB [00:00, 88.0MB/s]\n"
     ]
    },
    {
     "name": "stdout",
     "output_type": "stream",
     "text": [
      "3FO4J8CMQDR5_Bedroom.zip\n",
      "3FO4J8CMOA7I_Bedroom.zip\n",
      "3FO4J8CF1YLK_Living_room.zip\n"
     ]
    },
    {
     "name": "stderr",
     "output_type": "stream",
     "text": [
      "Downloading...\n",
      "From: https://drive.google.com/uc?id=1Ukchry5T-QBX0AdLWLgMuE0ic1T-suqZ&export=download\n",
      "To: /media/scratch1/erbachj/Mask_RCNN/data/InteriorNet/data/HD7/test/3FO4J8CF1YLK_Living_room.zip\n",
      "51.3MB [00:01, 29.1MB/s]\n"
     ]
    },
    {
     "name": "stdout",
     "output_type": "stream",
     "text": [
      "3FO4J8CF1YLK_Guest_room.zip\n",
      "3FO4J8CF1YLK_Bedroom.zip\n",
      "3FO4J8CEMD17_Dining_room.zip\n"
     ]
    },
    {
     "name": "stderr",
     "output_type": "stream",
     "text": [
      "Downloading...\n",
      "From: https://drive.google.com/uc?id=1mrgT9MVZLoPe_f74FqSCtuq07nrTdt8H&export=download\n",
      "To: /media/scratch1/erbachj/Mask_RCNN/data/InteriorNet/data/HD7/test/3FO4J8CEMD17_Dining_room.zip\n",
      "74.0MB [00:03, 21.2MB/s]\n"
     ]
    },
    {
     "name": "stdout",
     "output_type": "stream",
     "text": [
      "3FO4J8CEMD17_Bedroom.zip\n",
      "3FO4J8CEMD17_Bathroom.zip\n"
     ]
    },
    {
     "name": "stderr",
     "output_type": "stream",
     "text": [
      "Downloading...\n",
      "From: https://drive.google.com/uc?id=1c_oPLytbko0Wg5Wc7kmvj3JzEBh2iCyC&export=download\n",
      "To: /media/scratch1/erbachj/Mask_RCNN/data/InteriorNet/data/HD7/test/3FO4J8CEMD17_Bathroom.zip\n",
      "56.6MB [00:00, 66.8MB/s]\n"
     ]
    },
    {
     "name": "stdout",
     "output_type": "stream",
     "text": [
      "3FO4J8C9IW1T_Bedroom.zip\n",
      "3FO4J8C9IW1T_Bathroom.zip\n"
     ]
    },
    {
     "name": "stderr",
     "output_type": "stream",
     "text": [
      "Downloading...\n",
      "From: https://drive.google.com/uc?id=1th70gErepADF2FMMAzkmhGT5LEGbSmfG&export=download\n",
      "To: /media/scratch1/erbachj/Mask_RCNN/data/InteriorNet/data/HD7/test/3FO4J8C9IW1T_Bathroom.zip\n",
      "53.1MB [00:02, 26.1MB/s]\n"
     ]
    },
    {
     "name": "stdout",
     "output_type": "stream",
     "text": [
      "3FO4J8C7V0RI_Bathroom.zip\n"
     ]
    },
    {
     "name": "stderr",
     "output_type": "stream",
     "text": [
      "Downloading...\n",
      "From: https://drive.google.com/uc?id=1GvQv1mo3PT8FoXZdWobI75ODl9rGNg5y&export=download\n",
      "To: /media/scratch1/erbachj/Mask_RCNN/data/InteriorNet/data/HD7/test/3FO4J8C7V0RI_Bathroom.zip\n",
      "53.1MB [00:00, 54.4MB/s]\n"
     ]
    },
    {
     "name": "stdout",
     "output_type": "stream",
     "text": [
      "3FO4J8C7KHYD_Living_room.zip\n"
     ]
    },
    {
     "name": "stderr",
     "output_type": "stream",
     "text": [
      "Downloading...\n",
      "From: https://drive.google.com/uc?id=1x6IqP4HRzbwwjDCKntu9JuNRu3Iks9NO&export=download\n",
      "To: /media/scratch1/erbachj/Mask_RCNN/data/InteriorNet/data/HD7/test/3FO4J8C7KHYD_Living_room.zip\n",
      "57.9MB [00:02, 22.5MB/s]\n"
     ]
    },
    {
     "name": "stdout",
     "output_type": "stream",
     "text": [
      "3FO4J8C7KHYD_Guest_room.zip\n",
      "3FO4J8C7KHYD_Bedroom.zip\n",
      "3FO4J8C7KHYD_Bathroom.zip\n"
     ]
    },
    {
     "name": "stderr",
     "output_type": "stream",
     "text": [
      "Downloading...\n",
      "From: https://drive.google.com/uc?id=1OwI4nraCdxojcd42UXfN8nRMq-N78C7u&export=download\n",
      "To: /media/scratch1/erbachj/Mask_RCNN/data/InteriorNet/data/HD7/test/3FO4J8C7KHYD_Bathroom.zip\n",
      "59.7MB [00:00, 80.8MB/s]\n"
     ]
    },
    {
     "name": "stdout",
     "output_type": "stream",
     "text": [
      "3FO4J8C37JQM_Guest_room.zip\n",
      "3FO4J8C37JQM_Dining_room.zip\n"
     ]
    },
    {
     "name": "stderr",
     "output_type": "stream",
     "text": [
      "Downloading...\n",
      "From: https://drive.google.com/uc?id=1WmTRwGdjNryVhWbm8DppMA6PPMp-rQAr&export=download\n",
      "To: /media/scratch1/erbachj/Mask_RCNN/data/InteriorNet/data/HD7/test/3FO4J8C37JQM_Dining_room.zip\n",
      "63.5MB [00:01, 44.7MB/s]\n"
     ]
    },
    {
     "name": "stdout",
     "output_type": "stream",
     "text": [
      "3FO4J8C37JQM_Bedroom.zip\n",
      "3FO4J8C37JQM_Bathroom.zip\n"
     ]
    },
    {
     "name": "stderr",
     "output_type": "stream",
     "text": [
      "Downloading...\n",
      "From: https://drive.google.com/uc?id=1tumeYA4PVzuayZ0ms0qFaBFIiswBgshf&export=download\n",
      "To: /media/scratch1/erbachj/Mask_RCNN/data/InteriorNet/data/HD7/test/3FO4J8C37JQM_Bathroom.zip\n",
      "55.0MB [00:01, 45.1MB/s]\n"
     ]
    },
    {
     "name": "stdout",
     "output_type": "stream",
     "text": [
      "3FO4J8C1D9GE_Living_room.zip\n"
     ]
    },
    {
     "name": "stderr",
     "output_type": "stream",
     "text": [
      "Downloading...\n",
      "From: https://drive.google.com/uc?id=1HXiPDKp-Pll8i2wZ9I2eu2x0dRKOp-S8&export=download\n",
      "To: /media/scratch1/erbachj/Mask_RCNN/data/InteriorNet/data/HD7/test/3FO4J8C1D9GE_Living_room.zip\n",
      "54.9MB [00:01, 52.2MB/s]\n"
     ]
    },
    {
     "name": "stdout",
     "output_type": "stream",
     "text": [
      "3FO4J8C1D9GE_Bedroom.zip\n",
      "3FO4J8C1D9GE_Bathroom.zip\n"
     ]
    },
    {
     "name": "stderr",
     "output_type": "stream",
     "text": [
      "Downloading...\n",
      "From: https://drive.google.com/uc?id=1oVQ1YPf8fObZvT5PjUdVHIMF33Bh-Pju&export=download\n",
      "To: /media/scratch1/erbachj/Mask_RCNN/data/InteriorNet/data/HD7/test/3FO4J8C1D9GE_Bathroom.zip\n",
      "47.7MB [00:00, 63.1MB/s]\n"
     ]
    },
    {
     "name": "stdout",
     "output_type": "stream",
     "text": [
      "3FO4J8BEC4BR_Living_room.zip\n"
     ]
    },
    {
     "name": "stderr",
     "output_type": "stream",
     "text": [
      "Downloading...\n",
      "From: https://drive.google.com/uc?id=14BVdPfmh4csy7rYmzV97TfIyhbWyxCkN&export=download\n",
      "To: /media/scratch1/erbachj/Mask_RCNN/data/InteriorNet/data/HD7/test/3FO4J8BEC4BR_Living_room.zip\n",
      "63.5MB [00:02, 23.0MB/s]\n"
     ]
    },
    {
     "name": "stdout",
     "output_type": "stream",
     "text": [
      "3FO4J8BEC4BR_Guest_room.zip\n",
      "3FO4J8BEC4BR_Dining_room.zip\n"
     ]
    },
    {
     "name": "stderr",
     "output_type": "stream",
     "text": [
      "Downloading...\n",
      "From: https://drive.google.com/uc?id=1XYmt4dbLAOOiFjRCrI8ecxS3Z3buWMFL&export=download\n",
      "To: /media/scratch1/erbachj/Mask_RCNN/data/InteriorNet/data/HD7/test/3FO4J8BEC4BR_Dining_room.zip\n",
      "46.0MB [00:01, 30.0MB/s]\n"
     ]
    },
    {
     "name": "stdout",
     "output_type": "stream",
     "text": [
      "3FO4J8BEC4BR_Bedroom.zip\n",
      "3FO4J8BEC4BR_Bathroom.zip\n"
     ]
    },
    {
     "name": "stderr",
     "output_type": "stream",
     "text": [
      "Downloading...\n",
      "From: https://drive.google.com/uc?id=1cxvRUpX27f2UhmUWnc_gL3kfXBOTA6oc&export=download\n",
      "To: /media/scratch1/erbachj/Mask_RCNN/data/InteriorNet/data/HD7/test/3FO4J8BEC4BR_Bathroom.zip\n",
      "55.2MB [00:00, 85.1MB/s]\n"
     ]
    },
    {
     "name": "stdout",
     "output_type": "stream",
     "text": [
      "3FO4J8B108S5_Guest_room.zip\n",
      "3FO4J8B108S5_Bedroom.zip\n",
      "3FO4J8AGKBUS_Guest_room.zip\n",
      "3FO4J8AGKBUS_Bedroom.zip\n",
      "3FO4J88YCHD5_Guest_room.zip\n",
      "3FO4J88YCHD5_Bedroom.zip\n",
      "3FO4J88YCHD5_Bathroom.zip\n"
     ]
    },
    {
     "name": "stderr",
     "output_type": "stream",
     "text": [
      "Downloading...\n",
      "From: https://drive.google.com/uc?id=10e53db7LS-YHOdsTrB1pE0cECfgUduQF&export=download\n",
      "To: /media/scratch1/erbachj/Mask_RCNN/data/InteriorNet/data/HD7/test/3FO4J88YCHD5_Bathroom.zip\n",
      "45.1MB [00:00, 50.2MB/s]\n"
     ]
    },
    {
     "name": "stdout",
     "output_type": "stream",
     "text": [
      "3FO4J88OIGS9_Guest_room.zip\n",
      "3FO4J88OIGS9_Bedroom.zip\n",
      "3FO4J88OIGS9_Bathroom.zip\n"
     ]
    },
    {
     "name": "stderr",
     "output_type": "stream",
     "text": [
      "Downloading...\n",
      "From: https://drive.google.com/uc?id=1HkYXafJv54BpAG3CTtl8pLxv_BrlnlDr&export=download\n",
      "To: /media/scratch1/erbachj/Mask_RCNN/data/InteriorNet/data/HD7/test/3FO4J88OIGS9_Bathroom.zip\n",
      "47.0MB [00:00, 73.0MB/s]\n"
     ]
    },
    {
     "name": "stdout",
     "output_type": "stream",
     "text": [
      "3FO4J87YVDHF_Living_room.zip\n"
     ]
    },
    {
     "name": "stderr",
     "output_type": "stream",
     "text": [
      "Downloading...\n",
      "From: https://drive.google.com/uc?id=1IGXZopZQgslDqJlGUadwqOJZ9W0kWC15&export=download\n",
      "To: /media/scratch1/erbachj/Mask_RCNN/data/InteriorNet/data/HD7/test/3FO4J87YVDHF_Living_room.zip\n",
      "64.9MB [00:01, 53.8MB/s]\n"
     ]
    },
    {
     "name": "stdout",
     "output_type": "stream",
     "text": [
      "3FO4J87XX88I_Living_room.zip\n"
     ]
    },
    {
     "name": "stderr",
     "output_type": "stream",
     "text": [
      "Downloading...\n",
      "From: https://drive.google.com/uc?id=1_A8c-t-Hd0O1aRHopxr-TzWgr9K4I3vL&export=download\n",
      "To: /media/scratch1/erbachj/Mask_RCNN/data/InteriorNet/data/HD7/test/3FO4J87XX88I_Living_room.zip\n",
      "64.8MB [00:00, 78.0MB/s]\n"
     ]
    },
    {
     "name": "stdout",
     "output_type": "stream",
     "text": [
      "3FO4J87VRU2Y_Guest_room.zip\n",
      "3FO4J87VRU2Y_Bedroom.zip\n",
      "3FO4J87VRU2Y_Bathroom.zip\n"
     ]
    },
    {
     "name": "stderr",
     "output_type": "stream",
     "text": [
      "Downloading...\n",
      "From: https://drive.google.com/uc?id=1BxaLlfh2adzO9cmsEqEBRRFdrHhMuQWg&export=download\n",
      "To: /media/scratch1/erbachj/Mask_RCNN/data/InteriorNet/data/HD7/test/3FO4J87VRU2Y_Bathroom.zip\n",
      "48.4MB [00:01, 46.1MB/s]\n"
     ]
    },
    {
     "name": "stdout",
     "output_type": "stream",
     "text": [
      "3FO4J87RG1YK_Guest_room.zip\n",
      "3FO4J87RG1YK_Bathroom.zip\n"
     ]
    },
    {
     "name": "stderr",
     "output_type": "stream",
     "text": [
      "Downloading...\n",
      "From: https://drive.google.com/uc?id=12nGi3zDPmyFT9Vq6F-Y3DH8aU8AM9Aja&export=download\n",
      "To: /media/scratch1/erbachj/Mask_RCNN/data/InteriorNet/data/HD7/test/3FO4J87RG1YK_Bathroom.zip\n",
      "49.8MB [00:00, 53.3MB/s]\n"
     ]
    },
    {
     "name": "stdout",
     "output_type": "stream",
     "text": [
      "3FO4J87PGOGT_Guest_room.zip\n",
      "3FO4J87PGOGT_Bedroom.zip\n",
      "3FO4J87PGOGT_Bathroom.zip\n"
     ]
    },
    {
     "name": "stderr",
     "output_type": "stream",
     "text": [
      "Downloading...\n",
      "From: https://drive.google.com/uc?id=1nOqAKzmrepI3tb-cPNX5kFvkjIR5HWUe&export=download\n",
      "To: /media/scratch1/erbachj/Mask_RCNN/data/InteriorNet/data/HD7/test/3FO4J87PGOGT_Bathroom.zip\n",
      "53.5MB [00:02, 26.6MB/s]\n"
     ]
    },
    {
     "name": "stdout",
     "output_type": "stream",
     "text": [
      "3FO4J87CHM01_Guest_room.zip\n",
      "3FO4J87CHM01_Bedroom.zip\n",
      "3FO4J85T8GVI_Guest_room.zip\n",
      "3FO4J85T8GVI_Bedroom.zip\n",
      "3FO4J85T8GVI_Bathroom.zip\n"
     ]
    },
    {
     "name": "stderr",
     "output_type": "stream",
     "text": [
      "Downloading...\n",
      "From: https://drive.google.com/uc?id=1b-c3WZ_TXlWLL0DGkah0E9pCZglVjvji&export=download\n",
      "To: /media/scratch1/erbachj/Mask_RCNN/data/InteriorNet/data/HD7/test/3FO4J85T8GVI_Bathroom.zip\n",
      "59.3MB [00:03, 19.2MB/s]\n"
     ]
    },
    {
     "name": "stdout",
     "output_type": "stream",
     "text": [
      "3FO4J85T5S9P_Living_room.zip\n"
     ]
    },
    {
     "name": "stderr",
     "output_type": "stream",
     "text": [
      "Downloading...\n",
      "From: https://drive.google.com/uc?id=1zqUp_lGP36jrV4MvJiem08JRwK-6vVwE&export=download\n",
      "To: /media/scratch1/erbachj/Mask_RCNN/data/InteriorNet/data/HD7/test/3FO4J85T5S9P_Living_room.zip\n",
      "58.3MB [00:01, 33.2MB/s]\n"
     ]
    },
    {
     "name": "stdout",
     "output_type": "stream",
     "text": [
      "3FO4J85T5S9P_Guest_room.zip\n",
      "3FO4J85T5S9P_Dining_room.zip\n"
     ]
    },
    {
     "name": "stderr",
     "output_type": "stream",
     "text": [
      "Downloading...\n",
      "From: https://drive.google.com/uc?id=1gTObiv1z-S3SClfLjKUSlwKFZfNDC6tz&export=download\n",
      "To: /media/scratch1/erbachj/Mask_RCNN/data/InteriorNet/data/HD7/test/3FO4J85T5S9P_Dining_room.zip\n",
      "53.4MB [00:01, 49.0MB/s]\n"
     ]
    },
    {
     "name": "stdout",
     "output_type": "stream",
     "text": [
      "3FO4J85T5S9P_Bedroom.zip\n",
      "3FO4J85T5S9P_Bathroom.zip\n"
     ]
    },
    {
     "name": "stderr",
     "output_type": "stream",
     "text": [
      "Downloading...\n",
      "From: https://drive.google.com/uc?id=1tzQ0BBfrxaOZ4-224zJg0-2DKUiDbb1Q&export=download\n",
      "To: /media/scratch1/erbachj/Mask_RCNN/data/InteriorNet/data/HD7/test/3FO4J85T5S9P_Bathroom.zip\n",
      "29.0MB [00:00, 76.9MB/s]\n"
     ]
    },
    {
     "name": "stdout",
     "output_type": "stream",
     "text": [
      "3FO4J84R0RJW_Bedroom.zip\n",
      "3FO4J84O36G8_Guest_room.zip\n",
      "3FO4J84O36G8_Bedroom.zip\n",
      "3FO4J84O36G8_Bathroom.zip\n"
     ]
    },
    {
     "name": "stderr",
     "output_type": "stream",
     "text": [
      "Downloading...\n",
      "From: https://drive.google.com/uc?id=1nTmQ8kqIBZ51eShH1SpWgtGAGNxESckg&export=download\n",
      "To: /media/scratch1/erbachj/Mask_RCNN/data/InteriorNet/data/HD7/test/3FO4J84O36G8_Bathroom.zip\n",
      "62.3MB [00:02, 23.3MB/s]\n"
     ]
    },
    {
     "name": "stdout",
     "output_type": "stream",
     "text": [
      "3FO4J84M03JD_Dining_room.zip\n"
     ]
    },
    {
     "name": "stderr",
     "output_type": "stream",
     "text": [
      "Downloading...\n",
      "From: https://drive.google.com/uc?id=1MgiydgZbabtFq106I3wk9CQol4GyKD3Z&export=download\n",
      "To: /media/scratch1/erbachj/Mask_RCNN/data/InteriorNet/data/HD7/test/3FO4J84M03JD_Dining_room.zip\n",
      "63.4MB [00:00, 68.1MB/s]\n"
     ]
    }
   ],
   "source": [
    "import os\n",
    "import glob\n",
    "import csv\n",
    "import gdown\n",
    "from zipfile import ZipFile\n",
    "import numpy as np\n",
    "import re\n",
    "\n",
    "ROOT_DIR = os.path.abspath('../../')\n",
    "\n",
    "list_csv = os.path.join(ROOT_DIR, 'data/InteriorNet', 'list_of_files_inHD7.csv')\n",
    "\n",
    "\n",
    "subsets = ['train', 'val', 'test']\n",
    "size_of = {'train': 500, 'val': 60, 'test': 60 }\n",
    "room_distribution = {'Living_room':0.5, 'Bedroom':0.15, 'Dining_room':0.25, 'Guest_room':0.1}\n",
    "dataset = 'data/InteriorNet/data/HD7'\n",
    "downloaded_scenes = []\n",
    "\n",
    "is_living_room = lambda x: bool(re.search('Living_room' ,x))\n",
    "is_bedroom = lambda x: bool(re.search('Bedroom' ,x))\n",
    "is_diningroom = lambda x: bool(re.search('Dining_room' ,x))\n",
    "is_guestroom = lambda x: bool(re.search('Guest_room' ,x))\n",
    "\n",
    "\n",
    "for subset in subsets:\n",
    "    downloaded_scenes = downloaded_scenes + os.listdir(os.path.join(ROOT_DIR, dataset, subset))\n",
    "with open(list_csv, 'r') as csvfile:\n",
    "    scene_reader = csv.reader(csvfile, delimiter=',')\n",
    "    for subset in subsets:\n",
    "        downloaded_files = os.listdir(os.path.join(ROOT_DIR, 'data/InteriorNet/data/HD7', subset))\n",
    "        n_liv = np.array(list(map(is_living_room, downloaded_files))).sum()\n",
    "        n_bed = np.array(list(map(is_bedroom, downloaded_files))).sum()\n",
    "        n_dining = np.array(list(map(is_diningroom, downloaded_files))).sum()\n",
    "        n_guest = np.array(list(map(is_guestroom, downloaded_files))).sum()\n",
    "        n_ges = len(downloaded_files)\n",
    "        print(\"Number of Living_rooms: {}\".format(n_liv))\n",
    "        print(\"Number of Bedrooms: {}\".format(n_bed))\n",
    "        print(\"Number of Dining_rooms: {}\".format(n_dining))\n",
    "        print(\"Number of Guest_rooms: {}\".format(n_guest))\n",
    "        \n",
    "        for scene in scene_reader:\n",
    "            name = scene[0][:-4] # cut out .zip\n",
    "            url = scene[1]\n",
    "            print(name+'.zip')\n",
    "            if name in downloaded_scenes:\n",
    "                continue\n",
    "            if is_living_room(name):\n",
    "                if n_liv+1 > room_distribution['Living_room']*size_of[subset]:\n",
    "                    continue\n",
    "                else:\n",
    "                    n_liv+=1\n",
    "            elif is_bedroom(name):\n",
    "                if n_bed+1 > room_distribution['Bedroom']*size_of[subset]:\n",
    "                    continue\n",
    "                else:\n",
    "                    n_bed+=1\n",
    "            elif is_diningroom(name):\n",
    "                if n_dining+1 > room_distribution['Dining_room']*size_of[subset]:\n",
    "                    continue\n",
    "                else:\n",
    "                    n_dining+=1\n",
    "            elif is_guestroom(name):\n",
    "                if n_guest+1 > room_distribution['Guest_room']*size_of[subset]:\n",
    "                    continue\n",
    "                else:\n",
    "                    n_guest+=1\n",
    "\n",
    "            output = os.path.join(ROOT_DIR, 'data/InteriorNet/data/HD7', subset, name+'.zip')\n",
    "            gdown.download(url, output, quiet=False) \n",
    "            with ZipFile(output, 'r') as zipObj:\n",
    "               # Extract all the contents of zip file in different directory\n",
    "               zipObj.extractall(os.path.join(ROOT_DIR, dataset, subset))\n",
    "            os.remove(output)\n",
    "            downloaded_files = os.listdir(os.path.join(ROOT_DIR, 'data/InteriorNet/data/HD7', subset))\n",
    "            if len(downloaded_files) > size_of[subset]:\n",
    "                break"
   ]
  },
  {
   "cell_type": "code",
   "execution_count": null,
   "metadata": {},
   "outputs": [],
   "source": []
  },
  {
   "cell_type": "code",
   "execution_count": null,
   "metadata": {},
   "outputs": [],
   "source": []
  }
 ],
 "metadata": {
  "kernelspec": {
   "display_name": "Python 3",
   "language": "python",
   "name": "python3"
  },
  "language_info": {
   "codemirror_mode": {
    "name": "ipython",
    "version": 3
   },
   "file_extension": ".py",
   "mimetype": "text/x-python",
   "name": "python",
   "nbconvert_exporter": "python",
   "pygments_lexer": "ipython3",
   "version": "3.6.9"
  }
 },
 "nbformat": 4,
 "nbformat_minor": 4
}
