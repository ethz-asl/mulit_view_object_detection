{
 "cells": [
  {
   "cell_type": "code",
   "execution_count": 1,
   "metadata": {
    "scrolled": true
   },
   "outputs": [
    {
     "name": "stdout",
     "output_type": "stream",
     "text": [
      "Number of Living_rooms: 1017\n",
      "Number of Bedrooms: 750\n",
      "Number of Dining_rooms: 277\n",
      "Number of Guest_rooms: 499\n",
      "3FO4MMTWI01K_Guest_room.zip\n",
      "3FO4MMTVR3VT_Guest_room.zip\n",
      "3FO4MMN8Q7SM_Guest_room.zip\n",
      "3FO4MMLDUKDJ_Living_room.zip\n",
      "3FO4MMLDUKDJ_Dining_room.zip\n",
      "3FO4MMLD2AN3_Living_room.zip\n",
      "3FO4MMLCRTM9_Living_room.zip\n",
      "3FO4MMKKYVFQ_Living_room.zip\n",
      "3FO4MMJXJS4X_Living_room.zip\n",
      "3FO4MMJVI5DI_Living_room.zip\n",
      "3FO4MMJSDU7T_Bedroom.zip\n",
      "3FO4MMJO698O_Bedroom.zip\n",
      "3FO4MMJNW9X0_Bedroom.zip\n",
      "3FO4MMJNTEM5_Bedroom.zip\n",
      "3FO4MMJNGLKB_Bedroom.zip\n",
      "3FO4MMJNA0UC_Bedroom.zip\n",
      "3FO4MMJN6UIE_Bedroom.zip\n",
      "3FO4MMJN3SIH_Guest_room.zip\n",
      "3FO4MMJN3SIH_Bedroom.zip\n",
      "3FO4MMJMU7KW_Bedroom.zip\n",
      "3FO4MMIHCUU1_Bedroom.zip\n",
      "3FO4MMIH71VA_Bedroom.zip\n",
      "3FO4MMIH02S7_Bedroom.zip\n",
      "3FO4MMIGW45B_Living_room.zip\n",
      "3FO4MMIGW45B_Bedroom.zip\n",
      "3FO4MMIGQXKR_Bedroom.zip\n",
      "3FO4MMIGOGN1_Bedroom.zip\n",
      "3FO4MMIGJEFI_Bedroom.zip\n",
      "3FO4MMIGEFK1_Bedroom.zip\n",
      "3FO4MMHX2CQ0_Bedroom.zip\n",
      "3FO4MMHM6D62_Bedroom.zip\n",
      "3FO4MMHKTD30_Bedroom.zip\n",
      "3FO4MMHCG9OC_Bedroom.zip\n",
      "3FO4MMH005SW_Bedroom.zip\n",
      "3FO4MMGF0A2L_Bedroom.zip\n",
      "3FO4MMDBVKJ0_Bedroom.zip\n",
      "3FO4MMCED0MH_Bedroom.zip\n",
      "3FO4MMBV17TJ_Bedroom.zip\n",
      "3FO4MMAXJQHN_Bedroom.zip\n",
      "3FO4MMA2FUB0_Living_room.zip\n",
      "3FO4MMA2FUB0_Dining_room.zip\n",
      "3FO4MMA2FUB0_Bedroom.zip\n",
      "3FO4MM9YHE42_Living_room.zip\n",
      "3FO4MM9YHE42_Bedroom.zip\n",
      "3FO4MM9365G7_Living_room.zip\n",
      "3FO4MM906PSY_Bedroom.zip\n",
      "3FO4MM5X4576_Bedroom.zip\n",
      "3FO4MM4CS5N6_Bedroom.zip\n",
      "3FO4MM1YJXNW_Bedroom.zip\n",
      "3FO4MM1VT8BA_Dining_room.zip\n",
      "3FO4MM1VT8BA_Bedroom.zip\n",
      "3FO4MM1VAYNT_Bedroom.zip\n",
      "3FO4MM1V9G6D_Bedroom.zip\n",
      "3FO4MM1V5WGB_Bedroom.zip\n",
      "3FO4MM1V06TL_Living_room.zip\n",
      "3FO4MM1V06TL_Bedroom.zip\n",
      "3FO4MM1UYLRF_Living_room.zip\n",
      "3FO4MM1UYLRF_Dining_room.zip\n",
      "3FO4MM1UYLRF_Bedroom.zip\n",
      "3FO4MM1UORDH_Bedroom.zip\n",
      "3FO4MM1UKXMC_Bedroom.zip\n",
      "3FO4MM1UKDK6_Bedroom.zip\n",
      "3FO4MM1U828H_Bedroom.zip\n",
      "3FO4MM1U1TVM_Bedroom.zip\n",
      "3FO4MM1U0825_Bedroom.zip\n",
      "3FO4MM1TYTO1_Bedroom.zip\n",
      "3FO4MM1TXYKR_Living_room.zip\n",
      "3FO4MM1TXYKR_Dining_room.zip\n",
      "3FO4MM1TXYKR_Bedroom.zip\n",
      "3FO4MM1TPKC9_Bedroom.zip\n",
      "3FO4MM1TPH08_Bedroom.zip\n",
      "3FO4MM1TP3M4_Bedroom.zip\n",
      "3FO4MM1TNU5Q_Bedroom.zip\n",
      "3FO4MM1TN02H_Bedroom.zip\n",
      "3FO4MM1TFFW8_Living_room.zip\n",
      "3FO4MM1TFFW8_Bedroom.zip\n",
      "3FO4MM1T66KG_Bedroom.zip\n",
      "3FO4MM1T1RR5_Bedroom.zip\n",
      "3FO4MM1I5I64_Bedroom.zip\n",
      "3FO4MM0YEXV2_Bedroom.zip\n",
      "3FO4MM01U8U7_Bedroom.zip\n",
      "3FO4MLYKS1C2_Bedroom.zip\n",
      "3FO4MLYBKLFM_Living_room.zip\n",
      "3FO4MLYAX90X_Bedroom.zip\n",
      "3FO4MLXXUOXK_Bedroom.zip\n",
      "3FO4MLXUMV2T_Living_room.zip\n",
      "3FO4MLXUGXR2_Bedroom.zip\n",
      "3FO4MLXU5ATK_Living_room.zip\n",
      "3FO4MLXU5ATK_Bedroom.zip\n",
      "3FO4MLXTVLJY_Bedroom.zip\n",
      "3FO4MLXTILT3_Dining_room.zip\n",
      "3FO4MLXTILT3_Bedroom.zip\n",
      "3FO4MLXTIIH2_Living_room.zip\n",
      "3FO4MLXTIIH2_Bedroom.zip\n",
      "3FO4MLXTI1QW_Living_room.zip\n",
      "3FO4MLXTGBKE_Bedroom.zip\n",
      "3FO4MLXTBTF2_Living_room.zip\n",
      "3FO4MLXTBTF2_Bedroom.zip\n",
      "3FO4MLXT9MIE_Living_room.zip\n",
      "3FO4MLXT9MIE_Bedroom.zip\n",
      "3FO4MLXT60GB_Bedroom.zip\n",
      "3FO4MLXSPC3M_Living_room.zip\n",
      "3FO4MLXSPC3M_Bedroom.zip\n",
      "3FO4MLXSOXPI_Bedroom.zip\n",
      "3FO4MLXRN6EI_Bedroom.zip\n",
      "3FO4MLXQWQYW_Living_room.zip\n",
      "3FO4MLXQWQYW_Bedroom.zip\n",
      "3FO4MLXQVP7L_Living_room.zip\n",
      "3FO4MLXQVP7L_Bedroom.zip\n",
      "3FO4MLXQTVO2_Living_room.zip\n",
      "3FO4MLXQTVO2_Bedroom.zip\n",
      "3FO4MLXQJ0HS_Bedroom.zip\n",
      "3FO4MLXOM1KR_Bedroom.zip\n",
      "3FO4MLXLWQDK_Bedroom.zip\n",
      "3FO4MLXL3VKX_Bedroom.zip\n",
      "3FO4MLXKX9B9_Bedroom.zip\n",
      "3FO4MLX54JDN_Bedroom.zip\n",
      "3FO4MLWVD681_Bedroom.zip\n",
      "3FO4MLTARDRD_Living_room.zip\n",
      "3FO4MLTARDRD_Bedroom.zip\n",
      "3FO4MLT7XS3V_Bedroom.zip\n",
      "3FO4MLT7ARA0_Bedroom.zip\n",
      "3FO4MLT702RS_Bedroom.zip\n",
      "3FO4MLT6S71Q_Bedroom.zip\n",
      "3FO4MLT5HIR3_Bedroom.zip\n",
      "3FO4MLT2TAC7_Living_room.zip\n",
      "3FO4MLT2TAC7_Bedroom.zip\n",
      "3FO4MLT143T7_Bedroom.zip\n",
      "3FO4MLT126XM_Bedroom.zip\n",
      "3FO4MLT0E9GR_Bedroom.zip\n",
      "3FO4MLSYGRM2_Bedroom.zip\n",
      "3FO4MLSYC3RN_Bedroom.zip\n",
      "3FO4MLSSCYH4_Bedroom.zip\n",
      "3FO4MLSSB9AL_Bedroom.zip\n",
      "3FO4MLSS1EVN_Bedroom.zip\n",
      "3FO4MLSRONM5_Living_room.zip\n",
      "3FO4MLSROA91_Bedroom.zip\n",
      "3FO4MLSRFHME_Bedroom.zip\n",
      "3FO4MLSR4VH8_Bedroom.zip\n",
      "3FO4MLSC83C6_Bedroom.zip\n",
      "3FO4MLS2PJ0P_Living_room.zip\n",
      "3FO4MLQPD4M1_Bedroom.zip\n",
      "3FO4MLP2BEPE_Bedroom.zip\n",
      "3FO4MLP0MQOU_Bedroom.zip\n",
      "3FO4MLNMEHAX_Bedroom.zip\n",
      "3FO4MLNMEALV_Bedroom.zip\n",
      "3FO4MLNM9SGJ_Living_room.zip\n",
      "3FO4MLNM9SGJ_Bedroom.zip\n",
      "3FO4MLNM9LRH_Bedroom.zip\n",
      "3FO4MLNM786R_Bedroom.zip\n",
      "3FO4MLNM6N4L_Bedroom.zip\n",
      "3FO4MLNM5OOB_Bedroom.zip\n",
      "3FO4MLNM22M8_Bedroom.zip\n",
      "3FO4MLNLYKOH_Living_room.zip\n",
      "3FO4MLNLYKOH_Bedroom.zip\n",
      "3FO4MLNLVW2O_Living_room.zip\n",
      "3FO4MLNLVW2O_Bedroom.zip\n",
      "3FO4MLNLVPDM_Bedroom.zip\n",
      "3FO4MLNLVIOK_Living_room.zip\n",
      "3FO4MLNLVIOK_Bedroom.zip\n",
      "3FO4MLNLVC0I_Bedroom.zip\n",
      "3FO4MLNLUNLB_Living_room.zip\n",
      "3FO4MLNLUNLB_Bedroom.zip\n",
      "3FO4MLNLU3J5_Bedroom.zip\n",
      "3FO4MLNLS6NK_Bedroom.zip\n",
      "3FO4MLNLRVMH_Living_room.zip\n",
      "3FO4MLNLRVMH_Bedroom.zip\n",
      "3FO4MLNLQQI5_Bedroom.zip\n",
      "3FO4MLNLLKXL_Bedroom.zip\n",
      "3FO4MLNLKT7D_Bedroom.zip\n",
      "3FO4MLNLIWBS_Living_room.zip\n",
      "3FO4MLNLIWBS_Dining_room.zip\n",
      "3FO4MLNLIWBS_Bedroom.zip\n",
      "3FO4MLNLG5CY_Bedroom.zip\n",
      "3FO4MLNLCOYX_Living_room.zip\n",
      "3FO4MLNLCOYX_Bedroom.zip\n",
      "3FO4MLNL9N01_Living_room.zip\n",
      "3FO4MLNL9N01_Bedroom.zip\n",
      "3FO4MLNL7WSI_Bedroom.zip\n",
      "3FO4MLNL7MRF_Bedroom.zip\n",
      "3FO4MLNL40PC_Bedroom.zip\n",
      "3FO4MLNL3WDB_Bedroom.zip\n",
      "3FO4MLNL3FN6_Bedroom.zip\n",
      "3FO4MLNL38Y4_Bedroom.zip\n",
      "3FO4MLNKPPXD_Bedroom.zip\n",
      "3FO4MLNB7I7P_Bedroom.zip\n",
      "3FO4MLKJS9NK_Bedroom.zip\n",
      "3FO4MLKFPT8Y_Bedroom.zip\n",
      "3FO4MMIHCUU1_Living_room.zip\n",
      "3FO4MMGIB9AA_Bedroom.zip\n",
      "3FO4MM3KAGG9_Bedroom.zip\n",
      "3FO4MM1UB7KF_Bedroom.zip\n",
      "3FO4MM1TA0BL_Bedroom.zip\n",
      "3FO4MLXTILT3_Living_room.zip\n",
      "3FO4MLXS9NPX_Bedroom.zip\n",
      "3FO4MLU4U3WQ_Bedroom.zip\n",
      "3FO4MLSWL26E_Bedroom.zip\n",
      "3FO4MLNMCAEA_Bedroom.zip\n",
      "3FO4MLNLVC0I_Living_room.zip\n",
      "3FO4MLNLF6WO_Bedroom.zip\n",
      "3FO4MLJKWYP3_Bedroom.zip\n",
      "3FO4ML06XMJT_Bedroom.zip\n",
      "3FO4MKV6CI92_Living_room.zip\n",
      "3FO4MKUV34CK_Bedroom.zip\n",
      "3FO4MKUOI2RR_Bedroom.zip\n",
      "3FO4MKR99WB8_Bedroom.zip\n",
      "3FO4MKR8J4II_Bedroom.zip\n",
      "3FO4MKR7NQ8F_Living_room.zip\n",
      "3FO4MKOUMUHT_Bedroom.zip\n",
      "3FO4MKOTSPO4_Bedroom.zip\n",
      "3FO4MKMJMILU_Dining_room.zip\n",
      "3FO4MKJ3VV93_Bedroom.zip\n",
      "3FO4MKGAX3GM_Bedroom.zip\n",
      "3FO4MKG86S1T_Bedroom.zip\n",
      "3FO4MKG1AK9O_Bedroom.zip\n",
      "3FO4MLHXUGTO_Bedroom.zip\n",
      "3FO4MLH9SFOU_Bedroom.zip\n",
      "3FO4MLGO4KOD_Bedroom.zip\n",
      "3FO4MLCFHV0O_Bedroom.zip\n",
      "3FO4ML4UQLEE_Bedroom.zip\n",
      "3FO4ML4U8CQX_Living_room.zip\n",
      "3FO4ML47NKLQ_Bedroom.zip\n",
      "3FO4ML3MH45G_Bedroom.zip\n",
      "3FO4ML3KQPXE_Bedroom.zip\n",
      "3FO4ML3K80KS_Bedroom.zip\n",
      "3FO4ML24EQFY_Bedroom.zip\n",
      "3FO4ML1WSD2R_Bedroom.zip\n",
      "3FO4ML1VJLNO_Living_room.zip\n",
      "3FO4ML1O6NQJ_Bedroom.zip\n",
      "3FO4MKYUVJ02_Bedroom.zip\n",
      "3FO4MKYQIUSE_Bedroom.zip\n",
      "3FO4MKYQF5EA_Bedroom.zip\n",
      "3FO4MKYKDJ60_Bedroom.zip\n",
      "3FO4MKYB8155_Bedroom.zip\n",
      "3FO4MKY71NMD_Bedroom.zip\n",
      "3FO4MKXVN9AO_Living_room.zip\n",
      "3FO4MKW3RCQG_Bedroom.zip\n",
      "3FO4MKVFTATA_Bedroom.zip\n",
      "3FO4MKVCV4NF_Bedroom.zip\n",
      "3FO4MKV6IW9Y_Bedroom.zip\n",
      "3FO4MKV6GSPC_Bedroom.zip\n",
      "3FO4MKV6EIGN_Bedroom.zip\n",
      "3FO4MKV6D6N9_Bedroom.zip\n",
      "3FO4MKV6CBK0_Living_room.zip\n",
      "3FO4MKV6BTTU_Living_room.zip\n",
      "3FO4MKV6BTTU_Bedroom.zip\n",
      "3FO4MKV6BJSR_Living_room.zip\n",
      "3FO4MKV6BJSR_Bedroom.zip\n",
      "3FO4MKV679CH_Living_room.zip\n",
      "3FO4MKV679CH_Bedroom.zip\n",
      "3FO4MKV6760G_Bedroom.zip\n",
      "3FO4MKV65PU1_Bedroom.zip\n",
      "3FO4MKV6594V_Bedroom.zip\n",
      "3FO4MKV5YVVA_Bedroom.zip\n",
      "3FO4MKV5YII6_Bedroom.zip\n",
      "3FO4MKV5WBLI_Bedroom.zip\n",
      "3FO4MKUV4TJ3_Bedroom.zip\n",
      "3FO4MKUV2MMF_Bedroom.zip\n",
      "3FO4MKUV2CLC_Living_room.zip\n",
      "3FO4MKUV2CLC_Dining_room.zip\n",
      "3FO4MKUV2CLC_Bedroom.zip\n",
      "3FO4MKUV144Y_Living_room.zip\n",
      "3FO4MKUV144Y_Bedroom.zip\n",
      "3FO4MKUV0PQU_Living_room.zip\n",
      "3FO4MKUV0PQU_Guest_room.zip\n",
      "3FO4MKUV0PQU_Bedroom.zip\n",
      "3FO4MKUV0MET_Bedroom.zip\n",
      "3FO4MKUUV8LI_Bedroom.zip\n",
      "3FO4MKUUOTKL_Bedroom.zip\n",
      "3FO4MKUUOCUG_Bedroom.zip\n",
      "3FO4MKUOI2RR_Living_room.zip\n",
      "3FO4MKU93V3I_Bedroom.zip\n",
      "3FO4MKU0P0XM_Living_room.zip\n",
      "3FO4MKU0P0XM_Bedroom.zip\n",
      "3FO4MKTR2QK8_Living_room.zip\n",
      "3FO4MKTR2QK8_Bedroom.zip\n",
      "3FO4MKSB56Y4_Bedroom.zip\n",
      "3FO4MKS71BE3_Bedroom.zip\n",
      "3FO4MKS6T8XY_Bedroom.zip\n",
      "3FO4MKS6LS5Q_Bedroom.zip\n",
      "3FO4MKS6HYEL_Bedroom.zip\n",
      "3FO4MKS6GCK4_Bedroom.zip\n",
      "3FO4MKS624CU_Bedroom.zip\n",
      "3FO4MKRH9J8U_Bedroom.zip\n",
      "3FO4MKR9AY3J_Bedroom.zip\n",
      "3FO4MKR9720D_Bedroom.zip\n",
      "3FO4MKR8X9DQ_Living_room.zip\n",
      "3FO4MKR8X9DQ_Bedroom.zip\n",
      "3FO4MKR8WOBK_Bedroom.zip\n",
      "3FO4MKR8W49E_Bedroom.zip\n",
      "3FO4MKR8SXWG_Bedroom.zip\n",
      "3FO4MKR8RSS4_Bedroom.zip\n",
      "3FO4MKR8MTWM_Living_room.zip\n",
      "3FO4MKR8MTWM_Dining_room.zip\n",
      "3FO4MKR8MTWM_Bedroom.zip\n",
      "3FO4MKR8KTP1_Living_room.zip\n",
      "3FO4MKR8JB7K_Living_room.zip\n",
      "3FO4MKR8JB7K_Dining_room.zip\n",
      "3FO4MKR8JB7K_Bedroom.zip\n",
      "3FO4MKR8GCJO_Bedroom.zip\n",
      "3FO4MKR8ECC3_Bedroom.zip\n",
      "3FO4MKR8DAJR_Living_room.zip\n",
      "3FO4MKR8DAJR_Dining_room.zip\n",
      "3FO4MKR8ASM1_Bedroom.zip\n",
      "3FO4MKR85N2H_Bedroom.zip\n",
      "3FO4MKR84B93_Bedroom.zip\n",
      "3FO4MKR84180_Bedroom.zip\n",
      "3FO4MKR82B1H_Bedroom.zip\n",
      "3FO4MKR81JA9_Living_room.zip\n",
      "3FO4MKR81JA9_Bedroom.zip\n",
      "3FO4MKR812K4_Bedroom.zip\n",
      "3FO4MKR80E5W_Bedroom.zip\n",
      "3FO4MKR7NTKG_Bedroom.zip\n",
      "3FO4MKR7NQ8F_Bedroom.zip\n",
      "3FO4MKR7LFYQ_Bedroom.zip\n",
      "3FO4MKR7K0TB_Living_room.zip\n",
      "3FO4MKR7K0TB_Dining_room.zip\n",
      "3FO4MKR7K0TB_Bedroom.zip\n",
      "3FO4MKQLTCAA_Bedroom.zip\n",
      "3FO4MKQCYIQM_Bedroom.zip\n",
      "3FO4MKQ5TVPY_Bedroom.zip\n",
      "3FO4MKPMTNIH_Bedroom.zip\n",
      "3FO4MKOURMO9_Bedroom.zip\n",
      "3FO4MKOUP93J_Bedroom.zip\n",
      "3FO4MKOUNFK0_Bedroom.zip\n",
      "3FO4MKOUMXTU_Bedroom.zip\n",
      "3FO4MKOUMUHT_Living_room.zip\n",
      "3FO4MKOUK6V1_Living_room.zip\n",
      "3FO4MKOUK6V1_Bedroom.zip\n",
      "3FO4MKOUI6NF_Living_room.zip\n",
      "3FO4MKOUI6NF_Bedroom.zip\n",
      "3FO4MKOUI3BE_Living_room.zip\n",
      "3FO4MKOUI3BE_Dining_room.zip\n",
      "3FO4MKOUI3BE_Bedroom.zip\n",
      "3FO4MKOUG6FT_Bedroom.zip\n",
      "3FO4MKOU5NMO_Bedroom.zip\n",
      "3FO4MKOU5GXM_Bedroom.zip\n",
      "3FO4MKOU4BTA_Bedroom.zip\n",
      "3FO4MKOU04P1_Bedroom.zip\n",
      "3FO4MKOTXEII_Bedroom.zip\n",
      "3FO4MKOTX4HF_Bedroom.zip\n",
      "3FO4MKOTRDUP_Bedroom.zip\n",
      "3FO4MKOTQ8QD_Bedroom.zip\n",
      "3FO4MKOTNXHO_Bedroom.zip\n",
      "3FO4MKOTJN1E_Bedroom.zip\n",
      "3FO4MKOTGB0E_Bedroom.zip\n",
      "3FO4MKOTF983_Bedroom.zip\n",
      "3FO4MKOT8DH1_Bedroom.zip\n",
      "3FO4MKOT3RYN_Living_room.zip\n",
      "3FO4MKOT3RYN_Bedroom.zip\n",
      "3FO4MKOT37WH_Bedroom.zip\n",
      "3FO4MKOD69AW_Bedroom.zip\n",
      "3FO4MKO51K5R_Bedroom.zip\n",
      "3FO4MKMSP2YT_Bedroom.zip\n",
      "3FO4MKMJMILU_Living_room.zip\n",
      "3FO4MKMG4UC6_Living_room.zip\n",
      "3FO4MKMG4UC6_Guest_room.zip\n",
      "3FO4MKMG4UC6_Bedroom.zip\n",
      "3FO4MKM7BNN0_Bedroom.zip\n",
      "3FO4MKM1SB26_Bedroom.zip\n",
      "3FO4MKLXMAOY_Bedroom.zip\n",
      "3FO4MKLS7K68_Bedroom.zip\n",
      "3FO4MKLOR0G6_Bedroom.zip\n",
      "3FO4MKLGYMMP_Bedroom.zip\n",
      "3FO4MKK6J762_Bedroom.zip\n",
      "3FO4MKJXU6DL_Bedroom.zip\n",
      "3FO4MKJWJEQW_Bedroom.zip\n",
      "3FO4MKJRSNHC_Bedroom.zip\n",
      "3FO4MKJP6DHQ_Bedroom.zip\n",
      "3FO4MKIWVSI9_Living_room.zip\n",
      "3FO4MKIWVSI9_Bedroom.zip\n",
      "3FO4MKIU69TO_Bedroom.zip\n",
      "3FO4MKIE9OL8_Bedroom.zip\n",
      "3FO4MKI21I96_Bedroom.zip\n",
      "3FO4MKHWXB3C_Bedroom.zip\n",
      "3FO4MKHTN3LV_Bedroom.zip\n",
      "3FO4MKH5YMA4_Living_room.zip\n",
      "3FO4MKH5YMA4_Dining_room.zip\n",
      "3FO4MKH5YMA4_Bedroom.zip\n",
      "3FO4MKGEE4VT_Bedroom.zip\n",
      "3FO4MKGDFVAV_Bedroom.zip\n",
      "3FO4MKGBI8YN_Bedroom.zip\n",
      "3FO4MKGBE1UE_Bedroom.zip\n",
      "3FO4MKGAVGM5_Bedroom.zip\n",
      "3FO4MKGAQB2L_Bedroom.zip\n",
      "3FO4MKGAI064_Bedroom.zip\n",
      "3FO4MKGADLCS_Bedroom.zip\n",
      "3FO4MKGACTLK_Bedroom.zip\n",
      "3FO4MKGA8WIE_Bedroom.zip\n",
      "3FO4MKG9G7U4_Bedroom.zip\n",
      "3FO4MKG9DCJ9_Bedroom.zip\n",
      "3FO4MKG93VIF_Bedroom.zip\n",
      "3FO4MKG90WUJ_Living_room.zip\n",
      "3FO4MKG90WUJ_Bedroom.zip\n",
      "3FO4MKG8KMUY_Bedroom.zip\n",
      "3FO4MKG8KCTV_Bedroom.zip\n",
      "3FO4MKG8EPK7_Bedroom.zip\n",
      "3FO4MKG7D8AA_Bedroom.zip\n",
      "3FO4MKG2W82M_Living_room.zip\n",
      "3FO4MKG2MABN_Bedroom.zip\n",
      "3FO4MKG2M3ML_Bedroom.zip\n",
      "3FO4MKG25K6N_Living_room.zip\n",
      "3FO4MKG25K6N_Bedroom.zip\n",
      "3FO4MKG1XL3K_Living_room.zip\n",
      "3FO4MKG1XL3K_Bedroom.zip\n",
      "3FO4MKG1TUOG_Bedroom.zip\n",
      "3FO4MKG1SC70_Bedroom.zip\n",
      "3FO4MKG1PGV5_Bedroom.zip\n",
      "3FO4MKG1GKWH_Bedroom.zip\n",
      "3FO4MKG1DIWK_Bedroom.zip\n",
      "3FO4MKG1AK9O_Living_room.zip\n",
      "3FO4MKFDAERV_Bedroom.zip\n",
      "3FO4MK0IPYWF_Guest_room.zip\n",
      "3FO4MJ98KARL_Living_room.zip\n",
      "3FO4MJ4CDIWM_Bedroom.zip\n",
      "3FO4MJ0IUES1_Bedroom.zip\n",
      "3FO4MIW0MGB5_Bedroom.zip\n",
      "3FO4MIVYHSOA_Bedroom.zip\n",
      "3FO4MIVP5SAH_Bedroom.zip\n",
      "3FO4MIN18PB8_Bedroom.zip\n",
      "3FO4MIHPW389_Bedroom.zip\n",
      "3FO4MIHP8AN5_Bedroom.zip\n",
      "3FO4MIHOH4HB_Living_room.zip\n",
      "3FO4MIHNOBH0_Bedroom.zip\n",
      "3FO4MKG13RUN_Bedroom.zip\n",
      "3FO4MKFXW68Q_Bedroom.zip\n",
      "3FO4MKFOBXAH_Bedroom.zip\n",
      "3FO4MKFO5FWJ_Bedroom.zip\n",
      "3FO4MKFO4KTA_Bedroom.zip\n",
      "3FO4MKFO3ME0_Bedroom.zip\n",
      "3FO4MKFO2DWM_Bedroom.zip\n",
      "3FO4MKFO18SA_Bedroom.zip\n",
      "3FO4MKFE6QI9_Living_room.zip\n",
      "3FO4MKFE6QI9_Bedroom.zip\n",
      "3FO4MKFDTSJO_Living_room.zip\n",
      "3FO4MKFDTSJO_Bedroom.zip\n",
      "3FO4MKFDRSC3_Bedroom.zip\n",
      "3FO4MKFDPORG_Bedroom.zip\n",
      "3FO4MKFDP82B_Dining_room.zip\n",
      "3FO4MKFDP82B_Bedroom.zip\n",
      "3FO4MKFDMJFI_Living_room.zip\n",
      "3FO4MKFDLOC9_Bedroom.zip\n",
      "3FO4MKFDI8Y8_Living_room.zip\n",
      "3FO4MKFDI8Y8_Bedroom.zip\n",
      "3FO4MKFDI2A6_Living_room.zip\n",
      "3FO4MKFDI2A6_Bedroom.zip\n",
      "3FO4MKFDGSSS_Bedroom.zip\n",
      "3FO4MKFDFXPJ_Bedroom.zip\n",
      "3FO4MKFDFUDI_Living_room.zip\n",
      "3FO4MKFDFUDI_Bedroom.zip\n",
      "3FO4MKFDC8BF_Living_room.zip\n",
      "3FO4MKFDC8BF_Bedroom.zip\n",
      "3FO4MKFD8RXE_Living_room.zip\n",
      "3FO4MKBI2RJH_Bedroom.zip\n",
      "3FO4MKABH8C6_Bedroom.zip\n",
      "3FO4MK8FINGQ_Living_room.zip\n",
      "3FO4MK8FINGQ_Dining_room.zip\n",
      "3FO4MK7EKRBJ_Bedroom.zip\n",
      "3FO4MK6E81OD_Bedroom.zip\n",
      "3FO4MK5FHIWB_Living_room.zip\n",
      "3FO4MK5FHIWB_Bedroom.zip\n",
      "3FO4MK584YDA_Bedroom.zip\n",
      "3FO4MK29NKQ8_Bedroom.zip\n",
      "3FO4MK20FAQJ_Bedroom.zip\n",
      "3FO4MK0QXCOD_Living_room.zip\n",
      "3FO4MK0QXCOD_Bedroom.zip\n",
      "3FO4MK0IPYWF_Bedroom.zip\n",
      "3FO4MJXW9OCD_Living_room.zip\n",
      "3FO4MJXW9OCD_Dining_room.zip\n",
      "3FO4MJXW9OCD_Bedroom.zip\n",
      "3FO4MJTCR03Q_Bedroom.zip\n",
      "3FO4MJT6THMO_Bedroom.zip\n",
      "3FO4MJT4UP74_Bedroom.zip\n",
      "3FO4MJSVK738_Bedroom.zip\n",
      "3FO4MJO1D7BN_Living_room.zip\n",
      "3FO4MJO1D7BN_Bedroom.zip\n",
      "3FO4MJKHR2ET_Bedroom.zip\n",
      "3FO4MJJYJK36_Bedroom.zip\n",
      "3FO4MJJ3F0HB_Living_room.zip\n",
      "3FO4MJJ3F0HB_Bedroom.zip\n",
      "3FO4MJ98KARL_Dining_room.zip\n",
      "3FO4MJ8XSUHH_Bedroom.zip\n",
      "3FO4MJ4CTRCH_Bedroom.zip\n",
      "3FO4MJ4CR0DN_Bedroom.zip\n",
      "3FO4MJ4CQ5AE_Bedroom.zip\n",
      "3FO4MJ4CL6EW_Bedroom.zip\n",
      "3FO4MJ4CIEG3_Bedroom.zip\n",
      "3FO4MJ4CHG0S_Bedroom.zip\n",
      "3FO4MJ4CGO9K_Bedroom.zip\n",
      "3FO4MJ4CF2F3_Living_room.zip\n",
      "3FO4MJ4CF2F3_Bedroom.zip\n",
      "3FO4MJ4CEANU_Bedroom.zip\n",
      "3FO4MJ4CDWAQ_Living_room.zip\n",
      "3FO4MJ4CDWAQ_Bedroom.zip\n",
      "3FO4MJ4CD5JI_Living_room.zip\n",
      "3FO4MJ4CD5JI_Bedroom.zip\n",
      "3FO4MJ4CAK9Q_Bedroom.zip\n",
      "3FO4MJ4CA07K_Bedroom.zip\n",
      "3FO4MJ4C7I9T_Bedroom.zip\n",
      "3FO4MJ4C6TUM_Bedroom.zip\n",
      "3FO4MJ4C0WJU_Living_room.zip\n",
      "3FO4MJ4C0WJU_Bedroom.zip\n",
      "3FO4MJ4C0T7T_Bedroom.zip\n",
      "3FO4MJ4C0J6Q_Bedroom.zip\n",
      "3FO4MJ4BX8X2_Bedroom.zip\n",
      "3FO4MJ3TK346_Bedroom.zip\n",
      "3FO4MJ2CT23J_Bedroom.zip\n",
      "3FO4MJ28V3TA_Living_room.zip\n",
      "3FO4MJ06S93R_Bedroom.zip\n",
      "3FO4MJ06HQAM_Living_room.zip\n",
      "3FO4MJ06HQAM_Bedroom.zip\n",
      "3FO4MIYO2K95_Bedroom.zip\n",
      "3FO4MIXXUS5F_Bedroom.zip\n",
      "3FO4MIWFKB8I_Living_room.zip\n",
      "3FO4MIW3FNLI_Living_room.zip\n",
      "3FO4MIW3FNLI_Bedroom.zip\n",
      "3FO4MIW122VI_Bedroom.zip\n",
      "3FO4MIW0YRMT_Living_room.zip\n",
      "3FO4MIW0YRMT_Bedroom.zip\n",
      "3FO4MIW0XPUI_Bedroom.zip\n",
      "3FO4MIW0XJ6G_Bedroom.zip\n",
      "3FO4MIW0RP7P_Bedroom.zip\n",
      "3FO4MIW0HO4P_Bedroom.zip\n",
      "3FO4MIW0DR1J_Bedroom.zip\n",
      "3FO4MIW0DNOI_Bedroom.zip\n",
      "3FO4MIW0DH0G_Bedroom.zip\n",
      "3FO4MIW0BA3S_Bedroom.zip\n",
      "3FO4MIW0ABNI_Bedroom.zip\n",
      "3FO4MIW044BN_Guest_room.zip\n",
      "3FO4MIW044BN_Bedroom.zip\n",
      "3FO4MIVYX3NU_Bedroom.zip\n",
      "3FO4MIVYR9P4_Bedroom.zip\n",
      "3FO4MIVYQELU_Bedroom.zip\n",
      "3FO4MIVYOHQA_Living_room.zip\n",
      "3FO4MIVYOHQA_Bedroom.zip\n",
      "3FO4MIVYKUO7_Bedroom.zip\n",
      "3FO4MIVYH8M4_Bedroom.zip\n",
      "3FO4MIVYH1X2_Bedroom.zip\n",
      "3FO4MIVYGU90_Bedroom.zip\n",
      "3FO4MIVY33QV_Living_room.zip\n",
      "3FO4MIVY33QV_Dining_room.zip\n",
      "3FO4MIVY33QV_Bedroom.zip\n",
      "3FO4MIVY25BL_Bedroom.zip\n",
      "3FO4MIVRU6TP_Bedroom.zip\n",
      "3FO4MIVP8A88_Bedroom.zip\n",
      "3FO4MIVP8075_Living_room.zip\n",
      "3FO4MIVP8075_Bedroom.zip\n",
      "3FO4MIVP7SI3_Living_room.zip\n",
      "3FO4MIVP7SI3_Bedroom.zip\n",
      "3FO4MIVP6QPR_Bedroom.zip\n",
      "3FO4MIVP1B55_Bedroom.zip\n",
      "3FO4MIVOXFTA_Bedroom.zip\n",
      "3FO4MITE1TCF_Bedroom.zip\n",
      "3FO4MIS4GUHV_Bedroom.zip\n",
      "3FO4MIQC96GL_Bedroom.zip\n",
      "3FO4MIOWAIUM_Bedroom.zip\n",
      "3FO4MIO9RNL0_Bedroom.zip\n",
      "3FO4MINYK9W4_Living_room.zip\n",
      "3FO4MINYK9W4_Bedroom.zip\n",
      "3FO4MIN4MGHQ_Living_room.zip\n",
      "3FO4MIN4MGHQ_Bedroom.zip\n",
      "3FO4MIN24DME_Bedroom.zip\n",
      "3FO4MIN18PB8_Living_room.zip\n",
      "3FO4MIN18PB8_Dining_room.zip\n",
      "3FO4MIN0295T_Living_room.zip\n",
      "3FO4MIN0295T_Guest_room.zip\n",
      "3FO4MIN0295T_Bedroom.zip\n",
      "3FO4MIMQYK8A_Living_room.zip\n",
      "3FO4MIME704F_Living_room.zip\n",
      "3FO4MILKI858_Living_room.zip\n",
      "3FO4MILKI858_Bedroom.zip\n",
      "3FO4MIJGQM25_Bedroom.zip\n",
      "3FO4MIJ4RBNQ_Bedroom.zip\n",
      "3FO4MIIOSBM1_Living_room.zip\n",
      "3FO4MIID3AKE_Guest_room.zip\n",
      "3FO4MIID3AKE_Bedroom.zip\n",
      "3FO4MIHQ3XYB_Living_room.zip\n",
      "3FO4MIHQ3XYB_Bedroom.zip\n",
      "3FO4MIHPUD1Q_Bedroom.zip\n",
      "3FO4MIHPS9H4_Bedroom.zip\n",
      "3FO4MIHPQWNP_Bedroom.zip\n",
      "3FO4MIHPQFXK_Bedroom.zip\n",
      "3FO4MIHPP7H7_Bedroom.zip\n",
      "3FO4MIHPOFPY_Bedroom.zip\n",
      "3FO4MIHPNY0T_Bedroom.zip\n",
      "3FO4MIHPK8LP_Living_room.zip\n",
      "3FO4MIHPK8LP_Bedroom.zip\n",
      "3FO4MIHPIIF7_Bedroom.zip\n",
      "3FO4MIHPHJYW_Bedroom.zip\n",
      "3FO4MIHPGI7L_Bedroom.zip\n",
      "3FO4MIHPEVD4_Bedroom.zip\n",
      "3FO4MIHPEEMY_Bedroom.zip\n",
      "3FO4MIHP726R_Bedroom.zip\n",
      "3FO4MIHP353L_Bedroom.zip\n",
      "3FO4MIHP2QPH_Bedroom.zip\n",
      "3FO4MIHP2DCD_Bedroom.zip\n",
      "3FO4MIHP1YY9_Bedroom.zip\n",
      "3FO4MIHP14V0_Bedroom.zip\n",
      "3FO4MIHOU0V6_Bedroom.zip\n",
      "3FO4MIHOOUBM_Living_room.zip\n",
      "3FO4MIHOOUBM_Bedroom.zip\n",
      "3FO4MIHON8H5_Bedroom.zip\n",
      "3FO4MIHOJOR3_Bedroom.zip\n",
      "3FO4MIHOIJMQ_Living_room.zip\n",
      "3FO4MIHOIJMQ_Guest_room.zip\n",
      "3FO4MIHOIJMQ_Bedroom.zip\n",
      "3FO4MIHOH4HB_Bedroom.zip\n",
      "3FO4MIHOFEAS_Bedroom.zip\n",
      "3FO4MIHOA5E8_Bedroom.zip\n",
      "3FO4MIHO56IQ_Living_room.zip\n",
      "3FO4MIHO56IQ_Bedroom.zip\n",
      "3FO4MIHO536P_Living_room.zip\n",
      "3FO4MIHO536P_Bedroom.zip\n",
      "3FO4MIHO4S5M_Bedroom.zip\n",
      "3FO4MIHO4ERI_Bedroom.zip\n",
      "3FO4MIHO41EE_Bedroom.zip\n",
      "3FO4MIHO27UU_Bedroom.zip\n",
      "3FO4MIHO24IT_Bedroom.zip\n",
      "3FO4MIHNT3NF_Bedroom.zip\n",
      "3FO4MIHNRQU1_Bedroom.zip\n",
      "3FO4MIBXTTF5_Living_room.zip\n",
      "3FO4MIBVXC89_Bedroom.zip\n",
      "3FO4MHYJJ7I2_Bedroom.zip\n",
      "3FO4MHPXVK91_Dining_room.zip\n",
      "3FO4MHNWFV95_Bedroom.zip\n",
      "3FO4MHGEXSJJ_Bedroom.zip\n",
      "3FO4MH7W80MY_Living_room.zip\n",
      "3FO4MGWUMC2O_Bedroom.zip\n",
      "3FO4MGTVDM5G_Guest_room.zip\n",
      "3FO4MGTHIEMC_Bedroom.zip\n",
      "3FO4MGOUGRF4_Bedroom.zip\n",
      "3FO4MGLXTKQ9_Bedroom.zip\n",
      "3FO4MGLX66J9_Living_room.zip\n",
      "3FO4MIHCQ50E_Bedroom.zip\n",
      "3FO4MIGH6CJG_Bedroom.zip\n",
      "3FO4MIGG06F5_Bedroom.zip\n",
      "3FO4MIGFM007_Bedroom.zip\n",
      "3FO4MIFUUP6G_Bedroom.zip\n",
      "3FO4MIEOMDXS_Bedroom.zip\n",
      "3FO4MIE5MGYX_Bedroom.zip\n",
      "3FO4MIC7MWRA_Bedroom.zip\n",
      "3FO4MIC7IMB0_Bedroom.zip\n",
      "3FO4MIC7GPFF_Bedroom.zip\n",
      "3FO4MIC7G218_Bedroom.zip\n",
      "3FO4MIC7FGY2_Bedroom.zip\n",
      "3FO4MIC7EBTP_Bedroom.zip\n",
      "3FO4MIC7B9TS_Bedroom.zip\n",
      "3FO4MIC7ABEI_Bedroom.zip\n",
      "3FO4MIC79X1E_Bedroom.zip\n",
      "3FO4MIC799M7_Bedroom.zip\n",
      "3FO4MIC6YIKA_Bedroom.zip\n",
      "3FO4MIC5MLT9_Living_room.zip\n",
      "3FO4MIC5MLT9_Bedroom.zip\n",
      "3FO4MIC5GHTF_Guest_room.zip\n",
      "3FO4MIC5GHTF_Bedroom.zip\n",
      "3FO4MIC5EHLT_Bedroom.zip\n",
      "3FO4MIC52JN9_Bedroom.zip\n",
      "3FO4MIC50Q4P_Living_room.zip\n",
      "3FO4MIC50Q4P_Bedroom.zip\n",
      "3FO4MIC4TW5Y_Bedroom.zip\n",
      "3FO4MIC0UPFC_Bedroom.zip\n",
      "3FO4MIBXTTF5_Bedroom.zip\n",
      "3FO4MIBXSOAS_Bedroom.zip\n",
      "3FO4MIBXN8P6_Bedroom.zip\n",
      "3FO4MIBXMUC2_Bedroom.zip\n",
      "3FO4MIBXMGXX_Living_room.zip\n",
      "3FO4MIBXCFUX_Bedroom.zip\n",
      "3FO4MIBXBO4P_Living_room.zip\n",
      "3FO4MIBXBO4P_Bedroom.zip\n",
      "3FO4MIBX9DV1_Bedroom.zip\n",
      "3FO4MIBX7R1J_Living_room.zip\n",
      "3FO4MIBX7R1J_Bedroom.zip\n",
      "3FO4MIBWVRI9_Bedroom.zip\n",
      "3FO4MIBWUCCT_Bedroom.zip\n",
      "3FO4MIBWOLQ4_Bedroom.zip\n",
      "3FO4MIB87ALP_Bedroom.zip\n",
      "3FO4MIB4BWM8_Bedroom.zip\n",
      "3FO4MIAUXJ7H_Bedroom.zip\n",
      "3FO4MI9EPNHA_Living_room.zip\n",
      "3FO4MI9EPNHA_Dining_room.zip\n",
      "3FO4MI9EPNHA_Bedroom.zip\n",
      "3FO4MI6FV6RB_Bedroom.zip\n",
      "3FO4MI5IDXO7_Bedroom.zip\n",
      "3FO4MI3SB2QA_Bedroom.zip\n",
      "3FO4MHYLBE8N_Bedroom.zip\n",
      "3FO4MHYL6SQA_Bedroom.zip\n",
      "3FO4MHYKOIJ4_Bedroom.zip\n",
      "3FO4MHYKIHVB_Bedroom.zip\n",
      "3FO4MHYKDJ0T_Living_room.zip\n",
      "3FO4MHYJ3PTF_Bedroom.zip\n",
      "3FO4MHYIK0GT_Living_room.zip\n",
      "3FO4MHYIK0GT_Bedroom.zip\n",
      "3FO4MHYIGDEQ_Bedroom.zip\n",
      "3FO4MHYHSFWV_Bedroom.zip\n",
      "3FO4MHYHOFHO_Bedroom.zip\n",
      "3FO4MHYHD5XB_Bedroom.zip\n",
      "3FO4MHYG9GQQ_Bedroom.zip\n",
      "3FO4MHYAHBJA_Bedroom.zip\n",
      "3FO4MHWN7G7O_Living_room.zip\n",
      "3FO4MHUFQRT0_Bedroom.zip\n",
      "3FO4MHUBDTL9_Bedroom.zip\n",
      "3FO4MHTA3C3A_Bedroom.zip\n",
      "3FO4MHPXVK91_Living_room.zip\n",
      "3FO4MHPXVK91_Bedroom.zip\n",
      "3FO4MHNXR7X0_Living_room.zip\n",
      "3FO4MHNXR7X0_Bedroom.zip\n",
      "3FO4MHNXE874_Bedroom.zip\n",
      "3FO4MHNX80U9_Living_room.zip\n",
      "3FO4MHNX80U9_Bedroom.zip\n",
      "3FO4MHNWW1BY_Bedroom.zip\n",
      "3FO4MHNWTCP6_Bedroom.zip\n",
      "3FO4MHNWSE9V_Bedroom.zip\n",
      "3FO4MHNWNFEE_Bedroom.zip\n",
      "3FO4MHNWLP7V_Living_room.zip\n",
      "3FO4MHNWLP7V_Bedroom.zip\n",
      "3FO4MHNWGQCE_Bedroom.zip\n",
      "3FO4MHNWFV95_Living_room.zip\n",
      "3FO4MHNW16BQ_Bedroom.zip\n",
      "3FO4MHNVYWUD_Bedroom.zip\n",
      "3FO4MHJSLGCH_Bedroom.zip\n",
      "3FO4MHGP6XYN_Living_room.zip\n",
      "3FO4MHGP6XYN_Bedroom.zip\n",
      "3FO4MHGOWHXT_Bedroom.zip\n",
      "3FO4MHGOJEUW_Bedroom.zip\n",
      "3FO4MHGFR3A0_Bedroom.zip\n",
      "3FO4MHGFD53T_Bedroom.zip\n",
      "3FO4MHGFBYYH_Bedroom.zip\n",
      "3FO4MHGFBVMG_Bedroom.zip\n",
      "3FO4MHGFA33W_Bedroom.zip\n",
      "3FO4MHGEYUBU_Bedroom.zip\n",
      "3FO4MHGEY3KM_Bedroom.zip\n",
      "3FO4MHGEV1KP_Bedroom.zip\n",
      "3FO4MHGEL0HP_Guest_room.zip\n",
      "3FO4MHGEL0HP_Bedroom.zip\n",
      "3FO4MHGEK8QH_Living_room.zip\n",
      "3FO4MHGEIF7X_Living_room.zip\n",
      "3FO4MHGEIF7X_Bedroom.zip\n",
      "3FO4MHGEA0YF_Bedroom.zip\n",
      "3FO4MHGE9987_Bedroom.zip\n",
      "3FO4MHGE6RAG_Bedroom.zip\n",
      "3FO4MHGE5W77_Bedroom.zip\n",
      "3FO4MH7WO2DR_Bedroom.zip\n",
      "3FO4MH7WN0LG_Living_room.zip\n",
      "3FO4MH7WN0LG_Bedroom.zip\n",
      "3FO4MH7WKFBO_Bedroom.zip\n",
      "3FO4MH7W80MY_Bedroom.zip\n",
      "3FO4MH7VUHM8_Bedroom.zip\n",
      "3FO4MH7VIX1R_Bedroom.zip\n",
      "3FO4MH7V4S6J_Bedroom.zip\n",
      "3FO4MH7V2B8S_Bedroom.zip\n",
      "3FO4MH2JDHDP_Living_room.zip\n",
      "3FO4MH2JDHDP_Bedroom.zip\n",
      "3FO4MH0MG0I5_Bedroom.zip\n",
      "3FO4MGYWE0KU_Living_room.zip\n",
      "3FO4MGYW05QP_Bedroom.zip\n",
      "3FO4MGXS2NA8_Living_room.zip\n",
      "3FO4MGXP8HJK_Bedroom.zip\n",
      "3FO4MGXKY9PX_Bedroom.zip\n",
      "3FO4MGXARTHC_Bedroom.zip\n",
      "3FO4MGWDOTLH_Bedroom.zip\n",
      "3FO4MGUTXEAS_Bedroom.zip\n",
      "3FO4MGUASLSH_Bedroom.zip\n",
      "3FO4MGUAQI8U_Bedroom.zip\n",
      "3FO4MGU83N73_Bedroom.zip\n",
      "3FO4MGU78D91_Bedroom.zip\n",
      "3FO4MGU5RJET_Bedroom.zip\n",
      "3FO4MGTWKU23_Bedroom.zip\n",
      "3FO4MGTVQ567_Bedroom.zip\n",
      "3FO4MGTVOIBP_Bedroom.zip\n",
      "3FO4MGTVM4Q0_Bedroom.zip\n",
      "3FO4MGTVKV9M_Living_room.zip\n",
      "3FO4MGTVKV9M_Bedroom.zip\n",
      "3FO4MGTVGKSC_Bedroom.zip\n",
      "3FO4MGTVDM5G_Bedroom.zip\n",
      "3FO4MGTVDISF_Living_room.zip\n",
      "3FO4MGTVDISF_Bedroom.zip\n",
      "3FO4MGTV8TY1_Bedroom.zip\n",
      "3FO4MGTV7I5M_Bedroom.zip\n",
      "3FO4MGTV6TQF_Bedroom.zip\n",
      "3FO4MGTV3OEH_Living_room.zip\n",
      "3FO4MGTV3OEH_Bedroom.zip\n",
      "3FO4MGTUKCF0_Living_room.zip\n",
      "3FO4MGTUH0E0_Bedroom.zip\n",
      "3FO4MGTUGBYS_Bedroom.zip\n",
      "3FO4MGTUFXLO_Bedroom.zip\n",
      "3FO4MGTTMR89_Bedroom.zip\n",
      "3FO4MGTHIEMC_Living_room.zip\n",
      "3FO4MGSY9UID_Bedroom.zip\n",
      "3FO4MGRFFGJS_Bedroom.zip\n",
      "3FO4MGOYKJN4_Bedroom.zip\n",
      "3FO4MGOV1CUY_Living_room.zip\n",
      "3FO4MGOV1CUY_Bedroom.zip\n",
      "3FO4MGOUYCND_Living_room.zip\n",
      "3FO4MGOUYCND_Bedroom.zip\n",
      "3FO4MGOUN340_Living_room.zip\n",
      "3FO4MGOUN340_Bedroom.zip\n",
      "3FO4MGOULJLJ_Living_room.zip\n",
      "3FO4MGOULJLJ_Dining_room.zip\n",
      "3FO4MGOULJLJ_Bedroom.zip\n",
      "3FO4MGOUH5S8_Living_room.zip\n",
      "3FO4MGOUH5S8_Bedroom.zip\n",
      "3FO4MGOUER7I_Bedroom.zip\n",
      "3FO4MGOUENUH_Bedroom.zip\n",
      "3FO4MGOUDW49_Bedroom.zip\n",
      "3FO4MGOUAQRB_Living_room.zip\n",
      "3FO4MGOUAQRB_Bedroom.zip\n",
      "3FO4MGOUADE7_Bedroom.zip\n",
      "3FO4MGOU9IAX_Bedroom.zip\n",
      "3FO4MGOU37M2_Bedroom.zip\n",
      "3FO4MGOU0MCA_Bedroom.zip\n",
      "3FO4MGOTWR1F_Bedroom.zip\n",
      "3FO4MGOTW6Y9_Bedroom.zip\n",
      "3FO4MGOTRVHY_Bedroom.zip\n",
      "3FO4MGLYAWI5_Bedroom.zip\n",
      "3FO4MGLY0I21_Living_room.zip\n",
      "3FO4MGLXOF6P_Bedroom.zip\n",
      "3FO4MGLXM8A2_Bedroom.zip\n",
      "3FO4MGLXLTVX_Bedroom.zip\n",
      "3FO4MGLXL6HQ_Bedroom.zip\n",
      "3FO4MGLXKYSO_Bedroom.zip\n",
      "3FO4MGLXKS4M_Living_room.zip\n",
      "3FO4MGLXKS4M_Dining_room.zip\n",
      "3FO4MGLXIL7Y_Bedroom.zip\n",
      "3FO4MGLXIHUX_Living_room.zip\n",
      "3FO4MGLXIHUX_Dining_room.zip\n",
      "3FO4MGLXH9EK_Living_room.zip\n",
      "3FO4MGLXH9EK_Dining_room.zip\n",
      "3FO4MGLXH9EK_Bedroom.zip\n",
      "3FO4MGLXEKRR_Bedroom.zip\n",
      "3FO4MG7OI2HI_Bedroom.zip\n",
      "3FO4MG653YQ2_Bedroom.zip\n",
      "3FO4MG54LXML_Bedroom.zip\n",
      "3FO4MG542JUS_Bedroom.zip\n",
      "3FO4MFWC5VHM_Bedroom.zip\n",
      "3FO4MFUY8EWX_Bedroom.zip\n",
      "3FO4MFTI7VNX_Living_room.zip\n",
      "3FO4MFRBAA8N_Bedroom.zip\n",
      "3FO4MFR4SHCT_Bedroom.zip\n",
      "3FO4MFPNTOAC_Bedroom.zip\n",
      "3FO4MFPND2HD_Living_room.zip\n",
      "3FO4MFLDHOQM_Bedroom.zip\n",
      "3FO4MFI6BJSF_Living_room.zip\n",
      "3FO4MGLX66J9_Dining_room.zip\n",
      "3FO4MGLX583Y_Bedroom.zip\n",
      "3FO4MGLX1RPX_Bedroom.zip\n",
      "3FO4MGLUMLXR_Bedroom.zip\n",
      "3FO4MGLN53J9_Living_room.zip\n",
      "3FO4MGLN53J9_Bedroom.zip\n",
      "3FO4MGKHBKL1_Bedroom.zip\n",
      "3FO4MGJPMMTP_Living_room.zip\n",
      "3FO4MGJPMMTP_Bedroom.zip\n",
      "3FO4MGJ2TTT4_Bedroom.zip\n",
      "3FO4MGIVWWF8_Bedroom.zip\n",
      "3FO4MGGC0A2U_Bedroom.zip\n",
      "3FO4MGG8V6L8_Bedroom.zip\n",
      "3FO4MGG71OLX_Bedroom.zip\n",
      "3FO4MGG3N8GI_Bedroom.zip\n",
      "3FO4MGF6JA5D_Bedroom.zip\n",
      "3FO4MGEJP43T_Bedroom.zip\n",
      "3FO4MGDGCAF8_Bedroom.zip\n",
      "3FO4MGC1LNON_Dining_room.zip\n",
      "3FO4MGBYB1MJ_Bedroom.zip\n",
      "3FO4MGBW5XI3_Bedroom.zip\n",
      "3FO4MGBDDY2L_Bedroom.zip\n",
      "3FO4MGAI7D1L_Living_room.zip\n",
      "3FO4MGAI7D1L_Dining_room.zip\n",
      "3FO4MGAI7D1L_Bedroom.zip\n",
      "3FO4MG9MGN9V_Bedroom.zip\n",
      "3FO4MG96GCMB_Bedroom.zip\n",
      "3FO4MG90TGBF_Bedroom.zip\n",
      "3FO4MG7IR5QF_Bedroom.zip\n",
      "3FO4MG7HLN1B_Bedroom.zip\n",
      "3FO4MG7FCCRL_Bedroom.zip\n",
      "3FO4MG7FBHOC_Living_room.zip\n",
      "3FO4MG7FBHOC_Bedroom.zip\n",
      "3FO4MG7FAWM6_Bedroom.zip\n",
      "3FO4MG7EVEDT_Bedroom.zip\n",
      "3FO4MG7ETAT7_Bedroom.zip\n",
      "3FO4MG7ELNBW_Bedroom.zip\n",
      "3FO4MG7EIYP4_Bedroom.zip\n",
      "3FO4MG7ED93E_Guest_room.zip\n",
      "3FO4MG7ED93E_Bedroom.zip\n",
      "3FO4MG7E5OX5_Bedroom.zip\n",
      "3FO4MG7DSDLG_Bedroom.zip\n",
      "3FO4MG6196SQ_Bedroom.zip\n",
      "3FO4MG5FU677_Living_room.zip\n",
      "3FO4MG5FU677_Bedroom.zip\n",
      "3FO4MG5C8447_Bedroom.zip\n",
      "3FO4MG5BU4DB_Bedroom.zip\n",
      "3FO4MG5BHYPO_Living_room.zip\n",
      "3FO4MG5BHYPO_Bedroom.zip\n",
      "3FO4MG5B9R68_Guest_room.zip\n",
      "3FO4MG5B9R68_Bedroom.zip\n",
      "3FO4MG555UO9_Bedroom.zip\n",
      "3FO4MG555O07_Bedroom.zip\n",
      "3FO4MG54RHK9_Bedroom.zip\n",
      "3FO4MG54NR65_Bedroom.zip\n",
      "3FO4MG54MC0P_Bedroom.zip\n",
      "3FO4MG54KSI9_Bedroom.zip\n",
      "3FO4MG54H345_Bedroom.zip\n",
      "3FO4MG54EYJI_Living_room.zip\n",
      "3FO4MG54EYJI_Dining_room.zip\n",
      "3FO4MG54EYJI_Bedroom.zip\n",
      "3FO4MG54D60Y_Bedroom.zip\n",
      "3FO4MG54C7KO_Bedroom.zip\n",
      "3FO4MG54A0O1_Bedroom.zip\n",
      "3FO4MG545F6N_Living_room.zip\n",
      "3FO4MG545F6N_Dining_room.zip\n",
      "3FO4MG545F6N_Bedroom.zip\n",
      "3FO4MG5446PA_Living_room.zip\n",
      "3FO4MG5446PA_Bedroom.zip\n",
      "3FO4MG5438A0_Bedroom.zip\n",
      "3FO4MG541YSM_Bedroom.zip\n",
      "3FO4MG5406A3_Living_room.zip\n",
      "3FO4MG5406A3_Bedroom.zip\n",
      "3FO4MG4TTTXA_Living_room.zip\n",
      "3FO4MG4TTTXA_Guest_room.zip\n",
      "3FO4MG4TTTXA_Bedroom.zip\n",
      "3FO4MG3VOHO9_Bedroom.zip\n",
      "3FO4MG3ILER9_Bedroom.zip\n",
      "3FO4MG2QFNIW_Bedroom.zip\n",
      "3FO4MG2OGED7_Bedroom.zip\n",
      "3FO4MG0HK4QB_Bedroom.zip\n",
      "3FO4MFY97KHG_Bedroom.zip\n",
      "3FO4MFX9C8EH_Bedroom.zip\n",
      "3FO4MFX743A4_Bedroom.zip\n",
      "3FO4MFW7MRPC_Guest_room.zip\n",
      "3FO4MFW7MRPC_Bedroom.zip\n",
      "3FO4MFVSQLQX_Bedroom.zip\n",
      "3FO4MFVPVHL0_Bedroom.zip\n",
      "3FO4MFVPV0UU_Bedroom.zip\n",
      "3FO4MFVPLGI0_Living_room.zip\n",
      "3FO4MFVPLGI0_Bedroom.zip\n",
      "3FO4MFVOUH18_Bedroom.zip\n",
      "3FO4MFVNI081_Bedroom.zip\n",
      "3FO4MFVM7W0J_Guest_room.zip\n",
      "3FO4MFVM7W0J_Bedroom.zip\n",
      "3FO4MFVJ87C8_Bedroom.zip\n",
      "3FO4MFVGAV9M_Bedroom.zip\n",
      "3FO4MFV4D4DO_Bedroom.zip\n",
      "3FO4MFUXY5L6_Bedroom.zip\n",
      "3FO4MFUXJPOU_Bedroom.zip\n",
      "3FO4MFUXGKCW_Bedroom.zip\n",
      "3FO4MFUX50RG_Dining_room.zip\n",
      "3FO4MFUX50RG_Bedroom.zip\n",
      "3FO4MFUX42C6_Bedroom.zip\n",
      "3FO4MFUWYK6T_Bedroom.zip\n",
      "3FO4MFUTNOB6_Bedroom.zip\n",
      "3FO4MFUN0O3H_Bedroom.zip\n",
      "3FO4MFUMMROM_Bedroom.zip\n",
      "3FO4MFUKMDEK_Bedroom.zip\n",
      "3FO4MFUJGUOG_Bedroom.zip\n",
      "3FO4MFUJ8D3W_Bedroom.zip\n",
      "3FO4MFTOFBUY_Bedroom.zip\n",
      "3FO4MFTI7VNX_Bedroom.zip\n",
      "3FO4MFTABBQ8_Living_room.zip\n",
      "3FO4MFTABBQ8_Bedroom.zip\n",
      "3FO4MFT9V53O_Bedroom.zip\n",
      "3FO4MFT8GQEW_Bedroom.zip\n",
      "3FO4MFT36BCG_Bedroom.zip\n",
      "3FO4MFSJSA35_Bedroom.zip\n",
      "3FO4MFSGIJBT_Bedroom.zip\n",
      "3FO4MFRQ1MS3_Bedroom.zip\n",
      "3FO4MFRDTLKD_Bedroom.zip\n",
      "3FO4MFRDS32W_Bedroom.zip\n",
      "3FO4MFRDFGP5_Bedroom.zip\n",
      "3FO4MFRDBX03_Bedroom.zip\n",
      "3FO4MFRD8HM2_Bedroom.zip\n",
      "3FO4MFRB6JTJ_Living_room.zip\n",
      "3FO4MFRB6JTJ_Bedroom.zip\n",
      "3FO4MFRAQ6HX_Living_room.zip\n",
      "3FO4MFRAQ6HX_Bedroom.zip\n",
      "3FO4MFR98MH8_Living_room.zip\n",
      "3FO4MFR98MH8_Dining_room.zip\n",
      "3FO4MFR98MH8_Bedroom.zip\n",
      "3FO4MFR4Y1AH_Bedroom.zip\n",
      "3FO4MFR4XJKC_Living_room.zip\n",
      "3FO4MFR4XJKC_Bedroom.zip\n",
      "3FO4MFR4VG0P_Living_room.zip\n",
      "3FO4MFR4VG0P_Bedroom.zip\n",
      "3FO4MFR4UE8E_Bedroom.zip\n",
      "3FO4MFR4T2F0_Bedroom.zip\n",
      "3FO4MFR4R8VG_Bedroom.zip\n",
      "3FO4MFR4OXMR_Bedroom.zip\n",
      "3FO4MFR4K9SD_Bedroom.zip\n",
      "3FO4MFR49DM4_Bedroom.zip\n",
      "3FO4MFR48F6T_Bedroom.zip\n",
      "3FO4MFQTAATP_Bedroom.zip\n",
      "3FO4MFQT5SOD_Bedroom.zip\n",
      "3FO4MFPOGXD0_Bedroom.zip\n",
      "3FO4MFPOFVKO_Living_room.zip\n",
      "3FO4MFPOFVKO_Bedroom.zip\n",
      "3FO4MFPOFS8N_Bedroom.zip\n",
      "3FO4MFPO3XM4_Bedroom.zip\n",
      "3FO4MFPNW9K4_Bedroom.zip\n",
      "3FO4MFPNTOAC_Living_room.zip\n",
      "3FO4MFPNT0V5_Bedroom.zip\n",
      "3FO4MFPNSFSY_Bedroom.zip\n",
      "3FO4MFPNRKPP_Bedroom.zip\n",
      "3FO4MFPNRE1N_Bedroom.zip\n",
      "3FO4MFPNO20N_Bedroom.zip\n",
      "3FO4MFPNMBT5_Bedroom.zip\n",
      "3FO4MFPNLA1T_Bedroom.zip\n",
      "3FO4MFPNIEPY_Living_room.zip\n",
      "3FO4MFPNIEPY_Dining_room.zip\n",
      "3FO4MFPNIEPY_Bedroom.zip\n",
      "3FO4MFPNFJF4_Bedroom.zip\n",
      "3FO4MFPNEAXQ_Bedroom.zip\n",
      "3FO4MFPNE49O_Bedroom.zip\n",
      "3FO4MFPND5TE_Bedroom.zip\n",
      "3FO4MFPND2HD_Bedroom.zip\n",
      "3FO4MFPNC423_Bedroom.zip\n",
      "3FO4MFPNB29R_Bedroom.zip\n",
      "3FO4MFPNAR8O_Bedroom.zip\n",
      "3FO4MFPN5VP8_Bedroom.zip\n",
      "3FO4MFPN5P16_Bedroom.zip\n",
      "3FO4MFPMRIL8_Bedroom.zip\n",
      "3FO4MFPMR1V3_Bedroom.zip\n",
      "3FO4MFNMKHNE_Living_room.zip\n",
      "3FO4MFNMKHNE_Bedroom.zip\n",
      "3FO4MFN1FO95_Guest_room.zip\n",
      "3FO4MFN1FO95_Bedroom.zip\n",
      "3FO4MFM138N2_Bedroom.zip\n",
      "3FO4MFLYMBGT_Bedroom.zip\n",
      "3FO4MFL23GJ8_Bedroom.zip\n",
      "3FO4MFK5WDFW_Bedroom.zip\n",
      "3FO4MFJT0XDD_Bedroom.zip\n",
      "3FO4MFJPS15L_Bedroom.zip\n",
      "3FO4MFIUQ3Y0_Living_room.zip\n",
      "3FO4MFIUQ3Y0_Bedroom.zip\n",
      "3FO4MFI72MM8_Bedroom.zip\n",
      "3FO4MFI71E5U_Bedroom.zip\n",
      "3FO4MFI70FPK_Living_room.zip\n",
      "3FO4MFI70FPK_Bedroom.zip\n",
      "3FO4MFI7091I_Bedroom.zip\n",
      "3FO4MFI6YRBD_Bedroom.zip\n",
      "3FO4MFI6XM71_Bedroom.zip\n",
      "3FO4MFI6H3Q3_Bedroom.zip\n",
      "3FO4MFDMKLRS_Bedroom.zip\n",
      "3FO4MFDM71YQ_Bedroom.zip\n",
      "3FO4MFB49PKE_Dining_room.zip\n",
      "3FO4MF6QUVL7_Bedroom.zip\n",
      "3FO4MF2VJFLN_Bedroom.zip\n",
      "3FO4MF1B30H1_Bedroom.zip\n",
      "3FO4MEYK1KW3_Bedroom.zip\n",
      "3FO4MEYJAYSF_Bedroom.zip\n",
      "3FO4MEX62FDF_Bedroom.zip\n",
      "3FO4MEV76WSI_Living_room.zip\n",
      "3FO4MEQRIF7H_Bedroom.zip\n",
      "3FO4MEOCLQVQ_Bedroom.zip\n",
      "3FO4MEL7LK69_Bedroom.zip\n",
      "3FO4MFI6BJSF_Bedroom.zip\n",
      "3FO4MFI6AEO3_Bedroom.zip\n",
      "3FO4MFI67Q2A_Living_room.zip\n",
      "3FO4MFI67Q2A_Bedroom.zip\n",
      "3FO4MFI67MP9_Living_room.zip\n",
      "3FO4MFI655RI_Bedroom.zip\n",
      "3FO4MFI652FH_Living_room.zip\n",
      "3FO4MFI652FH_Dining_room.zip\n",
      "3FO4MFI652FH_Bedroom.zip\n",
      "3FO4MFI64O2D_Bedroom.zip\n",
      "3FO4MFI5YVUX_Bedroom.zip\n",
      "3FO4MFI5PT88_Bedroom.zip\n",
      "3FO4MFHW93RH_Bedroom.zip\n",
      "3FO4MFHJMFYE_Guest_room.zip\n",
      "3FO4MFHHKOUX_Bedroom.zip\n",
      "3FO4MFFPHBAX_Bedroom.zip\n",
      "3FO4MFFK6L7E_Bedroom.zip\n",
      "3FO4MFFJKH93_Living_room.zip\n",
      "3FO4MFFIXYWN_Living_room.zip\n",
      "3FO4MFFB4VWO_Bedroom.zip\n",
      "3FO4MFEKBJ5I_Bedroom.zip\n",
      "3FO4MFDMR0SP_Bedroom.zip\n",
      "3FO4MFDMNAEL_Living_room.zip\n",
      "3FO4MFDMNAEL_Bedroom.zip\n",
      "3FO4MFDMN0DI_Bedroom.zip\n",
      "3FO4MFDMM1X8_Bedroom.zip\n",
      "3FO4MFDML05W_Bedroom.zip\n",
      "3FO4MFDMKLRS_Living_room.zip\n",
      "3FO4MFDMJK0H_Bedroom.zip\n",
      "3FO4MFDMIBJ4_Living_room.zip\n",
      "3FO4MFDMIBJ4_Dining_room.zip\n",
      "3FO4MFDMIBJ4_Bedroom.zip\n",
      "3FO4MFDMHD3T_Bedroom.zip\n",
      "3FO4MFDMH32Q_Bedroom.zip\n",
      "3FO4MFDMGVDO_Bedroom.zip\n",
      "3FO4MFDMGOOM_Bedroom.zip\n",
      "3FO4MFDMG1AF_Bedroom.zip\n",
      "3FO4MFDMFTLD_Living_room.zip\n",
      "3FO4MFDMFTLD_Dining_room.zip\n",
      "3FO4MFDMFJKA_Bedroom.zip\n",
      "3FO4MFDMEL50_Bedroom.zip\n",
      "3FO4MFDMB2EX_Bedroom.zip\n",
      "3FO4MFDM43BU_Bedroom.zip\n",
      "3FO4MFDLY7SE_Bedroom.zip\n",
      "3FO4MFDLWKXW_Bedroom.zip\n",
      "3FO4MFDLTMB1_Bedroom.zip\n",
      "3FO4MFDLT8WW_Bedroom.zip\n",
      "3FO4MFCNIJFA_Bedroom.zip\n",
      "3FO4MFCK4LJP_Bedroom.zip\n",
      "3FO4MFCGT0P5_Bedroom.zip\n",
      "3FO4MFCFSK7J_Bedroom.zip\n",
      "3FO4MFCBUSMC_Bedroom.zip\n",
      "3FO4MFBX4I7E_Living_room.zip\n",
      "3FO4MFBX4I7E_Bedroom.zip\n",
      "3FO4MFBFMW0H_Bedroom.zip\n",
      "3FO4MFB49PKE_Living_room.zip\n",
      "3FO4MFAWN264_Living_room.zip\n",
      "3FO4MFAWN264_Bedroom.zip\n",
      "3FO4MF6RQ9VA_Guest_room.zip\n",
      "3FO4MF6RQ9VA_Bedroom.zip\n",
      "3FO4MF6RO9NO_Living_room.zip\n",
      "3FO4MF6RO9NO_Dining_room.zip\n",
      "3FO4MF6RO9NO_Bedroom.zip\n",
      "3FO4MF6RNYML_Bedroom.zip\n",
      "3FO4MF6RKJ9K_Living_room.zip\n",
      "3FO4MF6RI5NU_Bedroom.zip\n",
      "3FO4MF6RDXJL_Bedroom.zip\n",
      "3FO4MF6RDNII_Bedroom.zip\n",
      "3FO4MF6R6L3E_Bedroom.zip\n",
      "3FO4MF6QVU1H_Bedroom.zip\n",
      "3FO4MF6QTD3Q_Bedroom.zip\n",
      "3FO4MF6QRTLA_Bedroom.zip\n",
      "3FO4MF6QQB3T_Bedroom.zip\n",
      "3FO4MF6QLFKD_Bedroom.zip\n",
      "3FO4MF6QI3JD_Living_room.zip\n",
      "3FO4MF6QCWYT_Bedroom.zip\n",
      "3FO4MF675DIO_Living_room.zip\n",
      "3FO4MF675DIO_Bedroom.zip\n",
      "3FO4MF5IBD99_Living_room.zip\n",
      "3FO4MF5IBD99_Bedroom.zip\n",
      "3FO4MF48RG71_Bedroom.zip\n",
      "3FO4MF3QKECY_Bedroom.zip\n",
      "3FO4MF3FNN1S_Bedroom.zip\n",
      "3FO4MF2W52TT_Bedroom.zip\n",
      "3FO4MF2VA69V_Dining_room.zip\n",
      "3FO4MF2QKU5Q_Bedroom.zip\n",
      "3FO4MF2Q2YVE_Bedroom.zip\n",
      "3FO4MF2PM86O_Living_room.zip\n",
      "3FO4MF2PM86O_Bedroom.zip\n",
      "3FO4MF2IHB4X_Bedroom.zip\n",
      "3FO4MF2I00WR_Bedroom.zip\n",
      "3FO4MF2HO4QI_Bedroom.zip\n",
      "3FO4MF1DNUB7_Bedroom.zip\n",
      "3FO4MF1C3MNO_Living_room.zip\n",
      "3FO4MF1C3MNO_Dining_room.zip\n",
      "3FO4MF1C3MNO_Bedroom.zip\n",
      "3FO4MF1B8Q3Q_Bedroom.zip\n",
      "3FO4MF1B30H1_Living_room.zip\n",
      "3FO4MF1AYQS2_Bedroom.zip\n",
      "3FO4MF1ARAYT_Dining_room.zip\n",
      "3FO4MF1ARAYT_Bedroom.zip\n",
      "3FO4MEYXS6D4_Bedroom.zip\n",
      "3FO4MEYUWDRY_Bedroom.zip\n",
      "3FO4MEYUPOPY_Living_room.zip\n",
      "3FO4MEYKG45F_Bedroom.zip\n",
      "3FO4MEYKDW8R_Bedroom.zip\n",
      "3FO4MEYKDIUN_Bedroom.zip\n",
      "3FO4MEYK5BB7_Living_room.zip\n",
      "3FO4MEYK5BB7_Bedroom.zip\n",
      "3FO4MEYK51A4_Living_room.zip\n",
      "3FO4MEYK51A4_Bedroom.zip\n",
      "3FO4MEYK4WX3_Bedroom.zip\n",
      "3FO4MEYK0WHV_Living_room.zip\n",
      "3FO4MEYK0WHV_Bedroom.zip\n",
      "3FO4MEYJXFK5_Bedroom.zip\n",
      "3FO4MEYJX271_Living_room.zip\n",
      "3FO4MEYJX271_Bedroom.zip\n",
      "3FO4MEYJR88A_Bedroom.zip\n",
      "3FO4MEYJQD51_Bedroom.zip\n",
      "3FO4MEYJOQAJ_Bedroom.zip\n",
      "3FO4MEYJN7S3_Living_room.zip\n",
      "3FO4MEYJN7S3_Bedroom.zip\n",
      "3FO4MEYJLKXL_Bedroom.zip\n",
      "3FO4MEYJLAWI_Bedroom.zip\n",
      "3FO4MEYJKWJE_Bedroom.zip\n",
      "3FO4MEYJEBTF_Bedroom.zip\n",
      "3FO4MEYJA827_Living_room.zip\n",
      "3FO4MEYJ8V8S_Bedroom.zip\n",
      "3FO4MEYJ7MRF_Bedroom.zip\n",
      "3FO4MEYJ79EB_Bedroom.zip\n",
      "3FO4MEYJ5J7S_Bedroom.zip\n",
      "3FO4MEYJ55TO_Bedroom.zip\n",
      "3FO4MEYIXNGQ_Bedroom.zip\n",
      "3FO4MEYIRQ5Y_Bedroom.zip\n",
      "3FO4MEXET084_Bedroom.zip\n",
      "3FO4MEXCUOHO_Bedroom.zip\n",
      "3FO4MEXATBRC_Bedroom.zip\n",
      "3FO4MEX7JV24_Living_room.zip\n",
      "3FO4MEX7JV24_Bedroom.zip\n",
      "3FO4MEX62FDF_Living_room.zip\n",
      "3FO4MEX5HJVH_Living_room.zip\n",
      "3FO4MEX5HJVH_Dining_room.zip\n",
      "3FO4MEX4XJHS_Living_room.zip\n",
      "3FO4MEX4XJHS_Bedroom.zip\n",
      "3FO4MEX3VNTR_Living_room.zip\n",
      "3FO4MEX3VNTR_Dining_room.zip\n",
      "3FO4MEX3VNTR_Bedroom.zip\n",
      "3FO4MEX3IKQU_Living_room.zip\n",
      "3FO4MEX3IKQU_Bedroom.zip\n",
      "3FO4MEX3CU55_Bedroom.zip\n",
      "3FO4MEW6JHY6_Bedroom.zip\n",
      "3FO4MEVMKG3K_Dining_room.zip\n",
      "3FO4MEVAB1A5_Living_room.zip\n",
      "3FO4MEVAB1A5_Bedroom.zip\n",
      "3FO4MEV76WSI_Dining_room.zip\n",
      "3FO4MEV76WSI_Bedroom.zip\n",
      "3FO4METT15CC_Bedroom.zip\n",
      "3FO4METG9FBQ_Bedroom.zip\n",
      "3FO4METFW402_Living_room.zip\n",
      "3FO4METFW402_Bedroom.zip\n",
      "3FO4METFL4GR_Living_room.zip\n",
      "3FO4METFL4GR_Dining_room.zip\n",
      "3FO4METFL4GR_Bedroom.zip\n",
      "3FO4METC8IEL_Living_room.zip\n",
      "3FO4METC8IEL_Bedroom.zip\n",
      "3FO4MET8BLWN_Bedroom.zip\n",
      "3FO4MES0UOF9_Bedroom.zip\n",
      "3FO4MERKTRHY_Bedroom.zip\n",
      "3FO4MEQMO1UT_Bedroom.zip\n",
      "3FO4MEQCO0N5_Living_room.zip\n",
      "3FO4MEQCAFU3_Bedroom.zip\n",
      "3FO4MEQ1XK0U_Living_room.zip\n",
      "3FO4MEQ1XK0U_Bedroom.zip\n",
      "3FO4MEQ1U1AS_Living_room.zip\n",
      "3FO4MEQ1U1AS_Bedroom.zip\n",
      "3FO4MEPX7UUR_Bedroom.zip\n",
      "3FO4MEPX1U7Y_Bedroom.zip\n",
      "3FO4MEOI6X14_Living_room.zip\n",
      "3FO4MEOI6X14_Dining_room.zip\n",
      "3FO4MEOI6X14_Bedroom.zip\n",
      "3FO4MEOE8EOO_Bedroom.zip\n",
      "3FO4MEOCPALS_Bedroom.zip\n",
      "3FO4MEOCKP4F_Bedroom.zip\n",
      "3FO4MEOALTBT_Bedroom.zip\n",
      "3FO4MENNV3NB_Bedroom.zip\n",
      "3FO4MELENLW5_Living_room.zip\n",
      "3FO4MELENLW5_Bedroom.zip\n",
      "3FO4MELEH4J7_Bedroom.zip\n",
      "3FO4MELE68CX_Living_room.zip\n",
      "3FO4MELDX0SH_Bedroom.zip\n",
      "3FO4MELDGUPN_Bedroom.zip\n",
      "3FO4MELDCQXF_Bedroom.zip\n",
      "3FO4MELD2MIE_Bedroom.zip\n",
      "3FO4MELCR82A_Bedroom.zip\n",
      "3FO4MELARXVK_Bedroom.zip\n",
      "3FO4MEL7LK69_Living_room.zip\n",
      "3FO4MEFRFJQM_Bedroom.zip\n",
      "3FO4MEFGGBHP_Bedroom.zip\n",
      "3FO4MEF7HY90_Bedroom.zip\n",
      "3FO4MECU5PM0_Bedroom.zip\n",
      "3FO4MEA359RI_Bedroom.zip\n",
      "3FO4ME6VN43H_Bedroom.zip\n",
      "3FO4ME45VEN3_Bedroom.zip\n",
      "3FO4ME3UA652_Bedroom.zip\n",
      "3FO4ME3TS5XY_Bedroom.zip\n",
      "3FO4MDQSI1O4_Bedroom.zip\n",
      "3FO4MDQMDGRX_Bedroom.zip\n",
      "3FO4MDQGHV7G_Living_room.zip\n",
      "3FO4MDOYBQVB_Bedroom.zip\n",
      "3FO4MEL7L3G4_Bedroom.zip\n",
      "3FO4MEL75P4I_Bedroom.zip\n",
      "3FO4MEL6W0TW_Bedroom.zip\n",
      "3FO4MEL6O3BJ_Bedroom.zip\n",
      "3FO4MEL6J7S3_Living_room.zip\n",
      "3FO4MEL6J7S3_Bedroom.zip\n",
      "3FO4MEL6I60R_Bedroom.zip\n",
      "3FO4MEL6HKXL_Bedroom.zip\n",
      "3FO4MEL62EB2_Bedroom.zip\n",
      "3FO4MEL5DBOU_Living_room.zip\n",
      "3FO4MEL5DBOU_Bedroom.zip\n",
      "3FO4MEL47MAO_Bedroom.zip\n",
      "3FO4MEL42GQ5_Living_room.zip\n",
      "3FO4MEL42GQ5_Bedroom.zip\n",
      "3FO4MEIVTT7U_Bedroom.zip\n",
      "3FO4MEIK3D0S_Bedroom.zip\n",
      "3FO4MEHW3RL6_Living_room.zip\n",
      "3FO4MEHW3RL6_Dining_room.zip\n",
      "3FO4MEHW3RL6_Bedroom.zip\n",
      "3FO4MEHPQA6M_Bedroom.zip\n",
      "3FO4MEHOSIAT_Bedroom.zip\n",
      "3FO4MEHKQTMG_Bedroom.zip\n",
      "3FO4MEGTJW28_Bedroom.zip\n",
      "3FO4MEGLN5FG_Bedroom.zip\n",
      "3FO4MEGCJMM7_Living_room.zip\n",
      "3FO4MEGCJMM7_Bedroom.zip\n",
      "3FO4MEG4K0OK_Bedroom.zip\n",
      "3FO4MEFUKLNJ_Living_room.zip\n",
      "3FO4MEFOAOIR_Living_room.zip\n",
      "3FO4MEFOAOIR_Bedroom.zip\n",
      "3FO4MEFN5XJV_Bedroom.zip\n",
      "3FO4MEFMXB2L_Bedroom.zip\n",
      "3FO4MEFMIOH8_Bedroom.zip\n",
      "3FO4MEFM1OB5_Living_room.zip\n",
      "3FO4MEFM1OB5_Bedroom.zip\n",
      "3FO4MEFLJO52_Bedroom.zip\n",
      "3FO4MEFLDK58_Bedroom.zip\n",
      "3FO4MEFLDDG6_Bedroom.zip\n",
      "3FO4MEFHGDM7_Bedroom.zip\n",
      "3FO4MEFGKF9X_Bedroom.zip\n",
      "3FO4MEFGGBHP_Living_room.zip\n",
      "3FO4MEFGGBHP_Guest_room.zip\n",
      "3FO4MEFFVG0R_Bedroom.zip\n",
      "3FO4MEFFLBKQ_Living_room.zip\n",
      "3FO4MEFFLBKQ_Bedroom.zip\n",
      "3FO4MEFF215Y_Living_room.zip\n",
      "3FO4MEFF215Y_Bedroom.zip\n",
      "3FO4MEFEUC3Y_Living_room.zip\n",
      "3FO4MEFEUC3Y_Dining_room.zip\n",
      "3FO4MEFEUC3Y_Bedroom.zip\n",
      "3FO4MEFEEH28_Bedroom.zip\n",
      "3FO4MEFE69HR_Bedroom.zip\n",
      "3FO4MEFE5V4N_Bedroom.zip\n",
      "3FO4MEFCUL84_Bedroom.zip\n",
      "3FO4MEF86K52_Bedroom.zip\n",
      "3FO4MEF7YB0V_Bedroom.zip\n",
      "3FO4MEF7AF3Q_Bedroom.zip\n",
      "3FO4MEEODSXC_Bedroom.zip\n",
      "3FO4MEEME6EI_Living_room.zip\n",
      "3FO4MEEME6EI_Bedroom.zip\n",
      "3FO4MEEHVMOE_Bedroom.zip\n",
      "3FO4MEDW7KYU_Bedroom.zip\n",
      "3FO4MEDOBOGC_Bedroom.zip\n",
      "3FO4MEDN3LGG_Bedroom.zip\n",
      "3FO4MED06ONM_Guest_room.zip\n",
      "3FO4MED06ONM_Bedroom.zip\n",
      "3FO4MECXV4Q0_Dining_room.zip\n",
      "3FO4MECWMK0Y_Bedroom.zip\n",
      "3FO4MECUV51L_Living_room.zip\n",
      "3FO4MECUV51L_Dining_room.zip\n",
      "3FO4MECSCH43_Bedroom.zip\n",
      "3FO4MECS4G8O_Bedroom.zip\n",
      "3FO4MECS2JD4_Bedroom.zip\n",
      "3FO4MECRUKA1_Bedroom.zip\n",
      "3FO4MEBTJ7D7_Living_room.zip\n",
      "3FO4MEBTJ7D7_Bedroom.zip\n",
      "3FO4MEAAOSEM_Bedroom.zip\n",
      "3FO4MEAAJQ74_Bedroom.zip\n",
      "3FO4MEAA66E2_Bedroom.zip\n",
      "3FO4MEA4BT9X_Bedroom.zip\n",
      "3FO4MEA47ISN_Bedroom.zip\n",
      "3FO4MEA3Q71R_Bedroom.zip\n",
      "3FO4MEA3CPKQ_Bedroom.zip\n",
      "3FO4MEA39NKT_Bedroom.zip\n",
      "3FO4MEA2XUQL_Bedroom.zip\n",
      "3FO4MEA2TKAB_Bedroom.zip\n",
      "3FO4ME9WPCJP_Bedroom.zip\n",
      "3FO4ME8UY6O2_Living_room.zip\n",
      "3FO4ME8UY6O2_Bedroom.zip\n",
      "3FO4ME8TU7GE_Bedroom.zip\n",
      "3FO4ME87FY8U_Bedroom.zip\n",
      "3FO4ME7RFWET_Bedroom.zip\n",
      "3FO4ME7GYTGC_Bedroom.zip\n",
      "3FO4ME6WVKGH_Bedroom.zip\n",
      "3FO4ME6WV0EB_Bedroom.zip\n",
      "3FO4ME6WRK1A_Bedroom.zip\n",
      "3FO4ME6VN43H_Living_room.zip\n",
      "3FO4ME6VN43H_Dining_room.zip\n",
      "3FO4ME6VIF93_Bedroom.zip\n",
      "3FO4ME5XT1DT_Living_room.zip\n",
      "3FO4ME5XT1DT_Bedroom.zip\n",
      "3FO4ME53182H_Bedroom.zip\n",
      "3FO4ME52VWL7_Living_room.zip\n",
      "3FO4ME52VWL7_Bedroom.zip\n",
      "3FO4ME4T7N07_Living_room.zip\n",
      "3FO4ME4T7N07_Dining_room.zip\n",
      "3FO4ME4T7N07_Bedroom.zip\n",
      "3FO4ME4SWVXA_Bedroom.zip\n",
      "3FO4ME4SWBV4_Bedroom.zip\n",
      "3FO4ME4SINQ1_Bedroom.zip\n",
      "3FO4ME4QK9NK_Bedroom.zip\n",
      "3FO4ME4OROJU_Bedroom.zip\n",
      "3FO4ME45SG07_Bedroom.zip\n",
      "3FO4ME45QPSO_Bedroom.zip\n",
      "3FO4ME45QFRL_Bedroom.zip\n",
      "3FO4ME45OPL3_Bedroom.zip\n",
      "3FO4ME45MSPI_Bedroom.zip\n",
      "3FO4ME45M8NC_Bedroom.zip\n",
      "3FO4ME45M5BB_Bedroom.zip\n",
      "3FO4ME45M1YA_Bedroom.zip\n",
      "3FO4ME45LGW4_Bedroom.zip\n",
      "3FO4ME42203V_Bedroom.zip\n",
      "3FO4ME3URTPC_Bedroom.zip\n",
      "3FO4ME3URGC8_Bedroom.zip\n",
      "3FO4ME3UR2Y4_Bedroom.zip\n",
      "3FO4ME3UOODE_Bedroom.zip\n",
      "3FO4ME3U8FXJ_Bedroom.zip\n",
      "3FO4ME3U7Y8E_Living_room.zip\n",
      "3FO4ME3U7Y8E_Dining_room.zip\n",
      "3FO4ME3U7Y8E_Bedroom.zip\n",
      "3FO4ME3U6J2Y_Bedroom.zip\n",
      "3FO4ME3U3AE0_Bedroom.zip\n",
      "3FO4ME3U33OX_Living_room.zip\n",
      "3FO4ME3U33OX_Bedroom.zip\n",
      "3FO4ME3U1U8K_Living_room.zip\n",
      "3FO4ME3U1U8K_Bedroom.zip\n",
      "3FO4ME3U0522_Bedroom.zip\n",
      "3FO4ME3TXVKO_Bedroom.zip\n",
      "3FO4ME3TVVD3_Bedroom.zip\n",
      "3FO4ME3TS5XY_Living_room.zip\n",
      "3FO4ME3TRKVS_Bedroom.zip\n",
      "3FO4ME3PGG7L_Bedroom.zip\n",
      "3FO4ME2J0ASL_Bedroom.zip\n",
      "3FO4ME1VTU7O_Dining_room.zip\n",
      "3FO4ME1VTU7O_Bedroom.zip\n",
      "3FO4ME1MD2MG_Bedroom.zip\n",
      "3FO4ME15HUEX_Bedroom.zip\n",
      "3FO4ME14JSI2_Bedroom.zip\n",
      "3FO4MDYIQSRY_Bedroom.zip\n",
      "3FO4MDXV78BT_Bedroom.zip\n",
      "3FO4MDT1BVHQ_Living_room.zip\n",
      "3FO4MDSF76FI_Living_room.zip\n",
      "3FO4MDSF76FI_Bedroom.zip\n",
      "3FO4MDSE8Q5I_Bedroom.zip\n",
      "3FO4MDQN6347_Living_room.zip\n",
      "3FO4MDQN6347_Dining_room.zip\n",
      "3FO4MDQN6347_Bedroom.zip\n",
      "3FO4MDQN5BCY_Bedroom.zip\n",
      "3FO4MDQN51BV_Bedroom.zip\n",
      "3FO4MDQMPYSO_Bedroom.zip\n",
      "3FO4MDQMLYDH_Bedroom.zip\n",
      "3FO4MDQML0X7_Living_room.zip\n",
      "3FO4MDQML0X7_Dining_room.zip\n",
      "3FO4MDQML0X7_Bedroom.zip\n",
      "3FO4MDQMJUSU_Bedroom.zip\n",
      "3FO4MDQMI8YD_Bedroom.zip\n",
      "3FO4MDQMFR1M_Living_room.zip\n",
      "3FO4MDQMFR1M_Bedroom.zip\n",
      "3FO4MDQM9QDT_Bedroom.zip\n",
      "3FO4MDQM9N1S_Bedroom.zip\n",
      "3FO4MDQM7Q68_Bedroom.zip\n",
      "3FO4MDQM3T32_Guest_room.zip\n",
      "3FO4MDQM3T32_Bedroom.zip\n",
      "3FO4MDQM0AD0_Bedroom.zip\n",
      "3FO4MDQLYILR_Bedroom.zip\n",
      "3FO4MDQLT6D6_Bedroom.zip\n",
      "3FO4MDQLQHQD_Bedroom.zip\n",
      "3FO4MDQLNJ3H_Bedroom.zip\n",
      "3FO4MDQLMAM4_Living_room.zip\n",
      "3FO4MDQLMAM4_Bedroom.zip\n",
      "3FO4MDQLM0L1_Bedroom.zip\n",
      "3FO4MDQLLFIU_Bedroom.zip\n",
      "3FO4MDQGHV7G_Dining_room.zip\n",
      "3FO4MDQGHV7G_Bedroom.zip\n",
      "3FO4MDPX31EL_Bedroom.zip\n",
      "3FO4MDP8YDFA_Bedroom.zip\n",
      "3FO4MDP0XYQF_Bedroom.zip\n",
      "3FO4MDP0HJMI_Dining_room.zip\n",
      "3FO4MDOYS3N7_Living_room.zip\n",
      "3FO4MDOYS3N7_Bedroom.zip\n",
      "3FO4MDOYRSM4_Bedroom.zip\n",
      "3FO4MDOYO6K1_Bedroom.zip\n",
      "3FO4MDOYO380_Bedroom.zip\n",
      "3FO4MDOYN1FO_Bedroom.zip\n",
      "3FO4MDOYLLA9_Bedroom.zip\n",
      "3FO4MDOYIJAC_Bedroom.zip\n",
      "3FO4MDKEFYJR_Bedroom.zip\n",
      "3FO4MDIN7RKS_Bedroom.zip\n",
      "3FO4MDHOQ5RE_Bedroom.zip\n",
      "3FO4MDFFVR45_Bedroom.zip\n",
      "3FO4MDBP9M8Q_Bedroom.zip\n",
      "3FO4MD7OX8YV_Bedroom.zip\n",
      "3FO4MD4WX9UJ_Bedroom.zip\n",
      "3FO4MD4K7BL6_Bedroom.zip\n",
      "3FO4MD3J6GS3_Bedroom.zip\n",
      "3FO4MD24VLR8_Bedroom.zip\n",
      "3FO4MD007C5D_Bedroom.zip\n",
      "3FO4MCY41922_Bedroom.zip\n",
      "3FO4MCUGNN8W_Bedroom.zip\n",
      "3FO4MDOYBK79_Bedroom.zip\n",
      "3FO4MDOY4V59_Bedroom.zip\n",
      "3FO4MDOY1WHD_Living_room.zip\n",
      "3FO4MDOY1WHD_Bedroom.zip\n",
      "3FO4MDOXVK8R_Bedroom.zip\n",
      "3FO4MDOXVA7O_Bedroom.zip\n",
      "3FO4MDOXV06L_Bedroom.zip\n",
      "3FO4MDOXT3B1_Bedroom.zip\n",
      "3FO4MDOXS4UQ_Living_room.zip\n",
      "3FO4MDOXS4UQ_Bedroom.zip\n",
      "3FO4MDOXJC94_Living_room.zip\n",
      "3FO4MDOXGA97_Bedroom.zip\n",
      "3FO4MDOW8ALC_Bedroom.zip\n",
      "3FO4MDODWMWQ_Bedroom.zip\n",
      "3FO4MDMT945G_Bedroom.zip\n",
      "3FO4MDMSQ8V4_Bedroom.zip\n",
      "3FO4MDMQUP4I_Bedroom.zip\n",
      "3FO4MDMQQEN8_Bedroom.zip\n",
      "3FO4MDMKRNPS_Bedroom.zip\n",
      "3FO4MDLUQ26M_Living_room.zip\n",
      "3FO4MDLUQ26M_Bedroom.zip\n",
      "3FO4MDLJH9JU_Bedroom.zip\n",
      "3FO4MDLEC01X_Bedroom.zip\n",
      "3FO4MDLAUQWO_Bedroom.zip\n",
      "3FO4MDLABX82_Bedroom.zip\n",
      "3FO4MDKK3TAX_Living_room.zip\n",
      "3FO4MDKK3TAX_Dining_room.zip\n",
      "3FO4MDKJF8EV_Bedroom.zip\n",
      "3FO4MDJIT6V8_Bedroom.zip\n",
      "3FO4MDJ5708I_Bedroom.zip\n",
      "3FO4MDISYQ47_Bedroom.zip\n",
      "3FO4MDINSOU2_Living_room.zip\n",
      "3FO4MDINSOU2_Bedroom.zip\n",
      "3FO4MDINS4RV_Bedroom.zip\n",
      "3FO4MDINRN2Q_Living_room.zip\n",
      "3FO4MDINRN2Q_Dining_room.zip\n",
      "3FO4MDINRN2Q_Bedroom.zip\n",
      "3FO4MDINMUVB_Bedroom.zip\n",
      "3FO4MDINKRBO_Living_room.zip\n",
      "3FO4MDINKRBO_Bedroom.zip\n",
      "3FO4MDINKALJ_Bedroom.zip\n",
      "3FO4MDINBS10_Bedroom.zip\n",
      "3FO4MDIN0LSN_Bedroom.zip\n",
      "3FO4MDIMWJSQ_Bedroom.zip\n",
      "3FO4MDIMIEXI_Living_room.zip\n",
      "3FO4MDIMIEXI_Bedroom.zip\n",
      "3FO4MDIMAHF5_Bedroom.zip\n",
      "3FO4MDIMA0P0_Bedroom.zip\n",
      "3FO4MDILWODB_Living_room.zip\n",
      "3FO4MDILWODB_Bedroom.zip\n",
      "3FO4MDIGUDIA_Bedroom.zip\n",
      "3FO4MDI945T6_Bedroom.zip\n",
      "3FO4MDI2J49D_Bedroom.zip\n",
      "3FO4MDI1E9XG_Bedroom.zip\n",
      "3FO4MDHUNX9J_Bedroom.zip\n",
      "3FO4MDHQTSQF_Bedroom.zip\n",
      "3FO4MDHOIOY6_Bedroom.zip\n",
      "3FO4MDHCHV3B_Bedroom.zip\n",
      "3FO4MDHBP6F1_Bedroom.zip\n",
      "3FO4MDH2S9BQ_Bedroom.zip\n",
      "3FO4MDH1TCBL_Bedroom.zip\n",
      "3FO4MDGXTCM7_Living_room.zip\n",
      "3FO4MDGXTCM7_Dining_room.zip\n",
      "3FO4MDGXTCM7_Bedroom.zip\n",
      "3FO4MDGVHUGT_Bedroom.zip\n",
      "3FO4MDGUULE6_Living_room.zip\n",
      "3FO4MDGUULE6_Dining_room.zip\n",
      "3FO4MDGUULE6_Bedroom.zip\n",
      "3FO4MDGEA58K_Bedroom.zip\n",
      "3FO4MDFVV0YE_Bedroom.zip\n",
      "3FO4MDF1PGPP_Bedroom.zip\n",
      "3FO4MDEDDGMD_Bedroom.zip\n",
      "3FO4MDD6JLIK_Bedroom.zip\n",
      "3FO4MDD4YAJ1_Living_room.zip\n",
      "3FO4MDD4YAJ1_Dining_room.zip\n",
      "3FO4MDD4YAJ1_Bedroom.zip\n",
      "3FO4MDD4WH0H_Bedroom.zip\n",
      "3FO4MDD4UQSY_Bedroom.zip\n",
      "3FO4MDD4TICL_Bedroom.zip\n",
      "3FO4MDCW1NT0_Bedroom.zip\n",
      "3FO4MDCV18BE_Bedroom.zip\n",
      "3FO4MDCCIOVQ_Bedroom.zip\n",
      "3FO4MDC9Y06W_Bedroom.zip\n",
      "3FO4MDBP9M8Q_Living_room.zip\n",
      "3FO4MDBFIR0S_Bedroom.zip\n",
      "3FO4MDAV3NEE_Living_room.zip\n",
      "3FO4MDAV3NEE_Bedroom.zip\n",
      "3FO4MDAC1CTT_Bedroom.zip\n",
      "3FO4MDA2D9KP_Bedroom.zip\n",
      "3FO4MDA0L2U4_Living_room.zip\n",
      "3FO4MD8KCHI6_Bedroom.zip\n",
      "3FO4MD8FEXTK_Bedroom.zip\n",
      "3FO4MD8C0PWW_Bedroom.zip\n",
      "3FO4MD7SWPQL_Bedroom.zip\n",
      "3FO4MD7SOLJ6_Bedroom.zip\n",
      "3FO4MD7SBBR7_Bedroom.zip\n",
      "3FO4MD7RN499_Bedroom.zip\n",
      "3FO4MD7PTY3D_Living_room.zip\n",
      "3FO4MD7NHLTQ_Bedroom.zip\n",
      "3FO4MD6K19G3_Guest_room.zip\n",
      "3FO4MD6K19G3_Bedroom.zip\n",
      "3FO4MD5VJNUD_Bedroom.zip\n",
      "3FO4MD553KAE_Bedroom.zip\n",
      "3FO4MD55100M_Living_room.zip\n",
      "3FO4MD55100M_Bedroom.zip\n",
      "3FO4MD52Y8W6_Bedroom.zip\n",
      "3FO4MD52FLVL_Bedroom.zip\n",
      "3FO4MD4YMHX9_Living_room.zip\n",
      "3FO4MD4YMHX9_Dining_room.zip\n",
      "3FO4MD4XIFDK_Bedroom.zip\n",
      "3FO4MD4XGSJ3_Bedroom.zip\n",
      "3FO4MD4XFXFT_Bedroom.zip\n",
      "3FO4MD4WSHO4_Bedroom.zip\n",
      "3FO4MD4WQO5K_Bedroom.zip\n",
      "3FO4MD4WLPA3_Bedroom.zip\n",
      "3FO4MD4WL8JX_Bedroom.zip\n",
      "3FO4MD4WID93_Bedroom.zip\n",
      "3FO4MD4W9DXE_Dining_room.zip\n",
      "3FO4MD4W8W89_Bedroom.zip\n",
      "3FO4MD4W4LQY_Bedroom.zip\n",
      "3FO4MD4VKOPB_Living_room.zip\n",
      "3FO4MD4VKOPB_Bedroom.zip\n",
      "3FO4MD4V9LU0_Bedroom.zip\n",
      "3FO4MD4UVW57_Bedroom.zip\n",
      "3FO4MD4Q4FO4_Bedroom.zip\n",
      "3FO4MD4K8K2J_Bedroom.zip\n",
      "3FO4MD4K6N6Y_Bedroom.zip\n",
      "3FO4MD4K5EPL_Bedroom.zip\n",
      "3FO4MD4JYURX_Living_room.zip\n",
      "3FO4MD4JYURX_Bedroom.zip\n",
      "3FO4MD4JTBUA_Bedroom.zip\n",
      "3FO4MD4JPYTA_Bedroom.zip\n",
      "3FO4MD4JMG48_Bedroom.zip\n",
      "3FO4MD4JJ0Q7_Living_room.zip\n",
      "3FO4MD4JJ0Q7_Bedroom.zip\n",
      "3FO4MD4JFXQA_Bedroom.zip\n",
      "3FO4MD4J4UUY_Bedroom.zip\n",
      "3FO4MD4IYBXB_Living_room.zip\n",
      "3FO4MD4IYBXB_Bedroom.zip\n",
      "3FO4MD3JB5MH_Bedroom.zip\n",
      "3FO4MD3IXMLQ_Bedroom.zip\n",
      "3FO4MD3IUUMW_Bedroom.zip\n",
      "3FO4MD3IM31A_Living_room.zip\n",
      "3FO4MD3IM31A_Bedroom.zip\n",
      "3FO4MD2YGPGS_Bedroom.zip\n",
      "3FO4MD2Y2RAM_Bedroom.zip\n",
      "3FO4MD2V6I0C_Bedroom.zip\n",
      "3FO4MD2U2C3M_Bedroom.zip\n",
      "3FO4MD2TQ5VA_Bedroom.zip\n",
      "3FO4MD2RDLXL_Living_room.zip\n",
      "3FO4MD2IPY73_Bedroom.zip\n",
      "3FO4MD2E53FY_Bedroom.zip\n",
      "3FO4MD2BTD1T_Bedroom.zip\n",
      "3FO4MD2BDS16_Living_room.zip\n",
      "3FO4MD1W3AIH_Bedroom.zip\n",
      "3FO4MD1B4EF0_Bedroom.zip\n",
      "3FO4MD1ATND3_Bedroom.zip\n",
      "3FO4MD1A3R8C_Bedroom.zip\n",
      "3FO4MD17N2XP_Living_room.zip\n",
      "3FO4MD17N2XP_Bedroom.zip\n",
      "3FO4MD13FUCO_Bedroom.zip\n",
      "3FO4MD10HE5Q_Bedroom.zip\n",
      "3FO4MD0VFM5C_Dining_room.zip\n",
      "3FO4MD0VFM5C_Bedroom.zip\n",
      "3FO4MD0PJ6GL_Bedroom.zip\n",
      "3FO4MD0EVOH7_Bedroom.zip\n",
      "3FO4MD0C01SS_Bedroom.zip\n",
      "3FO4MD0ARW97_Bedroom.zip\n",
      "3FO4MCYXVH6N_Bedroom.zip\n",
      "3FO4MCYWKFIV_Living_room.zip\n",
      "3FO4MCYWKFIV_Dining_room.zip\n",
      "3FO4MCYWKFIV_Bedroom.zip\n",
      "3FO4MCYVNSRF_Living_room.zip\n",
      "3FO4MCYVNSRF_Dining_room.zip\n",
      "3FO4MCYOAY7B_Living_room.zip\n",
      "3FO4MCYG9M36_Living_room.zip\n",
      "3FO4MCYG9M36_Dining_room.zip\n",
      "3FO4MCYG9M36_Bedroom.zip\n",
      "3FO4MCYDFN1K_Bedroom.zip\n",
      "3FO4MCY79TO1_Bedroom.zip\n",
      "3FO4MCY4R8IT_Living_room.zip\n",
      "3FO4MCY41922_Dining_room.zip\n",
      "3FO4MCY1BNSR_Living_room.zip\n",
      "3FO4MCY1BNSR_Dining_room.zip\n",
      "3FO4MCY1BNSR_Bedroom.zip\n",
      "3FO4MCXL519R_Bedroom.zip\n",
      "3FO4MCWWX3DX_Bedroom.zip\n",
      "3FO4MCWGS3VY_Bedroom.zip\n",
      "3FO4MCVYFVID_Bedroom.zip\n",
      "3FO4MCVUPRFG_Living_room.zip\n",
      "3FO4MCVUPRFG_Bedroom.zip\n",
      "3FO4MCVOFK9L_Bedroom.zip\n",
      "3FO4MCUMD1HJ_Living_room.zip\n",
      "3FO4MCUMD1HJ_Bedroom.zip\n",
      "3FO4MCUGO4Y2_Living_room.zip\n",
      "3FO4MCUGO4Y2_Bedroom.zip\n",
      "3FO4MCQ28N8F_Bedroom.zip\n",
      "3FO4MCKTDNUD_Bedroom.zip\n",
      "3FO4MCGTQGJQ_Bedroom.zip\n",
      "3FO4MCFQ14UE_Dining_room.zip\n",
      "3FO4MCD1WLPE_Bedroom.zip\n",
      "3FO4MC97YHMB_Bedroom.zip\n",
      "3FO4MC978VIN_Bedroom.zip\n",
      "3FO4MC7EGC0F_Living_room.zip\n",
      "3FO4MC55KI6Q_Bedroom.zip\n",
      "3FO4MC4UQYC0_Bedroom.zip\n",
      "3FO4MC4PYEIV_Bedroom.zip\n",
      "3FO4MC0QT0PA_Bedroom.zip\n",
      "3FO4MC0EWNYR_Bedroom.zip\n",
      "3FO4MCUGNJVV_Living_room.zip\n",
      "3FO4MCUGNJVV_Dining_room.zip\n",
      "3FO4MCUGNJVV_Bedroom.zip\n",
      "3FO4MCUGMOSM_Bedroom.zip\n",
      "3FO4MCUGMBFI_Bedroom.zip\n",
      "3FO4MCUGLX2E_Bedroom.zip\n",
      "3FO4MCUG4MU8_Living_room.zip\n",
      "3FO4MCUG4MU8_Bedroom.zip\n",
      "3FO4MCUG4JI7_Bedroom.zip\n",
      "3FO4MCUG3RQY_Bedroom.zip\n",
      "3FO4MCUG299I_Bedroom.zip\n",
      "3FO4MCUG1E69_Bedroom.zip\n",
      "3FO4MCU07HJL_Bedroom.zip\n",
      "3FO4MCTNS606_Dining_room.zip\n",
      "3FO4MCT06S81_Bedroom.zip\n",
      "3FO4MCSPTHS5_Bedroom.zip\n",
      "3FO4MCS9HPW5_Bedroom.zip\n",
      "3FO4MCS2BNQ2_Bedroom.zip\n",
      "3FO4MCRHMKSY_Bedroom.zip\n",
      "3FO4MCRERU15_Bedroom.zip\n",
      "3FO4MCRE13S5_Living_room.zip\n",
      "3FO4MCRE13S5_Bedroom.zip\n",
      "3FO4MCR4ABW8_Living_room.zip\n",
      "3FO4MCR4ABW8_Dining_room.zip\n",
      "3FO4MCR4ABW8_Bedroom.zip\n",
      "3FO4MCQYCS8M_Bedroom.zip\n",
      "3FO4MCQYBTSC_Bedroom.zip\n",
      "3FO4MCQTN73E_Bedroom.zip\n",
      "3FO4MCPS6KKL_Bedroom.zip\n",
      "3FO4MCPK5IHJ_Bedroom.zip\n",
      "3FO4MCPJGFVC_Bedroom.zip\n",
      "3FO4MCPDVN53_Bedroom.zip\n",
      "3FO4MCPC29HT_Living_room.zip\n",
      "3FO4MCOO9JT9_Bedroom.zip\n",
      "3FO4MCNNVPU2_Bedroom.zip\n",
      "3FO4MCNCL81R_Bedroom.zip\n",
      "3FO4MCN9XJO2_Bedroom.zip\n",
      "3FO4MCMXKJX1_Living_room.zip\n",
      "3FO4MCMXKJX1_Bedroom.zip\n",
      "3FO4MCLWMUGV_Bedroom.zip\n",
      "3FO4MCL3HU2T_Bedroom.zip\n",
      "3FO4MCKTRSPL_Bedroom.zip\n",
      "3FO4MCKSUIJX_Bedroom.zip\n",
      "3FO4MCKANOMH_Bedroom.zip\n",
      "3FO4MCJW02TC_Bedroom.zip\n",
      "3FO4MCJ69KD1_Bedroom.zip\n",
      "3FO4MCIXMGG5_Bedroom.zip\n",
      "3FO4MCIBUUOD_Bedroom.zip\n",
      "3FO4MCHWWHTB_Living_room.zip\n",
      "3FO4MCHWWHTB_Bedroom.zip\n",
      "3FO4MCHN42BL_Bedroom.zip\n",
      "3FO4MCGYEJ7I_Bedroom.zip\n",
      "3FO4MCGXO4RW_Living_room.zip\n",
      "3FO4MCGXO4RW_Bedroom.zip\n",
      "3FO4MCGUYWWQ_Bedroom.zip\n",
      "3FO4MCGUE7CJ_Bedroom.zip\n",
      "3FO4MCGSRQ8N_Bedroom.zip\n",
      "3FO4MCGRFMSK_Bedroom.zip\n",
      "3FO4MCGOQJAF_Bedroom.zip\n",
      "3FO4MCGNQ3RT_Living_room.zip\n",
      "3FO4MCGNQ3RT_Bedroom.zip\n",
      "3FO4MCGHH53C_Bedroom.zip\n",
      "3FO4MCGH5DST_Bedroom.zip\n",
      "3FO4MCGH0SBG_Bedroom.zip\n",
      "3FO4MCGGY9T0_Living_room.zip\n",
      "3FO4MCGGY9T0_Bedroom.zip\n",
      "3FO4MCGGXI2R_Bedroom.zip\n",
      "3FO4MCGGVV8A_Bedroom.zip\n",
      "3FO4MCGFALSG_Bedroom.zip\n",
      "3FO4MCFQ14UE_Living_room.zip\n",
      "3FO4MCFQ14UE_Bedroom.zip\n",
      "3FO4MCFM73OB_Bedroom.zip\n",
      "3FO4MCFBSEBJ_Bedroom.zip\n",
      "3FO4MCFBJBNT_Bedroom.zip\n",
      "3FO4MCF9OQCI_Bedroom.zip\n",
      "3FO4MCF4AATU_Living_room.zip\n",
      "3FO4MCET8G3M_Living_room.zip\n",
      "3FO4MCER0OCD_Living_room.zip\n",
      "3FO4MCEJ00MF_Bedroom.zip\n",
      "3FO4MCDYLM7J_Bedroom.zip\n",
      "3FO4MCD8XIBX_Living_room.zip\n",
      "3FO4MCD8XIBX_Dining_room.zip\n",
      "3FO4MCD8XIBX_Bedroom.zip\n",
      "3FO4MCD1WLPE_Living_room.zip\n",
      "3FO4MCCGG464_Bedroom.zip\n",
      "3FO4MCC1KG5E_Bedroom.zip\n",
      "3FO4MCBBNBQK_Bedroom.zip\n",
      "3FO4MCAVCXSG_Living_room.zip\n",
      "3FO4MCAVCXSG_Bedroom.zip\n",
      "3FO4MC9I1PQN_Bedroom.zip\n",
      "3FO4MC986DDD_Bedroom.zip\n",
      "3FO4MC984D5R_Bedroom.zip\n",
      "3FO4MC9849SQ_Bedroom.zip\n",
      "3FO4MC98381F_Living_room.zip\n",
      "3FO4MC98381F_Bedroom.zip\n",
      "3FO4MC980MQN_Bedroom.zip\n",
      "3FO4MC97YOBD_Living_room.zip\n",
      "3FO4MC97YOBD_Bedroom.zip\n",
      "3FO4MC97WY4U_Living_room.zip\n",
      "3FO4MC97VMBG_Bedroom.zip\n",
      "3FO4MC97UXW9_Living_room.zip\n",
      "3FO4MC97UXW9_Bedroom.zip\n",
      "3FO4MC97UH74_Bedroom.zip\n",
      "3FO4MC97UDU3_Living_room.zip\n",
      "3FO4MC97UDU3_Dining_room.zip\n",
      "3FO4MC97UDU3_Bedroom.zip\n",
      "3FO4MC97T8PQ_Bedroom.zip\n",
      "3FO4MC97SR0L_Bedroom.zip\n",
      "3FO4MC97QK3X_Bedroom.zip\n",
      "3FO4MC97DUE5_Bedroom.zip\n",
      "3FO4MC97DDO0_Bedroom.zip\n",
      "3FO4MC97D3MW_Bedroom.zip\n",
      "3FO4MC976YN3_Living_room.zip\n",
      "3FO4MC976YN3_Bedroom.zip\n",
      "3FO4MC976VB2_Bedroom.zip\n",
      "3FO4MC96YPIW_Living_room.zip\n",
      "3FO4MC96YPIW_Bedroom.zip\n",
      "3FO4MC96XUFN_Living_room.zip\n",
      "3FO4MC96XUFN_Bedroom.zip\n",
      "3FO4MC96QHYG_Living_room.zip\n",
      "3FO4MC96QHYG_Bedroom.zip\n",
      "3FO4MC969RTG_Bedroom.zip\n",
      "3FO4MC966MHI_Living_room.zip\n",
      "3FO4MC966MHI_Bedroom.zip\n",
      "3FO4MC8MN5MK_Bedroom.zip\n",
      "3FO4MC86532O_Bedroom.zip\n",
      "3FO4MC7DNCB2_Living_room.zip\n",
      "3FO4MC7DNCB2_Bedroom.zip\n",
      "3FO4MC6S1O78_Dining_room.zip\n",
      "3FO4MC6S1O78_Bedroom.zip\n",
      "3FO4MC6CQB94_Bedroom.zip\n",
      "3FO4MC5W3PBC_Bedroom.zip\n",
      "3FO4MC5891MP_Bedroom.zip\n",
      "3FO4MC55RKLU_Bedroom.zip\n",
      "3FO4MC55RH9T_Living_room.zip\n",
      "3FO4MC55RH9T_Bedroom.zip\n",
      "3FO4MC55O58T_Bedroom.zip\n",
      "3FO4MC55O1VS_Living_room.zip\n",
      "3FO4MC55O1VS_Bedroom.zip\n",
      "3FO4MC55KVJU_Bedroom.zip\n",
      "3FO4MC55GOFL_Bedroom.zip\n",
      "3FO4MC55FMNA_Bedroom.zip\n",
      "3FO4MC4V84ET_Living_room.zip\n",
      "3FO4MC4V84ET_Bedroom.zip\n",
      "3FO4MC4V7TDQ_Living_room.zip\n",
      "3FO4MC4V7TDQ_Bedroom.zip\n",
      "3FO4MC4V6478_Living_room.zip\n",
      "3FO4MC4V6478_Bedroom.zip\n",
      "3FO4MC4V5CG0_Bedroom.zip\n",
      "3FO4MC4V4Y2V_Living_room.zip\n",
      "3FO4MC4V4Y2V_Bedroom.zip\n",
      "3FO4MC4V2XUA_Bedroom.zip\n",
      "3FO4MC4V1W2Y_Bedroom.zip\n",
      "3FO4MC4UUEP1_Bedroom.zip\n",
      "3FO4MC4UQ7KR_Bedroom.zip\n",
      "3FO4MC4UQ48Q_Bedroom.zip\n",
      "3FO4MC4UPWJO_Bedroom.zip\n",
      "3FO4MC4UP2GF_Bedroom.zip\n",
      "3FO4MC4UO7D6_Living_room.zip\n",
      "3FO4MC4UO7D6_Bedroom.zip\n",
      "3FO4MC4UKKB3_Bedroom.zip\n",
      "3FO4MC4UBAYB_Bedroom.zip\n",
      "3FO4MC4U7XXB_Bedroom.zip\n",
      "3FO4MC4U2LOP_Bedroom.zip\n",
      "3FO4MC4U28BL_Bedroom.zip\n",
      "3FO4MC4TXEKG_Living_room.zip\n",
      "3FO4MC4TXEKG_Bedroom.zip\n",
      "3FO4MC4PYEIV_Living_room.zip\n",
      "3FO4MC3URVTW_Bedroom.zip\n",
      "3FO4MC3MLE68_Bedroom.zip\n",
      "3FO4MC3KL9W9_Bedroom.zip\n",
      "3FO4MC3B1M16_Living_room.zip\n",
      "3FO4MC3B1M16_Bedroom.zip\n",
      "3FO4MC36LA7P_Bedroom.zip\n",
      "3FO4MC344CGP_Bedroom.zip\n",
      "3FO4MC2UD2N4_Living_room.zip\n",
      "3FO4MC2UD2N4_Bedroom.zip\n",
      "3FO4MC2N3K40_Bedroom.zip\n",
      "3FO4MC25QTFJ_Bedroom.zip\n",
      "3FO4MC1WVYOC_Bedroom.zip\n",
      "3FO4MC0TEUJG_Bedroom.zip\n",
      "3FO4MC0QVOC3_Bedroom.zip\n",
      "3FO4MC0QRKJU_Bedroom.zip\n",
      "3FO4MC0QPR1B_Living_room.zip\n",
      "3FO4MC0QPR1B_Dining_room.zip\n",
      "3FO4MC0FPNO5_Bedroom.zip\n",
      "3FO4MC0FNA3F_Bedroom.zip\n",
      "3FO4MC0FN3ED_Bedroom.zip\n",
      "3FO4MC0FMVPB_Bedroom.zip\n",
      "3FO4MC0FMBN5_Bedroom.zip\n",
      "3FO4MC0FDCCG_Bedroom.zip\n",
      "3FO4MC0FD5NE_Bedroom.zip\n",
      "3FO4MC0FCKL8_Bedroom.zip\n",
      "3FO4MC0F1OEY_Dining_room.zip\n",
      "3FO4MC0F1OEY_Bedroom.zip\n",
      "3FO4MC0EYRJE_Bedroom.zip\n",
      "3FO4MBYC2PKI_Bedroom.zip\n",
      "3FO4MBY5SXK3_Bedroom.zip\n",
      "3FO4MBXXUSWD_Bedroom.zip\n",
      "3FO4MBVUBKAH_Bedroom.zip\n",
      "3FO4MBUPLJTR_Living_room.zip\n",
      "3FO4MBUOO9O4_Bedroom.zip\n",
      "3FO4MBSJYSD7_Bedroom.zip\n",
      "3FO4MBMDBWMD_Bedroom.zip\n",
      "3FO4MBKAE9NX_Living_room.zip\n",
      "3FO4MBKA3GTP_Bedroom.zip\n",
      "3FO4MBK95BKS_Living_room.zip\n",
      "3FO4MBK7YC5J_Living_room.zip\n",
      "3FO4MBI25VLY_Bedroom.zip\n",
      "3FO4MC0EVM7G_Living_room.zip\n",
      "3FO4MC0EVM7G_Bedroom.zip\n",
      "3FO4MC0EUAE2_Bedroom.zip\n",
      "3FO4MC0ETIMT_Bedroom.zip\n",
      "3FO4MC0ET59P_Living_room.zip\n",
      "3FO4MC0ET59P_Bedroom.zip\n",
      "3FO4MC0ES3HE_Bedroom.zip\n",
      "3FO4MC0ENOO3_Bedroom.zip\n",
      "3FO4MC0ELYHK_Bedroom.zip\n",
      "3FO4MC0EKJC5_Bedroom.zip\n",
      "3FO4MC0EHHC8_Bedroom.zip\n",
      "3FO4MC0EFXTR_Bedroom.zip\n",
      "3FO4MC0EFH4M_Living_room.zip\n",
      "3FO4MC0EEW2G_Bedroom.zip\n",
      "3FO4MC0E7G98_Bedroom.zip\n",
      "3FO4MC0DOV0Y_Bedroom.zip\n",
      "3FO4MC0DOAXS_Bedroom.zip\n",
      "3FO4MC0DBOL1_Bedroom.zip\n",
      "3FO4MC0A9OO1_Bedroom.zip\n",
      "3FO4MBYHHWTE_Bedroom.zip\n",
      "3FO4MBYG7JKT_Bedroom.zip\n",
      "3FO4MBYFHSKF_Bedroom.zip\n",
      "3FO4MBYEGLBL_Bedroom.zip\n",
      "3FO4MBYC8JJ9_Living_room.zip\n",
      "3FO4MBYC8JJ9_Dining_room.zip\n",
      "3FO4MBYC8JJ9_Bedroom.zip\n",
      "3FO4MBYC57I9_Bedroom.zip\n",
      "3FO4MBYC3O0S_Bedroom.zip\n",
      "3FO4MBYA56LB_Bedroom.zip\n",
      "3FO4MBYA4VK8_Bedroom.zip\n",
      "3FO4MBYA3TRW_Bedroom.zip\n",
      "3FO4MBYA219D_Bedroom.zip\n",
      "3FO4MBY9XAU9_Bedroom.zip\n",
      "3FO4MBY9GE17_Bedroom.zip\n",
      "3FO4MBY9EXUR_Bedroom.zip\n",
      "3FO4MBY7KU9L_Bedroom.zip\n",
      "3FO4MBY7IK0W_Bedroom.zip\n",
      "3FO4MBY7I6MS_Living_room.zip\n",
      "3FO4MBY7I6MS_Dining_room.zip\n",
      "3FO4MBY7I6MS_Bedroom.zip\n",
      "3FO4MBY5TLYA_Bedroom.zip\n",
      "3FO4MBY5SXK3_Living_room.zip\n",
      "3FO4MBY5QNBE_Bedroom.zip\n",
      "3FO4MBY3XBGG_Bedroom.zip\n",
      "3FO4MBY3RY7U_Bedroom.zip\n",
      "3FO4MBY3RE5O_Living_room.zip\n",
      "3FO4MBY3RE5O_Dining_room.zip\n",
      "3FO4MBY3RE5O_Bedroom.zip\n",
      "3FO4MBY3OSUW_Bedroom.zip\n",
      "3FO4MBY0QG10_Bedroom.zip\n",
      "3FO4MBY0P47L_Bedroom.zip\n",
      "3FO4MBY0NRE7_Bedroom.zip\n",
      "3FO4MBY0L74F_Bedroom.zip\n",
      "3FO4MBY0KM29_Bedroom.zip\n",
      "3FO4MBXXYJBH_Living_room.zip\n",
      "3FO4MBXXYJBH_Bedroom.zip\n",
      "3FO4MBXXT72V_Bedroom.zip\n",
      "3FO4MBXTUDPD_Bedroom.zip\n",
      "3FO4MBXTL4DL_Living_room.zip\n",
      "3FO4MBXTL4DL_Bedroom.zip\n",
      "3FO4MBXT4UXQ_Bedroom.zip\n",
      "3FO4MBXQ362T_Bedroom.zip\n",
      "3FO4MBXNG2RA_Bedroom.zip\n",
      "3FO4MBXN39PG_Bedroom.zip\n",
      "3FO4MBXAO62M_Bedroom.zip\n",
      "3FO4MBWT78M3_Bedroom.zip\n",
      "3FO4MBWR8MUK_Living_room.zip\n",
      "3FO4MBWR8MUK_Dining_room.zip\n",
      "3FO4MBWR8MUK_Bedroom.zip\n",
      "3FO4MBVWRWYB_Bedroom.zip\n",
      "3FO4MBVOWBGV_Bedroom.zip\n",
      "3FO4MBV51G5R_Bedroom.zip\n",
      "3FO4MBURDX9F_Dining_room.zip\n",
      "3FO4MBUQ48F2_Bedroom.zip\n",
      "3FO4MBUQ3GNT_Bedroom.zip\n",
      "3FO4MBUPYQ9P_Living_room.zip\n",
      "3FO4MBUPYQ9P_Bedroom.zip\n",
      "3FO4MBUPY2UI_Bedroom.zip\n",
      "3FO4MBUPWJD2_Living_room.zip\n",
      "3FO4MBUPWJD2_Bedroom.zip\n",
      "3FO4MBUPUJ5G_Bedroom.zip\n",
      "3FO4MBUPRH5J_Bedroom.zip\n",
      "3FO4MBUPLTUU_Bedroom.zip\n",
      "3FO4MBUPLN6S_Bedroom.zip\n",
      "3FO4MBUPLJTR_Bedroom.zip\n",
      "3FO4MBUPJMY7_Bedroom.zip\n",
      "3FO4MBUPIYK0_Living_room.zip\n",
      "3FO4MBUPIYK0_Bedroom.zip\n",
      "3FO4MBUPHTFN_Bedroom.zip\n",
      "3FO4MBUPH61G_Bedroom.zip\n",
      "3FO4MBUPF5SU_Bedroom.zip\n",
      "3FO4MBUPE41J_Bedroom.zip\n",
      "3FO4MBUPDCAB_Living_room.zip\n",
      "3FO4MBUPDCAB_Bedroom.zip\n",
      "3FO4MBUP9LV7_Bedroom.zip\n",
      "3FO4MBUP7VOO_Bedroom.zip\n",
      "3FO4MBUP69U7_Bedroom.zip\n",
      "3FO4MBUOVC48_Bedroom.zip\n",
      "3FO4MBUO5JBI_Bedroom.zip\n",
      "3FO4MBUO4HJ7_Bedroom.zip\n",
      "3FO4MBTNYOFE_Bedroom.zip\n",
      "3FO4MBTNL7YD_Bedroom.zip\n",
      "3FO4MBTK1WU7_Living_room.zip\n",
      "3FO4MBTFPS60_Living_room.zip\n",
      "3FO4MBTFPS60_Bedroom.zip\n",
      "3FO4MBTF3PRE_Living_room.zip\n",
      "3FO4MBTF3PRE_Guest_room.zip\n",
      "3FO4MBTF3PRE_Bedroom.zip\n",
      "3FO4MBT5K1BL_Living_room.zip\n",
      "3FO4MBT5K1BL_Bedroom.zip\n",
      "3FO4MBT05O5Y_Bedroom.zip\n",
      "3FO4MBSS0DQ4_Bedroom.zip\n",
      "3FO4MBS8HVJ0_Bedroom.zip\n",
      "3FO4MBS3U0KA_Bedroom.zip\n",
      "3FO4MBRULEBY_Bedroom.zip\n",
      "3FO4MBQM6TUI_Bedroom.zip\n",
      "3FO4MBQJ6NH2_Bedroom.zip\n",
      "3FO4MBQCXD6R_Living_room.zip\n",
      "3FO4MBQ5LUF2_Bedroom.zip\n",
      "3FO4MBPLA76O_Dining_room.zip\n",
      "3FO4MBNHXED1_Bedroom.zip\n",
      "3FO4MBNH49JB_Bedroom.zip\n",
      "3FO4MBN5SXF3_Bedroom.zip\n",
      "3FO4MBN4IXJM_Bedroom.zip\n",
      "3FO4MBN3PUI8_Bedroom.zip\n",
      "3FO4MBMU6QGR_Bedroom.zip\n",
      "3FO4MBM0B1M1_Living_room.zip\n",
      "3FO4MBM0B1M1_Dining_room.zip\n",
      "3FO4MBM0B1M1_Bedroom.zip\n",
      "3FO4MBLNOWNK_Bedroom.zip\n",
      "3FO4MBKUD3MX_Bedroom.zip\n",
      "3FO4MBKU81FF_Bedroom.zip\n",
      "3FO4MBKNTKKL_Bedroom.zip\n",
      "3FO4MBKNK4JR_Dining_room.zip\n",
      "3FO4MBKNK4JR_Bedroom.zip\n",
      "3FO4MBKB2AHT_Living_room.zip\n",
      "3FO4MBKB2AHT_Bedroom.zip\n",
      "3FO4MBKB1M3M_Bedroom.zip\n",
      "3FO4MBKAKABQ_Bedroom.zip\n",
      "3FO4MBKAIGS7_Bedroom.zip\n",
      "3FO4MBKAE9NX_Bedroom.zip\n",
      "3FO4MBKAD7VM_Living_room.zip\n",
      "3FO4MBKAD7VM_Bedroom.zip\n",
      "3FO4MBKACTII_Living_room.zip\n",
      "3FO4MBKACTII_Bedroom.zip\n",
      "3FO4MBKABL25_Bedroom.zip\n",
      "3FO4MBKAB0YY_Living_room.zip\n",
      "3FO4MBKAB0YY_Bedroom.zip\n",
      "3FO4MBKA9UUM_Bedroom.zip\n",
      "3FO4MBKA8WFC_Bedroom.zip\n",
      "3FO4MBKA5XRG_Bedroom.zip\n",
      "3FO4MBKA48KX_Bedroom.zip\n",
      "3FO4MBKA3U7T_Living_room.zip\n",
      "3FO4MBKA3U7T_Bedroom.zip\n",
      "3FO4MBKA2P3H_Living_room.zip\n",
      "3FO4MBKA2P3H_Dining_room.zip\n",
      "3FO4MBKA2P3H_Bedroom.zip\n",
      "3FO4MBKA2BPD_Bedroom.zip\n",
      "3FO4MBKA0VJX_Bedroom.zip\n",
      "3FO4MBKA0LIU_Living_room.zip\n",
      "3FO4MBKA0LIU_Bedroom.zip\n",
      "3FO4MBK9V11H_Bedroom.zip\n",
      "3FO4MBK9UMND_Bedroom.zip\n",
      "3FO4MBK9PAER_Bedroom.zip\n",
      "3FO4MBK9JN53_Bedroom.zip\n",
      "3FO4MBK9J6EX_Bedroom.zip\n",
      "3FO4MBK9G7R2_Living_room.zip\n",
      "3FO4MBK9BPLP_Bedroom.zip\n",
      "3FO4MBK95BKS_Bedroom.zip\n",
      "3FO4MBK92MY0_Living_room.zip\n",
      "3FO4MBK92MY0_Bedroom.zip\n",
      "3FO4MBK8YAX0_Bedroom.zip\n",
      "3FO4MBK8WKQH_Dining_room.zip\n",
      "3FO4MBK8WKQH_Bedroom.zip\n",
      "3FO4MBK8PP0F_Bedroom.zip\n",
      "3FO4MBK8OTW6_Living_room.zip\n",
      "3FO4MBK8OTW6_Bedroom.zip\n",
      "3FO4MBK8KMRW_Bedroom.zip\n"
     ]
    },
    {
     "name": "stdout",
     "output_type": "stream",
     "text": [
      "3FO4MBK8GPOQ_Bedroom.zip\n",
      "3FO4MBK8DR1U_Living_room.zip\n",
      "3FO4MBK8DR1U_Bedroom.zip\n",
      "3FO4MBK83CKQ_Bedroom.zip\n",
      "3FO4MBK7YC5J_Bedroom.zip\n",
      "3FO4MBJYQEBF_Bedroom.zip\n",
      "3FO4MBJUBCJ2_Living_room.zip\n",
      "3FO4MBJUBCJ2_Dining_room.zip\n",
      "3FO4MBJUBCJ2_Bedroom.zip\n",
      "3FO4MBJTKGEB_Bedroom.zip\n",
      "3FO4MBJTJB9Y_Bedroom.zip\n",
      "3FO4MBJS94PG_Bedroom.zip\n",
      "3FO4MBJRO5VH_Bedroom.zip\n",
      "3FO4MBJRMME1_Bedroom.zip\n",
      "3FO4MBJF07TP_Bedroom.zip\n",
      "3FO4MBI7R4IN_Bedroom.zip\n",
      "3FO4MBI3IU5B_Bedroom.zip\n",
      "3FO4MBI25VLY_Living_room.zip\n",
      "3FO4MKFDP82B_Living_room.zip\n",
      "3FO4MIC7ABEI_Living_room.zip\n",
      "3FO4MGG3SO25_Bedroom.zip\n",
      "3FO4MFHJMFYE_Bedroom.zip\n",
      "3FO4MEJSBLSD_Bedroom.zip\n",
      "3FO4MDNLC6R0_Bedroom.zip\n",
      "3FO4MCTNS606_Bedroom.zip\n",
      "3FO4MC0EAI95_Bedroom.zip\n",
      "3FO4MBERP31X_Bedroom.zip\n",
      "3FO4MB0EULHF_Living_room.zip\n",
      "3FO4MA9IEE90_Dining_room.zip\n",
      "3FO4M9TW8WUG_Bedroom.zip\n",
      "3FO4M97HPAUC_Bedroom.zip\n",
      "3FO4M7M8S30Y_Bedroom.zip\n",
      "3FO4M6QP7TYL_Bedroom.zip\n",
      "3FO4M5NF017R_Dining_room.zip\n",
      "3FO4M4UMCVMP_Bedroom.zip\n",
      "3FO4M3RU62TL_Bedroom.zip\n",
      "3FO4M1WKV62S_Bedroom.zip\n",
      "3FO4LYSQD1XA_Bedroom.zip\n",
      "3FO4LWHI6RX8_Bedroom.zip\n",
      "3FO4LUA5W23P_Bedroom.zip\n",
      "3FO4LPLXB6CX_Bedroom.zip\n",
      "3FO4MBE2JQ3N_Living_room.zip\n",
      "3FO4MBE2CXOM_Bedroom.zip\n",
      "3FO4MBE1Q9O5_Bedroom.zip\n",
      "3FO4MBDBC548_Bedroom.zip\n",
      "3FO4MBCXP3X1_Bedroom.zip\n",
      "3FO4MBCW8SDO_Bedroom.zip\n",
      "3FO4MBBGTUS5_Dining_room.zip\n",
      "3FO4MB9XBX30_Living_room.zip\n",
      "3FO4MB8UG4KH_Bedroom.zip\n",
      "3FO4MB553T41_Bedroom.zip\n",
      "3FO4MB508KO4_Bedroom.zip\n",
      "3FO4MB19XUHF_Bedroom.zip\n",
      "3FO4MB0FAORX_Bedroom.zip\n",
      "3FO4MBI1XJ5R_Living_room.zip\n",
      "3FO4MBI1XJ5R_Bedroom.zip\n",
      "3FO4MBHPSKA5_Bedroom.zip\n",
      "3FO4MBHB1Q0K_Bedroom.zip\n",
      "3FO4MBGWIGG1_Bedroom.zip\n",
      "3FO4MBGFA9HM_Bedroom.zip\n",
      "3FO4MBG9P018_Bedroom.zip\n",
      "3FO4MBG1OENB_Bedroom.zip\n",
      "3FO4MBFOLDUS_Bedroom.zip\n",
      "3FO4MBFM4G4S_Bedroom.zip\n",
      "3FO4MBFJOBWC_Bedroom.zip\n",
      "3FO4MBFIS3J0_Living_room.zip\n",
      "3FO4MBFIS3J0_Dining_room.zip\n",
      "3FO4MBFIS3J0_Bedroom.zip\n",
      "3FO4MBEQKPG6_Guest_room.zip\n",
      "3FO4MBEQKPG6_Bedroom.zip\n",
      "3FO4MBEAADPL_Bedroom.zip\n",
      "3FO4MBE32LD0_Bedroom.zip\n",
      "3FO4MBE321AT_Living_room.zip\n",
      "3FO4MBE321AT_Bedroom.zip\n",
      "3FO4MBE319JL_Bedroom.zip\n",
      "3FO4MBE30HSD_Living_room.zip\n",
      "3FO4MBE30HSD_Dining_room.zip\n",
      "3FO4MBE30HSD_Bedroom.zip\n",
      "3FO4MBE2QF5N_Living_room.zip\n",
      "3FO4MBE2QF5N_Bedroom.zip\n",
      "3FO4MBE2NN6T_Bedroom.zip\n",
      "3FO4MBE2MI2H_Bedroom.zip\n",
      "3FO4MBE2JQ3N_Bedroom.zip\n",
      "3FO4MBE2IRND_Bedroom.zip\n",
      "3FO4MBE2H2GU_Living_room.zip\n",
      "3FO4MBE2H2GU_Dining_room.zip\n",
      "3FO4MBE2H2GU_Bedroom.zip\n",
      "3FO4MBE2GY4T_Living_room.zip\n",
      "3FO4MBE2GY4T_Bedroom.zip\n",
      "3FO4MBE2GE2N_Bedroom.zip\n",
      "3FO4MBE2GAPM_Bedroom.zip\n",
      "3FO4MBE2FCAC_Bedroom.zip\n",
      "3FO4MBE2EXW8_Guest_room.zip\n",
      "3FO4MBE2EXW8_Bedroom.zip\n",
      "3FO4MBE2E0GX_Bedroom.zip\n",
      "3FO4MBE2CXOM_Living_room.zip\n",
      "3FO4MBE2CNNJ_Bedroom.zip\n",
      "3FO4MBE29VOP_Bedroom.zip\n",
      "3FO4MBE29LNM_Living_room.zip\n",
      "3FO4MBE29LNM_Bedroom.zip\n",
      "3FO4MBE266AL_Bedroom.zip\n",
      "3FO4MBE249F1_Bedroom.zip\n",
      "3FO4MBE23HNS_Bedroom.zip\n",
      "3FO4MBE22FVH_Living_room.zip\n",
      "3FO4MBE22FVH_Bedroom.zip\n",
      "3FO4MBE1T500_Living_room.zip\n",
      "3FO4MBE1T500_Dining_room.zip\n",
      "3FO4MBE1T500_Bedroom.zip\n",
      "3FO4MBE1Q9O5_Living_room.zip\n",
      "3FO4MBE1Q9O5_Dining_room.zip\n",
      "3FO4MBE1OG5L_Bedroom.zip\n",
      "3FO4MBE1MCKY_Living_room.zip\n",
      "3FO4MBE1MCKY_Bedroom.zip\n",
      "3FO4MBE1GSNB_Bedroom.zip\n",
      "3FO4MBE1C85X_Bedroom.zip\n",
      "3FO4MBE12NS3_Living_room.zip\n",
      "3FO4MBE12NS3_Bedroom.zip\n",
      "3FO4MBE10U9J_Bedroom.zip\n",
      "3FO4MBDS6KKI_Guest_room.zip\n",
      "3FO4MBDS6KKI_Bedroom.zip\n",
      "3FO4MBDPX5F2_Bedroom.zip\n",
      "3FO4MBDNOSLM_Living_room.zip\n",
      "3FO4MBDNOSLM_Bedroom.zip\n",
      "3FO4MBDBC548_Living_room.zip\n",
      "3FO4MBD7NQ7T_Bedroom.zip\n",
      "3FO4MBCYAG54_Bedroom.zip\n",
      "3FO4MBCYA9G2_Bedroom.zip\n",
      "3FO4MBCY4M6D_Bedroom.zip\n",
      "3FO4MBCY2VYU_Bedroom.zip\n",
      "3FO4MBCY2LXR_Bedroom.zip\n",
      "3FO4MBCY1A5D_Bedroom.zip\n",
      "3FO4MBCXYJXU_Bedroom.zip\n",
      "3FO4MBCXWX4D_Living_room.zip\n",
      "3FO4MBCXWX4D_Bedroom.zip\n",
      "3FO4MBCXWD27_Living_room.zip\n",
      "3FO4MBCXWD27_Bedroom.zip\n",
      "3FO4MBCXUMUO_Bedroom.zip\n",
      "3FO4MBCXU2SI_Bedroom.zip\n",
      "3FO4MBCXOPJW_Bedroom.zip\n",
      "3FO4MBCXL05S_Bedroom.zip\n",
      "3FO4MBCXAO1P_Bedroom.zip\n",
      "3FO4MBCX4NDW_Bedroom.zip\n",
      "3FO4MBCX3BKI_Bedroom.zip\n",
      "3FO4MBCX2TUD_Bedroom.zip\n",
      "3FO4MBCX0QAQ_Bedroom.zip\n",
      "3FO4MBCWX9D0_Living_room.zip\n",
      "3FO4MBCWX9D0_Bedroom.zip\n",
      "3FO4MBCWVJ6H_Bedroom.zip\n",
      "3FO4MBCWM35N_Bedroom.zip\n",
      "3FO4MBCWKN08_Bedroom.zip\n",
      "3FO4MBCWC22N_Bedroom.zip\n",
      "3FO4MBCW9GRV_Bedroom.zip\n",
      "3FO4MBCW3CS2_Bedroom.zip\n",
      "3FO4MBCW0Y7C_Living_room.zip\n",
      "3FO4MBCW0Y7C_Bedroom.zip\n",
      "3FO4MBCW0AS5_Living_room.zip\n",
      "3FO4MBCW0AS5_Bedroom.zip\n",
      "3FO4MBCVV70W_Living_room.zip\n",
      "3FO4MBCVV70W_Bedroom.zip\n",
      "3FO4MBCFETMJ_Bedroom.zip\n",
      "3FO4MBC2Q6LU_Guest_room.zip\n",
      "3FO4MBC2Q6LU_Bedroom.zip\n",
      "3FO4MBBNTC99_Bedroom.zip\n",
      "3FO4MBBMSVQN_Bedroom.zip\n",
      "3FO4MBBLXBRI_Bedroom.zip\n",
      "3FO4MBBGTUS5_Living_room.zip\n",
      "3FO4MBB6QKVH_Living_room.zip\n",
      "3FO4MBB6QKVH_Dining_room.zip\n",
      "3FO4MBB6QKVH_Bedroom.zip\n",
      "3FO4MBAYC14U_Bedroom.zip\n",
      "3FO4MBAX4S88_Bedroom.zip\n",
      "3FO4MBAURWOQ_Bedroom.zip\n",
      "3FO4MBAOJJ2F_Bedroom.zip\n",
      "3FO4MBANPHKQ_Bedroom.zip\n",
      "3FO4MBANCL6V_Bedroom.zip\n",
      "3FO4MBADM7O3_Bedroom.zip\n",
      "3FO4MBA3JYJQ_Living_room.zip\n",
      "3FO4MBA3JYJQ_Dining_room.zip\n",
      "3FO4MBA3JYJQ_Bedroom.zip\n",
      "3FO4MB9XSX93_Bedroom.zip\n",
      "3FO4MB9XBX30_Bedroom.zip\n",
      "3FO4MB9LVTRC_Bedroom.zip\n",
      "3FO4MB9KKBEF_Living_room.zip\n",
      "3FO4MB9KKBEF_Bedroom.zip\n",
      "3FO4MB9KG4A6_Living_room.zip\n",
      "3FO4MB9KG4A6_Bedroom.zip\n",
      "3FO4MB9IXQXI_Bedroom.zip\n",
      "3FO4MB9IJFE8_Bedroom.zip\n",
      "3FO4MB9I65M9_Bedroom.zip\n",
      "3FO4MB9HVVAH_Bedroom.zip\n",
      "3FO4MB9AA5QP_Bedroom.zip\n",
      "3FO4MB98KCLT_Living_room.zip\n",
      "3FO4MB97U4VA_Living_room.zip\n",
      "3FO4MB97U4VA_Bedroom.zip\n",
      "3FO4MB8RJK94_Bedroom.zip\n",
      "3FO4MB8MWJDN_Bedroom.zip\n",
      "3FO4MB8EUIUB_Living_room.zip\n",
      "3FO4MB8EUIUB_Bedroom.zip\n",
      "3FO4MB7A98SP_Living_room.zip\n",
      "3FO4MB7A98SP_Bedroom.zip\n",
      "3FO4MB6W4915_Living_room.zip\n",
      "3FO4MB6W4915_Dining_room.zip\n",
      "3FO4MB6W4915_Bedroom.zip\n",
      "3FO4MB609A0O_Bedroom.zip\n",
      "3FO4MB5KNJPX_Bedroom.zip\n",
      "3FO4MB5KN30S_Bedroom.zip\n",
      "3FO4MB55VW5F_Living_room.zip\n",
      "3FO4MB55VW5F_Dining_room.zip\n",
      "3FO4MB531189_Living_room.zip\n",
      "3FO4MB531189_Dining_room.zip\n",
      "3FO4MB50U30J_Bedroom.zip\n",
      "3FO4MB50RB1P_Bedroom.zip\n",
      "3FO4MB50MSVD_Bedroom.zip\n",
      "3FO4MB50M5H6_Bedroom.zip\n",
      "3FO4MB50LADW_Bedroom.zip\n",
      "3FO4MB50HXCW_Living_room.zip\n",
      "3FO4MB50HXCW_Bedroom.zip\n",
      "3FO4MB50FJR7_Bedroom.zip\n",
      "3FO4MB50DJJL_Bedroom.zip\n",
      "3FO4MB50CV5E_Bedroom.zip\n",
      "3FO4MB50BFYY_Bedroom.zip\n",
      "3FO4MB50AHJO_Bedroom.zip\n",
      "3FO4MB5051Y2_Bedroom.zip\n",
      "3FO4MB4YTCGU_Bedroom.zip\n",
      "3FO4MB4YLVNM_Bedroom.zip\n",
      "3FO4MB4Y7026_Living_room.zip\n",
      "3FO4MB4Y7026_Bedroom.zip\n",
      "3FO4MB4SQEF6_Bedroom.zip\n",
      "3FO4MB4S21RV_Bedroom.zip\n",
      "3FO4MB4KT2Q8_Bedroom.zip\n",
      "3FO4MB3TKVOM_Bedroom.zip\n",
      "3FO4MB27IR7C_Guest_room.zip\n",
      "3FO4MB27IR7C_Bedroom.zip\n",
      "3FO4MB1V8G34_Bedroom.zip\n",
      "3FO4MB1HC03M_Bedroom.zip\n",
      "3FO4MB1EMS8G_Bedroom.zip\n",
      "3FO4MB0FS004_Bedroom.zip\n",
      "3FO4MB0FRBKW_Bedroom.zip\n",
      "3FO4MB0FR1JT_Bedroom.zip\n",
      "3FO4MB0FHKJ0_Bedroom.zip\n",
      "3FO4MB0FGW4S_Bedroom.zip\n",
      "3FO4MB0FGPFQ_Living_room.zip\n",
      "3FO4MB0FGPFQ_Bedroom.zip\n",
      "3FO4MB0FGC2M_Bedroom.zip\n",
      "3FO4MB0FEVW7_Bedroom.zip\n",
      "3FO4MB0FESK6_Bedroom.zip\n",
      "3FO4MB0FDU4V_Bedroom.zip\n",
      "3FO4MB0FDGQR_Bedroom.zip\n",
      "3FO4MB0FCP0J_Living_room.zip\n",
      "3FO4MB0FCP0J_Bedroom.zip\n",
      "3FO4MB0ECTK4_Bedroom.zip\n",
      "3FO4MAWU46GW_Bedroom.zip\n",
      "3FO4MAVC1W4G_Living_room.zip\n",
      "3FO4MAV0O7EI_Bedroom.zip\n",
      "3FO4MAV07DWH_Bedroom.zip\n",
      "3FO4MAUYT45I_Bedroom.zip\n",
      "3FO4MASMSP52_Bedroom.zip\n",
      "3FO4MAO35A9P_Bedroom.zip\n",
      "3FO4MAMAS7F4_Bedroom.zip\n",
      "3FO4MAKQBJDV_Bedroom.zip\n",
      "3FO4MAKPWOJQ_Living_room.zip\n",
      "3FO4MAKP8SML_Bedroom.zip\n",
      "3FO4MAGP8VM6_Bedroom.zip\n",
      "3FO4MB0F87U7_Bedroom.zip\n",
      "3FO4MB0F5MKF_Bedroom.zip\n",
      "3FO4MB0F5J8E_Bedroom.zip\n",
      "3FO4MB0F4UT7_Bedroom.zip\n",
      "3FO4MB0F4RH6_Bedroom.zip\n",
      "3FO4MB0F4AR1_Bedroom.zip\n",
      "3FO4MB0F442Y_Living_room.zip\n",
      "3FO4MB0F442Y_Bedroom.zip\n",
      "3FO4MB0F3WDW_Bedroom.zip\n",
      "3FO4MB0F3FNR_Living_room.zip\n",
      "3FO4MB0F3FNR_Bedroom.zip\n",
      "3FO4MB0EXU6E_Bedroom.zip\n",
      "3FO4MB0EVGKO_Living_room.zip\n",
      "3FO4MB0EVGKO_Bedroom.zip\n",
      "3FO4MB0EULHF_Bedroom.zip\n",
      "3FO4MB0EU84B_Bedroom.zip\n",
      "3FO4MB0ETD12_Bedroom.zip\n",
      "3FO4MB0ESRXV_Bedroom.zip\n",
      "3FO4MB0ESHWS_Bedroom.zip\n",
      "3FO4MB0ESB8Q_Bedroom.zip\n",
      "3FO4MB0ERTIL_Bedroom.zip\n",
      "3FO4MB0ERJHI_Bedroom.zip\n",
      "3FO4MB0EIXJX_Bedroom.zip\n",
      "3FO4MB0EHLQJ_Living_room.zip\n",
      "3FO4MB0EHLQJ_Bedroom.zip\n",
      "3FO4MB0EGNB9_Bedroom.zip\n",
      "3FO4MB0EGDA6_Bedroom.zip\n",
      "3FO4MB0ED4L7_Bedroom.zip\n",
      "3FO4MB0EB11K_Living_room.zip\n",
      "3FO4MB0EB11K_Bedroom.zip\n",
      "3FO4MB0EAWOJ_Bedroom.zip\n",
      "3FO4MB0EA2LA_Bedroom.zip\n",
      "3FO4MB0E6IV8_Bedroom.zip\n",
      "3FO4MB0E4BYK_Bedroom.zip\n",
      "3FO4MAYK6ANL_Living_room.zip\n",
      "3FO4MAYK6ANL_Dining_room.zip\n",
      "3FO4MAYK6ANL_Bedroom.zip\n",
      "3FO4MAXXPRR5_Bedroom.zip\n",
      "3FO4MAXP6UEQ_Guest_room.zip\n",
      "3FO4MAXP6UEQ_Bedroom.zip\n",
      "3FO4MAX4GU9W_Living_room.zip\n",
      "3FO4MAX4GU9W_Bedroom.zip\n",
      "3FO4MAWH1XN6_Living_room.zip\n",
      "3FO4MAWH1XN6_Dining_room.zip\n",
      "3FO4MAWH1XN6_Bedroom.zip\n",
      "3FO4MAVWWQ81_Bedroom.zip\n",
      "3FO4MAVR982N_Bedroom.zip\n",
      "3FO4MAVJ6T67_Bedroom.zip\n",
      "3FO4MAVD98D4_Bedroom.zip\n",
      "3FO4MAVD7YVQ_Bedroom.zip\n",
      "3FO4MAVD71GG_Bedroom.zip\n",
      "3FO4MAVD69P8_Bedroom.zip\n",
      "3FO4MAVD4MUQ_Bedroom.zip\n",
      "3FO4MAVD37PB_Bedroom.zip\n",
      "3FO4MAVCNOGY_Bedroom.zip\n",
      "3FO4MAVC3C9V_Bedroom.zip\n",
      "3FO4MAVC1W4G_Bedroom.zip\n",
      "3FO4MAVC1217_Bedroom.zip\n",
      "3FO4MAVBXNFH_Bedroom.zip\n",
      "3FO4MAVBGN9E_Bedroom.zip\n",
      "3FO4MAVBFI52_Bedroom.zip\n",
      "3FO4MAVAAH53_Living_room.zip\n",
      "3FO4MAVAAH53_Bedroom.zip\n",
      "3FO4MAVAA0EX_Bedroom.zip\n",
      "3FO4MAVA9C0Q_Bedroom.zip\n",
      "3FO4MAV9P8A1_Bedroom.zip\n",
      "3FO4MAV96EKE_Bedroom.zip\n",
      "3FO4MAV8RTRC_Bedroom.zip\n",
      "3FO4MAV0WBLX_Bedroom.zip\n",
      "3FO4MAV0O7EI_Dining_room.zip\n",
      "3FO4MAV0MR93_Living_room.zip\n",
      "3FO4MAV0MR93_Bedroom.zip\n",
      "3FO4MAV0MAIX_Bedroom.zip\n",
      "3FO4MAV0M76W_Bedroom.zip\n",
      "3FO4MAV0LM4Q_Bedroom.zip\n",
      "3FO4MAV0KKCF_Bedroom.zip\n",
      "3FO4MAV0K0A9_Living_room.zip\n",
      "3FO4MAV0K0A9_Bedroom.zip\n",
      "3FO4MAV0IQSV_Bedroom.zip\n",
      "3FO4MAV0FOSY_Bedroom.zip\n",
      "3FO4MAV0DVAF_Bedroom.zip\n",
      "3FO4MAV0CMT2_Bedroom.zip\n",
      "3FO4MAV0AWMJ_Bedroom.zip\n",
      "3FO4MAV07XYN_Bedroom.zip\n",
      "3FO4MAV06W7C_Bedroom.zip\n",
      "3FO4MAV05DOV_Bedroom.zip\n",
      "3FO4MAV03046_Bedroom.zip\n",
      "3FO4MAV021NV_Living_room.zip\n",
      "3FO4MAV021NV_Bedroom.zip\n",
      "3FO4MAV00OUH_Bedroom.zip\n",
      "3FO4MAUYYN36_Living_room.zip\n",
      "3FO4MAUYYN36_Bedroom.zip\n",
      "3FO4MAUYXYNY_Bedroom.zip\n",
      "3FO4MAUYVB26_Bedroom.zip\n",
      "3FO4MAUYUFXW_Bedroom.zip\n",
      "3FO4MAUYUCLV_Living_room.zip\n",
      "3FO4MAUYUCLV_Bedroom.zip\n",
      "3FO4MAUYTATK_Bedroom.zip\n",
      "3FO4MAUYR79X_Living_room.zip\n",
      "3FO4MAUYR79X_Bedroom.zip\n",
      "3FO4MAUYQPJS_Bedroom.zip\n",
      "3FO4MAUYQC6O_Bedroom.zip\n",
      "3FO4MAUYPKFG_Bedroom.zip\n",
      "3FO4MAUYOPC7_Bedroom.zip\n",
      "3FO4MAUYHCV0_Bedroom.zip\n",
      "3FO4MAUYFG0F_Bedroom.zip\n",
      "3FO4MAUYEYAA_Bedroom.zip\n",
      "3FO4MAUYE7J2_Bedroom.zip\n",
      "3FO4MAUY6U2U_Bedroom.zip\n",
      "3FO4MAUY2CWI_Bedroom.zip\n",
      "3FO4MAUECVMB_Bedroom.zip\n",
      "3FO4MASYSNWN_Dining_room.zip\n",
      "3FO4MAQYTXVB_Bedroom.zip\n",
      "3FO4MAQGO3E5_Bedroom.zip\n",
      "3FO4MAQDYOTW_Living_room.zip\n",
      "3FO4MAQDYOTW_Dining_room.zip\n",
      "3FO4MAQA6C31_Living_room.zip\n",
      "3FO4MAPRQCPL_Guest_room.zip\n",
      "3FO4MAPRQCPL_Bedroom.zip\n",
      "3FO4MAPRJ09E_Bedroom.zip\n",
      "3FO4MAPNXNCW_Bedroom.zip\n",
      "3FO4MAPA4OB6_Bedroom.zip\n",
      "3FO4MAP4PITL_Bedroom.zip\n",
      "3FO4MAP1VGFY_Living_room.zip\n",
      "3FO4MAP1VGFY_Bedroom.zip\n",
      "3FO4MAO4RS5W_Bedroom.zip\n",
      "3FO4MANP2HDS_Living_room.zip\n",
      "3FO4MANP2HDS_Dining_room.zip\n",
      "3FO4MANIFPMH_Bedroom.zip\n",
      "3FO4MANI5EIE_Bedroom.zip\n",
      "3FO4MANH1LYS_Bedroom.zip\n",
      "3FO4MANBOGPT_Bedroom.zip\n",
      "3FO4MAMMPAVU_Bedroom.zip\n",
      "3FO4MAMINIVG_Living_room.zip\n",
      "3FO4MAMINIVG_Dining_room.zip\n",
      "3FO4MAMINIVG_Bedroom.zip\n",
      "3FO4MAMBXSH9_Bedroom.zip\n",
      "3FO4MAMAYBEX_Bedroom.zip\n",
      "3FO4MAMAV9F1_Bedroom.zip\n",
      "3FO4MAMAGJHM_Bedroom.zip\n",
      "3FO4MALWUK3Q_Bedroom.zip\n",
      "3FO4MALS28JE_Bedroom.zip\n",
      "3FO4MALM8QIJ_Bedroom.zip\n",
      "3FO4MAL7HAM3_Bedroom.zip\n",
      "3FO4MAKQR4EJ_Bedroom.zip\n",
      "3FO4MAKQPAV0_Bedroom.zip\n",
      "3FO4MAKQOCFP_Bedroom.zip\n",
      "3FO4MAKQKIOK_Bedroom.zip\n",
      "3FO4MAKQK8NH_Bedroom.zip\n",
      "3FO4MAKQGBKB_Bedroom.zip\n",
      "3FO4MAKQE1BM_Living_room.zip\n",
      "3FO4MAKQE1BM_Bedroom.zip\n",
      "3FO4MAKQDG9G_Bedroom.zip\n",
      "3FO4MAKQ6XVI_Living_room.zip\n",
      "3FO4MAKQ6XVI_Dining_room.zip\n",
      "3FO4MAKQ6XVI_Bedroom.zip\n",
      "3FO4MAKQ4DLQ_Bedroom.zip\n",
      "3FO4MAKQ38HE_Living_room.zip\n",
      "3FO4MAKQ38HE_Bedroom.zip\n",
      "3FO4MAKQ1SBY_Bedroom.zip\n",
      "3FO4MAKQ1BLT_Bedroom.zip\n",
      "3FO4MAKQ06HH_Bedroom.zip\n",
      "3FO4MAKPYLFB_Bedroom.zip\n",
      "3FO4MAKPY4P6_Bedroom.zip\n",
      "3FO4MAKPY1D5_Bedroom.zip\n",
      "3FO4MAKPXQC2_Living_room.zip\n",
      "3FO4MAKPXQC2_Bedroom.zip\n",
      "3FO4MAKPWOJQ_Bedroom.zip\n",
      "3FO4MAKPWHUO_Living_room.zip\n",
      "3FO4MAKPWHUO_Bedroom.zip\n",
      "3FO4MAKPWEIN_Bedroom.zip\n",
      "3FO4MAKPT96P_Bedroom.zip\n",
      "3FO4MAKPN1TU_Bedroom.zip\n",
      "3FO4MAKPMK4P_Living_room.zip\n",
      "3FO4MAKPMK4P_Dining_room.zip\n",
      "3FO4MAKPMK4P_Bedroom.zip\n",
      "3FO4MAKPG63S_Living_room.zip\n",
      "3FO4MAKPG63S_Bedroom.zip\n",
      "3FO4MAKPF4BH_Bedroom.zip\n",
      "3FO4MAKPDO62_Bedroom.zip\n",
      "3FO4MAKP8SML_Living_room.zip\n",
      "3FO4MAKP2RYS_Living_room.zip\n",
      "3FO4MAKP2RYS_Bedroom.zip\n",
      "3FO4MAKOY99Q_Bedroom.zip\n",
      "3FO4MAKOV0KR_Bedroom.zip\n",
      "3FO4MAKOUC6K_Bedroom.zip\n",
      "3FO4MAKOTXSG_Bedroom.zip\n",
      "3FO4MAKHLVER_Bedroom.zip\n",
      "3FO4MAKD7EOK_Bedroom.zip\n",
      "3FO4MAKCHR17_Bedroom.zip\n",
      "3FO4MAK98YP6_Bedroom.zip\n",
      "3FO4MAK940TO_Bedroom.zip\n",
      "3FO4MAJ9HN2E_Bedroom.zip\n",
      "3FO4MAIQGX4R_Bedroom.zip\n",
      "3FO4MAHDPUL0_Bedroom.zip\n",
      "3FO4MA9I2MYH_Bedroom.zip\n",
      "3FO4MA9GQ19J_Bedroom.zip\n",
      "3FO4MA6OM521_Bedroom.zip\n",
      "3FO4MA6NQNEW_Bedroom.zip\n",
      "3FO4MA6N4EC9_Bedroom.zip\n",
      "3FO4MA4W9NTB_Dining_room.zip\n",
      "3FO4MA34QKBW_Bedroom.zip\n",
      "3FO4M9YX919R_Bedroom.zip\n",
      "3FO4M9U8C37J_Bedroom.zip\n",
      "3FO4M9TXNBJ8_Bedroom.zip\n",
      "3FO4M9TX9GP3_Bedroom.zip\n",
      "3FO4M9TX12GK_Bedroom.zip\n",
      "3FO4M9TWNCQR_Bedroom.zip\n",
      "3FO4MAGNFX5C_Bedroom.zip\n",
      "3FO4MAFYF8SW_Bedroom.zip\n",
      "3FO4MAF7947G_Bedroom.zip\n",
      "3FO4MADQX1WR_Bedroom.zip\n",
      "3FO4MADK8VKQ_Bedroom.zip\n",
      "3FO4MAD7RYED_Bedroom.zip\n",
      "3FO4MAD164B1_Bedroom.zip\n",
      "3FO4MACPV20C_Bedroom.zip\n",
      "3FO4MAAAGF38_Bedroom.zip\n",
      "3FO4MAA97R16_Bedroom.zip\n",
      "3FO4MAA63QVK_Bedroom.zip\n",
      "3FO4MAA0GAII_Bedroom.zip\n",
      "3FO4MA9IFG1B_Living_room.zip\n",
      "3FO4MA9IFG1B_Bedroom.zip\n",
      "3FO4MA9IEE90_Bedroom.zip\n",
      "3FO4MA9IEAVY_Bedroom.zip\n",
      "3FO4MA9IE7JX_Bedroom.zip\n",
      "3FO4MA9IDWIU_Living_room.zip\n",
      "3FO4MA9IDWIU_Bedroom.zip\n",
      "3FO4MA9IDFSP_Bedroom.zip\n",
      "3FO4MA9IBWB9_Bedroom.zip\n",
      "3FO4MA9IBIX5_Bedroom.zip\n",
      "3FO4MA9I9M2K_Bedroom.zip\n",
      "3FO4MA9I86W5_Bedroom.zip\n",
      "3FO4MA9I8083_Dining_room.zip\n",
      "3FO4MA9I8083_Bedroom.zip\n",
      "3FO4MA9I7LTY_Bedroom.zip\n",
      "3FO4MA9I2MYH_Living_room.zip\n",
      "3FO4MA9HYEAI_Living_room.zip\n",
      "3FO4MA9HYEAI_Bedroom.zip\n",
      "3FO4MA9HUUKG_Bedroom.zip\n",
      "3FO4MA9HSAAO_Bedroom.zip\n",
      "3FO4MA9HMN10_Bedroom.zip\n",
      "3FO4MA9HKMSE_Living_room.zip\n",
      "3FO4MA9HKMSE_Bedroom.zip\n",
      "3FO4MA9HJV26_Guest_room.zip\n",
      "3FO4MA9HJV26_Bedroom.zip\n",
      "3FO4MA9HBGSN_Bedroom.zip\n",
      "3FO4MA9H2E5X_Dining_room.zip\n",
      "3FO4MA9H2E5X_Bedroom.zip\n",
      "3FO4MA9GWIMH_Bedroom.zip\n",
      "3FO4MA9GULQW_Bedroom.zip\n",
      "3FO4MA9GP9IB_Bedroom.zip\n",
      "3FO4MA9GN5XO_Bedroom.zip\n",
      "3FO4MA9GJSWO_Bedroom.zip\n",
      "3FO4MA8VM8F2_Bedroom.zip\n",
      "3FO4MA8JJHNM_Bedroom.zip\n",
      "3FO4MA7L15NP_Bedroom.zip\n",
      "3FO4MA7KLMFD_Bedroom.zip\n",
      "3FO4MA7K57BG_Bedroom.zip\n",
      "3FO4MA7JSQ31_Bedroom.zip\n",
      "3FO4MA7J5IK3_Living_room.zip\n",
      "3FO4MA7E6TR5_Bedroom.zip\n",
      "3FO4MA7BDT5T_Bedroom.zip\n",
      "3FO4MA706XEM_Bedroom.zip\n",
      "3FO4MA6TW02B_Bedroom.zip\n",
      "3FO4MA6OM1P0_Living_room.zip\n",
      "3FO4MA6OM1P0_Bedroom.zip\n",
      "3FO4MA6OJN4A_Bedroom.zip\n",
      "3FO4MA6O8DJW_Guest_room.zip\n",
      "3FO4MA6O8DJW_Bedroom.zip\n",
      "3FO4MA6O6XEH_Bedroom.zip\n",
      "3FO4MA6O3BCE_Bedroom.zip\n",
      "3FO4MA6O2682_Living_room.zip\n",
      "3FO4MA6O2682_Bedroom.zip\n",
      "3FO4MA6O113P_Bedroom.zip\n",
      "3FO4MA6NYRMC_Living_room.zip\n",
      "3FO4MA6NYRMC_Dining_room.zip\n",
      "3FO4MA6NYRMC_Bedroom.zip\n",
      "3FO4MA6NQXG0_Bedroom.zip\n",
      "3FO4MA6NLOJF_Living_room.zip\n",
      "3FO4MA6NLOJF_Bedroom.zip\n",
      "3FO4MA6NJ7LO_Bedroom.zip\n",
      "3FO4MA6NJ49N_Bedroom.zip\n",
      "3FO4MA6NIPVJ_Living_room.zip\n",
      "3FO4MA6NIPVJ_Bedroom.zip\n",
      "3FO4MA6NICIF_Bedroom.zip\n",
      "3FO4MA6NH422_Bedroom.zip\n",
      "3FO4MA6NFXWP_Bedroom.zip\n",
      "3FO4MA6NFR8N_Living_room.zip\n",
      "3FO4MA6NFR8N_Bedroom.zip\n",
      "3FO4MA6NBA3B_Bedroom.zip\n",
      "3FO4MA6N9X9W_Bedroom.zip\n",
      "3FO4MA6N4EC9_Living_room.zip\n",
      "3FO4MA6N2HGO_Living_room.zip\n",
      "3FO4MA6N2HGO_Dining_room.zip\n",
      "3FO4MA6N2HGO_Bedroom.zip\n",
      "3FO4MA5T3HPF_Living_room.zip\n",
      "3FO4MA5T3HPF_Bedroom.zip\n",
      "3FO4MA5SBTTG_Living_room.zip\n",
      "3FO4MA5SBTTG_Bedroom.zip\n",
      "3FO4MA5OKY0B_Bedroom.zip\n",
      "3FO4MA57KRWB_Living_room.zip\n",
      "3FO4MA57KRWB_Bedroom.zip\n",
      "3FO4MA56WADA_Living_room.zip\n",
      "3FO4MA56WADA_Dining_room.zip\n",
      "3FO4MA56WADA_Bedroom.zip\n",
      "3FO4MA4W9NTB_Living_room.zip\n",
      "3FO4MA4W9NTB_Bedroom.zip\n",
      "3FO4MA4KWJ6J_Bedroom.zip\n",
      "3FO4MA47V341_Bedroom.zip\n",
      "3FO4MA47RJDY_Bedroom.zip\n",
      "3FO4MA3K21M2_Bedroom.zip\n",
      "3FO4MA3JXB7X_Bedroom.zip\n",
      "3FO4MA3FDAK3_Bedroom.zip\n",
      "3FO4MA3DSTNS_Bedroom.zip\n",
      "3FO4MA3CN1WL_Bedroom.zip\n",
      "3FO4MA3BCUD3_Bedroom.zip\n",
      "3FO4MA3B8N8T_Bedroom.zip\n",
      "3FO4MA3B783E_Bedroom.zip\n",
      "3FO4MA35HJSO_Bedroom.zip\n",
      "3FO4MA34SAIF_Bedroom.zip\n",
      "3FO4MA34JEJR_Bedroom.zip\n",
      "3FO4MA34903N_Bedroom.zip\n",
      "3FO4MA1Y2TK4_Bedroom.zip\n",
      "3FO4MA1XA88U_Bedroom.zip\n",
      "3FO4MA1QX0UE_Bedroom.zip\n",
      "3FO4MA1OT67B_Living_room.zip\n",
      "3FO4MA1OT67B_Bedroom.zip\n",
      "3FO4MA1IEGV4_Living_room.zip\n",
      "3FO4MA1IEGV4_Dining_room.zip\n",
      "3FO4MA1IEGV4_Bedroom.zip\n",
      "3FO4MA155XDH_Bedroom.zip\n",
      "3FO4M9YXC6LP_Living_room.zip\n",
      "3FO4M9YXC6LP_Bedroom.zip\n",
      "3FO4M9YXAN49_Bedroom.zip\n",
      "3FO4M9YX8Q8O_Bedroom.zip\n",
      "3FO4M9YQ15K5_Bedroom.zip\n",
      "3FO4M9YM7L47_Bedroom.zip\n",
      "3FO4M9Y42HD9_Bedroom.zip\n",
      "3FO4M9X2SICQ_Bedroom.zip\n",
      "3FO4M9WYVHB8_Bedroom.zip\n",
      "3FO4M9VFMNGC_Bedroom.zip\n",
      "3FO4M9UV9K2J_Bedroom.zip\n",
      "3FO4M9UV361M_Bedroom.zip\n",
      "3FO4M9UODWCK_Dining_room.zip\n",
      "3FO4M9UMQHSE_Living_room.zip\n",
      "3FO4M9UMQHSE_Bedroom.zip\n",
      "3FO4M9UAW2XG_Bedroom.zip\n",
      "3FO4M9U8OB77_Bedroom.zip\n",
      "3FO4M9U7KBYJ_Bedroom.zip\n",
      "3FO4M9U4UA14_Bedroom.zip\n",
      "3FO4M9U3NSUP_Living_room.zip\n",
      "3FO4M9U3NSUP_Dining_room.zip\n",
      "3FO4M9U3NSUP_Bedroom.zip\n",
      "3FO4M9U3CWOG_Bedroom.zip\n",
      "3FO4M9U1YE3X_Bedroom.zip\n",
      "3FO4M9U1S6R3_Bedroom.zip\n",
      "3FO4M9TXQ6U3_Bedroom.zip\n",
      "3FO4M9TXPLRW_Living_room.zip\n",
      "3FO4M9TXPLRW_Bedroom.zip\n",
      "3FO4M9TXOXDP_Bedroom.zip\n",
      "3FO4M9TXOU1O_Bedroom.zip\n",
      "3FO4M9TXOK0L_Bedroom.zip\n",
      "3FO4M9TXMGFY_Living_room.zip\n",
      "3FO4M9TXMGFY_Bedroom.zip\n",
      "3FO4M9TXLI0O_Bedroom.zip\n",
      "3FO4M9TXLBBM_Living_room.zip\n",
      "3FO4M9TXLBBM_Bedroom.zip\n",
      "3FO4M9TXEFKK_Living_room.zip\n",
      "3FO4M9TXEFKK_Bedroom.zip\n",
      "3FO4M9TXE5JH_Living_room.zip\n",
      "3FO4M9TXE5JH_Bedroom.zip\n",
      "3FO4M9TXDXUF_Bedroom.zip\n",
      "3FO4M9TXDH5A_Bedroom.zip\n",
      "3FO4M9TXD0F5_Bedroom.zip\n",
      "3FO4M9TXAF5D_Bedroom.zip\n",
      "3FO4M9TX9U37_Bedroom.zip\n",
      "3FO4M9TX9A11_Bedroom.zip\n",
      "3FO4M9TX6VFB_Bedroom.zip\n",
      "3FO4M9TX6S3A_Bedroom.zip\n",
      "3FO4M9TX59KT_Bedroom.zip\n",
      "3FO4M9TX52VR_Bedroom.zip\n",
      "3FO4M9TX3TFE_Bedroom.zip\n",
      "3FO4M9TX3MQC_Bedroom.zip\n",
      "3FO4M9TX3CP9_Bedroom.zip\n",
      "3FO4M9TX32O6_Bedroom.zip\n",
      "3FO4M9TX2HM0_Bedroom.zip\n",
      "3FO4M9TX248V_Bedroom.zip\n",
      "3FO4M9TX1CHN_Bedroom.zip\n",
      "3FO4M9TX195M_Living_room.zip\n",
      "3FO4M9TX195M_Bedroom.zip\n",
      "3FO4M9TX0E2D_Bedroom.zip\n",
      "3FO4M9TWWM3J_Living_room.zip\n",
      "3FO4M9TWWM3J_Bedroom.zip\n",
      "3FO4M9TWWFEH_Bedroom.zip\n",
      "3FO4M9TWTK3M_Bedroom.zip\n",
      "3FO4M9TWRTW4_Bedroom.zip\n",
      "3FO4M9TWRQK3_Bedroom.zip\n",
      "3FO4M9TWRJV1_Living_room.zip\n",
      "3FO4M9TWRJV1_Bedroom.zip\n",
      "3FO4M9TWQORR_Bedroom.zip\n",
      "3FO4M9TWP9MC_Bedroom.zip\n",
      "3FO4M9TWNJFT_Living_room.zip\n",
      "3FO4M9TWNJFT_Bedroom.zip\n",
      "3FO4M9TWNCQR_Guest_room.zip\n",
      "3FO4M9T7YFWE_Bedroom.zip\n",
      "3FO4M9Q8YILS_Bedroom.zip\n",
      "3FO4M9MY5F9S_Bedroom.zip\n",
      "3FO4M9LPD63J_Bedroom.zip\n",
      "3FO4M9HBERV1_Bedroom.zip\n",
      "3FO4M9DXNK5H_Bedroom.zip\n",
      "3FO4M9DX9W0E_Bedroom.zip\n",
      "3FO4M9DWNI10_Bedroom.zip\n",
      "3FO4M9C7P0VE_Bedroom.zip\n",
      "3FO4M98BQY8E_Living_room.zip\n",
      "3FO4M97IIXXW_Living_room.zip\n",
      "3FO4M97I5RIY_Bedroom.zip\n",
      "3FO4M97I0W0I_Bedroom.zip\n",
      "3FO4M9TWMOCK_Bedroom.zip\n",
      "3FO4M9TWLJ88_Living_room.zip\n",
      "3FO4M9TWLJ88_Bedroom.zip\n",
      "3FO4M9TWKKRX_Bedroom.zip\n",
      "3FO4M9TWJ2AH_Bedroom.zip\n",
      "3FO4M9TWIXXG_Bedroom.zip\n",
      "3FO4M9TWH22V_Bedroom.zip\n",
      "3FO4M9TWGH0P_Bedroom.zip\n",
      "3FO4M9TWG3ML_Bedroom.zip\n",
      "3FO4M9TWFBVD_Bedroom.zip\n",
      "3FO4M9TWEA42_Bedroom.zip\n",
      "3FO4M9TWDBNR_Bedroom.zip\n",
      "3FO4M9TW9L9N_Bedroom.zip\n",
      "3FO4M9TW8WUG_Living_room.zip\n",
      "3FO4M9TW82R7_Living_room.zip\n",
      "3FO4M9TW82R7_Bedroom.zip\n",
      "3FO4M9TW7V35_Living_room.zip\n",
      "3FO4M9TW7V35_Bedroom.zip\n",
      "3FO4M9TW65VM_Bedroom.zip\n",
      "3FO4M9TW5KTG_Bedroom.zip\n",
      "3FO4M9TW42C0_Bedroom.zip\n",
      "3FO4M9TW3AKR_Living_room.zip\n",
      "3FO4M9TW3AKR_Dining_room.zip\n",
      "3FO4M9TW3AKR_Bedroom.zip\n",
      "3FO4M9TW2C5H_Bedroom.zip\n",
      "3FO4M9TW25GF_Bedroom.zip\n",
      "3FO4M9TAO15O_Bedroom.zip\n",
      "3FO4M9T9OT4G_Bedroom.zip\n",
      "3FO4M9SPAXYF_Living_room.zip\n",
      "3FO4M9SPAXYF_Dining_room.zip\n",
      "3FO4M9SPAXYF_Bedroom.zip\n",
      "3FO4M9SEQPO0_Bedroom.zip\n",
      "3FO4M9SC6CJY_Bedroom.zip\n",
      "3FO4M9RKPWE7_Bedroom.zip\n",
      "3FO4M9QTJGJ4_Bedroom.zip\n",
      "3FO4M9QMHVID_Living_room.zip\n",
      "3FO4M9QMHVID_Bedroom.zip\n",
      "3FO4M9QFXP1T_Bedroom.zip\n",
      "3FO4M9Q920JJ_Bedroom.zip\n",
      "3FO4M9Q91SUH_Bedroom.zip\n",
      "3FO4M9Q90AD1_Bedroom.zip\n",
      "3FO4M9Q8YILS_Living_room.zip\n",
      "3FO4M9Q8Y58O_Living_room.zip\n",
      "3FO4M9Q8Y58O_Guest_room.zip\n",
      "3FO4M9Q6PLQ7_Bedroom.zip\n",
      "3FO4M9Q1OQ1L_Bedroom.zip\n",
      "3FO4M9P49850_Bedroom.zip\n",
      "3FO4M9OP71IS_Bedroom.zip\n",
      "3FO4M9OO2UM3_Bedroom.zip\n",
      "3FO4M9ONKDPU_Bedroom.zip\n",
      "3FO4M9ONHP42_Bedroom.zip\n",
      "3FO4M9O7YLBM_Bedroom.zip\n",
      "3FO4M9O4T9DM_Living_room.zip\n",
      "3FO4M9O2T8GO_Bedroom.zip\n",
      "3FO4M9NUU5DO_Living_room.zip\n",
      "3FO4M9NUU5DO_Bedroom.zip\n",
      "3FO4M9MX32VM_Bedroom.zip\n",
      "3FO4M9MRWSDP_Bedroom.zip\n",
      "3FO4M9MQFG22_Bedroom.zip\n",
      "3FO4M9MPLEKD_Bedroom.zip\n",
      "3FO4M9MKSX4A_Bedroom.zip\n",
      "3FO4M9MJUEH9_Bedroom.zip\n",
      "3FO4M9MJFYKX_Bedroom.zip\n",
      "3FO4M9MIOVR5_Bedroom.zip\n",
      "3FO4M9MIF5P8_Living_room.zip\n",
      "3FO4M9MIF5P8_Bedroom.zip\n",
      "3FO4M9MHO68G_Living_room.zip\n",
      "3FO4M9MHO68G_Dining_room.zip\n",
      "3FO4M9MHO68G_Bedroom.zip\n",
      "3FO4M9MB64V9_Bedroom.zip\n",
      "3FO4M9LELXP1_Living_room.zip\n",
      "3FO4M9LELXP1_Bedroom.zip\n",
      "3FO4M9LELNNX_Living_room.zip\n",
      "3FO4M9LELNNX_Bedroom.zip\n",
      "3FO4M9KSPG79_Living_room.zip\n",
      "3FO4M9KSPG79_Bedroom.zip\n",
      "3FO4M9IUGCLQ_Bedroom.zip\n",
      "3FO4M9HV77T4_Bedroom.zip\n",
      "3FO4M9HUQCRD_Living_room.zip\n",
      "3FO4M9HUQCRD_Dining_room.zip\n",
      "3FO4M9HT4IAD_Bedroom.zip\n",
      "3FO4M9HRUDI6_Bedroom.zip\n",
      "3FO4M9HOEPG3_Bedroom.zip\n",
      "3FO4M9HMSWQE_Bedroom.zip\n",
      "3FO4M9HATPP1_Bedroom.zip\n",
      "3FO4M9G57P4Q_Bedroom.zip\n",
      "3FO4M9FMPFIM_Living_room.zip\n",
      "3FO4M9FMPFIM_Dining_room.zip\n",
      "3FO4M9FMPFIM_Bedroom.zip\n",
      "3FO4M9FL8D82_Living_room.zip\n",
      "3FO4M9FL8D82_Bedroom.zip\n",
      "3FO4M9FGCN30_Living_room.zip\n",
      "3FO4M9FGCN30_Bedroom.zip\n",
      "3FO4M9EBC4T5_Bedroom.zip\n",
      "3FO4M9E69FL0_Bedroom.zip\n",
      "3FO4M9DXOP9T_Bedroom.zip\n",
      "3FO4M9DXNK5H_Living_room.zip\n",
      "3FO4M9DXNK5H_Dining_room.zip\n",
      "3FO4M9DXNA4E_Bedroom.zip\n",
      "3FO4M9DXMLP7_Living_room.zip\n",
      "3FO4M9DXMLP7_Bedroom.zip\n",
      "3FO4M9DXMID6_Bedroom.zip\n",
      "3FO4M9DXKOTM_Bedroom.zip\n",
      "3FO4M9DXJN2B_Bedroom.zip\n",
      "3FO4M9DXHCSM_Bedroom.zip\n",
      "3FO4M9DXGYFI_Bedroom.zip\n",
      "3FO4M9DXGB1B_Living_room.zip\n",
      "3FO4M9DXGB1B_Dining_room.zip\n",
      "3FO4M9DXGB1B_Bedroom.zip\n",
      "3FO4M9DXAUFO_Bedroom.zip\n",
      "3FO4M9DXAR3N_Living_room.zip\n",
      "3FO4M9DXAR3N_Bedroom.zip\n",
      "3FO4M9DX7LQP_Bedroom.zip\n",
      "3FO4M9DX7BPM_Living_room.zip\n",
      "3FO4M9DX7BPM_Bedroom.zip\n",
      "3FO4M9DX49PP_Bedroom.zip\n",
      "3FO4M9DX2MV8_Bedroom.zip\n",
      "3FO4M9DX22T2_Bedroom.zip\n",
      "3FO4M9DX05XH_Bedroom.zip\n",
      "3FO4M9DWVSWH_Living_room.zip\n",
      "3FO4M9DWV269_Bedroom.zip\n",
      "3FO4M9DWQ6MS_Bedroom.zip\n",
      "3FO4M9DWPLKM_Bedroom.zip\n",
      "3FO4M9DWPI8L_Bedroom.zip\n",
      "3FO4M9DWP1IG_Bedroom.zip\n",
      "3FO4M9DWON5C_Bedroom.zip\n",
      "3FO4M9DWNBBX_Bedroom.zip\n",
      "3FO4M9DWMWXT_Living_room.zip\n",
      "3FO4M9DWMWXT_Bedroom.zip\n",
      "3FO4M9DWGM9X_Dining_room.zip\n",
      "3FO4M9DWGM9X_Bedroom.zip\n",
      "3FO4M9DWDGX0_Bedroom.zip\n",
      "3FO4M9DWB6OB_Bedroom.zip\n",
      "3FO4M9DP6GBM_Bedroom.zip\n",
      "3FO4M9DFYESB_Bedroom.zip\n",
      "3FO4M9D7JOK6_Bedroom.zip\n",
      "3FO4M9D7CPH3_Bedroom.zip\n",
      "3FO4M9CV7JWE_Living_room.zip\n",
      "3FO4M9CV7JWE_Bedroom.zip\n",
      "3FO4M9CKY4G7_Bedroom.zip\n",
      "3FO4M9C3G9RW_Bedroom.zip\n",
      "3FO4M9BFOF7L_Bedroom.zip\n",
      "3FO4M9BFF97U_Bedroom.zip\n",
      "3FO4M9B95W59_Living_room.zip\n",
      "3FO4M9B95W59_Dining_room.zip\n",
      "3FO4M9B95W59_Bedroom.zip\n",
      "3FO4M9B8YYTH_Bedroom.zip\n",
      "3FO4M9B5R5XQ_Bedroom.zip\n",
      "3FO4M9A9HJ5D_Bedroom.zip\n",
      "3FO4M99JQFEC_Bedroom.zip\n",
      "3FO4M993L98B_Bedroom.zip\n",
      "3FO4M99308M1_Bedroom.zip\n",
      "3FO4M98VH0KR_Bedroom.zip\n",
      "3FO4M98UAJFD_Living_room.zip\n",
      "3FO4M98BQY8E_Bedroom.zip\n",
      "3FO4M9896EFB_Living_room.zip\n",
      "3FO4M9896EFB_Bedroom.zip\n",
      "3FO4M985TK4D_Bedroom.zip\n",
      "3FO4M97YRXV3_Bedroom.zip\n",
      "3FO4M97INCR8_Living_room.zip\n",
      "3FO4M97INCR8_Bedroom.zip\n",
      "3FO4M97IMV23_Bedroom.zip\n",
      "3FO4M97ILMKP_Bedroom.zip\n",
      "3FO4M97ILCJM_Bedroom.zip\n",
      "3FO4M97IKY6I_Bedroom.zip\n",
      "3FO4M97IJMD4_Bedroom.zip\n",
      "3FO4M97IJFO2_Living_room.zip\n",
      "3FO4M97IJFO2_Bedroom.zip\n",
      "3FO4M97IIXXW_Dining_room.zip\n",
      "3FO4M97IIXXW_Bedroom.zip\n",
      "3FO4M97II77O_Bedroom.zip\n",
      "3FO4M97IFBVT_Bedroom.zip\n",
      "3FO4M97IF1UQ_Living_room.zip\n",
      "3FO4M97IF1UQ_Bedroom.zip\n",
      "3FO4M97IEA4I_Living_room.zip\n",
      "3FO4M97IEA4I_Bedroom.zip\n",
      "3FO4M97ID1N5_Living_room.zip\n",
      "3FO4M97ID1N5_Guest_room.zip\n",
      "3FO4M97ID1N5_Bedroom.zip\n",
      "3FO4M97IB84L_Bedroom.zip\n",
      "3FO4M97I82RN_Bedroom.zip\n",
      "3FO4M97I6JA7_Bedroom.zip\n",
      "3FO4M97I4WFP_Living_room.zip\n",
      "3FO4M97I4WFP_Bedroom.zip\n",
      "3FO4M97I4CDJ_Bedroom.zip\n",
      "3FO4M97I3NYC_Guest_room.zip\n",
      "3FO4M97I3NYC_Bedroom.zip\n",
      "3FO4M97I3KMB_Living_room.zip\n",
      "3FO4M97I3KMB_Bedroom.zip\n",
      "3FO4M97I3HAA_Bedroom.zip\n",
      "3FO4M97I2FHY_Bedroom.zip\n",
      "3FO4M97I28SW_Bedroom.zip\n",
      "3FO4M97I1XRT_Bedroom.zip\n",
      "3FO4M97I1ADM_Living_room.zip\n",
      "3FO4M97I1ADM_Bedroom.zip\n",
      "3FO4M97I0W0I_Living_room.zip\n",
      "3FO4M97H55CB_Living_room.zip\n",
      "3FO4M94U1N49_Bedroom.zip\n",
      "3FO4M94TCH61_Living_room.zip\n",
      "3FO4M94STF7M_Bedroom.zip\n",
      "3FO4M94SGFGQ_Bedroom.zip\n",
      "3FO4M8YNX72L_Bedroom.zip\n",
      "3FO4M8T7844S_Living_room.zip\n",
      "3FO4M8KO5JXP_Bedroom.zip\n",
      "3FO4M847PVC1_Dining_room.zip\n",
      "3FO4M83EAILC_Living_room.zip\n",
      "3FO4M83CU6HA_Bedroom.zip\n",
      "3FO4M7TNSYPS_Bedroom.zip\n",
      "3FO4M7OIO5N7_Bedroom.zip\n",
      "3FO4M97I0PBG_Living_room.zip\n",
      "3FO4M97I0PBG_Bedroom.zip\n",
      "3FO4M97I059A_Bedroom.zip\n",
      "3FO4M97HYU87_Bedroom.zip\n",
      "3FO4M97HXP3U_Living_room.zip\n",
      "3FO4M97HX1ON_Living_room.zip\n",
      "3FO4M97HX1ON_Bedroom.zip\n",
      "3FO4M97HVOV9_Bedroom.zip\n",
      "3FO4M97HVLJ8_Bedroom.zip\n",
      "3FO4M97HUX51_Bedroom.zip\n",
      "3FO4M97HTYOQ_Bedroom.zip\n",
      "3FO4M97HRB2X_Bedroom.zip\n",
      "3FO4M97HQ9AM_Bedroom.zip\n",
      "3FO4M97HPUWI_Bedroom.zip\n",
      "3FO4M97HLXTC_Living_room.zip\n",
      "3FO4M97HLXTC_Bedroom.zip\n",
      "3FO4M97HLUHB_Bedroom.zip\n",
      "3FO4M97HKINW_Bedroom.zip\n",
      "3FO4M97HHQP3_Living_room.zip\n",
      "3FO4M97HHQP3_Bedroom.zip\n",
      "3FO4M97HHGO0_Bedroom.zip\n",
      "3FO4M97HDCVR_Bedroom.zip\n",
      "3FO4M97HCV6M_Bedroom.zip\n",
      "3FO4M97HB9C5_Bedroom.zip\n",
      "3FO4M97H7WB5_Living_room.zip\n",
      "3FO4M97H7WB5_Bedroom.zip\n",
      "3FO4M97H7MA2_Bedroom.zip\n",
      "3FO4M97H5C1D_Bedroom.zip\n",
      "3FO4M97H55CB_Bedroom.zip\n",
      "3FO4M97H4GX4_Bedroom.zip\n",
      "3FO4M97H26OF_Bedroom.zip\n",
      "3FO4M97H0QJ0_Living_room.zip\n",
      "3FO4M97H0QJ0_Bedroom.zip\n",
      "3FO4M97H06GT_Bedroom.zip\n",
      "3FO4M97GO3LI_Bedroom.zip\n",
      "3FO4M97GMXH6_Bedroom.zip\n",
      "3FO4M97GMU55_Bedroom.zip\n",
      "3FO4M959L89N_Bedroom.zip\n",
      "3FO4M959FYD3_Bedroom.zip\n",
      "3FO4M950MAXR_Bedroom.zip\n",
      "3FO4M94UE9H1_Living_room.zip\n",
      "3FO4M94UE9H1_Bedroom.zip\n",
      "3FO4M94U0VD1_Bedroom.zip\n",
      "3FO4M94U0LBX_Bedroom.zip\n",
      "3FO4M94U04LS_Bedroom.zip\n",
      "3FO4M94TSSWW_Bedroom.zip\n",
      "3FO4M94TQPDA_Living_room.zip\n",
      "3FO4M94TQPDA_Dining_room.zip\n",
      "3FO4M94TQPDA_Bedroom.zip\n",
      "3FO4M94TQM19_Bedroom.zip\n",
      "3FO4M94TLX6U_Bedroom.zip\n",
      "3FO4M94TJJL5_Bedroom.zip\n",
      "3FO4M94TIYIY_Bedroom.zip\n",
      "3FO4M94TF5RT_Living_room.zip\n",
      "3FO4M94TF5RT_Bedroom.zip\n",
      "3FO4M94TCXV6_Bedroom.zip\n",
      "3FO4M94TCH61_Bedroom.zip\n",
      "3FO4M94T7VNN_Bedroom.zip\n",
      "3FO4M94T71KE_Bedroom.zip\n",
      "3FO4M94T6TVC_Bedroom.zip\n",
      "3FO4M94T6QJB_Bedroom.zip\n",
      "3FO4M94T6N7A_Bedroom.zip\n",
      "3FO4M94T6JU9_Living_room.zip\n",
      "3FO4M94T6JU9_Dining_room.zip\n",
      "3FO4M94T6JU9_Bedroom.zip\n",
      "3FO4M94T6D67_Living_room.zip\n",
      "3FO4M94T4CXL_Bedroom.zip\n",
      "3FO4M94T3157_Bedroom.zip\n",
      "3FO4M94T1YCV_Bedroom.zip\n",
      "3FO4M94T1OBS_Bedroom.zip\n",
      "3FO4M94ST56J_Living_room.zip\n",
      "3FO4M94ST56J_Bedroom.zip\n",
      "3FO4M94SQD7P_Bedroom.zip\n",
      "3FO4M94SPVHK_Living_room.zip\n",
      "3FO4M94SPVHK_Bedroom.zip\n",
      "3FO4M94SP1EB_Bedroom.zip\n",
      "3FO4M94SOTP9_Bedroom.zip\n",
      "3FO4M94SNOKW_Bedroom.zip\n",
      "3FO4M94SN4IQ_Bedroom.zip\n",
      "3FO4M94SK2IT_Bedroom.zip\n",
      "3FO4M94SIMDE_Bedroom.zip\n",
      "3FO4M94SH3UX_Bedroom.zip\n",
      "3FO4M94SH0IW_Living_room.zip\n",
      "3FO4M94SH0IW_Bedroom.zip\n",
      "3FO4M94SF3NC_Bedroom.zip\n",
      "3FO4M94SCLPL_Bedroom.zip\n",
      "3FO4M94SCIDK_Bedroom.zip\n",
      "3FO4M94S15H6_Bedroom.zip\n",
      "3FO4M94KR4N7_Bedroom.zip\n",
      "3FO4M949CEPN_Bedroom.zip\n",
      "3FO4M93N9S82_Bedroom.zip\n",
      "3FO4M91WL6OX_Living_room.zip\n",
      "3FO4M91WL6OX_Bedroom.zip\n",
      "3FO4M91VONAI_Bedroom.zip\n",
      "3FO4M91V52TN_Living_room.zip\n",
      "3FO4M91G4WNL_Bedroom.zip\n",
      "3FO4M90Y34Q4_Bedroom.zip\n",
      "3FO4M90FCUH5_Bedroom.zip\n",
      "3FO4M8Y3BSYU_Bedroom.zip\n",
      "3FO4M8Y2VJ0A_Bedroom.zip\n",
      "3FO4M8Y2E8S4_Bedroom.zip\n",
      "3FO4M8WYXSM7_Bedroom.zip\n",
      "3FO4M8WWJQ72_Bedroom.zip\n",
      "3FO4M8WPV2K6_Living_room.zip\n",
      "3FO4M8WDW27U_Living_room.zip\n",
      "3FO4M8WDW27U_Bedroom.zip\n",
      "3FO4M8WB7UCO_Bedroom.zip\n",
      "3FO4M8WARXQ8_Bedroom.zip\n",
      "3FO4M8WA2Q0O_Bedroom.zip\n",
      "3FO4M8VWV6I4_Living_room.zip\n",
      "3FO4M8VWV6I4_Bedroom.zip\n",
      "3FO4M8VG2YI7_Bedroom.zip\n",
      "3FO4M8SHSQNA_Bedroom.zip\n",
      "3FO4M8P2LCWY_Living_room.zip\n",
      "3FO4M8P2LCWY_Bedroom.zip\n",
      "3FO4M8ONL9VE_Bedroom.zip\n",
      "3FO4M8OMO6ES_Bedroom.zip\n",
      "3FO4M8NHAK31_Bedroom.zip\n",
      "3FO4M8MGV49C_Bedroom.zip\n",
      "3FO4M8MG4N2F_Bedroom.zip\n",
      "3FO4M8MAOT6N_Bedroom.zip\n",
      "3FO4M8M61JTT_Bedroom.zip\n",
      "3FO4M8M3A9F1_Living_room.zip\n",
      "3FO4M8M3A9F1_Bedroom.zip\n",
      "3FO4M8LLN6EX_Bedroom.zip\n",
      "3FO4M8LANX61_Bedroom.zip\n",
      "3FO4M8IM421L_Bedroom.zip\n",
      "3FO4M8GF3UBJ_Bedroom.zip\n",
      "3FO4M8CJXEYS_Bedroom.zip\n",
      "3FO4M8BJC6R3_Bedroom.zip\n",
      "3FO4M8BFWH5A_Living_room.zip\n",
      "3FO4M8BFWH5A_Bedroom.zip\n",
      "3FO4M8B6OAHM_Living_room.zip\n",
      "3FO4M8B6OAHM_Bedroom.zip\n",
      "3FO4M8A9PHQ1_Bedroom.zip\n",
      "3FO4M89XFXD1_Bedroom.zip\n",
      "3FO4M87S8SGT_Bedroom.zip\n",
      "3FO4M86R7DLK_Bedroom.zip\n",
      "3FO4M85SIEBY_Bedroom.zip\n",
      "3FO4M847PVC1_Living_room.zip\n",
      "3FO4M847PVC1_Bedroom.zip\n",
      "3FO4M847K2DA_Bedroom.zip\n",
      "3FO4M83FCAWC_Living_room.zip\n",
      "3FO4M83FCAWC_Bedroom.zip\n",
      "3FO4M83F9WBM_Bedroom.zip\n",
      "3FO4M83F9C9G_Living_room.zip\n",
      "3FO4M83F9C9G_Bedroom.zip\n",
      "3FO4M83F2X8J_Living_room.zip\n",
      "3FO4M83F2X8J_Bedroom.zip\n",
      "3FO4M83EURGE_Living_room.zip\n",
      "3FO4M83EURGE_Bedroom.zip\n",
      "3FO4M83EQUD8_Bedroom.zip\n",
      "3FO4M83ENSDB_Living_room.zip\n",
      "3FO4M83ENSDB_Bedroom.zip\n",
      "3FO4M83EAILC_Bedroom.zip\n",
      "3FO4M83EA588_Bedroom.zip\n",
      "3FO4M83E738B_Living_room.zip\n",
      "3FO4M83E738B_Bedroom.zip\n",
      "3FO4M83DYT45_Bedroom.zip\n",
      "3FO4M83DY5OX_Bedroom.zip\n",
      "3FO4M83DXRBT_Bedroom.zip\n",
      "3FO4M83DVNR7_Bedroom.zip\n",
      "3FO4M83DU1WP_Bedroom.zip\n",
      "3FO4M83DIE08_Bedroom.zip\n",
      "3FO4M83DH8UV_Bedroom.zip\n",
      "3FO4M83D9EOJ_Bedroom.zip\n",
      "3FO4M83D4FT2_Bedroom.zip\n",
      "3FO4M83CU6HA_Living_room.zip\n",
      "3FO4M83CRYKM_Bedroom.zip\n",
      "3FO4M7UHL731_Bedroom.zip\n",
      "3FO4M7UHJK8J_Bedroom.zip\n",
      "3FO4M7UHGOWO_Bedroom.zip\n",
      "3FO4M7UH23CB_Bedroom.zip\n",
      "3FO4M7UD5K8H_Bedroom.zip\n",
      "3FO4M7U8TPKD_Bedroom.zip\n",
      "3FO4M7U8S3PV_Bedroom.zip\n",
      "3FO4M7TR4R9F_Bedroom.zip\n",
      "3FO4M7TR1SLJ_Bedroom.zip\n",
      "3FO4M7TOF0C3_Bedroom.zip\n",
      "3FO4M7TO9X4K_Living_room.zip\n",
      "3FO4M7TO9X4K_Dining_room.zip\n",
      "3FO4M7TO9X4K_Bedroom.zip\n",
      "3FO4M7TIYEP3_Living_room.zip\n",
      "3FO4M7TIYEP3_Bedroom.zip\n",
      "3FO4M7TEN3BT_Living_room.zip\n",
      "3FO4M7TEN3BT_Bedroom.zip\n",
      "3FO4M7S6ECT4_Bedroom.zip\n",
      "3FO4M7Q7TN3F_Bedroom.zip\n",
      "3FO4M7Q10IUW_Bedroom.zip\n",
      "3FO4M7PFS0MB_Living_room.zip\n",
      "3FO4M7PFS0MB_Bedroom.zip\n",
      "3FO4M7PETH0A_Bedroom.zip\n",
      "3FO4M7PAKWKU_Dining_room.zip\n",
      "3FO4M7PAKWKU_Bedroom.zip\n",
      "3FO4M7P0SSVJ_Bedroom.zip\n",
      "3FO4M7OO580C_Bedroom.zip\n",
      "3FO4M7M83W2Q_Bedroom.zip\n",
      "3FO4M7L0RK2P_Guest_room.zip\n",
      "3FO4M7DKGWAY_Dining_room.zip\n",
      "3FO4M7DFPYCC_Living_room.zip\n",
      "3FO4M7C66H7X_Bedroom.zip\n",
      "3FO4M78G7QJJ_Bedroom.zip\n",
      "3FO4M755SODK_Bedroom.zip\n",
      "3FO4M6XKI8LW_Bedroom.zip\n",
      "3FO4M6UYP4MF_Bedroom.zip\n",
      "3FO4M6UOQ1U1_Bedroom.zip\n",
      "3FO4M6RRWJHA_Living_room.zip\n",
      "3FO4M6RRAXST_Living_room.zip\n",
      "3FO4M6RQJV01_Bedroom.zip\n",
      "3FO4M7OE3NA7_Bedroom.zip\n",
      "3FO4M7MXYNFM_Bedroom.zip\n",
      "3FO4M7MXY01F_Bedroom.zip\n",
      "3FO4M7MX3BP9_Bedroom.zip\n",
      "3FO4M7MWPM0G_Living_room.zip\n",
      "3FO4M7MWPM0G_Dining_room.zip\n",
      "3FO4M7MWPM0G_Bedroom.zip\n",
      "3FO4M7MWMU1M_Bedroom.zip\n",
      "3FO4M7ML9A8F_Bedroom.zip\n",
      "3FO4M7M8XLXM_Bedroom.zip\n",
      "3FO4M7M8VVR4_Living_room.zip\n",
      "3FO4M7M8VVR4_Dining_room.zip\n",
      "3FO4M7M8VVR4_Bedroom.zip\n",
      "3FO4M7M8T85B_Bedroom.zip\n",
      "3FO4M7M8RB9Q_Bedroom.zip\n",
      "3FO4M7M8QMUJ_Living_room.zip\n",
      "3FO4M7M8QMUJ_Bedroom.zip\n",
      "3FO4M7M8PB25_Bedroom.zip\n",
      "3FO4M7M8FK08_Living_room.zip\n",
      "3FO4M7M8FK08_Bedroom.zip\n",
      "3FO4M7M8EVL1_Bedroom.zip\n",
      "3FO4M7M8DD3K_Bedroom.zip\n",
      "3FO4M7M892MA_Bedroom.zip\n",
      "3FO4M7M85PLA_Bedroom.zip\n",
      "3FO4M7M85C86_Living_room.zip\n",
      "3FO4M7M85C86_Bedroom.zip\n",
      "3FO4M7M83W2Q_Living_room.zip\n",
      "3FO4M7M83W2Q_Dining_room.zip\n",
      "3FO4M7M818FX_Bedroom.zip\n",
      "3FO4M7M7WI1T_Bedroom.zip\n",
      "3FO4M7M7T60T_Bedroom.zip\n",
      "3FO4M7M7S7KJ_Bedroom.zip\n",
      "3FO4M7M7ODTE_Living_room.zip\n",
      "3FO4M7M7ODTE_Bedroom.zip\n",
      "3FO4M7M7LF6I_Bedroom.zip\n",
      "3FO4M7M7KA26_Bedroom.zip\n",
      "3FO4M7M7FV8U_Bedroom.zip\n",
      "3FO4M7M0FQDJ_Bedroom.zip\n",
      "3FO4M7LTWXTV_Bedroom.zip\n",
      "3FO4M7LOYU44_Bedroom.zip\n",
      "3FO4M7L7YO14_Bedroom.zip\n",
      "3FO4M7L0RK2P_Living_room.zip\n",
      "3FO4M7L0RK2P_Bedroom.zip\n",
      "3FO4M7KY5FJM_Bedroom.zip\n",
      "3FO4M7HQDK18_Bedroom.zip\n",
      "3FO4M7HHOXTF_Guest_room.zip\n",
      "3FO4M7HHOXTF_Bedroom.zip\n",
      "3FO4M7G1RRLF_Bedroom.zip\n",
      "3FO4M7FIAPVW_Bedroom.zip\n",
      "3FO4M7F0AL1G_Bedroom.zip\n",
      "3FO4M7E3RGMJ_Bedroom.zip\n",
      "3FO4M7DW98LA_Bedroom.zip\n",
      "3FO4M7DPSUUV_Bedroom.zip\n",
      "3FO4M7DNW3MW_Living_room.zip\n",
      "3FO4M7DNW3MW_Dining_room.zip\n",
      "3FO4M7DKGWAY_Living_room.zip\n",
      "3FO4M7DKGWAY_Bedroom.zip\n",
      "3FO4M7DJOROU_Living_room.zip\n",
      "3FO4M7DJOROU_Bedroom.zip\n",
      "3FO4M7DJDESG_Bedroom.zip\n",
      "3FO4M7DIHQHA_Bedroom.zip\n",
      "3FO4M7DI6GWW_Guest_room.zip\n",
      "3FO4M7DI6GWW_Bedroom.zip\n",
      "3FO4M7DI0QB7_Bedroom.zip\n",
      "3FO4M7DHY4GP_Living_room.zip\n",
      "3FO4M7DHY4GP_Bedroom.zip\n",
      "3FO4M7DHFE44_Living_room.zip\n",
      "3FO4M7DHFE44_Bedroom.zip\n",
      "3FO4M7DGY91A_Living_room.zip\n",
      "3FO4M7DGY91A_Bedroom.zip\n",
      "3FO4M7DFPYCC_Bedroom.zip\n",
      "3FO4M7DDHPUX_Bedroom.zip\n",
      "3FO4M7D6SKIW_Bedroom.zip\n",
      "3FO4M7D60UUM_Bedroom.zip\n",
      "3FO4M7D3IGEH_Bedroom.zip\n",
      "3FO4M7CXXPRP_Bedroom.zip\n",
      "3FO4M7CXKCNP_Bedroom.zip\n",
      "3FO4M7CVYD9Y_Bedroom.zip\n",
      "3FO4M7CT10F2_Living_room.zip\n",
      "3FO4M7CT10F2_Bedroom.zip\n",
      "3FO4M7CF8D6P_Bedroom.zip\n",
      "3FO4M7CETSDN_Bedroom.zip\n",
      "3FO4M7C6HA26_Living_room.zip\n",
      "3FO4M7C6HA26_Bedroom.zip\n",
      "3FO4M7C3PYMD_Bedroom.zip\n",
      "3FO4M7BG6Y8E_Bedroom.zip\n",
      "3FO4M7BEGYEG_Living_room.zip\n",
      "3FO4M7BEGYEG_Bedroom.zip\n",
      "3FO4M7APH56A_Bedroom.zip\n",
      "3FO4M7ABRTXX_Bedroom.zip\n",
      "3FO4M7AACV80_Bedroom.zip\n",
      "3FO4M79YA0W0_Bedroom.zip\n",
      "3FO4M79O8TJY_Bedroom.zip\n",
      "3FO4M78GJHT2_Bedroom.zip\n",
      "3FO4M78GJ7RY_Bedroom.zip\n",
      "3FO4M78GGMI7_Bedroom.zip\n",
      "3FO4M78GEC9I_Bedroom.zip\n",
      "3FO4M78GBQYQ_Bedroom.zip\n",
      "3FO4M78G6YSB_Bedroom.zip\n",
      "3FO4M77SW5E3_Living_room.zip\n",
      "3FO4M77SW5E3_Bedroom.zip\n",
      "3FO4M77PXUV7_Bedroom.zip\n",
      "3FO4M773EXT9_Bedroom.zip\n",
      "3FO4M76WDMM2_Bedroom.zip\n",
      "3FO4M76W1EME_Living_room.zip\n",
      "3FO4M76W1EME_Bedroom.zip\n",
      "3FO4M76VUUOQ_Bedroom.zip\n",
      "3FO4M76VM334_Bedroom.zip\n",
      "3FO4M76V9K2D_Bedroom.zip\n",
      "3FO4M76O9VW7_Bedroom.zip\n",
      "3FO4M76JKO53_Living_room.zip\n",
      "3FO4M76JKO53_Bedroom.zip\n",
      "3FO4M74P9FGS_Bedroom.zip\n",
      "3FO4M73LTYXP_Bedroom.zip\n",
      "3FO4M73GF62X_Living_room.zip\n",
      "3FO4M73GF62X_Bedroom.zip\n",
      "3FO4M6YTL7AD_Bedroom.zip\n",
      "3FO4M6YJAJWI_Bedroom.zip\n",
      "3FO4M6YJ6JHB_Bedroom.zip\n",
      "3FO4M6YIQWVX_Bedroom.zip\n",
      "3FO4M6YINUW1_Bedroom.zip\n",
      "3FO4M6YBU52M_Bedroom.zip\n",
      "3FO4M6XX73BN_Guest_room.zip\n",
      "3FO4M6XX73BN_Bedroom.zip\n",
      "3FO4M6XWKL08_Bedroom.zip\n",
      "3FO4M6XWCNGU_Bedroom.zip\n",
      "3FO4M6X5L5FR_Bedroom.zip\n",
      "3FO4M6WNOYRY_Living_room.zip\n",
      "3FO4M6WNOYRY_Bedroom.zip\n",
      "3FO4M6WMGP41_Bedroom.zip\n",
      "3FO4M6WGSDMP_Bedroom.zip\n",
      "3FO4M6WGGT29_Bedroom.zip\n",
      "3FO4M6VULQOW_Bedroom.zip\n",
      "3FO4M6VDCLB8_Bedroom.zip\n",
      "3FO4M6V09BP6_Bedroom.zip\n",
      "3FO4M6V022L0_Living_room.zip\n",
      "3FO4M6UYXC6V_Bedroom.zip\n",
      "3FO4M6UYWKFN_Bedroom.zip\n",
      "3FO4M6UYSQOI_Bedroom.zip\n",
      "3FO4M6UYP4MF_Living_room.zip\n",
      "3FO4M6UYM2MI_Living_room.zip\n",
      "3FO4M6UYM2MI_Bedroom.zip\n",
      "3FO4M6UYJ0ML_Bedroom.zip\n",
      "3FO4M6UYBN6E_Bedroom.zip\n",
      "3FO4M6UY1FEC_Bedroom.zip\n",
      "3FO4M6UY0DM1_Bedroom.zip\n",
      "3FO4M6UXWP08_Bedroom.zip\n",
      "3FO4M6UP68HK_Bedroom.zip\n",
      "3FO4M6UP655J_Bedroom.zip\n",
      "3FO4M6UP4IB2_Bedroom.zip\n",
      "3FO4M6UP3JUR_Living_room.zip\n",
      "3FO4M6UP3JUR_Bedroom.zip\n",
      "3FO4M6UP2I3G_Bedroom.zip\n",
      "3FO4M6UOQ1U1_Living_room.zip\n",
      "3FO4M6UOO8BH_Living_room.zip\n",
      "3FO4M6UOO8BH_Bedroom.zip\n",
      "3FO4M6UOK4J9_Living_room.zip\n",
      "3FO4M6UOK4J9_Bedroom.zip\n",
      "3FO4M6UJWPAO_Bedroom.zip\n",
      "3FO4M6U6FHIG_Bedroom.zip\n",
      "3FO4M6TQ6D1P_Bedroom.zip\n",
      "3FO4M6T3T51R_Bedroom.zip\n",
      "3FO4M6RSSV7N_Bedroom.zip\n",
      "3FO4M6RSD7TY_Bedroom.zip\n",
      "3FO4M6RSCQ4T_Bedroom.zip\n",
      "3FO4M6RS68QV_Bedroom.zip\n",
      "3FO4M6RS0BG4_Bedroom.zip\n",
      "3FO4M6RRWMTB_Bedroom.zip\n",
      "3FO4M6RRWJHA_Bedroom.zip\n",
      "3FO4M6RRT449_Living_room.zip\n",
      "3FO4M6RRT449_Bedroom.zip\n",
      "3FO4M6RRQITH_Bedroom.zip\n",
      "3FO4M6RRQ24C_Living_room.zip\n",
      "3FO4M6RRQ24C_Bedroom.zip\n",
      "3FO4M6RROF9U_Bedroom.zip\n",
      "3FO4M6RRNGTK_Bedroom.zip\n",
      "3FO4M6RRKOUQ_Bedroom.zip\n",
      "3FO4M6RRIHY3_Living_room.zip\n",
      "3FO4M6RRIHY3_Bedroom.zip\n",
      "3FO4M6RRIBA1_Bedroom.zip\n",
      "3FO4M6RRGL3I_Bedroom.zip\n",
      "3FO4M6RRBM81_Bedroom.zip\n",
      "3FO4M6RRAXST_Bedroom.zip\n",
      "3FO4M6RRADQN_Bedroom.zip\n",
      "3FO4M6RR8A71_Living_room.zip\n",
      "3FO4M6RR8A71_Bedroom.zip\n",
      "3FO4M6RR7BQQ_Bedroom.zip\n",
      "3FO4M6RR63AD_Dining_room.zip\n",
      "3FO4M6RR63AD_Bedroom.zip\n",
      "3FO4M6RR4JRW_Living_room.zip\n",
      "3FO4M6RR4JRW_Bedroom.zip\n",
      "3FO4M6RR34MH_Bedroom.zip\n",
      "3FO4M6RQX941_Bedroom.zip\n",
      "3FO4M6RQWHCS_Bedroom.zip\n",
      "3FO4M6RQOQIH_Bedroom.zip\n",
      "3FO4M6RQLEHH_Bedroom.zip\n",
      "3FO4M6P6H334_Bedroom.zip\n",
      "3FO4M6P60TN9_Bedroom.zip\n",
      "3FO4M6P5F7F3_Living_room.zip\n",
      "3FO4M6K8FMJS_Living_room.zip\n",
      "3FO4M6FA1UOS_Bedroom.zip\n",
      "3FO4M6F8DRQF_Bedroom.zip\n",
      "3FO4M6DQGTF1_Bedroom.zip\n",
      "3FO4M69EXH2X_Living_room.zip\n",
      "3FO4M653Q0W4_Living_room.zip\n",
      "3FO4M616QAA5_Bedroom.zip\n",
      "3FO4M5VJQJXH_Bedroom.zip\n",
      "3FO4M5VIIGXL_Living_room.zip\n",
      "3FO4M5SWGXPL_Bedroom.zip\n",
      "3FO4M6RQIFTL_Bedroom.zip\n",
      "3FO4M6RQGIY1_Bedroom.zip\n",
      "3FO4M6R0RK06_Living_room.zip\n",
      "3FO4M6R0RK06_Bedroom.zip\n",
      "3FO4M6R0MYHS_Bedroom.zip\n",
      "3FO4M6R0MB3L_Bedroom.zip\n",
      "3FO4M6R0L2M8_Bedroom.zip\n",
      "3FO4M6R01XVI_Bedroom.zip\n",
      "3FO4M6QPQKC7_Living_room.zip\n",
      "3FO4M6QPQKC7_Bedroom.zip\n",
      "3FO4M6QPPBUT_Bedroom.zip\n",
      "3FO4M6QPCW74_Bedroom.zip\n",
      "3FO4M6QPBXQT_Bedroom.zip\n",
      "3FO4M6QP903X_Bedroom.zip\n",
      "3FO4M6QP5JPW_Living_room.zip\n",
      "3FO4M6QP5JPW_Dining_room.zip\n",
      "3FO4M6QP5JPW_Bedroom.zip\n",
      "3FO4M6QOXY0X_Bedroom.zip\n",
      "3FO4M6QOX3WO_Bedroom.zip\n",
      "3FO4M6QOWW8M_Bedroom.zip\n",
      "3FO4M6QOT6TI_Living_room.zip\n",
      "3FO4M6QOT6TI_Dining_room.zip\n",
      "3FO4M6QOT6TI_Bedroom.zip\n",
      "3FO4M6PQ4T6S_Bedroom.zip\n",
      "3FO4M6P6KIG5_Bedroom.zip\n",
      "3FO4M6P6K531_Bedroom.zip\n",
      "3FO4M6P6IOWL_Bedroom.zip\n",
      "3FO4M6P6IBJH_Bedroom.zip\n",
      "3FO4M6P6GI0X_Bedroom.zip\n",
      "3FO4M6P6FMWO_Living_room.zip\n",
      "3FO4M6P6FMWO_Bedroom.zip\n",
      "3FO4M6P6DTE5_Bedroom.zip\n",
      "3FO4M6P6BPTI_Bedroom.zip\n",
      "3FO4M6P6A401_Dining_room.zip\n",
      "3FO4M6P6A401_Bedroom.zip\n",
      "3FO4M6P68DSI_Bedroom.zip\n",
      "3FO4M6P66QY1_Bedroom.zip\n",
      "3FO4M6P65SIQ_Bedroom.zip\n",
      "3FO4M6P65IHN_Bedroom.zip\n",
      "3FO4M6P64NEE_Bedroom.zip\n",
      "3FO4M6P63LM3_Bedroom.zip\n",
      "3FO4M6P60TN9_Living_room.zip\n",
      "3FO4M6P5XJEK_Bedroom.zip\n",
      "3FO4M6P5T5L9_Bedroom.zip\n",
      "3FO4M6P5SXW7_Bedroom.zip\n",
      "3FO4M6P5S0GW_Bedroom.zip\n",
      "3FO4M6P5RW4V_Bedroom.zip\n",
      "3FO4M6P5OGQU_Bedroom.zip\n",
      "3FO4M6P5O01P_Bedroom.zip\n",
      "3FO4M6P5M6I6_Bedroom.zip\n",
      "3FO4M6P5KGBN_Bedroom.zip\n",
      "3FO4M6P5K2XJ_Bedroom.zip\n",
      "3FO4M6P5JOKF_Bedroom.zip\n",
      "3FO4M6P5IMS4_Living_room.zip\n",
      "3FO4M6P5IMS4_Bedroom.zip\n",
      "3FO4M6P5H7MO_Bedroom.zip\n",
      "3FO4M6P5CPHC_Bedroom.zip\n",
      "3FO4M6P5A8JL_Bedroom.zip\n",
      "3FO4M6P59U6H_Living_room.zip\n",
      "3FO4M6P59U6H_Dining_room.zip\n",
      "3FO4M6P59U6H_Bedroom.zip\n",
      "3FO4M6P51MM1_Bedroom.zip\n",
      "3FO4M6P50RIR_Bedroom.zip\n",
      "3FO4M6N5YTD8_Bedroom.zip\n",
      "3FO4M6MVGSBM_Living_room.zip\n",
      "3FO4M6MVGSBM_Bedroom.zip\n",
      "3FO4M6M25R9R_Living_room.zip\n",
      "3FO4M6M25R9R_Bedroom.zip\n",
      "3FO4M6LLW4I6_Bedroom.zip\n",
      "3FO4M6L20E3S_Bedroom.zip\n",
      "3FO4M6K8FMJS_Bedroom.zip\n",
      "3FO4M6JP36CN_Bedroom.zip\n",
      "3FO4M6JBP5OO_Bedroom.zip\n",
      "3FO4M6JB4SHL_Bedroom.zip\n",
      "3FO4M6JB04N7_Bedroom.zip\n",
      "3FO4M6JAEO43_Bedroom.zip\n",
      "3FO4M6JA8DF7_Bedroom.zip\n",
      "3FO4M6J947IH_Bedroom.zip\n",
      "3FO4M6J8SOPC_Bedroom.zip\n",
      "3FO4M6I6YK6S_Living_room.zip\n",
      "3FO4M6I6YK6S_Dining_room.zip\n",
      "3FO4M6I60X7Q_Living_room.zip\n",
      "3FO4M6I60X7Q_Bedroom.zip\n",
      "3FO4M6FIFPTO_Bedroom.zip\n",
      "3FO4M6F9KM9X_Bedroom.zip\n",
      "3FO4M6F9AYK2_Living_room.zip\n",
      "3FO4M6F9AYK2_Dining_room.zip\n",
      "3FO4M6F9AYK2_Bedroom.zip\n",
      "3FO4M6F9ARV0_Bedroom.zip\n",
      "3FO4M6F93W4X_Bedroom.zip\n",
      "3FO4M6F92XON_Bedroom.zip\n",
      "3FO4M6F8YLNN_Bedroom.zip\n",
      "3FO4M6F8Q434_Living_room.zip\n",
      "3FO4M6F8Q434_Dining_room.zip\n",
      "3FO4M6F8Q434_Bedroom.zip\n",
      "3FO4M6F8O3UI_Bedroom.zip\n",
      "3FO4M6F8JP27_Bedroom.zip\n",
      "3FO4M6F8FB8V_Bedroom.zip\n",
      "3FO4M6F8B7GN_Bedroom.zip\n",
      "3FO4M6F88PIW_Living_room.zip\n",
      "3FO4M6F88PIW_Bedroom.zip\n",
      "3FO4M6F885GQ_Bedroom.zip\n",
      "3FO4M6F839XA_Bedroom.zip\n",
      "3FO4M6F8131M_Bedroom.zip\n",
      "3FO4M6F7YJJ6_Living_room.zip\n",
      "3FO4M6F7YJJ6_Bedroom.zip\n",
      "3FO4M6F7Y662_Bedroom.zip\n",
      "3FO4M6F7QINR_Bedroom.zip\n",
      "3FO4M6F5RWW9_Living_room.zip\n",
      "3FO4M6F5RWW9_Bedroom.zip\n",
      "3FO4M6F4AXXP_Living_room.zip\n",
      "3FO4M6F4AXXP_Bedroom.zip\n",
      "3FO4M6D1JVP9_Living_room.zip\n",
      "3FO4M6D1JVP9_Dining_room.zip\n",
      "3FO4M6D1JVP9_Bedroom.zip\n",
      "3FO4M6B7U21D_Bedroom.zip\n",
      "3FO4M6B6NHIX_Living_room.zip\n",
      "3FO4M6B6NHIX_Dining_room.zip\n",
      "3FO4M6AY9OIJ_Dining_room.zip\n",
      "3FO4M6AY9OIJ_Bedroom.zip\n",
      "3FO4M6AWLLK6_Bedroom.zip\n",
      "3FO4M6A3UCN8_Bedroom.zip\n",
      "3FO4M6A3O5BD_Bedroom.zip\n",
      "3FO4M6A1XUGC_Bedroom.zip\n",
      "3FO4M69NWYG0_Bedroom.zip\n",
      "3FO4M69HB10M_Bedroom.zip\n",
      "3FO4M69EXH2X_Dining_room.zip\n",
      "3FO4M68GY8SQ_Living_room.zip\n",
      "3FO4M68GY8SQ_Bedroom.zip\n",
      "3FO4M686HRH5_Living_room.zip\n",
      "3FO4M686HRH5_Bedroom.zip\n",
      "3FO4M67RJYO9_Bedroom.zip\n",
      "3FO4M67CGKT8_Bedroom.zip\n",
      "3FO4M67A5DOX_Bedroom.zip\n",
      "3FO4M678KMRK_Bedroom.zip\n",
      "3FO4M66IMQMI_Bedroom.zip\n",
      "3FO4M66C6STX_Bedroom.zip\n",
      "3FO4M66BRY0S_Bedroom.zip\n",
      "3FO4M669C6E5_Bedroom.zip\n",
      "3FO4M6583KQQ_Bedroom.zip\n",
      "3FO4M653Q0W4_Bedroom.zip\n",
      "3FO4M652OSNA_Living_room.zip\n",
      "3FO4M652OSNA_Dining_room.zip\n",
      "3FO4M652OSNA_Bedroom.zip\n",
      "3FO4M627614W_Bedroom.zip\n",
      "3FO4M61PNW0B_Bedroom.zip\n",
      "3FO4M61PMK6W_Living_room.zip\n",
      "3FO4M61PMK6W_Dining_room.zip\n",
      "3FO4M61PMK6W_Bedroom.zip\n",
      "3FO4M61PLF2K_Bedroom.zip\n",
      "3FO4M61LQ5F4_Bedroom.zip\n",
      "3FO4M61C0NKA_Living_room.zip\n",
      "3FO4M61C0NKA_Bedroom.zip\n",
      "3FO4M61BVD40_Bedroom.zip\n",
      "3FO4M60MJ7J5_Bedroom.zip\n",
      "3FO4M60KV4KR_Living_room.zip\n",
      "3FO4M60KV4KR_Bedroom.zip\n",
      "3FO4M5YJEEPX_Bedroom.zip\n",
      "3FO4M5YGDNAB_Bedroom.zip\n",
      "3FO4M5WVUQRP_Bedroom.zip\n",
      "3FO4M5W4GHXT_Bedroom.zip\n",
      "3FO4M5VK71M4_Bedroom.zip\n",
      "3FO4M5VK4D0B_Bedroom.zip\n",
      "3FO4M5VJXJ1K_Living_room.zip\n",
      "3FO4M5VJX5NG_Bedroom.zip\n",
      "3FO4M5VJV5FU_Bedroom.zip\n",
      "3FO4M5VJQJXH_Living_room.zip\n",
      "3FO4M5VJQJXH_Dining_room.zip\n",
      "3FO4M5VJP4S2_Bedroom.zip\n",
      "3FO4M5VJO9OS_Bedroom.zip\n",
      "3FO4M5VJNRYN_Bedroom.zip\n",
      "3FO4M5VJB6LV_Bedroom.zip\n",
      "3FO4M5VJAI7O_Bedroom.zip\n",
      "3FO4M5VJA1HJ_Living_room.zip\n",
      "3FO4M5VJA1HJ_Bedroom.zip\n",
      "3FO4M5VJ7WWW_Bedroom.zip\n",
      "3FO4M5VJ4KVW_Bedroom.zip\n",
      "3FO4M5VJ2AN8_Bedroom.zip\n",
      "3FO4M5VJ126U_Bedroom.zip\n",
      "3FO4M5VIWSHV_Bedroom.zip\n",
      "3FO4M5VIME1R_Bedroom.zip\n",
      "3FO4M5VIM40O_Bedroom.zip\n",
      "3FO4M5VIIGXL_Bedroom.zip\n",
      "3FO4M5VIHBT9_Bedroom.zip\n",
      "3FO4M5VID1CY_Bedroom.zip\n",
      "3FO4M5VIBRVL_Bedroom.zip\n",
      "3FO4M5VFJMDJ_Guest_room.zip\n",
      "3FO4M5V8I91U_Bedroom.zip\n",
      "3FO4M5UJMLWX_Bedroom.zip\n",
      "3FO4M5UJLA4J_Bedroom.zip\n",
      "3FO4M5UJGOM6_Bedroom.zip\n",
      "3FO4M5UJG7W1_Bedroom.zip\n",
      "3FO4M5UJFCSR_Bedroom.zip\n",
      "3FO4M5UJ0Q8E_Living_room.zip\n",
      "3FO4M5UJ0Q8E_Bedroom.zip\n",
      "3FO4M5TT5200_Bedroom.zip\n",
      "3FO4M5MBJ278_Bedroom.zip\n",
      "3FO4M5MAIVPP_Living_room.zip\n",
      "3FO4M5D7RN0N_Living_room.zip\n",
      "3FO4M5C0JN1M_Dining_room.zip\n",
      "3FO4M57YLRGC_Bedroom.zip\n",
      "3FO4M56IRQKA_Bedroom.zip\n",
      "3FO4M560I2BY_Bedroom.zip\n",
      "3FO4M55HCNJX_Bedroom.zip\n",
      "3FO4M53N51XQ_Bedroom.zip\n",
      "3FO4M4YKBJ9T_Bedroom.zip\n",
      "3FO4M4VJNFNT_Living_room.zip\n",
      "3FO4M4UPF38R_Bedroom.zip\n",
      "3FO4M4UOTMON_Living_room.zip\n",
      "3FO4M5STQBP0_Bedroom.zip\n",
      "3FO4M5RD0KPG_Bedroom.zip\n",
      "3FO4M5QSP2LF_Bedroom.zip\n",
      "3FO4M5QHMY1N_Bedroom.zip\n",
      "3FO4M5QHKNRY_Bedroom.zip\n",
      "3FO4M5PMJP1N_Bedroom.zip\n",
      "3FO4M5PIUWR5_Living_room.zip\n",
      "3FO4M5PIUWR5_Bedroom.zip\n",
      "3FO4M5PAXEE5_Bedroom.zip\n",
      "3FO4M5OT3R8S_Living_room.zip\n",
      "3FO4M5OFAQMC_Bedroom.zip\n",
      "3FO4M5NSYFU5_Bedroom.zip\n",
      "3FO4M5NKHPEE_Bedroom.zip\n",
      "3FO4M5NF017R_Living_room.zip\n",
      "3FO4M5NF017R_Bedroom.zip\n",
      "3FO4M5MC7JQ9_Living_room.zip\n",
      "3FO4M5MC7JQ9_Bedroom.zip\n",
      "3FO4M5MC1J3G_Bedroom.zip\n",
      "3FO4M5MC1FQF_Bedroom.zip\n",
      "3FO4M5MBXXSO_Living_room.zip\n",
      "3FO4M5MBU52J_Living_room.zip\n",
      "3FO4M5MBU52J_Bedroom.zip\n",
      "3FO4M5MBRTSU_Living_room.zip\n",
      "3FO4M5MBRTSU_Bedroom.zip\n",
      "3FO4M5MBQ4MC_Bedroom.zip\n",
      "3FO4M5MBOYI0_Bedroom.zip\n",
      "3FO4M5MBL2ET_Bedroom.zip\n",
      "3FO4M5MBKHCN_Bedroom.zip\n",
      "3FO4M5MBIAG0_Living_room.zip\n",
      "3FO4M5MBIAG0_Bedroom.zip\n",
      "3FO4M5MBD1JF_Bedroom.zip\n",
      "3FO4M5MB48WS_Bedroom.zip\n",
      "3FO4M5MB3KIL_Bedroom.zip\n",
      "3FO4M5MB1NN1_Bedroom.zip\n",
      "3FO4M5MB16WV_Bedroom.zip\n",
      "3FO4M5MB0SJR_Bedroom.zip\n",
      "3FO4M5MAY3D9_Bedroom.zip\n",
      "3FO4M5MAW35N_Bedroom.zip\n",
      "3FO4M5MAT4HR_Bedroom.zip\n",
      "3FO4M5MAS62H_Living_room.zip\n",
      "3FO4M5MAS62H_Bedroom.zip\n",
      "3FO4M5MAJ6QS_Bedroom.zip\n",
      "3FO4M5MAG1EU_Bedroom.zip\n",
      "3FO4M5MAF6BL_Bedroom.zip\n",
      "3FO4M5MA06D4_Bedroom.zip\n",
      "3FO4M5LXKX5P_Bedroom.zip\n",
      "3FO4M5KASUXY_Bedroom.zip\n",
      "3FO4M5JQVMLW_Dining_room.zip\n",
      "3FO4M5JQVMLW_Bedroom.zip\n",
      "3FO4M5GX6XOP_Bedroom.zip\n",
      "3FO4M5GNJM6T_Bedroom.zip\n",
      "3FO4M5FOV7YE_Bedroom.zip\n",
      "3FO4M5FORO9C_Bedroom.zip\n",
      "3FO4M5E1T1CM_Bedroom.zip\n",
      "3FO4M5DFD1Q1_Living_room.zip\n",
      "3FO4M5DFD1Q1_Bedroom.zip\n",
      "3FO4M5D7RN0N_Bedroom.zip\n",
      "3FO4M5CVBL9P_Bedroom.zip\n",
      "3FO4M5CS3Y31_Bedroom.zip\n",
      "3FO4M5CS0FCY_Living_room.zip\n",
      "3FO4M5CRY6VL_Bedroom.zip\n",
      "3FO4M5CRN41A_Bedroom.zip\n",
      "3FO4M5CRM5L0_Bedroom.zip\n",
      "3FO4M5CRKPFK_Living_room.zip\n",
      "3FO4M5CRKPFK_Bedroom.zip\n",
      "3FO4M5CRFTW4_Bedroom.zip\n",
      "3FO4M5CRDCYD_Living_room.zip\n",
      "3FO4M5CRDCYD_Bedroom.zip\n",
      "3FO4M5CA9X7E_Bedroom.zip\n",
      "3FO4M5C0JN1M_Living_room.zip\n",
      "3FO4M5C0JN1M_Bedroom.zip\n",
      "3FO4M5BNP1HM_Guest_room.zip\n",
      "3FO4M5BNP1HM_Bedroom.zip\n",
      "3FO4M5BN4KXI_Bedroom.zip\n",
      "3FO4M5BILAH6_Bedroom.zip\n",
      "3FO4M5BH2I03_Living_room.zip\n",
      "3FO4M5BH2I03_Bedroom.zip\n",
      "3FO4M5BB050K_Bedroom.zip\n",
      "3FO4M5AOD837_Bedroom.zip\n",
      "3FO4M5AMWUY5_Bedroom.zip\n",
      "3FO4M5AJ3N40_Living_room.zip\n",
      "3FO4M5AJ3N40_Bedroom.zip\n",
      "3FO4M58YBKLN_Bedroom.zip\n",
      "3FO4M58H65M3_Bedroom.zip\n",
      "3FO4M57PYYS3_Bedroom.zip\n",
      "3FO4M56KF64G_Bedroom.zip\n",
      "3FO4M56JTFJ9_Bedroom.zip\n",
      "3FO4M56JSR52_Bedroom.zip\n",
      "3FO4M56JQA7B_Bedroom.zip\n",
      "3FO4M56JLENU_Bedroom.zip\n",
      "3FO4M56JJRTD_Bedroom.zip\n",
      "3FO4M56JDR6K_Bedroom.zip\n",
      "3FO4M56JC5C3_Bedroom.zip\n",
      "3FO4M56J7D5N_Living_room.zip\n",
      "3FO4M56J7D5N_Bedroom.zip\n",
      "3FO4M56J5GA3_Bedroom.zip\n",
      "3FO4M56J0RFO_Bedroom.zip\n",
      "3FO4M56IUIJ4_Bedroom.zip\n",
      "3FO4M56IQVH1_Bedroom.zip\n",
      "3FO4M56IPGBL_Living_room.zip\n",
      "3FO4M56IORWE_Bedroom.zip\n",
      "3FO4M56IOOKD_Bedroom.zip\n",
      "3FO4M56IO7U8_Bedroom.zip\n",
      "3FO4M56IFF8L_Bedroom.zip\n",
      "3FO4M56IAX39_Bedroom.zip\n",
      "3FO4M56IATQ8_Bedroom.zip\n",
      "3FO4M56I9YMY_Bedroom.zip\n",
      "3FO4M56I0LY6_Bedroom.zip\n",
      "3FO4M56HSCU0_Bedroom.zip\n",
      "3FO4M56HRYGV_Bedroom.zip\n",
      "3FO4M56HLUH2_Bedroom.zip\n",
      "3FO4M561MOXT_Living_room.zip\n",
      "3FO4M55Y04X5_Bedroom.zip\n",
      "3FO4M55S2WI6_Living_room.zip\n",
      "3FO4M55S2WI6_Bedroom.zip\n",
      "3FO4M55RL7D6_Bedroom.zip\n",
      "3FO4M55RGP7T_Bedroom.zip\n",
      "3FO4M55R8YDI_Bedroom.zip\n",
      "3FO4M55R5CBF_Bedroom.zip\n",
      "3FO4M55Q6M0C_Living_room.zip\n",
      "3FO4M55LR1X4_Bedroom.zip\n",
      "3FO4M55JISGP_Bedroom.zip\n",
      "3FO4M55IDY5S_Bedroom.zip\n",
      "3FO4M55I2RXG_Living_room.zip\n",
      "3FO4M55I2RXG_Bedroom.zip\n",
      "3FO4M55HPQMU_Bedroom.zip\n",
      "3FO4M5567VDD_Bedroom.zip\n",
      "3FO4M554JSF0_Living_room.zip\n",
      "3FO4M554JSF0_Bedroom.zip\n",
      "3FO4M5536JUK_Bedroom.zip\n",
      "3FO4M54XYC9J_Living_room.zip\n",
      "3FO4M54XYC9J_Bedroom.zip\n",
      "3FO4M54XCXA5_Bedroom.zip\n",
      "3FO4M54WJNJO_Living_room.zip\n",
      "3FO4M54WJNJO_Bedroom.zip\n",
      "3FO4M54VUE9F_Living_room.zip\n",
      "3FO4M54VUE9F_Bedroom.zip\n",
      "3FO4M54VAFFG_Living_room.zip\n",
      "3FO4M54A60EB_Bedroom.zip\n",
      "3FO4M542EOD6_Bedroom.zip\n",
      "3FO4M53FXVFM_Bedroom.zip\n",
      "3FO4M53FNDMH_Bedroom.zip\n",
      "3FO4M532G6X9_Bedroom.zip\n",
      "3FO4M52DPFCS_Bedroom.zip\n",
      "3FO4M52CHME0_Bedroom.zip\n",
      "3FO4M51DVVSD_Bedroom.zip\n",
      "3FO4M50WXI1D_Bedroom.zip\n",
      "3FO4M50UHFDM_Bedroom.zip\n",
      "3FO4M50IMM5K_Dining_room.zip\n",
      "3FO4M50IMM5K_Bedroom.zip\n",
      "3FO4M4YUVJBH_Living_room.zip\n",
      "3FO4M4YUVJBH_Dining_room.zip\n",
      "3FO4M4YUVJBH_Bedroom.zip\n",
      "3FO4M4YUQ72V_Bedroom.zip\n",
      "3FO4M4Y0L7VD_Guest_room.zip\n",
      "3FO4M4Y0L7VD_Bedroom.zip\n",
      "3FO4M4XX1VJN_Bedroom.zip\n",
      "3FO4M4XRC1KV_Bedroom.zip\n",
      "3FO4M4XGRSAG_Bedroom.zip\n",
      "3FO4M4WW0GOE_Living_room.zip\n",
      "3FO4M4WW0GOE_Dining_room.zip\n",
      "3FO4M4WW0GOE_Bedroom.zip\n",
      "3FO4M4WPIDRH_Bedroom.zip\n",
      "3FO4M4W3DOWS_Bedroom.zip\n",
      "3FO4M4VT2QBB_Bedroom.zip\n",
      "3FO4M4VST5DQ_Bedroom.zip\n",
      "3FO4M4VS5JHO_Bedroom.zip\n",
      "3FO4M4VJY1T0_Bedroom.zip\n",
      "3FO4M4VJNFNT_Guest_room.zip\n",
      "3FO4M4VJNFNT_Bedroom.zip\n",
      "3FO4M4V9GFD2_Bedroom.zip\n",
      "3FO4M4V3D0L8_Bedroom.zip\n",
      "3FO4M4UUYHLW_Bedroom.zip\n",
      "3FO4M4URS0JK_Bedroom.zip\n",
      "3FO4M4UR32U4_Bedroom.zip\n",
      "3FO4M4UPY0AF_Living_room.zip\n",
      "3FO4M4UPWNH1_Bedroom.zip\n",
      "3FO4M4UPU6JA_Bedroom.zip\n",
      "3FO4M4UPS6BO_Bedroom.zip\n",
      "3FO4M4UPRRXK_Bedroom.zip\n",
      "3FO4M4UPFGLV_Living_room.zip\n",
      "3FO4M4UPFGLV_Bedroom.zip\n",
      "3FO4M4UPCON2_Bedroom.zip\n",
      "3FO4M4UPC4KV_Living_room.zip\n",
      "3FO4M4UPARRH_Bedroom.zip\n",
      "3FO4M4UPA119_Living_room.zip\n",
      "3FO4M4UPA119_Bedroom.zip\n",
      "3FO4M4UP8HIS_Living_room.zip\n",
      "3FO4M4UP7T4L_Bedroom.zip\n",
      "3FO4M4UP6Y1C_Bedroom.zip\n",
      "3FO4M4UP472I_Bedroom.zip\n",
      "3FO4M4UP3W1F_Bedroom.zip\n",
      "3FO4M4UP38M8_Living_room.zip\n",
      "3FO4M4UP38M8_Bedroom.zip\n",
      "3FO4M4UOXJRT_Bedroom.zip\n",
      "3FO4M4UOWVDM_Bedroom.zip\n",
      "3FO4M4R6P4KS_Living_room.zip\n",
      "3FO4M4R62R64_Bedroom.zip\n",
      "3FO4M4R52P1M_Dining_room.zip\n",
      "3FO4M4QWBUPM_Bedroom.zip\n",
      "3FO4M4JSNUES_Bedroom.zip\n",
      "3FO4M4FOPP41_Living_room.zip\n",
      "3FO4M4FND1LR_Bedroom.zip\n",
      "3FO4M4E275HT_Living_room.zip\n",
      "3FO4M4B0EYC5_Bedroom.zip\n",
      "3FO4M4AYI5VM_Bedroom.zip\n",
      "3FO4M46IOIXL_Bedroom.zip\n",
      "3FO4M44SAU6G_Dining_room.zip\n",
      "3FO4M41QBVLQ_Bedroom.zip\n",
      "3FO4M4UOTMON_Dining_room.zip\n",
      "3FO4M4UOTMON_Bedroom.zip\n",
      "3FO4M4UOP27A_Bedroom.zip\n",
      "3FO4M4UON5BP_Bedroom.zip\n",
      "3FO4M4UOD48P_Bedroom.zip\n",
      "3FO4M4UOCWJN_Living_room.zip\n",
      "3FO4M4UOCWJN_Bedroom.zip\n",
      "3FO4M4UOCCHH_Bedroom.zip\n",
      "3FO4M4UOBY4D_Bedroom.zip\n",
      "3FO4M4UNXV1G_Bedroom.zip\n",
      "3FO4M4UN7OUM_Bedroom.zip\n",
      "3FO4M4UN17HO_Bedroom.zip\n",
      "3FO4M4UMKPT2_Dining_room.zip\n",
      "3FO4M4UMCVMP_Living_room.zip\n",
      "3FO4M4UM60VN_Bedroom.zip\n",
      "3FO4M4TRT1EI_Bedroom.zip\n",
      "3FO4M4TQS46R_Living_room.zip\n",
      "3FO4M4TO4Y3W_Bedroom.zip\n",
      "3FO4M4R791MG_Bedroom.zip\n",
      "3FO4M4R766BL_Bedroom.zip\n",
      "3FO4M4R75L9F_Bedroom.zip\n",
      "3FO4M4R75B8C_Bedroom.zip\n",
      "3FO4M4R722JD_Bedroom.zip\n",
      "3FO4M4R702BR_Living_room.zip\n",
      "3FO4M4R702BR_Bedroom.zip\n",
      "3FO4M4R6WXR5_Bedroom.zip\n",
      "3FO4M4R6QD26_Living_room.zip\n",
      "3FO4M4R6QD26_Bedroom.zip\n",
      "3FO4M4R6P4KS_Guest_room.zip\n",
      "3FO4M4R6P4KS_Bedroom.zip\n",
      "3FO4M4R6NV4F_Bedroom.zip\n",
      "3FO4M4R6LUVT_Bedroom.zip\n",
      "3FO4M4R6LRJS_Living_room.zip\n",
      "3FO4M4R6LRJS_Bedroom.zip\n",
      "3FO4M4R6HUGM_Bedroom.zip\n",
      "3FO4M4R6HAEG_Bedroom.zip\n",
      "3FO4M4R6FDIV_Living_room.zip\n",
      "3FO4M4R6FDIV_Bedroom.zip\n",
      "3FO4M4R6ABBD_Bedroom.zip\n",
      "3FO4M4R69MW6_Bedroom.zip\n",
      "3FO4M4R655QT_Bedroom.zip\n",
      "3FO4M4R652ES_Bedroom.zip\n",
      "3FO4M4R5XA0R_Bedroom.zip\n",
      "3FO4M4R5V6G5_Bedroom.zip\n",
      "3FO4M4R5OO37_Bedroom.zip\n",
      "3FO4M4R5MDTI_Living_room.zip\n",
      "3FO4M4R5MDTI_Bedroom.zip\n",
      "3FO4M4R5JBTL_Living_room.zip\n",
      "3FO4M4R5JBTL_Bedroom.zip\n",
      "3FO4M4R5FORI_Living_room.zip\n",
      "3FO4M4R5FORI_Bedroom.zip\n",
      "3FO4M4R5EQC8_Dining_room.zip\n",
      "3FO4M4R5EQC8_Bedroom.zip\n",
      "3FO4M4R5EN07_Bedroom.zip\n",
      "3FO4M4R570HW_Bedroom.zip\n",
      "3FO4M4R52P1M_Living_room.zip\n",
      "3FO4M4R52P1M_Bedroom.zip\n",
      "3FO4M4R51XAE_Bedroom.zip\n",
      "3FO4M4R51QLC_Bedroom.zip\n",
      "3FO4M4R504QU_Bedroom.zip\n",
      "3FO4M4R1T12M_Living_room.zip\n",
      "3FO4M4R1T12M_Bedroom.zip\n",
      "3FO4M4R024D4_Living_room.zip\n",
      "3FO4M4R024D4_Dining_room.zip\n",
      "3FO4M4R024D4_Bedroom.zip\n",
      "3FO4M4QXRYKW_Bedroom.zip\n",
      "3FO4M4QXCL9B_Living_room.zip\n",
      "3FO4M4QXCL9B_Bedroom.zip\n",
      "3FO4M4QWNFB3_Bedroom.zip\n",
      "3FO4M4QWBUPM_Dining_room.zip\n",
      "3FO4M4QTVGH3_Bedroom.zip\n",
      "3FO4M4QS6K06_Bedroom.zip\n",
      "3FO4M4QOM6IY_Bedroom.zip\n",
      "3FO4M4QIY53Q_Bedroom.zip\n",
      "3FO4M4QII00W_Bedroom.zip\n",
      "3FO4M4QHDFQ3_Bedroom.zip\n",
      "3FO4M4Q97LGL_Bedroom.zip\n",
      "3FO4M4Q2V2HC_Bedroom.zip\n",
      "3FO4M4PYQNYM_Bedroom.zip\n",
      "3FO4M4NJ61EP_Bedroom.zip\n",
      "3FO4M4K46DIP_Bedroom.zip\n",
      "3FO4M4K3C5CY_Bedroom.zip\n",
      "3FO4M4K0SAQE_Bedroom.zip\n",
      "3FO4M4JYJWPF_Bedroom.zip\n",
      "3FO4M4JRQGW4_Bedroom.zip\n",
      "3FO4M4JQWPGI_Bedroom.zip\n",
      "3FO4M4HDF2GF_Bedroom.zip\n",
      "3FO4M4GSPOI9_Living_room.zip\n",
      "3FO4M4GSPOI9_Bedroom.zip\n",
      "3FO4M4GCXBE2_Bedroom.zip\n",
      "3FO4M4FOU79D_Dining_room.zip\n",
      "3FO4M4FOU79D_Bedroom.zip\n",
      "3FO4M4FOU0KB_Bedroom.zip\n",
      "3FO4M4FOSXS0_Living_room.zip\n",
      "3FO4M4FOSXS0_Bedroom.zip\n",
      "3FO4M4FOQNJB_Bedroom.zip\n",
      "3FO4M4FOQGU9_Bedroom.zip\n",
      "3FO4M4FOQA67_Bedroom.zip\n",
      "3FO4M4FOPP41_Bedroom.zip\n",
      "3FO4M4FOOJYO_Bedroom.zip\n",
      "3FO4M4FOLS0U_Bedroom.zip\n",
      "3FO4M4FOHKVL_Bedroom.zip\n",
      "3FO4M4FOFHBY_Living_room.zip\n",
      "3FO4M4FOESWR_Bedroom.zip\n",
      "3FO4M4FOC5AY_Bedroom.zip\n",
      "3FO4M4FOBDJQ_Bedroom.zip\n",
      "3FO4M4FO6EO9_Bedroom.zip\n",
      "3FO4M4FO59JW_Bedroom.zip\n",
      "3FO4M4FO0O2J_Bedroom.zip\n",
      "3FO4M4FNKRG3_Bedroom.zip\n",
      "3FO4M4FNFF7H_Bedroom.zip\n",
      "3FO4M4FND1LR_Living_room.zip\n",
      "3FO4M4FNAQD3_Living_room.zip\n",
      "3FO4M4FNAQD3_Dining_room.zip\n",
      "3FO4M4FNAQD3_Bedroom.zip\n",
      "3FO4M4FN8Q5H_Living_room.zip\n",
      "3FO4M4FN8Q5H_Bedroom.zip\n",
      "3FO4M4FN8JGF_Bedroom.zip\n",
      "3FO4M4FN7RP7_Bedroom.zip\n",
      "3FO4M4FN6MKU_Bedroom.zip\n",
      "3FO4M4FMXF1E_Bedroom.zip\n",
      "3FO4M4FMWD93_Bedroom.zip\n",
      "3FO4M4FMRHPM_Bedroom.zip\n",
      "3FO4M4FMGOVE_Bedroom.zip\n",
      "3FO4M4EYMK2E_Living_room.zip\n",
      "3FO4M4EYMK2E_Bedroom.zip\n",
      "3FO4M4E275HT_Bedroom.zip\n",
      "3FO4M4DJBRSS_Bedroom.zip\n",
      "3FO4M4C9C7DV_Bedroom.zip\n",
      "3FO4M4C56LMC_Bedroom.zip\n",
      "3FO4M4C41HAC_Bedroom.zip\n",
      "3FO4M4B0M8GB_Living_room.zip\n",
      "3FO4M4B0M8GB_Bedroom.zip\n",
      "3FO4M4B0LXF8_Living_room.zip\n",
      "3FO4M4B0LXF8_Bedroom.zip\n",
      "3FO4M4B0JX7M_Bedroom.zip\n",
      "3FO4M4B0JQIK_Living_room.zip\n",
      "3FO4M4B0JQIK_Bedroom.zip\n",
      "3FO4M4B0IOQ9_Bedroom.zip\n",
      "3FO4M4B0GOIN_Bedroom.zip\n",
      "3FO4M4B0CY4J_Bedroom.zip\n",
      "3FO4M4B0C7DB_Bedroom.zip\n",
      "3FO4M4B0C41A_Bedroom.zip\n",
      "3FO4M4B0BT07_Living_room.zip\n",
      "3FO4M4B0BT07_Bedroom.zip\n",
      "3FO4M4B09M3J_Bedroom.zip\n",
      "3FO4M4B03I3P_Bedroom.zip\n",
      "3FO4M4B014I0_Living_room.zip\n",
      "3FO4M4B00TGW_Bedroom.zip\n",
      "3FO4M4AYXFV7_Bedroom.zip\n",
      "3FO4M4AYWY62_Bedroom.zip\n",
      "3FO4M4AYWHFW_Bedroom.zip\n",
      "3FO4M4AYU3U7_Bedroom.zip\n",
      "3FO4M4AYPF0S_Bedroom.zip\n",
      "3FO4M4AYGPQ7_Living_room.zip\n",
      "3FO4M4AYCW02_Bedroom.zip\n",
      "3FO4M4AY7N3H_Bedroom.zip\n",
      "3FO4M4AY6LB6_Bedroom.zip\n",
      "3FO4M4AY0KND_Bedroom.zip\n",
      "3FO4M4AXY8TY_Living_room.zip\n",
      "3FO4M4AXWFBF_Bedroom.zip\n",
      "3FO4M4AVODJ3_Bedroom.zip\n",
      "3FO4M4A385P5_Bedroom.zip\n",
      "3FO4M48N9S59_Bedroom.zip\n",
      "3FO4M481JPUX_Bedroom.zip\n",
      "3FO4M47WTSH3_Bedroom.zip\n",
      "3FO4M46MPPVT_Bedroom.zip\n",
      "3FO4M46MNT19_Bedroom.zip\n",
      "3FO4M45FD23E_Bedroom.zip\n",
      "3FO4M450YE8R_Living_room.zip\n",
      "3FO4M450YE8R_Bedroom.zip\n",
      "3FO4M450XT6L_Bedroom.zip\n",
      "3FO4M450WY3C_Bedroom.zip\n",
      "3FO4M450W7C4_Bedroom.zip\n",
      "3FO4M450C1T3_Guest_room.zip\n",
      "3FO4M450C1T3_Bedroom.zip\n",
      "3FO4M4508I41_Bedroom.zip\n",
      "3FO4M4504AYR_Bedroom.zip\n",
      "3FO4M44TQ0LG_Living_room.zip\n",
      "3FO4M44TQ0LG_Dining_room.zip\n",
      "3FO4M44TQ0LG_Bedroom.zip\n",
      "3FO4M44SAU6G_Living_room.zip\n",
      "3FO4M4347X10_Bedroom.zip\n",
      "3FO4M421AV24_Bedroom.zip\n",
      "3FO4M41R32RK_Guest_room.zip\n",
      "3FO4M41R32RK_Bedroom.zip\n",
      "3FO4M41R0UUW_Bedroom.zip\n",
      "3FO4M41QYMEJ_Bedroom.zip\n",
      "3FO4M41QPQFV_Living_room.zip\n",
      "3FO4M41QPQFV_Bedroom.zip\n",
      "3FO4M41QL5XI_Bedroom.zip\n",
      "3FO4M41QK467_Bedroom.zip\n",
      "3FO4M41QJCEY_Living_room.zip\n",
      "3FO4M41QJCEY_Bedroom.zip\n",
      "3FO4M41QJ92X_Bedroom.zip\n",
      "3FO4M41QJ5PW_Bedroom.zip\n",
      "3FO4M3MR0RXS_Bedroom.zip\n",
      "3FO4M3D1BRCN_Bedroom.zip\n",
      "3FO4M39S97C2_Bedroom.zip\n",
      "3FO4M2XOU9BH_Dining_room.zip\n",
      "3FO4M2XO5IB3_Living_room.zip\n",
      "3FO4M2R7WEM0_Living_room.zip\n",
      "3FO4M2NUOC6V_Bedroom.zip\n",
      "3FO4M2KYJPQA_Bedroom.zip\n",
      "3FO4M2CFPM19_Bedroom.zip\n",
      "3FO4M2843FX1_Bedroom.zip\n",
      "3FO4M2596PS9_Bedroom.zip\n",
      "3FO4M2589WCQ_Living_room.zip\n",
      "3FO4M1YNSFN4_Bedroom.zip\n",
      "3FO4M3WTS4DJ_Bedroom.zip\n",
      "3FO4M3UGN2Q8_Bedroom.zip\n",
      "3FO4M3UGMOD4_Bedroom.zip\n",
      "3FO4M3UGMEC1_Bedroom.zip\n",
      "3FO4M3UGIULY_Bedroom.zip\n"
     ]
    },
    {
     "name": "stdout",
     "output_type": "stream",
     "text": [
      "3FO4M3UGI0IP_Living_room.zip\n",
      "3FO4M3UGGAC7_Bedroom.zip\n",
      "3FO4M3UGF1UT_Bedroom.zip\n",
      "3FO4M3UGBOTT_Bedroom.zip\n",
      "3FO4M3UG82RQ_Living_room.zip\n",
      "3FO4M3UG6MMB_Bedroom.zip\n",
      "3FO4M3UFTHYO_Bedroom.zip\n",
      "3FO4M3UFOMG8_Bedroom.zip\n",
      "3FO4M3RU62TL_Living_room.zip\n",
      "3FO4M3RTV1QL_Dining_room.zip\n",
      "3FO4M3RTV1QL_Bedroom.zip\n",
      "3FO4M3RTMMI3_Bedroom.zip\n",
      "3FO4M3Q9DD5L_Bedroom.zip\n",
      "3FO4M3Q8HVIH_Bedroom.zip\n",
      "3FO4M3PCQBNI_Bedroom.zip\n",
      "3FO4M3P6U2NT_Bedroom.zip\n",
      "3FO4M3OBX10O_Bedroom.zip\n",
      "3FO4M3N9OD8S_Bedroom.zip\n",
      "3FO4M3N8INTM_Bedroom.zip\n",
      "3FO4M3N2MOV1_Bedroom.zip\n",
      "3FO4M3N29SH6_Bedroom.zip\n",
      "3FO4M3MR76YP_Bedroom.zip\n",
      "3FO4M3MR53F3_Bedroom.zip\n",
      "3FO4M3MQKS0B_Bedroom.zip\n",
      "3FO4M3MQIRRP_Bedroom.zip\n",
      "3FO4M3MPU3JM_Bedroom.zip\n",
      "3FO4M3MGFYL7_Bedroom.zip\n",
      "3FO4M3L9W28D_Bedroom.zip\n",
      "3FO4M3IWUVGO_Bedroom.zip\n",
      "3FO4M3IG3CUY_Guest_room.zip\n",
      "3FO4M3IG3CUY_Bedroom.zip\n",
      "3FO4M3HT2EFE_Bedroom.zip\n",
      "3FO4M3GS334R_Bedroom.zip\n",
      "3FO4M3ETM0G6_Bedroom.zip\n",
      "3FO4M3DY3D4K_Bedroom.zip\n",
      "3FO4M3DFRW51_Bedroom.zip\n",
      "3FO4M3D7MQ9Q_Bedroom.zip\n",
      "3FO4M3BQEAHD_Bedroom.zip\n",
      "3FO4M3BQE75C_Living_room.zip\n",
      "3FO4M3BQE75C_Bedroom.zip\n",
      "3FO4M3BQE3SB_Bedroom.zip\n",
      "3FO4M3BQ74P8_Bedroom.zip\n",
      "3FO4M3BQ2PVW_Bedroom.zip\n",
      "3FO4M3A60WCN_Bedroom.zip\n",
      "3FO4M3A60PNL_Bedroom.zip\n",
      "3FO4M3A5YXWD_Bedroom.zip\n",
      "3FO4M3A5YUKC_Bedroom.zip\n",
      "3FO4M3A5Y765_Bedroom.zip\n",
      "3FO4M3A5XSS1_Living_room.zip\n",
      "3FO4M3A5XSS1_Bedroom.zip\n",
      "3FO4M3A5WR0P_Bedroom.zip\n",
      "3FO4M36B2CQY_Bedroom.zip\n",
      "3FO4M367JV6C_Dining_room.zip\n",
      "3FO4M35TVI6Q_Bedroom.zip\n",
      "3FO4M351NYME_Bedroom.zip\n",
      "3FO4M351LYES_Bedroom.zip\n",
      "3FO4M3515CLT_Bedroom.zip\n",
      "3FO4M34QEY41_Guest_room.zip\n",
      "3FO4M34QEY41_Bedroom.zip\n",
      "3FO4M34PXPO6_Bedroom.zip\n",
      "3FO4M34PX5M0_Bedroom.zip\n",
      "3FO4M2XOWWXA_Bedroom.zip\n",
      "3FO4M2XOVRSX_Bedroom.zip\n",
      "3FO4M2XOUMOL_Bedroom.zip\n",
      "3FO4M2XOU9BH_Living_room.zip\n",
      "3FO4M2XOU9BH_Bedroom.zip\n",
      "3FO4M2XOTYAE_Bedroom.zip\n",
      "3FO4M2XOSWI3_Bedroom.zip\n",
      "3FO4M2XOSFRX_Bedroom.zip\n",
      "3FO4M2XORKOO_Bedroom.zip\n",
      "3FO4M2XOQ8VA_Bedroom.zip\n",
      "3FO4M2XOHQAQ_Living_room.zip\n",
      "3FO4M2XOHQAQ_Bedroom.zip\n",
      "3FO4M2XOCKQ7_Bedroom.zip\n",
      "3FO4M2XOC412_Living_room.zip\n",
      "3FO4M2XOC412_Bedroom.zip\n",
      "3FO4M2XOB5KR_Bedroom.zip\n",
      "3FO4M2XOAKIL_Bedroom.zip\n",
      "3FO4M2XO9M3B_Bedroom.zip\n",
      "3FO4M2XO5IB3_Bedroom.zip\n",
      "3FO4M2XO46HO_Bedroom.zip\n",
      "3FO4M2XIA4EN_Bedroom.zip\n",
      "3FO4M2XG5VDG_Bedroom.zip\n",
      "3FO4M2W3Q6Q3_Bedroom.zip\n",
      "3FO4M2W1EV9R_Bedroom.zip\n",
      "3FO4M2VUYDYS_Bedroom.zip\n",
      "3FO4M2V4KDYG_Bedroom.zip\n",
      "3FO4M2U0HWMH_Bedroom.zip\n",
      "3FO4M2R8I8J8_Bedroom.zip\n",
      "3FO4M2R86NXR_Bedroom.zip\n",
      "3FO4M2R84UF8_Bedroom.zip\n",
      "3FO4M2R80NAY_Bedroom.zip\n",
      "3FO4M2R7WYO6_Bedroom.zip\n",
      "3FO4M2R7WEM0_Bedroom.zip\n",
      "3FO4M2R7WB9Y_Bedroom.zip\n",
      "3FO4M2R7TWO9_Bedroom.zip\n",
      "3FO4M2R7OR4P_Bedroom.zip\n",
      "3FO4M2R7O72J_Bedroom.zip\n",
      "3FO4M2R7M05V_Bedroom.zip\n",
      "3FO4M2R75XF3_Living_room.zip\n",
      "3FO4M2R75XF3_Bedroom.zip\n",
      "3FO4M2QFVSX7_Bedroom.zip\n",
      "3FO4M2QANKRE_Guest_room.zip\n",
      "3FO4M2QANKRE_Bedroom.zip\n",
      "3FO4M2OQQ85X_Living_room.zip\n",
      "3FO4M2OQQ85X_Bedroom.zip\n",
      "3FO4M2OGDKKH_Bedroom.zip\n",
      "3FO4M2MMGQSI_Living_room.zip\n",
      "3FO4M2MMGQSI_Bedroom.zip\n",
      "3FO4M2MMGK4G_Bedroom.zip\n",
      "3FO4M2MM3H1J_Bedroom.zip\n",
      "3FO4M2MM1U72_Bedroom.zip\n",
      "3FO4M2MLYTYG_Bedroom.zip\n",
      "3FO4M2MBLPNU_Bedroom.zip\n",
      "3FO4M2MBLIYS_Living_room.zip\n",
      "3FO4M2MBLIYS_Bedroom.zip\n",
      "3FO4M2MBKNVJ_Living_room.zip\n",
      "3FO4M2MBKNVJ_Guest_room.zip\n",
      "3FO4M2MBKNVJ_Bedroom.zip\n",
      "3FO4M2L7C3JQ_Bedroom.zip\n",
      "3FO4M2KYJPQA_Guest_room.zip\n",
      "3FO4M2KW2YOC_Bedroom.zip\n",
      "3FO4M2I8OKWU_Bedroom.zip\n",
      "3FO4M2I79SUY_Bedroom.zip\n",
      "3FO4M2HRIQCM_Bedroom.zip\n",
      "3FO4M2GGTSAF_Bedroom.zip\n",
      "3FO4M2G2K5V0_Bedroom.zip\n",
      "3FO4M2G1R9IN_Bedroom.zip\n",
      "3FO4M2G18CH0_Bedroom.zip\n",
      "3FO4M2FY9U2I_Living_room.zip\n",
      "3FO4M2FY9U2I_Bedroom.zip\n",
      "3FO4M2EKD9SM_Living_room.zip\n",
      "3FO4M2EKD9SM_Dining_room.zip\n",
      "3FO4M2EKD9SM_Bedroom.zip\n",
      "3FO4M2D5MX45_Bedroom.zip\n",
      "3FO4M2BJK404_Bedroom.zip\n",
      "3FO4M2AYBIY7_Bedroom.zip\n",
      "3FO4M2AXQK58_Living_room.zip\n",
      "3FO4M2AXQK58_Dining_room.zip\n",
      "3FO4M2AXQK58_Bedroom.zip\n",
      "3FO4M2ADL248_Bedroom.zip\n",
      "3FO4M29MH6IW_Bedroom.zip\n",
      "3FO4M29GFQYO_Bedroom.zip\n",
      "3FO4M2963OGE_Bedroom.zip\n",
      "3FO4M29453OV_Bedroom.zip\n",
      "3FO4M28VBHF2_Bedroom.zip\n",
      "3FO4M28CVMM7_Bedroom.zip\n",
      "3FO4M286DYN4_Bedroom.zip\n",
      "3FO4M284UKJ5_Bedroom.zip\n",
      "3FO4M26SDTGM_Bedroom.zip\n",
      "3FO4M26RWRPT_Bedroom.zip\n",
      "3FO4M26LO42F_Bedroom.zip\n",
      "3FO4M26LJVX6_Bedroom.zip\n",
      "3FO4M26LH8BD_Living_room.zip\n",
      "3FO4M26LH8BD_Bedroom.zip\n",
      "3FO4M26LGQL8_Bedroom.zip\n",
      "3FO4M26LFI4U_Bedroom.zip\n",
      "3FO4M26L9AS0_Bedroom.zip\n",
      "3FO4M26L6241_Living_room.zip\n",
      "3FO4M26L6241_Bedroom.zip\n",
      "3FO4M26L36S6_Bedroom.zip\n",
      "3FO4M25K85XT_Bedroom.zip\n",
      "3FO4M259JSV6_Bedroom.zip\n",
      "3FO4M25965Q3_Bedroom.zip\n",
      "3FO4M2594FJK_Living_room.zip\n",
      "3FO4M2594FJK_Bedroom.zip\n",
      "3FO4M2590LSF_Bedroom.zip\n",
      "3FO4M258XVLW_Living_room.zip\n",
      "3FO4M258XEVR_Bedroom.zip\n",
      "3FO4M258WJSI_Living_room.zip\n",
      "3FO4M258V804_Living_room.zip\n",
      "3FO4M258V804_Bedroom.zip\n",
      "3FO4M258T13G_Bedroom.zip\n",
      "3FO4M258OFL3_Bedroom.zip\n",
      "3FO4M258LGX7_Bedroom.zip\n",
      "3FO4M258JU3P_Bedroom.zip\n",
      "3FO4M258A0OR_Bedroom.zip\n",
      "3FO4M252JY1X_Bedroom.zip\n",
      "3FO4M24SITTE_Bedroom.zip\n",
      "3FO4M232XKCA_Bedroom.zip\n",
      "3FO4M222LVHF_Bedroom.zip\n",
      "3FO4M221SLQY_Bedroom.zip\n",
      "3FO4M2177JM4_Bedroom.zip\n",
      "3FO4M20XAT7V_Bedroom.zip\n",
      "3FO4M200N8V6_Bedroom.zip\n",
      "3FO4M1YW50JB_Bedroom.zip\n",
      "3FO4M1YO508K_Bedroom.zip\n",
      "3FO4M1YNV49W_Living_room.zip\n",
      "3FO4M1YNV49W_Bedroom.zip\n",
      "3FO4M1YNTUSJ_Bedroom.zip\n",
      "3FO4M1YNSFN4_Living_room.zip\n",
      "3FO4M1PU5OQB_Dining_room.zip\n",
      "3FO4M1LNHY79_Dining_room.zip\n",
      "3FO4M1C884O1_Bedroom.zip\n",
      "3FO4M1AQQD06_Living_room.zip\n",
      "3FO4M186CH7X_Guest_room.zip\n",
      "3FO4M14IH4HH_Bedroom.zip\n",
      "3FO4M0XM6B9X_Living_room.zip\n",
      "3FO4M0QOQB8B_Bedroom.zip\n",
      "3FO4M0MDQO8T_Bedroom.zip\n",
      "3FO4M0J2SIC5_Living_room.zip\n",
      "3FO4M0965K4I_Bedroom.zip\n",
      "3FO4M043VBX0_Guest_room.zip\n",
      "3FO4LYU720LT_Living_room.zip\n",
      "3FO4M1YNQPGL_Bedroom.zip\n",
      "3FO4M1YNPR1B_Bedroom.zip\n",
      "3FO4M1YNMF0B_Bedroom.zip\n",
      "3FO4M1YNKVHU_Bedroom.zip\n",
      "3FO4M1YNCDWB_Living_room.zip\n",
      "3FO4M1YNCDWB_Bedroom.zip\n",
      "3FO4M1YNC789_Living_room.zip\n",
      "3FO4M1YNC789_Bedroom.zip\n",
      "3FO4M1YNBIT2_Bedroom.zip\n",
      "3FO4M1YNAUEU_Bedroom.zip\n",
      "3FO4M1XAFKQT_Bedroom.zip\n",
      "3FO4M1X1CJNP_Bedroom.zip\n",
      "3FO4M1WV0YGW_Bedroom.zip\n",
      "3FO4M1WKV62S_Dining_room.zip\n",
      "3FO4M1WJWMFR_Bedroom.zip\n",
      "3FO4M1W4PVJQ_Guest_room.zip\n",
      "3FO4M1W4PVJQ_Bedroom.zip\n",
      "3FO4M1VRFP03_Bedroom.zip\n",
      "3FO4M1TTN1IH_Living_room.zip\n",
      "3FO4M1TTN1IH_Dining_room.zip\n",
      "3FO4M1TTN1IH_Bedroom.zip\n",
      "3FO4M1SOEAP6_Living_room.zip\n",
      "3FO4M1SOEAP6_Bedroom.zip\n",
      "3FO4M1SDXB3P_Bedroom.zip\n",
      "3FO4M1SDRUI3_Bedroom.zip\n",
      "3FO4M1S77SXA_Living_room.zip\n",
      "3FO4M1S77SXA_Dining_room.zip\n",
      "3FO4M1PU5OQB_Living_room.zip\n",
      "3FO4M1PPKE2D_Bedroom.zip\n",
      "3FO4M1OSP8CU_Bedroom.zip\n",
      "3FO4M1ORVA87_Bedroom.zip\n",
      "3FO4M1ORE6P3_Bedroom.zip\n",
      "3FO4M1OR6WKW_Living_room.zip\n",
      "3FO4M1OR6WKW_Bedroom.zip\n",
      "3FO4M1OGQLDN_Guest_room.zip\n",
      "3FO4M1OGQLDN_Bedroom.zip\n",
      "3FO4M1OGAQBW_Bedroom.zip\n",
      "3FO4M1OG65TJ_Bedroom.zip\n",
      "3FO4M1O5B4OV_Bedroom.zip\n",
      "3FO4M1O4HGLB_Dining_room.zip\n",
      "3FO4M1O4HGLB_Bedroom.zip\n",
      "3FO4M1MNQ101_Bedroom.zip\n",
      "3FO4M1J1C01G_Living_room.zip\n",
      "3FO4M1J1C01G_Guest_room.zip\n",
      "3FO4M1J1C01G_Bedroom.zip\n",
      "3FO4M1D6P87K_Bedroom.zip\n",
      "3FO4M1CYKHTV_Bedroom.zip\n",
      "3FO4M1CFDP4Y_Bedroom.zip\n",
      "3FO4M1C8EM1Y_Bedroom.zip\n",
      "3FO4M1C8DQXP_Bedroom.zip\n",
      "3FO4M1C8D6VJ_Living_room.zip\n",
      "3FO4M1C8D6VJ_Guest_room.zip\n",
      "3FO4M1C8D6VJ_Bedroom.zip\n",
      "3FO4M1C8AOXS_Bedroom.zip\n",
      "3FO4M1C8A1JL_Bedroom.zip\n",
      "3FO4M1C89TUJ_Bedroom.zip\n",
      "3FO4M1C87TMX_Bedroom.zip\n",
      "3FO4M1C7VNFL_Bedroom.zip\n",
      "3FO4M1C7UVOD_Bedroom.zip\n",
      "3FO4M1C2N58P_Bedroom.zip\n",
      "3FO4M1C2C92G_Bedroom.zip\n",
      "3FO4M1BPBBTK_Bedroom.zip\n",
      "3FO4M1BAQ6M0_Bedroom.zip\n",
      "3FO4M1B5LDT8_Living_room.zip\n",
      "3FO4M1B5LDT8_Guest_room.zip\n",
      "3FO4M1B5LDT8_Bedroom.zip\n",
      "3FO4M1B3PGOI_Bedroom.zip\n",
      "3FO4M1B1ETME_Living_room.zip\n",
      "3FO4M1B1ETME_Dining_room.zip\n",
      "3FO4M1B1ETME_Bedroom.zip\n",
      "3FO4M1AQQD06_Bedroom.zip\n",
      "3FO4M1AQ7MMK_Bedroom.zip\n",
      "3FO4M1AQ1W0U_Living_room.zip\n",
      "3FO4M1APS127_Bedroom.zip\n",
      "3FO4M19KQ2MW_Bedroom.zip\n",
      "3FO4M187BE83_Bedroom.zip\n",
      "3FO4M186TAOY_Living_room.zip\n",
      "3FO4M186TAOY_Bedroom.zip\n",
      "3FO4M186QIQ5_Bedroom.zip\n",
      "3FO4M186NNFA_Living_room.zip\n",
      "3FO4M186NNFA_Bedroom.zip\n",
      "3FO4M186LGIM_Bedroom.zip\n",
      "3FO4M186H2PB_Bedroom.zip\n",
      "3FO4M186EUSN_Bedroom.zip\n",
      "3FO4M186CH7X_Bedroom.zip\n",
      "3FO4M186BSSQ_Bedroom.zip\n",
      "3FO4M1869BV0_Living_room.zip\n",
      "3FO4M1869BV0_Bedroom.zip\n",
      "3FO4M18683EM_Bedroom.zip\n",
      "3FO4M1864JOK_Bedroom.zip\n",
      "3FO4M1860FWC_Bedroom.zip\n",
      "3FO4M185YY77_Bedroom.zip\n",
      "3FO4M185LRR9_Bedroom.zip\n",
      "3FO4M1764M48_Guest_room.zip\n",
      "3FO4M1764M48_Bedroom.zip\n",
      "3FO4M16FP0T6_Bedroom.zip\n",
      "3FO4M1629BJE_Bedroom.zip\n",
      "3FO4M15MO9NU_Bedroom.zip\n",
      "3FO4M1434TNS_Bedroom.zip\n",
      "3FO4M13H979A_Bedroom.zip\n",
      "3FO4M13CEC7H_Guest_room.zip\n",
      "3FO4M13CEC7H_Bedroom.zip\n",
      "3FO4M12OE6PO_Bedroom.zip\n",
      "3FO4M12O9YLF_Guest_room.zip\n",
      "3FO4M12O9YLF_Bedroom.zip\n",
      "3FO4M12NSG5H_Bedroom.zip\n",
      "3FO4M11K1YBS_Bedroom.zip\n",
      "3FO4M115U788_Bedroom.zip\n",
      "3FO4M112SRDE_Bedroom.zip\n",
      "3FO4M0YUMRLY_Bedroom.zip\n",
      "3FO4M0YBWBNX_Bedroom.zip\n",
      "3FO4M0XUURK0_Bedroom.zip\n",
      "3FO4M0XM6B9X_Dining_room.zip\n",
      "3FO4M0XDCJIL_Bedroom.zip\n",
      "3FO4M0VVSRM5_Living_room.zip\n",
      "3FO4M0VVSRM5_Dining_room.zip\n",
      "3FO4M0VVSRM5_Bedroom.zip\n",
      "3FO4M0U684QW_Bedroom.zip\n",
      "3FO4M0U4STF6_Bedroom.zip\n",
      "3FO4M0TYWFUW_Bedroom.zip\n",
      "3FO4M0RBDETQ_Bedroom.zip\n",
      "3FO4M0QYDCP4_Bedroom.zip\n",
      "3FO4M0QQ8GUW_Bedroom.zip\n",
      "3FO4M0QORJOO_Bedroom.zip\n",
      "3FO4M0QOQYMI_Living_room.zip\n",
      "3FO4M0QOQYMI_Bedroom.zip\n",
      "3FO4M0QOGDHC_Bedroom.zip\n",
      "3FO4M0QOACTJ_Bedroom.zip\n",
      "3FO4M0QNXLK1_Bedroom.zip\n",
      "3FO4M0QNXBIX_Bedroom.zip\n",
      "3FO4M0QNVLCF_Bedroom.zip\n",
      "3FO4M0QNVI0E_Bedroom.zip\n",
      "3FO4M0QNT7QP_Living_room.zip\n",
      "3FO4M0QNT7QP_Bedroom.zip\n",
      "3FO4M0QNT4EO_Bedroom.zip\n",
      "3FO4M0Q0WAXV_Bedroom.zip\n",
      "3FO4M0O4JEJ6_Bedroom.zip\n",
      "3FO4M0ME5J2Y_Bedroom.zip\n",
      "3FO4M0ME20CW_Living_room.zip\n",
      "3FO4M0ME20CW_Bedroom.zip\n",
      "3FO4M0LTXN11_Bedroom.zip\n",
      "3FO4M0LJNE1A_Bedroom.zip\n",
      "3FO4M0J3WRKV_Bedroom.zip\n",
      "3FO4M0J3GWJ5_Bedroom.zip\n",
      "3FO4M0J3FAON_Bedroom.zip\n",
      "3FO4M0J3EFLE_Bedroom.zip\n",
      "3FO4M0J3CPEV_Living_room.zip\n",
      "3FO4M0J3CPEV_Bedroom.zip\n",
      "3FO4M0J3BGXI_Bedroom.zip\n",
      "3FO4M0J39DDV_Living_room.zip\n",
      "3FO4M0J39DDV_Bedroom.zip\n",
      "3FO4M0J38IAM_Bedroom.zip\n",
      "3FO4M0J33TG8_Bedroom.zip\n",
      "3FO4M0J31CIH_Bedroom.zip\n",
      "3FO4M0J2SIC5_Bedroom.zip\n",
      "3FO4M0J2K7FN_Bedroom.zip\n",
      "3FO4M0J29RYJ_Living_room.zip\n",
      "3FO4M0J29LAH_Living_room.zip\n",
      "3FO4M0J29LAH_Bedroom.zip\n",
      "3FO4M0HEVY02_Living_room.zip\n",
      "3FO4M0HEVY02_Bedroom.zip\n",
      "3FO4M0E7GTQ6_Bedroom.zip\n",
      "3FO4M0CUCJJW_Bedroom.zip\n",
      "3FO4M0CQM5FW_Bedroom.zip\n",
      "3FO4M0CFGS76_Bedroom.zip\n",
      "3FO4M0A8T7TV_Bedroom.zip\n",
      "3FO4M09837FQ_Bedroom.zip\n",
      "3FO4M0965K4I_Living_room.zip\n",
      "3FO4M091D3NF_Living_room.zip\n",
      "3FO4M091D3NF_Bedroom.zip\n",
      "3FO4M091CIL9_Bedroom.zip\n",
      "3FO4M090WW0V_Bedroom.zip\n",
      "3FO4M090P2TJ_Bedroom.zip\n",
      "3FO4M090IKGL_Living_room.zip\n",
      "3FO4M090IKGL_Bedroom.zip\n",
      "3FO4M090IAFI_Bedroom.zip\n",
      "3FO4M090HFC9_Bedroom.zip\n",
      "3FO4M090HC08_Bedroom.zip\n",
      "3FO4M0904FLD_Living_room.zip\n",
      "3FO4M07TJ1UK_Bedroom.zip\n",
      "3FO4M074IXSU_Bedroom.zip\n",
      "3FO4M06A6UYO_Bedroom.zip\n",
      "3FO4M043VBX0_Bedroom.zip\n",
      "3FO4M02WKC3J_Bedroom.zip\n",
      "3FO4M02IIC6E_Bedroom.zip\n",
      "3FO4LYYVJW5U_Bedroom.zip\n",
      "3FO4LYVJ3244_Bedroom.zip\n",
      "3FO4LYU7HNYI_Bedroom.zip\n",
      "3FO4LYU7FKEV_Guest_room.zip\n",
      "3FO4LYU7FKEV_Bedroom.zip\n",
      "3FO4LYU7CLR0_Bedroom.zip\n",
      "3FO4LYU79N44_Bedroom.zip\n",
      "3FO4LYU7766D_Bedroom.zip\n",
      "3FO4LYU74UWO_Living_room.zip\n",
      "3FO4LYU74UWO_Dining_room.zip\n",
      "3FO4LYU74UWO_Bedroom.zip\n",
      "3FO4LYNR11HC_Bedroom.zip\n",
      "3FO4LYAEHDOF_Bedroom.zip\n",
      "3FO4LY0L0J61_Bedroom.zip\n",
      "3FO4LY0813B4_Dining_room.zip\n",
      "3FO4LXPKDHJS_Bedroom.zip\n",
      "3FO4LXL7V87K_Bedroom.zip\n",
      "3FO4LXBFE2FJ_Bedroom.zip\n",
      "3FO4LXAMJBX1_Living_room.zip\n",
      "3FO4LX76RG3V_Guest_room.zip\n",
      "3FO4LX2EXFRL_Bedroom.zip\n",
      "3FO4LWY5W23V_Living_room.zip\n",
      "3FO4LWW4KK89_Bedroom.zip\n",
      "3FO4LWPG7TII_Bedroom.zip\n",
      "3FO4LYU71C7M_Living_room.zip\n",
      "3FO4LYU70UHH_Bedroom.zip\n",
      "3FO4LYU6V3B2_Bedroom.zip\n",
      "3FO4LYU6PG1D_Bedroom.zip\n",
      "3FO4LYU6OHL3_Bedroom.zip\n",
      "3FO4LYU6IA98_Bedroom.zip\n",
      "3FO4LYTVOGDE_Guest_room.zip\n",
      "3FO4LYTVOGDE_Bedroom.zip\n",
      "3FO4LYTVNEL3_Bedroom.zip\n",
      "3FO4LYTVL10D_Living_room.zip\n",
      "3FO4LYTVL10D_Dining_room.zip\n",
      "3FO4LYTO2T6N_Bedroom.zip\n",
      "3FO4LYT6X9AC_Bedroom.zip\n",
      "3FO4LYSQHWGQ_Bedroom.zip\n",
      "3FO4LYSQA9YG_Bedroom.zip\n",
      "3FO4LYOYTH0H_Bedroom.zip\n",
      "3FO4LYO9S8TF_Bedroom.zip\n",
      "3FO4LYNRTRWX_Bedroom.zip\n",
      "3FO4LYNRQWM3_Bedroom.zip\n",
      "3FO4LYNRPKSO_Bedroom.zip\n",
      "3FO4LYNROFOC_Bedroom.zip\n",
      "3FO4LYNRDQ75_Bedroom.zip\n",
      "3FO4LYNR6UG3_Bedroom.zip\n",
      "3FO4LYNR6ADW_Bedroom.zip\n",
      "3FO4LYNR4XKI_Living_room.zip\n",
      "3FO4LYNR4XKI_Dining_room.zip\n",
      "3FO4LYNR4XKI_Bedroom.zip\n",
      "3FO4LYNR43H9_Bedroom.zip\n",
      "3FO4LYNR0N48_Bedroom.zip\n",
      "3FO4LYNQWV5E_Bedroom.zip\n",
      "3FO4LYNQVWP4_Bedroom.zip\n",
      "3FO4LYJSP2IJ_Bedroom.zip\n",
      "3FO4LYIW89X1_Bedroom.zip\n",
      "3FO4LYIW4CTU_Bedroom.zip\n",
      "3FO4LYIVH748_Bedroom.zip\n",
      "3FO4LYIV3IY5_Bedroom.zip\n",
      "3FO4LYIV0XOD_Bedroom.zip\n",
      "3FO4LYIURTGX_Bedroom.zip\n",
      "3FO4LYIURCQS_Bedroom.zip\n",
      "3FO4LYE3QGOG_Bedroom.zip\n",
      "3FO4LYBVKWPS_Bedroom.zip\n",
      "3FO4LYAQND4T_Bedroom.zip\n",
      "3FO4LY8BEQUI_Bedroom.zip\n",
      "3FO4LY6U2DYY_Bedroom.zip\n",
      "3FO4LY6TY5B0_Bedroom.zip\n",
      "3FO4LY6L93XR_Guest_room.zip\n",
      "3FO4LY6L93XR_Bedroom.zip\n",
      "3FO4LY4TTRYY_Bedroom.zip\n",
      "3FO4LY3RRFVY_Bedroom.zip\n",
      "3FO4LY3H8EAL_Bedroom.zip\n",
      "3FO4LY24MO0F_Bedroom.zip\n",
      "3FO4LY23HGBE_Bedroom.zip\n",
      "3FO4LY21SI9R_Bedroom.zip\n",
      "3FO4LY0LMBIJ_Dining_room.zip\n",
      "3FO4LY0L3YJ2_Living_room.zip\n",
      "3FO4LY0L3YJ2_Dining_room.zip\n",
      "3FO4LY0H9DAS_Bedroom.zip\n",
      "3FO4LY0GYM8V_Bedroom.zip\n",
      "3FO4LY0DJ97V_Living_room.zip\n",
      "3FO4LY0DJ97V_Dining_room.zip\n",
      "3FO4LY0DJ97V_Bedroom.zip\n",
      "3FO4LY0D664Y_Dining_room.zip\n",
      "3FO4LY0D57OO_Living_room.zip\n",
      "3FO4LY0D57OO_Dining_room.zip\n",
      "3FO4LY0D57OO_Bedroom.zip\n",
      "3FO4LY0D1ALI_Bedroom.zip\n",
      "3FO4LY0CTYWM_Bedroom.zip\n",
      "3FO4LY0A7SA2_Bedroom.zip\n",
      "3FO4LY08DBAR_Bedroom.zip\n",
      "3FO4LY0813B4_Living_room.zip\n",
      "3FO4LY0813B4_Bedroom.zip\n",
      "3FO4LY070THK_Bedroom.zip\n",
      "3FO4LY06T23J_Guest_room.zip\n",
      "3FO4LY06T23J_Bedroom.zip\n",
      "3FO4LY04KBW0_Bedroom.zip\n",
      "3FO4LXYVKEXA_Bedroom.zip\n",
      "3FO4LXYQC6RH_Dining_room.zip\n",
      "3FO4LXYQC6RH_Bedroom.zip\n",
      "3FO4LXXUVEQQ_Bedroom.zip\n",
      "3FO4LXVMF0TD_Bedroom.zip\n",
      "3FO4LXRV7M3W_Bedroom.zip\n",
      "3FO4LXR6ROK8_Bedroom.zip\n",
      "3FO4LXPRW9FO_Guest_room.zip\n",
      "3FO4LXPRW9FO_Bedroom.zip\n",
      "3FO4LXOW5HVN_Dining_room.zip\n",
      "3FO4LXOW5HVN_Bedroom.zip\n",
      "3FO4LXOJM74K_Bedroom.zip\n",
      "3FO4LXOHAEX4_Living_room.zip\n",
      "3FO4LXOHAEX4_Bedroom.zip\n",
      "3FO4LXOH4OBE_Living_room.zip\n",
      "3FO4LXOH4OBE_Bedroom.zip\n",
      "3FO4LXN9W9EJ_Bedroom.zip\n",
      "3FO4LXMYBKXO_Bedroom.zip\n",
      "3FO4LXM6MYG0_Bedroom.zip\n",
      "3FO4LXM4H7WC_Bedroom.zip\n",
      "3FO4LXL8FPBE_Bedroom.zip\n",
      "3FO4LXL8FIMC_Bedroom.zip\n",
      "3FO4LXL8CQNI_Bedroom.zip\n",
      "3FO4LXL7UD4B_Bedroom.zip\n",
      "3FO4LXH2DSOK_Living_room.zip\n",
      "3FO4LXH2DSOK_Guest_room.zip\n",
      "3FO4LXH2DSOK_Dining_room.zip\n",
      "3FO4LXH2DSOK_Bedroom.zip\n",
      "3FO4LXGQE3PI_Living_room.zip\n",
      "3FO4LXGQE3PI_Dining_room.zip\n",
      "3FO4LXGQE3PI_Bedroom.zip\n",
      "3FO4LXGN0PW4_Bedroom.zip\n",
      "3FO4LXD774VG_Bedroom.zip\n",
      "3FO4LXD15M07_Bedroom.zip\n",
      "3FO4LXCY6CTH_Living_room.zip\n",
      "3FO4LXCY6CTH_Dining_room.zip\n",
      "3FO4LXCM1P7H_Bedroom.zip\n",
      "3FO4LXBDFU25_Bedroom.zip\n",
      "3FO4LXBD1P6W_Living_room.zip\n",
      "3FO4LXANEVW6_Living_room.zip\n",
      "3FO4LXANEVW6_Bedroom.zip\n",
      "3FO4LXANE8HY_Bedroom.zip\n",
      "3FO4LXANCBME_Bedroom.zip\n",
      "3FO4LXAN4UT6_Bedroom.zip\n",
      "3FO4LXAN1ST9_Bedroom.zip\n",
      "3FO4LXAN0ABS_Bedroom.zip\n",
      "3FO4LXAMW8BV_Bedroom.zip\n",
      "3FO4LXAMVJWO_Bedroom.zip\n",
      "3FO4LXAMUI5D_Bedroom.zip\n",
      "3FO4LXAMQB14_Bedroom.zip\n",
      "3FO4LXAMKR3G_Bedroom.zip\n",
      "3FO4LXAMJBX1_Dining_room.zip\n",
      "3FO4LXAMJBX1_Bedroom.zip\n",
      "3FO4LXAM5DQU_Bedroom.zip\n",
      "3FO4LXADCUGV_Bedroom.zip\n",
      "3FO4LXAA6QRN_Bedroom.zip\n",
      "3FO4LXA4NO7W_Bedroom.zip\n",
      "3FO4LXA1AI3K_Bedroom.zip\n",
      "3FO4LX9Q5BBC_Bedroom.zip\n",
      "3FO4LX8RUXM4_Bedroom.zip\n",
      "3FO4LX791GBI_Living_room.zip\n",
      "3FO4LX791GBI_Dining_room.zip\n",
      "3FO4LX78E0JS_Living_room.zip\n",
      "3FO4LX78E0JS_Dining_room.zip\n",
      "3FO4LX78E0JS_Bedroom.zip\n",
      "3FO4LX76RG3V_Bedroom.zip\n",
      "3FO4LX54XKO2_Living_room.zip\n",
      "3FO4LX54XKO2_Dining_room.zip\n",
      "3FO4LX54XKO2_Bedroom.zip\n",
      "3FO4LX54VH4F_Bedroom.zip\n",
      "3FO4LX54UM16_Bedroom.zip\n",
      "3FO4LX54UIO5_Bedroom.zip\n",
      "3FO4LX54U8N2_Bedroom.zip\n",
      "3FO4LX54TXLY_Bedroom.zip\n",
      "3FO4LX54SP5L_Bedroom.zip\n",
      "3FO4LX54RQPB_Bedroom.zip\n",
      "3FO4LX53HGSR_Bedroom.zip\n",
      "3FO4LX53BJI0_Bedroom.zip\n",
      "3FO4LX32KOUJ_Bedroom.zip\n",
      "3FO4LX2EJOAH_Bedroom.zip\n",
      "3FO4LX2E0XWV_Dining_room.zip\n",
      "3FO4LX2E0XWV_Bedroom.zip\n",
      "3FO4LX2BAVYG_Bedroom.zip\n",
      "3FO4LX29BQ5R_Bedroom.zip\n",
      "3FO4LX1F1K76_Bedroom.zip\n",
      "3FO4LX00FC9W_Bedroom.zip\n",
      "3FO4LWYN1W1A_Bedroom.zip\n",
      "3FO4LWYH2ODP_Bedroom.zip\n",
      "3FO4LWYGQYVI_Bedroom.zip\n",
      "3FO4LWYGP30X_Bedroom.zip\n",
      "3FO4LWYGOVBV_Bedroom.zip\n",
      "3FO4LWYGEDIQ_Bedroom.zip\n",
      "3FO4LWYEAFIM_Bedroom.zip\n",
      "3FO4LWY5W23V_Bedroom.zip\n",
      "3FO4LWY40XA4_Bedroom.zip\n",
      "3FO4LWXLIUD2_Bedroom.zip\n",
      "3FO4LWXFHFST_Living_room.zip\n",
      "3FO4LWXFHFST_Dining_room.zip\n",
      "3FO4LWXFHFST_Bedroom.zip\n",
      "3FO4LWXDACGR_Bedroom.zip\n",
      "3FO4LWXABB7N_Bedroom.zip\n",
      "3FO4LWW4QUW5_Bedroom.zip\n",
      "3FO4LWW4OAMD_Bedroom.zip\n",
      "3FO4LWW4NC73_Bedroom.zip\n",
      "3FO4LWW4KU9C_Bedroom.zip\n",
      "3FO4LWW4KK89_Living_room.zip\n",
      "3FO4LWW4KK89_Dining_room.zip\n",
      "3FO4LWW4HS9F_Bedroom.zip\n",
      "3FO4LWW4H4U8_Living_room.zip\n",
      "3FO4LWW4G9QY_Bedroom.zip\n",
      "3FO4LWW4BE8I_Bedroom.zip\n",
      "3FO4LWW441RB_Bedroom.zip\n",
      "3FO4LWUQXS5R_Bedroom.zip\n",
      "3FO4LWUK43V3_Bedroom.zip\n",
      "3FO4LWT7MY3A_Bedroom.zip\n",
      "3FO4LWSW5JBE_Bedroom.zip\n",
      "3FO4LWSN5NK8_Bedroom.zip\n",
      "3FO4LWR1W0HG_Bedroom.zip\n",
      "3FO4LWQNIOSE_Bedroom.zip\n",
      "3FO4LWPGBQLO_Bedroom.zip\n",
      "3FO4LWPG9TQ4_Bedroom.zip\n",
      "3FO4LWFJAPB5_Bedroom.zip\n",
      "3FO4LW7S6JW7_Dining_room.zip\n",
      "3FO4LW5OS1W1_Bedroom.zip\n",
      "3FO4LVVY9B4T_Bedroom.zip\n",
      "3FO4LVP9AL1C_Bedroom.zip\n",
      "3FO4LVLNST0V_Dining_room.zip\n",
      "3FO4LVETRGSQ_Bedroom.zip\n",
      "3FO4LV4S9A67_Living_room.zip\n",
      "3FO4LV2QC9EF_Living_room.zip\n",
      "3FO4LURYWMOM_Bedroom.zip\n",
      "3FO4LUMHRTTF_Bedroom.zip\n",
      "3FO4LUHWU5MB_Living_room.zip\n",
      "3FO4LUE7Y3KP_Bedroom.zip\n",
      "3FO4LWPG0718_Bedroom.zip\n",
      "3FO4LWPFVJY5_Bedroom.zip\n",
      "3FO4LWPDD3PO_Bedroom.zip\n",
      "3FO4LWOX77WW_Bedroom.zip\n",
      "3FO4LWN2H2B0_Bedroom.zip\n",
      "3FO4LWMKK890_Bedroom.zip\n",
      "3FO4LWKPXA3I_Bedroom.zip\n",
      "3FO4LWJTJTJ0_Living_room.zip\n",
      "3FO4LWJTJTJ0_Bedroom.zip\n",
      "3FO4LWIVIV3A_Bedroom.zip\n",
      "3FO4LWHPFIQ4_Bedroom.zip\n",
      "3FO4LWHI9GK1_Bedroom.zip\n",
      "3FO4LWHI84QM_Bedroom.zip\n",
      "3FO4LWHI7D0E_Bedroom.zip\n",
      "3FO4LWHI6EK4_Bedroom.zip\n",
      "3FO4LWHI5MSV_Bedroom.zip\n",
      "3FO4LWHHS1G4_Bedroom.zip\n",
      "3FO4LWHHRD1W_Bedroom.zip\n",
      "3FO4LWHHQYNS_Bedroom.zip\n",
      "3FO4LWHHOEE1_Bedroom.zip\n",
      "3FO4LWHHN2KM_Bedroom.zip\n",
      "3FO4LWHHGNJP_Bedroom.zip\n",
      "3FO4LWHHBLC7_Bedroom.zip\n",
      "3FO4LWHH9YHP_Bedroom.zip\n",
      "3FO4LWH9TGAS_Living_room.zip\n",
      "3FO4LWH9TGAS_Dining_room.zip\n",
      "3FO4LWH9TGAS_Bedroom.zip\n",
      "3FO4LWGSMQMB_Bedroom.zip\n",
      "3FO4LWED3PVV_Bedroom.zip\n",
      "3FO4LWDSD4HC_Bedroom.zip\n",
      "3FO4LWDNI63I_Bedroom.zip\n",
      "3FO4LWC1GIBD_Bedroom.zip\n",
      "3FO4LWC0ECM9_Bedroom.zip\n",
      "3FO4LWC03QH3_Living_room.zip\n",
      "3FO4LWBYAGQM_Living_room.zip\n",
      "3FO4LWBLQE8B_Bedroom.zip\n",
      "3FO4LWBCHPUI_Bedroom.zip\n",
      "3FO4LWA0264V_Bedroom.zip\n",
      "3FO4LW9YVW8B_Bedroom.zip\n",
      "3FO4LW9WX84R_Bedroom.zip\n",
      "3FO4LW92CAJH_Bedroom.zip\n",
      "3FO4LW7S6JW7_Living_room.zip\n",
      "3FO4LW7HTRF0_Bedroom.zip\n",
      "3FO4LW60CGVI_Bedroom.zip\n",
      "3FO4LW60A3AS_Bedroom.zip\n",
      "3FO4LW6094UI_Bedroom.zip\n",
      "3FO4LW608QHE_Bedroom.zip\n",
      "3FO4LW6089R9_Bedroom.zip\n",
      "3FO4LW6086F8_Bedroom.zip\n",
      "3FO4LW5YRS3M_Bedroom.zip\n",
      "3FO4LW5YR81G_Bedroom.zip\n",
      "3FO4LW5YQGA8_Bedroom.zip\n",
      "3FO4LW5YELNO_Living_room.zip\n",
      "3FO4LW5YELNO_Dining_room.zip\n",
      "3FO4LW5YELNO_Bedroom.zip\n",
      "3FO4LW5YEBML_Bedroom.zip\n",
      "3FO4LW46HQO6_Bedroom.zip\n",
      "3FO4LW3JCOGD_Bedroom.zip\n",
      "3FO4LW3GFGPS_Guest_room.zip\n",
      "3FO4LW3GFGPS_Bedroom.zip\n",
      "3FO4LW2XUSIY_Bedroom.zip\n",
      "3FO4LW2FRP0M_Living_room.zip\n",
      "3FO4LW2FRP0M_Bedroom.zip\n",
      "3FO4LW0GQK61_Bedroom.zip\n",
      "3FO4LVYIVWE7_Bedroom.zip\n",
      "3FO4LVWS18FY_Bedroom.zip\n",
      "3FO4LVVYH1Y5_Bedroom.zip\n",
      "3FO4LVVYG06T_Bedroom.zip\n",
      "3FO4LVVYB80E_Bedroom.zip\n",
      "3FO4LVV3FJD7_Bedroom.zip\n",
      "3FO4LVQO6K0I_Bedroom.zip\n",
      "3FO4LVQARO9A_Living_room.zip\n",
      "3FO4LVQARO9A_Bedroom.zip\n",
      "3FO4LVPTIOC4_Bedroom.zip\n",
      "3FO4LVP9RRVH_Living_room.zip\n",
      "3FO4LVP9RRVH_Bedroom.zip\n",
      "3FO4LVP9QTG7_Bedroom.zip\n",
      "3FO4LVP9Q620_Bedroom.zip\n",
      "3FO4LVP9PYCX_Bedroom.zip\n",
      "3FO4LVP9PHMS_Bedroom.zip\n",
      "3FO4LVP9OJ7I_Living_room.zip\n",
      "3FO4LVP9OJ7I_Dining_room.zip\n",
      "3FO4LVP9OJ7I_Bedroom.zip\n",
      "3FO4LVP9A0Y6_Bedroom.zip\n",
      "3FO4LVP98ARN_Living_room.zip\n",
      "3FO4LVP98ARN_Bedroom.zip\n",
      "3FO4LVP9790C_Bedroom.zip\n",
      "3FO4LVP95M5U_Bedroom.zip\n",
      "3FO4LVP90TYF_Bedroom.zip\n",
      "3FO4LVP8YI61_Bedroom.zip\n",
      "3FO4LVP8UEDS_Bedroom.zip\n",
      "3FO4LVP8U4CP_Bedroom.zip\n",
      "3FO4LVP71O5Q_Bedroom.zip\n",
      "3FO4LVP221WI_Bedroom.zip\n",
      "3FO4LVLOCMPI_Bedroom.zip\n",
      "3FO4LVLO41RX_Bedroom.zip\n",
      "3FO4LVLNST0V_Living_room.zip\n",
      "3FO4LVLNST0V_Bedroom.zip\n",
      "3FO4LVLNQFF6_Bedroom.zip\n",
      "3FO4LVLNOVWP_Bedroom.zip\n",
      "3FO4LVLLN2H8_Bedroom.zip\n",
      "3FO4LVJOF9HK_Bedroom.zip\n",
      "3FO4LVJ5QPF4_Dining_room.zip\n",
      "3FO4LVJ5QPF4_Bedroom.zip\n",
      "3FO4LVIAKYHD_Bedroom.zip\n",
      "3FO4LVHT1K43_Bedroom.zip\n",
      "3FO4LVGNFBA1_Bedroom.zip\n",
      "3FO4LVGDVLT8_Guest_room.zip\n",
      "3FO4LVGDVLT8_Bedroom.zip\n",
      "3FO4LVETRGSQ_Living_room.zip\n",
      "3FO4LVETRGSQ_Dining_room.zip\n",
      "3FO4LVEQ3HU6_Dining_room.zip\n",
      "3FO4LVEMV2CJ_Guest_room.zip\n",
      "3FO4LVEMV2CJ_Bedroom.zip\n",
      "3FO4LVDNYPLQ_Bedroom.zip\n",
      "3FO4LV987W79_Bedroom.zip\n",
      "3FO4LV9863NP_Bedroom.zip\n",
      "3FO4LV9851VE_Bedroom.zip\n",
      "3FO4LV983P30_Guest_room.zip\n",
      "3FO4LV983P30_Bedroom.zip\n",
      "3FO4LV97PBY0_Bedroom.zip\n",
      "3FO4LV78F14N_Bedroom.zip\n",
      "3FO4LV6W1JNH_Bedroom.zip\n",
      "3FO4LV5Y7NMV_Bedroom.zip\n",
      "3FO4LV5JCAN9_Bedroom.zip\n",
      "3FO4LV4S9A67_Bedroom.zip\n",
      "3FO4LV472368_Bedroom.zip\n",
      "3FO4LV2RAYPI_Bedroom.zip\n",
      "3FO4LV2RAS1G_Bedroom.zip\n",
      "3FO4LV2RABBB_Bedroom.zip\n",
      "3FO4LV2R9CV1_Bedroom.zip\n",
      "3FO4LV2R966Y_Bedroom.zip\n",
      "3FO4LV2R79BE_Bedroom.zip\n",
      "3FO4LV2R6E85_Bedroom.zip\n",
      "3FO4LV2R4UPO_Living_room.zip\n",
      "3FO4LV2R40MF_Bedroom.zip\n",
      "3FO4LV2R3IWA_Bedroom.zip\n",
      "3FO4LV2QT68H_Bedroom.zip\n",
      "3FO4LV2QM3SD_Bedroom.zip\n",
      "3FO4LV2QC9EF_Bedroom.zip\n",
      "3FO4LV1O09LJ_Bedroom.zip\n",
      "3FO4LV1LLDUG_Bedroom.zip\n",
      "3FO4LV1EBLA9_Bedroom.zip\n",
      "3FO4LV0R7ASO_Bedroom.zip\n",
      "3FO4LUY9QW5R_Bedroom.zip\n",
      "3FO4LUXU0CWA_Bedroom.zip\n",
      "3FO4LUXNH1J0_Living_room.zip\n",
      "3FO4LUXNH1J0_Bedroom.zip\n",
      "3FO4LUX6AD32_Bedroom.zip\n",
      "3FO4LUVH8B0U_Bedroom.zip\n",
      "3FO4LUUSXHT6_Bedroom.zip\n",
      "3FO4LUUJY756_Bedroom.zip\n",
      "3FO4LUSDJ2L4_Bedroom.zip\n",
      "3FO4LUR7NCQ8_Bedroom.zip\n",
      "3FO4LUQG961T_Bedroom.zip\n",
      "3FO4LUQCY1WE_Bedroom.zip\n",
      "3FO4LUPGBPE8_Bedroom.zip\n",
      "3FO4LUNURSBU_Bedroom.zip\n",
      "3FO4LUMPTDMM_Bedroom.zip\n",
      "3FO4LUMJNA90_Living_room.zip\n",
      "3FO4LUMJNA90_Dining_room.zip\n",
      "3FO4LUMJNA90_Bedroom.zip\n",
      "3FO4LUMJJ34Q_Living_room.zip\n",
      "3FO4LUMJJ34Q_Bedroom.zip\n",
      "3FO4LUMJFCPM_Bedroom.zip\n",
      "3FO4LUMJ31DX_Living_room.zip\n",
      "3FO4LUMJ31DX_Bedroom.zip\n",
      "3FO4LUMDRVCK_Living_room.zip\n",
      "3FO4LUMDRVCK_Dining_room.zip\n",
      "3FO4LUMDRVCK_Bedroom.zip\n",
      "3FO4LUM6OB48_Bedroom.zip\n",
      "3FO4LUM5REBO_Bedroom.zip\n",
      "3FO4LUM23M26_Bedroom.zip\n",
      "3FO4LULYTSIL_Bedroom.zip\n",
      "3FO4LULUOL56_Bedroom.zip\n",
      "3FO4LULUM7JG_Bedroom.zip\n",
      "3FO4LUL0YBV2_Bedroom.zip\n",
      "3FO4LUKYYJRN_Bedroom.zip\n",
      "3FO4LUK6CVD3_Bedroom.zip\n",
      "3FO4LUHXQKOP_Bedroom.zip\n",
      "3FO4LUHX7A9X_Bedroom.zip\n",
      "3FO4LUHWU5MB_Dining_room.zip\n",
      "3FO4LUHWU5MB_Bedroom.zip\n",
      "3FO4LUHWSSSW_Living_room.zip\n",
      "3FO4LUHWSSSW_Dining_room.zip\n",
      "3FO4LUHWSSSW_Bedroom.zip\n",
      "3FO4LUHN3SO8_Bedroom.zip\n",
      "3FO4LUHD9LFA_Bedroom.zip\n",
      "3FO4LUH3UO5W_Bedroom.zip\n",
      "3FO4LUG8YHL1_Dining_room.zip\n",
      "3FO4LUG3SN0X_Bedroom.zip\n",
      "3FO4LUEU9811_Bedroom.zip\n",
      "3FO4LUE89VEX_Bedroom.zip\n",
      "3FO4LUE837CX_Bedroom.zip\n",
      "3FO4LUE813SB_Bedroom.zip\n",
      "3FO4LTR33N6Q_Living_room.zip\n",
      "3FO4LTJX27MF_Bedroom.zip\n",
      "3FO4LT6RUJBD_Guest_room.zip\n",
      "3FO4LSS8JUUK_Bedroom.zip\n",
      "3FO4LSD1CX3R_Bedroom.zip\n",
      "3FO4LS0HXMAP_Bedroom.zip\n",
      "3FO4LRICJL60_Bedroom.zip\n",
      "3FO4LQXQ42EM_Bedroom.zip\n",
      "3FO4LQPPCKHS_Bedroom.zip\n",
      "3FO4LQJOACLH_Bedroom.zip\n",
      "3FO4LQGGJSVH_Bedroom.zip\n",
      "3FO4LPVMSMGN_Bedroom.zip\n",
      "3FO4LPNK8SOV_Bedroom.zip\n",
      "3FO4LUE7V4WT_Guest_room.zip\n",
      "3FO4LUE7V4WT_Bedroom.zip\n",
      "3FO4LUE7LDUW_Bedroom.zip\n",
      "3FO4LUE7L76U_Bedroom.zip\n",
      "3FO4LUE7J6Y9_Bedroom.zip\n",
      "3FO4LUE7DQDM_Bedroom.zip\n",
      "3FO4LUDTMYSB_Bedroom.zip\n",
      "3FO4LUDOSBFK_Living_room.zip\n",
      "3FO4LUB3WSUD_Bedroom.zip\n",
      "3FO4LUAOPK1N_Bedroom.zip\n",
      "3FO4LUAOLJLG_Bedroom.zip\n",
      "3FO4LUAO6GAX_Living_room.zip\n",
      "3FO4LUAMSEFK_Bedroom.zip\n",
      "3FO4LUAHAF7U_Bedroom.zip\n",
      "3FO4LUA530M1_Bedroom.zip\n",
      "3FO4LU8RWAAC_Bedroom.zip\n",
      "3FO4LU8NEGJ5_Bedroom.zip\n",
      "3FO4LU882DEI_Bedroom.zip\n",
      "3FO4LU7L9FTC_Living_room.zip\n",
      "3FO4LU782MI8_Bedroom.zip\n",
      "3FO4LU5VKLEM_Bedroom.zip\n",
      "3FO4LTYHP1N8_Bedroom.zip\n",
      "3FO4LTXXJO3Q_Living_room.zip\n",
      "3FO4LTXBDQRO_Guest_room.zip\n",
      "3FO4LTXBDQRO_Bedroom.zip\n",
      "3FO4LTR3O0DT_Bedroom.zip\n",
      "3FO4LTR3GQ9N_Bedroom.zip\n",
      "3FO4LTR3A8VP_Bedroom.zip\n",
      "3FO4LTR33N6Q_Bedroom.zip\n",
      "3FO4LTR2U8X8_Bedroom.zip\n",
      "3FO4LTR2LGBL_Bedroom.zip\n",
      "3FO4LTR28N9R_Bedroom.zip\n",
      "3FO4LTR1YNY3_Living_room.zip\n",
      "3FO4LTR1FGVC_Bedroom.zip\n",
      "3FO4LTOT4HC2_Bedroom.zip\n",
      "3FO4LTOSL8OL_Bedroom.zip\n",
      "3FO4LTOS509Q_Living_room.zip\n",
      "3FO4LTOS509Q_Dining_room.zip\n",
      "3FO4LTOS509Q_Bedroom.zip\n",
      "3FO4LTOQDQYF_Bedroom.zip\n",
      "3FO4LTNXLVRR_Bedroom.zip\n",
      "3FO4LTL71PWU_Bedroom.zip\n",
      "3FO4LTJBSAFX_Bedroom.zip\n",
      "3FO4LTJ3R8CV_Bedroom.zip\n",
      "3FO4LTIGSNI1_Bedroom.zip\n",
      "3FO4LTG964DA_Bedroom.zip\n",
      "3FO4LTFBMTHU_Bedroom.zip\n",
      "3FO4LTEV223M_Bedroom.zip\n",
      "3FO4LTDCRBWX_Bedroom.zip\n",
      "3FO4LTAEAQLT_Living_room.zip\n",
      "3FO4LTAEAQLT_Bedroom.zip\n",
      "3FO4LTAAUDKT_Bedroom.zip\n",
      "3FO4LT7MTV87_Bedroom.zip\n",
      "3FO4LT7IITV1_Bedroom.zip\n",
      "3FO4LT7518PO_Bedroom.zip\n",
      "3FO4LT6SYP83_Bedroom.zip\n",
      "3FO4LT6RUJBD_Bedroom.zip\n",
      "3FO4LT6RC3YU_Dining_room.zip\n",
      "3FO4LT4YIYEG_Bedroom.zip\n",
      "3FO4LT4BFDJM_Bedroom.zip\n",
      "3FO4LT2E97EG_Bedroom.zip\n",
      "3FO4LT12W8ID_Bedroom.zip\n",
      "3FO4LT0QQEJH_Bedroom.zip\n",
      "3FO4LT0M8AR7_Bedroom.zip\n",
      "3FO4LSYBVANK_Bedroom.zip\n",
      "3FO4LSXAVEAR_Bedroom.zip\n",
      "3FO4LSU6B7IR_Bedroom.zip\n",
      "3FO4LSSJON25_Living_room.zip\n",
      "3FO4LSSJON25_Dining_room.zip\n",
      "3FO4LSSJON25_Bedroom.zip\n",
      "3FO4LSRVXA6Y_Living_room.zip\n",
      "3FO4LSRVXA6Y_Dining_room.zip\n",
      "3FO4LSP5J8BV_Bedroom.zip\n",
      "3FO4LSOOESW3_Bedroom.zip\n",
      "3FO4LSNSYF9G_Living_room.zip\n",
      "3FO4LSNSYF9G_Dining_room.zip\n",
      "3FO4LSNSYF9G_Bedroom.zip\n",
      "3FO4LSNQVPPP_Bedroom.zip\n",
      "3FO4LSI2UP3D_Bedroom.zip\n",
      "3FO4LSD3BM7B_Bedroom.zip\n",
      "3FO4LSD32TKO_Bedroom.zip\n",
      "3FO4LSD24RNS_Bedroom.zip\n",
      "3FO4LSD1TJVQ_Bedroom.zip\n",
      "3FO4LSD1RQD7_Bedroom.zip\n",
      "3FO4LSBF43BX_Bedroom.zip\n",
      "3FO4LS9RA7LN_Bedroom.zip\n",
      "3FO4LS7URWDM_Bedroom.zip\n",
      "3FO4LS2LRIMH_Bedroom.zip\n",
      "3FO4LS0JBHH1_Bedroom.zip\n",
      "3FO4LS0J5GT8_Living_room.zip\n",
      "3FO4LS0J2859_Bedroom.zip\n",
      "3FO4LS0J0LAR_Bedroom.zip\n",
      "3FO4LS0IPA6O_Bedroom.zip\n",
      "3FO4LS0IOSGJ_Living_room.zip\n",
      "3FO4LS0IOSGJ_Bedroom.zip\n",
      "3FO4LS0IMI7U_Bedroom.zip\n",
      "3FO4LS0HYY44_Living_room.zip\n",
      "3FO4LS0HY40U_Living_room.zip\n",
      "3FO4LS0HXFLN_Bedroom.zip\n",
      "3FO4LRXWW0FI_Bedroom.zip\n",
      "3FO4LRUKVXUS_Bedroom.zip\n",
      "3FO4LRRC4CSP_Bedroom.zip\n",
      "3FO4LROG16IJ_Living_room.zip\n",
      "3FO4LROG16IJ_Bedroom.zip\n",
      "3FO4LRKETVOQ_Bedroom.zip\n",
      "3FO4LRID9IUG_Living_room.zip\n",
      "3FO4LRID9IUG_Bedroom.zip\n",
      "3FO4LRID9FIF_Bedroom.zip\n",
      "3FO4LRICXMO7_Bedroom.zip\n",
      "3FO4LRICX2M1_Bedroom.zip\n",
      "3FO4LRICOGOG_Bedroom.zip\n",
      "3FO4LRICO3BC_Bedroom.zip\n",
      "3FO4LRF6Q823_Bedroom.zip\n",
      "3FO4LRDS6HEQ_Bedroom.zip\n",
      "3FO4LRCXKW01_Bedroom.zip\n",
      "3FO4LRBT72QN_Bedroom.zip\n",
      "3FO4LR8OYAND_Guest_room.zip\n",
      "3FO4LR8OYAND_Bedroom.zip\n",
      "3FO4LR7IHQV9_Living_room.zip\n",
      "3FO4LR7IHQV9_Bedroom.zip\n",
      "3FO4LR4W120P_Guest_room.zip\n",
      "3FO4LR4W120P_Bedroom.zip\n",
      "3FO4LR3M5UE4_Bedroom.zip\n",
      "3FO4LR3LGOFV_Living_room.zip\n",
      "3FO4LR3LGOFV_Dining_room.zip\n",
      "3FO4LR3LGOFV_Bedroom.zip\n",
      "3FO4LQWFLP2E_Living_room.zip\n",
      "3FO4LQWFLP2E_Bedroom.zip\n",
      "3FO4LQULVDND_Bedroom.zip\n",
      "3FO4LQUH1SMN_Bedroom.zip\n",
      "3FO4LQU8H170_Bedroom.zip\n",
      "3FO4LQU8DE4W_Living_room.zip\n",
      "3FO4LQU8DE4W_Bedroom.zip\n",
      "3FO4LQU6VP7G_Guest_room.zip\n",
      "3FO4LQU6VP7G_Bedroom.zip\n",
      "3FO4LQU6S35D_Bedroom.zip\n",
      "3FO4LQR9CSF4_Bedroom.zip\n",
      "3FO4LQQX3924_Bedroom.zip\n",
      "3FO4LQPVWIPK_Bedroom.zip\n",
      "3FO4LQPPSC7I_Bedroom.zip\n",
      "3FO4LQPMQ8XH_Bedroom.zip\n",
      "3FO4LQPMIYTB_Bedroom.zip\n",
      "3FO4LQPFQE49_Bedroom.zip\n",
      "3FO4LQOA09QQ_Bedroom.zip\n",
      "3FO4LQNLTXPE_Bedroom.zip\n",
      "3FO4LQN751BE_Bedroom.zip\n",
      "3FO4LQLSH203_Bedroom.zip\n",
      "3FO4LQL7BGTL_Bedroom.zip\n",
      "3FO4LQKXS7VE_Bedroom.zip\n",
      "3FO4LQKPU4G8_Bedroom.zip\n",
      "3FO4LQKH5D53_Living_room.zip\n",
      "3FO4LQKH5D53_Dining_room.zip\n",
      "3FO4LQKH5D53_Bedroom.zip\n",
      "3FO4LQKDSSU8_Bedroom.zip\n",
      "3FO4LQJ46D2X_Bedroom.zip\n",
      "3FO4LQITS7JS_Bedroom.zip\n",
      "3FO4LQI6MS6F_Bedroom.zip\n",
      "3FO4LQGHCLVS_Bedroom.zip\n",
      "3FO4LQGHB02B_Living_room.zip\n",
      "3FO4LQGH9TWY_Bedroom.zip\n",
      "3FO4LQGH8I4K_Bedroom.zip\n",
      "3FO4LQGH7GC9_Bedroom.zip\n",
      "3FO4LQGH4V2H_Bedroom.zip\n",
      "3FO4LQGH3TA6_Bedroom.zip\n",
      "3FO4LQGH2HGR_Bedroom.zip\n",
      "3FO4LQGH27FO_Bedroom.zip\n",
      "3FO4LQGGXACI_Bedroom.zip\n",
      "3FO4LQGGPQ79_Bedroom.zip\n",
      "3FO4LQGG1QX3_Bedroom.zip\n",
      "3FO4LQEUD61B_Living_room.zip\n",
      "3FO4LQEUD61B_Bedroom.zip\n",
      "3FO4LQESEXMW_Bedroom.zip\n",
      "3FO4LQBD0UUL_Living_room.zip\n",
      "3FO4LQ9E76T8_Bedroom.zip\n",
      "3FO4LQ7DWUMP_Bedroom.zip\n",
      "3FO4LQ78DMXM_Guest_room.zip\n",
      "3FO4LQ78DMXM_Bedroom.zip\n",
      "3FO4LQ5GO0UQ_Bedroom.zip\n",
      "3FO4LQ3MUJ4R_Bedroom.zip\n",
      "3FO4LQ035BN9_Living_room.zip\n",
      "3FO4LQ035BN9_Bedroom.zip\n",
      "3FO4LPWDJEY2_Bedroom.zip\n",
      "3FO4LPSQ1GWB_Bedroom.zip\n",
      "3FO4LPS29GUH_Bedroom.zip\n",
      "3FO4LPRNU4E4_Bedroom.zip\n",
      "3FO4LPRE42H4_Bedroom.zip\n",
      "3FO4LPR6OHPH_Living_room.zip\n",
      "3FO4LPR6OHPH_Bedroom.zip\n",
      "3FO4LPOSNGID_Bedroom.zip\n",
      "3FO4LPOIUEDR_Living_room.zip\n",
      "3FO4LPOIUEDR_Bedroom.zip\n",
      "3FO4LPNM57JQ_Bedroom.zip\n",
      "3FO4LPNM0SQF_Bedroom.zip\n",
      "3FO4LPNLI1T4_Bedroom.zip\n",
      "3FO4LPNKPW80_Bedroom.zip\n",
      "3FO4LPNKFHQV_Bedroom.zip\n",
      "3FO4KCAB76QQ_Bedroom.zip\n",
      "3FO4K9M5RAG5_Bedroom.zip\n",
      "3FO4JXI2ASME_Guest_room.zip\n",
      "3FO4JW2JSWY8_Guest_room.zip\n",
      "3FO4JUQQD8P3_Bedroom.zip\n",
      "3FO4JTDEHQ5D_Bedroom.zip\n",
      "3FO4JRNUE2OX_Guest_room.zip\n",
      "3FO4JQDBIBCY_Living_room.zip\n",
      "3FO4JPE4WQPN_Living_room.zip\n",
      "3FO4JMJY1D3X_Guest_room.zip\n",
      "3FO4JLDDJTEQ_Guest_room.zip\n",
      "3FO4JJHLYIRV_Bedroom.zip\n",
      "3FO4JHNQGBQI_Bedroom.zip\n",
      "3FO4LPFOXKT9_Bedroom.zip\n",
      "3FO4LP919AJ2_Bedroom.zip\n",
      "3FO4LOXAKCCK_Living_room.zip\n",
      "3FO4LORUSGS6_Bedroom.zip\n",
      "3FO4LOMDRRP7_Bedroom.zip\n",
      "3FO4LOKTB810_Living_room.zip\n",
      "3FO4LOG9E0J1_Guest_room.zip\n",
      "3FO4LOASQ6MD_Bedroom.zip\n",
      "3FO4LO5MK1XW_Bedroom.zip\n",
      "3FO4LO08YMJW_Living_room.zip\n",
      "3FO4LNQOL533_Bedroom.zip\n",
      "3FO4LNDXHSHK_Bedroom.zip\n",
      "3FO4LN67UTXR_Bedroom.zip\n",
      "3FO4LPN4M67E_Bedroom.zip\n",
      "3FO4LPN179VJ_Bedroom.zip\n",
      "3FO4LPMP6VIA_Bedroom.zip\n",
      "3FO4LPMOGUGS_Bedroom.zip\n",
      "3FO4LPM99G6K_Bedroom.zip\n",
      "3FO4LPM0ASVR_Bedroom.zip\n",
      "3FO4LPM08PC5_Bedroom.zip\n",
      "3FO4LPLYVO1J_Bedroom.zip\n",
      "3FO4LPLYNGH3_Bedroom.zip\n",
      "3FO4LPLYDFE3_Bedroom.zip\n",
      "3FO4LPLYD5D0_Living_room.zip\n",
      "3FO4LPLYD5D0_Dining_room.zip\n",
      "3FO4LPLYD5D0_Bedroom.zip\n",
      "3FO4LPLXLUU5_Bedroom.zip\n",
      "3FO4LPLX8OF7_Bedroom.zip\n",
      "3FO4LPJAXOT7_Bedroom.zip\n",
      "3FO4LPJAWD0S_Bedroom.zip\n",
      "3FO4LPJAE11B_Bedroom.zip\n",
      "3FO4LPJ4OCQL_Bedroom.zip\n",
      "3FO4LPJ4ESDQ_Bedroom.zip\n",
      "3FO4LPJ3T2SJ_Bedroom.zip\n",
      "3FO4LPJ3NSVY_Bedroom.zip\n",
      "3FO4LPH43KBN_Bedroom.zip\n",
      "3FO4LPGJ5VH0_Bedroom.zip\n",
      "3FO4LPG94P4Y_Dining_room.zip\n",
      "3FO4LPG94P4Y_Bedroom.zip\n",
      "3FO4LPG4BDKM_Bedroom.zip\n",
      "3FO4LPFQNKN7_Bedroom.zip\n",
      "3FO4LPFOVUMQ_Bedroom.zip\n",
      "3FO4LPFOVAKK_Bedroom.zip\n",
      "3FO4LPFOV0JH_Bedroom.zip\n",
      "3FO4LPEEU6N7_Bedroom.zip\n",
      "3FO4LPCW1VLF_Bedroom.zip\n",
      "3FO4LPCIR7YG_Bedroom.zip\n",
      "3FO4LPCHNC3T_Bedroom.zip\n",
      "3FO4LPBUP8Y4_Bedroom.zip\n",
      "3FO4LPB39XCW_Bedroom.zip\n",
      "3FO4LP91SAWQ_Bedroom.zip\n",
      "3FO4LP91RMIJ_Living_room.zip\n",
      "3FO4LP91RMIJ_Bedroom.zip\n",
      "3FO4LP91QE26_Living_room.zip\n",
      "3FO4LP91QE26_Bedroom.zip\n",
      "3FO4LP910YMK_Bedroom.zip\n",
      "3FO4LP90WPXL_Bedroom.zip\n",
      "3FO4LP90METI_Bedroom.zip\n",
      "3FO4LP90M1GE_Bedroom.zip\n",
      "3FO4LP90IYGH_Living_room.zip\n",
      "3FO4LP90IYGH_Bedroom.zip\n",
      "3FO4LP4731B6_Bedroom.zip\n",
      "3FO4LP3R6LJ8_Bedroom.zip\n",
      "3FO4LP2BE45M_Bedroom.zip\n",
      "3FO4LOYN08O0_Bedroom.zip\n",
      "3FO4LOXAQGCE_Living_room.zip\n",
      "3FO4LOXAQGCE_Bedroom.zip\n",
      "3FO4LOXANB0G_Bedroom.zip\n",
      "3FO4LOXAN0YD_Bedroom.zip\n",
      "3FO4LOXAKCCK_Bedroom.zip\n",
      "3FO4LOX0P3BB_Living_room.zip\n",
      "3FO4LOX0P3BB_Bedroom.zip\n",
      "3FO4LOX0IE9B_Bedroom.zip\n",
      "3FO4LOX0GAOO_Living_room.zip\n",
      "3FO4LOX0GAOO_Bedroom.zip\n",
      "3FO4LOX06JMR_Guest_room.zip\n",
      "3FO4LOX06JMR_Bedroom.zip\n",
      "3FO4LOX03KYV_Living_room.zip\n",
      "3FO4LOX03KYV_Dining_room.zip\n",
      "3FO4LOX03KYV_Bedroom.zip\n",
      "3FO4LOWYQ2Y5_Bedroom.zip\n",
      "3FO4LOWL7F1H_Living_room.zip\n",
      "3FO4LOWL7F1H_Bedroom.zip\n",
      "3FO4LOPNYKR0_Bedroom.zip\n",
      "3FO4LONS6N69_Bedroom.zip\n",
      "3FO4LOMEV06M_Bedroom.zip\n",
      "3FO4LOMEUF4G_Bedroom.zip\n",
      "3FO4LOMETU2A_Bedroom.zip\n",
      "3FO4LOMERQHN_Bedroom.zip\n",
      "3FO4LOMEMYB8_Living_room.zip\n",
      "3FO4LOMEMYB8_Bedroom.zip\n",
      "3FO4LOMEDSBH_Bedroom.zip\n",
      "3FO4LOMED1K9_Bedroom.zip\n",
      "3FO4LOMEAQBK_Bedroom.zip\n",
      "3FO4LOME89DT_Living_room.zip\n",
      "3FO4LOME89DT_Dining_room.zip\n",
      "3FO4LOMDRRP7_Living_room.zip\n",
      "3FO4LOLP73C9_Bedroom.zip\n",
      "3FO4LOLORQRY_Bedroom.zip\n",
      "3FO4LOLOOOS2_Bedroom.zip\n",
      "3FO4LOLOKV1W_Bedroom.zip\n",
      "3FO4LOLOHCBU_Living_room.zip\n",
      "3FO4LOLOHCBU_Dining_room.zip\n",
      "3FO4LOLODSLS_Guest_room.zip\n",
      "3FO4LOLODSLS_Bedroom.zip\n",
      "3FO4LOLO5RQE_Bedroom.zip\n",
      "3FO4LOLO2WFJ_Bedroom.zip\n",
      "3FO4LOLNYXRN_Bedroom.zip\n",
      "3FO4LOLNW04R_Bedroom.zip\n",
      "3FO4LOLCM2DN_Living_room.zip\n",
      "3FO4LOKXWKH9_Bedroom.zip\n",
      "3FO4LOKTB810_Guest_room.zip\n",
      "3FO4LOKTB810_Dining_room.zip\n",
      "3FO4LOKTB810_Bedroom.zip\n",
      "3FO4LOKRJYPO_Bedroom.zip\n",
      "3FO4LOKRH4ET_Bedroom.zip\n",
      "3FO4LOKRG2MI_Bedroom.zip\n",
      "3FO4LOJOOQAC_Bedroom.zip\n",
      "3FO4LOIEYVWC_Bedroom.zip\n",
      "3FO4LOG9HJ93_Bedroom.zip\n",
      "3FO4LOG9HCK1_Bedroom.zip\n",
      "3FO4LOG9GUTV_Bedroom.zip\n",
      "3FO4LOG9G0QM_Bedroom.zip\n",
      "3FO4LOG9FCCF_Living_room.zip\n",
      "3FO4LOG9FCCF_Bedroom.zip\n",
      "3FO4LOG9E0J1_Bedroom.zip\n",
      "3FO4LOG9CR2N_Guest_room.zip\n",
      "3FO4LOG9CR2N_Bedroom.zip\n",
      "3FO4LOG991NJ_Guest_room.zip\n",
      "3FO4LOG991NJ_Bedroom.zip\n",
      "3FO4LOG98GLD_Bedroom.zip\n",
      "3FO4LOG8W3OY_Bedroom.zip\n",
      "3FO4LOG8V1WN_Living_room.zip\n",
      "3FO4LOG8V1WN_Bedroom.zip\n",
      "3FO4LOG8K93F_Bedroom.zip\n",
      "3FO4LOET0CYK_Bedroom.zip\n",
      "3FO4LOCPPR2K_Living_room.zip\n",
      "3FO4LOCPPR2K_Bedroom.zip\n",
      "3FO4LOB6EMY0_Bedroom.zip\n",
      "3FO4LOA3HAY1_Living_room.zip\n",
      "3FO4LOA3HAY1_Bedroom.zip\n",
      "3FO4LOA0HHXO_Bedroom.zip\n",
      "3FO4LO9VGECH_Bedroom.zip\n",
      "3FO4LO9U84NJ_Dining_room.zip\n",
      "3FO4LO9U84NJ_Bedroom.zip\n",
      "3FO4LO81HS9I_Living_room.zip\n",
      "3FO4LO81HS9I_Bedroom.zip\n",
      "3FO4LO786Q04_Bedroom.zip\n",
      "3FO4LO780BY7_Bedroom.zip\n",
      "3FO4LO75PDBA_Bedroom.zip\n",
      "3FO4LO75GANK_Bedroom.zip\n",
      "3FO4LO6X1CIT_Bedroom.zip\n",
      "3FO4LO5S91TF_Bedroom.zip\n",
      "3FO4LO5MHDC4_Bedroom.zip\n",
      "3FO4LO5MFJSK_Living_room.zip\n",
      "3FO4LO5MFJSK_Bedroom.zip\n",
      "3FO4LO5MF33F_Bedroom.zip\n",
      "3FO4LO5M7WBA_Bedroom.zip\n",
      "3FO4LO5M43K5_Bedroom.zip\n",
      "3FO4LO5M3VV3_Bedroom.zip\n",
      "3FO4LO5JUU3Q_Bedroom.zip\n",
      "3FO4LO24S57T_Bedroom.zip\n",
      "3FO4LO121PIM_Guest_room.zip\n",
      "3FO4LO121PIM_Bedroom.zip\n",
      "3FO4LO0HGX2T_Bedroom.zip\n",
      "3FO4LO0FIPOF_Dining_room.zip\n",
      "3FO4LO0FIPOF_Bedroom.zip\n",
      "3FO4LNYETIST_Bedroom.zip\n",
      "3FO4LNY0QR5G_Bedroom.zip\n",
      "3FO4LNXN7LA4_Bedroom.zip\n",
      "3FO4LNXMLRCV_Bedroom.zip\n",
      "3FO4LNXC4MM3_Bedroom.zip\n",
      "3FO4LNWRE4JK_Bedroom.zip\n",
      "3FO4LNVPMQYU_Living_room.zip\n",
      "3FO4LNVPMQYU_Guest_room.zip\n",
      "3FO4LNVPMQYU_Bedroom.zip\n",
      "3FO4LNVIRV14_Bedroom.zip\n",
      "3FO4LNU0OD7A_Bedroom.zip\n",
      "3FO4LNS9V66S_Living_room.zip\n",
      "3FO4LNS9V66S_Bedroom.zip\n",
      "3FO4LNQORPS2_Bedroom.zip\n",
      "3FO4LNP2QN33_Bedroom.zip\n",
      "3FO4LNMOU7DC_Bedroom.zip\n",
      "3FO4LNLAQN1D_Living_room.zip\n",
      "3FO4LNLAQN1D_Dining_room.zip\n",
      "3FO4LNKXQ7IM_Living_room.zip\n",
      "3FO4LNKS4V9W_Bedroom.zip\n",
      "3FO4LNK66I44_Bedroom.zip\n",
      "3FO4LNJMYKTM_Bedroom.zip\n",
      "3FO4LNGM8P9S_Living_room.zip\n",
      "3FO4LNFRW7HS_Dining_room.zip\n",
      "3FO4LNFI8PUK_Bedroom.zip\n",
      "3FO4LNEP9I7P_Bedroom.zip\n",
      "3FO4LNDYB9W3_Bedroom.zip\n",
      "3FO4LNDXHSHK_Living_room.zip\n",
      "3FO4LNDXC67V_Bedroom.zip\n",
      "3FO4LNDWN3LO_Guest_room.zip\n",
      "3FO4LNDWN3LO_Bedroom.zip\n",
      "3FO4LNDOPXLS_Bedroom.zip\n",
      "3FO4LN9F878T_Bedroom.zip\n",
      "3FO4LN9BNSRM_Bedroom.zip\n",
      "3FO4LN683RH5_Bedroom.zip\n",
      "3FO4LN6808R3_Bedroom.zip\n",
      "3FO4LN67YNOW_Bedroom.zip\n",
      "3FO4LN67YH0U_Living_room.zip\n",
      "3FO4LN67YH0U_Bedroom.zip\n",
      "3FO4LN67WU6D_Bedroom.zip\n",
      "3FO4LN67VVQ3_Living_room.zip\n",
      "3FO4LN67VVQ3_Bedroom.zip\n",
      "3FO4LMI0P1LE_Living_room.zip\n",
      "3FO4LM3WA2DF_Guest_room.zip\n",
      "3FO4LLSSIPLI_Guest_room.zip\n",
      "3FO4LLHHJH7L_Bedroom.zip\n",
      "3FO4LLCKY8VL_Bedroom.zip\n",
      "3FO4LL9DD7BX_Bedroom.zip\n",
      "3FO4LL54CJH3_Bedroom.zip\n",
      "3FO4LKPMR0ED_Living_room.zip\n",
      "3FO4L7DCQNJT_Guest_room.zip\n",
      "3FO4KDDT1Q2C_Bedroom.zip\n",
      "3FO4KD16PW5G_Bedroom.zip\n",
      "3FO4KCT5H5XT_Bedroom.zip\n",
      "3FO4KCFRIBID_Bedroom.zip\n",
      "3FO4LN67TVIH_Bedroom.zip\n",
      "3FO4LN67T84A_Bedroom.zip\n",
      "3FO4LN67EOUX_Bedroom.zip\n",
      "3FO4LN67E4SR_Bedroom.zip\n",
      "3FO4LN67BG6Y_Bedroom.zip\n",
      "3FO4LN677T4V_Living_room.zip\n",
      "3FO4LN677T4V_Bedroom.zip\n",
      "3FO4LN67792P_Bedroom.zip\n",
      "3FO4LN66RWIF_Bedroom.zip\n",
      "3FO4LN4L93S3_Bedroom.zip\n",
      "3FO4LN4FSS76_Bedroom.zip\n",
      "3FO4LN4D6S8N_Bedroom.zip\n",
      "3FO4LN402055_Bedroom.zip\n",
      "3FO4LN3MTKJB_Bedroom.zip\n",
      "3FO4LN36UBO2_Bedroom.zip\n",
      "3FO4LN1N02M8_Bedroom.zip\n",
      "3FO4LN0M1YRY_Bedroom.zip\n",
      "3FO4LN090IPG_Bedroom.zip\n",
      "3FO4LMWCVAMY_Dining_room.zip\n",
      "3FO4LMW5IJEV_Bedroom.zip\n",
      "3FO4LMW27051_Bedroom.zip\n",
      "3FO4LMVR9T87_Bedroom.zip\n",
      "3FO4LMVQ4VK9_Bedroom.zip\n",
      "3FO4LMURG7BQ_Bedroom.zip\n",
      "3FO4LMSD2OBF_Bedroom.zip\n",
      "3FO4LMS500DV_Bedroom.zip\n",
      "3FO4LMKLL7KS_Bedroom.zip\n",
      "3FO4LMKGOWDK_Bedroom.zip\n",
      "3FO4LMI0P1LE_Bedroom.zip\n",
      "3FO4LMFUULF0_Bedroom.zip\n",
      "3FO4LMCUBI97_Bedroom.zip\n",
      "3FO4LMCT1IDQ_Bedroom.zip\n",
      "3FO4LMAJFU7M_Living_room.zip\n",
      "3FO4LMAJFU7M_Bedroom.zip\n",
      "3FO4LM9R5F4V_Living_room.zip\n",
      "3FO4LM9E8MVR_Bedroom.zip\n",
      "3FO4LM8LSWCQ_Bedroom.zip\n",
      "3FO4LM6OGC6N_Bedroom.zip\n",
      "3FO4LM6O0NSY_Bedroom.zip\n",
      "3FO4LM578V24_Bedroom.zip\n",
      "3FO4LM4VKMBH_Bedroom.zip\n",
      "3FO4LM3WQO6E_Bedroom.zip\n",
      "3FO4LM3WA2DF_Bedroom.zip\n",
      "3FO4LM3W73PJ_Bedroom.zip\n",
      "3FO4LM3HR0PH_Bedroom.zip\n",
      "3FO4LM2PA6LT_Bedroom.zip\n",
      "3FO4LLXQHUV5_Bedroom.zip\n",
      "3FO4LLWAM4SK_Bedroom.zip\n",
      "3FO4LLSYNXVV_Bedroom.zip\n",
      "3FO4LLSYKIIU_Bedroom.zip\n",
      "3FO4LLSY9T1N_Bedroom.zip\n",
      "3FO4LLSY7FFX_Bedroom.zip\n",
      "3FO4LLSY5BVB_Bedroom.zip\n",
      "3FO4LLST5S04_Living_room.zip\n",
      "3FO4LLST5S04_Guest_room.zip\n",
      "3FO4LLST5S04_Bedroom.zip\n",
      "3FO4LLSSIPLI_Bedroom.zip\n",
      "3FO4LLSL9ORJ_Bedroom.zip\n",
      "3FO4LLRUPVD8_Bedroom.zip\n",
      "3FO4LLQ2OMKE_Living_room.zip\n",
      "3FO4LLQ2B9GE_Bedroom.zip\n",
      "3FO4LLQ1RJ3S_Bedroom.zip\n",
      "3FO4LLL39QSL_Living_room.zip\n",
      "3FO4LLL39QSL_Bedroom.zip\n",
      "3FO4LLJFJ1F9_Living_room.zip\n",
      "3FO4LLJFJ1F9_Bedroom.zip\n",
      "3FO4LLJCFI0S_Bedroom.zip\n",
      "3FO4LLHHJH7L_Living_room.zip\n",
      "3FO4LLHHJH7L_Guest_room.zip\n",
      "3FO4LLHHJH7L_Dining_room.zip\n",
      "3FO4LLH8D7FI_Guest_room.zip\n",
      "3FO4LLH8D7FI_Bedroom.zip\n",
      "3FO4LLH4BC33_Bedroom.zip\n",
      "3FO4LLH2ME1G_Bedroom.zip\n",
      "3FO4LLH2JM2M_Bedroom.zip\n",
      "3FO4LLCWNI70_Living_room.zip\n",
      "3FO4LLCWNI70_Bedroom.zip\n",
      "3FO4LLCW8YXN_Bedroom.zip\n",
      "3FO4LLCSYWLJ_Bedroom.zip\n",
      "3FO4LLCSTUE1_Bedroom.zip\n",
      "3FO4LLCSPD8O_Bedroom.zip\n",
      "3FO4LLCSIHHM_Bedroom.zip\n",
      "3FO4LLCSEH2F_Bedroom.zip\n",
      "3FO4LLCS8TRQ_Bedroom.zip\n",
      "3FO4LLCJRB12_Bedroom.zip\n",
      "3FO4LLCIQR6F_Bedroom.zip\n",
      "3FO4LLCE7EWR_Bedroom.zip\n",
      "3FO4LLBXKHE7_Living_room.zip\n",
      "3FO4LLBXKHE7_Dining_room.zip\n",
      "3FO4LLBXKHE7_Bedroom.zip\n",
      "3FO4LLBT6E24_Living_room.zip\n",
      "3FO4LLBT6E24_Dining_room.zip\n",
      "3FO4LLBT6E24_Bedroom.zip\n",
      "3FO4LLBR4WYQ_Bedroom.zip\n",
      "3FO4LLB3BV5L_Guest_room.zip\n",
      "3FO4LLB3BV5L_Bedroom.zip\n",
      "3FO4LLATGRKU_Living_room.zip\n",
      "3FO4LLATGRKU_Dining_room.zip\n",
      "3FO4LL86SBIT_Bedroom.zip\n",
      "3FO4LL7GL620_Bedroom.zip\n",
      "3FO4LL7ATKVP_Bedroom.zip\n",
      "3FO4LL72E3WC_Living_room.zip\n",
      "3FO4LL72E3WC_Dining_room.zip\n",
      "3FO4LL72E3WC_Bedroom.zip\n",
      "3FO4LL712UKI_Bedroom.zip\n",
      "3FO4LL6J4I12_Bedroom.zip\n",
      "3FO4LL61OINM_Bedroom.zip\n",
      "3FO4LL5T5NFP_Bedroom.zip\n",
      "3FO4LL5S9SFH_Bedroom.zip\n",
      "3FO4LL5CSLIM_Bedroom.zip\n",
      "3FO4LL5BYQQ0_Bedroom.zip\n",
      "3FO4LL5BXYYR_Bedroom.zip\n",
      "3FO4LL520NXL_Bedroom.zip\n",
      "3FO4LL4OFCXW_Living_room.zip\n",
      "3FO4LL4OFCXW_Bedroom.zip\n",
      "3FO4LL21YJE6_Bedroom.zip\n",
      "3FO4LL1ODXDE_Bedroom.zip\n",
      "3FO4LL0VUY5E_Bedroom.zip\n",
      "3FO4LL0VP1TM_Bedroom.zip\n",
      "3FO4LL0VH4B9_Bedroom.zip\n",
      "3FO4LL07GLNV_Bedroom.zip\n",
      "3FO4LKY9JUCF_Bedroom.zip\n",
      "3FO4LKY9GBMD_Bedroom.zip\n",
      "3FO4LKRQK8BX_Bedroom.zip\n",
      "3FO4LKQ3U9OT_Bedroom.zip\n",
      "3FO4LKPNFVBI_Living_room.zip\n",
      "3FO4LKPMC0FV_Living_room.zip\n",
      "3FO4LKPLV224_Living_room.zip\n",
      "3FO4LKPLI5N9_Living_room.zip\n",
      "3FO4LKPKSVD0_Living_room.zip\n",
      "3FO4LKP9YBXH_Bedroom.zip\n",
      "3FO4LKP87F8Y_Guest_room.zip\n",
      "3FO4LKP87F8Y_Bedroom.zip\n",
      "3FO4LKN1I1D5_Bedroom.zip\n",
      "3FO4LKM835CL_Bedroom.zip\n",
      "3FO4LKJN6D3H_Bedroom.zip\n",
      "3FO4LKJFQ4WN_Bedroom.zip\n",
      "3FO4LKJCKYNP_Bedroom.zip\n",
      "3FO4L7L9TTWA_Bedroom.zip\n",
      "3FO4L7J0FHF2_Bedroom.zip\n",
      "3FO4L7DCQNJT_Bedroom.zip\n",
      "3FO4L7CLMVBJ_Bedroom.zip\n",
      "3FO4L7CFBWEG_Bedroom.zip\n",
      "3FO4L787GDVL_Bedroom.zip\n",
      "3FO4L77GB6HV_Bedroom.zip\n",
      "3FO4L76P28P2_Bedroom.zip\n",
      "3FO4L73PG7G5_Guest_room.zip\n",
      "3FO4L73PG7G5_Bedroom.zip\n",
      "3FO4KI3LMLST_Bedroom.zip\n",
      "3FO4KHH5DJ70_Bedroom.zip\n",
      "3FO4KHCUHOQ4_Bedroom.zip\n",
      "3FO4KHCIV42I_Bedroom.zip\n",
      "3FO4KHC98O7L_Living_room.zip\n",
      "3FO4KHC98O7L_Bedroom.zip\n",
      "3FO4KDDSLQ3U_Living_room.zip\n",
      "3FO4KDD97E8O_Living_room.zip\n",
      "3FO4KDD97E8O_Dining_room.zip\n",
      "3FO4KDD97E8O_Bedroom.zip\n",
      "3FO4KDD6X0MX_Bedroom.zip\n",
      "3FO4KDCSGTN1_Living_room.zip\n",
      "3FO4KD6OLYII_Bedroom.zip\n",
      "3FO4KD65XST6_Bedroom.zip\n",
      "3FO4KD5C1PXH_Bedroom.zip\n",
      "3FO4KD5BUPAO_Bedroom.zip\n",
      "3FO4KD5A4H0D_Bedroom.zip\n",
      "3FO4KD1SSKRJ_Living_room.zip\n",
      "3FO4KD1SSKRJ_Bedroom.zip\n",
      "3FO4KD172A1U_Bedroom.zip\n",
      "3FO4KD161Q78_Bedroom.zip\n",
      "3FO4KD0K5FDI_Bedroom.zip\n",
      "3FO4KD0F1OD2_Bedroom.zip\n",
      "3FO4KCX9XTX5_Bedroom.zip\n",
      "3FO4KCVAUOUX_Bedroom.zip\n",
      "3FO4KCV6ARK4_Living_room.zip\n",
      "3FO4KCV6ARK4_Dining_room.zip\n",
      "3FO4KCV6ARK4_Bedroom.zip\n",
      "3FO4KCV69T4T_Bedroom.zip\n",
      "3FO4KCURG546_Bedroom.zip\n",
      "3FO4KCTK2HUG_Bedroom.zip\n",
      "3FO4KCT5W99C_Bedroom.zip\n",
      "3FO4KCT5J2TE_Bedroom.zip\n",
      "3FO4KCT5HFYW_Bedroom.zip\n",
      "3FO4KCT5AA7R_Bedroom.zip\n",
      "3FO4KCT58U2C_Bedroom.zip\n",
      "3FO4KCT51OA7_Bedroom.zip\n",
      "3FO4KCT4XC97_Bedroom.zip\n",
      "3FO4KCT4UXNH_Bedroom.zip\n",
      "3FO4KCP3KNEH_Bedroom.zip\n",
      "3FO4KCNGHR5Y_Bedroom.zip\n",
      "3FO4KCLN9JA2_Bedroom.zip\n",
      "3FO4KCL5OL25_Bedroom.zip\n",
      "3FO4KCKQATUH_Bedroom.zip\n",
      "3FO4KCKM327A_Bedroom.zip\n",
      "3FO4KCJOYKLA_Bedroom.zip\n",
      "3FO4KCJNGQJH_Bedroom.zip\n",
      "3FO4KCIK27OD_Bedroom.zip\n",
      "3FO4KC1H8TOR_Living_room.zip\n",
      "3FO4KBLQI9BC_Bedroom.zip\n",
      "3FO4KBBOB3EM_Dining_room.zip\n",
      "3FO4KB6A4QQD_Guest_room.zip\n",
      "3FO4KB4H0MMO_Bedroom.zip\n",
      "3FO4KB23J83Y_Bedroom.zip\n",
      "3FO4KAULSJ6M_Guest_room.zip\n",
      "3FO4KATCN3KF_Living_room.zip\n",
      "3FO4KAJ19MVM_Guest_room.zip\n",
      "3FO4KAE0C844_Bedroom.zip\n",
      "3FO4KA8JYLYI_Guest_room.zip\n",
      "3FO4KA1AVYGY_Bedroom.zip\n",
      "3FO4K9TBUSCJ_Bedroom.zip\n",
      "3FO4KCE8TGHG_Bedroom.zip\n",
      "3FO4KCCBF2RT_Dining_room.zip\n",
      "3FO4KCCBF2RT_Bedroom.zip\n",
      "3FO4KCC9B4RP_Bedroom.zip\n",
      "3FO4KCC9379C_Dining_room.zip\n",
      "3FO4KCC9379C_Bedroom.zip\n",
      "3FO4KCB9WL6R_Bedroom.zip\n",
      "3FO4KCAD5E55_Living_room.zip\n",
      "3FO4KCACWXBW_Living_room.zip\n",
      "3FO4KCACWXBW_Dining_room.zip\n",
      "3FO4KCACUX4B_Bedroom.zip\n",
      "3FO4KCABWL6C_Bedroom.zip\n",
      "3FO4KCABTCHD_Bedroom.zip\n",
      "3FO4KCABSO36_Bedroom.zip\n",
      "3FO4KCAA6G82_Bedroom.zip\n",
      "3FO4KC8R9J47_Bedroom.zip\n",
      "3FO4KC8HEDEY_Bedroom.zip\n",
      "3FO4KC2AK3N8_Bedroom.zip\n",
      "3FO4KC1S8JNT_Bedroom.zip\n",
      "3FO4KC1S7B7G_Bedroom.zip\n",
      "3FO4KC1RUGKW_Bedroom.zip\n",
      "3FO4KC1QYS9Q_Bedroom.zip\n",
      "3FO4KC1MP3PY_Bedroom.zip\n",
      "3FO4KC1IDRCP_Living_room.zip\n",
      "3FO4KC1IDRCP_Dining_room.zip\n",
      "3FO4KC1IDRCP_Bedroom.zip\n",
      "3FO4KC1HF5DN_Bedroom.zip\n",
      "3FO4KC1HCDET_Bedroom.zip\n",
      "3FO4KC1H8TOR_Dining_room.zip\n",
      "3FO4KC1H8TOR_Bedroom.zip\n",
      "3FO4KC0X8G0R_Bedroom.zip\n",
      "3FO4KC0SF7SG_Bedroom.zip\n",
      "3FO4KBYFLQNY_Bedroom.zip\n",
      "3FO4KBXGB3DV_Bedroom.zip\n",
      "3FO4KBUJ5D1H_Bedroom.zip\n",
      "3FO4KBSLNE23_Bedroom.zip\n",
      "3FO4KBRD74E4_Bedroom.zip\n",
      "3FO4KBRCYXLY_Bedroom.zip\n",
      "3FO4KBN7G3XJ_Bedroom.zip\n",
      "3FO4KBM1PQC9_Bedroom.zip\n",
      "3FO4KBLU6QJR_Bedroom.zip\n",
      "3FO4KBLQI9BC_Living_room.zip\n",
      "3FO4KBKSGPSG_Bedroom.zip\n",
      "3FO4KBI5PYHQ_Living_room.zip\n",
      "3FO4KBI5PYHQ_Bedroom.zip\n",
      "3FO4KBGEEITS_Bedroom.zip\n",
      "3FO4KBF0OPYX_Guest_room.zip\n",
      "3FO4KBF0OPYX_Bedroom.zip\n",
      "3FO4KBC4WMK3_Bedroom.zip\n",
      "3FO4KBBQNCB8_Bedroom.zip\n",
      "3FO4KBBPANSY_Bedroom.zip\n",
      "3FO4KBBP4D53_Guest_room.zip\n",
      "3FO4KBBP4D53_Bedroom.zip\n",
      "3FO4KBBOSGXT_Guest_room.zip\n",
      "3FO4KBBOSGXT_Bedroom.zip\n",
      "3FO4KBBOB3EM_Guest_room.zip\n",
      "3FO4KBBOB3EM_Bedroom.zip\n",
      "3FO4KB96UH5A_Guest_room.zip\n",
      "3FO4KB96UH5A_Dining_room.zip\n",
      "3FO4KB96UH5A_Bedroom.zip\n",
      "3FO4KB93D3VO_Guest_room.zip\n",
      "3FO4KB93D3VO_Bedroom.zip\n",
      "3FO4KB93BUFB_Bedroom.zip\n",
      "3FO4KB800A83_Guest_room.zip\n",
      "3FO4KB800A83_Bedroom.zip\n",
      "3FO4KB6L3LM6_Guest_room.zip\n",
      "3FO4KB6L3LM6_Bedroom.zip\n",
      "3FO4KB6DEHHO_Bedroom.zip\n",
      "3FO4KB6A51RG_Guest_room.zip\n",
      "3FO4KB6A51RG_Bedroom.zip\n",
      "3FO4KB6A4QQD_Bedroom.zip\n",
      "3FO4KB5U1WXI_Guest_room.zip\n",
      "3FO4KB5U1WXI_Bedroom.zip\n",
      "3FO4KB54WJFI_Guest_room.zip\n",
      "3FO4KB54WJFI_Bedroom.zip\n",
      "3FO4KB54VROA_Guest_room.zip\n",
      "3FO4KB54VROA_Bedroom.zip\n",
      "3FO4KB54G7NM_Bedroom.zip\n",
      "3FO4KB54ERI7_Guest_room.zip\n",
      "3FO4KB54ERI7_Bedroom.zip\n",
      "3FO4KB54CXYN_Guest_room.zip\n",
      "3FO4KB54CXYN_Bedroom.zip\n",
      "3FO4KB4I2IAP_Bedroom.zip\n",
      "3FO4KB4H0MMO_Guest_room.zip\n",
      "3FO4KB44GGRC_Living_room.zip\n",
      "3FO4KB44GGRC_Guest_room.zip\n",
      "3FO4KB44GGRC_Bedroom.zip\n",
      "3FO4KB3WFU6V_Guest_room.zip\n",
      "3FO4KB3WFU6V_Bedroom.zip\n",
      "3FO4KB3Q9021_Bedroom.zip\n",
      "3FO4KB3OCRV8_Living_room.zip\n",
      "3FO4KB3MRK8P_Bedroom.zip\n",
      "3FO4KB3LHR2B_Living_room.zip\n",
      "3FO4KB3LHR2B_Guest_room.zip\n",
      "3FO4KB3LHR2B_Dining_room.zip\n",
      "3FO4KB3LHR2B_Bedroom.zip\n",
      "3FO4KB2NNOCN_Guest_room.zip\n",
      "3FO4KB2NNOCN_Bedroom.zip\n",
      "3FO4KB0P14B4_Guest_room.zip\n",
      "3FO4KB0P14B4_Bedroom.zip\n",
      "3FO4KB0OXT2F_Guest_room.zip\n",
      "3FO4KB0OXT2F_Bedroom.zip\n",
      "3FO4KB0OWH91_Bedroom.zip\n",
      "3FO4KAYYFE18_Bedroom.zip\n",
      "3FO4KAY5O8GB_Guest_room.zip\n",
      "3FO4KAY5O8GB_Bedroom.zip\n",
      "3FO4KAXVOJE7_Bedroom.zip\n",
      "3FO4KAW68DOB_Guest_room.zip\n",
      "3FO4KAW68DOB_Bedroom.zip\n",
      "3FO4KAV4M003_Bedroom.zip\n",
      "3FO4KAV4L4VT_Guest_room.zip\n",
      "3FO4KAV4L4VT_Bedroom.zip\n",
      "3FO4KAULSJ6M_Bedroom.zip\n",
      "3FO4KAU8CGIQ_Guest_room.zip\n",
      "3FO4KAU8CGIQ_Bedroom.zip\n",
      "3FO4KATYTE9L_Guest_room.zip\n",
      "3FO4KATYTE9L_Bedroom.zip\n",
      "3FO4KATY2N1L_Guest_room.zip\n",
      "3FO4KATY2N1L_Bedroom.zip\n",
      "3FO4KATXK65D_Guest_room.zip\n",
      "3FO4KATXK65D_Bedroom.zip\n",
      "3FO4KATXGPRC_Bedroom.zip\n",
      "3FO4KATWP9KF_Guest_room.zip\n",
      "3FO4KATWP9KF_Bedroom.zip\n",
      "3FO4KATWNQ2Y_Guest_room.zip\n",
      "3FO4KATWNQ2Y_Bedroom.zip\n",
      "3FO4KATCN3KF_Guest_room.zip\n",
      "3FO4KATCN3KF_Bedroom.zip\n",
      "3FO4KAT75L2U_Guest_room.zip\n",
      "3FO4KAT75L2U_Bedroom.zip\n",
      "3FO4KAS9OI43_Bedroom.zip\n",
      "3FO4KARH7RCG_Guest_room.zip\n",
      "3FO4KARH7RCG_Dining_room.zip\n",
      "3FO4KARH7RCG_Bedroom.zip\n",
      "3FO4KAP1VO5E_Bedroom.zip\n",
      "3FO4KAMFUFXH_Bedroom.zip\n",
      "3FO4KAJXCMRH_Guest_room.zip\n",
      "3FO4KAJXCMRH_Bedroom.zip\n",
      "3FO4KAJW3OOC_Guest_room.zip\n",
      "3FO4KAJW3OOC_Bedroom.zip\n",
      "3FO4KAJ19MVM_Bedroom.zip\n",
      "3FO4KAJ18YHF_Bedroom.zip\n",
      "3FO4KAIG2S28_Guest_room.zip\n",
      "3FO4KAIG2S28_Bedroom.zip\n",
      "3FO4KAHT8M0O_Bedroom.zip\n",
      "3FO4KAHGKJ26_Bedroom.zip\n",
      "3FO4KAF92XRW_Guest_room.zip\n",
      "3FO4KAF92XRW_Bedroom.zip\n",
      "3FO4KAF40JKU_Guest_room.zip\n",
      "3FO4KAF40JKU_Bedroom.zip\n",
      "3FO4KAEHRKTN_Guest_room.zip\n",
      "3FO4KAEHRKTN_Bedroom.zip\n",
      "3FO4KAE2JBG6_Bedroom.zip\n",
      "3FO4KAE0C844_Guest_room.zip\n",
      "3FO4KACCYY6S_Bedroom.zip\n",
      "3FO4KABVLDR9_Guest_room.zip\n",
      "3FO4KABVLDR9_Bedroom.zip\n",
      "3FO4KAAX6XUI_Guest_room.zip\n",
      "3FO4KAAX6XUI_Bedroom.zip\n",
      "3FO4KAAJW3JH_Bedroom.zip\n",
      "3FO4KAAJUXF5_Guest_room.zip\n",
      "3FO4KAAJUXF5_Bedroom.zip\n",
      "3FO4KAACOV92_Guest_room.zip\n",
      "3FO4KAACOV92_Bedroom.zip\n",
      "3FO4KAA67VO6_Guest_room.zip\n",
      "3FO4KAA67VO6_Bedroom.zip\n",
      "3FO4KA94JRSF_Guest_room.zip\n",
      "3FO4KA94JRSF_Bedroom.zip\n",
      "3FO4KA8JYLYI_Bedroom.zip\n",
      "3FO4KA7M7Q6I_Guest_room.zip\n",
      "3FO4KA7M7Q6I_Bedroom.zip\n",
      "3FO4KA7FMVAR_Bedroom.zip\n",
      "3FO4KA6S42KU_Living_room.zip\n",
      "3FO4KA6S42KU_Guest_room.zip\n",
      "3FO4KA6S42KU_Bedroom.zip\n",
      "3FO4KA1LKEVN_Guest_room.zip\n",
      "3FO4KA1LKEVN_Bedroom.zip\n",
      "3FO4KA1F5IVE_Guest_room.zip\n",
      "3FO4KA1F5IVE_Bedroom.zip\n",
      "3FO4KA1AWG74_Guest_room.zip\n",
      "3FO4KA1AWG74_Bedroom.zip\n",
      "3FO4KA1AVYGY_Guest_room.zip\n",
      "3FO4KA1A9M2A_Guest_room.zip\n",
      "3FO4KA1A9M2A_Bedroom.zip\n",
      "3FO4KA15XKP4_Guest_room.zip\n",
      "3FO4KA15XKP4_Bedroom.zip\n",
      "3FO4KA0BHY5V_Guest_room.zip\n",
      "3FO4KA0BHY5V_Bedroom.zip\n",
      "3FO4K9YC0BRP_Guest_room.zip\n",
      "3FO4K9YC0BRP_Bedroom.zip\n",
      "3FO4K9W11P39_Living_room.zip\n",
      "3FO4K9W11P39_Bedroom.zip\n",
      "3FO4K9VFO4M5_Living_room.zip\n",
      "3FO4K9VFO4M5_Guest_room.zip\n",
      "3FO4K9VFO4M5_Dining_room.zip\n",
      "3FO4K9VFO4M5_Bedroom.zip\n",
      "3FO4K9BL11ER_Bedroom.zip\n",
      "3FO4K90H7K5U_Guest_room.zip\n",
      "3FO4K8S8DIKV_Guest_room.zip\n",
      "3FO4JYCSILDF_Guest_room.zip\n",
      "3FO4JY97QS9Y_Bedroom.zip\n",
      "3FO4JY4GNY4I_Guest_room.zip\n",
      "3FO4JY37B624_Guest_room.zip\n",
      "3FO4JXX9Q2AO_Guest_room.zip\n",
      "3FO4JXV9GWS8_Guest_room.zip\n",
      "3FO4JXSBWTBT_Bedroom.zip\n",
      "3FO4JXPYP2U6_Guest_room.zip\n",
      "3FO4JXLPHPXB_Bedroom.zip\n",
      "3FO4JXIEM1YD_Guest_room.zip\n",
      "3FO4K9SH1PCA_Bedroom.zip\n",
      "3FO4K9S71USN_Guest_room.zip\n",
      "3FO4K9S71USN_Bedroom.zip\n",
      "3FO4K9PIFCTQ_Living_room.zip\n",
      "3FO4K9PIFCTQ_Dining_room.zip\n",
      "3FO4K9PIFCTQ_Bedroom.zip\n",
      "3FO4K9PIDTCA_Bedroom.zip\n",
      "3FO4K9P972U2_Guest_room.zip\n",
      "3FO4K9P972U2_Bedroom.zip\n",
      "3FO4K9OUHUYQ_Guest_room.zip\n",
      "3FO4K9OUHUYQ_Bedroom.zip\n",
      "3FO4K9OSX52D_Guest_room.zip\n",
      "3FO4K9OSX52D_Bedroom.zip\n",
      "3FO4K9M5RAG5_Guest_room.zip\n",
      "3FO4K9JMAXN4_Guest_room.zip\n",
      "3FO4K9JMAXN4_Bedroom.zip\n",
      "3FO4K9IRH5NX_Guest_room.zip\n",
      "3FO4K9IRH5NX_Bedroom.zip\n",
      "3FO4K9IJVA8F_Bedroom.zip\n",
      "3FO4K9HANMPK_Living_room.zip\n",
      "3FO4K9HANMPK_Guest_room.zip\n",
      "3FO4K9HANMPK_Bedroom.zip\n",
      "3FO4K9EX5GRS_Guest_room.zip\n",
      "3FO4K9EX5GRS_Bedroom.zip\n",
      "3FO4K9DBFQY8_Guest_room.zip\n",
      "3FO4K9DBFQY8_Bedroom.zip\n",
      "3FO4K9BL11ER_Living_room.zip\n",
      "3FO4K9BL11ER_Guest_room.zip\n",
      "3FO4K9BAEYKS_Guest_room.zip\n",
      "3FO4K9BAEYKS_Bedroom.zip\n",
      "3FO4K98YTFY9_Guest_room.zip\n",
      "3FO4K98YTFY9_Bedroom.zip\n",
      "3FO4K98JC0L1_Guest_room.zip\n",
      "3FO4K98JC0L1_Bedroom.zip\n",
      "3FO4K96FAU53_Guest_room.zip\n",
      "3FO4K96FAU53_Bedroom.zip\n",
      "3FO4K96ELUUW_Bedroom.zip\n",
      "3FO4K94YK9M2_Guest_room.zip\n",
      "3FO4K94YK9M2_Bedroom.zip\n",
      "3FO4K94UKL6A_Guest_room.zip\n",
      "3FO4K94UKL6A_Bedroom.zip\n",
      "3FO4K94TEBOX_Guest_room.zip\n",
      "3FO4K90H7K5U_Bedroom.zip\n",
      "3FO4K90BDLEU_Guest_room.zip\n",
      "3FO4K90BDLEU_Bedroom.zip\n",
      "3FO4K90BCGAI_Guest_room.zip\n",
      "3FO4K90BCGAI_Bedroom.zip\n",
      "3FO4K901819I_Guest_room.zip\n",
      "3FO4K901819I_Bedroom.zip\n",
      "3FO4K900LWB7_Guest_room.zip\n",
      "3FO4K900LWB7_Bedroom.zip\n",
      "3FO4K8W31NPG_Guest_room.zip\n",
      "3FO4K8W31NPG_Bedroom.zip\n",
      "3FO4K8VHE5ID_Living_room.zip\n",
      "3FO4K8VHE5ID_Guest_room.zip\n",
      "3FO4K8VHE5ID_Bedroom.zip\n",
      "3FO4K8S8DIKV_Bedroom.zip\n",
      "3FO4JYFUGBGR_Guest_room.zip\n",
      "3FO4JYFUGBGR_Bedroom.zip\n",
      "3FO4JYFPU5OK_Bedroom.zip\n",
      "3FO4JYFO3T28_Bedroom.zip\n",
      "3FO4JYFM63DY_Guest_room.zip\n",
      "3FO4JYFM63DY_Bedroom.zip\n",
      "3FO4JYEVTCER_Living_room.zip\n",
      "3FO4JYEVTCER_Guest_room.zip\n",
      "3FO4JYEVTCER_Bedroom.zip\n",
      "3FO4JYE0GXMK_Guest_room.zip\n",
      "3FO4JYE0GXMK_Bedroom.zip\n",
      "3FO4JYD4X4LW_Guest_room.zip\n",
      "3FO4JYD4X4LW_Bedroom.zip\n",
      "3FO4JYCSILDF_Bedroom.zip\n",
      "3FO4JYCRVFMS_Guest_room.zip\n",
      "3FO4JYCRVFMS_Bedroom.zip\n",
      "3FO4JYCRV29O_Living_room.zip\n",
      "3FO4JYCRV29O_Dining_room.zip\n",
      "3FO4JYCRV29O_Bedroom.zip\n",
      "3FO4JYCRUNVK_Bedroom.zip\n",
      "3FO4JYC8IMA3_Living_room.zip\n",
      "3FO4JYBNGX08_Living_room.zip\n",
      "3FO4JYB0TR9B_Living_room.zip\n",
      "3FO4JYB0TR9B_Guest_room.zip\n",
      "3FO4JYB0TR9B_Bedroom.zip\n",
      "3FO4JY97QS9Y_Living_room.zip\n",
      "3FO4JY97QS9Y_Guest_room.zip\n",
      "3FO4JY93QQG3_Guest_room.zip\n",
      "3FO4JY93QQG3_Bedroom.zip\n",
      "3FO4JY89HIWR_Guest_room.zip\n",
      "3FO4JY89HIWR_Bedroom.zip\n",
      "3FO4JY76T9KI_Guest_room.zip\n",
      "3FO4JY76T9KI_Bedroom.zip\n",
      "3FO4JY5FYMEL_Living_room.zip\n",
      "3FO4JY4RYQXV_Guest_room.zip\n",
      "3FO4JY4RYQXV_Bedroom.zip\n",
      "3FO4JY4RXF5H_Guest_room.zip\n",
      "3FO4JY4RXF5H_Bedroom.zip\n",
      "3FO4JY4RWU3B_Guest_room.zip\n",
      "3FO4JY4RWU3B_Bedroom.zip\n",
      "3FO4JY4GNY4I_Living_room.zip\n",
      "3FO4JY4GNY4I_Dining_room.zip\n",
      "3FO4JY4GNY4I_Bedroom.zip\n",
      "3FO4JY3M5DWE_Guest_room.zip\n",
      "3FO4JY3M5DWE_Bedroom.zip\n",
      "3FO4JY3HI30U_Guest_room.zip\n"
     ]
    },
    {
     "name": "stderr",
     "output_type": "stream",
     "text": [
      "Downloading...\n",
      "From: https://drive.google.com/uc?id=1isukx8LsHd1Pr937FxLiG5G6ONek_8Ol&export=download\n",
      "To: /media/scratch1/erbachj/Mask_RCNN/data/InteriorNet/data/HD7/train/3FO4JY3HI30U_Guest_room.zip\n",
      "41.5MB [00:00, 55.4MB/s]\n"
     ]
    },
    {
     "name": "stdout",
     "output_type": "stream",
     "text": [
      "3FO4JY3HI30U_Bedroom.zip\n",
      "3FO4JY3FFK66_Guest_room.zip\n",
      "3FO4JY3FFK66_Bedroom.zip\n",
      "3FO4JY3CNVD9_Living_room.zip\n",
      "3FO4JY37CV8M_Living_room.zip\n",
      "3FO4JY37CV8M_Dining_room.zip\n",
      "3FO4JY37CV8M_Bedroom.zip\n",
      "3FO4JY37CEIH_Guest_room.zip\n",
      "3FO4JY37CEIH_Bedroom.zip\n",
      "3FO4JY37B624_Bedroom.zip\n",
      "3FO4JY378E3A_Guest_room.zip\n",
      "3FO4JY378E3A_Bedroom.zip\n",
      "3FO4JY27YWOU_Living_room.zip\n",
      "3FO4JY1HYGA1_Guest_room.zip\n",
      "3FO4JY1HYGA1_Bedroom.zip\n",
      "3FO4JY1FXA8Q_Guest_room.zip\n",
      "3FO4JY1FXA8Q_Bedroom.zip\n",
      "3FO4JY1FJ8PJ_Guest_room.zip\n",
      "3FO4JY1FJ8PJ_Bedroom.zip\n",
      "3FO4JY05UQ5X_Bedroom.zip\n",
      "3FO4JXYIV7US_Guest_room.zip\n",
      "3FO4JXYIV7US_Bedroom.zip\n",
      "3FO4JXY6SH4D_Dining_room.zip\n",
      "3FO4JXX9Q2AO_Bedroom.zip\n",
      "3FO4JXWL07D7_Guest_room.zip\n",
      "3FO4JXWL07D7_Bedroom.zip\n",
      "3FO4JXWKX3SK_Living_room.zip\n",
      "3FO4JXWKX3SK_Bedroom.zip\n",
      "3FO4JXWJQ9A2_Bedroom.zip\n",
      "3FO4JXWIB0I1_Living_room.zip\n",
      "3FO4JXWIB0I1_Guest_room.zip\n",
      "3FO4JXWIB0I1_Bedroom.zip\n",
      "3FO4JXW5VLT4_Guest_room.zip\n",
      "3FO4JXW5VLT4_Bedroom.zip\n",
      "3FO4JXVYD73S_Guest_room.zip\n",
      "3FO4JXVYD73S_Bedroom.zip\n",
      "3FO4JXV9GWS8_Living_room.zip\n",
      "3FO4JXV9GWS8_Dining_room.zip\n",
      "3FO4JXV9GWS8_Bedroom.zip\n",
      "3FO4JXV956IP_Guest_room.zip\n",
      "3FO4JXV956IP_Bedroom.zip\n",
      "3FO4JXT6XBD0_Guest_room.zip\n",
      "3FO4JXT6XBD0_Bedroom.zip\n",
      "3FO4JXSTQA5A_Living_room.zip\n",
      "3FO4JXSTQA5A_Guest_room.zip\n",
      "3FO4JXSTQA5A_Bedroom.zip\n",
      "3FO4JXSRKPAO_Guest_room.zip\n",
      "3FO4JXSRKPAO_Bedroom.zip\n",
      "3FO4JXSGR4BG_Bedroom.zip\n",
      "3FO4JXSFP5BE_Living_room.zip\n",
      "3FO4JXSFP5BE_Bedroom.zip\n",
      "3FO4JXS2TBIK_Guest_room.zip\n",
      "3FO4JXS2TBIK_Bedroom.zip\n",
      "3FO4JXRJW8N1_Living_room.zip\n",
      "3FO4JXRJW8N1_Guest_room.zip\n",
      "3FO4JXRJW8N1_Bedroom.zip\n",
      "3FO4JXQVE4JU_Guest_room.zip\n",
      "3FO4JXQVE4JU_Bedroom.zip\n",
      "3FO4JXQI8TQ7_Guest_room.zip\n",
      "3FO4JXQI8TQ7_Bedroom.zip\n",
      "3FO4JXQBHHHI_Guest_room.zip\n",
      "3FO4JXQBHHHI_Bedroom.zip\n",
      "3FO4JXPYQENK_Guest_room.zip\n",
      "3FO4JXPYQENK_Bedroom.zip\n",
      "3FO4JXPYP677_Bedroom.zip\n",
      "3FO4JXPYP2U6_Bedroom.zip\n",
      "3FO4JXP5VPDL_Living_room.zip\n",
      "3FO4JXP5VPDL_Bedroom.zip\n",
      "3FO4JXOPDYYA_Guest_room.zip\n",
      "3FO4JXOPDYYA_Bedroom.zip\n",
      "3FO4JXOJV7FM_Guest_room.zip\n",
      "3FO4JXOJV7FM_Bedroom.zip\n",
      "3FO4JXO2RRNN_Guest_room.zip\n",
      "3FO4JXO2RRNN_Bedroom.zip\n",
      "3FO4JXNPWL2H_Living_room.zip\n",
      "3FO4JXNPWL2H_Guest_room.zip\n",
      "3FO4JXNPWL2H_Bedroom.zip\n",
      "3FO4JXMRWYF6_Guest_room.zip\n",
      "3FO4JXMRWYF6_Bedroom.zip\n",
      "3FO4JXLPHCK7_Guest_room.zip\n",
      "3FO4JXLPHCK7_Bedroom.zip\n",
      "3FO4JXLPG0QS_Guest_room.zip\n",
      "3FO4JXLPG0QS_Bedroom.zip\n",
      "3FO4JXL2JE02_Bedroom.zip\n",
      "3FO4JXKO1V6Q_Bedroom.zip\n",
      "3FO4JXKKQKD9_Bedroom.zip\n",
      "3FO4JXKCVSY3_Guest_room.zip\n",
      "3FO4JXKCVSY3_Bedroom.zip\n",
      "3FO4JXJX64SU_Living_room.zip\n",
      "3FO4JXJX64SU_Bedroom.zip\n",
      "3FO4JXIEM5BE_Guest_room.zip\n",
      "3FO4JXIEM5BE_Bedroom.zip\n",
      "3FO4JXIEM1YD_Living_room.zip\n",
      "3FO4JXD4P4SS_Bedroom.zip\n",
      "3FO4JXAWEPBO_Bedroom.zip\n",
      "3FO4JX6L5WCG_Guest_room.zip\n",
      "3FO4JX26OXVO_Guest_room.zip\n",
      "3FO4JX0IBRQM_Guest_room.zip\n",
      "3FO4JWVISRK9_Bedroom.zip\n",
      "3FO4JWRAIWI4_Guest_room.zip\n",
      "3FO4JWP7O4UJ_Dining_room.zip\n",
      "3FO4JWMSYV5H_Bedroom.zip\n",
      "3FO4JWK8I52E_Guest_room.zip\n",
      "3FO4JWC6P2IM_Bedroom.zip\n",
      "3FO4JW8NYOA0_Guest_room.zip\n",
      "3FO4JW4VEFD8_Guest_room.zip\n",
      "3FO4JXIEM1YD_Bedroom.zip\n",
      "3FO4JXIELXMC_Dining_room.zip\n",
      "3FO4JXIELXMC_Bedroom.zip\n",
      "3FO4JXIELGW7_Guest_room.zip\n",
      "3FO4JXIELGW7_Bedroom.zip\n",
      "3FO4JXIEL3J3_Guest_room.zip\n",
      "3FO4JXIEL3J3_Bedroom.zip\n",
      "3FO4JXIEKVU1_Guest_room.zip\n",
      "3FO4JXIEKVU1_Bedroom.zip\n",
      "3FO4JXIDXQ4E_Bedroom.zip\n",
      "3FO4JXIAXTR1_Living_room.zip\n",
      "3FO4JXIAXTR1_Guest_room.zip\n",
      "3FO4JXIAXTR1_Dining_room.zip\n",
      "3FO4JXIAXTR1_Bedroom.zip\n",
      "3FO4JXI2ASME_Bedroom.zip\n",
      "3FO4JXHV9Y5C_Guest_room.zip\n",
      "3FO4JXHV9Y5C_Bedroom.zip\n",
      "3FO4JXG7388Q_Bedroom.zip\n",
      "3FO4JXF859NG_Guest_room.zip\n",
      "3FO4JXF859NG_Bedroom.zip\n",
      "3FO4JXF6CL7P_Bedroom.zip\n",
      "3FO4JXEN7Y6W_Guest_room.zip\n",
      "3FO4JXEN7Y6W_Bedroom.zip\n",
      "3FO4JXE70OG9_Guest_room.zip\n",
      "3FO4JXE70OG9_Bedroom.zip\n",
      "3FO4JXE337W5_Guest_room.zip\n",
      "3FO4JXE337W5_Bedroom.zip\n",
      "3FO4JXDJT3Q0_Bedroom.zip\n",
      "3FO4JXD29FJ6_Bedroom.zip\n",
      "3FO4JXCVX8PH_Living_room.zip\n",
      "3FO4JXCVX8PH_Dining_room.zip\n",
      "3FO4JXCOWW64_Guest_room.zip\n",
      "3FO4JXCOWW64_Bedroom.zip\n",
      "3FO4JXC4G4KQ_Guest_room.zip\n",
      "3FO4JXC4G4KQ_Bedroom.zip\n",
      "3FO4JXC4BT4G_Bedroom.zip\n",
      "3FO4JXC44U1D_Living_room.zip\n",
      "3FO4JXC44U1D_Bedroom.zip\n",
      "3FO4JXC43I7Y_Bedroom.zip\n",
      "3FO4JXAWHDXH_Guest_room.zip\n",
      "3FO4JXAWHDXH_Bedroom.zip\n",
      "3FO4JXAWEPBO_Guest_room.zip\n",
      "3FO4JXAS4WFV_Guest_room.zip\n",
      "3FO4JXAS4WFV_Bedroom.zip\n",
      "3FO4JXA628SS_Living_room.zip\n",
      "3FO4JXA628SS_Guest_room.zip\n",
      "3FO4JXA628SS_Bedroom.zip\n",
      "3FO4JX9H2YMS_Living_room.zip\n",
      "3FO4JX9H2YMS_Guest_room.zip\n",
      "3FO4JX9H2YMS_Dining_room.zip\n",
      "3FO4JX9H2YMS_Bedroom.zip\n",
      "3FO4JX95GUOC_Living_room.zip\n",
      "3FO4JX95GUOC_Guest_room.zip\n",
      "3FO4JX95GUOC_Bedroom.zip\n",
      "3FO4JX8A70YD_Living_room.zip\n",
      "3FO4JX8A70YD_Bedroom.zip\n",
      "3FO4JX6L5WCG_Bedroom.zip\n",
      "3FO4JX5M2ETI_Bedroom.zip\n",
      "3FO4JX4XR4WO_Living_room.zip\n",
      "3FO4JX4XR4WO_Guest_room.zip\n",
      "3FO4JX4XR4WO_Bedroom.zip\n",
      "3FO4JX4ME8IO_Bedroom.zip\n",
      "3FO4JX4MBN8W_Guest_room.zip\n",
      "3FO4JX4MBN8W_Bedroom.zip\n",
      "3FO4JX3VE00G_Living_room.zip\n",
      "3FO4JX3VE00G_Guest_room.zip\n",
      "3FO4JX3VE00G_Bedroom.zip\n",
      "3FO4JX3PSSV3_Bedroom.zip\n",
      "3FO4JX29TCEE_Guest_room.zip\n",
      "3FO4JX29TCEE_Bedroom.zip\n",
      "3FO4JX26OXVO_Bedroom.zip\n",
      "3FO4JX25RDOX_Guest_room.zip\n",
      "3FO4JX25RDOX_Bedroom.zip\n",
      "3FO4JX1RI042_Living_room.zip\n",
      "3FO4JX16RSA6_Guest_room.zip\n",
      "3FO4JX16RSA6_Bedroom.zip\n",
      "3FO4JX16HNU5_Guest_room.zip\n",
      "3FO4JX120LU6_Living_room.zip\n",
      "3FO4JX120LU6_Guest_room.zip\n",
      "3FO4JX120LU6_Dining_room.zip\n",
      "3FO4JX120LU6_Bedroom.zip\n",
      "3FO4JX0Y3E4L_Bedroom.zip\n",
      "3FO4JX0ICCSS_Guest_room.zip\n",
      "3FO4JX0ICCSS_Bedroom.zip\n",
      "3FO4JX0IBRQM_Bedroom.zip\n",
      "3FO4JWYIT8PH_Guest_room.zip\n",
      "3FO4JWYIT8PH_Bedroom.zip\n",
      "3FO4JWX2U29V_Living_room.zip\n",
      "3FO4JWX2U29V_Bedroom.zip\n",
      "3FO4JWX0SL7I_Guest_room.zip\n",
      "3FO4JWX0SL7I_Bedroom.zip\n",
      "3FO4JWWD0ESS_Guest_room.zip\n",
      "3FO4JWW268RE_Guest_room.zip\n",
      "3FO4JWW268RE_Bedroom.zip\n",
      "3FO4JWVPBM8E_Guest_room.zip\n",
      "3FO4JWVPBM8E_Bedroom.zip\n",
      "3FO4JWVLLBGF_Living_room.zip\n",
      "3FO4JWVISRK9_Guest_room.zip\n",
      "3FO4JWVIF7R7_Living_room.zip\n",
      "3FO4JWVIF7R7_Guest_room.zip\n",
      "3FO4JWVIF7R7_Dining_room.zip\n",
      "3FO4JWVIF7R7_Bedroom.zip\n",
      "3FO4JWVHGE43_Living_room.zip\n",
      "3FO4JWTOAJSV_Living_room.zip\n",
      "3FO4JWTOAJSV_Dining_room.zip\n",
      "3FO4JWTOAJSV_Bedroom.zip\n",
      "3FO4JWSE2QTI_Guest_room.zip\n",
      "3FO4JWSE2QTI_Bedroom.zip\n",
      "3FO4JWSD4LKL_Guest_room.zip\n",
      "3FO4JWSD4LKL_Bedroom.zip\n",
      "3FO4JWRBXEIW_Bedroom.zip\n",
      "3FO4JWRAQQOG_Bedroom.zip\n",
      "3FO4JWRAIWI4_Bedroom.zip\n",
      "3FO4JWRA00GG_Guest_room.zip\n",
      "3FO4JWRA00GG_Bedroom.zip\n",
      "3FO4JWQTKM35_Guest_room.zip\n",
      "3FO4JWQTKM35_Bedroom.zip\n",
      "3FO4JWQHWB81_Living_room.zip\n",
      "3FO4JWQHWB81_Dining_room.zip\n",
      "3FO4JWQHWB81_Bedroom.zip\n",
      "3FO4JWQ7AAXR_Guest_room.zip\n",
      "3FO4JWQ7AAXR_Bedroom.zip\n",
      "3FO4JWQ07E4M_Living_room.zip\n",
      "3FO4JWQ07E4M_Guest_room.zip\n",
      "3FO4JWQ07E4M_Bedroom.zip\n",
      "3FO4JWP7O4UJ_Guest_room.zip\n",
      "3FO4JWP7O4UJ_Bedroom.zip\n",
      "3FO4JWP1X1FE_Bedroom.zip\n",
      "3FO4JWOWPW6E_Living_room.zip\n",
      "3FO4JWOCS1MO_Living_room.zip\n",
      "3FO4JWOCS1MO_Guest_room.zip\n",
      "3FO4JWOCS1MO_Dining_room.zip\n",
      "3FO4JWOCS1MO_Bedroom.zip\n",
      "3FO4JWO77H57_Guest_room.zip\n",
      "3FO4JWO77H57_Bedroom.zip\n",
      "3FO4JWO73A0X_Guest_room.zip\n",
      "3FO4JWO73A0X_Bedroom.zip\n",
      "3FO4JWNRSTAK_Bedroom.zip\n",
      "3FO4JWNLS6HK_Bedroom.zip\n",
      "3FO4JWMSYV5H_Guest_room.zip\n",
      "3FO4JWMPUAXP_Guest_room.zip\n",
      "3FO4JWMPUAXP_Bedroom.zip\n",
      "3FO4JWMPTCIF_Guest_room.zip\n",
      "3FO4JWMBJLQY_Guest_room.zip\n",
      "3FO4JWMBJLQY_Bedroom.zip\n",
      "3FO4JWMB90LS_Guest_room.zip\n",
      "3FO4JWMB90LS_Bedroom.zip\n",
      "3FO4JWM94Y9N_Guest_room.zip\n",
      "3FO4JWM94Y9N_Bedroom.zip\n",
      "3FO4JWLHP0T1_Guest_room.zip\n",
      "3FO4JWLHP0T1_Bedroom.zip\n",
      "3FO4JWLEGP85_Bedroom.zip\n",
      "3FO4JWKSGHB9_Guest_room.zip\n",
      "3FO4JWK8ILRJ_Bedroom.zip\n",
      "3FO4JWK8I52E_Dining_room.zip\n",
      "3FO4JWK8I52E_Bedroom.zip\n",
      "3FO4JWK8HGN7_Guest_room.zip\n",
      "3FO4JWK8HGN7_Bedroom.zip\n",
      "3FO4JWIY1LKV_Guest_room.zip\n",
      "3FO4JWIY1LKV_Bedroom.zip\n",
      "3FO4JWF8TQP2_Living_room.zip\n",
      "3FO4JWF8TQP2_Guest_room.zip\n",
      "3FO4JWF8TQP2_Bedroom.zip\n",
      "3FO4JWCL9JC0_Guest_room.zip\n",
      "3FO4JWCL9JC0_Bedroom.zip\n",
      "3FO4JWCL9FYY_Guest_room.zip\n",
      "3FO4JWCL9FYY_Bedroom.zip\n",
      "3FO4JWC6P2IM_Living_room.zip\n",
      "3FO4JWC5FQ2D_Guest_room.zip\n",
      "3FO4JWC5FQ2D_Bedroom.zip\n",
      "3FO4JWB7LU1R_Bedroom.zip\n",
      "3FO4JWB7KYXI_Guest_room.zip\n",
      "3FO4JWB7KYXI_Bedroom.zip\n",
      "3FO4JWB7JN54_Bedroom.zip\n",
      "3FO4JWAP4UGQ_Guest_room.zip\n",
      "3FO4JWAP4UGQ_Bedroom.zip\n",
      "3FO4JW9AJ7LN_Bedroom.zip\n",
      "3FO4JW91JBUH_Bedroom.zip\n",
      "3FO4JW8YMJMI_Guest_room.zip\n",
      "3FO4JW8YMJMI_Bedroom.zip\n",
      "3FO4JW8RBPA0_Guest_room.zip\n",
      "3FO4JW8RBPA0_Bedroom.zip\n",
      "3FO4JW8NYOA0_Bedroom.zip\n",
      "3FO4JW8NCVWH_Guest_room.zip\n",
      "3FO4JW8NCVWH_Dining_room.zip\n",
      "3FO4JW88WFJB_Guest_room.zip\n",
      "3FO4JW88WFJB_Bedroom.zip\n",
      "3FO4JW87WNFW_Living_room.zip\n",
      "3FO4JW7PSXMU_Guest_room.zip\n",
      "3FO4JW7PSXMU_Bedroom.zip\n",
      "3FO4JW7PSK9Q_Guest_room.zip\n",
      "3FO4JW7PSK9Q_Bedroom.zip\n",
      "3FO4JW76NB2A_Guest_room.zip\n",
      "3FO4JW76NB2A_Bedroom.zip\n",
      "3FO4JW5B7LG7_Guest_room.zip\n",
      "3FO4JW5B7LG7_Bedroom.zip\n",
      "3FO4JVYVJ2WS_Guest_room.zip\n",
      "3FO4JVY9MVNN_Guest_room.zip\n",
      "3FO4JVWS5XAQ_Bedroom.zip\n",
      "3FO4JVSHEM7Q_Guest_room.zip\n",
      "3FO4JVORQ7NF_Bedroom.zip\n",
      "3FO4JVMPYT6C_Guest_room.zip\n",
      "3FO4JVGIBEKV_Guest_room.zip\n",
      "3FO4JVBWEICJ_Guest_room.zip\n",
      "3FO4JV6X9GYO_Guest_room.zip\n",
      "3FO4JV49LPJE_Guest_room.zip\n",
      "3FO4JUXF2J0A_Guest_room.zip\n",
      "3FO4JUVO6DBW_Bedroom.zip\n",
      "3FO4JUTYN2TU_Guest_room.zip\n",
      "3FO4JW4VEFD8_Bedroom.zip\n",
      "3FO4JW4TQCEU_Guest_room.zip\n",
      "3FO4JW4TQCEU_Bedroom.zip\n",
      "3FO4JW4ETWMW_Living_room.zip\n",
      "3FO4JW4ETWMW_Guest_room.zip\n",
      "3FO4JW4ETWMW_Bedroom.zip\n",
      "3FO4JW3J4RXD_Guest_room.zip\n",
      "3FO4JW3J4RXD_Bedroom.zip\n",
      "3FO4JW3HCB6O_Living_room.zip\n",
      "3FO4JW3HCB6O_Guest_room.zip\n",
      "3FO4JW3HCB6O_Dining_room.zip\n",
      "3FO4JW3HCB6O_Bedroom.zip\n",
      "3FO4JW2JT4NA_Guest_room.zip\n",
      "3FO4JW2JT4NA_Bedroom.zip\n",
      "3FO4JW2JSWY8_Bedroom.zip\n",
      "3FO4JW2JR7RP_Guest_room.zip\n",
      "3FO4JW2JR7RP_Bedroom.zip\n",
      "3FO4JW2JPKX8_Guest_room.zip\n",
      "3FO4JW2JPKX8_Bedroom.zip\n",
      "3FO4JW2JPAW5_Guest_room.zip\n",
      "3FO4JW2JPAW5_Bedroom.zip\n",
      "3FO4JW1440UE_Guest_room.zip\n",
      "3FO4JW1440UE_Bedroom.zip\n",
      "3FO4JW0FKSF7_Living_room.zip\n",
      "3FO4JW0FKSF7_Guest_room.zip\n",
      "3FO4JW0FKSF7_Bedroom.zip\n",
      "3FO4JW03T272_Guest_room.zip\n",
      "3FO4JW03T272_Bedroom.zip\n",
      "3FO4JVYVJ2WS_Bedroom.zip\n",
      "3FO4JVYCJ2LW_Guest_room.zip\n",
      "3FO4JVYCJ2LW_Bedroom.zip\n",
      "3FO4JVY9SC9A_Bedroom.zip\n",
      "3FO4JVY9S5K8_Bedroom.zip\n",
      "3FO4JVY9QPES_Living_room.zip\n",
      "3FO4JVY9QPES_Bedroom.zip\n",
      "3FO4JVY9PXNK_Bedroom.zip\n",
      "3FO4JVY9PNMH_Living_room.zip\n",
      "3FO4JVY9PNMH_Bedroom.zip\n",
      "3FO4JVY9P3KB_Guest_room.zip\n",
      "3FO4JVY9P3KB_Bedroom.zip\n",
      "3FO4JVY9OP77_Bedroom.zip\n",
      "3FO4JVY9NA1R_Bedroom.zip\n",
      "3FO4JVY9MVNN_Bedroom.zip\n",
      "3FO4JVY5XQ11_Guest_room.zip\n",
      "3FO4JVY5XQ11_Bedroom.zip\n",
      "3FO4JVY5XJBY_Living_room.zip\n",
      "3FO4JVY5XJBY_Guest_room.zip\n",
      "3FO4JVY5XJBY_Bedroom.zip\n",
      "3FO4JVY5WRKQ_Guest_room.zip\n",
      "3FO4JVXUP77S_Guest_room.zip\n",
      "3FO4JVX7K67J_Guest_room.zip\n",
      "3FO4JVX7K67J_Bedroom.zip\n",
      "3FO4JVWY392Q_Living_room.zip\n",
      "3FO4JVWY392Q_Guest_room.zip\n",
      "3FO4JVWY392Q_Bedroom.zip\n",
      "3FO4JVWS5XAQ_Guest_room.zip\n",
      "3FO4JVVTA3A3_Guest_room.zip\n",
      "3FO4JVVTA3A3_Bedroom.zip\n",
      "3FO4JVVI6CUT_Bedroom.zip\n",
      "3FO4JVV8F0WQ_Guest_room.zip\n",
      "3FO4JVV8F0WQ_Bedroom.zip\n",
      "3FO4JVUHRXTG_Guest_room.zip\n",
      "3FO4JVUHRXTG_Bedroom.zip\n",
      "3FO4JVU2YOEG_Bedroom.zip\n",
      "3FO4JVTO2QOT_Living_room.zip\n",
      "3FO4JVTJ1AX2_Guest_room.zip\n",
      "3FO4JVTJ1AX2_Bedroom.zip\n",
      "3FO4JVT5UJE9_Guest_room.zip\n",
      "3FO4JVT5UJE9_Bedroom.zip\n",
      "3FO4JVT4F0L5_Bedroom.zip\n",
      "3FO4JVSHEM7Q_Dining_room.zip\n",
      "3FO4JVSHEM7Q_Bedroom.zip\n",
      "3FO4JVSBBUU4_Bedroom.zip\n",
      "3FO4JVRRCC9D_Guest_room.zip\n",
      "3FO4JVRRCC9D_Bedroom.zip\n",
      "3FO4JVRLCQ8O_Guest_room.zip\n",
      "3FO4JVRJQ6RR_Guest_room.zip\n",
      "3FO4JVRJQ6RR_Bedroom.zip\n",
      "3FO4JVR5EFSP_Bedroom.zip\n",
      "3FO4JVPNESUI_Bedroom.zip\n",
      "3FO4JVORQHOI_Guest_room.zip\n",
      "3FO4JVORQHOI_Bedroom.zip\n",
      "3FO4JVORQ7NF_Living_room.zip\n",
      "3FO4JVORQ7NF_Guest_room.zip\n",
      "3FO4JVORQ4BE_Guest_room.zip\n",
      "3FO4JVORQ4BE_Bedroom.zip\n",
      "3FO4JVOROUU1_Guest_room.zip\n",
      "3FO4JVOROUU1_Bedroom.zip\n",
      "3FO4JVOROKSX_Guest_room.zip\n",
      "3FO4JVOROKSX_Bedroom.zip\n",
      "3FO4JVORO7FT_Bedroom.zip\n",
      "3FO4JVOP5657_Guest_room.zip\n",
      "3FO4JVOP5657_Bedroom.zip\n",
      "3FO4JVNG79O9_Guest_room.zip\n",
      "3FO4JVNG79O9_Bedroom.zip\n",
      "3FO4JVN6H9JK_Living_room.zip\n",
      "3FO4JVN6H9JK_Guest_room.zip\n",
      "3FO4JVN6H9JK_Bedroom.zip\n",
      "3FO4JVMPYT6C_Bedroom.zip\n",
      "3FO4JVMIQGQK_Guest_room.zip\n",
      "3FO4JVMIQGQK_Bedroom.zip\n",
      "3FO4JVLV5G50_Living_room.zip\n",
      "3FO4JVLV5G50_Bedroom.zip\n",
      "3FO4JVLBAWMA_Guest_room.zip\n",
      "3FO4JVLBAWMA_Bedroom.zip\n",
      "3FO4JVK372N1_Bedroom.zip\n",
      "3FO4JVJDJAX0_Guest_room.zip\n",
      "3FO4JVJDJAX0_Bedroom.zip\n",
      "3FO4JVIDRUX7_Guest_room.zip\n",
      "3FO4JVGT9YFL_Guest_room.zip\n",
      "3FO4JVGT9YFL_Bedroom.zip\n",
      "3FO4JVGIBEKV_Living_room.zip\n",
      "3FO4JVGIBEKV_Bedroom.zip\n",
      "3FO4JVGBHADD_Guest_room.zip\n",
      "3FO4JVGBHADD_Bedroom.zip\n",
      "3FO4JVFE6TOA_Bedroom.zip\n",
      "3FO4JVF5UQI8_Bedroom.zip\n",
      "3FO4JVCVY5XB_Guest_room.zip\n",
      "3FO4JVCOXWPY_Living_room.zip\n",
      "3FO4JVCOXWPY_Guest_room.zip\n",
      "3FO4JVCOXWPY_Bedroom.zip\n",
      "3FO4JVCDXJCP_Guest_room.zip\n",
      "3FO4JVCDXJCP_Bedroom.zip\n",
      "3FO4JVC6VRMW_Bedroom.zip\n",
      "3FO4JVBXQP4N_Guest_room.zip\n",
      "3FO4JVBXQP4N_Bedroom.zip\n",
      "3FO4JVBWEICJ_Bedroom.zip\n",
      "3FO4JVBE9B9K_Living_room.zip\n",
      "3FO4JVBE9B9K_Dining_room.zip\n",
      "3FO4JV9T65VW_Guest_room.zip\n",
      "3FO4JV9T65VW_Bedroom.zip\n",
      "3FO4JV9LHSIN_Guest_room.zip\n",
      "3FO4JV9LHSIN_Bedroom.zip\n",
      "3FO4JV98HE8G_Guest_room.zip\n",
      "3FO4JV98HE8G_Bedroom.zip\n",
      "3FO4JV8QKA5D_Guest_room.zip\n",
      "3FO4JV8QKA5D_Bedroom.zip\n",
      "3FO4JV8QK04A_Guest_room.zip\n",
      "3FO4JV8QK04A_Bedroom.zip\n",
      "3FO4JV7RQ5B8_Living_room.zip\n",
      "3FO4JV6X9GYO_Bedroom.zip\n",
      "3FO4JV6G2IHN_Guest_room.zip\n",
      "3FO4JV6G2IHN_Bedroom.zip\n",
      "3FO4JV5UEF8E_Bedroom.zip\n",
      "3FO4JV5NSSLF_Guest_room.zip\n",
      "3FO4JV5NSSLF_Bedroom.zip\n",
      "3FO4JV4KRTJD_Bedroom.zip\n",
      "3FO4JV4KCG7R_Guest_room.zip\n",
      "3FO4JV4KCG7R_Bedroom.zip\n",
      "3FO4JV4HYM90_Living_room.zip\n",
      "3FO4JV4HY8UV_Living_room.zip\n",
      "3FO4JV4HRTTY_Bedroom.zip\n",
      "3FO4JV4FXJJQ_Guest_room.zip\n",
      "3FO4JV4FXJJQ_Bedroom.zip\n",
      "3FO4JV49LPJE_Bedroom.zip\n",
      "3FO4JV47LRYH_Guest_room.zip\n",
      "3FO4JV47LRYH_Bedroom.zip\n",
      "3FO4JV47LOMG_Bedroom.zip\n",
      "3FO4JV471T5I_Guest_room.zip\n",
      "3FO4JV471T5I_Bedroom.zip\n",
      "3FO4JV42EYY4_Guest_room.zip\n",
      "3FO4JV42EYY4_Bedroom.zip\n",
      "3FO4JV3YCEYX_Guest_room.zip\n",
      "3FO4JV3YCEYX_Bedroom.zip\n",
      "3FO4JV3YC1LT_Bedroom.zip\n",
      "3FO4JV14MUMB_Guest_room.zip\n",
      "3FO4JV14MUMB_Bedroom.zip\n",
      "3FO4JV0G51K8_Bedroom.zip\n",
      "3FO4JUXF2J0A_Bedroom.zip\n",
      "3FO4JUX7W1VD_Living_room.zip\n",
      "3FO4JUX7W1VD_Guest_room.zip\n",
      "3FO4JUX7W1VD_Bedroom.zip\n",
      "3FO4JUX2D7KE_Guest_room.zip\n",
      "3FO4JUX2D7KE_Bedroom.zip\n",
      "3FO4JUWL8I4I_Guest_room.zip\n",
      "3FO4JUWL8I4I_Bedroom.zip\n",
      "3FO4JUWAY7K2_Bedroom.zip\n",
      "3FO4JUWASQYF_Guest_room.zip\n",
      "3FO4JUWASQYF_Bedroom.zip\n",
      "3FO4JUW99HR7_Guest_room.zip\n",
      "3FO4JUW99HR7_Bedroom.zip\n",
      "3FO4JUVO6DBW_Guest_room.zip\n",
      "3FO4JUVMLPQK_Living_room.zip\n",
      "3FO4JUVMLPQK_Bedroom.zip\n",
      "3FO4JUV6L1PV_Guest_room.zip\n",
      "3FO4JUV6L1PV_Bedroom.zip\n",
      "3FO4JUV02BYH_Bedroom.zip\n",
      "3FO4JUV01NKA_Living_room.zip\n",
      "3FO4JUV01NKA_Dining_room.zip\n",
      "3FO4JUU49SO8_Guest_room.zip\n",
      "3FO4JUU49SO8_Bedroom.zip\n",
      "3FO4JUU0LVHY_Guest_room.zip\n",
      "3FO4JUU0LVHY_Bedroom.zip\n",
      "3FO4JUU079WL_Living_room.zip\n",
      "3FO4JUU079WL_Dining_room.zip\n",
      "3FO4JUU079WL_Bedroom.zip\n",
      "3FO4JUO3C6AA_Bedroom.zip\n",
      "3FO4JUMO81V5_Guest_room.zip\n",
      "3FO4JUJCTOBW_Bedroom.zip\n",
      "3FO4JUE2F3L2_Guest_room.zip\n",
      "3FO4JU7DK9D7_Living_room.zip\n",
      "3FO4JU3DBX49_Guest_room.zip\n",
      "3FO4JU1JYOS5_Guest_room.zip\n",
      "3FO4JU062JH3_Bedroom.zip\n",
      "3FO4JTTT10W7_Bedroom.zip\n",
      "3FO4JTQEFYLK_Bedroom.zip\n",
      "3FO4JTN2DMS6_Bedroom.zip\n",
      "3FO4JTLFRA0L_Bedroom.zip\n",
      "3FO4JTIT10R7_Bedroom.zip\n",
      "3FO4JUTYN2TU_Bedroom.zip\n",
      "3FO4JUTYGH4V_Bedroom.zip\n",
      "3FO4JUTJNEDX_Bedroom.zip\n",
      "3FO4JUT3AHDL_Guest_room.zip\n",
      "3FO4JUT3AHDL_Bedroom.zip\n",
      "3FO4JUS7DA8X_Guest_room.zip\n",
      "3FO4JUS7DA8X_Bedroom.zip\n",
      "3FO4JURWFCKV_Guest_room.zip\n",
      "3FO4JURWFCKV_Bedroom.zip\n",
      "3FO4JUQR56M5_Bedroom.zip\n",
      "3FO4JUQQEH6G_Guest_room.zip\n",
      "3FO4JUQQEH6G_Bedroom.zip\n",
      "3FO4JUQQD8P3_Living_room.zip\n",
      "3FO4JUQQD8P3_Guest_room.zip\n",
      "3FO4JUQQBVVO_Bedroom.zip\n",
      "3FO4JUQHT1BL_Guest_room.zip\n",
      "3FO4JUQHT1BL_Bedroom.zip\n",
      "3FO4JUQ9U9H8_Guest_room.zip\n",
      "3FO4JUQ9U9H8_Bedroom.zip\n",
      "3FO4JUORADNY_Bedroom.zip\n",
      "3FO4JUONM6GM_Guest_room.zip\n",
      "3FO4JUONM6GM_Bedroom.zip\n",
      "3FO4JUOL6NV2_Guest_room.zip\n",
      "3FO4JUOL6NV2_Bedroom.zip\n",
      "3FO4JUO6APT9_Guest_room.zip\n",
      "3FO4JUO6APT9_Bedroom.zip\n",
      "3FO4JUO3C6AA_Living_room.zip\n",
      "3FO4JUO3C6AA_Guest_room.zip\n",
      "3FO4JUNXFV32_Guest_room.zip\n",
      "3FO4JUNXFV32_Bedroom.zip\n",
      "3FO4JUNU9E0P_Guest_room.zip\n",
      "3FO4JUNSMWVT_Guest_room.zip\n",
      "3FO4JUNSMWVT_Bedroom.zip\n",
      "3FO4JUNQHGE9_Guest_room.zip\n",
      "3FO4JUNQHGE9_Bedroom.zip\n",
      "3FO4JUNPJV7I_Guest_room.zip\n",
      "3FO4JUNPJV7I_Bedroom.zip\n",
      "3FO4JUNKFQSX_Guest_room.zip\n",
      "3FO4JUNKFQSX_Bedroom.zip\n",
      "3FO4JUN9AL99_Guest_room.zip\n",
      "3FO4JUN9AL99_Bedroom.zip\n",
      "3FO4JUN0QKJT_Living_room.zip\n",
      "3FO4JUMO81V5_Bedroom.zip\n",
      "3FO4JUMNDPDD_Guest_room.zip\n",
      "3FO4JUMNDPDD_Bedroom.zip\n",
      "3FO4JUM9PDLB_Bedroom.zip\n",
      "3FO4JULUUCR9_Guest_room.zip\n",
      "3FO4JULUUCR9_Bedroom.zip\n",
      "3FO4JUKL4QN1_Guest_room.zip\n",
      "3FO4JUKL4QN1_Bedroom.zip\n",
      "3FO4JUKDV7J7_Living_room.zip\n",
      "3FO4JUKAJJWB_Guest_room.zip\n",
      "3FO4JUKAJJWB_Bedroom.zip\n",
      "3FO4JUJQKLDQ_Guest_room.zip\n",
      "3FO4JUJQKLDQ_Bedroom.zip\n",
      "3FO4JUJCTOBW_Guest_room.zip\n",
      "3FO4JUJ9OJ2Y_Guest_room.zip\n",
      "3FO4JUJ9OJ2Y_Bedroom.zip\n",
      "3FO4JUI572RI_Guest_room.zip\n",
      "3FO4JUI572RI_Bedroom.zip\n",
      "3FO4JUHVKGSB_Guest_room.zip\n",
      "3FO4JUHVKGSB_Bedroom.zip\n",
      "3FO4JUHF0RDX_Living_room.zip\n",
      "3FO4JUHF0RDX_Guest_room.zip\n",
      "3FO4JUHF0RDX_Dining_room.zip\n",
      "3FO4JUHF0RDX_Bedroom.zip\n",
      "3FO4JUGBOH7S_Guest_room.zip\n",
      "3FO4JUGBOH7S_Bedroom.zip\n",
      "3FO4JUFDBHGH_Bedroom.zip\n",
      "3FO4JUF78WRW_Bedroom.zip\n",
      "3FO4JUE2F3L2_Bedroom.zip\n",
      "3FO4JUD9FYA8_Bedroom.zip\n",
      "3FO4JUD83E50_Guest_room.zip\n",
      "3FO4JUD83E50_Bedroom.zip\n",
      "3FO4JUCU41M4_Bedroom.zip\n",
      "3FO4JUCLDVWU_Guest_room.zip\n",
      "3FO4JUCLDVWU_Bedroom.zip\n",
      "3FO4JUBJH0FH_Bedroom.zip\n",
      "3FO4JUAS9OH5_Guest_room.zip\n",
      "3FO4JUAS9OH5_Bedroom.zip\n",
      "3FO4JU7YYW6E_Living_room.zip\n",
      "3FO4JU7G5PT9_Guest_room.zip\n",
      "3FO4JU7G5PT9_Bedroom.zip\n",
      "3FO4JU7DSUAR_Bedroom.zip\n",
      "3FO4JU79FIOW_Guest_room.zip\n",
      "3FO4JU79FIOW_Bedroom.zip\n",
      "3FO4JU6RSCCS_Guest_room.zip\n",
      "3FO4JU6RSCCS_Bedroom.zip\n",
      "3FO4JU690EH1_Guest_room.zip\n",
      "3FO4JU690EH1_Bedroom.zip\n",
      "3FO4JU5SD3KC_Guest_room.zip\n",
      "3FO4JU5SD3KC_Bedroom.zip\n",
      "3FO4JU5LQ54Y_Guest_room.zip\n",
      "3FO4JU5LQ54Y_Bedroom.zip\n",
      "3FO4JU45T290_Guest_room.zip\n",
      "3FO4JU45T290_Bedroom.zip\n",
      "3FO4JU3PM1BV_Guest_room.zip\n",
      "3FO4JU3PM1BV_Bedroom.zip\n",
      "3FO4JU3DBX49_Bedroom.zip\n",
      "3FO4JU3A27CX_Guest_room.zip\n",
      "3FO4JU3A27CX_Bedroom.zip\n",
      "3FO4JU2XL29Y_Living_room.zip\n",
      "3FO4JU2XL29Y_Guest_room.zip\n",
      "3FO4JU2XL29Y_Bedroom.zip\n",
      "3FO4JU29G96B_Bedroom.zip\n",
      "3FO4JU1RGN5H_Guest_room.zip\n",
      "3FO4JU1RGN5H_Bedroom.zip\n",
      "3FO4JU1RGD4E_Guest_room.zip\n",
      "3FO4JU1RGD4E_Bedroom.zip\n",
      "3FO4JU1M197J_Guest_room.zip\n",
      "3FO4JU1M197J_Bedroom.zip\n",
      "3FO4JU1KUD4B_Bedroom.zip\n",
      "3FO4JU1JYOS5_Bedroom.zip\n",
      "3FO4JU1JHYN5_Guest_room.zip\n",
      "3FO4JU1JHYN5_Bedroom.zip\n",
      "3FO4JU1JGQ6R_Living_room.zip\n",
      "3FO4JU1JGQ6R_Dining_room.zip\n",
      "3FO4JU1JGQ6R_Bedroom.zip\n",
      "3FO4JU1JFEDD_Guest_room.zip\n",
      "3FO4JU1JFEDD_Bedroom.zip\n",
      "3FO4JU11XYUI_Guest_room.zip\n",
      "3FO4JU11XYUI_Bedroom.zip\n",
      "3FO4JU0Q7E3V_Living_room.zip\n",
      "3FO4JU09TXSO_Guest_room.zip\n",
      "3FO4JU09TXSO_Bedroom.zip\n",
      "3FO4JU062JH3_Guest_room.zip\n",
      "3FO4JTY1FHO9_Guest_room.zip\n",
      "3FO4JTY1FHO9_Bedroom.zip\n",
      "3FO4JTXXSOES_Guest_room.zip\n",
      "3FO4JTXXSOES_Bedroom.zip\n",
      "3FO4JTXIFQ6W_Guest_room.zip\n",
      "3FO4JTXIFQ6W_Bedroom.zip\n",
      "3FO4JTWRE2I9_Living_room.zip\n",
      "3FO4JTWRE2I9_Dining_room.zip\n",
      "3FO4JTUX9L90_Bedroom.zip\n",
      "3FO4JTU2RURY_Bedroom.zip\n",
      "3FO4JTU1A537_Bedroom.zip\n",
      "3FO4JTTXJVFP_Guest_room.zip\n",
      "3FO4JTTXJVFP_Bedroom.zip\n",
      "3FO4JTTT10W7_Guest_room.zip\n",
      "3FO4JTS5HO7L_Guest_room.zip\n",
      "3FO4JTS5HO7L_Bedroom.zip\n",
      "3FO4JTRUGHUK_Guest_room.zip\n",
      "3FO4JTRUGHUK_Bedroom.zip\n",
      "3FO4JTRUGEIJ_Guest_room.zip\n",
      "3FO4JTRUGEIJ_Bedroom.zip\n",
      "3FO4JTRTS70L_Guest_room.zip\n",
      "3FO4JTRTS70L_Bedroom.zip\n",
      "3FO4JTROOTD9_Living_room.zip\n",
      "3FO4JTRKJW0W_Guest_room.zip\n",
      "3FO4JTRKJW0W_Bedroom.zip\n",
      "3FO4JTRDJ3QE_Bedroom.zip\n",
      "3FO4JTR4NIGI_Guest_room.zip\n",
      "3FO4JTR4NIGI_Bedroom.zip\n",
      "3FO4JTPVQ978_Guest_room.zip\n",
      "3FO4JTPVQ978_Bedroom.zip\n",
      "3FO4JTPG4SDS_Guest_room.zip\n",
      "3FO4JTPG4SDS_Bedroom.zip\n",
      "3FO4JTP2INIE_Guest_room.zip\n",
      "3FO4JTP2INIE_Bedroom.zip\n",
      "3FO4JTOMXIAT_Guest_room.zip\n",
      "3FO4JTOMXIAT_Bedroom.zip\n",
      "3FO4JTOF2IFA_Bedroom.zip\n",
      "3FO4JTNQ1CDP_Living_room.zip\n",
      "3FO4JTNQ1CDP_Guest_room.zip\n",
      "3FO4JTNQ1CDP_Bedroom.zip\n",
      "3FO4JTN6C2RK_Guest_room.zip\n",
      "3FO4JTN6C2RK_Bedroom.zip\n",
      "3FO4JTN1BDR1_Guest_room.zip\n",
      "3FO4JTN1BDR1_Bedroom.zip\n",
      "3FO4JTMROB2O_Guest_room.zip\n",
      "3FO4JTMROB2O_Bedroom.zip\n",
      "3FO4JTMQAE42_Guest_room.zip\n",
      "3FO4JTMQAE42_Bedroom.zip\n",
      "3FO4JTMLBIM2_Guest_room.zip\n",
      "3FO4JTMLBIM2_Bedroom.zip\n",
      "3FO4JTMFQT7T_Bedroom.zip\n",
      "3FO4JTMET913_Living_room.zip\n",
      "3FO4JTMET913_Bedroom.zip\n",
      "3FO4JTM4Y3BU_Guest_room.zip\n",
      "3FO4JTM4Y3BU_Bedroom.zip\n",
      "3FO4JTLFRA0L_Guest_room.zip\n",
      "3FO4JTKW563K_Guest_room.zip\n",
      "3FO4JTKW563K_Bedroom.zip\n",
      "3FO4JTKW4HOD_Bedroom.zip\n",
      "3FO4JTKVJIUE_Guest_room.zip\n",
      "3FO4JTKVJIUE_Bedroom.zip\n",
      "3FO4JTK4ID4F_Bedroom.zip\n",
      "3FO4JTJXCX50_Bedroom.zip\n",
      "3FO4JTJIM5MQ_Guest_room.zip\n",
      "3FO4JTJIM5MQ_Bedroom.zip\n",
      "3FO4JTJ891C5_Guest_room.zip\n",
      "3FO4JTJ891C5_Bedroom.zip\n",
      "3FO4JTIXXQ4U_Living_room.zip\n",
      "3FO4JTIXXQ4U_Bedroom.zip\n",
      "3FO4JTIT10R7_Guest_room.zip\n",
      "3FO4JTALYF1J_Bedroom.zip\n",
      "3FO4JT4KKWKU_Guest_room.zip\n",
      "3FO4JT2JD9GD_Guest_room.zip\n",
      "3FO4JSU5N4D8_Bedroom.zip\n",
      "3FO4JSSPNLO0_Guest_room.zip\n",
      "3FO4JSNP75A9_Guest_room.zip\n",
      "3FO4JSJLEPL7_Bedroom.zip\n",
      "3FO4JSF4R8UJ_Guest_room.zip\n",
      "3FO4JS5IAT8J_Bedroom.zip\n",
      "3FO4JS2W1NI9_Bedroom.zip\n",
      "3FO4JRUIT0BC_Guest_room.zip\n",
      "3FO4JRS3MYBS_Guest_room.zip\n",
      "3FO4JRR0MAAT_Bedroom.zip\n",
      "3FO4JTI0VMJS_Guest_room.zip\n",
      "3FO4JTI0VMJS_Bedroom.zip\n",
      "3FO4JTHUG8LU_Bedroom.zip\n",
      "3FO4JTHJ6Y9X_Guest_room.zip\n",
      "3FO4JTHJ6Y9X_Bedroom.zip\n",
      "3FO4JTH3Y39K_Guest_room.zip\n",
      "3FO4JTH3Y39K_Bedroom.zip\n",
      "3FO4JTG03OCP_Guest_room.zip\n",
      "3FO4JTG03OCP_Bedroom.zip\n",
      "3FO4JTEEHUER_Guest_room.zip\n",
      "3FO4JTEEHUER_Bedroom.zip\n",
      "3FO4JTDGDD90_Guest_room.zip\n",
      "3FO4JTDGDD90_Bedroom.zip\n",
      "3FO4JTDEHQ5D_Guest_room.zip\n",
      "3FO4JTCNVCGA_Guest_room.zip\n",
      "3FO4JTCNVCGA_Bedroom.zip\n",
      "3FO4JTBNF342_Guest_room.zip\n",
      "3FO4JTBNF342_Bedroom.zip\n",
      "3FO4JTBJVQF6_Guest_room.zip\n",
      "3FO4JTBJVQF6_Bedroom.zip\n",
      "3FO4JTBJUYNX_Guest_room.zip\n",
      "3FO4JTBJUYNX_Bedroom.zip\n",
      "3FO4JTBJUELR_Living_room.zip\n",
      "3FO4JTBJUELR_Guest_room.zip\n",
      "3FO4JTBJUELR_Bedroom.zip\n",
      "3FO4JTBA9OXD_Guest_room.zip\n",
      "3FO4JTBA9OXD_Bedroom.zip\n",
      "3FO4JTB60H4Q_Bedroom.zip\n",
      "3FO4JT7U96Y4_Guest_room.zip\n",
      "3FO4JT7U96Y4_Bedroom.zip\n",
      "3FO4JT7NX821_Guest_room.zip\n",
      "3FO4JT7NX821_Bedroom.zip\n",
      "3FO4JT7JPSQX_Guest_room.zip\n",
      "3FO4JT7JPSQX_Bedroom.zip\n",
      "3FO4JT635VQ5_Guest_room.zip\n",
      "3FO4JT635VQ5_Bedroom.zip\n",
      "3FO4JT5Q1CG6_Guest_room.zip\n",
      "3FO4JT5Q1CG6_Bedroom.zip\n",
      "3FO4JT5PMAWY_Living_room.zip\n",
      "3FO4JT5PMAWY_Guest_room.zip\n",
      "3FO4JT5PMAWY_Dining_room.zip\n",
      "3FO4JT5PMAWY_Bedroom.zip\n",
      "3FO4JT4KKWKU_Bedroom.zip\n",
      "3FO4JT4KKMJR_Guest_room.zip\n",
      "3FO4JT4KKMJR_Bedroom.zip\n",
      "3FO4JT4KJUSJ_Living_room.zip\n",
      "3FO4JT4KJUSJ_Bedroom.zip\n",
      "3FO4JT4KIT18_Living_room.zip\n",
      "3FO4JT4KIT18_Bedroom.zip\n",
      "3FO4JT3PSTS7_Living_room.zip\n",
      "3FO4JT3PSTS7_Bedroom.zip\n",
      "3FO4JT3IOB4K_Guest_room.zip\n",
      "3FO4JT3IOB4K_Bedroom.zip\n",
      "3FO4JT3AVJX0_Living_room.zip\n",
      "3FO4JT3AVJX0_Guest_room.zip\n",
      "3FO4JT3AVJX0_Bedroom.zip\n",
      "3FO4JT2JD9GD_Bedroom.zip\n",
      "3FO4JT23TKLR_Guest_room.zip\n",
      "3FO4JT23TKLR_Bedroom.zip\n",
      "3FO4JT22P1BX_Bedroom.zip\n",
      "3FO4JT1T5IWD_Guest_room.zip\n",
      "3FO4JT1T5IWD_Bedroom.zip\n",
      "3FO4JT0RA2KF_Guest_room.zip\n",
      "3FO4JT0CEL8R_Guest_room.zip\n",
      "3FO4JT0CEL8R_Bedroom.zip\n",
      "3FO4JSY2NBPC_Guest_room.zip\n",
      "3FO4JSY2NBPC_Bedroom.zip\n",
      "3FO4JSXELCP0_Bedroom.zip\n",
      "3FO4JSVTVH4B_Bedroom.zip\n",
      "3FO4JSUWAFA2_Bedroom.zip\n",
      "3FO4JSTU74QR_Guest_room.zip\n",
      "3FO4JSTU74QR_Bedroom.zip\n",
      "3FO4JSTU463V_Bedroom.zip\n",
      "3FO4JSTQWHCH_Guest_room.zip\n",
      "3FO4JSTQWHCH_Bedroom.zip\n",
      "3FO4JSTOU2TT_Guest_room.zip\n",
      "3FO4JSTOU2TT_Bedroom.zip\n",
      "3FO4JSTO7M34_Living_room.zip\n",
      "3FO4JSTO7M34_Guest_room.zip\n",
      "3FO4JSTO7M34_Dining_room.zip\n",
      "3FO4JSTO7M34_Bedroom.zip\n",
      "3FO4JSTMYJ38_Guest_room.zip\n",
      "3FO4JSTMYJ38_Bedroom.zip\n",
      "3FO4JSTBXUNV_Bedroom.zip\n",
      "3FO4JSSPNLO0_Bedroom.zip\n",
      "3FO4JSRYI0W6_Guest_room.zip\n",
      "3FO4JSRYI0W6_Bedroom.zip\n",
      "3FO4JSRB52DJ_Bedroom.zip\n",
      "3FO4JSRB0A74_Guest_room.zip\n",
      "3FO4JSRB0A74_Bedroom.zip\n",
      "3FO4JSR2VWUD_Guest_room.zip\n",
      "3FO4JSR2VWUD_Bedroom.zip\n",
      "3FO4JSQVSBEH_Guest_room.zip\n",
      "3FO4JSQVSBEH_Bedroom.zip\n",
      "3FO4JSPFARYE_Guest_room.zip\n",
      "3FO4JSPFARYE_Bedroom.zip\n",
      "3FO4JSOVG1K3_Guest_room.zip\n",
      "3FO4JSOVG1K3_Bedroom.zip\n",
      "3FO4JSNP75A9_Bedroom.zip\n",
      "3FO4JSN4BOJS_Guest_room.zip\n",
      "3FO4JSN4BOJS_Bedroom.zip\n",
      "3FO4JSLXT64U_Guest_room.zip\n",
      "3FO4JSLXT64U_Bedroom.zip\n",
      "3FO4JSL6I5YX_Living_room.zip\n",
      "3FO4JSKVUTH2_Guest_room.zip\n",
      "3FO4JSKVUTH2_Bedroom.zip\n",
      "3FO4JSK8R8M8_Guest_room.zip\n",
      "3FO4JSK8R8M8_Bedroom.zip\n",
      "3FO4JSK3YUI6_Guest_room.zip\n",
      "3FO4JSK3YUI6_Bedroom.zip\n",
      "3FO4JSJLNOVV_Guest_room.zip\n",
      "3FO4JSJLNOVV_Bedroom.zip\n",
      "3FO4JSJ89MGL_Guest_room.zip\n",
      "3FO4JSJ89MGL_Bedroom.zip\n",
      "3FO4JSISSL19_Living_room.zip\n",
      "3FO4JSISSL19_Guest_room.zip\n",
      "3FO4JSISSL19_Bedroom.zip\n",
      "3FO4JSGYER37_Guest_room.zip\n",
      "3FO4JSGYER37_Bedroom.zip\n",
      "3FO4JSGXHK9K_Guest_room.zip\n",
      "3FO4JSGXHK9K_Bedroom.zip\n",
      "3FO4JSGX2KB3_Bedroom.zip\n",
      "3FO4JSGQ9V90_Guest_room.zip\n",
      "3FO4JSGQ9V90_Bedroom.zip\n",
      "3FO4JSGEEHXR_Guest_room.zip\n",
      "3FO4JSGEEHXR_Bedroom.zip\n",
      "3FO4JSF4R8UJ_Bedroom.zip\n",
      "3FO4JSCVGR8X_Bedroom.zip\n",
      "3FO4JSCC694W_Guest_room.zip\n",
      "3FO4JSCC694W_Bedroom.zip\n",
      "3FO4JSBA5PKG_Living_room.zip\n",
      "3FO4JSBA5PKG_Bedroom.zip\n",
      "3FO4JSAWXOCQ_Bedroom.zip\n",
      "3FO4JS871TCS_Living_room.zip\n",
      "3FO4JS7RTKJ3_Guest_room.zip\n",
      "3FO4JS7RTKJ3_Bedroom.zip\n",
      "3FO4JS6BBH1T_Bedroom.zip\n",
      "3FO4JS61BPU8_Guest_room.zip\n",
      "3FO4JS61BPU8_Bedroom.zip\n",
      "3FO4JS619PMM_Bedroom.zip\n",
      "3FO4JS5CTNJD_Guest_room.zip\n",
      "3FO4JS5CTNJD_Bedroom.zip\n",
      "3FO4JS57CQ3Y_Guest_room.zip\n",
      "3FO4JS57CQ3Y_Bedroom.zip\n",
      "3FO4JS53I1IO_Guest_room.zip\n",
      "3FO4JS53I1IO_Bedroom.zip\n",
      "3FO4JS46MKS3_Guest_room.zip\n",
      "3FO4JS46MKS3_Bedroom.zip\n",
      "3FO4JS3HV95G_Guest_room.zip\n",
      "3FO4JS3HV95G_Bedroom.zip\n",
      "3FO4JS33BUO4_Living_room.zip\n",
      "3FO4JS33BUO4_Guest_room.zip\n",
      "3FO4JS33BUO4_Bedroom.zip\n",
      "3FO4JS2W1NI9_Guest_room.zip\n",
      "3FO4JS0W2K3S_Guest_room.zip\n",
      "3FO4JS0W2K3S_Bedroom.zip\n",
      "3FO4JRYMMQSS_Guest_room.zip\n",
      "3FO4JRYMMQSS_Bedroom.zip\n",
      "3FO4JRX8AI78_Guest_room.zip\n",
      "3FO4JRX8AI78_Bedroom.zip\n",
      "3FO4JRX1667N_Living_room.zip\n",
      "3FO4JRX01IKS_Living_room.zip\n",
      "3FO4JRVTQMN5_Guest_room.zip\n",
      "3FO4JRVTQMN5_Bedroom.zip\n",
      "3FO4JRV8O4HK_Living_room.zip\n",
      "3FO4JRV8O4HK_Dining_room.zip\n",
      "3FO4JRUK033M_Guest_room.zip\n",
      "3FO4JRUK033M_Bedroom.zip\n",
      "3FO4JRUIT0BC_Bedroom.zip\n",
      "3FO4JRUIS1V2_Living_room.zip\n",
      "3FO4JRUIS1V2_Guest_room.zip\n",
      "3FO4JRUIS1V2_Dining_room.zip\n",
      "3FO4JRUIS1V2_Bedroom.zip\n",
      "3FO4JRUIDW0T_Living_room.zip\n",
      "3FO4JRUIDW0T_Dining_room.zip\n",
      "3FO4JRUIBIF4_Living_room.zip\n",
      "3FO4JRTFOE77_Bedroom.zip\n",
      "3FO4JRTF5NTL_Guest_room.zip\n",
      "3FO4JRTF5NTL_Bedroom.zip\n",
      "3FO4JRT86O3M_Guest_room.zip\n",
      "3FO4JRS8FCFU_Guest_room.zip\n",
      "3FO4JRS8FCFU_Bedroom.zip\n",
      "3FO4JRS3MYBS_Bedroom.zip\n",
      "3FO4JRRYMPSU_Living_room.zip\n",
      "3FO4JRRYMPSU_Bedroom.zip\n",
      "3FO4JRRV278B_Guest_room.zip\n",
      "3FO4JRRV278B_Bedroom.zip\n",
      "3FO4JRRRY26Y_Guest_room.zip\n",
      "3FO4JRRRY26Y_Bedroom.zip\n",
      "3FO4JRRQ5IMY_Bedroom.zip\n",
      "3FO4JRR9TBT5_Guest_room.zip\n",
      "3FO4JRR9TBT5_Bedroom.zip\n",
      "3FO4JRR9OX0T_Guest_room.zip\n",
      "3FO4JRR9OX0T_Bedroom.zip\n",
      "3FO4JRR2V0HD_Guest_room.zip\n",
      "3FO4JRR2V0HD_Bedroom.zip\n",
      "3FO4JRL7XCH8_Bedroom.zip\n",
      "3FO4JRFWNIWS_Guest_room.zip\n",
      "3FO4JRBN25HQ_Bedroom.zip\n",
      "3FO4JR8GK9TS_Bedroom.zip\n",
      "3FO4JR3QD0NH_Bedroom.zip\n",
      "3FO4JR0S7S8R_Guest_room.zip\n",
      "3FO4JQY4SUCH_Guest_room.zip\n",
      "3FO4JQS72EYS_Guest_room.zip\n",
      "3FO4JQN3T343_Bedroom.zip\n",
      "3FO4JQJV4YJI_Bedroom.zip\n",
      "3FO4JQGWCI25_Living_room.zip\n",
      "3FO4JQFILNEY_Living_room.zip\n",
      "3FO4JQESSQ5E_Guest_room.zip\n",
      "3FO4JRQWDONU_Living_room.zip\n",
      "3FO4JRQWDONU_Guest_room.zip\n",
      "3FO4JRQWDONU_Bedroom.zip\n",
      "3FO4JRQAS4JV_Bedroom.zip\n",
      "3FO4JRPSM7U6_Bedroom.zip\n",
      "3FO4JRPH1NXV_Guest_room.zip\n",
      "3FO4JRPH1NXV_Bedroom.zip\n",
      "3FO4JRPFQURH_Guest_room.zip\n",
      "3FO4JRPFQURH_Bedroom.zip\n",
      "3FO4JROMORSR_Guest_room.zip\n",
      "3FO4JROMORSR_Bedroom.zip\n",
      "3FO4JROAH36U_Bedroom.zip\n",
      "3FO4JRO8DIJU_Guest_room.zip\n",
      "3FO4JRO8DIJU_Bedroom.zip\n",
      "3FO4JRNUE2OX_Bedroom.zip\n",
      "3FO4JRNNQ96B_Guest_room.zip\n",
      "3FO4JRNNQ96B_Bedroom.zip\n",
      "3FO4JRN3OTWJ_Guest_room.zip\n",
      "3FO4JRN3OTWJ_Bedroom.zip\n",
      "3FO4JRMWJ4W1_Guest_room.zip\n",
      "3FO4JRMWJ4W1_Bedroom.zip\n",
      "3FO4JRMU5WK5_Bedroom.zip\n",
      "3FO4JRMLW7YS_Living_room.zip\n",
      "3FO4JRMLW7YS_Guest_room.zip\n",
      "3FO4JRMLW7YS_Bedroom.zip\n",
      "3FO4JRLBPDFP_Guest_room.zip\n",
      "3FO4JRLBPDFP_Bedroom.zip\n",
      "3FO4JRL7XCH8_Guest_room.zip\n",
      "3FO4JRL33RGI_Bedroom.zip\n",
      "3FO4JRK9CP8M_Guest_room.zip\n",
      "3FO4JRK9CP8M_Bedroom.zip\n",
      "3FO4JRK0XK2N_Bedroom.zip\n",
      "3FO4JRJVQJ5O_Bedroom.zip\n",
      "3FO4JRI0QPSV_Guest_room.zip\n",
      "3FO4JRI0QPSV_Bedroom.zip\n",
      "3FO4JRHNEMDN_Guest_room.zip\n",
      "3FO4JRHNEMDN_Bedroom.zip\n",
      "3FO4JRHJ6X2H_Bedroom.zip\n",
      "3FO4JRHDM8N9_Bedroom.zip\n",
      "3FO4JRH16YV3_Living_room.zip\n",
      "3FO4JRGXR2CO_Guest_room.zip\n",
      "3FO4JRGXR2CO_Bedroom.zip\n",
      "3FO4JRFWNIWS_Bedroom.zip\n",
      "3FO4JRFKVRON_Guest_room.zip\n",
      "3FO4JRFKVRON_Bedroom.zip\n",
      "3FO4JRDJS50D_Living_room.zip\n",
      "3FO4JRDJS50D_Guest_room.zip\n",
      "3FO4JRDJS50D_Bedroom.zip\n",
      "3FO4JRDJI79E_Guest_room.zip\n",
      "3FO4JRDJI79E_Bedroom.zip\n",
      "3FO4JRD8DVRY_Bedroom.zip\n",
      "3FO4JRCCXOTE_Guest_room.zip\n",
      "3FO4JRCCXOTE_Bedroom.zip\n",
      "3FO4JRC0HHLX_Bedroom.zip\n",
      "3FO4JRBS4GCR_Guest_room.zip\n",
      "3FO4JRBS4GCR_Bedroom.zip\n",
      "3FO4JRBAF7NK_Bedroom.zip\n",
      "3FO4JRAXUPJL_Guest_room.zip\n",
      "3FO4JRAXUPJL_Bedroom.zip\n",
      "3FO4JRAVTJIB_Living_room.zip\n",
      "3FO4JRAVTJIB_Guest_room.zip\n",
      "3FO4JRAVTJIB_Dining_room.zip\n",
      "3FO4JRAVTJIB_Bedroom.zip\n",
      "3FO4JRAVHS8S_Guest_room.zip\n",
      "3FO4JRAVHS8S_Bedroom.zip\n",
      "3FO4JRAPKARQ_Living_room.zip\n",
      "3FO4JRAPKARQ_Bedroom.zip\n",
      "3FO4JR90X37I_Living_room.zip\n",
      "3FO4JR90X37I_Dining_room.zip\n",
      "3FO4JR8GK9TS_Guest_room.zip\n",
      "3FO4JR8EGSJT_Guest_room.zip\n",
      "3FO4JR8EGSJT_Bedroom.zip\n",
      "3FO4JR8CTO1Q_Living_room.zip\n",
      "3FO4JR8CTO1Q_Bedroom.zip\n",
      "3FO4JR7CTX5G_Guest_room.zip\n",
      "3FO4JR7CTX5G_Bedroom.zip\n",
      "3FO4JR646EDB_Guest_room.zip\n",
      "3FO4JR646EDB_Bedroom.zip\n",
      "3FO4JR5163PG_Living_room.zip\n",
      "3FO4JR5163PG_Guest_room.zip\n",
      "3FO4JR5163PG_Bedroom.zip\n",
      "3FO4JR4CB8CR_Guest_room.zip\n",
      "3FO4JR4CB8CR_Bedroom.zip\n",
      "3FO4JR3QD0NH_Guest_room.zip\n",
      "3FO4JR30VUUY_Bedroom.zip\n",
      "3FO4JR2X3U9N_Guest_room.zip\n",
      "3FO4JR2X3U9N_Bedroom.zip\n",
      "3FO4JR24OCM8_Guest_room.zip\n",
      "3FO4JR24OCM8_Bedroom.zip\n",
      "3FO4JR1PCEY4_Guest_room.zip\n",
      "3FO4JR1PCEY4_Bedroom.zip\n",
      "3FO4JR18WRR9_Guest_room.zip\n",
      "3FO4JR18WRR9_Bedroom.zip\n",
      "3FO4JR15Y1J8_Guest_room.zip\n",
      "3FO4JR15Y1J8_Bedroom.zip\n",
      "3FO4JR0UK25D_Living_room.zip\n",
      "3FO4JR0UK25D_Guest_room.zip\n",
      "3FO4JR0UK25D_Bedroom.zip\n",
      "3FO4JR0S7S8R_Bedroom.zip\n",
      "3FO4JR00E7UL_Living_room.zip\n",
      "3FO4JR00E7UL_Guest_room.zip\n",
      "3FO4JR00E7UL_Dining_room.zip\n",
      "3FO4JR00E7UL_Bedroom.zip\n",
      "3FO4JQYXIE2W_Guest_room.zip\n",
      "3FO4JQYXIE2W_Bedroom.zip\n",
      "3FO4JQYQD0B1_Bedroom.zip\n",
      "3FO4JQYQ3FX6_Guest_room.zip\n",
      "3FO4JQYQ3FX6_Bedroom.zip\n",
      "3FO4JQYJ2FYL_Bedroom.zip\n",
      "3FO4JQYCD3XI_Living_room.zip\n",
      "3FO4JQY8J64G_Dining_room.zip\n",
      "3FO4JQY8J64G_Bedroom.zip\n",
      "3FO4JQY4SUCH_Bedroom.zip\n",
      "3FO4JQXUVD71_Guest_room.zip\n",
      "3FO4JQXUVD71_Bedroom.zip\n",
      "3FO4JQXFQ5SG_Living_room.zip\n",
      "3FO4JQXFQ5SG_Guest_room.zip\n",
      "3FO4JQW7V03S_Guest_room.zip\n",
      "3FO4JQW7V03S_Bedroom.zip\n",
      "3FO4JQV9K795_Living_room.zip\n",
      "3FO4JQURBIKL_Bedroom.zip\n",
      "3FO4JQUM1K8A_Guest_room.zip\n",
      "3FO4JQUM1K8A_Bedroom.zip\n",
      "3FO4JQULJK27_Living_room.zip\n",
      "3FO4JQTRO410_Guest_room.zip\n",
      "3FO4JQTRO410_Bedroom.zip\n",
      "3FO4JQS72EYS_Bedroom.zip\n",
      "3FO4JQQ9KCND_Bedroom.zip\n",
      "3FO4JQQ64173_Guest_room.zip\n",
      "3FO4JQQ64173_Bedroom.zip\n",
      "3FO4JQOQD13E_Living_room.zip\n",
      "3FO4JQOQD13E_Guest_room.zip\n",
      "3FO4JQOQD13E_Bedroom.zip\n",
      "3FO4JQNU834F_Guest_room.zip\n",
      "3FO4JQNU834F_Bedroom.zip\n",
      "3FO4JQNMGUFB_Bedroom.zip\n",
      "3FO4JQNMEGTL_Living_room.zip\n",
      "3FO4JQNMEGTL_Bedroom.zip\n",
      "3FO4JQNME6SI_Bedroom.zip\n",
      "3FO4JQN3T343_Guest_room.zip\n",
      "3FO4JQMWBVU5_Bedroom.zip\n",
      "3FO4JQMVK5M5_Bedroom.zip\n",
      "3FO4JQL7A2OJ_Guest_room.zip\n",
      "3FO4JQL7A2OJ_Bedroom.zip\n",
      "3FO4JQL3TS0K_Living_room.zip\n",
      "3FO4JQL3TS0K_Guest_room.zip\n",
      "3FO4JQL3TS0K_Dining_room.zip\n",
      "3FO4JQL3TS0K_Bedroom.zip\n",
      "3FO4JQKE2WIB_Guest_room.zip\n",
      "3FO4JQKE2WIB_Bedroom.zip\n",
      "3FO4JQK4XMXT_Living_room.zip\n",
      "3FO4JQK4XMXT_Guest_room.zip\n",
      "3FO4JQK4XMXT_Dining_room.zip\n",
      "3FO4JQK4XMXT_Bedroom.zip\n",
      "3FO4JQJSBAJ0_Living_room.zip\n",
      "3FO4JQJSBAJ0_Bedroom.zip\n",
      "3FO4JQI6QQ9Y_Bedroom.zip\n",
      "3FO4JQHPXI2I_Guest_room.zip\n",
      "3FO4JQHPXI2I_Bedroom.zip\n",
      "3FO4JQHBOJ2A_Guest_room.zip\n",
      "3FO4JQHBOJ2A_Bedroom.zip\n",
      "3FO4JQH86Y4M_Guest_room.zip\n",
      "3FO4JQH86Y4M_Bedroom.zip\n",
      "3FO4JQH6PA76_Living_room.zip\n",
      "3FO4JQH6PA76_Guest_room.zip\n",
      "3FO4JQH6PA76_Bedroom.zip\n",
      "3FO4JQH12M52_Guest_room.zip\n",
      "3FO4JQH12M52_Bedroom.zip\n",
      "3FO4JQGN93KW_Guest_room.zip\n",
      "3FO4JQGN93KW_Bedroom.zip\n",
      "3FO4JQGA35D2_Guest_room.zip\n",
      "3FO4JQGA35D2_Bedroom.zip\n",
      "3FO4JQG22QO7_Guest_room.zip\n",
      "3FO4JQG22QO7_Bedroom.zip\n",
      "3FO4JQG16OYW_Guest_room.zip\n",
      "3FO4JQG16OYW_Bedroom.zip\n",
      "3FO4JQFVB9UX_Guest_room.zip\n",
      "3FO4JQFVB9UX_Bedroom.zip\n",
      "3FO4JQFVB36V_Guest_room.zip\n",
      "3FO4JQFVB36V_Bedroom.zip\n",
      "3FO4JQFJ21QK_Guest_room.zip\n",
      "3FO4JQFJ21QK_Bedroom.zip\n",
      "3FO4JQFILNEY_Dining_room.zip\n",
      "3FO4JQFILNEY_Bedroom.zip\n",
      "3FO4JQFC8OAA_Guest_room.zip\n",
      "3FO4JQFC8OAA_Bedroom.zip\n",
      "3FO4JQEUF79A_Living_room.zip\n",
      "3FO4JQEUF79A_Guest_room.zip\n",
      "3FO4JQEUF79A_Dining_room.zip\n",
      "3FO4JQEUF79A_Bedroom.zip\n",
      "3FO4JQETIDSR_Living_room.zip\n",
      "3FO4JQETIDSR_Guest_room.zip\n",
      "3FO4JQETIDSR_Bedroom.zip\n",
      "3FO4JQESYA32_Guest_room.zip\n",
      "3FO4JQESYA32_Bedroom.zip\n",
      "3FO4JQESSQ5E_Living_room.zip\n",
      "3FO4JQ914IAP_Bedroom.zip\n",
      "3FO4JQ7XM698_Bedroom.zip\n",
      "3FO4JQ5NRSSI_Living_room.zip\n",
      "3FO4JQ5LB2QK_Guest_room.zip\n",
      "3FO4JQ5484OQ_Living_room.zip\n",
      "3FO4JQ3UYKV3_Bedroom.zip\n",
      "3FO4JQ1HI30C_Bedroom.zip\n",
      "3FO4JPYELGT8_Bedroom.zip\n",
      "3FO4JPTVMU3R_Living_room.zip\n",
      "3FO4JPT56TUT_Bedroom.zip\n",
      "3FO4JPRA3JXG_Living_room.zip\n",
      "3FO4JPKQCXG7_Bedroom.zip\n",
      "3FO4JPHJ6LSX_Bedroom.zip\n",
      "3FO4JQESSQ5E_Bedroom.zip\n",
      "3FO4JQEKMBSQ_Guest_room.zip\n",
      "3FO4JQEKMBSQ_Bedroom.zip\n",
      "3FO4JQEIO4FC_Guest_room.zip\n",
      "3FO4JQEIO4FC_Bedroom.zip\n",
      "3FO4JQED4F14_Guest_room.zip\n",
      "3FO4JQED4F14_Bedroom.zip\n",
      "3FO4JQE7H203_Guest_room.zip\n",
      "3FO4JQE7H203_Bedroom.zip\n",
      "3FO4JQE1GUW8_Bedroom.zip\n",
      "3FO4JQDUOCBN_Guest_room.zip\n",
      "3FO4JQDUOCBN_Bedroom.zip\n",
      "3FO4JQDLFNXU_Guest_room.zip\n",
      "3FO4JQDLFNXU_Bedroom.zip\n",
      "3FO4JQDBIBCY_Bedroom.zip\n",
      "3FO4JQCAHN8X_Bedroom.zip\n",
      "3FO4JQB8R2FG_Bedroom.zip\n",
      "3FO4JQB0B3PX_Guest_room.zip\n",
      "3FO4JQB0B3PX_Bedroom.zip\n",
      "3FO4JQAFX717_Guest_room.zip\n",
      "3FO4JQAFX717_Bedroom.zip\n",
      "3FO4JQAE8DVB_Guest_room.zip\n",
      "3FO4JQAE8DVB_Bedroom.zip\n",
      "3FO4JQ9OUQLB_Guest_room.zip\n",
      "3FO4JQ9OUQLB_Bedroom.zip\n",
      "3FO4JQ9F2OGP_Bedroom.zip\n",
      "3FO4JQ9CQY2K_Guest_room.zip\n",
      "3FO4JQ9CQY2K_Bedroom.zip\n",
      "3FO4JQ8O86K7_Bedroom.zip\n",
      "3FO4JQ8EHI1B_Guest_room.zip\n",
      "3FO4JQ8EHI1B_Bedroom.zip\n",
      "3FO4JQ8EH4N7_Guest_room.zip\n",
      "3FO4JQ8EH4N7_Bedroom.zip\n",
      "3FO4JQ8EGQA3_Guest_room.zip\n",
      "3FO4JQ8EGQA3_Bedroom.zip\n",
      "3FO4JQ8EGG90_Living_room.zip\n",
      "3FO4JQ8EGG90_Guest_room.zip\n",
      "3FO4JQ8EGG90_Bedroom.zip\n",
      "3FO4JQ8EFB4N_Guest_room.zip\n",
      "3FO4JQ8EFB4N_Bedroom.zip\n",
      "3FO4JQ889L45_Living_room.zip\n",
      "3FO4JQ7XM698_Guest_room.zip\n",
      "3FO4JQ7WAG79_Guest_room.zip\n",
      "3FO4JQ7WAG79_Bedroom.zip\n",
      "3FO4JQ7PK92W_Guest_room.zip\n",
      "3FO4JQ7PK92W_Bedroom.zip\n",
      "3FO4JQ7M9N8C_Bedroom.zip\n",
      "3FO4JQ732NTD_Guest_room.zip\n",
      "3FO4JQ732NTD_Bedroom.zip\n",
      "3FO4JQ6GVF9O_Guest_room.zip\n",
      "3FO4JQ6GVF9O_Bedroom.zip\n",
      "3FO4JQ65C86S_Bedroom.zip\n",
      "3FO4JQ615UO1_Guest_room.zip\n",
      "3FO4JQ615UO1_Bedroom.zip\n",
      "3FO4JQ5SG6HD_Guest_room.zip\n",
      "3FO4JQ5SG6HD_Bedroom.zip\n",
      "3FO4JQ5NRSSI_Guest_room.zip\n",
      "3FO4JQ5NRSSI_Bedroom.zip\n",
      "3FO4JQ5MTDII_Bedroom.zip\n",
      "3FO4JQ5MIRDC_Bedroom.zip\n",
      "3FO4JQ5M7HSY_Guest_room.zip\n",
      "3FO4JQ5M7HSY_Bedroom.zip\n",
      "3FO4JQ5M6MPP_Guest_room.zip\n",
      "3FO4JQ5M6MPP_Bedroom.zip\n",
      "3FO4JQ5M3O2T_Guest_room.zip\n",
      "3FO4JQ5M3O2T_Bedroom.zip\n",
      "3FO4JQ5M2IXH_Living_room.zip\n",
      "3FO4JQ5M2IXH_Guest_room.zip\n",
      "3FO4JQ5M2IXH_Dining_room.zip\n",
      "3FO4JQ5M2IXH_Bedroom.zip\n",
      "3FO4JQ5LB2QK_Bedroom.zip\n",
      "3FO4JQ54DNME_Guest_room.zip\n",
      "3FO4JQ54DNME_Bedroom.zip\n",
      "3FO4JQ54DKAD_Guest_room.zip\n",
      "3FO4JQ54DKAD_Bedroom.zip\n",
      "3FO4JQ54B3CM_Guest_room.zip\n",
      "3FO4JQ54B3CM_Bedroom.zip\n",
      "3FO4JQ549X8A_Guest_room.zip\n",
      "3FO4JQ549X8A_Bedroom.zip\n",
      "3FO4JQ5496H2_Guest_room.zip\n",
      "3FO4JQ5496H2_Bedroom.zip\n",
      "3FO4JQ548BDS_Living_room.zip\n",
      "3FO4JQ548BDS_Guest_room.zip\n",
      "3FO4JQ548BDS_Bedroom.zip\n",
      "3FO4JQ5484OQ_Guest_room.zip\n",
      "3FO4JQ5484OQ_Bedroom.zip\n",
      "3FO4JQ546RVC_Bedroom.zip\n",
      "3FO4JQ545CPW_Guest_room.zip\n",
      "3FO4JQ545CPW_Bedroom.zip\n",
      "3FO4JQ544OBP_Guest_room.zip\n",
      "3FO4JQ544OBP_Bedroom.zip\n",
      "3FO4JQ4N6AJP_Guest_room.zip\n",
      "3FO4JQ4N6AJP_Bedroom.zip\n",
      "3FO4JQ4MV9GP_Bedroom.zip\n",
      "3FO4JQ47IL9W_Bedroom.zip\n",
      "3FO4JQ3Y8QK8_Guest_room.zip\n",
      "3FO4JQ3Y8QK8_Bedroom.zip\n",
      "3FO4JQ3UYKV3_Guest_room.zip\n",
      "3FO4JQ3U8OQC_Guest_room.zip\n",
      "3FO4JQ3U8OQC_Bedroom.zip\n",
      "3FO4JQ3NQBSC_Guest_room.zip\n",
      "3FO4JQ3NQBSC_Bedroom.zip\n",
      "3FO4JQ3NOBKQ_Guest_room.zip\n",
      "3FO4JQ3NOBKQ_Bedroom.zip\n",
      "3FO4JQ3LQAVE_Bedroom.zip\n",
      "3FO4JQ3I5UMV_Guest_room.zip\n",
      "3FO4JQ3I5UMV_Bedroom.zip\n",
      "3FO4JQ2EMBCK_Guest_room.zip\n",
      "3FO4JQ2EMBCK_Bedroom.zip\n",
      "3FO4JQ24R2BB_Bedroom.zip\n",
      "3FO4JQ1KYL5O_Bedroom.zip\n",
      "3FO4JQ1KEWCS_Bedroom.zip\n",
      "3FO4JQ0KPKWM_Guest_room.zip\n",
      "3FO4JQ0KPKWM_Bedroom.zip\n",
      "3FO4JQ0EJ0SU_Guest_room.zip\n",
      "3FO4JQ0EJ0SU_Bedroom.zip\n",
      "3FO4JQ0DRMXY_Living_room.zip\n",
      "3FO4JQ0DRMXY_Guest_room.zip\n",
      "3FO4JQ0DRMXY_Dining_room.zip\n",
      "3FO4JQ0DRMXY_Bedroom.zip\n",
      "3FO4JQ0AA31B_Bedroom.zip\n",
      "3FO4JPYL0OFA_Guest_room.zip\n",
      "3FO4JPYL0OFA_Bedroom.zip\n",
      "3FO4JPYJM96S_Guest_room.zip\n",
      "3FO4JPYJM96S_Bedroom.zip\n",
      "3FO4JPYELGT8_Guest_room.zip\n",
      "3FO4JPYAIGCG_Bedroom.zip\n",
      "3FO4JPY9LMVX_Guest_room.zip\n",
      "3FO4JPY9LMVX_Bedroom.zip\n",
      "3FO4JPVYDMB5_Bedroom.zip\n",
      "3FO4JPVJMD3Q_Guest_room.zip\n",
      "3FO4JPVJMD3Q_Bedroom.zip\n",
      "3FO4JPVG2YMJ_Guest_room.zip\n",
      "3FO4JPVG2YMJ_Bedroom.zip\n",
      "3FO4JPV2132F_Living_room.zip\n",
      "3FO4JPUORSDC_Guest_room.zip\n",
      "3FO4JPUORSDC_Bedroom.zip\n",
      "3FO4JPUM78K9_Guest_room.zip\n",
      "3FO4JPUM78K9_Bedroom.zip\n",
      "3FO4JPUD3PR0_Bedroom.zip\n",
      "3FO4JPTVMU3R_Guest_room.zip\n",
      "3FO4JPTVMU3R_Bedroom.zip\n",
      "3FO4JPTOSJ77_Guest_room.zip\n",
      "3FO4JPTOSJ77_Bedroom.zip\n",
      "3FO4JPTFBJWW_Guest_room.zip\n",
      "3FO4JPTFBJWW_Bedroom.zip\n",
      "3FO4JPT9F496_Guest_room.zip\n",
      "3FO4JPT9F496_Bedroom.zip\n",
      "3FO4JPT5B5C4_Guest_room.zip\n",
      "3FO4JPT5B5C4_Bedroom.zip\n",
      "3FO4JPT59LTN_Bedroom.zip\n",
      "3FO4JPT57IA1_Guest_room.zip\n",
      "3FO4JPT57IA1_Bedroom.zip\n",
      "3FO4JPT56TUT_Guest_room.zip\n",
      "3FO4JPSKP12W_Guest_room.zip\n",
      "3FO4JPSKP12W_Bedroom.zip\n",
      "3FO4JPSDTA0W_Guest_room.zip\n",
      "3FO4JPSDTA0W_Bedroom.zip\n",
      "3FO4JPS23UL6_Guest_room.zip\n",
      "3FO4JPS23UL6_Bedroom.zip\n",
      "3FO4JPRJK5TM_Guest_room.zip\n",
      "3FO4JPRJK5TM_Bedroom.zip\n",
      "3FO4JPRFMRMJ_Living_room.zip\n",
      "3FO4JPRFMRMJ_Bedroom.zip\n",
      "3FO4JPRFCJUH_Living_room.zip\n",
      "3FO4JPRFCJUH_Guest_room.zip\n",
      "3FO4JPRFCJUH_Dining_room.zip\n",
      "3FO4JPRFCJUH_Bedroom.zip\n",
      "3FO4JPRA3JXG_Guest_room.zip\n",
      "3FO4JPRA3JXG_Bedroom.zip\n",
      "3FO4JPQQMQPB_Bedroom.zip\n",
      "3FO4JPP3W4O0_Guest_room.zip\n",
      "3FO4JPP3W4O0_Bedroom.zip\n",
      "3FO4JPNFJPA6_Guest_room.zip\n",
      "3FO4JPNFJPA6_Bedroom.zip\n",
      "3FO4JPMQXFU2_Guest_room.zip\n",
      "3FO4JPMQXFU2_Bedroom.zip\n",
      "3FO4JPMP107V_Guest_room.zip\n",
      "3FO4JPMP107V_Bedroom.zip\n",
      "3FO4JPKS1LGQ_Guest_room.zip\n",
      "3FO4JPKS1LGQ_Bedroom.zip\n",
      "3FO4JPKQCXG7_Guest_room.zip\n",
      "3FO4JPK7V03P_Guest_room.zip\n",
      "3FO4JPK7V03P_Bedroom.zip\n",
      "3FO4JPJJY3AV_Living_room.zip\n",
      "3FO4JPIUYPRU_Guest_room.zip\n",
      "3FO4JPIUYPRU_Bedroom.zip\n",
      "3FO4JPINV27H_Guest_room.zip\n",
      "3FO4JPINV27H_Bedroom.zip\n",
      "3FO4JPI0JW7E_Guest_room.zip\n",
      "3FO4JPI0JW7E_Bedroom.zip\n",
      "3FO4JPHPBK38_Living_room.zip\n",
      "3FO4JPHPBK38_Guest_room.zip\n",
      "3FO4JPHPBK38_Dining_room.zip\n",
      "3FO4JPHPBK38_Bedroom.zip\n",
      "3FO4JPHJ6LSX_Guest_room.zip\n",
      "3FO4JPD2HBJQ_Guest_room.zip\n",
      "3FO4JPA0H16M_Bedroom.zip\n",
      "3FO4JP7HTCH6_Guest_room.zip\n",
      "3FO4JOXUTF40_Bedroom.zip\n",
      "3FO4JOQ5PVVP_Guest_room.zip\n",
      "3FO4JOH074AH_Bedroom.zip\n",
      "3FO4JOFU3WET_Bedroom.zip\n",
      "3FO4JOA8S22X_Bedroom.zip\n",
      "3FO4JO8P5SVI_Bedroom.zip\n",
      "3FO4JNYSRWO9_Bedroom.zip\n",
      "3FO4JNQIO5CJ_Guest_room.zip\n",
      "3FO4JNHQAT91_Guest_room.zip\n",
      "3FO4JMYDFR9V_Bedroom.zip\n",
      "3FO4JPH4JGDR_Living_room.zip\n",
      "3FO4JPH4JGDR_Guest_room.zip\n",
      "3FO4JPH4JGDR_Bedroom.zip\n",
      "3FO4JPGHR3UR_Bedroom.zip\n",
      "3FO4JPG57QBD_Bedroom.zip\n",
      "3FO4JPENX5EN_Guest_room.zip\n",
      "3FO4JPENX5EN_Bedroom.zip\n",
      "3FO4JPEHOK3A_Guest_room.zip\n",
      "3FO4JPEHOK3A_Bedroom.zip\n",
      "3FO4JPECA18L_Living_room.zip\n",
      "3FO4JPECA18L_Dining_room.zip\n",
      "3FO4JPECA18L_Bedroom.zip\n",
      "3FO4JPE4YDK5_Guest_room.zip\n",
      "3FO4JPE4YDK5_Bedroom.zip\n",
      "3FO4JPE4WQPN_Guest_room.zip\n",
      "3FO4JPE4WQPN_Bedroom.zip\n",
      "3FO4JPE08C9H_Living_room.zip\n",
      "3FO4JPDWIH04_Guest_room.zip\n",
      "3FO4JPDWIH04_Bedroom.zip\n",
      "3FO4JPDKHQGA_Guest_room.zip\n",
      "3FO4JPDK9FJS_Bedroom.zip\n",
      "3FO4JPDINMU4_Guest_room.zip\n",
      "3FO4JPDINMU4_Bedroom.zip\n",
      "3FO4JPDGHB9A_Bedroom.zip\n",
      "3FO4JPDAGDF7_Bedroom.zip\n",
      "3FO4JPDAA2QB_Bedroom.zip\n",
      "3FO4JPDA050C_Bedroom.zip\n",
      "3FO4JPD7DVS2_Bedroom.zip\n",
      "3FO4JPD2HBJQ_Bedroom.zip\n",
      "3FO4JPCF48GJ_Guest_room.zip\n",
      "3FO4JPCF48GJ_Bedroom.zip\n",
      "3FO4JPB7LAQJ_Living_room.zip\n",
      "3FO4JPB7LAQJ_Guest_room.zip\n",
      "3FO4JPB7LAQJ_Bedroom.zip\n",
      "3FO4JPAXUYD8_Bedroom.zip\n",
      "3FO4JPAX0OF6_Bedroom.zip\n",
      "3FO4JPAW5RU8_Bedroom.zip\n",
      "3FO4JPACGSA6_Bedroom.zip\n",
      "3FO4JPAAFC7S_Bedroom.zip\n",
      "3FO4JPAA25RU_Bedroom.zip\n",
      "3FO4JPA1VS8I_Bedroom.zip\n",
      "3FO4JPA14DLB_Bedroom.zip\n",
      "3FO4JP9X8YEA_Bedroom.zip\n",
      "3FO4JP9T68XL_Bedroom.zip\n",
      "3FO4JP9QRGJJ_Guest_room.zip\n",
      "3FO4JP9QRGJJ_Bedroom.zip\n",
      "3FO4JP9M1SM0_Living_room.zip\n",
      "3FO4JP9M1SM0_Guest_room.zip\n",
      "3FO4JP9M1SM0_Dining_room.zip\n",
      "3FO4JP9M1SM0_Bedroom.zip\n",
      "3FO4JP9M0A4J_Guest_room.zip\n",
      "3FO4JP9M0A4J_Bedroom.zip\n",
      "3FO4JP9LDOG3_Guest_room.zip\n",
      "3FO4JP9LDOG3_Bedroom.zip\n",
      "3FO4JP97XNKI_Bedroom.zip\n",
      "3FO4JP96OSTE_Bedroom.zip\n",
      "3FO4JP7HTCH6_Bedroom.zip\n",
      "3FO4JP548J55_Living_room.zip\n",
      "3FO4JP548J55_Guest_room.zip\n",
      "3FO4JP548J55_Bedroom.zip\n",
      "3FO4JP478171_Guest_room.zip\n",
      "3FO4JP478171_Bedroom.zip\n",
      "3FO4JP33R5II_Living_room.zip\n",
      "3FO4JP33R5II_Guest_room.zip\n",
      "3FO4JP33R5II_Bedroom.zip\n",
      "3FO4JP308C4H_Living_room.zip\n",
      "3FO4JP308C4H_Guest_room.zip\n",
      "3FO4JP308C4H_Bedroom.zip\n",
      "3FO4JOYANGA8_Guest_room.zip\n",
      "3FO4JOYANGA8_Bedroom.zip\n",
      "3FO4JOXKWPWB_Guest_room.zip\n",
      "3FO4JOXKWPWB_Bedroom.zip\n",
      "3FO4JOXKBBWW_Guest_room.zip\n",
      "3FO4JOXKBBWW_Bedroom.zip\n",
      "3FO4JOX2DDY4_Bedroom.zip\n",
      "3FO4JOWWWR4K_Bedroom.zip\n",
      "3FO4JOTGCEUW_Guest_room.zip\n",
      "3FO4JOTGCEUW_Bedroom.zip\n",
      "3FO4JOSO9C9D_Guest_room.zip\n",
      "3FO4JOSO9C9D_Bedroom.zip\n",
      "3FO4JOSI6Y9U_Guest_room.zip\n",
      "3FO4JOSI6Y9U_Bedroom.zip\n",
      "3FO4JORMX9O8_Guest_room.zip\n",
      "3FO4JORMX9O8_Bedroom.zip\n",
      "3FO4JOQ5PVVP_Bedroom.zip\n",
      "3FO4JOPLT8LT_Guest_room.zip\n",
      "3FO4JOPLT8LT_Bedroom.zip\n",
      "3FO4JOPL96FT_Living_room.zip\n",
      "3FO4JOPL96FT_Guest_room.zip\n",
      "3FO4JOPL96FT_Bedroom.zip\n",
      "3FO4JOOPIXE9_Living_room.zip\n",
      "3FO4JOOPIXE9_Bedroom.zip\n",
      "3FO4JONJLP1W_Guest_room.zip\n",
      "3FO4JONJLP1W_Bedroom.zip\n",
      "3FO4JOJKY9TO_Guest_room.zip\n",
      "3FO4JOJKY9TO_Bedroom.zip\n",
      "3FO4JOHLM24R_Bedroom.zip\n",
      "3FO4JOH074AH_Guest_room.zip\n",
      "3FO4JOH0542V_Guest_room.zip\n",
      "3FO4JOH0542V_Bedroom.zip\n",
      "3FO4JOFVM1HP_Guest_room.zip\n",
      "3FO4JOFVM1HP_Bedroom.zip\n",
      "3FO4JOFUVM34_Living_room.zip\n",
      "3FO4JOFUVM34_Guest_room.zip\n",
      "3FO4JOFUVM34_Dining_room.zip\n",
      "3FO4JOFUVM34_Bedroom.zip\n",
      "3FO4JOFUQD6J_Bedroom.zip\n",
      "3FO4JOFUBQL6_Guest_room.zip\n",
      "3FO4JOFUBQL6_Bedroom.zip\n",
      "3FO4JOFU92YD_Guest_room.zip\n",
      "3FO4JOFU92YD_Bedroom.zip\n",
      "3FO4JOFU3WET_Guest_room.zip\n",
      "3FO4JOFTVGLL_Guest_room.zip\n",
      "3FO4JOFTVGLL_Bedroom.zip\n",
      "3FO4JOBR4AQ3_Guest_room.zip\n",
      "3FO4JOBR4AQ3_Bedroom.zip\n",
      "3FO4JOBGUU9V_Guest_room.zip\n",
      "3FO4JOBGUU9V_Bedroom.zip\n",
      "3FO4JOB6SPHK_Guest_room.zip\n",
      "3FO4JOB6SPHK_Bedroom.zip\n",
      "3FO4JOB0QPV6_Guest_room.zip\n",
      "3FO4JOB0QPV6_Bedroom.zip\n",
      "3FO4JOAYO04V_Bedroom.zip\n",
      "3FO4JOAOOWCH_Guest_room.zip\n",
      "3FO4JOAOOWCH_Bedroom.zip\n",
      "3FO4JOA8S22X_Guest_room.zip\n",
      "3FO4JOA8QLWI_Guest_room.zip\n",
      "3FO4JOA8QLWI_Bedroom.zip\n",
      "3FO4JOA8OICV_Guest_room.zip\n",
      "3FO4JOA8OICV_Bedroom.zip\n",
      "3FO4JOA8NTXO_Guest_room.zip\n",
      "3FO4JOA8NTXO_Bedroom.zip\n",
      "3FO4JO9UMDV6_Guest_room.zip\n",
      "3FO4JO9UMDV6_Bedroom.zip\n",
      "3FO4JO9UJIKB_Bedroom.zip\n",
      "3FO4JO9UFBG2_Guest_room.zip\n",
      "3FO4JO9UFBG2_Bedroom.zip\n",
      "3FO4JO8PQMSQ_Guest_room.zip\n",
      "3FO4JO8PQMSQ_Bedroom.zip\n",
      "3FO4JO8P5SVI_Guest_room.zip\n",
      "3FO4JO8P359P_Bedroom.zip\n",
      "3FO4JO8D7NMG_Guest_room.zip\n",
      "3FO4JO8D7NMG_Bedroom.zip\n",
      "3FO4JO8B7WQL_Living_room.zip\n",
      "3FO4JO6F2XU9_Guest_room.zip\n",
      "3FO4JO6F2XU9_Bedroom.zip\n",
      "3FO4JO4D0HHU_Living_room.zip\n",
      "3FO4JO4D0HHU_Guest_room.zip\n",
      "3FO4JO4D0HHU_Bedroom.zip\n",
      "3FO4JO1VBCFF_Guest_room.zip\n",
      "3FO4JO1VBCFF_Bedroom.zip\n",
      "3FO4JO1ANJ79_Guest_room.zip\n",
      "3FO4JO1ANJ79_Bedroom.zip\n",
      "3FO4JNYSRWO9_Guest_room.zip\n",
      "3FO4JNYLUQGT_Guest_room.zip\n",
      "3FO4JNYLUQGT_Bedroom.zip\n",
      "3FO4JNSW6IBJ_Guest_room.zip\n",
      "3FO4JNSW6IBJ_Bedroom.zip\n",
      "3FO4JNSW5JV9_Guest_room.zip\n",
      "3FO4JNSW5JV9_Bedroom.zip\n",
      "3FO4JNSW24I8_Guest_room.zip\n",
      "3FO4JNSW24I8_Bedroom.zip\n",
      "3FO4JNSVWT1X_Guest_room.zip\n",
      "3FO4JNSVWT1X_Bedroom.zip\n",
      "3FO4JNS5X5KV_Bedroom.zip\n",
      "3FO4JNRGV4G2_Living_room.zip\n"
     ]
    },
    {
     "name": "stderr",
     "output_type": "stream",
     "text": [
      "Downloading...\n",
      "From: https://drive.google.com/uc?id=1OL7YjN4Y-OzBn6Fnl6EFlXAejMUAUb4j&export=download\n",
      "To: /media/scratch1/erbachj/Mask_RCNN/data/InteriorNet/data/HD7/train/3FO4JNRGV4G2_Living_room.zip\n",
      "64.1MB [00:02, 30.9MB/s]\n"
     ]
    },
    {
     "name": "stdout",
     "output_type": "stream",
     "text": [
      "3FO4JNRGV4G2_Dining_room.zip\n"
     ]
    },
    {
     "name": "stderr",
     "output_type": "stream",
     "text": [
      "Downloading...\n",
      "From: https://drive.google.com/uc?id=1v8iHzGTbaY7KdTMbrY_HgAvT1Dz-1KA3&export=download\n",
      "To: /media/scratch1/erbachj/Mask_RCNN/data/InteriorNet/data/HD7/train/3FO4JNRGV4G2_Dining_room.zip\n",
      "55.4MB [00:02, 27.5MB/s]\n"
     ]
    },
    {
     "name": "stdout",
     "output_type": "stream",
     "text": [
      "3FO4JNQIO5CJ_Living_room.zip\n"
     ]
    },
    {
     "name": "stderr",
     "output_type": "stream",
     "text": [
      "Downloading...\n",
      "From: https://drive.google.com/uc?id=1_103Q2mC_CxxKII_rG586nXJwMtPfSBX&export=download\n",
      "To: /media/scratch1/erbachj/Mask_RCNN/data/InteriorNet/data/HD7/train/3FO4JNQIO5CJ_Living_room.zip\n",
      "43.9MB [00:00, 78.9MB/s]\n"
     ]
    },
    {
     "name": "stdout",
     "output_type": "stream",
     "text": [
      "3FO4JNQIO5CJ_Bedroom.zip\n",
      "3FO4JNQ2DF8U_Guest_room.zip\n",
      "3FO4JNQ2DF8U_Bedroom.zip\n",
      "3FO4JNPSCRQG_Living_room.zip\n"
     ]
    },
    {
     "name": "stderr",
     "output_type": "stream",
     "text": [
      "Downloading...\n",
      "From: https://drive.google.com/uc?id=1pCh7iYUUrT2gH3mcNm3bEiRqufLsFahY&export=download\n",
      "To: /media/scratch1/erbachj/Mask_RCNN/data/InteriorNet/data/HD7/train/3FO4JNPSCRQG_Living_room.zip\n",
      "59.1MB [00:01, 48.2MB/s]\n"
     ]
    },
    {
     "name": "stdout",
     "output_type": "stream",
     "text": [
      "3FO4JNPSCRQG_Guest_room.zip\n",
      "3FO4JNPSCRQG_Bedroom.zip\n",
      "3FO4JNPPA138_Guest_room.zip\n",
      "3FO4JNPPA138_Bedroom.zip\n",
      "3FO4JNLTE6BV_Guest_room.zip\n",
      "3FO4JNLTE6BV_Bedroom.zip\n",
      "3FO4JNLIY8HQ_Guest_room.zip\n",
      "3FO4JNLIY8HQ_Bedroom.zip\n",
      "3FO4JNJ4BJHO_Guest_room.zip\n",
      "3FO4JNJ4BJHO_Bedroom.zip\n",
      "3FO4JNHQAT91_Bedroom.zip\n",
      "3FO4JNCQRLG8_Guest_room.zip\n",
      "3FO4JNCQRLG8_Bedroom.zip\n",
      "3FO4JNC0AWT3_Guest_room.zip\n",
      "3FO4JNC0AWT3_Bedroom.zip\n",
      "3FO4JN6Q0BAV_Bedroom.zip\n",
      "3FO4JN68NNYG_Guest_room.zip\n",
      "3FO4JN68NNYG_Bedroom.zip\n",
      "3FO4JN5THNM4_Guest_room.zip\n",
      "3FO4JN5THNM4_Bedroom.zip\n",
      "3FO4JN18D4VH_Living_room.zip\n"
     ]
    },
    {
     "name": "stderr",
     "output_type": "stream",
     "text": [
      "Downloading...\n",
      "From: https://drive.google.com/uc?id=1E3nWYwByNkNFGKzo803ZpB-pQzeHWUiQ&export=download\n",
      "To: /media/scratch1/erbachj/Mask_RCNN/data/InteriorNet/data/HD7/train/3FO4JN18D4VH_Living_room.zip\n",
      "56.7MB [00:00, 58.2MB/s]\n"
     ]
    },
    {
     "name": "stdout",
     "output_type": "stream",
     "text": [
      "3FO4JN18D4VH_Guest_room.zip\n",
      "3FO4JN18D4VH_Bedroom.zip\n",
      "3FO4JMYDFR9V_Guest_room.zip\n",
      "3FO4JM8U7LSX_Guest_room.zip\n",
      "3FO4JM2W4IIR_Bedroom.zip\n",
      "3FO4JM2UUXSQ_Bedroom.zip\n",
      "3FO4JM2SYTYY_Guest_room.zip\n",
      "3FO4JM2S7M1T_Bedroom.zip\n",
      "3FO4JM1W32FY_Bedroom.zip\n",
      "3FO4JM1TCW5I_Bedroom.zip\n",
      "3FO4JM1S7B3D_Guest_room.zip\n",
      "3FO4JM1PXUWW_Bedroom.zip\n",
      "3FO4JLVV0R50_Guest_room.zip\n",
      "3FO4JLFXP7LF_Guest_room.zip\n",
      "3FO4JLFIKUB4_Bedroom.zip\n",
      "3FO4JLFI9HEP_Guest_room.zip\n",
      "3FO4JMVJ7D03_Guest_room.zip\n",
      "3FO4JMVJ7D03_Bedroom.zip\n",
      "3FO4JMVISBGV_Guest_room.zip\n",
      "3FO4JMVISBGV_Bedroom.zip\n",
      "3FO4JMVHWTTR_Guest_room.zip\n",
      "3FO4JMVHWTTR_Bedroom.zip\n",
      "3FO4JMVB9MX1_Guest_room.zip\n",
      "3FO4JMVB9MX1_Bedroom.zip\n",
      "3FO4JMSGTJL8_Living_room.zip\n"
     ]
    },
    {
     "name": "stderr",
     "output_type": "stream",
     "text": [
      "Downloading...\n",
      "From: https://drive.google.com/uc?id=1e3031VgTDdtCNN7TaU4cAPmE0NTYGPbJ&export=download\n",
      "To: /media/scratch1/erbachj/Mask_RCNN/data/InteriorNet/data/HD7/train/3FO4JMSGTJL8_Living_room.zip\n",
      "70.4MB [00:02, 29.5MB/s]\n"
     ]
    },
    {
     "name": "stdout",
     "output_type": "stream",
     "text": [
      "3FO4JMSGTJL8_Dining_room.zip\n"
     ]
    },
    {
     "name": "stderr",
     "output_type": "stream",
     "text": [
      "Downloading...\n",
      "From: https://drive.google.com/uc?id=1U8rXkJj2DP0XE41dW8sL-APWoYbrIswe&export=download\n",
      "To: /media/scratch1/erbachj/Mask_RCNN/data/InteriorNet/data/HD7/train/3FO4JMSGTJL8_Dining_room.zip\n",
      "67.1MB [00:00, 84.1MB/s]\n"
     ]
    },
    {
     "name": "stdout",
     "output_type": "stream",
     "text": [
      "3FO4JMSGTJL8_Bedroom.zip\n",
      "3FO4JMS717FJ_Bedroom.zip\n",
      "3FO4JMLAHWHE_Bedroom.zip\n",
      "3FO4JMJY1D3X_Living_room.zip\n"
     ]
    },
    {
     "name": "stderr",
     "output_type": "stream",
     "text": [
      "Downloading...\n",
      "From: https://drive.google.com/uc?id=1NAHCFZH84HG4NyNxzlNzLyOlD7WVgsQH&export=download\n",
      "To: /media/scratch1/erbachj/Mask_RCNN/data/InteriorNet/data/HD7/train/3FO4JMJY1D3X_Living_room.zip\n",
      "62.6MB [00:00, 62.7MB/s]\n"
     ]
    },
    {
     "name": "stdout",
     "output_type": "stream",
     "text": [
      "3FO4JMJY1D3X_Dining_room.zip\n"
     ]
    },
    {
     "name": "stderr",
     "output_type": "stream",
     "text": [
      "Downloading...\n",
      "From: https://drive.google.com/uc?id=1NS2gQEHX37e8M10qFqtwwc7uB0ya--ID&export=download\n",
      "To: /media/scratch1/erbachj/Mask_RCNN/data/InteriorNet/data/HD7/train/3FO4JMJY1D3X_Dining_room.zip\n",
      "63.1MB [00:01, 32.3MB/s]\n"
     ]
    },
    {
     "name": "stdout",
     "output_type": "stream",
     "text": [
      "3FO4JMJY1D3X_Bedroom.zip\n",
      "3FO4JMIUNWSG_Guest_room.zip\n",
      "3FO4JMIUNWSG_Bedroom.zip\n",
      "3FO4JMHJYYQ9_Guest_room.zip\n",
      "3FO4JMHJYYQ9_Bedroom.zip\n",
      "3FO4JMF8FFRJ_Living_room.zip\n"
     ]
    },
    {
     "name": "stderr",
     "output_type": "stream",
     "text": [
      "Downloading...\n",
      "From: https://drive.google.com/uc?id=1iiHsHTvBTALfHhpDXm_pdmoJkfdEgzIU&export=download\n",
      "To: /media/scratch1/erbachj/Mask_RCNN/data/InteriorNet/data/HD7/train/3FO4JMF8FFRJ_Living_room.zip\n",
      "61.5MB [00:01, 59.3MB/s]\n"
     ]
    },
    {
     "name": "stdout",
     "output_type": "stream",
     "text": [
      "3FO4JMF8FFRJ_Guest_room.zip\n",
      "3FO4JMF8FFRJ_Dining_room.zip\n"
     ]
    },
    {
     "name": "stderr",
     "output_type": "stream",
     "text": [
      "Downloading...\n",
      "From: https://drive.google.com/uc?id=1iOjQZIhgS-Jxf4yn9lgv3UHILW7CDGQW&export=download\n",
      "To: /media/scratch1/erbachj/Mask_RCNN/data/InteriorNet/data/HD7/train/3FO4JMF8FFRJ_Dining_room.zip\n",
      "59.4MB [00:01, 33.6MB/s]\n"
     ]
    },
    {
     "name": "stdout",
     "output_type": "stream",
     "text": [
      "3FO4JMF8FFRJ_Bedroom.zip\n",
      "3FO4JMBW1S78_Living_room.zip\n"
     ]
    },
    {
     "name": "stderr",
     "output_type": "stream",
     "text": [
      "Downloading...\n",
      "From: https://drive.google.com/uc?id=1klE6xNDtzVSu539gHb7CPH-4tONwXOH9&export=download\n",
      "To: /media/scratch1/erbachj/Mask_RCNN/data/InteriorNet/data/HD7/train/3FO4JMBW1S78_Living_room.zip\n",
      "61.0MB [00:02, 24.2MB/s]\n"
     ]
    },
    {
     "name": "stdout",
     "output_type": "stream",
     "text": [
      "3FO4JMBW1S78_Guest_room.zip\n",
      "3FO4JMBW1S78_Dining_room.zip\n"
     ]
    },
    {
     "name": "stderr",
     "output_type": "stream",
     "text": [
      "Downloading...\n",
      "From: https://drive.google.com/uc?id=1kuQlRna877a_P-ZguxY26CkpSvEV_pJ9&export=download\n",
      "To: /media/scratch1/erbachj/Mask_RCNN/data/InteriorNet/data/HD7/train/3FO4JMBW1S78_Dining_room.zip\n",
      "53.6MB [00:02, 18.8MB/s]\n"
     ]
    },
    {
     "name": "stdout",
     "output_type": "stream",
     "text": [
      "3FO4JMBW1S78_Bedroom.zip\n",
      "3FO4JM8U7LSX_Bedroom.zip\n",
      "3FO4JM8U6QPO_Guest_room.zip\n",
      "3FO4JM8U6QPO_Bedroom.zip\n",
      "3FO4JM8IB02C_Bedroom.zip\n",
      "3FO4JM7RE3K4_Guest_room.zip\n",
      "3FO4JM7RE3K4_Bedroom.zip\n",
      "3FO4JM43R2XO_Living_room.zip\n"
     ]
    },
    {
     "name": "stderr",
     "output_type": "stream",
     "text": [
      "Downloading...\n",
      "From: https://drive.google.com/uc?id=16vcphEzWT6l9gtNSVEhbekuSlmmbGl57&export=download\n",
      "To: /media/scratch1/erbachj/Mask_RCNN/data/InteriorNet/data/HD7/train/3FO4JM43R2XO_Living_room.zip\n",
      "61.2MB [00:03, 19.5MB/s]\n"
     ]
    },
    {
     "name": "stdout",
     "output_type": "stream",
     "text": [
      "3FO4JM43R2XO_Guest_room.zip\n",
      "3FO4JM43R2XO_Bedroom.zip\n",
      "3FO4JM2XP4JE_Bedroom.zip\n",
      "3FO4JM2WT675_Living_room.zip\n"
     ]
    },
    {
     "name": "stderr",
     "output_type": "stream",
     "text": [
      "Downloading...\n",
      "From: https://drive.google.com/uc?id=1aOSxp8HT7gfbTwclqyUdsYopQ7Q0VXRK&export=download\n",
      "To: /media/scratch1/erbachj/Mask_RCNN/data/InteriorNet/data/HD7/train/3FO4JM2WT675_Living_room.zip\n",
      "53.2MB [00:00, 90.2MB/s]\n"
     ]
    },
    {
     "name": "stdout",
     "output_type": "stream",
     "text": [
      "3FO4JM2WT675_Bedroom.zip\n",
      "3FO4JM2WG348_Guest_room.zip\n",
      "3FO4JM2WG348_Bedroom.zip\n",
      "3FO4JM2W36PD_Guest_room.zip\n",
      "3FO4JM2W36PD_Bedroom.zip\n",
      "3FO4JM2VK4QY_Bedroom.zip\n",
      "3FO4JM2VI4JD_Guest_room.zip\n",
      "3FO4JM2VI4JD_Bedroom.zip\n",
      "3FO4JM2VEO6C_Guest_room.zip\n",
      "3FO4JM2V585I_Guest_room.zip\n",
      "3FO4JM2V585I_Bedroom.zip\n",
      "3FO4JM2UYATQ_Guest_room.zip\n",
      "3FO4JM2UYATQ_Bedroom.zip\n",
      "3FO4JM2UX2DD_Bedroom.zip\n",
      "3FO4JM2UWUOB_Guest_room.zip\n",
      "3FO4JM2UWUOB_Bedroom.zip\n",
      "3FO4JM2UUXSQ_Guest_room.zip\n",
      "3FO4JM2ULEFV_Living_room.zip\n"
     ]
    },
    {
     "name": "stderr",
     "output_type": "stream",
     "text": [
      "Downloading...\n",
      "From: https://drive.google.com/uc?id=1oyheF4bIAQcqhUHW9cw3Fi-uaYXpNnWw&export=download\n",
      "To: /media/scratch1/erbachj/Mask_RCNN/data/InteriorNet/data/HD7/train/3FO4JM2ULEFV_Living_room.zip\n",
      "55.9MB [00:00, 84.5MB/s]\n"
     ]
    },
    {
     "name": "stdout",
     "output_type": "stream",
     "text": [
      "3FO4JM2ULEFV_Bedroom.zip\n",
      "3FO4JM2UCF57_Living_room.zip\n"
     ]
    },
    {
     "name": "stderr",
     "output_type": "stream",
     "text": [
      "Downloading...\n",
      "From: https://drive.google.com/uc?id=1TsG3Ggvqu22sQnGZSwr-3O8heaVOqaZ_&export=download\n",
      "To: /media/scratch1/erbachj/Mask_RCNN/data/InteriorNet/data/HD7/train/3FO4JM2UCF57_Living_room.zip\n",
      "60.9MB [00:02, 29.6MB/s]\n"
     ]
    },
    {
     "name": "stdout",
     "output_type": "stream",
     "text": [
      "3FO4JM2UCF57_Guest_room.zip\n",
      "3FO4JM2UCF57_Bedroom.zip\n",
      "3FO4JM2TXUC5_Guest_room.zip\n",
      "3FO4JM2TXUC5_Bedroom.zip\n",
      "3FO4JM2TTQJW_Guest_room.zip\n",
      "3FO4JM2TTQJW_Bedroom.zip\n",
      "3FO4JM2TKKK6_Guest_room.zip\n",
      "3FO4JM2TKKK6_Dining_room.zip\n"
     ]
    },
    {
     "name": "stderr",
     "output_type": "stream",
     "text": [
      "Downloading...\n",
      "From: https://drive.google.com/uc?id=1vEQ9OqEminZNj0cpTIQiVbQlrjgeDJED&export=download\n",
      "To: /media/scratch1/erbachj/Mask_RCNN/data/InteriorNet/data/HD7/train/3FO4JM2TKKK6_Dining_room.zip\n",
      "56.4MB [00:03, 18.0MB/s]\n"
     ]
    },
    {
     "name": "stdout",
     "output_type": "stream",
     "text": [
      "3FO4JM2TKKK6_Bedroom.zip\n",
      "3FO4JM2TDBG0_Guest_room.zip\n",
      "3FO4JM2TDBG0_Bedroom.zip\n",
      "3FO4JM2SYTYY_Bedroom.zip\n",
      "3FO4JM2SX1GF_Guest_room.zip\n",
      "3FO4JM2SX1GF_Bedroom.zip\n",
      "3FO4JM2SVLB0_Guest_room.zip\n",
      "3FO4JM2SVLB0_Bedroom.zip\n",
      "3FO4JM2SOFIU_Guest_room.zip\n",
      "3FO4JM2SOFIU_Bedroom.zip\n",
      "3FO4JM2SGBBF_Living_room.zip\n"
     ]
    },
    {
     "name": "stderr",
     "output_type": "stream",
     "text": [
      "Downloading...\n",
      "From: https://drive.google.com/uc?id=1jv_fBQMNbHMGhRgVagQdItTfHmOxmw-Y&export=download\n",
      "To: /media/scratch1/erbachj/Mask_RCNN/data/InteriorNet/data/HD7/train/3FO4JM2SGBBF_Living_room.zip\n",
      "62.0MB [00:02, 25.1MB/s]\n"
     ]
    },
    {
     "name": "stdout",
     "output_type": "stream",
     "text": [
      "3FO4JM2SGBBF_Guest_room.zip\n",
      "3FO4JM2SGBBF_Bedroom.zip\n",
      "3FO4JM2SFG86_Guest_room.zip\n",
      "3FO4JM2SFG86_Bedroom.zip\n",
      "3FO4JM2SEB3T_Bedroom.zip\n",
      "3FO4JM2S7M1T_Guest_room.zip\n",
      "3FO4JM2S2D59_Guest_room.zip\n",
      "3FO4JM2S2D59_Bedroom.zip\n",
      "3FO4JM24L99O_Living_room.zip\n"
     ]
    },
    {
     "name": "stderr",
     "output_type": "stream",
     "text": [
      "Downloading...\n",
      "From: https://drive.google.com/uc?id=1Y62rk1p6HuuIi9emODW34LW7BikpJOih&export=download\n",
      "To: /media/scratch1/erbachj/Mask_RCNN/data/InteriorNet/data/HD7/train/3FO4JM24L99O_Living_room.zip\n",
      "46.2MB [00:00, 60.5MB/s]\n"
     ]
    },
    {
     "name": "stdout",
     "output_type": "stream",
     "text": [
      "3FO4JM24L99O_Guest_room.zip\n",
      "3FO4JM24L99O_Bedroom.zip\n",
      "3FO4JM24KE6F_Guest_room.zip\n",
      "3FO4JM24KE6F_Bedroom.zip\n",
      "3FO4JM24H25F_Guest_room.zip\n",
      "3FO4JM24H25F_Bedroom.zip\n",
      "3FO4JM1W4KXF_Guest_room.zip\n",
      "3FO4JM1W4KXF_Bedroom.zip\n",
      "3FO4JM1W35S0_Guest_room.zip\n",
      "3FO4JM1W35S0_Bedroom.zip\n",
      "3FO4JM1W32FY_Guest_room.zip\n",
      "3FO4JM1VPWSC_Guest_room.zip\n",
      "3FO4JM1VPWSC_Bedroom.zip\n",
      "3FO4JM1V690G_Bedroom.zip\n",
      "3FO4JM1UX852_Living_room.zip\n"
     ]
    },
    {
     "name": "stderr",
     "output_type": "stream",
     "text": [
      "Downloading...\n",
      "From: https://drive.google.com/uc?id=102L3lOGlfN09sO3_0XK9BFL-PI7PrtPA&export=download\n",
      "To: /media/scratch1/erbachj/Mask_RCNN/data/InteriorNet/data/HD7/train/3FO4JM1UX852_Living_room.zip\n",
      "51.7MB [00:01, 28.3MB/s]\n"
     ]
    },
    {
     "name": "stdout",
     "output_type": "stream",
     "text": [
      "3FO4JM1UX852_Guest_room.zip\n",
      "3FO4JM1UX852_Bedroom.zip\n",
      "3FO4JM1UC46Q_Guest_room.zip\n",
      "3FO4JM1UC46Q_Bedroom.zip\n",
      "3FO4JM1U8NSP_Guest_room.zip\n",
      "3FO4JM1U8NSP_Bedroom.zip\n",
      "3FO4JM1TUHDR_Bedroom.zip\n",
      "3FO4JM1TS753_Bedroom.zip\n",
      "3FO4JM1TPP7C_Guest_room.zip\n",
      "3FO4JM1TPP7C_Bedroom.zip\n",
      "3FO4JM1SY5NE_Guest_room.zip\n",
      "3FO4JM1SY5NE_Bedroom.zip\n",
      "3FO4JM1SY2BD_Guest_room.zip\n",
      "3FO4JM1SY2BD_Bedroom.zip\n",
      "3FO4JM1SV0BG_Guest_room.zip\n",
      "3FO4JM1SV0BG_Bedroom.zip\n",
      "3FO4JM1ST6RW_Bedroom.zip\n",
      "3FO4JM1SINYR_Guest_room.zip\n",
      "3FO4JM1SINYR_Dining_room.zip\n"
     ]
    },
    {
     "name": "stderr",
     "output_type": "stream",
     "text": [
      "Downloading...\n",
      "From: https://drive.google.com/uc?id=16r4lsFjIED6fJgUWqCw72_vOhgG-8vC9&export=download\n",
      "To: /media/scratch1/erbachj/Mask_RCNN/data/InteriorNet/data/HD7/train/3FO4JM1SINYR_Dining_room.zip\n",
      "52.8MB [00:01, 28.9MB/s]\n"
     ]
    },
    {
     "name": "stdout",
     "output_type": "stream",
     "text": [
      "3FO4JM1SINYR_Bedroom.zip\n",
      "3FO4JM1S9I01_Bedroom.zip\n",
      "3FO4JM1S8Q8S_Living_room.zip\n"
     ]
    },
    {
     "name": "stderr",
     "output_type": "stream",
     "text": [
      "Downloading...\n",
      "From: https://drive.google.com/uc?id=1odWl9Jj1di6I9bV0_xMlQyf8ZR6xuzYN&export=download\n",
      "To: /media/scratch1/erbachj/Mask_RCNN/data/InteriorNet/data/HD7/train/3FO4JM1S8Q8S_Living_room.zip\n",
      "54.7MB [00:01, 43.4MB/s]\n"
     ]
    },
    {
     "name": "stdout",
     "output_type": "stream",
     "text": [
      "3FO4JM1S8Q8S_Dining_room.zip\n"
     ]
    },
    {
     "name": "stderr",
     "output_type": "stream",
     "text": [
      "Downloading...\n",
      "From: https://drive.google.com/uc?id=1VDI-IZN7IJk6HviR_pLLh4w6axTCv1Fn&export=download\n",
      "To: /media/scratch1/erbachj/Mask_RCNN/data/InteriorNet/data/HD7/train/3FO4JM1S8Q8S_Dining_room.zip\n",
      "53.6MB [00:00, 94.4MB/s]\n"
     ]
    },
    {
     "name": "stdout",
     "output_type": "stream",
     "text": [
      "3FO4JM1S8Q8S_Bedroom.zip\n",
      "3FO4JM1S7B3D_Bedroom.zip\n",
      "3FO4JM1RV882_Guest_room.zip\n",
      "3FO4JM1RV882_Bedroom.zip\n",
      "3FO4JM1RUJSU_Guest_room.zip\n",
      "3FO4JM1RUJSU_Bedroom.zip\n",
      "3FO4JM1RT1BE_Bedroom.zip\n",
      "3FO4JM1RR13S_Bedroom.zip\n",
      "3FO4JM1RPYBH_Bedroom.zip\n",
      "3FO4JM1QYBFI_Guest_room.zip\n",
      "3FO4JM1QYBFI_Bedroom.zip\n",
      "3FO4JM1QM6RV_Bedroom.zip\n",
      "3FO4JM1QLIDO_Living_room.zip\n"
     ]
    },
    {
     "name": "stderr",
     "output_type": "stream",
     "text": [
      "Downloading...\n",
      "From: https://drive.google.com/uc?id=1_Pjucv8ISV1xHNXdHsDsFoTmB-__LdXc&export=download\n",
      "To: /media/scratch1/erbachj/Mask_RCNN/data/InteriorNet/data/HD7/train/3FO4JM1QLIDO_Living_room.zip\n",
      "57.7MB [00:02, 28.1MB/s]\n"
     ]
    },
    {
     "name": "stdout",
     "output_type": "stream",
     "text": [
      "3FO4JM1QLIDO_Guest_room.zip\n",
      "3FO4JM1QLIDO_Bedroom.zip\n",
      "3FO4JM1NIDCC_Living_room.zip\n"
     ]
    },
    {
     "name": "stderr",
     "output_type": "stream",
     "text": [
      "Downloading...\n",
      "From: https://drive.google.com/uc?id=1vFDcmMdkgv_p3VpCXxRZjeJmtCzipEXD&export=download\n",
      "To: /media/scratch1/erbachj/Mask_RCNN/data/InteriorNet/data/HD7/train/3FO4JM1NIDCC_Living_room.zip\n",
      "60.0MB [00:02, 28.0MB/s]\n"
     ]
    },
    {
     "name": "stdout",
     "output_type": "stream",
     "text": [
      "3FO4JM0N7CVO_Guest_room.zip\n",
      "3FO4JM0N7CVO_Bedroom.zip\n",
      "3FO4JM0N5CO3_Guest_room.zip\n",
      "3FO4JM0N5CO3_Bedroom.zip\n",
      "3FO4JM0M8J8K_Guest_room.zip\n",
      "3FO4JM0M8J8K_Bedroom.zip\n",
      "3FO4JLYVIBSC_Guest_room.zip\n",
      "3FO4JLYVIBSC_Bedroom.zip\n",
      "3FO4JLYR56VJ_Guest_room.zip\n",
      "3FO4JLWSQL5O_Bedroom.zip\n",
      "3FO4JLVV0UH1_Guest_room.zip\n",
      "3FO4JLVV0UH1_Bedroom.zip\n",
      "3FO4JLVV0R50_Living_room.zip\n"
     ]
    },
    {
     "name": "stderr",
     "output_type": "stream",
     "text": [
      "Downloading...\n",
      "From: https://drive.google.com/uc?id=1QV7N7F2pkmdZg-GVVVclOGtT1sXfMu0D&export=download\n",
      "To: /media/scratch1/erbachj/Mask_RCNN/data/InteriorNet/data/HD7/train/3FO4JLVV0R50_Living_room.zip\n",
      "54.1MB [00:03, 13.9MB/s]\n"
     ]
    },
    {
     "name": "stdout",
     "output_type": "stream",
     "text": [
      "3FO4JLVV0R50_Bedroom.zip\n",
      "3FO4JLSV7QS0_Living_room.zip\n"
     ]
    },
    {
     "name": "stderr",
     "output_type": "stream",
     "text": [
      "Downloading...\n",
      "From: https://drive.google.com/uc?id=1ljOatBzwLFSXhAdD1EaD-GPyxgSoFf0E&export=download\n",
      "To: /media/scratch1/erbachj/Mask_RCNN/data/InteriorNet/data/HD7/train/3FO4JLSV7QS0_Living_room.zip\n",
      "57.3MB [00:00, 86.2MB/s]\n"
     ]
    },
    {
     "name": "stdout",
     "output_type": "stream",
     "text": [
      "3FO4JLN9MC39_Guest_room.zip\n",
      "3FO4JLJOP5IN_Guest_room.zip\n",
      "3FO4JLJOP5IN_Bedroom.zip\n",
      "3FO4JLJDJ1IO_Bedroom.zip\n",
      "3FO4JLID5947_Guest_room.zip\n",
      "3FO4JLID5947_Bedroom.zip\n",
      "3FO4JLGV4H1N_Living_room.zip\n"
     ]
    },
    {
     "name": "stderr",
     "output_type": "stream",
     "text": [
      "Downloading...\n",
      "From: https://drive.google.com/uc?id=12B9nvrQONA4hXs9q2enibdwunfy0spLs&export=download\n",
      "To: /media/scratch1/erbachj/Mask_RCNN/data/InteriorNet/data/HD7/train/3FO4JLGV4H1N_Living_room.zip\n",
      "57.9MB [00:00, 69.2MB/s]\n"
     ]
    },
    {
     "name": "stdout",
     "output_type": "stream",
     "text": [
      "3FO4JLGV4H1N_Guest_room.zip\n",
      "3FO4JLGV4H1N_Dining_room.zip\n"
     ]
    },
    {
     "name": "stderr",
     "output_type": "stream",
     "text": [
      "Downloading...\n",
      "From: https://drive.google.com/uc?id=1S9SIaFMwlgGtT9tnNxPLfmfhUlPkCnQs&export=download\n",
      "To: /media/scratch1/erbachj/Mask_RCNN/data/InteriorNet/data/HD7/train/3FO4JLGV4H1N_Dining_room.zip\n",
      "55.8MB [00:02, 20.3MB/s]\n"
     ]
    },
    {
     "name": "stdout",
     "output_type": "stream",
     "text": [
      "3FO4JLGV4H1N_Bedroom.zip\n",
      "3FO4JLGD7HI5_Guest_room.zip\n",
      "3FO4JLGD7HI5_Bedroom.zip\n",
      "3FO4JLFXP7LF_Bedroom.zip\n",
      "3FO4JLFN5O9W_Living_room.zip\n"
     ]
    },
    {
     "name": "stderr",
     "output_type": "stream",
     "text": [
      "Downloading...\n",
      "From: https://drive.google.com/uc?id=1kOGkh4mLezaT3Bxqd4_hsHA17P74idty&export=download\n",
      "To: /media/scratch1/erbachj/Mask_RCNN/data/InteriorNet/data/HD7/train/3FO4JLFN5O9W_Living_room.zip\n",
      "69.8MB [00:00, 83.4MB/s]\n"
     ]
    },
    {
     "name": "stdout",
     "output_type": "stream",
     "text": [
      "3FO4JLFN5O9W_Guest_room.zip\n",
      "3FO4JLFN5O9W_Dining_room.zip\n"
     ]
    },
    {
     "name": "stderr",
     "output_type": "stream",
     "text": [
      "Downloading...\n",
      "From: https://drive.google.com/uc?id=1FbLQlM3mvGR0XrbbI1DufmF_nkel6fhC&export=download\n",
      "To: /media/scratch1/erbachj/Mask_RCNN/data/InteriorNet/data/HD7/train/3FO4JLFN5O9W_Dining_room.zip\n",
      "64.3MB [00:02, 31.4MB/s]\n"
     ]
    },
    {
     "name": "stdout",
     "output_type": "stream",
     "text": [
      "3FO4JLFN5O9W_Bedroom.zip\n",
      "3FO4JLFJ7CMJ_Bedroom.zip\n",
      "3FO4JLFIPFSH_Guest_room.zip\n",
      "3FO4JLFIPFSH_Bedroom.zip\n",
      "3FO4JLFIOY3C_Bedroom.zip\n",
      "3FO4JLFIM0FG_Bedroom.zip\n",
      "3FO4JLFILPED_Living_room.zip\n"
     ]
    },
    {
     "name": "stderr",
     "output_type": "stream",
     "text": [
      "Downloading...\n",
      "From: https://drive.google.com/uc?id=1OHBJPj8s_XjwDzeuvkB1tejIMiPvxKVO&export=download\n",
      "To: /media/scratch1/erbachj/Mask_RCNN/data/InteriorNet/data/HD7/train/3FO4JLFILPED_Living_room.zip\n",
      "60.9MB [00:00, 65.9MB/s]\n"
     ]
    },
    {
     "name": "stdout",
     "output_type": "stream",
     "text": [
      "3FO4JLFILPED_Dining_room.zip\n"
     ]
    },
    {
     "name": "stderr",
     "output_type": "stream",
     "text": [
      "Downloading...\n",
      "From: https://drive.google.com/uc?id=1_VntnNvwHat7p63MxmbMg0LQcbp_IjHF&export=download\n",
      "To: /media/scratch1/erbachj/Mask_RCNN/data/InteriorNet/data/HD7/train/3FO4JLFILPED_Dining_room.zip\n",
      "55.2MB [00:01, 46.6MB/s]\n"
     ]
    },
    {
     "name": "stdout",
     "output_type": "stream",
     "text": [
      "3FO4JLFILPED_Bedroom.zip\n",
      "3FO4JLFIKUB4_Guest_room.zip\n",
      "3FO4JLFIJSIS_Guest_room.zip\n",
      "3FO4JLFIJSIS_Bedroom.zip\n",
      "3FO4JLFIGQIV_Guest_room.zip\n",
      "3FO4JLFIGQIV_Bedroom.zip\n",
      "3FO4JLFIFS3L_Bedroom.zip\n",
      "3FO4JLFIF1CD_Guest_room.zip\n",
      "3FO4JLFIF1CD_Bedroom.zip\n",
      "3FO4JLFIDHTW_Guest_room.zip\n",
      "3FO4JLFIDHTW_Bedroom.zip\n",
      "3FO4JLFICG2L_Bedroom.zip\n",
      "3FO4JLFIBEAA_Guest_room.zip\n",
      "3FO4JLFIBEAA_Bedroom.zip\n",
      "3FO4JLFIAJ71_Guest_room.zip\n",
      "3FO4JLFIAJ71_Bedroom.zip\n",
      "3FO4JLDD5L7H_Bedroom.zip\n",
      "3FO4JL3IYO2V_Living_room.zip\n"
     ]
    },
    {
     "name": "stderr",
     "output_type": "stream",
     "text": [
      "Downloading...\n",
      "From: https://drive.google.com/uc?id=1bBWb47tyv8D3oYXsempo4NBiYGok7ICA&export=download\n",
      "To: /media/scratch1/erbachj/Mask_RCNN/data/InteriorNet/data/HD7/train/3FO4JL3IYO2V_Living_room.zip\n",
      "58.6MB [00:02, 24.4MB/s]\n"
     ]
    },
    {
     "name": "stdout",
     "output_type": "stream",
     "text": [
      "3FO4JKMXTIWJ_Bedroom.zip\n",
      "3FO4JKF9A7S0_Guest_room.zip\n",
      "3FO4JKC0NCCM_Guest_room.zip\n",
      "3FO4JK90CNFC_Guest_room.zip\n",
      "3FO4JK71CUE5_Bedroom.zip\n",
      "3FO4JK146DUF_Guest_room.zip\n",
      "3FO4JJW3QU9M_Bedroom.zip\n",
      "3FO4JJV0WNLL_Guest_room.zip\n",
      "3FO4JJS5JLOX_Bedroom.zip\n",
      "3FO4JJPL37RF_Guest_room.zip\n",
      "3FO4JJL8NW33_Bedroom.zip\n",
      "3FO4JLFI9HEP_Bedroom.zip\n",
      "3FO4JLFI70GY_Guest_room.zip\n",
      "3FO4JLFI70GY_Bedroom.zip\n",
      "3FO4JLFI68PQ_Guest_room.zip\n",
      "3FO4JLFI68PQ_Bedroom.zip\n",
      "3FO4JLFHTRHB_Bedroom.zip\n",
      "3FO4JLFHST21_Guest_room.zip\n",
      "3FO4JLFHST21_Bedroom.zip\n",
      "3FO4JLFHQM5D_Guest_room.zip\n",
      "3FO4JLFHQM5D_Bedroom.zip\n",
      "3FO4JLDDN33P_Guest_room.zip\n",
      "3FO4JLDDN33P_Bedroom.zip\n",
      "3FO4JLDDLQAB_Guest_room.zip\n",
      "3FO4JLDDLQAB_Bedroom.zip\n",
      "3FO4JLDDJTEQ_Bedroom.zip\n",
      "3FO4JLDDJQ2P_Guest_room.zip\n",
      "3FO4JLDDJQ2P_Bedroom.zip\n",
      "3FO4JLDDJ60J_Guest_room.zip\n",
      "3FO4JLDDJ60J_Bedroom.zip\n",
      "3FO4JLDDIKXD_Guest_room.zip\n",
      "3FO4JLDDIKXD_Bedroom.zip\n",
      "3FO4JLDDHT75_Guest_room.zip\n",
      "3FO4JLDDHT75_Bedroom.zip\n",
      "3FO4JLDDGUQU_Guest_room.zip\n",
      "3FO4JLDDGUQU_Bedroom.zip\n",
      "3FO4JLDDG40M_Guest_room.zip\n",
      "3FO4JLDDG40M_Bedroom.zip\n",
      "3FO4JLDDE0G0_Guest_room.zip\n",
      "3FO4JLDD4G35_Bedroom.zip\n",
      "3FO4JLDD2WKO_Guest_room.zip\n",
      "3FO4JLDD2WKO_Bedroom.zip\n",
      "3FO4JLAP5KK0_Living_room.zip\n"
     ]
    },
    {
     "name": "stderr",
     "output_type": "stream",
     "text": [
      "Downloading...\n",
      "From: https://drive.google.com/uc?id=1WH8MN_9-N2zZGoD_XEOk9EKRC8tkQoBN&export=download\n",
      "To: /media/scratch1/erbachj/Mask_RCNN/data/InteriorNet/data/HD7/train/3FO4JLAP5KK0_Living_room.zip\n",
      "59.6MB [00:03, 15.5MB/s]\n"
     ]
    },
    {
     "name": "stdout",
     "output_type": "stream",
     "text": [
      "3FO4JLAP5KK0_Guest_room.zip\n",
      "3FO4JLAP5KK0_Dining_room.zip\n"
     ]
    },
    {
     "name": "stderr",
     "output_type": "stream",
     "text": [
      "Downloading...\n",
      "From: https://drive.google.com/uc?id=1R6osi7XTD-fVyV4z7JdAFCYJmf8fbNeu&export=download\n",
      "To: /media/scratch1/erbachj/Mask_RCNN/data/InteriorNet/data/HD7/train/3FO4JLAP5KK0_Dining_room.zip\n",
      "55.5MB [00:01, 28.1MB/s]\n"
     ]
    },
    {
     "name": "stdout",
     "output_type": "stream",
     "text": [
      "3FO4JLAP5KK0_Bedroom.zip\n",
      "3FO4JLAIPRVR_Living_room.zip\n"
     ]
    },
    {
     "name": "stderr",
     "output_type": "stream",
     "text": [
      "Downloading...\n",
      "From: https://drive.google.com/uc?id=1IvgsqByFJEY771uGxkZhAOUV-1VoOxlZ&export=download\n",
      "To: /media/scratch1/erbachj/Mask_RCNN/data/InteriorNet/data/HD7/train/3FO4JLAIPRVR_Living_room.zip\n",
      "52.0MB [00:01, 35.1MB/s]\n"
     ]
    },
    {
     "name": "stdout",
     "output_type": "stream",
     "text": [
      "3FO4JLAIPRVR_Guest_room.zip\n",
      "3FO4JLAIPRVR_Bedroom.zip\n",
      "3FO4JL3JAQX7_Bedroom.zip\n",
      "3FO4JL3J91QO_Bedroom.zip\n",
      "3FO4JL3J2COO_Guest_room.zip\n",
      "3FO4JL3J2COO_Bedroom.zip\n",
      "3FO4JL3IYO2V_Guest_room.zip\n",
      "3FO4JL3IYO2V_Bedroom.zip\n",
      "3FO4JL3IW755_Guest_room.zip\n",
      "3FO4JL3IW755_Bedroom.zip\n",
      "3FO4JL3HB4ED_Guest_room.zip\n",
      "3FO4JL3HB4ED_Bedroom.zip\n",
      "3FO4JL3H6IW0_Bedroom.zip\n",
      "3FO4JKYRIV3W_Guest_room.zip\n",
      "3FO4JKYRIV3W_Bedroom.zip\n",
      "3FO4JKSTXJQ2_Bedroom.zip\n",
      "3FO4JKSBNR5P_Guest_room.zip\n",
      "3FO4JKSBNR5P_Bedroom.zip\n",
      "3FO4JKN9D3SR_Bedroom.zip\n",
      "3FO4JKMXTIWJ_Guest_room.zip\n",
      "3FO4JKMMF0O2_Guest_room.zip\n",
      "3FO4JKMMF0O2_Bedroom.zip\n",
      "3FO4JKMLS4YI_Guest_room.zip\n",
      "3FO4JKMLS4YI_Bedroom.zip\n",
      "3FO4JKLJ67FN_Guest_room.zip\n",
      "3FO4JKLJ67FN_Bedroom.zip\n",
      "3FO4JKHUF9Q2_Guest_room.zip\n",
      "3FO4JKHUF9Q2_Bedroom.zip\n",
      "3FO4JKHUEBAR_Guest_room.zip\n",
      "3FO4JKHUEBAR_Bedroom.zip\n",
      "3FO4JKGUNTQ9_Bedroom.zip\n",
      "3FO4JKFCU9NE_Living_room.zip\n"
     ]
    },
    {
     "name": "stderr",
     "output_type": "stream",
     "text": [
      "Downloading...\n",
      "From: https://drive.google.com/uc?id=1Wg9XSXyUun-YpILiNbSq0v8X6dhaCSbj&export=download\n",
      "To: /media/scratch1/erbachj/Mask_RCNN/data/InteriorNet/data/HD7/train/3FO4JKFCU9NE_Living_room.zip\n",
      "58.7MB [00:00, 89.9MB/s]\n"
     ]
    },
    {
     "name": "stdout",
     "output_type": "stream",
     "text": [
      "3FO4JKFCU9NE_Guest_room.zip\n",
      "3FO4JKFCU9NE_Bedroom.zip\n",
      "3FO4JKF9A7S0_Bedroom.zip\n",
      "3FO4JKF3NLI7_Guest_room.zip\n",
      "3FO4JKF3NLI7_Bedroom.zip\n",
      "3FO4JKEN4TBK_Guest_room.zip\n",
      "3FO4JKE4UBRB_Guest_room.zip\n",
      "3FO4JKE4UBRB_Bedroom.zip\n",
      "3FO4JKDV4SOX_Guest_room.zip\n",
      "3FO4JKDPXO3R_Guest_room.zip\n",
      "3FO4JKDPXO3R_Bedroom.zip\n",
      "3FO4JKD2UU06_Living_room.zip\n"
     ]
    },
    {
     "name": "stderr",
     "output_type": "stream",
     "text": [
      "Downloading...\n",
      "From: https://drive.google.com/uc?id=1HMdYXV9645p1cBpt97xtzlmJMnEgcfZE&export=download\n",
      "To: /media/scratch1/erbachj/Mask_RCNN/data/InteriorNet/data/HD7/train/3FO4JKD2UU06_Living_room.zip\n",
      "68.0MB [00:01, 58.7MB/s]\n"
     ]
    },
    {
     "name": "stdout",
     "output_type": "stream",
     "text": [
      "3FO4JKD2UU06_Bedroom.zip\n",
      "3FO4JKCQTOUO_Guest_room.zip\n",
      "3FO4JKCQTOUO_Bedroom.zip\n",
      "3FO4JKC0NCCM_Living_room.zip\n"
     ]
    },
    {
     "name": "stderr",
     "output_type": "stream",
     "text": [
      "Downloading...\n",
      "From: https://drive.google.com/uc?id=17c6aLe5vj_5bv6E8SwUJLsp9pQeyjk0d&export=download\n",
      "To: /media/scratch1/erbachj/Mask_RCNN/data/InteriorNet/data/HD7/train/3FO4JKC0NCCM_Living_room.zip\n",
      "56.1MB [00:01, 29.8MB/s]\n"
     ]
    },
    {
     "name": "stdout",
     "output_type": "stream",
     "text": [
      "3FO4JKC0NCCM_Bedroom.zip\n",
      "3FO4JKBXYV15_Living_room.zip\n"
     ]
    },
    {
     "name": "stderr",
     "output_type": "stream",
     "text": [
      "Downloading...\n",
      "From: https://drive.google.com/uc?id=1XB3ihUpoDpsvS-dUnfIPUWgDaO3Uog1l&export=download\n",
      "To: /media/scratch1/erbachj/Mask_RCNN/data/InteriorNet/data/HD7/train/3FO4JKBXYV15_Living_room.zip\n",
      "65.1MB [00:01, 60.8MB/s]\n"
     ]
    },
    {
     "name": "stdout",
     "output_type": "stream",
     "text": [
      "3FO4JKBXYV15_Dining_room.zip\n"
     ]
    },
    {
     "name": "stderr",
     "output_type": "stream",
     "text": [
      "Downloading...\n",
      "From: https://drive.google.com/uc?id=1ZfTLDpxx3Ups4aQLJV1GZw0tQefD3bAG&export=download\n",
      "To: /media/scratch1/erbachj/Mask_RCNN/data/InteriorNet/data/HD7/train/3FO4JKBXYV15_Dining_room.zip\n",
      "65.7MB [00:01, 60.8MB/s]\n"
     ]
    },
    {
     "name": "stdout",
     "output_type": "stream",
     "text": [
      "3FO4JKBXYV15_Bedroom.zip\n",
      "3FO4JKBH8UWV_Bedroom.zip\n",
      "3FO4JKBH8HJR_Living_room.zip\n"
     ]
    },
    {
     "name": "stderr",
     "output_type": "stream",
     "text": [
      "Downloading...\n",
      "From: https://drive.google.com/uc?id=1lzi6SrT5Y8rsxnbsIePO-SF53JKkY0lD&export=download\n",
      "To: /media/scratch1/erbachj/Mask_RCNN/data/InteriorNet/data/HD7/train/3FO4JKBH8HJR_Living_room.zip\n",
      "54.8MB [00:00, 88.7MB/s]\n"
     ]
    },
    {
     "name": "stdout",
     "output_type": "stream",
     "text": [
      "3FO4JKBH8HJR_Bedroom.zip\n",
      "3FO4JKB8BDRF_Guest_room.zip\n",
      "3FO4JKB8BDRF_Bedroom.zip\n",
      "3FO4JKAJ38MR_Living_room.zip\n"
     ]
    },
    {
     "name": "stderr",
     "output_type": "stream",
     "text": [
      "Downloading...\n",
      "From: https://drive.google.com/uc?id=1uW5sTgguUrKkktqFHq-i3gn4hLMYl4BB&export=download\n",
      "To: /media/scratch1/erbachj/Mask_RCNN/data/InteriorNet/data/HD7/train/3FO4JKAJ38MR_Living_room.zip\n",
      "34.2MB [00:00, 70.9MB/s]\n"
     ]
    },
    {
     "name": "stdout",
     "output_type": "stream",
     "text": [
      "3FO4JKAJ38MR_Guest_room.zip\n",
      "3FO4JKAJ38MR_Bedroom.zip\n",
      "3FO4JK9XPX7Q_Guest_room.zip\n",
      "3FO4JK9XPX7Q_Bedroom.zip\n",
      "3FO4JK90CNFC_Bedroom.zip\n",
      "3FO4JK8BCWJ7_Guest_room.zip\n",
      "3FO4JK8BCWJ7_Bedroom.zip\n",
      "3FO4JK89MTD8_Guest_room.zip\n",
      "3FO4JK89MTD8_Bedroom.zip\n",
      "3FO4JK86C56M_Bedroom.zip\n",
      "3FO4JK85HBXP_Living_room.zip\n"
     ]
    },
    {
     "name": "stderr",
     "output_type": "stream",
     "text": [
      "Downloading...\n",
      "From: https://drive.google.com/uc?id=18pITtfRjSXqJB7Gtr_slWPcuErIkdNyt&export=download\n",
      "To: /media/scratch1/erbachj/Mask_RCNN/data/InteriorNet/data/HD7/train/3FO4JK85HBXP_Living_room.zip\n",
      "59.9MB [00:00, 67.8MB/s]\n"
     ]
    },
    {
     "name": "stdout",
     "output_type": "stream",
     "text": [
      "3FO4JK85HBXP_Guest_room.zip\n",
      "3FO4JK85HBXP_Bedroom.zip\n",
      "3FO4JK7NLTP4_Guest_room.zip\n",
      "3FO4JK7NLTP4_Bedroom.zip\n",
      "3FO4JK78YHKV_Bedroom.zip\n",
      "3FO4JK71CUE5_Living_room.zip\n"
     ]
    },
    {
     "name": "stderr",
     "output_type": "stream",
     "text": [
      "Downloading...\n",
      "From: https://drive.google.com/uc?id=1ZarC8wN_6hICZTrmbp8GU2HVxjDR5OV7&export=download\n",
      "To: /media/scratch1/erbachj/Mask_RCNN/data/InteriorNet/data/HD7/train/3FO4JK71CUE5_Living_room.zip\n",
      "61.9MB [00:02, 27.2MB/s]\n"
     ]
    },
    {
     "name": "stdout",
     "output_type": "stream",
     "text": [
      "3FO4JK71CUE5_Guest_room.zip\n",
      "3FO4JK6N8WDV_Guest_room.zip\n",
      "3FO4JK6N8WDV_Bedroom.zip\n",
      "3FO4JK6083HV_Living_room.zip\n"
     ]
    },
    {
     "name": "stderr",
     "output_type": "stream",
     "text": [
      "Downloading...\n",
      "From: https://drive.google.com/uc?id=1_3qTmQpAvXRiIsNDv6YmhVY9Id5UJkCr&export=download\n",
      "To: /media/scratch1/erbachj/Mask_RCNN/data/InteriorNet/data/HD7/train/3FO4JK6083HV_Living_room.zip\n",
      "40.8MB [00:00, 48.8MB/s]\n"
     ]
    },
    {
     "name": "stdout",
     "output_type": "stream",
     "text": [
      "3FO4JK6083HV_Guest_room.zip\n",
      "3FO4JK6083HV_Bedroom.zip\n",
      "3FO4JK5FWXQY_Living_room.zip\n"
     ]
    },
    {
     "name": "stderr",
     "output_type": "stream",
     "text": [
      "Downloading...\n",
      "From: https://drive.google.com/uc?id=1Pw6AS4whq0SL7g0r1tShQBuMJKVTEkfo&export=download\n",
      "To: /media/scratch1/erbachj/Mask_RCNN/data/InteriorNet/data/HD7/train/3FO4JK5FWXQY_Living_room.zip\n",
      "60.5MB [00:00, 75.4MB/s]\n"
     ]
    },
    {
     "name": "stdout",
     "output_type": "stream",
     "text": [
      "3FO4JK5FWXQY_Guest_room.zip\n",
      "3FO4JK5FWXQY_Dining_room.zip\n"
     ]
    },
    {
     "name": "stderr",
     "output_type": "stream",
     "text": [
      "Downloading...\n",
      "From: https://drive.google.com/uc?id=1kKt8USrfS5uSyuLfUcXNlwvbCJAuqqdI&export=download\n",
      "To: /media/scratch1/erbachj/Mask_RCNN/data/InteriorNet/data/HD7/train/3FO4JK5FWXQY_Dining_room.zip\n",
      "61.4MB [00:01, 56.9MB/s]\n"
     ]
    },
    {
     "name": "stdout",
     "output_type": "stream",
     "text": [
      "3FO4JK5FWXQY_Bedroom.zip\n",
      "3FO4JK518S47_Bedroom.zip\n",
      "3FO4JK3E9SXU_Living_room.zip\n"
     ]
    },
    {
     "name": "stderr",
     "output_type": "stream",
     "text": [
      "Downloading...\n",
      "From: https://drive.google.com/uc?id=1e6pvAN_AY3YL18_GIV6y8NriTUNeNwab&export=download\n",
      "To: /media/scratch1/erbachj/Mask_RCNN/data/InteriorNet/data/HD7/train/3FO4JK3E9SXU_Living_room.zip\n",
      "74.7MB [00:01, 73.9MB/s]\n"
     ]
    },
    {
     "name": "stdout",
     "output_type": "stream",
     "text": [
      "3FO4JK31TQUQ_Living_room.zip\n"
     ]
    },
    {
     "name": "stderr",
     "output_type": "stream",
     "text": [
      "Downloading...\n",
      "From: https://drive.google.com/uc?id=1w465e7nhECMYk7Y88jaebyPSuVwiYLZP&export=download\n",
      "To: /media/scratch1/erbachj/Mask_RCNN/data/InteriorNet/data/HD7/train/3FO4JK31TQUQ_Living_room.zip\n",
      "38.6MB [00:00, 45.9MB/s]\n"
     ]
    },
    {
     "name": "stdout",
     "output_type": "stream",
     "text": [
      "3FO4JK31TQUQ_Bedroom.zip\n",
      "3FO4JK2S104E_Living_room.zip\n"
     ]
    },
    {
     "name": "stderr",
     "output_type": "stream",
     "text": [
      "Downloading...\n",
      "From: https://drive.google.com/uc?id=1P1XMnlYnwdwUdkSRRtVQCGfSJW4R-EOJ&export=download\n",
      "To: /media/scratch1/erbachj/Mask_RCNN/data/InteriorNet/data/HD7/train/3FO4JK2S104E_Living_room.zip\n",
      "57.3MB [00:02, 21.6MB/s]\n"
     ]
    },
    {
     "name": "stdout",
     "output_type": "stream",
     "text": [
      "3FO4JK146DUF_Bedroom.zip\n",
      "3FO4JK0WW1RT_Guest_room.zip\n",
      "3FO4JK0WW1RT_Bedroom.zip\n",
      "3FO4JJYPNDEL_Guest_room.zip\n",
      "3FO4JJY31YEW_Living_room.zip\n"
     ]
    },
    {
     "name": "stderr",
     "output_type": "stream",
     "text": [
      "Downloading...\n",
      "From: https://drive.google.com/uc?id=1BRRKFGTJaT1yBv_nxkJLkUQbKhG3lvrx&export=download\n",
      "To: /media/scratch1/erbachj/Mask_RCNN/data/InteriorNet/data/HD7/train/3FO4JJY31YEW_Living_room.zip\n",
      "59.7MB [00:00, 81.8MB/s]\n"
     ]
    },
    {
     "name": "stdout",
     "output_type": "stream",
     "text": [
      "3FO4JJY31YEW_Guest_room.zip\n",
      "3FO4JJY31YEW_Bedroom.zip\n",
      "3FO4JJWVG8IJ_Living_room.zip\n"
     ]
    },
    {
     "name": "stderr",
     "output_type": "stream",
     "text": [
      "Downloading...\n",
      "From: https://drive.google.com/uc?id=1Cr_L2EqgxcVUANyzVhbDRW0R2Jhu-3-p&export=download\n",
      "To: /media/scratch1/erbachj/Mask_RCNN/data/InteriorNet/data/HD7/train/3FO4JJWVG8IJ_Living_room.zip\n",
      "53.5MB [00:00, 58.5MB/s]\n"
     ]
    },
    {
     "name": "stdout",
     "output_type": "stream",
     "text": [
      "3FO4JJWVG8IJ_Guest_room.zip\n",
      "3FO4JJWVG8IJ_Bedroom.zip\n",
      "3FO4JJWVFNGD_Guest_room.zip\n",
      "3FO4JJWVFNGD_Bedroom.zip\n",
      "3FO4JJW3QU9M_Living_room.zip\n"
     ]
    },
    {
     "name": "stderr",
     "output_type": "stream",
     "text": [
      "Downloading...\n",
      "From: https://drive.google.com/uc?id=1lI6lMrvjY-6tjNEEPbi2YMnkgUVXkSMH&export=download\n",
      "To: /media/scratch1/erbachj/Mask_RCNN/data/InteriorNet/data/HD7/train/3FO4JJW3QU9M_Living_room.zip\n",
      "63.5MB [00:01, 63.3MB/s]\n"
     ]
    },
    {
     "name": "stdout",
     "output_type": "stream",
     "text": [
      "3FO4JJW3QU9M_Guest_room.zip\n",
      "3FO4JJVY4WQ7_Living_room.zip\n"
     ]
    },
    {
     "name": "stderr",
     "output_type": "stream",
     "text": [
      "Downloading...\n",
      "From: https://drive.google.com/uc?id=1cFOUuxRJijkhkovslTlpbx9EJB3ybEbU&export=download\n",
      "To: /media/scratch1/erbachj/Mask_RCNN/data/InteriorNet/data/HD7/train/3FO4JJVY4WQ7_Living_room.zip\n",
      "63.5MB [00:00, 65.3MB/s]\n"
     ]
    },
    {
     "name": "stdout",
     "output_type": "stream",
     "text": [
      "3FO4JJVY4WQ7_Guest_room.zip\n",
      "3FO4JJVY4WQ7_Bedroom.zip\n",
      "3FO4JJVXTOY5_Living_room.zip\n"
     ]
    },
    {
     "name": "stderr",
     "output_type": "stream",
     "text": [
      "Downloading...\n",
      "From: https://drive.google.com/uc?id=1cDtsdIG_eBDDGlUSgQNluHe8pI_O70i_&export=download\n",
      "To: /media/scratch1/erbachj/Mask_RCNN/data/InteriorNet/data/HD7/train/3FO4JJVXTOY5_Living_room.zip\n",
      "64.9MB [00:01, 57.9MB/s]\n"
     ]
    },
    {
     "name": "stdout",
     "output_type": "stream",
     "text": [
      "3FO4JJVXTOY5_Guest_room.zip\n",
      "3FO4JJVXTOY5_Bedroom.zip\n",
      "3FO4JJVLHLIW_Guest_room.zip\n",
      "3FO4JJVLHLIW_Bedroom.zip\n",
      "3FO4JJVIC9KW_Living_room.zip\n"
     ]
    },
    {
     "name": "stderr",
     "output_type": "stream",
     "text": [
      "Downloading...\n",
      "From: https://drive.google.com/uc?id=1lEwN-__A3y5cHPAXBDCFyHhJsmU1NfNV&export=download\n",
      "To: /media/scratch1/erbachj/Mask_RCNN/data/InteriorNet/data/HD7/train/3FO4JJVIC9KW_Living_room.zip\n",
      "27.7MB [00:00, 57.1MB/s]\n"
     ]
    },
    {
     "name": "stdout",
     "output_type": "stream",
     "text": [
      "3FO4JJVIC9KW_Guest_room.zip\n",
      "3FO4JJVIC9KW_Bedroom.zip\n",
      "3FO4JJVEWGM3_Guest_room.zip\n",
      "3FO4JJVEWGM3_Bedroom.zip\n",
      "3FO4JJV0WNLL_Living_room.zip\n"
     ]
    },
    {
     "name": "stderr",
     "output_type": "stream",
     "text": [
      "Downloading...\n",
      "From: https://drive.google.com/uc?id=1zTe66r4y-CnnDrV56O34n5hFuZav8-Uo&export=download\n",
      "To: /media/scratch1/erbachj/Mask_RCNN/data/InteriorNet/data/HD7/train/3FO4JJV0WNLL_Living_room.zip\n",
      "64.1MB [00:02, 23.8MB/s]\n"
     ]
    },
    {
     "name": "stdout",
     "output_type": "stream",
     "text": [
      "3FO4JJV0WNLL_Bedroom.zip\n",
      "3FO4JJUL6RRB_Guest_room.zip\n",
      "3FO4JJUL6RRB_Bedroom.zip\n",
      "3FO4JJUDFXGB_Bedroom.zip\n",
      "3FO4JJTT3IGP_Bedroom.zip\n",
      "3FO4JJTO2MR4_Guest_room.zip\n",
      "3FO4JJTO2MR4_Bedroom.zip\n",
      "3FO4JJTKCC05_Guest_room.zip\n",
      "3FO4JJTKCC05_Bedroom.zip\n",
      "3FO4JJT3CFX8_Bedroom.zip\n",
      "3FO4JJSGNW6D_Bedroom.zip\n",
      "3FO4JJS9Y6R6_Guest_room.zip\n",
      "3FO4JJS9Y6R6_Bedroom.zip\n",
      "3FO4JJS5JLOX_Guest_room.zip\n",
      "3FO4JJRR5FWM_Guest_room.zip\n",
      "3FO4JJRR5FWM_Bedroom.zip\n",
      "3FO4JJRES2GB_Guest_room.zip\n",
      "3FO4JJRES2GB_Bedroom.zip\n",
      "3FO4JJR80GQ9_Guest_room.zip\n",
      "3FO4JJR80GQ9_Bedroom.zip\n",
      "3FO4JJQS0BK7_Guest_room.zip\n",
      "3FO4JJQS0BK7_Bedroom.zip\n",
      "3FO4JJQEYIVV_Bedroom.zip\n",
      "3FO4JJQEF1S2_Living_room.zip\n"
     ]
    },
    {
     "name": "stderr",
     "output_type": "stream",
     "text": [
      "Downloading...\n",
      "From: https://drive.google.com/uc?id=174_jcxfPLkuTUFiM2BGbNyGaIZEoMCi8&export=download\n",
      "To: /media/scratch1/erbachj/Mask_RCNN/data/InteriorNet/data/HD7/train/3FO4JJQEF1S2_Living_room.zip\n",
      "66.1MB [00:01, 59.7MB/s]\n"
     ]
    },
    {
     "name": "stdout",
     "output_type": "stream",
     "text": [
      "3FO4JJQEF1S2_Guest_room.zip\n",
      "3FO4JJQEF1S2_Bedroom.zip\n",
      "3FO4JJPYIPD5_Guest_room.zip\n",
      "3FO4JJPYIPD5_Bedroom.zip\n",
      "3FO4JJPL37RF_Bedroom.zip\n",
      "3FO4JJPL1E8V_Bedroom.zip\n",
      "3FO4JJOO9DVB_Guest_room.zip\n",
      "3FO4JJOO9DVB_Bedroom.zip\n",
      "3FO4JJOCG7HQ_Guest_room.zip\n",
      "3FO4JJOCG7HQ_Bedroom.zip\n",
      "3FO4JJN4HS44_Guest_room.zip\n",
      "3FO4JJN4HS44_Bedroom.zip\n",
      "3FO4JJMTWXIY_Guest_room.zip\n",
      "3FO4JJMTWXIY_Bedroom.zip\n",
      "3FO4JJMBR31S_Bedroom.zip\n",
      "3FO4JJM2T467_Bedroom.zip\n",
      "3FO4JJLF3EP8_Bedroom.zip\n",
      "3FO4JJLAUC0X_Bedroom.zip\n",
      "3FO4JJDP7CB6_Bedroom.zip\n",
      "3FO4JJASU3DA_Bedroom.zip\n",
      "3FO4JJ6VCE4X_Bedroom.zip\n",
      "3FO4JJ23DTIT_Guest_room.zip\n",
      "3FO4JIX4G9VK_Bedroom.zip\n",
      "3FO4JITVLCD9_Guest_room.zip\n",
      "3FO4JIOF3SKP_Bedroom.zip\n",
      "3FO4JIHWFMSN_Bedroom.zip\n",
      "3FO4JIDX503H_Bedroom.zip\n",
      "3FO4JI9EOJV0_Living_room.zip\n"
     ]
    },
    {
     "name": "stderr",
     "output_type": "stream",
     "text": [
      "Downloading...\n",
      "From: https://drive.google.com/uc?id=1gfXRbZt-TbcAaFYBI9Zo8CCfuQu-3dWD&export=download\n",
      "To: /media/scratch1/erbachj/Mask_RCNN/data/InteriorNet/data/HD7/train/3FO4JI9EOJV0_Living_room.zip\n",
      "64.8MB [00:01, 37.2MB/s]\n"
     ]
    },
    {
     "name": "stdout",
     "output_type": "stream",
     "text": [
      "3FO4JI6ITL5A_Bedroom.zip\n",
      "3FO4JHW96Q9Y_Dining_room.zip\n"
     ]
    },
    {
     "name": "stderr",
     "output_type": "stream",
     "text": [
      "Downloading...\n",
      "From: https://drive.google.com/uc?id=1LvmtVuUfyE19dJkMH0zZ5J7sQIcSDblC&export=download\n",
      "To: /media/scratch1/erbachj/Mask_RCNN/data/InteriorNet/data/HD7/train/3FO4JHW96Q9Y_Dining_room.zip\n",
      "53.5MB [00:01, 46.9MB/s]\n"
     ]
    },
    {
     "name": "stdout",
     "output_type": "stream",
     "text": [
      "3FO4JHOYDROU_Bedroom.zip\n",
      "3FO4JJKY4T96_Living_room.zip\n"
     ]
    },
    {
     "name": "stderr",
     "output_type": "stream",
     "text": [
      "Downloading...\n",
      "From: https://drive.google.com/uc?id=1G8Eujq0G2Z3j8EI7GeGfuhditCrtvaFa&export=download\n",
      "To: /media/scratch1/erbachj/Mask_RCNN/data/InteriorNet/data/HD7/train/3FO4JJKY4T96_Living_room.zip\n",
      "53.3MB [00:00, 54.9MB/s]\n"
     ]
    },
    {
     "name": "stdout",
     "output_type": "stream",
     "text": [
      "3FO4JJKY4T96_Guest_room.zip\n",
      "3FO4JJKY4T96_Bedroom.zip\n",
      "3FO4JJKOWV2V_Guest_room.zip\n",
      "3FO4JJKOWV2V_Bedroom.zip\n",
      "3FO4JJKOGMN1_Guest_room.zip\n",
      "3FO4JJKOGMN1_Bedroom.zip\n",
      "3FO4JJKOCFIR_Guest_room.zip\n",
      "3FO4JJKOCFIR_Bedroom.zip\n",
      "3FO4JJJJWG62_Guest_room.zip\n",
      "3FO4JJJJWG62_Bedroom.zip\n",
      "3FO4JJHV4A2I_Guest_room.zip\n",
      "3FO4JJHV4A2I_Bedroom.zip\n",
      "3FO4JJHLYIRV_Guest_room.zip\n",
      "3FO4JJHENYGG_Living_room.zip\n"
     ]
    },
    {
     "name": "stderr",
     "output_type": "stream",
     "text": [
      "Downloading...\n",
      "From: https://drive.google.com/uc?id=1P0MB5BygwJLSyi8moTFRW5NGIvHoF2xh&export=download\n",
      "To: /media/scratch1/erbachj/Mask_RCNN/data/InteriorNet/data/HD7/train/3FO4JJHENYGG_Living_room.zip\n",
      "58.4MB [00:02, 21.6MB/s]\n"
     ]
    },
    {
     "name": "stdout",
     "output_type": "stream",
     "text": [
      "3FO4JJHENYGG_Guest_room.zip\n",
      "3FO4JJHENYGG_Bedroom.zip\n",
      "3FO4JJGSF8Y1_Guest_room.zip\n",
      "3FO4JJGSF8Y1_Bedroom.zip\n",
      "3FO4JJF4U3PV_Guest_room.zip\n",
      "3FO4JJF4U3PV_Bedroom.zip\n",
      "3FO4JJEWDW4R_Guest_room.zip\n",
      "3FO4JJEWDW4R_Bedroom.zip\n",
      "3FO4JJEHSDJ3_Guest_room.zip\n",
      "3FO4JJEHSDJ3_Bedroom.zip\n",
      "3FO4JJEB0OH0_Guest_room.zip\n",
      "3FO4JJEB0OH0_Bedroom.zip\n",
      "3FO4JJDP7CB6_Guest_room.zip\n",
      "3FO4JJDOHLAR_Guest_room.zip\n",
      "3FO4JJDOHLAR_Bedroom.zip\n",
      "3FO4JJDHRRJJ_Guest_room.zip\n",
      "3FO4JJDHRRJJ_Bedroom.zip\n",
      "3FO4JJDE5M4I_Bedroom.zip\n",
      "3FO4JJD3WDCD_Guest_room.zip\n",
      "3FO4JJD3WDCD_Bedroom.zip\n",
      "3FO4JJCNT9IF_Living_room.zip\n"
     ]
    },
    {
     "name": "stderr",
     "output_type": "stream",
     "text": [
      "Downloading...\n",
      "From: https://drive.google.com/uc?id=1MS4CRz8LAJKvRCjyCyXuhWAes3XNHjzP&export=download\n",
      "To: /media/scratch1/erbachj/Mask_RCNN/data/InteriorNet/data/HD7/train/3FO4JJCNT9IF_Living_room.zip\n",
      "50.8MB [00:02, 24.9MB/s]\n"
     ]
    },
    {
     "name": "stdout",
     "output_type": "stream",
     "text": [
      "3FO4JJCNT9IF_Bedroom.zip\n",
      "3FO4JJCLA4UR_Guest_room.zip\n",
      "3FO4JJCLA4UR_Bedroom.zip\n",
      "3FO4JJBKSXUK_Bedroom.zip\n",
      "3FO4JJB2PDM3_Living_room.zip\n"
     ]
    },
    {
     "name": "stderr",
     "output_type": "stream",
     "text": [
      "Downloading...\n",
      "From: https://drive.google.com/uc?id=13mzDonW8cm5QOziZQ2ynJrv0PiEZ-E2H&export=download\n",
      "To: /media/scratch1/erbachj/Mask_RCNN/data/InteriorNet/data/HD7/train/3FO4JJB2PDM3_Living_room.zip\n",
      "69.6MB [00:01, 61.0MB/s]\n"
     ]
    },
    {
     "name": "stdout",
     "output_type": "stream",
     "text": [
      "3FO4JJASU3DA_Guest_room.zip\n",
      "3FO4JJABJEH5_Guest_room.zip\n",
      "3FO4JJABJEH5_Bedroom.zip\n",
      "3FO4JJA8WOJP_Living_room.zip\n"
     ]
    },
    {
     "name": "stderr",
     "output_type": "stream",
     "text": [
      "Downloading...\n",
      "From: https://drive.google.com/uc?id=1i1EkfkGvmCVhuhL8SHz6-c_lbp7KgMok&export=download\n",
      "To: /media/scratch1/erbachj/Mask_RCNN/data/InteriorNet/data/HD7/train/3FO4JJA8WOJP_Living_room.zip\n",
      "60.5MB [00:01, 31.9MB/s]\n"
     ]
    },
    {
     "name": "stdout",
     "output_type": "stream",
     "text": [
      "3FO4JJA8WOJP_Guest_room.zip\n",
      "3FO4JJA8WOJP_Dining_room.zip\n"
     ]
    },
    {
     "name": "stderr",
     "output_type": "stream",
     "text": [
      "Downloading...\n",
      "From: https://drive.google.com/uc?id=1_7WqW-EJp92axGVHFTywLloO2uKKuDX7&export=download\n",
      "To: /media/scratch1/erbachj/Mask_RCNN/data/InteriorNet/data/HD7/train/3FO4JJA8WOJP_Dining_room.zip\n",
      "47.8MB [00:00, 85.2MB/s]\n"
     ]
    },
    {
     "name": "stdout",
     "output_type": "stream",
     "text": [
      "3FO4JJA8WOJP_Bedroom.zip\n",
      "3FO4JJA05TNX_Guest_room.zip\n",
      "3FO4JJA05TNX_Bedroom.zip\n",
      "3FO4JJ9NRN8U_Guest_room.zip\n",
      "3FO4JJ9NRN8U_Bedroom.zip\n",
      "3FO4JJ9KANDD_Living_room.zip\n"
     ]
    },
    {
     "name": "stderr",
     "output_type": "stream",
     "text": [
      "Downloading...\n",
      "From: https://drive.google.com/uc?id=1A3sJA8aqLdqq5FsxRGfA-iAWOPJBv7Sg&export=download\n",
      "To: /media/scratch1/erbachj/Mask_RCNN/data/InteriorNet/data/HD7/train/3FO4JJ9KANDD_Living_room.zip\n",
      "62.8MB [00:01, 46.6MB/s]\n"
     ]
    },
    {
     "name": "stdout",
     "output_type": "stream",
     "text": [
      "3FO4JJ9KANDD_Guest_room.zip\n",
      "3FO4JJ9KANDD_Dining_room.zip\n"
     ]
    },
    {
     "name": "stderr",
     "output_type": "stream",
     "text": [
      "Downloading...\n",
      "From: https://drive.google.com/uc?id=1pOHgagyBNLKVsOjrRZrhvipWs8yJJ8qX&export=download\n",
      "To: /media/scratch1/erbachj/Mask_RCNN/data/InteriorNet/data/HD7/train/3FO4JJ9KANDD_Dining_room.zip\n",
      "50.2MB [00:00, 66.9MB/s]\n"
     ]
    },
    {
     "name": "stdout",
     "output_type": "stream",
     "text": [
      "3FO4JJ7XBRK2_Bedroom.zip\n",
      "3FO4JJ6IQS46_Bedroom.zip\n",
      "3FO4JJ5VPGAH_Guest_room.zip\n",
      "3FO4JJ5VPGAH_Bedroom.zip\n",
      "3FO4JJ45SC6T_Guest_room.zip\n",
      "3FO4JJ45SC6T_Bedroom.zip\n",
      "3FO4JJ3PNOUF_Guest_room.zip\n",
      "3FO4JJ3PNOUF_Bedroom.zip\n",
      "3FO4JJ3LIHH0_Guest_room.zip\n",
      "3FO4JJ3LIHH0_Bedroom.zip\n",
      "3FO4JJ3CUD0C_Guest_room.zip\n",
      "3FO4JJ3CUD0C_Bedroom.zip\n",
      "3FO4JJ3BQXTU_Bedroom.zip\n",
      "3FO4JJ33SR2N_Guest_room.zip\n",
      "3FO4JJ33SR2N_Bedroom.zip\n",
      "3FO4JJ23DTIT_Bedroom.zip\n",
      "3FO4JJ0XFI6M_Guest_room.zip\n",
      "3FO4JJ0XFI6M_Bedroom.zip\n",
      "3FO4JJ0NA1DB_Guest_room.zip\n",
      "3FO4JJ0NA1DB_Bedroom.zip\n",
      "3FO4JJ0MBB28_Guest_room.zip\n",
      "3FO4JJ0MBB28_Bedroom.zip\n",
      "3FO4JJ0J2IQ7_Bedroom.zip\n",
      "3FO4JJ08SVKX_Guest_room.zip\n",
      "3FO4JJ08SVKX_Bedroom.zip\n",
      "3FO4JIYOW4Y1_Living_room.zip\n"
     ]
    },
    {
     "name": "stderr",
     "output_type": "stream",
     "text": [
      "Downloading...\n",
      "From: https://drive.google.com/uc?id=1tX-lsr2cICLS7AHV1lfQM_-jjHq9TzsE&export=download\n",
      "To: /media/scratch1/erbachj/Mask_RCNN/data/InteriorNet/data/HD7/train/3FO4JIYOW4Y1_Living_room.zip\n",
      "72.3MB [00:00, 79.8MB/s]\n"
     ]
    },
    {
     "name": "stdout",
     "output_type": "stream",
     "text": [
      "3FO4JIYOW4Y1_Guest_room.zip\n",
      "3FO4JIYOW4Y1_Bedroom.zip\n",
      "3FO4JIX4G9VK_Guest_room.zip\n",
      "3FO4JIW4I96S_Living_room.zip\n"
     ]
    },
    {
     "name": "stderr",
     "output_type": "stream",
     "text": [
      "Downloading...\n",
      "From: https://drive.google.com/uc?id=1CiuTpaO9A8e6J-T8RrTrYrxvNoX2rYgb&export=download\n",
      "To: /media/scratch1/erbachj/Mask_RCNN/data/InteriorNet/data/HD7/train/3FO4JIW4I96S_Living_room.zip\n",
      "59.2MB [00:01, 43.3MB/s]\n"
     ]
    },
    {
     "name": "stdout",
     "output_type": "stream",
     "text": [
      "3FO4JIW4I96S_Guest_room.zip\n",
      "3FO4JIW4I96S_Bedroom.zip\n",
      "3FO4JIU98NKJ_Bedroom.zip\n",
      "3FO4JITX37YR_Guest_room.zip\n",
      "3FO4JITX37YR_Bedroom.zip\n",
      "3FO4JITWUAGE_Guest_room.zip\n",
      "3FO4JITWUAGE_Bedroom.zip\n",
      "3FO4JITWCF72_Bedroom.zip\n",
      "3FO4JITWASCK_Living_room.zip\n"
     ]
    },
    {
     "name": "stderr",
     "output_type": "stream",
     "text": [
      "Downloading...\n",
      "From: https://drive.google.com/uc?id=1gpkCac85d-iGOn7n22cZpuLrYSD3-_p8&export=download\n",
      "To: /media/scratch1/erbachj/Mask_RCNN/data/InteriorNet/data/HD7/train/3FO4JITWASCK_Living_room.zip\n",
      "51.1MB [00:04, 11.4MB/s]\n"
     ]
    },
    {
     "name": "stdout",
     "output_type": "stream",
     "text": [
      "3FO4JITWASCK_Guest_room.zip\n",
      "3FO4JITWASCK_Dining_room.zip\n"
     ]
    },
    {
     "name": "stderr",
     "output_type": "stream",
     "text": [
      "Downloading...\n",
      "From: https://drive.google.com/uc?id=1XnJ1TipLTQHYIHdYxJrpYO0_I9lU9KhH&export=download\n",
      "To: /media/scratch1/erbachj/Mask_RCNN/data/InteriorNet/data/HD7/train/3FO4JITWASCK_Dining_room.zip\n",
      "54.9MB [00:01, 37.2MB/s]\n"
     ]
    },
    {
     "name": "stdout",
     "output_type": "stream",
     "text": [
      "3FO4JITWASCK_Bedroom.zip\n",
      "3FO4JITVLCD9_Living_room.zip\n"
     ]
    },
    {
     "name": "stderr",
     "output_type": "stream",
     "text": [
      "Downloading...\n",
      "From: https://drive.google.com/uc?id=13Nogw6V6sul1h0LHD1rSTGemewpxMmjy&export=download\n",
      "To: /media/scratch1/erbachj/Mask_RCNN/data/InteriorNet/data/HD7/train/3FO4JITVLCD9_Living_room.zip\n",
      "64.0MB [00:02, 27.3MB/s]\n"
     ]
    },
    {
     "name": "stdout",
     "output_type": "stream",
     "text": [
      "3FO4JITVLCD9_Bedroom.zip\n",
      "3FO4JIT9TJWF_Living_room.zip\n"
     ]
    },
    {
     "name": "stderr",
     "output_type": "stream",
     "text": [
      "Downloading...\n",
      "From: https://drive.google.com/uc?id=1cHMp1Hkvr4uHUHGUgTz0C446nCC5Vrsu&export=download\n",
      "To: /media/scratch1/erbachj/Mask_RCNN/data/InteriorNet/data/HD7/train/3FO4JIT9TJWF_Living_room.zip\n",
      "52.5MB [00:00, 60.7MB/s]\n"
     ]
    },
    {
     "name": "stdout",
     "output_type": "stream",
     "text": [
      "3FO4JIT9TJWF_Bedroom.zip\n",
      "3FO4JIT3JG3L_Guest_room.zip\n",
      "3FO4JIT3JG3L_Bedroom.zip\n",
      "3FO4JIRY5P79_Bedroom.zip\n",
      "3FO4JIRUWRYH_Guest_room.zip\n",
      "3FO4JIRUWRYH_Bedroom.zip\n",
      "3FO4JIQ6I7VJ_Guest_room.zip\n",
      "3FO4JIQ6I7VJ_Bedroom.zip\n",
      "3FO4JIPSNJ82_Guest_room.zip\n",
      "3FO4JIPSNJ82_Bedroom.zip\n",
      "3FO4JIPJK1ES_Guest_room.zip\n",
      "3FO4JIPJK1ES_Bedroom.zip\n",
      "3FO4JIO65QD3_Living_room.zip\n"
     ]
    },
    {
     "name": "stderr",
     "output_type": "stream",
     "text": [
      "Downloading...\n",
      "From: https://drive.google.com/uc?id=1yVUBghDIYZjkYAuocUGJn_rw1ZOzEXkZ&export=download\n",
      "To: /media/scratch1/erbachj/Mask_RCNN/data/InteriorNet/data/HD7/train/3FO4JIO65QD3_Living_room.zip\n",
      "60.8MB [00:00, 71.9MB/s]\n"
     ]
    },
    {
     "name": "stdout",
     "output_type": "stream",
     "text": [
      "3FO4JINSPAVU_Bedroom.zip\n",
      "3FO4JINLP2OI_Guest_room.zip\n",
      "3FO4JINLP2OI_Bedroom.zip\n",
      "3FO4JILOW2YA_Bedroom.zip\n",
      "3FO4JILMSSDD_Living_room.zip\n"
     ]
    },
    {
     "name": "stderr",
     "output_type": "stream",
     "text": [
      "Downloading...\n",
      "From: https://drive.google.com/uc?id=1RiDucneUbmG7o4S1jMek-l9nvzL9eMfg&export=download\n",
      "To: /media/scratch1/erbachj/Mask_RCNN/data/InteriorNet/data/HD7/train/3FO4JILMSSDD_Living_room.zip\n",
      "61.0MB [00:01, 35.5MB/s]\n"
     ]
    },
    {
     "name": "stdout",
     "output_type": "stream",
     "text": [
      "3FO4JILMSSDD_Guest_room.zip\n",
      "3FO4JILMSSDD_Bedroom.zip\n",
      "3FO4JIL8MBAV_Guest_room.zip\n",
      "3FO4JIL8MBAV_Bedroom.zip\n",
      "3FO4JIKAWMEJ_Bedroom.zip\n",
      "3FO4JIIVW1PG_Bedroom.zip\n",
      "3FO4JII5CEFF_Bedroom.zip\n",
      "3FO4JIHWFMSN_Guest_room.zip\n",
      "3FO4JIH9BXLS_Living_room.zip\n"
     ]
    },
    {
     "name": "stderr",
     "output_type": "stream",
     "text": [
      "Downloading...\n",
      "From: https://drive.google.com/uc?id=19SWFkTHOnfaOMkgT7V081G1ilbHLpx9X&export=download\n",
      "To: /media/scratch1/erbachj/Mask_RCNN/data/InteriorNet/data/HD7/train/3FO4JIH9BXLS_Living_room.zip\n",
      "74.2MB [00:02, 26.9MB/s]\n"
     ]
    },
    {
     "name": "stdout",
     "output_type": "stream",
     "text": [
      "3FO4JIH9BXLS_Guest_room.zip\n",
      "3FO4JIH9BXLS_Bedroom.zip\n",
      "3FO4JIFVE3O0_Living_room.zip\n"
     ]
    },
    {
     "name": "stderr",
     "output_type": "stream",
     "text": [
      "Downloading...\n",
      "From: https://drive.google.com/uc?id=1EQ-Ry0yr9CZGxS5gIOimV-11onTHcB8B&export=download\n",
      "To: /media/scratch1/erbachj/Mask_RCNN/data/InteriorNet/data/HD7/train/3FO4JIFVE3O0_Living_room.zip\n",
      "58.4MB [00:01, 54.4MB/s]\n"
     ]
    },
    {
     "name": "stdout",
     "output_type": "stream",
     "text": [
      "3FO4JIFVE3O0_Guest_room.zip\n",
      "3FO4JIFVE3O0_Bedroom.zip\n",
      "3FO4JIF4G6M0_Guest_room.zip\n",
      "3FO4JIF4G6M0_Bedroom.zip\n",
      "3FO4JIF34GK1_Bedroom.zip\n",
      "3FO4JIF0W9UX_Guest_room.zip\n",
      "3FO4JIF0W9UX_Bedroom.zip\n",
      "3FO4JIEENCOG_Guest_room.zip\n",
      "3FO4JIEENCOG_Bedroom.zip\n",
      "3FO4JIDX503H_Guest_room.zip\n",
      "3FO4JIDH3JBK_Living_room.zip\n"
     ]
    },
    {
     "name": "stderr",
     "output_type": "stream",
     "text": [
      "Downloading...\n",
      "From: https://drive.google.com/uc?id=1ql-L4TqpNw4q9vViAAQ-lc6UgTj6Ambm&export=download\n",
      "To: /media/scratch1/erbachj/Mask_RCNN/data/InteriorNet/data/HD7/train/3FO4JIDH3JBK_Living_room.zip\n",
      "56.8MB [00:03, 16.5MB/s]\n"
     ]
    },
    {
     "name": "stdout",
     "output_type": "stream",
     "text": [
      "3FO4JIDH3JBK_Guest_room.zip\n",
      "3FO4JIDH3JBK_Bedroom.zip\n",
      "3FO4JIDE9XN3_Guest_room.zip\n",
      "3FO4JIDE9XN3_Bedroom.zip\n",
      "3FO4JICY467C_Bedroom.zip\n",
      "3FO4JIBDQ9RR_Bedroom.zip\n",
      "3FO4JIBACSMC_Living_room.zip\n"
     ]
    },
    {
     "name": "stderr",
     "output_type": "stream",
     "text": [
      "Downloading...\n",
      "From: https://drive.google.com/uc?id=15JXOFHpc5fFHnHSPcdcdpTTjb9K-q_6G&export=download\n",
      "To: /media/scratch1/erbachj/Mask_RCNN/data/InteriorNet/data/HD7/train/3FO4JIBACSMC_Living_room.zip\n",
      "45.0MB [00:00, 70.3MB/s]\n"
     ]
    },
    {
     "name": "stdout",
     "output_type": "stream",
     "text": [
      "3FO4JIBACSMC_Guest_room.zip\n",
      "3FO4JIBACSMC_Bedroom.zip\n",
      "3FO4JIADTAUB_Guest_room.zip\n",
      "3FO4JIADTAUB_Bedroom.zip\n",
      "3FO4JI9KN44D_Guest_room.zip\n",
      "3FO4JI9KN44D_Bedroom.zip\n",
      "3FO4JI9EOJV0_Dining_room.zip\n"
     ]
    },
    {
     "name": "stderr",
     "output_type": "stream",
     "text": [
      "Downloading...\n",
      "From: https://drive.google.com/uc?id=1HN1AJ-KmP5DKNtjPPtIwWbrgaBxgGOja&export=download\n",
      "To: /media/scratch1/erbachj/Mask_RCNN/data/InteriorNet/data/HD7/train/3FO4JI9EOJV0_Dining_room.zip\n",
      "67.7MB [00:04, 16.5MB/s]\n"
     ]
    },
    {
     "name": "stdout",
     "output_type": "stream",
     "text": [
      "3FO4JI8Q25BJ_Guest_room.zip\n",
      "3FO4JI8Q25BJ_Bedroom.zip\n",
      "3FO4JI8OONIC_Guest_room.zip\n",
      "3FO4JI8OONIC_Bedroom.zip\n",
      "3FO4JI8NQVMJ_Guest_room.zip\n",
      "3FO4JI8NQVMJ_Bedroom.zip\n",
      "3FO4JI8LQANF_Living_room.zip\n"
     ]
    },
    {
     "name": "stderr",
     "output_type": "stream",
     "text": [
      "Downloading...\n",
      "From: https://drive.google.com/uc?id=1HTQ2As_k4tgufFPKT4eg9ioQoe1VHrnR&export=download\n",
      "To: /media/scratch1/erbachj/Mask_RCNN/data/InteriorNet/data/HD7/train/3FO4JI8LQANF_Living_room.zip\n",
      "56.6MB [00:01, 31.8MB/s]\n"
     ]
    },
    {
     "name": "stdout",
     "output_type": "stream",
     "text": [
      "3FO4JI8LQANF_Guest_room.zip\n",
      "3FO4JI8LQANF_Bedroom.zip\n",
      "3FO4JI815V0Y_Guest_room.zip\n",
      "3FO4JI815V0Y_Bedroom.zip\n",
      "3FO4JI6ITL5A_Living_room.zip\n"
     ]
    },
    {
     "name": "stderr",
     "output_type": "stream",
     "text": [
      "Downloading...\n",
      "From: https://drive.google.com/uc?id=1WdjiR0JBpaRjQgcAE2BGGR9Rk3geyCkz&export=download\n",
      "To: /media/scratch1/erbachj/Mask_RCNN/data/InteriorNet/data/HD7/train/3FO4JI6ITL5A_Living_room.zip\n",
      "66.4MB [00:02, 27.6MB/s]\n"
     ]
    },
    {
     "name": "stdout",
     "output_type": "stream",
     "text": [
      "3FO4JI6ITL5A_Guest_room.zip\n",
      "3FO4JI66A8KV_Guest_room.zip\n",
      "3FO4JI66A8KV_Bedroom.zip\n",
      "3FO4JI65U5AD_Guest_room.zip\n",
      "3FO4JI65U5AD_Bedroom.zip\n",
      "3FO4JI654PUR_Guest_room.zip\n",
      "3FO4JI654PUR_Bedroom.zip\n",
      "3FO4JI53TSEY_Guest_room.zip\n",
      "3FO4JI53TSEY_Bedroom.zip\n",
      "3FO4JI53NRR6_Guest_room.zip\n",
      "3FO4JI53NRR6_Bedroom.zip\n",
      "3FO4JI1KVYD4_Guest_room.zip\n",
      "3FO4JI1KVYD4_Bedroom.zip\n",
      "3FO4JI04K9VR_Bedroom.zip\n",
      "3FO4JHW96Q9Y_Guest_room.zip\n",
      "3FO4JHW96Q9Y_Bedroom.zip\n",
      "3FO4JHUVX5MF_Bedroom.zip\n",
      "3FO4JHSQITY3_Bedroom.zip\n",
      "3FO4JHSKMKYE_Living_room.zip\n"
     ]
    },
    {
     "name": "stderr",
     "output_type": "stream",
     "text": [
      "Downloading...\n",
      "From: https://drive.google.com/uc?id=1La5RWwPIJR-WRYESAN-Dh1KMdbbz9oH1&export=download\n",
      "To: /media/scratch1/erbachj/Mask_RCNN/data/InteriorNet/data/HD7/train/3FO4JHSKMKYE_Living_room.zip\n",
      "61.0MB [00:00, 73.2MB/s]\n"
     ]
    },
    {
     "name": "stdout",
     "output_type": "stream",
     "text": [
      "3FO4JHSKMKYE_Guest_room.zip\n",
      "3FO4JHSKMKYE_Bedroom.zip\n",
      "3FO4JHSJUQED_Guest_room.zip\n",
      "3FO4JHSJUQED_Bedroom.zip\n",
      "3FO4JHQIBFCE_Guest_room.zip\n",
      "3FO4JHQIBFCE_Bedroom.zip\n",
      "3FO4JHPP06DX_Guest_room.zip\n",
      "3FO4JHPP06DX_Bedroom.zip\n",
      "3FO4JHOYDROU_Living_room.zip\n"
     ]
    },
    {
     "name": "stderr",
     "output_type": "stream",
     "text": [
      "Downloading...\n",
      "From: https://drive.google.com/uc?id=1lx_VVV1iT1m-Bpyi5bHl18ke-U6vdWc2&export=download\n",
      "To: /media/scratch1/erbachj/Mask_RCNN/data/InteriorNet/data/HD7/train/3FO4JHOYDROU_Living_room.zip\n",
      "64.0MB [00:00, 88.8MB/s]\n"
     ]
    },
    {
     "name": "stdout",
     "output_type": "stream",
     "text": [
      "3FO4JHOYDROU_Guest_room.zip\n",
      "3FO4JEXDLC4E_Guest_room.zip\n",
      "3FO4JDCO78XY_Living_room.zip\n"
     ]
    },
    {
     "name": "stderr",
     "output_type": "stream",
     "text": [
      "Downloading...\n",
      "From: https://drive.google.com/uc?id=1WoQ_qFgH0-jNS6QJhZRnTn6PAods_BHh&export=download\n",
      "To: /media/scratch1/erbachj/Mask_RCNN/data/InteriorNet/data/HD7/train/3FO4JDCO78XY_Living_room.zip\n",
      "52.1MB [00:02, 17.9MB/s]\n"
     ]
    },
    {
     "name": "stdout",
     "output_type": "stream",
     "text": [
      "3FO4JC0AV56H_Guest_room.zip\n",
      "3FO4JAYLKMIE_Bedroom.zip\n",
      "3FO4J9RLOO8C_Bedroom.zip\n",
      "3FO4J8JJHHVM_Guest_room.zip\n",
      "3FO4J7RIFKNR_Bedroom.zip\n",
      "3FO4J70JRJ70_Guest_room.zip\n",
      "3FO4J67YJ4AB_Bedroom.zip\n",
      "3FO4J5D0EN9J_Living_room.zip\n"
     ]
    },
    {
     "name": "stderr",
     "output_type": "stream",
     "text": [
      "Downloading...\n",
      "From: https://drive.google.com/uc?id=1IrQexO02hinr0ODwTWu_g31r7YqeRnOD&export=download\n",
      "To: /media/scratch1/erbachj/Mask_RCNN/data/InteriorNet/data/HD7/train/3FO4J5D0EN9J_Living_room.zip\n",
      "63.3MB [00:00, 71.9MB/s]\n"
     ]
    },
    {
     "name": "stdout",
     "output_type": "stream",
     "text": [
      "3FO4J4BH9GBH_Guest_room.zip\n",
      "3FO4J3CBTEEA_Bathroom.zip\n",
      "3FO4J265FCCD_Bedroom.zip\n",
      "3FO4JHDL0K7T_Guest_room.zip\n",
      "3FO4JH8T4X22_Bedroom.zip\n",
      "3FO4JGVP1I4S_Bedroom.zip\n",
      "3FO4JGRFJBT0_Bedroom.zip\n",
      "3FO4JGPFFJK5_Bedroom.zip\n",
      "3FO4JGN6B85W_Bedroom.zip\n",
      "3FO4JGMSGTII_Bedroom.zip\n",
      "3FO4JGM6SO4R_Bedroom.zip\n",
      "3FO4JGGKVDKX_Bedroom.zip\n",
      "3FO4JGGJEONH_Guest_room.zip\n",
      "3FO4JGEVX59V_Guest_room.zip\n",
      "3FO4JGCNC2I4_Bedroom.zip\n",
      "3FO4JG1O996Q_Guest_room.zip\n",
      "3FO4JHOQ4OQE_Guest_room.zip\n",
      "3FO4JHOQ4OQE_Bedroom.zip\n",
      "3FO4JHOQ27SN_Living_room.zip\n",
      "3FO4JHOQ27SN_Dining_room.zip\n",
      "3FO4JHOQ27SN_Bedroom.zip\n",
      "3FO4JHO3O1DF_Living_room.zip\n",
      "3FO4JHO3O1DF_Guest_room.zip\n",
      "3FO4JHO3O1DF_Dining_room.zip\n",
      "3FO4JHO3O1DF_Bedroom.zip\n",
      "3FO4JHNRDLW6_Guest_room.zip\n",
      "3FO4JHNRDLW6_Bedroom.zip\n",
      "3FO4JHNRC02O_Guest_room.zip\n",
      "3FO4JHNRC02O_Bedroom.zip\n",
      "3FO4JHNQGBQI_Guest_room.zip\n",
      "3FO4JHN9EPI3_Bedroom.zip\n",
      "3FO4JHKL1F3M_Living_room.zip\n",
      "3FO4JHKL1F3M_Bedroom.zip\n",
      "3FO4JHJN4721_Guest_room.zip\n",
      "3FO4JHJN4721_Bedroom.zip\n",
      "3FO4JHJILQNX_Living_room.zip\n",
      "3FO4JHJILQNX_Guest_room.zip\n",
      "3FO4JHJILQNX_Bedroom.zip\n",
      "3FO4JHGY9TVR_Guest_room.zip\n",
      "3FO4JHGY9TVR_Bedroom.zip\n",
      "3FO4JHGV4OMT_Living_room.zip\n",
      "3FO4JHGV4OMT_Bedroom.zip\n",
      "3FO4JHF2ME47_Guest_room.zip\n",
      "3FO4JHF2ME47_Bedroom.zip\n",
      "3FO4JHDL0K7T_Bedroom.zip\n",
      "3FO4JHDKOY2N_Guest_room.zip\n",
      "3FO4JHDKOY2N_Bedroom.zip\n",
      "3FO4JHDJ1RR9_Guest_room.zip\n",
      "3FO4JHDJ1RR9_Bedroom.zip\n",
      "3FO4JHDHY8P1_Guest_room.zip\n",
      "3FO4JHDHY8P1_Bedroom.zip\n",
      "3FO4JHDH6MDR_Living_room.zip\n",
      "3FO4JHDH6MDR_Bedroom.zip\n",
      "3FO4JHDBHFT7_Guest_room.zip\n",
      "3FO4JHDBHFT7_Bedroom.zip\n",
      "3FO4JHAYJ8PE_Guest_room.zip\n",
      "3FO4JHAYJ8PE_Bedroom.zip\n",
      "3FO4JH8T4X22_Guest_room.zip\n",
      "3FO4JH7O5TXM_Guest_room.zip\n",
      "3FO4JH7O5TXM_Bedroom.zip\n",
      "3FO4JH56JEPJ_Guest_room.zip\n",
      "3FO4JH56JEPJ_Bedroom.zip\n",
      "3FO4JGYWN83N_Guest_room.zip\n",
      "3FO4JGYWN83N_Bedroom.zip\n",
      "3FO4JGYSA36U_Living_room.zip\n",
      "3FO4JGYSA36U_Guest_room.zip\n",
      "3FO4JGYSA36U_Bedroom.zip\n",
      "3FO4JGYI3G97_Guest_room.zip\n",
      "3FO4JGYI3G97_Bedroom.zip\n",
      "3FO4JGW2PCTJ_Guest_room.zip\n",
      "3FO4JGW2PCTJ_Bedroom.zip\n",
      "3FO4JGVP1I4S_Living_room.zip\n",
      "3FO4JGV1O4NC_Guest_room.zip\n",
      "3FO4JGV1O4NC_Bedroom.zip\n",
      "3FO4JGUYLF4L_Guest_room.zip\n",
      "3FO4JGUYLF4L_Bedroom.zip\n",
      "3FO4JGUYI6FM_Living_room.zip\n",
      "3FO4JGUYI6FM_Guest_room.zip\n",
      "3FO4JGUYI6FM_Bedroom.zip\n",
      "3FO4JGUY5NEV_Guest_room.zip\n",
      "3FO4JGUY5NEV_Bedroom.zip\n",
      "3FO4JGU2UTWG_Guest_room.zip\n",
      "3FO4JGU2UTWG_Dining_room.zip\n",
      "3FO4JGU2UTWG_Bedroom.zip\n",
      "3FO4JGTNUA5Q_Bedroom.zip\n",
      "3FO4JGRFJBT0_Guest_room.zip\n",
      "3FO4JGRFH4WC_Guest_room.zip\n",
      "3FO4JGRFH4WC_Bedroom.zip\n",
      "3FO4JGRDJ7K1_Guest_room.zip\n",
      "3FO4JGRDJ7K1_Bedroom.zip\n",
      "3FO4JGR8KPG5_Bedroom.zip\n",
      "3FO4JGQTOWUU_Bedroom.zip\n",
      "3FO4JGQN96RC_Guest_room.zip\n",
      "3FO4JGQN96RC_Bedroom.zip\n",
      "3FO4JGPO8CV7_Guest_room.zip\n",
      "3FO4JGPO8CV7_Bedroom.zip\n",
      "3FO4JGPIM4YI_Guest_room.zip\n",
      "3FO4JGPIM4YI_Bedroom.zip\n",
      "3FO4JGPFQ5PB_Bedroom.zip\n",
      "3FO4JGPFFJK5_Guest_room.zip\n",
      "3FO4JGPAA015_Guest_room.zip\n",
      "3FO4JGPAA015_Bedroom.zip\n",
      "3FO4JGP8UENB_Guest_room.zip\n",
      "3FO4JGP8UENB_Bedroom.zip\n",
      "3FO4JGP3V2G6_Guest_room.zip\n",
      "3FO4JGP3V2G6_Bedroom.zip\n",
      "3FO4JGOD2VD2_Bedroom.zip\n",
      "3FO4JGNYCG1D_Guest_room.zip\n",
      "3FO4JGNYCG1D_Bedroom.zip\n",
      "3FO4JGNDRVH6_Guest_room.zip\n",
      "3FO4JGNDRVH6_Bedroom.zip\n",
      "3FO4JGN6EDHU_Guest_room.zip\n",
      "3FO4JGN6EDHU_Bedroom.zip\n",
      "3FO4JGN6B85W_Guest_room.zip\n",
      "3FO4JGN6AGEO_Guest_room.zip\n",
      "3FO4JGN6AGEO_Bedroom.zip\n",
      "3FO4JGN6A9PM_Guest_room.zip\n",
      "3FO4JGN6A9PM_Bedroom.zip\n",
      "3FO4JGN68WW8_Guest_room.zip\n",
      "3FO4JGN68WW8_Bedroom.zip\n",
      "3FO4JGMSWL88_Bedroom.zip\n",
      "3FO4JGMSJVIF_Guest_room.zip\n",
      "3FO4JGMSJVIF_Bedroom.zip\n",
      "3FO4JGMSJ848_Living_room.zip\n",
      "3FO4JGMSJ848_Guest_room.zip\n",
      "3FO4JGMSJ848_Dining_room.zip\n",
      "3FO4JGMSJ848_Bedroom.zip\n",
      "3FO4JGMSGTII_Guest_room.zip\n",
      "3FO4JGMSBKLX_Bedroom.zip\n",
      "3FO4JGMS9XRG_Living_room.zip\n",
      "3FO4JGMS9XRG_Guest_room.zip\n",
      "3FO4JGMS9XRG_Bedroom.zip\n",
      "3FO4JGMS7GTP_Guest_room.zip\n",
      "3FO4JGMS7GTP_Bedroom.zip\n",
      "3FO4JGMS56L1_Guest_room.zip\n",
      "3FO4JGMRXO83_Guest_room.zip\n",
      "3FO4JGMRXO83_Bedroom.zip\n",
      "3FO4JGMR1APE_Guest_room.zip\n",
      "3FO4JGMR1APE_Bedroom.zip\n",
      "3FO4JGMQTIBD_Guest_room.zip\n",
      "3FO4JGMQTIBD_Bedroom.zip\n",
      "3FO4JGM6SO4R_Guest_room.zip\n",
      "3FO4JGJA0XI9_Guest_room.zip\n",
      "3FO4JGJA0XI9_Bedroom.zip\n",
      "3FO4JGJ9RTAT_Guest_room.zip\n",
      "3FO4JGJ9RTAT_Bedroom.zip\n",
      "3FO4JGJ6TQH0_Living_room.zip\n",
      "3FO4JGJ6TQH0_Guest_room.zip\n",
      "3FO4JGJ6TQH0_Bedroom.zip\n",
      "3FO4JGJ0X7G8_Guest_room.zip\n",
      "3FO4JGJ0X7G8_Bedroom.zip\n",
      "3FO4JGIQ1BKH_Bedroom.zip\n",
      "3FO4JGI9UUDD_Bedroom.zip\n",
      "3FO4JGHY1V11_Guest_room.zip\n",
      "3FO4JGHY1V11_Bedroom.zip\n",
      "3FO4JGGSU5FB_Bedroom.zip\n",
      "3FO4JGGKRX7W_Guest_room.zip\n",
      "3FO4JGGKRX7W_Bedroom.zip\n",
      "3FO4JGGKOL6W_Living_room.zip\n",
      "3FO4JGGKOL6W_Guest_room.zip\n",
      "3FO4JGGKOL6W_Bedroom.zip\n",
      "3FO4JGGKGAAF_Guest_room.zip\n",
      "3FO4JGGKGAAF_Bedroom.zip\n",
      "3FO4JGGKFIJ7_Guest_room.zip\n",
      "3FO4JGGKFIJ7_Bedroom.zip\n",
      "3FO4JGGK7YDX_Guest_room.zip\n",
      "3FO4JGGK7YDX_Bedroom.zip\n",
      "3FO4JGGK74AO_Living_room.zip\n",
      "3FO4JGGK74AO_Guest_room.zip\n",
      "3FO4JGGK74AO_Bedroom.zip\n",
      "3FO4JGGJEONH_Bedroom.zip\n",
      "3FO4JGGJ26MQ_Bedroom.zip\n",
      "3FO4JGGIDY4S_Guest_room.zip\n",
      "3FO4JGGIDY4S_Bedroom.zip\n",
      "3FO4JGGI5TWD_Guest_room.zip\n",
      "3FO4JGGI5TWD_Bedroom.zip\n",
      "3FO4JGGHRA4B_Dining_room.zip\n",
      "3FO4JGGHRA4B_Bedroom.zip\n",
      "3FO4JGF31U2S_Guest_room.zip\n",
      "3FO4JGF31U2S_Bedroom.zip\n",
      "3FO4JGEW2J37_Living_room.zip\n",
      "3FO4JGEW2J37_Guest_room.zip\n",
      "3FO4JGEW2J37_Dining_room.zip\n",
      "3FO4JGEW22D2_Bedroom.zip\n",
      "3FO4JGEVX59V_Bedroom.zip\n",
      "3FO4JGE4E0WJ_Guest_room.zip\n",
      "3FO4JGE4E0WJ_Bedroom.zip\n",
      "3FO4JGDHA0H2_Living_room.zip\n",
      "3FO4JGDHA0H2_Bedroom.zip\n",
      "3FO4JGDA977J_Living_room.zip\n",
      "3FO4JGDA977J_Dining_room.zip\n",
      "3FO4JGDA977J_Bedroom.zip\n",
      "3FO4JGD00U3D_Guest_room.zip\n",
      "3FO4JGD00U3D_Bedroom.zip\n",
      "3FO4JGCTUULJ_Bedroom.zip\n",
      "3FO4JGCTLEKP_Bedroom.zip\n",
      "3FO4JGCNC2I4_Living_room.zip\n",
      "3FO4JGCNC2I4_Guest_room.zip\n",
      "3FO4JG6QKO9W_Guest_room.zip\n",
      "3FO4JG6QKO9W_Bedroom.zip\n",
      "3FO4JG64BOXX_Guest_room.zip\n",
      "3FO4JG64BOXX_Bedroom.zip\n",
      "3FO4JG64A34G_Guest_room.zip\n",
      "3FO4JG64A34G_Bedroom.zip\n",
      "3FO4JG63F9VJ_Guest_room.zip\n",
      "3FO4JG63F9VJ_Bedroom.zip\n",
      "3FO4JG63ELHC_Guest_room.zip\n",
      "3FO4JG63ELHC_Bedroom.zip\n",
      "3FO4JG6360JR_Guest_room.zip\n",
      "3FO4JG6360JR_Bedroom.zip\n",
      "3FO4JG4VS76R_Guest_room.zip\n",
      "3FO4JG4VS76R_Bedroom.zip\n",
      "3FO4JG0L7P2I_Guest_room.zip\n",
      "3FO4JFXPTURA_Dining_room.zip\n",
      "3FO4JFVIADMG_Bedroom.zip\n",
      "3FO4JFVFA0JX_Living_room.zip\n",
      "3FO4JFTWRSDH_Bedroom.zip\n",
      "3FO4JFPS0YY5_Guest_room.zip\n",
      "3FO4JFLXDEVQ_Bedroom.zip\n",
      "3FO4JFIFEFPJ_Guest_room.zip\n",
      "3FO4JFEAWU39_Guest_room.zip\n",
      "3FO4JFBQ0V53_Bedroom.zip\n",
      "3FO4JF7A2R1P_Living_room.zip\n",
      "3FO4JF3DFMRI_Bedroom.zip\n",
      "3FO4JF0UN07K_Bedroom.zip\n",
      "3FO4JG1O996Q_Bedroom.zip\n",
      "3FO4JG1O60HR_Guest_room.zip\n",
      "3FO4JG1O60HR_Bedroom.zip\n",
      "3FO4JG1O4UDF_Guest_room.zip\n",
      "3FO4JG1O4UDF_Bedroom.zip\n",
      "3FO4JG1O43M7_Bedroom.zip\n",
      "3FO4JG1O2QSS_Guest_room.zip\n",
      "3FO4JG1O2QSS_Bedroom.zip\n",
      "3FO4JG1O1ICF_Guest_room.zip\n",
      "3FO4JG1O1ICF_Bedroom.zip\n",
      "3FO4JG1O06J1_Guest_room.zip\n",
      "3FO4JG1O06J1_Bedroom.zip\n",
      "3FO4JG1NO0BO_Guest_room.zip\n",
      "3FO4JG1NO0BO_Bedroom.zip\n",
      "3FO4JG1K620W_Bedroom.zip\n",
      "3FO4JG0S3CRH_Guest_room.zip\n",
      "3FO4JG0S3CRH_Bedroom.zip\n",
      "3FO4JG0LVOBO_Living_room.zip\n",
      "3FO4JG0LVOBO_Guest_room.zip\n",
      "3FO4JG0LVOBO_Bedroom.zip\n",
      "3FO4JG0LUJ7C_Dining_room.zip\n",
      "3FO4JG0LUJ7C_Bedroom.zip\n",
      "3FO4JG0LUCIA_Guest_room.zip\n",
      "3FO4JG0LUCIA_Bedroom.zip\n",
      "3FO4JG0LT7DX_Bedroom.zip\n",
      "3FO4JG0LRR8I_Bedroom.zip\n",
      "3FO4JG0L8NHS_Guest_room.zip\n",
      "3FO4JG0L8NHS_Bedroom.zip\n",
      "3FO4JG0L7P2I_Bedroom.zip\n",
      "3FO4JG0KP1H8_Guest_room.zip\n",
      "3FO4JG0KP1H8_Bedroom.zip\n",
      "3FO4JG0K613J_Guest_room.zip\n",
      "3FO4JG0K613J_Bedroom.zip\n",
      "3FO4JG04HDDG_Guest_room.zip\n",
      "3FO4JG04HDDG_Bedroom.zip\n",
      "3FO4JFYWBV9J_Guest_room.zip\n",
      "3FO4JFYWBV9J_Bedroom.zip\n",
      "3FO4JFXS2J6I_Living_room.zip\n",
      "3FO4JFXS2J6I_Guest_room.zip\n",
      "3FO4JFXS2J6I_Bedroom.zip\n",
      "3FO4JFXPTURA_Living_room.zip\n",
      "3FO4JFXPTURA_Guest_room.zip\n",
      "3FO4JFXPTURA_Bedroom.zip\n",
      "3FO4JFXO2RDP_Guest_room.zip\n",
      "3FO4JFXO2RDP_Bedroom.zip\n",
      "3FO4JFXNSOQ0_Guest_room.zip\n",
      "3FO4JFXNSOQ0_Bedroom.zip\n",
      "3FO4JFXFEG80_Guest_room.zip\n",
      "3FO4JFXFEG80_Bedroom.zip\n",
      "3FO4JFX0W9NB_Bedroom.zip\n",
      "3FO4JFWKOXP4_Bedroom.zip\n",
      "3FO4JFVIXRTG_Guest_room.zip\n",
      "3FO4JFVIXRTG_Bedroom.zip\n",
      "3FO4JFVIVE8Q_Living_room.zip\n",
      "3FO4JFVIVE8Q_Guest_room.zip\n",
      "3FO4JFVIVE8Q_Bedroom.zip\n",
      "3FO4JFVI8U50_Guest_room.zip\n",
      "3FO4JFVI8U50_Bedroom.zip\n",
      "3FO4JFVI7VOP_Guest_room.zip\n",
      "3FO4JFVI7VOP_Bedroom.zip\n",
      "3FO4JFVI78AI_Guest_room.zip\n",
      "3FO4JFVI78AI_Bedroom.zip\n",
      "3FO4JFVI71LG_Guest_room.zip\n",
      "3FO4JFVI71LG_Bedroom.zip\n",
      "3FO4JFVGNMHH_Guest_room.zip\n",
      "3FO4JFVGNMHH_Bedroom.zip\n",
      "3FO4JFVGN94D_Guest_room.zip\n",
      "3FO4JFVGN94D_Bedroom.zip\n",
      "3FO4JFVGG3C8_Guest_room.zip\n",
      "3FO4JFVGG3C8_Bedroom.zip\n",
      "3FO4JFVFA0JX_Guest_room.zip\n",
      "3FO4JFVFA0JX_Dining_room.zip\n",
      "3FO4JFVFA0JX_Bedroom.zip\n",
      "3FO4JFVF95GO_Guest_room.zip\n",
      "3FO4JFVF95GO_Bedroom.zip\n",
      "3FO4JFUGC1YN_Bedroom.zip\n",
      "3FO4JFUGBXMM_Guest_room.zip\n",
      "3FO4JFUGBXMM_Bedroom.zip\n",
      "3FO4JFTXHJDV_Guest_room.zip\n",
      "3FO4JFTXHJDV_Bedroom.zip\n",
      "3FO4JFTWUDN9_Guest_room.zip\n",
      "3FO4JFTWUDN9_Bedroom.zip\n",
      "3FO4JFTWSNGQ_Guest_room.zip\n",
      "3FO4JFTWSNGQ_Bedroom.zip\n",
      "3FO4JFSOGKX1_Bedroom.zip\n",
      "3FO4JFS152JT_Guest_room.zip\n",
      "3FO4JFS152JT_Bedroom.zip\n",
      "3FO4JFS04202_Guest_room.zip\n",
      "3FO4JFS04202_Bedroom.zip\n",
      "3FO4JFROL260_Guest_room.zip\n",
      "3FO4JFROL260_Bedroom.zip\n",
      "3FO4JFRI7190_Living_room.zip\n",
      "3FO4JFQMYDFO_Guest_room.zip\n",
      "3FO4JFQMYDFO_Bedroom.zip\n",
      "3FO4JFQH7EWA_Living_room.zip\n",
      "3FO4JFQAONL6_Guest_room.zip\n",
      "3FO4JFQAONL6_Bedroom.zip\n",
      "3FO4JFPS0YY5_Living_room.zip\n",
      "3FO4JFPS0YY5_Bedroom.zip\n",
      "3FO4JFPP48XP_Living_room.zip\n",
      "3FO4JFPP48XP_Guest_room.zip\n",
      "3FO4JFPP48XP_Bedroom.zip\n",
      "3FO4JFP4VCC0_Bedroom.zip\n",
      "3FO4JFOMSOB9_Guest_room.zip\n",
      "3FO4JFOMSOB9_Bedroom.zip\n",
      "3FO4JFOKMCPF_Guest_room.zip\n",
      "3FO4JFOKMCPF_Bedroom.zip\n",
      "3FO4JFMNR9FK_Guest_room.zip\n",
      "3FO4JFMNR9FK_Bedroom.zip\n",
      "3FO4JFLXDEVQ_Living_room.zip\n",
      "3FO4JFLXDEVQ_Guest_room.zip\n",
      "3FO4JFLXDEVQ_Dining_room.zip\n",
      "3FO4JFLVLBI6_Guest_room.zip\n",
      "3FO4JFLVLBI6_Bedroom.zip\n",
      "3FO4JFLQBN6X_Living_room.zip\n",
      "3FO4JFLQBN6X_Bedroom.zip\n",
      "3FO4JFL70NCR_Guest_room.zip\n",
      "3FO4JFL70NCR_Bedroom.zip\n",
      "3FO4JFKXHYGQ_Guest_room.zip\n",
      "3FO4JFKXHYGQ_Bedroom.zip\n",
      "3FO4JFKX4BBN_Guest_room.zip\n",
      "3FO4JFKX4BBN_Bedroom.zip\n",
      "3FO4JFIGRO9Y_Living_room.zip\n"
     ]
    },
    {
     "name": "stderr",
     "output_type": "stream",
     "text": [
      "Downloading...\n",
      "From: https://drive.google.com/uc?id=1nDo2rfaVkjv5VfcuGwljJ6aIHPuMbq9C&export=download\n",
      "To: /media/scratch1/erbachj/Mask_RCNN/data/InteriorNet/data/HD7/train/3FO4JFIGRO9Y_Living_room.zip\n",
      "60.7MB [00:03, 15.7MB/s]\n"
     ]
    },
    {
     "name": "stdout",
     "output_type": "stream",
     "text": [
      "3FO4JFIGRO9Y_Guest_room.zip\n",
      "3FO4JFIGRO9Y_Bedroom.zip\n",
      "3FO4JFIFEFPJ_Living_room.zip\n"
     ]
    },
    {
     "name": "stderr",
     "output_type": "stream",
     "text": [
      "Downloading...\n",
      "From: https://drive.google.com/uc?id=1q7le-pVxOB56rRPIPWCkhIyxli3ylBMR&export=download\n",
      "To: /media/scratch1/erbachj/Mask_RCNN/data/InteriorNet/data/HD7/train/3FO4JFIFEFPJ_Living_room.zip\n",
      "73.8MB [00:03, 21.3MB/s]\n"
     ]
    },
    {
     "name": "stdout",
     "output_type": "stream",
     "text": [
      "3FO4JFIFEFPJ_Bedroom.zip\n",
      "3FO4JFI7E21O_Living_room.zip\n"
     ]
    },
    {
     "name": "stderr",
     "output_type": "stream",
     "text": [
      "Downloading...\n",
      "From: https://drive.google.com/uc?id=1DHk1J8TJOQmjO_ExXLE_umV7A1hQvcCn&export=download\n",
      "To: /media/scratch1/erbachj/Mask_RCNN/data/InteriorNet/data/HD7/train/3FO4JFI7E21O_Living_room.zip\n",
      "71.8MB [00:01, 46.2MB/s]\n"
     ]
    },
    {
     "name": "stdout",
     "output_type": "stream",
     "text": [
      "3FO4JFI7E21O_Dining_room.zip\n",
      "3FO4JFI7E21O_Bedroom.zip\n",
      "3FO4JFHK8YSV_Guest_room.zip\n",
      "3FO4JFHK8YSV_Bedroom.zip\n",
      "3FO4JFFY7O7B_Bedroom.zip\n",
      "3FO4JFFWM36O_Guest_room.zip\n",
      "3FO4JFFWM36O_Bedroom.zip\n",
      "3FO4JFFECY0J_Living_room.zip\n"
     ]
    },
    {
     "name": "stderr",
     "output_type": "stream",
     "text": [
      "Downloading...\n",
      "From: https://drive.google.com/uc?id=17nIMsyd54JZyGhtt2u4BwBAqO2LCOpTc&export=download\n",
      "To: /media/scratch1/erbachj/Mask_RCNN/data/InteriorNet/data/HD7/train/3FO4JFFECY0J_Living_room.zip\n",
      "68.3MB [00:02, 33.1MB/s]\n"
     ]
    },
    {
     "name": "stdout",
     "output_type": "stream",
     "text": [
      "3FO4JFFECY0J_Guest_room.zip\n",
      "3FO4JFFECY0J_Dining_room.zip\n",
      "3FO4JFFECY0J_Bedroom.zip\n",
      "3FO4JFF7KJYJ_Bedroom.zip\n",
      "3FO4JFEAWU39_Bedroom.zip\n",
      "3FO4JFDOCU1G_Guest_room.zip\n",
      "3FO4JFDOCU1G_Bedroom.zip\n",
      "3FO4JFD2BI7R_Guest_room.zip\n",
      "3FO4JFD2BI7R_Bedroom.zip\n",
      "3FO4JFCTBB7Y_Living_room.zip\n"
     ]
    },
    {
     "name": "stderr",
     "output_type": "stream",
     "text": [
      "Downloading...\n",
      "From: https://drive.google.com/uc?id=1NDg1HAvv206WYXUw5lQ6bvB7wKZm5xIn&export=download\n",
      "To: /media/scratch1/erbachj/Mask_RCNN/data/InteriorNet/data/HD7/train/3FO4JFCTBB7Y_Living_room.zip\n",
      "73.4MB [00:01, 70.7MB/s]\n"
     ]
    },
    {
     "name": "stdout",
     "output_type": "stream",
     "text": [
      "3FO4JFCTBB7Y_Dining_room.zip\n",
      "3FO4JFCTBB7Y_Bedroom.zip\n",
      "3FO4JFCS4GOG_Bedroom.zip\n",
      "3FO4JFCPJGXJ_Guest_room.zip\n",
      "3FO4JFCPJGXJ_Bedroom.zip\n",
      "3FO4JFBUL3H0_Living_room.zip\n"
     ]
    },
    {
     "name": "stderr",
     "output_type": "stream",
     "text": [
      "Downloading...\n",
      "From: https://drive.google.com/uc?id=1mCPsnuxmRVwqjmpoVg-Ps0EsFJzAA1s-&export=download\n",
      "To: /media/scratch1/erbachj/Mask_RCNN/data/InteriorNet/data/HD7/train/3FO4JFBUL3H0_Living_room.zip\n",
      "52.8MB [00:01, 51.4MB/s]\n"
     ]
    },
    {
     "name": "stdout",
     "output_type": "stream",
     "text": [
      "3FO4JFBUL3H0_Bedroom.zip\n",
      "3FO4JFBQ0V53_Guest_room.zip\n",
      "3FO4JFBOTIBP_Guest_room.zip\n",
      "3FO4JFBOTIBP_Bedroom.zip\n",
      "3FO4JFBMB8RB_Living_room.zip\n"
     ]
    },
    {
     "name": "stderr",
     "output_type": "stream",
     "text": [
      "Downloading...\n",
      "From: https://drive.google.com/uc?id=17xQZ5QOmqDCX5wkEjQU4hRGk9_D6Z1k9&export=download\n",
      "To: /media/scratch1/erbachj/Mask_RCNN/data/InteriorNet/data/HD7/train/3FO4JFBMB8RB_Living_room.zip\n",
      "67.6MB [00:00, 74.9MB/s]\n"
     ]
    },
    {
     "name": "stdout",
     "output_type": "stream",
     "text": [
      "3FO4JFBMB8RB_Guest_room.zip\n",
      "3FO4JFBMB8RB_Bedroom.zip\n",
      "3FO4JFB4NLWL_Guest_room.zip\n",
      "3FO4JFB4NLWL_Bedroom.zip\n",
      "3FO4JFAUBS7U_Guest_room.zip\n",
      "3FO4JFAUBS7U_Bedroom.zip\n",
      "3FO4JFATR7R0_Bedroom.zip\n",
      "3FO4JF8WKD7M_Living_room.zip\n"
     ]
    },
    {
     "name": "stderr",
     "output_type": "stream",
     "text": [
      "Downloading...\n",
      "From: https://drive.google.com/uc?id=18GxensHkgUga0vDy5GiE9jdUAePmtA6g&export=download\n",
      "To: /media/scratch1/erbachj/Mask_RCNN/data/InteriorNet/data/HD7/train/3FO4JF8WKD7M_Living_room.zip\n",
      "65.3MB [00:02, 23.3MB/s]\n"
     ]
    },
    {
     "name": "stdout",
     "output_type": "stream",
     "text": [
      "3FO4JF8WKD7M_Bedroom.zip\n",
      "3FO4JF826LEH_Guest_room.zip\n",
      "3FO4JF826LEH_Bedroom.zip\n",
      "3FO4JF7A2R1P_Guest_room.zip\n",
      "3FO4JF7A2R1P_Bedroom.zip\n",
      "3FO4JF7A11U7_Living_room.zip\n"
     ]
    },
    {
     "name": "stderr",
     "output_type": "stream",
     "text": [
      "Downloading...\n",
      "From: https://drive.google.com/uc?id=1r45NVgF4lBPfpv_eSADdUmMbi-GhNWBN&export=download\n",
      "To: /media/scratch1/erbachj/Mask_RCNN/data/InteriorNet/data/HD7/train/3FO4JF7A11U7_Living_room.zip\n",
      "64.7MB [00:01, 61.8MB/s]\n"
     ]
    },
    {
     "name": "stdout",
     "output_type": "stream",
     "text": [
      "3FO4JF7A11U7_Bedroom.zip\n",
      "3FO4JF40UWRD_Guest_room.zip\n",
      "3FO4JF40UWRD_Bedroom.zip\n",
      "3FO4JF3S0VC4_Guest_room.zip\n",
      "3FO4JF3S0VC4_Bedroom.zip\n",
      "3FO4JF3QQD6S_Guest_room.zip\n",
      "3FO4JF3QQD6S_Bedroom.zip\n",
      "3FO4JF3DVEH8_Guest_room.zip\n",
      "3FO4JF3DVEH8_Bedroom.zip\n",
      "3FO4JF3DFMRI_Living_room.zip\n"
     ]
    },
    {
     "name": "stderr",
     "output_type": "stream",
     "text": [
      "Downloading...\n",
      "From: https://drive.google.com/uc?id=1OX4iMrfpX967ZLpgcWoU3FWJiKOsUeAC&export=download\n",
      "To: /media/scratch1/erbachj/Mask_RCNN/data/InteriorNet/data/HD7/train/3FO4JF3DFMRI_Living_room.zip\n",
      "65.9MB [00:01, 43.3MB/s]\n"
     ]
    },
    {
     "name": "stdout",
     "output_type": "stream",
     "text": [
      "3FO4JF3DFMRI_Guest_room.zip\n",
      "3FO4JF3CIFXV_Living_room.zip\n"
     ]
    },
    {
     "name": "stderr",
     "output_type": "stream",
     "text": [
      "Downloading...\n",
      "From: https://drive.google.com/uc?id=19pfAmh8K7sfflRaWDZ8mRxTpvTK5fa6J&export=download\n",
      "To: /media/scratch1/erbachj/Mask_RCNN/data/InteriorNet/data/HD7/train/3FO4JF3CIFXV_Living_room.zip\n",
      "52.2MB [00:01, 42.0MB/s]\n"
     ]
    },
    {
     "name": "stdout",
     "output_type": "stream",
     "text": [
      "3FO4JF3CIFXV_Dining_room.zip\n",
      "3FO4JF3CIFXV_Bedroom.zip\n",
      "3FO4JF26XFL7_Guest_room.zip\n",
      "3FO4JF26XFL7_Bedroom.zip\n",
      "3FO4JF1Y6CST_Guest_room.zip\n",
      "3FO4JF1Y6CST_Bedroom.zip\n",
      "3FO4JF1BHDJD_Living_room.zip\n"
     ]
    },
    {
     "name": "stderr",
     "output_type": "stream",
     "text": [
      "Downloading...\n",
      "From: https://drive.google.com/uc?id=1eu8hsxb07oOF7FLjUW9QkY4c_GbrwDfJ&export=download\n",
      "To: /media/scratch1/erbachj/Mask_RCNN/data/InteriorNet/data/HD7/train/3FO4JF1BHDJD_Living_room.zip\n",
      "69.9MB [00:03, 22.3MB/s]\n"
     ]
    },
    {
     "name": "stdout",
     "output_type": "stream",
     "text": [
      "3FO4JF1BHDJD_Guest_room.zip\n",
      "3FO4JF1BHDJD_Bedroom.zip\n",
      "3FO4JF12JVDW_Living_room.zip\n"
     ]
    },
    {
     "name": "stderr",
     "output_type": "stream",
     "text": [
      "Downloading...\n",
      "From: https://drive.google.com/uc?id=1obj5gYZgiMz9PD6m_IS3p2WBZvZSmfvo&export=download\n",
      "To: /media/scratch1/erbachj/Mask_RCNN/data/InteriorNet/data/HD7/train/3FO4JF12JVDW_Living_room.zip\n",
      "55.1MB [00:02, 25.7MB/s]\n"
     ]
    },
    {
     "name": "stdout",
     "output_type": "stream",
     "text": [
      "3FO4JF12JVDW_Guest_room.zip\n",
      "3FO4JF12JVDW_Dining_room.zip\n"
     ]
    },
    {
     "name": "stderr",
     "output_type": "stream",
     "text": [
      "Downloading...\n",
      "From: https://drive.google.com/uc?id=15w9UENYSFloaiox1NM7dq9oTC_2foYB7&export=download\n",
      "To: /media/scratch1/erbachj/Mask_RCNN/data/InteriorNet/data/HD7/train/3FO4JF12JVDW_Dining_room.zip\n",
      "49.4MB [00:00, 93.8MB/s]\n"
     ]
    },
    {
     "name": "stdout",
     "output_type": "stream",
     "text": [
      "3FO4JF0UN07K_Guest_room.zip\n",
      "3FO4JETQHM9W_Dining_room.zip\n"
     ]
    },
    {
     "name": "stderr",
     "output_type": "stream",
     "text": [
      "Downloading...\n",
      "From: https://drive.google.com/uc?id=1u7adiF2PyKZZeJnSLV6a6VkqJ8bjNxte&export=download\n",
      "To: /media/scratch1/erbachj/Mask_RCNN/data/InteriorNet/data/HD7/train/3FO4JETQHM9W_Dining_room.zip\n",
      "68.9MB [00:02, 29.4MB/s]\n"
     ]
    },
    {
     "name": "stdout",
     "output_type": "stream",
     "text": [
      "3FO4JEPBYA8F_Bedroom.zip\n",
      "3FO4JEKDBCDO_Guest_room.zip\n",
      "3FO4JEE5R4WH_Guest_room.zip\n",
      "3FO4JECTXENU_Bedroom.zip\n",
      "3FO4JE79DC4O_Living_room.zip\n"
     ]
    },
    {
     "name": "stderr",
     "output_type": "stream",
     "text": [
      "Downloading...\n",
      "From: https://drive.google.com/uc?id=1AavzHVearBXwSlbsfveWuw5aQzYIWGjO&export=download\n",
      "To: /media/scratch1/erbachj/Mask_RCNN/data/InteriorNet/data/HD7/train/3FO4JE79DC4O_Living_room.zip\n",
      "64.8MB [00:01, 36.1MB/s]\n"
     ]
    },
    {
     "name": "stdout",
     "output_type": "stream",
     "text": [
      "3FO4JE56TMCF_Guest_room.zip\n",
      "3FO4JE23104D_Bedroom.zip\n",
      "3FO4JDW0LVEE_Bedroom.zip\n",
      "3FO4JDUF9NE1_Guest_room.zip\n",
      "3FO4JDT7VHUG_Guest_room.zip\n",
      "3FO4JDM4Q64W_Bedroom.zip\n",
      "3FO4JDG94C6J_Guest_room.zip\n",
      "3FO4JF0T6S09_Guest_room.zip\n",
      "3FO4JF0T6S09_Bedroom.zip\n",
      "3FO4JF0DO2KX_Living_room.zip\n"
     ]
    },
    {
     "name": "stderr",
     "output_type": "stream",
     "text": [
      "Downloading...\n",
      "From: https://drive.google.com/uc?id=1QGemhtiYvX2SQqmdEXoHj79ZNc5-O9HD&export=download\n",
      "To: /media/scratch1/erbachj/Mask_RCNN/data/InteriorNet/data/HD7/train/3FO4JF0DO2KX_Living_room.zip\n",
      "72.2MB [00:01, 62.0MB/s]\n"
     ]
    },
    {
     "name": "stdout",
     "output_type": "stream",
     "text": [
      "3FO4JF0DO2KX_Bedroom.zip\n",
      "3FO4JF09T6BL_Living_room.zip\n"
     ]
    },
    {
     "name": "stderr",
     "output_type": "stream",
     "text": [
      "Downloading...\n",
      "From: https://drive.google.com/uc?id=12zKgUXPPFr6DTp9WK_Ie8Val27-OaC1K&export=download\n",
      "To: /media/scratch1/erbachj/Mask_RCNN/data/InteriorNet/data/HD7/train/3FO4JF09T6BL_Living_room.zip\n",
      "53.6MB [00:01, 34.0MB/s]\n"
     ]
    },
    {
     "name": "stdout",
     "output_type": "stream",
     "text": [
      "3FO4JF09T6BL_Bedroom.zip\n",
      "3FO4JF09FVJM_Guest_room.zip\n",
      "3FO4JF09FVJM_Bedroom.zip\n",
      "3FO4JEYDA6TF_Guest_room.zip\n",
      "3FO4JEYDA6TF_Bedroom.zip\n",
      "3FO4JEY9HRHT_Guest_room.zip\n",
      "3FO4JEY9HRHT_Bedroom.zip\n",
      "3FO4JEY7IF03_Guest_room.zip\n",
      "3FO4JEY7IF03_Bedroom.zip\n",
      "3FO4JEXDLC4E_Bedroom.zip\n",
      "3FO4JEWXVOQH_Bedroom.zip\n",
      "3FO4JEWQWSCJ_Guest_room.zip\n",
      "3FO4JEWQWSCJ_Bedroom.zip\n",
      "3FO4JEWD9XAM_Guest_room.zip\n",
      "3FO4JEWD9XAM_Bedroom.zip\n",
      "3FO4JEVU25WV_Guest_room.zip\n",
      "3FO4JEVU25WV_Bedroom.zip\n",
      "3FO4JEV7V8LT_Living_room.zip\n"
     ]
    },
    {
     "name": "stderr",
     "output_type": "stream",
     "text": [
      "Downloading...\n",
      "From: https://drive.google.com/uc?id=1zdOJnLgVLPfNtsVxFa8iT4N1uSkAv2ay&export=download\n",
      "To: /media/scratch1/erbachj/Mask_RCNN/data/InteriorNet/data/HD7/train/3FO4JEV7V8LT_Living_room.zip\n",
      "69.2MB [00:01, 57.1MB/s]\n"
     ]
    },
    {
     "name": "stdout",
     "output_type": "stream",
     "text": [
      "3FO4JEV7V8LT_Guest_room.zip\n",
      "3FO4JEV7V8LT_Bedroom.zip\n",
      "3FO4JEUT46FN_Bedroom.zip\n",
      "3FO4JETW70IJ_Guest_room.zip\n",
      "3FO4JETW70IJ_Bedroom.zip\n",
      "3FO4JETQFPEC_Guest_room.zip\n",
      "3FO4JETQFPEC_Bedroom.zip\n",
      "3FO4JETE7T3D_Bedroom.zip\n",
      "3FO4JET56YVW_Guest_room.zip\n",
      "3FO4JET56YVW_Bedroom.zip\n",
      "3FO4JESL4YDF_Guest_room.zip\n",
      "3FO4JESL4YDF_Bedroom.zip\n",
      "3FO4JESAFAHD_Guest_room.zip\n",
      "3FO4JESAFAHD_Bedroom.zip\n",
      "3FO4JES0B25F_Guest_room.zip\n",
      "3FO4JES0B25F_Bedroom.zip\n",
      "3FO4JEPS4QFJ_Guest_room.zip\n",
      "3FO4JEPS4QFJ_Bedroom.zip\n",
      "3FO4JEPBYA8F_Guest_room.zip\n",
      "3FO4JEOIPLJQ_Guest_room.zip\n",
      "3FO4JEOIPLJQ_Bedroom.zip\n",
      "3FO4JEMRMK5B_Bedroom.zip\n",
      "3FO4JEMQ7EPB_Guest_room.zip\n",
      "3FO4JEMQ7EPB_Bedroom.zip\n",
      "3FO4JELUYK7X_Guest_room.zip\n",
      "3FO4JELUYK7X_Bedroom.zip\n",
      "3FO4JELN4PGQ_Guest_room.zip\n",
      "3FO4JELN4PGQ_Bedroom.zip\n",
      "3FO4JELKQS5X_Bedroom.zip\n",
      "3FO4JELAUE0C_Bedroom.zip\n",
      "3FO4JEKQNHXE_Guest_room.zip\n",
      "3FO4JEKQNHXE_Bedroom.zip\n",
      "3FO4JEKDBCDO_Living_room.zip\n"
     ]
    },
    {
     "name": "stderr",
     "output_type": "stream",
     "text": [
      "Downloading...\n",
      "From: https://drive.google.com/uc?id=1huO9Y1l4A5gwgNM6Dbor8shg-qLFdV81&export=download\n",
      "To: /media/scratch1/erbachj/Mask_RCNN/data/InteriorNet/data/HD7/train/3FO4JEKDBCDO_Living_room.zip\n",
      "63.5MB [00:01, 54.0MB/s]\n"
     ]
    },
    {
     "name": "stdout",
     "output_type": "stream",
     "text": [
      "3FO4JEKDBCDO_Bedroom.zip\n",
      "3FO4JEK6GX53_Guest_room.zip\n",
      "3FO4JEK6GX53_Bedroom.zip\n",
      "3FO4JEK2M8JS_Guest_room.zip\n",
      "3FO4JEK2M8JS_Bedroom.zip\n",
      "3FO4JEJN1IA2_Bedroom.zip\n",
      "3FO4JEJ923MO_Bedroom.zip\n",
      "3FO4JEIMOMQ5_Living_room.zip\n"
     ]
    },
    {
     "name": "stderr",
     "output_type": "stream",
     "text": [
      "Downloading...\n",
      "From: https://drive.google.com/uc?id=1HInKYStG0EPmCqFktEN2iO7gifJ8U6_h&export=download\n",
      "To: /media/scratch1/erbachj/Mask_RCNN/data/InteriorNet/data/HD7/train/3FO4JEIMOMQ5_Living_room.zip\n",
      "72.3MB [00:00, 89.3MB/s]\n"
     ]
    },
    {
     "name": "stdout",
     "output_type": "stream",
     "text": [
      "3FO4JEIMOMQ5_Bedroom.zip\n",
      "3FO4JEFUEPUT_Living_room.zip\n"
     ]
    },
    {
     "name": "stderr",
     "output_type": "stream",
     "text": [
      "Downloading...\n",
      "From: https://drive.google.com/uc?id=1XHs1ub0kQAVtQ-f6yGi_ykLkVRJdmwzL&export=download\n",
      "To: /media/scratch1/erbachj/Mask_RCNN/data/InteriorNet/data/HD7/train/3FO4JEFUEPUT_Living_room.zip\n",
      "56.6MB [00:00, 77.3MB/s]\n"
     ]
    },
    {
     "name": "stdout",
     "output_type": "stream",
     "text": [
      "3FO4JEFUEPUT_Guest_room.zip\n",
      "3FO4JEFUEPUT_Bedroom.zip\n",
      "3FO4JEEDITBQ_Guest_room.zip\n",
      "3FO4JEEDITBQ_Bedroom.zip\n",
      "3FO4JEE5R4WH_Bedroom.zip\n",
      "3FO4JEDXXHF4_Guest_room.zip\n",
      "3FO4JEDXXHF4_Bedroom.zip\n",
      "3FO4JEDQHO74_Guest_room.zip\n",
      "3FO4JEDQHO74_Bedroom.zip\n",
      "3FO4JEDLL3XS_Guest_room.zip\n",
      "3FO4JEDLL3XS_Bedroom.zip\n",
      "3FO4JEDEKUQG_Bedroom.zip\n",
      "3FO4JED127SS_Guest_room.zip\n",
      "3FO4JED127SS_Bedroom.zip\n",
      "3FO4JECY26VU_Guest_room.zip\n",
      "3FO4JECY26VU_Bedroom.zip\n",
      "3FO4JECVGSRT_Bedroom.zip\n",
      "3FO4JECTXENU_Guest_room.zip\n",
      "3FO4JECT382T_Guest_room.zip\n",
      "3FO4JECT382T_Bedroom.zip\n",
      "3FO4JECR5HEK_Bedroom.zip\n",
      "3FO4JECMQY4N_Guest_room.zip\n",
      "3FO4JECMQY4N_Bedroom.zip\n",
      "3FO4JECB1X31_Living_room.zip\n"
     ]
    },
    {
     "name": "stderr",
     "output_type": "stream",
     "text": [
      "Downloading...\n",
      "From: https://drive.google.com/uc?id=1vT6qMtCvf6vRI6ODHuHu4w0g1NiZPMte&export=download\n",
      "To: /media/scratch1/erbachj/Mask_RCNN/data/InteriorNet/data/HD7/train/3FO4JECB1X31_Living_room.zip\n",
      "66.8MB [00:02, 22.9MB/s]\n"
     ]
    },
    {
     "name": "stdout",
     "output_type": "stream",
     "text": [
      "3FO4JECB1X31_Guest_room.zip\n",
      "3FO4JECB1X31_Dining_room.zip\n"
     ]
    },
    {
     "name": "stderr",
     "output_type": "stream",
     "text": [
      "Downloading...\n",
      "From: https://drive.google.com/uc?id=1_8cnQA9FDzCP7070Ifo3jekMOUOvzSJa&export=download\n",
      "To: /media/scratch1/erbachj/Mask_RCNN/data/InteriorNet/data/HD7/train/3FO4JECB1X31_Dining_room.zip\n",
      "53.4MB [00:02, 20.2MB/s]\n"
     ]
    },
    {
     "name": "stdout",
     "output_type": "stream",
     "text": [
      "3FO4JECB1X31_Bedroom.zip\n",
      "3FO4JEB0B6HA_Guest_room.zip\n",
      "3FO4JEB0B6HA_Bedroom.zip\n",
      "3FO4JE9B9EG6_Guest_room.zip\n",
      "3FO4JE9B9EG6_Bedroom.zip\n",
      "3FO4JE97AB2K_Bedroom.zip\n",
      "3FO4JE79DC4O_Guest_room.zip\n",
      "3FO4JE79DC4O_Bedroom.zip\n",
      "3FO4JE78XFI8_Bedroom.zip\n",
      "3FO4JE5WK4SQ_Guest_room.zip\n",
      "3FO4JE5WK4SQ_Bedroom.zip\n",
      "3FO4JE5SYEJ5_Guest_room.zip\n",
      "3FO4JE5SYEJ5_Bedroom.zip\n",
      "3FO4JE5IXS9A_Guest_room.zip\n",
      "3FO4JE5IXS9A_Bedroom.zip\n",
      "3FO4JE5EQAM6_Living_room.zip\n"
     ]
    },
    {
     "name": "stderr",
     "output_type": "stream",
     "text": [
      "Downloading...\n",
      "From: https://drive.google.com/uc?id=1fweVvCfteOhn5CNJdYc_oZS8QgV_lhz6&export=download\n",
      "To: /media/scratch1/erbachj/Mask_RCNN/data/InteriorNet/data/HD7/train/3FO4JE5EQAM6_Living_room.zip\n",
      "58.9MB [00:04, 13.4MB/s]\n"
     ]
    },
    {
     "name": "stdout",
     "output_type": "stream",
     "text": [
      "3FO4JE5EQAM6_Bedroom.zip\n",
      "3FO4JE5D7ES2_Guest_room.zip\n",
      "3FO4JE5D7ES2_Bedroom.zip\n",
      "3FO4JE56TMCF_Living_room.zip\n"
     ]
    },
    {
     "name": "stderr",
     "output_type": "stream",
     "text": [
      "Downloading...\n",
      "From: https://drive.google.com/uc?id=1pJnSIzP0q1bSLtsS10OmXSy7TKPWsAXW&export=download\n",
      "To: /media/scratch1/erbachj/Mask_RCNN/data/InteriorNet/data/HD7/train/3FO4JE56TMCF_Living_room.zip\n",
      "56.2MB [00:00, 73.1MB/s]\n"
     ]
    },
    {
     "name": "stdout",
     "output_type": "stream",
     "text": [
      "3FO4JE56TMCF_Bedroom.zip\n",
      "3FO4JE4VD60T_Bedroom.zip\n",
      "3FO4JE4P9TL1_Guest_room.zip\n",
      "3FO4JE4P9TL1_Bedroom.zip\n",
      "3FO4JE4FEXWV_Guest_room.zip\n",
      "3FO4JE4FEXWV_Bedroom.zip\n",
      "3FO4JE441UTT_Guest_room.zip\n",
      "3FO4JE441UTT_Bedroom.zip\n",
      "3FO4JE3QQKX5_Guest_room.zip\n",
      "3FO4JE3QQKX5_Bedroom.zip\n",
      "3FO4JE336NBF_Bedroom.zip\n",
      "3FO4JE2NH4AJ_Guest_room.zip\n",
      "3FO4JE2NH4AJ_Bedroom.zip\n",
      "3FO4JE245CP5_Bedroom.zip\n",
      "3FO4JE19I5FX_Guest_room.zip\n",
      "3FO4JE19I5FX_Bedroom.zip\n",
      "3FO4JE0P1LO4_Bedroom.zip\n",
      "3FO4JE0524AW_Guest_room.zip\n",
      "3FO4JE0524AW_Bedroom.zip\n",
      "3FO4JDY19ANT_Guest_room.zip\n",
      "3FO4JDY19ANT_Bedroom.zip\n",
      "3FO4JDXT2GQI_Living_room.zip\n"
     ]
    },
    {
     "name": "stderr",
     "output_type": "stream",
     "text": [
      "Downloading...\n",
      "From: https://drive.google.com/uc?id=18CtDmDPQEy_1UV084O1DZNfrbVD53geF&export=download\n",
      "To: /media/scratch1/erbachj/Mask_RCNN/data/InteriorNet/data/HD7/train/3FO4JDXT2GQI_Living_room.zip\n",
      "51.8MB [00:04, 12.8MB/s]\n"
     ]
    },
    {
     "name": "stdout",
     "output_type": "stream",
     "text": [
      "3FO4JDXT2GQI_Guest_room.zip\n",
      "3FO4JDXT2GQI_Bedroom.zip\n",
      "3FO4JDXO74YK_Bedroom.zip\n",
      "3FO4JDX87B25_Guest_room.zip\n",
      "3FO4JDX87B25_Bedroom.zip\n",
      "3FO4JDW0LVEE_Guest_room.zip\n",
      "3FO4JDVLDHGC_Bedroom.zip\n",
      "3FO4JDVL73FF_Guest_room.zip\n",
      "3FO4JDVL73FF_Bedroom.zip\n",
      "3FO4JDVK5YIM_Guest_room.zip\n",
      "3FO4JDVK5YIM_Bedroom.zip\n",
      "3FO4JDVG1M8G_Bedroom.zip\n",
      "3FO4JDUXHCEQ_Guest_room.zip\n",
      "3FO4JDUXHCEQ_Bedroom.zip\n",
      "3FO4JDUUNGP6_Bedroom.zip\n",
      "3FO4JDUR3BHQ_Bedroom.zip\n",
      "3FO4JDUIPVIA_Guest_room.zip\n",
      "3FO4JDUIPVIA_Bedroom.zip\n",
      "3FO4JDUIN17F_Guest_room.zip\n",
      "3FO4JDUIN17F_Bedroom.zip\n",
      "3FO4JDUF9NE1_Bedroom.zip\n",
      "3FO4JDUCLSC9_Guest_room.zip\n",
      "3FO4JDUCLSC9_Dining_room.zip\n"
     ]
    },
    {
     "name": "stderr",
     "output_type": "stream",
     "text": [
      "Downloading...\n",
      "From: https://drive.google.com/uc?id=1tZCiwvvQnOEplJtN1Kd6VSbIMaDpAEpz&export=download\n",
      "To: /media/scratch1/erbachj/Mask_RCNN/data/InteriorNet/data/HD7/train/3FO4JDUCLSC9_Dining_room.zip\n",
      "74.7MB [00:01, 67.3MB/s]\n"
     ]
    },
    {
     "name": "stdout",
     "output_type": "stream",
     "text": [
      "3FO4JDUCLSC9_Bedroom.zip\n",
      "3FO4JDU58UF4_Guest_room.zip\n",
      "3FO4JDU58UF4_Bedroom.zip\n",
      "3FO4JDU47344_Guest_room.zip\n",
      "3FO4JDU47344_Bedroom.zip\n",
      "3FO4JDU3I3TX_Guest_room.zip\n",
      "3FO4JDU3I3TX_Bedroom.zip\n",
      "3FO4JDTTI83R_Guest_room.zip\n",
      "3FO4JDTTI83R_Bedroom.zip\n",
      "3FO4JDTBW1EH_Living_room.zip\n"
     ]
    },
    {
     "name": "stderr",
     "output_type": "stream",
     "text": [
      "Downloading...\n",
      "From: https://drive.google.com/uc?id=1eCX2ubRu2TYCxDbPNW-i8CG-VU0_nMHV&export=download\n",
      "To: /media/scratch1/erbachj/Mask_RCNN/data/InteriorNet/data/HD7/train/3FO4JDTBW1EH_Living_room.zip\n",
      "66.9MB [00:00, 76.3MB/s]\n"
     ]
    },
    {
     "name": "stdout",
     "output_type": "stream",
     "text": [
      "3FO4JDTBW1EH_Bedroom.zip\n",
      "3FO4JDT7VHUG_Bedroom.zip\n",
      "3FO4JDSMMG4E_Guest_room.zip\n",
      "3FO4JDSMMG4E_Bedroom.zip\n",
      "3FO4JDR5DX7J_Bedroom.zip\n",
      "3FO4JDQ8N9ND_Bedroom.zip\n",
      "3FO4JDPTEHC7_Guest_room.zip\n",
      "3FO4JDPTEHC7_Bedroom.zip\n",
      "3FO4JDPB3JMI_Guest_room.zip\n",
      "3FO4JDPB3JMI_Bedroom.zip\n",
      "3FO4JDONATXX_Guest_room.zip\n",
      "3FO4JDONATXX_Bedroom.zip\n",
      "3FO4JDOL76YW_Bedroom.zip\n",
      "3FO4JDM7YU3W_Bedroom.zip\n",
      "3FO4JDM4Q64W_Guest_room.zip\n",
      "3FO4JDLCGRTH_Bedroom.zip\n",
      "3FO4JDJRC3YD_Bedroom.zip\n",
      "3FO4JDJQTPF6_Guest_room.zip\n",
      "3FO4JDJQTPF6_Bedroom.zip\n",
      "3FO4JDJ0JWJ3_Guest_room.zip\n",
      "3FO4JDJ0JWJ3_Bedroom.zip\n",
      "3FO4JDIP8IF0_Guest_room.zip\n",
      "3FO4JDIP8IF0_Bedroom.zip\n",
      "3FO4JDI1QCR4_Guest_room.zip\n",
      "3FO4JDI1QCR4_Bedroom.zip\n",
      "3FO4JDHCKRW8_Guest_room.zip\n",
      "3FO4JDHCKRW8_Bedroom.zip\n",
      "3FO4JDGE9VPJ_Guest_room.zip\n",
      "3FO4JDGE9VPJ_Bedroom.zip\n",
      "3FO4JD9S30VH_Guest_room.zip\n",
      "3FO4JD6KSIWA_Bedroom.zip\n",
      "3FO4JD3XK9HS_Bedroom.zip\n",
      "3FO4JD3LG08W_Bedroom.zip\n",
      "3FO4JCX6TNM6_Bedroom.zip\n",
      "3FO4JCT1WHY8_Bedroom.zip\n",
      "3FO4JCOV1PC8_Guest_room.zip\n",
      "3FO4JCHWG48G_Bedroom.zip\n",
      "3FO4JCERSIUQ_Bedroom.zip\n",
      "3FO4JCCL0RXW_Bedroom.zip\n",
      "3FO4JC9FVRHA_Bedroom.zip\n",
      "3FO4JC6466XE_Bedroom.zip\n",
      "3FO4JC50N7P9_Bedroom.zip\n",
      "3FO4JDG94C6J_Bedroom.zip\n",
      "3FO4JDFHL1OW_Bedroom.zip\n",
      "3FO4JDFB77GY_Living_room.zip\n"
     ]
    },
    {
     "name": "stderr",
     "output_type": "stream",
     "text": [
      "Downloading...\n",
      "From: https://drive.google.com/uc?id=1AfMyupdECFlMWuZbmQzYjJceNEsVNAkk&export=download\n",
      "To: /media/scratch1/erbachj/Mask_RCNN/data/InteriorNet/data/HD7/train/3FO4JDFB77GY_Living_room.zip\n",
      "58.4MB [00:01, 30.0MB/s]\n"
     ]
    },
    {
     "name": "stdout",
     "output_type": "stream",
     "text": [
      "3FO4JDFB77GY_Guest_room.zip\n",
      "3FO4JDFB77GY_Bedroom.zip\n",
      "3FO4JDF14YCM_Guest_room.zip\n",
      "3FO4JDF14YCM_Bedroom.zip\n",
      "3FO4JDEUJYWB_Guest_room.zip\n",
      "3FO4JDEUJYWB_Bedroom.zip\n",
      "3FO4JDELWM6V_Guest_room.zip\n",
      "3FO4JDELWM6V_Bedroom.zip\n",
      "3FO4JDDTHI9Q_Guest_room.zip\n",
      "3FO4JDDTHI9Q_Bedroom.zip\n",
      "3FO4JDDDQGXX_Bedroom.zip\n",
      "3FO4JDCO78XY_Guest_room.zip\n",
      "3FO4JDCO78XY_Bedroom.zip\n",
      "3FO4JDC407FI_Living_room.zip\n"
     ]
    },
    {
     "name": "stderr",
     "output_type": "stream",
     "text": [
      "Downloading...\n",
      "From: https://drive.google.com/uc?id=1FHkiik64aFRvCcyzQ2hUO4fWyiyhVOhv&export=download\n",
      "To: /media/scratch1/erbachj/Mask_RCNN/data/InteriorNet/data/HD7/train/3FO4JDC407FI_Living_room.zip\n",
      "61.4MB [00:01, 31.5MB/s]\n"
     ]
    },
    {
     "name": "stdout",
     "output_type": "stream",
     "text": [
      "3FO4JDBU7O5J_Guest_room.zip\n",
      "3FO4JDBU7O5J_Bedroom.zip\n",
      "3FO4JDBAGOCV_Living_room.zip\n"
     ]
    },
    {
     "name": "stderr",
     "output_type": "stream",
     "text": [
      "Downloading...\n",
      "From: https://drive.google.com/uc?id=1THpCeTTbV4MCldEwXgli-DTJz9M_8Ft1&export=download\n",
      "To: /media/scratch1/erbachj/Mask_RCNN/data/InteriorNet/data/HD7/train/3FO4JDBAGOCV_Living_room.zip\n",
      "71.0MB [00:03, 20.2MB/s]\n"
     ]
    },
    {
     "name": "stdout",
     "output_type": "stream",
     "text": [
      "3FO4JDBAGOCV_Guest_room.zip\n",
      "3FO4JDBAGOCV_Bedroom.zip\n",
      "3FO4JDB4BWRN_Dining_room.zip\n"
     ]
    },
    {
     "name": "stderr",
     "output_type": "stream",
     "text": [
      "Downloading...\n",
      "From: https://drive.google.com/uc?id=1mXtlK2oIrde7u2STC1TEGdcuExVoRGaz&export=download\n",
      "To: /media/scratch1/erbachj/Mask_RCNN/data/InteriorNet/data/HD7/train/3FO4JDB4BWRN_Dining_room.zip\n",
      "65.7MB [00:01, 49.4MB/s]\n"
     ]
    },
    {
     "name": "stdout",
     "output_type": "stream",
     "text": [
      "3FO4JDAEEBNO_Living_room.zip\n"
     ]
    },
    {
     "name": "stderr",
     "output_type": "stream",
     "text": [
      "Downloading...\n",
      "From: https://drive.google.com/uc?id=1W4H79WdC7XI0fwvADe89KWQp9SU_cH9k&export=download\n",
      "To: /media/scratch1/erbachj/Mask_RCNN/data/InteriorNet/data/HD7/train/3FO4JDAEEBNO_Living_room.zip\n",
      "56.8MB [00:00, 80.8MB/s]\n"
     ]
    },
    {
     "name": "stdout",
     "output_type": "stream",
     "text": [
      "3FO4JDAEEBNO_Guest_room.zip\n",
      "3FO4JDAEEBNO_Bedroom.zip\n",
      "3FO4JD9VULW5_Guest_room.zip\n",
      "3FO4JD9VULW5_Bedroom.zip\n",
      "3FO4JD9S30VH_Bedroom.zip\n",
      "3FO4JD9GS9TF_Guest_room.zip\n",
      "3FO4JD9GS9TF_Bedroom.zip\n",
      "3FO4JD8X171W_Guest_room.zip\n",
      "3FO4JD8X171W_Bedroom.zip\n",
      "3FO4JD7UUOLY_Guest_room.zip\n",
      "3FO4JD7UUOLY_Bedroom.zip\n",
      "3FO4JD7L05JM_Guest_room.zip\n",
      "3FO4JD7L05JM_Bedroom.zip\n",
      "3FO4JD7F17X5_Bedroom.zip\n",
      "3FO4JD6SA3VI_Guest_room.zip\n",
      "3FO4JD6SA3VI_Bedroom.zip\n",
      "3FO4JD6P7SXF_Guest_room.zip\n",
      "3FO4JD6P7SXF_Bedroom.zip\n",
      "3FO4JD6KCKII_Guest_room.zip\n",
      "3FO4JD6KCKII_Bedroom.zip\n",
      "3FO4JD6G9DCO_Guest_room.zip\n",
      "3FO4JD6G9DCO_Bedroom.zip\n",
      "3FO4JD5WDXJ6_Bedroom.zip\n",
      "3FO4JD5RL720_Bedroom.zip\n",
      "3FO4JD5JMLVO_Bedroom.zip\n",
      "3FO4JD4PLIKS_Bedroom.zip\n",
      "3FO4JD4KKTK9_Living_room.zip\n"
     ]
    },
    {
     "name": "stderr",
     "output_type": "stream",
     "text": [
      "Downloading...\n",
      "From: https://drive.google.com/uc?id=1X-cwq682XOuXNy50XMqVhTgIeC43L4mp&export=download\n",
      "To: /media/scratch1/erbachj/Mask_RCNN/data/InteriorNet/data/HD7/train/3FO4JD4KKTK9_Living_room.zip\n",
      "58.1MB [00:02, 26.7MB/s]\n"
     ]
    },
    {
     "name": "stdout",
     "output_type": "stream",
     "text": [
      "3FO4JD4KKTK9_Guest_room.zip\n",
      "3FO4JD4KKTK9_Bedroom.zip\n",
      "3FO4JD4H59U7_Guest_room.zip\n",
      "3FO4JD4H59U7_Bedroom.zip\n",
      "3FO4JD3XK9HS_Living_room.zip\n"
     ]
    },
    {
     "name": "stderr",
     "output_type": "stream",
     "text": [
      "Downloading...\n",
      "From: https://drive.google.com/uc?id=1rkwJLT1OXjl9nW9zMHGTpcl5Ew7LS3WM&export=download\n",
      "To: /media/scratch1/erbachj/Mask_RCNN/data/InteriorNet/data/HD7/train/3FO4JD3XK9HS_Living_room.zip\n",
      "56.3MB [00:02, 26.7MB/s]\n"
     ]
    },
    {
     "name": "stdout",
     "output_type": "stream",
     "text": [
      "3FO4JD3WWW34_Living_room.zip\n"
     ]
    },
    {
     "name": "stderr",
     "output_type": "stream",
     "text": [
      "Downloading...\n",
      "From: https://drive.google.com/uc?id=1U3_wahYoV57k12U5RjUxF7qXugCKyPol&export=download\n",
      "To: /media/scratch1/erbachj/Mask_RCNN/data/InteriorNet/data/HD7/train/3FO4JD3WWW34_Living_room.zip\n",
      "61.7MB [00:02, 21.5MB/s]\n"
     ]
    },
    {
     "name": "stdout",
     "output_type": "stream",
     "text": [
      "3FO4JD3WWW34_Guest_room.zip\n",
      "3FO4JD3WWW34_Dining_room.zip\n"
     ]
    },
    {
     "name": "stderr",
     "output_type": "stream",
     "text": [
      "Downloading...\n",
      "From: https://drive.google.com/uc?id=1P9b0eHQSEM4mDUMPCIOEepveg_Gqlz8v&export=download\n",
      "To: /media/scratch1/erbachj/Mask_RCNN/data/InteriorNet/data/HD7/train/3FO4JD3WWW34_Dining_room.zip\n",
      "54.2MB [00:01, 43.6MB/s]\n"
     ]
    },
    {
     "name": "stdout",
     "output_type": "stream",
     "text": [
      "3FO4JD3WWW34_Bedroom.zip\n",
      "3FO4JD3SEVMU_Guest_room.zip\n",
      "3FO4JD3SEVMU_Bedroom.zip\n",
      "3FO4JD3SCVF9_Guest_room.zip\n",
      "3FO4JD3SCVF9_Bedroom.zip\n",
      "3FO4JD3QYTJV_Bedroom.zip\n",
      "3FO4JD3PY0O6_Guest_room.zip\n",
      "3FO4JD3PY0O6_Bedroom.zip\n",
      "3FO4JD3ND2HY_Guest_room.zip\n",
      "3FO4JD3ND2HY_Bedroom.zip\n",
      "3FO4JD3LG08W_Guest_room.zip\n",
      "3FO4JD3II445_Guest_room.zip\n",
      "3FO4JD3II445_Bedroom.zip\n",
      "3FO4JD2G2783_Living_room.zip\n"
     ]
    },
    {
     "name": "stderr",
     "output_type": "stream",
     "text": [
      "Downloading...\n",
      "From: https://drive.google.com/uc?id=1tGegC9QGcc1626HozqoZEPVMs58rzhwv&export=download\n",
      "To: /media/scratch1/erbachj/Mask_RCNN/data/InteriorNet/data/HD7/train/3FO4JD2G2783_Living_room.zip\n",
      "66.4MB [00:01, 60.8MB/s]\n"
     ]
    },
    {
     "name": "stdout",
     "output_type": "stream",
     "text": [
      "3FO4JD2G2783_Guest_room.zip\n",
      "3FO4JD2G2783_Bedroom.zip\n",
      "3FO4JD2D7QGC_Guest_room.zip\n",
      "3FO4JD2D7QGC_Bedroom.zip\n",
      "3FO4JD1YNIGI_Guest_room.zip\n",
      "3FO4JD1YNIGI_Bedroom.zip\n",
      "3FO4JD09YY2V_Guest_room.zip\n",
      "3FO4JD09YY2V_Bedroom.zip\n",
      "3FO4JCXFF4H1_Guest_room.zip\n",
      "3FO4JCXFF4H1_Bedroom.zip\n",
      "3FO4JCX6TNM6_Guest_room.zip\n",
      "3FO4JCWE9HHI_Guest_room.zip\n",
      "3FO4JCWE9HHI_Bedroom.zip\n",
      "3FO4JCW5L6BS_Guest_room.zip\n",
      "3FO4JCW5L6BS_Bedroom.zip\n",
      "3FO4JCVVNY7F_Guest_room.zip\n",
      "3FO4JCVVNY7F_Bedroom.zip\n",
      "3FO4JCVUQO1R_Bedroom.zip\n",
      "3FO4JCVNAY5S_Bedroom.zip\n",
      "3FO4JCU8R1H8_Guest_room.zip\n",
      "3FO4JCU8NHR6_Bedroom.zip\n",
      "3FO4JCTCBRE6_Guest_room.zip\n",
      "3FO4JCTCBRE6_Bedroom.zip\n",
      "3FO4JCT6GK6S_Bedroom.zip\n",
      "3FO4JCT1WHY8_Guest_room.zip\n",
      "3FO4JCS76UC0_Guest_room.zip\n",
      "3FO4JCS76UC0_Bedroom.zip\n",
      "3FO4JCQT9R5F_Bedroom.zip\n",
      "3FO4JCPJY2MN_Guest_room.zip\n",
      "3FO4JCPJY2MN_Bedroom.zip\n",
      "3FO4JCPH21L5_Guest_room.zip\n",
      "3FO4JCPH21L5_Bedroom.zip\n",
      "3FO4JCPEH1U8_Guest_room.zip\n",
      "3FO4JCPEH1U8_Bedroom.zip\n",
      "3FO4JCPE1K6L_Guest_room.zip\n",
      "3FO4JCPE1K6L_Bedroom.zip\n",
      "3FO4JCPDRKUW_Living_room.zip\n"
     ]
    },
    {
     "name": "stderr",
     "output_type": "stream",
     "text": [
      "Downloading...\n",
      "From: https://drive.google.com/uc?id=1_UwL9HUL-cqRrqddW1PzD8BRlArTwkb3&export=download\n",
      "To: /media/scratch1/erbachj/Mask_RCNN/data/InteriorNet/data/HD7/train/3FO4JCPDRKUW_Living_room.zip\n",
      "59.6MB [00:00, 69.6MB/s]\n"
     ]
    },
    {
     "name": "stdout",
     "output_type": "stream",
     "text": [
      "3FO4JCPDRKUW_Guest_room.zip\n",
      "3FO4JCPDRKUW_Bedroom.zip\n",
      "3FO4JCOV1PC8_Bedroom.zip\n",
      "3FO4JCN5LS3P_Guest_room.zip\n",
      "3FO4JCN5LS3P_Bedroom.zip\n",
      "3FO4JCMWQ399_Guest_room.zip\n",
      "3FO4JCMWQ399_Bedroom.zip\n",
      "3FO4JCKU2LAK_Guest_room.zip\n",
      "3FO4JCKU2LAK_Bedroom.zip\n",
      "3FO4JCKK5SQU_Guest_room.zip\n",
      "3FO4JCJS6N8H_Bedroom.zip\n",
      "3FO4JCJRQQM1_Bedroom.zip\n",
      "3FO4JCJI9DYM_Guest_room.zip\n",
      "3FO4JCJI9DYM_Bedroom.zip\n",
      "3FO4JCIF2UYW_Guest_room.zip\n",
      "3FO4JCIF2UYW_Bedroom.zip\n",
      "3FO4JCGTKAPX_Guest_room.zip\n",
      "3FO4JCGTKAPX_Bedroom.zip\n",
      "3FO4JCGPUA02_Guest_room.zip\n",
      "3FO4JCGPUA02_Bedroom.zip\n",
      "3FO4JCG8NOV5_Living_room.zip\n"
     ]
    },
    {
     "name": "stderr",
     "output_type": "stream",
     "text": [
      "Downloading...\n",
      "From: https://drive.google.com/uc?id=1pdC-eUaD9oWYZy5ONywPBc66eXw3p_0n&export=download\n",
      "To: /media/scratch1/erbachj/Mask_RCNN/data/InteriorNet/data/HD7/train/3FO4JCG8NOV5_Living_room.zip\n",
      "63.3MB [00:02, 26.9MB/s]\n"
     ]
    },
    {
     "name": "stdout",
     "output_type": "stream",
     "text": [
      "3FO4JCG8NOV5_Guest_room.zip\n",
      "3FO4JCG8NOV5_Bedroom.zip\n",
      "3FO4JCFRM948_Bedroom.zip\n",
      "3FO4JCFRLKP1_Bedroom.zip\n",
      "3FO4JCFHGXYY_Guest_room.zip\n",
      "3FO4JCFHGXYY_Bedroom.zip\n",
      "3FO4JCEUO4QT_Bedroom.zip\n",
      "3FO4JCERSIUQ_Living_room.zip\n"
     ]
    },
    {
     "name": "stderr",
     "output_type": "stream",
     "text": [
      "Downloading...\n",
      "From: https://drive.google.com/uc?id=1r3of2zctbDuVX5zcve40AaYB9K8goiQt&export=download\n",
      "To: /media/scratch1/erbachj/Mask_RCNN/data/InteriorNet/data/HD7/train/3FO4JCERSIUQ_Living_room.zip\n",
      "51.2MB [00:01, 50.9MB/s]\n"
     ]
    },
    {
     "name": "stdout",
     "output_type": "stream",
     "text": [
      "3FO4JCERSIUQ_Guest_room.zip\n",
      "3FO4JCEP0OXH_Guest_room.zip\n",
      "3FO4JCEP0OXH_Bedroom.zip\n",
      "3FO4JCEM3DUV_Guest_room.zip\n",
      "3FO4JCEM3DUV_Bedroom.zip\n",
      "3FO4JCEG34G0_Guest_room.zip\n",
      "3FO4JCEG34G0_Bedroom.zip\n",
      "3FO4JCEA9FQ3_Guest_room.zip\n",
      "3FO4JCEA9FQ3_Bedroom.zip\n",
      "3FO4JCDGBRS8_Guest_room.zip\n",
      "3FO4JCDGBRS8_Bedroom.zip\n",
      "3FO4JCD97WIS_Living_room.zip\n"
     ]
    },
    {
     "name": "stderr",
     "output_type": "stream",
     "text": [
      "Downloading...\n",
      "From: https://drive.google.com/uc?id=1qthIluShlCVO10eXiGZrBePeekte14fd&export=download\n",
      "To: /media/scratch1/erbachj/Mask_RCNN/data/InteriorNet/data/HD7/train/3FO4JCD97WIS_Living_room.zip\n",
      "58.7MB [00:01, 39.4MB/s]\n"
     ]
    },
    {
     "name": "stdout",
     "output_type": "stream",
     "text": [
      "3FO4JCD97WIS_Guest_room.zip\n",
      "3FO4JCD97WIS_Bedroom.zip\n",
      "3FO4JCCL0RXW_Guest_room.zip\n",
      "3FO4JCC3PHFV_Guest_room.zip\n",
      "3FO4JCC3PHFV_Bedroom.zip\n",
      "3FO4JCBP0247_Guest_room.zip\n",
      "3FO4JCBP0247_Bedroom.zip\n",
      "3FO4JCBILRXF_Guest_room.zip\n",
      "3FO4JCBILRXF_Bedroom.zip\n",
      "3FO4JCBE7EK9_Guest_room.zip\n",
      "3FO4JCBE7EK9_Bedroom.zip\n",
      "3FO4JCAOVARP_Bedroom.zip\n",
      "3FO4JCA21Y9N_Guest_room.zip\n",
      "3FO4JCA21Y9N_Bedroom.zip\n",
      "3FO4JCA1VM12_Guest_room.zip\n",
      "3FO4JCA1VM12_Bedroom.zip\n",
      "3FO4JC9FVRHA_Guest_room.zip\n",
      "3FO4JC8PQ25V_Living_room.zip\n"
     ]
    },
    {
     "name": "stderr",
     "output_type": "stream",
     "text": [
      "Downloading...\n",
      "From: https://drive.google.com/uc?id=1qs475EQyXQL3ywogWrnLO0mA-LuwPLaG&export=download\n",
      "To: /media/scratch1/erbachj/Mask_RCNN/data/InteriorNet/data/HD7/train/3FO4JC8PQ25V_Living_room.zip\n",
      "69.7MB [00:01, 55.6MB/s]\n"
     ]
    },
    {
     "name": "stdout",
     "output_type": "stream",
     "text": [
      "3FO4JC8PQ25V_Dining_room.zip\n"
     ]
    },
    {
     "name": "stderr",
     "output_type": "stream",
     "text": [
      "Downloading...\n",
      "From: https://drive.google.com/uc?id=1Ii_ymSsnYbnSWnezs5F4nqvX97ngCoMn&export=download\n",
      "To: /media/scratch1/erbachj/Mask_RCNN/data/InteriorNet/data/HD7/train/3FO4JC8PQ25V_Dining_room.zip\n",
      "70.3MB [00:02, 31.8MB/s]\n"
     ]
    },
    {
     "name": "stdout",
     "output_type": "stream",
     "text": [
      "3FO4JC8PQ25V_Bedroom.zip\n",
      "3FO4JC7R060P_Guest_room.zip\n",
      "3FO4JC7R060P_Bedroom.zip\n",
      "3FO4JC7IUXKP_Bedroom.zip\n",
      "3FO4JC7B8GAP_Guest_room.zip\n",
      "3FO4JC7B8GAP_Bedroom.zip\n",
      "3FO4JC7B5V0X_Guest_room.zip\n",
      "3FO4JC7B5V0X_Bedroom.zip\n",
      "3FO4JC72Y3B6_Bedroom.zip\n",
      "3FO4JC72XSA3_Guest_room.zip\n",
      "3FO4JC72XSA3_Bedroom.zip\n",
      "3FO4JC6J1NA2_Bedroom.zip\n",
      "3FO4JC606LTN_Living_room.zip\n"
     ]
    },
    {
     "name": "stderr",
     "output_type": "stream",
     "text": [
      "Downloading...\n",
      "From: https://drive.google.com/uc?id=1uX4FXE1U1JJSRQU7KPOi9Vrec5_BUVoZ&export=download\n",
      "To: /media/scratch1/erbachj/Mask_RCNN/data/InteriorNet/data/HD7/train/3FO4JC606LTN_Living_room.zip\n",
      "63.5MB [00:01, 44.4MB/s]\n"
     ]
    },
    {
     "name": "stdout",
     "output_type": "stream",
     "text": [
      "3FO4JC606LTN_Guest_room.zip\n",
      "3FO4JC606LTN_Bedroom.zip\n",
      "3FO4JC5XNV4V_Guest_room.zip\n",
      "3FO4JC5XNV4V_Bedroom.zip\n",
      "3FO4JC5JM2VS_Living_room.zip\n"
     ]
    },
    {
     "name": "stderr",
     "output_type": "stream",
     "text": [
      "Downloading...\n",
      "From: https://drive.google.com/uc?id=1ny1RjMjt2WQLTKtOn1c03HhC5XoBdoa1&export=download\n",
      "To: /media/scratch1/erbachj/Mask_RCNN/data/InteriorNet/data/HD7/train/3FO4JC5JM2VS_Living_room.zip\n",
      "66.4MB [00:00, 72.2MB/s]\n"
     ]
    },
    {
     "name": "stdout",
     "output_type": "stream",
     "text": [
      "3FO4JC5JM2VS_Guest_room.zip\n",
      "3FO4JC5JM2VS_Bedroom.zip\n",
      "3FO4JC5IJPIM_Guest_room.zip\n",
      "3FO4JC5IJPIM_Bedroom.zip\n",
      "3FO4JC5FT6U2_Guest_room.zip\n",
      "3FO4JC5FT6U2_Bedroom.zip\n",
      "3FO4JC57ME5A_Bedroom.zip\n",
      "3FO4JC50N7P9_Living_room.zip\n"
     ]
    },
    {
     "name": "stderr",
     "output_type": "stream",
     "text": [
      "Downloading...\n",
      "From: https://drive.google.com/uc?id=15MKFl0FNlbcxuDWA-EFscKQb4vH5NVvQ&export=download\n",
      "To: /media/scratch1/erbachj/Mask_RCNN/data/InteriorNet/data/HD7/train/3FO4JC50N7P9_Living_room.zip\n",
      "47.8MB [00:00, 87.2MB/s]\n"
     ]
    },
    {
     "name": "stdout",
     "output_type": "stream",
     "text": [
      "3FO4JBWQN25G_Bedroom.zip\n",
      "3FO4JBVH7AF6_Guest_room.zip\n",
      "3FO4JBTKQIOL_Bedroom.zip\n",
      "3FO4JBQWFLUU_Guest_room.zip\n",
      "3FO4JBNXX9SI_Bedroom.zip\n",
      "3FO4JBIWE9CJ_Living_room.zip\n"
     ]
    },
    {
     "name": "stderr",
     "output_type": "stream",
     "text": [
      "Downloading...\n",
      "From: https://drive.google.com/uc?id=1diowcIflSQvh2KifipNIuoauq6eFqRJ3&export=download\n",
      "To: /media/scratch1/erbachj/Mask_RCNN/data/InteriorNet/data/HD7/train/3FO4JBIWE9CJ_Living_room.zip\n",
      "66.2MB [00:00, 77.9MB/s]\n"
     ]
    },
    {
     "name": "stdout",
     "output_type": "stream",
     "text": [
      "3FO4JBH09SDV_Bedroom.zip\n",
      "3FO4JBCIVEAX_Guest_room.zip\n",
      "3FO4JB7KR3GR_Bedroom.zip\n",
      "3FO4JB5WW2M5_Bedroom.zip\n",
      "3FO4JB3KJIY2_Bedroom.zip\n",
      "3FO4JB2GHTDB_Bedroom.zip\n",
      "3FO4JB06SJ54_Living_room.zip\n"
     ]
    },
    {
     "name": "stderr",
     "output_type": "stream",
     "text": [
      "Downloading...\n",
      "From: https://drive.google.com/uc?id=1wYzuOP_wAjHeh-4lXocMPPLhPyttpZ0V&export=download\n",
      "To: /media/scratch1/erbachj/Mask_RCNN/data/InteriorNet/data/HD7/train/3FO4JB06SJ54_Living_room.zip\n",
      "54.1MB [00:00, 77.7MB/s]\n"
     ]
    },
    {
     "name": "stdout",
     "output_type": "stream",
     "text": [
      "3FO4JC4XTE56_Living_room.zip\n"
     ]
    },
    {
     "name": "stderr",
     "output_type": "stream",
     "text": [
      "Downloading...\n",
      "From: https://drive.google.com/uc?id=1dRNBOKH-I5SmKMR670r-qRimdG3wGMYs&export=download\n",
      "To: /media/scratch1/erbachj/Mask_RCNN/data/InteriorNet/data/HD7/train/3FO4JC4XTE56_Living_room.zip\n",
      "63.6MB [00:00, 78.3MB/s]\n"
     ]
    },
    {
     "name": "stdout",
     "output_type": "stream",
     "text": [
      "3FO4JC4XTE56_Guest_room.zip\n",
      "3FO4JC4XTE56_Bedroom.zip\n",
      "3FO4JC4O8RSS_Guest_room.zip\n",
      "3FO4JC4O8RSS_Bedroom.zip\n",
      "3FO4JC4124Y2_Living_room.zip\n"
     ]
    },
    {
     "name": "stderr",
     "output_type": "stream",
     "text": [
      "Downloading...\n",
      "From: https://drive.google.com/uc?id=1nrazM-6LPp0FO2vwVuqoP-8-oddL42a5&export=download\n",
      "To: /media/scratch1/erbachj/Mask_RCNN/data/InteriorNet/data/HD7/train/3FO4JC4124Y2_Living_room.zip\n",
      "69.6MB [00:02, 31.7MB/s]\n"
     ]
    },
    {
     "name": "stdout",
     "output_type": "stream",
     "text": [
      "3FO4JC4124Y2_Bedroom.zip\n",
      "3FO4JC3SYLI1_Bedroom.zip\n",
      "3FO4JC3094CB_Living_room.zip\n"
     ]
    },
    {
     "name": "stderr",
     "output_type": "stream",
     "text": [
      "Downloading...\n",
      "From: https://drive.google.com/uc?id=1Z9wnwif0DAEQanSQkI5KBovzc85QoMl7&export=download\n",
      "To: /media/scratch1/erbachj/Mask_RCNN/data/InteriorNet/data/HD7/train/3FO4JC3094CB_Living_room.zip\n",
      "64.3MB [00:00, 92.9MB/s]\n"
     ]
    },
    {
     "name": "stdout",
     "output_type": "stream",
     "text": [
      "3FO4JC3094CB_Guest_room.zip\n",
      "3FO4JC3094CB_Dining_room.zip\n"
     ]
    },
    {
     "name": "stderr",
     "output_type": "stream",
     "text": [
      "Downloading...\n",
      "From: https://drive.google.com/uc?id=1X8-ZI8oXzdPBxEs_xu_l7W2Ve7U7w376&export=download\n",
      "To: /media/scratch1/erbachj/Mask_RCNN/data/InteriorNet/data/HD7/train/3FO4JC3094CB_Dining_room.zip\n",
      "72.0MB [00:04, 14.5MB/s]\n"
     ]
    },
    {
     "name": "stdout",
     "output_type": "stream",
     "text": [
      "3FO4JC28C2DK_Guest_room.zip\n",
      "3FO4JC28C2DK_Bedroom.zip\n",
      "3FO4JC0AV56H_Living_room.zip\n"
     ]
    },
    {
     "name": "stderr",
     "output_type": "stream",
     "text": [
      "Downloading...\n",
      "From: https://drive.google.com/uc?id=1VLCDD8cFvKCfG6Axl906WHwCVx3ITUpl&export=download\n",
      "To: /media/scratch1/erbachj/Mask_RCNN/data/InteriorNet/data/HD7/train/3FO4JC0AV56H_Living_room.zip\n",
      "68.8MB [00:01, 40.1MB/s]\n"
     ]
    },
    {
     "name": "stdout",
     "output_type": "stream",
     "text": [
      "3FO4JC0AV56H_Bedroom.zip\n",
      "3FO4JBYO6697_Guest_room.zip\n",
      "3FO4JBYO6697_Bedroom.zip\n",
      "3FO4JBY68SCK_Bedroom.zip\n",
      "3FO4JBY06M24_Guest_room.zip\n",
      "3FO4JBY06M24_Bedroom.zip\n",
      "3FO4JBXQ9VMV_Bedroom.zip\n",
      "3FO4JBXHI545_Bedroom.zip\n",
      "3FO4JBX3EBNG_Guest_room.zip\n",
      "3FO4JBX3EBNG_Bedroom.zip\n",
      "3FO4JBX3BX2Q_Bedroom.zip\n",
      "3FO4JBWT59WJ_Guest_room.zip\n",
      "3FO4JBWT59WJ_Bedroom.zip\n",
      "3FO4JBWQN25G_Guest_room.zip\n",
      "3FO4JBWK97WI_Guest_room.zip\n",
      "3FO4JBWK97WI_Bedroom.zip\n",
      "3FO4JBWIS428_Guest_room.zip\n",
      "3FO4JBWIS428_Bedroom.zip\n",
      "3FO4JBWGO2P3_Guest_room.zip\n",
      "3FO4JBWGO2P3_Bedroom.zip\n",
      "3FO4JBVSWLHV_Guest_room.zip\n",
      "3FO4JBVSWLHV_Bedroom.zip\n",
      "3FO4JBVLUX54_Living_room.zip\n"
     ]
    },
    {
     "name": "stderr",
     "output_type": "stream",
     "text": [
      "Downloading...\n",
      "From: https://drive.google.com/uc?id=1fJ_e9DfGM_e1XSNtrZF1Dl9KRZcliWAO&export=download\n",
      "To: /media/scratch1/erbachj/Mask_RCNN/data/InteriorNet/data/HD7/train/3FO4JBVLUX54_Living_room.zip\n",
      "60.8MB [00:02, 23.9MB/s]\n"
     ]
    },
    {
     "name": "stdout",
     "output_type": "stream",
     "text": [
      "3FO4JBVLUX54_Guest_room.zip\n",
      "3FO4JBVLUX54_Bedroom.zip\n",
      "3FO4JBVL2GPL_Living_room.zip\n"
     ]
    },
    {
     "name": "stderr",
     "output_type": "stream",
     "text": [
      "Downloading...\n",
      "From: https://drive.google.com/uc?id=1d6TrzpdcLnJn_K6X7nuDF1W6sWzAkwT3&export=download\n",
      "To: /media/scratch1/erbachj/Mask_RCNN/data/InteriorNet/data/HD7/train/3FO4JBVL2GPL_Living_room.zip\n",
      "60.9MB [00:02, 29.1MB/s]\n"
     ]
    },
    {
     "name": "stdout",
     "output_type": "stream",
     "text": [
      "3FO4JBVL2GPL_Guest_room.zip\n",
      "3FO4JBVL2GPL_Bedroom.zip\n",
      "3FO4JBVH7AF6_Bedroom.zip\n",
      "3FO4JBV455XG_Living_room.zip\n"
     ]
    },
    {
     "name": "stderr",
     "output_type": "stream",
     "text": [
      "Downloading...\n",
      "From: https://drive.google.com/uc?id=1EjfNIK4ROEB-fzbg1fYEz_IKapVb-swu&export=download\n",
      "To: /media/scratch1/erbachj/Mask_RCNN/data/InteriorNet/data/HD7/train/3FO4JBV455XG_Living_room.zip\n",
      "68.7MB [00:00, 74.8MB/s]\n"
     ]
    },
    {
     "name": "stdout",
     "output_type": "stream",
     "text": [
      "3FO4JBV455XG_Guest_room.zip\n",
      "3FO4JBV455XG_Bedroom.zip\n",
      "3FO4JBUOV3L7_Living_room.zip\n"
     ]
    },
    {
     "name": "stderr",
     "output_type": "stream",
     "text": [
      "Downloading...\n",
      "From: https://drive.google.com/uc?id=1i91ZtcfMFlHxD2CQjUC5b4cceHJZ4QIm&export=download\n",
      "To: /media/scratch1/erbachj/Mask_RCNN/data/InteriorNet/data/HD7/train/3FO4JBUOV3L7_Living_room.zip\n",
      "59.0MB [00:00, 78.7MB/s]\n"
     ]
    },
    {
     "name": "stdout",
     "output_type": "stream",
     "text": [
      "3FO4JBUOV3L7_Guest_room.zip\n",
      "3FO4JBUOV3L7_Dining_room.zip\n"
     ]
    },
    {
     "name": "stderr",
     "output_type": "stream",
     "text": [
      "Downloading...\n",
      "From: https://drive.google.com/uc?id=1vdJqToIIIJZ4ZZcO2m3xyOOzNUrPwKjI&export=download\n",
      "To: /media/scratch1/erbachj/Mask_RCNN/data/InteriorNet/data/HD7/train/3FO4JBUOV3L7_Dining_room.zip\n",
      "62.0MB [00:02, 25.9MB/s]\n"
     ]
    },
    {
     "name": "stdout",
     "output_type": "stream",
     "text": [
      "3FO4JBUOV3L7_Bedroom.zip\n",
      "3FO4JBUFGVAQ_Guest_room.zip\n",
      "3FO4JBUFGVAQ_Bedroom.zip\n",
      "3FO4JBU7HMQ8_Living_room.zip\n"
     ]
    },
    {
     "name": "stderr",
     "output_type": "stream",
     "text": [
      "Downloading...\n",
      "From: https://drive.google.com/uc?id=12FjdSf6rIHDoCO9_ql2_KTo0tckUJeVZ&export=download\n",
      "To: /media/scratch1/erbachj/Mask_RCNN/data/InteriorNet/data/HD7/train/3FO4JBU7HMQ8_Living_room.zip\n",
      "58.0MB [00:02, 21.7MB/s]\n"
     ]
    },
    {
     "name": "stdout",
     "output_type": "stream",
     "text": [
      "3FO4JBU61C6V_Guest_room.zip\n",
      "3FO4JBU61C6V_Bedroom.zip\n",
      "3FO4JBTKQIOL_Guest_room.zip\n",
      "3FO4JBTFTA23_Bedroom.zip\n",
      "3FO4JBTF30J8_Guest_room.zip\n",
      "3FO4JBTF30J8_Bedroom.zip\n",
      "3FO4JBSS4MDF_Guest_room.zip\n",
      "3FO4JBSS4MDF_Bedroom.zip\n",
      "3FO4JBSQI69J_Living_room.zip\n"
     ]
    },
    {
     "name": "stderr",
     "output_type": "stream",
     "text": [
      "Downloading...\n",
      "From: https://drive.google.com/uc?id=1vZ94AUJOtyIjnueySqJW4MR7nRlTHP3O&export=download\n",
      "To: /media/scratch1/erbachj/Mask_RCNN/data/InteriorNet/data/HD7/train/3FO4JBSQI69J_Living_room.zip\n",
      "77.8MB [00:02, 32.2MB/s]\n"
     ]
    },
    {
     "name": "stdout",
     "output_type": "stream",
     "text": [
      "3FO4JBRRBIEN_Guest_room.zip\n",
      "3FO4JBRRBIEN_Bedroom.zip\n",
      "3FO4JBRL7VXR_Living_room.zip\n"
     ]
    },
    {
     "name": "stderr",
     "output_type": "stream",
     "text": [
      "Downloading...\n",
      "From: https://drive.google.com/uc?id=1dji5UCe2jC5Z_CxIe9hJA88fXv8jQ1aH&export=download\n",
      "To: /media/scratch1/erbachj/Mask_RCNN/data/InteriorNet/data/HD7/train/3FO4JBRL7VXR_Living_room.zip\n",
      "71.1MB [00:02, 31.0MB/s]\n"
     ]
    },
    {
     "name": "stdout",
     "output_type": "stream",
     "text": [
      "3FO4JBRL7VXR_Dining_room.zip\n"
     ]
    },
    {
     "name": "stderr",
     "output_type": "stream",
     "text": [
      "Downloading...\n",
      "From: https://drive.google.com/uc?id=1p6VTsJfnRek-MJN1uUE-BCRC15LhH16G&export=download\n",
      "To: /media/scratch1/erbachj/Mask_RCNN/data/InteriorNet/data/HD7/train/3FO4JBRL7VXR_Dining_room.zip\n",
      "53.9MB [00:00, 69.1MB/s]\n"
     ]
    },
    {
     "name": "stdout",
     "output_type": "stream",
     "text": [
      "3FO4JBRL7VXR_Bedroom.zip\n",
      "3FO4JBR6L1JO_Guest_room.zip\n",
      "3FO4JBR6L1JO_Bedroom.zip\n",
      "3FO4JBQXYECX_Bedroom.zip\n",
      "3FO4JBQWFLUU_Bedroom.zip\n",
      "3FO4JBQAVA89_Bedroom.zip\n",
      "3FO4JBQ3YO30_Guest_room.zip\n",
      "3FO4JBQ3YO30_Bedroom.zip\n",
      "3FO4JBPYD4WO_Guest_room.zip\n",
      "3FO4JBPYD4WO_Bedroom.zip\n",
      "3FO4JBPICFW0_Guest_room.zip\n",
      "3FO4JBPICFW0_Bedroom.zip\n",
      "3FO4JBOLF3AT_Guest_room.zip\n",
      "3FO4JBOLF3AT_Bedroom.zip\n",
      "3FO4JBOG95DP_Guest_room.zip\n",
      "3FO4JBOG95DP_Bedroom.zip\n",
      "3FO4JBO5XENT_Guest_room.zip\n",
      "3FO4JBO5XENT_Bedroom.zip\n",
      "3FO4JBNQ7SUM_Living_room.zip\n"
     ]
    },
    {
     "name": "stderr",
     "output_type": "stream",
     "text": [
      "Downloading...\n",
      "From: https://drive.google.com/uc?id=1tEmwdELWj_9Q8i-E6FXGCp-NVb3xIXqu&export=download\n",
      "To: /media/scratch1/erbachj/Mask_RCNN/data/InteriorNet/data/HD7/train/3FO4JBNQ7SUM_Living_room.zip\n",
      "63.5MB [00:01, 46.7MB/s]\n"
     ]
    },
    {
     "name": "stdout",
     "output_type": "stream",
     "text": [
      "3FO4JBNIC0O5_Living_room.zip\n"
     ]
    },
    {
     "name": "stderr",
     "output_type": "stream",
     "text": [
      "Downloading...\n",
      "From: https://drive.google.com/uc?id=1DiRb8GCdOecdlsKDEseu9u8ESgGR3evq&export=download\n",
      "To: /media/scratch1/erbachj/Mask_RCNN/data/InteriorNet/data/HD7/train/3FO4JBNIC0O5_Living_room.zip\n",
      "69.9MB [00:03, 21.2MB/s]\n"
     ]
    },
    {
     "name": "stdout",
     "output_type": "stream",
     "text": [
      "3FO4JBNIC0O5_Guest_room.zip\n",
      "3FO4JBNIC0O5_Bedroom.zip\n",
      "3FO4JBMOP28H_Bedroom.zip\n",
      "3FO4JBMO5QSP_Bedroom.zip\n",
      "3FO4JBMD7AB1_Bedroom.zip\n",
      "3FO4JBM4JMJI_Guest_room.zip\n",
      "3FO4JBM4JMJI_Bedroom.zip\n",
      "3FO4JBKNO360_Guest_room.zip\n",
      "3FO4JBKNO360_Bedroom.zip\n",
      "3FO4JBJLL60T_Bedroom.zip\n",
      "3FO4JBJ6BGGW_Guest_room.zip\n",
      "3FO4JBJ6BGGW_Bedroom.zip\n",
      "3FO4JBIWE9CJ_Bedroom.zip\n",
      "3FO4JBIBBJHW_Guest_room.zip\n",
      "3FO4JBIBBJHW_Bedroom.zip\n",
      "3FO4JBI4OV3M_Guest_room.zip\n",
      "3FO4JBI4OV3M_Bedroom.zip\n",
      "3FO4JBHPM7RA_Guest_room.zip\n",
      "3FO4JBHPM7RA_Bedroom.zip\n",
      "3FO4JBHDTVGY_Guest_room.zip\n",
      "3FO4JBHDTVGY_Bedroom.zip\n",
      "3FO4JBHA38VL_Living_room.zip\n"
     ]
    },
    {
     "name": "stderr",
     "output_type": "stream",
     "text": [
      "Downloading...\n",
      "From: https://drive.google.com/uc?id=1oPukN0XfKapsVpLaFD5dSNZpzOq2rUA6&export=download\n",
      "To: /media/scratch1/erbachj/Mask_RCNN/data/InteriorNet/data/HD7/train/3FO4JBHA38VL_Living_room.zip\n",
      "57.9MB [00:01, 43.1MB/s]\n"
     ]
    },
    {
     "name": "stdout",
     "output_type": "stream",
     "text": [
      "3FO4JBHA38VL_Guest_room.zip\n",
      "3FO4JBHA38VL_Bedroom.zip\n",
      "3FO4JBH1NM0H_Bedroom.zip\n",
      "3FO4JBH09SDV_Guest_room.zip\n",
      "3FO4JBG2X0VE_Living_room.zip\n"
     ]
    },
    {
     "name": "stderr",
     "output_type": "stream",
     "text": [
      "Downloading...\n",
      "From: https://drive.google.com/uc?id=1I41Lg_rBCVGOLJHjLnifyFRLEQf4K_iu&export=download\n",
      "To: /media/scratch1/erbachj/Mask_RCNN/data/InteriorNet/data/HD7/train/3FO4JBG2X0VE_Living_room.zip\n",
      "72.5MB [00:02, 34.7MB/s]\n"
     ]
    },
    {
     "name": "stdout",
     "output_type": "stream",
     "text": [
      "3FO4JBG2X0VE_Guest_room.zip\n",
      "3FO4JBG2X0VE_Bedroom.zip\n",
      "3FO4JBFSC16W_Guest_room.zip\n",
      "3FO4JBFSC16W_Bedroom.zip\n",
      "3FO4JBFM59E3_Guest_room.zip\n",
      "3FO4JBFM59E3_Bedroom.zip\n",
      "3FO4JBFM4KYV_Bedroom.zip\n",
      "3FO4JBF3H3OQ_Guest_room.zip\n",
      "3FO4JBF3H3OQ_Bedroom.zip\n",
      "3FO4JBEIMGU0_Living_room.zip\n"
     ]
    },
    {
     "name": "stderr",
     "output_type": "stream",
     "text": [
      "Downloading...\n",
      "From: https://drive.google.com/uc?id=1ECRaFG0gzJbVbFOhKKxqp6oOIq_5DGQ1&export=download\n",
      "To: /media/scratch1/erbachj/Mask_RCNN/data/InteriorNet/data/HD7/train/3FO4JBEIMGU0_Living_room.zip\n",
      "49.3MB [00:00, 59.5MB/s]\n"
     ]
    },
    {
     "name": "stdout",
     "output_type": "stream",
     "text": [
      "3FO4JBEIMGU0_Guest_room.zip\n",
      "3FO4JBCW989U_Guest_room.zip\n",
      "3FO4JBCW989U_Bedroom.zip\n",
      "3FO4JBCIVEAX_Bedroom.zip\n",
      "3FO4JBBX159J_Living_room.zip\n"
     ]
    },
    {
     "name": "stderr",
     "output_type": "stream",
     "text": [
      "Downloading...\n",
      "From: https://drive.google.com/uc?id=1PiFHe6C_8qgf0TSOkPRuof-IA_jHJz6G&export=download\n",
      "To: /media/scratch1/erbachj/Mask_RCNN/data/InteriorNet/data/HD7/train/3FO4JBBX159J_Living_room.zip\n",
      "48.2MB [00:00, 79.3MB/s]\n"
     ]
    },
    {
     "name": "stdout",
     "output_type": "stream",
     "text": [
      "3FO4JBBX159J_Bedroom.zip\n",
      "3FO4JB8DK74S_Living_room.zip\n"
     ]
    },
    {
     "name": "stderr",
     "output_type": "stream",
     "text": [
      "Downloading...\n",
      "From: https://drive.google.com/uc?id=1nLl8eTv9YQWJcL2yjN13f977ngL2v651&export=download\n",
      "To: /media/scratch1/erbachj/Mask_RCNN/data/InteriorNet/data/HD7/train/3FO4JB8DK74S_Living_room.zip\n",
      "65.0MB [00:00, 86.7MB/s]\n"
     ]
    },
    {
     "name": "stdout",
     "output_type": "stream",
     "text": [
      "3FO4JB8DK74S_Dining_room.zip\n"
     ]
    },
    {
     "name": "stderr",
     "output_type": "stream",
     "text": [
      "Downloading...\n",
      "From: https://drive.google.com/uc?id=185vB4snPY8KeZ02lBw9cSiaBJU7UNxx6&export=download\n",
      "To: /media/scratch1/erbachj/Mask_RCNN/data/InteriorNet/data/HD7/train/3FO4JB8DK74S_Dining_room.zip\n",
      "63.0MB [00:01, 31.8MB/s]\n"
     ]
    },
    {
     "name": "stdout",
     "output_type": "stream",
     "text": [
      "3FO4JB8DK74S_Bedroom.zip\n",
      "3FO4JB836EF0_Guest_room.zip\n",
      "3FO4JB836EF0_Bedroom.zip\n",
      "3FO4JB7XVS89_Guest_room.zip\n",
      "3FO4JB7XVS89_Bedroom.zip\n",
      "3FO4JB7S4N0S_Guest_room.zip\n",
      "3FO4JB7S4N0S_Bedroom.zip\n",
      "3FO4JB7KR3GR_Living_room.zip\n"
     ]
    },
    {
     "name": "stderr",
     "output_type": "stream",
     "text": [
      "Downloading...\n",
      "From: https://drive.google.com/uc?id=1d6z9qTcY5aPcsRlnMhU22DSv7KYQpEO8&export=download\n",
      "To: /media/scratch1/erbachj/Mask_RCNN/data/InteriorNet/data/HD7/train/3FO4JB7KR3GR_Living_room.zip\n",
      "55.2MB [00:02, 22.3MB/s]\n"
     ]
    },
    {
     "name": "stdout",
     "output_type": "stream",
     "text": [
      "3FO4JB7KR3GR_Guest_room.zip\n",
      "3FO4JB7F7RFN_Living_room.zip\n"
     ]
    },
    {
     "name": "stderr",
     "output_type": "stream",
     "text": [
      "Downloading...\n",
      "From: https://drive.google.com/uc?id=1ZRTMv2tqtBI1FAsgX2D4FYRhp1i8enO3&export=download\n",
      "To: /media/scratch1/erbachj/Mask_RCNN/data/InteriorNet/data/HD7/train/3FO4JB7F7RFN_Living_room.zip\n",
      "68.0MB [00:03, 18.3MB/s]\n"
     ]
    },
    {
     "name": "stdout",
     "output_type": "stream",
     "text": [
      "3FO4JB6GRY5S_Guest_room.zip\n",
      "3FO4JB6GRY5S_Bedroom.zip\n",
      "3FO4JB6GP76Y_Guest_room.zip\n",
      "3FO4JB6GP76Y_Bedroom.zip\n",
      "3FO4JB6G9FH9_Dining_room.zip\n"
     ]
    },
    {
     "name": "stderr",
     "output_type": "stream",
     "text": [
      "Downloading...\n",
      "From: https://drive.google.com/uc?id=1yNZYdn7TyPkZ618uLzxGl7vb-XzKyBP3&export=download\n",
      "To: /media/scratch1/erbachj/Mask_RCNN/data/InteriorNet/data/HD7/train/3FO4JB6G9FH9_Dining_room.zip\n",
      "44.3MB [00:00, 74.5MB/s]\n"
     ]
    },
    {
     "name": "stdout",
     "output_type": "stream",
     "text": [
      "3FO4JB6G9FH9_Bedroom.zip\n",
      "3FO4JB6EGXPK_Guest_room.zip\n",
      "3FO4JB6EGXPK_Bedroom.zip\n",
      "3FO4JB656XJD_Guest_room.zip\n",
      "3FO4JB656XJD_Bedroom.zip\n",
      "3FO4JB638CRU_Guest_room.zip\n",
      "3FO4JB638CRU_Bedroom.zip\n",
      "3FO4JB5WW2M5_Guest_room.zip\n",
      "3FO4JB5INUD5_Living_room.zip\n"
     ]
    },
    {
     "name": "stderr",
     "output_type": "stream",
     "text": [
      "Downloading...\n",
      "From: https://drive.google.com/uc?id=1GIJh1chIJUvnEIIbBV0Ts5AWzLhPBbEp&export=download\n",
      "To: /media/scratch1/erbachj/Mask_RCNN/data/InteriorNet/data/HD7/train/3FO4JB5INUD5_Living_room.zip\n",
      "66.1MB [00:03, 19.9MB/s]\n"
     ]
    },
    {
     "name": "stdout",
     "output_type": "stream",
     "text": [
      "3FO4JB5INUD5_Bedroom.zip\n",
      "3FO4JB5EIJMO_Living_room.zip\n"
     ]
    },
    {
     "name": "stderr",
     "output_type": "stream",
     "text": [
      "Downloading...\n",
      "From: https://drive.google.com/uc?id=1JpN1yqsqsKUZkEk4yvh1eekWhDXMsL5k&export=download\n",
      "To: /media/scratch1/erbachj/Mask_RCNN/data/InteriorNet/data/HD7/train/3FO4JB5EIJMO_Living_room.zip\n",
      "64.9MB [00:00, 76.2MB/s]\n"
     ]
    },
    {
     "name": "stdout",
     "output_type": "stream",
     "text": [
      "3FO4JB5EIJMO_Guest_room.zip\n",
      "3FO4JB5EIJMO_Bedroom.zip\n",
      "3FO4JB4S5W23_Bedroom.zip\n",
      "3FO4JB4LNFR2_Living_room.zip\n"
     ]
    },
    {
     "name": "stderr",
     "output_type": "stream",
     "text": [
      "Downloading...\n",
      "From: https://drive.google.com/uc?id=19_7G0wd0W8Rpk6RFRYyLwjPRvKg32oS7&export=download\n",
      "To: /media/scratch1/erbachj/Mask_RCNN/data/InteriorNet/data/HD7/train/3FO4JB4LNFR2_Living_room.zip\n",
      "75.3MB [00:00, 82.2MB/s]\n"
     ]
    },
    {
     "name": "stdout",
     "output_type": "stream",
     "text": [
      "3FO4JB4LNFR2_Guest_room.zip\n",
      "3FO4JB4LNFR2_Bedroom.zip\n",
      "3FO4JB3M8KCP_Living_room.zip\n"
     ]
    },
    {
     "name": "stderr",
     "output_type": "stream",
     "text": [
      "Downloading...\n",
      "From: https://drive.google.com/uc?id=1vtNH2R2yo5RdrXRM06Rj7T1vKxcv4yj4&export=download\n",
      "To: /media/scratch1/erbachj/Mask_RCNN/data/InteriorNet/data/HD7/train/3FO4JB3M8KCP_Living_room.zip\n",
      "56.5MB [00:00, 71.3MB/s]\n"
     ]
    },
    {
     "name": "stdout",
     "output_type": "stream",
     "text": [
      "3FO4JB3M8KCP_Guest_room.zip\n",
      "3FO4JB3M8KCP_Bedroom.zip\n",
      "3FO4JB3KJIY2_Living_room.zip\n"
     ]
    },
    {
     "name": "stderr",
     "output_type": "stream",
     "text": [
      "Downloading...\n",
      "From: https://drive.google.com/uc?id=1f4AqL0RSlI7HKc8Hg_HCGf3iZTYyfhfD&export=download\n",
      "To: /media/scratch1/erbachj/Mask_RCNN/data/InteriorNet/data/HD7/train/3FO4JB3KJIY2_Living_room.zip\n",
      "76.3MB [00:02, 29.3MB/s]\n"
     ]
    },
    {
     "name": "stdout",
     "output_type": "stream",
     "text": [
      "3FO4JB3KJIY2_Guest_room.zip\n",
      "3FO4JB3CETSW_Living_room.zip\n"
     ]
    },
    {
     "name": "stderr",
     "output_type": "stream",
     "text": [
      "Downloading...\n",
      "From: https://drive.google.com/uc?id=19wHWCq3HINDd3QcXYWXEvjl35Nv5pzGF&export=download\n",
      "To: /media/scratch1/erbachj/Mask_RCNN/data/InteriorNet/data/HD7/train/3FO4JB3CETSW_Living_room.zip\n",
      "51.0MB [00:05, 9.69MB/s]\n"
     ]
    },
    {
     "name": "stdout",
     "output_type": "stream",
     "text": [
      "3FO4JB3CETSW_Guest_room.zip\n",
      "3FO4JB3CETSW_Bedroom.zip\n",
      "3FO4JB34TCQI_Bedroom.zip\n",
      "3FO4JB2YJL39_Living_room.zip\n"
     ]
    },
    {
     "name": "stderr",
     "output_type": "stream",
     "text": [
      "Downloading...\n",
      "From: https://drive.google.com/uc?id=1S5nNML6oTcvCsNbq5Ga791UGJnQ843jA&export=download\n",
      "To: /media/scratch1/erbachj/Mask_RCNN/data/InteriorNet/data/HD7/train/3FO4JB2YJL39_Living_room.zip\n",
      "58.5MB [00:01, 29.9MB/s]\n"
     ]
    },
    {
     "name": "stdout",
     "output_type": "stream",
     "text": [
      "3FO4JB2YJL39_Guest_room.zip\n",
      "3FO4JB2YJL39_Bedroom.zip\n",
      "3FO4JB2N27IW_Living_room.zip\n"
     ]
    },
    {
     "name": "stderr",
     "output_type": "stream",
     "text": [
      "Downloading...\n",
      "From: https://drive.google.com/uc?id=1FitEzRQQ83qKE2yU_xppTGm8AH_gmRDX&export=download\n",
      "To: /media/scratch1/erbachj/Mask_RCNN/data/InteriorNet/data/HD7/train/3FO4JB2N27IW_Living_room.zip\n",
      "67.4MB [00:04, 16.4MB/s]\n"
     ]
    },
    {
     "name": "stdout",
     "output_type": "stream",
     "text": [
      "3FO4JB2N27IW_Dining_room.zip\n"
     ]
    },
    {
     "name": "stderr",
     "output_type": "stream",
     "text": [
      "Downloading...\n",
      "From: https://drive.google.com/uc?id=1jMuVPpAwrcjUX_M_PlpQLmeO4c7ujkyg&export=download\n",
      "To: /media/scratch1/erbachj/Mask_RCNN/data/InteriorNet/data/HD7/train/3FO4JB2N27IW_Dining_room.zip\n",
      "66.5MB [00:00, 73.4MB/s]\n"
     ]
    },
    {
     "name": "stdout",
     "output_type": "stream",
     "text": [
      "3FO4JB2H6SMH_Living_room.zip\n"
     ]
    },
    {
     "name": "stderr",
     "output_type": "stream",
     "text": [
      "Downloading...\n",
      "From: https://drive.google.com/uc?id=1jYjOeCLT6nEXVo_krB7Cm8Sz3MhIEOvJ&export=download\n",
      "To: /media/scratch1/erbachj/Mask_RCNN/data/InteriorNet/data/HD7/train/3FO4JB2H6SMH_Living_room.zip\n",
      "68.5MB [00:01, 62.3MB/s]\n"
     ]
    },
    {
     "name": "stdout",
     "output_type": "stream",
     "text": [
      "3FO4JB2H6SMH_Guest_room.zip\n",
      "3FO4JB2H6SMH_Bedroom.zip\n",
      "3FO4JB2GHTDB_Living_room.zip\n"
     ]
    },
    {
     "name": "stderr",
     "output_type": "stream",
     "text": [
      "Downloading...\n",
      "From: https://drive.google.com/uc?id=1BlBPmCIZgvLu0LWlh1DTTbUzOCM22nn9&export=download\n",
      "To: /media/scratch1/erbachj/Mask_RCNN/data/InteriorNet/data/HD7/train/3FO4JB2GHTDB_Living_room.zip\n",
      "67.8MB [00:02, 26.9MB/s]\n"
     ]
    },
    {
     "name": "stdout",
     "output_type": "stream",
     "text": [
      "3FO4JB2GHTDB_Guest_room.zip\n",
      "3FO4JB1U7R2H_Guest_room.zip\n",
      "3FO4JB1U7R2H_Bedroom.zip\n",
      "3FO4JB19GVTE_Living_room.zip\n"
     ]
    },
    {
     "name": "stderr",
     "output_type": "stream",
     "text": [
      "Downloading...\n",
      "From: https://drive.google.com/uc?id=1mTP3qlBJDDL9ahuTDDaaYVNigVD4YCNN&export=download\n",
      "To: /media/scratch1/erbachj/Mask_RCNN/data/InteriorNet/data/HD7/train/3FO4JB19GVTE_Living_room.zip\n",
      "53.0MB [00:01, 36.6MB/s]\n"
     ]
    },
    {
     "name": "stdout",
     "output_type": "stream",
     "text": [
      "3FO4JB19GVTE_Guest_room.zip\n",
      "3FO4JB19GVTE_Bedroom.zip\n",
      "3FO4JB0UBGJ8_Guest_room.zip\n",
      "3FO4JB0UBGJ8_Bedroom.zip\n",
      "3FO4JB0S1V9F_Guest_room.zip\n",
      "3FO4JB0S1V9F_Bedroom.zip\n",
      "3FO4JB0N5V3A_Guest_room.zip\n",
      "3FO4JB0N5V3A_Bedroom.zip\n",
      "3FO4JB0CB1MO_Bedroom.zip\n",
      "3FO4JB0AO0GM_Guest_room.zip\n",
      "3FO4JB0AO0GM_Bedroom.zip\n",
      "3FO4JAWF3L3R_Bedroom.zip\n",
      "3FO4JATGK0K2_Guest_room.zip\n",
      "3FO4JASDFHRX_Dining_room.zip\n"
     ]
    },
    {
     "name": "stderr",
     "output_type": "stream",
     "text": [
      "Downloading...\n",
      "From: https://drive.google.com/uc?id=1rr7c2mUHzyZXivgUkjVNlFsfT6cOGhrz&export=download\n",
      "To: /media/scratch1/erbachj/Mask_RCNN/data/InteriorNet/data/HD7/train/3FO4JASDFHRX_Dining_room.zip\n",
      "72.3MB [00:00, 90.0MB/s]\n"
     ]
    },
    {
     "name": "stdout",
     "output_type": "stream",
     "text": [
      "3FO4JAMJW8GK_Guest_room.zip\n",
      "3FO4JAKHKYHJ_Guest_room.zip\n",
      "3FO4JAHYV3VF_Bedroom.zip\n",
      "3FO4JAEUFUYW_Guest_room.zip\n",
      "3FO4JADD9U0S_Guest_room.zip\n",
      "3FO4JAB3GG0D_Bedroom.zip\n",
      "3FO4JA9613UG_Bedroom.zip\n",
      "3FO4JA84LAV7_Guest_room.zip\n",
      "3FO4J9W9J4FV_Guest_room.zip\n",
      "3FO4J9TK56TR_Bedroom.zip\n",
      "3FO4JB06SJ54_Guest_room.zip\n",
      "3FO4JB06SJ54_Bedroom.zip\n",
      "3FO4JAYWA4PE_Living_room.zip\n"
     ]
    },
    {
     "name": "stderr",
     "output_type": "stream",
     "text": [
      "Downloading...\n",
      "From: https://drive.google.com/uc?id=11QwtYp5Szi83PoUB4Tmwk0SmMZUKvyRL&export=download\n",
      "To: /media/scratch1/erbachj/Mask_RCNN/data/InteriorNet/data/HD7/train/3FO4JAYWA4PE_Living_room.zip\n",
      "57.7MB [00:01, 48.2MB/s]\n"
     ]
    },
    {
     "name": "stdout",
     "output_type": "stream",
     "text": [
      "3FO4JAYWA4PE_Bedroom.zip\n",
      "3FO4JAYNSHLO_Bedroom.zip\n",
      "3FO4JAYNOAHF_Living_room.zip\n"
     ]
    },
    {
     "name": "stderr",
     "output_type": "stream",
     "text": [
      "Downloading...\n",
      "From: https://drive.google.com/uc?id=1Y5zkRzUgdNljIOMJyG_0axLNtw3NH4Po&export=download\n",
      "To: /media/scratch1/erbachj/Mask_RCNN/data/InteriorNet/data/HD7/train/3FO4JAYNOAHF_Living_room.zip\n",
      "67.0MB [00:03, 21.5MB/s]\n"
     ]
    },
    {
     "name": "stdout",
     "output_type": "stream",
     "text": [
      "3FO4JAYNOAHF_Guest_room.zip\n",
      "3FO4JAYNOAHF_Bedroom.zip\n",
      "3FO4JAYN3XAC_Living_room.zip\n"
     ]
    },
    {
     "name": "stderr",
     "output_type": "stream",
     "text": [
      "Downloading...\n",
      "From: https://drive.google.com/uc?id=1Ho6He9Pjsjiw2XnDXzWMVEV1hWOn7HcP&export=download\n",
      "To: /media/scratch1/erbachj/Mask_RCNN/data/InteriorNet/data/HD7/train/3FO4JAYN3XAC_Living_room.zip\n",
      "57.3MB [00:01, 48.7MB/s]\n"
     ]
    },
    {
     "name": "stdout",
     "output_type": "stream",
     "text": [
      "3FO4JAYN3XAC_Guest_room.zip\n",
      "3FO4JAYN3XAC_Dining_room.zip\n"
     ]
    },
    {
     "name": "stderr",
     "output_type": "stream",
     "text": [
      "Downloading...\n",
      "From: https://drive.google.com/uc?id=1sf-jD-21vaUzrqjnoSsF-YV3Q_0konLr&export=download\n",
      "To: /media/scratch1/erbachj/Mask_RCNN/data/InteriorNet/data/HD7/train/3FO4JAYN3XAC_Dining_room.zip\n",
      "59.9MB [00:00, 82.2MB/s]\n"
     ]
    },
    {
     "name": "stdout",
     "output_type": "stream",
     "text": [
      "3FO4JAYN3XAC_Bedroom.zip\n",
      "3FO4JAYLKMIE_Living_room.zip\n"
     ]
    },
    {
     "name": "stderr",
     "output_type": "stream",
     "text": [
      "Downloading...\n",
      "From: https://drive.google.com/uc?id=1lmnTJazwfn0tLv21YGxjzaiL0UkZ4Mv6&export=download\n",
      "To: /media/scratch1/erbachj/Mask_RCNN/data/InteriorNet/data/HD7/train/3FO4JAYLKMIE_Living_room.zip\n",
      "53.8MB [00:04, 12.4MB/s]\n"
     ]
    },
    {
     "name": "stdout",
     "output_type": "stream",
     "text": [
      "3FO4JAYLKMIE_Dining_room.zip\n"
     ]
    },
    {
     "name": "stderr",
     "output_type": "stream",
     "text": [
      "Downloading...\n",
      "From: https://drive.google.com/uc?id=1lnlSDs6srgjSLAFX3ytWxEjXp6ulT-wO&export=download\n",
      "To: /media/scratch1/erbachj/Mask_RCNN/data/InteriorNet/data/HD7/train/3FO4JAYLKMIE_Dining_room.zip\n",
      "58.1MB [00:00, 89.3MB/s]\n"
     ]
    },
    {
     "name": "stdout",
     "output_type": "stream",
     "text": [
      "3FO4JAYKED22_Guest_room.zip\n",
      "3FO4JAYKED22_Bedroom.zip\n",
      "3FO4JAYK73WV_Guest_room.zip\n",
      "3FO4JAYK73WV_Bedroom.zip\n",
      "3FO4JAYEBICE_Guest_room.zip\n",
      "3FO4JAYEBICE_Bedroom.zip\n",
      "3FO4JAXQN454_Guest_room.zip\n",
      "3FO4JAXQN454_Bedroom.zip\n",
      "3FO4JAXGC6Q6_Living_room.zip\n"
     ]
    },
    {
     "name": "stderr",
     "output_type": "stream",
     "text": [
      "Downloading...\n",
      "From: https://drive.google.com/uc?id=1SZ7oGt-DdBlDvXpTxHUC5zI8Vnz_7u5L&export=download\n",
      "To: /media/scratch1/erbachj/Mask_RCNN/data/InteriorNet/data/HD7/train/3FO4JAXGC6Q6_Living_room.zip\n",
      "60.7MB [00:00, 64.8MB/s]\n"
     ]
    },
    {
     "name": "stdout",
     "output_type": "stream",
     "text": [
      "3FO4JAXGC6Q6_Guest_room.zip\n",
      "3FO4JAXGC6Q6_Bedroom.zip\n",
      "3FO4JAXFU6K3_Bedroom.zip\n",
      "3FO4JAX9Y0WF_Bedroom.zip\n",
      "3FO4JAWF3L3R_Guest_room.zip\n",
      "3FO4JAWEL47J_Living_room.zip\n"
     ]
    },
    {
     "name": "stderr",
     "output_type": "stream",
     "text": [
      "Downloading...\n",
      "From: https://drive.google.com/uc?id=1yFIBHybrxRX8puZRJ8iZa4b-tsqyAWR5&export=download\n",
      "To: /media/scratch1/erbachj/Mask_RCNN/data/InteriorNet/data/HD7/train/3FO4JAWEL47J_Living_room.zip\n",
      "58.8MB [00:01, 32.1MB/s]\n"
     ]
    },
    {
     "name": "stdout",
     "output_type": "stream",
     "text": [
      "3FO4JAWEL47J_Guest_room.zip\n",
      "3FO4JAWEL47J_Bedroom.zip\n",
      "3FO4JAVA0471_Bedroom.zip\n",
      "3FO4JAU54X6R_Guest_room.zip\n",
      "3FO4JAU54X6R_Bedroom.zip\n",
      "3FO4JAU46L8S_Guest_room.zip\n",
      "3FO4JAU46L8S_Bedroom.zip\n",
      "3FO4JATP1JBQ_Living_room.zip\n"
     ]
    },
    {
     "name": "stderr",
     "output_type": "stream",
     "text": [
      "Downloading...\n",
      "From: https://drive.google.com/uc?id=12h7PFNVJJyExxm4XYQG7EnpYd4igXQwU&export=download\n",
      "To: /media/scratch1/erbachj/Mask_RCNN/data/InteriorNet/data/HD7/train/3FO4JATP1JBQ_Living_room.zip\n",
      "42.5MB [00:01, 22.9MB/s]\n"
     ]
    },
    {
     "name": "stdout",
     "output_type": "stream",
     "text": [
      "3FO4JATP1JBQ_Guest_room.zip\n",
      "3FO4JATP1JBQ_Dining_room.zip\n"
     ]
    },
    {
     "name": "stderr",
     "output_type": "stream",
     "text": [
      "Downloading...\n",
      "From: https://drive.google.com/uc?id=1K66lDM8-veUayiRc2BkscLc7wScIA1x7&export=download\n",
      "To: /media/scratch1/erbachj/Mask_RCNN/data/InteriorNet/data/HD7/train/3FO4JATP1JBQ_Dining_room.zip\n",
      "40.6MB [00:02, 14.5MB/s]\n"
     ]
    },
    {
     "name": "stdout",
     "output_type": "stream",
     "text": [
      "3FO4JATP1JBQ_Bedroom.zip\n",
      "3FO4JATGK794_Guest_room.zip\n",
      "3FO4JATGK794_Bedroom.zip\n",
      "3FO4JATGK0K2_Bedroom.zip\n",
      "3FO4JATCLULQ_Guest_room.zip\n",
      "3FO4JATCLULQ_Bedroom.zip\n",
      "3FO4JAST62DL_Guest_room.zip\n",
      "3FO4JAST62DL_Bedroom.zip\n",
      "3FO4JASSJU39_Guest_room.zip\n",
      "3FO4JASSJU39_Bedroom.zip\n",
      "3FO4JASMR4SM_Guest_room.zip\n",
      "3FO4JASMR4SM_Bedroom.zip\n",
      "3FO4JASI94DD_Guest_room.zip\n",
      "3FO4JASI94DD_Bedroom.zip\n",
      "3FO4JASHTL51_Bedroom.zip\n",
      "3FO4JASDFHRX_Living_room.zip\n"
     ]
    },
    {
     "name": "stderr",
     "output_type": "stream",
     "text": [
      "Downloading...\n",
      "From: https://drive.google.com/uc?id=1JCSgb_cJIACr1cJUY_Z1zNfpMaCXutzx&export=download\n",
      "To: /media/scratch1/erbachj/Mask_RCNN/data/InteriorNet/data/HD7/train/3FO4JASDFHRX_Living_room.zip\n",
      "67.0MB [00:00, 89.1MB/s]\n"
     ]
    },
    {
     "name": "stdout",
     "output_type": "stream",
     "text": [
      "3FO4JASDFHRX_Guest_room.zip\n",
      "3FO4JASDFHRX_Bedroom.zip\n",
      "3FO4JAS7F8D2_Guest_room.zip\n",
      "3FO4JAS7F8D2_Bedroom.zip\n",
      "3FO4JARDNV43_Guest_room.zip\n",
      "3FO4JARDNV43_Bedroom.zip\n",
      "3FO4JAQYHE1L_Dining_room.zip\n"
     ]
    },
    {
     "name": "stderr",
     "output_type": "stream",
     "text": [
      "Downloading...\n",
      "From: https://drive.google.com/uc?id=1e3R8KHz8sf0veJsUA5ywAAVrTrcGZQaT&export=download\n",
      "To: /media/scratch1/erbachj/Mask_RCNN/data/InteriorNet/data/HD7/train/3FO4JAQYHE1L_Dining_room.zip\n",
      "73.9MB [00:01, 62.8MB/s]\n"
     ]
    },
    {
     "name": "stdout",
     "output_type": "stream",
     "text": [
      "3FO4JAQYHE1L_Bedroom.zip\n",
      "3FO4JAQ5PU3K_Guest_room.zip\n",
      "3FO4JAQ5PU3K_Bedroom.zip\n",
      "3FO4JAO3FJJT_Bedroom.zip\n",
      "3FO4JANILHR9_Guest_room.zip\n",
      "3FO4JANILHR9_Bedroom.zip\n",
      "3FO4JANI7WY7_Living_room.zip\n"
     ]
    },
    {
     "name": "stderr",
     "output_type": "stream",
     "text": [
      "Downloading...\n",
      "From: https://drive.google.com/uc?id=1GoGXKkzH5wH2k1dHoch71VzZZCfCWAUe&export=download\n",
      "To: /media/scratch1/erbachj/Mask_RCNN/data/InteriorNet/data/HD7/train/3FO4JANI7WY7_Living_room.zip\n",
      "60.9MB [00:00, 86.7MB/s]\n"
     ]
    },
    {
     "name": "stdout",
     "output_type": "stream",
     "text": [
      "3FO4JAMWP3LI_Bedroom.zip\n",
      "3FO4JAMJW8GK_Bedroom.zip\n",
      "3FO4JAMEEWN2_Living_room.zip\n"
     ]
    },
    {
     "name": "stderr",
     "output_type": "stream",
     "text": [
      "Downloading...\n",
      "From: https://drive.google.com/uc?id=1zuXAQQGYh3wYSxT7e3RZWFVcZ-ASBHX7&export=download\n",
      "To: /media/scratch1/erbachj/Mask_RCNN/data/InteriorNet/data/HD7/train/3FO4JAMEEWN2_Living_room.zip\n",
      "51.6MB [00:00, 66.0MB/s]\n"
     ]
    },
    {
     "name": "stdout",
     "output_type": "stream",
     "text": [
      "3FO4JAMEEWN2_Guest_room.zip\n",
      "3FO4JAMEEWN2_Dining_room.zip\n"
     ]
    },
    {
     "name": "stderr",
     "output_type": "stream",
     "text": [
      "Downloading...\n",
      "From: https://drive.google.com/uc?id=1VSZF-imL9tFUVrH0-xz4RQTxMYdv_wII&export=download\n",
      "To: /media/scratch1/erbachj/Mask_RCNN/data/InteriorNet/data/HD7/train/3FO4JAMEEWN2_Dining_room.zip\n",
      "59.5MB [00:00, 84.3MB/s]\n"
     ]
    },
    {
     "name": "stdout",
     "output_type": "stream",
     "text": [
      "3FO4JAMEEWN2_Bedroom.zip\n",
      "3FO4JAM5HC5K_Guest_room.zip\n",
      "3FO4JAM5HC5K_Bedroom.zip\n",
      "3FO4JAM5BOUV_Bedroom.zip\n",
      "3FO4JALOU7WX_Bedroom.zip\n",
      "3FO4JAKQ4IGT_Bedroom.zip\n",
      "3FO4JAKI7A4W_Living_room.zip\n"
     ]
    },
    {
     "name": "stderr",
     "output_type": "stream",
     "text": [
      "Downloading...\n",
      "From: https://drive.google.com/uc?id=1JKNtPGAwsgSGb53XhIKiiBL84TymwoFI&export=download\n",
      "To: /media/scratch1/erbachj/Mask_RCNN/data/InteriorNet/data/HD7/train/3FO4JAKI7A4W_Living_room.zip\n",
      "68.2MB [00:01, 60.4MB/s]\n"
     ]
    },
    {
     "name": "stdout",
     "output_type": "stream",
     "text": [
      "3FO4JAKI7A4W_Guest_room.zip\n",
      "3FO4JAKI7A4W_Bedroom.zip\n",
      "3FO4JAKHKYHJ_Living_room.zip\n"
     ]
    },
    {
     "name": "stderr",
     "output_type": "stream",
     "text": [
      "Downloading...\n",
      "From: https://drive.google.com/uc?id=1UxpMMFS69rUvuCZT5genIBDaGAWcfCus&export=download\n",
      "To: /media/scratch1/erbachj/Mask_RCNN/data/InteriorNet/data/HD7/train/3FO4JAKHKYHJ_Living_room.zip\n",
      "65.0MB [00:00, 81.7MB/s]\n"
     ]
    },
    {
     "name": "stdout",
     "output_type": "stream",
     "text": [
      "3FO4JAKHKYHJ_Dining_room.zip\n"
     ]
    },
    {
     "name": "stderr",
     "output_type": "stream",
     "text": [
      "Downloading...\n",
      "From: https://drive.google.com/uc?id=1o0-8hv1eQXwDP-dPqcJcSpkK0F2Eu-is&export=download\n",
      "To: /media/scratch1/erbachj/Mask_RCNN/data/InteriorNet/data/HD7/train/3FO4JAKHKYHJ_Dining_room.zip\n",
      "74.0MB [00:01, 43.9MB/s]\n"
     ]
    },
    {
     "name": "stdout",
     "output_type": "stream",
     "text": [
      "3FO4JAKHKYHJ_Bedroom.zip\n",
      "3FO4JAK6W5OQ_Guest_room.zip\n",
      "3FO4JAK6W5OQ_Bedroom.zip\n",
      "3FO4JAJG91T5_Guest_room.zip\n",
      "3FO4JAJG91T5_Bedroom.zip\n",
      "3FO4JAJG83DU_Living_room.zip\n"
     ]
    },
    {
     "name": "stderr",
     "output_type": "stream",
     "text": [
      "Downloading...\n",
      "From: https://drive.google.com/uc?id=1RAbV0fejQVLf6zjR8e1yeDmhvyeYQaZN&export=download\n",
      "To: /media/scratch1/erbachj/Mask_RCNN/data/InteriorNet/data/HD7/train/3FO4JAJG83DU_Living_room.zip\n",
      "69.5MB [00:00, 71.7MB/s]\n"
     ]
    },
    {
     "name": "stdout",
     "output_type": "stream",
     "text": [
      "3FO4JAJG83DU_Guest_room.zip\n",
      "3FO4JAJG83DU_Bedroom.zip\n",
      "3FO4JAJ7DN8B_Guest_room.zip\n",
      "3FO4JAJ7DN8B_Bedroom.zip\n",
      "3FO4JAIQ2TRL_Guest_room.zip\n",
      "3FO4JAIQ2TRL_Bedroom.zip\n",
      "3FO4JAHYV3VF_Guest_room.zip\n",
      "3FO4JAHP6UHY_Living_room.zip\n"
     ]
    },
    {
     "name": "stderr",
     "output_type": "stream",
     "text": [
      "Downloading...\n",
      "From: https://drive.google.com/uc?id=1E_3BFGuT94hlEFP9JnBpUJS1GlRct23F&export=download\n",
      "To: /media/scratch1/erbachj/Mask_RCNN/data/InteriorNet/data/HD7/train/3FO4JAHP6UHY_Living_room.zip\n",
      "44.1MB [00:01, 33.4MB/s]\n"
     ]
    },
    {
     "name": "stdout",
     "output_type": "stream",
     "text": [
      "3FO4JAHP6UHY_Guest_room.zip\n",
      "3FO4JAHP6UHY_Bedroom.zip\n",
      "3FO4JAHLWERQ_Guest_room.zip\n",
      "3FO4JAHLWERQ_Bedroom.zip\n",
      "3FO4JAH3TELF_Bedroom.zip\n",
      "3FO4JAGQJEPT_Bedroom.zip\n",
      "3FO4JAGMQFC2_Living_room.zip\n"
     ]
    },
    {
     "name": "stderr",
     "output_type": "stream",
     "text": [
      "Downloading...\n",
      "From: https://drive.google.com/uc?id=1rT4oiqAyUZst7xE7ezoHqH4mw1YlbecW&export=download\n",
      "To: /media/scratch1/erbachj/Mask_RCNN/data/InteriorNet/data/HD7/train/3FO4JAGMQFC2_Living_room.zip\n",
      "70.4MB [00:01, 64.6MB/s]\n"
     ]
    },
    {
     "name": "stdout",
     "output_type": "stream",
     "text": [
      "3FO4JAGMQFC2_Guest_room.zip\n",
      "3FO4JAGMQFC2_Dining_room.zip\n"
     ]
    },
    {
     "name": "stderr",
     "output_type": "stream",
     "text": [
      "Downloading...\n",
      "From: https://drive.google.com/uc?id=1wF5bsCkqsiXZXa-9puq6uMGniL3bN1PP&export=download\n",
      "To: /media/scratch1/erbachj/Mask_RCNN/data/InteriorNet/data/HD7/train/3FO4JAGMQFC2_Dining_room.zip\n",
      "74.6MB [00:03, 19.9MB/s]\n"
     ]
    },
    {
     "name": "stdout",
     "output_type": "stream",
     "text": [
      "3FO4JAGMQFC2_Bedroom.zip\n",
      "3FO4JAFX2P6Q_Living_room.zip\n"
     ]
    },
    {
     "name": "stderr",
     "output_type": "stream",
     "text": [
      "Downloading...\n",
      "From: https://drive.google.com/uc?id=1nG_h3xoMQXKA8JoLTApTJw6SubbLHPch&export=download\n",
      "To: /media/scratch1/erbachj/Mask_RCNN/data/InteriorNet/data/HD7/train/3FO4JAFX2P6Q_Living_room.zip\n",
      "60.8MB [00:00, 78.8MB/s]\n"
     ]
    },
    {
     "name": "stdout",
     "output_type": "stream",
     "text": [
      "3FO4JAFEV2XC_Guest_room.zip\n",
      "3FO4JAFEV2XC_Bedroom.zip\n",
      "3FO4JAEUFUYW_Dining_room.zip\n"
     ]
    },
    {
     "name": "stderr",
     "output_type": "stream",
     "text": [
      "Downloading...\n",
      "From: https://drive.google.com/uc?id=1p9JDqOorxdDf4mGGyZ7wj00xX_tOByX_&export=download\n",
      "To: /media/scratch1/erbachj/Mask_RCNN/data/InteriorNet/data/HD7/train/3FO4JAEUFUYW_Dining_room.zip\n",
      "63.8MB [00:02, 31.2MB/s]\n"
     ]
    },
    {
     "name": "stdout",
     "output_type": "stream",
     "text": [
      "3FO4JAEUFUYW_Bedroom.zip\n",
      "3FO4JAET1KN6_Living_room.zip\n"
     ]
    },
    {
     "name": "stderr",
     "output_type": "stream",
     "text": [
      "Downloading...\n",
      "From: https://drive.google.com/uc?id=1ECA1JR-V3HWivyiR_-r4YgeyxsjSc-qb&export=download\n",
      "To: /media/scratch1/erbachj/Mask_RCNN/data/InteriorNet/data/HD7/train/3FO4JAET1KN6_Living_room.zip\n",
      "61.6MB [00:01, 61.5MB/s]\n"
     ]
    },
    {
     "name": "stdout",
     "output_type": "stream",
     "text": [
      "3FO4JAET1KN6_Guest_room.zip\n",
      "3FO4JAET1KN6_Bedroom.zip\n",
      "3FO4JAEDQOF7_Living_room.zip\n"
     ]
    },
    {
     "name": "stderr",
     "output_type": "stream",
     "text": [
      "Downloading...\n",
      "From: https://drive.google.com/uc?id=1ZmYZ08yehspPDVYQZYYqvw2ydsjUhv9I&export=download\n",
      "To: /media/scratch1/erbachj/Mask_RCNN/data/InteriorNet/data/HD7/train/3FO4JAEDQOF7_Living_room.zip\n",
      "73.2MB [00:00, 80.3MB/s]\n"
     ]
    },
    {
     "name": "stdout",
     "output_type": "stream",
     "text": [
      "3FO4JAEDQOF7_Guest_room.zip\n",
      "3FO4JAEDQOF7_Bedroom.zip\n",
      "3FO4JAED4PDM_Bedroom.zip\n",
      "3FO4JAE7EKDR_Bedroom.zip\n",
      "3FO4JADWYBB0_Living_room.zip\n"
     ]
    },
    {
     "name": "stderr",
     "output_type": "stream",
     "text": [
      "Downloading...\n",
      "From: https://drive.google.com/uc?id=1nNpEmZ-A6EcShbxBoMEnzY_-BMvKmqU_&export=download\n",
      "To: /media/scratch1/erbachj/Mask_RCNN/data/InteriorNet/data/HD7/train/3FO4JADWYBB0_Living_room.zip\n",
      "58.6MB [00:01, 38.1MB/s]\n"
     ]
    },
    {
     "name": "stdout",
     "output_type": "stream",
     "text": [
      "3FO4JADWYBB0_Guest_room.zip\n",
      "3FO4JADWYBB0_Bedroom.zip\n",
      "3FO4JADD9U0S_Living_room.zip\n"
     ]
    },
    {
     "name": "stderr",
     "output_type": "stream",
     "text": [
      "Downloading...\n",
      "From: https://drive.google.com/uc?id=1XXDJnfs7EL3B59q4Nbq-hwaqSuKWERwq&export=download\n",
      "To: /media/scratch1/erbachj/Mask_RCNN/data/InteriorNet/data/HD7/train/3FO4JADD9U0S_Living_room.zip\n",
      "58.8MB [00:00, 68.0MB/s]\n"
     ]
    },
    {
     "name": "stdout",
     "output_type": "stream",
     "text": [
      "3FO4JADD9U0S_Bedroom.zip\n",
      "3FO4JADAAPEN_Bedroom.zip\n",
      "3FO4JAD6G7IF_Guest_room.zip\n",
      "3FO4JAD6G7IF_Bedroom.zip\n",
      "3FO4JAD3JN72_Guest_room.zip\n",
      "3FO4JAD3JN72_Bedroom.zip\n",
      "3FO4JACAX8L1_Guest_room.zip\n",
      "3FO4JACAX8L1_Bedroom.zip\n",
      "3FO4JAC9KXGV_Guest_room.zip\n",
      "3FO4JAC9KXGV_Bedroom.zip\n",
      "3FO4JABKHH6M_Guest_room.zip\n",
      "3FO4JABKHH6M_Bedroom.zip\n",
      "3FO4JABD4J9H_Guest_room.zip\n",
      "3FO4JABD4J9H_Bedroom.zip\n",
      "3FO4JAALJILC_Guest_room.zip\n",
      "3FO4JAALJILC_Bedroom.zip\n",
      "3FO4JAAKHWYE_Living_room.zip\n"
     ]
    },
    {
     "name": "stderr",
     "output_type": "stream",
     "text": [
      "Downloading...\n",
      "From: https://drive.google.com/uc?id=1CvLsDyxqummyT6Qj5xyZAiWMnrR8Ag3_&export=download\n",
      "To: /media/scratch1/erbachj/Mask_RCNN/data/InteriorNet/data/HD7/train/3FO4JAAKHWYE_Living_room.zip\n",
      "56.3MB [00:01, 54.4MB/s]\n"
     ]
    },
    {
     "name": "stdout",
     "output_type": "stream",
     "text": [
      "3FO4JAA7ULR4_Guest_room.zip\n",
      "3FO4JAA7ULR4_Bedroom.zip\n",
      "3FO4JA9I2B4F_Bedroom.zip\n",
      "3FO4JA9GISNF_Living_room.zip\n"
     ]
    },
    {
     "name": "stderr",
     "output_type": "stream",
     "text": [
      "Downloading...\n",
      "From: https://drive.google.com/uc?id=1-JEXRHo7Ym_Wqy76Plqeb17b-xTiLHbf&export=download\n",
      "To: /media/scratch1/erbachj/Mask_RCNN/data/InteriorNet/data/HD7/train/3FO4JA9GISNF_Living_room.zip\n",
      "67.9MB [00:00, 68.0MB/s]\n"
     ]
    },
    {
     "name": "stdout",
     "output_type": "stream",
     "text": [
      "3FO4JA9GISNF_Bedroom.zip\n",
      "3FO4JA9C3XK4_Guest_room.zip\n",
      "3FO4JA9C3XK4_Bedroom.zip\n",
      "3FO4JA98VLEI_Living_room.zip\n"
     ]
    },
    {
     "name": "stderr",
     "output_type": "stream",
     "text": [
      "Downloading...\n",
      "From: https://drive.google.com/uc?id=1OmSa3a0OWV4DXfKXsPF1iYCXW3vMD1Ae&export=download\n",
      "To: /media/scratch1/erbachj/Mask_RCNN/data/InteriorNet/data/HD7/train/3FO4JA98VLEI_Living_room.zip\n",
      "38.8MB [00:00, 82.0MB/s]\n"
     ]
    },
    {
     "name": "stdout",
     "output_type": "stream",
     "text": [
      "3FO4JA96S8GK_Guest_room.zip\n",
      "3FO4JA96S8GK_Bedroom.zip\n",
      "3FO4JA9613UG_Guest_room.zip\n",
      "3FO4JA95PB18_Guest_room.zip\n",
      "3FO4JA95PB18_Bedroom.zip\n",
      "3FO4JA928YJX_Guest_room.zip\n",
      "3FO4JA928YJX_Bedroom.zip\n",
      "3FO4JA8KUY7K_Guest_room.zip\n",
      "3FO4JA8KUY7K_Bedroom.zip\n",
      "3FO4JA8ATYJL_Bedroom.zip\n",
      "3FO4JA89RC5C_Bedroom.zip\n",
      "3FO4JA89PILS_Living_room.zip\n"
     ]
    },
    {
     "name": "stderr",
     "output_type": "stream",
     "text": [
      "Downloading...\n",
      "From: https://drive.google.com/uc?id=1P6XMhmmVrjUeHaDAXhFWw8_KRxm-oJVK&export=download\n",
      "To: /media/scratch1/erbachj/Mask_RCNN/data/InteriorNet/data/HD7/train/3FO4JA89PILS_Living_room.zip\n",
      "72.1MB [00:01, 43.2MB/s]\n"
     ]
    },
    {
     "name": "stdout",
     "output_type": "stream",
     "text": [
      "3FO4JA89PILS_Guest_room.zip\n",
      "3FO4JA89PILS_Dining_room.zip\n"
     ]
    },
    {
     "name": "stderr",
     "output_type": "stream",
     "text": [
      "Downloading...\n",
      "From: https://drive.google.com/uc?id=1ag7ApEcI9cns-ix3p3cNDV4BIKtfeToX&export=download\n",
      "To: /media/scratch1/erbachj/Mask_RCNN/data/InteriorNet/data/HD7/train/3FO4JA89PILS_Dining_room.zip\n",
      "73.9MB [00:02, 33.4MB/s]\n"
     ]
    },
    {
     "name": "stdout",
     "output_type": "stream",
     "text": [
      "3FO4JA89PILS_Bedroom.zip\n",
      "3FO4JA84MTDN_Guest_room.zip\n",
      "3FO4JA84MTDN_Bedroom.zip\n",
      "3FO4JA84LAV7_Bedroom.zip\n",
      "3FO4JA84IPLF_Guest_room.zip\n",
      "3FO4JA84IPLF_Bedroom.zip\n",
      "3FO4JA7V9Q00_Guest_room.zip\n",
      "3FO4JA7V9Q00_Bedroom.zip\n",
      "3FO4JA7S9TMM_Living_room.zip\n"
     ]
    },
    {
     "name": "stderr",
     "output_type": "stream",
     "text": [
      "Downloading...\n",
      "From: https://drive.google.com/uc?id=1Tas04KK0ljuw79vimE4Gufg4Dfra6Hu5&export=download\n",
      "To: /media/scratch1/erbachj/Mask_RCNN/data/InteriorNet/data/HD7/train/3FO4JA7S9TMM_Living_room.zip\n",
      "65.6MB [00:02, 22.5MB/s]\n"
     ]
    },
    {
     "name": "stdout",
     "output_type": "stream",
     "text": [
      "3FO4JA7S9TMM_Guest_room.zip\n",
      "3FO4JA7S9TMM_Bedroom.zip\n",
      "3FO4J9WASWMA_Living_room.zip\n"
     ]
    },
    {
     "name": "stderr",
     "output_type": "stream",
     "text": [
      "Downloading...\n",
      "From: https://drive.google.com/uc?id=1Q83-IOgc6KuAQoUt4s9HpmSsvyCxgHAQ&export=download\n",
      "To: /media/scratch1/erbachj/Mask_RCNN/data/InteriorNet/data/HD7/train/3FO4J9WASWMA_Living_room.zip\n",
      "61.7MB [00:01, 59.1MB/s]\n"
     ]
    },
    {
     "name": "stdout",
     "output_type": "stream",
     "text": [
      "3FO4J9WASWMA_Guest_room.zip\n",
      "3FO4J9WASWMA_Dining_room.zip\n"
     ]
    },
    {
     "name": "stderr",
     "output_type": "stream",
     "text": [
      "Downloading...\n",
      "From: https://drive.google.com/uc?id=1bBGDvXN-0KeGFLdXZrh90vA-VgGTEC7Z&export=download\n",
      "To: /media/scratch1/erbachj/Mask_RCNN/data/InteriorNet/data/HD7/train/3FO4J9WASWMA_Dining_room.zip\n",
      "59.3MB [00:01, 47.3MB/s]\n"
     ]
    },
    {
     "name": "stdout",
     "output_type": "stream",
     "text": [
      "3FO4J9WASWMA_Bedroom.zip\n",
      "3FO4J9WAD99L_Guest_room.zip\n",
      "3FO4J9WAD99L_Bedroom.zip\n",
      "3FO4J9W9J4FV_Bedroom.zip\n",
      "3FO4J9VYXERH_Guest_room.zip\n",
      "3FO4J9VYXERH_Bedroom.zip\n",
      "3FO4J9VVLR5L_Guest_room.zip\n",
      "3FO4J9V66UTG_Guest_room.zip\n",
      "3FO4J9V66UTG_Bedroom.zip\n",
      "3FO4J9UKVNY2_Bedroom.zip\n",
      "3FO4J9UBCRT7_Living_room.zip\n"
     ]
    },
    {
     "name": "stderr",
     "output_type": "stream",
     "text": [
      "Downloading...\n",
      "From: https://drive.google.com/uc?id=10jYbrKoVsLuF9ENYQwOuD60cDDe4Mbot&export=download\n",
      "To: /media/scratch1/erbachj/Mask_RCNN/data/InteriorNet/data/HD7/train/3FO4J9UBCRT7_Living_room.zip\n",
      "56.6MB [00:00, 57.9MB/s]\n"
     ]
    },
    {
     "name": "stdout",
     "output_type": "stream",
     "text": [
      "3FO4J9UBCRT7_Guest_room.zip\n",
      "3FO4J9UBCRT7_Bedroom.zip\n",
      "3FO4J9TKUYMH_Living_room.zip\n"
     ]
    },
    {
     "name": "stderr",
     "output_type": "stream",
     "text": [
      "Downloading...\n",
      "From: https://drive.google.com/uc?id=1H1G8fk1eFr3fH8vA6ynP9WFpIW_GZi-h&export=download\n",
      "To: /media/scratch1/erbachj/Mask_RCNN/data/InteriorNet/data/HD7/train/3FO4J9TKUYMH_Living_room.zip\n",
      "53.8MB [00:02, 24.6MB/s]\n"
     ]
    },
    {
     "name": "stdout",
     "output_type": "stream",
     "text": [
      "3FO4J9TKUYMH_Guest_room.zip\n",
      "3FO4J9TKUYMH_Bedroom.zip\n",
      "3FO4J9TK56TR_Guest_room.zip\n",
      "3FO4J9NYAJWQ_Guest_room.zip\n",
      "3FO4J9LHUE60_Bedroom.zip\n",
      "3FO4J9GOH4MH_Guest_room.zip\n",
      "3FO4J9DF5BHN_Guest_room.zip\n",
      "3FO4J98NK3S0_Guest_room.zip\n",
      "3FO4J967W2MD_Living_room.zip\n"
     ]
    },
    {
     "name": "stderr",
     "output_type": "stream",
     "text": [
      "Downloading...\n",
      "From: https://drive.google.com/uc?id=1VLGFqwdScm0dFus6C1FYcLj-KiqYCCeH&export=download\n",
      "To: /media/scratch1/erbachj/Mask_RCNN/data/InteriorNet/data/HD7/train/3FO4J967W2MD_Living_room.zip\n",
      "62.5MB [00:02, 21.7MB/s]\n"
     ]
    },
    {
     "name": "stdout",
     "output_type": "stream",
     "text": [
      "3FO4J94Q4837_Guest_room.zip\n",
      "3FO4J93S6EYF_Guest_room.zip\n",
      "3FO4J90RDMJ1_Bedroom.zip\n",
      "3FO4J8YCLKN1_Bedroom.zip\n",
      "3FO4J8TWMDJS_Bedroom.zip\n",
      "3FO4J8Q16XCL_Guest_room.zip\n",
      "3FO4J8NXA8TG_Bedroom.zip\n",
      "3FO4J9THQ12L_Bedroom.zip\n",
      "3FO4J9T9SL1M_Living_room.zip\n"
     ]
    },
    {
     "name": "stderr",
     "output_type": "stream",
     "text": [
      "Downloading...\n",
      "From: https://drive.google.com/uc?id=1M7mezoU_87H6VZO41QCj8AVvPhAxHCOF&export=download\n",
      "To: /media/scratch1/erbachj/Mask_RCNN/data/InteriorNet/data/HD7/train/3FO4J9T9SL1M_Living_room.zip\n",
      "54.0MB [00:02, 27.0MB/s]\n"
     ]
    },
    {
     "name": "stdout",
     "output_type": "stream",
     "text": [
      "3FO4J9T9SL1M_Guest_room.zip\n",
      "3FO4J9T9SL1M_Dining_room.zip\n"
     ]
    },
    {
     "name": "stderr",
     "output_type": "stream",
     "text": [
      "Downloading...\n",
      "From: https://drive.google.com/uc?id=1ZOFuhU9bcxfCIU5w-_hkjojrYjmCbcC3&export=download\n",
      "To: /media/scratch1/erbachj/Mask_RCNN/data/InteriorNet/data/HD7/train/3FO4J9T9SL1M_Dining_room.zip\n",
      "62.6MB [00:02, 30.4MB/s]\n"
     ]
    },
    {
     "name": "stdout",
     "output_type": "stream",
     "text": [
      "3FO4J9SK40S2_Guest_room.zip\n",
      "3FO4J9SK40S2_Bedroom.zip\n",
      "3FO4J9SJ6SYF_Living_room.zip\n"
     ]
    },
    {
     "name": "stderr",
     "output_type": "stream",
     "text": [
      "Downloading...\n",
      "From: https://drive.google.com/uc?id=1mmzqIo5OQqvernyI9wwfJu001QEcVaRo&export=download\n",
      "To: /media/scratch1/erbachj/Mask_RCNN/data/InteriorNet/data/HD7/train/3FO4J9SJ6SYF_Living_room.zip\n",
      "63.1MB [00:01, 46.0MB/s]\n"
     ]
    },
    {
     "name": "stdout",
     "output_type": "stream",
     "text": [
      "3FO4J9SJ6SYF_Guest_room.zip\n",
      "3FO4J9SJ6SYF_Dining_room.zip\n"
     ]
    },
    {
     "name": "stderr",
     "output_type": "stream",
     "text": [
      "Downloading...\n",
      "From: https://drive.google.com/uc?id=1_ef4aDn8IW5LWj-m7acu-SfD7Jwt-HP6&export=download\n",
      "To: /media/scratch1/erbachj/Mask_RCNN/data/InteriorNet/data/HD7/train/3FO4J9SJ6SYF_Dining_room.zip\n",
      "68.6MB [00:00, 104MB/s] \n"
     ]
    },
    {
     "name": "stdout",
     "output_type": "stream",
     "text": [
      "3FO4J9SJ6SYF_Bedroom.zip\n",
      "3FO4J9S6SR3W_Guest_room.zip\n",
      "3FO4J9S6SR3W_Bedroom.zip\n",
      "3FO4J9RVB5MY_Living_room.zip\n"
     ]
    },
    {
     "name": "stderr",
     "output_type": "stream",
     "text": [
      "Downloading...\n",
      "From: https://drive.google.com/uc?id=1iGityNE83V99sSYbRNMe2ycbtnbPlbVJ&export=download\n",
      "To: /media/scratch1/erbachj/Mask_RCNN/data/InteriorNet/data/HD7/train/3FO4J9RVB5MY_Living_room.zip\n",
      "41.8MB [00:00, 67.6MB/s]\n"
     ]
    },
    {
     "name": "stdout",
     "output_type": "stream",
     "text": [
      "3FO4J9RLOO8C_Guest_room.zip\n",
      "3FO4J9RDU4I8_Bedroom.zip\n",
      "3FO4J9QUPASD_Bedroom.zip\n",
      "3FO4J9QPRXST_Bedroom.zip\n",
      "3FO4J9PYV2BL_Living_room.zip\n"
     ]
    },
    {
     "name": "stderr",
     "output_type": "stream",
     "text": [
      "Downloading...\n",
      "From: https://drive.google.com/uc?id=1kZ4SszfJhJw0THhxee9A_7QG8odf_ERz&export=download\n",
      "To: /media/scratch1/erbachj/Mask_RCNN/data/InteriorNet/data/HD7/train/3FO4J9PYV2BL_Living_room.zip\n",
      "72.7MB [00:00, 75.9MB/s]\n"
     ]
    },
    {
     "name": "stdout",
     "output_type": "stream",
     "text": [
      "3FO4J9PYV2BL_Guest_room.zip\n",
      "3FO4J9PYV2BL_Bedroom.zip\n",
      "3FO4J9PR8QPN_Guest_room.zip\n",
      "3FO4J9PR8QPN_Bedroom.zip\n",
      "3FO4J9PQHDUR_Living_room.zip\n"
     ]
    },
    {
     "name": "stderr",
     "output_type": "stream",
     "text": [
      "Downloading...\n",
      "From: https://drive.google.com/uc?id=1Q52CswdvshTrBsi2tUi5qMzQhqoOoHIF&export=download\n",
      "To: /media/scratch1/erbachj/Mask_RCNN/data/InteriorNet/data/HD7/train/3FO4J9PQHDUR_Living_room.zip\n",
      "67.0MB [00:01, 63.5MB/s]\n"
     ]
    },
    {
     "name": "stdout",
     "output_type": "stream",
     "text": [
      "3FO4J9PQHDUR_Guest_room.zip\n",
      "3FO4J9PQHDUR_Dining_room.zip\n"
     ]
    },
    {
     "name": "stderr",
     "output_type": "stream",
     "text": [
      "Downloading...\n",
      "From: https://drive.google.com/uc?id=1ZzpvT8cs6nqNmFfBd0JM0xvekOQvKnCy&export=download\n",
      "To: /media/scratch1/erbachj/Mask_RCNN/data/InteriorNet/data/HD7/train/3FO4J9PQHDUR_Dining_room.zip\n",
      "66.6MB [00:00, 83.9MB/s]\n"
     ]
    },
    {
     "name": "stdout",
     "output_type": "stream",
     "text": [
      "3FO4J9PQHDUR_Bedroom.zip\n",
      "3FO4J9O3SH0Y_Bedroom.zip\n",
      "3FO4J9NYAJWQ_Living_room.zip\n"
     ]
    },
    {
     "name": "stderr",
     "output_type": "stream",
     "text": [
      "Downloading...\n",
      "From: https://drive.google.com/uc?id=1E0p-eJ_e2ycCJG3v4RLU7FXRIansTc4c&export=download\n",
      "To: /media/scratch1/erbachj/Mask_RCNN/data/InteriorNet/data/HD7/train/3FO4J9NYAJWQ_Living_room.zip\n",
      "74.9MB [00:01, 46.3MB/s]\n"
     ]
    },
    {
     "name": "stdout",
     "output_type": "stream",
     "text": [
      "3FO4J9NYAJWQ_Bedroom.zip\n",
      "3FO4J9NM1VUJ_Guest_room.zip\n",
      "3FO4J9NM1VUJ_Bedroom.zip\n",
      "3FO4J9N4BLE1_Guest_room.zip\n",
      "3FO4J9N4BLE1_Bedroom.zip\n",
      "3FO4J9MQF7J1_Living_room.zip\n"
     ]
    },
    {
     "name": "stderr",
     "output_type": "stream",
     "text": [
      "Downloading...\n",
      "From: https://drive.google.com/uc?id=1tfvl_1doCfyPytvWEsbN8onQ7mICUVIN&export=download\n",
      "To: /media/scratch1/erbachj/Mask_RCNN/data/InteriorNet/data/HD7/train/3FO4J9MQF7J1_Living_room.zip\n",
      "70.8MB [00:00, 94.5MB/s]\n"
     ]
    },
    {
     "name": "stdout",
     "output_type": "stream",
     "text": [
      "3FO4J9MQF7J1_Guest_room.zip\n",
      "3FO4J9MQF7J1_Bedroom.zip\n",
      "3FO4J9MF1TEV_Guest_room.zip\n",
      "3FO4J9MF1TEV_Bedroom.zip\n",
      "3FO4J9M75655_Guest_room.zip\n",
      "3FO4J9M75655_Bedroom.zip\n",
      "3FO4J9LMB10J_Guest_room.zip\n",
      "3FO4J9LMB10J_Bedroom.zip\n",
      "3FO4J9KUJBAE_Guest_room.zip\n",
      "3FO4J9KUJBAE_Bedroom.zip\n",
      "3FO4J9KOHP24_Bedroom.zip\n",
      "3FO4J9KM8I5F_Bedroom.zip\n",
      "3FO4J9JKP9S5_Guest_room.zip\n",
      "3FO4J9JKP9S5_Bedroom.zip\n",
      "3FO4J9IV39TC_Living_room.zip\n"
     ]
    },
    {
     "name": "stderr",
     "output_type": "stream",
     "text": [
      "Downloading...\n",
      "From: https://drive.google.com/uc?id=1z84k_cVkZwA6q277FzWWCWCWhcFQjcse&export=download\n",
      "To: /media/scratch1/erbachj/Mask_RCNN/data/InteriorNet/data/HD7/train/3FO4J9IV39TC_Living_room.zip\n",
      "61.6MB [00:00, 90.2MB/s]\n"
     ]
    },
    {
     "name": "stdout",
     "output_type": "stream",
     "text": [
      "3FO4J9IV39TC_Bedroom.zip\n",
      "3FO4J9IN5QGC_Guest_room.zip\n",
      "3FO4J9IN5QGC_Bedroom.zip\n",
      "3FO4J9I8PK49_Living_room.zip\n"
     ]
    },
    {
     "name": "stderr",
     "output_type": "stream",
     "text": [
      "Downloading...\n",
      "From: https://drive.google.com/uc?id=1KszjXO_1GHATPcH30JqbrLpHhNldK_61&export=download\n",
      "To: /media/scratch1/erbachj/Mask_RCNN/data/InteriorNet/data/HD7/train/3FO4J9I8PK49_Living_room.zip\n",
      "52.5MB [00:02, 24.7MB/s]\n"
     ]
    },
    {
     "name": "stdout",
     "output_type": "stream",
     "text": [
      "3FO4J9I8PK49_Guest_room.zip\n",
      "3FO4J9HYGP2E_Guest_room.zip\n",
      "3FO4J9HYGP2E_Bedroom.zip\n",
      "3FO4J9GOH4MH_Bedroom.zip\n",
      "3FO4J9GLB7MB_Guest_room.zip\n",
      "3FO4J9GLB7MB_Bedroom.zip\n",
      "3FO4J9GIJSUH_Guest_room.zip\n",
      "3FO4J9GIJSUH_Bedroom.zip\n",
      "3FO4J9FY8MC9_Guest_room.zip\n",
      "3FO4J9FY8MC9_Bedroom.zip\n",
      "3FO4J9FY88Y5_Guest_room.zip\n",
      "3FO4J9FY88Y5_Bedroom.zip\n",
      "3FO4J9FWIMIB_Living_room.zip\n"
     ]
    },
    {
     "name": "stderr",
     "output_type": "stream",
     "text": [
      "Downloading...\n",
      "From: https://drive.google.com/uc?id=10ZW0y8ZZRyY-c1nU4j4n-QUVoTSiF7R7&export=download\n",
      "To: /media/scratch1/erbachj/Mask_RCNN/data/InteriorNet/data/HD7/train/3FO4J9FWIMIB_Living_room.zip\n",
      "65.8MB [00:00, 85.3MB/s]\n"
     ]
    },
    {
     "name": "stdout",
     "output_type": "stream",
     "text": [
      "3FO4J9FWIMIB_Guest_room.zip\n",
      "3FO4J9FWIMIB_Bedroom.zip\n",
      "3FO4J9E2VROU_Bedroom.zip\n",
      "3FO4J9DNL6U5_Bedroom.zip\n",
      "3FO4J9DF5BHN_Bedroom.zip\n",
      "3FO4J9C8QJOD_Bedroom.zip\n",
      "3FO4J9C6P09Y_Bedroom.zip\n",
      "3FO4J9B61U6O_Guest_room.zip\n",
      "3FO4J9B61U6O_Bedroom.zip\n",
      "3FO4J9B3CJYH_Guest_room.zip\n",
      "3FO4J9B3CJYH_Bedroom.zip\n",
      "3FO4J99NG4A6_Guest_room.zip\n",
      "3FO4J99NG4A6_Bedroom.zip\n",
      "3FO4J98TBUMC_Guest_room.zip\n",
      "3FO4J98TBUMC_Bedroom.zip\n",
      "3FO4J98NVNDG_Living_room.zip\n"
     ]
    },
    {
     "name": "stderr",
     "output_type": "stream",
     "text": [
      "Downloading...\n",
      "From: https://drive.google.com/uc?id=13R29pLzDOa7E8RK_Vrm_jKFYgheuIWbN&export=download\n",
      "To: /media/scratch1/erbachj/Mask_RCNN/data/InteriorNet/data/HD7/train/3FO4J98NVNDG_Living_room.zip\n",
      "61.9MB [00:02, 25.3MB/s]\n"
     ]
    },
    {
     "name": "stdout",
     "output_type": "stream",
     "text": [
      "3FO4J98NVNDG_Guest_room.zip\n",
      "3FO4J98NVNDG_Bedroom.zip\n",
      "3FO4J98NK3S0_Bedroom.zip\n",
      "3FO4J98C5AIF_Guest_room.zip\n",
      "3FO4J98C5AIF_Bedroom.zip\n",
      "3FO4J986LWWL_Bedroom.zip\n",
      "3FO4J980M57U_Guest_room.zip\n",
      "3FO4J980M57U_Bedroom.zip\n",
      "3FO4J97G6JVB_Guest_room.zip\n",
      "3FO4J97G6JVB_Bedroom.zip\n",
      "3FO4J97F59AG_Guest_room.zip\n",
      "3FO4J97F59AG_Bedroom.zip\n",
      "3FO4J96N727D_Guest_room.zip\n",
      "3FO4J96N727D_Bedroom.zip\n",
      "3FO4J969ELN3_Guest_room.zip\n",
      "3FO4J969ELN3_Bedroom.zip\n",
      "3FO4J967W2MD_Dining_room.zip\n"
     ]
    },
    {
     "name": "stderr",
     "output_type": "stream",
     "text": [
      "Downloading...\n",
      "From: https://drive.google.com/uc?id=1uh-zlErFVQmbS0Gc28xs9WDgk4XTU3sc&export=download\n",
      "To: /media/scratch1/erbachj/Mask_RCNN/data/InteriorNet/data/HD7/train/3FO4J967W2MD_Dining_room.zip\n",
      "63.7MB [00:00, 74.9MB/s]\n"
     ]
    },
    {
     "name": "stdout",
     "output_type": "stream",
     "text": [
      "3FO4J967W2MD_Bedroom.zip\n",
      "3FO4J966CP34_Guest_room.zip\n",
      "3FO4J966CP34_Bedroom.zip\n",
      "3FO4J9669QF8_Living_room.zip\n"
     ]
    },
    {
     "name": "stderr",
     "output_type": "stream",
     "text": [
      "Downloading...\n",
      "From: https://drive.google.com/uc?id=1wxQzlseswrdVfQV9mRmTnSoIVGoxyn-Q&export=download\n",
      "To: /media/scratch1/erbachj/Mask_RCNN/data/InteriorNet/data/HD7/train/3FO4J9669QF8_Living_room.zip\n",
      "75.9MB [00:00, 79.0MB/s]\n"
     ]
    },
    {
     "name": "stdout",
     "output_type": "stream",
     "text": [
      "3FO4J9669QF8_Guest_room.zip\n",
      "3FO4J9669QF8_Dining_room.zip\n"
     ]
    },
    {
     "name": "stderr",
     "output_type": "stream",
     "text": [
      "Downloading...\n",
      "From: https://drive.google.com/uc?id=1a9dmIugO1280590Yyj-q49Xs3qWNhVlX&export=download\n",
      "To: /media/scratch1/erbachj/Mask_RCNN/data/InteriorNet/data/HD7/train/3FO4J9669QF8_Dining_room.zip\n",
      "73.9MB [00:01, 67.3MB/s]\n"
     ]
    },
    {
     "name": "stdout",
     "output_type": "stream",
     "text": [
      "3FO4J9669QF8_Bedroom.zip\n",
      "3FO4J95IMHCA_Dining_room.zip\n"
     ]
    },
    {
     "name": "stderr",
     "output_type": "stream",
     "text": [
      "Downloading...\n",
      "From: https://drive.google.com/uc?id=1S39KeM_IEhqPOcAwVHdmcYdHH6Ukur1l&export=download\n",
      "To: /media/scratch1/erbachj/Mask_RCNN/data/InteriorNet/data/HD7/train/3FO4J95IMHCA_Dining_room.zip\n",
      "70.0MB [00:03, 22.1MB/s]\n"
     ]
    },
    {
     "name": "stdout",
     "output_type": "stream",
     "text": [
      "3FO4J95IMHCA_Bedroom.zip\n",
      "3FO4J95ADV3Y_Guest_room.zip\n",
      "3FO4J95ADV3Y_Bedroom.zip\n",
      "3FO4J94U0MU0_Guest_room.zip\n",
      "3FO4J94U0MU0_Bedroom.zip\n",
      "3FO4J94Q4837_Bedroom.zip\n",
      "3FO4J94MOP5G_Bedroom.zip\n",
      "3FO4J94ET0B0_Guest_room.zip\n",
      "3FO4J94ET0B0_Bedroom.zip\n",
      "3FO4J94DHXN8_Guest_room.zip\n",
      "3FO4J94DHXN8_Bedroom.zip\n",
      "3FO4J94BRUH9_Guest_room.zip\n",
      "3FO4J94BRUH9_Bedroom.zip\n",
      "3FO4J9472O9U_Bedroom.zip\n",
      "3FO4J93YU09A_Living_room.zip\n"
     ]
    },
    {
     "name": "stderr",
     "output_type": "stream",
     "text": [
      "Downloading...\n",
      "From: https://drive.google.com/uc?id=1UGRRSOPZSaz66ynb6N-mS74hniMEcA94&export=download\n",
      "To: /media/scratch1/erbachj/Mask_RCNN/data/InteriorNet/data/HD7/train/3FO4J93YU09A_Living_room.zip\n",
      "57.9MB [00:00, 86.5MB/s]\n"
     ]
    },
    {
     "name": "stdout",
     "output_type": "stream",
     "text": [
      "3FO4J93YU09A_Guest_room.zip\n",
      "3FO4J93YU09A_Bedroom.zip\n",
      "3FO4J93XL5I6_Guest_room.zip\n",
      "3FO4J93XL5I6_Bedroom.zip\n",
      "3FO4J93S6EYF_Bedroom.zip\n",
      "3FO4J932TAM4_Bedroom.zip\n",
      "3FO4J92KPKT2_Living_room.zip\n"
     ]
    },
    {
     "name": "stderr",
     "output_type": "stream",
     "text": [
      "Downloading...\n",
      "From: https://drive.google.com/uc?id=12B91qVNwoJy98jk1TSQwk4eMwq6KpMSa&export=download\n",
      "To: /media/scratch1/erbachj/Mask_RCNN/data/InteriorNet/data/HD7/train/3FO4J92KPKT2_Living_room.zip\n",
      "70.5MB [00:05, 13.4MB/s]\n"
     ]
    },
    {
     "name": "stdout",
     "output_type": "stream",
     "text": [
      "3FO4J92KPKT2_Guest_room.zip\n",
      "3FO4J92KPKT2_Dining_room.zip\n"
     ]
    },
    {
     "name": "stderr",
     "output_type": "stream",
     "text": [
      "Downloading...\n",
      "From: https://drive.google.com/uc?id=1IH6RhsI-9FLjd5H0hZteM9_ogmyE1a3j&export=download\n",
      "To: /media/scratch1/erbachj/Mask_RCNN/data/InteriorNet/data/HD7/train/3FO4J92KPKT2_Dining_room.zip\n",
      "54.6MB [00:01, 39.0MB/s]\n"
     ]
    },
    {
     "name": "stdout",
     "output_type": "stream",
     "text": [
      "3FO4J92KPKT2_Bedroom.zip\n",
      "3FO4J91VLTHP_Guest_room.zip\n",
      "3FO4J91VLTHP_Bedroom.zip\n",
      "3FO4J91RWKI2_Guest_room.zip\n",
      "3FO4J91RWKI2_Bedroom.zip\n",
      "3FO4J91P4X9U_Dining_room.zip\n"
     ]
    },
    {
     "name": "stderr",
     "output_type": "stream",
     "text": [
      "Downloading...\n",
      "From: https://drive.google.com/uc?id=117bl0W5Z8Z1cvEj8WoxkCRUEaoroyNbh&export=download\n",
      "To: /media/scratch1/erbachj/Mask_RCNN/data/InteriorNet/data/HD7/train/3FO4J91P4X9U_Dining_room.zip\n",
      "60.0MB [00:01, 48.2MB/s]\n"
     ]
    },
    {
     "name": "stdout",
     "output_type": "stream",
     "text": [
      "3FO4J91E9IR3_Living_room.zip\n"
     ]
    },
    {
     "name": "stderr",
     "output_type": "stream",
     "text": [
      "Downloading...\n",
      "From: https://drive.google.com/uc?id=1jiz5Ppp50CeNgZ8tGZvGRxQ2Sj4IZd3P&export=download\n",
      "To: /media/scratch1/erbachj/Mask_RCNN/data/InteriorNet/data/HD7/train/3FO4J91E9IR3_Living_room.zip\n",
      "66.4MB [00:01, 63.1MB/s]\n"
     ]
    },
    {
     "name": "stdout",
     "output_type": "stream",
     "text": [
      "3FO4J91E9IR3_Dining_room.zip\n"
     ]
    },
    {
     "name": "stderr",
     "output_type": "stream",
     "text": [
      "Downloading...\n",
      "From: https://drive.google.com/uc?id=1Vd_5MAOlW3h3Dw_rQEVuyr-XJqn6cMI0&export=download\n",
      "To: /media/scratch1/erbachj/Mask_RCNN/data/InteriorNet/data/HD7/train/3FO4J91E9IR3_Dining_room.zip\n",
      "62.7MB [00:02, 30.3MB/s]\n"
     ]
    },
    {
     "name": "stdout",
     "output_type": "stream",
     "text": [
      "3FO4J90RDMJ1_Guest_room.zip\n",
      "3FO4J90JPGTT_Bedroom.zip\n",
      "3FO4J90ALRCI_Bedroom.zip\n",
      "3FO4J903JSXN_Bedroom.zip\n",
      "3FO4J8YUTD0R_Bedroom.zip\n",
      "3FO4J8YU70L3_Guest_room.zip\n",
      "3FO4J8YU70L3_Bedroom.zip\n",
      "3FO4J8YQNAJ3_Bedroom.zip\n",
      "3FO4J8YLLN39_Guest_room.zip\n",
      "3FO4J8YLLN39_Bedroom.zip\n",
      "3FO4J8YKMTF5_Guest_room.zip\n",
      "3FO4J8YKMTF5_Bedroom.zip\n",
      "3FO4J8YE2YJE_Guest_room.zip\n",
      "3FO4J8YE2YJE_Bedroom.zip\n",
      "3FO4J8YCLKN1_Guest_room.zip\n",
      "3FO4J8Y9I5KL_Guest_room.zip\n",
      "3FO4J8Y9I5KL_Bedroom.zip\n",
      "3FO4J8WJXEX4_Guest_room.zip\n",
      "3FO4J8WJXEX4_Bedroom.zip\n",
      "3FO4J8VY4HP4_Guest_room.zip\n",
      "3FO4J8VY4HP4_Bedroom.zip\n",
      "3FO4J8VJ0M4X_Bedroom.zip\n",
      "3FO4J8UYLDLS_Bedroom.zip\n",
      "3FO4J8UJLIGT_Guest_room.zip\n",
      "3FO4J8UJLIGT_Bedroom.zip\n",
      "3FO4J8UDJIUF_Bedroom.zip\n",
      "3FO4J8UD85Y1_Guest_room.zip\n",
      "3FO4J8UD85Y1_Bedroom.zip\n",
      "3FO4J8TWMDJS_Guest_room.zip\n",
      "3FO4J8T0998W_Bedroom.zip\n",
      "3FO4J8SX2J9Y_Guest_room.zip\n",
      "3FO4J8SX2J9Y_Bedroom.zip\n",
      "3FO4J8SM3B12_Guest_room.zip\n",
      "3FO4J8SM3B12_Bedroom.zip\n",
      "3FO4J8SCQHBB_Bedroom.zip\n",
      "3FO4J8RVKJE2_Guest_room.zip\n",
      "3FO4J8RVKJE2_Bedroom.zip\n",
      "3FO4J8RCMCLP_Living_room.zip\n"
     ]
    },
    {
     "name": "stderr",
     "output_type": "stream",
     "text": [
      "Downloading...\n",
      "From: https://drive.google.com/uc?id=1bLoDkhZOvnGKMapslIzapVE2PbTuABUS&export=download\n",
      "To: /media/scratch1/erbachj/Mask_RCNN/data/InteriorNet/data/HD7/train/3FO4J8RCMCLP_Living_room.zip\n",
      "50.2MB [00:00, 65.6MB/s]\n"
     ]
    },
    {
     "name": "stdout",
     "output_type": "stream",
     "text": [
      "3FO4J8RCMCLP_Guest_room.zip\n",
      "3FO4J8RCMCLP_Bedroom.zip\n",
      "3FO4J8RC1SPK_Bedroom.zip\n",
      "3FO4J8QOK089_Guest_room.zip\n",
      "3FO4J8QOK089_Bedroom.zip\n",
      "3FO4J8Q16XCL_Bedroom.zip\n",
      "3FO4J8PS5L8G_Living_room.zip\n"
     ]
    },
    {
     "name": "stderr",
     "output_type": "stream",
     "text": [
      "Downloading...\n",
      "From: https://drive.google.com/uc?id=1ABF08ZERpuzX-XF6YS8o0ggWd6cZsylj&export=download\n",
      "To: /media/scratch1/erbachj/Mask_RCNN/data/InteriorNet/data/HD7/train/3FO4J8PS5L8G_Living_room.zip\n",
      "65.3MB [00:02, 22.4MB/s]\n"
     ]
    },
    {
     "name": "stdout",
     "output_type": "stream",
     "text": [
      "3FO4J8PS5L8G_Guest_room.zip\n",
      "3FO4J8PS5L8G_Bedroom.zip\n",
      "3FO4J8P19B0X_Guest_room.zip\n",
      "3FO4J8P19B0X_Bedroom.zip\n",
      "3FO4J8OSTMWA_Guest_room.zip\n",
      "3FO4J8OSTMWA_Bedroom.zip\n",
      "3FO4J8O4JE80_Guest_room.zip\n",
      "3FO4J8O4JE80_Bedroom.zip\n",
      "3FO4J8O4G5J1_Guest_room.zip\n",
      "3FO4J8O4G5J1_Bedroom.zip\n",
      "3FO4J8NXA8TG_Living_room.zip\n"
     ]
    },
    {
     "name": "stderr",
     "output_type": "stream",
     "text": [
      "Downloading...\n",
      "From: https://drive.google.com/uc?id=1DPGacEYFot0QXXABQEQd8Ls5VKlfLSPw&export=download\n",
      "To: /media/scratch1/erbachj/Mask_RCNN/data/InteriorNet/data/HD7/train/3FO4J8NXA8TG_Living_room.zip\n",
      "63.6MB [00:00, 64.3MB/s]\n"
     ]
    },
    {
     "name": "stdout",
     "output_type": "stream",
     "text": [
      "3FO4J8NXA8TG_Guest_room.zip\n",
      "3FO4J8HT5MN1_Bedroom.zip\n",
      "3FO4J8FN314P_Bedroom.zip\n",
      "3FO4J8CMOA7I_Guest_room.zip\n",
      "3FO4J8C37JQM_Living_room.zip\n"
     ]
    },
    {
     "name": "stderr",
     "output_type": "stream",
     "text": [
      "Downloading...\n",
      "From: https://drive.google.com/uc?id=1twC22RbTPoL9G4U0hhEjVg1fsDDqgfMD&export=download\n",
      "To: /media/scratch1/erbachj/Mask_RCNN/data/InteriorNet/data/HD7/train/3FO4J8C37JQM_Living_room.zip\n",
      "62.0MB [00:00, 88.2MB/s]\n"
     ]
    },
    {
     "name": "stdout",
     "output_type": "stream",
     "text": [
      "3FO4J8AUE7KI_Living_room.zip\n"
     ]
    },
    {
     "name": "stderr",
     "output_type": "stream",
     "text": [
      "Downloading...\n",
      "From: https://drive.google.com/uc?id=1rV5ehR-ZpwYzDEOShUl4va7ab9atCPDt&export=download\n",
      "To: /media/scratch1/erbachj/Mask_RCNN/data/InteriorNet/data/HD7/train/3FO4J8AUE7KI_Living_room.zip\n",
      "64.8MB [00:02, 23.0MB/s]\n"
     ]
    },
    {
     "name": "stdout",
     "output_type": "stream",
     "text": [
      "3FO4J87RG1YK_Bedroom.zip\n",
      "3FO4J84R0RJW_Guest_room.zip\n",
      "3FO4J83XPUEU_Bathroom.zip\n",
      "3FO4J81SFA5M_Bathroom.zip\n",
      "3FO4J80PJ9Y2_Bathroom.zip\n",
      "3FO4J7YY1JJL_Bathroom.zip\n",
      "3FO4J7Y0SW1V_Bathroom.zip\n",
      "3FO4J7URXHSF_Bathroom.zip\n",
      "3FO4J8NUUI04_Living_room.zip\n",
      "3FO4J8NUUI04_Bedroom.zip\n",
      "3FO4J8NN729T_Guest_room.zip\n",
      "3FO4J8NHVW8G_Living_room.zip\n",
      "3FO4J8NHVW8G_Guest_room.zip\n",
      "3FO4J8NHVW8G_Bedroom.zip\n",
      "3FO4J8NHBNDE_Guest_room.zip\n",
      "3FO4J8NHBNDE_Bedroom.zip\n",
      "3FO4J8NF7SPB_Living_room.zip\n",
      "3FO4J8NF7SPB_Guest_room.zip\n",
      "3FO4J8NF7SPB_Bedroom.zip\n",
      "3FO4J8LXY68V_Living_room.zip\n",
      "3FO4J8LXY68V_Bedroom.zip\n",
      "3FO4J8JSX20H_Bedroom.zip\n",
      "3FO4J8JJHHVM_Bedroom.zip\n",
      "3FO4J8J7513A_Guest_room.zip\n",
      "3FO4J8J7513A_Bedroom.zip\n",
      "3FO4J8J588UB_Guest_room.zip\n",
      "3FO4J8J588UB_Bedroom.zip\n",
      "3FO4J8IKMVCC_Guest_room.zip\n",
      "3FO4J8IKMVCC_Bedroom.zip\n",
      "3FO4J8IBFD3V_Guest_room.zip\n",
      "3FO4J8IBFD3V_Bedroom.zip\n",
      "3FO4J8I9LWVW_Guest_room.zip\n",
      "3FO4J8I9LWVW_Bedroom.zip\n",
      "3FO4J8HVJSF7_Guest_room.zip\n",
      "3FO4J8HVJSF7_Bedroom.zip\n",
      "3FO4J8HT5MN1_Guest_room.zip\n",
      "3FO4J8GXGQEU_Living_room.zip\n",
      "3FO4J8GXGQEU_Guest_room.zip\n",
      "3FO4J8GXGQEU_Bedroom.zip\n",
      "3FO4J8GQTHXE_Bedroom.zip\n",
      "3FO4J8GM1D34_Guest_room.zip\n",
      "3FO4J8GLKBCB_Bedroom.zip\n",
      "3FO4J8GL6X8B_Guest_room.zip\n",
      "3FO4J8GL6X8B_Bedroom.zip\n",
      "3FO4J8G72D1E_Guest_room.zip\n",
      "3FO4J8G72D1E_Bedroom.zip\n",
      "3FO4J8FQ4JBK_Living_room.zip\n",
      "3FO4J8FQ4JBK_Guest_room.zip\n",
      "3FO4J8FQ4JBK_Bedroom.zip\n",
      "3FO4J8FN314P_Guest_room.zip\n",
      "3FO4J8FLAQ23_Bedroom.zip\n",
      "3FO4J8EF2VJK_Bedroom.zip\n",
      "3FO4J8EATW7B_Guest_room.zip\n",
      "3FO4J8EATW7B_Bedroom.zip\n",
      "3FO4J8E55SYR_Dining_room.zip\n",
      "3FO4J8E3R3P7_Living_room.zip\n",
      "3FO4J8E3R3P7_Dining_room.zip\n",
      "3FO4J8DYKJID_Living_room.zip\n",
      "3FO4J8DYKJID_Guest_room.zip\n",
      "3FO4J8DUGNXC_Living_room.zip\n",
      "3FO4J8DUGNXC_Dining_room.zip\n",
      "3FO4J8DTFK1J_Living_room.zip\n",
      "3FO4J8DTFK1J_Dining_room.zip\n",
      "3FO4J8CMQDR5_Bedroom.zip\n",
      "3FO4J8CMOA7I_Bedroom.zip\n",
      "3FO4J8CF1YLK_Living_room.zip\n",
      "3FO4J8CF1YLK_Guest_room.zip\n",
      "3FO4J8CF1YLK_Bedroom.zip\n",
      "3FO4J8CEMD17_Dining_room.zip\n",
      "3FO4J8CEMD17_Bedroom.zip\n",
      "3FO4J8CEMD17_Bathroom.zip\n",
      "3FO4J8C9IW1T_Bedroom.zip\n",
      "3FO4J8C9IW1T_Bathroom.zip\n",
      "3FO4J8C7V0RI_Bathroom.zip\n",
      "3FO4J8C7KHYD_Living_room.zip\n",
      "3FO4J8C7KHYD_Guest_room.zip\n",
      "3FO4J8C7KHYD_Bedroom.zip\n",
      "3FO4J8C7KHYD_Bathroom.zip\n",
      "3FO4J8C37JQM_Guest_room.zip\n",
      "3FO4J8C37JQM_Dining_room.zip\n",
      "3FO4J8C37JQM_Bedroom.zip\n",
      "3FO4J8C37JQM_Bathroom.zip\n",
      "3FO4J8C1D9GE_Living_room.zip\n",
      "3FO4J8C1D9GE_Bedroom.zip\n",
      "3FO4J8C1D9GE_Bathroom.zip\n",
      "3FO4J8BEC4BR_Living_room.zip\n",
      "3FO4J8BEC4BR_Guest_room.zip\n",
      "3FO4J8BEC4BR_Dining_room.zip\n",
      "3FO4J8BEC4BR_Bedroom.zip\n",
      "3FO4J8BEC4BR_Bathroom.zip\n",
      "3FO4J8B108S5_Guest_room.zip\n",
      "3FO4J8B108S5_Bedroom.zip\n",
      "3FO4J8AGKBUS_Guest_room.zip\n",
      "3FO4J8AGKBUS_Bedroom.zip\n",
      "3FO4J88YCHD5_Guest_room.zip\n",
      "3FO4J88YCHD5_Bedroom.zip\n",
      "3FO4J88YCHD5_Bathroom.zip\n",
      "3FO4J88OIGS9_Guest_room.zip\n",
      "3FO4J88OIGS9_Bedroom.zip\n",
      "3FO4J88OIGS9_Bathroom.zip\n",
      "3FO4J87YVDHF_Living_room.zip\n",
      "3FO4J87XX88I_Living_room.zip\n",
      "3FO4J87VRU2Y_Guest_room.zip\n",
      "3FO4J87VRU2Y_Bedroom.zip\n",
      "3FO4J87VRU2Y_Bathroom.zip\n",
      "3FO4J87RG1YK_Guest_room.zip\n",
      "3FO4J87RG1YK_Bathroom.zip\n",
      "3FO4J87PGOGT_Guest_room.zip\n",
      "3FO4J87PGOGT_Bedroom.zip\n",
      "3FO4J87PGOGT_Bathroom.zip\n",
      "3FO4J87CHM01_Guest_room.zip\n",
      "3FO4J87CHM01_Bedroom.zip\n",
      "3FO4J85T8GVI_Guest_room.zip\n",
      "3FO4J85T8GVI_Bedroom.zip\n",
      "3FO4J85T8GVI_Bathroom.zip\n",
      "3FO4J85T5S9P_Living_room.zip\n",
      "3FO4J85T5S9P_Guest_room.zip\n",
      "3FO4J85T5S9P_Dining_room.zip\n",
      "3FO4J85T5S9P_Bedroom.zip\n",
      "3FO4J85T5S9P_Bathroom.zip\n",
      "3FO4J84R0RJW_Bedroom.zip\n",
      "3FO4J84O36G8_Guest_room.zip\n",
      "3FO4J84O36G8_Bedroom.zip\n",
      "3FO4J84O36G8_Bathroom.zip\n",
      "3FO4J84M03JD_Dining_room.zip\n",
      "3FO4J84M03JD_Bedroom.zip\n",
      "3FO4J84LKDLY_Bedroom.zip\n",
      "3FO4J84LKDLY_Bathroom.zip\n",
      "3FO4J84EC7V9_Guest_room.zip\n",
      "3FO4J84EC7V9_Bedroom.zip\n",
      "3FO4J84EC7V9_Bathroom.zip\n",
      "3FO4J84AXXEV_Living_room.zip\n"
     ]
    },
    {
     "name": "stderr",
     "output_type": "stream",
     "text": [
      "Downloading...\n",
      "From: https://drive.google.com/uc?id=1HZwsmPmyvZK7C-D2gWjPN-uGg1q4ZNCf&export=download\n",
      "To: /media/scratch1/erbachj/Mask_RCNN/data/InteriorNet/data/HD7/train/3FO4J84AXXEV_Living_room.zip\n",
      "49.8MB [00:01, 48.2MB/s]\n"
     ]
    },
    {
     "name": "stdout",
     "output_type": "stream",
     "text": [
      "3FO4J83XPUEU_Guest_room.zip\n",
      "3FO4J83XPUEU_Bedroom.zip\n",
      "3FO4J83D4Y29_Guest_room.zip\n",
      "3FO4J83D4Y29_Bedroom.zip\n",
      "3FO4J83D4Y29_Bathroom.zip\n",
      "3FO4J83985WC_Bedroom.zip\n",
      "3FO4J83985WC_Bathroom.zip\n",
      "3FO4J8317DUD_Guest_room.zip\n",
      "3FO4J8317DUD_Bedroom.zip\n",
      "3FO4J8317DUD_Bathroom.zip\n",
      "3FO4J82AI4UF_Bedroom.zip\n",
      "3FO4J82AI4UF_Bathroom.zip\n",
      "3FO4J81T8JV3_Bedroom.zip\n",
      "3FO4J81T8JV3_Bathroom.zip\n",
      "3FO4J81SFA5M_Guest_room.zip\n",
      "3FO4J81SFA5M_Bedroom.zip\n",
      "3FO4J81L1R6B_Guest_room.zip\n",
      "3FO4J81L1R6B_Bedroom.zip\n",
      "3FO4J81L1R6B_Bathroom.zip\n",
      "3FO4J81CILK5_Guest_room.zip\n",
      "3FO4J81CILK5_Bedroom.zip\n",
      "3FO4J81CILK5_Bathroom.zip\n",
      "3FO4J80WEMMX_Guest_room.zip\n",
      "3FO4J80WEMMX_Bedroom.zip\n",
      "3FO4J80WEMMX_Bathroom.zip\n",
      "3FO4J80VYTDI_Guest_room.zip\n",
      "3FO4J80VYTDI_Bedroom.zip\n",
      "3FO4J80VYTDI_Bathroom.zip\n",
      "3FO4J80PJ9Y2_Guest_room.zip\n",
      "3FO4J80PJ9Y2_Bedroom.zip\n",
      "3FO4J80P2X76_Living_room.zip\n"
     ]
    },
    {
     "name": "stderr",
     "output_type": "stream",
     "text": [
      "Downloading...\n",
      "From: https://drive.google.com/uc?id=1YmIF7T2BfOR_OUGqKk9drW7YwXr6yIPC&export=download\n",
      "To: /media/scratch1/erbachj/Mask_RCNN/data/InteriorNet/data/HD7/train/3FO4J80P2X76_Living_room.zip\n",
      "58.1MB [00:04, 13.0MB/s]\n"
     ]
    },
    {
     "name": "stdout",
     "output_type": "stream",
     "text": [
      "3FO4J80P2X76_Guest_room.zip\n",
      "3FO4J80P2X76_Dining_room.zip\n"
     ]
    },
    {
     "name": "stderr",
     "output_type": "stream",
     "text": [
      "Downloading...\n",
      "From: https://drive.google.com/uc?id=1-TGZDH3U8HOJAiz7FDLF-KhLHI9oexDv&export=download\n",
      "To: /media/scratch1/erbachj/Mask_RCNN/data/InteriorNet/data/HD7/train/3FO4J80P2X76_Dining_room.zip\n",
      "45.8MB [00:01, 29.5MB/s]\n"
     ]
    },
    {
     "name": "stdout",
     "output_type": "stream",
     "text": [
      "3FO4J80P2X76_Bedroom.zip\n",
      "3FO4J80P2X76_Bathroom.zip\n",
      "3FO4J80MCRVP_Guest_room.zip\n",
      "3FO4J80MCRVP_Bedroom.zip\n",
      "3FO4J80MCRVP_Bathroom.zip\n",
      "3FO4J80BP489_Guest_room.zip\n",
      "3FO4J80BP489_Bedroom.zip\n",
      "3FO4J80BP489_Bathroom.zip\n",
      "3FO4J7YY1JJL_Living_room.zip\n"
     ]
    },
    {
     "name": "stderr",
     "output_type": "stream",
     "text": [
      "Downloading...\n",
      "From: https://drive.google.com/uc?id=18kgdnjs1epa5N2cLIrz2ixQX3KmJid9e&export=download\n",
      "To: /media/scratch1/erbachj/Mask_RCNN/data/InteriorNet/data/HD7/train/3FO4J7YY1JJL_Living_room.zip\n",
      "49.1MB [00:00, 55.6MB/s]\n"
     ]
    },
    {
     "name": "stdout",
     "output_type": "stream",
     "text": [
      "3FO4J7YY1JJL_Guest_room.zip\n",
      "3FO4J7YY1JJL_Bedroom.zip\n",
      "3FO4J7YM5HU6_Guest_room.zip\n",
      "3FO4J7YM5HU6_Bedroom.zip\n",
      "3FO4J7YM5HU6_Bathroom.zip\n",
      "3FO4J7YK73RP_Living_room.zip\n"
     ]
    },
    {
     "name": "stderr",
     "output_type": "stream",
     "text": [
      "Downloading...\n",
      "From: https://drive.google.com/uc?id=1pg8daim4TzvHuEp9GFdKLW6JI_bq-ItI&export=download\n",
      "To: /media/scratch1/erbachj/Mask_RCNN/data/InteriorNet/data/HD7/train/3FO4J7YK73RP_Living_room.zip\n",
      "65.9MB [00:01, 65.2MB/s]\n"
     ]
    },
    {
     "name": "stdout",
     "output_type": "stream",
     "text": [
      "3FO4J7YK73RP_Guest_room.zip\n",
      "3FO4J7YK73RP_Bedroom.zip\n",
      "3FO4J7YK73RP_Bathroom.zip\n",
      "3FO4J7YHMAPU_Guest_room.zip\n",
      "3FO4J7YHMAPU_Bedroom.zip\n",
      "3FO4J7YHMAPU_Bathroom.zip\n",
      "3FO4J7Y1VMS6_Bedroom.zip\n",
      "3FO4J7Y1VMS6_Bathroom.zip\n",
      "3FO4J7Y0SW1V_Guest_room.zip\n",
      "3FO4J7Y0SW1V_Bedroom.zip\n",
      "3FO4J7XWYQB8_Bathroom.zip\n",
      "3FO4J7XT83PU_Guest_room.zip\n",
      "3FO4J7XT83PU_Bedroom.zip\n",
      "3FO4J7XT83PU_Bathroom.zip\n",
      "3FO4J7VXXBFJ_Guest_room.zip\n",
      "3FO4J7VXXBFJ_Bedroom.zip\n",
      "3FO4J7VSIKVS_Bedroom.zip\n",
      "3FO4J7VSIKVS_Bathroom.zip\n",
      "3FO4J7V5PHU4_Guest_room.zip\n",
      "3FO4J7V5PHU4_Bedroom.zip\n",
      "3FO4J7V5PHU4_Bathroom.zip\n",
      "3FO4J7URXHSF_Living_room.zip\n"
     ]
    },
    {
     "name": "stderr",
     "output_type": "stream",
     "text": [
      "Downloading...\n",
      "From: https://drive.google.com/uc?id=1giMRDvcX5UbCK-6lE4zHSarEOiDvUQJR&export=download\n",
      "To: /media/scratch1/erbachj/Mask_RCNN/data/InteriorNet/data/HD7/train/3FO4J7URXHSF_Living_room.zip\n",
      "56.5MB [00:00, 88.6MB/s]\n"
     ]
    },
    {
     "name": "stdout",
     "output_type": "stream",
     "text": [
      "3FO4J7URXHSF_Guest_room.zip\n",
      "3FO4J7URXHSF_Bedroom.zip\n",
      "3FO4J7OXN0IW_Bathroom.zip\n",
      "3FO4J7O5J7DO_Bathroom.zip\n",
      "3FO4J7NQ79PK_Guest_room.zip\n",
      "3FO4J7LY2WPA_Bathroom.zip\n",
      "3FO4J7LHOT0V_Guest_room.zip\n",
      "3FO4J7K2VINI_Bedroom.zip\n",
      "3FO4J7H9RUCL_Bedroom.zip\n",
      "3FO4J7EDUS29_Bedroom.zip\n",
      "3FO4J7BTNDFF_Dining_room.zip\n"
     ]
    },
    {
     "name": "stderr",
     "output_type": "stream",
     "text": [
      "Downloading...\n",
      "From: https://drive.google.com/uc?id=1lu0tDIByA5YA64XvSMz7-_FoVmy8Q-DU&export=download\n",
      "To: /media/scratch1/erbachj/Mask_RCNN/data/InteriorNet/data/HD7/train/3FO4J7BTNDFF_Dining_room.zip\n",
      "53.9MB [00:01, 45.7MB/s]\n"
     ]
    },
    {
     "name": "stdout",
     "output_type": "stream",
     "text": [
      "3FO4J7BRATHQ_Bedroom.zip\n",
      "3FO4J78BRG95_Guest_room.zip\n",
      "3FO4J77D9498_Bedroom.zip\n",
      "3FO4J75IO9ND_Bathroom.zip\n",
      "3FO4J7UQU6YY_Bedroom.zip\n",
      "3FO4J7UQU6YY_Bathroom.zip\n",
      "3FO4J7U0YT07_Living_room.zip\n"
     ]
    },
    {
     "name": "stderr",
     "output_type": "stream",
     "text": [
      "Downloading...\n",
      "From: https://drive.google.com/uc?id=1Bty5oz-cOrwPCdXYXU8_yJosgepDnmE8&export=download\n",
      "To: /media/scratch1/erbachj/Mask_RCNN/data/InteriorNet/data/HD7/train/3FO4J7U0YT07_Living_room.zip\n",
      "53.5MB [00:00, 71.4MB/s]\n"
     ]
    },
    {
     "name": "stdout",
     "output_type": "stream",
     "text": [
      "3FO4J7U0YT07_Guest_room.zip\n",
      "3FO4J7U0YT07_Bedroom.zip\n",
      "3FO4J7U0YT07_Bathroom.zip\n",
      "3FO4J7TJMH21_Bathroom.zip\n",
      "3FO4J7SKN3BB_Guest_room.zip\n",
      "3FO4J7SKN3BB_Bedroom.zip\n",
      "3FO4J7RTPSFY_Bedroom.zip\n",
      "3FO4J7RTPSFY_Bathroom.zip\n",
      "3FO4J7RNT636_Guest_room.zip\n",
      "3FO4J7RNT636_Bedroom.zip\n",
      "3FO4J7RNT636_Bathroom.zip\n",
      "3FO4J7RDOWQ8_Guest_room.zip\n",
      "3FO4J7RDOWQ8_Bedroom.zip\n",
      "3FO4J7RDOWQ8_Bathroom.zip\n",
      "3FO4J7R3SP9O_Bedroom.zip\n",
      "3FO4J7QW66R5_Living_room.zip\n"
     ]
    },
    {
     "name": "stderr",
     "output_type": "stream",
     "text": [
      "Downloading...\n",
      "From: https://drive.google.com/uc?id=1N7RS2htyago1ElbwRBXnqFkLt47xgwXh&export=download\n",
      "To: /media/scratch1/erbachj/Mask_RCNN/data/InteriorNet/data/HD7/train/3FO4J7QW66R5_Living_room.zip\n",
      "57.2MB [00:02, 24.8MB/s]\n"
     ]
    },
    {
     "name": "stdout",
     "output_type": "stream",
     "text": [
      "3FO4J7QW66R5_Bedroom.zip\n",
      "3FO4J7QW66R5_Bathroom.zip\n",
      "3FO4J7QOJMWF_Bedroom.zip\n",
      "3FO4J7QH2L82_Living_room.zip\n"
     ]
    },
    {
     "name": "stderr",
     "output_type": "stream",
     "text": [
      "Downloading...\n",
      "From: https://drive.google.com/uc?id=1Au3zpejJykR-6KH7P9uLinT5h6s43DtD&export=download\n",
      "To: /media/scratch1/erbachj/Mask_RCNN/data/InteriorNet/data/HD7/train/3FO4J7QH2L82_Living_room.zip\n",
      "86.5MB [00:02, 30.7MB/s]\n"
     ]
    },
    {
     "name": "stdout",
     "output_type": "stream",
     "text": [
      "3FO4J7QH2L82_Dining_room.zip\n"
     ]
    },
    {
     "name": "stderr",
     "output_type": "stream",
     "text": [
      "Downloading...\n",
      "From: https://drive.google.com/uc?id=1LDq0zF1K555mKYe4uVy-EaubrwBKVVLk&export=download\n",
      "To: /media/scratch1/erbachj/Mask_RCNN/data/InteriorNet/data/HD7/train/3FO4J7QH2L82_Dining_room.zip\n",
      "89.0MB [00:01, 52.4MB/s]\n"
     ]
    },
    {
     "name": "stdout",
     "output_type": "stream",
     "text": [
      "3FO4J7QH0EBE_Bathroom.zip\n",
      "3FO4J7Q5L9G1_Bathroom.zip\n",
      "3FO4J7PGQKRE_Living_room.zip\n"
     ]
    },
    {
     "name": "stderr",
     "output_type": "stream",
     "text": [
      "Downloading...\n",
      "From: https://drive.google.com/uc?id=1eOcSj5vahSCTTg232pIoiIJed8IPBiHV&export=download\n",
      "To: /media/scratch1/erbachj/Mask_RCNN/data/InteriorNet/data/HD7/train/3FO4J7PGQKRE_Living_room.zip\n",
      "73.0MB [00:02, 27.0MB/s]\n"
     ]
    },
    {
     "name": "stdout",
     "output_type": "stream",
     "text": [
      "3FO4J7OXN0IW_Bedroom.zip\n",
      "3FO4J7OVG77X_Guest_room.zip\n",
      "3FO4J7OVG77X_Bedroom.zip\n",
      "3FO4J7OVG77X_Bathroom.zip\n",
      "3FO4J7ONKKPI_Guest_room.zip\n",
      "3FO4J7ONKKPI_Bedroom.zip\n",
      "3FO4J7ONKKPI_Bathroom.zip\n",
      "3FO4J7OEUJDA_Bedroom.zip\n",
      "3FO4J7OEUJDA_Bathroom.zip\n",
      "3FO4J7OE436D_Guest_room.zip\n",
      "3FO4J7OE436D_Bedroom.zip\n",
      "3FO4J7OE436D_Bathroom.zip\n",
      "3FO4J7O6IB2V_Bedroom.zip\n",
      "3FO4J7O5J7DO_Living_room.zip\n"
     ]
    },
    {
     "name": "stderr",
     "output_type": "stream",
     "text": [
      "Downloading...\n",
      "From: https://drive.google.com/uc?id=1VgeOqS-zlUTxx6INqAvsENW2Ytf25H-l&export=download\n",
      "To: /media/scratch1/erbachj/Mask_RCNN/data/InteriorNet/data/HD7/train/3FO4J7O5J7DO_Living_room.zip\n",
      "61.7MB [00:01, 48.8MB/s]\n"
     ]
    },
    {
     "name": "stdout",
     "output_type": "stream",
     "text": [
      "3FO4J7O5J7DO_Bedroom.zip\n",
      "3FO4J7O1FBSN_Living_room.zip\n"
     ]
    },
    {
     "name": "stderr",
     "output_type": "stream",
     "text": [
      "Downloading...\n",
      "From: https://drive.google.com/uc?id=1eAqfTLwch75gGBSp-O2I_4mrFGg8Hbtg&export=download\n",
      "To: /media/scratch1/erbachj/Mask_RCNN/data/InteriorNet/data/HD7/train/3FO4J7O1FBSN_Living_room.zip\n",
      "52.2MB [00:02, 22.0MB/s]\n"
     ]
    },
    {
     "name": "stdout",
     "output_type": "stream",
     "text": [
      "3FO4J7O1FBSN_Bedroom.zip\n",
      "3FO4J7O1FBSN_Bathroom.zip\n",
      "3FO4J7O0BWN6_Guest_room.zip\n",
      "3FO4J7O0BWN6_Bathroom.zip\n",
      "3FO4J7NWBCVL_Guest_room.zip\n",
      "3FO4J7NWBCVL_Bedroom.zip\n",
      "3FO4J7NWBCVL_Bathroom.zip\n",
      "3FO4J7NWB9JK_Guest_room.zip\n",
      "3FO4J7NWB9JK_Bedroom.zip\n",
      "3FO4J7NWB9JK_Bathroom.zip\n",
      "3FO4J7NWB67J_Guest_room.zip\n",
      "3FO4J7NWB67J_Bedroom.zip\n",
      "3FO4J7NWB67J_Bathroom.zip\n",
      "3FO4J7NQ79PK_Bedroom.zip\n",
      "3FO4J7NQ79PK_Bathroom.zip\n",
      "3FO4J7NPYFJ8_Guest_room.zip\n",
      "3FO4J7NPYFJ8_Bedroom.zip\n",
      "3FO4J7NPYFJ8_Bathroom.zip\n",
      "3FO4J7MOBVPN_Bathroom.zip\n",
      "3FO4J7MO7YMH_Bedroom.zip\n",
      "3FO4J7MO7YMH_Bathroom.zip\n",
      "3FO4J7MGKANF_Bathroom.zip\n",
      "3FO4J7M7IOPQ_Bedroom.zip\n",
      "3FO4J7LY6TSG_Guest_room.zip\n",
      "3FO4J7LY6TSG_Bedroom.zip\n",
      "3FO4J7LY6TSG_Bathroom.zip\n",
      "3FO4J7LY2WPA_Bedroom.zip\n",
      "3FO4J7LVKBK3_Guest_room.zip\n",
      "3FO4J7LVKBK3_Bedroom.zip\n",
      "3FO4J7LVKBK3_Bathroom.zip\n",
      "3FO4J7LO5K4E_Guest_room.zip\n",
      "3FO4J7LO5K4E_Bedroom.zip\n",
      "3FO4J7LO5K4E_Bathroom.zip\n",
      "3FO4J7LMK5RT_Bedroom.zip\n",
      "3FO4J7LMK5RT_Bathroom.zip\n",
      "3FO4J7LK9SQS_Guest_room.zip\n",
      "3FO4J7LK9SQS_Bedroom.zip\n",
      "3FO4J7LK9SQS_Bathroom.zip\n",
      "3FO4J7LIM7IK_Guest_room.zip\n",
      "3FO4J7LIM7IK_Bedroom.zip\n",
      "3FO4J7LIM7IK_Bathroom.zip\n",
      "3FO4J7LHOT0V_Bedroom.zip\n",
      "3FO4J7LHOT0V_Bathroom.zip\n",
      "3FO4J7KP6GER_Living_room.zip\n"
     ]
    },
    {
     "name": "stderr",
     "output_type": "stream",
     "text": [
      "Downloading...\n",
      "From: https://drive.google.com/uc?id=1aW0nZHHOM1JDXHtTd_gXevFXHYPbkmkJ&export=download\n",
      "To: /media/scratch1/erbachj/Mask_RCNN/data/InteriorNet/data/HD7/train/3FO4J7KP6GER_Living_room.zip\n",
      "57.3MB [00:02, 21.9MB/s]\n"
     ]
    },
    {
     "name": "stdout",
     "output_type": "stream",
     "text": [
      "3FO4J7KP6GER_Guest_room.zip\n",
      "3FO4J7KP6GER_Bedroom.zip\n",
      "3FO4J7KP6GER_Bathroom.zip\n",
      "3FO4J7K70HKK_Living_room.zip\n"
     ]
    },
    {
     "name": "stderr",
     "output_type": "stream",
     "text": [
      "Downloading...\n",
      "From: https://drive.google.com/uc?id=1zBNIG7c2RYiJAusCEsxSIzY4-JXQYAnP&export=download\n",
      "To: /media/scratch1/erbachj/Mask_RCNN/data/InteriorNet/data/HD7/train/3FO4J7K70HKK_Living_room.zip\n",
      "60.9MB [00:02, 25.7MB/s]\n"
     ]
    },
    {
     "name": "stdout",
     "output_type": "stream",
     "text": [
      "3FO4J7K70HKK_Bedroom.zip\n",
      "3FO4J7K70HKK_Bathroom.zip\n",
      "3FO4J7K6KOB5_Living_room.zip\n"
     ]
    },
    {
     "name": "stderr",
     "output_type": "stream",
     "text": [
      "Downloading...\n",
      "From: https://drive.google.com/uc?id=1-o_wY1SDhl8JQUub0yF2c9ncvu2ZLNQt&export=download\n",
      "To: /media/scratch1/erbachj/Mask_RCNN/data/InteriorNet/data/HD7/train/3FO4J7K6KOB5_Living_room.zip\n",
      "62.1MB [00:01, 37.8MB/s]\n"
     ]
    },
    {
     "name": "stdout",
     "output_type": "stream",
     "text": [
      "3FO4J7K6KOB5_Guest_room.zip\n",
      "3FO4J7K6KOB5_Bedroom.zip\n",
      "3FO4J7K6KOB5_Bathroom.zip\n",
      "3FO4J7K2VINI_Guest_room.zip\n",
      "3FO4J7J1NI3A_Living_room.zip\n"
     ]
    },
    {
     "name": "stderr",
     "output_type": "stream",
     "text": [
      "Downloading...\n",
      "From: https://drive.google.com/uc?id=1ocohrliHcg35vFnK7sU4jweTgQNWJhhp&export=download\n",
      "To: /media/scratch1/erbachj/Mask_RCNN/data/InteriorNet/data/HD7/train/3FO4J7J1NI3A_Living_room.zip\n",
      "52.7MB [00:00, 88.2MB/s]\n"
     ]
    },
    {
     "name": "stdout",
     "output_type": "stream",
     "text": [
      "3FO4J7J1NI3A_Bedroom.zip\n",
      "3FO4J7J1NI3A_Bathroom.zip\n",
      "3FO4J7IUAWBP_Bathroom.zip\n",
      "3FO4J7IDLFPW_Guest_room.zip\n",
      "3FO4J7IDLFPW_Bedroom.zip\n",
      "3FO4J7IDLFPW_Bathroom.zip\n",
      "3FO4J7I38YTI_Bedroom.zip\n",
      "3FO4J7HAFL5E_Guest_room.zip\n",
      "3FO4J7HAFL5E_Bedroom.zip\n",
      "3FO4J7HAFL5E_Bathroom.zip\n",
      "3FO4J7HAA27Q_Guest_room.zip\n",
      "3FO4J7HAA27Q_Bedroom.zip\n",
      "3FO4J7HAA27Q_Bathroom.zip\n",
      "3FO4J7H9RUCL_Bathroom.zip\n",
      "3FO4J7H3ARFO_Guest_room.zip\n",
      "3FO4J7H3ARFO_Bedroom.zip\n",
      "3FO4J7H3ARFO_Bathroom.zip\n",
      "3FO4J7H13O3M_Guest_room.zip\n",
      "3FO4J7H13O3M_Bedroom.zip\n",
      "3FO4J7H13O3M_Bathroom.zip\n",
      "3FO4J7GR2D71_Guest_room.zip\n",
      "3FO4J7GR2D71_Bedroom.zip\n",
      "3FO4J7GR2D71_Bathroom.zip\n",
      "3FO4J7GQ0Y95_Guest_room.zip\n",
      "3FO4J7GQ0Y95_Bedroom.zip\n",
      "3FO4J7GQ0Y95_Bathroom.zip\n",
      "3FO4J7EDUS29_Guest_room.zip\n",
      "3FO4J7EDUS29_Bathroom.zip\n",
      "3FO4J7D0G7YG_Living_room.zip\n"
     ]
    },
    {
     "name": "stderr",
     "output_type": "stream",
     "text": [
      "Downloading...\n",
      "From: https://drive.google.com/uc?id=1L-xXKTZjQ5nFJqhNIX1ZBMypKcZK5wxM&export=download\n",
      "To: /media/scratch1/erbachj/Mask_RCNN/data/InteriorNet/data/HD7/train/3FO4J7D0G7YG_Living_room.zip\n",
      "67.0MB [00:01, 48.5MB/s]\n"
     ]
    },
    {
     "name": "stdout",
     "output_type": "stream",
     "text": [
      "3FO4J7D0G7YG_Bedroom.zip\n",
      "3FO4J7D0G7YG_Bathroom.zip\n",
      "3FO4J7CRK1EU_Guest_room.zip\n",
      "3FO4J7CRK1EU_Bedroom.zip\n",
      "3FO4J7CRK1EU_Bathroom.zip\n",
      "3FO4J7CO0MXN_Bathroom.zip\n",
      "3FO4J7CHVX5Q_Guest_room.zip\n",
      "3FO4J7CHVX5Q_Bathroom.zip\n",
      "3FO4J7CAJ3KM_Living_room.zip\n"
     ]
    },
    {
     "name": "stderr",
     "output_type": "stream",
     "text": [
      "Downloading...\n",
      "From: https://drive.google.com/uc?id=1HiJkixwek4Yy1IT2JAwHeohCcD4pf8oN&export=download\n",
      "To: /media/scratch1/erbachj/Mask_RCNN/data/InteriorNet/data/HD7/train/3FO4J7CAJ3KM_Living_room.zip\n",
      "69.0MB [00:01, 52.9MB/s]\n"
     ]
    },
    {
     "name": "stdout",
     "output_type": "stream",
     "text": [
      "3FO4J7CAJ3KM_Bedroom.zip\n",
      "3FO4J7C9PW77_Bedroom.zip\n",
      "3FO4J7BTNDFF_Guest_room.zip\n",
      "3FO4J7BTNDFF_Bedroom.zip\n",
      "3FO4J7BTNDFF_Bathroom.zip\n",
      "3FO4J7BT7IDO_Bedroom.zip\n",
      "3FO4J7BT7IDO_Bathroom.zip\n",
      "3FO4J7BS8I1I_Bathroom.zip\n",
      "3FO4J7BRVXG2_Guest_room.zip\n",
      "3FO4J7BRVXG2_Bedroom.zip\n",
      "3FO4J7BRHIJQ_Guest_room.zip\n",
      "3FO4J7BRHIJQ_Bedroom.zip\n",
      "3FO4J7BRHIJQ_Bathroom.zip\n",
      "3FO4J7BRFLO6_Living_room.zip\n"
     ]
    },
    {
     "name": "stderr",
     "output_type": "stream",
     "text": [
      "Downloading...\n",
      "From: https://drive.google.com/uc?id=1KrZEhcSvUeHWWbMf-loaRty9tHjsJIZT&export=download\n",
      "To: /media/scratch1/erbachj/Mask_RCNN/data/InteriorNet/data/HD7/train/3FO4J7BRFLO6_Living_room.zip\n",
      "61.7MB [00:00, 74.0MB/s]\n"
     ]
    },
    {
     "name": "stdout",
     "output_type": "stream",
     "text": [
      "3FO4J7BRFLO6_Bedroom.zip\n",
      "3FO4J7BRFLO6_Bathroom.zip\n",
      "3FO4J7BRATHQ_Guest_room.zip\n",
      "3FO4J7BRATHQ_Bathroom.zip\n",
      "3FO4J7BLKB4R_Bedroom.zip\n",
      "3FO4J7B2FPBI_Bedroom.zip\n",
      "3FO4J7B2FPBI_Bathroom.zip\n",
      "3FO4J7ARX2N1_Bathroom.zip\n",
      "3FO4J79UVOLN_Living_room.zip\n"
     ]
    },
    {
     "name": "stderr",
     "output_type": "stream",
     "text": [
      "Downloading...\n",
      "From: https://drive.google.com/uc?id=1OMGh41ImZA1tD8JYbl-KL6wUWkOmux8r&export=download\n",
      "To: /media/scratch1/erbachj/Mask_RCNN/data/InteriorNet/data/HD7/train/3FO4J79UVOLN_Living_room.zip\n",
      "53.9MB [00:00, 68.3MB/s]\n"
     ]
    },
    {
     "name": "stdout",
     "output_type": "stream",
     "text": [
      "3FO4J79UVOLN_Guest_room.zip\n",
      "3FO4J79UVOLN_Bedroom.zip\n",
      "3FO4J79UVOLN_Bathroom.zip\n",
      "3FO4J79BANOH_Guest_room.zip\n",
      "3FO4J79BANOH_Bedroom.zip\n",
      "3FO4J78TE80L_Bedroom.zip\n",
      "3FO4J78TE80L_Bathroom.zip\n",
      "3FO4J78SBAK9_Living_room.zip\n"
     ]
    },
    {
     "name": "stderr",
     "output_type": "stream",
     "text": [
      "Downloading...\n",
      "From: https://drive.google.com/uc?id=1b8A2F9Kd8vhK6mLO5pV_xpW-z3KLHn_d&export=download\n",
      "To: /media/scratch1/erbachj/Mask_RCNN/data/InteriorNet/data/HD7/train/3FO4J78SBAK9_Living_room.zip\n",
      "71.5MB [00:01, 39.5MB/s]\n"
     ]
    },
    {
     "name": "stdout",
     "output_type": "stream",
     "text": [
      "3FO4J78BRG95_Bedroom.zip\n",
      "3FO4J7839UP5_Guest_room.zip\n",
      "3FO4J7839UP5_Bedroom.zip\n",
      "3FO4J7839UP5_Bathroom.zip\n",
      "3FO4J77OBRV6_Guest_room.zip\n",
      "3FO4J77OBRV6_Bedroom.zip\n",
      "3FO4J77OBRV6_Bathroom.zip\n",
      "3FO4J77MOXE6_Guest_room.zip\n",
      "3FO4J77MOXE6_Bedroom.zip\n",
      "3FO4J77MOXE6_Bathroom.zip\n",
      "3FO4J77MKTLX_Guest_room.zip\n",
      "3FO4J77MKTLX_Bedroom.zip\n",
      "3FO4J77MKTLX_Bathroom.zip\n",
      "3FO4J77D9498_Guest_room.zip\n",
      "3FO4J77D9498_Bathroom.zip\n",
      "3FO4J778LVOP_Guest_room.zip\n",
      "3FO4J778LVOP_Bedroom.zip\n",
      "3FO4J778LVOP_Bathroom.zip\n",
      "3FO4J7778TTC_Bathroom.zip\n",
      "3FO4J772MKP4_Bedroom.zip\n",
      "3FO4J76OJEG3_Living_room.zip\n"
     ]
    },
    {
     "name": "stderr",
     "output_type": "stream",
     "text": [
      "Downloading...\n",
      "From: https://drive.google.com/uc?id=1hu2yqsw1iVHfuNQhHeuzYh3dMrYNYikb&export=download\n",
      "To: /media/scratch1/erbachj/Mask_RCNN/data/InteriorNet/data/HD7/train/3FO4J76OJEG3_Living_room.zip\n",
      "62.4MB [00:01, 51.9MB/s]\n"
     ]
    },
    {
     "name": "stdout",
     "output_type": "stream",
     "text": [
      "3FO4J76OJEG3_Bedroom.zip\n",
      "3FO4J76OJEG3_Bathroom.zip\n",
      "3FO4J76OBA8N_Guest_room.zip\n",
      "3FO4J76OBA8N_Bedroom.zip\n",
      "3FO4J76OBA8N_Bathroom.zip\n",
      "3FO4J76J5WDP_Bedroom.zip\n",
      "3FO4J76J5WDP_Bathroom.zip\n",
      "3FO4J6YYSP80_Bathroom.zip\n",
      "3FO4J6X1SHL5_Guest_room.zip\n",
      "3FO4J6TPAQ8L_Guest_room.zip\n",
      "3FO4J6RADEIN_Bedroom.zip\n",
      "3FO4J6PN8I2J_Guest_room.zip\n",
      "3FO4J6M8N01R_Guest_room.zip\n",
      "3FO4J6KFDIOH_Living_room.zip\n"
     ]
    },
    {
     "name": "stderr",
     "output_type": "stream",
     "text": [
      "Downloading...\n",
      "From: https://drive.google.com/uc?id=1cBZkaKxyYk7s_oulif_aNVy71yWllLJD&export=download\n",
      "To: /media/scratch1/erbachj/Mask_RCNN/data/InteriorNet/data/HD7/train/3FO4J6KFDIOH_Living_room.zip\n",
      "72.7MB [00:00, 75.8MB/s]\n"
     ]
    },
    {
     "name": "stdout",
     "output_type": "stream",
     "text": [
      "3FO4J6HXR28U_Bathroom.zip\n",
      "3FO4J6GYWFOK_Bedroom.zip\n",
      "3FO4J6GHWQBP_Bedroom.zip\n",
      "3FO4J6DV38EC_Living_room.zip\n"
     ]
    },
    {
     "name": "stderr",
     "output_type": "stream",
     "text": [
      "Downloading...\n",
      "From: https://drive.google.com/uc?id=1LJUGdDe5oBi82mHhx6zDeOSSqmHhYq4Y&export=download\n",
      "To: /media/scratch1/erbachj/Mask_RCNN/data/InteriorNet/data/HD7/train/3FO4J6DV38EC_Living_room.zip\n",
      "67.1MB [00:00, 68.8MB/s]\n"
     ]
    },
    {
     "name": "stdout",
     "output_type": "stream",
     "text": [
      "3FO4J6C0RYDV_Guest_room.zip\n",
      "3FO4J6A8T2Y8_Bedroom.zip\n",
      "3FO4J75FBA83_Guest_room.zip\n",
      "3FO4J75FBA83_Bedroom.zip\n",
      "3FO4J75FBA83_Bathroom.zip\n",
      "3FO4J740PPP1_Guest_room.zip\n",
      "3FO4J740PPP1_Bedroom.zip\n",
      "3FO4J740PPP1_Bathroom.zip\n",
      "3FO4J7377V1L_Guest_room.zip\n",
      "3FO4J7377V1L_Bedroom.zip\n",
      "3FO4J7377V1L_Bathroom.zip\n",
      "3FO4J72PM1HV_Bedroom.zip\n",
      "3FO4J72PM1HV_Bathroom.zip\n",
      "3FO4J71WHD9E_Guest_room.zip\n",
      "3FO4J71WHD9E_Bedroom.zip\n",
      "3FO4J71WHD9E_Bathroom.zip\n",
      "3FO4J70JRJ70_Bedroom.zip\n",
      "3FO4J70JRJ70_Bathroom.zip\n",
      "3FO4J70IP04R_Guest_room.zip\n",
      "3FO4J70IP04R_Bedroom.zip\n",
      "3FO4J70IP04R_Bathroom.zip\n",
      "3FO4J70HFAAE_Living_room.zip\n"
     ]
    },
    {
     "name": "stderr",
     "output_type": "stream",
     "text": [
      "Downloading...\n",
      "From: https://drive.google.com/uc?id=1orLGHelgZLuJokEIJHVwpV0WTrpGi0g8&export=download\n",
      "To: /media/scratch1/erbachj/Mask_RCNN/data/InteriorNet/data/HD7/train/3FO4J70HFAAE_Living_room.zip\n",
      "71.5MB [00:02, 27.0MB/s]\n"
     ]
    },
    {
     "name": "stdout",
     "output_type": "stream",
     "text": [
      "3FO4J70HFAAE_Guest_room.zip\n",
      "3FO4J70HFAAE_Dining_room.zip\n"
     ]
    },
    {
     "name": "stderr",
     "output_type": "stream",
     "text": [
      "Downloading...\n",
      "From: https://drive.google.com/uc?id=1hrdEGwddWEQW92G0BNodqgSy62R5iDXr&export=download\n",
      "To: /media/scratch1/erbachj/Mask_RCNN/data/InteriorNet/data/HD7/train/3FO4J70HFAAE_Dining_room.zip\n",
      "73.6MB [00:03, 23.4MB/s]\n"
     ]
    },
    {
     "name": "stdout",
     "output_type": "stream",
     "text": [
      "3FO4J70HFAAE_Bedroom.zip\n",
      "3FO4J70HFAAE_Bathroom.zip\n",
      "3FO4J709T1GR_Guest_room.zip\n",
      "3FO4J709T1GR_Bedroom.zip\n",
      "3FO4J709T1GR_Bathroom.zip\n",
      "3FO4J6YYSP80_Bedroom.zip\n",
      "3FO4J6YG0DY4_Guest_room.zip\n",
      "3FO4J6YG0DY4_Bedroom.zip\n",
      "3FO4J6YG0DY4_Bathroom.zip\n",
      "3FO4J6XTC8KD_Dining_room.zip\n"
     ]
    },
    {
     "name": "stderr",
     "output_type": "stream",
     "text": [
      "Downloading...\n",
      "From: https://drive.google.com/uc?id=1Ey5G4BUyIWYUv_OKYHEDhb-W-OiX28dx&export=download\n",
      "To: /media/scratch1/erbachj/Mask_RCNN/data/InteriorNet/data/HD7/train/3FO4J6XTC8KD_Dining_room.zip\n",
      "73.1MB [00:00, 80.8MB/s]\n"
     ]
    },
    {
     "name": "stdout",
     "output_type": "stream",
     "text": [
      "3FO4J6XTC8KD_Bedroom.zip\n",
      "3FO4J6XTC8KD_Bathroom.zip\n",
      "3FO4J6XRARI0_Living_room.zip\n"
     ]
    },
    {
     "name": "stderr",
     "output_type": "stream",
     "text": [
      "Downloading...\n",
      "From: https://drive.google.com/uc?id=1VUZnogsoQLzYXwyHjrOxq_KDdEL-9Yk5&export=download\n",
      "To: /media/scratch1/erbachj/Mask_RCNN/data/InteriorNet/data/HD7/train/3FO4J6XRARI0_Living_room.zip\n",
      "54.6MB [00:00, 67.9MB/s]\n"
     ]
    },
    {
     "name": "stdout",
     "output_type": "stream",
     "text": [
      "3FO4J6XRARI0_Bathroom.zip\n",
      "3FO4J6XNT9CN_Guest_room.zip\n",
      "3FO4J6XNT9CN_Bedroom.zip\n",
      "3FO4J6XNT9CN_Bathroom.zip\n",
      "3FO4J6XGJK4H_Guest_room.zip\n",
      "3FO4J6XGJK4H_Bedroom.zip\n",
      "3FO4J6XGJK4H_Bathroom.zip\n",
      "3FO4J6X1SHL5_Bedroom.zip\n",
      "3FO4J6X1SHL5_Bathroom.zip\n",
      "3FO4J6WS0UY5_Guest_room.zip\n",
      "3FO4J6WS0UY5_Bedroom.zip\n",
      "3FO4J6WS0UY5_Bathroom.zip\n",
      "3FO4J6UYGGUV_Living_room.zip\n"
     ]
    },
    {
     "name": "stderr",
     "output_type": "stream",
     "text": [
      "Downloading...\n",
      "From: https://drive.google.com/uc?id=14A8kxSqUqNiKy8au1H50piJtyZ3ZN6ys&export=download\n",
      "To: /media/scratch1/erbachj/Mask_RCNN/data/InteriorNet/data/HD7/train/3FO4J6UYGGUV_Living_room.zip\n",
      "62.8MB [00:03, 16.8MB/s]\n"
     ]
    },
    {
     "name": "stdout",
     "output_type": "stream",
     "text": [
      "3FO4J6UYBEND_Living_room.zip\n"
     ]
    },
    {
     "name": "stderr",
     "output_type": "stream",
     "text": [
      "Downloading...\n",
      "From: https://drive.google.com/uc?id=13EoftR0MDojxc6FX8nmkqpfc2DloNkrU&export=download\n",
      "To: /media/scratch1/erbachj/Mask_RCNN/data/InteriorNet/data/HD7/train/3FO4J6UYBEND_Living_room.zip\n",
      "68.0MB [00:01, 47.6MB/s]\n"
     ]
    },
    {
     "name": "stdout",
     "output_type": "stream",
     "text": [
      "3FO4J6UYBEND_Bedroom.zip\n",
      "3FO4J6UYBEND_Bathroom.zip\n",
      "3FO4J6U698CM_Bathroom.zip\n",
      "3FO4J6U3SJ30_Living_room.zip\n"
     ]
    },
    {
     "name": "stderr",
     "output_type": "stream",
     "text": [
      "Downloading...\n",
      "From: https://drive.google.com/uc?id=15Tr7zLy6OxcjYjGy-6lMLrESD0TA-TNi&export=download\n",
      "To: /media/scratch1/erbachj/Mask_RCNN/data/InteriorNet/data/HD7/train/3FO4J6U3SJ30_Living_room.zip\n",
      "60.0MB [00:01, 42.0MB/s]\n"
     ]
    },
    {
     "name": "stdout",
     "output_type": "stream",
     "text": [
      "3FO4J6U3SJ30_Guest_room.zip\n",
      "3FO4J6U3SJ30_Bedroom.zip\n",
      "3FO4J6U3SJ30_Bathroom.zip\n",
      "3FO4J6TPAQ8L_Bedroom.zip\n",
      "3FO4J6TPAQ8L_Bathroom.zip\n",
      "3FO4J6TI2AGS_Guest_room.zip\n",
      "3FO4J6TI2AGS_Bedroom.zip\n",
      "3FO4J6TI2AGS_Bathroom.zip\n",
      "3FO4J6T3IADK_Bedroom.zip\n",
      "3FO4J6SJINFS_Guest_room.zip\n",
      "3FO4J6SJINFS_Bedroom.zip\n",
      "3FO4J6SJINFS_Bathroom.zip\n",
      "3FO4J6S7U2JL_Bedroom.zip\n",
      "3FO4J6S7U2JL_Bathroom.zip\n",
      "3FO4J6RAGN7M_Bedroom.zip\n",
      "3FO4J6RAGN7M_Bathroom.zip\n",
      "3FO4J6RADEIN_Guest_room.zip\n",
      "3FO4J6RADEIN_Bathroom.zip\n",
      "3FO4J6QVIDOL_Bathroom.zip\n",
      "3FO4J6QNL5CO_Bedroom.zip\n",
      "3FO4J6QNL5CO_Bathroom.zip\n",
      "3FO4J6Q44I8T_Guest_room.zip\n",
      "3FO4J6Q44I8T_Bedroom.zip\n",
      "3FO4J6Q44I8T_Bathroom.zip\n",
      "3FO4J6Q2XSTN_Guest_room.zip\n",
      "3FO4J6Q2XSTN_Bedroom.zip\n",
      "3FO4J6Q2XSTN_Bathroom.zip\n",
      "3FO4J6PR1KSC_Living_room.zip\n"
     ]
    },
    {
     "name": "stderr",
     "output_type": "stream",
     "text": [
      "Downloading...\n",
      "From: https://drive.google.com/uc?id=1uBdkb3RQaH_RW77FDciTKerZg9xXnq_k&export=download\n",
      "To: /media/scratch1/erbachj/Mask_RCNN/data/InteriorNet/data/HD7/train/3FO4J6PR1KSC_Living_room.zip\n",
      "67.5MB [00:00, 77.6MB/s]\n"
     ]
    },
    {
     "name": "stdout",
     "output_type": "stream",
     "text": [
      "3FO4J6PR1KSC_Guest_room.zip\n",
      "3FO4J6PR1KSC_Bedroom.zip\n",
      "3FO4J6PR1KSC_Bathroom.zip\n",
      "3FO4J6PN8I2J_Bedroom.zip\n",
      "3FO4J6PN8I2J_Bathroom.zip\n",
      "3FO4J6PJULYA_Living_room.zip\n"
     ]
    },
    {
     "name": "stderr",
     "output_type": "stream",
     "text": [
      "Downloading...\n",
      "From: https://drive.google.com/uc?id=1RAHZhEBhWzyjmHXCJBa8GvQL8hKLwLoS&export=download\n",
      "To: /media/scratch1/erbachj/Mask_RCNN/data/InteriorNet/data/HD7/train/3FO4J6PJULYA_Living_room.zip\n",
      "68.9MB [00:02, 28.4MB/s]\n"
     ]
    },
    {
     "name": "stdout",
     "output_type": "stream",
     "text": [
      "3FO4J6PJULYA_Guest_room.zip\n",
      "3FO4J6PJULYA_Bedroom.zip\n",
      "3FO4J6PJULYA_Bathroom.zip\n",
      "3FO4J6P71VQ3_Living_room.zip\n"
     ]
    },
    {
     "name": "stderr",
     "output_type": "stream",
     "text": [
      "Downloading...\n",
      "From: https://drive.google.com/uc?id=1d3xp54cs5FdEfgVvIOR5nft3AM5ydjAt&export=download\n",
      "To: /media/scratch1/erbachj/Mask_RCNN/data/InteriorNet/data/HD7/train/3FO4J6P71VQ3_Living_room.zip\n",
      "66.7MB [00:02, 22.5MB/s]\n"
     ]
    },
    {
     "name": "stdout",
     "output_type": "stream",
     "text": [
      "3FO4J6OTUPLM_Living_room.zip\n"
     ]
    },
    {
     "name": "stderr",
     "output_type": "stream",
     "text": [
      "Downloading...\n",
      "From: https://drive.google.com/uc?id=1TrCCMzsfXvIifylnUChz5700rBQ3JcyF&export=download\n",
      "To: /media/scratch1/erbachj/Mask_RCNN/data/InteriorNet/data/HD7/train/3FO4J6OTUPLM_Living_room.zip\n",
      "66.5MB [00:00, 71.2MB/s]\n"
     ]
    },
    {
     "name": "stdout",
     "output_type": "stream",
     "text": [
      "3FO4J6O7J2NU_Guest_room.zip\n",
      "3FO4J6O7J2NU_Bedroom.zip\n",
      "3FO4J6O7J2NU_Bathroom.zip\n",
      "3FO4J6ME28UD_Living_room.zip\n"
     ]
    },
    {
     "name": "stderr",
     "output_type": "stream",
     "text": [
      "Downloading...\n",
      "From: https://drive.google.com/uc?id=1Z3di7sCvGxPmd-IcPQBEa7jMqoi-JSH6&export=download\n",
      "To: /media/scratch1/erbachj/Mask_RCNN/data/InteriorNet/data/HD7/train/3FO4J6ME28UD_Living_room.zip\n",
      "69.0MB [00:00, 72.4MB/s]\n"
     ]
    },
    {
     "name": "stdout",
     "output_type": "stream",
     "text": [
      "3FO4J6ME28UD_Bedroom.zip\n",
      "3FO4J6M8N01R_Living_room.zip\n"
     ]
    },
    {
     "name": "stderr",
     "output_type": "stream",
     "text": [
      "Permission denied: https://drive.google.com/uc?id=1Q5al0abpy-6u7AiGIuMwtVpOTaHrum3Y&export=download\n",
      "Maybe you need to change permission over 'Anyone with the link'?\n"
     ]
    },
    {
     "name": "stdout",
     "output_type": "stream",
     "text": [
      "3FO4J6M8N01R_Bedroom.zip\n",
      "3FO4J6M8N01R_Bathroom.zip\n",
      "3FO4J6LYB6C1_Bathroom.zip\n",
      "3FO4J6LG7V4M_Bedroom.zip\n",
      "3FO4J6LG7V4M_Bathroom.zip\n",
      "3FO4J6L6YEFV_Guest_room.zip\n",
      "3FO4J6L6YEFV_Bedroom.zip\n",
      "3FO4J6L6YEFV_Bathroom.zip\n",
      "3FO4J6KYTO37_Bedroom.zip\n",
      "3FO4J6KYTO37_Bathroom.zip\n",
      "3FO4J6KR6F1Y_Living_room.zip\n"
     ]
    },
    {
     "name": "stderr",
     "output_type": "stream",
     "text": [
      "Permission denied: https://drive.google.com/uc?id=1srKwXm0kdEyy6mo8U3hKd3lqghCyw_1z&export=download\n",
      "Maybe you need to change permission over 'Anyone with the link'?\n"
     ]
    },
    {
     "name": "stdout",
     "output_type": "stream",
     "text": [
      "3FO4J6KR6F1Y_Guest_room.zip\n",
      "3FO4J6KR6F1Y_Bedroom.zip\n",
      "3FO4J6KR6F1Y_Bathroom.zip\n",
      "3FO4J6KFDIOH_Guest_room.zip\n",
      "3FO4J6KFDIOH_Dining_room.zip\n"
     ]
    },
    {
     "name": "stderr",
     "output_type": "stream",
     "text": [
      "Permission denied: https://drive.google.com/uc?id=1RnZsNWe5k4lZ_PkG86qnLbje7sb69mVA&export=download\n",
      "Maybe you need to change permission over 'Anyone with the link'?\n"
     ]
    },
    {
     "name": "stdout",
     "output_type": "stream",
     "text": [
      "3FO4J6KFDIOH_Bedroom.zip\n",
      "3FO4J6KFDIOH_Bathroom.zip\n",
      "3FO4J6JM0MVJ_Guest_room.zip\n",
      "3FO4J6JM0MVJ_Bedroom.zip\n",
      "3FO4J6JAWHJG_Bedroom.zip\n",
      "3FO4J6JAWHJG_Bathroom.zip\n",
      "3FO4J6IX2SUY_Guest_room.zip\n",
      "3FO4J6IX2SUY_Bedroom.zip\n",
      "3FO4J6IX2SUY_Bathroom.zip\n",
      "3FO4J6IPR67I_Bedroom.zip\n",
      "3FO4J6HXR28U_Guest_room.zip\n",
      "3FO4J6HXR28U_Bedroom.zip\n",
      "3FO4J6HFHQDN_Living_room.zip\n"
     ]
    },
    {
     "name": "stderr",
     "output_type": "stream",
     "text": [
      "Permission denied: https://drive.google.com/uc?id=1hIV1U4BxMOG3wWx-GGygVExZJnIujQr5&export=download\n",
      "Maybe you need to change permission over 'Anyone with the link'?\n"
     ]
    },
    {
     "name": "stdout",
     "output_type": "stream",
     "text": [
      "3FO4J6HFHQDN_Bedroom.zip\n",
      "3FO4J6HFHQDN_Bathroom.zip\n",
      "3FO4J6HA9VKY_Living_room.zip\n"
     ]
    },
    {
     "name": "stderr",
     "output_type": "stream",
     "text": [
      "Downloading...\n",
      "From: https://drive.google.com/uc?id=10s693qpT6FNKV1z41O24E8FV-f6K2sW6&export=download\n",
      "To: /media/scratch1/erbachj/Mask_RCNN/data/InteriorNet/data/HD7/train/3FO4J6HA9VKY_Living_room.zip\n",
      "56.6MB [00:00, 80.2MB/s]\n"
     ]
    },
    {
     "name": "stdout",
     "output_type": "stream",
     "text": [
      "3FO4J6HA9VKY_Guest_room.zip\n",
      "3FO4J6HA9VKY_Dining_room.zip\n"
     ]
    },
    {
     "name": "stderr",
     "output_type": "stream",
     "text": [
      "Downloading...\n",
      "From: https://drive.google.com/uc?id=173xuGsy6PZjIDYNkBqFfXU4c4Plz6kWs&export=download\n",
      "To: /media/scratch1/erbachj/Mask_RCNN/data/InteriorNet/data/HD7/train/3FO4J6HA9VKY_Dining_room.zip\n",
      "32.7MB [00:00, 36.5MB/s]\n"
     ]
    },
    {
     "name": "stdout",
     "output_type": "stream",
     "text": [
      "3FO4J6HA9VKY_Bedroom.zip\n",
      "3FO4J6HA9VKY_Bathroom.zip\n",
      "3FO4J6H94DUU_Bathroom.zip\n",
      "3FO4J6H8VQDK_Guest_room.zip\n",
      "3FO4J6H8VQDK_Bedroom.zip\n",
      "3FO4J6H8VQDK_Bathroom.zip\n",
      "3FO4J6GYWFOK_Living_room.zip\n"
     ]
    },
    {
     "name": "stderr",
     "output_type": "stream",
     "text": [
      "Downloading...\n",
      "From: https://drive.google.com/uc?id=1G6BvC8bJfTxx-PXSzQtyOMuelKd6ISu2&export=download\n",
      "To: /media/scratch1/erbachj/Mask_RCNN/data/InteriorNet/data/HD7/train/3FO4J6GYWFOK_Living_room.zip\n",
      "59.4MB [00:02, 28.5MB/s]\n"
     ]
    },
    {
     "name": "stdout",
     "output_type": "stream",
     "text": [
      "3FO4J6GYWFOK_Guest_room.zip\n",
      "3FO4J6GYWFOK_Bathroom.zip\n",
      "3FO4J6GS80BG_Guest_room.zip\n",
      "3FO4J6GS80BG_Bedroom.zip\n",
      "3FO4J6GS80BG_Bathroom.zip\n",
      "3FO4J6GRVCDY_Living_room.zip\n"
     ]
    },
    {
     "name": "stderr",
     "output_type": "stream",
     "text": [
      "Downloading...\n",
      "From: https://drive.google.com/uc?id=1tqSPH245Hose1_-ILJ2fLs_q1TePHyfh&export=download\n",
      "To: /media/scratch1/erbachj/Mask_RCNN/data/InteriorNet/data/HD7/train/3FO4J6GRVCDY_Living_room.zip\n",
      "9.20MB [00:00, 53.3MB/s]\n"
     ]
    },
    {
     "name": "stdout",
     "output_type": "stream",
     "text": [
      "3FO4J6GRVCDY_Bedroom.zip\n",
      "3FO4J6GRVCDY_Bathroom.zip\n",
      "3FO4J6GKEAOL_Guest_room.zip\n",
      "3FO4J6GKEAOL_Bedroom.zip\n",
      "3FO4J6GKEAOL_Bathroom.zip\n",
      "3FO4J6GJE583_Guest_room.zip\n",
      "3FO4J6GJE583_Bedroom.zip\n",
      "3FO4J6GJE583_Bathroom.zip\n",
      "3FO4J6GHWQBP_Guest_room.zip\n",
      "3FO4J6GHWQBP_Bathroom.zip\n",
      "3FO4J6G7WF2X_Bathroom.zip\n",
      "3FO4J6FP9OV7_Guest_room.zip\n",
      "3FO4J6FP9OV7_Bedroom.zip\n",
      "3FO4J6FP9OV7_Bathroom.zip\n",
      "3FO4J6FP57PU_Bedroom.zip\n",
      "3FO4J6FP57PU_Bathroom.zip\n",
      "3FO4J6FOSD4B_Bathroom.zip\n",
      "3FO4J6EVMN3I_Bedroom.zip\n",
      "3FO4J6EVMN3I_Bathroom.zip\n",
      "3FO4J6DVN3VA_Guest_room.zip\n",
      "3FO4J6DVN3VA_Bedroom.zip\n",
      "3FO4J6DVN3VA_Bathroom.zip\n",
      "3FO4J6DVAO7K_Living_room.zip\n"
     ]
    },
    {
     "name": "stderr",
     "output_type": "stream",
     "text": [
      "Permission denied: https://drive.google.com/uc?id=1dqn8ikvIWPyJfJ39wHgfeQR5YnfypRWK&export=download\n",
      "Maybe you need to change permission over 'Anyone with the link'?\n"
     ]
    },
    {
     "name": "stdout",
     "output_type": "stream",
     "text": [
      "3FO4J6DV38EC_Guest_room.zip\n",
      "3FO4J6DV38EC_Bedroom.zip\n",
      "3FO4J6DV38EC_Bathroom.zip\n",
      "3FO4J6DTMYMB_Guest_room.zip\n",
      "3FO4J6DTMYMB_Bedroom.zip\n",
      "3FO4J6DTMYMB_Bathroom.zip\n",
      "3FO4J6DJWRSK_Guest_room.zip\n",
      "3FO4J6DJWRSK_Bedroom.zip\n",
      "3FO4J6DJWRSK_Bathroom.zip\n",
      "3FO4J6D9FJPQ_Living_room.zip\n"
     ]
    },
    {
     "name": "stderr",
     "output_type": "stream",
     "text": [
      "Permission denied: https://drive.google.com/uc?id=1aP-2VlaoFFBevf7S4FsdMt8Mox3XPIQE&export=download\n",
      "Maybe you need to change permission over 'Anyone with the link'?\n"
     ]
    },
    {
     "name": "stdout",
     "output_type": "stream",
     "text": [
      "3FO4J6CWHL5Q_Living_room.zip\n"
     ]
    },
    {
     "name": "stderr",
     "output_type": "stream",
     "text": [
      "Permission denied: https://drive.google.com/uc?id=1BEybPF40aLQP0_ZrGzdvxkRkVCg0rMEN&export=download\n",
      "Maybe you need to change permission over 'Anyone with the link'?\n"
     ]
    },
    {
     "name": "stdout",
     "output_type": "stream",
     "text": [
      "3FO4J6CWHL5Q_Guest_room.zip\n",
      "3FO4J6CWHL5Q_Bedroom.zip\n",
      "3FO4J6CWHL5Q_Bathroom.zip\n",
      "3FO4J6C0RYDV_Bedroom.zip\n",
      "3FO4J6C0RYDV_Bathroom.zip\n",
      "3FO4J6BP2M3M_Guest_room.zip\n",
      "3FO4J6BP2M3M_Bedroom.zip\n",
      "3FO4J6BP2M3M_Bathroom.zip\n",
      "3FO4J6BO5PB3_Guest_room.zip\n",
      "3FO4J6BO5PB3_Bedroom.zip\n",
      "3FO4J6BO5PB3_Bathroom.zip\n",
      "3FO4J6BNTCEO_Guest_room.zip\n",
      "3FO4J6BNTCEO_Bedroom.zip\n",
      "3FO4J6BNTCEO_Bathroom.zip\n",
      "3FO4J6AXU7S9_Bedroom.zip\n",
      "3FO4J6AIYGFI_Bedroom.zip\n",
      "3FO4J6A8T2Y8_Guest_room.zip\n",
      "3FO4J63HN1M3_Guest_room.zip\n",
      "3FO4J62YSMDC_Bathroom.zip\n",
      "3FO4J5UJFL0V_Dining_room.zip\n"
     ]
    },
    {
     "name": "stderr",
     "output_type": "stream",
     "text": [
      "Permission denied: https://drive.google.com/uc?id=1YT3JRidFhU8Y_MtYg0hx62jYRik0UJDc&export=download\n",
      "Maybe you need to change permission over 'Anyone with the link'?\n"
     ]
    },
    {
     "name": "stdout",
     "output_type": "stream",
     "text": [
      "3FO4J5T04QXE_Bedroom.zip\n",
      "3FO4J5QQHCD8_Bedroom.zip\n",
      "3FO4J5QOL8JG_Guest_room.zip\n",
      "3FO4J5PTO079_Bedroom.zip\n",
      "3FO4J5OQOCXL_Bedroom.zip\n",
      "3FO4J5JXFAJC_Bathroom.zip\n",
      "3FO4J5IVLTF0_Bathroom.zip\n",
      "3FO4J5H1419A_Living_room.zip\n"
     ]
    },
    {
     "name": "stderr",
     "output_type": "stream",
     "text": [
      "Permission denied: https://drive.google.com/uc?id=14moB0WdEGfTwKQKSWjyjTOFSPgKheo8K&export=download\n",
      "Maybe you need to change permission over 'Anyone with the link'?\n"
     ]
    },
    {
     "name": "stdout",
     "output_type": "stream",
     "text": [
      "3FO4J5FWPPUJ_Guest_room.zip\n",
      "3FO4J5FL0YU0_Living_room.zip\n"
     ]
    },
    {
     "name": "stderr",
     "output_type": "stream",
     "text": [
      "Permission denied: https://drive.google.com/uc?id=1-jPAGvzV-5da-BmsGC1Nxw4acFxBJETm&export=download\n",
      "Maybe you need to change permission over 'Anyone with the link'?\n"
     ]
    },
    {
     "name": "stdout",
     "output_type": "stream",
     "text": [
      "3FO4J6A8T2Y8_Bathroom.zip\n",
      "3FO4J68N5R3J_Guest_room.zip\n",
      "3FO4J68N5R3J_Bedroom.zip\n",
      "3FO4J68N5R3J_Bathroom.zip\n",
      "3FO4J68L81FA_Living_room.zip\n"
     ]
    },
    {
     "name": "stderr",
     "output_type": "stream",
     "text": [
      "Permission denied: https://drive.google.com/uc?id=110WFFV7roKKpfxgyOyysEtTgqUP8UmGv&export=download\n",
      "Maybe you need to change permission over 'Anyone with the link'?\n"
     ]
    },
    {
     "name": "stdout",
     "output_type": "stream",
     "text": [
      "3FO4J68L81FA_Bedroom.zip\n",
      "3FO4J68L81FA_Bathroom.zip\n",
      "3FO4J685YH0P_Guest_room.zip\n",
      "3FO4J685YH0P_Bedroom.zip\n",
      "3FO4J685YH0P_Bathroom.zip\n",
      "3FO4J682UA72_Guest_room.zip\n",
      "3FO4J682UA72_Bedroom.zip\n",
      "3FO4J682UA72_Bathroom.zip\n",
      "3FO4J67YJ4AB_Guest_room.zip\n",
      "3FO4J67YJ4AB_Bathroom.zip\n",
      "3FO4J67UW5JC_Guest_room.zip\n",
      "3FO4J67UW5JC_Bedroom.zip\n",
      "3FO4J67UW5JC_Bathroom.zip\n",
      "3FO4J64XDFG2_Bedroom.zip\n",
      "3FO4J64XDFG2_Bathroom.zip\n",
      "3FO4J64IU0F0_Bedroom.zip\n",
      "3FO4J6465Y17_Guest_room.zip\n",
      "3FO4J6465Y17_Bedroom.zip\n",
      "3FO4J6465Y17_Bathroom.zip\n",
      "3FO4J63VKCOT_Guest_room.zip\n",
      "3FO4J63VKCOT_Bedroom.zip\n",
      "3FO4J63VKCOT_Bathroom.zip\n",
      "3FO4J63HN1M3_Living_room.zip\n"
     ]
    },
    {
     "name": "stderr",
     "output_type": "stream",
     "text": [
      "Permission denied: https://drive.google.com/uc?id=1WG3ETqZlvLClcg3DRUf2sErXg3uC8QBA&export=download\n",
      "Maybe you need to change permission over 'Anyone with the link'?\n"
     ]
    },
    {
     "name": "stdout",
     "output_type": "stream",
     "text": [
      "3FO4J63HN1M3_Bedroom.zip\n",
      "3FO4J63HN1M3_Bathroom.zip\n",
      "3FO4J63A09B0_Bedroom.zip\n",
      "3FO4J63A09B0_Bathroom.zip\n",
      "3FO4J6354J5X_Bathroom.zip\n",
      "3FO4J6300LGF_Living_room.zip\n"
     ]
    },
    {
     "name": "stderr",
     "output_type": "stream",
     "text": [
      "Permission denied: https://drive.google.com/uc?id=1SvXwFTs_bFi7w21hXKx3SF3hBDf2B-M7&export=download\n",
      "Maybe you need to change permission over 'Anyone with the link'?\n"
     ]
    },
    {
     "name": "stdout",
     "output_type": "stream",
     "text": [
      "3FO4J6300LGF_Guest_room.zip\n",
      "3FO4J6300LGF_Bedroom.zip\n",
      "3FO4J6300LGF_Bathroom.zip\n",
      "3FO4J62YXB7Q_Guest_room.zip\n",
      "3FO4J62YXB7Q_Bedroom.zip\n",
      "3FO4J62YXB7Q_Bathroom.zip\n",
      "3FO4J62YSMDC_Guest_room.zip\n",
      "3FO4J62YSMDC_Bedroom.zip\n",
      "3FO4J61BLA71_Guest_room.zip\n",
      "3FO4J61BLA71_Bedroom.zip\n",
      "3FO4J61BLA71_Bathroom.zip\n",
      "3FO4J60FASAE_Guest_room.zip\n",
      "3FO4J60FASAE_Bedroom.zip\n",
      "3FO4J60FASAE_Bathroom.zip\n",
      "3FO4J5YMT97T_Bedroom.zip\n",
      "3FO4J5YMT97T_Bathroom.zip\n",
      "3FO4J5XS26F6_Bathroom.zip\n",
      "3FO4J5X8FDQR_Guest_room.zip\n",
      "3FO4J5X8FDQR_Bedroom.zip\n",
      "3FO4J5X8FDQR_Bathroom.zip\n",
      "3FO4J5UJFL0V_Living_room.zip\n"
     ]
    },
    {
     "name": "stderr",
     "output_type": "stream",
     "text": [
      "Permission denied: https://drive.google.com/uc?id=1pD9T6p3za0-Dv6adGFyK4GiG6P6YayBv&export=download\n",
      "Maybe you need to change permission over 'Anyone with the link'?\n"
     ]
    },
    {
     "name": "stdout",
     "output_type": "stream",
     "text": [
      "3FO4J5UJFL0V_Guest_room.zip\n",
      "3FO4J5UJFL0V_Bedroom.zip\n",
      "3FO4J5TPOIS0_Living_room.zip\n"
     ]
    },
    {
     "name": "stderr",
     "output_type": "stream",
     "text": [
      "Permission denied: https://drive.google.com/uc?id=1xkhEqzoGMxpgT-CSfYH8AnKzUD33tJ3_&export=download\n",
      "Maybe you need to change permission over 'Anyone with the link'?\n"
     ]
    },
    {
     "name": "stdout",
     "output_type": "stream",
     "text": [
      "3FO4J5TPOIS0_Guest_room.zip\n",
      "3FO4J5TPOIS0_Dining_room.zip\n"
     ]
    },
    {
     "name": "stderr",
     "output_type": "stream",
     "text": [
      "Permission denied: https://drive.google.com/uc?id=1tlWfWDa0jdAo_9OlEhrwXH2f5GDSZUVF&export=download\n",
      "Maybe you need to change permission over 'Anyone with the link'?\n"
     ]
    },
    {
     "name": "stdout",
     "output_type": "stream",
     "text": [
      "3FO4J5TPOIS0_Bedroom.zip\n",
      "3FO4J5TPOIS0_Bathroom.zip\n",
      "3FO4J5T4AMQ1_Living_room.zip\n"
     ]
    },
    {
     "name": "stderr",
     "output_type": "stream",
     "text": [
      "Permission denied: https://drive.google.com/uc?id=17b8AbLm4fHoTjJJZNu7o63bxyyo8ef9N&export=download\n",
      "Maybe you need to change permission over 'Anyone with the link'?\n"
     ]
    },
    {
     "name": "stdout",
     "output_type": "stream",
     "text": [
      "3FO4J5T4AMQ1_Guest_room.zip\n",
      "3FO4J5T4AMQ1_Dining_room.zip\n"
     ]
    },
    {
     "name": "stderr",
     "output_type": "stream",
     "text": [
      "Permission denied: https://drive.google.com/uc?id=1LjCdI8ITp19vFx82Ct5TH5Bvr51EEbXE&export=download\n",
      "Maybe you need to change permission over 'Anyone with the link'?\n"
     ]
    },
    {
     "name": "stdout",
     "output_type": "stream",
     "text": [
      "3FO4J5T4AMQ1_Bedroom.zip\n",
      "3FO4J5T0PKUM_Guest_room.zip\n",
      "3FO4J5T0PKUM_Bedroom.zip\n",
      "3FO4J5T0PKUM_Bathroom.zip\n",
      "3FO4J5T04QXE_Guest_room.zip\n",
      "3FO4J5SQ5JLF_Guest_room.zip\n",
      "3FO4J5SQ5JLF_Bedroom.zip\n",
      "3FO4J5SQ5JLF_Bathroom.zip\n",
      "3FO4J5S8JCW5_Guest_room.zip\n",
      "3FO4J5S8JCW5_Bedroom.zip\n",
      "3FO4J5S8JCW5_Bathroom.zip\n",
      "3FO4J5R7GYLL_Bedroom.zip\n",
      "3FO4J5R7GYLL_Bathroom.zip\n",
      "3FO4J5R6XCL1_Bedroom.zip\n",
      "3FO4J5R6XCL1_Bathroom.zip\n",
      "3FO4J5R2SIKP_Bedroom.zip\n",
      "3FO4J5R2SIKP_Bathroom.zip\n",
      "3FO4J5QQL9GE_Bedroom.zip\n",
      "3FO4J5QQL9GE_Bathroom.zip\n",
      "3FO4J5QQHCD8_Bathroom.zip\n",
      "3FO4J5QPMMHC_Guest_room.zip\n",
      "3FO4J5QPMMHC_Bedroom.zip\n",
      "3FO4J5QPMMHC_Bathroom.zip\n",
      "3FO4J5QPI5C0_Guest_room.zip\n",
      "3FO4J5QPI5C0_Bedroom.zip\n",
      "3FO4J5QPI5C0_Bathroom.zip\n",
      "3FO4J5QPHQXV_Guest_room.zip\n",
      "3FO4J5QPHQXV_Bedroom.zip\n",
      "3FO4J5QPHQXV_Bathroom.zip\n",
      "3FO4J5QPGP6K_Guest_room.zip\n",
      "3FO4J5QPGP6K_Dining_room.zip\n"
     ]
    },
    {
     "name": "stderr",
     "output_type": "stream",
     "text": [
      "Permission denied: https://drive.google.com/uc?id=1sAa6yWq7qhIiesXCg68AyTci_TvuLNG_&export=download\n",
      "Maybe you need to change permission over 'Anyone with the link'?\n"
     ]
    },
    {
     "name": "stdout",
     "output_type": "stream",
     "text": [
      "3FO4J5QPGP6K_Bedroom.zip\n",
      "3FO4J5QPGP6K_Bathroom.zip\n",
      "3FO4J5QOL8JG_Bedroom.zip\n",
      "3FO4J5QOL8JG_Bathroom.zip\n",
      "3FO4J5QJ99YJ_Guest_room.zip\n",
      "3FO4J5QJ99YJ_Bedroom.zip\n",
      "3FO4J5QJ99YJ_Bathroom.zip\n",
      "3FO4J5Q6KBWR_Guest_room.zip\n",
      "3FO4J5Q6KBWR_Bedroom.zip\n",
      "3FO4J5Q6KBWR_Bathroom.zip\n",
      "3FO4J5PVAX1A_Living_room.zip\n"
     ]
    },
    {
     "name": "stderr",
     "output_type": "stream",
     "text": [
      "Permission denied: https://drive.google.com/uc?id=1gJ9jEplu1y_HQsWVXm1-RnXUa6FMEdjX&export=download\n",
      "Maybe you need to change permission over 'Anyone with the link'?\n"
     ]
    },
    {
     "name": "stdout",
     "output_type": "stream",
     "text": [
      "3FO4J5PVAX1A_Guest_room.zip\n",
      "3FO4J5PVAX1A_Dining_room.zip\n"
     ]
    },
    {
     "name": "stderr",
     "output_type": "stream",
     "text": [
      "Permission denied: https://drive.google.com/uc?id=1OE7W4m13JZQAfIllDeVxfzRw9jdEx-lK&export=download\n",
      "Maybe you need to change permission over 'Anyone with the link'?\n"
     ]
    },
    {
     "name": "stdout",
     "output_type": "stream",
     "text": [
      "3FO4J5PVAX1A_Bedroom.zip\n",
      "3FO4J5PVAX1A_Bathroom.zip\n",
      "3FO4J5PTO079_Guest_room.zip\n",
      "3FO4J5PTO079_Bathroom.zip\n",
      "3FO4J5PTGMQ2_Living_room.zip\n"
     ]
    },
    {
     "name": "stderr",
     "output_type": "stream",
     "text": [
      "Permission denied: https://drive.google.com/uc?id=1vYYOLeVJbtk1qSpBZ8FXB9WAG5RKOgsa&export=download\n",
      "Maybe you need to change permission over 'Anyone with the link'?\n"
     ]
    },
    {
     "name": "stdout",
     "output_type": "stream",
     "text": [
      "3FO4J5PTGMQ2_Guest_room.zip\n",
      "3FO4J5PTGMQ2_Dining_room.zip\n"
     ]
    },
    {
     "name": "stderr",
     "output_type": "stream",
     "text": [
      "Permission denied: https://drive.google.com/uc?id=1tw5JdYFmdZvgXoA1oBDoOvyBGNcw_CY0&export=download\n",
      "Maybe you need to change permission over 'Anyone with the link'?\n"
     ]
    },
    {
     "name": "stdout",
     "output_type": "stream",
     "text": [
      "3FO4J5PTGMQ2_Bedroom.zip\n",
      "3FO4J5PTGMQ2_Bathroom.zip\n",
      "3FO4J5PONRVU_Guest_room.zip\n",
      "3FO4J5PONRVU_Bedroom.zip\n",
      "3FO4J5PONRVU_Bathroom.zip\n",
      "3FO4J5PJW9V2_Living_room.zip\n"
     ]
    },
    {
     "name": "stderr",
     "output_type": "stream",
     "text": [
      "Permission denied: https://drive.google.com/uc?id=1J-eMTAS-VbEVosy0cQSeeav-3WCVfs3t&export=download\n",
      "Maybe you need to change permission over 'Anyone with the link'?\n"
     ]
    },
    {
     "name": "stdout",
     "output_type": "stream",
     "text": [
      "3FO4J5PJW9V2_Guest_room.zip\n",
      "3FO4J5PJW9V2_Bedroom.zip\n",
      "3FO4J5PJW9V2_Bathroom.zip\n",
      "3FO4J5OQOCXL_Guest_room.zip\n",
      "3FO4J5OQOCXL_Bathroom.zip\n",
      "3FO4J5NK474E_Bedroom.zip\n",
      "3FO4J5NK474E_Bathroom.zip\n",
      "3FO4J5NG85PP_Living_room.zip\n"
     ]
    },
    {
     "name": "stderr",
     "output_type": "stream",
     "text": [
      "Permission denied: https://drive.google.com/uc?id=1XpRgpdwSTNW-KazoInH0IRtJ8fhKp-v0&export=download\n",
      "Maybe you need to change permission over 'Anyone with the link'?\n"
     ]
    },
    {
     "name": "stdout",
     "output_type": "stream",
     "text": [
      "3FO4J5NG85PP_Guest_room.zip\n",
      "3FO4J5NG85PP_Dining_room.zip\n"
     ]
    },
    {
     "name": "stderr",
     "output_type": "stream",
     "text": [
      "Permission denied: https://drive.google.com/uc?id=1ThB0Zh-K5lqtwwkhBEZ42ngdQ3_wXFXu&export=download\n",
      "Maybe you need to change permission over 'Anyone with the link'?\n"
     ]
    },
    {
     "name": "stdout",
     "output_type": "stream",
     "text": [
      "3FO4J5NG85PP_Bedroom.zip\n",
      "3FO4J5NG85PP_Bathroom.zip\n",
      "3FO4J5LE2WEH_Living_room.zip\n"
     ]
    },
    {
     "name": "stderr",
     "output_type": "stream",
     "text": [
      "Permission denied: https://drive.google.com/uc?id=1DlBGzvoYYsTiX5zYuB9qNLHyAuLFv7ta&export=download\n",
      "Maybe you need to change permission over 'Anyone with the link'?\n"
     ]
    },
    {
     "name": "stdout",
     "output_type": "stream",
     "text": [
      "3FO4J5K71VIJ_Guest_room.zip\n",
      "3FO4J5K71VIJ_Bedroom.zip\n",
      "3FO4J5K71VIJ_Bathroom.zip\n",
      "3FO4J5JXFAJC_Guest_room.zip\n",
      "3FO4J5JXFAJC_Bedroom.zip\n",
      "3FO4J5JVXBKS_Living_room.zip\n"
     ]
    },
    {
     "name": "stderr",
     "output_type": "stream",
     "text": [
      "Permission denied: https://drive.google.com/uc?id=1yLqFIJX4J9w1NKbZeJoChhQp9EWMq_0K&export=download\n",
      "Maybe you need to change permission over 'Anyone with the link'?\n"
     ]
    },
    {
     "name": "stdout",
     "output_type": "stream",
     "text": [
      "3FO4J5JVXBKS_Guest_room.zip\n",
      "3FO4J5JVXBKS_Dining_room.zip\n"
     ]
    },
    {
     "name": "stderr",
     "output_type": "stream",
     "text": [
      "Permission denied: https://drive.google.com/uc?id=1Ujg2kDQRak9T9QFaCItQOGEW_jbS6WE0&export=download\n",
      "Maybe you need to change permission over 'Anyone with the link'?\n"
     ]
    },
    {
     "name": "stdout",
     "output_type": "stream",
     "text": [
      "3FO4J5JVXBKS_Bedroom.zip\n",
      "3FO4J5JVXBKS_Bathroom.zip\n",
      "3FO4J5JURPIN_Guest_room.zip\n",
      "3FO4J5JURPIN_Bedroom.zip\n",
      "3FO4J5JURPIN_Bathroom.zip\n",
      "3FO4J5JGSAVA_Living_room.zip\n"
     ]
    },
    {
     "name": "stderr",
     "output_type": "stream",
     "text": [
      "Permission denied: https://drive.google.com/uc?id=1H8W6BpAJXVI7TgsLE9PFq3cOzoDwbOkZ&export=download\n",
      "Maybe you need to change permission over 'Anyone with the link'?\n"
     ]
    },
    {
     "name": "stdout",
     "output_type": "stream",
     "text": [
      "3FO4J5JGSAVA_Bedroom.zip\n",
      "3FO4J5JGSAVA_Bathroom.zip\n",
      "3FO4J5IVUC0J_Guest_room.zip\n",
      "3FO4J5IVUC0J_Bathroom.zip\n",
      "3FO4J5IVLTF0_Bedroom.zip\n",
      "3FO4J5IN9RSN_Guest_room.zip\n",
      "3FO4J5IN9RSN_Bedroom.zip\n",
      "3FO4J5IN9RSN_Bathroom.zip\n",
      "3FO4J5IN21YC_Bedroom.zip\n",
      "3FO4J5IN21YC_Bathroom.zip\n",
      "3FO4J5HV39T3_Bedroom.zip\n",
      "3FO4J5HV39T3_Bathroom.zip\n",
      "3FO4J5HRILBS_Guest_room.zip\n",
      "3FO4J5HRILBS_Bedroom.zip\n",
      "3FO4J5HRILBS_Bathroom.zip\n",
      "3FO4J5HMF8OG_Guest_room.zip\n",
      "3FO4J5HMF8OG_Bedroom.zip\n",
      "3FO4J5HAYNNN_Bedroom.zip\n",
      "3FO4J5HAYNNN_Bathroom.zip\n",
      "3FO4J5H1419A_Bathroom.zip\n",
      "3FO4J5GRFIEI_Guest_room.zip\n",
      "3FO4J5GRFIEI_Bedroom.zip\n",
      "3FO4J5GRFIEI_Bathroom.zip\n",
      "3FO4J5GO5V08_Guest_room.zip\n",
      "3FO4J5GO5V08_Bedroom.zip\n",
      "3FO4J5GO5V08_Bathroom.zip\n",
      "3FO4J5GMJVLH_Bedroom.zip\n",
      "3FO4J5GDPX63_Guest_room.zip\n",
      "3FO4J5GDPX63_Bedroom.zip\n",
      "3FO4J5GDPX63_Bathroom.zip\n",
      "3FO4J5GBONRR_Guest_room.zip\n",
      "3FO4J5GBONRR_Bedroom.zip\n",
      "3FO4J5GBONRR_Bathroom.zip\n",
      "3FO4J5FWPPUJ_Bedroom.zip\n",
      "3FO4J5FWPPUJ_Bathroom.zip\n",
      "3FO4J5FWNSYY_Bedroom.zip\n",
      "3FO4J5FWNSYY_Bathroom.zip\n",
      "3FO4J5FVHTJP_Guest_room.zip\n",
      "3FO4J5FVHTJP_Bedroom.zip\n",
      "3FO4J5FVHTJP_Bathroom.zip\n",
      "3FO4J5FRBR31_Living_room.zip\n"
     ]
    },
    {
     "name": "stderr",
     "output_type": "stream",
     "text": [
      "Permission denied: https://drive.google.com/uc?id=1dTE7wlEVug7IgSMHom3aaL84Xc7R_A1e&export=download\n",
      "Maybe you need to change permission over 'Anyone with the link'?\n"
     ]
    },
    {
     "name": "stdout",
     "output_type": "stream",
     "text": [
      "3FO4J5FRBR31_Dining_room.zip\n"
     ]
    },
    {
     "name": "stderr",
     "output_type": "stream",
     "text": [
      "Permission denied: https://drive.google.com/uc?id=1i5D3p9yaGNiMYibDt70o6C-vpB-j0H4r&export=download\n",
      "Maybe you need to change permission over 'Anyone with the link'?\n"
     ]
    },
    {
     "name": "stdout",
     "output_type": "stream",
     "text": [
      "3FO4J5FRBR31_Bedroom.zip\n",
      "3FO4J5FRBR31_Bathroom.zip\n",
      "3FO4J5FP4ACU_Guest_room.zip\n",
      "3FO4J5FP4ACU_Bedroom.zip\n",
      "3FO4J5FP4ACU_Bathroom.zip\n",
      "3FO4J59MUON6_Guest_room.zip\n",
      "3FO4J581VYBD_Bedroom.zip\n",
      "3FO4J55S6B28_Bedroom.zip\n",
      "3FO4J4YMHT1O_Bedroom.zip\n",
      "3FO4J4XVI28L_Bathroom.zip\n",
      "3FO4J4TWJMI3_Guest_room.zip\n",
      "3FO4J4THJ7AX_Guest_room.zip\n",
      "3FO4J4P52ENU_Bathroom.zip\n",
      "3FO4J4MHVW87_Guest_room.zip\n",
      "3FO4J4J6DE4F_Guest_room.zip\n",
      "3FO4J4GQC5BB_Bathroom.zip\n",
      "3FO4J4FA3HTV_Bedroom.zip\n",
      "3FO4J4DF6F9D_Bedroom.zip\n",
      "3FO4J5FL0YU0_Guest_room.zip\n",
      "3FO4J5FL0YU0_Bedroom.zip\n",
      "3FO4J5FL0YU0_Bathroom.zip\n",
      "3FO4J5FCCUDC_Guest_room.zip\n",
      "3FO4J5FCCUDC_Bedroom.zip\n",
      "3FO4J5FCCUDC_Bathroom.zip\n",
      "3FO4J5F1U8WE_Guest_room.zip\n",
      "3FO4J5F1U8WE_Bedroom.zip\n",
      "3FO4J5F1U8WE_Bathroom.zip\n",
      "3FO4J5EKCQEO_Guest_room.zip\n",
      "3FO4J5EKCQEO_Bedroom.zip\n",
      "3FO4J5EKCQEO_Bathroom.zip\n",
      "3FO4J5D7C4I2_Bedroom.zip\n",
      "3FO4J5D7C4I2_Bathroom.zip\n",
      "3FO4J5D0EN9J_Bedroom.zip\n",
      "3FO4J5CH6HIO_Bedroom.zip\n",
      "3FO4J5C9DN03_Bedroom.zip\n",
      "3FO4J5C9DN03_Bathroom.zip\n",
      "3FO4J5C3IT5T_Bedroom.zip\n",
      "3FO4J5C3IT5T_Bathroom.zip\n",
      "3FO4J5B9LG92_Bedroom.zip\n",
      "3FO4J5B3QWFV_Bedroom.zip\n",
      "3FO4J5B3QWFV_Bathroom.zip\n",
      "3FO4J59XFS1U_Bedroom.zip\n",
      "3FO4J59XFS1U_Bathroom.zip\n",
      "3FO4J59TUJHE_Guest_room.zip\n",
      "3FO4J59TUJHE_Bedroom.zip\n",
      "3FO4J59TUJHE_Bathroom.zip\n",
      "3FO4J59MUON6_Bedroom.zip\n",
      "3FO4J59MUON6_Bathroom.zip\n",
      "3FO4J59GRXAJ_Guest_room.zip\n",
      "3FO4J59GRXAJ_Bedroom.zip\n",
      "3FO4J58W576U_Bedroom.zip\n",
      "3FO4J58W576U_Bathroom.zip\n",
      "3FO4J58V6A6P_Guest_room.zip\n",
      "3FO4J58V6A6P_Bedroom.zip\n",
      "3FO4J58V6A6P_Bathroom.zip\n",
      "3FO4J582QKU8_Guest_room.zip\n",
      "3FO4J582QKU8_Bedroom.zip\n",
      "3FO4J582QKU8_Bathroom.zip\n",
      "3FO4J581VYBD_Living_room.zip\n"
     ]
    },
    {
     "name": "stderr",
     "output_type": "stream",
     "text": [
      "Permission denied: https://drive.google.com/uc?id=12-LeAyIKqJni7GLhhIugu4_jqFtPmJKr&export=download\n",
      "Maybe you need to change permission over 'Anyone with the link'?\n"
     ]
    },
    {
     "name": "stdout",
     "output_type": "stream",
     "text": [
      "3FO4J581VYBD_Guest_room.zip\n",
      "3FO4J581VYBD_Bathroom.zip\n",
      "3FO4J57NBV8A_Bedroom.zip\n",
      "3FO4J57NBV8A_Bathroom.zip\n",
      "3FO4J56OSPWF_Living_room.zip\n"
     ]
    },
    {
     "name": "stderr",
     "output_type": "stream",
     "text": [
      "Permission denied: https://drive.google.com/uc?id=1ke-gYyc-oBGJCF3mGqMd5mlZjlhRFIfE&export=download\n",
      "Maybe you need to change permission over 'Anyone with the link'?\n"
     ]
    },
    {
     "name": "stdout",
     "output_type": "stream",
     "text": [
      "3FO4J56OSPWF_Guest_room.zip\n",
      "3FO4J56OSPWF_Bedroom.zip\n",
      "3FO4J56OSPWF_Bathroom.zip\n",
      "3FO4J56OMF8J_Guest_room.zip\n",
      "3FO4J56OMF8J_Bedroom.zip\n",
      "3FO4J56OMF8J_Bathroom.zip\n",
      "3FO4J56NSAET_Guest_room.zip\n",
      "3FO4J56NSAET_Bedroom.zip\n",
      "3FO4J56NSAET_Bathroom.zip\n",
      "3FO4J55S6B28_Guest_room.zip\n",
      "3FO4J55S6B28_Bathroom.zip\n",
      "3FO4J557YWWY_Living_room.zip\n"
     ]
    },
    {
     "name": "stderr",
     "output_type": "stream",
     "text": [
      "Permission denied: https://drive.google.com/uc?id=1hMClB7Rlh_NEGBRfgBUiFXKzDJ6O-cCu&export=download\n",
      "Maybe you need to change permission over 'Anyone with the link'?\n"
     ]
    },
    {
     "name": "stdout",
     "output_type": "stream",
     "text": [
      "3FO4J557YWWY_Guest_room.zip\n",
      "3FO4J557YWWY_Bedroom.zip\n",
      "3FO4J557YWWY_Bathroom.zip\n",
      "3FO4J53PIASO_Bedroom.zip\n",
      "3FO4J53PIASO_Bathroom.zip\n",
      "3FO4J53P4FYJ_Guest_room.zip\n",
      "3FO4J53P4FYJ_Bedroom.zip\n",
      "3FO4J53P4FYJ_Bathroom.zip\n",
      "3FO4J52PUHUY_Bathroom.zip\n",
      "3FO4J5063OHC_Guest_room.zip\n",
      "3FO4J5063OHC_Bedroom.zip\n",
      "3FO4J5063OHC_Bathroom.zip\n",
      "3FO4J4YMHT1O_Bathroom.zip\n",
      "3FO4J4YF5MUR_Guest_room.zip\n",
      "3FO4J4YF5MUR_Bedroom.zip\n",
      "3FO4J4YF5MUR_Bathroom.zip\n",
      "3FO4J4YB9OT4_Living_room.zip\n"
     ]
    },
    {
     "name": "stderr",
     "output_type": "stream",
     "text": [
      "Permission denied: https://drive.google.com/uc?id=1NXAprEtkc64GLtfkhgPS9E35XoeOSPPt&export=download\n",
      "Maybe you need to change permission over 'Anyone with the link'?\n"
     ]
    },
    {
     "name": "stdout",
     "output_type": "stream",
     "text": [
      "3FO4J4YB9OT4_Guest_room.zip\n",
      "3FO4J4YB9OT4_Dining_room.zip\n"
     ]
    },
    {
     "name": "stderr",
     "output_type": "stream",
     "text": [
      "Permission denied: https://drive.google.com/uc?id=1xLlxotuvi1UvrN7yngLkiNh8BeRT821K&export=download\n",
      "Maybe you need to change permission over 'Anyone with the link'?\n"
     ]
    },
    {
     "name": "stdout",
     "output_type": "stream",
     "text": [
      "3FO4J4YB9OT4_Bedroom.zip\n",
      "3FO4J4YB9OT4_Bathroom.zip\n",
      "3FO4J4Y5JJT9_Living_room.zip\n"
     ]
    },
    {
     "name": "stderr",
     "output_type": "stream",
     "text": [
      "Permission denied: https://drive.google.com/uc?id=1jTQ1FyxO2Feuxp44jpAWGFZYNTKZhAGw&export=download\n",
      "Maybe you need to change permission over 'Anyone with the link'?\n"
     ]
    },
    {
     "name": "stdout",
     "output_type": "stream",
     "text": [
      "3FO4J4Y5JJT9_Bedroom.zip\n",
      "3FO4J4Y5JJT9_Bathroom.zip\n",
      "3FO4J4XVI28L_Guest_room.zip\n",
      "3FO4J4XVI28L_Bedroom.zip\n",
      "3FO4J4XVG210_Living_room.zip\n"
     ]
    },
    {
     "name": "stderr",
     "output_type": "stream",
     "text": [
      "Permission denied: https://drive.google.com/uc?id=11qkrsQv_LEULT9X8_Lxj-TWDJKzioZkY&export=download\n",
      "Maybe you need to change permission over 'Anyone with the link'?\n"
     ]
    },
    {
     "name": "stdout",
     "output_type": "stream",
     "text": [
      "3FO4J4XVG210_Guest_room.zip\n",
      "3FO4J4XVG210_Dining_room.zip\n"
     ]
    },
    {
     "name": "stderr",
     "output_type": "stream",
     "text": [
      "Permission denied: https://drive.google.com/uc?id=1Mp5HNklLmKKayvkwJ8hYyXTk0XjIw5Du&export=download\n",
      "Maybe you need to change permission over 'Anyone with the link'?\n"
     ]
    },
    {
     "name": "stdout",
     "output_type": "stream",
     "text": [
      "3FO4J4XVG210_Bedroom.zip\n",
      "3FO4J4XVG210_Bathroom.zip\n",
      "3FO4J4WXRVM4_Guest_room.zip\n",
      "3FO4J4WXRVM4_Bedroom.zip\n",
      "3FO4J4WXRVM4_Bathroom.zip\n",
      "3FO4J4URI7NO_Guest_room.zip\n",
      "3FO4J4URI7NO_Bedroom.zip\n",
      "3FO4J4URI7NO_Bathroom.zip\n",
      "3FO4J4URF90S_Bedroom.zip\n",
      "3FO4J4U02M1E_Bedroom.zip\n",
      "3FO4J4U02M1E_Bathroom.zip\n",
      "3FO4J4TWJMI3_Bedroom.zip\n",
      "3FO4J4TWJMI3_Bathroom.zip\n",
      "3FO4J4TVW02B_Bedroom.zip\n",
      "3FO4J4TVW02B_Bathroom.zip\n",
      "3FO4J4TO53Y0_Guest_room.zip\n",
      "3FO4J4TO53Y0_Bedroom.zip\n",
      "3FO4J4TO53Y0_Bathroom.zip\n",
      "3FO4J4TO33QE_Guest_room.zip\n",
      "3FO4J4TO33QE_Bedroom.zip\n",
      "3FO4J4TO33QE_Bathroom.zip\n",
      "3FO4J4TI8TYB_Guest_room.zip\n",
      "3FO4J4TI8TYB_Bedroom.zip\n",
      "3FO4J4TI8TYB_Bathroom.zip\n",
      "3FO4J4THJ7AX_Living_room.zip\n"
     ]
    },
    {
     "name": "stderr",
     "output_type": "stream",
     "text": [
      "Permission denied: https://drive.google.com/uc?id=1XBghfqWmVyJqbIQcitgcscEhqg-wcbGI&export=download\n",
      "Maybe you need to change permission over 'Anyone with the link'?\n"
     ]
    },
    {
     "name": "stdout",
     "output_type": "stream",
     "text": [
      "3FO4J4THJ7AX_Bedroom.zip\n",
      "3FO4J4THJ7AX_Bathroom.zip\n",
      "3FO4J4S64N53_Living_room.zip\n"
     ]
    },
    {
     "name": "stderr",
     "output_type": "stream",
     "text": [
      "Permission denied: https://drive.google.com/uc?id=17XzBdVUDOtoDS3tlJi570isWXB35420m&export=download\n",
      "Maybe you need to change permission over 'Anyone with the link'?\n"
     ]
    },
    {
     "name": "stdout",
     "output_type": "stream",
     "text": [
      "3FO4J4S64N53_Guest_room.zip\n",
      "3FO4J4S64N53_Bedroom.zip\n",
      "3FO4J4S64N53_Bathroom.zip\n",
      "3FO4J4RK8FNE_Guest_room.zip\n",
      "3FO4J4RK8FNE_Bedroom.zip\n",
      "3FO4J4RK8FNE_Bathroom.zip\n",
      "3FO4J4PBM67K_Guest_room.zip\n",
      "3FO4J4PBM67K_Bedroom.zip\n",
      "3FO4J4PBM67K_Bathroom.zip\n",
      "3FO4J4P52ENU_Guest_room.zip\n",
      "3FO4J4P52ENU_Bedroom.zip\n",
      "3FO4J4P4M81B_Guest_room.zip\n",
      "3FO4J4P4M81B_Bedroom.zip\n",
      "3FO4J4P4M81B_Bathroom.zip\n",
      "3FO4J4O36D9Q_Guest_room.zip\n",
      "3FO4J4O36D9Q_Bedroom.zip\n",
      "3FO4J4O36D9Q_Bathroom.zip\n",
      "3FO4J4NW356Y_Guest_room.zip\n",
      "3FO4J4NW356Y_Bedroom.zip\n",
      "3FO4J4NW356Y_Bathroom.zip\n",
      "3FO4J4NW1LOI_Guest_room.zip\n",
      "3FO4J4NW1LOI_Bedroom.zip\n",
      "3FO4J4NW1LOI_Bathroom.zip\n",
      "3FO4J4NNXMPV_Bedroom.zip\n",
      "3FO4J4NNXMPV_Bathroom.zip\n",
      "3FO4J4MHVW87_Bedroom.zip\n",
      "3FO4J4MHVW87_Bathroom.zip\n",
      "3FO4J4MAO4UL_Guest_room.zip\n",
      "3FO4J4MAO4UL_Bedroom.zip\n",
      "3FO4J4MAO4UL_Bathroom.zip\n",
      "3FO4J4LBLO4Y_Guest_room.zip\n",
      "3FO4J4LBLO4Y_Bedroom.zip\n",
      "3FO4J4LBLO4Y_Bathroom.zip\n",
      "3FO4J4L3VOW8_Guest_room.zip\n",
      "3FO4J4L3VOW8_Bedroom.zip\n",
      "3FO4J4L3VOW8_Bathroom.zip\n",
      "3FO4J4KIXJCF_Guest_room.zip\n",
      "3FO4J4KIXJCF_Bedroom.zip\n",
      "3FO4J4KIXJCF_Bathroom.zip\n",
      "3FO4J4J6DE4F_Bedroom.zip\n",
      "3FO4J4J167PX_Living_room.zip\n"
     ]
    },
    {
     "name": "stderr",
     "output_type": "stream",
     "text": [
      "Permission denied: https://drive.google.com/uc?id=18fxhdEfgToyZXxUr7xZ1JllVtvO81xwV&export=download\n",
      "Maybe you need to change permission over 'Anyone with the link'?\n"
     ]
    },
    {
     "name": "stdout",
     "output_type": "stream",
     "text": [
      "3FO4J4J167PX_Guest_room.zip\n",
      "3FO4J4J167PX_Dining_room.zip\n"
     ]
    },
    {
     "name": "stderr",
     "output_type": "stream",
     "text": [
      "Permission denied: https://drive.google.com/uc?id=1RHyIXoJiROzqg7RsQLDKmIdlEwva0DdW&export=download\n",
      "Maybe you need to change permission over 'Anyone with the link'?\n"
     ]
    },
    {
     "name": "stdout",
     "output_type": "stream",
     "text": [
      "3FO4J4J167PX_Bedroom.zip\n",
      "3FO4J4J167PX_Bathroom.zip\n",
      "3FO4J4I9BMOX_Guest_room.zip\n",
      "3FO4J4I9BMOX_Bedroom.zip\n",
      "3FO4J4I9BMOX_Bathroom.zip\n",
      "3FO4J4HX407I_Guest_room.zip\n",
      "3FO4J4HX407I_Bedroom.zip\n",
      "3FO4J4HX407I_Bathroom.zip\n",
      "3FO4J4GQC5BB_Guest_room.zip\n",
      "3FO4J4GQC5BB_Bedroom.zip\n",
      "3FO4J4GPPQBW_Guest_room.zip\n",
      "3FO4J4GPPQBW_Bedroom.zip\n",
      "3FO4J4GPPQBW_Bathroom.zip\n",
      "3FO4J4GPBERM_Guest_room.zip\n",
      "3FO4J4GPBERM_Bedroom.zip\n",
      "3FO4J4GPBERM_Bathroom.zip\n",
      "3FO4J4GME3P1_Guest_room.zip\n",
      "3FO4J4GME3P1_Bedroom.zip\n",
      "3FO4J4GME3P1_Bathroom.zip\n",
      "3FO4J4GMDFAT_Guest_room.zip\n",
      "3FO4J4GMDFAT_Bedroom.zip\n",
      "3FO4J4GMDFAT_Bathroom.zip\n",
      "3FO4J4GI96CO_Dining_room.zip\n"
     ]
    },
    {
     "name": "stderr",
     "output_type": "stream",
     "text": [
      "Permission denied: https://drive.google.com/uc?id=1VXYZ3ymVlQTYQkBqPCKgYD7r5c3RXUzr&export=download\n",
      "Maybe you need to change permission over 'Anyone with the link'?\n"
     ]
    },
    {
     "name": "stdout",
     "output_type": "stream",
     "text": [
      "3FO4J4FA3HTV_Guest_room.zip\n",
      "3FO4J4FA3HTV_Bathroom.zip\n",
      "3FO4J4EA8T64_Guest_room.zip\n",
      "3FO4J4EA8T64_Bedroom.zip\n",
      "3FO4J4EA8T64_Bathroom.zip\n",
      "3FO4J4EA7HCP_Guest_room.zip\n",
      "3FO4J4EA7HCP_Bedroom.zip\n",
      "3FO4J4EA7HCP_Bathroom.zip\n",
      "3FO4J4DP2WR0_Guest_room.zip\n",
      "3FO4J4DP2WR0_Bedroom.zip\n",
      "3FO4J4DP2WR0_Bathroom.zip\n",
      "3FO4J4DMIVGD_Guest_room.zip\n",
      "3FO4J4DMIVGD_Bedroom.zip\n",
      "3FO4J4DMIVGD_Bathroom.zip\n",
      "3FO4J4DF6F9D_Guest_room.zip\n",
      "3FO4J4AOEPSY_Bedroom.zip\n",
      "3FO4J4AB2QXB_Guest_room.zip\n",
      "3FO4J46XYQPP_Bathroom.zip\n",
      "3FO4J434LQ16_Dining_room.zip\n"
     ]
    },
    {
     "name": "stderr",
     "output_type": "stream",
     "text": [
      "Permission denied: https://drive.google.com/uc?id=1URYrT9ugcgN9WBS0YbUURna9uIPhDlrh&export=download\n",
      "Maybe you need to change permission over 'Anyone with the link'?\n"
     ]
    },
    {
     "name": "stdout",
     "output_type": "stream",
     "text": [
      "3FO4J3XP8G77_Bedroom.zip\n",
      "3FO4J3UQMKES_Bedroom.zip\n",
      "3FO4J3M6IU7F_Bedroom.zip\n",
      "3FO4J3KW9AT0_Guest_room.zip\n",
      "3FO4J3JH9YST_Bathroom.zip\n",
      "3FO4J3J7BH3L_Bedroom.zip\n",
      "3FO4J3I4R1HH_Bathroom.zip\n",
      "3FO4J3FM8XAE_Guest_room.zip\n",
      "3FO4J3CEVEBA_Bathroom.zip\n",
      "3FO4J4DF6F9D_Bathroom.zip\n",
      "3FO4J4DF5DH2_Guest_room.zip\n",
      "3FO4J4DF5DH2_Bedroom.zip\n",
      "3FO4J4DF5DH2_Bathroom.zip\n",
      "3FO4J4D2NB6C_Bathroom.zip\n",
      "3FO4J4CF0DO7_Guest_room.zip\n",
      "3FO4J4CF0DO7_Bedroom.zip\n",
      "3FO4J4CF0DO7_Bathroom.zip\n",
      "3FO4J4C5B5AQ_Guest_room.zip\n",
      "3FO4J4C5B5AQ_Bedroom.zip\n",
      "3FO4J4C5B5AQ_Bathroom.zip\n",
      "3FO4J4C0G07U_Guest_room.zip\n",
      "3FO4J4C0G07U_Bedroom.zip\n",
      "3FO4J4C0G07U_Bathroom.zip\n",
      "3FO4J4BH9GBH_Bedroom.zip\n",
      "3FO4J4BH9GBH_Bathroom.zip\n",
      "3FO4J4B888QW_Guest_room.zip\n",
      "3FO4J4B888QW_Bedroom.zip\n",
      "3FO4J4B888QW_Bathroom.zip\n",
      "3FO4J4B4WJKB_Guest_room.zip\n",
      "3FO4J4B4WJKB_Dining_room.zip\n"
     ]
    },
    {
     "name": "stderr",
     "output_type": "stream",
     "text": [
      "Permission denied: https://drive.google.com/uc?id=1j-Fs6oA7wrD9A45RqH_n-rrgGi2nwfg4&export=download\n",
      "Maybe you need to change permission over 'Anyone with the link'?\n"
     ]
    },
    {
     "name": "stdout",
     "output_type": "stream",
     "text": [
      "3FO4J4B4WJKB_Bedroom.zip\n",
      "3FO4J4B4WJKB_Bathroom.zip\n",
      "3FO4J4B37D2B_Guest_room.zip\n",
      "3FO4J4B37D2B_Bedroom.zip\n",
      "3FO4J4B37D2B_Bathroom.zip\n",
      "3FO4J4B1JU64_Bedroom.zip\n",
      "3FO4J4B1JU64_Bathroom.zip\n",
      "3FO4J4AOEPSY_Bathroom.zip\n",
      "3FO4J4ALFHUS_Guest_room.zip\n",
      "3FO4J4ALFHUS_Bedroom.zip\n",
      "3FO4J4ALFHUS_Bathroom.zip\n",
      "3FO4J4AKVKT5_Bedroom.zip\n",
      "3FO4J4AFLMGT_Living_room.zip\n"
     ]
    },
    {
     "name": "stderr",
     "output_type": "stream",
     "text": [
      "Permission denied: https://drive.google.com/uc?id=1JTOw0QU6OCsHncRy9PPwrx0MQRYVBs9f&export=download\n",
      "Maybe you need to change permission over 'Anyone with the link'?\n"
     ]
    },
    {
     "name": "stdout",
     "output_type": "stream",
     "text": [
      "3FO4J4AFLMGT_Dining_room.zip\n"
     ]
    },
    {
     "name": "stderr",
     "output_type": "stream",
     "text": [
      "Permission denied: https://drive.google.com/uc?id=1kVwFTS4IaUhaSOXxHOg0JHGO87ABvMP-&export=download\n",
      "Maybe you need to change permission over 'Anyone with the link'?\n"
     ]
    },
    {
     "name": "stdout",
     "output_type": "stream",
     "text": [
      "3FO4J4AFLMGT_Bedroom.zip\n",
      "3FO4J4AFLMGT_Bathroom.zip\n",
      "3FO4J4AERV18_Guest_room.zip\n",
      "3FO4J4AERV18_Bedroom.zip\n",
      "3FO4J4AERV18_Bathroom.zip\n",
      "3FO4J4ADWYGA_Guest_room.zip\n",
      "3FO4J4ADWYGA_Bedroom.zip\n",
      "3FO4J4AB2QXB_Bedroom.zip\n",
      "3FO4J4AB2QXB_Bathroom.zip\n",
      "3FO4J4AAHVGD_Guest_room.zip\n",
      "3FO4J4AAHVGD_Bedroom.zip\n",
      "3FO4J4AAHVGD_Bathroom.zip\n",
      "3FO4J4A9D8TI_Guest_room.zip\n",
      "3FO4J4A9D8TI_Bedroom.zip\n",
      "3FO4J4A9D8TI_Bathroom.zip\n",
      "3FO4J49OW6RT_Bedroom.zip\n",
      "3FO4J49OW6RT_Bathroom.zip\n",
      "3FO4J48C8L6S_Guest_room.zip\n",
      "3FO4J48C8L6S_Bedroom.zip\n",
      "3FO4J48C8L6S_Bathroom.zip\n",
      "3FO4J46XYQPP_Bedroom.zip\n",
      "3FO4J46WECE5_Guest_room.zip\n",
      "3FO4J46WECE5_Bedroom.zip\n",
      "3FO4J46WECE5_Bathroom.zip\n",
      "3FO4J46W41A2_Bathroom.zip\n",
      "3FO4J46VWM95_Guest_room.zip\n",
      "3FO4J46VWM95_Bedroom.zip\n",
      "3FO4J46VWM95_Bathroom.zip\n",
      "3FO4J46IUB3D_Bedroom.zip\n",
      "3FO4J46IUB3D_Bathroom.zip\n",
      "3FO4J45XFSQO_Guest_room.zip\n",
      "3FO4J45XFSQO_Bedroom.zip\n",
      "3FO4J45XFSQO_Bathroom.zip\n",
      "3FO4J4395YWS_Guest_room.zip\n",
      "3FO4J4395YWS_Bedroom.zip\n",
      "3FO4J43425KB_Living_room.zip\n"
     ]
    },
    {
     "name": "stderr",
     "output_type": "stream",
     "text": [
      "Permission denied: https://drive.google.com/uc?id=1QYsSl5WnOBwKEAX4FSv2ccX6aiGEw63P&export=download\n",
      "Maybe you need to change permission over 'Anyone with the link'?\n"
     ]
    },
    {
     "name": "stdout",
     "output_type": "stream",
     "text": [
      "3FO4J43425KB_Guest_room.zip\n",
      "3FO4J43425KB_Dining_room.zip\n"
     ]
    },
    {
     "name": "stderr",
     "output_type": "stream",
     "text": [
      "Permission denied: https://drive.google.com/uc?id=1V6Ho7wsWfDpJnqiTxohJdP54sn6CKMUH&export=download\n",
      "Maybe you need to change permission over 'Anyone with the link'?\n"
     ]
    },
    {
     "name": "stdout",
     "output_type": "stream",
     "text": [
      "3FO4J43425KB_Bedroom.zip\n",
      "3FO4J43425KB_Bathroom.zip\n",
      "3FO4J4340PEV_Guest_room.zip\n",
      "3FO4J4340PEV_Bedroom.zip\n",
      "3FO4J4340PEV_Bathroom.zip\n",
      "3FO4J426GDR5_Guest_room.zip\n",
      "3FO4J426GDR5_Bedroom.zip\n",
      "3FO4J426GDR5_Bathroom.zip\n",
      "3FO4J423LJMA_Bedroom.zip\n",
      "3FO4J423LJMA_Bathroom.zip\n",
      "3FO4J3XP8G77_Guest_room.zip\n",
      "3FO4J3XP8G77_Bathroom.zip\n",
      "3FO4J3WUDEQN_Bedroom.zip\n",
      "3FO4J3WUDEQN_Bathroom.zip\n",
      "3FO4J3WCIM4S_Guest_room.zip\n",
      "3FO4J3WCIM4S_Bedroom.zip\n",
      "3FO4J3WCIM4S_Bathroom.zip\n",
      "3FO4J3VBRP2O_Guest_room.zip\n",
      "3FO4J3VBRP2O_Bedroom.zip\n",
      "3FO4J3VBRP2O_Bathroom.zip\n",
      "3FO4J3UTY81O_Guest_room.zip\n",
      "3FO4J3UTY81O_Bedroom.zip\n",
      "3FO4J3UTY81O_Bathroom.zip\n",
      "3FO4J3UQMKES_Living_room.zip\n"
     ]
    },
    {
     "name": "stderr",
     "output_type": "stream",
     "text": [
      "Permission denied: https://drive.google.com/uc?id=1IE33KNEAf82YeBC7u8-DsuXvGA8GI7GS&export=download\n",
      "Maybe you need to change permission over 'Anyone with the link'?\n"
     ]
    },
    {
     "name": "stdout",
     "output_type": "stream",
     "text": [
      "3FO4J3UQMKES_Guest_room.zip\n",
      "3FO4J3UQMKES_Bathroom.zip\n",
      "3FO4J3T5X12Q_Guest_room.zip\n",
      "3FO4J3T5X12Q_Bedroom.zip\n",
      "3FO4J3T5X12Q_Bathroom.zip\n",
      "3FO4J3SW1E0J_Guest_room.zip\n",
      "3FO4J3SW1E0J_Bedroom.zip\n",
      "3FO4J3SW1E0J_Bathroom.zip\n",
      "3FO4J3S6KTA7_Guest_room.zip\n",
      "3FO4J3S6KTA7_Bedroom.zip\n",
      "3FO4J3S6KTA7_Bathroom.zip\n",
      "3FO4J3QAY41B_Bedroom.zip\n",
      "3FO4J3N7DHNN_Guest_room.zip\n",
      "3FO4J3N7DHNN_Bedroom.zip\n",
      "3FO4J3M6IU7F_Guest_room.zip\n",
      "3FO4J3M6IU7F_Bathroom.zip\n",
      "3FO4J3LULM64_Guest_room.zip\n",
      "3FO4J3LULM64_Bedroom.zip\n",
      "3FO4J3LGBOPL_Guest_room.zip\n",
      "3FO4J3LGBOPL_Bedroom.zip\n",
      "3FO4J3LGBOPL_Bathroom.zip\n",
      "3FO4J3LDGH7M_Guest_room.zip\n",
      "3FO4J3LDGH7M_Bedroom.zip\n",
      "3FO4J3LDGH7M_Bathroom.zip\n",
      "3FO4J3LCUJXD_Bedroom.zip\n",
      "3FO4J3LCUJXD_Bathroom.zip\n",
      "3FO4J3KX4HF1_Guest_room.zip\n",
      "3FO4J3KX4HF1_Bedroom.zip\n",
      "3FO4J3KX4HF1_Bathroom.zip\n",
      "3FO4J3KW9AT0_Bedroom.zip\n",
      "3FO4J3KW9AT0_Bathroom.zip\n",
      "3FO4J3KVC40D_Guest_room.zip\n",
      "3FO4J3KVC40D_Bedroom.zip\n",
      "3FO4J3KVC40D_Bathroom.zip\n",
      "3FO4J3KLAMM9_Bedroom.zip\n",
      "3FO4J3KLAMM9_Bathroom.zip\n",
      "3FO4J3KL7Y0G_Bedroom.zip\n",
      "3FO4J3KL7Y0G_Bathroom.zip\n",
      "3FO4J3KD6F79_Guest_room.zip\n",
      "3FO4J3KD6F79_Bedroom.zip\n",
      "3FO4J3KD6F79_Bathroom.zip\n",
      "3FO4J3JH9YST_Guest_room.zip\n",
      "3FO4J3JH9YST_Bedroom.zip\n",
      "3FO4J3JEOF0Q_Guest_room.zip\n",
      "3FO4J3JEOF0Q_Bedroom.zip\n",
      "3FO4J3JEOF0Q_Bathroom.zip\n",
      "3FO4J3JEMES5_Living_room.zip\n"
     ]
    },
    {
     "name": "stderr",
     "output_type": "stream",
     "text": [
      "Permission denied: https://drive.google.com/uc?id=1wI8rFoOEEAHItmEWFEAQa3Pz142P3M8O&export=download\n",
      "Maybe you need to change permission over 'Anyone with the link'?\n"
     ]
    },
    {
     "name": "stdout",
     "output_type": "stream",
     "text": [
      "3FO4J3JEMES5_Guest_room.zip\n",
      "3FO4J3JEMES5_Bedroom.zip\n",
      "3FO4J3JEMES5_Bathroom.zip\n",
      "3FO4J3JEMBG4_Guest_room.zip\n",
      "3FO4J3JEMBG4_Bedroom.zip\n",
      "3FO4J3JEMBG4_Bathroom.zip\n",
      "3FO4J3J7G2KY_Guest_room.zip\n",
      "3FO4J3J7G2KY_Bedroom.zip\n",
      "3FO4J3J7G2KY_Bathroom.zip\n",
      "3FO4J3J7BH3L_Guest_room.zip\n",
      "3FO4J3J7BH3L_Bathroom.zip\n",
      "3FO4J3ITAL39_Guest_room.zip\n",
      "3FO4J3ITAL39_Bedroom.zip\n",
      "3FO4J3ITAL39_Bathroom.zip\n",
      "3FO4J3ISYBIV_Bedroom.zip\n",
      "3FO4J3ISV66X_Guest_room.zip\n",
      "3FO4J3ISV66X_Bedroom.zip\n",
      "3FO4J3ISV66X_Bathroom.zip\n",
      "3FO4J3IIY3M5_Living_room.zip\n"
     ]
    },
    {
     "name": "stderr",
     "output_type": "stream",
     "text": [
      "Permission denied: https://drive.google.com/uc?id=19BmHUU9SdTU4XOwybX8C7kBM2bdrpkwf&export=download\n",
      "Maybe you need to change permission over 'Anyone with the link'?\n"
     ]
    },
    {
     "name": "stdout",
     "output_type": "stream",
     "text": [
      "3FO4J3IIY3M5_Guest_room.zip\n",
      "3FO4J3IIY3M5_Dining_room.zip\n"
     ]
    },
    {
     "name": "stderr",
     "output_type": "stream",
     "text": [
      "Permission denied: https://drive.google.com/uc?id=1Vtea_WKh6Ev1Y_Z9EwmO3E36gzqSZIPq&export=download\n",
      "Maybe you need to change permission over 'Anyone with the link'?\n"
     ]
    },
    {
     "name": "stdout",
     "output_type": "stream",
     "text": [
      "3FO4J3IBE39V_Bathroom.zip\n",
      "3FO4J3I4R1HH_Guest_room.zip\n",
      "3FO4J3I4R1HH_Bedroom.zip\n",
      "3FO4J3HS1SQS_Living_room.zip\n"
     ]
    },
    {
     "name": "stderr",
     "output_type": "stream",
     "text": [
      "Permission denied: https://drive.google.com/uc?id=1zvxL8x_jfTEAi8i7hnAtDth5NB_GBis6&export=download\n",
      "Maybe you need to change permission over 'Anyone with the link'?\n"
     ]
    },
    {
     "name": "stdout",
     "output_type": "stream",
     "text": [
      "3FO4J3HS1SQS_Guest_room.zip\n",
      "3FO4J3HS1SQS_Bedroom.zip\n",
      "3FO4J3HS1SQS_Bathroom.zip\n",
      "3FO4J3GQRD15_Living_room.zip\n"
     ]
    },
    {
     "name": "stderr",
     "output_type": "stream",
     "text": [
      "Permission denied: https://drive.google.com/uc?id=13qR_aychGXMLbIDzTsjlzjla4zZO3cSa&export=download\n",
      "Maybe you need to change permission over 'Anyone with the link'?\n"
     ]
    },
    {
     "name": "stdout",
     "output_type": "stream",
     "text": [
      "3FO4J3GQRD15_Guest_room.zip\n",
      "3FO4J3GQRD15_Bedroom.zip\n",
      "3FO4J3GQRD15_Bathroom.zip\n",
      "3FO4J3GJGSOP_Bedroom.zip\n",
      "3FO4J3GEHD5J_Guest_room.zip\n",
      "3FO4J3GEHD5J_Bedroom.zip\n",
      "3FO4J3GEHD5J_Bathroom.zip\n",
      "3FO4J3FOBCS2_Bedroom.zip\n",
      "3FO4J3FOBCS2_Bathroom.zip\n",
      "3FO4J3FM8XAE_Bedroom.zip\n",
      "3FO4J3DYY2XS_Bedroom.zip\n",
      "3FO4J3DYY2XS_Bathroom.zip\n",
      "3FO4J3DYQ23E_Bedroom.zip\n",
      "3FO4J3DYQ23E_Bathroom.zip\n",
      "3FO4J3DRUYFL_Guest_room.zip\n",
      "3FO4J3DRUYFL_Bedroom.zip\n",
      "3FO4J3DRUYFL_Bathroom.zip\n",
      "3FO4J3DEXW6E_Living_room.zip\n"
     ]
    },
    {
     "name": "stderr",
     "output_type": "stream",
     "text": [
      "Permission denied: https://drive.google.com/uc?id=12N2GgMhtJwtC1NVxrCK2jgxXXnmEautc&export=download\n",
      "Maybe you need to change permission over 'Anyone with the link'?\n"
     ]
    },
    {
     "name": "stdout",
     "output_type": "stream",
     "text": [
      "3FO4J3DEXW6E_Bedroom.zip\n",
      "3FO4J3CIB3X3_Bedroom.zip\n",
      "3FO4J3CIB3X3_Bathroom.zip\n",
      "3FO4J3CEVEBA_Guest_room.zip\n",
      "3FO4J3CEVEBA_Bedroom.zip\n",
      "3FO4J396Y379_Bathroom.zip\n",
      "3FO4J3608EWO_Bedroom.zip\n",
      "3FO4J344X2K7_Guest_room.zip\n",
      "3FO4J33IFJG5_Bedroom.zip\n",
      "3FO4J30EU1FI_Bathroom.zip\n",
      "3FO4J2PN4SKJ_Guest_room.zip\n",
      "3FO4J2OXWSK8_Guest_room.zip\n",
      "3FO4J2LAVIJ0_Dining_room.zip\n"
     ]
    },
    {
     "name": "stderr",
     "output_type": "stream",
     "text": [
      "Permission denied: https://drive.google.com/uc?id=1v0ZY5foRoypW4Jl5BBAroKjYdIGiulon&export=download\n",
      "Maybe you need to change permission over 'Anyone with the link'?\n"
     ]
    },
    {
     "name": "stdout",
     "output_type": "stream",
     "text": [
      "3FO4J2IEOP6Q_Bedroom.zip\n",
      "3FO4J2HGPK9K_Bedroom.zip\n",
      "3FO4J2DRGUMN_Bathroom.zip\n",
      "3FO4J29S47OV_Bathroom.zip\n",
      "3FO4J28GR5GR_Guest_room.zip\n",
      "3FO4J3CDCF55_Guest_room.zip\n",
      "3FO4J3CDCF55_Bedroom.zip\n",
      "3FO4J3CDCF55_Bathroom.zip\n",
      "3FO4J3CDALLL_Guest_room.zip\n",
      "3FO4J3CDALLL_Bedroom.zip\n",
      "3FO4J3CDALLL_Bathroom.zip\n",
      "3FO4J3CBXLIJ_Guest_room.zip\n",
      "3FO4J3CBXLIJ_Bedroom.zip\n",
      "3FO4J3CBXLIJ_Bathroom.zip\n",
      "3FO4J3CBVVC1_Guest_room.zip\n",
      "3FO4J3CBVVC1_Bedroom.zip\n",
      "3FO4J3CBVVC1_Bathroom.zip\n",
      "3FO4J3CBTEEA_Guest_room.zip\n",
      "3FO4J3CBTEEA_Bedroom.zip\n",
      "3FO4J3BFN4LW_Living_room.zip\n"
     ]
    },
    {
     "name": "stderr",
     "output_type": "stream",
     "text": [
      "Permission denied: https://drive.google.com/uc?id=1Jb9TF4fpIt6tnT5Erat1cMcTdzY7GvPW&export=download\n",
      "Maybe you need to change permission over 'Anyone with the link'?\n"
     ]
    },
    {
     "name": "stdout",
     "output_type": "stream",
     "text": [
      "3FO4J3BFN4LW_Guest_room.zip\n",
      "3FO4J3BFN4LW_Bedroom.zip\n",
      "3FO4J3BFN4LW_Bathroom.zip\n",
      "3FO4J3BFKTD8_Guest_room.zip\n",
      "3FO4J3BFKTD8_Bedroom.zip\n",
      "3FO4J3BFKTD8_Bathroom.zip\n",
      "3FO4J39BFK52_Bedroom.zip\n",
      "3FO4J39BCS68_Bedroom.zip\n",
      "3FO4J39BCOT7_Bedroom.zip\n",
      "3FO4J398JE6S_Guest_room.zip\n",
      "3FO4J398JE6S_Bedroom.zip\n",
      "3FO4J396Y379_Guest_room.zip\n",
      "3FO4J396Y379_Bedroom.zip\n",
      "3FO4J393FN6C_Guest_room.zip\n",
      "3FO4J393FN6C_Bedroom.zip\n",
      "3FO4J393FN6C_Bathroom.zip\n",
      "3FO4J38NPCE8_Living_room.zip\n"
     ]
    },
    {
     "name": "stderr",
     "output_type": "stream",
     "text": [
      "Permission denied: https://drive.google.com/uc?id=1AK-ef9sAEK1RrcZAJTZfkotESEh4y-Yw&export=download\n",
      "Maybe you need to change permission over 'Anyone with the link'?\n"
     ]
    },
    {
     "name": "stdout",
     "output_type": "stream",
     "text": [
      "3FO4J38NPCE8_Guest_room.zip\n",
      "3FO4J38NPCE8_Bedroom.zip\n",
      "3FO4J38NPCE8_Bathroom.zip\n",
      "3FO4J38GLKGT_Guest_room.zip\n",
      "3FO4J38GLKGT_Bedroom.zip\n",
      "3FO4J38GLKGT_Bathroom.zip\n",
      "3FO4J386Q83J_Guest_room.zip\n",
      "3FO4J386Q83J_Bedroom.zip\n",
      "3FO4J386Q83J_Bathroom.zip\n",
      "3FO4J3608EWO_Guest_room.zip\n",
      "3FO4J3608EWO_Bathroom.zip\n",
      "3FO4J357A2D3_Guest_room.zip\n",
      "3FO4J357A2D3_Bedroom.zip\n",
      "3FO4J357A2D3_Bathroom.zip\n",
      "3FO4J34TA4S1_Living_room.zip\n"
     ]
    },
    {
     "name": "stderr",
     "output_type": "stream",
     "text": [
      "Permission denied: https://drive.google.com/uc?id=14NWo4WLt1or1nTr_gQeayy1lCEGIb6Nl&export=download\n",
      "Maybe you need to change permission over 'Anyone with the link'?\n"
     ]
    },
    {
     "name": "stdout",
     "output_type": "stream",
     "text": [
      "3FO4J34TA4S1_Guest_room.zip\n",
      "3FO4J34TA4S1_Bedroom.zip\n",
      "3FO4J34TA4S1_Bathroom.zip\n",
      "3FO4J348DPMA_Guest_room.zip\n",
      "3FO4J348DPMA_Bedroom.zip\n",
      "3FO4J348DPMA_Bathroom.zip\n",
      "3FO4J347PERB_Guest_room.zip\n",
      "3FO4J347PERB_Bedroom.zip\n",
      "3FO4J347PERB_Bathroom.zip\n",
      "3FO4J344X2K7_Bedroom.zip\n",
      "3FO4J33RQ81J_Living_room.zip\n"
     ]
    },
    {
     "name": "stderr",
     "output_type": "stream",
     "text": [
      "Permission denied: https://drive.google.com/uc?id=1vXzzeaqdwwMhxxii0EDKgsFho6xCyxhY&export=download\n",
      "Maybe you need to change permission over 'Anyone with the link'?\n"
     ]
    },
    {
     "name": "stdout",
     "output_type": "stream",
     "text": [
      "3FO4J33RQ81J_Guest_room.zip\n",
      "3FO4J33RQ81J_Bedroom.zip\n",
      "3FO4J33Q4K8L_Guest_room.zip\n",
      "3FO4J33Q4K8L_Bedroom.zip\n",
      "3FO4J33Q4K8L_Bathroom.zip\n",
      "3FO4J33JB4FA_Guest_room.zip\n",
      "3FO4J33JB4FA_Bedroom.zip\n",
      "3FO4J33JB4FA_Bathroom.zip\n",
      "3FO4J33IGHVF_Guest_room.zip\n",
      "3FO4J33IGHVF_Bedroom.zip\n",
      "3FO4J33IGHVF_Bathroom.zip\n",
      "3FO4J33IFJG5_Guest_room.zip\n",
      "3FO4J33IFJG5_Bathroom.zip\n",
      "3FO4J33F9PS0_Guest_room.zip\n",
      "3FO4J33F9PS0_Bedroom.zip\n",
      "3FO4J33F9PS0_Bathroom.zip\n",
      "3FO4J33262ST_Guest_room.zip\n",
      "3FO4J33262ST_Bedroom.zip\n",
      "3FO4J33262ST_Bathroom.zip\n",
      "3FO4J31JOWEO_Bedroom.zip\n",
      "3FO4J30G6QHH_Guest_room.zip\n",
      "3FO4J30G6QHH_Bedroom.zip\n",
      "3FO4J30G6QHH_Bathroom.zip\n",
      "3FO4J30EU1FI_Living_room.zip\n"
     ]
    },
    {
     "name": "stderr",
     "output_type": "stream",
     "text": [
      "Permission denied: https://drive.google.com/uc?id=1NdtZNzGGLLJShlBJ_l0lKDvJ7i6QIvSZ&export=download\n",
      "Maybe you need to change permission over 'Anyone with the link'?\n"
     ]
    },
    {
     "name": "stdout",
     "output_type": "stream",
     "text": [
      "3FO4J30EU1FI_Guest_room.zip\n",
      "3FO4J30EU1FI_Bedroom.zip\n",
      "3FO4J2XB0XEO_Bedroom.zip\n",
      "3FO4J2XB0XEO_Bathroom.zip\n",
      "3FO4J2WUM53J_Guest_room.zip\n",
      "3FO4J2WT9XBF_Guest_room.zip\n",
      "3FO4J2WT9XBF_Bedroom.zip\n",
      "3FO4J2WT9XBF_Bathroom.zip\n",
      "3FO4J2VAMSH1_Guest_room.zip\n",
      "3FO4J2VAMSH1_Bedroom.zip\n",
      "3FO4J2VAMSH1_Bathroom.zip\n",
      "3FO4J2SEYPHD_Guest_room.zip\n",
      "3FO4J2SEYPHD_Bedroom.zip\n",
      "3FO4J2RCT1DD_Guest_room.zip\n",
      "3FO4J2RCT1DD_Bedroom.zip\n",
      "3FO4J2RCT1DD_Bathroom.zip\n",
      "3FO4J2PN4SKJ_Bedroom.zip\n",
      "3FO4J2PN4SKJ_Bathroom.zip\n",
      "3FO4J2PAJAVS_Guest_room.zip\n",
      "3FO4J2PAJAVS_Bedroom.zip\n",
      "3FO4J2PAJAVS_Bathroom.zip\n",
      "3FO4J2PA8LEL_Guest_room.zip\n",
      "3FO4J2PA8LEL_Bedroom.zip\n",
      "3FO4J2PA8LEL_Bathroom.zip\n",
      "3FO4J2P9XKBL_Guest_room.zip\n",
      "3FO4J2P9XKBL_Bedroom.zip\n",
      "3FO4J2P9XKBL_Bathroom.zip\n",
      "3FO4J2P0YJNO_Guest_room.zip\n",
      "3FO4J2P0YJNO_Bedroom.zip\n",
      "3FO4J2P0YJNO_Bathroom.zip\n",
      "3FO4J2OXWSK8_Bedroom.zip\n",
      "3FO4J2OXWSK8_Bathroom.zip\n",
      "3FO4J2OJLFYA_Guest_room.zip\n",
      "3FO4J2OJLFYA_Bedroom.zip\n",
      "3FO4J2OJLFYA_Bathroom.zip\n",
      "3FO4J2LSFIBM_Bedroom.zip\n",
      "3FO4J2LSFIBM_Bathroom.zip\n",
      "3FO4J2LQ2YDX_Guest_room.zip\n",
      "3FO4J2LQ2YDX_Bedroom.zip\n",
      "3FO4J2LQ2YDX_Bathroom.zip\n",
      "3FO4J2LLGP9P_Guest_room.zip\n",
      "3FO4J2LLGP9P_Bedroom.zip\n",
      "3FO4J2LLGP9P_Bathroom.zip\n",
      "3FO4J2LAVIJ0_Living_room.zip\n"
     ]
    },
    {
     "name": "stderr",
     "output_type": "stream",
     "text": [
      "Permission denied: https://drive.google.com/uc?id=1k8lqoev_wa_a1gfm0yW1o0M3iWRuIEkt&export=download\n",
      "Maybe you need to change permission over 'Anyone with the link'?\n"
     ]
    },
    {
     "name": "stdout",
     "output_type": "stream",
     "text": [
      "3FO4J2LAVIJ0_Bedroom.zip\n",
      "3FO4J2LAVIJ0_Bathroom.zip\n",
      "3FO4J2KX88VF_Guest_room.zip\n",
      "3FO4J2KX88VF_Bedroom.zip\n",
      "3FO4J2KX88VF_Bathroom.zip\n",
      "3FO4J2JCIOJD_Living_room.zip\n"
     ]
    },
    {
     "name": "stderr",
     "output_type": "stream",
     "text": [
      "Permission denied: https://drive.google.com/uc?id=17-7leNUupAjWUxb1LULteG9a2juBtcog&export=download\n",
      "Maybe you need to change permission over 'Anyone with the link'?\n"
     ]
    },
    {
     "name": "stdout",
     "output_type": "stream",
     "text": [
      "3FO4J2JCIOJD_Guest_room.zip\n",
      "3FO4J2JCIOJD_Bedroom.zip\n",
      "3FO4J2JCIOJD_Bathroom.zip\n",
      "3FO4J2INHIHS_Bedroom.zip\n",
      "3FO4J2INGA1F_Bedroom.zip\n",
      "3FO4J2INGA1F_Bathroom.zip\n",
      "3FO4J2ILT8UD_Bathroom.zip\n",
      "3FO4J2IEOP6Q_Guest_room.zip\n",
      "3FO4J2IEOP6Q_Bathroom.zip\n",
      "3FO4J2HYSH3U_Bedroom.zip\n",
      "3FO4J2HYSH3U_Bathroom.zip\n",
      "3FO4J2HYRFBJ_Guest_room.zip\n",
      "3FO4J2HYRFBJ_Bedroom.zip\n",
      "3FO4J2HYRFBJ_Bathroom.zip\n",
      "3FO4J2HYQNKB_Living_room.zip\n"
     ]
    },
    {
     "name": "stderr",
     "output_type": "stream",
     "text": [
      "Permission denied: https://drive.google.com/uc?id=12xkMJh65Jw9A211RkcE0Z85ZBD8xL2CF&export=download\n",
      "Maybe you need to change permission over 'Anyone with the link'?\n"
     ]
    },
    {
     "name": "stdout",
     "output_type": "stream",
     "text": [
      "3FO4J2HYQNKB_Guest_room.zip\n",
      "3FO4J2HYQNKB_Bedroom.zip\n",
      "3FO4J2HYQNKB_Bathroom.zip\n",
      "3FO4J2HPC9KS_Guest_room.zip\n",
      "3FO4J2HPC9KS_Bedroom.zip\n",
      "3FO4J2HPC9KS_Bathroom.zip\n",
      "3FO4J2HGPK9K_Guest_room.zip\n",
      "3FO4J2HGPK9K_Bathroom.zip\n",
      "3FO4J2HGB218_Bedroom.zip\n",
      "3FO4J2HGB218_Bathroom.zip\n",
      "3FO4J2FUQGJN_Bedroom.zip\n",
      "3FO4J2FUQGJN_Bathroom.zip\n",
      "3FO4J2F4TDDD_Living_room.zip\n"
     ]
    },
    {
     "name": "stderr",
     "output_type": "stream",
     "text": [
      "Permission denied: https://drive.google.com/uc?id=1wKV9G-GXSvHuiwJ5uTHvVmSpLVP7D6wE&export=download\n",
      "Maybe you need to change permission over 'Anyone with the link'?\n"
     ]
    },
    {
     "name": "stdout",
     "output_type": "stream",
     "text": [
      "3FO4J2F4TDDD_Guest_room.zip\n",
      "3FO4J2F4TDDD_Bedroom.zip\n",
      "3FO4J2F4TDDD_Bathroom.zip\n",
      "3FO4J2EJ9PH5_Bedroom.zip\n",
      "3FO4J2EJ9PH5_Bathroom.zip\n",
      "3FO4J2DRGUMN_Living_room.zip\n"
     ]
    },
    {
     "name": "stderr",
     "output_type": "stream",
     "text": [
      "Permission denied: https://drive.google.com/uc?id=10igIlVsIGVRXLbW51qLS0srQNkN-BG4U&export=download\n",
      "Maybe you need to change permission over 'Anyone with the link'?\n"
     ]
    },
    {
     "name": "stdout",
     "output_type": "stream",
     "text": [
      "3FO4J2DRGUMN_Guest_room.zip\n",
      "3FO4J2DRGUMN_Bedroom.zip\n",
      "3FO4J2D6LOXA_Bedroom.zip\n",
      "3FO4J2D6LOXA_Bathroom.zip\n",
      "3FO4J2C6NUWK_Bedroom.zip\n",
      "3FO4J2C0BXK7_Guest_room.zip\n",
      "3FO4J2C0BXK7_Bedroom.zip\n",
      "3FO4J2C0BXK7_Bathroom.zip\n",
      "3FO4J2A6RWU2_Bedroom.zip\n",
      "3FO4J2A6RWU2_Bathroom.zip\n",
      "3FO4J2A69UVN_Guest_room.zip\n",
      "3FO4J2A69UVN_Bedroom.zip\n",
      "3FO4J2A69UVN_Bathroom.zip\n",
      "3FO4J2A3UVSJ_Guest_room.zip\n",
      "3FO4J2A3UVSJ_Bedroom.zip\n",
      "3FO4J2A3UVSJ_Bathroom.zip\n",
      "3FO4J29CCLBW_Bedroom.zip\n",
      "3FO4J292CK48_Bedroom.zip\n",
      "3FO4J292CK48_Bathroom.zip\n",
      "3FO4J28VLND5_Bedroom.zip\n",
      "3FO4J28VLND5_Bathroom.zip\n",
      "3FO4J28VDCGN_Guest_room.zip\n",
      "3FO4J28VDCGN_Bedroom.zip\n",
      "3FO4J28VDCGN_Bathroom.zip\n",
      "3FO4J28TMUWK_Bathroom.zip\n",
      "3FO4J28QIY50_Bedroom.zip\n",
      "3FO4J28QIY50_Bathroom.zip\n",
      "3FO4J28PW6RH_Guest_room.zip\n",
      "3FO4J28PW6RH_Bedroom.zip\n",
      "3FO4J28PW6RH_Bathroom.zip\n",
      "3FO4LN3BKYLL_Bedroom.zip\n",
      "3FO4JG1K620W_Guest_room.zip\n",
      "3FO4J1CNTBYF_Guest_room.zip\n",
      "3FO4IT4S0V8A_Guest_room.zip\n",
      "3FO4INL9RUVB_Bathroom.zip\n",
      "3FO4J0NRUK4X_Guest_room.zip\n",
      "3FO4IYWAD9VD_Guest_room.zip\n",
      "3FO4IY9U53JW_Guest_room.zip\n",
      "3FO4IXONCWRP_Bedroom.zip\n",
      "3FO4IX4KAL2C_Guest_room.zip\n",
      "3FO4IWKTTX2F_Bathroom.zip\n",
      "3FO4IW1WNYL5_Bathroom.zip\n",
      "3FO4IVNX8BD7_Guest_room.zip\n",
      "3FO4IVGMUKN6_Bathroom.zip\n",
      "3FO4IV01DL6G_Kitchen.zip\n",
      "3FO4IUNG2FPR_Bedroom.zip\n",
      "3FO4IU0OQAQA_Bathroom.zip\n",
      "3FO4ITHTOYLO_Kitchen.zip\n",
      "3FO4J230SIPV_Bedroom.zip\n",
      "3FO4J21M9GHQ_Bathroom.zip\n",
      "3FO4J20SE3SK_Bedroom.zip\n",
      "3FO4J1YVWHW4_Bathroom.zip\n",
      "3FO4J1WP2K3M_Bathroom.zip\n",
      "3FO4J1QTPH76_Bathroom.zip\n",
      "3FO4J1Q0G6BT_Guest_room.zip\n",
      "3FO4J1O0FWS1_Guest_room.zip\n",
      "3FO4J1KDR7W1_Living_room.zip\n"
     ]
    },
    {
     "name": "stderr",
     "output_type": "stream",
     "text": [
      "Permission denied: https://drive.google.com/uc?id=1L6-cy3Je-DAu3yCkEvOfcvpldZuOif3H&export=download\n",
      "Maybe you need to change permission over 'Anyone with the link'?\n"
     ]
    },
    {
     "name": "stdout",
     "output_type": "stream",
     "text": [
      "3FO4J1I9EHUM_Bedroom.zip\n",
      "3FO4J1H1EU0M_Bedroom.zip\n",
      "3FO4J1F9GPC7_Bathroom.zip\n",
      "3FO4J1E7VQSE_Bedroom.zip\n",
      "3FO4J28GR5GR_Bedroom.zip\n",
      "3FO4J28GR5GR_Bathroom.zip\n",
      "3FO4J27IHHQG_Bedroom.zip\n",
      "3FO4J27IHHQG_Bathroom.zip\n",
      "3FO4J277NSF7_Bathroom.zip\n",
      "3FO4J2761DV1_Bathroom.zip\n",
      "3FO4J2758UVS_Bathroom.zip\n",
      "3FO4J27523HR_Bathroom.zip\n",
      "3FO4J274CWJJ_Bathroom.zip\n",
      "3FO4J26WCL06_Bathroom.zip\n",
      "3FO4J26QU05K_Guest_room.zip\n",
      "3FO4J26QU05K_Bedroom.zip\n",
      "3FO4J26QU05K_Bathroom.zip\n",
      "3FO4J265FCCD_Guest_room.zip\n",
      "3FO4J265FCCD_Bathroom.zip\n",
      "3FO4J264TLR6_Bedroom.zip\n",
      "3FO4J264TLR6_Bathroom.zip\n",
      "3FO4J25KN7FD_Guest_room.zip\n",
      "3FO4J25KN7FD_Bedroom.zip\n",
      "3FO4J25KN7FD_Bathroom.zip\n",
      "3FO4J24WJS9L_Bedroom.zip\n",
      "3FO4J24WJS9L_Bathroom.zip\n",
      "3FO4J23WNB2A_Bedroom.zip\n",
      "3FO4J23WNB2A_Bathroom.zip\n",
      "3FO4J23WKJ3G_Living_room.zip\n"
     ]
    },
    {
     "name": "stderr",
     "output_type": "stream",
     "text": [
      "Permission denied: https://drive.google.com/uc?id=1kFwrwobUjsjdJhtOdOW323sSCvtvqddT&export=download\n",
      "Maybe you need to change permission over 'Anyone with the link'?\n"
     ]
    },
    {
     "name": "stdout",
     "output_type": "stream",
     "text": [
      "3FO4J23WKJ3G_Bathroom.zip\n",
      "3FO4J230SIPV_Living_room.zip\n"
     ]
    },
    {
     "name": "stderr",
     "output_type": "stream",
     "text": [
      "Permission denied: https://drive.google.com/uc?id=1HT3wt13qDOWr_UJ47xlwpxsRmw8HYb70&export=download\n",
      "Maybe you need to change permission over 'Anyone with the link'?\n"
     ]
    },
    {
     "name": "stdout",
     "output_type": "stream",
     "text": [
      "3FO4J230SIPV_Guest_room.zip\n",
      "3FO4J230SIPV_Bathroom.zip\n",
      "3FO4J22QVEXJ_Living_room.zip\n"
     ]
    },
    {
     "name": "stderr",
     "output_type": "stream",
     "text": [
      "Permission denied: https://drive.google.com/uc?id=1JxCgGx4NRPdDAfA1G4GVXKFPKG07czIy&export=download\n",
      "Maybe you need to change permission over 'Anyone with the link'?\n"
     ]
    },
    {
     "name": "stdout",
     "output_type": "stream",
     "text": [
      "3FO4J22QVEXJ_Guest_room.zip\n",
      "3FO4J22QVEXJ_Bedroom.zip\n",
      "3FO4J22QVEXJ_Bathroom.zip\n",
      "3FO4J22A4X55_Guest_room.zip\n",
      "3FO4J22A4X55_Bedroom.zip\n",
      "3FO4J22A4X55_Bathroom.zip\n",
      "3FO4J229IWIU_Guest_room.zip\n",
      "3FO4J229IWIU_Bedroom.zip\n",
      "3FO4J228DLHS_Guest_room.zip\n",
      "3FO4J228DLHS_Bedroom.zip\n",
      "3FO4J228DLHS_Bathroom.zip\n",
      "3FO4J21M9GHQ_Living_room.zip\n"
     ]
    },
    {
     "name": "stderr",
     "output_type": "stream",
     "text": [
      "Permission denied: https://drive.google.com/uc?id=1Lv0UctewprG6sFj0IFXhfT-UcvJH9u9_&export=download\n",
      "Maybe you need to change permission over 'Anyone with the link'?\n"
     ]
    },
    {
     "name": "stdout",
     "output_type": "stream",
     "text": [
      "3FO4J2175KWK_Bathroom.zip\n",
      "3FO4J2174T6C_Bathroom.zip\n",
      "3FO4J2174FS8_Bathroom.zip\n",
      "3FO4J2173ANV_Bathroom.zip\n",
      "3FO4J217227I_Bathroom.zip\n",
      "3FO4J216KM3L_Bathroom.zip\n",
      "3FO4J216HXGS_Bathroom.zip\n",
      "3FO4J216GSCG_Bathroom.zip\n",
      "3FO4J21658R0_Bathroom.zip\n",
      "3FO4J20YLPON_Guest_room.zip\n",
      "3FO4J20YLPON_Bedroom.zip\n",
      "3FO4J20YLPON_Bathroom.zip\n",
      "3FO4J20X02VP_Bedroom.zip\n",
      "3FO4J20SE3SK_Guest_room.zip\n",
      "3FO4J20SE3SK_Bathroom.zip\n",
      "3FO4J20SDC2C_Guest_room.zip\n",
      "3FO4J20SDC2C_Bedroom.zip\n",
      "3FO4J20SDC2C_Bathroom.zip\n",
      "3FO4J20MFQ99_Guest_room.zip\n",
      "3FO4J20MFQ99_Bedroom.zip\n",
      "3FO4J20MFQ99_Bathroom.zip\n",
      "3FO4J20E0JAY_Bathroom.zip\n",
      "3FO4J2057WNY_Guest_room.zip\n",
      "3FO4J2057WNY_Bedroom.zip\n",
      "3FO4J2057WNY_Bathroom.zip\n",
      "3FO4J202LRSP_Living_room.zip\n"
     ]
    },
    {
     "name": "stderr",
     "output_type": "stream",
     "text": [
      "Permission denied: https://drive.google.com/uc?id=1udl5biXC3GV1Uz_v6GJe3exTdPvfs09W&export=download\n",
      "Maybe you need to change permission over 'Anyone with the link'?\n"
     ]
    },
    {
     "name": "stdout",
     "output_type": "stream",
     "text": [
      "3FO4J1YVWHW4_Guest_room.zip\n",
      "3FO4J1YVWHW4_Bedroom.zip\n",
      "3FO4J1Y4D3IO_Guest_room.zip\n",
      "3FO4J1Y4D3IO_Bedroom.zip\n",
      "3FO4J1XXJS6V_Bedroom.zip\n",
      "3FO4J1XXJS6V_Bathroom.zip\n",
      "3FO4J1XU48GT_Living_room.zip\n"
     ]
    },
    {
     "name": "stderr",
     "output_type": "stream",
     "text": [
      "Permission denied: https://drive.google.com/uc?id=1PTTEtygXxsj3-4tOdXBWDOVWmJTv0zS_&export=download\n",
      "Maybe you need to change permission over 'Anyone with the link'?\n"
     ]
    },
    {
     "name": "stdout",
     "output_type": "stream",
     "text": [
      "3FO4J1XU48GT_Guest_room.zip\n",
      "3FO4J1XU48GT_Bedroom.zip\n",
      "3FO4J1XU48GT_Bathroom.zip\n",
      "3FO4J1XRRJME_Bedroom.zip\n",
      "3FO4J1XRRJME_Bathroom.zip\n",
      "3FO4J1WSE7PI_Guest_room.zip\n",
      "3FO4J1WSE7PI_Bedroom.zip\n",
      "3FO4J1WSE7PI_Bathroom.zip\n",
      "3FO4J1WP2K3M_Bedroom.zip\n",
      "3FO4J1VOS35F_Living_room.zip\n"
     ]
    },
    {
     "name": "stderr",
     "output_type": "stream",
     "text": [
      "Permission denied: https://drive.google.com/uc?id=1IfsDVvd_IHdGdVcv0Fck_588vcSsChCs&export=download\n",
      "Maybe you need to change permission over 'Anyone with the link'?\n"
     ]
    },
    {
     "name": "stdout",
     "output_type": "stream",
     "text": [
      "3FO4J1VNJVSI_Guest_room.zip\n",
      "3FO4J1VNJVSI_Bedroom.zip\n",
      "3FO4J1VNJVSI_Bathroom.zip\n",
      "3FO4J1TPR1MU_Living_room.zip\n"
     ]
    },
    {
     "name": "stderr",
     "output_type": "stream",
     "text": [
      "Permission denied: https://drive.google.com/uc?id=1js74s5JrV580fXSkJ4F3Ue0tvY4Z4GxU&export=download\n",
      "Maybe you need to change permission over 'Anyone with the link'?\n"
     ]
    },
    {
     "name": "stdout",
     "output_type": "stream",
     "text": [
      "3FO4J1TPR1MU_Guest_room.zip\n",
      "3FO4J1TPR1MU_Bedroom.zip\n",
      "3FO4J1TPR1MU_Bathroom.zip\n",
      "3FO4J1SO8I9H_Guest_room.zip\n",
      "3FO4J1SO8I9H_Bedroom.zip\n",
      "3FO4J1SO8I9H_Bathroom.zip\n",
      "3FO4J1S8FK34_Bathroom.zip\n",
      "3FO4J1QTPH76_Guest_room.zip\n",
      "3FO4J1QTPH76_Bedroom.zip\n",
      "3FO4J1QIII3X_Guest_room.zip\n",
      "3FO4J1QIII3X_Bedroom.zip\n",
      "3FO4J1QIII3X_Bathroom.zip\n",
      "3FO4J1Q8B7R3_Guest_room.zip\n",
      "3FO4J1Q8B7R3_Bedroom.zip\n",
      "3FO4J1Q8B7R3_Bathroom.zip\n",
      "3FO4J1Q7B5ML_Guest_room.zip\n",
      "3FO4J1Q7B5ML_Bedroom.zip\n",
      "3FO4J1Q7B5ML_Bathroom.zip\n",
      "3FO4J1Q2VULG_Guest_room.zip\n",
      "3FO4J1Q2VULG_Bedroom.zip\n",
      "3FO4J1Q2VULG_Bathroom.zip\n",
      "3FO4J1Q1RS1R_Bedroom.zip\n",
      "3FO4J1Q1RS1R_Bathroom.zip\n",
      "3FO4J1Q0G6BT_Bedroom.zip\n",
      "3FO4J1Q0G6BT_Bathroom.zip\n",
      "3FO4J1PY7BKP_Bedroom.zip\n",
      "3FO4J1PY7BKP_Bathroom.zip\n",
      "3FO4J1PUB05X_Guest_room.zip\n",
      "3FO4J1PUB05X_Bedroom.zip\n",
      "3FO4J1PUB05X_Bathroom.zip\n",
      "3FO4J1PC148K_Guest_room.zip\n",
      "3FO4J1PC148K_Bedroom.zip\n",
      "3FO4J1PC148K_Bathroom.zip\n",
      "3FO4J1P2GX2M_Guest_room.zip\n",
      "3FO4J1P2GX2M_Bedroom.zip\n",
      "3FO4J1P2GX2M_Bathroom.zip\n",
      "3FO4J1OIBKI5_Bathroom.zip\n",
      "3FO4J1O0FWS1_Bedroom.zip\n",
      "3FO4J1O0FWS1_Bathroom.zip\n",
      "3FO4J1MAR6PC_Guest_room.zip\n",
      "3FO4J1MAR6PC_Bedroom.zip\n",
      "3FO4J1MAR6PC_Bathroom.zip\n",
      "3FO4J1M7LX4D_Guest_room.zip\n",
      "3FO4J1M7LX4D_Bedroom.zip\n",
      "3FO4J1M7LX4D_Bathroom.zip\n",
      "3FO4J1LDXCT8_Guest_room.zip\n",
      "3FO4J1LDXCT8_Bedroom.zip\n",
      "3FO4J1LDXCT8_Bathroom.zip\n",
      "3FO4J1L26I92_Guest_room.zip\n",
      "3FO4J1L26I92_Bedroom.zip\n",
      "3FO4J1L26I92_Bathroom.zip\n",
      "3FO4J1KDR7W1_Guest_room.zip\n",
      "3FO4J1KDR7W1_Bedroom.zip\n",
      "3FO4J1KDR7W1_Bathroom.zip\n",
      "3FO4J1K8XS0N_Living_room.zip\n"
     ]
    },
    {
     "name": "stderr",
     "output_type": "stream",
     "text": [
      "Permission denied: https://drive.google.com/uc?id=18AlDyhe-XKmAIGy8UQxcMGvwnVWbrtAV&export=download\n",
      "Maybe you need to change permission over 'Anyone with the link'?\n"
     ]
    },
    {
     "name": "stdout",
     "output_type": "stream",
     "text": [
      "3FO4J1K8XS0N_Guest_room.zip\n",
      "3FO4J1K8XS0N_Bedroom.zip\n",
      "3FO4J1K8XS0N_Bathroom.zip\n",
      "3FO4J1IF7OUE_Guest_room.zip\n",
      "3FO4J1IF7OUE_Bedroom.zip\n",
      "3FO4J1IF7OUE_Bathroom.zip\n",
      "3FO4J1IABLC8_Guest_room.zip\n",
      "3FO4J1IABLC8_Bedroom.zip\n",
      "3FO4J1IABLC8_Bathroom.zip\n",
      "3FO4J1I9EHUM_Guest_room.zip\n",
      "3FO4J1I9EHUM_Bathroom.zip\n",
      "3FO4J1I725M0_Bedroom.zip\n",
      "3FO4J1I725M0_Bathroom.zip\n",
      "3FO4J1HIAPMC_Bathroom.zip\n",
      "3FO4J1HHP6Q7_Bedroom.zip\n",
      "3FO4J1HBM20G_Guest_room.zip\n",
      "3FO4J1HBM20G_Bedroom.zip\n",
      "3FO4J1HB4022_Guest_room.zip\n",
      "3FO4J1HB4022_Bedroom.zip\n",
      "3FO4J1HB4022_Bathroom.zip\n",
      "3FO4J1HA6EUB_Bathroom.zip\n",
      "3FO4J1H4IXH9_Guest_room.zip\n",
      "3FO4J1H4IXH9_Bedroom.zip\n",
      "3FO4J1H4IXH9_Bathroom.zip\n",
      "3FO4J1H1EU0M_Bathroom.zip\n",
      "3FO4J1GWJKD6_Bedroom.zip\n",
      "3FO4J1GWJKD6_Bathroom.zip\n",
      "3FO4J1GDQCGB_Guest_room.zip\n",
      "3FO4J1GDQCGB_Bedroom.zip\n",
      "3FO4J1GDQCGB_Bathroom.zip\n",
      "3FO4J1GAP0XI_Living_room.zip\n"
     ]
    },
    {
     "name": "stderr",
     "output_type": "stream",
     "text": [
      "Permission denied: https://drive.google.com/uc?id=1w_EZftYp4rtgLVc6jZ6A7KdYGcc-Fksi&export=download\n",
      "Maybe you need to change permission over 'Anyone with the link'?\n"
     ]
    },
    {
     "name": "stdout",
     "output_type": "stream",
     "text": [
      "3FO4J1GAP0XI_Bedroom.zip\n",
      "3FO4J1GAP0XI_Bathroom.zip\n",
      "3FO4J1G90L6Q_Guest_room.zip\n",
      "3FO4J1G90L6Q_Bedroom.zip\n",
      "3FO4J1G90L6Q_Bathroom.zip\n",
      "3FO4J1F9GPC7_Guest_room.zip\n",
      "3FO4J1F9GPC7_Bedroom.zip\n",
      "3FO4J1F6QK1Q_Living_room.zip\n"
     ]
    },
    {
     "name": "stderr",
     "output_type": "stream",
     "text": [
      "Permission denied: https://drive.google.com/uc?id=1Oabqa0wvCqyuU2FyZaFTR3cKsho8XYdr&export=download\n",
      "Maybe you need to change permission over 'Anyone with the link'?\n"
     ]
    },
    {
     "name": "stdout",
     "output_type": "stream",
     "text": [
      "3FO4J1F6QK1Q_Guest_room.zip\n",
      "3FO4J1F6QK1Q_Bedroom.zip\n",
      "3FO4J1F6QK1Q_Bathroom.zip\n",
      "3FO4J1F0N8LX_Guest_room.zip\n",
      "3FO4J1F0N8LX_Bedroom.zip\n",
      "3FO4J1F0N8LX_Bathroom.zip\n",
      "3FO4J1EBFA6C_Guest_room.zip\n",
      "3FO4J1EBFA6C_Bedroom.zip\n",
      "3FO4J1EBFA6C_Bathroom.zip\n",
      "3FO4J1E8HKPM_Guest_room.zip\n",
      "3FO4J1E8HKPM_Dining_room.zip\n"
     ]
    },
    {
     "name": "stderr",
     "output_type": "stream",
     "text": [
      "Permission denied: https://drive.google.com/uc?id=1LSKAnmGuBhP402LKfWaYbfQ08zbutS1d&export=download\n",
      "Maybe you need to change permission over 'Anyone with the link'?\n"
     ]
    },
    {
     "name": "stdout",
     "output_type": "stream",
     "text": [
      "3FO4J1E8HKPM_Bathroom.zip\n",
      "3FO4J1E7VQSE_Guest_room.zip\n",
      "3FO4J1C1J473_Bedroom.zip\n",
      "3FO4J1AAU7MV_Bedroom.zip\n",
      "3FO4J17HB2NC_Living_room.zip\n"
     ]
    },
    {
     "name": "stderr",
     "output_type": "stream",
     "text": [
      "Permission denied: https://drive.google.com/uc?id=1oWC_JSdsVYhAYSA_Q7XqRSTVdtxZKVVv&export=download\n",
      "Maybe you need to change permission over 'Anyone with the link'?\n"
     ]
    },
    {
     "name": "stdout",
     "output_type": "stream",
     "text": [
      "3FO4J15IUXF1_Bathroom.zip\n",
      "3FO4J14E84UY_Guest_room.zip\n",
      "3FO4J145IK8V_Bedroom.zip\n",
      "3FO4J13S757U_Bedroom.zip\n",
      "3FO4J126FSJS_Guest_room.zip\n",
      "3FO4J1132OU4_Living_room.zip\n"
     ]
    },
    {
     "name": "stderr",
     "output_type": "stream",
     "text": [
      "Permission denied: https://drive.google.com/uc?id=1UnmInLIX8mc61oilWWodI6bWp4S4bi0t&export=download\n",
      "Maybe you need to change permission over 'Anyone with the link'?\n"
     ]
    },
    {
     "name": "stdout",
     "output_type": "stream",
     "text": [
      "3FO4J0XPL5QT_Bathroom.zip\n",
      "3FO4J0WT66OU_Bathroom.zip\n",
      "3FO4J0V3Q64B_Bathroom.zip\n",
      "3FO4J0Q6UF06_Bedroom.zip\n",
      "3FO4J1E7VQSE_Bathroom.zip\n",
      "3FO4J1DWFUIY_Guest_room.zip\n",
      "3FO4J1DWFUIY_Bedroom.zip\n",
      "3FO4J1DWFUIY_Bathroom.zip\n",
      "3FO4J1D83BL0_Guest_room.zip\n",
      "3FO4J1D83BL0_Bedroom.zip\n",
      "3FO4J1D83BL0_Bathroom.zip\n",
      "3FO4J1D56H8J_Bedroom.zip\n",
      "3FO4J1D56H8J_Bathroom.zip\n",
      "3FO4J1CVAP9L_Guest_room.zip\n",
      "3FO4J1CVAP9L_Bedroom.zip\n",
      "3FO4J1CVAP9L_Bathroom.zip\n",
      "3FO4J1COADP8_Living_room.zip\n"
     ]
    },
    {
     "name": "stderr",
     "output_type": "stream",
     "text": [
      "Permission denied: https://drive.google.com/uc?id=1vx1gdl7my_UPPqSRpCjunl_QWn_A2G4u&export=download\n",
      "Maybe you need to change permission over 'Anyone with the link'?\n"
     ]
    },
    {
     "name": "stdout",
     "output_type": "stream",
     "text": [
      "3FO4J1COADP8_Bathroom.zip\n",
      "3FO4J1CNTBYF_Bedroom.zip\n",
      "3FO4J1CNTBYF_Bathroom.zip\n",
      "3FO4J1CBMRGU_Guest_room.zip\n",
      "3FO4J1CBMRGU_Bedroom.zip\n",
      "3FO4J1CBMRGU_Bathroom.zip\n",
      "3FO4J1C9M9TR_Living_room.zip\n"
     ]
    },
    {
     "name": "stderr",
     "output_type": "stream",
     "text": [
      "Permission denied: https://drive.google.com/uc?id=1ZItgAyNIvbnABbIaj7Pf43U4l7ickqha&export=download\n",
      "Maybe you need to change permission over 'Anyone with the link'?\n"
     ]
    },
    {
     "name": "stdout",
     "output_type": "stream",
     "text": [
      "3FO4J1C9M9TR_Guest_room.zip\n",
      "3FO4J1C9M9TR_Bedroom.zip\n",
      "3FO4J1C9M9TR_Bathroom.zip\n",
      "3FO4J1C9CIRU_Bedroom.zip\n",
      "3FO4J1C9CIRU_Bathroom.zip\n",
      "3FO4J1C65XDH_Guest_room.zip\n",
      "3FO4J1C65XDH_Bedroom.zip\n",
      "3FO4J1C65XDH_Bathroom.zip\n",
      "3FO4J1C1J473_Bathroom.zip\n",
      "3FO4J1BXLBEC_Guest_room.zip\n",
      "3FO4J1BXLBEC_Bedroom.zip\n",
      "3FO4J1BXLBEC_Bathroom.zip\n",
      "3FO4J1BWNQ7L_Bedroom.zip\n",
      "3FO4J1BWNQ7L_Bathroom.zip\n",
      "3FO4J1BU4LJX_Guest_room.zip\n",
      "3FO4J1BU4LJX_Bedroom.zip\n",
      "3FO4J1BU4LJX_Bathroom.zip\n",
      "3FO4J1BRW4TR_Bedroom.zip\n",
      "3FO4J1BRW4TR_Bathroom.zip\n",
      "3FO4J1BR3XGC_Guest_room.zip\n",
      "3FO4J1BR3XGC_Bedroom.zip\n",
      "3FO4J1BR3XGC_Bathroom.zip\n",
      "3FO4J1AAJOTQ_Bedroom.zip\n",
      "3FO4J1AAJOTQ_Bathroom.zip\n",
      "3FO4J1A3KSFS_Living_room.zip\n"
     ]
    },
    {
     "name": "stderr",
     "output_type": "stream",
     "text": [
      "Permission denied: https://drive.google.com/uc?id=17Vj1bkh2Gd_HYmsU8JWx26xBviBuJOkz&export=download\n",
      "Maybe you need to change permission over 'Anyone with the link'?\n"
     ]
    },
    {
     "name": "stdout",
     "output_type": "stream",
     "text": [
      "3FO4J1A3KSFS_Guest_room.zip\n",
      "3FO4J1A3KSFS_Dining_room.zip\n"
     ]
    },
    {
     "name": "stderr",
     "output_type": "stream",
     "text": [
      "Permission denied: https://drive.google.com/uc?id=1ycYh1wfIxxltrRIB3X95hT-sKLqHRzmj&export=download\n",
      "Maybe you need to change permission over 'Anyone with the link'?\n"
     ]
    },
    {
     "name": "stdout",
     "output_type": "stream",
     "text": [
      "3FO4J1A3KSFS_Bedroom.zip\n",
      "3FO4J1A3KSFS_Bathroom.zip\n",
      "3FO4J19T9JS8_Living_room.zip\n"
     ]
    },
    {
     "name": "stderr",
     "output_type": "stream",
     "text": [
      "Permission denied: https://drive.google.com/uc?id=1mcVUTcbOLvvyoztJq1VWK17GASo0z-rN&export=download\n",
      "Maybe you need to change permission over 'Anyone with the link'?\n"
     ]
    },
    {
     "name": "stdout",
     "output_type": "stream",
     "text": [
      "3FO4J19T9JS8_Guest_room.zip\n",
      "3FO4J19T9JS8_Dining_room.zip\n"
     ]
    },
    {
     "name": "stderr",
     "output_type": "stream",
     "text": [
      "Permission denied: https://drive.google.com/uc?id=1ww-tVnAswUHkjxspU1z5TYFFddKEMPDm&export=download\n",
      "Maybe you need to change permission over 'Anyone with the link'?\n"
     ]
    },
    {
     "name": "stdout",
     "output_type": "stream",
     "text": [
      "3FO4J19T9JS8_Bedroom.zip\n",
      "3FO4J19T9JS8_Bathroom.zip\n",
      "3FO4J18PF7NO_Bedroom.zip\n",
      "3FO4J18PF7NO_Bathroom.zip\n",
      "3FO4J17HB2NC_Dining_room.zip\n"
     ]
    },
    {
     "name": "stderr",
     "output_type": "stream",
     "text": [
      "Permission denied: https://drive.google.com/uc?id=1Mlb-1SF_CJDfEgSLGxnlyEK4KU939yVw&export=download\n",
      "Maybe you need to change permission over 'Anyone with the link'?\n"
     ]
    },
    {
     "name": "stdout",
     "output_type": "stream",
     "text": [
      "3FO4J17HB2NC_Bedroom.zip\n",
      "3FO4J17FM19O_Guest_room.zip\n",
      "3FO4J17FM19O_Bedroom.zip\n",
      "3FO4J17FM19O_Bathroom.zip\n",
      "3FO4J16TVQ3R_Living_room.zip\n"
     ]
    },
    {
     "name": "stderr",
     "output_type": "stream",
     "text": [
      "Permission denied: https://drive.google.com/uc?id=1DHhDHIHjGQu7SqYe485rn0_GcY6v6yXP&export=download\n",
      "Maybe you need to change permission over 'Anyone with the link'?\n"
     ]
    },
    {
     "name": "stdout",
     "output_type": "stream",
     "text": [
      "3FO4J16TVQ3R_Guest_room.zip\n",
      "3FO4J16TVQ3R_Bedroom.zip\n",
      "3FO4J16TVQ3R_Bathroom.zip\n",
      "3FO4J1659CQU_Guest_room.zip\n",
      "3FO4J1659CQU_Bedroom.zip\n",
      "3FO4J1659CQU_Bathroom.zip\n",
      "3FO4J15IUXF1_Guest_room.zip\n",
      "3FO4J15IUXF1_Bedroom.zip\n",
      "3FO4J15DSCIW_Bedroom.zip\n",
      "3FO4J15DSCIW_Bathroom.zip\n",
      "3FO4J153A9CT_Bedroom.zip\n",
      "3FO4J1515MXI_Living_room.zip\n"
     ]
    },
    {
     "name": "stderr",
     "output_type": "stream",
     "text": [
      "Permission denied: https://drive.google.com/uc?id=1_oBRtePTSXHVauPLVQuPtS7pFuufyJtG&export=download\n",
      "Maybe you need to change permission over 'Anyone with the link'?\n"
     ]
    },
    {
     "name": "stdout",
     "output_type": "stream",
     "text": [
      "3FO4J1515MXI_Guest_room.zip\n",
      "3FO4J1515MXI_Dining_room.zip\n"
     ]
    },
    {
     "name": "stderr",
     "output_type": "stream",
     "text": [
      "Permission denied: https://drive.google.com/uc?id=1RJ4pHI6ByeMh-_27sM2mGfN7LnjC3Haq&export=download\n",
      "Maybe you need to change permission over 'Anyone with the link'?\n"
     ]
    },
    {
     "name": "stdout",
     "output_type": "stream",
     "text": [
      "3FO4J1515MXI_Bedroom.zip\n",
      "3FO4J1515MXI_Bathroom.zip\n",
      "3FO4J14H9D1Q_Bathroom.zip\n",
      "3FO4J14FX4OW_Guest_room.zip\n",
      "3FO4J14FX4OW_Bedroom.zip\n",
      "3FO4J14FX4OW_Bathroom.zip\n",
      "3FO4J14F51NI_Bedroom.zip\n",
      "3FO4J14F51NI_Bathroom.zip\n",
      "3FO4J14E84UY_Bedroom.zip\n",
      "3FO4J14E84UY_Bathroom.zip\n",
      "3FO4J14DIXWQ_Bedroom.zip\n",
      "3FO4J14DIXWQ_Bathroom.zip\n",
      "3FO4J14A9S8L_Living_room.zip\n"
     ]
    },
    {
     "name": "stderr",
     "output_type": "stream",
     "text": [
      "Permission denied: https://drive.google.com/uc?id=19v0N5c4JBeYtaJhLzTT8fawi5Gbliq6d&export=download\n",
      "Maybe you need to change permission over 'Anyone with the link'?\n"
     ]
    },
    {
     "name": "stdout",
     "output_type": "stream",
     "text": [
      "3FO4J14A6MVN_Guest_room.zip\n",
      "3FO4J14A6MVN_Bedroom.zip\n",
      "3FO4J14A6MVN_Bathroom.zip\n",
      "3FO4J148BUVA_Guest_room.zip\n",
      "3FO4J148BUVA_Bedroom.zip\n",
      "3FO4J145NFRC_Guest_room.zip\n",
      "3FO4J145NFRC_Bedroom.zip\n",
      "3FO4J145NFRC_Bathroom.zip\n",
      "3FO4J145IK8V_Guest_room.zip\n",
      "3FO4J145IK8V_Bathroom.zip\n",
      "3FO4J144Q29N_Living_room.zip\n"
     ]
    },
    {
     "name": "stderr",
     "output_type": "stream",
     "text": [
      "Permission denied: https://drive.google.com/uc?id=1Ha-dDMZxgedwyAou9Xf1nTsvaHLhDgS3&export=download\n",
      "Maybe you need to change permission over 'Anyone with the link'?\n"
     ]
    },
    {
     "name": "stdout",
     "output_type": "stream",
     "text": [
      "3FO4J144Q29N_Guest_room.zip\n",
      "3FO4J144Q29N_Dining_room.zip\n"
     ]
    },
    {
     "name": "stderr",
     "output_type": "stream",
     "text": [
      "Permission denied: https://drive.google.com/uc?id=1RbFmeNnhKKzS8wsguKLijKlNzR-mLSop&export=download\n",
      "Maybe you need to change permission over 'Anyone with the link'?\n"
     ]
    },
    {
     "name": "stdout",
     "output_type": "stream",
     "text": [
      "3FO4J144Q29N_Bathroom.zip\n",
      "3FO4J144870B_Guest_room.zip\n",
      "3FO4J144870B_Bedroom.zip\n",
      "3FO4J144870B_Bathroom.zip\n",
      "3FO4J1430E1I_Living_room.zip\n"
     ]
    },
    {
     "name": "stderr",
     "output_type": "stream",
     "text": [
      "Permission denied: https://drive.google.com/uc?id=1Aj-KkkPQ1thT7QpUKtVkPn7L4uWLx-rV&export=download\n",
      "Maybe you need to change permission over 'Anyone with the link'?\n"
     ]
    },
    {
     "name": "stdout",
     "output_type": "stream",
     "text": [
      "3FO4J1430E1I_Guest_room.zip\n",
      "3FO4J1430E1I_Dining_room.zip\n"
     ]
    },
    {
     "name": "stderr",
     "output_type": "stream",
     "text": [
      "Permission denied: https://drive.google.com/uc?id=1FwmENK_ualHrU3O-0abG0s_N93sJUdB3&export=download\n",
      "Maybe you need to change permission over 'Anyone with the link'?\n"
     ]
    },
    {
     "name": "stdout",
     "output_type": "stream",
     "text": [
      "3FO4J1430E1I_Bedroom.zip\n",
      "3FO4J1430E1I_Bathroom.zip\n",
      "3FO4J13S757U_Guest_room.zip\n",
      "3FO4J13S757U_Bathroom.zip\n",
      "3FO4J13M0QS5_Guest_room.zip\n",
      "3FO4J13M0QS5_Bedroom.zip\n",
      "3FO4J13M0QS5_Bathroom.zip\n",
      "3FO4J13DWV6J_Guest_room.zip\n",
      "3FO4J13DWV6J_Bedroom.zip\n",
      "3FO4J13DWV6J_Bathroom.zip\n",
      "3FO4J13CA9XB_Bedroom.zip\n",
      "3FO4J13CA9XB_Bathroom.zip\n",
      "3FO4J12IWHHE_Guest_room.zip\n",
      "3FO4J12IWHHE_Bedroom.zip\n",
      "3FO4J12IWHHE_Bathroom.zip\n",
      "3FO4J126GNN2_Bedroom.zip\n",
      "3FO4J126GNN2_Bathroom.zip\n",
      "3FO4J126FSJS_Bedroom.zip\n",
      "3FO4J126FSJS_Bathroom.zip\n",
      "3FO4J126DVO8_Guest_room.zip\n",
      "3FO4J126DVO8_Bedroom.zip\n",
      "3FO4J126DVO8_Bathroom.zip\n",
      "3FO4J126BYSN_Guest_room.zip\n",
      "3FO4J126BYSN_Bedroom.zip\n",
      "3FO4J126BYSN_Bathroom.zip\n",
      "3FO4J120JG83_Living_room.zip\n"
     ]
    },
    {
     "name": "stderr",
     "output_type": "stream",
     "text": [
      "Permission denied: https://drive.google.com/uc?id=1o53BGejWTaoxd5McxaOJq2rkcFNKDWpZ&export=download\n",
      "Maybe you need to change permission over 'Anyone with the link'?\n"
     ]
    },
    {
     "name": "stdout",
     "output_type": "stream",
     "text": [
      "3FO4J120JG83_Bedroom.zip\n",
      "3FO4J120JG83_Bathroom.zip\n",
      "3FO4J114ISPE_Living_room.zip\n"
     ]
    },
    {
     "name": "stderr",
     "output_type": "stream",
     "text": [
      "Permission denied: https://drive.google.com/uc?id=1gmz_NkHJXeGB6oqvV_qQtwbI-eQeDIlM&export=download\n",
      "Maybe you need to change permission over 'Anyone with the link'?\n"
     ]
    },
    {
     "name": "stdout",
     "output_type": "stream",
     "text": [
      "3FO4J114ISPE_Bedroom.zip\n",
      "3FO4J114ISPE_Bathroom.zip\n",
      "3FO4J1132OU4_Bedroom.zip\n",
      "3FO4J10WJ287_Dining_room.zip\n"
     ]
    },
    {
     "name": "stderr",
     "output_type": "stream",
     "text": [
      "Permission denied: https://drive.google.com/uc?id=1Y7qd43t_YlpFc_wugxDjOnJ46quBzzk0&export=download\n",
      "Maybe you need to change permission over 'Anyone with the link'?\n"
     ]
    },
    {
     "name": "stdout",
     "output_type": "stream",
     "text": [
      "3FO4J10UNVTP_Living_room.zip\n"
     ]
    },
    {
     "name": "stderr",
     "output_type": "stream",
     "text": [
      "Permission denied: https://drive.google.com/uc?id=1k0E8tdoiBolBOH449CoJnebGonzNqyp4&export=download\n",
      "Maybe you need to change permission over 'Anyone with the link'?\n"
     ]
    },
    {
     "name": "stdout",
     "output_type": "stream",
     "text": [
      "3FO4J10UNVTP_Dining_room.zip\n"
     ]
    },
    {
     "name": "stderr",
     "output_type": "stream",
     "text": [
      "Permission denied: https://drive.google.com/uc?id=1xQV5oP2tdHVaNVDaE1-S1VJFZfv9-KJb&export=download\n",
      "Maybe you need to change permission over 'Anyone with the link'?\n"
     ]
    },
    {
     "name": "stdout",
     "output_type": "stream",
     "text": [
      "3FO4J10UNVTP_Bedroom.zip\n",
      "3FO4J10UNVTP_Bathroom.zip\n",
      "3FO4J10QSW8C_Guest_room.zip\n",
      "3FO4J10QSW8C_Bedroom.zip\n",
      "3FO4J10QSW8C_Bathroom.zip\n",
      "3FO4J100XJ8K_Bedroom.zip\n",
      "3FO4J0YFTX35_Living_room.zip\n"
     ]
    },
    {
     "name": "stderr",
     "output_type": "stream",
     "text": [
      "Permission denied: https://drive.google.com/uc?id=1RgSgSYOyJrZWhQuvNhswHS1JrjpEmNQT&export=download\n",
      "Maybe you need to change permission over 'Anyone with the link'?\n"
     ]
    },
    {
     "name": "stdout",
     "output_type": "stream",
     "text": [
      "3FO4J0YFTX35_Bedroom.zip\n",
      "3FO4J0YFTX35_Bathroom.zip\n",
      "3FO4J0XPL5QT_Bedroom.zip\n",
      "3FO4J0XK8SSS_Bathroom.zip\n",
      "3FO4J0XG5IAX_Living_room.zip\n"
     ]
    },
    {
     "name": "stderr",
     "output_type": "stream",
     "text": [
      "Permission denied: https://drive.google.com/uc?id=1gwmOohR2oIA9UseUDacQtH0uZUwiyEiZ&export=download\n",
      "Maybe you need to change permission over 'Anyone with the link'?\n"
     ]
    },
    {
     "name": "stdout",
     "output_type": "stream",
     "text": [
      "3FO4J0XG5IAX_Guest_room.zip\n",
      "3FO4J0XG5IAX_Dining_room.zip\n"
     ]
    },
    {
     "name": "stderr",
     "output_type": "stream",
     "text": [
      "Permission denied: https://drive.google.com/uc?id=1dnBS9r_XqaDQuH1ACWO-TonNYFI4X1Jd&export=download\n",
      "Maybe you need to change permission over 'Anyone with the link'?\n"
     ]
    },
    {
     "name": "stdout",
     "output_type": "stream",
     "text": [
      "3FO4J0XG5IAX_Bedroom.zip\n",
      "3FO4J0XG5IAX_Bathroom.zip\n",
      "3FO4J0X3N2M4_Guest_room.zip\n",
      "3FO4J0X3N2M4_Dining_room.zip\n"
     ]
    },
    {
     "name": "stderr",
     "output_type": "stream",
     "text": [
      "Permission denied: https://drive.google.com/uc?id=1AvdSlapJS8VFzf_wfuMhnATWgpuPgY6C&export=download\n",
      "Maybe you need to change permission over 'Anyone with the link'?\n"
     ]
    },
    {
     "name": "stdout",
     "output_type": "stream",
     "text": [
      "3FO4J0X3N2M4_Bathroom.zip\n",
      "3FO4J0WUTJOB_Guest_room.zip\n",
      "3FO4J0WUTJOB_Bedroom.zip\n",
      "3FO4J0WUTJOB_Bathroom.zip\n",
      "3FO4J0WTLU2J_Bedroom.zip\n",
      "3FO4J0WT66OU_Bedroom.zip\n",
      "3FO4J0WQD9FK_Guest_room.zip\n",
      "3FO4J0WQD9FK_Bedroom.zip\n",
      "3FO4J0WQD9FK_Bathroom.zip\n",
      "3FO4J0VVM1Q6_Guest_room.zip\n",
      "3FO4J0VVM1Q6_Bedroom.zip\n",
      "3FO4J0VVM1Q6_Bathroom.zip\n",
      "3FO4J0VR0YB0_Guest_room.zip\n",
      "3FO4J0VR0YB0_Bedroom.zip\n",
      "3FO4J0VR0YB0_Bathroom.zip\n",
      "3FO4J0VM2DU3_Guest_room.zip\n",
      "3FO4J0VM2DU3_Bedroom.zip\n",
      "3FO4J0VM2DU3_Bathroom.zip\n",
      "3FO4J0V3Q64B_Guest_room.zip\n",
      "3FO4J0V3Q64B_Bedroom.zip\n",
      "3FO4J0UPVAQR_Guest_room.zip\n",
      "3FO4J0UPVAQR_Bedroom.zip\n",
      "3FO4J0UPVAQR_Bathroom.zip\n",
      "3FO4J0UIS3VJ_Living_room.zip\n"
     ]
    },
    {
     "name": "stderr",
     "output_type": "stream",
     "text": [
      "Permission denied: https://drive.google.com/uc?id=1f3XctPFSNYzwTmWFW6h4CQhZ1FlVEMUx&export=download\n",
      "Maybe you need to change permission over 'Anyone with the link'?\n"
     ]
    },
    {
     "name": "stdout",
     "output_type": "stream",
     "text": [
      "3FO4J0UIS3VJ_Guest_room.zip\n",
      "3FO4J0UIS3VJ_Bedroom.zip\n",
      "3FO4J0UIS3VJ_Bathroom.zip\n",
      "3FO4J0TQV1WS_Bedroom.zip\n",
      "3FO4J0TQV1WS_Bathroom.zip\n",
      "3FO4J0QK9O4I_Living_room.zip\n"
     ]
    },
    {
     "name": "stderr",
     "output_type": "stream",
     "text": [
      "Permission denied: https://drive.google.com/uc?id=1fOo-qpjZw6JgjcdUDOctei34RI8aXr5O&export=download\n",
      "Maybe you need to change permission over 'Anyone with the link'?\n"
     ]
    },
    {
     "name": "stdout",
     "output_type": "stream",
     "text": [
      "3FO4J0QK9O4I_Guest_room.zip\n",
      "3FO4J0QK9O4I_Bedroom.zip\n",
      "3FO4J0QK9O4I_Bathroom.zip\n",
      "3FO4J0Q6UF06_Guest_room.zip\n",
      "3FO4J0NMLQVY_Guest_room.zip\n",
      "3FO4J0LHKMNK_Guest_room.zip\n",
      "3FO4J0KYD8NX_Bathroom.zip\n",
      "3FO4J0KCFFKB_Bedroom.zip\n",
      "3FO4J0I31333_Bedroom.zip\n",
      "3FO4J0DJ412M_Bathroom.zip\n",
      "3FO4J0BC7TRR_Dining_room.zip\n"
     ]
    },
    {
     "name": "stderr",
     "output_type": "stream",
     "text": [
      "Permission denied: https://drive.google.com/uc?id=1vC1h6o0FInsaW4vZEKHWlP2A36HnVU0-&export=download\n",
      "Maybe you need to change permission over 'Anyone with the link'?\n"
     ]
    },
    {
     "name": "stdout",
     "output_type": "stream",
     "text": [
      "3FO4J0AJPC9W_Bedroom.zip\n",
      "3FO4J097CCT2_Bedroom.zip\n",
      "3FO4J08VD7W6_Bathroom.zip\n",
      "3FO4J05SAGSU_Guest_room.zip\n",
      "3FO4J03WIHNE_Bathroom.zip\n",
      "3FO4IYYODLGQ_Bathroom.zip\n",
      "3FO4J0Q6UF06_Bathroom.zip\n",
      "3FO4J0Q4RFFC_Bedroom.zip\n",
      "3FO4J0Q4RFFC_Bathroom.zip\n",
      "3FO4J0PVL4FP_Living_room.zip\n"
     ]
    },
    {
     "name": "stderr",
     "output_type": "stream",
     "text": [
      "Permission denied: https://drive.google.com/uc?id=1KI1fylKF6sPeAecP5VlcWZiKTW3K3Kca&export=download\n",
      "Maybe you need to change permission over 'Anyone with the link'?\n"
     ]
    },
    {
     "name": "stdout",
     "output_type": "stream",
     "text": [
      "3FO4J0PVL4FP_Guest_room.zip\n",
      "3FO4J0PVL4FP_Bedroom.zip\n",
      "3FO4J0PVL4FP_Bathroom.zip\n",
      "3FO4J0P9TFBW_Bedroom.zip\n",
      "3FO4J0P9DGX5_Guest_room.zip\n",
      "3FO4J0P9DGX5_Bedroom.zip\n",
      "3FO4J0P9DGX5_Bathroom.zip\n",
      "3FO4J0OSX1RI_Bedroom.zip\n",
      "3FO4J0OSX1RI_Bathroom.zip\n",
      "3FO4J0OAYFEI_Dining_room.zip\n"
     ]
    },
    {
     "name": "stderr",
     "output_type": "stream",
     "text": [
      "Permission denied: https://drive.google.com/uc?id=1vqTaC1gzqqBITHN88pYtz-9swohybgTf&export=download\n",
      "Maybe you need to change permission over 'Anyone with the link'?\n"
     ]
    },
    {
     "name": "stdout",
     "output_type": "stream",
     "text": [
      "3FO4J0NRUK4X_Bedroom.zip\n",
      "3FO4J0NRUK4X_Bathroom.zip\n",
      "3FO4J0NRUDFV_Guest_room.zip\n",
      "3FO4J0NRUDFV_Bedroom.zip\n",
      "3FO4J0NRUDFV_Bathroom.zip\n",
      "3FO4J0NQA5SD_Guest_room.zip\n",
      "3FO4J0NQA5SD_Bedroom.zip\n",
      "3FO4J0NQA5SD_Bathroom.zip\n",
      "3FO4J0NN2ILO_Guest_room.zip\n",
      "3FO4J0NN2ILO_Bedroom.zip\n",
      "3FO4J0NN2ILO_Bathroom.zip\n",
      "3FO4J0NMY38N_Guest_room.zip\n",
      "3FO4J0NMY38N_Bedroom.zip\n",
      "3FO4J0NMY38N_Bathroom.zip\n",
      "3FO4J0NMLQVY_Bedroom.zip\n",
      "3FO4J0NMLQVY_Bathroom.zip\n",
      "3FO4J0NKO18P_Bedroom.zip\n",
      "3FO4J0NKO18P_Bathroom.zip\n",
      "3FO4J0NF3DE7_Living_room.zip\n"
     ]
    },
    {
     "name": "stderr",
     "output_type": "stream",
     "text": [
      "Permission denied: https://drive.google.com/uc?id=1W65rWnO1NPPfBskJGuNYKwUQYnAxAbtL&export=download\n",
      "Maybe you need to change permission over 'Anyone with the link'?\n"
     ]
    },
    {
     "name": "stdout",
     "output_type": "stream",
     "text": [
      "3FO4J0NECDWF_Guest_room.zip\n",
      "3FO4J0NECDWF_Bedroom.zip\n",
      "3FO4J0NECDWF_Bathroom.zip\n",
      "3FO4J0MGLD7O_Guest_room.zip\n",
      "3FO4J0MGLD7O_Bedroom.zip\n",
      "3FO4J0MGLD7O_Bathroom.zip\n",
      "3FO4J0M1ICPR_Guest_room.zip\n",
      "3FO4J0M1ICPR_Bedroom.zip\n",
      "3FO4J0LHKMNK_Living_room.zip\n"
     ]
    },
    {
     "name": "stderr",
     "output_type": "stream",
     "text": [
      "Permission denied: https://drive.google.com/uc?id=1fMiGpFrqnyKiZlpIk09cVj9XvGyqH4R-&export=download\n",
      "Maybe you need to change permission over 'Anyone with the link'?\n"
     ]
    },
    {
     "name": "stdout",
     "output_type": "stream",
     "text": [
      "3FO4J0LHKMNK_Bedroom.zip\n",
      "3FO4J0LHKMNK_Bathroom.zip\n",
      "3FO4J0LBVMS2_Living_room.zip\n"
     ]
    },
    {
     "name": "stderr",
     "output_type": "stream",
     "text": [
      "Permission denied: https://drive.google.com/uc?id=1oTgbhBp5M5F0cL8lSgIztWOpjnzB_wNf&export=download\n",
      "Maybe you need to change permission over 'Anyone with the link'?\n"
     ]
    },
    {
     "name": "stdout",
     "output_type": "stream",
     "text": [
      "3FO4J0LBVMS2_Guest_room.zip\n",
      "3FO4J0LBVMS2_Dining_room.zip\n"
     ]
    },
    {
     "name": "stderr",
     "output_type": "stream",
     "text": [
      "Permission denied: https://drive.google.com/uc?id=1xYu0WjJlfFgQ4KTsR-waU7hTTF8Gcv2A&export=download\n",
      "Maybe you need to change permission over 'Anyone with the link'?\n"
     ]
    },
    {
     "name": "stdout",
     "output_type": "stream",
     "text": [
      "3FO4J0LBVMS2_Bathroom.zip\n",
      "3FO4J0L7KVGY_Living_room.zip\n"
     ]
    },
    {
     "name": "stderr",
     "output_type": "stream",
     "text": [
      "Permission denied: https://drive.google.com/uc?id=1Eu3DaE57d7Xmp7hZQZ-v710wbeGUvAnR&export=download\n",
      "Maybe you need to change permission over 'Anyone with the link'?\n"
     ]
    },
    {
     "name": "stdout",
     "output_type": "stream",
     "text": [
      "3FO4J0L7KVGY_Guest_room.zip\n",
      "3FO4J0L7KVGY_Bedroom.zip\n",
      "3FO4J0L7KVGY_Bathroom.zip\n",
      "3FO4J0KYDIP1_Guest_room.zip\n",
      "3FO4J0KYDIP1_Bedroom.zip\n",
      "3FO4J0KYDIP1_Bathroom.zip\n",
      "3FO4J0KYD8NX_Guest_room.zip\n",
      "3FO4J0KQN2R5_Guest_room.zip\n",
      "3FO4J0KQN2R5_Bedroom.zip\n",
      "3FO4J0KKMLN7_Living_room.zip\n"
     ]
    },
    {
     "name": "stderr",
     "output_type": "stream",
     "text": [
      "Permission denied: https://drive.google.com/uc?id=1k764sZTGT3R5mb8XY9sxhJ7c5aqo9NVX&export=download\n",
      "Maybe you need to change permission over 'Anyone with the link'?\n"
     ]
    },
    {
     "name": "stdout",
     "output_type": "stream",
     "text": [
      "3FO4J0KKMLN7_Dining_room.zip\n"
     ]
    },
    {
     "name": "stderr",
     "output_type": "stream",
     "text": [
      "Permission denied: https://drive.google.com/uc?id=1YqzwGoRNvzoVUGt6IYYqAvD9OO61614f&export=download\n",
      "Maybe you need to change permission over 'Anyone with the link'?\n"
     ]
    },
    {
     "name": "stdout",
     "output_type": "stream",
     "text": [
      "3FO4J0KKMLN7_Bedroom.zip\n",
      "3FO4J0KKMLN7_Bathroom.zip\n",
      "3FO4J0KKEAQP_Guest_room.zip\n",
      "3FO4J0KKEAQP_Bedroom.zip\n",
      "3FO4J0KKEAQP_Bathroom.zip\n",
      "3FO4J0KDITPS_Living_room.zip\n"
     ]
    },
    {
     "name": "stderr",
     "output_type": "stream",
     "text": [
      "Permission denied: https://drive.google.com/uc?id=1AxXC4ggfc6E4icyZfiXApfyDbZF-MWBL&export=download\n",
      "Maybe you need to change permission over 'Anyone with the link'?\n"
     ]
    },
    {
     "name": "stdout",
     "output_type": "stream",
     "text": [
      "3FO4J0KDITPS_Guest_room.zip\n",
      "3FO4J0KDITPS_Bedroom.zip\n",
      "3FO4J0KDITPS_Bathroom.zip\n",
      "3FO4J0KCFFKB_Guest_room.zip\n",
      "3FO4J0KCFFKB_Bathroom.zip\n",
      "3FO4J0KADYHX_Living_room.zip\n"
     ]
    },
    {
     "name": "stderr",
     "output_type": "stream",
     "text": [
      "Permission denied: https://drive.google.com/uc?id=19i6JU2rQ1wNOh15v7SDd_2P_2BITlRsT&export=download\n",
      "Maybe you need to change permission over 'Anyone with the link'?\n"
     ]
    },
    {
     "name": "stdout",
     "output_type": "stream",
     "text": [
      "3FO4J0KADYHX_Guest_room.zip\n",
      "3FO4J0KADYHX_Bedroom.zip\n",
      "3FO4J0K3YGUS_Guest_room.zip\n",
      "3FO4J0K3YGUS_Bedroom.zip\n",
      "3FO4J0K3YGUS_Bathroom.zip\n",
      "3FO4J0IXED63_Guest_room.zip\n",
      "3FO4J0IXED63_Bedroom.zip\n",
      "3FO4J0ISU0WF_Bedroom.zip\n",
      "3FO4J0ISU0WF_Bathroom.zip\n",
      "3FO4J0ILANYD_Bedroom.zip\n",
      "3FO4J0ILANYD_Bathroom.zip\n",
      "3FO4J0I31333_Guest_room.zip\n",
      "3FO4J0I31333_Bathroom.zip\n",
      "3FO4J0HXUO0L_Guest_room.zip\n",
      "3FO4J0HXUO0L_Bedroom.zip\n",
      "3FO4J0HXUO0L_Bathroom.zip\n",
      "3FO4J0GUJUJL_Living_room.zip\n"
     ]
    },
    {
     "name": "stderr",
     "output_type": "stream",
     "text": [
      "Permission denied: https://drive.google.com/uc?id=1aLVUSXLDHkPeOSBDU9jQ07Rna7JopAk6&export=download\n",
      "Maybe you need to change permission over 'Anyone with the link'?\n"
     ]
    },
    {
     "name": "stdout",
     "output_type": "stream",
     "text": [
      "3FO4J0GUJUJL_Guest_room.zip\n",
      "3FO4J0GUJUJL_Bedroom.zip\n",
      "3FO4J0GUJUJL_Bathroom.zip\n",
      "3FO4J0DS3F3N_Bathroom.zip\n",
      "3FO4J0DO6ILP_Living_room.zip\n"
     ]
    },
    {
     "name": "stderr",
     "output_type": "stream",
     "text": [
      "Permission denied: https://drive.google.com/uc?id=1gmYKglTdvUqDKHSJHTovVSR1jM2ImJXy&export=download\n",
      "Maybe you need to change permission over 'Anyone with the link'?\n"
     ]
    },
    {
     "name": "stdout",
     "output_type": "stream",
     "text": [
      "3FO4J0DO6ILP_Guest_room.zip\n",
      "3FO4J0DO6ILP_Bedroom.zip\n",
      "3FO4J0DJ412M_Guest_room.zip\n",
      "3FO4J0DJ412M_Bedroom.zip\n",
      "3FO4J0DIIDTG_Bedroom.zip\n",
      "3FO4J0DIIDTG_Bathroom.zip\n",
      "3FO4J0DH5PC7_Guest_room.zip\n",
      "3FO4J0DH5PC7_Bedroom.zip\n",
      "3FO4J0DH5PC7_Bathroom.zip\n",
      "3FO4J0D4QP1E_Living_room.zip\n"
     ]
    },
    {
     "name": "stderr",
     "output_type": "stream",
     "text": [
      "Permission denied: https://drive.google.com/uc?id=1iBWjsnR8vcTwvTblOnoD8L_K3GHqc8q5&export=download\n",
      "Maybe you need to change permission over 'Anyone with the link'?\n"
     ]
    },
    {
     "name": "stdout",
     "output_type": "stream",
     "text": [
      "3FO4J0D4QP1E_Guest_room.zip\n",
      "3FO4J0D4QP1E_Bedroom.zip\n",
      "3FO4J0D4QP1E_Bathroom.zip\n",
      "3FO4J0BP4SOX_Guest_room.zip\n",
      "3FO4J0BP4SOX_Bedroom.zip\n",
      "3FO4J0BP4SOX_Bathroom.zip\n",
      "3FO4J0BC7TRR_Living_room.zip\n"
     ]
    },
    {
     "name": "stderr",
     "output_type": "stream",
     "text": [
      "Permission denied: https://drive.google.com/uc?id=1Nu1RoVjsdeUnfFiwy3aYMHlIxTqVEvWf&export=download\n",
      "Maybe you need to change permission over 'Anyone with the link'?\n"
     ]
    },
    {
     "name": "stdout",
     "output_type": "stream",
     "text": [
      "3FO4J0BC7TRR_Guest_room.zip\n",
      "3FO4J0BC7TRR_Bedroom.zip\n",
      "3FO4J0BC7TRR_Bathroom.zip\n",
      "3FO4J0B9JS1X_Guest_room.zip\n",
      "3FO4J0B9JS1X_Bedroom.zip\n",
      "3FO4J0AR9Y92_Guest_room.zip\n",
      "3FO4J0AR9Y92_Bedroom.zip\n",
      "3FO4J0AQ7IIU_Guest_room.zip\n",
      "3FO4J0AQ7IIU_Bedroom.zip\n",
      "3FO4J0AQ7IIU_Bathroom.zip\n",
      "3FO4J0AKUXC2_Living_room.zip\n"
     ]
    },
    {
     "name": "stderr",
     "output_type": "stream",
     "text": [
      "Permission denied: https://drive.google.com/uc?id=1d-IKbprIPEcaezlhEFQTkfXKcz4pUMot&export=download\n",
      "Maybe you need to change permission over 'Anyone with the link'?\n"
     ]
    },
    {
     "name": "stdout",
     "output_type": "stream",
     "text": [
      "3FO4J0AKUXC2_Bedroom.zip\n",
      "3FO4J0AKUXC2_Bathroom.zip\n",
      "3FO4J0AJPC9W_Living_room.zip\n"
     ]
    },
    {
     "name": "stderr",
     "output_type": "stream",
     "text": [
      "Permission denied: https://drive.google.com/uc?id=1NdAnc1iY9fxC_Gw7O7YzGDVat1hrmWfN&export=download\n",
      "Maybe you need to change permission over 'Anyone with the link'?\n"
     ]
    },
    {
     "name": "stdout",
     "output_type": "stream",
     "text": [
      "3FO4J0AJPC9W_Guest_room.zip\n",
      "3FO4J0AJPC9W_Bathroom.zip\n",
      "3FO4J0ACVI3H_Guest_room.zip\n",
      "3FO4J0ACVI3H_Bedroom.zip\n",
      "3FO4J0ACVI3H_Bathroom.zip\n",
      "3FO4J0ACQ5TV_Guest_room.zip\n",
      "3FO4J0A7RXR3_Living_room.zip\n"
     ]
    },
    {
     "name": "stderr",
     "output_type": "stream",
     "text": [
      "Permission denied: https://drive.google.com/uc?id=1S3rtfddbiOYBvZthkpJzJSs-7xyeloRt&export=download\n",
      "Maybe you need to change permission over 'Anyone with the link'?\n"
     ]
    },
    {
     "name": "stdout",
     "output_type": "stream",
     "text": [
      "3FO4J0A7RXR3_Dining_room.zip\n"
     ]
    },
    {
     "name": "stderr",
     "output_type": "stream",
     "text": [
      "Permission denied: https://drive.google.com/uc?id=1pQAPPbHU77ixmsIt7u4ge2lK05ysot1r&export=download\n",
      "Maybe you need to change permission over 'Anyone with the link'?\n"
     ]
    },
    {
     "name": "stdout",
     "output_type": "stream",
     "text": [
      "3FO4J09O5X73_Bedroom.zip\n",
      "3FO4J09O5X73_Bathroom.zip\n",
      "3FO4J09LONUA_Bedroom.zip\n",
      "3FO4J09LONUA_Bathroom.zip\n",
      "3FO4J099M1FV_Bedroom.zip\n",
      "3FO4J099M1FV_Bathroom.zip\n",
      "3FO4J097CCT2_Living_room.zip\n"
     ]
    },
    {
     "name": "stderr",
     "output_type": "stream",
     "text": [
      "Permission denied: https://drive.google.com/uc?id=1Z0odIquIM9J4ha3AI2JwGuLMbT5PmDiM&export=download\n",
      "Maybe you need to change permission over 'Anyone with the link'?\n"
     ]
    },
    {
     "name": "stdout",
     "output_type": "stream",
     "text": [
      "3FO4J097CCT2_Bathroom.zip\n",
      "3FO4J094RQG9_Living_room.zip\n"
     ]
    },
    {
     "name": "stderr",
     "output_type": "stream",
     "text": [
      "Permission denied: https://drive.google.com/uc?id=1Nc7-gKiEGokK8nY7WC1nn22sdJZPMtkT&export=download\n",
      "Maybe you need to change permission over 'Anyone with the link'?\n"
     ]
    },
    {
     "name": "stdout",
     "output_type": "stream",
     "text": [
      "3FO4J094RQG9_Guest_room.zip\n",
      "3FO4J094RQG9_Dining_room.zip\n"
     ]
    },
    {
     "name": "stderr",
     "output_type": "stream",
     "text": [
      "Permission denied: https://drive.google.com/uc?id=1o1u8mjDeSbSWGggVihzcoZz5SEi2HLw1&export=download\n",
      "Maybe you need to change permission over 'Anyone with the link'?\n"
     ]
    },
    {
     "name": "stdout",
     "output_type": "stream",
     "text": [
      "3FO4J094RQG9_Bathroom.zip\n",
      "3FO4J092AM17_Guest_room.zip\n",
      "3FO4J092AM17_Bedroom.zip\n",
      "3FO4J092AM17_Bathroom.zip\n",
      "3FO4J08YCWKH_Guest_room.zip\n",
      "3FO4J08YCWKH_Bedroom.zip\n",
      "3FO4J08YCWKH_Bathroom.zip\n",
      "3FO4J08XBIML_Guest_room.zip\n",
      "3FO4J08VD7W6_Guest_room.zip\n",
      "3FO4J08VD7W6_Bedroom.zip\n",
      "3FO4J08ONRJ2_Living_room.zip\n"
     ]
    },
    {
     "name": "stderr",
     "output_type": "stream",
     "text": [
      "Permission denied: https://drive.google.com/uc?id=1RXaWyJWJcQtzLGB6km-R5v6WvWcqDbls&export=download\n",
      "Maybe you need to change permission over 'Anyone with the link'?\n"
     ]
    },
    {
     "name": "stdout",
     "output_type": "stream",
     "text": [
      "3FO4J08ONRJ2_Guest_room.zip\n",
      "3FO4J08ONRJ2_Bedroom.zip\n",
      "3FO4J08ONRJ2_Bathroom.zip\n",
      "3FO4J07MXNFP_Guest_room.zip\n",
      "3FO4J07MXNFP_Bedroom.zip\n",
      "3FO4J07MXNFP_Bathroom.zip\n",
      "3FO4J06RU12L_Bathroom.zip\n",
      "3FO4J06G2EQ7_Bedroom.zip\n",
      "3FO4J06G2EQ7_Bathroom.zip\n",
      "3FO4J06EFGW6_Guest_room.zip\n",
      "3FO4J06EFGW6_Bedroom.zip\n",
      "3FO4J064HWM8_Bedroom.zip\n",
      "3FO4J064HWM8_Bathroom.zip\n",
      "3FO4J05SAGSU_Bedroom.zip\n",
      "3FO4J05SAGSU_Bathroom.zip\n",
      "3FO4J05R5WJ1_Living_room.zip\n"
     ]
    },
    {
     "name": "stderr",
     "output_type": "stream",
     "text": [
      "Permission denied: https://drive.google.com/uc?id=1un68l29s3vW1MVRfWf0TshB9ojvXmQxF&export=download\n",
      "Maybe you need to change permission over 'Anyone with the link'?\n"
     ]
    },
    {
     "name": "stdout",
     "output_type": "stream",
     "text": [
      "3FO4J05R5WJ1_Guest_room.zip\n",
      "3FO4J05R5WJ1_Dining_room.zip\n"
     ]
    },
    {
     "name": "stderr",
     "output_type": "stream",
     "text": [
      "Permission denied: https://drive.google.com/uc?id=17bi-BViCBtRo2xkUvqDas9KTzFDV5Y7Z&export=download\n",
      "Maybe you need to change permission over 'Anyone with the link'?\n"
     ]
    },
    {
     "name": "stdout",
     "output_type": "stream",
     "text": [
      "3FO4J05R5WJ1_Bedroom.zip\n",
      "3FO4J05R5WJ1_Bathroom.zip\n",
      "3FO4J04P2W1T_Bedroom.zip\n",
      "3FO4J045FCM7_Guest_room.zip\n",
      "3FO4J045FCM7_Bedroom.zip\n",
      "3FO4J045FCM7_Bathroom.zip\n",
      "3FO4J03WIHNE_Living_room.zip\n"
     ]
    },
    {
     "name": "stderr",
     "output_type": "stream",
     "text": [
      "Permission denied: https://drive.google.com/uc?id=14nAq84op3V5zgiJD7y643kcvt30V1O-v&export=download\n",
      "Maybe you need to change permission over 'Anyone with the link'?\n"
     ]
    },
    {
     "name": "stdout",
     "output_type": "stream",
     "text": [
      "3FO4J03WIHNE_Guest_room.zip\n",
      "3FO4J03WIHNE_Bedroom.zip\n",
      "3FO4J03TEE6R_Guest_room.zip\n",
      "3FO4J03TEE6R_Bedroom.zip\n",
      "3FO4J03TEE6R_Bathroom.zip\n",
      "3FO4J03JQAWN_Guest_room.zip\n",
      "3FO4J03JQAWN_Bedroom.zip\n",
      "3FO4J0252V3Q_Guest_room.zip\n",
      "3FO4J0252V3Q_Bedroom.zip\n",
      "3FO4J0252V3Q_Bathroom.zip\n",
      "3FO4J00QC1GK_Guest_room.zip\n",
      "3FO4J00QC1GK_Bedroom.zip\n",
      "3FO4J00QC1GK_Bathroom.zip\n",
      "3FO4IYYTI0VE_Guest_room.zip\n",
      "3FO4IYYTI0VE_Bedroom.zip\n",
      "3FO4IYYTI0VE_Bathroom.zip\n",
      "3FO4IYUL4W5A_Bedroom.zip\n",
      "3FO4IYTQL1W3_Bathroom.zip\n",
      "3FO4IYQTTQG0_Bedroom.zip\n",
      "3FO4IYNVKBW1_Bathroom.zip\n",
      "3FO4IYMV8QE7_Bathroom.zip\n",
      "3FO4IYL4IJ95_Bathroom.zip\n",
      "3FO4IYJXWR58_Living_room.zip\n"
     ]
    },
    {
     "name": "stderr",
     "output_type": "stream",
     "text": [
      "Permission denied: https://drive.google.com/uc?id=1BlowvEqsC7kD3Qdb-ZarEbPcbJWMoc_p&export=download\n",
      "Maybe you need to change permission over 'Anyone with the link'?\n"
     ]
    },
    {
     "name": "stdout",
     "output_type": "stream",
     "text": [
      "3FO4IYJLDHWU_Bedroom.zip\n",
      "3FO4IYHLL3KE_Guest_room.zip\n",
      "3FO4IYFSGHQK_Guest_room.zip\n",
      "3FO4IYF3FMXM_Guest_room.zip\n",
      "3FO4IYESFVR1_Bedroom.zip\n",
      "3FO4IYDBXDBX_Bedroom.zip\n",
      "3FO4IYY7SFC8_Bathroom.zip\n",
      "3FO4IYXOGMJA_Living_room.zip\n"
     ]
    },
    {
     "name": "stderr",
     "output_type": "stream",
     "text": [
      "Permission denied: https://drive.google.com/uc?id=1YAw5roIt1C9pLAQkNLXFdtfw0o6kGML-&export=download\n",
      "Maybe you need to change permission over 'Anyone with the link'?\n"
     ]
    },
    {
     "name": "stdout",
     "output_type": "stream",
     "text": [
      "3FO4IYXOGMJA_Guest_room.zip\n",
      "3FO4IYXOGMJA_Bedroom.zip\n",
      "3FO4IYXOGMJA_Bathroom.zip\n",
      "3FO4IYX6IEJE_Guest_room.zip\n",
      "3FO4IYX6IEJE_Bedroom.zip\n",
      "3FO4IYX6IEJE_Bathroom.zip\n",
      "3FO4IYWYYEQW_Bedroom.zip\n",
      "3FO4IYWYYEQW_Bathroom.zip\n",
      "3FO4IYWY8592_Living_room.zip\n"
     ]
    },
    {
     "name": "stderr",
     "output_type": "stream",
     "text": [
      "Permission denied: https://drive.google.com/uc?id=1jsFfk663mfeipb-KwLCz_8kLwqAz3xi0&export=download\n",
      "Maybe you need to change permission over 'Anyone with the link'?\n"
     ]
    },
    {
     "name": "stdout",
     "output_type": "stream",
     "text": [
      "3FO4IYWY8592_Dining_room.zip\n"
     ]
    },
    {
     "name": "stderr",
     "output_type": "stream",
     "text": [
      "Permission denied: https://drive.google.com/uc?id=1NId76O9WNP4UVJ6Zsazmj5DDWX2b8zEt&export=download\n",
      "Maybe you need to change permission over 'Anyone with the link'?\n"
     ]
    },
    {
     "name": "stdout",
     "output_type": "stream",
     "text": [
      "3FO4IYWH3DNO_Guest_room.zip\n",
      "3FO4IYWH3DNO_Bedroom.zip\n",
      "3FO4IYWAD9VD_Bedroom.zip\n",
      "3FO4IYWAD9VD_Bathroom.zip\n",
      "3FO4IYW0JJCK_Guest_room.zip\n",
      "3FO4IYW0JJCK_Bedroom.zip\n",
      "3FO4IYW0JJCK_Bathroom.zip\n",
      "3FO4IYVQ23D5_Guest_room.zip\n",
      "3FO4IYVQ23D5_Bedroom.zip\n",
      "3FO4IYVQ23D5_Bathroom.zip\n",
      "3FO4IYVO5B56_Bedroom.zip\n",
      "3FO4IYVO5B56_Bathroom.zip\n",
      "3FO4IYVJAQ4G_Guest_room.zip\n",
      "3FO4IYVJAQ4G_Bedroom.zip\n",
      "3FO4IYVJAQ4G_Bathroom.zip\n",
      "3FO4IYUL4W5A_Living_room.zip\n"
     ]
    },
    {
     "name": "stderr",
     "output_type": "stream",
     "text": [
      "Permission denied: https://drive.google.com/uc?id=1ovM1A_JrgpnNkWRq2ZE4GiVop-MF3JK5&export=download\n",
      "Maybe you need to change permission over 'Anyone with the link'?\n"
     ]
    },
    {
     "name": "stdout",
     "output_type": "stream",
     "text": [
      "3FO4IYUL4W5A_Bathroom.zip\n",
      "3FO4IYUG5XB9_Guest_room.zip\n",
      "3FO4IYUG5XB9_Bedroom.zip\n",
      "3FO4IYUG5XB9_Bathroom.zip\n",
      "3FO4IYU9RHGF_Bathroom.zip\n",
      "3FO4IYU7RGJH_Living_room.zip\n"
     ]
    },
    {
     "name": "stderr",
     "output_type": "stream",
     "text": [
      "Permission denied: https://drive.google.com/uc?id=1Xj9L7EzWvfW0N-JbEAF_vN9QE1hFkaPg&export=download\n",
      "Maybe you need to change permission over 'Anyone with the link'?\n"
     ]
    },
    {
     "name": "stdout",
     "output_type": "stream",
     "text": [
      "3FO4IYU7RGJH_Guest_room.zip\n",
      "3FO4IYU7RGJH_Bedroom.zip\n",
      "3FO4IYU7RGJH_Bathroom.zip\n",
      "3FO4IYU3DGJF_Guest_room.zip\n",
      "3FO4IYU3DGJF_Bedroom.zip\n",
      "3FO4IYU3DGJF_Bathroom.zip\n",
      "3FO4IYU24BR8_Bedroom.zip\n",
      "3FO4IYU24BR8_Bathroom.zip\n",
      "3FO4IYTFMUFH_Living_room.zip\n"
     ]
    },
    {
     "name": "stderr",
     "output_type": "stream",
     "text": [
      "Permission denied: https://drive.google.com/uc?id=1QtZJLQ7kL63QxeG96OlD9bT4S03Hb_Eo&export=download\n",
      "Maybe you need to change permission over 'Anyone with the link'?\n"
     ]
    },
    {
     "name": "stdout",
     "output_type": "stream",
     "text": [
      "3FO4IYTFMUFH_Guest_room.zip\n",
      "3FO4IYTFMUFH_Bedroom.zip\n",
      "3FO4IYTFMUFH_Bathroom.zip\n",
      "3FO4IYTCLSXR_Guest_room.zip\n",
      "3FO4IYTCLSXR_Bedroom.zip\n",
      "3FO4IYTCLSXR_Bathroom.zip\n",
      "3FO4IYSYB07G_Guest_room.zip\n",
      "3FO4IYSYB07G_Bedroom.zip\n",
      "3FO4IYSYB07G_Bathroom.zip\n",
      "3FO4IYRT4QBV_Guest_room.zip\n",
      "3FO4IYRT4QBV_Bedroom.zip\n",
      "3FO4IYQTTQG0_Living_room.zip\n"
     ]
    },
    {
     "name": "stderr",
     "output_type": "stream",
     "text": [
      "Permission denied: https://drive.google.com/uc?id=1VWH5REj55ce32mriRJfy9lzhcxBiCo19&export=download\n",
      "Maybe you need to change permission over 'Anyone with the link'?\n"
     ]
    },
    {
     "name": "stdout",
     "output_type": "stream",
     "text": [
      "3FO4IYQTTQG0_Guest_room.zip\n",
      "3FO4IYQTTQG0_Bathroom.zip\n",
      "3FO4IYPHKO3B_Guest_room.zip\n",
      "3FO4IYPHKO3B_Bedroom.zip\n",
      "3FO4IYPHKO3B_Bathroom.zip\n",
      "3FO4IYONB6IW_Guest_room.zip\n",
      "3FO4IYONB6IW_Bedroom.zip\n",
      "3FO4IYONB6IW_Bathroom.zip\n",
      "3FO4IYOJBS48_Guest_room.zip\n",
      "3FO4IYOJBS48_Bedroom.zip\n",
      "3FO4IYOJBS48_Bathroom.zip\n",
      "3FO4IYOAK1KH_Bedroom.zip\n",
      "3FO4IYNVKBW1_Living_room.zip\n"
     ]
    },
    {
     "name": "stderr",
     "output_type": "stream",
     "text": [
      "Permission denied: https://drive.google.com/uc?id=1iewCgt_kGlnZOZnMonGu_SV5Buq3Jr3N&export=download\n",
      "Maybe you need to change permission over 'Anyone with the link'?\n"
     ]
    },
    {
     "name": "stdout",
     "output_type": "stream",
     "text": [
      "3FO4IYNVKBW1_Guest_room.zip\n",
      "3FO4IYNVKBW1_Bedroom.zip\n",
      "3FO4IYNQ69RH_Guest_room.zip\n",
      "3FO4IYNQ69RH_Bedroom.zip\n",
      "3FO4IYNQ69RH_Bathroom.zip\n",
      "3FO4IYN4WMM3_Guest_room.zip\n",
      "3FO4IYN4WMM3_Bedroom.zip\n",
      "3FO4IYN4WMM3_Bathroom.zip\n",
      "3FO4IYN0RIKO_Guest_room.zip\n",
      "3FO4IYN0RIKO_Bedroom.zip\n",
      "3FO4IYN0RIKO_Bathroom.zip\n",
      "3FO4IYMWDKP4_Guest_room.zip\n",
      "3FO4IYMWDKP4_Dining_room.zip\n"
     ]
    },
    {
     "name": "stderr",
     "output_type": "stream",
     "text": [
      "Permission denied: https://drive.google.com/uc?id=1qwJs4CzkbyyIHcMlx-Y88SCBbO8uU6Vk&export=download\n",
      "Maybe you need to change permission over 'Anyone with the link'?\n"
     ]
    },
    {
     "name": "stdout",
     "output_type": "stream",
     "text": [
      "3FO4IYMWDKP4_Bedroom.zip\n",
      "3FO4IYMWDKP4_Bathroom.zip\n",
      "3FO4IYMV8QE7_Bedroom.zip\n",
      "3FO4IYMJ3M22_Guest_room.zip\n",
      "3FO4IYMJ3M22_Bedroom.zip\n",
      "3FO4IYMJ3M22_Bathroom.zip\n",
      "3FO4IYM8ART2_Guest_room.zip\n",
      "3FO4IYM8ART2_Bedroom.zip\n",
      "3FO4IYM8ART2_Bathroom.zip\n",
      "3FO4IYLURUF3_Guest_room.zip\n",
      "3FO4IYLURUF3_Bedroom.zip\n",
      "3FO4IYLURUF3_Bathroom.zip\n",
      "3FO4IYL7OWYG_Guest_room.zip\n",
      "3FO4IYL7OWYG_Bedroom.zip\n",
      "3FO4IYL7OWYG_Bathroom.zip\n",
      "3FO4IYL4IJ95_Guest_room.zip\n",
      "3FO4IYL4IJ95_Bedroom.zip\n",
      "3FO4IYL357CO_Guest_room.zip\n",
      "3FO4IYL357CO_Bedroom.zip\n",
      "3FO4IYL357CO_Bathroom.zip\n",
      "3FO4IYKVKMI1_Living_room.zip\n"
     ]
    },
    {
     "name": "stderr",
     "output_type": "stream",
     "text": [
      "Permission denied: https://drive.google.com/uc?id=1p7GnI7czcgCed96o5PxarEn0YgluOnI_&export=download\n",
      "Maybe you need to change permission over 'Anyone with the link'?\n"
     ]
    },
    {
     "name": "stdout",
     "output_type": "stream",
     "text": [
      "3FO4IYKVKMI1_Bedroom.zip\n",
      "3FO4IYKS8BGX_Bathroom.zip\n",
      "3FO4IYKLP6RP_Living_room.zip\n"
     ]
    },
    {
     "name": "stderr",
     "output_type": "stream",
     "text": [
      "Permission denied: https://drive.google.com/uc?id=1aLqZ-TayCgelSYTMiYondj7mNhjGfv1O&export=download\n",
      "Maybe you need to change permission over 'Anyone with the link'?\n"
     ]
    },
    {
     "name": "stdout",
     "output_type": "stream",
     "text": [
      "3FO4IYKLP6RP_Bedroom.zip\n",
      "3FO4IYKLP6RP_Bathroom.zip\n",
      "3FO4IYKCMWFT_Bedroom.zip\n",
      "3FO4IYKCMWFT_Bathroom.zip\n",
      "3FO4IYK7EYB4_Guest_room.zip\n",
      "3FO4IYK7EYB4_Bedroom.zip\n",
      "3FO4IYK7EYB4_Bathroom.zip\n",
      "3FO4IYJXWR58_Guest_room.zip\n",
      "3FO4IYJXWR58_Bedroom.zip\n",
      "3FO4IYJXWR58_Bathroom.zip\n",
      "3FO4IYJVWMV9_Guest_room.zip\n",
      "3FO4IYJVWMV9_Bedroom.zip\n",
      "3FO4IYJVWMV9_Bathroom.zip\n",
      "3FO4IYJVHWXU_Guest_room.zip\n",
      "3FO4IYJVHWXU_Bedroom.zip\n",
      "3FO4IYJVHWXU_Bathroom.zip\n",
      "3FO4IYJQIRFR_Guest_room.zip\n",
      "3FO4IYJQIRFR_Bedroom.zip\n",
      "3FO4IYJQIRFR_Bathroom.zip\n",
      "3FO4IYJLDHWU_Living_room.zip\n"
     ]
    },
    {
     "name": "stderr",
     "output_type": "stream",
     "text": [
      "Downloading...\n",
      "From: https://drive.google.com/uc?id=1oFKJ4h9ATfyRi5iJv_eJCKmk2uJUHRDs&export=download\n",
      "To: /media/scratch1/erbachj/Mask_RCNN/data/InteriorNet/data/HD7/train/3FO4IYJLDHWU_Living_room.zip\n",
      "48.1MB [00:01, 41.3MB/s]\n"
     ]
    },
    {
     "name": "stdout",
     "output_type": "stream",
     "text": [
      "3FO4IYJLDHWU_Guest_room.zip\n",
      "3FO4IYJLDHWU_Bathroom.zip\n",
      "3FO4IYJL1GM9_Living_room.zip\n"
     ]
    },
    {
     "name": "stderr",
     "output_type": "stream",
     "text": [
      "Permission denied: https://drive.google.com/uc?id=1cgmK15xPStN2z6iO8yYx0jlMoTGl4ZvY&export=download\n",
      "Maybe you need to change permission over 'Anyone with the link'?\n"
     ]
    },
    {
     "name": "stdout",
     "output_type": "stream",
     "text": [
      "3FO4IYJL1GM9_Guest_room.zip\n",
      "3FO4IYJL1GM9_Bedroom.zip\n",
      "3FO4IYJL1GM9_Bathroom.zip\n",
      "3FO4IYJIJSWC_Bedroom.zip\n",
      "3FO4IYJIJSWC_Bathroom.zip\n",
      "3FO4IYJHJU4V_Bedroom.zip\n",
      "3FO4IYHM48UT_Guest_room.zip\n",
      "3FO4IYHM48UT_Bedroom.zip\n",
      "3FO4IYHM48UT_Bathroom.zip\n",
      "3FO4IYHLW33O_Guest_room.zip\n",
      "3FO4IYHLW33O_Bedroom.zip\n",
      "3FO4IYHLW33O_Bathroom.zip\n",
      "3FO4IYHLL3KE_Bedroom.zip\n",
      "3FO4IYHLL3KE_Bathroom.zip\n",
      "3FO4IYHL0N1A_Bedroom.zip\n",
      "3FO4IYHL0N1A_Bathroom.zip\n",
      "3FO4IYHKLVJ6_Guest_room.zip\n",
      "3FO4IYHKLVJ6_Bedroom.zip\n",
      "3FO4IYHKLVJ6_Bathroom.zip\n",
      "3FO4IYHCMQBO_Guest_room.zip\n",
      "3FO4IYHCMQBO_Bedroom.zip\n",
      "3FO4IYHCMQBO_Bathroom.zip\n",
      "3FO4IYGAF8O5_Bathroom.zip\n",
      "3FO4IYG6E52X_Guest_room.zip\n",
      "3FO4IYG6E52X_Bedroom.zip\n",
      "3FO4IYG6E52X_Bathroom.zip\n",
      "3FO4IYFSGHQK_Bedroom.zip\n",
      "3FO4IYFSGHQK_Bathroom.zip\n",
      "3FO4IYFOTFNK_Guest_room.zip\n",
      "3FO4IYFOTFNK_Bedroom.zip\n",
      "3FO4IYFOTFNK_Bathroom.zip\n",
      "3FO4IYFHB8TU_Guest_room.zip\n",
      "3FO4IYFHB8TU_Bedroom.zip\n",
      "3FO4IYFHB8TU_Bathroom.zip\n",
      "3FO4IYFC05D7_Living_room.zip\n"
     ]
    },
    {
     "name": "stderr",
     "output_type": "stream",
     "text": [
      "Permission denied: https://drive.google.com/uc?id=1l9VrdoQ6ecVsFdmCz2FUIgl154XTnXhw&export=download\n",
      "Maybe you need to change permission over 'Anyone with the link'?\n"
     ]
    },
    {
     "name": "stdout",
     "output_type": "stream",
     "text": [
      "3FO4IYFC05D7_Bathroom.zip\n",
      "3FO4IYF8E1PH_Guest_room.zip\n",
      "3FO4IYF8E1PH_Bedroom.zip\n",
      "3FO4IYF8E1PH_Bathroom.zip\n",
      "3FO4IYF3FMXM_Living_room.zip\n"
     ]
    },
    {
     "name": "stderr",
     "output_type": "stream",
     "text": [
      "Downloading...\n",
      "From: https://drive.google.com/uc?id=18NOOcFA4KeuMsWyDRAaphX5gD6-cftsl&export=download\n",
      "To: /media/scratch1/erbachj/Mask_RCNN/data/InteriorNet/data/HD7/train/3FO4IYF3FMXM_Living_room.zip\n",
      "60.7MB [00:02, 23.9MB/s]\n"
     ]
    },
    {
     "name": "stdout",
     "output_type": "stream",
     "text": [
      "3FO4IYF3FMXM_Bedroom.zip\n",
      "3FO4IYF2KD0K_Guest_room.zip\n",
      "3FO4IYF2KD0K_Bedroom.zip\n",
      "3FO4IYF2FY79_Guest_room.zip\n",
      "3FO4IYF2FY79_Bedroom.zip\n",
      "3FO4IYF2FY79_Bathroom.zip\n",
      "3FO4IYF03SMO_Guest_room.zip\n",
      "3FO4IYF03SMO_Bedroom.zip\n",
      "3FO4IYF03SMO_Bathroom.zip\n",
      "3FO4IYETESR6_Living_room.zip\n"
     ]
    },
    {
     "name": "stderr",
     "output_type": "stream",
     "text": [
      "Permission denied: https://drive.google.com/uc?id=1dx3KHrSpeUAgEX395RpUePEI8K_zXnV_&export=download\n",
      "Maybe you need to change permission over 'Anyone with the link'?\n"
     ]
    },
    {
     "name": "stdout",
     "output_type": "stream",
     "text": [
      "3FO4IYETESR6_Guest_room.zip\n",
      "3FO4IYETESR6_Bedroom.zip\n",
      "3FO4IYESFVR1_Living_room.zip\n"
     ]
    },
    {
     "name": "stderr",
     "output_type": "stream",
     "text": [
      "Permission denied: https://drive.google.com/uc?id=14TJxYnT_lN2v42FDShfyTpVKyoWmrxKe&export=download\n",
      "Maybe you need to change permission over 'Anyone with the link'?\n"
     ]
    },
    {
     "name": "stdout",
     "output_type": "stream",
     "text": [
      "3FO4IYESFVR1_Guest_room.zip\n",
      "3FO4IYESFVR1_Bathroom.zip\n",
      "3FO4IYEPPTSL_Bedroom.zip\n",
      "3FO4IYEPPTSL_Bathroom.zip\n",
      "3FO4IYENNFAX_Bedroom.zip\n",
      "3FO4IYENNFAX_Bathroom.zip\n",
      "3FO4IYEMEAIQ_Guest_room.zip\n",
      "3FO4IYEMEAIQ_Bedroom.zip\n",
      "3FO4IYEMEAIQ_Bathroom.zip\n",
      "3FO4IYE86DAT_Guest_room.zip\n",
      "3FO4IYE86DAT_Bedroom.zip\n",
      "3FO4IYDXLW3S_Bedroom.zip\n",
      "3FO4IYDXLW3S_Bathroom.zip\n",
      "3FO4IYDN3M8N_Bedroom.zip\n",
      "3FO4IYDN3M8N_Bathroom.zip\n",
      "3FO4IY7Y2OXC_Bathroom.zip\n",
      "3FO4IY7E25RT_Bedroom.zip\n",
      "3FO4IY5H1LWC_Bedroom.zip\n",
      "3FO4IY2UOE75_Guest_room.zip\n",
      "3FO4IY1JH0SF_Guest_room.zip\n",
      "3FO4IY15D0NO_Bathroom.zip\n",
      "3FO4IXYMW5AM_Bathroom.zip\n",
      "3FO4IXYBEGP7_Bathroom.zip\n",
      "3FO4IXVK28DN_Living_room.zip\n"
     ]
    },
    {
     "name": "stderr",
     "output_type": "stream",
     "text": [
      "Downloading...\n",
      "From: https://drive.google.com/uc?id=1iTaGkuyyKvDK9GRKxBN1LkmiSij1yc0R&export=download\n",
      "To: /media/scratch1/erbachj/Mask_RCNN/data/InteriorNet/data/HD7/train/3FO4IXVK28DN_Living_room.zip\n",
      "66.2MB [00:02, 23.2MB/s]\n"
     ]
    },
    {
     "name": "stdout",
     "output_type": "stream",
     "text": [
      "3FO4IXUKH0PP_Bedroom.zip\n",
      "3FO4IXSRL0TG_Bathroom.zip\n",
      "3FO4IXQQN73W_Kitchen.zip\n",
      "3FO4IXPSY39Q_Guest_room.zip\n",
      "3FO4IYD39UH6_Living_room.zip\n"
     ]
    },
    {
     "name": "stderr",
     "output_type": "stream",
     "text": [
      "Permission denied: https://drive.google.com/uc?id=1TuJ4E49w-F5g_cZsSPlYT-BarrR5nl__&export=download\n",
      "Maybe you need to change permission over 'Anyone with the link'?\n"
     ]
    },
    {
     "name": "stdout",
     "output_type": "stream",
     "text": [
      "3FO4IYD39UH6_Bathroom.zip\n",
      "3FO4IYC983R3_Living_room.zip\n"
     ]
    },
    {
     "name": "stderr",
     "output_type": "stream",
     "text": [
      "Permission denied: https://drive.google.com/uc?id=1Rg_KNEEC6NRsXAixE-5B0oxXu0lmldwj&export=download\n",
      "Maybe you need to change permission over 'Anyone with the link'?\n"
     ]
    },
    {
     "name": "stdout",
     "output_type": "stream",
     "text": [
      "3FO4IYC983R3_Guest_room.zip\n",
      "3FO4IYC983R3_Bedroom.zip\n",
      "3FO4IYC983R3_Bathroom.zip\n",
      "3FO4IYB5E50N_Guest_room.zip\n",
      "3FO4IYB5E50N_Bedroom.zip\n",
      "3FO4IYB5E50N_Bathroom.zip\n",
      "3FO4IYAT7FXI_Guest_room.zip\n",
      "3FO4IYAT7FXI_Bedroom.zip\n",
      "3FO4IYAT7FXI_Bathroom.zip\n",
      "3FO4IYA1A1T7_Bedroom.zip\n",
      "3FO4IY9Y0JVF_Bedroom.zip\n",
      "3FO4IY9U53JW_Bedroom.zip\n",
      "3FO4IY9U53JW_Bathroom.zip\n",
      "3FO4IY9OIKM5_Guest_room.zip\n",
      "3FO4IY9OIKM5_Bedroom.zip\n",
      "3FO4IY9OIKM5_Bathroom.zip\n",
      "3FO4IY8EROGT_Bedroom.zip\n",
      "3FO4IY8EROGT_Bathroom.zip\n",
      "3FO4IY88R8CV_Bedroom.zip\n",
      "3FO4IY88R8CV_Bathroom.zip\n",
      "3FO4IY813AWG_Guest_room.zip\n",
      "3FO4IY813AWG_Bedroom.zip\n",
      "3FO4IY813AWG_Bathroom.zip\n",
      "3FO4IY7Y2OXC_Guest_room.zip\n",
      "3FO4IY7Y2OXC_Bedroom.zip\n",
      "3FO4IY7MNXG3_Guest_room.zip\n",
      "3FO4IY7MNXG3_Bedroom.zip\n",
      "3FO4IY7MNXG3_Bathroom.zip\n",
      "3FO4IY7K1A3D_Guest_room.zip\n",
      "3FO4IY7K1A3D_Bedroom.zip\n",
      "3FO4IY7K1A3D_Bathroom.zip\n",
      "3FO4IY7ISH4K_Living_room.zip\n"
     ]
    },
    {
     "name": "stderr",
     "output_type": "stream",
     "text": [
      "Permission denied: https://drive.google.com/uc?id=1KzmV0HIkdY3zG1J3v6zbVexYv5BqVEPX&export=download\n",
      "Maybe you need to change permission over 'Anyone with the link'?\n"
     ]
    },
    {
     "name": "stdout",
     "output_type": "stream",
     "text": [
      "3FO4IY7ISH4K_Guest_room.zip\n",
      "3FO4IY7ISH4K_Bedroom.zip\n",
      "3FO4IY7ISH4K_Bathroom.zip\n",
      "3FO4IY7FT5TD_Guest_room.zip\n",
      "3FO4IY7FT5TD_Bedroom.zip\n",
      "3FO4IY7FT5TD_Bathroom.zip\n",
      "3FO4IY7E25RT_Guest_room.zip\n",
      "3FO4IY7E25RT_Bathroom.zip\n",
      "3FO4IY6VQ06J_Guest_room.zip\n",
      "3FO4IY6VQ06J_Bedroom.zip\n",
      "3FO4IY6VQ06J_Bathroom.zip\n",
      "3FO4IY64DD75_Bathroom.zip\n",
      "3FO4IY6458YP_Living_room.zip\n"
     ]
    },
    {
     "name": "stderr",
     "output_type": "stream",
     "text": [
      "Permission denied: https://drive.google.com/uc?id=1wLje2xnzfSECyH1ElsLG81_CCmUO-KgQ&export=download\n",
      "Maybe you need to change permission over 'Anyone with the link'?\n"
     ]
    },
    {
     "name": "stdout",
     "output_type": "stream",
     "text": [
      "3FO4IY6458YP_Bedroom.zip\n",
      "3FO4IY5NK1MN_Living_room.zip\n"
     ]
    },
    {
     "name": "stderr",
     "output_type": "stream",
     "text": [
      "Permission denied: https://drive.google.com/uc?id=1qtyxzjJNc9z8XmF4PSWjGH-gLyHsaT6M&export=download\n",
      "Maybe you need to change permission over 'Anyone with the link'?\n"
     ]
    },
    {
     "name": "stdout",
     "output_type": "stream",
     "text": [
      "3FO4IY5NK1MN_Dining_room.zip\n"
     ]
    },
    {
     "name": "stderr",
     "output_type": "stream",
     "text": [
      "Permission denied: https://drive.google.com/uc?id=1YUSkp2sdyc4pcDMT-GFVZcamRvM2zneH&export=download\n",
      "Maybe you need to change permission over 'Anyone with the link'?\n"
     ]
    },
    {
     "name": "stdout",
     "output_type": "stream",
     "text": [
      "3FO4IY5NK1MN_Bedroom.zip\n",
      "3FO4IY5NK1MN_Bathroom.zip\n",
      "3FO4IY5KHNCJ_Guest_room.zip\n",
      "3FO4IY5KHNCJ_Bedroom.zip\n",
      "3FO4IY5KHNCJ_Bathroom.zip\n",
      "3FO4IY5H1LWC_Bathroom.zip\n",
      "3FO4IY46LQHU_Bathroom.zip\n",
      "3FO4IY3MBBPU_Guest_room.zip\n",
      "3FO4IY3MBBPU_Bedroom.zip\n",
      "3FO4IY3MBBPU_Bathroom.zip\n",
      "3FO4IY3AM94I_Guest_room.zip\n",
      "3FO4IY3AM94I_Bedroom.zip\n",
      "3FO4IY36GQP0_Living_room.zip\n"
     ]
    },
    {
     "name": "stderr",
     "output_type": "stream",
     "text": [
      "Downloading...\n",
      "From: https://drive.google.com/uc?id=1Jtf-AlgcHPYrEi1CPiyjbXCwt324cuM8&export=download\n",
      "To: /media/scratch1/erbachj/Mask_RCNN/data/InteriorNet/data/HD7/train/3FO4IY36GQP0_Living_room.zip\n",
      "75.0MB [00:01, 57.7MB/s]\n"
     ]
    },
    {
     "name": "stdout",
     "output_type": "stream",
     "text": [
      "3FO4IY36GQP0_Guest_room.zip\n",
      "3FO4IY36GQP0_Bedroom.zip\n",
      "3FO4IY31KJTS_Bathroom.zip\n",
      "3FO4IY2WWCMG_Bedroom.zip\n",
      "3FO4IY2WWCMG_Bathroom.zip\n",
      "3FO4IY2UOE75_Living_room.zip\n"
     ]
    },
    {
     "name": "stderr",
     "output_type": "stream",
     "text": [
      "Permission denied: https://drive.google.com/uc?id=1cy4e9wdXH1Vrt5VC1mUqJHRJcX6cSYor&export=download\n",
      "Maybe you need to change permission over 'Anyone with the link'?\n"
     ]
    },
    {
     "name": "stdout",
     "output_type": "stream",
     "text": [
      "3FO4IY2UOE75_Dining_room.zip\n"
     ]
    },
    {
     "name": "stderr",
     "output_type": "stream",
     "text": [
      "Permission denied: https://drive.google.com/uc?id=16KNGuckl5Yj12-LmUUHX-MtXR6GkaTRZ&export=download\n",
      "Maybe you need to change permission over 'Anyone with the link'?\n"
     ]
    },
    {
     "name": "stdout",
     "output_type": "stream",
     "text": [
      "3FO4IY2UOE75_Bedroom.zip\n",
      "3FO4IY2UOE75_Bathroom.zip\n",
      "3FO4IY2QSWUM_Guest_room.zip\n",
      "3FO4IY2QSWUM_Bedroom.zip\n",
      "3FO4IY2QSWUM_Bathroom.zip\n",
      "3FO4IY1XPBEG_Living_room.zip\n"
     ]
    },
    {
     "name": "stderr",
     "output_type": "stream",
     "text": [
      "Permission denied: https://drive.google.com/uc?id=1gBtLMd_QQuIcBaNihJjL8ciqL0m6jRxf&export=download\n",
      "Maybe you need to change permission over 'Anyone with the link'?\n"
     ]
    },
    {
     "name": "stdout",
     "output_type": "stream",
     "text": [
      "3FO4IY1XPBEG_Bathroom.zip\n",
      "3FO4IY1WL5HQ_Guest_room.zip\n",
      "3FO4IY1WL5HQ_Bedroom.zip\n",
      "3FO4IY1WL5HQ_Bathroom.zip\n",
      "3FO4IY1W3DKF_Living_room.zip\n"
     ]
    },
    {
     "name": "stderr",
     "output_type": "stream",
     "text": [
      "Permission denied: https://drive.google.com/uc?id=1VQEl0Ry19xKxGRCqh6i_vXSQKERH_yvK&export=download\n",
      "Maybe you need to change permission over 'Anyone with the link'?\n"
     ]
    },
    {
     "name": "stdout",
     "output_type": "stream",
     "text": [
      "3FO4IY1W3DKF_Guest_room.zip\n",
      "3FO4IY1W3DKF_Bedroom.zip\n",
      "3FO4IY1JH0SF_Bedroom.zip\n",
      "3FO4IY1JH0SF_Bathroom.zip\n",
      "3FO4IY1IRN65_Bedroom.zip\n",
      "3FO4IY1IRN65_Bathroom.zip\n",
      "3FO4IY1D9XYI_Kitchen.zip\n",
      "3FO4IY1D9XYI_Guest_room.zip\n",
      "3FO4IY1D9XYI_Bedroom.zip\n",
      "3FO4IY15PSPI_Kitchen.zip\n",
      "3FO4IY15PSPI_Guest_room.zip\n",
      "3FO4IY15PSPI_Bedroom.zip\n",
      "3FO4IY15PSPI_Bathroom.zip\n",
      "3FO4IY15D0NO_Kitchen.zip\n",
      "3FO4IY15D0NO_Guest_room.zip\n",
      "3FO4IY15D0NO_Bedroom.zip\n",
      "3FO4IY0MP74W_Kitchen.zip\n",
      "3FO4IY0MP74W_Guest_room.zip\n",
      "3FO4IY0MP74W_Bedroom.zip\n",
      "3FO4IY0MP74W_Bathroom.zip\n",
      "3FO4IXYUF8RB_Kitchen.zip\n",
      "3FO4IXYUF8RB_Guest_room.zip\n",
      "3FO4IXYUF8RB_Bedroom.zip\n",
      "3FO4IXYUF8RB_Bathroom.zip\n",
      "3FO4IXYQI29A_Kitchen.zip\n",
      "3FO4IXYQI29A_Guest_room.zip\n",
      "3FO4IXYQI29A_Bedroom.zip\n",
      "3FO4IXYP0OWM_Kitchen.zip\n",
      "3FO4IXYP0OWM_Bathroom.zip\n",
      "3FO4IXYMW5AM_Bedroom.zip\n",
      "3FO4IXYMJ27P_Bedroom.zip\n",
      "3FO4IXYMJ27P_Bathroom.zip\n",
      "3FO4IXYM4FMC_Living_room.zip\n"
     ]
    },
    {
     "name": "stderr",
     "output_type": "stream",
     "text": [
      "Permission denied: https://drive.google.com/uc?id=1yQH7wfVRPzhIatB92ZtywXYpsni-BAL2&export=download\n",
      "Maybe you need to change permission over 'Anyone with the link'?\n"
     ]
    },
    {
     "name": "stdout",
     "output_type": "stream",
     "text": [
      "3FO4IXYM4FMC_Bedroom.zip\n",
      "3FO4IXYM4FMC_Bathroom.zip\n",
      "3FO4IXYLARIR_Kitchen.zip\n",
      "3FO4IXYLARIR_Guest_room.zip\n",
      "3FO4IXYLARIR_Bedroom.zip\n",
      "3FO4IXYLARIR_Bathroom.zip\n",
      "3FO4IXYL1S83_Living_room.zip\n"
     ]
    },
    {
     "name": "stderr",
     "output_type": "stream",
     "text": [
      "Permission denied: https://drive.google.com/uc?id=1cEybeQ2Q3avG3JJ3gX_Rg9ZAYknA11sE&export=download\n",
      "Maybe you need to change permission over 'Anyone with the link'?\n"
     ]
    },
    {
     "name": "stdout",
     "output_type": "stream",
     "text": [
      "3FO4IXYL1S83_Dining_room.zip\n"
     ]
    },
    {
     "name": "stderr",
     "output_type": "stream",
     "text": [
      "Permission denied: https://drive.google.com/uc?id=1Fdmzm6uQNB-Aa9M2wVFPsS01NLmjE8oC&export=download\n",
      "Maybe you need to change permission over 'Anyone with the link'?\n"
     ]
    },
    {
     "name": "stdout",
     "output_type": "stream",
     "text": [
      "3FO4IXYBEGP7_Kitchen.zip\n",
      "3FO4IXYBEGP7_Guest_room.zip\n",
      "3FO4IXYBEGP7_Bedroom.zip\n",
      "3FO4IXY0L5R2_Living_room.zip\n"
     ]
    },
    {
     "name": "stderr",
     "output_type": "stream",
     "text": [
      "Permission denied: https://drive.google.com/uc?id=1vPMoXJmEQXrxoWx_vFPhdp6pqnrZkpA_&export=download\n",
      "Maybe you need to change permission over 'Anyone with the link'?\n"
     ]
    },
    {
     "name": "stdout",
     "output_type": "stream",
     "text": [
      "3FO4IXY0L5R2_Kitchen.zip\n",
      "3FO4IXY0L5R2_Guest_room.zip\n",
      "3FO4IXY0L5R2_Bedroom.zip\n",
      "3FO4IXY0L5R2_Bathroom.zip\n",
      "3FO4IXWL9XWS_Living_room.zip\n"
     ]
    },
    {
     "name": "stderr",
     "output_type": "stream",
     "text": [
      "Permission denied: https://drive.google.com/uc?id=1knHPgdG58YiqzqpEDfMwnKf_NaOXu4Xc&export=download\n",
      "Maybe you need to change permission over 'Anyone with the link'?\n"
     ]
    },
    {
     "name": "stdout",
     "output_type": "stream",
     "text": [
      "3FO4IXWL9XWS_Kitchen.zip\n",
      "3FO4IXWL9XWS_Guest_room.zip\n",
      "3FO4IXWL9XWS_Bedroom.zip\n",
      "3FO4IXWL9XWS_Bathroom.zip\n",
      "3FO4IXVQGJBQ_Kitchen.zip\n",
      "3FO4IXVQGJBQ_Guest_room.zip\n",
      "3FO4IXVQGJBQ_Bedroom.zip\n",
      "3FO4IXVQGJBQ_Bathroom.zip\n",
      "3FO4IXVJNK8K_Kitchen.zip\n",
      "3FO4IXVJNK8K_Guest_room.zip\n",
      "3FO4IXVJNK8K_Bedroom.zip\n",
      "3FO4IXVJNK8K_Bathroom.zip\n",
      "3FO4IXV53P23_Kitchen.zip\n",
      "3FO4IXV53P23_Guest_room.zip\n",
      "3FO4IXV53P23_Bedroom.zip\n",
      "3FO4IXV53P23_Bathroom.zip\n",
      "3FO4IXV2IW08_Living_room.zip\n"
     ]
    },
    {
     "name": "stderr",
     "output_type": "stream",
     "text": [
      "Permission denied: https://drive.google.com/uc?id=1oJqauvHM-11T45EtPkUsMQ6bj-3AZcp_&export=download\n",
      "Maybe you need to change permission over 'Anyone with the link'?\n"
     ]
    },
    {
     "name": "stdout",
     "output_type": "stream",
     "text": [
      "3FO4IXV2IW08_Guest_room.zip\n",
      "3FO4IXV2IW08_Bedroom.zip\n",
      "3FO4IXV2IW08_Bathroom.zip\n",
      "3FO4IXUYQGG3_Bedroom.zip\n",
      "3FO4IXUYQGG3_Bathroom.zip\n",
      "3FO4IXUKH0PP_Bathroom.zip\n",
      "3FO4IXTW70TY_Kitchen.zip\n",
      "3FO4IXTW70TY_Bedroom.zip\n",
      "3FO4IXTRPFK5_Guest_room.zip\n",
      "3FO4IXTRPFK5_Bedroom.zip\n",
      "3FO4IXSTYBID_Kitchen.zip\n",
      "3FO4IXSTYBID_Guest_room.zip\n",
      "3FO4IXSTYBID_Bedroom.zip\n",
      "3FO4IXSTYBID_Bathroom.zip\n",
      "3FO4IXSRL0TG_Living_room.zip\n"
     ]
    },
    {
     "name": "stderr",
     "output_type": "stream",
     "text": [
      "Permission denied: https://drive.google.com/uc?id=1-V_KxLUFZaN_SBlK8TLgFwNDQxm4Nb3c&export=download\n",
      "Maybe you need to change permission over 'Anyone with the link'?\n"
     ]
    },
    {
     "name": "stdout",
     "output_type": "stream",
     "text": [
      "3FO4IXSRL0TG_Kitchen.zip\n",
      "3FO4IXSRL0TG_Guest_room.zip\n",
      "3FO4IXSRL0TG_Dining_room.zip\n"
     ]
    },
    {
     "name": "stderr",
     "output_type": "stream",
     "text": [
      "Permission denied: https://drive.google.com/uc?id=15ePTWEPwbkQAW6jYPoQdv1v7wb7Mqrjk&export=download\n",
      "Maybe you need to change permission over 'Anyone with the link'?\n"
     ]
    },
    {
     "name": "stdout",
     "output_type": "stream",
     "text": [
      "3FO4IXSRL0TG_Bedroom.zip\n",
      "3FO4IXSHOIBT_Kitchen.zip\n",
      "3FO4IXSHOIBT_Guest_room.zip\n",
      "3FO4IXSHOIBT_Bedroom.zip\n",
      "3FO4IXR0QYX9_Living_room.zip\n"
     ]
    },
    {
     "name": "stderr",
     "output_type": "stream",
     "text": [
      "Permission denied: https://drive.google.com/uc?id=1_v8gpNlN7U6r1_0NrxQTdbF27IrmGxt6&export=download\n",
      "Maybe you need to change permission over 'Anyone with the link'?\n"
     ]
    },
    {
     "name": "stdout",
     "output_type": "stream",
     "text": [
      "3FO4IXR0QYX9_Kitchen.zip\n",
      "3FO4IXR0QYX9_Guest_room.zip\n",
      "3FO4IXR0QYX9_Bedroom.zip\n",
      "3FO4IXR0QYX9_Bathroom.zip\n",
      "3FO4IXQXQAM4_Bathroom.zip\n",
      "3FO4IXQX0HTE_Kitchen.zip\n",
      "3FO4IXQX0HTE_Guest_room.zip\n",
      "3FO4IXQX0HTE_Bedroom.zip\n",
      "3FO4IXQX0HTE_Bathroom.zip\n",
      "3FO4IXQROODT_Bedroom.zip\n",
      "3FO4IXQQN73W_Guest_room.zip\n",
      "3FO4IXQQN73W_Bedroom.zip\n",
      "3FO4IXQQN73W_Bathroom.zip\n",
      "3FO4IXQPCC57_Kitchen.zip\n",
      "3FO4IXQPCC57_Bedroom.zip\n",
      "3FO4IXQPCC57_Bathroom.zip\n",
      "3FO4IXQOY5P9_Kitchen.zip\n",
      "3FO4IXQOY5P9_Guest_room.zip\n",
      "3FO4IXQOY5P9_Bedroom.zip\n",
      "3FO4IXQLKYKW_Kitchen.zip\n",
      "3FO4IXQLKYKW_Guest_room.zip\n",
      "3FO4IXQLKYKW_Bedroom.zip\n",
      "3FO4IXQCI1TT_Living_room.zip\n"
     ]
    },
    {
     "name": "stderr",
     "output_type": "stream",
     "text": [
      "Permission denied: https://drive.google.com/uc?id=1bpoKRuWb8iu5QXIubROack9_9hx34PZB&export=download\n",
      "Maybe you need to change permission over 'Anyone with the link'?\n"
     ]
    },
    {
     "name": "stdout",
     "output_type": "stream",
     "text": [
      "3FO4IXPSY39Q_Kitchen.zip\n",
      "3FO4IXNM3NQ4_Living_room.zip\n"
     ]
    },
    {
     "name": "stderr",
     "output_type": "stream",
     "text": [
      "Permission denied: https://drive.google.com/uc?id=1XnH3A1DeBy9fDHbOqIKjNJsjxNSqgDWZ&export=download\n",
      "Maybe you need to change permission over 'Anyone with the link'?\n"
     ]
    },
    {
     "name": "stdout",
     "output_type": "stream",
     "text": [
      "3FO4IXLOABUB_Dining_room.zip\n"
     ]
    },
    {
     "name": "stderr",
     "output_type": "stream",
     "text": [
      "Permission denied: https://drive.google.com/uc?id=1LWq0yvXcu0K9zMvJvJYlKNp4RbLpR-k5&export=download\n",
      "Maybe you need to change permission over 'Anyone with the link'?\n"
     ]
    },
    {
     "name": "stdout",
     "output_type": "stream",
     "text": [
      "3FO4IXKDEVF6_Kitchen.zip\n",
      "3FO4IXJ89V0Y_Bedroom.zip\n",
      "3FO4IXIB0UHB_Kitchen.zip\n",
      "3FO4IXHMHN24_Kitchen.zip\n",
      "3FO4IXGRC75G_Bathroom.zip\n",
      "3FO4IXFS35OU_Bathroom.zip\n",
      "3FO4IXCS1WSE_Bedroom.zip\n",
      "3FO4IX9NWL35_Kitchen.zip\n",
      "3FO4IX8OV0FR_Living_room.zip\n"
     ]
    },
    {
     "name": "stderr",
     "output_type": "stream",
     "text": [
      "Permission denied: https://drive.google.com/uc?id=19CobxaARlXf7CUNaqhnHEFDALpJQ_ba1&export=download\n",
      "Maybe you need to change permission over 'Anyone with the link'?\n"
     ]
    },
    {
     "name": "stdout",
     "output_type": "stream",
     "text": [
      "3FO4IX83XWUT_Living_room.zip\n"
     ]
    },
    {
     "name": "stderr",
     "output_type": "stream",
     "text": [
      "Permission denied: https://drive.google.com/uc?id=1pGDFqzuPvdiKw2s_mNyqaxmQRmE9gXcc&export=download\n",
      "Maybe you need to change permission over 'Anyone with the link'?\n"
     ]
    },
    {
     "name": "stdout",
     "output_type": "stream",
     "text": [
      "3FO4IX7212X6_Guest_room.zip\n",
      "3FO4IXPSY39Q_Bedroom.zip\n",
      "3FO4IXPSY39Q_Bathroom.zip\n",
      "3FO4IXPOHEMV_Kitchen.zip\n",
      "3FO4IXPOHEMV_Guest_room.zip\n",
      "3FO4IXPOHEMV_Bathroom.zip\n",
      "3FO4IXPKVODA_Kitchen.zip\n",
      "3FO4IXPKVODA_Guest_room.zip\n",
      "3FO4IXPKVODA_Bedroom.zip\n",
      "3FO4IXOTEFNY_Kitchen.zip\n",
      "3FO4IXOTEFNY_Guest_room.zip\n",
      "3FO4IXOTEFNY_Bedroom.zip\n",
      "3FO4IXOTEFNY_Bathroom.zip\n",
      "3FO4IXONCWRP_Kitchen.zip\n",
      "3FO4IXONCWRP_Guest_room.zip\n",
      "3FO4IXONCWRP_Bathroom.zip\n",
      "3FO4IXO1YBQT_Living_room.zip\n"
     ]
    },
    {
     "name": "stderr",
     "output_type": "stream",
     "text": [
      "Permission denied: https://drive.google.com/uc?id=1z4_QqeZnmoIChH6q76RJ61rO_JKhktLT&export=download\n",
      "Maybe you need to change permission over 'Anyone with the link'?\n"
     ]
    },
    {
     "name": "stdout",
     "output_type": "stream",
     "text": [
      "3FO4IXO1YBQT_Dining_room.zip\n"
     ]
    },
    {
     "name": "stderr",
     "output_type": "stream",
     "text": [
      "Permission denied: https://drive.google.com/uc?id=1zkYku3se5lkA07rV6y0yWq5wg4v8c2fd&export=download\n",
      "Maybe you need to change permission over 'Anyone with the link'?\n"
     ]
    },
    {
     "name": "stdout",
     "output_type": "stream",
     "text": [
      "3FO4IXNUCGNH_Guest_room.zip\n",
      "3FO4IXNUCGNH_Bedroom.zip\n",
      "3FO4IXNUCGNH_Bathroom.zip\n",
      "3FO4IXNPHBKL_Kitchen.zip\n",
      "3FO4IXNPHBKL_Guest_room.zip\n",
      "3FO4IXNPHBKL_Bedroom.zip\n",
      "3FO4IXNPHBKL_Bathroom.zip\n",
      "3FO4IXNPF80Y_Kitchen.zip\n",
      "3FO4IXNPF80Y_Guest_room.zip\n",
      "3FO4IXNPF80Y_Bedroom.zip\n",
      "3FO4IXNPF80Y_Bathroom.zip\n",
      "3FO4IXNM3NQ4_Kitchen.zip\n",
      "3FO4IXNM3NQ4_Guest_room.zip\n",
      "3FO4IXNM3NQ4_Dining_room.zip\n"
     ]
    },
    {
     "name": "stderr",
     "output_type": "stream",
     "text": [
      "Permission denied: https://drive.google.com/uc?id=1ezeShGMNBktqMMy-VU_5wtiDh1KLiSOz&export=download\n",
      "Maybe you need to change permission over 'Anyone with the link'?\n"
     ]
    },
    {
     "name": "stdout",
     "output_type": "stream",
     "text": [
      "3FO4IXNM3NQ4_Bedroom.zip\n",
      "3FO4IXNM3NQ4_Bathroom.zip\n",
      "3FO4IXNKECBD_Kitchen.zip\n",
      "3FO4IXNKECBD_Guest_room.zip\n",
      "3FO4IXNKECBD_Bedroom.zip\n",
      "3FO4IXNKECBD_Bathroom.zip\n",
      "3FO4IXN5GE1Y_Bathroom.zip\n",
      "3FO4IXLX3VWL_Guest_room.zip\n",
      "3FO4IXLX3VWL_Bedroom.zip\n",
      "3FO4IXLOABUB_Kitchen.zip\n",
      "3FO4IXLOABUB_Guest_room.zip\n",
      "3FO4IXLOABUB_Bedroom.zip\n",
      "3FO4IXLOABUB_Bathroom.zip\n",
      "3FO4IXLIMH45_Kitchen.zip\n",
      "3FO4IXLIMH45_Bedroom.zip\n",
      "3FO4IXLH0TB7_Living_room.zip\n"
     ]
    },
    {
     "name": "stderr",
     "output_type": "stream",
     "text": [
      "Permission denied: https://drive.google.com/uc?id=1oOAFi1f7NW0kkJsFBrc89EtHMoTUgDc8&export=download\n",
      "Maybe you need to change permission over 'Anyone with the link'?\n"
     ]
    },
    {
     "name": "stdout",
     "output_type": "stream",
     "text": [
      "3FO4IXLELA5W_Living_room.zip\n"
     ]
    },
    {
     "name": "stderr",
     "output_type": "stream",
     "text": [
      "Permission denied: https://drive.google.com/uc?id=17qrI-UEuu_2mfDBOf69mRfmYH0xtpG55&export=download\n",
      "Maybe you need to change permission over 'Anyone with the link'?\n"
     ]
    },
    {
     "name": "stdout",
     "output_type": "stream",
     "text": [
      "3FO4IXL4SBDC_Bathroom.zip\n",
      "3FO4IXKYNVXO_Bedroom.zip\n",
      "3FO4IXKYNVXO_Bathroom.zip\n",
      "3FO4IXKNUAYG_Living_room.zip\n"
     ]
    },
    {
     "name": "stderr",
     "output_type": "stream",
     "text": [
      "Permission denied: https://drive.google.com/uc?id=1jNh1EXDKITzza2V7LtLCEaBLcOO8advS&export=download\n",
      "Maybe you need to change permission over 'Anyone with the link'?\n"
     ]
    },
    {
     "name": "stdout",
     "output_type": "stream",
     "text": [
      "3FO4IXKNUAYG_Kitchen.zip\n",
      "3FO4IXKNUAYG_Guest_room.zip\n",
      "3FO4IXKNUAYG_Bedroom.zip\n",
      "3FO4IXKNUAYG_Bathroom.zip\n",
      "3FO4IXKDBTF9_Living_room.zip\n"
     ]
    },
    {
     "name": "stderr",
     "output_type": "stream",
     "text": [
      "Permission denied: https://drive.google.com/uc?id=17kGi0G2ZDneuZaIFNpT446jNoxDBruLC&export=download\n",
      "Maybe you need to change permission over 'Anyone with the link'?\n"
     ]
    },
    {
     "name": "stdout",
     "output_type": "stream",
     "text": [
      "3FO4IXKDBTF9_Kitchen.zip\n",
      "3FO4IXKDBTF9_Dining_room.zip\n"
     ]
    },
    {
     "name": "stderr",
     "output_type": "stream",
     "text": [
      "Permission denied: https://drive.google.com/uc?id=1T454FVAt0YYtF2DYNITQdTIGR3NdKC-w&export=download\n",
      "Maybe you need to change permission over 'Anyone with the link'?\n"
     ]
    },
    {
     "name": "stdout",
     "output_type": "stream",
     "text": [
      "3FO4IXKDBTF9_Bedroom.zip\n",
      "3FO4IXKDBTF9_Bathroom.zip\n",
      "3FO4IXK4L1BS_Bedroom.zip\n",
      "3FO4IXK4L1BS_Bathroom.zip\n",
      "3FO4IXK4DH6J_Kitchen.zip\n",
      "3FO4IXK4DH6J_Guest_room.zip\n",
      "3FO4IXK4DH6J_Bedroom.zip\n",
      "3FO4IXK4DH6J_Bathroom.zip\n",
      "3FO4IXK1CT2X_Kitchen.zip\n",
      "3FO4IXK1CT2X_Bedroom.zip\n",
      "3FO4IXJ89V0Y_Kitchen.zip\n",
      "3FO4IXJ89V0Y_Bathroom.zip\n",
      "3FO4IXILOYB7_Living_room.zip\n"
     ]
    },
    {
     "name": "stderr",
     "output_type": "stream",
     "text": [
      "Permission denied: https://drive.google.com/uc?id=1UQjX2Ah_FiGpJ4wGTP_Tw-BMUym4Vcf-&export=download\n",
      "Maybe you need to change permission over 'Anyone with the link'?\n"
     ]
    },
    {
     "name": "stdout",
     "output_type": "stream",
     "text": [
      "3FO4IXILOYB7_Kitchen.zip\n",
      "3FO4IXILOYB7_Guest_room.zip\n",
      "3FO4IXILOYB7_Dining_room.zip\n"
     ]
    },
    {
     "name": "stderr",
     "output_type": "stream",
     "text": [
      "Permission denied: https://drive.google.com/uc?id=1Pz49C41HZacOI4bOBRcnOVWzrj1HBhAL&export=download\n",
      "Maybe you need to change permission over 'Anyone with the link'?\n"
     ]
    },
    {
     "name": "stdout",
     "output_type": "stream",
     "text": [
      "3FO4IXILOYB7_Bedroom.zip\n",
      "3FO4IXILOYB7_Bathroom.zip\n",
      "3FO4IXIHPRKK_Kitchen.zip\n",
      "3FO4IXIHPRKK_Guest_room.zip\n",
      "3FO4IXIHPRKK_Bedroom.zip\n",
      "3FO4IXIHPRKK_Bathroom.zip\n",
      "3FO4IXIBG5GV_Guest_room.zip\n",
      "3FO4IXIBG5GV_Bedroom.zip\n",
      "3FO4IXIBG5GV_Bathroom.zip\n",
      "3FO4IXIB0UHB_Guest_room.zip\n",
      "3FO4IXIB0UHB_Bedroom.zip\n",
      "3FO4IXIB0UHB_Bathroom.zip\n",
      "3FO4IXI8FY3F_Kitchen.zip\n",
      "3FO4IXI8FY3F_Bedroom.zip\n",
      "3FO4IXI8FY3F_Bathroom.zip\n",
      "3FO4IXHV0593_Kitchen.zip\n",
      "3FO4IXHV0593_Guest_room.zip\n",
      "3FO4IXHV0593_Bedroom.zip\n",
      "3FO4IXHV0593_Bathroom.zip\n",
      "3FO4IXHQXD8O_Kitchen.zip\n",
      "3FO4IXHQXD8O_Guest_room.zip\n",
      "3FO4IXHQXD8O_Bedroom.zip\n",
      "3FO4IXHQXD8O_Bathroom.zip\n",
      "3FO4IXHMHN24_Guest_room.zip\n",
      "3FO4IXHMHN24_Bedroom.zip\n",
      "3FO4IXHMHN24_Bathroom.zip\n",
      "3FO4IXHAF3YQ_Kitchen.zip\n",
      "3FO4IXHAF3YQ_Guest_room.zip\n",
      "3FO4IXHAF3YQ_Bathroom.zip\n",
      "3FO4IXH9EQT6_Kitchen.zip\n",
      "3FO4IXH9EQT6_Guest_room.zip\n",
      "3FO4IXH9EQT6_Bedroom.zip\n",
      "3FO4IXH9EQT6_Bathroom.zip\n",
      "3FO4IXGVKQJV_Dining_room.zip\n"
     ]
    },
    {
     "name": "stderr",
     "output_type": "stream",
     "text": [
      "Permission denied: https://drive.google.com/uc?id=1MDHWS5N3k1de0R8bG_zYWQak9UOmXAtY&export=download\n",
      "Maybe you need to change permission over 'Anyone with the link'?\n"
     ]
    },
    {
     "name": "stdout",
     "output_type": "stream",
     "text": [
      "3FO4IXGRC75G_Kitchen.zip\n",
      "3FO4IXGRC75G_Guest_room.zip\n",
      "3FO4IXGRC75G_Bedroom.zip\n",
      "3FO4IXGEY1WW_Kitchen.zip\n",
      "3FO4IXGEY1WW_Guest_room.zip\n",
      "3FO4IXGEY1WW_Bedroom.zip\n",
      "3FO4IXGEY1WW_Bathroom.zip\n",
      "3FO4IXGBH22F_Kitchen.zip\n",
      "3FO4IXGBH22F_Guest_room.zip\n",
      "3FO4IXGBH22F_Bedroom.zip\n",
      "3FO4IXGBH22F_Bathroom.zip\n",
      "3FO4IXG9IJMX_Guest_room.zip\n",
      "3FO4IXG9IJMX_Bedroom.zip\n",
      "3FO4IXG9IJMX_Bathroom.zip\n",
      "3FO4IXFS35OU_Kitchen.zip\n",
      "3FO4IXFS35OU_Guest_room.zip\n",
      "3FO4IXFS35OU_Bedroom.zip\n",
      "3FO4IXETHP5B_Kitchen.zip\n",
      "3FO4IXETHP5B_Guest_room.zip\n",
      "3FO4IXETHP5B_Bedroom.zip\n",
      "3FO4IXETHP5B_Bathroom.zip\n",
      "3FO4IXEJG8R7_Kitchen.zip\n",
      "3FO4IXEJG8R7_Guest_room.zip\n",
      "3FO4IXEJG8R7_Bedroom.zip\n",
      "3FO4IXEJG8R7_Bathroom.zip\n",
      "3FO4IXEICQ9O_Kitchen.zip\n",
      "3FO4IXEICQ9O_Guest_room.zip\n",
      "3FO4IXEICQ9O_Bedroom.zip\n",
      "3FO4IXEICQ9O_Bathroom.zip\n",
      "3FO4IXCS1WSE_Kitchen.zip\n",
      "3FO4IXCS1WSE_Guest_room.zip\n",
      "3FO4IXCS1WSE_Bathroom.zip\n",
      "3FO4IXAHB1X9_Kitchen.zip\n",
      "3FO4IXAHB1X9_Guest_room.zip\n",
      "3FO4IXAHB1X9_Bedroom.zip\n",
      "3FO4IXAHB1X9_Bathroom.zip\n",
      "3FO4IXACME8B_Kitchen.zip\n",
      "3FO4IXACME8B_Guest_room.zip\n",
      "3FO4IXACME8B_Bedroom.zip\n",
      "3FO4IXACME8B_Bathroom.zip\n",
      "3FO4IX9SI044_Living_room.zip\n"
     ]
    },
    {
     "name": "stderr",
     "output_type": "stream",
     "text": [
      "Permission denied: https://drive.google.com/uc?id=1IwezYm8LFwG1wwBWN5pQgAG74KpNM7-H&export=download\n",
      "Maybe you need to change permission over 'Anyone with the link'?\n"
     ]
    },
    {
     "name": "stdout",
     "output_type": "stream",
     "text": [
      "3FO4IX9SI044_Guest_room.zip\n",
      "3FO4IX9SI044_Dining_room.zip\n"
     ]
    },
    {
     "name": "stderr",
     "output_type": "stream",
     "text": [
      "Permission denied: https://drive.google.com/uc?id=1tHznXVeWK-fgBjxa9HFYv9qbLD9Tlh0F&export=download\n",
      "Maybe you need to change permission over 'Anyone with the link'?\n"
     ]
    },
    {
     "name": "stdout",
     "output_type": "stream",
     "text": [
      "3FO4IX9SI044_Bedroom.zip\n",
      "3FO4IX9SI044_Bathroom.zip\n",
      "3FO4IX9NWL35_Guest_room.zip\n",
      "3FO4IX9NWL35_Bedroom.zip\n",
      "3FO4IX9NWL35_Bathroom.zip\n",
      "3FO4IX92PKR8_Kitchen.zip\n",
      "3FO4IX92PKR8_Guest_room.zip\n",
      "3FO4IX92PKR8_Bedroom.zip\n",
      "3FO4IX92PKR8_Bathroom.zip\n",
      "3FO4IX90L61Y_Living_room.zip\n"
     ]
    },
    {
     "name": "stderr",
     "output_type": "stream",
     "text": [
      "Permission denied: https://drive.google.com/uc?id=1UFKmVuoRreOtzJh_GFQZ4I0QKXUgmO5q&export=download\n",
      "Maybe you need to change permission over 'Anyone with the link'?\n"
     ]
    },
    {
     "name": "stdout",
     "output_type": "stream",
     "text": [
      "3FO4IX90L61Y_Dining_room.zip\n"
     ]
    },
    {
     "name": "stderr",
     "output_type": "stream",
     "text": [
      "Permission denied: https://drive.google.com/uc?id=1fEJY3JhOZUfE_bDgRvXuyEL5A7FmAei8&export=download\n",
      "Maybe you need to change permission over 'Anyone with the link'?\n"
     ]
    },
    {
     "name": "stdout",
     "output_type": "stream",
     "text": [
      "3FO4IX8TLA07_Living_room.zip\n"
     ]
    },
    {
     "name": "stderr",
     "output_type": "stream",
     "text": [
      "Permission denied: https://drive.google.com/uc?id=1hz4k6VI2tLnRmLnuEAHUkQ8ICsUdzExH&export=download\n",
      "Maybe you need to change permission over 'Anyone with the link'?\n"
     ]
    },
    {
     "name": "stdout",
     "output_type": "stream",
     "text": [
      "3FO4IX8TLA07_Kitchen.zip\n",
      "3FO4IX8TLA07_Guest_room.zip\n",
      "3FO4IX8TLA07_Bedroom.zip\n",
      "3FO4IX8TLA07_Bathroom.zip\n",
      "3FO4IX8OV0FR_Kitchen.zip\n",
      "3FO4IX8OV0FR_Guest_room.zip\n",
      "3FO4IX8OV0FR_Bedroom.zip\n",
      "3FO4IX8NYNPE_Kitchen.zip\n",
      "3FO4IX8NYNPE_Guest_room.zip\n",
      "3FO4IX8NYNPE_Bedroom.zip\n",
      "3FO4IX8NYNPE_Bathroom.zip\n",
      "3FO4IX8K0GYR_Kitchen.zip\n",
      "3FO4IX8K0GYR_Guest_room.zip\n",
      "3FO4IX8K0GYR_Bedroom.zip\n",
      "3FO4IX8K0GYR_Bathroom.zip\n",
      "3FO4IX83Y7VW_Kitchen.zip\n",
      "3FO4IX83Y7VW_Bedroom.zip\n",
      "3FO4IX83Y7VW_Bathroom.zip\n",
      "3FO4IX83XWUT_Kitchen.zip\n",
      "3FO4IX83XWUT_Bedroom.zip\n",
      "3FO4IX83XWUT_Bathroom.zip\n",
      "3FO4IX7XU6UD_Kitchen.zip\n",
      "3FO4IX7XU6UD_Guest_room.zip\n",
      "3FO4IX7XU6UD_Bedroom.zip\n",
      "3FO4IX7XU6UD_Bathroom.zip\n",
      "3FO4IX79LNCL_Kitchen.zip\n",
      "3FO4IX79LNCL_Guest_room.zip\n",
      "3FO4IX79LNCL_Bedroom.zip\n",
      "3FO4IX79LNCL_Bathroom.zip\n",
      "3FO4IX78TIQH_Kitchen.zip\n",
      "3FO4IX7212X6_Living_room.zip\n"
     ]
    },
    {
     "name": "stderr",
     "output_type": "stream",
     "text": [
      "Permission denied: https://drive.google.com/uc?id=1wfhJq4LYbUwv7DSN-mHi_m02aZyWc8c5&export=download\n",
      "Maybe you need to change permission over 'Anyone with the link'?\n"
     ]
    },
    {
     "name": "stdout",
     "output_type": "stream",
     "text": [
      "3FO4IX7212X6_Kitchen.zip\n",
      "3FO4IX447IFX_Dining_room.zip\n"
     ]
    },
    {
     "name": "stderr",
     "output_type": "stream",
     "text": [
      "Permission denied: https://drive.google.com/uc?id=1MykeZ6yIz8IixZxaPGbfvxNY79CUx9Ws&export=download\n",
      "Maybe you need to change permission over 'Anyone with the link'?\n"
     ]
    },
    {
     "name": "stdout",
     "output_type": "stream",
     "text": [
      "3FO4IX2MWJ64_Bathroom.zip\n",
      "3FO4IX2D7FOE_Bedroom.zip\n",
      "3FO4IX14RV7X_Bathroom.zip\n",
      "3FO4IX01958K_Dining_room.zip\n"
     ]
    },
    {
     "name": "stderr",
     "output_type": "stream",
     "text": [
      "Permission denied: https://drive.google.com/uc?id=1LLjFSiNHd3_Yk-w_o7ZWIBC7zMxfI6ub&export=download\n",
      "Maybe you need to change permission over 'Anyone with the link'?\n"
     ]
    },
    {
     "name": "stdout",
     "output_type": "stream",
     "text": [
      "3FO4IWX517OC_Kitchen.zip\n",
      "3FO4IWWU5UB2_Kitchen.zip\n",
      "3FO4IWVF89HE_Guest_room.zip\n",
      "3FO4IWTJSLNM_Bedroom.zip\n",
      "3FO4IWSF46A3_Bedroom.zip\n",
      "3FO4IWRIDB1U_Living_room.zip\n"
     ]
    },
    {
     "name": "stderr",
     "output_type": "stream",
     "text": [
      "Permission denied: https://drive.google.com/uc?id=1WBSkLZJQPAh8PHuBWtJeLVI0eB4XILnc&export=download\n",
      "Maybe you need to change permission over 'Anyone with the link'?\n"
     ]
    },
    {
     "name": "stdout",
     "output_type": "stream",
     "text": [
      "3FO4IWO92JOC_Bathroom.zip\n",
      "3FO4IWMLSCQX_Guest_room.zip\n",
      "3FO4IX7212X6_Dining_room.zip\n"
     ]
    },
    {
     "name": "stderr",
     "output_type": "stream",
     "text": [
      "Permission denied: https://drive.google.com/uc?id=1MAnMZFUUFgh17RPCjyEUhzWtTkJZ7NMc&export=download\n",
      "Maybe you need to change permission over 'Anyone with the link'?\n"
     ]
    },
    {
     "name": "stdout",
     "output_type": "stream",
     "text": [
      "3FO4IX7212X6_Bedroom.zip\n",
      "3FO4IX7212X6_Bathroom.zip\n",
      "3FO4IX6G1F3G_Kitchen.zip\n",
      "3FO4IX6G1F3G_Bedroom.zip\n",
      "3FO4IX6G1F3G_Bathroom.zip\n",
      "3FO4IX5HWLBV_Kitchen.zip\n",
      "3FO4IX5HWLBV_Guest_room.zip\n",
      "3FO4IX5HWLBV_Bedroom.zip\n",
      "3FO4IX5HWLBV_Bathroom.zip\n",
      "3FO4IX51VMA4_Kitchen.zip\n",
      "3FO4IX51VMA4_Bedroom.zip\n",
      "3FO4IX51VMA4_Bathroom.zip\n",
      "3FO4IX4KAL2C_Kitchen.zip\n",
      "3FO4IX4KAL2C_Bedroom.zip\n",
      "3FO4IX4KAL2C_Bathroom.zip\n",
      "3FO4IX4DS1FA_Living_room.zip\n"
     ]
    },
    {
     "name": "stderr",
     "output_type": "stream",
     "text": [
      "Permission denied: https://drive.google.com/uc?id=1SfDAEQKu6uuV0XwWdJITgNVpx1QZXd35&export=download\n",
      "Maybe you need to change permission over 'Anyone with the link'?\n"
     ]
    },
    {
     "name": "stdout",
     "output_type": "stream",
     "text": [
      "3FO4IX4DS1FA_Kitchen.zip\n",
      "3FO4IX4DS1FA_Guest_room.zip\n",
      "3FO4IX4DS1FA_Dining_room.zip\n"
     ]
    },
    {
     "name": "stderr",
     "output_type": "stream",
     "text": [
      "Permission denied: https://drive.google.com/uc?id=1p2Jp3SxZnOM9RVu4h7_qtg7OVcLxyq97&export=download\n",
      "Maybe you need to change permission over 'Anyone with the link'?\n"
     ]
    },
    {
     "name": "stdout",
     "output_type": "stream",
     "text": [
      "3FO4IX4DS1FA_Bedroom.zip\n",
      "3FO4IX4DS1FA_Bathroom.zip\n",
      "3FO4IX470PQB_Living_room.zip\n"
     ]
    },
    {
     "name": "stderr",
     "output_type": "stream",
     "text": [
      "Permission denied: https://drive.google.com/uc?id=1kYgWa1KPDyRqI9NWHcVZ-jbLv9zBc3vg&export=download\n",
      "Maybe you need to change permission over 'Anyone with the link'?\n"
     ]
    },
    {
     "name": "stdout",
     "output_type": "stream",
     "text": [
      "3FO4IX470PQB_Kitchen.zip\n",
      "3FO4IX470PQB_Guest_room.zip\n",
      "3FO4IX470PQB_Bedroom.zip\n",
      "3FO4IX470PQB_Bathroom.zip\n",
      "3FO4IX447IFX_Living_room.zip\n"
     ]
    },
    {
     "name": "stderr",
     "output_type": "stream",
     "text": [
      "Permission denied: https://drive.google.com/uc?id=1Yujuh7PrLm8sPUci0U85HLkSsBXEMWIC&export=download\n",
      "Maybe you need to change permission over 'Anyone with the link'?\n"
     ]
    },
    {
     "name": "stdout",
     "output_type": "stream",
     "text": [
      "3FO4IX447IFX_Bedroom.zip\n",
      "3FO4IX447IFX_Bathroom.zip\n",
      "3FO4IX40VPWB_Kitchen.zip\n",
      "3FO4IX40VPWB_Bedroom.zip\n",
      "3FO4IX40VPWB_Bathroom.zip\n",
      "3FO4IX3DY4HQ_Guest_room.zip\n",
      "3FO4IX3DY4HQ_Bedroom.zip\n",
      "3FO4IX3DY4HQ_Bathroom.zip\n",
      "3FO4IX2N013U_Kitchen.zip\n",
      "3FO4IX2N013U_Bedroom.zip\n",
      "3FO4IX2N013U_Bathroom.zip\n",
      "3FO4IX2MWJ64_Kitchen.zip\n",
      "3FO4IX2MWJ64_Guest_room.zip\n",
      "3FO4IX2MWJ64_Bedroom.zip\n",
      "3FO4IX2KVN5W_Guest_room.zip\n",
      "3FO4IX2KVN5W_Bedroom.zip\n",
      "3FO4IX2KVN5W_Bathroom.zip\n",
      "3FO4IX2G3BLK_Kitchen.zip\n",
      "3FO4IX2G3BLK_Guest_room.zip\n",
      "3FO4IX2G3BLK_Bedroom.zip\n",
      "3FO4IX2G3BLK_Bathroom.zip\n",
      "3FO4IX2D95UW_Kitchen.zip\n",
      "3FO4IX2D95UW_Bedroom.zip\n",
      "3FO4IX2D8HGP_Kitchen.zip\n",
      "3FO4IX2D8HGP_Guest_room.zip\n",
      "3FO4IX2D8HGP_Bedroom.zip\n",
      "3FO4IX2D8HGP_Bathroom.zip\n",
      "3FO4IX2D7FOE_Kitchen.zip\n",
      "3FO4IX2D7FOE_Bathroom.zip\n",
      "3FO4IX2D3VYC_Bedroom.zip\n",
      "3FO4IX2D3VYC_Bathroom.zip\n",
      "3FO4IX27SUA0_Kitchen.zip\n",
      "3FO4IX27SUA0_Guest_room.zip\n",
      "3FO4IX27SUA0_Bedroom.zip\n",
      "3FO4IX27SUA0_Bathroom.zip\n",
      "3FO4IX1K0AI6_Kitchen.zip\n",
      "3FO4IX1K0AI6_Guest_room.zip\n",
      "3FO4IX1K0AI6_Bedroom.zip\n",
      "3FO4IX1ITRS2_Bathroom.zip\n",
      "3FO4IX14RV7X_Kitchen.zip\n",
      "3FO4IX14RV7X_Guest_room.zip\n",
      "3FO4IX14RV7X_Bedroom.zip\n",
      "3FO4IX0U6BGA_Kitchen.zip\n",
      "3FO4IX0U6BGA_Guest_room.zip\n",
      "3FO4IX0U6BGA_Bedroom.zip\n",
      "3FO4IX0U6BGA_Bathroom.zip\n",
      "3FO4IX0JKGBD_Kitchen.zip\n",
      "3FO4IX0JKGBD_Guest_room.zip\n",
      "3FO4IX0JKGBD_Bedroom.zip\n",
      "3FO4IX0JKGBD_Bathroom.zip\n",
      "3FO4IX01U96V_Kitchen.zip\n",
      "3FO4IX01U96V_Guest_room.zip\n",
      "3FO4IX01U96V_Bedroom.zip\n",
      "3FO4IX01U96V_Bathroom.zip\n",
      "3FO4IX01958K_Living_room.zip\n"
     ]
    },
    {
     "name": "stderr",
     "output_type": "stream",
     "text": [
      "Permission denied: https://drive.google.com/uc?id=1D0fO7lWw1Vgfe7h6G1iASmHFhen9SjgF&export=download\n",
      "Maybe you need to change permission over 'Anyone with the link'?\n"
     ]
    },
    {
     "name": "stdout",
     "output_type": "stream",
     "text": [
      "3FO4IX01958K_Guest_room.zip\n",
      "3FO4IX01958K_Bedroom.zip\n",
      "3FO4IX00FH50_Kitchen.zip\n",
      "3FO4IX00FH50_Bedroom.zip\n",
      "3FO4IX00FH50_Bathroom.zip\n",
      "3FO4IWXIPOKQ_Living_room.zip\n"
     ]
    },
    {
     "name": "stderr",
     "output_type": "stream",
     "text": [
      "Permission denied: https://drive.google.com/uc?id=1_4Vxu9hUFDYOUcRIVEIllYSmxN3uJXLW&export=download\n",
      "Maybe you need to change permission over 'Anyone with the link'?\n"
     ]
    },
    {
     "name": "stdout",
     "output_type": "stream",
     "text": [
      "3FO4IWXIPOKQ_Kitchen.zip\n",
      "3FO4IWXIPOKQ_Guest_room.zip\n",
      "3FO4IWXIPOKQ_Bedroom.zip\n",
      "3FO4IWXIPOKQ_Bathroom.zip\n",
      "3FO4IWXIE1N9_Kitchen.zip\n",
      "3FO4IWXIE1N9_Bedroom.zip\n",
      "3FO4IWX54D1A_Kitchen.zip\n",
      "3FO4IWX54D1A_Bedroom.zip\n",
      "3FO4IWX54D1A_Bathroom.zip\n",
      "3FO4IWX517OC_Bedroom.zip\n",
      "3FO4IWX517OC_Bathroom.zip\n",
      "3FO4IWWU9AO3_Kitchen.zip\n",
      "3FO4IWWU9AO3_Guest_room.zip\n",
      "3FO4IWWU9AO3_Bedroom.zip\n",
      "3FO4IWWU9AO3_Bathroom.zip\n",
      "3FO4IWWU97C2_Living_room.zip\n"
     ]
    },
    {
     "name": "stderr",
     "output_type": "stream",
     "text": [
      "Permission denied: https://drive.google.com/uc?id=12wAmX1FoUcaUtRlGlw3Q7ov5alRC6lh7&export=download\n",
      "Maybe you need to change permission over 'Anyone with the link'?\n"
     ]
    },
    {
     "name": "stdout",
     "output_type": "stream",
     "text": [
      "3FO4IWWU97C2_Kitchen.zip\n",
      "3FO4IWWU97C2_Dining_room.zip\n"
     ]
    },
    {
     "name": "stderr",
     "output_type": "stream",
     "text": [
      "Permission denied: https://drive.google.com/uc?id=1_FDxluEGNmpg2zcWDAaeNJbEE98FdVKv&export=download\n",
      "Maybe you need to change permission over 'Anyone with the link'?\n"
     ]
    },
    {
     "name": "stdout",
     "output_type": "stream",
     "text": [
      "3FO4IWWU97C2_Bedroom.zip\n",
      "3FO4IWWU97C2_Bathroom.zip\n",
      "3FO4IWWU8PLW_Guest_room.zip\n",
      "3FO4IWWU8PLW_Bedroom.zip\n",
      "3FO4IWWU8PLW_Bathroom.zip\n",
      "3FO4IWWU5UB2_Guest_room.zip\n",
      "3FO4IWWU5UB2_Bedroom.zip\n",
      "3FO4IWWU5UB2_Bathroom.zip\n",
      "3FO4IWWMHEKR_Living_room.zip\n"
     ]
    },
    {
     "name": "stderr",
     "output_type": "stream",
     "text": [
      "Permission denied: https://drive.google.com/uc?id=1GnUcgZT3ii2q8BYN6h5JdEC8_pdqgZn2&export=download\n",
      "Maybe you need to change permission over 'Anyone with the link'?\n"
     ]
    },
    {
     "name": "stdout",
     "output_type": "stream",
     "text": [
      "3FO4IWWMHEKR_Kitchen.zip\n",
      "3FO4IWWMHEKR_Guest_room.zip\n",
      "3FO4IWWMHEKR_Bedroom.zip\n",
      "3FO4IWW27RRJ_Kitchen.zip\n",
      "3FO4IWW27RRJ_Guest_room.zip\n",
      "3FO4IWW27RRJ_Bedroom.zip\n",
      "3FO4IWW27RRJ_Bathroom.zip\n",
      "3FO4IWW1JDKJ_Kitchen.zip\n",
      "3FO4IWW1JDKJ_Bedroom.zip\n",
      "3FO4IWW1JDKJ_Bathroom.zip\n",
      "3FO4IWVF89HE_Bedroom.zip\n",
      "3FO4IWVF89HE_Bathroom.zip\n",
      "3FO4IWVC0PMQ_Living_room.zip\n"
     ]
    },
    {
     "name": "stderr",
     "output_type": "stream",
     "text": [
      "Permission denied: https://drive.google.com/uc?id=1K4v_4yChCHaiyu0iap1pajjHgy_hUHtA&export=download\n",
      "Maybe you need to change permission over 'Anyone with the link'?\n"
     ]
    },
    {
     "name": "stdout",
     "output_type": "stream",
     "text": [
      "3FO4IWVC0PMQ_Kitchen.zip\n",
      "3FO4IWVC0PMQ_Guest_room.zip\n",
      "3FO4IWVC0PMQ_Bedroom.zip\n",
      "3FO4IWV37PMM_Living_room.zip\n"
     ]
    },
    {
     "name": "stderr",
     "output_type": "stream",
     "text": [
      "Permission denied: https://drive.google.com/uc?id=1qb4t3zgEnjcyvrxEzb6OYZaR2kvGh4vu&export=download\n",
      "Maybe you need to change permission over 'Anyone with the link'?\n"
     ]
    },
    {
     "name": "stdout",
     "output_type": "stream",
     "text": [
      "3FO4IWV37PMM_Bedroom.zip\n",
      "3FO4IWV37PMM_Bathroom.zip\n",
      "3FO4IWTN3PS2_Kitchen.zip\n",
      "3FO4IWTN3PS2_Bedroom.zip\n",
      "3FO4IWTN3PS2_Bathroom.zip\n",
      "3FO4IWTJSLNM_Kitchen.zip\n",
      "3FO4IWTJSLNM_Guest_room.zip\n",
      "3FO4IWTJSLNM_Bathroom.zip\n",
      "3FO4IWTI8O27_Kitchen.zip\n",
      "3FO4IWTI8O27_Guest_room.zip\n",
      "3FO4IWTI8O27_Bedroom.zip\n",
      "3FO4IWTI8O27_Bathroom.zip\n",
      "3FO4IWT825GK_Kitchen.zip\n",
      "3FO4IWT825GK_Bedroom.zip\n",
      "3FO4IWT825GK_Bathroom.zip\n",
      "3FO4IWSY6GTN_Kitchen.zip\n",
      "3FO4IWSY6GTN_Bedroom.zip\n",
      "3FO4IWSY6GTN_Bathroom.zip\n",
      "3FO4IWSLKRGU_Dining_room.zip\n"
     ]
    },
    {
     "name": "stderr",
     "output_type": "stream",
     "text": [
      "Permission denied: https://drive.google.com/uc?id=1I-a5SLehq5yMgnAK9fJc9WF2Y8Qsq_gQ&export=download\n",
      "Maybe you need to change permission over 'Anyone with the link'?\n"
     ]
    },
    {
     "name": "stdout",
     "output_type": "stream",
     "text": [
      "3FO4IWSF46A3_Kitchen.zip\n",
      "3FO4IWSF46A3_Guest_room.zip\n",
      "3FO4IWRNHIRG_Kitchen.zip\n",
      "3FO4IWRJUQPJ_Kitchen.zip\n",
      "3FO4IWRJUQPJ_Bedroom.zip\n",
      "3FO4IWRJTOX8_Living_room.zip\n"
     ]
    },
    {
     "name": "stderr",
     "output_type": "stream",
     "text": [
      "Permission denied: https://drive.google.com/uc?id=18I4Qs0euNRdMmno0qpYB-_90RSU705XS&export=download\n",
      "Maybe you need to change permission over 'Anyone with the link'?\n"
     ]
    },
    {
     "name": "stdout",
     "output_type": "stream",
     "text": [
      "3FO4IWRJTOX8_Kitchen.zip\n",
      "3FO4IWRJTOX8_Guest_room.zip\n",
      "3FO4IWRJTOX8_Dining_room.zip\n"
     ]
    },
    {
     "name": "stderr",
     "output_type": "stream",
     "text": [
      "Permission denied: https://drive.google.com/uc?id=1n-IPiQDWgDvp0flmbuuOP_co3-f-vWOV&export=download\n",
      "Maybe you need to change permission over 'Anyone with the link'?\n"
     ]
    },
    {
     "name": "stdout",
     "output_type": "stream",
     "text": [
      "3FO4IWRJTOX8_Bedroom.zip\n",
      "3FO4IWRJTOX8_Bathroom.zip\n",
      "3FO4IWRJJUJA_Kitchen.zip\n",
      "3FO4IWRJJUJA_Dining_room.zip\n"
     ]
    },
    {
     "name": "stderr",
     "output_type": "stream",
     "text": [
      "Permission denied: https://drive.google.com/uc?id=14Zdeqz-wouY_Vt7XQHxmy_c-ePkxXfiH&export=download\n",
      "Maybe you need to change permission over 'Anyone with the link'?\n"
     ]
    },
    {
     "name": "stdout",
     "output_type": "stream",
     "text": [
      "3FO4IWRJB9LP_Kitchen.zip\n",
      "3FO4IWRIWI4L_Kitchen.zip\n",
      "3FO4IWRII38A_Kitchen.zip\n",
      "3FO4IWRIDB1U_Dining_room.zip\n"
     ]
    },
    {
     "name": "stderr",
     "output_type": "stream",
     "text": [
      "Permission denied: https://drive.google.com/uc?id=1Ml9nv-o6uOx8H9t_2aIVEGIGBTAFyYcr&export=download\n",
      "Maybe you need to change permission over 'Anyone with the link'?\n"
     ]
    },
    {
     "name": "stdout",
     "output_type": "stream",
     "text": [
      "3FO4IWRIDB1U_Bedroom.zip\n",
      "3FO4IWRIDB1U_Bathroom.zip\n",
      "3FO4IWRGMCRM_Kitchen.zip\n",
      "3FO4IWRGMCRM_Guest_room.zip\n",
      "3FO4IWRGMCRM_Bedroom.zip\n",
      "3FO4IWRGMCRM_Bathroom.zip\n",
      "3FO4IWP6HKUS_Bedroom.zip\n",
      "3FO4IWOK4GK2_Living_room.zip\n"
     ]
    },
    {
     "name": "stderr",
     "output_type": "stream",
     "text": [
      "Permission denied: https://drive.google.com/uc?id=12U8_tyX75wfgTtheB0FfXynQTHYyC-ly&export=download\n",
      "Maybe you need to change permission over 'Anyone with the link'?\n"
     ]
    },
    {
     "name": "stdout",
     "output_type": "stream",
     "text": [
      "3FO4IWOK4GK2_Kitchen.zip\n",
      "3FO4IWOK4GK2_Guest_room.zip\n",
      "3FO4IWOK4GK2_Bedroom.zip\n",
      "3FO4IWO92JOC_Kitchen.zip\n",
      "3FO4IWO92JOC_Bedroom.zip\n",
      "3FO4IWO392NH_Living_room.zip\n"
     ]
    },
    {
     "name": "stderr",
     "output_type": "stream",
     "text": [
      "Permission denied: https://drive.google.com/uc?id=1hUYiMhBd7y59PMgjbOzDTTQ6zp4G8jDQ&export=download\n",
      "Maybe you need to change permission over 'Anyone with the link'?\n"
     ]
    },
    {
     "name": "stdout",
     "output_type": "stream",
     "text": [
      "3FO4IWNI9084_Guest_room.zip\n",
      "3FO4IWNI9084_Bedroom.zip\n",
      "3FO4IWNI9084_Bathroom.zip\n",
      "3FO4IWNGG8FC_Bedroom.zip\n",
      "3FO4IWNG6REI_Bedroom.zip\n",
      "3FO4IWN7WB2X_Guest_room.zip\n",
      "3FO4IWN7WB2X_Bedroom.zip\n",
      "3FO4IWN5I8MS_Kitchen.zip\n",
      "3FO4IWN5I8MS_Bedroom.zip\n",
      "3FO4IWN5I8MS_Bathroom.zip\n",
      "3FO4IWMUC6RB_Kitchen.zip\n",
      "3FO4IWMUC6RB_Bedroom.zip\n",
      "3FO4IWMUC6RB_Bathroom.zip\n",
      "3FO4IWJNJEX4_Bedroom.zip\n",
      "3FO4IWJABTUR_Guest_room.zip\n",
      "3FO4IWGTLSHJ_Guest_room.zip\n",
      "3FO4IWG5PVCJ_Bedroom.zip\n",
      "3FO4IWE548TC_Kitchen.zip\n",
      "3FO4IWDVH2RY_Bathroom.zip\n",
      "3FO4IW943H0T_Guest_room.zip\n",
      "3FO4IW8M6G9R_Kitchen.zip\n",
      "3FO4IW6X72TD_Dining_room.zip\n"
     ]
    },
    {
     "name": "stderr",
     "output_type": "stream",
     "text": [
      "Permission denied: https://drive.google.com/uc?id=122X0ROlL1wVU96ucfh0XBioKstqOhAm0&export=download\n",
      "Maybe you need to change permission over 'Anyone with the link'?\n"
     ]
    },
    {
     "name": "stdout",
     "output_type": "stream",
     "text": [
      "3FO4IW5I9ABN_Bedroom.zip\n",
      "3FO4IW3RG6N7_Guest_room.zip\n",
      "3FO4IW3RETTS_Bathroom.zip\n",
      "3FO4IW2B8RN5_Living_room.zip\n"
     ]
    },
    {
     "name": "stderr",
     "output_type": "stream",
     "text": [
      "Permission denied: https://drive.google.com/uc?id=19AnNKCFV0LY4pLHmk1b3tthJle5UJ8zI&export=download\n",
      "Maybe you need to change permission over 'Anyone with the link'?\n"
     ]
    },
    {
     "name": "stdout",
     "output_type": "stream",
     "text": [
      "3FO4IWMLSCQX_Bedroom.zip\n",
      "3FO4IWMLSCQX_Bathroom.zip\n",
      "3FO4IWLUBAQO_Kitchen.zip\n",
      "3FO4IWLUBAQO_Guest_room.zip\n",
      "3FO4IWLUBAQO_Bedroom.zip\n",
      "3FO4IWLUBAQO_Bathroom.zip\n",
      "3FO4IWL21QYQ_Kitchen.zip\n",
      "3FO4IWL21QYQ_Guest_room.zip\n",
      "3FO4IWL21QYQ_Bedroom.zip\n",
      "3FO4IWL21QYQ_Bathroom.zip\n",
      "3FO4IWKTTX2F_Living_room.zip\n"
     ]
    },
    {
     "name": "stderr",
     "output_type": "stream",
     "text": [
      "Permission denied: https://drive.google.com/uc?id=1hdQcLzIIoPogxi8BNd-PPlJS_OolED-Q&export=download\n",
      "Maybe you need to change permission over 'Anyone with the link'?\n"
     ]
    },
    {
     "name": "stdout",
     "output_type": "stream",
     "text": [
      "3FO4IWKTTX2F_Kitchen.zip\n",
      "3FO4IWKTTX2F_Dining_room.zip\n"
     ]
    },
    {
     "name": "stderr",
     "output_type": "stream",
     "text": [
      "Permission denied: https://drive.google.com/uc?id=1UyJQ4PwSkaajyodnVt1SRY7rKChIt_wm&export=download\n",
      "Maybe you need to change permission over 'Anyone with the link'?\n"
     ]
    },
    {
     "name": "stdout",
     "output_type": "stream",
     "text": [
      "3FO4IWKTTX2F_Bedroom.zip\n",
      "3FO4IWKBTBGT_Kitchen.zip\n",
      "3FO4IWKBTBGT_Guest_room.zip\n",
      "3FO4IWKBTBGT_Bedroom.zip\n",
      "3FO4IWKBTBGT_Bathroom.zip\n",
      "3FO4IWK5KJGE_Kitchen.zip\n",
      "3FO4IWK5KJGE_Guest_room.zip\n",
      "3FO4IWK5KJGE_Bedroom.zip\n",
      "3FO4IWK5KJGE_Bathroom.zip\n",
      "3FO4IWJNKK2G_Kitchen.zip\n",
      "3FO4IWJNKK2G_Guest_room.zip\n",
      "3FO4IWJNKK2G_Bedroom.zip\n",
      "3FO4IWJNKK2G_Bathroom.zip\n",
      "3FO4IWJNJEX4_Kitchen.zip\n",
      "3FO4IWJNJEX4_Guest_room.zip\n",
      "3FO4IWJNJEX4_Bathroom.zip\n",
      "3FO4IWJNECPL_Kitchen.zip\n",
      "3FO4IWJNECPL_Guest_room.zip\n",
      "3FO4IWJNECPL_Bedroom.zip\n",
      "3FO4IWJNECPL_Bathroom.zip\n",
      "3FO4IWJK571G_Living_room.zip\n"
     ]
    },
    {
     "name": "stderr",
     "output_type": "stream",
     "text": [
      "Permission denied: https://drive.google.com/uc?id=1s2STCGPNXwN0XmWI1hLA3rOqx3V2_2z7&export=download\n",
      "Maybe you need to change permission over 'Anyone with the link'?\n"
     ]
    },
    {
     "name": "stdout",
     "output_type": "stream",
     "text": [
      "3FO4IWJK571G_Kitchen.zip\n",
      "3FO4IWJK571G_Guest_room.zip\n",
      "3FO4IWJK571G_Bedroom.zip\n",
      "3FO4IWJK571G_Bathroom.zip\n",
      "3FO4IWJCHYRJ_Kitchen.zip\n",
      "3FO4IWJCHYRJ_Guest_room.zip\n",
      "3FO4IWJCHYRJ_Bedroom.zip\n",
      "3FO4IWJCHYRJ_Bathroom.zip\n",
      "3FO4IWJ2SQE3_Living_room.zip\n"
     ]
    },
    {
     "name": "stderr",
     "output_type": "stream",
     "text": [
      "Permission denied: https://drive.google.com/uc?id=1Wrnano2MESJePPbKDtAkAr3MBOfxG45G&export=download\n",
      "Maybe you need to change permission over 'Anyone with the link'?\n"
     ]
    },
    {
     "name": "stdout",
     "output_type": "stream",
     "text": [
      "3FO4IWJ2SQE3_Kitchen.zip\n",
      "3FO4IWJ2SQE3_Bedroom.zip\n",
      "3FO4IWJ2SQE3_Bathroom.zip\n",
      "3FO4IWJ2AOFO_Living_room.zip\n"
     ]
    },
    {
     "name": "stderr",
     "output_type": "stream",
     "text": [
      "Permission denied: https://drive.google.com/uc?id=1z9bx37v-utl8RMu3BDmtTeg-iNbvySDc&export=download\n",
      "Maybe you need to change permission over 'Anyone with the link'?\n"
     ]
    },
    {
     "name": "stdout",
     "output_type": "stream",
     "text": [
      "3FO4IWJ2AOFO_Kitchen.zip\n",
      "3FO4IWJ2AOFO_Guest_room.zip\n",
      "3FO4IWJ2AOFO_Bedroom.zip\n",
      "3FO4IWI51AIW_Kitchen.zip\n",
      "3FO4IWI51AIW_Guest_room.zip\n",
      "3FO4IWI51AIW_Bedroom.zip\n",
      "3FO4IWI51AIW_Bathroom.zip\n",
      "3FO4IWGW3TKK_Bathroom.zip\n",
      "3FO4IWGTLSHJ_Kitchen.zip\n",
      "3FO4IWGTLSHJ_Bedroom.zip\n",
      "3FO4IWGTLSHJ_Bathroom.zip\n",
      "3FO4IWGTL8FD_Living_room.zip\n"
     ]
    },
    {
     "name": "stderr",
     "output_type": "stream",
     "text": [
      "Permission denied: https://drive.google.com/uc?id=1oGokXLc7Z3CzaTl94OiT8iBkgy7U7DYE&export=download\n",
      "Maybe you need to change permission over 'Anyone with the link'?\n"
     ]
    },
    {
     "name": "stdout",
     "output_type": "stream",
     "text": [
      "3FO4IWGTL8FD_Bedroom.zip\n",
      "3FO4IWGTJLKV_Kitchen.zip\n",
      "3FO4IWGTJLKV_Guest_room.zip\n",
      "3FO4IWGTJLKV_Bedroom.zip\n",
      "3FO4IWGTJLKV_Bathroom.zip\n",
      "3FO4IWGTJBJS_Kitchen.zip\n",
      "3FO4IWGTJBJS_Guest_room.zip\n",
      "3FO4IWGTJBJS_Bedroom.zip\n",
      "3FO4IWGTJBJS_Bathroom.zip\n",
      "3FO4IWG5PVCJ_Kitchen.zip\n",
      "3FO4IWG5PVCJ_Guest_room.zip\n",
      "3FO4IWG5PVCJ_Bathroom.zip\n",
      "3FO4IWF591X5_Bathroom.zip\n",
      "3FO4IWEJ3GRN_Kitchen.zip\n",
      "3FO4IWEJ3GRN_Guest_room.zip\n",
      "3FO4IWEJ3GRN_Bedroom.zip\n",
      "3FO4IWEJ3GRN_Bathroom.zip\n",
      "3FO4IWEDKKVY_Kitchen.zip\n",
      "3FO4IWEDKKVY_Guest_room.zip\n",
      "3FO4IWEDKKVY_Bedroom.zip\n",
      "3FO4IWEDKKVY_Bathroom.zip\n",
      "3FO4IWEACDN4_Living_room.zip\n"
     ]
    },
    {
     "name": "stderr",
     "output_type": "stream",
     "text": [
      "Permission denied: https://drive.google.com/uc?id=1heBprDu1xb3osFvNUO31alxRPmYPNxc6&export=download\n",
      "Maybe you need to change permission over 'Anyone with the link'?\n"
     ]
    },
    {
     "name": "stdout",
     "output_type": "stream",
     "text": [
      "3FO4IWEACDN4_Guest_room.zip\n",
      "3FO4IWEACDN4_Bedroom.zip\n",
      "3FO4IWEACDN4_Bathroom.zip\n",
      "3FO4IWE548TC_Guest_room.zip\n",
      "3FO4IWE548TC_Bedroom.zip\n",
      "3FO4IWE548TC_Bathroom.zip\n",
      "3FO4IWE3Q3LX_Kitchen.zip\n",
      "3FO4IWE3Q3LX_Guest_room.zip\n",
      "3FO4IWE3Q3LX_Bedroom.zip\n",
      "3FO4IWE3Q3LX_Bathroom.zip\n",
      "3FO4IWE3MQKX_Kitchen.zip\n",
      "3FO4IWE3MQKX_Guest_room.zip\n",
      "3FO4IWE3MQKX_Bedroom.zip\n",
      "3FO4IWE3MQKX_Bathroom.zip\n",
      "3FO4IWDVH2RY_Kitchen.zip\n",
      "3FO4IWDVH2RY_Guest_room.zip\n",
      "3FO4IWDVH2RY_Bedroom.zip\n",
      "3FO4IWD9YN0X_Living_room.zip\n"
     ]
    },
    {
     "name": "stderr",
     "output_type": "stream",
     "text": [
      "Permission denied: https://drive.google.com/uc?id=1GprWC7dC4hHnsGWAoz9ujPM-XTvemXdV&export=download\n",
      "Maybe you need to change permission over 'Anyone with the link'?\n"
     ]
    },
    {
     "name": "stdout",
     "output_type": "stream",
     "text": [
      "3FO4IWD9YN0X_Dining_room.zip\n"
     ]
    },
    {
     "name": "stderr",
     "output_type": "stream",
     "text": [
      "Permission denied: https://drive.google.com/uc?id=1AnjV2VXWfQe3aPvLvLzmxohOr0Q-25BS&export=download\n",
      "Maybe you need to change permission over 'Anyone with the link'?\n"
     ]
    },
    {
     "name": "stdout",
     "output_type": "stream",
     "text": [
      "3FO4IWD1S5C9_Kitchen.zip\n",
      "3FO4IWD1S5C9_Guest_room.zip\n",
      "3FO4IWD1S5C9_Bedroom.zip\n",
      "3FO4IWB271NO_Guest_room.zip\n",
      "3FO4IWB271NO_Bedroom.zip\n",
      "3FO4IWB271NO_Bathroom.zip\n",
      "3FO4IWAU68E6_Kitchen.zip\n",
      "3FO4IWAU68E6_Bedroom.zip\n",
      "3FO4IWAU68E6_Bathroom.zip\n",
      "3FO4IWAPA1IY_Bedroom.zip\n",
      "3FO4IWAPA1IY_Bathroom.zip\n",
      "3FO4IW943H0T_Kitchen.zip\n",
      "3FO4IW943H0T_Bedroom.zip\n",
      "3FO4IW943H0T_Bathroom.zip\n",
      "3FO4IW93S5VQ_Kitchen.zip\n",
      "3FO4IW93S5VQ_Bedroom.zip\n",
      "3FO4IW93S5VQ_Bathroom.zip\n",
      "3FO4IW8ULD6Y_Living_room.zip\n"
     ]
    },
    {
     "name": "stderr",
     "output_type": "stream",
     "text": [
      "Permission denied: https://drive.google.com/uc?id=1vKXCbxFb3UIb2JLPjbPrjfV1ONYGHlZV&export=download\n",
      "Maybe you need to change permission over 'Anyone with the link'?\n"
     ]
    },
    {
     "name": "stdout",
     "output_type": "stream",
     "text": [
      "3FO4IW8ULD6Y_Kitchen.zip\n",
      "3FO4IW8ULD6Y_Guest_room.zip\n",
      "3FO4IW8ULD6Y_Bedroom.zip\n",
      "3FO4IW8ULD6Y_Bathroom.zip\n",
      "3FO4IW8SULLS_Kitchen.zip\n",
      "3FO4IW8SULLS_Guest_room.zip\n",
      "3FO4IW8SULLS_Bedroom.zip\n",
      "3FO4IW8SULLS_Bathroom.zip\n",
      "3FO4IW8M6G9R_Bedroom.zip\n",
      "3FO4IW8M6G9R_Bathroom.zip\n",
      "3FO4IW7YFGRP_Living_room.zip\n"
     ]
    },
    {
     "name": "stderr",
     "output_type": "stream",
     "text": [
      "Permission denied: https://drive.google.com/uc?id=1xpYPQ_cJ9nJstmlyQfHyJSICoSsViJzH&export=download\n",
      "Maybe you need to change permission over 'Anyone with the link'?\n"
     ]
    },
    {
     "name": "stdout",
     "output_type": "stream",
     "text": [
      "3FO4IW7YFGRP_Bedroom.zip\n",
      "3FO4IW7YFGRP_Bathroom.zip\n",
      "3FO4IW6XD055_Guest_room.zip\n",
      "3FO4IW6XD055_Bedroom.zip\n",
      "3FO4IW6XD055_Bathroom.zip\n",
      "3FO4IW6X819N_Kitchen.zip\n",
      "3FO4IW6X819N_Guest_room.zip\n",
      "3FO4IW6X819N_Bedroom.zip\n",
      "3FO4IW6X819N_Bathroom.zip\n",
      "3FO4IW6X72TD_Living_room.zip\n"
     ]
    },
    {
     "name": "stderr",
     "output_type": "stream",
     "text": [
      "Permission denied: https://drive.google.com/uc?id=1DdNC59zuIlh28nTErZ-Cyv8rKndvDo8l&export=download\n",
      "Maybe you need to change permission over 'Anyone with the link'?\n"
     ]
    },
    {
     "name": "stdout",
     "output_type": "stream",
     "text": [
      "3FO4IW6X72TD_Kitchen.zip\n",
      "3FO4IW6X72TD_Bedroom.zip\n",
      "3FO4IW6X72TD_Bathroom.zip\n",
      "3FO4IW6X6V5B_Kitchen.zip\n",
      "3FO4IW6X6V5B_Bedroom.zip\n",
      "3FO4IW6X6V5B_Bathroom.zip\n",
      "3FO4IW6CPKA3_Guest_room.zip\n",
      "3FO4IW6CPKA3_Bedroom.zip\n",
      "3FO4IW65GJG4_Bedroom.zip\n",
      "3FO4IW64LJJ5_Kitchen.zip\n",
      "3FO4IW64LJJ5_Guest_room.zip\n",
      "3FO4IW64LJJ5_Bedroom.zip\n",
      "3FO4IW64LJJ5_Bathroom.zip\n",
      "3FO4IW5I9ABN_Kitchen.zip\n",
      "3FO4IW5I9ABN_Guest_room.zip\n",
      "3FO4IW5I9ABN_Bathroom.zip\n",
      "3FO4IW4JX7FW_Kitchen.zip\n",
      "3FO4IW43V39S_Kitchen.zip\n",
      "3FO4IW43V39S_Guest_room.zip\n",
      "3FO4IW43V39S_Bedroom.zip\n",
      "3FO4IW43V39S_Bathroom.zip\n",
      "3FO4IW3RGXEF_Kitchen.zip\n",
      "3FO4IW3RGXEF_Guest_room.zip\n",
      "3FO4IW3RGXEF_Bedroom.zip\n",
      "3FO4IW3RGXEF_Bathroom.zip\n",
      "3FO4IW3RGU2E_Kitchen.zip\n",
      "3FO4IW3RGU2E_Guest_room.zip\n",
      "3FO4IW3RGU2E_Bedroom.zip\n",
      "3FO4IW3RG6N7_Kitchen.zip\n",
      "3FO4IW3RG6N7_Bedroom.zip\n",
      "3FO4IW3RG6N7_Bathroom.zip\n",
      "3FO4IW3RFI90_Living_room.zip\n"
     ]
    },
    {
     "name": "stderr",
     "output_type": "stream",
     "text": [
      "Permission denied: https://drive.google.com/uc?id=1fSLXPI8cyp3a9DTgFwastqmBPhKrTfre&export=download\n",
      "Maybe you need to change permission over 'Anyone with the link'?\n"
     ]
    },
    {
     "name": "stdout",
     "output_type": "stream",
     "text": [
      "3FO4IW3RFI90_Kitchen.zip\n",
      "3FO4IW3RFI90_Guest_room.zip\n",
      "3FO4IW3RFI90_Bedroom.zip\n",
      "3FO4IW3RFI90_Bathroom.zip\n",
      "3FO4IW3RF1IU_Kitchen.zip\n",
      "3FO4IW3RF1IU_Guest_room.zip\n",
      "3FO4IW3RF1IU_Bedroom.zip\n",
      "3FO4IW3RF1IU_Bathroom.zip\n",
      "3FO4IW3RETTS_Kitchen.zip\n",
      "3FO4IW3RETTS_Guest_room.zip\n",
      "3FO4IW3RETTS_Bedroom.zip\n",
      "3FO4IW3FUTFY_Living_room.zip\n"
     ]
    },
    {
     "name": "stderr",
     "output_type": "stream",
     "text": [
      "Permission denied: https://drive.google.com/uc?id=1OoRpcsMwW10gJ5aYVOlBrF9PWAnxNm2E&export=download\n",
      "Maybe you need to change permission over 'Anyone with the link'?\n"
     ]
    },
    {
     "name": "stdout",
     "output_type": "stream",
     "text": [
      "3FO4IW3FUTFY_Kitchen.zip\n",
      "3FO4IW3FUTFY_Guest_room.zip\n",
      "3FO4IW3FUTFY_Bedroom.zip\n",
      "3FO4IW3FUTFY_Bathroom.zip\n",
      "3FO4IW2TFI8K_Living_room.zip\n"
     ]
    },
    {
     "name": "stderr",
     "output_type": "stream",
     "text": [
      "Permission denied: https://drive.google.com/uc?id=1Hj2MQPnpqGpmldFjf6VFTHQuHi0SVblh&export=download\n",
      "Maybe you need to change permission over 'Anyone with the link'?\n"
     ]
    },
    {
     "name": "stdout",
     "output_type": "stream",
     "text": [
      "3FO4IW2TFI8K_Kitchen.zip\n",
      "3FO4IW2TFI8K_Guest_room.zip\n",
      "3FO4IW2TFI8K_Bedroom.zip\n",
      "3FO4IW2TFI8K_Bathroom.zip\n",
      "3FO4IW2IP9AC_Kitchen.zip\n",
      "3FO4IW2IP9AC_Guest_room.zip\n",
      "3FO4IW2IP9AC_Bedroom.zip\n",
      "3FO4IW2IP9AC_Bathroom.zip\n",
      "3FO4IW1WLHNE_Bathroom.zip\n",
      "3FO4IW1W2NXR_Study.zip\n",
      "3FO4IW1W124A_Bathroom.zip\n",
      "3FO4IW0FIPD9_Study.zip\n",
      "3FO4IVXAV99X_Kitchen.zip\n",
      "3FO4IVUCIV33_Kitchen.zip\n",
      "3FO4IVSOA0EB_Bedroom.zip\n",
      "3FO4IVS12O5D_Guest_room.zip\n",
      "3FO4IVRH0DKS_Bedroom.zip\n",
      "3FO4IVQOS771_Guest_room.zip\n",
      "3FO4IVQ7CQ4G_Guest_room.zip\n",
      "3FO4IVQ6EKUJ_Bathroom.zip\n",
      "3FO4IVQ52O4I_Kitchen.zip\n",
      "3FO4IW2B8RN5_Kitchen.zip\n",
      "3FO4IW2B8RN5_Bedroom.zip\n",
      "3FO4IW2B8RN5_Bathroom.zip\n",
      "3FO4IW2896BU_Study.zip\n",
      "3FO4IW2896BU_Kitchen.zip\n",
      "3FO4IW2896BU_Guest_room.zip\n",
      "3FO4IW2896BU_Bedroom.zip\n",
      "3FO4IW2896BU_Bathroom.zip\n",
      "3FO4IW1WO6A7_Kitchen.zip\n",
      "3FO4IW1WO6A7_Bedroom.zip\n",
      "3FO4IW1WO6A7_Bathroom.zip\n",
      "3FO4IW1WNYL5_Kitchen.zip\n",
      "3FO4IW1WNYL5_Guest_room.zip\n",
      "3FO4IW1WNYL5_Bedroom.zip\n",
      "3FO4IW1WNRW3_Kitchen.zip\n",
      "3FO4IW1WNRW3_Guest_room.zip\n",
      "3FO4IW1WNRW3_Bedroom.zip\n",
      "3FO4IW1WNRW3_Bathroom.zip\n",
      "3FO4IW1WNOK2_Kitchen.zip\n",
      "3FO4IW1WNOK2_Bedroom.zip\n",
      "3FO4IW1WNOK2_Bathroom.zip\n",
      "3FO4IW1WNHV0_Kitchen.zip\n",
      "3FO4IW1WNHV0_Guest_room.zip\n",
      "3FO4IW1WNHV0_Bedroom.zip\n",
      "3FO4IW1WNHV0_Bathroom.zip\n",
      "3FO4IW1WLHNE_Kitchen.zip\n",
      "3FO4IW1WLHNE_Guest_room.zip\n",
      "3FO4IW1WLHNE_Bedroom.zip\n",
      "3FO4IW1WJO4U_Kitchen.zip\n",
      "3FO4IW1WJO4U_Guest_room.zip\n",
      "3FO4IW1WJO4U_Bedroom.zip\n",
      "3FO4IW1WJO4U_Bathroom.zip\n",
      "3FO4IW1WI8YF_Kitchen.zip\n",
      "3FO4IW1WI8YF_Guest_room.zip\n",
      "3FO4IW1WI8YF_Bedroom.zip\n",
      "3FO4IW1WI8YF_Bathroom.zip\n",
      "3FO4IW1WH3U3_Kitchen.zip\n",
      "3FO4IW1WH3U3_Bedroom.zip\n",
      "3FO4IW1WH3U3_Bathroom.zip\n",
      "3FO4IW1WGW61_Kitchen.zip\n",
      "3FO4IW1WGW61_Bedroom.zip\n",
      "3FO4IW1WGW61_Bathroom.zip\n",
      "3FO4IW1W2NXR_Kitchen.zip\n",
      "3FO4IW1W2NXR_Bedroom.zip\n",
      "3FO4IW1W2NXR_Bathroom.zip\n",
      "3FO4IW1W2DWO_Kitchen.zip\n",
      "3FO4IW1W2DWO_Guest_room.zip\n",
      "3FO4IW1W2DWO_Bedroom.zip\n",
      "3FO4IW1W2DWO_Bathroom.zip\n",
      "3FO4IW1W1FHE_Kitchen.zip\n",
      "3FO4IW1W1FHE_Guest_room.zip\n",
      "3FO4IW1W1FHE_Bedroom.zip\n",
      "3FO4IW1W1FHE_Bathroom.zip\n",
      "3FO4IW1W124A_Kitchen.zip\n",
      "3FO4IW1W124A_Guest_room.zip\n",
      "3FO4IW1W124A_Bedroom.zip\n",
      "3FO4IW1JNR00_Study.zip\n",
      "3FO4IW1JNR00_Kitchen.zip\n",
      "3FO4IW1JNR00_Guest_room.zip\n",
      "3FO4IW1JNR00_Bedroom.zip\n",
      "3FO4IW13A9WH_Study.zip\n",
      "3FO4IW13A9WH_Guest_room.zip\n",
      "3FO4IW13A9WH_Bedroom.zip\n",
      "3FO4IW13A9WH_Bathroom.zip\n",
      "3FO4IW12SGFG_Bedroom.zip\n",
      "3FO4IW12SGFG_Bathroom.zip\n",
      "3FO4IW0I3F33_Kitchen.zip\n",
      "3FO4IW0I3F33_Guest_room.zip\n",
      "3FO4IW0I3F33_Bedroom.zip\n",
      "3FO4IW0I3F33_Bathroom.zip\n",
      "3FO4IW0FIPD9_Kitchen.zip\n",
      "3FO4IW0FIPD9_Bedroom.zip\n",
      "3FO4IW0FIPD9_Bathroom.zip\n",
      "3FO4IVYYBT0P_Kitchen.zip\n",
      "3FO4IVYYBT0P_Guest_room.zip\n",
      "3FO4IVYYBT0P_Bedroom.zip\n",
      "3FO4IVYYBT0P_Bathroom.zip\n",
      "3FO4IVYJCWB1_Kitchen.zip\n",
      "3FO4IVYJCWB1_Bedroom.zip\n",
      "3FO4IVYJCWB1_Bathroom.zip\n",
      "3FO4IVXESMH1_Kitchen.zip\n",
      "3FO4IVXESMH1_Bedroom.zip\n",
      "3FO4IVXESMH1_Bathroom.zip\n",
      "3FO4IVXAXQ7O_Kitchen.zip\n",
      "3FO4IVXAV99X_Guest_room.zip\n",
      "3FO4IVXAV99X_Bathroom.zip\n",
      "3FO4IVWT969U_Kitchen.zip\n",
      "3FO4IVWT969U_Guest_room.zip\n",
      "3FO4IVWT969U_Bedroom.zip\n",
      "3FO4IVV60DX4_Living_room.zip\n"
     ]
    },
    {
     "name": "stderr",
     "output_type": "stream",
     "text": [
      "Permission denied: https://drive.google.com/uc?id=1naMLS1KRtxcXiBR9XRvR2gR60sBTX-8h&export=download\n",
      "Maybe you need to change permission over 'Anyone with the link'?\n"
     ]
    },
    {
     "name": "stdout",
     "output_type": "stream",
     "text": [
      "3FO4IVV60DX4_Kitchen.zip\n",
      "3FO4IVV60DX4_Bedroom.zip\n",
      "3FO4IVV60DX4_Bathroom.zip\n",
      "3FO4IVUG19BO_Study.zip\n",
      "3FO4IVUG19BO_Kitchen.zip\n",
      "3FO4IVUG19BO_Guest_room.zip\n",
      "3FO4IVUG19BO_Bedroom.zip\n",
      "3FO4IVUG19BO_Bathroom.zip\n",
      "3FO4IVUCIV33_Bedroom.zip\n",
      "3FO4IVUCIV33_Bathroom.zip\n",
      "3FO4IVTMG7QL_Bathroom.zip\n",
      "3FO4IVTHK0VE_Study.zip\n",
      "3FO4IVTHK0VE_Living_room.zip\n"
     ]
    },
    {
     "name": "stderr",
     "output_type": "stream",
     "text": [
      "Permission denied: https://drive.google.com/uc?id=1Wy_46iTfxcwWnBu6yjjDJ-hAViA3enBZ&export=download\n",
      "Maybe you need to change permission over 'Anyone with the link'?\n"
     ]
    },
    {
     "name": "stdout",
     "output_type": "stream",
     "text": [
      "3FO4IVTHK0VE_Kitchen.zip\n",
      "3FO4IVTHK0VE_Guest_room.zip\n",
      "3FO4IVTHK0VE_Dining_room.zip\n"
     ]
    },
    {
     "name": "stderr",
     "output_type": "stream",
     "text": [
      "Permission denied: https://drive.google.com/uc?id=1xlMFoe79ROGRRXd-rbc9jaugUYvWmBSB&export=download\n",
      "Maybe you need to change permission over 'Anyone with the link'?\n"
     ]
    },
    {
     "name": "stdout",
     "output_type": "stream",
     "text": [
      "3FO4IVTHK0VE_Bedroom.zip\n",
      "3FO4IVTHK0VE_Bathroom.zip\n",
      "3FO4IVSOA0EB_Living_room.zip\n"
     ]
    },
    {
     "name": "stderr",
     "output_type": "stream",
     "text": [
      "Permission denied: https://drive.google.com/uc?id=1_JArwU-kyz-i8nI_FOYI1bcqw9aAh2wE&export=download\n",
      "Maybe you need to change permission over 'Anyone with the link'?\n"
     ]
    },
    {
     "name": "stdout",
     "output_type": "stream",
     "text": [
      "3FO4IVSOA0EB_Kitchen.zip\n",
      "3FO4IVSOA0EB_Guest_room.zip\n",
      "3FO4IVSOA0EB_Dining_room.zip\n"
     ]
    },
    {
     "name": "stderr",
     "output_type": "stream",
     "text": [
      "Permission denied: https://drive.google.com/uc?id=18dfKoNAKwE48sdbcUp00zn6df0mkKxEv&export=download\n",
      "Maybe you need to change permission over 'Anyone with the link'?\n"
     ]
    },
    {
     "name": "stdout",
     "output_type": "stream",
     "text": [
      "3FO4IVSOA0EB_Bathroom.zip\n",
      "3FO4IVS35KD6_Kitchen.zip\n",
      "3FO4IVS35KD6_Guest_room.zip\n",
      "3FO4IVS35KD6_Bedroom.zip\n",
      "3FO4IVS35KD6_Bathroom.zip\n",
      "3FO4IVS2ERKG_Kitchen.zip\n",
      "3FO4IVS2ERKG_Guest_room.zip\n",
      "3FO4IVS2ERKG_Bedroom.zip\n",
      "3FO4IVS2ERKG_Bathroom.zip\n",
      "3FO4IVS1P894_Kitchen.zip\n",
      "3FO4IVS1P894_Guest_room.zip\n",
      "3FO4IVS1P894_Bedroom.zip\n",
      "3FO4IVS1P894_Bathroom.zip\n",
      "3FO4IVS12O5D_Kitchen.zip\n",
      "3FO4IVS12O5D_Bedroom.zip\n",
      "3FO4IVS12O5D_Bathroom.zip\n",
      "3FO4IVS04FJF_Bathroom.zip\n",
      "3FO4IVRPIPV1_Study.zip\n",
      "3FO4IVRPIPV1_Kitchen.zip\n",
      "3FO4IVRPIPV1_Guest_room.zip\n",
      "3FO4IVRPIPV1_Bedroom.zip\n",
      "3FO4IVRPIPV1_Bathroom.zip\n",
      "3FO4IVRI784B_Study.zip\n",
      "3FO4IVRI784B_Kitchen.zip\n",
      "3FO4IVRI784B_Guest_room.zip\n",
      "3FO4IVRI784B_Bedroom.zip\n",
      "3FO4IVRI784B_Bathroom.zip\n",
      "3FO4IVRH0DKS_Kitchen.zip\n",
      "3FO4IVRH0DKS_Bathroom.zip\n",
      "3FO4IVRBUKS1_Kitchen.zip\n",
      "3FO4IVRBUKS1_Guest_room.zip\n",
      "3FO4IVRBUKS1_Bedroom.zip\n",
      "3FO4IVRBUKS1_Bathroom.zip\n",
      "3FO4IVQSRRAR_Kitchen.zip\n",
      "3FO4IVQSRRAR_Guest_room.zip\n",
      "3FO4IVQSRRAR_Bedroom.zip\n",
      "3FO4IVQSRRAR_Bathroom.zip\n",
      "3FO4IVQPWTSV_Study.zip\n",
      "3FO4IVQPWTSV_Guest_room.zip\n",
      "3FO4IVQPWTSV_Bedroom.zip\n",
      "3FO4IVQPWTSV_Bathroom.zip\n",
      "3FO4IVQOS771_Kitchen.zip\n",
      "3FO4IVQOS771_Bedroom.zip\n",
      "3FO4IVQOS771_Bathroom.zip\n",
      "3FO4IVQOGMLK_Kitchen.zip\n",
      "3FO4IVQOGMLK_Bedroom.zip\n",
      "3FO4IVQOGMLK_Bathroom.zip\n",
      "3FO4IVQGDKAW_Study.zip\n",
      "3FO4IVQGDKAW_Kitchen.zip\n",
      "3FO4IVQGDKAW_Guest_room.zip\n",
      "3FO4IVQGDKAW_Bedroom.zip\n",
      "3FO4IVQGDKAW_Bathroom.zip\n",
      "3FO4IVQD4RYV_Guest_room.zip\n",
      "3FO4IVQD4RYV_Bedroom.zip\n",
      "3FO4IVQD4RYV_Bathroom.zip\n",
      "3FO4IVQ7CQ4G_Kitchen.zip\n",
      "3FO4IVQ7CQ4G_Bedroom.zip\n",
      "3FO4IVQ7CQ4G_Bathroom.zip\n",
      "3FO4IVQ797EE_Study.zip\n",
      "3FO4IVQ797EE_Kitchen.zip\n",
      "3FO4IVQ797EE_Guest_room.zip\n",
      "3FO4IVQ797EE_Bedroom.zip\n",
      "3FO4IVQ797EE_Bathroom.zip\n",
      "3FO4IVQ77NVX_Kitchen.zip\n",
      "3FO4IVQ77NVX_Guest_room.zip\n",
      "3FO4IVQ77NVX_Bedroom.zip\n",
      "3FO4IVQ77NVX_Bathroom.zip\n",
      "3FO4IVQ6EKUJ_Kitchen.zip\n",
      "3FO4IVQ6EKUJ_Guest_room.zip\n",
      "3FO4IVQ6EKUJ_Bedroom.zip\n",
      "3FO4IVQ6E0SD_Study.zip\n",
      "3FO4IVQ6E0SD_Kitchen.zip\n",
      "3FO4IVQ6E0SD_Guest_room.zip\n",
      "3FO4IVQ6E0SD_Bedroom.zip\n",
      "3FO4IVQ6E0SD_Bathroom.zip\n",
      "3FO4IVQ5Q3BI_Study.zip\n",
      "3FO4IVQ5Q3BI_Kitchen.zip\n",
      "3FO4IVQ5Q3BI_Guest_room.zip\n",
      "3FO4IVQ5Q3BI_Bedroom.zip\n",
      "3FO4IVQ5Q3BI_Bathroom.zip\n",
      "3FO4IVQ5BGQ5_Kitchen.zip\n",
      "3FO4IVQ5BGQ5_Guest_room.zip\n",
      "3FO4IVQ5BGQ5_Bedroom.zip\n",
      "3FO4IVQ5BGQ5_Bathroom.zip\n",
      "3FO4IVQ52O4I_Bathroom.zip\n",
      "3FO4IVPIA4WG_Study.zip\n",
      "3FO4IVPIA4WG_Guest_room.zip\n",
      "3FO4IVPIA4WG_Bedroom.zip\n",
      "3FO4IVPIA4WG_Bathroom.zip\n",
      "3FO4IVP1MA65_Kitchen.zip\n",
      "3FO4IVP1MA65_Guest_room.zip\n",
      "3FO4IVP1MA65_Bedroom.zip\n",
      "3FO4IVP1MA65_Bathroom.zip\n",
      "3FO4IVO7IBJE_Kitchen.zip\n",
      "3FO4IVO7IBJE_Guest_room.zip\n",
      "3FO4IVO7IBJE_Bedroom.zip\n",
      "3FO4IVO7IBJE_Bathroom.zip\n",
      "3FO4IVNX8BD7_Kitchen.zip\n",
      "3FO4IVNOCJE9_Study.zip\n",
      "3FO4IVNB8OQ1_Bathroom.zip\n",
      "3FO4IVMIEMMP_Guest_room.zip\n",
      "3FO4IVMG6458_Bedroom.zip\n",
      "3FO4IVKEF0O8_Bedroom.zip\n",
      "3FO4IVK66RT1_Bedroom.zip\n",
      "3FO4IVJWY8D1_Kitchen.zip\n",
      "3FO4IVJUVPIC_Kitchen.zip\n",
      "3FO4IVJAINC3_Kitchen.zip\n",
      "3FO4IVHQ1VXT_Kitchen.zip\n",
      "3FO4IVHQ0039_Bathroom.zip\n",
      "3FO4IVHPU4JS_Bathroom.zip\n",
      "3FO4IVHFAEJ8_Kitchen.zip\n",
      "3FO4IVHF72I8_Bedroom.zip\n",
      "3FO4IVNX8BD7_Bedroom.zip\n",
      "3FO4IVNX8BD7_Bathroom.zip\n",
      "3FO4IVNX4KY3_Bathroom.zip\n",
      "3FO4IVNWUEYC_Bathroom.zip\n",
      "3FO4IVNW4W7P_Kitchen.zip\n",
      "3FO4IVNW4W7P_Guest_room.zip\n",
      "3FO4IVNW4W7P_Bedroom.zip\n",
      "3FO4IVNRHVC9_Kitchen.zip\n",
      "3FO4IVNRHVC9_Bedroom.zip\n",
      "3FO4IVNRHVC9_Bathroom.zip\n",
      "3FO4IVNOKDKL_Kitchen.zip\n",
      "3FO4IVNOKDKL_Guest_room.zip\n",
      "3FO4IVNOKDKL_Bedroom.zip\n",
      "3FO4IVNOKDKL_Bathroom.zip\n",
      "3FO4IVNOCJE9_Guest_room.zip\n",
      "3FO4IVNOCJE9_Bedroom.zip\n",
      "3FO4IVNOCJE9_Bathroom.zip\n",
      "3FO4IVNNY6A9_Study.zip\n",
      "3FO4IVNNY6A9_Kitchen.zip\n",
      "3FO4IVNNY6A9_Guest_room.zip\n",
      "3FO4IVNNY6A9_Bedroom.zip\n",
      "3FO4IVNNY6A9_Bathroom.zip\n",
      "3FO4IVNMRLRT_Guest_room.zip\n",
      "3FO4IVNMRLRT_Bedroom.zip\n",
      "3FO4IVNMRLRT_Bathroom.zip\n",
      "3FO4IVNB8OQ1_Kitchen.zip\n",
      "3FO4IVNB8OQ1_Guest_room.zip\n",
      "3FO4IVNB8OQ1_Bedroom.zip\n",
      "3FO4IVMXWQF5_Kitchen.zip\n",
      "3FO4IVMXWQF5_Bedroom.zip\n",
      "3FO4IVMVB86R_Kitchen.zip\n",
      "3FO4IVMVB86R_Guest_room.zip\n",
      "3FO4IVMVB86R_Bedroom.zip\n",
      "3FO4IVMON1A1_Kitchen.zip\n",
      "3FO4IVMON1A1_Guest_room.zip\n",
      "3FO4IVMON1A1_Bedroom.zip\n",
      "3FO4IVMON1A1_Bathroom.zip\n",
      "3FO4IVMNAQ5V_Kitchen.zip\n",
      "3FO4IVMNAQ5V_Guest_room.zip\n",
      "3FO4IVMNAQ5V_Bedroom.zip\n",
      "3FO4IVMNAQ5V_Bathroom.zip\n",
      "3FO4IVMIEMMP_Kitchen.zip\n",
      "3FO4IVMIEMMP_Bedroom.zip\n",
      "3FO4IVMIEMMP_Bathroom.zip\n",
      "3FO4IVMI9H36_Living_room.zip\n"
     ]
    },
    {
     "name": "stderr",
     "output_type": "stream",
     "text": [
      "Permission denied: https://drive.google.com/uc?id=1vh8TB5rrrvAxLviS824eEXubhhg9xlge&export=download\n",
      "Maybe you need to change permission over 'Anyone with the link'?\n"
     ]
    },
    {
     "name": "stdout",
     "output_type": "stream",
     "text": [
      "3FO4IVMI9H36_Kitchen.zip\n",
      "3FO4IVMI9H36_Bedroom.zip\n",
      "3FO4IVMI9H36_Bathroom.zip\n",
      "3FO4IVMHXUX0_Kitchen.zip\n",
      "3FO4IVMHXUX0_Guest_room.zip\n",
      "3FO4IVMHXUX0_Bedroom.zip\n",
      "3FO4IVMGOQ5S_Guest_room.zip\n",
      "3FO4IVMGOQ5S_Bedroom.zip\n",
      "3FO4IVMGOQ5S_Bathroom.zip\n",
      "3FO4IVMG6458_Kitchen.zip\n",
      "3FO4IVMG6458_Guest_room.zip\n",
      "3FO4IVMG6458_Bathroom.zip\n",
      "3FO4IVM56UVB_Kitchen.zip\n",
      "3FO4IVM56UVB_Bedroom.zip\n",
      "3FO4IVM56UVB_Bathroom.zip\n",
      "3FO4IVLWP0V0_Guest_room.zip\n",
      "3FO4IVLWP0V0_Bedroom.zip\n",
      "3FO4IVKYOPTH_Guest_room.zip\n",
      "3FO4IVKYOPTH_Bedroom.zip\n",
      "3FO4IVKYOPTH_Bathroom.zip\n",
      "3FO4IVKF1ENM_Study.zip\n",
      "3FO4IVKF1ENM_Bedroom.zip\n",
      "3FO4IVKF1ENM_Bathroom.zip\n",
      "3FO4IVKEF0O8_Kitchen.zip\n",
      "3FO4IVKEF0O8_Guest_room.zip\n",
      "3FO4IVKEF0O8_Bathroom.zip\n",
      "3FO4IVKE4RW6_Living_room.zip\n"
     ]
    },
    {
     "ename": "KeyboardInterrupt",
     "evalue": "",
     "output_type": "error",
     "traceback": [
      "\u001b[0;31m---------------------------------------------------------------------------\u001b[0m",
      "\u001b[0;31mKeyboardInterrupt\u001b[0m                         Traceback (most recent call last)",
      "\u001b[0;32m<ipython-input-1-c08cb9a5253d>\u001b[0m in \u001b[0;36m<module>\u001b[0;34m\u001b[0m\n\u001b[1;32m     69\u001b[0m                 \u001b[0;32mcontinue\u001b[0m\u001b[0;34m\u001b[0m\u001b[0;34m\u001b[0m\u001b[0m\n\u001b[1;32m     70\u001b[0m             \u001b[0moutput\u001b[0m \u001b[0;34m=\u001b[0m \u001b[0mos\u001b[0m\u001b[0;34m.\u001b[0m\u001b[0mpath\u001b[0m\u001b[0;34m.\u001b[0m\u001b[0mjoin\u001b[0m\u001b[0;34m(\u001b[0m\u001b[0mROOT_DIR\u001b[0m\u001b[0;34m,\u001b[0m \u001b[0;34m'data/InteriorNet/data/HD7'\u001b[0m\u001b[0;34m,\u001b[0m \u001b[0msubset\u001b[0m\u001b[0;34m,\u001b[0m \u001b[0mname\u001b[0m\u001b[0;34m+\u001b[0m\u001b[0;34m'.zip'\u001b[0m\u001b[0;34m)\u001b[0m\u001b[0;34m\u001b[0m\u001b[0;34m\u001b[0m\u001b[0m\n\u001b[0;32m---> 71\u001b[0;31m             \u001b[0mgdown\u001b[0m\u001b[0;34m.\u001b[0m\u001b[0mdownload\u001b[0m\u001b[0;34m(\u001b[0m\u001b[0murl\u001b[0m\u001b[0;34m,\u001b[0m \u001b[0moutput\u001b[0m\u001b[0;34m,\u001b[0m \u001b[0mquiet\u001b[0m\u001b[0;34m=\u001b[0m\u001b[0;32mFalse\u001b[0m\u001b[0;34m)\u001b[0m\u001b[0;34m\u001b[0m\u001b[0;34m\u001b[0m\u001b[0m\n\u001b[0m\u001b[1;32m     72\u001b[0m             \u001b[0;32mif\u001b[0m \u001b[0mos\u001b[0m\u001b[0;34m.\u001b[0m\u001b[0mpath\u001b[0m\u001b[0;34m.\u001b[0m\u001b[0misfile\u001b[0m\u001b[0;34m(\u001b[0m\u001b[0moutput\u001b[0m\u001b[0;34m)\u001b[0m\u001b[0;34m:\u001b[0m\u001b[0;34m\u001b[0m\u001b[0;34m\u001b[0m\u001b[0m\n\u001b[1;32m     73\u001b[0m                 \u001b[0;32mwith\u001b[0m \u001b[0mZipFile\u001b[0m\u001b[0;34m(\u001b[0m\u001b[0moutput\u001b[0m\u001b[0;34m,\u001b[0m \u001b[0;34m'r'\u001b[0m\u001b[0;34m)\u001b[0m \u001b[0;32mas\u001b[0m \u001b[0mzipObj\u001b[0m\u001b[0;34m:\u001b[0m\u001b[0;34m\u001b[0m\u001b[0;34m\u001b[0m\u001b[0m\n",
      "\u001b[0;32m~/MaskRCNN/lib/python3.6/site-packages/gdown/download.py\u001b[0m in \u001b[0;36mdownload\u001b[0;34m(url, output, quiet, proxy, speed, use_cookies)\u001b[0m\n\u001b[1;32m    108\u001b[0m \u001b[0;34m\u001b[0m\u001b[0m\n\u001b[1;32m    109\u001b[0m         \u001b[0;32mtry\u001b[0m\u001b[0;34m:\u001b[0m\u001b[0;34m\u001b[0m\u001b[0;34m\u001b[0m\u001b[0m\n\u001b[0;32m--> 110\u001b[0;31m             \u001b[0mres\u001b[0m \u001b[0;34m=\u001b[0m \u001b[0msess\u001b[0m\u001b[0;34m.\u001b[0m\u001b[0mget\u001b[0m\u001b[0;34m(\u001b[0m\u001b[0murl\u001b[0m\u001b[0;34m,\u001b[0m \u001b[0mstream\u001b[0m\u001b[0;34m=\u001b[0m\u001b[0;32mTrue\u001b[0m\u001b[0;34m)\u001b[0m\u001b[0;34m\u001b[0m\u001b[0;34m\u001b[0m\u001b[0m\n\u001b[0m\u001b[1;32m    111\u001b[0m         \u001b[0;32mexcept\u001b[0m \u001b[0mrequests\u001b[0m\u001b[0;34m.\u001b[0m\u001b[0mexceptions\u001b[0m\u001b[0;34m.\u001b[0m\u001b[0mProxyError\u001b[0m \u001b[0;32mas\u001b[0m \u001b[0me\u001b[0m\u001b[0;34m:\u001b[0m\u001b[0;34m\u001b[0m\u001b[0;34m\u001b[0m\u001b[0m\n\u001b[1;32m    112\u001b[0m             \u001b[0mprint\u001b[0m\u001b[0;34m(\u001b[0m\u001b[0;34m\"An error has occurred using proxy:\"\u001b[0m\u001b[0;34m,\u001b[0m \u001b[0mproxy\u001b[0m\u001b[0;34m,\u001b[0m \u001b[0mfile\u001b[0m\u001b[0;34m=\u001b[0m\u001b[0msys\u001b[0m\u001b[0;34m.\u001b[0m\u001b[0mstderr\u001b[0m\u001b[0;34m)\u001b[0m\u001b[0;34m\u001b[0m\u001b[0;34m\u001b[0m\u001b[0m\n",
      "\u001b[0;32m~/MaskRCNN/lib/python3.6/site-packages/requests/sessions.py\u001b[0m in \u001b[0;36mget\u001b[0;34m(self, url, **kwargs)\u001b[0m\n\u001b[1;32m    541\u001b[0m \u001b[0;34m\u001b[0m\u001b[0m\n\u001b[1;32m    542\u001b[0m         \u001b[0mkwargs\u001b[0m\u001b[0;34m.\u001b[0m\u001b[0msetdefault\u001b[0m\u001b[0;34m(\u001b[0m\u001b[0;34m'allow_redirects'\u001b[0m\u001b[0;34m,\u001b[0m \u001b[0;32mTrue\u001b[0m\u001b[0;34m)\u001b[0m\u001b[0;34m\u001b[0m\u001b[0;34m\u001b[0m\u001b[0m\n\u001b[0;32m--> 543\u001b[0;31m         \u001b[0;32mreturn\u001b[0m \u001b[0mself\u001b[0m\u001b[0;34m.\u001b[0m\u001b[0mrequest\u001b[0m\u001b[0;34m(\u001b[0m\u001b[0;34m'GET'\u001b[0m\u001b[0;34m,\u001b[0m \u001b[0murl\u001b[0m\u001b[0;34m,\u001b[0m \u001b[0;34m**\u001b[0m\u001b[0mkwargs\u001b[0m\u001b[0;34m)\u001b[0m\u001b[0;34m\u001b[0m\u001b[0;34m\u001b[0m\u001b[0m\n\u001b[0m\u001b[1;32m    544\u001b[0m \u001b[0;34m\u001b[0m\u001b[0m\n\u001b[1;32m    545\u001b[0m     \u001b[0;32mdef\u001b[0m \u001b[0moptions\u001b[0m\u001b[0;34m(\u001b[0m\u001b[0mself\u001b[0m\u001b[0;34m,\u001b[0m \u001b[0murl\u001b[0m\u001b[0;34m,\u001b[0m \u001b[0;34m**\u001b[0m\u001b[0mkwargs\u001b[0m\u001b[0;34m)\u001b[0m\u001b[0;34m:\u001b[0m\u001b[0;34m\u001b[0m\u001b[0;34m\u001b[0m\u001b[0m\n",
      "\u001b[0;32m~/MaskRCNN/lib/python3.6/site-packages/requests/sessions.py\u001b[0m in \u001b[0;36mrequest\u001b[0;34m(self, method, url, params, data, headers, cookies, files, auth, timeout, allow_redirects, proxies, hooks, stream, verify, cert, json)\u001b[0m\n\u001b[1;32m    528\u001b[0m         }\n\u001b[1;32m    529\u001b[0m         \u001b[0msend_kwargs\u001b[0m\u001b[0;34m.\u001b[0m\u001b[0mupdate\u001b[0m\u001b[0;34m(\u001b[0m\u001b[0msettings\u001b[0m\u001b[0;34m)\u001b[0m\u001b[0;34m\u001b[0m\u001b[0;34m\u001b[0m\u001b[0m\n\u001b[0;32m--> 530\u001b[0;31m         \u001b[0mresp\u001b[0m \u001b[0;34m=\u001b[0m \u001b[0mself\u001b[0m\u001b[0;34m.\u001b[0m\u001b[0msend\u001b[0m\u001b[0;34m(\u001b[0m\u001b[0mprep\u001b[0m\u001b[0;34m,\u001b[0m \u001b[0;34m**\u001b[0m\u001b[0msend_kwargs\u001b[0m\u001b[0;34m)\u001b[0m\u001b[0;34m\u001b[0m\u001b[0;34m\u001b[0m\u001b[0m\n\u001b[0m\u001b[1;32m    531\u001b[0m \u001b[0;34m\u001b[0m\u001b[0m\n\u001b[1;32m    532\u001b[0m         \u001b[0;32mreturn\u001b[0m \u001b[0mresp\u001b[0m\u001b[0;34m\u001b[0m\u001b[0;34m\u001b[0m\u001b[0m\n",
      "\u001b[0;32m~/MaskRCNN/lib/python3.6/site-packages/requests/sessions.py\u001b[0m in \u001b[0;36msend\u001b[0;34m(self, request, **kwargs)\u001b[0m\n\u001b[1;32m    641\u001b[0m \u001b[0;34m\u001b[0m\u001b[0m\n\u001b[1;32m    642\u001b[0m         \u001b[0;31m# Send the request\u001b[0m\u001b[0;34m\u001b[0m\u001b[0;34m\u001b[0m\u001b[0;34m\u001b[0m\u001b[0m\n\u001b[0;32m--> 643\u001b[0;31m         \u001b[0mr\u001b[0m \u001b[0;34m=\u001b[0m \u001b[0madapter\u001b[0m\u001b[0;34m.\u001b[0m\u001b[0msend\u001b[0m\u001b[0;34m(\u001b[0m\u001b[0mrequest\u001b[0m\u001b[0;34m,\u001b[0m \u001b[0;34m**\u001b[0m\u001b[0mkwargs\u001b[0m\u001b[0;34m)\u001b[0m\u001b[0;34m\u001b[0m\u001b[0;34m\u001b[0m\u001b[0m\n\u001b[0m\u001b[1;32m    644\u001b[0m \u001b[0;34m\u001b[0m\u001b[0m\n\u001b[1;32m    645\u001b[0m         \u001b[0;31m# Total elapsed time of the request (approximately)\u001b[0m\u001b[0;34m\u001b[0m\u001b[0;34m\u001b[0m\u001b[0;34m\u001b[0m\u001b[0m\n",
      "\u001b[0;32m~/MaskRCNN/lib/python3.6/site-packages/requests/adapters.py\u001b[0m in \u001b[0;36msend\u001b[0;34m(self, request, stream, timeout, verify, cert, proxies)\u001b[0m\n\u001b[1;32m    447\u001b[0m                     \u001b[0mdecode_content\u001b[0m\u001b[0;34m=\u001b[0m\u001b[0;32mFalse\u001b[0m\u001b[0;34m,\u001b[0m\u001b[0;34m\u001b[0m\u001b[0;34m\u001b[0m\u001b[0m\n\u001b[1;32m    448\u001b[0m                     \u001b[0mretries\u001b[0m\u001b[0;34m=\u001b[0m\u001b[0mself\u001b[0m\u001b[0;34m.\u001b[0m\u001b[0mmax_retries\u001b[0m\u001b[0;34m,\u001b[0m\u001b[0;34m\u001b[0m\u001b[0;34m\u001b[0m\u001b[0m\n\u001b[0;32m--> 449\u001b[0;31m                     \u001b[0mtimeout\u001b[0m\u001b[0;34m=\u001b[0m\u001b[0mtimeout\u001b[0m\u001b[0;34m\u001b[0m\u001b[0;34m\u001b[0m\u001b[0m\n\u001b[0m\u001b[1;32m    450\u001b[0m                 )\n\u001b[1;32m    451\u001b[0m \u001b[0;34m\u001b[0m\u001b[0m\n",
      "\u001b[0;32m~/MaskRCNN/lib/python3.6/site-packages/urllib3/connectionpool.py\u001b[0m in \u001b[0;36murlopen\u001b[0;34m(self, method, url, body, headers, retries, redirect, assert_same_host, timeout, pool_timeout, release_conn, chunked, body_pos, **response_kw)\u001b[0m\n\u001b[1;32m    675\u001b[0m                 \u001b[0mbody\u001b[0m\u001b[0;34m=\u001b[0m\u001b[0mbody\u001b[0m\u001b[0;34m,\u001b[0m\u001b[0;34m\u001b[0m\u001b[0;34m\u001b[0m\u001b[0m\n\u001b[1;32m    676\u001b[0m                 \u001b[0mheaders\u001b[0m\u001b[0;34m=\u001b[0m\u001b[0mheaders\u001b[0m\u001b[0;34m,\u001b[0m\u001b[0;34m\u001b[0m\u001b[0;34m\u001b[0m\u001b[0m\n\u001b[0;32m--> 677\u001b[0;31m                 \u001b[0mchunked\u001b[0m\u001b[0;34m=\u001b[0m\u001b[0mchunked\u001b[0m\u001b[0;34m,\u001b[0m\u001b[0;34m\u001b[0m\u001b[0;34m\u001b[0m\u001b[0m\n\u001b[0m\u001b[1;32m    678\u001b[0m             )\n\u001b[1;32m    679\u001b[0m \u001b[0;34m\u001b[0m\u001b[0m\n",
      "\u001b[0;32m~/MaskRCNN/lib/python3.6/site-packages/urllib3/connectionpool.py\u001b[0m in \u001b[0;36m_make_request\u001b[0;34m(self, conn, method, url, timeout, chunked, **httplib_request_kw)\u001b[0m\n\u001b[1;32m    424\u001b[0m                     \u001b[0;31m# Python 3 (including for exceptions like SystemExit).\u001b[0m\u001b[0;34m\u001b[0m\u001b[0;34m\u001b[0m\u001b[0;34m\u001b[0m\u001b[0m\n\u001b[1;32m    425\u001b[0m                     \u001b[0;31m# Otherwise it looks like a bug in the code.\u001b[0m\u001b[0;34m\u001b[0m\u001b[0;34m\u001b[0m\u001b[0;34m\u001b[0m\u001b[0m\n\u001b[0;32m--> 426\u001b[0;31m                     \u001b[0msix\u001b[0m\u001b[0;34m.\u001b[0m\u001b[0mraise_from\u001b[0m\u001b[0;34m(\u001b[0m\u001b[0me\u001b[0m\u001b[0;34m,\u001b[0m \u001b[0;32mNone\u001b[0m\u001b[0;34m)\u001b[0m\u001b[0;34m\u001b[0m\u001b[0;34m\u001b[0m\u001b[0m\n\u001b[0m\u001b[1;32m    427\u001b[0m         \u001b[0;32mexcept\u001b[0m \u001b[0;34m(\u001b[0m\u001b[0mSocketTimeout\u001b[0m\u001b[0;34m,\u001b[0m \u001b[0mBaseSSLError\u001b[0m\u001b[0;34m,\u001b[0m \u001b[0mSocketError\u001b[0m\u001b[0;34m)\u001b[0m \u001b[0;32mas\u001b[0m \u001b[0me\u001b[0m\u001b[0;34m:\u001b[0m\u001b[0;34m\u001b[0m\u001b[0;34m\u001b[0m\u001b[0m\n\u001b[1;32m    428\u001b[0m             \u001b[0mself\u001b[0m\u001b[0;34m.\u001b[0m\u001b[0m_raise_timeout\u001b[0m\u001b[0;34m(\u001b[0m\u001b[0merr\u001b[0m\u001b[0;34m=\u001b[0m\u001b[0me\u001b[0m\u001b[0;34m,\u001b[0m \u001b[0murl\u001b[0m\u001b[0;34m=\u001b[0m\u001b[0murl\u001b[0m\u001b[0;34m,\u001b[0m \u001b[0mtimeout_value\u001b[0m\u001b[0;34m=\u001b[0m\u001b[0mread_timeout\u001b[0m\u001b[0;34m)\u001b[0m\u001b[0;34m\u001b[0m\u001b[0;34m\u001b[0m\u001b[0m\n",
      "\u001b[0;32m~/MaskRCNN/lib/python3.6/site-packages/urllib3/packages/six.py\u001b[0m in \u001b[0;36mraise_from\u001b[0;34m(value, from_value)\u001b[0m\n",
      "\u001b[0;32m~/MaskRCNN/lib/python3.6/site-packages/urllib3/connectionpool.py\u001b[0m in \u001b[0;36m_make_request\u001b[0;34m(self, conn, method, url, timeout, chunked, **httplib_request_kw)\u001b[0m\n\u001b[1;32m    419\u001b[0m                 \u001b[0;31m# Python 3\u001b[0m\u001b[0;34m\u001b[0m\u001b[0;34m\u001b[0m\u001b[0;34m\u001b[0m\u001b[0m\n\u001b[1;32m    420\u001b[0m                 \u001b[0;32mtry\u001b[0m\u001b[0;34m:\u001b[0m\u001b[0;34m\u001b[0m\u001b[0;34m\u001b[0m\u001b[0m\n\u001b[0;32m--> 421\u001b[0;31m                     \u001b[0mhttplib_response\u001b[0m \u001b[0;34m=\u001b[0m \u001b[0mconn\u001b[0m\u001b[0;34m.\u001b[0m\u001b[0mgetresponse\u001b[0m\u001b[0;34m(\u001b[0m\u001b[0;34m)\u001b[0m\u001b[0;34m\u001b[0m\u001b[0;34m\u001b[0m\u001b[0m\n\u001b[0m\u001b[1;32m    422\u001b[0m                 \u001b[0;32mexcept\u001b[0m \u001b[0mBaseException\u001b[0m \u001b[0;32mas\u001b[0m \u001b[0me\u001b[0m\u001b[0;34m:\u001b[0m\u001b[0;34m\u001b[0m\u001b[0;34m\u001b[0m\u001b[0m\n\u001b[1;32m    423\u001b[0m                     \u001b[0;31m# Remove the TypeError from the exception chain in\u001b[0m\u001b[0;34m\u001b[0m\u001b[0;34m\u001b[0m\u001b[0;34m\u001b[0m\u001b[0m\n",
      "\u001b[0;32m/usr/lib/python3.6/http/client.py\u001b[0m in \u001b[0;36mgetresponse\u001b[0;34m(self)\u001b[0m\n\u001b[1;32m   1354\u001b[0m         \u001b[0;32mtry\u001b[0m\u001b[0;34m:\u001b[0m\u001b[0;34m\u001b[0m\u001b[0;34m\u001b[0m\u001b[0m\n\u001b[1;32m   1355\u001b[0m             \u001b[0;32mtry\u001b[0m\u001b[0;34m:\u001b[0m\u001b[0;34m\u001b[0m\u001b[0;34m\u001b[0m\u001b[0m\n\u001b[0;32m-> 1356\u001b[0;31m                 \u001b[0mresponse\u001b[0m\u001b[0;34m.\u001b[0m\u001b[0mbegin\u001b[0m\u001b[0;34m(\u001b[0m\u001b[0;34m)\u001b[0m\u001b[0;34m\u001b[0m\u001b[0;34m\u001b[0m\u001b[0m\n\u001b[0m\u001b[1;32m   1357\u001b[0m             \u001b[0;32mexcept\u001b[0m \u001b[0mConnectionError\u001b[0m\u001b[0;34m:\u001b[0m\u001b[0;34m\u001b[0m\u001b[0;34m\u001b[0m\u001b[0m\n\u001b[1;32m   1358\u001b[0m                 \u001b[0mself\u001b[0m\u001b[0;34m.\u001b[0m\u001b[0mclose\u001b[0m\u001b[0;34m(\u001b[0m\u001b[0;34m)\u001b[0m\u001b[0;34m\u001b[0m\u001b[0;34m\u001b[0m\u001b[0m\n",
      "\u001b[0;32m/usr/lib/python3.6/http/client.py\u001b[0m in \u001b[0;36mbegin\u001b[0;34m(self)\u001b[0m\n\u001b[1;32m    305\u001b[0m         \u001b[0;31m# read until we get a non-100 response\u001b[0m\u001b[0;34m\u001b[0m\u001b[0;34m\u001b[0m\u001b[0;34m\u001b[0m\u001b[0m\n\u001b[1;32m    306\u001b[0m         \u001b[0;32mwhile\u001b[0m \u001b[0;32mTrue\u001b[0m\u001b[0;34m:\u001b[0m\u001b[0;34m\u001b[0m\u001b[0;34m\u001b[0m\u001b[0m\n\u001b[0;32m--> 307\u001b[0;31m             \u001b[0mversion\u001b[0m\u001b[0;34m,\u001b[0m \u001b[0mstatus\u001b[0m\u001b[0;34m,\u001b[0m \u001b[0mreason\u001b[0m \u001b[0;34m=\u001b[0m \u001b[0mself\u001b[0m\u001b[0;34m.\u001b[0m\u001b[0m_read_status\u001b[0m\u001b[0;34m(\u001b[0m\u001b[0;34m)\u001b[0m\u001b[0;34m\u001b[0m\u001b[0;34m\u001b[0m\u001b[0m\n\u001b[0m\u001b[1;32m    308\u001b[0m             \u001b[0;32mif\u001b[0m \u001b[0mstatus\u001b[0m \u001b[0;34m!=\u001b[0m \u001b[0mCONTINUE\u001b[0m\u001b[0;34m:\u001b[0m\u001b[0;34m\u001b[0m\u001b[0;34m\u001b[0m\u001b[0m\n\u001b[1;32m    309\u001b[0m                 \u001b[0;32mbreak\u001b[0m\u001b[0;34m\u001b[0m\u001b[0;34m\u001b[0m\u001b[0m\n",
      "\u001b[0;32m/usr/lib/python3.6/http/client.py\u001b[0m in \u001b[0;36m_read_status\u001b[0;34m(self)\u001b[0m\n\u001b[1;32m    266\u001b[0m \u001b[0;34m\u001b[0m\u001b[0m\n\u001b[1;32m    267\u001b[0m     \u001b[0;32mdef\u001b[0m \u001b[0m_read_status\u001b[0m\u001b[0;34m(\u001b[0m\u001b[0mself\u001b[0m\u001b[0;34m)\u001b[0m\u001b[0;34m:\u001b[0m\u001b[0;34m\u001b[0m\u001b[0;34m\u001b[0m\u001b[0m\n\u001b[0;32m--> 268\u001b[0;31m         \u001b[0mline\u001b[0m \u001b[0;34m=\u001b[0m \u001b[0mstr\u001b[0m\u001b[0;34m(\u001b[0m\u001b[0mself\u001b[0m\u001b[0;34m.\u001b[0m\u001b[0mfp\u001b[0m\u001b[0;34m.\u001b[0m\u001b[0mreadline\u001b[0m\u001b[0;34m(\u001b[0m\u001b[0m_MAXLINE\u001b[0m \u001b[0;34m+\u001b[0m \u001b[0;36m1\u001b[0m\u001b[0;34m)\u001b[0m\u001b[0;34m,\u001b[0m \u001b[0;34m\"iso-8859-1\"\u001b[0m\u001b[0;34m)\u001b[0m\u001b[0;34m\u001b[0m\u001b[0;34m\u001b[0m\u001b[0m\n\u001b[0m\u001b[1;32m    269\u001b[0m         \u001b[0;32mif\u001b[0m \u001b[0mlen\u001b[0m\u001b[0;34m(\u001b[0m\u001b[0mline\u001b[0m\u001b[0;34m)\u001b[0m \u001b[0;34m>\u001b[0m \u001b[0m_MAXLINE\u001b[0m\u001b[0;34m:\u001b[0m\u001b[0;34m\u001b[0m\u001b[0;34m\u001b[0m\u001b[0m\n\u001b[1;32m    270\u001b[0m             \u001b[0;32mraise\u001b[0m \u001b[0mLineTooLong\u001b[0m\u001b[0;34m(\u001b[0m\u001b[0;34m\"status line\"\u001b[0m\u001b[0;34m)\u001b[0m\u001b[0;34m\u001b[0m\u001b[0;34m\u001b[0m\u001b[0m\n",
      "\u001b[0;32m/usr/lib/python3.6/socket.py\u001b[0m in \u001b[0;36mreadinto\u001b[0;34m(self, b)\u001b[0m\n\u001b[1;32m    584\u001b[0m         \u001b[0;32mwhile\u001b[0m \u001b[0;32mTrue\u001b[0m\u001b[0;34m:\u001b[0m\u001b[0;34m\u001b[0m\u001b[0;34m\u001b[0m\u001b[0m\n\u001b[1;32m    585\u001b[0m             \u001b[0;32mtry\u001b[0m\u001b[0;34m:\u001b[0m\u001b[0;34m\u001b[0m\u001b[0;34m\u001b[0m\u001b[0m\n\u001b[0;32m--> 586\u001b[0;31m                 \u001b[0;32mreturn\u001b[0m \u001b[0mself\u001b[0m\u001b[0;34m.\u001b[0m\u001b[0m_sock\u001b[0m\u001b[0;34m.\u001b[0m\u001b[0mrecv_into\u001b[0m\u001b[0;34m(\u001b[0m\u001b[0mb\u001b[0m\u001b[0;34m)\u001b[0m\u001b[0;34m\u001b[0m\u001b[0;34m\u001b[0m\u001b[0m\n\u001b[0m\u001b[1;32m    587\u001b[0m             \u001b[0;32mexcept\u001b[0m \u001b[0mtimeout\u001b[0m\u001b[0;34m:\u001b[0m\u001b[0;34m\u001b[0m\u001b[0;34m\u001b[0m\u001b[0m\n\u001b[1;32m    588\u001b[0m                 \u001b[0mself\u001b[0m\u001b[0;34m.\u001b[0m\u001b[0m_timeout_occurred\u001b[0m \u001b[0;34m=\u001b[0m \u001b[0;32mTrue\u001b[0m\u001b[0;34m\u001b[0m\u001b[0;34m\u001b[0m\u001b[0m\n",
      "\u001b[0;32m/usr/lib/python3.6/ssl.py\u001b[0m in \u001b[0;36mrecv_into\u001b[0;34m(self, buffer, nbytes, flags)\u001b[0m\n\u001b[1;32m   1010\u001b[0m                   \u001b[0;34m\"non-zero flags not allowed in calls to recv_into() on %s\"\u001b[0m \u001b[0;34m%\u001b[0m\u001b[0;34m\u001b[0m\u001b[0;34m\u001b[0m\u001b[0m\n\u001b[1;32m   1011\u001b[0m                   self.__class__)\n\u001b[0;32m-> 1012\u001b[0;31m             \u001b[0;32mreturn\u001b[0m \u001b[0mself\u001b[0m\u001b[0;34m.\u001b[0m\u001b[0mread\u001b[0m\u001b[0;34m(\u001b[0m\u001b[0mnbytes\u001b[0m\u001b[0;34m,\u001b[0m \u001b[0mbuffer\u001b[0m\u001b[0;34m)\u001b[0m\u001b[0;34m\u001b[0m\u001b[0;34m\u001b[0m\u001b[0m\n\u001b[0m\u001b[1;32m   1013\u001b[0m         \u001b[0;32melse\u001b[0m\u001b[0;34m:\u001b[0m\u001b[0;34m\u001b[0m\u001b[0;34m\u001b[0m\u001b[0m\n\u001b[1;32m   1014\u001b[0m             \u001b[0;32mreturn\u001b[0m \u001b[0msocket\u001b[0m\u001b[0;34m.\u001b[0m\u001b[0mrecv_into\u001b[0m\u001b[0;34m(\u001b[0m\u001b[0mself\u001b[0m\u001b[0;34m,\u001b[0m \u001b[0mbuffer\u001b[0m\u001b[0;34m,\u001b[0m \u001b[0mnbytes\u001b[0m\u001b[0;34m,\u001b[0m \u001b[0mflags\u001b[0m\u001b[0;34m)\u001b[0m\u001b[0;34m\u001b[0m\u001b[0;34m\u001b[0m\u001b[0m\n",
      "\u001b[0;32m/usr/lib/python3.6/ssl.py\u001b[0m in \u001b[0;36mread\u001b[0;34m(self, len, buffer)\u001b[0m\n\u001b[1;32m    872\u001b[0m             \u001b[0;32mraise\u001b[0m \u001b[0mValueError\u001b[0m\u001b[0;34m(\u001b[0m\u001b[0;34m\"Read on closed or unwrapped SSL socket.\"\u001b[0m\u001b[0;34m)\u001b[0m\u001b[0;34m\u001b[0m\u001b[0;34m\u001b[0m\u001b[0m\n\u001b[1;32m    873\u001b[0m         \u001b[0;32mtry\u001b[0m\u001b[0;34m:\u001b[0m\u001b[0;34m\u001b[0m\u001b[0;34m\u001b[0m\u001b[0m\n\u001b[0;32m--> 874\u001b[0;31m             \u001b[0;32mreturn\u001b[0m \u001b[0mself\u001b[0m\u001b[0;34m.\u001b[0m\u001b[0m_sslobj\u001b[0m\u001b[0;34m.\u001b[0m\u001b[0mread\u001b[0m\u001b[0;34m(\u001b[0m\u001b[0mlen\u001b[0m\u001b[0;34m,\u001b[0m \u001b[0mbuffer\u001b[0m\u001b[0;34m)\u001b[0m\u001b[0;34m\u001b[0m\u001b[0;34m\u001b[0m\u001b[0m\n\u001b[0m\u001b[1;32m    875\u001b[0m         \u001b[0;32mexcept\u001b[0m \u001b[0mSSLError\u001b[0m \u001b[0;32mas\u001b[0m \u001b[0mx\u001b[0m\u001b[0;34m:\u001b[0m\u001b[0;34m\u001b[0m\u001b[0;34m\u001b[0m\u001b[0m\n\u001b[1;32m    876\u001b[0m             \u001b[0;32mif\u001b[0m \u001b[0mx\u001b[0m\u001b[0;34m.\u001b[0m\u001b[0margs\u001b[0m\u001b[0;34m[\u001b[0m\u001b[0;36m0\u001b[0m\u001b[0;34m]\u001b[0m \u001b[0;34m==\u001b[0m \u001b[0mSSL_ERROR_EOF\u001b[0m \u001b[0;32mand\u001b[0m \u001b[0mself\u001b[0m\u001b[0;34m.\u001b[0m\u001b[0msuppress_ragged_eofs\u001b[0m\u001b[0;34m:\u001b[0m\u001b[0;34m\u001b[0m\u001b[0;34m\u001b[0m\u001b[0m\n",
      "\u001b[0;32m/usr/lib/python3.6/ssl.py\u001b[0m in \u001b[0;36mread\u001b[0;34m(self, len, buffer)\u001b[0m\n\u001b[1;32m    629\u001b[0m         \"\"\"\n\u001b[1;32m    630\u001b[0m         \u001b[0;32mif\u001b[0m \u001b[0mbuffer\u001b[0m \u001b[0;32mis\u001b[0m \u001b[0;32mnot\u001b[0m \u001b[0;32mNone\u001b[0m\u001b[0;34m:\u001b[0m\u001b[0;34m\u001b[0m\u001b[0;34m\u001b[0m\u001b[0m\n\u001b[0;32m--> 631\u001b[0;31m             \u001b[0mv\u001b[0m \u001b[0;34m=\u001b[0m \u001b[0mself\u001b[0m\u001b[0;34m.\u001b[0m\u001b[0m_sslobj\u001b[0m\u001b[0;34m.\u001b[0m\u001b[0mread\u001b[0m\u001b[0;34m(\u001b[0m\u001b[0mlen\u001b[0m\u001b[0;34m,\u001b[0m \u001b[0mbuffer\u001b[0m\u001b[0;34m)\u001b[0m\u001b[0;34m\u001b[0m\u001b[0;34m\u001b[0m\u001b[0m\n\u001b[0m\u001b[1;32m    632\u001b[0m         \u001b[0;32melse\u001b[0m\u001b[0;34m:\u001b[0m\u001b[0;34m\u001b[0m\u001b[0;34m\u001b[0m\u001b[0m\n\u001b[1;32m    633\u001b[0m             \u001b[0mv\u001b[0m \u001b[0;34m=\u001b[0m \u001b[0mself\u001b[0m\u001b[0;34m.\u001b[0m\u001b[0m_sslobj\u001b[0m\u001b[0;34m.\u001b[0m\u001b[0mread\u001b[0m\u001b[0;34m(\u001b[0m\u001b[0mlen\u001b[0m\u001b[0;34m)\u001b[0m\u001b[0;34m\u001b[0m\u001b[0;34m\u001b[0m\u001b[0m\n",
      "\u001b[0;31mKeyboardInterrupt\u001b[0m: "
     ]
    }
   ],
   "source": [
    "import os\n",
    "import glob\n",
    "import csv\n",
    "import gdown\n",
    "from zipfile import ZipFile\n",
    "import numpy as np\n",
    "import re\n",
    "\n",
    "ROOT_DIR = os.path.abspath('../../')\n",
    "\n",
    "list_csv = os.path.join(ROOT_DIR, 'data/InteriorNet', 'list_of_files_inHD7.csv')\n",
    "\n",
    "\n",
    "subsets = ['train', 'val', 'test']\n",
    "size_of = {'train': 5000, 'val': 600, 'test': 600 }\n",
    "room_distribution = {'Living_room':0.5, 'Bedroom':0.15, 'Dining_room':0.25, 'Guest_room':0.1}\n",
    "dataset = 'data/InteriorNet/data/HD7'\n",
    "downloaded_scenes = []\n",
    "\n",
    "is_living_room = lambda x: bool(re.search('Living_room' ,x))\n",
    "is_bedroom = lambda x: bool(re.search('Bedroom' ,x))\n",
    "is_diningroom = lambda x: bool(re.search('Dining_room' ,x))\n",
    "is_guestroom = lambda x: bool(re.search('Guest_room' ,x))\n",
    "\n",
    "\n",
    "for subset in subsets:\n",
    "    downloaded_scenes = downloaded_scenes + os.listdir(os.path.join(ROOT_DIR, dataset, subset))\n",
    "with open(list_csv, 'r') as csvfile:\n",
    "    scene_reader = csv.reader(csvfile, delimiter=',')\n",
    "    for subset in subsets:\n",
    "        downloaded_files = os.listdir(os.path.join(ROOT_DIR, 'data/InteriorNet/data/HD7', subset))\n",
    "        n_liv = np.array(list(map(is_living_room, downloaded_files))).sum()\n",
    "        n_bed = np.array(list(map(is_bedroom, downloaded_files))).sum()\n",
    "        n_dining = np.array(list(map(is_diningroom, downloaded_files))).sum()\n",
    "        n_guest = np.array(list(map(is_guestroom, downloaded_files))).sum()\n",
    "        n_ges = len(downloaded_files)\n",
    "        print(\"Number of Living_rooms: {}\".format(n_liv))\n",
    "        print(\"Number of Bedrooms: {}\".format(n_bed))\n",
    "        print(\"Number of Dining_rooms: {}\".format(n_dining))\n",
    "        print(\"Number of Guest_rooms: {}\".format(n_guest))\n",
    "        \n",
    "        for scene in scene_reader:\n",
    "            name = scene[0][:-4] # cut out .zip\n",
    "            url = scene[1]\n",
    "            print(name+'.zip')\n",
    "            if name in downloaded_scenes:\n",
    "                continue\n",
    "            if is_living_room(name):\n",
    "                if n_liv+1 > room_distribution['Living_room']*size_of[subset]:\n",
    "                    continue\n",
    "                else:\n",
    "                    n_liv+=1\n",
    "            elif is_bedroom(name):\n",
    "                if n_bed+1 > room_distribution['Bedroom']*size_of[subset]:\n",
    "                    continue\n",
    "                else:\n",
    "                    n_bed+=1\n",
    "            elif is_diningroom(name):\n",
    "                if n_dining+1 > room_distribution['Dining_room']*size_of[subset]:\n",
    "                    continue\n",
    "                else:\n",
    "                    n_dining+=1\n",
    "            elif is_guestroom(name):\n",
    "                if n_guest+1 > room_distribution['Guest_room']*size_of[subset]:\n",
    "                    continue\n",
    "                else:\n",
    "                    n_guest+=1\n",
    "            else:\n",
    "                continue\n",
    "            output = os.path.join(ROOT_DIR, 'data/InteriorNet/data/HD7', subset, name+'.zip')\n",
    "            gdown.download(url, output, quiet=False) \n",
    "            if os.path.isfile(output):\n",
    "                with ZipFile(output, 'r') as zipObj:\n",
    "                   # Extract all the contents of zip file in different directory\n",
    "                   zipObj.extractall(os.path.join(ROOT_DIR, dataset, subset))\n",
    "                os.remove(output)\n",
    "                downloaded_files = os.listdir(os.path.join(ROOT_DIR, 'data/InteriorNet/data/HD7', subset))\n",
    "            if len(downloaded_files) > size_of[subset]:\n",
    "                break"
   ]
  },
  {
   "cell_type": "code",
   "execution_count": null,
   "metadata": {},
   "outputs": [],
   "source": []
  },
  {
   "cell_type": "code",
   "execution_count": null,
   "metadata": {},
   "outputs": [],
   "source": []
  },
  {
   "cell_type": "code",
   "execution_count": null,
   "metadata": {},
   "outputs": [],
   "source": []
  }
 ],
 "metadata": {
  "kernelspec": {
   "display_name": "Python 3",
   "language": "python",
   "name": "python3"
  },
  "language_info": {
   "codemirror_mode": {
    "name": "ipython",
    "version": 3
   },
   "file_extension": ".py",
   "mimetype": "text/x-python",
   "name": "python",
   "nbconvert_exporter": "python",
   "pygments_lexer": "ipython3",
   "version": "3.6.9"
  }
 },
 "nbformat": 4,
 "nbformat_minor": 4
}
