{
 "cells": [
  {
   "cell_type": "code",
   "execution_count": 26,
   "metadata": {},
   "outputs": [],
   "source": [
    "import csv\n",
    "import os\n",
    "import gdown\n",
    "import pandas as pd\n",
    "import glob"
   ]
  },
  {
   "cell_type": "code",
   "execution_count": 2,
   "metadata": {},
   "outputs": [
    {
     "data": {
      "text/plain": [
       "\"\\ndef downloadFromGDrive(link, path, name):\\n    with open(os.path.join('/home/erbachj/MaskRCNN/Mask_RCNN/data/InteriorNet', 'downloaded_files.csv'), newline='') as csvfile:\\n        csvreader = csv.reader(csvfile, delimiter=',')\\n        for row in csvreader:\\n            for r in row:\\n                    if r == name:\\n                        print('data file already downloaded. Check which subset {} is in'.format(name))\\n                        return\\n\""
      ]
     },
     "execution_count": 2,
     "metadata": {},
     "output_type": "execute_result"
    }
   ],
   "source": [
    "'''\n",
    "def downloadFromGDrive(link, path, name):\n",
    "    with open(os.path.join('/home/erbachj/MaskRCNN/Mask_RCNN/data/InteriorNet', 'downloaded_files.csv'), newline='') as csvfile:\n",
    "        csvreader = csv.reader(csvfile, delimiter=',')\n",
    "        for row in csvreader:\n",
    "            for r in row:\n",
    "                    if r == name:\n",
    "                        print('data file already downloaded. Check which subset {} is in'.format(name))\n",
    "                        return\n",
    "'''"
   ]
  },
  {
   "cell_type": "code",
   "execution_count": 27,
   "metadata": {},
   "outputs": [],
   "source": [
    "ROOT_DIR = os.path.abspath('../')\n",
    "SAVE_DIR = os.path.join(ROOT_DIR, 'data/InteriorNet/data/HD1')\n",
    "subset = 'train'\n",
    "names = {'train':[], 'val':[], 'test':[]}\n",
    "file_list = {'train':[], 'val':[], 'test':[]}"
   ]
  },
  {
   "cell_type": "code",
   "execution_count": 28,
   "metadata": {},
   "outputs": [
    {
     "name": "stdout",
     "output_type": "stream",
     "text": [
      "['.ipynb_checkpoints', '3FO4JXIK2PXE', 'wget-log']\n"
     ]
    }
   ],
   "source": [
    "# create lists of already downloaded zip files in each folder\n",
    "file_list['train'] = os.listdir(os.path.join(SAVE_DIR, 'train'))\n",
    "file_list['val'] = os.listdir(os.path.join(SAVE_DIR, 'val'))\n",
    "file_list['test'] = os.listdir(os.path.join(SAVE_DIR, 'test'))\n",
    "print(file_list['train'])"
   ]
  },
  {
   "cell_type": "code",
   "execution_count": 62,
   "metadata": {},
   "outputs": [
    {
     "name": "stdout",
     "output_type": "stream",
     "text": [
      "19duV5nQvKmrxKYDHMNx7qBuiLtN8GfcV\n",
      "3FO4KG6E7BUM.zip\n",
      "  % Total    % Received % Xferd  Average Speed   Time    Time     Time  Current\n",
      "                                 Dload  Upload   Total   Spent    Left  Speed\n",
      "100   408    0   408    0     0   1829      0 --:--:-- --:--:-- --:--:--  1829\n",
      "  0     0    0     0    0     0      0      0 --:--:-- --:--:-- --:--:--     0\n",
      "  0     0    0     0    0     0      0      0 --:--:-- --:--:-- --:--:--     0\n",
      "  0     0    0     0    0     0      0      0 --:--:-- --:--:-- --:--:--     0\n"
     ]
    }
   ],
   "source": [
    "counter = len(file_list['train'])\n",
    "with open(os.path.join(ROOT_DIR, 'data/InteriorNet','list_of_files_inHD1.csv'), newline='') as csvfile:\n",
    "    csvreader = csv.reader(csvfile, delimiter=',')\n",
    "    for row in csvreader:\n",
    "        name = row[0]\n",
    "        link = row[1]\n",
    "        if not (name in file_list[subset]):\n",
    "            #specify download path and name inlc .zip\n",
    "            path = os.path.join(SAVE_DIR, subset, name)\n",
    "            \n",
    "            #extract file id from link\n",
    "            file_id = link[31:-16] \n",
    "            !sh /media/scratch1/erbachj/MaskRCNN/Mask_RCNN/Mask_RCNN/Notebook/gdrive.sh $file_id $name\n",
    "#             gdown.download(link,os.path.join(SAVE_DIR, subset, name))\n",
    "            names[subset].append(name)\n",
    "            counter += 1\n",
    "        if counter >= 4:\n",
    "            break\n",
    "        elif counter >= 3:\n",
    "            subset = 'test'\n",
    "            counter += len(file_list['test'])\n",
    "        elif counter >= 2:\n",
    "            subset = 'val'\n",
    "            counter += len(file_list['val'])\n"
   ]
  },
  {
   "cell_type": "code",
   "execution_count": 61,
   "metadata": {},
   "outputs": [
    {
     "name": "stderr",
     "output_type": "stream",
     "text": [
      "Downloading...\n",
      "From: https://drive.google.com/uc?id=1EedOZgN0bsoTBK5yF-mbw1chZlbli3Qk\n",
      "To: /media/scratch1/erbachj/MaskRCNN/Mask_RCNN/data/InteriorNet/data/HD1/train/3FO4JXIK2PXE_GT.zip\n",
      "7.41MB [00:00, 50.7MB/s]\n"
     ]
    },
    {
     "data": {
      "text/plain": [
       "'/media/scratch1/erbachj/MaskRCNN/Mask_RCNN/data/InteriorNet/data/HD1/train/3FO4JXIK2PXE_GT.zip'"
      ]
     },
     "execution_count": 61,
     "metadata": {},
     "output_type": "execute_result"
    }
   ],
   "source": [
    "from zipfile import ZipFile\n",
    "SAVE_DIR = os.path.join(ROOT_DIR, 'data/InteriorNet/data/HD1')\n",
    "subset= 'train'\n",
    "name = '3FO4JXIK2PXE_GT.zip'\n",
    "gdown.download('https://drive.google.com/uc?id=1EedOZgN0bsoTBK5yF-mbw1chZlbli3Qk',os.path.join(SAVE_DIR, subset, name))\n"
   ]
  },
  {
   "cell_type": "code",
   "execution_count": 18,
   "metadata": {},
   "outputs": [],
   "source": [
    "zipobj = ZipFile(os.path.join(SAVE_DIR, subset, name))\n",
    "name = '3FO4JXIK2PXE'\n",
    "zipobj.extractall(os.path.join(SAVE_DIR, subset, name))"
   ]
  },
  {
   "cell_type": "code",
   "execution_count": null,
   "metadata": {},
   "outputs": [],
   "source": []
  }
 ],
 "metadata": {
  "kernelspec": {
   "display_name": "Python 3",
   "language": "python",
   "name": "python3"
  },
  "language_info": {
   "codemirror_mode": {
    "name": "ipython",
    "version": 3
   },
   "file_extension": ".py",
   "mimetype": "text/x-python",
   "name": "python",
   "nbconvert_exporter": "python",
   "pygments_lexer": "ipython3",
   "version": "3.6.8"
  }
 },
 "nbformat": 4,
 "nbformat_minor": 4
}
