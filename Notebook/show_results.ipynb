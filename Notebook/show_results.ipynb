{
 "cells": [
  {
   "cell_type": "code",
   "execution_count": 1,
   "metadata": {},
   "outputs": [],
   "source": [
    "import os\n",
    "import sys\n",
    "import glob\n",
    "import matplotlib\n",
    "import matplotlib.pyplot as plt\n",
    "import ipywidgets\n",
    "import imageio\n",
    "from ipywidgets import interact, interactive, interact_manual\n",
    "%load_ext autoreload\n",
    "%autoreload 2\n",
    "ROOT_DIR = os.path.abspath(\"../\")"
   ]
  },
  {
   "cell_type": "code",
   "execution_count": 2,
   "metadata": {},
   "outputs": [],
   "source": [
    "def get_ax(rows=1, cols=1, size=13):\n",
    "    \"\"\"Return a Matplotlib Axes array to be used in\n",
    "    all visualizations in the notebook. Provide a\n",
    "    central point to control graph sizes.\n",
    "    \n",
    "    Adjust the size attribute to control how big to render images\n",
    "    \"\"\"\n",
    "    _, ax = plt.subplots(rows, cols, figsize=(size*cols, size*rows))\n",
    "    return ax"
   ]
  },
  {
   "cell_type": "code",
   "execution_count": 3,
   "metadata": {},
   "outputs": [],
   "source": [
    "image_id_widget = ipywidgets.IntSlider(value=20, min=0, max=300, step=1,\n",
    "                                     description='Image Id:', style={'description_width': 'initial'},\n",
    "                                     continuous_update=True)\n",
    "\n",
    "num_views_widget = ipywidgets.IntSlider(value=1, min=1, max=4, step=1,\n",
    "                                     description='Number of views:', style={'description_width': 'initial'},\n",
    "                                     continuous_update=True)"
   ]
  },
  {
   "cell_type": "code",
   "execution_count": 4,
   "metadata": {},
   "outputs": [
    {
     "data": {
      "application/vnd.jupyter.widget-view+json": {
       "model_id": "23ee05d7829049ff95036199327c12b7",
       "version_major": 2,
       "version_minor": 0
      },
      "text/plain": [
       "interactive(children=(IntSlider(value=20, description='Image Id:', max=300, style=SliderStyle(description_widt…"
      ]
     },
     "metadata": {},
     "output_type": "display_data"
    }
   ],
   "source": [
    "RESULTS_DIR = os.path.join(ROOT_DIR, 'data/InteriorNet/Results', 'NV1')\n",
    "path_of_vis = sorted(glob.glob(os.path.join(RESULTS_DIR, '*.jpg')))\n",
    "\n",
    "def show_visualizations(image_id, num_views):\n",
    "    num_views_map = {1: 'NV1', 2: 'NV2', 3: 'NV3', 4: 'NV4'}\n",
    "    RESULTS_DIR = os.path.join(ROOT_DIR, 'data/InteriorNet/Results', num_views_map[num_views])\n",
    "#     path_of_vis = sorted(glob.glob(os.path.join(RESULTS_DIR, '*.jpg')))\n",
    "    image_num = list(range(len(path_of_vis)))\n",
    "    image_name = os.path.basename(path_of_vis[image_id])\n",
    "    im_path = glob.glob(os.path.join(RESULTS_DIR, image_name))\n",
    "    \n",
    "    if im_path:       \n",
    "        image = imageio.imread(im_path[0])\n",
    "        get_ax(size=15)\n",
    "        plt.imshow(image)\n",
    "\n",
    "interact(show_visualizations, image_id=image_id_widget,  num_views=num_views_widget);"
   ]
  },
  {
   "cell_type": "code",
   "execution_count": null,
   "metadata": {},
   "outputs": [],
   "source": []
  },
  {
   "cell_type": "code",
   "execution_count": null,
   "metadata": {},
   "outputs": [],
   "source": []
  }
 ],
 "metadata": {
  "kernelspec": {
   "display_name": "Python 3",
   "language": "python",
   "name": "python3"
  },
  "language_info": {
   "codemirror_mode": {
    "name": "ipython",
    "version": 3
   },
   "file_extension": ".py",
   "mimetype": "text/x-python",
   "name": "python",
   "nbconvert_exporter": "python",
   "pygments_lexer": "ipython3",
   "version": "3.6.9"
  }
 },
 "nbformat": 4,
 "nbformat_minor": 4
}
