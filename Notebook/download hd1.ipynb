{
 "cells": [
  {
   "cell_type": "code",
   "execution_count": 5,
   "metadata": {},
   "outputs": [
    {
     "name": "stderr",
     "output_type": "stream",
     "text": [
      "Permission denied: https://drive.google.com/uc?id=1le4NfdJ9g8zGZ3gOdKz2Y8B3bfqpaNL-\n",
      "Maybe you need to change permission over 'Anyone with the link'?\n"
     ]
    }
   ],
   "source": [
    "import gdown\n",
    "import os\n",
    "SAVE_DIR = '/home/erbachj/MaskRCNN/Mask_RCNN/data/InteriorNet/data/HD7'\n",
    "link = 'https://drive.google.com/uc?id=1le4NfdJ9g8zGZ3gOdKz2Y8B3bfqpaNL-'\n",
    "gdown.download(link,os.path.join(SAVE_DIR, 'all'))\n"
   ]
  },
  {
   "cell_type": "code",
   "execution_count": null,
   "metadata": {},
   "outputs": [],
   "source": []
  }
 ],
 "metadata": {
  "kernelspec": {
   "display_name": "Python 3",
   "language": "python",
   "name": "python3"
  },
  "language_info": {
   "codemirror_mode": {
    "name": "ipython",
    "version": 3
   },
   "file_extension": ".py",
   "mimetype": "text/x-python",
   "name": "python",
   "nbconvert_exporter": "python",
   "pygments_lexer": "ipython3",
   "version": "3.6.8"
  }
 },
 "nbformat": 4,
 "nbformat_minor": 4
}
