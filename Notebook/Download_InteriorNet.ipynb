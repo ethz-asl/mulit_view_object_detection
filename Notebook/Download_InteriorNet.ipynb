{
 "cells": [
  {
   "cell_type": "code",
   "execution_count": 66,
   "metadata": {},
   "outputs": [],
   "source": [
    "import csv\n",
    "import os\n",
    "import gdown\n",
    "import pandas as pd\n",
    "import glob"
   ]
  },
  {
   "cell_type": "code",
   "execution_count": 67,
   "metadata": {},
   "outputs": [
    {
     "data": {
      "text/plain": [
       "\"\\ndef downloadFromGDrive(link, path, name):\\n    with open(os.path.join('/home/erbachj/MaskRCNN/Mask_RCNN/data/InteriorNet', 'downloaded_files.csv'), newline='') as csvfile:\\n        csvreader = csv.reader(csvfile, delimiter=',')\\n        for row in csvreader:\\n            for r in row:\\n                    if r == name:\\n                        print('data file already downloaded. Check which subset {} is in'.format(name))\\n                        return\\n\""
      ]
     },
     "execution_count": 67,
     "metadata": {},
     "output_type": "execute_result"
    }
   ],
   "source": [
    "'''\n",
    "def downloadFromGDrive(link, path, name):\n",
    "    with open(os.path.join('/home/erbachj/MaskRCNN/Mask_RCNN/data/InteriorNet', 'downloaded_files.csv'), newline='') as csvfile:\n",
    "        csvreader = csv.reader(csvfile, delimiter=',')\n",
    "        for row in csvreader:\n",
    "            for r in row:\n",
    "                    if r == name:\n",
    "                        print('data file already downloaded. Check which subset {} is in'.format(name))\n",
    "                        return\n",
    "'''"
   ]
  },
  {
   "cell_type": "code",
   "execution_count": 68,
   "metadata": {},
   "outputs": [],
   "source": [
    "ROOT_DIR = os.path.abspath('../')\n",
    "SAVE_DIR = os.path.join(ROOT_DIR, 'data/InteriorNet/data/HD1')\n",
    "subset = 'train'\n",
    "names = {'train':[], 'val':[], 'test':[]}\n",
    "file_list = {'train':[], 'val':[], 'test':[]}"
   ]
  },
  {
   "cell_type": "code",
   "execution_count": 69,
   "metadata": {},
   "outputs": [
    {
     "name": "stdout",
     "output_type": "stream",
     "text": [
      "['gdrive1.sh', '1JZRnhE0tVQVQXRDxvIUsrW-SScTJrwos', 'FO4KG6E7BUM.zip', '.ipynb_checkpoints', 'cookie', '3FO4JXIK2PXE', 'gdrive.sh']\n"
     ]
    }
   ],
   "source": [
    "# create lists of already downloaded zip files in each folder\n",
    "file_list['train'] = os.listdir(os.path.join(SAVE_DIR, 'train'))\n",
    "file_list['val'] = os.listdir(os.path.join(SAVE_DIR, 'val'))\n",
    "file_list['test'] = os.listdir(os.path.join(SAVE_DIR, 'test'))\n",
    "print(file_list['train'])"
   ]
  },
  {
   "cell_type": "code",
   "execution_count": 73,
   "metadata": {},
   "outputs": [
    {
     "name": "stderr",
     "output_type": "stream",
     "text": [
      "Permission denied: https://drive.google.com/uc?id=19duV5nQvKmrxKYDHMNx7qBuiLtN8GfcV&export=download\n",
      "Maybe you need to change permission over 'Anyone with the link'?\n"
     ]
    },
    {
     "name": "stdout",
     "output_type": "stream",
     "text": [
      "Access denied with the following error:\n"
     ]
    },
    {
     "name": "stderr",
     "output_type": "stream",
     "text": [
      "\n",
      " \tToo many users have viewed or downloaded this file recently. Please\n",
      "\ttry accessing the file again later. If the file you are trying to\n",
      "\taccess is particularly large or is shared with many people, it may\n",
      "\ttake up to 24 hours to be able to view or download the file. If you\n",
      "\tstill can't access a file after 24 hours, contact your domain\n",
      "\tadministrator. \n",
      "\n",
      "You may still be able to access the file from the browser:\n",
      "\n",
      "\t https://drive.google.com/uc?id=1S_VCRkHRm0oUCoWhbYyjbencSj6mM9e1&export=download \n",
      "\n",
      "Permission denied: https://drive.google.com/uc?id=148tbzEX3pTRbruXHz4c83mUWZiR4z6DD&export=download\n",
      "Maybe you need to change permission over 'Anyone with the link'?\n",
      "Permission denied: https://drive.google.com/uc?id=104oM-h6CFWOqhJ592W_ThVPqN1VuPZHx&export=download\n",
      "Maybe you need to change permission over 'Anyone with the link'?\n",
      "Permission denied: https://drive.google.com/uc?id=10juK4ow8moBqTZGYqr5YjcEbiemEMCTl&export=download\n",
      "Maybe you need to change permission over 'Anyone with the link'?\n",
      "Permission denied: https://drive.google.com/uc?id=1Mvj8qQXESsg8xoLfE99I7m-9E0AbUMQW&export=download\n",
      "Maybe you need to change permission over 'Anyone with the link'?\n",
      "Permission denied: https://drive.google.com/uc?id=1aMd8IQ9MOifuxfbZc_mFOCOWuKFoVNBR&export=download\n",
      "Maybe you need to change permission over 'Anyone with the link'?\n"
     ]
    },
    {
     "name": "stdout",
     "output_type": "stream",
     "text": [
      "Access denied with the following error:\n"
     ]
    },
    {
     "name": "stderr",
     "output_type": "stream",
     "text": [
      "\n",
      " \tToo many users have viewed or downloaded this file recently. Please\n",
      "\ttry accessing the file again later. If the file you are trying to\n",
      "\taccess is particularly large or is shared with many people, it may\n",
      "\ttake up to 24 hours to be able to view or download the file. If you\n",
      "\tstill can't access a file after 24 hours, contact your domain\n",
      "\tadministrator. \n",
      "\n",
      "You may still be able to access the file from the browser:\n",
      "\n",
      "\t https://drive.google.com/uc?id=1pHgZURqib8lfaNFA3z1XzE0Y-vabkxq6&export=download \n",
      "\n",
      "Permission denied: https://drive.google.com/uc?id=19WW_QjEzAikfTKsaIhQSwlJLv40CBCWN&export=download\n",
      "Maybe you need to change permission over 'Anyone with the link'?\n",
      "Permission denied: https://drive.google.com/uc?id=1zqCUTGJ75IRgeWczgkGZRatQIeOdJP0i&export=download\n",
      "Maybe you need to change permission over 'Anyone with the link'?\n",
      "Permission denied: https://drive.google.com/uc?id=1JgW225oUAKe8C_UhZ7YKX4b9MyEyueQG&export=download\n",
      "Maybe you need to change permission over 'Anyone with the link'?\n",
      "Permission denied: https://drive.google.com/uc?id=15OMgkOoqEvRZLxqZKxuE2RxN7-Fo0i5a&export=download\n",
      "Maybe you need to change permission over 'Anyone with the link'?\n",
      "Permission denied: https://drive.google.com/uc?id=1OaCkV46VcGQC8IqCu8QG1PY_UL3akkd_&export=download\n",
      "Maybe you need to change permission over 'Anyone with the link'?\n",
      "Permission denied: https://drive.google.com/uc?id=185KnLlP-2ed-5pMw-VS1_ACuWLrKisRT&export=download\n",
      "Maybe you need to change permission over 'Anyone with the link'?\n",
      "Permission denied: https://drive.google.com/uc?id=1FBKazPg5bxhLAB5T10CWUl1JXfp-65bJ&export=download\n",
      "Maybe you need to change permission over 'Anyone with the link'?\n",
      "Permission denied: https://drive.google.com/uc?id=1Kc8bDJfVNF0khrNlH00n7WA3EYYumwTl&export=download\n",
      "Maybe you need to change permission over 'Anyone with the link'?\n"
     ]
    },
    {
     "name": "stdout",
     "output_type": "stream",
     "text": [
      "Access denied with the following error:\n"
     ]
    },
    {
     "name": "stderr",
     "output_type": "stream",
     "text": [
      "\n",
      " \tToo many users have viewed or downloaded this file recently. Please\n",
      "\ttry accessing the file again later. If the file you are trying to\n",
      "\taccess is particularly large or is shared with many people, it may\n",
      "\ttake up to 24 hours to be able to view or download the file. If you\n",
      "\tstill can't access a file after 24 hours, contact your domain\n",
      "\tadministrator. \n",
      "\n",
      "You may still be able to access the file from the browser:\n",
      "\n",
      "\t https://drive.google.com/uc?id=1zrrWTNSmt571zRkv_b2bgq-gBmOO1qdz&export=download \n",
      "\n",
      "Permission denied: https://drive.google.com/uc?id=1oZXSO2IO9CvYF0yB8Ax_Vowe8slJaojm&export=download\n",
      "Maybe you need to change permission over 'Anyone with the link'?\n"
     ]
    },
    {
     "name": "stdout",
     "output_type": "stream",
     "text": [
      "Access denied with the following error:\n"
     ]
    },
    {
     "name": "stderr",
     "output_type": "stream",
     "text": [
      "\n",
      " \tToo many users have viewed or downloaded this file recently. Please\n",
      "\ttry accessing the file again later. If the file you are trying to\n",
      "\taccess is particularly large or is shared with many people, it may\n",
      "\ttake up to 24 hours to be able to view or download the file. If you\n",
      "\tstill can't access a file after 24 hours, contact your domain\n",
      "\tadministrator. \n",
      "\n",
      "You may still be able to access the file from the browser:\n",
      "\n",
      "\t https://drive.google.com/uc?id=13CHMFhfaAhZ35r6vRY1OO_FZyoXuk1el&export=download \n",
      "\n",
      "Permission denied: https://drive.google.com/uc?id=1DxnQqoxUVakY-PY0eQKGWLfab3N5oQY0&export=download\n",
      "Maybe you need to change permission over 'Anyone with the link'?\n"
     ]
    },
    {
     "name": "stdout",
     "output_type": "stream",
     "text": [
      "Access denied with the following error:\n"
     ]
    },
    {
     "name": "stderr",
     "output_type": "stream",
     "text": [
      "\n",
      " \tToo many users have viewed or downloaded this file recently. Please\n",
      "\ttry accessing the file again later. If the file you are trying to\n",
      "\taccess is particularly large or is shared with many people, it may\n",
      "\ttake up to 24 hours to be able to view or download the file. If you\n",
      "\tstill can't access a file after 24 hours, contact your domain\n",
      "\tadministrator. \n",
      "\n",
      "You may still be able to access the file from the browser:\n",
      "\n",
      "\t https://drive.google.com/uc?id=1WsWqZgQKXVmBH2AfHL9x0U0UUX8_ehNs&export=download \n",
      "\n"
     ]
    },
    {
     "name": "stdout",
     "output_type": "stream",
     "text": [
      "Access denied with the following error:\n"
     ]
    },
    {
     "name": "stderr",
     "output_type": "stream",
     "text": [
      "\n",
      " \tToo many users have viewed or downloaded this file recently. Please\n",
      "\ttry accessing the file again later. If the file you are trying to\n",
      "\taccess is particularly large or is shared with many people, it may\n",
      "\ttake up to 24 hours to be able to view or download the file. If you\n",
      "\tstill can't access a file after 24 hours, contact your domain\n",
      "\tadministrator. \n",
      "\n",
      "You may still be able to access the file from the browser:\n",
      "\n",
      "\t https://drive.google.com/uc?id=16kMLmQGw-7zK9WbGV1gNvr2x2eiOh0WV&export=download \n",
      "\n",
      "Permission denied: https://drive.google.com/uc?id=19XpN-GadVmv_iqEcFLb5JHpu15p-4r4F&export=download\n",
      "Maybe you need to change permission over 'Anyone with the link'?\n",
      "Permission denied: https://drive.google.com/uc?id=12GQnu-BkLFC_ejd1Qh5zkl9_rsNuomIL&export=download\n",
      "Maybe you need to change permission over 'Anyone with the link'?\n",
      "Permission denied: https://drive.google.com/uc?id=1bkeTdEAGOAFMr_n25UxLhOOqLSysU3vm&export=download\n",
      "Maybe you need to change permission over 'Anyone with the link'?\n",
      "Permission denied: https://drive.google.com/uc?id=1g-KQwqiR1nRgCoQ4vB5grz64UaufdpAp&export=download\n",
      "Maybe you need to change permission over 'Anyone with the link'?\n",
      "Permission denied: https://drive.google.com/uc?id=1TmQz7_FQlXGWuIglufM6jPfCRmUynkbC&export=download\n",
      "Maybe you need to change permission over 'Anyone with the link'?\n",
      "Permission denied: https://drive.google.com/uc?id=1FdN649fFU1GeZSEmhZ33bS2OClixNZJP&export=download\n",
      "Maybe you need to change permission over 'Anyone with the link'?\n",
      "Permission denied: https://drive.google.com/uc?id=1FiUTMwhDhIjkRTvS_x_1XpYcgjjGQ9AW&export=download\n",
      "Maybe you need to change permission over 'Anyone with the link'?\n",
      "Permission denied: https://drive.google.com/uc?id=1GKi_rKP0DMXEKjspQS5rIzwnnIpiRcUt&export=download\n",
      "Maybe you need to change permission over 'Anyone with the link'?\n",
      "Permission denied: https://drive.google.com/uc?id=1yxlQOOw1n7B6JITPsulK_aY2ODxV9HU7&export=download\n",
      "Maybe you need to change permission over 'Anyone with the link'?\n"
     ]
    },
    {
     "name": "stdout",
     "output_type": "stream",
     "text": [
      "Access denied with the following error:\n"
     ]
    },
    {
     "name": "stderr",
     "output_type": "stream",
     "text": [
      "\n",
      " \tToo many users have viewed or downloaded this file recently. Please\n",
      "\ttry accessing the file again later. If the file you are trying to\n",
      "\taccess is particularly large or is shared with many people, it may\n",
      "\ttake up to 24 hours to be able to view or download the file. If you\n",
      "\tstill can't access a file after 24 hours, contact your domain\n",
      "\tadministrator. \n",
      "\n",
      "You may still be able to access the file from the browser:\n",
      "\n",
      "\t https://drive.google.com/uc?id=12BnR7MhSQIQCq19IbEns0g8uAD5-Vngt&export=download \n",
      "\n",
      "Permission denied: https://drive.google.com/uc?id=1tc_SR5fJeH40qIXjDia0wPTUVRvbQU3z&export=download\n",
      "Maybe you need to change permission over 'Anyone with the link'?\n",
      "Permission denied: https://drive.google.com/uc?id=11t2ujmOIEPAp4avIWNlIcy0to9gEzAoZ&export=download\n",
      "Maybe you need to change permission over 'Anyone with the link'?\n",
      "Permission denied: https://drive.google.com/uc?id=1XeV90nfvlA8qnXe3zaaKEE8Q3v5obAQV&export=download\n",
      "Maybe you need to change permission over 'Anyone with the link'?\n",
      "Permission denied: https://drive.google.com/uc?id=1tB4QkoaI50UjLc5YzC1B1XBotPqXbq-I&export=download\n",
      "Maybe you need to change permission over 'Anyone with the link'?\n",
      "Permission denied: https://drive.google.com/uc?id=1uOst06x8L06IyjKaJtM9PlLc2yD88NZK&export=download\n",
      "Maybe you need to change permission over 'Anyone with the link'?\n"
     ]
    },
    {
     "name": "stdout",
     "output_type": "stream",
     "text": [
      "Access denied with the following error:\n"
     ]
    },
    {
     "name": "stderr",
     "output_type": "stream",
     "text": [
      "\n",
      " \tToo many users have viewed or downloaded this file recently. Please\n",
      "\ttry accessing the file again later. If the file you are trying to\n",
      "\taccess is particularly large or is shared with many people, it may\n",
      "\ttake up to 24 hours to be able to view or download the file. If you\n",
      "\tstill can't access a file after 24 hours, contact your domain\n",
      "\tadministrator. \n",
      "\n",
      "You may still be able to access the file from the browser:\n",
      "\n",
      "\t https://drive.google.com/uc?id=16SWmzFGKmU9xIQJsoH_HxmvUFQezOTOV&export=download \n",
      "\n",
      "Permission denied: https://drive.google.com/uc?id=1gZIpqKBDYzzaCxWVAukkveCni3vbkvJf&export=download\n",
      "Maybe you need to change permission over 'Anyone with the link'?\n",
      "Permission denied: https://drive.google.com/uc?id=1H2JEPW4fvFseFv8C_3RTGgsFNUJixlIb&export=download\n",
      "Maybe you need to change permission over 'Anyone with the link'?\n",
      "Permission denied: https://drive.google.com/uc?id=1srh4Rz1ev3-i5qubchTaYqY6eQ34AOLf&export=download\n",
      "Maybe you need to change permission over 'Anyone with the link'?\n",
      "Permission denied: https://drive.google.com/uc?id=1hHKgN4t9uww8y7X8G5KrwLRUmZNwfb8x&export=download\n",
      "Maybe you need to change permission over 'Anyone with the link'?\n",
      "Permission denied: https://drive.google.com/uc?id=1fove38liON_Py5dsLA_SkIo5h2k4y61s&export=download\n",
      "Maybe you need to change permission over 'Anyone with the link'?\n",
      "Permission denied: https://drive.google.com/uc?id=1lNCKbgvbDUYlAFNnWfb8BSC6fGLSfkwm&export=download\n",
      "Maybe you need to change permission over 'Anyone with the link'?\n"
     ]
    },
    {
     "name": "stdout",
     "output_type": "stream",
     "text": [
      "Access denied with the following error:\n"
     ]
    },
    {
     "name": "stderr",
     "output_type": "stream",
     "text": [
      "\n",
      " \tToo many users have viewed or downloaded this file recently. Please\n",
      "\ttry accessing the file again later. If the file you are trying to\n",
      "\taccess is particularly large or is shared with many people, it may\n",
      "\ttake up to 24 hours to be able to view or download the file. If you\n",
      "\tstill can't access a file after 24 hours, contact your domain\n",
      "\tadministrator. \n",
      "\n",
      "You may still be able to access the file from the browser:\n",
      "\n",
      "\t https://drive.google.com/uc?id=1G07rRsdn2IDVbGrER61KnQ0iuBvO-_-s&export=download \n",
      "\n",
      "Permission denied: https://drive.google.com/uc?id=1Uku3MZFBKELe0l_rxa_SyzhOH1HBG8bH&export=download\n",
      "Maybe you need to change permission over 'Anyone with the link'?\n",
      "Permission denied: https://drive.google.com/uc?id=19nHcA3w8Z_8R1A4Bpn0YPgDXIurpnmYI&export=download\n",
      "Maybe you need to change permission over 'Anyone with the link'?\n",
      "Permission denied: https://drive.google.com/uc?id=1dtKop46ZHLC8B-8khI89igpj1fbfkp5E&export=download\n",
      "Maybe you need to change permission over 'Anyone with the link'?\n",
      "Permission denied: https://drive.google.com/uc?id=1ivsJEHZvXApY5_trA9IowQsIc6UBROPW&export=download\n",
      "Maybe you need to change permission over 'Anyone with the link'?\n",
      "Permission denied: https://drive.google.com/uc?id=1ucwZogmjOezMuLWxALanVWepBJqHg7_r&export=download\n",
      "Maybe you need to change permission over 'Anyone with the link'?\n",
      "Permission denied: https://drive.google.com/uc?id=1JWvvzMD61thEn_3vWNYK__qUqdaRCf5g&export=download\n",
      "Maybe you need to change permission over 'Anyone with the link'?\n",
      "Permission denied: https://drive.google.com/uc?id=10hO6vtXhwmgXT-fMuYNGsor2awyqjsny&export=download\n",
      "Maybe you need to change permission over 'Anyone with the link'?\n",
      "Permission denied: https://drive.google.com/uc?id=1SCufsfDmu3q8rlB49_kwuWALxSW0hlRb&export=download\n",
      "Maybe you need to change permission over 'Anyone with the link'?\n",
      "Permission denied: https://drive.google.com/uc?id=1Yq-_UrPIrZsDonSEtc-eMwbsH3EMJO4C&export=download\n",
      "Maybe you need to change permission over 'Anyone with the link'?\n",
      "Permission denied: https://drive.google.com/uc?id=11dR5PrN15PZOcaqtZwFDVizZRLSV4NYF&export=download\n",
      "Maybe you need to change permission over 'Anyone with the link'?\n",
      "Permission denied: https://drive.google.com/uc?id=1Z0sgeZXo1c4kyfo8s3wRLhFOQhCfxZ4G&export=download\n",
      "Maybe you need to change permission over 'Anyone with the link'?\n",
      "Permission denied: https://drive.google.com/uc?id=1ReOW9y0q0wLNAeG7M2n9h6NyP5fMSQvW&export=download\n",
      "Maybe you need to change permission over 'Anyone with the link'?\n",
      "Permission denied: https://drive.google.com/uc?id=1LOIAGJe072AtZJeh_4XniF3bUGJNgIBL&export=download\n",
      "Maybe you need to change permission over 'Anyone with the link'?\n",
      "Permission denied: https://drive.google.com/uc?id=1-bAUizN9SrsDJFzwMlEY-mvFcAJuKCvA&export=download\n",
      "Maybe you need to change permission over 'Anyone with the link'?\n",
      "Permission denied: https://drive.google.com/uc?id=138UPtAOLkiwWcfGYKSp6v-1hvuEnkKR2&export=download\n",
      "Maybe you need to change permission over 'Anyone with the link'?\n"
     ]
    },
    {
     "name": "stdout",
     "output_type": "stream",
     "text": [
      "Access denied with the following error:\n"
     ]
    },
    {
     "name": "stderr",
     "output_type": "stream",
     "text": [
      "\n",
      " \tToo many users have viewed or downloaded this file recently. Please\n",
      "\ttry accessing the file again later. If the file you are trying to\n",
      "\taccess is particularly large or is shared with many people, it may\n",
      "\ttake up to 24 hours to be able to view or download the file. If you\n",
      "\tstill can't access a file after 24 hours, contact your domain\n",
      "\tadministrator. \n",
      "\n",
      "You may still be able to access the file from the browser:\n",
      "\n",
      "\t https://drive.google.com/uc?id=1NTcQm0Yxh_dZV51DS9tUSDJfGQn0odlO&export=download \n",
      "\n",
      "Permission denied: https://drive.google.com/uc?id=1d1G04r31DkdLLlTBWxaxNBLbQP_yMynU&export=download\n",
      "Maybe you need to change permission over 'Anyone with the link'?\n",
      "Permission denied: https://drive.google.com/uc?id=1KiUR4nYNWCxTnUhCzlFYh2c6yHzz53QJ&export=download\n",
      "Maybe you need to change permission over 'Anyone with the link'?\n",
      "Permission denied: https://drive.google.com/uc?id=1MEIdbzxQRKcxxf8CEIXJjhiV3RbRTE8B&export=download\n",
      "Maybe you need to change permission over 'Anyone with the link'?\n",
      "Permission denied: https://drive.google.com/uc?id=1YH-S4d1UPv_slWqsHcCV3pirwfgtdbPI&export=download\n",
      "Maybe you need to change permission over 'Anyone with the link'?\n",
      "Permission denied: https://drive.google.com/uc?id=1cXy62Qe7KWtikPNISrJbgjjZNgCob3Au&export=download\n",
      "Maybe you need to change permission over 'Anyone with the link'?\n"
     ]
    },
    {
     "name": "stdout",
     "output_type": "stream",
     "text": [
      "Access denied with the following error:\n"
     ]
    },
    {
     "name": "stderr",
     "output_type": "stream",
     "text": [
      "\n",
      " \tToo many users have viewed or downloaded this file recently. Please\n",
      "\ttry accessing the file again later. If the file you are trying to\n",
      "\taccess is particularly large or is shared with many people, it may\n",
      "\ttake up to 24 hours to be able to view or download the file. If you\n",
      "\tstill can't access a file after 24 hours, contact your domain\n",
      "\tadministrator. \n",
      "\n",
      "You may still be able to access the file from the browser:\n",
      "\n",
      "\t https://drive.google.com/uc?id=1yrm5lfy_7ACcGN8pvi0nJs0LvIVpAz9I&export=download \n",
      "\n",
      "Permission denied: https://drive.google.com/uc?id=1ZO2hQrc08ZwHp0FZXtPUoiw_8WBQ0v_T&export=download\n",
      "Maybe you need to change permission over 'Anyone with the link'?\n"
     ]
    },
    {
     "name": "stdout",
     "output_type": "stream",
     "text": [
      "Access denied with the following error:\n"
     ]
    },
    {
     "name": "stderr",
     "output_type": "stream",
     "text": [
      "\n",
      " \tToo many users have viewed or downloaded this file recently. Please\n",
      "\ttry accessing the file again later. If the file you are trying to\n",
      "\taccess is particularly large or is shared with many people, it may\n",
      "\ttake up to 24 hours to be able to view or download the file. If you\n",
      "\tstill can't access a file after 24 hours, contact your domain\n",
      "\tadministrator. \n",
      "\n",
      "You may still be able to access the file from the browser:\n",
      "\n",
      "\t https://drive.google.com/uc?id=1yYhH4T47vMcyafw2Sm3KKCnWv9TdFikb&export=download \n",
      "\n",
      "Permission denied: https://drive.google.com/uc?id=1soH9SbN9Z7N_k8mnla6WWhwAghpdvx7m&export=download\n",
      "Maybe you need to change permission over 'Anyone with the link'?\n",
      "Permission denied: https://drive.google.com/uc?id=1hH__-Z9_z4CBaPu8OlRyhR_-fjwDYv2I&export=download\n",
      "Maybe you need to change permission over 'Anyone with the link'?\n",
      "Permission denied: https://drive.google.com/uc?id=1g7z9kXXft2sL_CyW1hDS9-ylLvjrbYmU&export=download\n",
      "Maybe you need to change permission over 'Anyone with the link'?\n",
      "Permission denied: https://drive.google.com/uc?id=1dqyA8w6j7WvG8rzdZsGmwqBMu3iUNY5H&export=download\n",
      "Maybe you need to change permission over 'Anyone with the link'?\n"
     ]
    },
    {
     "name": "stdout",
     "output_type": "stream",
     "text": [
      "Access denied with the following error:\n"
     ]
    },
    {
     "name": "stderr",
     "output_type": "stream",
     "text": [
      "\n",
      " \tToo many users have viewed or downloaded this file recently. Please\n",
      "\ttry accessing the file again later. If the file you are trying to\n",
      "\taccess is particularly large or is shared with many people, it may\n",
      "\ttake up to 24 hours to be able to view or download the file. If you\n",
      "\tstill can't access a file after 24 hours, contact your domain\n",
      "\tadministrator. \n",
      "\n",
      "You may still be able to access the file from the browser:\n",
      "\n",
      "\t https://drive.google.com/uc?id=1LI4ed8MGzTL8RykUHnH0rA44J8jELDiQ&export=download \n",
      "\n",
      "Permission denied: https://drive.google.com/uc?id=1TZPpagNWntymvWYRVzpfc9nRwOXXK-ZS&export=download\n",
      "Maybe you need to change permission over 'Anyone with the link'?\n",
      "Permission denied: https://drive.google.com/uc?id=1O7F7Kohyur6efL5h5mCVjD6elATkmeI-&export=download\n",
      "Maybe you need to change permission over 'Anyone with the link'?\n",
      "Permission denied: https://drive.google.com/uc?id=1uWT1uY8FsgixJ-oh4Cr1OIc7u9kUQ7-Z&export=download\n",
      "Maybe you need to change permission over 'Anyone with the link'?\n",
      "Permission denied: https://drive.google.com/uc?id=1OPi0iSH_jmfdvN5trgyRrZE8ZfBYZcOu&export=download\n",
      "Maybe you need to change permission over 'Anyone with the link'?\n",
      "Permission denied: https://drive.google.com/uc?id=1-0PcHIku9seQApXqAdWITBlzCVmpDf4L&export=download\n",
      "Maybe you need to change permission over 'Anyone with the link'?\n"
     ]
    },
    {
     "name": "stdout",
     "output_type": "stream",
     "text": [
      "Access denied with the following error:\n"
     ]
    },
    {
     "name": "stderr",
     "output_type": "stream",
     "text": [
      "\n",
      " \tToo many users have viewed or downloaded this file recently. Please\n",
      "\ttry accessing the file again later. If the file you are trying to\n",
      "\taccess is particularly large or is shared with many people, it may\n",
      "\ttake up to 24 hours to be able to view or download the file. If you\n",
      "\tstill can't access a file after 24 hours, contact your domain\n",
      "\tadministrator. \n",
      "\n",
      "You may still be able to access the file from the browser:\n",
      "\n",
      "\t https://drive.google.com/uc?id=1qOcFGxEwolj8-hFkYVkqWmVmYSIlEcaH&export=download \n",
      "\n",
      "Permission denied: https://drive.google.com/uc?id=1FvGZVjhzXrVW2ofba7OPIcnIwmSI63UK&export=download\n",
      "Maybe you need to change permission over 'Anyone with the link'?\n",
      "Permission denied: https://drive.google.com/uc?id=1zaiNZ3ltbkAFTDlHNBJMLVu3H252VLxB&export=download\n",
      "Maybe you need to change permission over 'Anyone with the link'?\n",
      "Permission denied: https://drive.google.com/uc?id=1bEeepQuTAcs0q9RIMbrFvvc_BFXMlGLh&export=download\n",
      "Maybe you need to change permission over 'Anyone with the link'?\n",
      "Permission denied: https://drive.google.com/uc?id=1la15GxuTreoKtWuo54h7unCqgY3IMiMS&export=download\n",
      "Maybe you need to change permission over 'Anyone with the link'?\n",
      "Permission denied: https://drive.google.com/uc?id=1GjmTZ-UToYPYeKrmEFWp3wI4BFfXaBWa&export=download\n",
      "Maybe you need to change permission over 'Anyone with the link'?\n",
      "Permission denied: https://drive.google.com/uc?id=1jGWdPno7gA3XQJ3IyB_F_d7nfookPUjA&export=download\n",
      "Maybe you need to change permission over 'Anyone with the link'?\n",
      "Permission denied: https://drive.google.com/uc?id=1oyXVDVSExPGoPy_AmGCckIMkY0sYJr-Z&export=download\n",
      "Maybe you need to change permission over 'Anyone with the link'?\n",
      "Permission denied: https://drive.google.com/uc?id=168Sw4XPboXhgyX4M-u01bH7dSqZk00Hz&export=download\n",
      "Maybe you need to change permission over 'Anyone with the link'?\n",
      "Permission denied: https://drive.google.com/uc?id=1jMAw-Gpbt21QgdtdsoYvm0MzL1kpSzcJ&export=download\n",
      "Maybe you need to change permission over 'Anyone with the link'?\n",
      "Permission denied: https://drive.google.com/uc?id=1zfdPVPt2_5wYyy7xQbfpXy4sSGgZNoxT&export=download\n",
      "Maybe you need to change permission over 'Anyone with the link'?\n",
      "Permission denied: https://drive.google.com/uc?id=1Akw8OhUtNlmB7ERZ3FWY3k0lJ7F29KB0&export=download\n",
      "Maybe you need to change permission over 'Anyone with the link'?\n",
      "Permission denied: https://drive.google.com/uc?id=136iF7q3AgHl_hy0cuIvx5LHFvofqonEM&export=download\n",
      "Maybe you need to change permission over 'Anyone with the link'?\n",
      "Permission denied: https://drive.google.com/uc?id=1CRRqqtvFabwWq9Wuu2Sn03YrbDOma2dC&export=download\n",
      "Maybe you need to change permission over 'Anyone with the link'?\n"
     ]
    },
    {
     "name": "stdout",
     "output_type": "stream",
     "text": [
      "Access denied with the following error:\n"
     ]
    },
    {
     "name": "stderr",
     "output_type": "stream",
     "text": [
      "\n",
      " \tToo many users have viewed or downloaded this file recently. Please\n",
      "\ttry accessing the file again later. If the file you are trying to\n",
      "\taccess is particularly large or is shared with many people, it may\n",
      "\ttake up to 24 hours to be able to view or download the file. If you\n",
      "\tstill can't access a file after 24 hours, contact your domain\n",
      "\tadministrator. \n",
      "\n",
      "You may still be able to access the file from the browser:\n",
      "\n",
      "\t https://drive.google.com/uc?id=1gRs4aCtlLKvrZINRtaKYUzZh1BwBsFPl&export=download \n",
      "\n"
     ]
    },
    {
     "name": "stdout",
     "output_type": "stream",
     "text": [
      "Access denied with the following error:\n"
     ]
    },
    {
     "name": "stderr",
     "output_type": "stream",
     "text": [
      "\n",
      " \tToo many users have viewed or downloaded this file recently. Please\n",
      "\ttry accessing the file again later. If the file you are trying to\n",
      "\taccess is particularly large or is shared with many people, it may\n",
      "\ttake up to 24 hours to be able to view or download the file. If you\n",
      "\tstill can't access a file after 24 hours, contact your domain\n",
      "\tadministrator. \n",
      "\n",
      "You may still be able to access the file from the browser:\n",
      "\n",
      "\t https://drive.google.com/uc?id=1wQoc_dcvSUyeAlwPle5bAWWfLsAO3MYt&export=download \n",
      "\n"
     ]
    },
    {
     "name": "stdout",
     "output_type": "stream",
     "text": [
      "Access denied with the following error:\n"
     ]
    },
    {
     "name": "stderr",
     "output_type": "stream",
     "text": [
      "\n",
      " \tToo many users have viewed or downloaded this file recently. Please\n",
      "\ttry accessing the file again later. If the file you are trying to\n",
      "\taccess is particularly large or is shared with many people, it may\n",
      "\ttake up to 24 hours to be able to view or download the file. If you\n",
      "\tstill can't access a file after 24 hours, contact your domain\n",
      "\tadministrator. \n",
      "\n",
      "You may still be able to access the file from the browser:\n",
      "\n",
      "\t https://drive.google.com/uc?id=16kkGfIl_UjpYL-ZeSK23v28HZ0xNwTQ4&export=download \n",
      "\n",
      "Permission denied: https://drive.google.com/uc?id=1MoRAUkI9P1XxYuLDcfdXJqRxxuSlN-Vk&export=download\n",
      "Maybe you need to change permission over 'Anyone with the link'?\n",
      "Permission denied: https://drive.google.com/uc?id=1JZRnhE0tVQVQXRDxvIUsrW-SScTJrwos&export=download\n",
      "Maybe you need to change permission over 'Anyone with the link'?\n",
      "Permission denied: https://drive.google.com/uc?id=1SvGZ5vNFzwkVE0l-GzZKs9Pk1lEhTqbn&export=download\n",
      "Maybe you need to change permission over 'Anyone with the link'?\n"
     ]
    },
    {
     "name": "stdout",
     "output_type": "stream",
     "text": [
      "Access denied with the following error:\n"
     ]
    },
    {
     "name": "stderr",
     "output_type": "stream",
     "text": [
      "\n",
      " \tToo many users have viewed or downloaded this file recently. Please\n",
      "\ttry accessing the file again later. If the file you are trying to\n",
      "\taccess is particularly large or is shared with many people, it may\n",
      "\ttake up to 24 hours to be able to view or download the file. If you\n",
      "\tstill can't access a file after 24 hours, contact your domain\n",
      "\tadministrator. \n",
      "\n",
      "You may still be able to access the file from the browser:\n",
      "\n",
      "\t https://drive.google.com/uc?id=1G-xFbO0nNa1-DFwd1_7TNE2RkY-O5bYp&export=download \n",
      "\n"
     ]
    },
    {
     "name": "stdout",
     "output_type": "stream",
     "text": [
      "Access denied with the following error:\n"
     ]
    },
    {
     "name": "stderr",
     "output_type": "stream",
     "text": [
      "\n",
      " \tToo many users have viewed or downloaded this file recently. Please\n",
      "\ttry accessing the file again later. If the file you are trying to\n",
      "\taccess is particularly large or is shared with many people, it may\n",
      "\ttake up to 24 hours to be able to view or download the file. If you\n",
      "\tstill can't access a file after 24 hours, contact your domain\n",
      "\tadministrator. \n",
      "\n",
      "You may still be able to access the file from the browser:\n",
      "\n",
      "\t https://drive.google.com/uc?id=1lB_a9di2FCcOEz7ijNDEycSCX3LIqArL&export=download \n",
      "\n",
      "Permission denied: https://drive.google.com/uc?id=16C9lhGj3oSin-fHpbah-3dfez2c4rubd&export=download\n",
      "Maybe you need to change permission over 'Anyone with the link'?\n",
      "Permission denied: https://drive.google.com/uc?id=172ohDm0png9fMKHsEZxiWxicNocdHwtE&export=download\n",
      "Maybe you need to change permission over 'Anyone with the link'?\n",
      "Permission denied: https://drive.google.com/uc?id=1cuL8cQ8bH4oHcyX00vhDO1cX49wCtmkJ&export=download\n",
      "Maybe you need to change permission over 'Anyone with the link'?\n",
      "Permission denied: https://drive.google.com/uc?id=1cavYvasXQkqGY_3Yi9CikUcQrj2IMGeH&export=download\n",
      "Maybe you need to change permission over 'Anyone with the link'?\n",
      "Permission denied: https://drive.google.com/uc?id=14ngap3Q0E8AlGC41b6F20Wn-aV86nBCM&export=download\n",
      "Maybe you need to change permission over 'Anyone with the link'?\n",
      "Permission denied: https://drive.google.com/uc?id=15mPPkEKHineY43zzf8Zohbw_9563kZi_&export=download\n",
      "Maybe you need to change permission over 'Anyone with the link'?\n"
     ]
    },
    {
     "name": "stdout",
     "output_type": "stream",
     "text": [
      "Access denied with the following error:\n"
     ]
    },
    {
     "name": "stderr",
     "output_type": "stream",
     "text": [
      "\n",
      " \tToo many users have viewed or downloaded this file recently. Please\n",
      "\ttry accessing the file again later. If the file you are trying to\n",
      "\taccess is particularly large or is shared with many people, it may\n",
      "\ttake up to 24 hours to be able to view or download the file. If you\n",
      "\tstill can't access a file after 24 hours, contact your domain\n",
      "\tadministrator. \n",
      "\n",
      "You may still be able to access the file from the browser:\n",
      "\n",
      "\t https://drive.google.com/uc?id=1P6RawrjoVRfeum7Q8oZa5OiYNthLjf-v&export=download \n",
      "\n",
      "Permission denied: https://drive.google.com/uc?id=1g8slzcAWBgGxrvbp6bhKFph4kjm-uKYt&export=download\n",
      "Maybe you need to change permission over 'Anyone with the link'?\n",
      "Permission denied: https://drive.google.com/uc?id=1LfT3AY892GjKLfONxJvlw1E1BRjvTP7S&export=download\n",
      "Maybe you need to change permission over 'Anyone with the link'?\n",
      "Permission denied: https://drive.google.com/uc?id=1tYxleNHmFjrlFspehVXAZOvkWLGaARwx&export=download\n",
      "Maybe you need to change permission over 'Anyone with the link'?\n",
      "Permission denied: https://drive.google.com/uc?id=1ybLwvUqMwJVco2UFZqBjAOXDVBjBmJBI&export=download\n",
      "Maybe you need to change permission over 'Anyone with the link'?\n",
      "Permission denied: https://drive.google.com/uc?id=1uQ6HftnwiP7WbgMPJ_9TKL7D5EB0UZQq&export=download\n",
      "Maybe you need to change permission over 'Anyone with the link'?\n",
      "Permission denied: https://drive.google.com/uc?id=1Fg5fzDxGJLBOv1Td9lEWoRvehfJCVKDi&export=download\n",
      "Maybe you need to change permission over 'Anyone with the link'?\n",
      "Permission denied: https://drive.google.com/uc?id=1T6cbft2WXJn29xiHqTAFxqzje57k5e3E&export=download\n",
      "Maybe you need to change permission over 'Anyone with the link'?\n"
     ]
    },
    {
     "name": "stdout",
     "output_type": "stream",
     "text": [
      "Access denied with the following error:\n"
     ]
    },
    {
     "name": "stderr",
     "output_type": "stream",
     "text": [
      "\n",
      " \tToo many users have viewed or downloaded this file recently. Please\n",
      "\ttry accessing the file again later. If the file you are trying to\n",
      "\taccess is particularly large or is shared with many people, it may\n",
      "\ttake up to 24 hours to be able to view or download the file. If you\n",
      "\tstill can't access a file after 24 hours, contact your domain\n",
      "\tadministrator. \n",
      "\n",
      "You may still be able to access the file from the browser:\n",
      "\n",
      "\t https://drive.google.com/uc?id=1CvCLsi5USMBfzE6j4W84QvQ4T0kfF9dt&export=download \n",
      "\n",
      "Permission denied: https://drive.google.com/uc?id=1Q0EuPrW51qaclWieWnBPS2F3pIohkFr5&export=download\n",
      "Maybe you need to change permission over 'Anyone with the link'?\n"
     ]
    }
   ],
   "source": [
    "counter = len(file_list['train'])\n",
    "with open(os.path.join(ROOT_DIR, 'data/InteriorNet','list_of_files_inHD1.csv'), newline='') as csvfile:\n",
    "    csvreader = csv.reader(csvfile, delimiter=',')\n",
    "    for row in csvreader:\n",
    "        name = row[0]\n",
    "        link = row[1]\n",
    "        if not (name in file_list[subset]):\n",
    "            #specify download path and name inlc .zip\n",
    "            path = os.path.join(SAVE_DIR, subset, name)\n",
    "            \n",
    "            #extract file id from link\n",
    "            file_id = link[31:-16] \n",
    "#             !sh /media/scratch1/erbachj/MaskRCNN/Mask_RCNN/Notebook/gdrive.sh $file_id $name\n",
    "            gdown.download(link,os.path.join(SAVE_DIR, subset, name))\n",
    "            names[subset].append(name)\n",
    "            counter += 1\n",
    "        if counter >= 150:\n",
    "            break\n",
    "        elif counter >= 130:\n",
    "            subset = 'test'\n",
    "            counter += len(file_list['test'])\n",
    "        elif counter >= 100:\n",
    "            subset = 'val'\n",
    "            counter += len(file_list['val'])\n"
   ]
  },
  {
   "cell_type": "code",
   "execution_count": 61,
   "metadata": {},
   "outputs": [
    {
     "name": "stderr",
     "output_type": "stream",
     "text": [
      "Downloading...\n",
      "From: https://drive.google.com/uc?id=1EedOZgN0bsoTBK5yF-mbw1chZlbli3Qk\n",
      "To: /media/scratch1/erbachj/MaskRCNN/Mask_RCNN/data/InteriorNet/data/HD1/train/3FO4JXIK2PXE_GT.zip\n",
      "7.41MB [00:00, 50.7MB/s]\n"
     ]
    },
    {
     "data": {
      "text/plain": [
       "'/media/scratch1/erbachj/MaskRCNN/Mask_RCNN/data/InteriorNet/data/HD1/train/3FO4JXIK2PXE_GT.zip'"
      ]
     },
     "execution_count": 61,
     "metadata": {},
     "output_type": "execute_result"
    }
   ],
   "source": [
    "from zipfile import ZipFile\n",
    "SAVE_DIR = os.path.join(ROOT_DIR, 'data/InteriorNet/data/HD1')\n",
    "subset= 'train'\n",
    "name = '3FO4JXIK2PXE_GT.zip'\n",
    "gdown.download('https://drive.google.com/uc?id=1EedOZgN0bsoTBK5yF-mbw1chZlbli3Qk',os.path.join(SAVE_DIR, subset, name))\n"
   ]
  },
  {
   "cell_type": "code",
   "execution_count": 18,
   "metadata": {},
   "outputs": [],
   "source": [
    "zipobj = ZipFile(os.path.join(SAVE_DIR, subset, name))\n",
    "name = '3FO4JXIK2PXE'\n",
    "zipobj.extractall(os.path.join(SAVE_DIR, subset, name))"
   ]
  },
  {
   "cell_type": "code",
   "execution_count": null,
   "metadata": {},
   "outputs": [],
   "source": []
  }
 ],
 "metadata": {
  "kernelspec": {
   "display_name": "Python 3",
   "language": "python",
   "name": "python3"
  },
  "language_info": {
   "codemirror_mode": {
    "name": "ipython",
    "version": 3
   },
   "file_extension": ".py",
   "mimetype": "text/x-python",
   "name": "python",
   "nbconvert_exporter": "python",
   "pygments_lexer": "ipython3",
   "version": "3.6.8"
  }
 },
 "nbformat": 4,
 "nbformat_minor": 4
}
